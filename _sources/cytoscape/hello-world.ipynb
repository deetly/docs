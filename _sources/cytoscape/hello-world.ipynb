{
 "cells": [
  {
   "cell_type": "markdown",
   "metadata": {
    "colab_type": "text",
    "id": "view-in-github"
   },
   "source": [
    "# Cytoscape example\n",
    "> An example of graph visualization with Cytoscape."
   ]
  },
  {
   "cell_type": "code",
   "execution_count": 1,
   "metadata": {
    "colab": {},
    "colab_type": "code",
    "id": "mH6uBQ7ia40W"
   },
   "outputs": [],
   "source": [
    "import deetly\n",
    "from cyjupyter import Cytoscape\n",
    "import pandas as pd"
   ]
  },
  {
   "cell_type": "code",
   "execution_count": 2,
   "metadata": {
    "colab": {},
    "colab_type": "code",
    "id": "bWHX_wcZbrqq",
    "tags": []
   },
   "outputs": [
    {
     "name": "stdout",
     "output_type": "stream",
     "text": [
      "Missing mandatory props(s): ['title']\n",
      "Missing recommended props(s): ['contactPoint', 'distribution', 'publisher', 'spatial', 'temporal']\n",
      "Property not in DCAT schema: ['name', 'author', 'license']\n",
      "Invalid type: ['String:name', 'String:description', 'String:author', 'String or list of strings:theme', 'String:license', 'String or list of strings:keyword', 'ISO date or datetime:issued', 'ISO date or datetime:modified']\n"
     ]
    }
   ],
   "source": [
    "# Create datapackage\n",
    "description = \"\"\"\n",
    "# Example graph with cytoscape\n",
    "\"\"\"\n",
    "\n",
    "package = {\n",
    "    \"name\":\"Example graph with cytoscape\", \n",
    "    \"description\":description, \n",
    "    \"author\":\"Paul Bencze\", \n",
    "    \"theme\":\"example\",\n",
    "    \"license\": \"MIT\",\n",
    "    \"keyword\": [\"example, graph, cytoscape\"]\n",
    "}\n",
    "\n",
    "dp = deetly.package(package)"
   ]
  },
  {
   "cell_type": "code",
   "execution_count": 3,
   "metadata": {},
   "outputs": [],
   "source": [
    "spec = {'layout': {'name': 'preset'},\n",
    " 'style': {'width': '400px', 'height': '400px'},\n",
    " 'elements': {'nodes': [{'data': {'id': 'one', 'label': 'Hello'},\n",
    "    'position': {'x': 75, 'y': 75}},\n",
    "   {'data': {'id': 'two', 'label': 'World'},\n",
    "    'position': {'x': 200, 'y': 200}}],\n",
    "  'edges': [{'data': {'source': 'one', 'target': 'two'}}]}\n",
    "}"
   ]
  },
  {
   "cell_type": "code",
   "execution_count": 4,
   "metadata": {},
   "outputs": [
    {
     "data": {
      "text/plain": [
       "'{\"layout\": {\"name\": \"preset\"}, \"style\": {\"width\": \"400px\", \"height\": \"400px\"}, \"elements\": {\"nodes\": [{\"data\": {\"id\": \"one\", \"label\": \"Hello\"}, \"position\": {\"x\": 75, \"y\": 75}}, {\"data\": {\"id\": \"two\", \"label\": \"World\"}, \"position\": {\"x\": 200, \"y\": 200}}], \"edges\": [{\"data\": {\"source\": \"one\", \"target\": \"two\"}}]}}'"
      ]
     },
     "execution_count": 4,
     "metadata": {},
     "output_type": "execute_result"
    }
   ],
   "source": [
    "import json\n",
    "json.dumps(spec)"
   ]
  },
  {
   "cell_type": "code",
   "execution_count": 5,
   "metadata": {},
   "outputs": [
    {
     "data": {
      "application/vnd.jupyter.widget-view+json": {
       "model_id": "7219422840dd466a8f55657554f45d76",
       "version_major": 2,
       "version_minor": 0
      },
      "text/plain": [
       "Cytoscape(layout_name='preset')"
      ]
     },
     "metadata": {},
     "output_type": "display_data"
    }
   ],
   "source": [
    "fig = Cytoscape(elements=spec['elements'], layout_name='preset', style=spec['style'])\n",
    "fig"
   ]
  },
  {
   "cell_type": "code",
   "execution_count": 6,
   "metadata": {},
   "outputs": [],
   "source": [
    "dp.cytoscape(spec, \"Hello World\")"
   ]
  },
  {
   "cell_type": "code",
   "execution_count": 7,
   "metadata": {},
   "outputs": [],
   "source": [
    "spec = {\n",
    "    'style': {'width': '400px', 'height': '400px'},\n",
    "    'layout': {'name': 'preset'},\n",
    "    'elements': {\n",
    "        'nodes': [\n",
    "            {'data' : {'id': 'node 1'}},\n",
    "            {'data' : {'id': 'node 2'}},\n",
    "            {'data' : {'id': 'node 3'}},\n",
    "            {'data' : {'id': 'node 4'}}\n",
    "        ],\n",
    "        'edges': [\n",
    "            { 'data': {'id': 'edge1','source': 'node 1','target': 'node 2'}},\n",
    "            { 'data': {'id': 'edge2','source': 'node 1','target': 'node 3'}},\n",
    "            { 'data': {'id': 'edge3','source': 'node 2','target': 'node 3'}},\n",
    "            { 'data': {'id': 'edge4','source': 'node 2','target': 'node 4'}},\n",
    "            { 'data': {'id': 'edge5','source': 'node 3','target': 'node 4'}}\n",
    "        ]\n",
    "    }\n",
    "}"
   ]
  },
  {
   "cell_type": "code",
   "execution_count": 8,
   "metadata": {},
   "outputs": [],
   "source": [
    "dp.cytoscape(spec, \"Minimal example\")"
   ]
  },
  {
   "cell_type": "code",
   "execution_count": 9,
   "metadata": {},
   "outputs": [
    {
     "name": "stdout",
     "output_type": "stream",
     "text": [
      "View: https://public.deetly.com/examples/0be9a787c00f0569d669fb2492424fbc \n",
      "\n",
      "Metadata: https://storage.googleapis.com/deetly/examples/0be9a787c00f0569d669fb2492424fbc/datapackage.json \n",
      "\n"
     ]
    }
   ],
   "source": [
    "dp.publish()"
   ]
  }
 ],
 "metadata": {
  "colab": {
   "authorship_tag": "ABX9TyPrJ49vyNtwntfNHwazW3J3",
   "include_colab_link": true,
   "name": "example_basic_altair_and_plotly.ipynb",
   "provenance": []
  },
  "kernelspec": {
   "display_name": "Python 3",
   "language": "python",
   "name": "python3"
  },
  "language_info": {
   "codemirror_mode": {
    "name": "ipython",
    "version": 3
   },
   "file_extension": ".py",
   "mimetype": "text/x-python",
   "name": "python",
   "nbconvert_exporter": "python",
   "pygments_lexer": "ipython3",
   "version": "3.8.2"
  }
 },
 "nbformat": 4,
 "nbformat_minor": 4
}
