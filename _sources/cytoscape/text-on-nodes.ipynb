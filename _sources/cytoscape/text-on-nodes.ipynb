{
 "cells": [
  {
   "cell_type": "markdown",
   "metadata": {},
   "source": [
    "# Text on nodes"
   ]
  },
  {
   "cell_type": "code",
   "execution_count": 1,
   "metadata": {},
   "outputs": [],
   "source": [
    "import deetly\n",
    "import ipycytoscape\n",
    "import json\n",
    "import pandas as pd\n",
    "import requests"
   ]
  },
  {
   "cell_type": "code",
   "execution_count": 2,
   "metadata": {},
   "outputs": [
    {
     "name": "stdout",
     "output_type": "stream",
     "text": [
      "Missing mandatory props(s): ['title']\n",
      "Missing recommended props(s): ['contactPoint', 'distribution', 'publisher', 'spatial', 'temporal']\n",
      "Property not in DCAT schema: ['name', 'author', 'license']\n",
      "Invalid type: ['String:name', 'String:description', 'String:author', 'String or list of strings:theme', 'String:license', 'String or list of strings:keyword', 'ISO date or datetime:issued', 'ISO date or datetime:modified']\n"
     ]
    }
   ],
   "source": [
    "# Create datapackage\n",
    "description = \"\"\"\n",
    "# Example cytoscape texts on nodes\n",
    "\"\"\"\n",
    "\n",
    "package = {\n",
    "    \"name\":\"Example cytoscape texts on nodes\", \n",
    "    \"description\":description, \n",
    "    \"author\":\"deetly\", \n",
    "    \"theme\":\"example\",\n",
    "    \"license\": \"MIT\",\n",
    "    \"keyword\": [\"example, graph, cytoscape\"]\n",
    "}\n",
    "\n",
    "dp = deetly.package(package)"
   ]
  },
  {
   "cell_type": "code",
   "execution_count": 3,
   "metadata": {},
   "outputs": [],
   "source": [
    "elements = {\n",
    "    'nodes': [\n",
    "        { 'data': { 'id': 'desktop', 'name': 'Cytoscape', 'href': 'http://cytoscape.org' } },\n",
    "        { 'data': { 'id': 'a', 'name': 'Grid', 'href': 'http://cytoscape.org' } },\n",
    "        { 'data': { 'id': 'b', 'name': 'Cola', 'href': 'http://cytoscape.org' } },\n",
    "        { 'data': { 'id': 'c', 'name': 'Popper', 'href': 'http://cytoscape.org' } },\n",
    "        { 'data': { 'id': 'js', 'name': 'Cytoscape.js', 'href': 'http://js.cytoscape.org' } }\n",
    "    ],\n",
    "    'edges': [\n",
    "        {'data': { 'source': 'desktop', 'target': 'js' }},\n",
    "        {'data': { 'source': 'a', 'target': 'b' }},\n",
    "        {'data': { 'source': 'a', 'target': 'c' }},\n",
    "        {'data': { 'source': 'b', 'target': 'c' }},\n",
    "        {'data': { 'source': 'js', 'target': 'b' }}\n",
    "    ]\n",
    "}"
   ]
  },
  {
   "cell_type": "code",
   "execution_count": 4,
   "metadata": {},
   "outputs": [],
   "source": [
    "stylesheet=[{\n",
    "    'selector': 'node',\n",
    "    'css': {\n",
    "        'content': 'data(name)',\n",
    "        'text-valign': 'center',\n",
    "        'color': 'white',\n",
    "        'text-outline-width': 2,\n",
    "        'text-outline-color': 'green',\n",
    "        'background-color': 'green'\n",
    "    }\n",
    "    },\n",
    "    {\n",
    "    'selector': ':selected',\n",
    "    'css': {\n",
    "        'background-color': 'black',\n",
    "        'line-color': 'black',\n",
    "        'target-arrow-color': 'black',\n",
    "        'source-arrow-color': 'black',\n",
    "        'text-outline-color': 'black'\n",
    "    }}\n",
    "]\n",
    "\n"
   ]
  },
  {
   "cell_type": "code",
   "execution_count": 5,
   "metadata": {},
   "outputs": [
    {
     "data": {
      "application/vnd.jupyter.widget-view+json": {
       "model_id": "27f329b2ea88498b806436b6a659c31d",
       "version_major": 2,
       "version_minor": 0
      },
      "text/plain": [
       "CytoscapeWidget(cytoscape_layout={'name': 'cola'}, cytoscape_style=[{'selector': 'node', 'css': {'content': 'd…"
      ]
     },
     "metadata": {},
     "output_type": "display_data"
    }
   ],
   "source": [
    "fig = ipycytoscape.CytoscapeWidget()\n",
    "fig.graph.add_graph_from_json(elements)\n",
    "fig.set_style(stylesheet)\n",
    "fig"
   ]
  },
  {
   "cell_type": "code",
   "execution_count": 6,
   "metadata": {},
   "outputs": [],
   "source": [
    "spec = {'elements': elements, \n",
    "        'stylesheet': stylesheet,\n",
    "        'layout': {'name': 'cose'}\n",
    "}\n",
    "dp.cytoscape(spec, \"Text on nodes\")"
   ]
  },
  {
   "cell_type": "code",
   "execution_count": 7,
   "metadata": {},
   "outputs": [
    {
     "name": "stdout",
     "output_type": "stream",
     "text": [
      "View: https://public.deetly.com/examples/56a89ec8c250617c5240b590b8e88595 \n",
      "\n",
      "Metadata: https://storage.googleapis.com/deetly/examples/56a89ec8c250617c5240b590b8e88595/datapackage.json \n",
      "\n"
     ]
    }
   ],
   "source": [
    "dp.publish()"
   ]
  }
 ],
 "metadata": {
  "kernelspec": {
   "display_name": "Python 3",
   "language": "python",
   "name": "python3"
  },
  "language_info": {
   "codemirror_mode": {
    "name": "ipython",
    "version": 3
   },
   "file_extension": ".py",
   "mimetype": "text/x-python",
   "name": "python",
   "nbconvert_exporter": "python",
   "pygments_lexer": "ipython3",
   "version": "3.8.2"
  }
 },
 "nbformat": 4,
 "nbformat_minor": 4
}
