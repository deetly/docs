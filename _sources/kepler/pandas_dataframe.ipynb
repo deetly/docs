{
 "cells": [
  {
   "cell_type": "code",
   "execution_count": 9,
   "metadata": {},
   "outputs": [],
   "source": [
    "import pandas as pd"
   ]
  },
  {
   "cell_type": "code",
   "execution_count": 12,
   "metadata": {},
   "outputs": [
    {
     "name": "stdout",
     "output_type": "stream",
     "text": [
      "Processing /Users/B149899/Library/Caches/pip/wheels/40/ff/78/dfa39bdafd34f51b152c9285bc0ad2269b905bcfa8bd550143/keplergl-0.2.1-py2.py3-none-any.whl\n",
      "Collecting traittypes>=0.2.1\n",
      "  Using cached traittypes-0.2.1-py2.py3-none-any.whl (8.6 kB)\n",
      "Requirement already satisfied, skipping upgrade: ipywidgets<8,>=7.0.0 in /Users/B149899/.pyenv/versions/3.8.2/envs/pydeck/lib/python3.8/site-packages (from keplergl) (7.5.1)\n",
      "Requirement already satisfied, skipping upgrade: geopandas>=0.5.0 in /Users/B149899/.pyenv/versions/3.8.2/envs/pydeck/lib/python3.8/site-packages (from keplergl) (0.7.0)\n",
      "Requirement already satisfied, skipping upgrade: pandas>=0.23.0 in /Users/B149899/.pyenv/versions/3.8.2/envs/pydeck/lib/python3.8/site-packages (from keplergl) (1.0.3)\n",
      "Requirement already satisfied, skipping upgrade: Shapely>=1.6.4.post2 in /Users/B149899/.pyenv/versions/3.8.2/envs/pydeck/lib/python3.8/site-packages (from keplergl) (1.7.0)\n",
      "Requirement already satisfied, skipping upgrade: traitlets>=4.2.2 in /Users/B149899/.pyenv/versions/3.8.2/envs/pydeck/lib/python3.8/site-packages (from traittypes>=0.2.1->keplergl) (4.3.3)\n",
      "Requirement already satisfied, skipping upgrade: nbformat>=4.2.0 in /Users/B149899/.pyenv/versions/3.8.2/envs/pydeck/lib/python3.8/site-packages (from ipywidgets<8,>=7.0.0->keplergl) (5.0.4)\n",
      "Requirement already satisfied, skipping upgrade: ipython>=4.0.0; python_version >= \"3.3\" in /Users/B149899/.pyenv/versions/3.8.2/envs/pydeck/lib/python3.8/site-packages (from ipywidgets<8,>=7.0.0->keplergl) (7.13.0)\n",
      "Requirement already satisfied, skipping upgrade: widgetsnbextension~=3.5.0 in /Users/B149899/.pyenv/versions/3.8.2/envs/pydeck/lib/python3.8/site-packages (from ipywidgets<8,>=7.0.0->keplergl) (3.5.1)\n",
      "Requirement already satisfied, skipping upgrade: ipykernel>=4.5.1 in /Users/B149899/.pyenv/versions/3.8.2/envs/pydeck/lib/python3.8/site-packages (from ipywidgets<8,>=7.0.0->keplergl) (5.2.0)\n",
      "Requirement already satisfied, skipping upgrade: pyproj>=2.2.0 in /Users/B149899/.pyenv/versions/3.8.2/envs/pydeck/lib/python3.8/site-packages (from geopandas>=0.5.0->keplergl) (2.6.0)\n",
      "Requirement already satisfied, skipping upgrade: fiona in /Users/B149899/.pyenv/versions/3.8.2/envs/pydeck/lib/python3.8/site-packages (from geopandas>=0.5.0->keplergl) (1.8.13.post1)\n",
      "Requirement already satisfied, skipping upgrade: python-dateutil>=2.6.1 in /Users/B149899/.pyenv/versions/3.8.2/envs/pydeck/lib/python3.8/site-packages (from pandas>=0.23.0->keplergl) (2.8.1)\n",
      "Requirement already satisfied, skipping upgrade: pytz>=2017.2 in /Users/B149899/.pyenv/versions/3.8.2/envs/pydeck/lib/python3.8/site-packages (from pandas>=0.23.0->keplergl) (2019.3)\n",
      "Requirement already satisfied, skipping upgrade: numpy>=1.13.3 in /Users/B149899/.pyenv/versions/3.8.2/envs/pydeck/lib/python3.8/site-packages (from pandas>=0.23.0->keplergl) (1.18.2)\n",
      "Requirement already satisfied, skipping upgrade: decorator in /Users/B149899/.pyenv/versions/3.8.2/envs/pydeck/lib/python3.8/site-packages (from traitlets>=4.2.2->traittypes>=0.2.1->keplergl) (4.4.2)\n",
      "Requirement already satisfied, skipping upgrade: six in /Users/B149899/.pyenv/versions/3.8.2/envs/pydeck/lib/python3.8/site-packages (from traitlets>=4.2.2->traittypes>=0.2.1->keplergl) (1.14.0)\n",
      "Requirement already satisfied, skipping upgrade: ipython-genutils in /Users/B149899/.pyenv/versions/3.8.2/envs/pydeck/lib/python3.8/site-packages (from traitlets>=4.2.2->traittypes>=0.2.1->keplergl) (0.2.0)\n",
      "Requirement already satisfied, skipping upgrade: jsonschema!=2.5.0,>=2.4 in /Users/B149899/.pyenv/versions/3.8.2/envs/pydeck/lib/python3.8/site-packages (from nbformat>=4.2.0->ipywidgets<8,>=7.0.0->keplergl) (3.2.0)\n",
      "Requirement already satisfied, skipping upgrade: jupyter-core in /Users/B149899/.pyenv/versions/3.8.2/envs/pydeck/lib/python3.8/site-packages (from nbformat>=4.2.0->ipywidgets<8,>=7.0.0->keplergl) (4.6.3)\n",
      "Requirement already satisfied, skipping upgrade: jedi>=0.10 in /Users/B149899/.pyenv/versions/3.8.2/envs/pydeck/lib/python3.8/site-packages (from ipython>=4.0.0; python_version >= \"3.3\"->ipywidgets<8,>=7.0.0->keplergl) (0.16.0)\n",
      "Requirement already satisfied, skipping upgrade: appnope; sys_platform == \"darwin\" in /Users/B149899/.pyenv/versions/3.8.2/envs/pydeck/lib/python3.8/site-packages (from ipython>=4.0.0; python_version >= \"3.3\"->ipywidgets<8,>=7.0.0->keplergl) (0.1.0)\n",
      "Requirement already satisfied, skipping upgrade: pickleshare in /Users/B149899/.pyenv/versions/3.8.2/envs/pydeck/lib/python3.8/site-packages (from ipython>=4.0.0; python_version >= \"3.3\"->ipywidgets<8,>=7.0.0->keplergl) (0.7.5)\n",
      "Requirement already satisfied, skipping upgrade: pexpect; sys_platform != \"win32\" in /Users/B149899/.pyenv/versions/3.8.2/envs/pydeck/lib/python3.8/site-packages (from ipython>=4.0.0; python_version >= \"3.3\"->ipywidgets<8,>=7.0.0->keplergl) (4.8.0)\n",
      "Requirement already satisfied, skipping upgrade: setuptools>=18.5 in /Users/B149899/.pyenv/versions/3.8.2/envs/pydeck/lib/python3.8/site-packages (from ipython>=4.0.0; python_version >= \"3.3\"->ipywidgets<8,>=7.0.0->keplergl) (41.2.0)\n",
      "Requirement already satisfied, skipping upgrade: prompt-toolkit!=3.0.0,!=3.0.1,<3.1.0,>=2.0.0 in /Users/B149899/.pyenv/versions/3.8.2/envs/pydeck/lib/python3.8/site-packages (from ipython>=4.0.0; python_version >= \"3.3\"->ipywidgets<8,>=7.0.0->keplergl) (3.0.4)\n",
      "Requirement already satisfied, skipping upgrade: pygments in /Users/B149899/.pyenv/versions/3.8.2/envs/pydeck/lib/python3.8/site-packages (from ipython>=4.0.0; python_version >= \"3.3\"->ipywidgets<8,>=7.0.0->keplergl) (2.6.1)\n",
      "Requirement already satisfied, skipping upgrade: backcall in /Users/B149899/.pyenv/versions/3.8.2/envs/pydeck/lib/python3.8/site-packages (from ipython>=4.0.0; python_version >= \"3.3\"->ipywidgets<8,>=7.0.0->keplergl) (0.1.0)\n",
      "Requirement already satisfied, skipping upgrade: notebook>=4.4.1 in /Users/B149899/.pyenv/versions/3.8.2/envs/pydeck/lib/python3.8/site-packages (from widgetsnbextension~=3.5.0->ipywidgets<8,>=7.0.0->keplergl) (6.0.3)\n",
      "Requirement already satisfied, skipping upgrade: tornado>=4.2 in /Users/B149899/.pyenv/versions/3.8.2/envs/pydeck/lib/python3.8/site-packages (from ipykernel>=4.5.1->ipywidgets<8,>=7.0.0->keplergl) (6.0.4)\n",
      "Requirement already satisfied, skipping upgrade: jupyter-client in /Users/B149899/.pyenv/versions/3.8.2/envs/pydeck/lib/python3.8/site-packages (from ipykernel>=4.5.1->ipywidgets<8,>=7.0.0->keplergl) (6.1.0)\n",
      "Requirement already satisfied, skipping upgrade: cligj>=0.5 in /Users/B149899/.pyenv/versions/3.8.2/envs/pydeck/lib/python3.8/site-packages (from fiona->geopandas>=0.5.0->keplergl) (0.5.0)\n",
      "Requirement already satisfied, skipping upgrade: munch in /Users/B149899/.pyenv/versions/3.8.2/envs/pydeck/lib/python3.8/site-packages (from fiona->geopandas>=0.5.0->keplergl) (2.5.0)\n",
      "Requirement already satisfied, skipping upgrade: attrs>=17 in /Users/B149899/.pyenv/versions/3.8.2/envs/pydeck/lib/python3.8/site-packages (from fiona->geopandas>=0.5.0->keplergl) (19.3.0)\n",
      "Requirement already satisfied, skipping upgrade: click<8,>=4.0 in /Users/B149899/.pyenv/versions/3.8.2/envs/pydeck/lib/python3.8/site-packages (from fiona->geopandas>=0.5.0->keplergl) (7.1.1)\n",
      "Requirement already satisfied, skipping upgrade: click-plugins>=1.0 in /Users/B149899/.pyenv/versions/3.8.2/envs/pydeck/lib/python3.8/site-packages (from fiona->geopandas>=0.5.0->keplergl) (1.1.1)\n",
      "Requirement already satisfied, skipping upgrade: pyrsistent>=0.14.0 in /Users/B149899/.pyenv/versions/3.8.2/envs/pydeck/lib/python3.8/site-packages (from jsonschema!=2.5.0,>=2.4->nbformat>=4.2.0->ipywidgets<8,>=7.0.0->keplergl) (0.15.7)\n",
      "Requirement already satisfied, skipping upgrade: parso>=0.5.2 in /Users/B149899/.pyenv/versions/3.8.2/envs/pydeck/lib/python3.8/site-packages (from jedi>=0.10->ipython>=4.0.0; python_version >= \"3.3\"->ipywidgets<8,>=7.0.0->keplergl) (0.6.2)\n",
      "Requirement already satisfied, skipping upgrade: ptyprocess>=0.5 in /Users/B149899/.pyenv/versions/3.8.2/envs/pydeck/lib/python3.8/site-packages (from pexpect; sys_platform != \"win32\"->ipython>=4.0.0; python_version >= \"3.3\"->ipywidgets<8,>=7.0.0->keplergl) (0.6.0)\n",
      "Requirement already satisfied, skipping upgrade: wcwidth in /Users/B149899/.pyenv/versions/3.8.2/envs/pydeck/lib/python3.8/site-packages (from prompt-toolkit!=3.0.0,!=3.0.1,<3.1.0,>=2.0.0->ipython>=4.0.0; python_version >= \"3.3\"->ipywidgets<8,>=7.0.0->keplergl) (0.1.9)\n",
      "Requirement already satisfied, skipping upgrade: nbconvert in /Users/B149899/.pyenv/versions/3.8.2/envs/pydeck/lib/python3.8/site-packages (from notebook>=4.4.1->widgetsnbextension~=3.5.0->ipywidgets<8,>=7.0.0->keplergl) (5.6.1)\n"
     ]
    },
    {
     "name": "stdout",
     "output_type": "stream",
     "text": [
      "Requirement already satisfied, skipping upgrade: pyzmq>=17 in /Users/B149899/.pyenv/versions/3.8.2/envs/pydeck/lib/python3.8/site-packages (from notebook>=4.4.1->widgetsnbextension~=3.5.0->ipywidgets<8,>=7.0.0->keplergl) (19.0.0)\n",
      "Requirement already satisfied, skipping upgrade: Send2Trash in /Users/B149899/.pyenv/versions/3.8.2/envs/pydeck/lib/python3.8/site-packages (from notebook>=4.4.1->widgetsnbextension~=3.5.0->ipywidgets<8,>=7.0.0->keplergl) (1.5.0)\n",
      "Requirement already satisfied, skipping upgrade: terminado>=0.8.1 in /Users/B149899/.pyenv/versions/3.8.2/envs/pydeck/lib/python3.8/site-packages (from notebook>=4.4.1->widgetsnbextension~=3.5.0->ipywidgets<8,>=7.0.0->keplergl) (0.8.3)\n",
      "Requirement already satisfied, skipping upgrade: prometheus-client in /Users/B149899/.pyenv/versions/3.8.2/envs/pydeck/lib/python3.8/site-packages (from notebook>=4.4.1->widgetsnbextension~=3.5.0->ipywidgets<8,>=7.0.0->keplergl) (0.7.1)\n",
      "Requirement already satisfied, skipping upgrade: jinja2 in /Users/B149899/.pyenv/versions/3.8.2/envs/pydeck/lib/python3.8/site-packages (from notebook>=4.4.1->widgetsnbextension~=3.5.0->ipywidgets<8,>=7.0.0->keplergl) (2.11.1)\n",
      "Requirement already satisfied, skipping upgrade: pandocfilters>=1.4.1 in /Users/B149899/.pyenv/versions/3.8.2/envs/pydeck/lib/python3.8/site-packages (from nbconvert->notebook>=4.4.1->widgetsnbextension~=3.5.0->ipywidgets<8,>=7.0.0->keplergl) (1.4.2)\n",
      "Requirement already satisfied, skipping upgrade: bleach in /Users/B149899/.pyenv/versions/3.8.2/envs/pydeck/lib/python3.8/site-packages (from nbconvert->notebook>=4.4.1->widgetsnbextension~=3.5.0->ipywidgets<8,>=7.0.0->keplergl) (3.1.3)\n",
      "Requirement already satisfied, skipping upgrade: entrypoints>=0.2.2 in /Users/B149899/.pyenv/versions/3.8.2/envs/pydeck/lib/python3.8/site-packages (from nbconvert->notebook>=4.4.1->widgetsnbextension~=3.5.0->ipywidgets<8,>=7.0.0->keplergl) (0.3)\n",
      "Requirement already satisfied, skipping upgrade: defusedxml in /Users/B149899/.pyenv/versions/3.8.2/envs/pydeck/lib/python3.8/site-packages (from nbconvert->notebook>=4.4.1->widgetsnbextension~=3.5.0->ipywidgets<8,>=7.0.0->keplergl) (0.6.0)\n",
      "Requirement already satisfied, skipping upgrade: testpath in /Users/B149899/.pyenv/versions/3.8.2/envs/pydeck/lib/python3.8/site-packages (from nbconvert->notebook>=4.4.1->widgetsnbextension~=3.5.0->ipywidgets<8,>=7.0.0->keplergl) (0.4.4)\n",
      "Requirement already satisfied, skipping upgrade: mistune<2,>=0.8.1 in /Users/B149899/.pyenv/versions/3.8.2/envs/pydeck/lib/python3.8/site-packages (from nbconvert->notebook>=4.4.1->widgetsnbextension~=3.5.0->ipywidgets<8,>=7.0.0->keplergl) (0.8.4)\n",
      "Requirement already satisfied, skipping upgrade: MarkupSafe>=0.23 in /Users/B149899/.pyenv/versions/3.8.2/envs/pydeck/lib/python3.8/site-packages (from jinja2->notebook>=4.4.1->widgetsnbextension~=3.5.0->ipywidgets<8,>=7.0.0->keplergl) (1.1.1)\n",
      "Requirement already satisfied, skipping upgrade: webencodings in /Users/B149899/.pyenv/versions/3.8.2/envs/pydeck/lib/python3.8/site-packages (from bleach->nbconvert->notebook>=4.4.1->widgetsnbextension~=3.5.0->ipywidgets<8,>=7.0.0->keplergl) (0.5.1)\n",
      "Installing collected packages: traittypes, keplergl\n",
      "Successfully installed keplergl-0.2.1 traittypes-0.2.1\n"
     ]
    }
   ],
   "source": [
    "!pip install keplergl --upgrade"
   ]
  },
  {
   "cell_type": "code",
   "execution_count": 10,
   "metadata": {},
   "outputs": [],
   "source": [
    "df = pd.DataFrame(\n",
    "    {'City': ['Buenos Aires', 'Brasilia', 'Santiago', 'Bogota', 'Caracas'],\n",
    "     'Country': ['Argentina', 'Brazil', 'Chile', 'Colombia', 'Venezuela'],\n",
    "     'Latitude': [-34.58, -15.78, -33.45, 4.60, 10.48],\n",
    "     'Longitude': [-58.66, -47.91, -70.66, -74.08, -66.86],\n",
    "     'Time': ['2019-09-01 08:00','2019-09-01 09:00','2019-09-01 10:00','2019-09-01 11:00', '2019-09-01 12:00']\n",
    "    })"
   ]
  },
  {
   "cell_type": "code",
   "execution_count": 11,
   "metadata": {},
   "outputs": [
    {
     "name": "stdout",
     "output_type": "stream",
     "text": [
      "User Guide: https://github.com/keplergl/kepler.gl/blob/master/docs/keplergl-jupyter/user-guide.md\n"
     ]
    },
    {
     "data": {
      "application/vnd.jupyter.widget-view+json": {
       "model_id": "ebb5efeff0a548c397e19d62a78657b9",
       "version_major": 2,
       "version_minor": 0
      },
      "text/plain": [
       "KeplerGl(data={'data_1':            City    Country  Latitude  Longitude              Time\n",
       "0  Buenos Aires  Ar…"
      ]
     },
     "metadata": {},
     "output_type": "display_data"
    }
   ],
   "source": [
    "import keplergl\n",
    "fig = keplergl.KeplerGl(height=600, data={'data_1': df})\n",
    "fig"
   ]
  },
  {
   "cell_type": "code",
   "execution_count": null,
   "metadata": {},
   "outputs": [],
   "source": []
  }
 ],
 "metadata": {
  "kernelspec": {
   "display_name": "Python (dv)",
   "language": "python",
   "name": "dv"
  },
  "language_info": {
   "codemirror_mode": {
    "name": "ipython",
    "version": 3
   },
   "file_extension": ".py",
   "mimetype": "text/x-python",
   "name": "python",
   "nbconvert_exporter": "python",
   "pygments_lexer": "ipython3",
   "version": "3.7.3"
  }
 },
 "nbformat": 4,
 "nbformat_minor": 4
}
