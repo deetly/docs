{
 "cells": [
  {
   "cell_type": "markdown",
   "metadata": {},
   "source": [
    "# ECharts: Geo world map\n",
    ">World map sample\n",
    "\n",
    "Source: pyecharts samples"
   ]
  },
  {
   "cell_type": "code",
   "execution_count": 5,
   "metadata": {},
   "outputs": [],
   "source": [
    "import deetly\n",
    "\n",
    "from pyecharts import options as opts\n",
    "from pyecharts.charts import Geo"
   ]
  },
  {
   "cell_type": "code",
   "execution_count": 6,
   "metadata": {},
   "outputs": [],
   "source": [
    "# Create datapackage\n",
    "description = \"\"\"\n",
    "ECharts Geo Norway in the World\n",
    "\"\"\"\n",
    "\n",
    "metadata = {\n",
    "    \"name\": \"ECharts Geo Norway in the World\",\n",
    "    \"description\":description, \n",
    "    \"author\": \"deetly\",\n",
    "    \"keywords\": [\"geo\",\"world map\",\"examples\"],\n",
    "    \"theme\":\"examples\",\n",
    "    \"license\": \"MIT\"\n",
    "}\n",
    "\n",
    "dp = deetly.package(metadata)"
   ]
  },
  {
   "cell_type": "code",
   "execution_count": 7,
   "metadata": {},
   "outputs": [
    {
     "data": {
      "text/html": [
       "\n",
       "<script>\n",
       "    require.config({\n",
       "        paths: {\n",
       "            'echarts':'https://assets.pyecharts.org/assets/echarts.min', 'world':'https://assets.pyecharts.org/assets/maps/world'\n",
       "        }\n",
       "    });\n",
       "</script>\n",
       "\n",
       "        <div id=\"d53903270dcc4679a0e16107c7fc878c\" style=\"width:700px; height:500px;\"></div>\n",
       "\n",
       "<script>\n",
       "        require(['echarts', 'world'], function(echarts) {\n",
       "                var chart_d53903270dcc4679a0e16107c7fc878c = echarts.init(\n",
       "                    document.getElementById('d53903270dcc4679a0e16107c7fc878c'), 'white', {renderer: 'canvas'});\n",
       "                var option_d53903270dcc4679a0e16107c7fc878c = {\n",
       "    \"animation\": true,\n",
       "    \"animationThreshold\": 2000,\n",
       "    \"animationDuration\": 1000,\n",
       "    \"animationEasing\": \"cubicOut\",\n",
       "    \"animationDelay\": 0,\n",
       "    \"animationDurationUpdate\": 300,\n",
       "    \"animationEasingUpdate\": \"cubicOut\",\n",
       "    \"animationDelayUpdate\": 0,\n",
       "    \"color\": [\n",
       "        \"#c23531\",\n",
       "        \"#2f4554\",\n",
       "        \"#61a0a8\",\n",
       "        \"#d48265\",\n",
       "        \"#749f83\",\n",
       "        \"#ca8622\",\n",
       "        \"#bda29a\",\n",
       "        \"#6e7074\",\n",
       "        \"#546570\",\n",
       "        \"#c4ccd3\",\n",
       "        \"#f05b72\",\n",
       "        \"#ef5b9c\",\n",
       "        \"#f47920\",\n",
       "        \"#905a3d\",\n",
       "        \"#fab27b\",\n",
       "        \"#2a5caa\",\n",
       "        \"#444693\",\n",
       "        \"#726930\",\n",
       "        \"#b2d235\",\n",
       "        \"#6d8346\",\n",
       "        \"#ac6767\",\n",
       "        \"#1d953f\",\n",
       "        \"#6950a1\",\n",
       "        \"#918597\"\n",
       "    ],\n",
       "    \"series\": [],\n",
       "    \"legend\": [\n",
       "        {\n",
       "            \"data\": [],\n",
       "            \"selected\": {},\n",
       "            \"show\": true,\n",
       "            \"padding\": 5,\n",
       "            \"itemGap\": 10,\n",
       "            \"itemWidth\": 25,\n",
       "            \"itemHeight\": 14\n",
       "        }\n",
       "    ],\n",
       "    \"tooltip\": {\n",
       "        \"show\": true,\n",
       "        \"trigger\": \"item\",\n",
       "        \"triggerOn\": \"mousemove|click\",\n",
       "        \"axisPointer\": {\n",
       "            \"type\": \"line\"\n",
       "        },\n",
       "        \"showContent\": true,\n",
       "        \"alwaysShowContent\": false,\n",
       "        \"showDelay\": 0,\n",
       "        \"hideDelay\": 100,\n",
       "        \"textStyle\": {\n",
       "            \"fontSize\": 14\n",
       "        },\n",
       "        \"borderWidth\": 0,\n",
       "        \"padding\": 5\n",
       "    },\n",
       "    \"title\": [\n",
       "        {\n",
       "            \"padding\": 5,\n",
       "            \"itemGap\": 10\n",
       "        }\n",
       "    ],\n",
       "    \"geo\": {\n",
       "        \"map\": \"world\",\n",
       "        \"zoom\": 12,\n",
       "        \"center\": [\n",
       "            15,\n",
       "            64\n",
       "        ],\n",
       "        \"roam\": true,\n",
       "        \"aspectScale\": 0.75,\n",
       "        \"nameProperty\": \"name\",\n",
       "        \"selectedMode\": false,\n",
       "        \"emphasis\": {}\n",
       "    }\n",
       "};\n",
       "                chart_d53903270dcc4679a0e16107c7fc878c.setOption(option_d53903270dcc4679a0e16107c7fc878c);\n",
       "        });\n",
       "    </script>\n"
      ],
      "text/plain": [
       "<pyecharts.render.display.HTML at 0x1400d5460>"
      ]
     },
     "execution_count": 7,
     "metadata": {},
     "output_type": "execute_result"
    }
   ],
   "source": [
    "g = (Geo(init_opts=opts.InitOpts(width=\"700px\"))\n",
    "    .add_schema(maptype=\"world\", center=[15, 64], zoom=12))\n",
    "g.render_notebook()"
   ]
  },
  {
   "cell_type": "code",
   "execution_count": 8,
   "metadata": {},
   "outputs": [],
   "source": [
    "dp.echart(g, \"Norway\", \"The world\")"
   ]
  },
  {
   "cell_type": "code",
   "execution_count": 9,
   "metadata": {},
   "outputs": [
    {
     "name": "stdout",
     "output_type": "stream",
     "text": [
      "View: https://public.deetly.com/examples/f6da3b4f0c243f719b2a75b5eaee3d78 \n",
      "\n",
      "Metadata: https://storage.googleapis.com/deetly/examples/f6da3b4f0c243f719b2a75b5eaee3d78/datapackage.json \n",
      "\n"
     ]
    }
   ],
   "source": [
    "dp.publish()"
   ]
  },
  {
   "cell_type": "code",
   "execution_count": 10,
   "metadata": {},
   "outputs": [
    {
     "data": {
      "text/plain": [
       "'<!DOCTYPE html>\\n<html>\\n<head>\\n    <meta charset=\"UTF-8\">\\n    <title>Awesome-pyecharts</title>\\n            <script type=\"text/javascript\" src=\"https://assets.pyecharts.org/assets/echarts.min.js\"></script>\\n        <script type=\"text/javascript\" src=\"https://assets.pyecharts.org/assets/maps/world.js\"></script>\\n\\n</head>\\n<body>\\n    <div id=\"d53903270dcc4679a0e16107c7fc878c\" class=\"chart-container\" style=\"width:700px; height:500px;\"></div>\\n    <script>\\n        var chart_d53903270dcc4679a0e16107c7fc878c = echarts.init(\\n            document.getElementById(\\'d53903270dcc4679a0e16107c7fc878c\\'), \\'white\\', {renderer: \\'canvas\\'});\\n        var option_d53903270dcc4679a0e16107c7fc878c = {\\n    \"animation\": true,\\n    \"animationThreshold\": 2000,\\n    \"animationDuration\": 1000,\\n    \"animationEasing\": \"cubicOut\",\\n    \"animationDelay\": 0,\\n    \"animationDurationUpdate\": 300,\\n    \"animationEasingUpdate\": \"cubicOut\",\\n    \"animationDelayUpdate\": 0,\\n    \"color\": [\\n        \"#c23531\",\\n        \"#2f4554\",\\n        \"#61a0a8\",\\n        \"#d48265\",\\n        \"#749f83\",\\n        \"#ca8622\",\\n        \"#bda29a\",\\n        \"#6e7074\",\\n        \"#546570\",\\n        \"#c4ccd3\",\\n        \"#f05b72\",\\n        \"#ef5b9c\",\\n        \"#f47920\",\\n        \"#905a3d\",\\n        \"#fab27b\",\\n        \"#2a5caa\",\\n        \"#444693\",\\n        \"#726930\",\\n        \"#b2d235\",\\n        \"#6d8346\",\\n        \"#ac6767\",\\n        \"#1d953f\",\\n        \"#6950a1\",\\n        \"#918597\"\\n    ],\\n    \"series\": [],\\n    \"legend\": [\\n        {\\n            \"data\": [],\\n            \"selected\": {},\\n            \"show\": true,\\n            \"padding\": 5,\\n            \"itemGap\": 10,\\n            \"itemWidth\": 25,\\n            \"itemHeight\": 14\\n        }\\n    ],\\n    \"tooltip\": {\\n        \"show\": true,\\n        \"trigger\": \"item\",\\n        \"triggerOn\": \"mousemove|click\",\\n        \"axisPointer\": {\\n            \"type\": \"line\"\\n        },\\n        \"showContent\": true,\\n        \"alwaysShowContent\": false,\\n        \"showDelay\": 0,\\n        \"hideDelay\": 100,\\n        \"textStyle\": {\\n            \"fontSize\": 14\\n        },\\n        \"borderWidth\": 0,\\n        \"padding\": 5\\n    },\\n    \"title\": [\\n        {\\n            \"padding\": 5,\\n            \"itemGap\": 10\\n        }\\n    ],\\n    \"geo\": {\\n        \"map\": \"world\",\\n        \"zoom\": 12,\\n        \"center\": [\\n            15,\\n            64\\n        ],\\n        \"roam\": true,\\n        \"aspectScale\": 0.75,\\n        \"nameProperty\": \"name\",\\n        \"selectedMode\": false,\\n        \"emphasis\": {}\\n    }\\n};\\n        chart_d53903270dcc4679a0e16107c7fc878c.setOption(option_d53903270dcc4679a0e16107c7fc878c);\\n    </script>\\n</body>\\n</html>\\n'"
      ]
     },
     "execution_count": 10,
     "metadata": {},
     "output_type": "execute_result"
    }
   ],
   "source": [
    "g.render_embed()"
   ]
  },
  {
   "cell_type": "code",
   "execution_count": null,
   "metadata": {},
   "outputs": [],
   "source": []
  }
 ],
 "metadata": {
  "kernelspec": {
   "display_name": "Python 3",
   "language": "python",
   "name": "python3"
  },
  "language_info": {
   "codemirror_mode": {
    "name": "ipython",
    "version": 3
   },
   "file_extension": ".py",
   "mimetype": "text/x-python",
   "name": "python",
   "nbconvert_exporter": "python",
   "pygments_lexer": "ipython3",
   "version": "3.8.2"
  }
 },
 "nbformat": 4,
 "nbformat_minor": 2
}
