{
 "cells": [
  {
   "cell_type": "markdown",
   "metadata": {},
   "source": [
    "# Scatterplot Oslofjorden\n",
    "\n",
    ">Christiania Roklub, 20201"
   ]
  },
  {
   "cell_type": "code",
   "execution_count": 1,
   "metadata": {},
   "outputs": [],
   "source": [
    "import os\n",
    "import deetly\n",
    "import pandas as pd\n",
    "import pydeck as pdk\n",
    "\n",
    "from IPython.core.display import display"
   ]
  },
  {
   "cell_type": "code",
   "execution_count": 2,
   "metadata": {},
   "outputs": [],
   "source": [
    "MAPBOX_TOKEN = os.environ['MAPBOX_TOKEN'] "
   ]
  },
  {
   "cell_type": "code",
   "execution_count": 3,
   "metadata": {},
   "outputs": [],
   "source": [
    "metadata = {\n",
    "    \"name\":\"Roorientering Osloforden 2021\", \n",
    "    \"keywords\": [\"examples\", \"pydeck\", \"scatterplot\", \"maps\"]\n",
    "}\n",
    "\n",
    "ds = deetly.story(metadata)"
   ]
  },
  {
   "cell_type": "code",
   "execution_count": 4,
   "metadata": {},
   "outputs": [],
   "source": [
    "URL = 'https://raw.githubusercontent.com/deetly/dataset/master/examples/roorientering2021.csv'\n",
    "df = pd.read_csv(URL)"
   ]
  },
  {
   "cell_type": "code",
   "execution_count": 5,
   "metadata": {},
   "outputs": [],
   "source": [
    "df['color'] = '[0, 146, 188, 255]'"
   ]
  },
  {
   "cell_type": "code",
   "execution_count": 6,
   "metadata": {},
   "outputs": [],
   "source": [
    "df['nummer'] = df['post'].apply(lambda x: x[0:2].strip())"
   ]
  },
  {
   "cell_type": "code",
   "execution_count": 7,
   "metadata": {},
   "outputs": [
    {
     "data": {
      "text/html": [
       "<div>\n",
       "<style scoped>\n",
       "    .dataframe tbody tr th:only-of-type {\n",
       "        vertical-align: middle;\n",
       "    }\n",
       "\n",
       "    .dataframe tbody tr th {\n",
       "        vertical-align: top;\n",
       "    }\n",
       "\n",
       "    .dataframe thead th {\n",
       "        text-align: right;\n",
       "    }\n",
       "</style>\n",
       "<table border=\"1\" class=\"dataframe\">\n",
       "  <thead>\n",
       "    <tr style=\"text-align: right;\">\n",
       "      <th></th>\n",
       "      <th>post</th>\n",
       "      <th>latitude</th>\n",
       "      <th>longitude</th>\n",
       "      <th>color</th>\n",
       "      <th>nummer</th>\n",
       "    </tr>\n",
       "  </thead>\n",
       "  <tbody>\n",
       "    <tr>\n",
       "      <th>0</th>\n",
       "      <td>1 Ingierstrand</td>\n",
       "      <td>59.818308</td>\n",
       "      <td>10.746904</td>\n",
       "      <td>[0, 146, 188, 255]</td>\n",
       "      <td>1</td>\n",
       "    </tr>\n",
       "    <tr>\n",
       "      <th>1</th>\n",
       "      <td>2 Hvalstrand</td>\n",
       "      <td>59.842857</td>\n",
       "      <td>10.488384</td>\n",
       "      <td>[0, 146, 188, 255]</td>\n",
       "      <td>2</td>\n",
       "    </tr>\n",
       "    <tr>\n",
       "      <th>2</th>\n",
       "      <td>3 Sjøstrand. Hurum</td>\n",
       "      <td>59.797881</td>\n",
       "      <td>10.495145</td>\n",
       "      <td>[0, 146, 188, 255]</td>\n",
       "      <td>3</td>\n",
       "    </tr>\n",
       "    <tr>\n",
       "      <th>3</th>\n",
       "      <td>4 Fornebustranda</td>\n",
       "      <td>59.888117</td>\n",
       "      <td>10.583511</td>\n",
       "      <td>[0, 146, 188, 255]</td>\n",
       "      <td>4</td>\n",
       "    </tr>\n",
       "    <tr>\n",
       "      <th>4</th>\n",
       "      <td>5 Torvøya. Utenfor Storøyodden</td>\n",
       "      <td>59.885863</td>\n",
       "      <td>10.584795</td>\n",
       "      <td>[0, 146, 188, 255]</td>\n",
       "      <td>5</td>\n",
       "    </tr>\n",
       "  </tbody>\n",
       "</table>\n",
       "</div>"
      ],
      "text/plain": [
       "                             post   latitude  longitude               color  \\\n",
       "0                  1 Ingierstrand  59.818308  10.746904  [0, 146, 188, 255]   \n",
       "1                    2 Hvalstrand  59.842857  10.488384  [0, 146, 188, 255]   \n",
       "2              3 Sjøstrand. Hurum  59.797881  10.495145  [0, 146, 188, 255]   \n",
       "3                4 Fornebustranda  59.888117  10.583511  [0, 146, 188, 255]   \n",
       "4  5 Torvøya. Utenfor Storøyodden  59.885863  10.584795  [0, 146, 188, 255]   \n",
       "\n",
       "  nummer  \n",
       "0      1  \n",
       "1      2  \n",
       "2      3  \n",
       "3      4  \n",
       "4      5  "
      ]
     },
     "execution_count": 7,
     "metadata": {},
     "output_type": "execute_result"
    }
   ],
   "source": [
    "df.head()"
   ]
  },
  {
   "cell_type": "code",
   "execution_count": 8,
   "metadata": {},
   "outputs": [],
   "source": [
    "# Use pydeck's data_utils module to fit a viewport to the central 90% of the data\n",
    "viewport = pdk.data_utils.compute_view(points=df[['longitude', 'latitude']], view_proportion=0.9)"
   ]
  },
  {
   "cell_type": "code",
   "execution_count": 9,
   "metadata": {},
   "outputs": [
    {
     "data": {
      "text/html": [
       "<iframe src=\"about:blank\" frameborder=\"0\" srcdoc=\"&lt;!DOCTYPE html&gt;\n",
       "&lt;html&gt;\n",
       "  &lt;head&gt;\n",
       "    &lt;meta http-equiv=&quot;content-type&quot; content=&quot;text/html; charset=UTF-8&quot; /&gt;\n",
       "    &lt;title&gt;pydeck&lt;/title&gt;\n",
       "        &lt;script src=&quot;https://api.tiles.mapbox.com/mapbox-gl-js/v1.13.0/mapbox-gl.js&quot;&gt;&lt;/script&gt;\n",
       "        &lt;link rel=&quot;stylesheet&quot; href=&quot;https://maxcdn.bootstrapcdn.com/bootstrap/3.2.0/css/bootstrap-theme.min.css&quot; /&gt;\n",
       "    &lt;link rel=&quot;stylesheet&quot; href=&quot;https://maxcdn.bootstrapcdn.com/font-awesome/4.6.3/css/font-awesome.min.css&quot; /&gt;\n",
       "    &lt;script src=&#x27;https://cdn.jsdelivr.net/npm/@deck.gl/jupyter-widget@~8.4.*/dist/index.js&#x27;&gt;&lt;/script&gt;\n",
       "    &lt;style&gt;\n",
       "    body {\n",
       "  margin: 0;\n",
       "  padding: 0;\n",
       "  overflow: hidden;\n",
       "}\n",
       "\n",
       "#deck-map-container {\n",
       "  width: 100%;\n",
       "  height: 100%;\n",
       "  background-color: black;\n",
       "}\n",
       "\n",
       "#map {\n",
       "  pointer-events: none;\n",
       "  height: 100%;\n",
       "  width: 100%;\n",
       "  position: absolute;\n",
       "  z-index: 1;\n",
       "}\n",
       "\n",
       "#deckgl-overlay {\n",
       "  z-index: 2;\n",
       "  background: none;\n",
       "}\n",
       "\n",
       "#deck-map-wrapper {\n",
       "  width: 100%;\n",
       "  height: 100%;\n",
       "}\n",
       "\n",
       "#deck-container {\n",
       "  width: 100vw;\n",
       "  height: 100vh;\n",
       "}\n",
       "    &lt;/style&gt;\n",
       "  &lt;/head&gt;\n",
       "  &lt;body&gt;\n",
       "    &lt;div id=&quot;deck-container&quot;&gt;\n",
       "    &lt;/div&gt;\n",
       "  &lt;/body&gt;\n",
       "  &lt;script&gt;\n",
       "    const jsonInput = {&quot;initialViewState&quot;: {&quot;latitude&quot;: 59.85720738333334, &quot;longitude&quot;: 10.635719166666668, &quot;zoom&quot;: 10}, &quot;layers&quot;: [{&quot;@@type&quot;: &quot;ScatterplotLayer&quot;, &quot;data&quot;: [{&quot;color&quot;: &quot;[0, 146, 188, 255]&quot;, &quot;latitude&quot;: 59.8183082, &quot;longitude&quot;: 10.7469041, &quot;nummer&quot;: &quot;1&quot;, &quot;post&quot;: &quot;1 Ingierstrand&quot;}, {&quot;color&quot;: &quot;[0, 146, 188, 255]&quot;, &quot;latitude&quot;: 59.842857, &quot;longitude&quot;: 10.4883838, &quot;nummer&quot;: &quot;2&quot;, &quot;post&quot;: &quot;2 Hvalstrand&quot;}, {&quot;color&quot;: &quot;[0, 146, 188, 255]&quot;, &quot;latitude&quot;: 59.7978812, &quot;longitude&quot;: 10.4951453, &quot;nummer&quot;: &quot;3&quot;, &quot;post&quot;: &quot;3 Sj\\u00f8strand. Hurum&quot;}, {&quot;color&quot;: &quot;[0, 146, 188, 255]&quot;, &quot;latitude&quot;: 59.888117, &quot;longitude&quot;: 10.5835113, &quot;nummer&quot;: &quot;4&quot;, &quot;post&quot;: &quot;4 Fornebustranda&quot;}, {&quot;color&quot;: &quot;[0, 146, 188, 255]&quot;, &quot;latitude&quot;: 59.8858635, &quot;longitude&quot;: 10.5847946, &quot;nummer&quot;: &quot;5&quot;, &quot;post&quot;: &quot;5 Torv\\u00f8ya. Utenfor Stor\\u00f8yodden&quot;}, {&quot;color&quot;: &quot;[0, 146, 188, 255]&quot;, &quot;latitude&quot;: 59.9099005, &quot;longitude&quot;: 10.6546019, &quot;nummer&quot;: &quot;6&quot;, &quot;post&quot;: &quot;6 Killingen&quot;}, {&quot;color&quot;: &quot;[0, 146, 188, 255]&quot;, &quot;latitude&quot;: 59.8169585, &quot;longitude&quot;: 10.5919273, &quot;nummer&quot;: &quot;7&quot;, &quot;post&quot;: &quot;7 Fyrsteilene&quot;}, {&quot;color&quot;: &quot;[0, 146, 188, 255]&quot;, &quot;latitude&quot;: 59.8626402, &quot;longitude&quot;: 10.7149639, &quot;nummer&quot;: &quot;8&quot;, &quot;post&quot;: &quot;8 Husberg\\u00f8ya&quot;}, {&quot;color&quot;: &quot;[0, 146, 188, 255]&quot;, &quot;latitude&quot;: 59.8514029, &quot;longitude&quot;: 10.5313536, &quot;nummer&quot;: &quot;9&quot;, &quot;post&quot;: &quot;9 Lang\\u00e5ra. Butikken&quot;}, {&quot;color&quot;: &quot;[0, 146, 188, 255]&quot;, &quot;latitude&quot;: 59.7580842, &quot;longitude&quot;: 10.561621, &quot;nummer&quot;: &quot;10&quot;, &quot;post&quot;: &quot;10 S\\u00f8ndre Lang\\u00e5ra. Nord spissen&quot;}, {&quot;color&quot;: &quot;[0, 146, 188, 255]&quot;, &quot;latitude&quot;: 59.8919072, &quot;longitude&quot;: 10.5384235, &quot;nummer&quot;: &quot;11&quot;, &quot;post&quot;: &quot;11 Sj\\u00f8holmen. Flytebrygge med skulptur&quot;}, {&quot;color&quot;: &quot;[0, 146, 188, 255]&quot;, &quot;latitude&quot;: 59.8372322, &quot;longitude&quot;: 10.719023, &quot;nummer&quot;: &quot;12&quot;, &quot;post&quot;: &quot;12 Storeflua. Skvalpeskj\\u00e6r syd avSkjerholmene&quot;}, {&quot;color&quot;: &quot;[0, 146, 188, 255]&quot;, &quot;latitude&quot;: 59.786179, &quot;longitude&quot;: 10.733981, &quot;nummer&quot;: &quot;13&quot;, &quot;post&quot;: &quot;13 Svartskog brygge&quot;}, {&quot;color&quot;: &quot;[0, 146, 188, 255]&quot;, &quot;latitude&quot;: 59.9033377, &quot;longitude&quot;: 10.7526353, &quot;nummer&quot;: &quot;14&quot;, &quot;post&quot;: &quot;14 S\\u00f8renga ( indre kanal )&quot;}, {&quot;color&quot;: &quot;[0, 146, 188, 255]&quot;, &quot;latitude&quot;: 59.8948529, &quot;longitude&quot;: 10.7313554, &quot;nummer&quot;: &quot;15&quot;, &quot;post&quot;: &quot;15 Arbeidernes Roklubb&quot;}, {&quot;color&quot;: &quot;[0, 146, 188, 255]&quot;, &quot;latitude&quot;: 59.9175127, &quot;longitude&quot;: 10.6609633, &quot;nummer&quot;: &quot;16&quot;, &quot;post&quot;: &quot;16 Bestumkilen Roklubb&quot;}, {&quot;color&quot;: &quot;[0, 146, 188, 255]&quot;, &quot;latitude&quot;: 59.8860124, &quot;longitude&quot;: 10.5340435, &quot;nummer&quot;: &quot;17&quot;, &quot;post&quot;: &quot;17 B\\u00e6rum Roklubb&quot;}, {&quot;color&quot;: &quot;[0, 146, 188, 255]&quot;, &quot;latitude&quot;: 59.9094875, &quot;longitude&quot;: 10.6998632, &quot;nummer&quot;: &quot;18&quot;, &quot;post&quot;: &quot;18 Christiania Roklub&quot;}, {&quot;color&quot;: &quot;[0, 146, 188, 255]&quot;, &quot;latitude&quot;: 59.9071213, &quot;longitude&quot;: 10.6929413, &quot;nummer&quot;: &quot;19&quot;, &quot;post&quot;: &quot;19 Norske Studenters Roklub&quot;}, {&quot;color&quot;: &quot;[0, 146, 188, 255]&quot;, &quot;latitude&quot;: 59.8659039, &quot;longitude&quot;: 10.7601763, &quot;nummer&quot;: &quot;2O&quot;, &quot;post&quot;: &quot;2O Ormsund Roklubb&quot;}, {&quot;color&quot;: &quot;[0, 146, 188, 255]&quot;, &quot;latitude&quot;: 59.9173567, &quot;longitude&quot;: 10.6738278, &quot;nummer&quot;: &quot;21&quot;, &quot;post&quot;: &quot;21 Oslo Roklubb&quot;}, {&quot;color&quot;: &quot;[0, 146, 188, 255]&quot;, &quot;latitude&quot;: 59.8843013, &quot;longitude&quot;: 10.5427055, &quot;nummer&quot;: &quot;22&quot;, &quot;post&quot;: &quot;22 Solodden&quot;}, {&quot;color&quot;: &quot;[0, 146, 188, 255]&quot;, &quot;latitude&quot;: 59.8880713, &quot;longitude&quot;: 10.5650387, &quot;nummer&quot;: &quot;23&quot;, &quot;post&quot;: &quot;23 Veritas Roklubb&quot;}, {&quot;color&quot;: &quot;[0, 146, 188, 255]&quot;, &quot;latitude&quot;: 59.7169257, &quot;longitude&quot;: 10.7106393, &quot;nummer&quot;: &quot;24&quot;, &quot;post&quot;: &quot;24 Bunnefjorden&quot;}, {&quot;color&quot;: &quot;[0, 146, 188, 255]&quot;, &quot;latitude&quot;: 59.9105787, &quot;longitude&quot;: 10.7310193, &quot;nummer&quot;: &quot;25&quot;, &quot;post&quot;: &quot;25 R\\u00e5dhusbrygga&quot;}, {&quot;color&quot;: &quot;[0, 146, 188, 255]&quot;, &quot;latitude&quot;: 59.8888905, &quot;longitude&quot;: 10.5962671, &quot;nummer&quot;: &quot;26&quot;, &quot;post&quot;: &quot;26 Koksabukta&quot;}, {&quot;color&quot;: &quot;[0, 146, 188, 255]&quot;, &quot;latitude&quot;: 59.8754247, &quot;longitude&quot;: 10.5182043, &quot;nummer&quot;: &quot;27&quot;, &quot;post&quot;: &quot;27 Halsbukta ( Nes\\u00f8ya N\\u00d8 )&quot;}, {&quot;color&quot;: &quot;[0, 146, 188, 255]&quot;, &quot;latitude&quot;: 59.7590858, &quot;longitude&quot;: 10.5036673, &quot;nummer&quot;: &quot;28&quot;, &quot;post&quot;: &quot;28 N\\u00e6rsnesbukta (Syd for Slemmestad )&quot;}, {&quot;color&quot;: &quot;[0, 146, 188, 255]&quot;, &quot;latitude&quot;: 59.8110545, &quot;longitude&quot;: 10.6911281, &quot;nummer&quot;: &quot;29&quot;, &quot;post&quot;: &quot;29 Kirkevika ( Nesoddlandet \\u00d8st )&quot;}, {&quot;color&quot;: &quot;[0, 146, 188, 255]&quot;, &quot;latitude&quot;: 59.8329723, &quot;longitude&quot;: 10.762465, &quot;nummer&quot;: &quot;30&quot;, &quot;post&quot;: &quot;30 Hvervenbukta&quot;}], &quot;getFillColor&quot;: [180, 0, 200, 140], &quot;getPosition&quot;: &quot;@@=[longitude, latitude]&quot;, &quot;getRadius&quot;: 400, &quot;id&quot;: &quot;37ac0be5-ca2b-4589-bb06-cc16e6a76da2&quot;}, {&quot;@@type&quot;: &quot;TextLayer&quot;, &quot;billboard&quot;: false, &quot;data&quot;: [{&quot;color&quot;: &quot;[0, 146, 188, 255]&quot;, &quot;latitude&quot;: 59.8183082, &quot;longitude&quot;: 10.7469041, &quot;nummer&quot;: &quot;1&quot;, &quot;post&quot;: &quot;1 Ingierstrand&quot;}, {&quot;color&quot;: &quot;[0, 146, 188, 255]&quot;, &quot;latitude&quot;: 59.842857, &quot;longitude&quot;: 10.4883838, &quot;nummer&quot;: &quot;2&quot;, &quot;post&quot;: &quot;2 Hvalstrand&quot;}, {&quot;color&quot;: &quot;[0, 146, 188, 255]&quot;, &quot;latitude&quot;: 59.7978812, &quot;longitude&quot;: 10.4951453, &quot;nummer&quot;: &quot;3&quot;, &quot;post&quot;: &quot;3 Sj\\u00f8strand. Hurum&quot;}, {&quot;color&quot;: &quot;[0, 146, 188, 255]&quot;, &quot;latitude&quot;: 59.888117, &quot;longitude&quot;: 10.5835113, &quot;nummer&quot;: &quot;4&quot;, &quot;post&quot;: &quot;4 Fornebustranda&quot;}, {&quot;color&quot;: &quot;[0, 146, 188, 255]&quot;, &quot;latitude&quot;: 59.8858635, &quot;longitude&quot;: 10.5847946, &quot;nummer&quot;: &quot;5&quot;, &quot;post&quot;: &quot;5 Torv\\u00f8ya. Utenfor Stor\\u00f8yodden&quot;}, {&quot;color&quot;: &quot;[0, 146, 188, 255]&quot;, &quot;latitude&quot;: 59.9099005, &quot;longitude&quot;: 10.6546019, &quot;nummer&quot;: &quot;6&quot;, &quot;post&quot;: &quot;6 Killingen&quot;}, {&quot;color&quot;: &quot;[0, 146, 188, 255]&quot;, &quot;latitude&quot;: 59.8169585, &quot;longitude&quot;: 10.5919273, &quot;nummer&quot;: &quot;7&quot;, &quot;post&quot;: &quot;7 Fyrsteilene&quot;}, {&quot;color&quot;: &quot;[0, 146, 188, 255]&quot;, &quot;latitude&quot;: 59.8626402, &quot;longitude&quot;: 10.7149639, &quot;nummer&quot;: &quot;8&quot;, &quot;post&quot;: &quot;8 Husberg\\u00f8ya&quot;}, {&quot;color&quot;: &quot;[0, 146, 188, 255]&quot;, &quot;latitude&quot;: 59.8514029, &quot;longitude&quot;: 10.5313536, &quot;nummer&quot;: &quot;9&quot;, &quot;post&quot;: &quot;9 Lang\\u00e5ra. Butikken&quot;}, {&quot;color&quot;: &quot;[0, 146, 188, 255]&quot;, &quot;latitude&quot;: 59.7580842, &quot;longitude&quot;: 10.561621, &quot;nummer&quot;: &quot;10&quot;, &quot;post&quot;: &quot;10 S\\u00f8ndre Lang\\u00e5ra. Nord spissen&quot;}, {&quot;color&quot;: &quot;[0, 146, 188, 255]&quot;, &quot;latitude&quot;: 59.8919072, &quot;longitude&quot;: 10.5384235, &quot;nummer&quot;: &quot;11&quot;, &quot;post&quot;: &quot;11 Sj\\u00f8holmen. Flytebrygge med skulptur&quot;}, {&quot;color&quot;: &quot;[0, 146, 188, 255]&quot;, &quot;latitude&quot;: 59.8372322, &quot;longitude&quot;: 10.719023, &quot;nummer&quot;: &quot;12&quot;, &quot;post&quot;: &quot;12 Storeflua. Skvalpeskj\\u00e6r syd avSkjerholmene&quot;}, {&quot;color&quot;: &quot;[0, 146, 188, 255]&quot;, &quot;latitude&quot;: 59.786179, &quot;longitude&quot;: 10.733981, &quot;nummer&quot;: &quot;13&quot;, &quot;post&quot;: &quot;13 Svartskog brygge&quot;}, {&quot;color&quot;: &quot;[0, 146, 188, 255]&quot;, &quot;latitude&quot;: 59.9033377, &quot;longitude&quot;: 10.7526353, &quot;nummer&quot;: &quot;14&quot;, &quot;post&quot;: &quot;14 S\\u00f8renga ( indre kanal )&quot;}, {&quot;color&quot;: &quot;[0, 146, 188, 255]&quot;, &quot;latitude&quot;: 59.8948529, &quot;longitude&quot;: 10.7313554, &quot;nummer&quot;: &quot;15&quot;, &quot;post&quot;: &quot;15 Arbeidernes Roklubb&quot;}, {&quot;color&quot;: &quot;[0, 146, 188, 255]&quot;, &quot;latitude&quot;: 59.9175127, &quot;longitude&quot;: 10.6609633, &quot;nummer&quot;: &quot;16&quot;, &quot;post&quot;: &quot;16 Bestumkilen Roklubb&quot;}, {&quot;color&quot;: &quot;[0, 146, 188, 255]&quot;, &quot;latitude&quot;: 59.8860124, &quot;longitude&quot;: 10.5340435, &quot;nummer&quot;: &quot;17&quot;, &quot;post&quot;: &quot;17 B\\u00e6rum Roklubb&quot;}, {&quot;color&quot;: &quot;[0, 146, 188, 255]&quot;, &quot;latitude&quot;: 59.9094875, &quot;longitude&quot;: 10.6998632, &quot;nummer&quot;: &quot;18&quot;, &quot;post&quot;: &quot;18 Christiania Roklub&quot;}, {&quot;color&quot;: &quot;[0, 146, 188, 255]&quot;, &quot;latitude&quot;: 59.9071213, &quot;longitude&quot;: 10.6929413, &quot;nummer&quot;: &quot;19&quot;, &quot;post&quot;: &quot;19 Norske Studenters Roklub&quot;}, {&quot;color&quot;: &quot;[0, 146, 188, 255]&quot;, &quot;latitude&quot;: 59.8659039, &quot;longitude&quot;: 10.7601763, &quot;nummer&quot;: &quot;2O&quot;, &quot;post&quot;: &quot;2O Ormsund Roklubb&quot;}, {&quot;color&quot;: &quot;[0, 146, 188, 255]&quot;, &quot;latitude&quot;: 59.9173567, &quot;longitude&quot;: 10.6738278, &quot;nummer&quot;: &quot;21&quot;, &quot;post&quot;: &quot;21 Oslo Roklubb&quot;}, {&quot;color&quot;: &quot;[0, 146, 188, 255]&quot;, &quot;latitude&quot;: 59.8843013, &quot;longitude&quot;: 10.5427055, &quot;nummer&quot;: &quot;22&quot;, &quot;post&quot;: &quot;22 Solodden&quot;}, {&quot;color&quot;: &quot;[0, 146, 188, 255]&quot;, &quot;latitude&quot;: 59.8880713, &quot;longitude&quot;: 10.5650387, &quot;nummer&quot;: &quot;23&quot;, &quot;post&quot;: &quot;23 Veritas Roklubb&quot;}, {&quot;color&quot;: &quot;[0, 146, 188, 255]&quot;, &quot;latitude&quot;: 59.7169257, &quot;longitude&quot;: 10.7106393, &quot;nummer&quot;: &quot;24&quot;, &quot;post&quot;: &quot;24 Bunnefjorden&quot;}, {&quot;color&quot;: &quot;[0, 146, 188, 255]&quot;, &quot;latitude&quot;: 59.9105787, &quot;longitude&quot;: 10.7310193, &quot;nummer&quot;: &quot;25&quot;, &quot;post&quot;: &quot;25 R\\u00e5dhusbrygga&quot;}, {&quot;color&quot;: &quot;[0, 146, 188, 255]&quot;, &quot;latitude&quot;: 59.8888905, &quot;longitude&quot;: 10.5962671, &quot;nummer&quot;: &quot;26&quot;, &quot;post&quot;: &quot;26 Koksabukta&quot;}, {&quot;color&quot;: &quot;[0, 146, 188, 255]&quot;, &quot;latitude&quot;: 59.8754247, &quot;longitude&quot;: 10.5182043, &quot;nummer&quot;: &quot;27&quot;, &quot;post&quot;: &quot;27 Halsbukta ( Nes\\u00f8ya N\\u00d8 )&quot;}, {&quot;color&quot;: &quot;[0, 146, 188, 255]&quot;, &quot;latitude&quot;: 59.7590858, &quot;longitude&quot;: 10.5036673, &quot;nummer&quot;: &quot;28&quot;, &quot;post&quot;: &quot;28 N\\u00e6rsnesbukta (Syd for Slemmestad )&quot;}, {&quot;color&quot;: &quot;[0, 146, 188, 255]&quot;, &quot;latitude&quot;: 59.8110545, &quot;longitude&quot;: 10.6911281, &quot;nummer&quot;: &quot;29&quot;, &quot;post&quot;: &quot;29 Kirkevika ( Nesoddlandet \\u00d8st )&quot;}, {&quot;color&quot;: &quot;[0, 146, 188, 255]&quot;, &quot;latitude&quot;: 59.8329723, &quot;longitude&quot;: 10.762465, &quot;nummer&quot;: &quot;30&quot;, &quot;post&quot;: &quot;30 Hvervenbukta&quot;}], &quot;getAlignmentBaseline&quot;: &quot;center&quot;, &quot;getAngle&quot;: 0, &quot;getColor&quot;: [0, 0, 0, 255], &quot;getPosition&quot;: &quot;@@=[longitude, latitude]&quot;, &quot;getSize&quot;: 16, &quot;getText&quot;: &quot;@@=nummer&quot;, &quot;getTextAnchor&quot;: &quot;middle&quot;, &quot;id&quot;: &quot;9b529bc2-9b31-42a7-b7bb-96eff5ecd8bb&quot;, &quot;pickable&quot;: true}], &quot;mapProvider&quot;: &quot;carto&quot;, &quot;mapStyle&quot;: &quot;https://basemaps.cartocdn.com/gl/positron-nolabels-gl-style/style.json&quot;, &quot;views&quot;: [{&quot;@@type&quot;: &quot;MapView&quot;, &quot;controller&quot;: true}]};\n",
       "    const tooltip = true;\n",
       "    const customLibraries = null;\n",
       "\n",
       "    const deckInstance = createDeck({\n",
       "            mapboxApiKey: &#x27;pk.eyJ1IjoiaWRlbGFiIiwiYSI6ImNqdjNxdms0dTBid2U0NHAya2VncHY2ZDgifQ.zqS-tnv728syM-D2RZcSFw&#x27;,\n",
       "                  container: document.getElementById(&#x27;deck-container&#x27;),\n",
       "      jsonInput,\n",
       "      tooltip,\n",
       "      customLibraries\n",
       "    });\n",
       "\n",
       "  &lt;/script&gt;\n",
       "&lt;/html&gt;\" width=\"100%\" height=500></iframe>"
      ],
      "text/plain": [
       "<IPython.core.display.HTML object>"
      ]
     },
     "execution_count": 9,
     "metadata": {},
     "output_type": "execute_result"
    }
   ],
   "source": [
    "scatterplot = pdk.Layer(\n",
    "    'ScatterplotLayer',\n",
    "    df,\n",
    "    get_position=['longitude', 'latitude'],\n",
    "    get_radius=400,\n",
    "    get_fill_color=[180, 0, 200, 140]\n",
    ")\n",
    "\n",
    "text = pdk.Layer(\n",
    "    'TextLayer',\n",
    "    df,\n",
    "    pickable=True,\n",
    "    get_position=['longitude', 'latitude'],\n",
    "    get_text='nummer',\n",
    "    get_color=[0,0,0,255],\n",
    "    billboard=False,\n",
    "    get_size=16,\n",
    "    get_angle=0,\n",
    "    get_text_anchor='\"middle\"',\n",
    "    get_alignment_baseline='\"center\"'\n",
    ")\n",
    "\n",
    "layers = [scatterplot, text]\n",
    "\n",
    "g = pdk.Deck(height=800,layers=layers,map_style=\"light_no_labels\",initial_view_state=viewport,api_keys={\"mapbox\": MAPBOX_TOKEN})\n",
    "g.to_html('fig.html')"
   ]
  },
  {
   "cell_type": "code",
   "execution_count": 10,
   "metadata": {},
   "outputs": [],
   "source": [
    "ds.pydeck(g, \"poster\", showMap=True)"
   ]
  },
  {
   "cell_type": "code",
   "execution_count": 11,
   "metadata": {},
   "outputs": [
    {
     "name": "stdout",
     "output_type": "stream",
     "text": [
      "Publishing story Roorientering Osloforden 2021 to the examples space...\n",
      "Published at: https://public.deetly.com/examples/ac319b749a0e17211370e518c372eb8a \n",
      "\n"
     ]
    }
   ],
   "source": [
    "ds.publish()"
   ]
  }
 ],
 "metadata": {
  "kernelspec": {
   "display_name": "Python 3",
   "language": "python",
   "name": "python3"
  },
  "language_info": {
   "codemirror_mode": {
    "name": "ipython",
    "version": 3
   },
   "file_extension": ".py",
   "mimetype": "text/x-python",
   "name": "python",
   "nbconvert_exporter": "python",
   "pygments_lexer": "ipython3",
   "version": "3.7.2"
  }
 },
 "nbformat": 4,
 "nbformat_minor": 4
}
