{
 "cells": [
  {
   "cell_type": "markdown",
   "metadata": {},
   "source": [
    "# Wordcloud with Vega"
   ]
  },
  {
   "cell_type": "code",
   "execution_count": 1,
   "metadata": {},
   "outputs": [],
   "source": [
    "import deetly\n",
    "import altair as alt"
   ]
  },
  {
   "cell_type": "code",
   "execution_count": 2,
   "metadata": {},
   "outputs": [
    {
     "name": "stdout",
     "output_type": "stream",
     "text": [
      "Missing mandatory props(s): ['title']\n",
      "Missing recommended props(s): ['contactPoint', 'distribution', 'keyword', 'publisher', 'spatial', 'temporal']\n",
      "Property not in DCAT schema: ['name', 'author', 'license', 'keywords']\n",
      "Invalid type: ['String:name', 'String:description', 'String:author', 'String or list of strings:theme', 'String:license', 'String:keywords', 'ISO date or datetime:issued', 'ISO date or datetime:modified']\n"
     ]
    }
   ],
   "source": [
    "# Create datapackage\n",
    "description = \"\"\"\n",
    "Example Wordcloud with vega\n",
    "\"\"\"\n",
    "\n",
    "package = {\n",
    "    \"name\":\"Wordcloud with vega\", \n",
    "    \"description\":description, \n",
    "    \"author\":\"deetly\", \n",
    "    \"theme\":\"examples\",\n",
    "    \"license\": \"MIT\",\n",
    "    \"keywords\": [\"altair, vega\"]\n",
    "}\n",
    "\n",
    "dp = deetly.package(package)"
   ]
  },
  {
   "cell_type": "code",
   "execution_count": 3,
   "metadata": {},
   "outputs": [],
   "source": [
    "text = \"\"\"\n",
    "Det legemeldte sykefraværet var 4,9 prosent i 2. kvartal 2019. Sammenlignet med samme kvartal i fjor innebærer dette en økning på 2,2 prosent. Økningen var størst hos kvinner hvor sykefraværet gikk fra 6,2 prosent til 6,4 prosent. For menn var sykefraværet stabilt på 3,6 prosent\n",
    "Endringene i sykefraværet fra 2. kvartal 2018 til 2. kvartal 2019 for kvinner viser størst økning blant de aller yngste aldersgruppene under 25 år og blant de aller eldste. For menn økte sykefraværet mest for de yngste under 19 år. For menn mellom 50-59 år gikk sykefraværet noe ned.\n",
    "Blant fylkene er det Sogn og Fjordane som har den største økningen i sykefraværet med 9,6 prosent. Deretter fulgte Finnmark med 8,1 prosent oppgang og Nordland med 6,5 prosent. To fylker hadde nedgang i sykefraværet. I Vestfold gikk sykefraværet ned med 3,1 prosent og i Troms med 1,8 prosent. \n",
    "Oslo har fremdeles det laveste legemeldte sykefraværet med 4,0 prosent. Finnmark og Nordland har det høyeste sykefraværet med 5,9 prosent\n",
    "Statistikk fra Arbeids- og velferdsdirektoratet omfatter bare legemeldt fravær\n",
    "\"\"\""
   ]
  },
  {
   "cell_type": "code",
   "execution_count": 4,
   "metadata": {},
   "outputs": [],
   "source": [
    "stopwords_no = \"(i|var|fra|på)\" "
   ]
  },
  {
   "cell_type": "code",
   "execution_count": 5,
   "metadata": {},
   "outputs": [],
   "source": [
    "spec = {\n",
    "  \"$schema\": \"https://vega.github.io/schema/vega/v5.json\",\n",
    "  \"description\": \"A word cloud visualization depicting Vega research paper abstracts.\",\n",
    "  \"width\": 800,\n",
    "  \"height\": 400,\n",
    "  \"padding\": 0,\n",
    "\n",
    "  \"data\": [\n",
    "    {\n",
    "      \"name\": \"table\",\n",
    "        \"values\": [text],\n",
    "      \"transform\": [\n",
    "        {\n",
    "          \"type\": \"countpattern\",\n",
    "          \"field\": \"data\",\n",
    "          \"case\": \"upper\",\n",
    "          \"pattern\": \"[\\\\w']{3,}\",\n",
    "          \"stopwords\": stopwords_no\n",
    "        },\n",
    "        {\n",
    "          \"type\": \"formula\", \"as\": \"angle\",\n",
    "          \"expr\": \"[-45, 0, 45][~~(random() * 3)]\"\n",
    "        },\n",
    "        {\n",
    "          \"type\": \"formula\", \"as\": \"weight\",\n",
    "          \"expr\": \"if(datum.text=='SYKEFRAV', 600, 300)\"\n",
    "        }\n",
    "      ]\n",
    "    }\n",
    "  ],\n",
    "\n",
    "  \"scales\": [\n",
    "    {\n",
    "      \"name\": \"color\",\n",
    "      \"type\": \"ordinal\",\n",
    "      \"domain\": {\"data\": \"table\", \"field\": \"text\"},\n",
    "      \"range\": [\"#d5a928\", \"#652c90\", \"#939597\"]\n",
    "    }\n",
    "  ],\n",
    "\n",
    "  \"marks\": [\n",
    "    {\n",
    "      \"type\": \"text\",\n",
    "      \"from\": {\"data\": \"table\"},\n",
    "      \"encode\": {\n",
    "        \"enter\": {\n",
    "          \"text\": {\"field\": \"text\"},\n",
    "          \"align\": {\"value\": \"center\"},\n",
    "          \"baseline\": {\"value\": \"alphabetic\"},\n",
    "          \"fill\": {\"scale\": \"color\", \"field\": \"text\"}\n",
    "        },\n",
    "        \"update\": {\n",
    "          \"fillOpacity\": {\"value\": 1}\n",
    "        },\n",
    "        \"hover\": {\n",
    "          \"fillOpacity\": {\"value\": 0.5}\n",
    "        }\n",
    "      },\n",
    "      \"transform\": [\n",
    "        {\n",
    "          \"type\": \"wordcloud\",\n",
    "          \"size\": [800, 400],\n",
    "          \"text\": {\"field\": \"text\"},\n",
    "          \"rotate\": {\"field\": \"datum.angle\"},\n",
    "          \"font\": \"Helvetica Neue, Arial\",\n",
    "          \"fontSize\": {\"field\": \"datum.count\"},\n",
    "          \"fontWeight\": {\"field\": \"datum.weight\"},\n",
    "          \"fontSizeRange\": [12, 56],\n",
    "          \"padding\": 2\n",
    "        }\n",
    "      ]\n",
    "    }\n",
    "  ]\n",
    "}"
   ]
  },
  {
   "cell_type": "code",
   "execution_count": 6,
   "metadata": {},
   "outputs": [],
   "source": [
    "description = \"\"\"\n",
    "Om legemeldt sykefravær\n",
    "\"\"\"\n",
    "\n",
    "dp.plot(\"vega\",spec,\"Wordcloud\", description)"
   ]
  },
  {
   "cell_type": "code",
   "execution_count": 7,
   "metadata": {},
   "outputs": [
    {
     "name": "stdout",
     "output_type": "stream",
     "text": [
      "View: https://public.deetly.com/examples/4ef64a1e4bd56a9cdc6da1f59a1adc20 \n",
      "\n",
      "Metadata: https://storage.googleapis.com/deetly/examples/4ef64a1e4bd56a9cdc6da1f59a1adc20/datapackage.json \n",
      "\n"
     ]
    }
   ],
   "source": [
    "item = dp.publish()"
   ]
  }
 ],
 "metadata": {
  "kernelspec": {
   "display_name": "Python 3",
   "language": "python",
   "name": "python3"
  },
  "language_info": {
   "codemirror_mode": {
    "name": "ipython",
    "version": 3
   },
   "file_extension": ".py",
   "mimetype": "text/x-python",
   "name": "python",
   "nbconvert_exporter": "python",
   "pygments_lexer": "ipython3",
   "version": "3.8.2"
  },
  "varInspector": {
   "cols": {
    "lenName": 16,
    "lenType": 16,
    "lenVar": 40
   },
   "kernels_config": {
    "python": {
     "delete_cmd_postfix": "",
     "delete_cmd_prefix": "del ",
     "library": "var_list.py",
     "varRefreshCmd": "print(var_dic_list())"
    },
    "r": {
     "delete_cmd_postfix": ") ",
     "delete_cmd_prefix": "rm(",
     "library": "var_list.r",
     "varRefreshCmd": "cat(var_dic_list()) "
    }
   },
   "types_to_exclude": [
    "module",
    "function",
    "builtin_function_or_method",
    "instance",
    "_Feature"
   ],
   "window_display": false
  }
 },
 "nbformat": 4,
 "nbformat_minor": 2
}
