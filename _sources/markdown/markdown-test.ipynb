{
 "cells": [
  {
   "cell_type": "markdown",
   "metadata": {},
   "source": [
    "# Markdown view\n",
    "> Examples from this [markdown cheatsheet](https://github.com/adam-p/markdown-here/wiki/Markdown-Cheatsheet)"
   ]
  },
  {
   "cell_type": "markdown",
   "metadata": {},
   "source": [
    "## Setup"
   ]
  },
  {
   "cell_type": "code",
   "execution_count": 1,
   "metadata": {
    "colab": {},
    "colab_type": "code",
    "id": "mH6uBQ7ia40W",
    "tags": []
   },
   "outputs": [],
   "source": [
    "import deetly"
   ]
  },
  {
   "cell_type": "markdown",
   "metadata": {},
   "source": [
    "## Create story"
   ]
  },
  {
   "cell_type": "code",
   "execution_count": 2,
   "metadata": {
    "colab": {},
    "colab_type": "code",
    "id": "bWHX_wcZbrqq",
    "tags": []
   },
   "outputs": [],
   "source": [
    "# Create datastory\n",
    "package = {\n",
    "    \"name\":\"Markdown view demo\", \n",
    "    \"keywords\": [\"markdown, example\"]\n",
    "}\n",
    "\n",
    "ds = deetly.story(package)"
   ]
  },
  {
   "cell_type": "markdown",
   "metadata": {},
   "source": [
    "## Headers"
   ]
  },
  {
   "cell_type": "code",
   "execution_count": 3,
   "metadata": {},
   "outputs": [],
   "source": [
    "markdown = \"\"\"\n",
    "An H1 Header\n",
    "============\n",
    "\n",
    "An H2 Header\n",
    "------------\n",
    "\n",
    "# An H1 Header\n",
    "## An H2 Header\n",
    "### An H3 Header\n",
    "#### An H4 Header\n",
    "##### An H5 Header\n",
    "\"\"\"\n",
    "\n",
    "ds.markdown(markdown, 'Headers')"
   ]
  },
  {
   "cell_type": "markdown",
   "metadata": {},
   "source": [
    "## Emphasis"
   ]
  },
  {
   "cell_type": "code",
   "execution_count": 4,
   "metadata": {},
   "outputs": [],
   "source": [
    "markdown = \"\"\"\n",
    "Emphasis, aka italics, with *asterisks* or _underscores_.\n",
    "\n",
    "Strong emphasis, aka bold, with **asterisks** or __underscores__.\n",
    "\n",
    "Combined emphasis with **asterisks and _underscores_**.\n",
    "\n",
    "Strikethrough uses two tildes. ~~Scratch this.~~\n",
    "\"\"\"\n",
    "\n",
    "ds.markdown(markdown, 'Emphasis')"
   ]
  },
  {
   "cell_type": "markdown",
   "metadata": {},
   "source": [
    "## Quotes"
   ]
  },
  {
   "cell_type": "code",
   "execution_count": 5,
   "metadata": {},
   "outputs": [],
   "source": [
    "markdown = \"\"\"\n",
    "> Of all the things I've lost \n",
    "> I miss my mind the most. - Mark Twain\n",
    "\"\"\"\n",
    "\n",
    "ds.markdown(markdown, 'Blockquotes')"
   ]
  },
  {
   "cell_type": "markdown",
   "metadata": {},
   "source": [
    "## Lists"
   ]
  },
  {
   "cell_type": "code",
   "execution_count": 6,
   "metadata": {},
   "outputs": [],
   "source": [
    "markdown = \"\"\"\n",
    "1. First ordered list item\n",
    "2. Another item\n",
    "⋅⋅* Unordered sub-list. \n",
    "1. Actual numbers don't matter, just that it's a number\n",
    "⋅⋅1. Ordered sub-list\n",
    "4. And another item.\n",
    "\n",
    "⋅⋅⋅You can have properly indented paragraphs within list items. Notice the blank line above, and the leading spaces (at least one, but we'll use three here to also align the raw Markdown).\n",
    "\n",
    "⋅⋅⋅To have a line break without a paragraph, you will need to use two trailing spaces.⋅⋅\n",
    "⋅⋅⋅Note that this line is separate, but within the same paragraph.⋅⋅\n",
    "⋅⋅⋅(This is contrary to the typical GFM line break behaviour, where trailing spaces are not required.)\n",
    "\n",
    "* Unordered list can use asterisks\n",
    "- Or minuses\n",
    "+ Or pluses\n",
    "\"\"\"\n",
    "\n",
    "ds.markdown(markdown, 'Lists')"
   ]
  },
  {
   "cell_type": "markdown",
   "metadata": {},
   "source": [
    "## Code"
   ]
  },
  {
   "cell_type": "code",
   "execution_count": 7,
   "metadata": {},
   "outputs": [],
   "source": [
    "markdown = \"\"\"\n",
    "Check out this code:\n",
    "\n",
    "    def fibonacci(number):\n",
    "        if number <= 1:\n",
    "            return number\n",
    "        else:\n",
    "            return fibonacci(number - 1) + fibonacci(number - 2)\n",
    "\n",
    "And use the function like this:\n",
    "\n",
    "    fib_number = fibonacci(8)\n",
    "    print 'The 8th Fibonacci number is:', fib_number\n",
    "\n",
    "Wow, that was amazing...\n",
    "\n",
    "```python\n",
    "name = 'Scott'\n",
    "print 'Hi my name is ' + name\n",
    "```\n",
    "\n",
    "\n",
    "```javascript\n",
    "var s = \"JavaScript syntax highlighting\";\n",
    "alert(s);\n",
    "```\n",
    "\n",
    " \n",
    "```\n",
    "No language indicated, so no syntax highlighting. \n",
    "But let's throw in a <b>tag</b>.\n",
    "```\n",
    "\"\"\"\n",
    "\n",
    "ds.markdown(markdown, 'Codeblock')"
   ]
  },
  {
   "cell_type": "markdown",
   "metadata": {},
   "source": [
    "## Links"
   ]
  },
  {
   "cell_type": "code",
   "execution_count": 8,
   "metadata": {},
   "outputs": [],
   "source": [
    "markdown = \"\"\"\n",
    "[I'm an inline-style link](https://www.google.com)\n",
    "\n",
    "[I'm an inline-style link with title](https://www.google.com \"Google's Homepage\")\n",
    "\n",
    "[I'm a reference-style link][Arbitrary case-insensitive reference text]\n",
    "\n",
    "[I'm a relative reference to a repository file](../blob/master/LICENSE)\n",
    "\n",
    "[You can use numbers for reference-style link definitions][1]\n",
    "\n",
    "Or leave it empty and use the [link text itself].\n",
    "\n",
    "URLs and URLs in angle brackets will automatically get turned into links. \n",
    "http://www.example.com or <http://www.example.com> and sometimes \n",
    "example.com (but not on Github, for example).\n",
    "\n",
    "Some text to show that the reference links can follow later.\n",
    "\n",
    "[arbitrary case-insensitive reference text]: https://www.mozilla.org\n",
    "[1]: http://slashdot.org\n",
    "[link text itself]: http://www.reddit.com\n",
    "\"\"\"        \n",
    "\n",
    "ds.markdown(markdown, 'Links')"
   ]
  },
  {
   "cell_type": "markdown",
   "metadata": {},
   "source": [
    "## Tables"
   ]
  },
  {
   "cell_type": "code",
   "execution_count": 9,
   "metadata": {},
   "outputs": [],
   "source": [
    "markdown=\"\"\"\n",
    "\n",
    "First Header | Second Header\n",
    "------------ | -------------\n",
    "Content from cell 1 | Content from cell 2\n",
    "Content in the first column | Content in the second column\n",
    "\n",
    "\n",
    "Right aligned columns\n",
    "\n",
    "First Header | Second Header\n",
    "------------: | -------------:\n",
    "Content from cell 1 | Content from cell 2\n",
    "Content in the first column | Content in the second column\n",
    "\n",
    "\"\"\"\n",
    "\n",
    "ds.markdown(markdown, 'Tables')"
   ]
  },
  {
   "cell_type": "markdown",
   "metadata": {},
   "source": [
    "## Images"
   ]
  },
  {
   "cell_type": "code",
   "execution_count": 10,
   "metadata": {},
   "outputs": [],
   "source": [
    "markdown=\"\"\"\n",
    "\n",
    "![Octocat](https://github.githubassets.com/images/icons/emoji/octocat.png)\n",
    "\n",
    "![Octocat](https://github.githubassets.com/images/icons/emoji/octocat.png \"The Octocat\")\n",
    "\n",
    "Images also have a footnote style syntax\n",
    "\n",
    "![Octocat][id]\n",
    "\n",
    "With a reference later in the document defining the URL location\n",
    "\n",
    "[id]: https://github.githubassets.com/images/icons/emoji/octocat.png \"The Octocat\"\n",
    "\n",
    "\"\"\"\n",
    "\n",
    "ds.markdown(markdown, 'Images')"
   ]
  },
  {
   "cell_type": "markdown",
   "metadata": {},
   "source": [
    "## Publish"
   ]
  },
  {
   "cell_type": "code",
   "execution_count": 11,
   "metadata": {
    "colab": {
     "base_uri": "https://localhost:8080/",
     "height": 85
    },
    "colab_type": "code",
    "id": "J2QxjTN7c8eL",
    "outputId": "ca4ab1b0-9d32-46be-992f-38a5cf5475cc",
    "tags": []
   },
   "outputs": [
    {
     "name": "stdout",
     "output_type": "stream",
     "text": [
      "Publishing story Markdown view demo to the examples space...\n",
      "Published at: https://public.deetly.com/examples/9bbea7daa9e93510f064a20a24d457e8 \n",
      "\n"
     ]
    }
   ],
   "source": [
    "ds.publish()"
   ]
  }
 ],
 "metadata": {
  "colab": {
   "authorship_tag": "ABX9TyPrJ49vyNtwntfNHwazW3J3",
   "include_colab_link": true,
   "name": "example_basic_altair_and_plotly.ipynb",
   "provenance": []
  },
  "kernelspec": {
   "display_name": "Python 3",
   "language": "python",
   "name": "python3"
  },
  "language_info": {
   "codemirror_mode": {
    "name": "ipython",
    "version": 3
   },
   "file_extension": ".py",
   "mimetype": "text/x-python",
   "name": "python",
   "nbconvert_exporter": "python",
   "pygments_lexer": "ipython3",
   "version": "3.8.2"
  }
 },
 "nbformat": 4,
 "nbformat_minor": 1
}
