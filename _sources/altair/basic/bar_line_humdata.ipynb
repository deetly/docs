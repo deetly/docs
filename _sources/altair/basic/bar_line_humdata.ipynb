{
 "cells": [
  {
   "cell_type": "markdown",
   "metadata": {},
   "source": [
    "# Bar and line charts. Covid-19 Humdata\n",
    "\n",
    ">Altair example visualization of Covid-19 data from humdata.org\n",
    "\n",
    "Datasource: https://data.humdata.org/dataset/novel-coronavirus-2019-ncov-cases"
   ]
  },
  {
   "cell_type": "code",
   "execution_count": 1,
   "metadata": {},
   "outputs": [],
   "source": [
    "import altair as alt\n",
    "import dateutil\n",
    "import deetly\n",
    "import pandas as pd"
   ]
  },
  {
   "cell_type": "markdown",
   "metadata": {},
   "source": [
    "## Create datapackage"
   ]
  },
  {
   "cell_type": "code",
   "execution_count": 2,
   "metadata": {},
   "outputs": [
    {
     "name": "stdout",
     "output_type": "stream",
     "text": [
      "Missing mandatory props(s): ['title']\n",
      "Missing recommended props(s): ['contactPoint', 'distribution', 'keyword', 'publisher', 'spatial', 'temporal']\n",
      "Property not in DCAT schema: ['name', 'author', 'license', 'keywords']\n",
      "Invalid type: ['String:name', 'String:description', 'String:author', 'String or list of strings:theme', 'String:license', 'String:keywords', 'ISO date or datetime:issued', 'ISO date or datetime:modified']\n"
     ]
    }
   ],
   "source": [
    "# Create datapackage\n",
    "description = \"\"\"\n",
    "Altair visualization of development in covid-19 in Norway\n",
    "\n",
    "Source: https://data.humdata.org/dataset/novel-coronavirus-2019-ncov-cases\n",
    "\n",
    "License: Creative Commons Attribution International\n",
    "\"\"\"\n",
    "\n",
    "package = {\n",
    "    \"name\":\"Altair Covid-19 Norway\", \n",
    "    \"description\":description, \n",
    "    \"author\":\"deetly\", \n",
    "    \"theme\":\"examples\",\n",
    "    \"license\": \"MIT\",\n",
    "    \"keywords\": [\"altair, covid-19, coronavirus, line\"]\n",
    "}\n",
    "\n",
    "dp = deetly.package(package)"
   ]
  },
  {
   "cell_type": "markdown",
   "metadata": {},
   "source": [
    "## Get data"
   ]
  },
  {
   "cell_type": "markdown",
   "metadata": {},
   "source": [
    "Source: https://data.humdata.org/dataset/novel-coronavirus-2019-ncov-cases"
   ]
  },
  {
   "cell_type": "code",
   "execution_count": 3,
   "metadata": {},
   "outputs": [],
   "source": [
    "DATA_URL_CONFIRMED= 'https://data.humdata.org/hxlproxy/api/data-preview.csv?url=https%3A%2F%2Fraw.githubusercontent.com%2FCSSEGISandData%2FCOVID-19%2Fmaster%2Fcsse_covid_19_data%2Fcsse_covid_19_time_series%2Ftime_series_covid19_confirmed_global.csv&filename=time_series_covid19_confirmed_global.csv'"
   ]
  },
  {
   "cell_type": "code",
   "execution_count": 4,
   "metadata": {},
   "outputs": [],
   "source": [
    "DATA_URL_DEATHS = 'https://data.humdata.org/hxlproxy/api/data-preview.csv?url=https%3A%2F%2Fraw.githubusercontent.com%2FCSSEGISandData%2FCOVID-19%2Fmaster%2Fcsse_covid_19_data%2Fcsse_covid_19_time_series%2Ftime_series_covid19_deaths_global.csv&filename=time_series_covid19_deaths_global.csv'"
   ]
  },
  {
   "cell_type": "code",
   "execution_count": 5,
   "metadata": {},
   "outputs": [],
   "source": [
    "DATA_URL_RECOVERED = 'https://data.humdata.org/hxlproxy/api/data-preview.csv?url=https%3A%2F%2Fraw.githubusercontent.com%2FCSSEGISandData%2FCOVID-19%2Fmaster%2Fcsse_covid_19_data%2Fcsse_covid_19_time_series%2Ftime_series_covid19_recovered_global.csv&filename=time_series_covid19_recovered_global.csv'"
   ]
  },
  {
   "cell_type": "code",
   "execution_count": 6,
   "metadata": {},
   "outputs": [],
   "source": [
    "df_confirmed = pd.read_csv(DATA_URL_CONFIRMED)\n",
    "df_deaths = pd.read_csv(DATA_URL_DEATHS)\n",
    "df_recovered = pd.read_csv(DATA_URL_RECOVERED)"
   ]
  },
  {
   "cell_type": "code",
   "execution_count": 7,
   "metadata": {
    "scrolled": true
   },
   "outputs": [
    {
     "data": {
      "text/html": [
       "<div>\n",
       "<style scoped>\n",
       "    .dataframe tbody tr th:only-of-type {\n",
       "        vertical-align: middle;\n",
       "    }\n",
       "\n",
       "    .dataframe tbody tr th {\n",
       "        vertical-align: top;\n",
       "    }\n",
       "\n",
       "    .dataframe thead th {\n",
       "        text-align: right;\n",
       "    }\n",
       "</style>\n",
       "<table border=\"1\" class=\"dataframe\">\n",
       "  <thead>\n",
       "    <tr style=\"text-align: right;\">\n",
       "      <th></th>\n",
       "      <th>Province/State</th>\n",
       "      <th>Country/Region</th>\n",
       "      <th>Lat</th>\n",
       "      <th>Long</th>\n",
       "      <th>1/22/20</th>\n",
       "      <th>1/23/20</th>\n",
       "      <th>1/24/20</th>\n",
       "      <th>1/25/20</th>\n",
       "      <th>1/26/20</th>\n",
       "      <th>1/27/20</th>\n",
       "      <th>...</th>\n",
       "      <th>10/14/20</th>\n",
       "      <th>10/15/20</th>\n",
       "      <th>10/16/20</th>\n",
       "      <th>10/17/20</th>\n",
       "      <th>10/18/20</th>\n",
       "      <th>10/19/20</th>\n",
       "      <th>10/20/20</th>\n",
       "      <th>10/21/20</th>\n",
       "      <th>10/22/20</th>\n",
       "      <th>10/23/20</th>\n",
       "    </tr>\n",
       "  </thead>\n",
       "  <tbody>\n",
       "    <tr>\n",
       "      <th>0</th>\n",
       "      <td>NaN</td>\n",
       "      <td>Afghanistan</td>\n",
       "      <td>33.93911</td>\n",
       "      <td>67.709953</td>\n",
       "      <td>0</td>\n",
       "      <td>0</td>\n",
       "      <td>0</td>\n",
       "      <td>0</td>\n",
       "      <td>0</td>\n",
       "      <td>0</td>\n",
       "      <td>...</td>\n",
       "      <td>39994</td>\n",
       "      <td>40026</td>\n",
       "      <td>40073</td>\n",
       "      <td>40141</td>\n",
       "      <td>40200</td>\n",
       "      <td>40287</td>\n",
       "      <td>40357</td>\n",
       "      <td>40510</td>\n",
       "      <td>40626</td>\n",
       "      <td>40687</td>\n",
       "    </tr>\n",
       "  </tbody>\n",
       "</table>\n",
       "<p>1 rows × 280 columns</p>\n",
       "</div>"
      ],
      "text/plain": [
       "  Province/State Country/Region       Lat       Long  1/22/20  1/23/20  \\\n",
       "0            NaN    Afghanistan  33.93911  67.709953        0        0   \n",
       "\n",
       "   1/24/20  1/25/20  1/26/20  1/27/20  ...  10/14/20  10/15/20  10/16/20  \\\n",
       "0        0        0        0        0  ...     39994     40026     40073   \n",
       "\n",
       "   10/17/20  10/18/20  10/19/20  10/20/20  10/21/20  10/22/20  10/23/20  \n",
       "0     40141     40200     40287     40357     40510     40626     40687  \n",
       "\n",
       "[1 rows x 280 columns]"
      ]
     },
     "execution_count": 7,
     "metadata": {},
     "output_type": "execute_result"
    }
   ],
   "source": [
    "df_confirmed.head(1)"
   ]
  },
  {
   "cell_type": "code",
   "execution_count": 8,
   "metadata": {},
   "outputs": [],
   "source": [
    "selection = df_confirmed[ df_confirmed['Country/Region'].isin(['Norway'])].copy()\n",
    "selection.drop(columns=['Province/State','Lat','Long'], inplace=True)\n",
    "selection['Source'] = 'Humdata'"
   ]
  },
  {
   "cell_type": "code",
   "execution_count": 9,
   "metadata": {},
   "outputs": [
    {
     "data": {
      "text/html": [
       "<div>\n",
       "<style scoped>\n",
       "    .dataframe tbody tr th:only-of-type {\n",
       "        vertical-align: middle;\n",
       "    }\n",
       "\n",
       "    .dataframe tbody tr th {\n",
       "        vertical-align: top;\n",
       "    }\n",
       "\n",
       "    .dataframe thead th {\n",
       "        text-align: right;\n",
       "    }\n",
       "</style>\n",
       "<table border=\"1\" class=\"dataframe\">\n",
       "  <thead>\n",
       "    <tr style=\"text-align: right;\">\n",
       "      <th></th>\n",
       "      <th>Country/Region</th>\n",
       "      <th>1/22/20</th>\n",
       "      <th>1/23/20</th>\n",
       "      <th>1/24/20</th>\n",
       "      <th>1/25/20</th>\n",
       "      <th>1/26/20</th>\n",
       "      <th>1/27/20</th>\n",
       "      <th>1/28/20</th>\n",
       "      <th>1/29/20</th>\n",
       "      <th>1/30/20</th>\n",
       "      <th>...</th>\n",
       "      <th>10/15/20</th>\n",
       "      <th>10/16/20</th>\n",
       "      <th>10/17/20</th>\n",
       "      <th>10/18/20</th>\n",
       "      <th>10/19/20</th>\n",
       "      <th>10/20/20</th>\n",
       "      <th>10/21/20</th>\n",
       "      <th>10/22/20</th>\n",
       "      <th>10/23/20</th>\n",
       "      <th>Source</th>\n",
       "    </tr>\n",
       "  </thead>\n",
       "  <tbody>\n",
       "    <tr>\n",
       "      <th>196</th>\n",
       "      <td>Norway</td>\n",
       "      <td>0</td>\n",
       "      <td>0</td>\n",
       "      <td>0</td>\n",
       "      <td>0</td>\n",
       "      <td>0</td>\n",
       "      <td>0</td>\n",
       "      <td>0</td>\n",
       "      <td>0</td>\n",
       "      <td>0</td>\n",
       "      <td>...</td>\n",
       "      <td>16137</td>\n",
       "      <td>16272</td>\n",
       "      <td>16369</td>\n",
       "      <td>16457</td>\n",
       "      <td>16603</td>\n",
       "      <td>16772</td>\n",
       "      <td>16964</td>\n",
       "      <td>17234</td>\n",
       "      <td>17532</td>\n",
       "      <td>Humdata</td>\n",
       "    </tr>\n",
       "  </tbody>\n",
       "</table>\n",
       "<p>1 rows × 278 columns</p>\n",
       "</div>"
      ],
      "text/plain": [
       "    Country/Region  1/22/20  1/23/20  1/24/20  1/25/20  1/26/20  1/27/20  \\\n",
       "196         Norway        0        0        0        0        0        0   \n",
       "\n",
       "     1/28/20  1/29/20  1/30/20  ...  10/15/20  10/16/20  10/17/20  10/18/20  \\\n",
       "196        0        0        0  ...     16137     16272     16369     16457   \n",
       "\n",
       "     10/19/20  10/20/20  10/21/20  10/22/20  10/23/20   Source  \n",
       "196     16603     16772     16964     17234     17532  Humdata  \n",
       "\n",
       "[1 rows x 278 columns]"
      ]
     },
     "execution_count": 9,
     "metadata": {},
     "output_type": "execute_result"
    }
   ],
   "source": [
    "selection"
   ]
  },
  {
   "cell_type": "code",
   "execution_count": 10,
   "metadata": {},
   "outputs": [],
   "source": [
    "source = pd.melt(selection, id_vars=['Source', 'Country/Region'])\n",
    "source['change'] = source['value']- source['value'].shift(1)\n",
    "source['date'] = source['variable'].apply(lambda x: dateutil.parser.parse(x))"
   ]
  },
  {
   "cell_type": "code",
   "execution_count": 11,
   "metadata": {},
   "outputs": [
    {
     "data": {
      "text/plain": [
       "Timestamp('2020-02-25 00:00:00')"
      ]
     },
     "execution_count": 11,
     "metadata": {},
     "output_type": "execute_result"
    }
   ],
   "source": [
    "first = max(source[source['value']==0]['date'])\n",
    "first"
   ]
  },
  {
   "cell_type": "code",
   "execution_count": 12,
   "metadata": {},
   "outputs": [],
   "source": [
    "source = source[source['date'] >= first]"
   ]
  },
  {
   "cell_type": "markdown",
   "metadata": {},
   "source": [
    "## Create charts"
   ]
  },
  {
   "cell_type": "code",
   "execution_count": 13,
   "metadata": {},
   "outputs": [
    {
     "data": {
      "text/html": [
       "\n",
       "<div id=\"altair-viz-0dd92c8ced2e405a87c504c299d63c45\"></div>\n",
       "<script type=\"text/javascript\">\n",
       "  (function(spec, embedOpt){\n",
       "    let outputDiv = document.currentScript.previousElementSibling;\n",
       "    if (outputDiv.id !== \"altair-viz-0dd92c8ced2e405a87c504c299d63c45\") {\n",
       "      outputDiv = document.getElementById(\"altair-viz-0dd92c8ced2e405a87c504c299d63c45\");\n",
       "    }\n",
       "    const paths = {\n",
       "      \"vega\": \"https://cdn.jsdelivr.net/npm//vega@5?noext\",\n",
       "      \"vega-lib\": \"https://cdn.jsdelivr.net/npm//vega-lib?noext\",\n",
       "      \"vega-lite\": \"https://cdn.jsdelivr.net/npm//vega-lite@4.8.1?noext\",\n",
       "      \"vega-embed\": \"https://cdn.jsdelivr.net/npm//vega-embed@6?noext\",\n",
       "    };\n",
       "\n",
       "    function loadScript(lib) {\n",
       "      return new Promise(function(resolve, reject) {\n",
       "        var s = document.createElement('script');\n",
       "        s.src = paths[lib];\n",
       "        s.async = true;\n",
       "        s.onload = () => resolve(paths[lib]);\n",
       "        s.onerror = () => reject(`Error loading script: ${paths[lib]}`);\n",
       "        document.getElementsByTagName(\"head\")[0].appendChild(s);\n",
       "      });\n",
       "    }\n",
       "\n",
       "    function showError(err) {\n",
       "      outputDiv.innerHTML = `<div class=\"error\" style=\"color:red;\">${err}</div>`;\n",
       "      throw err;\n",
       "    }\n",
       "\n",
       "    function displayChart(vegaEmbed) {\n",
       "      vegaEmbed(outputDiv, spec, embedOpt)\n",
       "        .catch(err => showError(`Javascript Error: ${err.message}<br>This usually means there's a typo in your chart specification. See the javascript console for the full traceback.`));\n",
       "    }\n",
       "\n",
       "    if(typeof define === \"function\" && define.amd) {\n",
       "      requirejs.config({paths});\n",
       "      require([\"vega-embed\"], displayChart, err => showError(`Error loading script: ${err.message}`));\n",
       "    } else if (typeof vegaEmbed === \"function\") {\n",
       "      displayChart(vegaEmbed);\n",
       "    } else {\n",
       "      loadScript(\"vega\")\n",
       "        .then(() => loadScript(\"vega-lite\"))\n",
       "        .then(() => loadScript(\"vega-embed\"))\n",
       "        .catch(showError)\n",
       "        .then(() => displayChart(vegaEmbed));\n",
       "    }\n",
       "  })({\"config\": {\"view\": {\"continuousWidth\": 400, \"continuousHeight\": 300}}, \"data\": {\"name\": \"data-98ead2a8eafe7a96e92c5d66e1764c66\"}, \"mark\": {\"type\": \"bar\", \"color\": \"rgba(124,194,189,1)\"}, \"encoding\": {\"tooltip\": [{\"type\": \"ordinal\", \"field\": \"variable\", \"title\": \"Dato\"}, {\"type\": \"quantitative\", \"field\": \"change\", \"title\": \"Antall\"}], \"x\": {\"type\": \"temporal\", \"axis\": {\"format\": \"%d %b %Y\", \"grid\": false, \"labelAngle\": 45, \"title\": \"\"}, \"field\": \"date\"}, \"y\": {\"type\": \"quantitative\", \"axis\": {\"title\": \"Confirmed cases pr day\"}, \"field\": \"change\"}}, \"$schema\": \"https://vega.github.io/schema/vega-lite/v4.8.1.json\", \"datasets\": {\"data-98ead2a8eafe7a96e92c5d66e1764c66\": [{\"Source\": \"Humdata\", \"Country/Region\": \"Norway\", \"variable\": \"2/25/20\", \"value\": 0, \"change\": 0.0, \"date\": \"2020-02-25T00:00:00\"}, {\"Source\": \"Humdata\", \"Country/Region\": \"Norway\", \"variable\": \"2/26/20\", \"value\": 1, \"change\": 1.0, \"date\": \"2020-02-26T00:00:00\"}, {\"Source\": \"Humdata\", \"Country/Region\": \"Norway\", \"variable\": \"2/27/20\", \"value\": 1, \"change\": 0.0, \"date\": \"2020-02-27T00:00:00\"}, {\"Source\": \"Humdata\", \"Country/Region\": \"Norway\", \"variable\": \"2/28/20\", \"value\": 6, \"change\": 5.0, \"date\": \"2020-02-28T00:00:00\"}, {\"Source\": \"Humdata\", \"Country/Region\": \"Norway\", \"variable\": \"2/29/20\", \"value\": 15, \"change\": 9.0, \"date\": \"2020-02-29T00:00:00\"}, {\"Source\": \"Humdata\", \"Country/Region\": \"Norway\", \"variable\": \"3/1/20\", \"value\": 19, \"change\": 4.0, \"date\": \"2020-03-01T00:00:00\"}, {\"Source\": \"Humdata\", \"Country/Region\": \"Norway\", \"variable\": \"3/2/20\", \"value\": 25, \"change\": 6.0, \"date\": \"2020-03-02T00:00:00\"}, {\"Source\": \"Humdata\", \"Country/Region\": \"Norway\", \"variable\": \"3/3/20\", \"value\": 32, \"change\": 7.0, \"date\": \"2020-03-03T00:00:00\"}, {\"Source\": \"Humdata\", \"Country/Region\": \"Norway\", \"variable\": \"3/4/20\", \"value\": 56, \"change\": 24.0, \"date\": \"2020-03-04T00:00:00\"}, {\"Source\": \"Humdata\", \"Country/Region\": \"Norway\", \"variable\": \"3/5/20\", \"value\": 87, \"change\": 31.0, \"date\": \"2020-03-05T00:00:00\"}, {\"Source\": \"Humdata\", \"Country/Region\": \"Norway\", \"variable\": \"3/6/20\", \"value\": 108, \"change\": 21.0, \"date\": \"2020-03-06T00:00:00\"}, {\"Source\": \"Humdata\", \"Country/Region\": \"Norway\", \"variable\": \"3/7/20\", \"value\": 147, \"change\": 39.0, \"date\": \"2020-03-07T00:00:00\"}, {\"Source\": \"Humdata\", \"Country/Region\": \"Norway\", \"variable\": \"3/8/20\", \"value\": 176, \"change\": 29.0, \"date\": \"2020-03-08T00:00:00\"}, {\"Source\": \"Humdata\", \"Country/Region\": \"Norway\", \"variable\": \"3/9/20\", \"value\": 205, \"change\": 29.0, \"date\": \"2020-03-09T00:00:00\"}, {\"Source\": \"Humdata\", \"Country/Region\": \"Norway\", \"variable\": \"3/10/20\", \"value\": 400, \"change\": 195.0, \"date\": \"2020-03-10T00:00:00\"}, {\"Source\": \"Humdata\", \"Country/Region\": \"Norway\", \"variable\": \"3/11/20\", \"value\": 598, \"change\": 198.0, \"date\": \"2020-03-11T00:00:00\"}, {\"Source\": \"Humdata\", \"Country/Region\": \"Norway\", \"variable\": \"3/12/20\", \"value\": 702, \"change\": 104.0, \"date\": \"2020-03-12T00:00:00\"}, {\"Source\": \"Humdata\", \"Country/Region\": \"Norway\", \"variable\": \"3/13/20\", \"value\": 996, \"change\": 294.0, \"date\": \"2020-03-13T00:00:00\"}, {\"Source\": \"Humdata\", \"Country/Region\": \"Norway\", \"variable\": \"3/14/20\", \"value\": 1090, \"change\": 94.0, \"date\": \"2020-03-14T00:00:00\"}, {\"Source\": \"Humdata\", \"Country/Region\": \"Norway\", \"variable\": \"3/15/20\", \"value\": 1221, \"change\": 131.0, \"date\": \"2020-03-15T00:00:00\"}, {\"Source\": \"Humdata\", \"Country/Region\": \"Norway\", \"variable\": \"3/16/20\", \"value\": 1333, \"change\": 112.0, \"date\": \"2020-03-16T00:00:00\"}, {\"Source\": \"Humdata\", \"Country/Region\": \"Norway\", \"variable\": \"3/17/20\", \"value\": 1463, \"change\": 130.0, \"date\": \"2020-03-17T00:00:00\"}, {\"Source\": \"Humdata\", \"Country/Region\": \"Norway\", \"variable\": \"3/18/20\", \"value\": 1550, \"change\": 87.0, \"date\": \"2020-03-18T00:00:00\"}, {\"Source\": \"Humdata\", \"Country/Region\": \"Norway\", \"variable\": \"3/19/20\", \"value\": 1746, \"change\": 196.0, \"date\": \"2020-03-19T00:00:00\"}, {\"Source\": \"Humdata\", \"Country/Region\": \"Norway\", \"variable\": \"3/20/20\", \"value\": 1914, \"change\": 168.0, \"date\": \"2020-03-20T00:00:00\"}, {\"Source\": \"Humdata\", \"Country/Region\": \"Norway\", \"variable\": \"3/21/20\", \"value\": 2118, \"change\": 204.0, \"date\": \"2020-03-21T00:00:00\"}, {\"Source\": \"Humdata\", \"Country/Region\": \"Norway\", \"variable\": \"3/22/20\", \"value\": 2385, \"change\": 267.0, \"date\": \"2020-03-22T00:00:00\"}, {\"Source\": \"Humdata\", \"Country/Region\": \"Norway\", \"variable\": \"3/23/20\", \"value\": 2621, \"change\": 236.0, \"date\": \"2020-03-23T00:00:00\"}, {\"Source\": \"Humdata\", \"Country/Region\": \"Norway\", \"variable\": \"3/24/20\", \"value\": 2863, \"change\": 242.0, \"date\": \"2020-03-24T00:00:00\"}, {\"Source\": \"Humdata\", \"Country/Region\": \"Norway\", \"variable\": \"3/25/20\", \"value\": 3084, \"change\": 221.0, \"date\": \"2020-03-25T00:00:00\"}, {\"Source\": \"Humdata\", \"Country/Region\": \"Norway\", \"variable\": \"3/26/20\", \"value\": 3369, \"change\": 285.0, \"date\": \"2020-03-26T00:00:00\"}, {\"Source\": \"Humdata\", \"Country/Region\": \"Norway\", \"variable\": \"3/27/20\", \"value\": 3755, \"change\": 386.0, \"date\": \"2020-03-27T00:00:00\"}, {\"Source\": \"Humdata\", \"Country/Region\": \"Norway\", \"variable\": \"3/28/20\", \"value\": 4015, \"change\": 260.0, \"date\": \"2020-03-28T00:00:00\"}, {\"Source\": \"Humdata\", \"Country/Region\": \"Norway\", \"variable\": \"3/29/20\", \"value\": 4284, \"change\": 269.0, \"date\": \"2020-03-29T00:00:00\"}, {\"Source\": \"Humdata\", \"Country/Region\": \"Norway\", \"variable\": \"3/30/20\", \"value\": 4445, \"change\": 161.0, \"date\": \"2020-03-30T00:00:00\"}, {\"Source\": \"Humdata\", \"Country/Region\": \"Norway\", \"variable\": \"3/31/20\", \"value\": 4641, \"change\": 196.0, \"date\": \"2020-03-31T00:00:00\"}, {\"Source\": \"Humdata\", \"Country/Region\": \"Norway\", \"variable\": \"4/1/20\", \"value\": 4863, \"change\": 222.0, \"date\": \"2020-04-01T00:00:00\"}, {\"Source\": \"Humdata\", \"Country/Region\": \"Norway\", \"variable\": \"4/2/20\", \"value\": 5147, \"change\": 284.0, \"date\": \"2020-04-02T00:00:00\"}, {\"Source\": \"Humdata\", \"Country/Region\": \"Norway\", \"variable\": \"4/3/20\", \"value\": 5370, \"change\": 223.0, \"date\": \"2020-04-03T00:00:00\"}, {\"Source\": \"Humdata\", \"Country/Region\": \"Norway\", \"variable\": \"4/4/20\", \"value\": 5550, \"change\": 180.0, \"date\": \"2020-04-04T00:00:00\"}, {\"Source\": \"Humdata\", \"Country/Region\": \"Norway\", \"variable\": \"4/5/20\", \"value\": 5687, \"change\": 137.0, \"date\": \"2020-04-05T00:00:00\"}, {\"Source\": \"Humdata\", \"Country/Region\": \"Norway\", \"variable\": \"4/6/20\", \"value\": 5865, \"change\": 178.0, \"date\": \"2020-04-06T00:00:00\"}, {\"Source\": \"Humdata\", \"Country/Region\": \"Norway\", \"variable\": \"4/7/20\", \"value\": 6086, \"change\": 221.0, \"date\": \"2020-04-07T00:00:00\"}, {\"Source\": \"Humdata\", \"Country/Region\": \"Norway\", \"variable\": \"4/8/20\", \"value\": 6086, \"change\": 0.0, \"date\": \"2020-04-08T00:00:00\"}, {\"Source\": \"Humdata\", \"Country/Region\": \"Norway\", \"variable\": \"4/9/20\", \"value\": 6211, \"change\": 125.0, \"date\": \"2020-04-09T00:00:00\"}, {\"Source\": \"Humdata\", \"Country/Region\": \"Norway\", \"variable\": \"4/10/20\", \"value\": 6314, \"change\": 103.0, \"date\": \"2020-04-10T00:00:00\"}, {\"Source\": \"Humdata\", \"Country/Region\": \"Norway\", \"variable\": \"4/11/20\", \"value\": 6409, \"change\": 95.0, \"date\": \"2020-04-11T00:00:00\"}, {\"Source\": \"Humdata\", \"Country/Region\": \"Norway\", \"variable\": \"4/12/20\", \"value\": 6525, \"change\": 116.0, \"date\": \"2020-04-12T00:00:00\"}, {\"Source\": \"Humdata\", \"Country/Region\": \"Norway\", \"variable\": \"4/13/20\", \"value\": 6603, \"change\": 78.0, \"date\": \"2020-04-13T00:00:00\"}, {\"Source\": \"Humdata\", \"Country/Region\": \"Norway\", \"variable\": \"4/14/20\", \"value\": 6623, \"change\": 20.0, \"date\": \"2020-04-14T00:00:00\"}, {\"Source\": \"Humdata\", \"Country/Region\": \"Norway\", \"variable\": \"4/15/20\", \"value\": 6740, \"change\": 117.0, \"date\": \"2020-04-15T00:00:00\"}, {\"Source\": \"Humdata\", \"Country/Region\": \"Norway\", \"variable\": \"4/16/20\", \"value\": 6896, \"change\": 156.0, \"date\": \"2020-04-16T00:00:00\"}, {\"Source\": \"Humdata\", \"Country/Region\": \"Norway\", \"variable\": \"4/17/20\", \"value\": 6937, \"change\": 41.0, \"date\": \"2020-04-17T00:00:00\"}, {\"Source\": \"Humdata\", \"Country/Region\": \"Norway\", \"variable\": \"4/18/20\", \"value\": 7036, \"change\": 99.0, \"date\": \"2020-04-18T00:00:00\"}, {\"Source\": \"Humdata\", \"Country/Region\": \"Norway\", \"variable\": \"4/19/20\", \"value\": 7078, \"change\": 42.0, \"date\": \"2020-04-19T00:00:00\"}, {\"Source\": \"Humdata\", \"Country/Region\": \"Norway\", \"variable\": \"4/20/20\", \"value\": 7156, \"change\": 78.0, \"date\": \"2020-04-20T00:00:00\"}, {\"Source\": \"Humdata\", \"Country/Region\": \"Norway\", \"variable\": \"4/21/20\", \"value\": 7191, \"change\": 35.0, \"date\": \"2020-04-21T00:00:00\"}, {\"Source\": \"Humdata\", \"Country/Region\": \"Norway\", \"variable\": \"4/22/20\", \"value\": 7338, \"change\": 147.0, \"date\": \"2020-04-22T00:00:00\"}, {\"Source\": \"Humdata\", \"Country/Region\": \"Norway\", \"variable\": \"4/23/20\", \"value\": 7401, \"change\": 63.0, \"date\": \"2020-04-23T00:00:00\"}, {\"Source\": \"Humdata\", \"Country/Region\": \"Norway\", \"variable\": \"4/24/20\", \"value\": 7463, \"change\": 62.0, \"date\": \"2020-04-24T00:00:00\"}, {\"Source\": \"Humdata\", \"Country/Region\": \"Norway\", \"variable\": \"4/25/20\", \"value\": 7499, \"change\": 36.0, \"date\": \"2020-04-25T00:00:00\"}, {\"Source\": \"Humdata\", \"Country/Region\": \"Norway\", \"variable\": \"4/26/20\", \"value\": 7527, \"change\": 28.0, \"date\": \"2020-04-26T00:00:00\"}, {\"Source\": \"Humdata\", \"Country/Region\": \"Norway\", \"variable\": \"4/27/20\", \"value\": 7599, \"change\": 72.0, \"date\": \"2020-04-27T00:00:00\"}, {\"Source\": \"Humdata\", \"Country/Region\": \"Norway\", \"variable\": \"4/28/20\", \"value\": 7660, \"change\": 61.0, \"date\": \"2020-04-28T00:00:00\"}, {\"Source\": \"Humdata\", \"Country/Region\": \"Norway\", \"variable\": \"4/29/20\", \"value\": 7710, \"change\": 50.0, \"date\": \"2020-04-29T00:00:00\"}, {\"Source\": \"Humdata\", \"Country/Region\": \"Norway\", \"variable\": \"4/30/20\", \"value\": 7738, \"change\": 28.0, \"date\": \"2020-04-30T00:00:00\"}, {\"Source\": \"Humdata\", \"Country/Region\": \"Norway\", \"variable\": \"5/1/20\", \"value\": 7783, \"change\": 45.0, \"date\": \"2020-05-01T00:00:00\"}, {\"Source\": \"Humdata\", \"Country/Region\": \"Norway\", \"variable\": \"5/2/20\", \"value\": 7809, \"change\": 26.0, \"date\": \"2020-05-02T00:00:00\"}, {\"Source\": \"Humdata\", \"Country/Region\": \"Norway\", \"variable\": \"5/3/20\", \"value\": 7847, \"change\": 38.0, \"date\": \"2020-05-03T00:00:00\"}, {\"Source\": \"Humdata\", \"Country/Region\": \"Norway\", \"variable\": \"5/4/20\", \"value\": 7904, \"change\": 57.0, \"date\": \"2020-05-04T00:00:00\"}, {\"Source\": \"Humdata\", \"Country/Region\": \"Norway\", \"variable\": \"5/5/20\", \"value\": 7955, \"change\": 51.0, \"date\": \"2020-05-05T00:00:00\"}, {\"Source\": \"Humdata\", \"Country/Region\": \"Norway\", \"variable\": \"5/6/20\", \"value\": 7996, \"change\": 41.0, \"date\": \"2020-05-06T00:00:00\"}, {\"Source\": \"Humdata\", \"Country/Region\": \"Norway\", \"variable\": \"5/7/20\", \"value\": 8034, \"change\": 38.0, \"date\": \"2020-05-07T00:00:00\"}, {\"Source\": \"Humdata\", \"Country/Region\": \"Norway\", \"variable\": \"5/8/20\", \"value\": 8070, \"change\": 36.0, \"date\": \"2020-05-08T00:00:00\"}, {\"Source\": \"Humdata\", \"Country/Region\": \"Norway\", \"variable\": \"5/9/20\", \"value\": 8099, \"change\": 29.0, \"date\": \"2020-05-09T00:00:00\"}, {\"Source\": \"Humdata\", \"Country/Region\": \"Norway\", \"variable\": \"5/10/20\", \"value\": 8105, \"change\": 6.0, \"date\": \"2020-05-10T00:00:00\"}, {\"Source\": \"Humdata\", \"Country/Region\": \"Norway\", \"variable\": \"5/11/20\", \"value\": 8132, \"change\": 27.0, \"date\": \"2020-05-11T00:00:00\"}, {\"Source\": \"Humdata\", \"Country/Region\": \"Norway\", \"variable\": \"5/12/20\", \"value\": 8157, \"change\": 25.0, \"date\": \"2020-05-12T00:00:00\"}, {\"Source\": \"Humdata\", \"Country/Region\": \"Norway\", \"variable\": \"5/13/20\", \"value\": 8175, \"change\": 18.0, \"date\": \"2020-05-13T00:00:00\"}, {\"Source\": \"Humdata\", \"Country/Region\": \"Norway\", \"variable\": \"5/14/20\", \"value\": 8196, \"change\": 21.0, \"date\": \"2020-05-14T00:00:00\"}, {\"Source\": \"Humdata\", \"Country/Region\": \"Norway\", \"variable\": \"5/15/20\", \"value\": 8219, \"change\": 23.0, \"date\": \"2020-05-15T00:00:00\"}, {\"Source\": \"Humdata\", \"Country/Region\": \"Norway\", \"variable\": \"5/16/20\", \"value\": 8237, \"change\": 18.0, \"date\": \"2020-05-16T00:00:00\"}, {\"Source\": \"Humdata\", \"Country/Region\": \"Norway\", \"variable\": \"5/17/20\", \"value\": 8249, \"change\": 12.0, \"date\": \"2020-05-17T00:00:00\"}, {\"Source\": \"Humdata\", \"Country/Region\": \"Norway\", \"variable\": \"5/18/20\", \"value\": 8257, \"change\": 8.0, \"date\": \"2020-05-18T00:00:00\"}, {\"Source\": \"Humdata\", \"Country/Region\": \"Norway\", \"variable\": \"5/19/20\", \"value\": 8267, \"change\": 10.0, \"date\": \"2020-05-19T00:00:00\"}, {\"Source\": \"Humdata\", \"Country/Region\": \"Norway\", \"variable\": \"5/20/20\", \"value\": 8281, \"change\": 14.0, \"date\": \"2020-05-20T00:00:00\"}, {\"Source\": \"Humdata\", \"Country/Region\": \"Norway\", \"variable\": \"5/21/20\", \"value\": 8309, \"change\": 28.0, \"date\": \"2020-05-21T00:00:00\"}, {\"Source\": \"Humdata\", \"Country/Region\": \"Norway\", \"variable\": \"5/22/20\", \"value\": 8332, \"change\": 23.0, \"date\": \"2020-05-22T00:00:00\"}, {\"Source\": \"Humdata\", \"Country/Region\": \"Norway\", \"variable\": \"5/23/20\", \"value\": 8346, \"change\": 14.0, \"date\": \"2020-05-23T00:00:00\"}, {\"Source\": \"Humdata\", \"Country/Region\": \"Norway\", \"variable\": \"5/24/20\", \"value\": 8352, \"change\": 6.0, \"date\": \"2020-05-24T00:00:00\"}, {\"Source\": \"Humdata\", \"Country/Region\": \"Norway\", \"variable\": \"5/25/20\", \"value\": 8364, \"change\": 12.0, \"date\": \"2020-05-25T00:00:00\"}, {\"Source\": \"Humdata\", \"Country/Region\": \"Norway\", \"variable\": \"5/26/20\", \"value\": 8383, \"change\": 19.0, \"date\": \"2020-05-26T00:00:00\"}, {\"Source\": \"Humdata\", \"Country/Region\": \"Norway\", \"variable\": \"5/27/20\", \"value\": 8401, \"change\": 18.0, \"date\": \"2020-05-27T00:00:00\"}, {\"Source\": \"Humdata\", \"Country/Region\": \"Norway\", \"variable\": \"5/28/20\", \"value\": 8411, \"change\": 10.0, \"date\": \"2020-05-28T00:00:00\"}, {\"Source\": \"Humdata\", \"Country/Region\": \"Norway\", \"variable\": \"5/29/20\", \"value\": 8422, \"change\": 11.0, \"date\": \"2020-05-29T00:00:00\"}, {\"Source\": \"Humdata\", \"Country/Region\": \"Norway\", \"variable\": \"5/30/20\", \"value\": 8437, \"change\": 15.0, \"date\": \"2020-05-30T00:00:00\"}, {\"Source\": \"Humdata\", \"Country/Region\": \"Norway\", \"variable\": \"5/31/20\", \"value\": 8440, \"change\": 3.0, \"date\": \"2020-05-31T00:00:00\"}, {\"Source\": \"Humdata\", \"Country/Region\": \"Norway\", \"variable\": \"6/1/20\", \"value\": 8446, \"change\": 6.0, \"date\": \"2020-06-01T00:00:00\"}, {\"Source\": \"Humdata\", \"Country/Region\": \"Norway\", \"variable\": \"6/2/20\", \"value\": 8455, \"change\": 9.0, \"date\": \"2020-06-02T00:00:00\"}, {\"Source\": \"Humdata\", \"Country/Region\": \"Norway\", \"variable\": \"6/3/20\", \"value\": 8477, \"change\": 22.0, \"date\": \"2020-06-03T00:00:00\"}, {\"Source\": \"Humdata\", \"Country/Region\": \"Norway\", \"variable\": \"6/4/20\", \"value\": 8504, \"change\": 27.0, \"date\": \"2020-06-04T00:00:00\"}, {\"Source\": \"Humdata\", \"Country/Region\": \"Norway\", \"variable\": \"6/5/20\", \"value\": 8522, \"change\": 18.0, \"date\": \"2020-06-05T00:00:00\"}, {\"Source\": \"Humdata\", \"Country/Region\": \"Norway\", \"variable\": \"6/6/20\", \"value\": 8531, \"change\": 9.0, \"date\": \"2020-06-06T00:00:00\"}, {\"Source\": \"Humdata\", \"Country/Region\": \"Norway\", \"variable\": \"6/7/20\", \"value\": 8547, \"change\": 16.0, \"date\": \"2020-06-07T00:00:00\"}, {\"Source\": \"Humdata\", \"Country/Region\": \"Norway\", \"variable\": \"6/8/20\", \"value\": 8561, \"change\": 14.0, \"date\": \"2020-06-08T00:00:00\"}, {\"Source\": \"Humdata\", \"Country/Region\": \"Norway\", \"variable\": \"6/9/20\", \"value\": 8576, \"change\": 15.0, \"date\": \"2020-06-09T00:00:00\"}, {\"Source\": \"Humdata\", \"Country/Region\": \"Norway\", \"variable\": \"6/10/20\", \"value\": 8594, \"change\": 18.0, \"date\": \"2020-06-10T00:00:00\"}, {\"Source\": \"Humdata\", \"Country/Region\": \"Norway\", \"variable\": \"6/11/20\", \"value\": 8608, \"change\": 14.0, \"date\": \"2020-06-11T00:00:00\"}, {\"Source\": \"Humdata\", \"Country/Region\": \"Norway\", \"variable\": \"6/12/20\", \"value\": 8620, \"change\": 12.0, \"date\": \"2020-06-12T00:00:00\"}, {\"Source\": \"Humdata\", \"Country/Region\": \"Norway\", \"variable\": \"6/13/20\", \"value\": 8628, \"change\": 8.0, \"date\": \"2020-06-13T00:00:00\"}, {\"Source\": \"Humdata\", \"Country/Region\": \"Norway\", \"variable\": \"6/14/20\", \"value\": 8631, \"change\": 3.0, \"date\": \"2020-06-14T00:00:00\"}, {\"Source\": \"Humdata\", \"Country/Region\": \"Norway\", \"variable\": \"6/15/20\", \"value\": 8647, \"change\": 16.0, \"date\": \"2020-06-15T00:00:00\"}, {\"Source\": \"Humdata\", \"Country/Region\": \"Norway\", \"variable\": \"6/16/20\", \"value\": 8660, \"change\": 13.0, \"date\": \"2020-06-16T00:00:00\"}, {\"Source\": \"Humdata\", \"Country/Region\": \"Norway\", \"variable\": \"6/17/20\", \"value\": 8692, \"change\": 32.0, \"date\": \"2020-06-17T00:00:00\"}, {\"Source\": \"Humdata\", \"Country/Region\": \"Norway\", \"variable\": \"6/18/20\", \"value\": 8708, \"change\": 16.0, \"date\": \"2020-06-18T00:00:00\"}, {\"Source\": \"Humdata\", \"Country/Region\": \"Norway\", \"variable\": \"6/19/20\", \"value\": 8726, \"change\": 18.0, \"date\": \"2020-06-19T00:00:00\"}, {\"Source\": \"Humdata\", \"Country/Region\": \"Norway\", \"variable\": \"6/20/20\", \"value\": 8742, \"change\": 16.0, \"date\": \"2020-06-20T00:00:00\"}, {\"Source\": \"Humdata\", \"Country/Region\": \"Norway\", \"variable\": \"6/21/20\", \"value\": 8745, \"change\": 3.0, \"date\": \"2020-06-21T00:00:00\"}, {\"Source\": \"Humdata\", \"Country/Region\": \"Norway\", \"variable\": \"6/22/20\", \"value\": 8751, \"change\": 6.0, \"date\": \"2020-06-22T00:00:00\"}, {\"Source\": \"Humdata\", \"Country/Region\": \"Norway\", \"variable\": \"6/23/20\", \"value\": 8772, \"change\": 21.0, \"date\": \"2020-06-23T00:00:00\"}, {\"Source\": \"Humdata\", \"Country/Region\": \"Norway\", \"variable\": \"6/24/20\", \"value\": 8788, \"change\": 16.0, \"date\": \"2020-06-24T00:00:00\"}, {\"Source\": \"Humdata\", \"Country/Region\": \"Norway\", \"variable\": \"6/25/20\", \"value\": 8788, \"change\": 0.0, \"date\": \"2020-06-25T00:00:00\"}, {\"Source\": \"Humdata\", \"Country/Region\": \"Norway\", \"variable\": \"6/26/20\", \"value\": 8832, \"change\": 44.0, \"date\": \"2020-06-26T00:00:00\"}, {\"Source\": \"Humdata\", \"Country/Region\": \"Norway\", \"variable\": \"6/27/20\", \"value\": 8846, \"change\": 14.0, \"date\": \"2020-06-27T00:00:00\"}, {\"Source\": \"Humdata\", \"Country/Region\": \"Norway\", \"variable\": \"6/28/20\", \"value\": 8855, \"change\": 9.0, \"date\": \"2020-06-28T00:00:00\"}, {\"Source\": \"Humdata\", \"Country/Region\": \"Norway\", \"variable\": \"6/29/20\", \"value\": 8862, \"change\": 7.0, \"date\": \"2020-06-29T00:00:00\"}, {\"Source\": \"Humdata\", \"Country/Region\": \"Norway\", \"variable\": \"6/30/20\", \"value\": 8879, \"change\": 17.0, \"date\": \"2020-06-30T00:00:00\"}, {\"Source\": \"Humdata\", \"Country/Region\": \"Norway\", \"variable\": \"7/1/20\", \"value\": 8896, \"change\": 17.0, \"date\": \"2020-07-01T00:00:00\"}, {\"Source\": \"Humdata\", \"Country/Region\": \"Norway\", \"variable\": \"7/2/20\", \"value\": 8902, \"change\": 6.0, \"date\": \"2020-07-02T00:00:00\"}, {\"Source\": \"Humdata\", \"Country/Region\": \"Norway\", \"variable\": \"7/3/20\", \"value\": 8921, \"change\": 19.0, \"date\": \"2020-07-03T00:00:00\"}, {\"Source\": \"Humdata\", \"Country/Region\": \"Norway\", \"variable\": \"7/4/20\", \"value\": 8926, \"change\": 5.0, \"date\": \"2020-07-04T00:00:00\"}, {\"Source\": \"Humdata\", \"Country/Region\": \"Norway\", \"variable\": \"7/5/20\", \"value\": 8930, \"change\": 4.0, \"date\": \"2020-07-05T00:00:00\"}, {\"Source\": \"Humdata\", \"Country/Region\": \"Norway\", \"variable\": \"7/6/20\", \"value\": 8936, \"change\": 6.0, \"date\": \"2020-07-06T00:00:00\"}, {\"Source\": \"Humdata\", \"Country/Region\": \"Norway\", \"variable\": \"7/7/20\", \"value\": 8947, \"change\": 11.0, \"date\": \"2020-07-07T00:00:00\"}, {\"Source\": \"Humdata\", \"Country/Region\": \"Norway\", \"variable\": \"7/8/20\", \"value\": 8950, \"change\": 3.0, \"date\": \"2020-07-08T00:00:00\"}, {\"Source\": \"Humdata\", \"Country/Region\": \"Norway\", \"variable\": \"7/9/20\", \"value\": 8965, \"change\": 15.0, \"date\": \"2020-07-09T00:00:00\"}, {\"Source\": \"Humdata\", \"Country/Region\": \"Norway\", \"variable\": \"7/10/20\", \"value\": 8974, \"change\": 9.0, \"date\": \"2020-07-10T00:00:00\"}, {\"Source\": \"Humdata\", \"Country/Region\": \"Norway\", \"variable\": \"7/11/20\", \"value\": 8977, \"change\": 3.0, \"date\": \"2020-07-11T00:00:00\"}, {\"Source\": \"Humdata\", \"Country/Region\": \"Norway\", \"variable\": \"7/12/20\", \"value\": 8981, \"change\": 4.0, \"date\": \"2020-07-12T00:00:00\"}, {\"Source\": \"Humdata\", \"Country/Region\": \"Norway\", \"variable\": \"7/13/20\", \"value\": 8984, \"change\": 3.0, \"date\": \"2020-07-13T00:00:00\"}, {\"Source\": \"Humdata\", \"Country/Region\": \"Norway\", \"variable\": \"7/14/20\", \"value\": 9001, \"change\": 17.0, \"date\": \"2020-07-14T00:00:00\"}, {\"Source\": \"Humdata\", \"Country/Region\": \"Norway\", \"variable\": \"7/15/20\", \"value\": 9011, \"change\": 10.0, \"date\": \"2020-07-15T00:00:00\"}, {\"Source\": \"Humdata\", \"Country/Region\": \"Norway\", \"variable\": \"7/16/20\", \"value\": 9015, \"change\": 4.0, \"date\": \"2020-07-16T00:00:00\"}, {\"Source\": \"Humdata\", \"Country/Region\": \"Norway\", \"variable\": \"7/17/20\", \"value\": 9025, \"change\": 10.0, \"date\": \"2020-07-17T00:00:00\"}, {\"Source\": \"Humdata\", \"Country/Region\": \"Norway\", \"variable\": \"7/18/20\", \"value\": 9028, \"change\": 3.0, \"date\": \"2020-07-18T00:00:00\"}, {\"Source\": \"Humdata\", \"Country/Region\": \"Norway\", \"variable\": \"7/19/20\", \"value\": 9028, \"change\": 0.0, \"date\": \"2020-07-19T00:00:00\"}, {\"Source\": \"Humdata\", \"Country/Region\": \"Norway\", \"variable\": \"7/20/20\", \"value\": 9034, \"change\": 6.0, \"date\": \"2020-07-20T00:00:00\"}, {\"Source\": \"Humdata\", \"Country/Region\": \"Norway\", \"variable\": \"7/21/20\", \"value\": 9053, \"change\": 19.0, \"date\": \"2020-07-21T00:00:00\"}, {\"Source\": \"Humdata\", \"Country/Region\": \"Norway\", \"variable\": \"7/22/20\", \"value\": 9059, \"change\": 6.0, \"date\": \"2020-07-22T00:00:00\"}, {\"Source\": \"Humdata\", \"Country/Region\": \"Norway\", \"variable\": \"7/23/20\", \"value\": 9085, \"change\": 26.0, \"date\": \"2020-07-23T00:00:00\"}, {\"Source\": \"Humdata\", \"Country/Region\": \"Norway\", \"variable\": \"7/24/20\", \"value\": 9092, \"change\": 7.0, \"date\": \"2020-07-24T00:00:00\"}, {\"Source\": \"Humdata\", \"Country/Region\": \"Norway\", \"variable\": \"7/25/20\", \"value\": 9111, \"change\": 19.0, \"date\": \"2020-07-25T00:00:00\"}, {\"Source\": \"Humdata\", \"Country/Region\": \"Norway\", \"variable\": \"7/26/20\", \"value\": 9117, \"change\": 6.0, \"date\": \"2020-07-26T00:00:00\"}, {\"Source\": \"Humdata\", \"Country/Region\": \"Norway\", \"variable\": \"7/27/20\", \"value\": 9132, \"change\": 15.0, \"date\": \"2020-07-27T00:00:00\"}, {\"Source\": \"Humdata\", \"Country/Region\": \"Norway\", \"variable\": \"7/28/20\", \"value\": 9150, \"change\": 18.0, \"date\": \"2020-07-28T00:00:00\"}, {\"Source\": \"Humdata\", \"Country/Region\": \"Norway\", \"variable\": \"7/29/20\", \"value\": 9172, \"change\": 22.0, \"date\": \"2020-07-29T00:00:00\"}, {\"Source\": \"Humdata\", \"Country/Region\": \"Norway\", \"variable\": \"7/30/20\", \"value\": 9208, \"change\": 36.0, \"date\": \"2020-07-30T00:00:00\"}, {\"Source\": \"Humdata\", \"Country/Region\": \"Norway\", \"variable\": \"7/31/20\", \"value\": 9240, \"change\": 32.0, \"date\": \"2020-07-31T00:00:00\"}, {\"Source\": \"Humdata\", \"Country/Region\": \"Norway\", \"variable\": \"8/1/20\", \"value\": 9253, \"change\": 13.0, \"date\": \"2020-08-01T00:00:00\"}, {\"Source\": \"Humdata\", \"Country/Region\": \"Norway\", \"variable\": \"8/2/20\", \"value\": 9268, \"change\": 15.0, \"date\": \"2020-08-02T00:00:00\"}, {\"Source\": \"Humdata\", \"Country/Region\": \"Norway\", \"variable\": \"8/3/20\", \"value\": 9334, \"change\": 66.0, \"date\": \"2020-08-03T00:00:00\"}, {\"Source\": \"Humdata\", \"Country/Region\": \"Norway\", \"variable\": \"8/4/20\", \"value\": 9362, \"change\": 28.0, \"date\": \"2020-08-04T00:00:00\"}, {\"Source\": \"Humdata\", \"Country/Region\": \"Norway\", \"variable\": \"8/5/20\", \"value\": 9409, \"change\": 47.0, \"date\": \"2020-08-05T00:00:00\"}, {\"Source\": \"Humdata\", \"Country/Region\": \"Norway\", \"variable\": \"8/6/20\", \"value\": 9468, \"change\": 59.0, \"date\": \"2020-08-06T00:00:00\"}, {\"Source\": \"Humdata\", \"Country/Region\": \"Norway\", \"variable\": \"8/7/20\", \"value\": 9551, \"change\": 83.0, \"date\": \"2020-08-07T00:00:00\"}, {\"Source\": \"Humdata\", \"Country/Region\": \"Norway\", \"variable\": \"8/8/20\", \"value\": 9599, \"change\": 48.0, \"date\": \"2020-08-08T00:00:00\"}, {\"Source\": \"Humdata\", \"Country/Region\": \"Norway\", \"variable\": \"8/9/20\", \"value\": 9638, \"change\": 39.0, \"date\": \"2020-08-09T00:00:00\"}, {\"Source\": \"Humdata\", \"Country/Region\": \"Norway\", \"variable\": \"8/10/20\", \"value\": 9684, \"change\": 46.0, \"date\": \"2020-08-10T00:00:00\"}, {\"Source\": \"Humdata\", \"Country/Region\": \"Norway\", \"variable\": \"8/11/20\", \"value\": 9751, \"change\": 67.0, \"date\": \"2020-08-11T00:00:00\"}, {\"Source\": \"Humdata\", \"Country/Region\": \"Norway\", \"variable\": \"8/12/20\", \"value\": 9783, \"change\": 32.0, \"date\": \"2020-08-12T00:00:00\"}, {\"Source\": \"Humdata\", \"Country/Region\": \"Norway\", \"variable\": \"8/13/20\", \"value\": 9851, \"change\": 68.0, \"date\": \"2020-08-13T00:00:00\"}, {\"Source\": \"Humdata\", \"Country/Region\": \"Norway\", \"variable\": \"8/14/20\", \"value\": 9908, \"change\": 57.0, \"date\": \"2020-08-14T00:00:00\"}, {\"Source\": \"Humdata\", \"Country/Region\": \"Norway\", \"variable\": \"8/15/20\", \"value\": 9965, \"change\": 57.0, \"date\": \"2020-08-15T00:00:00\"}, {\"Source\": \"Humdata\", \"Country/Region\": \"Norway\", \"variable\": \"8/16/20\", \"value\": 10005, \"change\": 40.0, \"date\": \"2020-08-16T00:00:00\"}, {\"Source\": \"Humdata\", \"Country/Region\": \"Norway\", \"variable\": \"8/17/20\", \"value\": 10060, \"change\": 55.0, \"date\": \"2020-08-17T00:00:00\"}, {\"Source\": \"Humdata\", \"Country/Region\": \"Norway\", \"variable\": \"8/18/20\", \"value\": 10111, \"change\": 51.0, \"date\": \"2020-08-18T00:00:00\"}, {\"Source\": \"Humdata\", \"Country/Region\": \"Norway\", \"variable\": \"8/19/20\", \"value\": 10162, \"change\": 51.0, \"date\": \"2020-08-19T00:00:00\"}, {\"Source\": \"Humdata\", \"Country/Region\": \"Norway\", \"variable\": \"8/20/20\", \"value\": 10197, \"change\": 35.0, \"date\": \"2020-08-20T00:00:00\"}, {\"Source\": \"Humdata\", \"Country/Region\": \"Norway\", \"variable\": \"8/21/20\", \"value\": 10275, \"change\": 78.0, \"date\": \"2020-08-21T00:00:00\"}, {\"Source\": \"Humdata\", \"Country/Region\": \"Norway\", \"variable\": \"8/22/20\", \"value\": 10299, \"change\": 24.0, \"date\": \"2020-08-22T00:00:00\"}, {\"Source\": \"Humdata\", \"Country/Region\": \"Norway\", \"variable\": \"8/23/20\", \"value\": 10323, \"change\": 24.0, \"date\": \"2020-08-23T00:00:00\"}, {\"Source\": \"Humdata\", \"Country/Region\": \"Norway\", \"variable\": \"8/24/20\", \"value\": 10395, \"change\": 72.0, \"date\": \"2020-08-24T00:00:00\"}, {\"Source\": \"Humdata\", \"Country/Region\": \"Norway\", \"variable\": \"8/25/20\", \"value\": 10454, \"change\": 59.0, \"date\": \"2020-08-25T00:00:00\"}, {\"Source\": \"Humdata\", \"Country/Region\": \"Norway\", \"variable\": \"8/26/20\", \"value\": 10504, \"change\": 50.0, \"date\": \"2020-08-26T00:00:00\"}, {\"Source\": \"Humdata\", \"Country/Region\": \"Norway\", \"variable\": \"8/27/20\", \"value\": 10542, \"change\": 38.0, \"date\": \"2020-08-27T00:00:00\"}, {\"Source\": \"Humdata\", \"Country/Region\": \"Norway\", \"variable\": \"8/28/20\", \"value\": 10582, \"change\": 40.0, \"date\": \"2020-08-28T00:00:00\"}, {\"Source\": \"Humdata\", \"Country/Region\": \"Norway\", \"variable\": \"8/29/20\", \"value\": 10611, \"change\": 29.0, \"date\": \"2020-08-29T00:00:00\"}, {\"Source\": \"Humdata\", \"Country/Region\": \"Norway\", \"variable\": \"8/30/20\", \"value\": 10643, \"change\": 32.0, \"date\": \"2020-08-30T00:00:00\"}, {\"Source\": \"Humdata\", \"Country/Region\": \"Norway\", \"variable\": \"8/31/20\", \"value\": 10782, \"change\": 139.0, \"date\": \"2020-08-31T00:00:00\"}, {\"Source\": \"Humdata\", \"Country/Region\": \"Norway\", \"variable\": \"9/1/20\", \"value\": 10871, \"change\": 89.0, \"date\": \"2020-09-01T00:00:00\"}, {\"Source\": \"Humdata\", \"Country/Region\": \"Norway\", \"variable\": \"9/2/20\", \"value\": 11034, \"change\": 163.0, \"date\": \"2020-09-02T00:00:00\"}, {\"Source\": \"Humdata\", \"Country/Region\": \"Norway\", \"variable\": \"9/3/20\", \"value\": 11120, \"change\": 86.0, \"date\": \"2020-09-03T00:00:00\"}, {\"Source\": \"Humdata\", \"Country/Region\": \"Norway\", \"variable\": \"9/4/20\", \"value\": 11231, \"change\": 111.0, \"date\": \"2020-09-04T00:00:00\"}, {\"Source\": \"Humdata\", \"Country/Region\": \"Norway\", \"variable\": \"9/5/20\", \"value\": 11296, \"change\": 65.0, \"date\": \"2020-09-05T00:00:00\"}, {\"Source\": \"Humdata\", \"Country/Region\": \"Norway\", \"variable\": \"9/6/20\", \"value\": 11388, \"change\": 92.0, \"date\": \"2020-09-06T00:00:00\"}, {\"Source\": \"Humdata\", \"Country/Region\": \"Norway\", \"variable\": \"9/7/20\", \"value\": 11521, \"change\": 133.0, \"date\": \"2020-09-07T00:00:00\"}, {\"Source\": \"Humdata\", \"Country/Region\": \"Norway\", \"variable\": \"9/8/20\", \"value\": 11623, \"change\": 102.0, \"date\": \"2020-09-08T00:00:00\"}, {\"Source\": \"Humdata\", \"Country/Region\": \"Norway\", \"variable\": \"9/9/20\", \"value\": 11746, \"change\": 123.0, \"date\": \"2020-09-09T00:00:00\"}, {\"Source\": \"Humdata\", \"Country/Region\": \"Norway\", \"variable\": \"9/10/20\", \"value\": 11867, \"change\": 121.0, \"date\": \"2020-09-10T00:00:00\"}, {\"Source\": \"Humdata\", \"Country/Region\": \"Norway\", \"variable\": \"9/11/20\", \"value\": 12003, \"change\": 136.0, \"date\": \"2020-09-11T00:00:00\"}, {\"Source\": \"Humdata\", \"Country/Region\": \"Norway\", \"variable\": \"9/12/20\", \"value\": 12079, \"change\": 76.0, \"date\": \"2020-09-12T00:00:00\"}, {\"Source\": \"Humdata\", \"Country/Region\": \"Norway\", \"variable\": \"9/13/20\", \"value\": 12154, \"change\": 75.0, \"date\": \"2020-09-13T00:00:00\"}, {\"Source\": \"Humdata\", \"Country/Region\": \"Norway\", \"variable\": \"9/14/20\", \"value\": 12276, \"change\": 122.0, \"date\": \"2020-09-14T00:00:00\"}, {\"Source\": \"Humdata\", \"Country/Region\": \"Norway\", \"variable\": \"9/15/20\", \"value\": 12393, \"change\": 117.0, \"date\": \"2020-09-15T00:00:00\"}, {\"Source\": \"Humdata\", \"Country/Region\": \"Norway\", \"variable\": \"9/16/20\", \"value\": 12498, \"change\": 105.0, \"date\": \"2020-09-16T00:00:00\"}, {\"Source\": \"Humdata\", \"Country/Region\": \"Norway\", \"variable\": \"9/17/20\", \"value\": 12644, \"change\": 146.0, \"date\": \"2020-09-17T00:00:00\"}, {\"Source\": \"Humdata\", \"Country/Region\": \"Norway\", \"variable\": \"9/18/20\", \"value\": 12769, \"change\": 125.0, \"date\": \"2020-09-18T00:00:00\"}, {\"Source\": \"Humdata\", \"Country/Region\": \"Norway\", \"variable\": \"9/19/20\", \"value\": 12858, \"change\": 89.0, \"date\": \"2020-09-19T00:00:00\"}, {\"Source\": \"Humdata\", \"Country/Region\": \"Norway\", \"variable\": \"9/20/20\", \"value\": 12897, \"change\": 39.0, \"date\": \"2020-09-20T00:00:00\"}, {\"Source\": \"Humdata\", \"Country/Region\": \"Norway\", \"variable\": \"9/21/20\", \"value\": 13005, \"change\": 108.0, \"date\": \"2020-09-21T00:00:00\"}, {\"Source\": \"Humdata\", \"Country/Region\": \"Norway\", \"variable\": \"9/22/20\", \"value\": 13153, \"change\": 148.0, \"date\": \"2020-09-22T00:00:00\"}, {\"Source\": \"Humdata\", \"Country/Region\": \"Norway\", \"variable\": \"9/23/20\", \"value\": 13277, \"change\": 124.0, \"date\": \"2020-09-23T00:00:00\"}, {\"Source\": \"Humdata\", \"Country/Region\": \"Norway\", \"variable\": \"9/24/20\", \"value\": 13406, \"change\": 129.0, \"date\": \"2020-09-24T00:00:00\"}, {\"Source\": \"Humdata\", \"Country/Region\": \"Norway\", \"variable\": \"9/25/20\", \"value\": 13545, \"change\": 139.0, \"date\": \"2020-09-25T00:00:00\"}, {\"Source\": \"Humdata\", \"Country/Region\": \"Norway\", \"variable\": \"9/26/20\", \"value\": 13627, \"change\": 82.0, \"date\": \"2020-09-26T00:00:00\"}, {\"Source\": \"Humdata\", \"Country/Region\": \"Norway\", \"variable\": \"9/27/20\", \"value\": 13698, \"change\": 71.0, \"date\": \"2020-09-27T00:00:00\"}, {\"Source\": \"Humdata\", \"Country/Region\": \"Norway\", \"variable\": \"9/28/20\", \"value\": 13788, \"change\": 90.0, \"date\": \"2020-09-28T00:00:00\"}, {\"Source\": \"Humdata\", \"Country/Region\": \"Norway\", \"variable\": \"9/29/20\", \"value\": 13915, \"change\": 127.0, \"date\": \"2020-09-29T00:00:00\"}, {\"Source\": \"Humdata\", \"Country/Region\": \"Norway\", \"variable\": \"9/30/20\", \"value\": 14027, \"change\": 112.0, \"date\": \"2020-09-30T00:00:00\"}, {\"Source\": \"Humdata\", \"Country/Region\": \"Norway\", \"variable\": \"10/1/20\", \"value\": 14149, \"change\": 122.0, \"date\": \"2020-10-01T00:00:00\"}, {\"Source\": \"Humdata\", \"Country/Region\": \"Norway\", \"variable\": \"10/2/20\", \"value\": 14284, \"change\": 135.0, \"date\": \"2020-10-02T00:00:00\"}, {\"Source\": \"Humdata\", \"Country/Region\": \"Norway\", \"variable\": \"10/3/20\", \"value\": 14362, \"change\": 78.0, \"date\": \"2020-10-03T00:00:00\"}, {\"Source\": \"Humdata\", \"Country/Region\": \"Norway\", \"variable\": \"10/4/20\", \"value\": 14457, \"change\": 95.0, \"date\": \"2020-10-04T00:00:00\"}, {\"Source\": \"Humdata\", \"Country/Region\": \"Norway\", \"variable\": \"10/5/20\", \"value\": 14605, \"change\": 148.0, \"date\": \"2020-10-05T00:00:00\"}, {\"Source\": \"Humdata\", \"Country/Region\": \"Norway\", \"variable\": \"10/6/20\", \"value\": 14784, \"change\": 179.0, \"date\": \"2020-10-06T00:00:00\"}, {\"Source\": \"Humdata\", \"Country/Region\": \"Norway\", \"variable\": \"10/7/20\", \"value\": 15013, \"change\": 229.0, \"date\": \"2020-10-07T00:00:00\"}, {\"Source\": \"Humdata\", \"Country/Region\": \"Norway\", \"variable\": \"10/8/20\", \"value\": 15221, \"change\": 208.0, \"date\": \"2020-10-08T00:00:00\"}, {\"Source\": \"Humdata\", \"Country/Region\": \"Norway\", \"variable\": \"10/9/20\", \"value\": 15388, \"change\": 167.0, \"date\": \"2020-10-09T00:00:00\"}, {\"Source\": \"Humdata\", \"Country/Region\": \"Norway\", \"variable\": \"10/10/20\", \"value\": 15466, \"change\": 78.0, \"date\": \"2020-10-10T00:00:00\"}, {\"Source\": \"Humdata\", \"Country/Region\": \"Norway\", \"variable\": \"10/11/20\", \"value\": 15524, \"change\": 58.0, \"date\": \"2020-10-11T00:00:00\"}, {\"Source\": \"Humdata\", \"Country/Region\": \"Norway\", \"variable\": \"10/12/20\", \"value\": 15639, \"change\": 115.0, \"date\": \"2020-10-12T00:00:00\"}, {\"Source\": \"Humdata\", \"Country/Region\": \"Norway\", \"variable\": \"10/13/20\", \"value\": 15793, \"change\": 154.0, \"date\": \"2020-10-13T00:00:00\"}, {\"Source\": \"Humdata\", \"Country/Region\": \"Norway\", \"variable\": \"10/14/20\", \"value\": 15953, \"change\": 160.0, \"date\": \"2020-10-14T00:00:00\"}, {\"Source\": \"Humdata\", \"Country/Region\": \"Norway\", \"variable\": \"10/15/20\", \"value\": 16137, \"change\": 184.0, \"date\": \"2020-10-15T00:00:00\"}, {\"Source\": \"Humdata\", \"Country/Region\": \"Norway\", \"variable\": \"10/16/20\", \"value\": 16272, \"change\": 135.0, \"date\": \"2020-10-16T00:00:00\"}, {\"Source\": \"Humdata\", \"Country/Region\": \"Norway\", \"variable\": \"10/17/20\", \"value\": 16369, \"change\": 97.0, \"date\": \"2020-10-17T00:00:00\"}, {\"Source\": \"Humdata\", \"Country/Region\": \"Norway\", \"variable\": \"10/18/20\", \"value\": 16457, \"change\": 88.0, \"date\": \"2020-10-18T00:00:00\"}, {\"Source\": \"Humdata\", \"Country/Region\": \"Norway\", \"variable\": \"10/19/20\", \"value\": 16603, \"change\": 146.0, \"date\": \"2020-10-19T00:00:00\"}, {\"Source\": \"Humdata\", \"Country/Region\": \"Norway\", \"variable\": \"10/20/20\", \"value\": 16772, \"change\": 169.0, \"date\": \"2020-10-20T00:00:00\"}, {\"Source\": \"Humdata\", \"Country/Region\": \"Norway\", \"variable\": \"10/21/20\", \"value\": 16964, \"change\": 192.0, \"date\": \"2020-10-21T00:00:00\"}, {\"Source\": \"Humdata\", \"Country/Region\": \"Norway\", \"variable\": \"10/22/20\", \"value\": 17234, \"change\": 270.0, \"date\": \"2020-10-22T00:00:00\"}, {\"Source\": \"Humdata\", \"Country/Region\": \"Norway\", \"variable\": \"10/23/20\", \"value\": 17532, \"change\": 298.0, \"date\": \"2020-10-23T00:00:00\"}]}}, {\"mode\": \"vega-lite\"});\n",
       "</script>"
      ],
      "text/plain": [
       "alt.Chart(...)"
      ]
     },
     "execution_count": 13,
     "metadata": {},
     "output_type": "execute_result"
    }
   ],
   "source": [
    "base = alt.Chart(source)\n",
    "\n",
    "fig = base.mark_bar(color='rgba(124,194,189,1)').encode(\n",
    "    y=alt.Y('change:Q', axis=alt.Axis(title='Confirmed cases pr day')),\n",
    "    x=alt.X('date:T', axis=alt.Axis(title='', format=\"%d %b %Y\", labelAngle=45, grid=False)),\n",
    "    tooltip =[alt.Tooltip('variable:O', title='Dato'), alt.Tooltip('change:Q', title='Antall')],\n",
    ")\n",
    "\n",
    "fig"
   ]
  },
  {
   "cell_type": "code",
   "execution_count": 14,
   "metadata": {},
   "outputs": [],
   "source": [
    "description = \"\"\"\n",
    "Number of confirmed cases per day\n",
    "\"\"\"\n",
    "\n",
    "dp.vega(fig,\"Cases per day\", description)"
   ]
  },
  {
   "cell_type": "code",
   "execution_count": 15,
   "metadata": {},
   "outputs": [
    {
     "data": {
      "text/html": [
       "\n",
       "<div id=\"altair-viz-9b4c00a15efa461aa8e9a585e24dbadb\"></div>\n",
       "<script type=\"text/javascript\">\n",
       "  (function(spec, embedOpt){\n",
       "    let outputDiv = document.currentScript.previousElementSibling;\n",
       "    if (outputDiv.id !== \"altair-viz-9b4c00a15efa461aa8e9a585e24dbadb\") {\n",
       "      outputDiv = document.getElementById(\"altair-viz-9b4c00a15efa461aa8e9a585e24dbadb\");\n",
       "    }\n",
       "    const paths = {\n",
       "      \"vega\": \"https://cdn.jsdelivr.net/npm//vega@5?noext\",\n",
       "      \"vega-lib\": \"https://cdn.jsdelivr.net/npm//vega-lib?noext\",\n",
       "      \"vega-lite\": \"https://cdn.jsdelivr.net/npm//vega-lite@4.8.1?noext\",\n",
       "      \"vega-embed\": \"https://cdn.jsdelivr.net/npm//vega-embed@6?noext\",\n",
       "    };\n",
       "\n",
       "    function loadScript(lib) {\n",
       "      return new Promise(function(resolve, reject) {\n",
       "        var s = document.createElement('script');\n",
       "        s.src = paths[lib];\n",
       "        s.async = true;\n",
       "        s.onload = () => resolve(paths[lib]);\n",
       "        s.onerror = () => reject(`Error loading script: ${paths[lib]}`);\n",
       "        document.getElementsByTagName(\"head\")[0].appendChild(s);\n",
       "      });\n",
       "    }\n",
       "\n",
       "    function showError(err) {\n",
       "      outputDiv.innerHTML = `<div class=\"error\" style=\"color:red;\">${err}</div>`;\n",
       "      throw err;\n",
       "    }\n",
       "\n",
       "    function displayChart(vegaEmbed) {\n",
       "      vegaEmbed(outputDiv, spec, embedOpt)\n",
       "        .catch(err => showError(`Javascript Error: ${err.message}<br>This usually means there's a typo in your chart specification. See the javascript console for the full traceback.`));\n",
       "    }\n",
       "\n",
       "    if(typeof define === \"function\" && define.amd) {\n",
       "      requirejs.config({paths});\n",
       "      require([\"vega-embed\"], displayChart, err => showError(`Error loading script: ${err.message}`));\n",
       "    } else if (typeof vegaEmbed === \"function\") {\n",
       "      displayChart(vegaEmbed);\n",
       "    } else {\n",
       "      loadScript(\"vega\")\n",
       "        .then(() => loadScript(\"vega-lite\"))\n",
       "        .then(() => loadScript(\"vega-embed\"))\n",
       "        .catch(showError)\n",
       "        .then(() => displayChart(vegaEmbed));\n",
       "    }\n",
       "  })({\"config\": {\"view\": {\"continuousWidth\": 400, \"continuousHeight\": 300}}, \"data\": {\"name\": \"data-98ead2a8eafe7a96e92c5d66e1764c66\"}, \"mark\": {\"type\": \"line\", \"color\": \"rgba(124,194,189,1)\"}, \"encoding\": {\"tooltip\": [{\"type\": \"ordinal\", \"field\": \"variable\", \"title\": \"Dato\"}, {\"type\": \"quantitative\", \"field\": \"value\", \"title\": \"Antall\"}], \"x\": {\"type\": \"temporal\", \"axis\": {\"format\": \"%d %b %Y\", \"grid\": false, \"labelAngle\": 45, \"title\": \"\"}, \"field\": \"date\"}, \"y\": {\"type\": \"quantitative\", \"axis\": {\"title\": \"Total confirmed cases\"}, \"field\": \"value\"}}, \"$schema\": \"https://vega.github.io/schema/vega-lite/v4.8.1.json\", \"datasets\": {\"data-98ead2a8eafe7a96e92c5d66e1764c66\": [{\"Source\": \"Humdata\", \"Country/Region\": \"Norway\", \"variable\": \"2/25/20\", \"value\": 0, \"change\": 0.0, \"date\": \"2020-02-25T00:00:00\"}, {\"Source\": \"Humdata\", \"Country/Region\": \"Norway\", \"variable\": \"2/26/20\", \"value\": 1, \"change\": 1.0, \"date\": \"2020-02-26T00:00:00\"}, {\"Source\": \"Humdata\", \"Country/Region\": \"Norway\", \"variable\": \"2/27/20\", \"value\": 1, \"change\": 0.0, \"date\": \"2020-02-27T00:00:00\"}, {\"Source\": \"Humdata\", \"Country/Region\": \"Norway\", \"variable\": \"2/28/20\", \"value\": 6, \"change\": 5.0, \"date\": \"2020-02-28T00:00:00\"}, {\"Source\": \"Humdata\", \"Country/Region\": \"Norway\", \"variable\": \"2/29/20\", \"value\": 15, \"change\": 9.0, \"date\": \"2020-02-29T00:00:00\"}, {\"Source\": \"Humdata\", \"Country/Region\": \"Norway\", \"variable\": \"3/1/20\", \"value\": 19, \"change\": 4.0, \"date\": \"2020-03-01T00:00:00\"}, {\"Source\": \"Humdata\", \"Country/Region\": \"Norway\", \"variable\": \"3/2/20\", \"value\": 25, \"change\": 6.0, \"date\": \"2020-03-02T00:00:00\"}, {\"Source\": \"Humdata\", \"Country/Region\": \"Norway\", \"variable\": \"3/3/20\", \"value\": 32, \"change\": 7.0, \"date\": \"2020-03-03T00:00:00\"}, {\"Source\": \"Humdata\", \"Country/Region\": \"Norway\", \"variable\": \"3/4/20\", \"value\": 56, \"change\": 24.0, \"date\": \"2020-03-04T00:00:00\"}, {\"Source\": \"Humdata\", \"Country/Region\": \"Norway\", \"variable\": \"3/5/20\", \"value\": 87, \"change\": 31.0, \"date\": \"2020-03-05T00:00:00\"}, {\"Source\": \"Humdata\", \"Country/Region\": \"Norway\", \"variable\": \"3/6/20\", \"value\": 108, \"change\": 21.0, \"date\": \"2020-03-06T00:00:00\"}, {\"Source\": \"Humdata\", \"Country/Region\": \"Norway\", \"variable\": \"3/7/20\", \"value\": 147, \"change\": 39.0, \"date\": \"2020-03-07T00:00:00\"}, {\"Source\": \"Humdata\", \"Country/Region\": \"Norway\", \"variable\": \"3/8/20\", \"value\": 176, \"change\": 29.0, \"date\": \"2020-03-08T00:00:00\"}, {\"Source\": \"Humdata\", \"Country/Region\": \"Norway\", \"variable\": \"3/9/20\", \"value\": 205, \"change\": 29.0, \"date\": \"2020-03-09T00:00:00\"}, {\"Source\": \"Humdata\", \"Country/Region\": \"Norway\", \"variable\": \"3/10/20\", \"value\": 400, \"change\": 195.0, \"date\": \"2020-03-10T00:00:00\"}, {\"Source\": \"Humdata\", \"Country/Region\": \"Norway\", \"variable\": \"3/11/20\", \"value\": 598, \"change\": 198.0, \"date\": \"2020-03-11T00:00:00\"}, {\"Source\": \"Humdata\", \"Country/Region\": \"Norway\", \"variable\": \"3/12/20\", \"value\": 702, \"change\": 104.0, \"date\": \"2020-03-12T00:00:00\"}, {\"Source\": \"Humdata\", \"Country/Region\": \"Norway\", \"variable\": \"3/13/20\", \"value\": 996, \"change\": 294.0, \"date\": \"2020-03-13T00:00:00\"}, {\"Source\": \"Humdata\", \"Country/Region\": \"Norway\", \"variable\": \"3/14/20\", \"value\": 1090, \"change\": 94.0, \"date\": \"2020-03-14T00:00:00\"}, {\"Source\": \"Humdata\", \"Country/Region\": \"Norway\", \"variable\": \"3/15/20\", \"value\": 1221, \"change\": 131.0, \"date\": \"2020-03-15T00:00:00\"}, {\"Source\": \"Humdata\", \"Country/Region\": \"Norway\", \"variable\": \"3/16/20\", \"value\": 1333, \"change\": 112.0, \"date\": \"2020-03-16T00:00:00\"}, {\"Source\": \"Humdata\", \"Country/Region\": \"Norway\", \"variable\": \"3/17/20\", \"value\": 1463, \"change\": 130.0, \"date\": \"2020-03-17T00:00:00\"}, {\"Source\": \"Humdata\", \"Country/Region\": \"Norway\", \"variable\": \"3/18/20\", \"value\": 1550, \"change\": 87.0, \"date\": \"2020-03-18T00:00:00\"}, {\"Source\": \"Humdata\", \"Country/Region\": \"Norway\", \"variable\": \"3/19/20\", \"value\": 1746, \"change\": 196.0, \"date\": \"2020-03-19T00:00:00\"}, {\"Source\": \"Humdata\", \"Country/Region\": \"Norway\", \"variable\": \"3/20/20\", \"value\": 1914, \"change\": 168.0, \"date\": \"2020-03-20T00:00:00\"}, {\"Source\": \"Humdata\", \"Country/Region\": \"Norway\", \"variable\": \"3/21/20\", \"value\": 2118, \"change\": 204.0, \"date\": \"2020-03-21T00:00:00\"}, {\"Source\": \"Humdata\", \"Country/Region\": \"Norway\", \"variable\": \"3/22/20\", \"value\": 2385, \"change\": 267.0, \"date\": \"2020-03-22T00:00:00\"}, {\"Source\": \"Humdata\", \"Country/Region\": \"Norway\", \"variable\": \"3/23/20\", \"value\": 2621, \"change\": 236.0, \"date\": \"2020-03-23T00:00:00\"}, {\"Source\": \"Humdata\", \"Country/Region\": \"Norway\", \"variable\": \"3/24/20\", \"value\": 2863, \"change\": 242.0, \"date\": \"2020-03-24T00:00:00\"}, {\"Source\": \"Humdata\", \"Country/Region\": \"Norway\", \"variable\": \"3/25/20\", \"value\": 3084, \"change\": 221.0, \"date\": \"2020-03-25T00:00:00\"}, {\"Source\": \"Humdata\", \"Country/Region\": \"Norway\", \"variable\": \"3/26/20\", \"value\": 3369, \"change\": 285.0, \"date\": \"2020-03-26T00:00:00\"}, {\"Source\": \"Humdata\", \"Country/Region\": \"Norway\", \"variable\": \"3/27/20\", \"value\": 3755, \"change\": 386.0, \"date\": \"2020-03-27T00:00:00\"}, {\"Source\": \"Humdata\", \"Country/Region\": \"Norway\", \"variable\": \"3/28/20\", \"value\": 4015, \"change\": 260.0, \"date\": \"2020-03-28T00:00:00\"}, {\"Source\": \"Humdata\", \"Country/Region\": \"Norway\", \"variable\": \"3/29/20\", \"value\": 4284, \"change\": 269.0, \"date\": \"2020-03-29T00:00:00\"}, {\"Source\": \"Humdata\", \"Country/Region\": \"Norway\", \"variable\": \"3/30/20\", \"value\": 4445, \"change\": 161.0, \"date\": \"2020-03-30T00:00:00\"}, {\"Source\": \"Humdata\", \"Country/Region\": \"Norway\", \"variable\": \"3/31/20\", \"value\": 4641, \"change\": 196.0, \"date\": \"2020-03-31T00:00:00\"}, {\"Source\": \"Humdata\", \"Country/Region\": \"Norway\", \"variable\": \"4/1/20\", \"value\": 4863, \"change\": 222.0, \"date\": \"2020-04-01T00:00:00\"}, {\"Source\": \"Humdata\", \"Country/Region\": \"Norway\", \"variable\": \"4/2/20\", \"value\": 5147, \"change\": 284.0, \"date\": \"2020-04-02T00:00:00\"}, {\"Source\": \"Humdata\", \"Country/Region\": \"Norway\", \"variable\": \"4/3/20\", \"value\": 5370, \"change\": 223.0, \"date\": \"2020-04-03T00:00:00\"}, {\"Source\": \"Humdata\", \"Country/Region\": \"Norway\", \"variable\": \"4/4/20\", \"value\": 5550, \"change\": 180.0, \"date\": \"2020-04-04T00:00:00\"}, {\"Source\": \"Humdata\", \"Country/Region\": \"Norway\", \"variable\": \"4/5/20\", \"value\": 5687, \"change\": 137.0, \"date\": \"2020-04-05T00:00:00\"}, {\"Source\": \"Humdata\", \"Country/Region\": \"Norway\", \"variable\": \"4/6/20\", \"value\": 5865, \"change\": 178.0, \"date\": \"2020-04-06T00:00:00\"}, {\"Source\": \"Humdata\", \"Country/Region\": \"Norway\", \"variable\": \"4/7/20\", \"value\": 6086, \"change\": 221.0, \"date\": \"2020-04-07T00:00:00\"}, {\"Source\": \"Humdata\", \"Country/Region\": \"Norway\", \"variable\": \"4/8/20\", \"value\": 6086, \"change\": 0.0, \"date\": \"2020-04-08T00:00:00\"}, {\"Source\": \"Humdata\", \"Country/Region\": \"Norway\", \"variable\": \"4/9/20\", \"value\": 6211, \"change\": 125.0, \"date\": \"2020-04-09T00:00:00\"}, {\"Source\": \"Humdata\", \"Country/Region\": \"Norway\", \"variable\": \"4/10/20\", \"value\": 6314, \"change\": 103.0, \"date\": \"2020-04-10T00:00:00\"}, {\"Source\": \"Humdata\", \"Country/Region\": \"Norway\", \"variable\": \"4/11/20\", \"value\": 6409, \"change\": 95.0, \"date\": \"2020-04-11T00:00:00\"}, {\"Source\": \"Humdata\", \"Country/Region\": \"Norway\", \"variable\": \"4/12/20\", \"value\": 6525, \"change\": 116.0, \"date\": \"2020-04-12T00:00:00\"}, {\"Source\": \"Humdata\", \"Country/Region\": \"Norway\", \"variable\": \"4/13/20\", \"value\": 6603, \"change\": 78.0, \"date\": \"2020-04-13T00:00:00\"}, {\"Source\": \"Humdata\", \"Country/Region\": \"Norway\", \"variable\": \"4/14/20\", \"value\": 6623, \"change\": 20.0, \"date\": \"2020-04-14T00:00:00\"}, {\"Source\": \"Humdata\", \"Country/Region\": \"Norway\", \"variable\": \"4/15/20\", \"value\": 6740, \"change\": 117.0, \"date\": \"2020-04-15T00:00:00\"}, {\"Source\": \"Humdata\", \"Country/Region\": \"Norway\", \"variable\": \"4/16/20\", \"value\": 6896, \"change\": 156.0, \"date\": \"2020-04-16T00:00:00\"}, {\"Source\": \"Humdata\", \"Country/Region\": \"Norway\", \"variable\": \"4/17/20\", \"value\": 6937, \"change\": 41.0, \"date\": \"2020-04-17T00:00:00\"}, {\"Source\": \"Humdata\", \"Country/Region\": \"Norway\", \"variable\": \"4/18/20\", \"value\": 7036, \"change\": 99.0, \"date\": \"2020-04-18T00:00:00\"}, {\"Source\": \"Humdata\", \"Country/Region\": \"Norway\", \"variable\": \"4/19/20\", \"value\": 7078, \"change\": 42.0, \"date\": \"2020-04-19T00:00:00\"}, {\"Source\": \"Humdata\", \"Country/Region\": \"Norway\", \"variable\": \"4/20/20\", \"value\": 7156, \"change\": 78.0, \"date\": \"2020-04-20T00:00:00\"}, {\"Source\": \"Humdata\", \"Country/Region\": \"Norway\", \"variable\": \"4/21/20\", \"value\": 7191, \"change\": 35.0, \"date\": \"2020-04-21T00:00:00\"}, {\"Source\": \"Humdata\", \"Country/Region\": \"Norway\", \"variable\": \"4/22/20\", \"value\": 7338, \"change\": 147.0, \"date\": \"2020-04-22T00:00:00\"}, {\"Source\": \"Humdata\", \"Country/Region\": \"Norway\", \"variable\": \"4/23/20\", \"value\": 7401, \"change\": 63.0, \"date\": \"2020-04-23T00:00:00\"}, {\"Source\": \"Humdata\", \"Country/Region\": \"Norway\", \"variable\": \"4/24/20\", \"value\": 7463, \"change\": 62.0, \"date\": \"2020-04-24T00:00:00\"}, {\"Source\": \"Humdata\", \"Country/Region\": \"Norway\", \"variable\": \"4/25/20\", \"value\": 7499, \"change\": 36.0, \"date\": \"2020-04-25T00:00:00\"}, {\"Source\": \"Humdata\", \"Country/Region\": \"Norway\", \"variable\": \"4/26/20\", \"value\": 7527, \"change\": 28.0, \"date\": \"2020-04-26T00:00:00\"}, {\"Source\": \"Humdata\", \"Country/Region\": \"Norway\", \"variable\": \"4/27/20\", \"value\": 7599, \"change\": 72.0, \"date\": \"2020-04-27T00:00:00\"}, {\"Source\": \"Humdata\", \"Country/Region\": \"Norway\", \"variable\": \"4/28/20\", \"value\": 7660, \"change\": 61.0, \"date\": \"2020-04-28T00:00:00\"}, {\"Source\": \"Humdata\", \"Country/Region\": \"Norway\", \"variable\": \"4/29/20\", \"value\": 7710, \"change\": 50.0, \"date\": \"2020-04-29T00:00:00\"}, {\"Source\": \"Humdata\", \"Country/Region\": \"Norway\", \"variable\": \"4/30/20\", \"value\": 7738, \"change\": 28.0, \"date\": \"2020-04-30T00:00:00\"}, {\"Source\": \"Humdata\", \"Country/Region\": \"Norway\", \"variable\": \"5/1/20\", \"value\": 7783, \"change\": 45.0, \"date\": \"2020-05-01T00:00:00\"}, {\"Source\": \"Humdata\", \"Country/Region\": \"Norway\", \"variable\": \"5/2/20\", \"value\": 7809, \"change\": 26.0, \"date\": \"2020-05-02T00:00:00\"}, {\"Source\": \"Humdata\", \"Country/Region\": \"Norway\", \"variable\": \"5/3/20\", \"value\": 7847, \"change\": 38.0, \"date\": \"2020-05-03T00:00:00\"}, {\"Source\": \"Humdata\", \"Country/Region\": \"Norway\", \"variable\": \"5/4/20\", \"value\": 7904, \"change\": 57.0, \"date\": \"2020-05-04T00:00:00\"}, {\"Source\": \"Humdata\", \"Country/Region\": \"Norway\", \"variable\": \"5/5/20\", \"value\": 7955, \"change\": 51.0, \"date\": \"2020-05-05T00:00:00\"}, {\"Source\": \"Humdata\", \"Country/Region\": \"Norway\", \"variable\": \"5/6/20\", \"value\": 7996, \"change\": 41.0, \"date\": \"2020-05-06T00:00:00\"}, {\"Source\": \"Humdata\", \"Country/Region\": \"Norway\", \"variable\": \"5/7/20\", \"value\": 8034, \"change\": 38.0, \"date\": \"2020-05-07T00:00:00\"}, {\"Source\": \"Humdata\", \"Country/Region\": \"Norway\", \"variable\": \"5/8/20\", \"value\": 8070, \"change\": 36.0, \"date\": \"2020-05-08T00:00:00\"}, {\"Source\": \"Humdata\", \"Country/Region\": \"Norway\", \"variable\": \"5/9/20\", \"value\": 8099, \"change\": 29.0, \"date\": \"2020-05-09T00:00:00\"}, {\"Source\": \"Humdata\", \"Country/Region\": \"Norway\", \"variable\": \"5/10/20\", \"value\": 8105, \"change\": 6.0, \"date\": \"2020-05-10T00:00:00\"}, {\"Source\": \"Humdata\", \"Country/Region\": \"Norway\", \"variable\": \"5/11/20\", \"value\": 8132, \"change\": 27.0, \"date\": \"2020-05-11T00:00:00\"}, {\"Source\": \"Humdata\", \"Country/Region\": \"Norway\", \"variable\": \"5/12/20\", \"value\": 8157, \"change\": 25.0, \"date\": \"2020-05-12T00:00:00\"}, {\"Source\": \"Humdata\", \"Country/Region\": \"Norway\", \"variable\": \"5/13/20\", \"value\": 8175, \"change\": 18.0, \"date\": \"2020-05-13T00:00:00\"}, {\"Source\": \"Humdata\", \"Country/Region\": \"Norway\", \"variable\": \"5/14/20\", \"value\": 8196, \"change\": 21.0, \"date\": \"2020-05-14T00:00:00\"}, {\"Source\": \"Humdata\", \"Country/Region\": \"Norway\", \"variable\": \"5/15/20\", \"value\": 8219, \"change\": 23.0, \"date\": \"2020-05-15T00:00:00\"}, {\"Source\": \"Humdata\", \"Country/Region\": \"Norway\", \"variable\": \"5/16/20\", \"value\": 8237, \"change\": 18.0, \"date\": \"2020-05-16T00:00:00\"}, {\"Source\": \"Humdata\", \"Country/Region\": \"Norway\", \"variable\": \"5/17/20\", \"value\": 8249, \"change\": 12.0, \"date\": \"2020-05-17T00:00:00\"}, {\"Source\": \"Humdata\", \"Country/Region\": \"Norway\", \"variable\": \"5/18/20\", \"value\": 8257, \"change\": 8.0, \"date\": \"2020-05-18T00:00:00\"}, {\"Source\": \"Humdata\", \"Country/Region\": \"Norway\", \"variable\": \"5/19/20\", \"value\": 8267, \"change\": 10.0, \"date\": \"2020-05-19T00:00:00\"}, {\"Source\": \"Humdata\", \"Country/Region\": \"Norway\", \"variable\": \"5/20/20\", \"value\": 8281, \"change\": 14.0, \"date\": \"2020-05-20T00:00:00\"}, {\"Source\": \"Humdata\", \"Country/Region\": \"Norway\", \"variable\": \"5/21/20\", \"value\": 8309, \"change\": 28.0, \"date\": \"2020-05-21T00:00:00\"}, {\"Source\": \"Humdata\", \"Country/Region\": \"Norway\", \"variable\": \"5/22/20\", \"value\": 8332, \"change\": 23.0, \"date\": \"2020-05-22T00:00:00\"}, {\"Source\": \"Humdata\", \"Country/Region\": \"Norway\", \"variable\": \"5/23/20\", \"value\": 8346, \"change\": 14.0, \"date\": \"2020-05-23T00:00:00\"}, {\"Source\": \"Humdata\", \"Country/Region\": \"Norway\", \"variable\": \"5/24/20\", \"value\": 8352, \"change\": 6.0, \"date\": \"2020-05-24T00:00:00\"}, {\"Source\": \"Humdata\", \"Country/Region\": \"Norway\", \"variable\": \"5/25/20\", \"value\": 8364, \"change\": 12.0, \"date\": \"2020-05-25T00:00:00\"}, {\"Source\": \"Humdata\", \"Country/Region\": \"Norway\", \"variable\": \"5/26/20\", \"value\": 8383, \"change\": 19.0, \"date\": \"2020-05-26T00:00:00\"}, {\"Source\": \"Humdata\", \"Country/Region\": \"Norway\", \"variable\": \"5/27/20\", \"value\": 8401, \"change\": 18.0, \"date\": \"2020-05-27T00:00:00\"}, {\"Source\": \"Humdata\", \"Country/Region\": \"Norway\", \"variable\": \"5/28/20\", \"value\": 8411, \"change\": 10.0, \"date\": \"2020-05-28T00:00:00\"}, {\"Source\": \"Humdata\", \"Country/Region\": \"Norway\", \"variable\": \"5/29/20\", \"value\": 8422, \"change\": 11.0, \"date\": \"2020-05-29T00:00:00\"}, {\"Source\": \"Humdata\", \"Country/Region\": \"Norway\", \"variable\": \"5/30/20\", \"value\": 8437, \"change\": 15.0, \"date\": \"2020-05-30T00:00:00\"}, {\"Source\": \"Humdata\", \"Country/Region\": \"Norway\", \"variable\": \"5/31/20\", \"value\": 8440, \"change\": 3.0, \"date\": \"2020-05-31T00:00:00\"}, {\"Source\": \"Humdata\", \"Country/Region\": \"Norway\", \"variable\": \"6/1/20\", \"value\": 8446, \"change\": 6.0, \"date\": \"2020-06-01T00:00:00\"}, {\"Source\": \"Humdata\", \"Country/Region\": \"Norway\", \"variable\": \"6/2/20\", \"value\": 8455, \"change\": 9.0, \"date\": \"2020-06-02T00:00:00\"}, {\"Source\": \"Humdata\", \"Country/Region\": \"Norway\", \"variable\": \"6/3/20\", \"value\": 8477, \"change\": 22.0, \"date\": \"2020-06-03T00:00:00\"}, {\"Source\": \"Humdata\", \"Country/Region\": \"Norway\", \"variable\": \"6/4/20\", \"value\": 8504, \"change\": 27.0, \"date\": \"2020-06-04T00:00:00\"}, {\"Source\": \"Humdata\", \"Country/Region\": \"Norway\", \"variable\": \"6/5/20\", \"value\": 8522, \"change\": 18.0, \"date\": \"2020-06-05T00:00:00\"}, {\"Source\": \"Humdata\", \"Country/Region\": \"Norway\", \"variable\": \"6/6/20\", \"value\": 8531, \"change\": 9.0, \"date\": \"2020-06-06T00:00:00\"}, {\"Source\": \"Humdata\", \"Country/Region\": \"Norway\", \"variable\": \"6/7/20\", \"value\": 8547, \"change\": 16.0, \"date\": \"2020-06-07T00:00:00\"}, {\"Source\": \"Humdata\", \"Country/Region\": \"Norway\", \"variable\": \"6/8/20\", \"value\": 8561, \"change\": 14.0, \"date\": \"2020-06-08T00:00:00\"}, {\"Source\": \"Humdata\", \"Country/Region\": \"Norway\", \"variable\": \"6/9/20\", \"value\": 8576, \"change\": 15.0, \"date\": \"2020-06-09T00:00:00\"}, {\"Source\": \"Humdata\", \"Country/Region\": \"Norway\", \"variable\": \"6/10/20\", \"value\": 8594, \"change\": 18.0, \"date\": \"2020-06-10T00:00:00\"}, {\"Source\": \"Humdata\", \"Country/Region\": \"Norway\", \"variable\": \"6/11/20\", \"value\": 8608, \"change\": 14.0, \"date\": \"2020-06-11T00:00:00\"}, {\"Source\": \"Humdata\", \"Country/Region\": \"Norway\", \"variable\": \"6/12/20\", \"value\": 8620, \"change\": 12.0, \"date\": \"2020-06-12T00:00:00\"}, {\"Source\": \"Humdata\", \"Country/Region\": \"Norway\", \"variable\": \"6/13/20\", \"value\": 8628, \"change\": 8.0, \"date\": \"2020-06-13T00:00:00\"}, {\"Source\": \"Humdata\", \"Country/Region\": \"Norway\", \"variable\": \"6/14/20\", \"value\": 8631, \"change\": 3.0, \"date\": \"2020-06-14T00:00:00\"}, {\"Source\": \"Humdata\", \"Country/Region\": \"Norway\", \"variable\": \"6/15/20\", \"value\": 8647, \"change\": 16.0, \"date\": \"2020-06-15T00:00:00\"}, {\"Source\": \"Humdata\", \"Country/Region\": \"Norway\", \"variable\": \"6/16/20\", \"value\": 8660, \"change\": 13.0, \"date\": \"2020-06-16T00:00:00\"}, {\"Source\": \"Humdata\", \"Country/Region\": \"Norway\", \"variable\": \"6/17/20\", \"value\": 8692, \"change\": 32.0, \"date\": \"2020-06-17T00:00:00\"}, {\"Source\": \"Humdata\", \"Country/Region\": \"Norway\", \"variable\": \"6/18/20\", \"value\": 8708, \"change\": 16.0, \"date\": \"2020-06-18T00:00:00\"}, {\"Source\": \"Humdata\", \"Country/Region\": \"Norway\", \"variable\": \"6/19/20\", \"value\": 8726, \"change\": 18.0, \"date\": \"2020-06-19T00:00:00\"}, {\"Source\": \"Humdata\", \"Country/Region\": \"Norway\", \"variable\": \"6/20/20\", \"value\": 8742, \"change\": 16.0, \"date\": \"2020-06-20T00:00:00\"}, {\"Source\": \"Humdata\", \"Country/Region\": \"Norway\", \"variable\": \"6/21/20\", \"value\": 8745, \"change\": 3.0, \"date\": \"2020-06-21T00:00:00\"}, {\"Source\": \"Humdata\", \"Country/Region\": \"Norway\", \"variable\": \"6/22/20\", \"value\": 8751, \"change\": 6.0, \"date\": \"2020-06-22T00:00:00\"}, {\"Source\": \"Humdata\", \"Country/Region\": \"Norway\", \"variable\": \"6/23/20\", \"value\": 8772, \"change\": 21.0, \"date\": \"2020-06-23T00:00:00\"}, {\"Source\": \"Humdata\", \"Country/Region\": \"Norway\", \"variable\": \"6/24/20\", \"value\": 8788, \"change\": 16.0, \"date\": \"2020-06-24T00:00:00\"}, {\"Source\": \"Humdata\", \"Country/Region\": \"Norway\", \"variable\": \"6/25/20\", \"value\": 8788, \"change\": 0.0, \"date\": \"2020-06-25T00:00:00\"}, {\"Source\": \"Humdata\", \"Country/Region\": \"Norway\", \"variable\": \"6/26/20\", \"value\": 8832, \"change\": 44.0, \"date\": \"2020-06-26T00:00:00\"}, {\"Source\": \"Humdata\", \"Country/Region\": \"Norway\", \"variable\": \"6/27/20\", \"value\": 8846, \"change\": 14.0, \"date\": \"2020-06-27T00:00:00\"}, {\"Source\": \"Humdata\", \"Country/Region\": \"Norway\", \"variable\": \"6/28/20\", \"value\": 8855, \"change\": 9.0, \"date\": \"2020-06-28T00:00:00\"}, {\"Source\": \"Humdata\", \"Country/Region\": \"Norway\", \"variable\": \"6/29/20\", \"value\": 8862, \"change\": 7.0, \"date\": \"2020-06-29T00:00:00\"}, {\"Source\": \"Humdata\", \"Country/Region\": \"Norway\", \"variable\": \"6/30/20\", \"value\": 8879, \"change\": 17.0, \"date\": \"2020-06-30T00:00:00\"}, {\"Source\": \"Humdata\", \"Country/Region\": \"Norway\", \"variable\": \"7/1/20\", \"value\": 8896, \"change\": 17.0, \"date\": \"2020-07-01T00:00:00\"}, {\"Source\": \"Humdata\", \"Country/Region\": \"Norway\", \"variable\": \"7/2/20\", \"value\": 8902, \"change\": 6.0, \"date\": \"2020-07-02T00:00:00\"}, {\"Source\": \"Humdata\", \"Country/Region\": \"Norway\", \"variable\": \"7/3/20\", \"value\": 8921, \"change\": 19.0, \"date\": \"2020-07-03T00:00:00\"}, {\"Source\": \"Humdata\", \"Country/Region\": \"Norway\", \"variable\": \"7/4/20\", \"value\": 8926, \"change\": 5.0, \"date\": \"2020-07-04T00:00:00\"}, {\"Source\": \"Humdata\", \"Country/Region\": \"Norway\", \"variable\": \"7/5/20\", \"value\": 8930, \"change\": 4.0, \"date\": \"2020-07-05T00:00:00\"}, {\"Source\": \"Humdata\", \"Country/Region\": \"Norway\", \"variable\": \"7/6/20\", \"value\": 8936, \"change\": 6.0, \"date\": \"2020-07-06T00:00:00\"}, {\"Source\": \"Humdata\", \"Country/Region\": \"Norway\", \"variable\": \"7/7/20\", \"value\": 8947, \"change\": 11.0, \"date\": \"2020-07-07T00:00:00\"}, {\"Source\": \"Humdata\", \"Country/Region\": \"Norway\", \"variable\": \"7/8/20\", \"value\": 8950, \"change\": 3.0, \"date\": \"2020-07-08T00:00:00\"}, {\"Source\": \"Humdata\", \"Country/Region\": \"Norway\", \"variable\": \"7/9/20\", \"value\": 8965, \"change\": 15.0, \"date\": \"2020-07-09T00:00:00\"}, {\"Source\": \"Humdata\", \"Country/Region\": \"Norway\", \"variable\": \"7/10/20\", \"value\": 8974, \"change\": 9.0, \"date\": \"2020-07-10T00:00:00\"}, {\"Source\": \"Humdata\", \"Country/Region\": \"Norway\", \"variable\": \"7/11/20\", \"value\": 8977, \"change\": 3.0, \"date\": \"2020-07-11T00:00:00\"}, {\"Source\": \"Humdata\", \"Country/Region\": \"Norway\", \"variable\": \"7/12/20\", \"value\": 8981, \"change\": 4.0, \"date\": \"2020-07-12T00:00:00\"}, {\"Source\": \"Humdata\", \"Country/Region\": \"Norway\", \"variable\": \"7/13/20\", \"value\": 8984, \"change\": 3.0, \"date\": \"2020-07-13T00:00:00\"}, {\"Source\": \"Humdata\", \"Country/Region\": \"Norway\", \"variable\": \"7/14/20\", \"value\": 9001, \"change\": 17.0, \"date\": \"2020-07-14T00:00:00\"}, {\"Source\": \"Humdata\", \"Country/Region\": \"Norway\", \"variable\": \"7/15/20\", \"value\": 9011, \"change\": 10.0, \"date\": \"2020-07-15T00:00:00\"}, {\"Source\": \"Humdata\", \"Country/Region\": \"Norway\", \"variable\": \"7/16/20\", \"value\": 9015, \"change\": 4.0, \"date\": \"2020-07-16T00:00:00\"}, {\"Source\": \"Humdata\", \"Country/Region\": \"Norway\", \"variable\": \"7/17/20\", \"value\": 9025, \"change\": 10.0, \"date\": \"2020-07-17T00:00:00\"}, {\"Source\": \"Humdata\", \"Country/Region\": \"Norway\", \"variable\": \"7/18/20\", \"value\": 9028, \"change\": 3.0, \"date\": \"2020-07-18T00:00:00\"}, {\"Source\": \"Humdata\", \"Country/Region\": \"Norway\", \"variable\": \"7/19/20\", \"value\": 9028, \"change\": 0.0, \"date\": \"2020-07-19T00:00:00\"}, {\"Source\": \"Humdata\", \"Country/Region\": \"Norway\", \"variable\": \"7/20/20\", \"value\": 9034, \"change\": 6.0, \"date\": \"2020-07-20T00:00:00\"}, {\"Source\": \"Humdata\", \"Country/Region\": \"Norway\", \"variable\": \"7/21/20\", \"value\": 9053, \"change\": 19.0, \"date\": \"2020-07-21T00:00:00\"}, {\"Source\": \"Humdata\", \"Country/Region\": \"Norway\", \"variable\": \"7/22/20\", \"value\": 9059, \"change\": 6.0, \"date\": \"2020-07-22T00:00:00\"}, {\"Source\": \"Humdata\", \"Country/Region\": \"Norway\", \"variable\": \"7/23/20\", \"value\": 9085, \"change\": 26.0, \"date\": \"2020-07-23T00:00:00\"}, {\"Source\": \"Humdata\", \"Country/Region\": \"Norway\", \"variable\": \"7/24/20\", \"value\": 9092, \"change\": 7.0, \"date\": \"2020-07-24T00:00:00\"}, {\"Source\": \"Humdata\", \"Country/Region\": \"Norway\", \"variable\": \"7/25/20\", \"value\": 9111, \"change\": 19.0, \"date\": \"2020-07-25T00:00:00\"}, {\"Source\": \"Humdata\", \"Country/Region\": \"Norway\", \"variable\": \"7/26/20\", \"value\": 9117, \"change\": 6.0, \"date\": \"2020-07-26T00:00:00\"}, {\"Source\": \"Humdata\", \"Country/Region\": \"Norway\", \"variable\": \"7/27/20\", \"value\": 9132, \"change\": 15.0, \"date\": \"2020-07-27T00:00:00\"}, {\"Source\": \"Humdata\", \"Country/Region\": \"Norway\", \"variable\": \"7/28/20\", \"value\": 9150, \"change\": 18.0, \"date\": \"2020-07-28T00:00:00\"}, {\"Source\": \"Humdata\", \"Country/Region\": \"Norway\", \"variable\": \"7/29/20\", \"value\": 9172, \"change\": 22.0, \"date\": \"2020-07-29T00:00:00\"}, {\"Source\": \"Humdata\", \"Country/Region\": \"Norway\", \"variable\": \"7/30/20\", \"value\": 9208, \"change\": 36.0, \"date\": \"2020-07-30T00:00:00\"}, {\"Source\": \"Humdata\", \"Country/Region\": \"Norway\", \"variable\": \"7/31/20\", \"value\": 9240, \"change\": 32.0, \"date\": \"2020-07-31T00:00:00\"}, {\"Source\": \"Humdata\", \"Country/Region\": \"Norway\", \"variable\": \"8/1/20\", \"value\": 9253, \"change\": 13.0, \"date\": \"2020-08-01T00:00:00\"}, {\"Source\": \"Humdata\", \"Country/Region\": \"Norway\", \"variable\": \"8/2/20\", \"value\": 9268, \"change\": 15.0, \"date\": \"2020-08-02T00:00:00\"}, {\"Source\": \"Humdata\", \"Country/Region\": \"Norway\", \"variable\": \"8/3/20\", \"value\": 9334, \"change\": 66.0, \"date\": \"2020-08-03T00:00:00\"}, {\"Source\": \"Humdata\", \"Country/Region\": \"Norway\", \"variable\": \"8/4/20\", \"value\": 9362, \"change\": 28.0, \"date\": \"2020-08-04T00:00:00\"}, {\"Source\": \"Humdata\", \"Country/Region\": \"Norway\", \"variable\": \"8/5/20\", \"value\": 9409, \"change\": 47.0, \"date\": \"2020-08-05T00:00:00\"}, {\"Source\": \"Humdata\", \"Country/Region\": \"Norway\", \"variable\": \"8/6/20\", \"value\": 9468, \"change\": 59.0, \"date\": \"2020-08-06T00:00:00\"}, {\"Source\": \"Humdata\", \"Country/Region\": \"Norway\", \"variable\": \"8/7/20\", \"value\": 9551, \"change\": 83.0, \"date\": \"2020-08-07T00:00:00\"}, {\"Source\": \"Humdata\", \"Country/Region\": \"Norway\", \"variable\": \"8/8/20\", \"value\": 9599, \"change\": 48.0, \"date\": \"2020-08-08T00:00:00\"}, {\"Source\": \"Humdata\", \"Country/Region\": \"Norway\", \"variable\": \"8/9/20\", \"value\": 9638, \"change\": 39.0, \"date\": \"2020-08-09T00:00:00\"}, {\"Source\": \"Humdata\", \"Country/Region\": \"Norway\", \"variable\": \"8/10/20\", \"value\": 9684, \"change\": 46.0, \"date\": \"2020-08-10T00:00:00\"}, {\"Source\": \"Humdata\", \"Country/Region\": \"Norway\", \"variable\": \"8/11/20\", \"value\": 9751, \"change\": 67.0, \"date\": \"2020-08-11T00:00:00\"}, {\"Source\": \"Humdata\", \"Country/Region\": \"Norway\", \"variable\": \"8/12/20\", \"value\": 9783, \"change\": 32.0, \"date\": \"2020-08-12T00:00:00\"}, {\"Source\": \"Humdata\", \"Country/Region\": \"Norway\", \"variable\": \"8/13/20\", \"value\": 9851, \"change\": 68.0, \"date\": \"2020-08-13T00:00:00\"}, {\"Source\": \"Humdata\", \"Country/Region\": \"Norway\", \"variable\": \"8/14/20\", \"value\": 9908, \"change\": 57.0, \"date\": \"2020-08-14T00:00:00\"}, {\"Source\": \"Humdata\", \"Country/Region\": \"Norway\", \"variable\": \"8/15/20\", \"value\": 9965, \"change\": 57.0, \"date\": \"2020-08-15T00:00:00\"}, {\"Source\": \"Humdata\", \"Country/Region\": \"Norway\", \"variable\": \"8/16/20\", \"value\": 10005, \"change\": 40.0, \"date\": \"2020-08-16T00:00:00\"}, {\"Source\": \"Humdata\", \"Country/Region\": \"Norway\", \"variable\": \"8/17/20\", \"value\": 10060, \"change\": 55.0, \"date\": \"2020-08-17T00:00:00\"}, {\"Source\": \"Humdata\", \"Country/Region\": \"Norway\", \"variable\": \"8/18/20\", \"value\": 10111, \"change\": 51.0, \"date\": \"2020-08-18T00:00:00\"}, {\"Source\": \"Humdata\", \"Country/Region\": \"Norway\", \"variable\": \"8/19/20\", \"value\": 10162, \"change\": 51.0, \"date\": \"2020-08-19T00:00:00\"}, {\"Source\": \"Humdata\", \"Country/Region\": \"Norway\", \"variable\": \"8/20/20\", \"value\": 10197, \"change\": 35.0, \"date\": \"2020-08-20T00:00:00\"}, {\"Source\": \"Humdata\", \"Country/Region\": \"Norway\", \"variable\": \"8/21/20\", \"value\": 10275, \"change\": 78.0, \"date\": \"2020-08-21T00:00:00\"}, {\"Source\": \"Humdata\", \"Country/Region\": \"Norway\", \"variable\": \"8/22/20\", \"value\": 10299, \"change\": 24.0, \"date\": \"2020-08-22T00:00:00\"}, {\"Source\": \"Humdata\", \"Country/Region\": \"Norway\", \"variable\": \"8/23/20\", \"value\": 10323, \"change\": 24.0, \"date\": \"2020-08-23T00:00:00\"}, {\"Source\": \"Humdata\", \"Country/Region\": \"Norway\", \"variable\": \"8/24/20\", \"value\": 10395, \"change\": 72.0, \"date\": \"2020-08-24T00:00:00\"}, {\"Source\": \"Humdata\", \"Country/Region\": \"Norway\", \"variable\": \"8/25/20\", \"value\": 10454, \"change\": 59.0, \"date\": \"2020-08-25T00:00:00\"}, {\"Source\": \"Humdata\", \"Country/Region\": \"Norway\", \"variable\": \"8/26/20\", \"value\": 10504, \"change\": 50.0, \"date\": \"2020-08-26T00:00:00\"}, {\"Source\": \"Humdata\", \"Country/Region\": \"Norway\", \"variable\": \"8/27/20\", \"value\": 10542, \"change\": 38.0, \"date\": \"2020-08-27T00:00:00\"}, {\"Source\": \"Humdata\", \"Country/Region\": \"Norway\", \"variable\": \"8/28/20\", \"value\": 10582, \"change\": 40.0, \"date\": \"2020-08-28T00:00:00\"}, {\"Source\": \"Humdata\", \"Country/Region\": \"Norway\", \"variable\": \"8/29/20\", \"value\": 10611, \"change\": 29.0, \"date\": \"2020-08-29T00:00:00\"}, {\"Source\": \"Humdata\", \"Country/Region\": \"Norway\", \"variable\": \"8/30/20\", \"value\": 10643, \"change\": 32.0, \"date\": \"2020-08-30T00:00:00\"}, {\"Source\": \"Humdata\", \"Country/Region\": \"Norway\", \"variable\": \"8/31/20\", \"value\": 10782, \"change\": 139.0, \"date\": \"2020-08-31T00:00:00\"}, {\"Source\": \"Humdata\", \"Country/Region\": \"Norway\", \"variable\": \"9/1/20\", \"value\": 10871, \"change\": 89.0, \"date\": \"2020-09-01T00:00:00\"}, {\"Source\": \"Humdata\", \"Country/Region\": \"Norway\", \"variable\": \"9/2/20\", \"value\": 11034, \"change\": 163.0, \"date\": \"2020-09-02T00:00:00\"}, {\"Source\": \"Humdata\", \"Country/Region\": \"Norway\", \"variable\": \"9/3/20\", \"value\": 11120, \"change\": 86.0, \"date\": \"2020-09-03T00:00:00\"}, {\"Source\": \"Humdata\", \"Country/Region\": \"Norway\", \"variable\": \"9/4/20\", \"value\": 11231, \"change\": 111.0, \"date\": \"2020-09-04T00:00:00\"}, {\"Source\": \"Humdata\", \"Country/Region\": \"Norway\", \"variable\": \"9/5/20\", \"value\": 11296, \"change\": 65.0, \"date\": \"2020-09-05T00:00:00\"}, {\"Source\": \"Humdata\", \"Country/Region\": \"Norway\", \"variable\": \"9/6/20\", \"value\": 11388, \"change\": 92.0, \"date\": \"2020-09-06T00:00:00\"}, {\"Source\": \"Humdata\", \"Country/Region\": \"Norway\", \"variable\": \"9/7/20\", \"value\": 11521, \"change\": 133.0, \"date\": \"2020-09-07T00:00:00\"}, {\"Source\": \"Humdata\", \"Country/Region\": \"Norway\", \"variable\": \"9/8/20\", \"value\": 11623, \"change\": 102.0, \"date\": \"2020-09-08T00:00:00\"}, {\"Source\": \"Humdata\", \"Country/Region\": \"Norway\", \"variable\": \"9/9/20\", \"value\": 11746, \"change\": 123.0, \"date\": \"2020-09-09T00:00:00\"}, {\"Source\": \"Humdata\", \"Country/Region\": \"Norway\", \"variable\": \"9/10/20\", \"value\": 11867, \"change\": 121.0, \"date\": \"2020-09-10T00:00:00\"}, {\"Source\": \"Humdata\", \"Country/Region\": \"Norway\", \"variable\": \"9/11/20\", \"value\": 12003, \"change\": 136.0, \"date\": \"2020-09-11T00:00:00\"}, {\"Source\": \"Humdata\", \"Country/Region\": \"Norway\", \"variable\": \"9/12/20\", \"value\": 12079, \"change\": 76.0, \"date\": \"2020-09-12T00:00:00\"}, {\"Source\": \"Humdata\", \"Country/Region\": \"Norway\", \"variable\": \"9/13/20\", \"value\": 12154, \"change\": 75.0, \"date\": \"2020-09-13T00:00:00\"}, {\"Source\": \"Humdata\", \"Country/Region\": \"Norway\", \"variable\": \"9/14/20\", \"value\": 12276, \"change\": 122.0, \"date\": \"2020-09-14T00:00:00\"}, {\"Source\": \"Humdata\", \"Country/Region\": \"Norway\", \"variable\": \"9/15/20\", \"value\": 12393, \"change\": 117.0, \"date\": \"2020-09-15T00:00:00\"}, {\"Source\": \"Humdata\", \"Country/Region\": \"Norway\", \"variable\": \"9/16/20\", \"value\": 12498, \"change\": 105.0, \"date\": \"2020-09-16T00:00:00\"}, {\"Source\": \"Humdata\", \"Country/Region\": \"Norway\", \"variable\": \"9/17/20\", \"value\": 12644, \"change\": 146.0, \"date\": \"2020-09-17T00:00:00\"}, {\"Source\": \"Humdata\", \"Country/Region\": \"Norway\", \"variable\": \"9/18/20\", \"value\": 12769, \"change\": 125.0, \"date\": \"2020-09-18T00:00:00\"}, {\"Source\": \"Humdata\", \"Country/Region\": \"Norway\", \"variable\": \"9/19/20\", \"value\": 12858, \"change\": 89.0, \"date\": \"2020-09-19T00:00:00\"}, {\"Source\": \"Humdata\", \"Country/Region\": \"Norway\", \"variable\": \"9/20/20\", \"value\": 12897, \"change\": 39.0, \"date\": \"2020-09-20T00:00:00\"}, {\"Source\": \"Humdata\", \"Country/Region\": \"Norway\", \"variable\": \"9/21/20\", \"value\": 13005, \"change\": 108.0, \"date\": \"2020-09-21T00:00:00\"}, {\"Source\": \"Humdata\", \"Country/Region\": \"Norway\", \"variable\": \"9/22/20\", \"value\": 13153, \"change\": 148.0, \"date\": \"2020-09-22T00:00:00\"}, {\"Source\": \"Humdata\", \"Country/Region\": \"Norway\", \"variable\": \"9/23/20\", \"value\": 13277, \"change\": 124.0, \"date\": \"2020-09-23T00:00:00\"}, {\"Source\": \"Humdata\", \"Country/Region\": \"Norway\", \"variable\": \"9/24/20\", \"value\": 13406, \"change\": 129.0, \"date\": \"2020-09-24T00:00:00\"}, {\"Source\": \"Humdata\", \"Country/Region\": \"Norway\", \"variable\": \"9/25/20\", \"value\": 13545, \"change\": 139.0, \"date\": \"2020-09-25T00:00:00\"}, {\"Source\": \"Humdata\", \"Country/Region\": \"Norway\", \"variable\": \"9/26/20\", \"value\": 13627, \"change\": 82.0, \"date\": \"2020-09-26T00:00:00\"}, {\"Source\": \"Humdata\", \"Country/Region\": \"Norway\", \"variable\": \"9/27/20\", \"value\": 13698, \"change\": 71.0, \"date\": \"2020-09-27T00:00:00\"}, {\"Source\": \"Humdata\", \"Country/Region\": \"Norway\", \"variable\": \"9/28/20\", \"value\": 13788, \"change\": 90.0, \"date\": \"2020-09-28T00:00:00\"}, {\"Source\": \"Humdata\", \"Country/Region\": \"Norway\", \"variable\": \"9/29/20\", \"value\": 13915, \"change\": 127.0, \"date\": \"2020-09-29T00:00:00\"}, {\"Source\": \"Humdata\", \"Country/Region\": \"Norway\", \"variable\": \"9/30/20\", \"value\": 14027, \"change\": 112.0, \"date\": \"2020-09-30T00:00:00\"}, {\"Source\": \"Humdata\", \"Country/Region\": \"Norway\", \"variable\": \"10/1/20\", \"value\": 14149, \"change\": 122.0, \"date\": \"2020-10-01T00:00:00\"}, {\"Source\": \"Humdata\", \"Country/Region\": \"Norway\", \"variable\": \"10/2/20\", \"value\": 14284, \"change\": 135.0, \"date\": \"2020-10-02T00:00:00\"}, {\"Source\": \"Humdata\", \"Country/Region\": \"Norway\", \"variable\": \"10/3/20\", \"value\": 14362, \"change\": 78.0, \"date\": \"2020-10-03T00:00:00\"}, {\"Source\": \"Humdata\", \"Country/Region\": \"Norway\", \"variable\": \"10/4/20\", \"value\": 14457, \"change\": 95.0, \"date\": \"2020-10-04T00:00:00\"}, {\"Source\": \"Humdata\", \"Country/Region\": \"Norway\", \"variable\": \"10/5/20\", \"value\": 14605, \"change\": 148.0, \"date\": \"2020-10-05T00:00:00\"}, {\"Source\": \"Humdata\", \"Country/Region\": \"Norway\", \"variable\": \"10/6/20\", \"value\": 14784, \"change\": 179.0, \"date\": \"2020-10-06T00:00:00\"}, {\"Source\": \"Humdata\", \"Country/Region\": \"Norway\", \"variable\": \"10/7/20\", \"value\": 15013, \"change\": 229.0, \"date\": \"2020-10-07T00:00:00\"}, {\"Source\": \"Humdata\", \"Country/Region\": \"Norway\", \"variable\": \"10/8/20\", \"value\": 15221, \"change\": 208.0, \"date\": \"2020-10-08T00:00:00\"}, {\"Source\": \"Humdata\", \"Country/Region\": \"Norway\", \"variable\": \"10/9/20\", \"value\": 15388, \"change\": 167.0, \"date\": \"2020-10-09T00:00:00\"}, {\"Source\": \"Humdata\", \"Country/Region\": \"Norway\", \"variable\": \"10/10/20\", \"value\": 15466, \"change\": 78.0, \"date\": \"2020-10-10T00:00:00\"}, {\"Source\": \"Humdata\", \"Country/Region\": \"Norway\", \"variable\": \"10/11/20\", \"value\": 15524, \"change\": 58.0, \"date\": \"2020-10-11T00:00:00\"}, {\"Source\": \"Humdata\", \"Country/Region\": \"Norway\", \"variable\": \"10/12/20\", \"value\": 15639, \"change\": 115.0, \"date\": \"2020-10-12T00:00:00\"}, {\"Source\": \"Humdata\", \"Country/Region\": \"Norway\", \"variable\": \"10/13/20\", \"value\": 15793, \"change\": 154.0, \"date\": \"2020-10-13T00:00:00\"}, {\"Source\": \"Humdata\", \"Country/Region\": \"Norway\", \"variable\": \"10/14/20\", \"value\": 15953, \"change\": 160.0, \"date\": \"2020-10-14T00:00:00\"}, {\"Source\": \"Humdata\", \"Country/Region\": \"Norway\", \"variable\": \"10/15/20\", \"value\": 16137, \"change\": 184.0, \"date\": \"2020-10-15T00:00:00\"}, {\"Source\": \"Humdata\", \"Country/Region\": \"Norway\", \"variable\": \"10/16/20\", \"value\": 16272, \"change\": 135.0, \"date\": \"2020-10-16T00:00:00\"}, {\"Source\": \"Humdata\", \"Country/Region\": \"Norway\", \"variable\": \"10/17/20\", \"value\": 16369, \"change\": 97.0, \"date\": \"2020-10-17T00:00:00\"}, {\"Source\": \"Humdata\", \"Country/Region\": \"Norway\", \"variable\": \"10/18/20\", \"value\": 16457, \"change\": 88.0, \"date\": \"2020-10-18T00:00:00\"}, {\"Source\": \"Humdata\", \"Country/Region\": \"Norway\", \"variable\": \"10/19/20\", \"value\": 16603, \"change\": 146.0, \"date\": \"2020-10-19T00:00:00\"}, {\"Source\": \"Humdata\", \"Country/Region\": \"Norway\", \"variable\": \"10/20/20\", \"value\": 16772, \"change\": 169.0, \"date\": \"2020-10-20T00:00:00\"}, {\"Source\": \"Humdata\", \"Country/Region\": \"Norway\", \"variable\": \"10/21/20\", \"value\": 16964, \"change\": 192.0, \"date\": \"2020-10-21T00:00:00\"}, {\"Source\": \"Humdata\", \"Country/Region\": \"Norway\", \"variable\": \"10/22/20\", \"value\": 17234, \"change\": 270.0, \"date\": \"2020-10-22T00:00:00\"}, {\"Source\": \"Humdata\", \"Country/Region\": \"Norway\", \"variable\": \"10/23/20\", \"value\": 17532, \"change\": 298.0, \"date\": \"2020-10-23T00:00:00\"}]}}, {\"mode\": \"vega-lite\"});\n",
       "</script>"
      ],
      "text/plain": [
       "alt.Chart(...)"
      ]
     },
     "execution_count": 15,
     "metadata": {},
     "output_type": "execute_result"
    }
   ],
   "source": [
    "line = base.mark_line(color='rgba(124,194,189,1)').encode(\n",
    "    y=alt.Y('value:Q', axis=alt.Axis(title='Total confirmed cases')),\n",
    "    x=alt.X('date:T', axis=alt.Axis(title='', format=\"%d %b %Y\", labelAngle=45, grid=False)),\n",
    "    tooltip =[alt.Tooltip('variable:O', title='Dato'), alt.Tooltip('value:Q', title='Antall')],\n",
    ")\n",
    "\n",
    "fig = line\n",
    "fig"
   ]
  },
  {
   "cell_type": "code",
   "execution_count": 16,
   "metadata": {},
   "outputs": [],
   "source": [
    "description = \"\"\"\n",
    "Total number of confirmed\n",
    "\"\"\"\n",
    "\n",
    "dp.vega(fig,\"Total Cases\", description)"
   ]
  },
  {
   "cell_type": "markdown",
   "metadata": {},
   "source": [
    "## Publish package"
   ]
  },
  {
   "cell_type": "code",
   "execution_count": 17,
   "metadata": {},
   "outputs": [
    {
     "name": "stdout",
     "output_type": "stream",
     "text": [
      "View: https://public.deetly.com/examples/483162a5b1a67895019b1bbb606b0a48 \n",
      "\n",
      "Metadata: https://storage.googleapis.com/deetly/examples/483162a5b1a67895019b1bbb606b0a48/datapackage.json \n",
      "\n"
     ]
    }
   ],
   "source": [
    "item = dp.publish()"
   ]
  }
 ],
 "metadata": {
  "kernelspec": {
   "display_name": "Python 3",
   "language": "python",
   "name": "python3"
  },
  "language_info": {
   "codemirror_mode": {
    "name": "ipython",
    "version": 3
   },
   "file_extension": ".py",
   "mimetype": "text/x-python",
   "name": "python",
   "nbconvert_exporter": "python",
   "pygments_lexer": "ipython3",
   "version": "3.8.2"
  }
 },
 "nbformat": 4,
 "nbformat_minor": 2
}
