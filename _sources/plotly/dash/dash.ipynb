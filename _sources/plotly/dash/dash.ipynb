{
 "cells": [
  {
   "cell_type": "markdown",
   "metadata": {},
   "source": [
    "# Dash example\n",
    "> Dash example"
   ]
  },
  {
   "cell_type": "code",
   "execution_count": 7,
   "metadata": {},
   "outputs": [],
   "source": [
    "import dash\n",
    "import dash_core_components as dcc\n",
    "import dash_html_components as html"
   ]
  },
  {
   "cell_type": "code",
   "execution_count": 12,
   "metadata": {},
   "outputs": [],
   "source": [
    "app = dash.Dash(__name__)\n",
    "\n",
    "app.layout = html.Div(children=[\n",
    "    html.H1(children='Dash'),\n",
    "\n",
    "    html.Div(children='''\n",
    "        A web application framework for Python.\n",
    "    '''),\n",
    "\n",
    "    dcc.Graph(\n",
    "        id='graph',\n",
    "        figure={\n",
    "            'data': [\n",
    "                {'x': [1, 2, 3], 'y': [4, 1, 2], 'type': 'bar', 'name': 'Bergen'},\n",
    "                {'x': [1, 2, 3], 'y': [2, 4, 5], 'type': 'bar', 'name': 'Oslo'},\n",
    "            ],\n",
    "            'layout': {\n",
    "                'title': 'Bergen vs Oslo'\n",
    "            }\n",
    "        }\n",
    "    )\n",
    "])"
   ]
  },
  {
   "cell_type": "raw",
   "metadata": {},
   "source": [
    "app.run_server(port = 8090, dev_tools_ui=True,\n",
    "              dev_tools_hot_reload =True, threaded=True)"
   ]
  },
  {
   "cell_type": "code",
   "execution_count": 13,
   "metadata": {},
   "outputs": [],
   "source": [
    "spec = app.serve_layout().get_data()"
   ]
  },
  {
   "cell_type": "code",
   "execution_count": 14,
   "metadata": {},
   "outputs": [
    {
     "data": {
      "text/plain": [
       "{'props': {'children': [{'props': {'children': 'Dash'},\n",
       "    'type': 'H1',\n",
       "    'namespace': 'dash_html_components'},\n",
       "   {'props': {'children': '\\n        A web application framework for Python.\\n    '},\n",
       "    'type': 'Div',\n",
       "    'namespace': 'dash_html_components'},\n",
       "   {'props': {'id': 'graph',\n",
       "     'figure': {'data': [{'x': [1, 2, 3],\n",
       "        'y': [4, 1, 2],\n",
       "        'type': 'bar',\n",
       "        'name': 'Bergen'},\n",
       "       {'x': [1, 2, 3], 'y': [2, 4, 5], 'type': 'bar', 'name': 'Oslo'}],\n",
       "      'layout': {'title': 'Bergen vs Oslo'}}},\n",
       "    'type': 'Graph',\n",
       "    'namespace': 'dash_core_components'}]},\n",
       " 'type': 'Div',\n",
       " 'namespace': 'dash_html_components'}"
      ]
     },
     "execution_count": 14,
     "metadata": {},
     "output_type": "execute_result"
    }
   ],
   "source": [
    "import json\n",
    "json.loads(spec)"
   ]
  }
 ],
 "metadata": {
  "kernelspec": {
   "display_name": "Python 3",
   "language": "python",
   "name": "python3"
  },
  "language_info": {
   "codemirror_mode": {
    "name": "ipython",
    "version": 3
   },
   "file_extension": ".py",
   "mimetype": "text/x-python",
   "name": "python",
   "nbconvert_exporter": "python",
   "pygments_lexer": "ipython3",
   "version": "3.8.2"
  }
 },
 "nbformat": 4,
 "nbformat_minor": 4
}
