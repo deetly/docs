{
 "cells": [
  {
   "cell_type": "markdown",
   "metadata": {
    "colab_type": "text",
    "id": "view-in-github"
   },
   "source": [
    "# Pydeck inntekt kommuner\n",
    "\n",
    "> https://data.ssb.no/api/v0/dataset/56957.csv?lang=no"
   ]
  },
  {
   "cell_type": "code",
   "execution_count": 1,
   "metadata": {},
   "outputs": [],
   "source": [
    "import json\n",
    "import os\n",
    "import requests\n",
    "import deetly\n",
    "import geopandas as gp\n",
    "import numpy as np\n",
    "import pandas as pd\n",
    "import pydeck"
   ]
  },
  {
   "cell_type": "code",
   "execution_count": 2,
   "metadata": {},
   "outputs": [],
   "source": [
    "MAPBOX_TOKEN = os.environ['MAPBOX_TOKEN'] "
   ]
  },
  {
   "cell_type": "code",
   "execution_count": 3,
   "metadata": {},
   "outputs": [],
   "source": [
    "MAP_URL = 'https://raw.githubusercontent.com/datasett/maps/master/norway/data/counties_2018_s_geojson.json'"
   ]
  },
  {
   "cell_type": "code",
   "execution_count": 4,
   "metadata": {
    "tags": []
   },
   "outputs": [],
   "source": [
    "package = {\n",
    "    \"name\":\"Norwegian Counties Income Above 750k\", \n",
    "    \"keywords\": [\"examples\", \"pydeck\", \"counties\", \"maps\"]\n",
    "}\n",
    "\n",
    "ds = deetly.story(package)"
   ]
  },
  {
   "cell_type": "code",
   "execution_count": 5,
   "metadata": {},
   "outputs": [],
   "source": [
    "df = pd.read_csv('https://data.ssb.no/api/v0/dataset/56957.csv?lang=no', encoding='latin1', sep=';')"
   ]
  },
  {
   "cell_type": "code",
   "execution_count": 6,
   "metadata": {},
   "outputs": [],
   "source": [
    "df['kommunenummer']=df['region'].apply(lambda x: x[0:4])\n",
    "df.rename(columns={'07182: Husholdninger, etter region, statistikkvariabel og år': 'prosent'}, inplace=True)"
   ]
  },
  {
   "cell_type": "code",
   "execution_count": 7,
   "metadata": {},
   "outputs": [
    {
     "data": {
      "text/html": [
       "<div>\n",
       "<style scoped>\n",
       "    .dataframe tbody tr th:only-of-type {\n",
       "        vertical-align: middle;\n",
       "    }\n",
       "\n",
       "    .dataframe tbody tr th {\n",
       "        vertical-align: top;\n",
       "    }\n",
       "\n",
       "    .dataframe thead th {\n",
       "        text-align: right;\n",
       "    }\n",
       "</style>\n",
       "<table border=\"1\" class=\"dataframe\">\n",
       "  <thead>\n",
       "    <tr style=\"text-align: right;\">\n",
       "      <th></th>\n",
       "      <th>region</th>\n",
       "      <th>statistikkvariabel</th>\n",
       "      <th>år</th>\n",
       "      <th>prosent</th>\n",
       "      <th>kommunenummer</th>\n",
       "    </tr>\n",
       "  </thead>\n",
       "  <tbody>\n",
       "    <tr>\n",
       "      <th>0</th>\n",
       "      <td>0101 Halden (-2019)</td>\n",
       "      <td>Antall husholdninger</td>\n",
       "      <td>2006</td>\n",
       "      <td>12575</td>\n",
       "      <td>0101</td>\n",
       "    </tr>\n",
       "  </tbody>\n",
       "</table>\n",
       "</div>"
      ],
      "text/plain": [
       "                region    statistikkvariabel    år prosent kommunenummer\n",
       "0  0101 Halden (-2019)  Antall husholdninger  2006   12575          0101"
      ]
     },
     "execution_count": 7,
     "metadata": {},
     "output_type": "execute_result"
    }
   ],
   "source": [
    "df.head(1)"
   ]
  },
  {
   "cell_type": "code",
   "execution_count": 8,
   "metadata": {},
   "outputs": [
    {
     "data": {
      "text/plain": [
       "array(['Antall husholdninger',\n",
       "       'Inntekt etter skatt under 150 000 kr, prosent',\n",
       "       'Inntekt etter skatt 150 000 - 249 999 kr, prosent',\n",
       "       'Inntekt etter skatt 250 000 - 349 999 kr, prosent',\n",
       "       'Inntekt etter skatt 350 000 - 449 999 kr, prosent',\n",
       "       'Inntekt etter skatt 450 000 - 549 999 kr, prosent',\n",
       "       'Inntekt etter skatt 550 000 - 749 999 kr, prosent',\n",
       "       'Inntekt etter skatt 750 000 kr og over, prosent'], dtype=object)"
      ]
     },
     "execution_count": 8,
     "metadata": {},
     "output_type": "execute_result"
    }
   ],
   "source": [
    "df['statistikkvariabel'].unique()"
   ]
  },
  {
   "cell_type": "code",
   "execution_count": 9,
   "metadata": {},
   "outputs": [
    {
     "data": {
      "text/plain": [
       "array(['0101 Halden (-2019)', '0104 Moss (-2019)',\n",
       "       '0105 Sarpsborg (1992-2019)', '0106 Fredrikstad (1994-2019)',\n",
       "       '0111 Hvaler (-2019)', '0118 Aremark (-2019)',\n",
       "       '0119 Marker (1964-2019)', '0121 Rømskog (-2019)',\n",
       "       '0122 Trøgstad (-2019)', '0123 Spydeberg (-2019)',\n",
       "       '0124 Askim (-2019)', '0125 Eidsberg (-2019)',\n",
       "       '0127 Skiptvet (-2019)', '0128 Rakkestad (-2019)',\n",
       "       '0135 Råde (-2019)', '0136 Rygge (-2019)',\n",
       "       '0137 Våler (Østfold) (-2019)', '0138 Hobøl (-2019)',\n",
       "       '0211 Vestby (-2019)', '0213 Ski (1931-2019)', '0214 Ås (-2019)',\n",
       "       '0215 Frogn (-2019)', '0216 Nesodden (-2019)',\n",
       "       '0217 Oppegård (1915-2019)', '0219 Bærum (-2019)',\n",
       "       '0220 Asker (-2019)', '0221 Aurskog-Høland (1966-2019)',\n",
       "       '0226 Sørum (-2019)', '0227 Fet (-2019)',\n",
       "       '0228 Rælingen (1929-2019)', '0229 Enebakk (-2019)',\n",
       "       '0230 Lørenskog (1908-2019)', '0231 Skedsmo (-2019)',\n",
       "       '0233 Nittedal (-2019)', '0234 Gjerdrum (-2019)',\n",
       "       '0235 Ullensaker (-2019)', '0236 Nes (Akershus) (-2019)',\n",
       "       '0237 Eidsvoll (-2019)', '0238 Nannestad (-2019)',\n",
       "       '0239 Hurdal (-2019)', '0602 Drammen (-2019)',\n",
       "       '0604 Kongsberg (-2019)', '0605 Ringerike (1977-2019)',\n",
       "       '0612 Hole (1977-2019)', '0615 Flå (-2019)',\n",
       "       '0616 Nes (Buskerud) (-2019)', '0617 Gol (-2019)',\n",
       "       '0618 Hemsedal (-2019)', '0619 Ål (-2019)', '0620 Hol (-2019)',\n",
       "       '0621 Sigdal (-2019)', '0622 Krødsherad (-2019)',\n",
       "       '0623 Modum (-2019)', '0624 Øvre Eiker (-2019)',\n",
       "       '0625 Nedre Eiker (-2019)', '0626 Lier (-2019)',\n",
       "       '0627 Røyken (-2019)', '0628 Hurum (-2019)',\n",
       "       '0631 Flesberg (-2019)', '0632 Rollag (-2019)',\n",
       "       '0633 Nore og Uvdal (1962-2019)', '0301 Oslo kommune',\n",
       "       '0402 Kongsvinger (-2019)', '0403 Hamar (1992-2019)',\n",
       "       '0412 Ringsaker (-2019)', '0415 Løten (-2019)',\n",
       "       '0417 Stange (-2019)', '0418 Nord-Odal (-2019)',\n",
       "       '0419 Sør-Odal (-2019)', '0420 Eidskog (-2019)',\n",
       "       '0423 Grue (-2019)', '0425 Åsnes (-2019)',\n",
       "       '0426 Våler (Hedmark) (-2019)', '0427 Elverum (-2019)',\n",
       "       '0428 Trysil (-2019)', '0429 Åmot (-2019)',\n",
       "       '0430 Stor-Elvdal (-2019)', '0432 Rendalen (1965-2019)',\n",
       "       '0434 Engerdal (1911-2019)', '0436 Tolga (-2019)',\n",
       "       '0437 Tynset (-2019)', '0438 Alvdal (-2019)',\n",
       "       '0439 Folldal (1914-2019)', '0441 Os (Hedmark) (1976-2019)',\n",
       "       '0501 Lillehammer (-2019)', '0502 Gjøvik (-2019)',\n",
       "       '0511 Dovre (-2019)', '0512 Lesja (-2019)', '0513 Skjåk (-2019)',\n",
       "       '0514 Lom (-2019)', '0515 Vågå (-2019)',\n",
       "       '0516 Nord-Fron (1977-2019)', '0517 Sel (1908-2019)',\n",
       "       '0519 Sør-Fron (-2019)', '0520 Ringebu (-2019)',\n",
       "       '0521 Øyer (-2019)', '0522 Gausdal (1962-2019)',\n",
       "       '0528 Østre Toten (-2019)', '0529 Vestre Toten (-2019)',\n",
       "       '0532 Jevnaker (-2019)', '0533 Lunner (-2019)',\n",
       "       '0534 Gran (-2019)', '0536 Søndre Land (-2019)',\n",
       "       '0538 Nordre Land (-2019)', '0540 Sør-Aurdal (-2019)',\n",
       "       '0541 Etnedal (-2019)', '0542 Nord-Aurdal (-2019)',\n",
       "       '0543 Vestre Slidre (-2019)', '0544 Øystre Slidre (-2019)',\n",
       "       '0545 Vang (-2019)', '0701 Horten (2002-2019)',\n",
       "       '0702 Holmestrand (-2017)', '0704 Tønsberg (1988-2019)',\n",
       "       '0706 Sandefjord (-2016)', '0709 Larvik (1988-2017)',\n",
       "       '0711 Svelvik (1964-2019)', '0713 Sande (Vestfold) (-2019)',\n",
       "       '0714 Hof (-2017)', '0716 Re (2002-2019)', '0719 Andebu (-2016)',\n",
       "       '0720 Stokke (-2016)', '0722 Nøtterøy (-2017)',\n",
       "       '0723 Tjøme (-2017)', '0728 Lardal (-2017)',\n",
       "       '0805 Porsgrunn (-2019)', '0806 Skien (-2019)',\n",
       "       '0807 Notodden (1913-2019)', '0811 Siljan (-2019)',\n",
       "       '0814 Bamble (-2019)', '0815 Kragerø (1960-2019)',\n",
       "       '0817 Drangedal (-2019)', '0819 Nome (1964-2019)',\n",
       "       '0821 Bø (Telemark) (-2019)', '0822 Sauherad (-2019)',\n",
       "       '0826 Tinn (-2019)', '0827 Hjartdal (-2019)',\n",
       "       '0828 Seljord (-2019)', '0829 Kviteseid (-2019)',\n",
       "       '0830 Nissedal (-2019)', '0831 Fyresdal (-2019)',\n",
       "       '0833 Tokke (1964-2019)', '0834 Vinje (-2019)',\n",
       "       '0901 Risør (-2019)', '0904 Grimstad (-2019)',\n",
       "       '0906 Arendal (1992-2019)', '0911 Gjerstad (-2019)',\n",
       "       '0912 Vegårshei (-2019)', '0914 Tvedestrand (-2019)',\n",
       "       '0919 Froland (-2019)', '0926 Lillesand (1962-2019)',\n",
       "       '0928 Birkenes (-2019)', '0929 Åmli (-2019)',\n",
       "       '0935 Iveland (-2019)', '0937 Evje og Hornnes (1960-2019)',\n",
       "       '0938 Bygland (-2019)', '0940 Valle (-2019)', '0941 Bykle (-2019)',\n",
       "       '1001 Kristiansand (-2019)', '1002 Mandal (-2019)',\n",
       "       '1003 Farsund (-2019)', '1004 Flekkefjord (-2019)',\n",
       "       '1014 Vennesla (-2019)', '1017 Songdalen (1964-2019)',\n",
       "       '1018 Søgne (-2019)', '1021 Marnardal (1964-2019)',\n",
       "       '1026 Åseral (-2019)', '1027 Audnedal (1964-2019)',\n",
       "       '1029 Lindesnes (1964-2019)', '1032 Lyngdal (-2019)',\n",
       "       '1034 Hægebostad (-2019)', '1037 Kvinesdal (-2019)',\n",
       "       '1046 Sirdal (1960-2019)', '1101 Eigersund',\n",
       "       '1102 Sandnes (-2019)', '1103 Stavanger', '1106 Haugesund',\n",
       "       '1111 Sokndal', '1112 Lund', '1114 Bjerkreim', '1119 Hå',\n",
       "       '1120 Klepp', '1121 Time', '1122 Gjesdal', '1124 Sola',\n",
       "       '1127 Randaberg', '1129 Forsand (-2019)', '1130 Strand',\n",
       "       '1133 Hjelmeland', '1134 Suldal', '1135 Sauda',\n",
       "       '1141 Finnøy (-2019)', '1142 Rennesøy (-2019)', '1144 Kvitsøy',\n",
       "       '1145 Bokn', '1146 Tysvær', '1149 Karmøy', '1151 Utsira',\n",
       "       '1154 Vindafjord (1965-2005)', '1159 Ølen (2002-2005)',\n",
       "       '1160 Vindafjord', '1201 Bergen (1972-2019)', '1211 Etne (-2019)',\n",
       "       '1216 Sveio (-2019)', '1219 Bømlo (1916-2019)',\n",
       "       '1221 Stord (-2019)', '1222 Fitjar (-2019)', '1223 Tysnes (-2019)',\n",
       "       '1224 Kvinnherad (-2019)', '1227 Jondal (-2019)',\n",
       "       '1228 Odda (1913-2019)', '1231 Ullensvang (1977-2019)',\n",
       "       '1232 Eidfjord (-2019)', '1233 Ulvik (-2019)',\n",
       "       '1234 Granvin (-2019)', '1235 Voss (-2019)', '1238 Kvam (-2019)',\n",
       "       '1241 Fusa (-2019)', '1242 Samnanger (1907-2019)',\n",
       "       '1243 Os (Hordaland) (-2019)', '1244 Austevoll (-2019)',\n",
       "       '1245 Sund (-2019)', '1246 Fjell (-2019)', '1247 Askøy (-2019)',\n",
       "       '1251 Vaksdal (1964-2019)', '1252 Modalen (1910-2019)',\n",
       "       '1253 Osterøy (1964-2019)', '1256 Meland (1924-2019)',\n",
       "       '1259 Øygarden (1964-2019)', '1260 Radøy (1964-2019)',\n",
       "       '1263 Lindås (-2019)', '1264 Austrheim (1910-2019)',\n",
       "       '1265 Fedje (1948-2019)', '1266 Masfjorden (-2019)',\n",
       "       '1401 Flora (1964-2019)', '1411 Gulen (-2019)',\n",
       "       '1412 Solund (-2019)', '1413 Hyllestad (-2019)',\n",
       "       '1416 Høyanger (1964-2019)', '1417 Vik (-2019)',\n",
       "       '1418 Balestrand (-2019)', '1419 Leikanger (-2019)',\n",
       "       '1420 Sogndal (-2019)', '1421 Aurland (-2019)',\n",
       "       '1422 Lærdal (-2019)', '1424 Årdal (-2019)', '1426 Luster (-2019)',\n",
       "       '1428 Askvoll (-2019)', '1429 Fjaler (-2019)',\n",
       "       '1430 Gaular (-2019)', '1431 Jølster (-2019)',\n",
       "       '1432 Førde (-2019)', '1433 Naustdal (-2019)',\n",
       "       '1438 Bremanger (-2019)', '1439 Vågsøy (1964-2019)',\n",
       "       '1441 Selje (-2019)', '1443 Eid (-2019)', '1444 Hornindal (-2019)',\n",
       "       '1445 Gloppen (-2019)', '1449 Stryn (1977-2019)',\n",
       "       '1502 Molde (-2019)', '1503 Kristiansund  (-2007)',\n",
       "       '1504 Ålesund (1977-2019)', '1505 Kristiansund', '1511 Vanylven',\n",
       "       '1514 Sande (Møre og Romsdal)', '1515 Herøy (Møre og Romsdal)',\n",
       "       '1516 Ulstein', '1517 Hareid', '1519 Volda (-2019)', '1520 Ørsta',\n",
       "       '1523 Ørskog (1977-2019)', '1524 Norddal (-2019)', '1525 Stranda',\n",
       "       '1526 Stordal (-2019)', '1528 Sykkylven', '1529 Skodje (-2019)',\n",
       "       '1531 Sula', '1532 Giske', '1534 Haram (-2019)', '1535 Vestnes',\n",
       "       '1539 Rauma', '1543 Nesset (-2019)', '1545 Midsund (1965-2019)',\n",
       "       '1546 Sandøy (-2019)', '1547 Aukra', '1548 Fræna (-2019)',\n",
       "       '1551 Eide (-2019)', '1554 Averøy', '1556 Frei (-2007)',\n",
       "       '1557 Gjemnes', '1560 Tingvoll', '1563 Sunndal', '1566 Surnadal',\n",
       "       '1567 Rindal (-2018)', '1569 Aure (-2005)', '1571 Halsa (-2019)',\n",
       "       '1572 Tustna (-2005)', '1573 Smøla', '1576 Aure',\n",
       "       '1601 Trondheim (-2017)', '1612 Hemne (-2017)',\n",
       "       '1613 Snillfjord (1924-2017)', '1617 Hitra (-2017)',\n",
       "       '1620 Frøya (1964-2017)', '1621 Ørland (-2017)',\n",
       "       '1622 Agdenes (-2017)', '1624 Rissa (-2017)', '1627 Bjugn (-2017)',\n",
       "       '1630 Åfjord (-2017)', '1632 Roan (-2017)', '1633 Osen (-2017)',\n",
       "       '1634 Oppdal (-2017)', '1635 Rennebu (-2017)',\n",
       "       '1636 Meldal (-2017)', '1638 Orkdal (-2017)', '1640 Røros (-2017)',\n",
       "       '1644 Holtålen (1972-2017)', '1648 Midtre Gauldal (1964-2017)',\n",
       "       '1653 Melhus (-2017)', '1657 Skaun (-2017)', '1662 Klæbu (-2017)',\n",
       "       '1663 Malvik (-2017)', '1664 Selbu (-2017)', '1665 Tydal (-2017)',\n",
       "       '1702 Steinkjer (-2017)', '1703 Namsos (-2017)',\n",
       "       '1711 Meråker (-2017)', '1714 Stjørdal (-2017)',\n",
       "       '1717 Frosta (-2017)', '1718 Leksvik (-2017)',\n",
       "       '1719 Levanger (1962-2017)', '1721 Verdal (-2017)',\n",
       "       '1723 Mosvik  (-2011)', '1724 Verran (-2017)',\n",
       "       '1725 Namdalseid (-2017)', '1729 Inderøy (-2011)',\n",
       "       '1736 Snåase - Snåsa (-2017)', '1738 Lierne (1964-2017)',\n",
       "       '1739 Raarvihke - Røyrvik (1923-2017)',\n",
       "       '1740 Namsskogan (1923-2017)', '1742 Grong (-2017)',\n",
       "       '1743 Høylandet (-2017)', '1744 Overhalla (-2017)',\n",
       "       '1748 Fosnes (-2017)', '1749 Flatanger (-2017)',\n",
       "       '1750 Vikna (-2017)', '1751 Nærøy (-2017)', '1755 Leka (-2017)',\n",
       "       '1756 Inderøy (2012-2017)', '1804 Bodø', '1805 Narvik (-2019)',\n",
       "       '1811 Bindal', '1812 Sømna', '1813 Brønnøy', '1815 Vega',\n",
       "       '1816 Vevelstad', '1818 Herøy (Nordland)', '1820 Alstahaug',\n",
       "       '1822 Leirfjord', '1824 Vefsn', '1825 Grane', '1826 Hattfjelldal',\n",
       "       '1827 Dønna', '1828 Nesna', '1832 Hemnes', '1833 Rana',\n",
       "       '1834 Lurøy', '1835 Træna', '1836 Rødøy', '1837 Meløy',\n",
       "       '1838 Gildeskål', '1839 Beiarn', '1840 Saltdal',\n",
       "       '1841 Fauske - Fuossko', '1842 Skjerstad (-2004)', '1845 Sørfold',\n",
       "       '1848 Steigen', '1849 Hamarøy - Hábmer (-2019)',\n",
       "       '1850 Divtasvuodna - Tysfjord (-2019)', '1851 Lødingen',\n",
       "       '1852 Tjeldsund (1909-2019)', '1853 Evenes',\n",
       "       '1854 Ballangen (1925-2019)', '1856 Røst', '1857 Værøy',\n",
       "       '1859 Flakstad', '1860 Vestvågøy', '1865 Vågan', '1866 Hadsel',\n",
       "       '1867 Bø (Nordland)', '1868 Øksnes', '1870 Sortland - Suortá',\n",
       "       '1871 Andøy', '1874 Moskenes', '1901 Harstad (-2012)',\n",
       "       '1902 Tromsø (-2019)', '1911 Kvæfjord (-2019)',\n",
       "       '1913 Skånland (1926-2019)', '1915 Bjarkøy (-2012)',\n",
       "       '1917 Ibestad (-2019)', '1919 Gratangen (1926-2019)',\n",
       "       '1920 Loabák - Lavangen (1907-2019)', '1922 Bardu (-2019)',\n",
       "       '1923 Salangen (1977-2019)', '1924 Målselv (-2019)',\n",
       "       '1925 Sørreisa (-2019)', '1926 Dyrøy (-2019)',\n",
       "       '1927 Tranøy (-2019)', '1928 Torsken (-2019)', '1929 Berg (-2019)',\n",
       "       '1931 Lenvik (-2019)', '1933 Balsfjord (-2019)',\n",
       "       '1936 Karlsøy (-2019)', '1938 Lyngen (-2019)',\n",
       "       '1939 Storfjord - Omasvuotna - Omasvuono (1931-2019)',\n",
       "       '1940 Gáivuotna - Kåfjord - Kaivuono (1931-2019)',\n",
       "       '1941 Skjervøy (-2019)', '1942 Nordreisa - Ráisa - Raisi (-2019)',\n",
       "       '1943 Kvænangen (-2019)', '2002 Vardø (-2019)',\n",
       "       '2003 Vadsø (-2019)', '2004 Hammerfest (1992-2019)',\n",
       "       '2011 Guovdageaidnu - Kautokeino (-2019)', '2012 Alta (-2019)',\n",
       "       '2014 Loppa (-2019)', '2015 Hasvik (-2019)',\n",
       "       '2017 Kvalsund (-2019)', '2018 Måsøy (-2019)',\n",
       "       '2019 Nordkapp (-2019)',\n",
       "       '2020 Porsanger - Porsángu - Porsanki (1964-2019)',\n",
       "       '2021 Kárásjohka - Karasjok (-2019)', '2022 Lebesby (-2019)',\n",
       "       '2023 Gamvik (1914-2019)', '2024 Berlevåg (1914-2019)',\n",
       "       '2025 Deatnu - Tana (-2019)', '2027 Unjárga - Nesseby (-2019)',\n",
       "       '2028 Båtsfjord (1955-2019)', '2030 Sør-Varanger (-2019)'],\n",
       "      dtype=object)"
      ]
     },
     "execution_count": 9,
     "metadata": {},
     "output_type": "execute_result"
    }
   ],
   "source": [
    "df['region'].unique()"
   ]
  },
  {
   "cell_type": "code",
   "execution_count": 10,
   "metadata": {},
   "outputs": [],
   "source": [
    "df_high = df[(df['statistikkvariabel']=='Inntekt etter skatt 750 000 kr og over, prosent') & (df['år']==2019)]"
   ]
  },
  {
   "cell_type": "code",
   "execution_count": 11,
   "metadata": {},
   "outputs": [
    {
     "data": {
      "text/html": [
       "<div>\n",
       "<style scoped>\n",
       "    .dataframe tbody tr th:only-of-type {\n",
       "        vertical-align: middle;\n",
       "    }\n",
       "\n",
       "    .dataframe tbody tr th {\n",
       "        vertical-align: top;\n",
       "    }\n",
       "\n",
       "    .dataframe thead th {\n",
       "        text-align: right;\n",
       "    }\n",
       "</style>\n",
       "<table border=\"1\" class=\"dataframe\">\n",
       "  <thead>\n",
       "    <tr style=\"text-align: right;\">\n",
       "      <th></th>\n",
       "      <th>region</th>\n",
       "      <th>statistikkvariabel</th>\n",
       "      <th>år</th>\n",
       "      <th>prosent</th>\n",
       "      <th>kommunenummer</th>\n",
       "    </tr>\n",
       "  </thead>\n",
       "  <tbody>\n",
       "    <tr>\n",
       "      <th>111</th>\n",
       "      <td>0101 Halden (-2019)</td>\n",
       "      <td>Inntekt etter skatt 750 000 kr og over, prosent</td>\n",
       "      <td>2019</td>\n",
       "      <td>25</td>\n",
       "      <td>0101</td>\n",
       "    </tr>\n",
       "  </tbody>\n",
       "</table>\n",
       "</div>"
      ],
      "text/plain": [
       "                  region                               statistikkvariabel  \\\n",
       "111  0101 Halden (-2019)  Inntekt etter skatt 750 000 kr og over, prosent   \n",
       "\n",
       "       år prosent kommunenummer  \n",
       "111  2019      25          0101  "
      ]
     },
     "execution_count": 11,
     "metadata": {},
     "output_type": "execute_result"
    }
   ],
   "source": [
    "df_high.head(1)"
   ]
  },
  {
   "cell_type": "code",
   "execution_count": 12,
   "metadata": {},
   "outputs": [
    {
     "data": {
      "text/html": [
       "<div>\n",
       "<style scoped>\n",
       "    .dataframe tbody tr th:only-of-type {\n",
       "        vertical-align: middle;\n",
       "    }\n",
       "\n",
       "    .dataframe tbody tr th {\n",
       "        vertical-align: top;\n",
       "    }\n",
       "\n",
       "    .dataframe thead th {\n",
       "        text-align: right;\n",
       "    }\n",
       "</style>\n",
       "<table border=\"1\" class=\"dataframe\">\n",
       "  <thead>\n",
       "    <tr style=\"text-align: right;\">\n",
       "      <th></th>\n",
       "      <th>id</th>\n",
       "      <th>kommunenummer</th>\n",
       "      <th>oppdateringsdato</th>\n",
       "      <th>navn</th>\n",
       "      <th>area_kommune</th>\n",
       "      <th>fylke_nummer_2018</th>\n",
       "      <th>fylke_nummer_2019</th>\n",
       "      <th>fylke_navn_2019</th>\n",
       "      <th>fylke_nummer_2020</th>\n",
       "      <th>fylke_navn_2020</th>\n",
       "      <th>geometry</th>\n",
       "      <th>region</th>\n",
       "      <th>statistikkvariabel</th>\n",
       "      <th>år</th>\n",
       "      <th>prosent</th>\n",
       "    </tr>\n",
       "  </thead>\n",
       "  <tbody>\n",
       "    <tr>\n",
       "      <th>0</th>\n",
       "      <td>0</td>\n",
       "      <td>0101</td>\n",
       "      <td>2018-12-10T00:00:00</td>\n",
       "      <td>Halden</td>\n",
       "      <td>0.100015</td>\n",
       "      <td>01</td>\n",
       "      <td>01</td>\n",
       "      <td>ØSTFOLD</td>\n",
       "      <td>30</td>\n",
       "      <td>VIKEN</td>\n",
       "      <td>POLYGON ((11.55794 59.25961, 11.71052 59.03368...</td>\n",
       "      <td>0101 Halden (-2019)</td>\n",
       "      <td>Inntekt etter skatt 750 000 kr og over, prosent</td>\n",
       "      <td>2019</td>\n",
       "      <td>25</td>\n",
       "    </tr>\n",
       "  </tbody>\n",
       "</table>\n",
       "</div>"
      ],
      "text/plain": [
       "  id kommunenummer     oppdateringsdato    navn  area_kommune  \\\n",
       "0  0          0101  2018-12-10T00:00:00  Halden      0.100015   \n",
       "\n",
       "  fylke_nummer_2018 fylke_nummer_2019 fylke_navn_2019 fylke_nummer_2020  \\\n",
       "0                01                01         ØSTFOLD                30   \n",
       "\n",
       "  fylke_navn_2020                                           geometry  \\\n",
       "0           VIKEN  POLYGON ((11.55794 59.25961, 11.71052 59.03368...   \n",
       "\n",
       "                region                               statistikkvariabel    år  \\\n",
       "0  0101 Halden (-2019)  Inntekt etter skatt 750 000 kr og over, prosent  2019   \n",
       "\n",
       "  prosent  \n",
       "0      25  "
      ]
     },
     "execution_count": 12,
     "metadata": {},
     "output_type": "execute_result"
    }
   ],
   "source": [
    "df_geo = gp.read_file(MAP_URL)\n",
    "df_high_geo = df_geo.merge(df_high, on='kommunenummer')\n",
    "df_high_geo.head(1)"
   ]
  },
  {
   "cell_type": "code",
   "execution_count": 15,
   "metadata": {},
   "outputs": [],
   "source": [
    "# Map centered on Trondheim, Norway\n",
    "view_state_norway = pydeck.ViewState(\n",
    "    longitude = 17,\n",
    "    latitude= 64,\n",
    "    zoom= 3,\n",
    "    minZoom= 3,\n",
    "    maxZoom= 12,\n",
    "    pitch= 45,\n",
    "    bearing= 0)"
   ]
  },
  {
   "cell_type": "code",
   "execution_count": 16,
   "metadata": {},
   "outputs": [
    {
     "data": {
      "application/vnd.jupyter.widget-view+json": {
       "model_id": "0d1cc02c8cbf48dbab8305533b77dc43",
       "version_major": 2,
       "version_minor": 0
      },
      "text/plain": [
       "DeckGLWidget(carto_key=None, custom_libraries=[], google_maps_key=None, json_input='{\"initialViewState\": {\"bea…"
      ]
     },
     "metadata": {},
     "output_type": "display_data"
    }
   ],
   "source": [
    "df_geo = gp.read_file(MAP_URL)\n",
    "\n",
    "layer = pydeck.Layer(\n",
    "    'GeoJsonLayer',\n",
    "    df_high_geo,\n",
    "    stroked = False,\n",
    "    filled = True,\n",
    "    extruded = True,\n",
    "    wireframe = False,\n",
    "    elevationScale = 8000,\n",
    "    elevation_range=[20, 40],\n",
    "    get_elevation = 'prosent',\n",
    "    width_min_pixels=5,\n",
    "    get_fill_color='[255, 255, 2.5*prosent]',\n",
    "    getLineColor = '[255, 255, 2.5*prosent]',\n",
    "    pickable=True\n",
    ")\n",
    "\n",
    "\n",
    "tooltip={\n",
    "        'html': '<b>Kommune: </b>{navn}</br>\\\n",
    "                Fylke: {fylke_navn_2020}</br>\\\n",
    "                Andel: {prosent}',\n",
    "        'style': {\n",
    "            'color': 'black',\n",
    "            'backgroundColor':'#efefef',\n",
    "            'zIndex': 999\n",
    "        }\n",
    "    }\n",
    "\n",
    "# Render\n",
    "fig = pydeck.Deck(layers=[layer],\n",
    "                  initial_view_state=view_state_norway,\n",
    "                  #api_keys={\"mapbox\":MAPBOX_TOKEN},\n",
    "                  tooltip=tooltip\n",
    ")\n",
    "\n",
    "fig.show()"
   ]
  },
  {
   "cell_type": "code",
   "execution_count": 18,
   "metadata": {},
   "outputs": [],
   "source": [
    "# Add figure to data package\n",
    "ds.pydeck(fig, \"Andel med inntekt over 750k\",showMap=False, tooltip=json.dumps(tooltip))"
   ]
  },
  {
   "cell_type": "markdown",
   "metadata": {},
   "source": [
    "## Publish"
   ]
  },
  {
   "cell_type": "code",
   "execution_count": 19,
   "metadata": {
    "tags": []
   },
   "outputs": [
    {
     "name": "stdout",
     "output_type": "stream",
     "text": [
      "Publishing story Norwegian Counties Income Above 750k to the examples space...\n",
      "Published at: https://public.deetly.com/examples/ddb4128518ee150f3172271d3488521b \n",
      "\n",
      "Metadata: https://storage.googleapis.com/deetly/examples/ddb4128518ee150f3172271d3488521b/datapackage.json \n",
      "\n"
     ]
    }
   ],
   "source": [
    "# publish datastory\n",
    "ds.publish()"
   ]
  },
  {
   "cell_type": "code",
   "execution_count": null,
   "metadata": {},
   "outputs": [],
   "source": []
  }
 ],
 "metadata": {
  "colab": {
   "authorship_tag": "ABX9TyPS8+e7P6oStqXEaagxFBFc",
   "include_colab_link": true,
   "name": "example_pydeck_kommuner.ipynb",
   "provenance": []
  },
  "kernelspec": {
   "display_name": "Python 3",
   "language": "python",
   "name": "python3"
  },
  "language_info": {
   "codemirror_mode": {
    "name": "ipython",
    "version": 3
   },
   "file_extension": ".py",
   "mimetype": "text/x-python",
   "name": "python",
   "nbconvert_exporter": "python",
   "pygments_lexer": "ipython3",
   "version": "3.7.9"
  }
 },
 "nbformat": 4,
 "nbformat_minor": 2
}
