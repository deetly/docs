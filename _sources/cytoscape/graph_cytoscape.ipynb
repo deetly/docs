{
 "cells": [
  {
   "cell_type": "markdown",
   "metadata": {
    "colab_type": "text",
    "id": "view-in-github"
   },
   "source": [
    "# Cytoscape example\n",
    "> An example of graph visualization with Cytoscape."
   ]
  },
  {
   "cell_type": "code",
   "execution_count": 1,
   "metadata": {
    "colab": {},
    "colab_type": "code",
    "id": "mH6uBQ7ia40W"
   },
   "outputs": [],
   "source": [
    "import deetly\n",
    "from cyjupyter import Cytoscape\n",
    "import pandas as pd"
   ]
  },
  {
   "cell_type": "code",
   "execution_count": 2,
   "metadata": {
    "colab": {},
    "colab_type": "code",
    "id": "bWHX_wcZbrqq",
    "tags": []
   },
   "outputs": [
    {
     "name": "stdout",
     "output_type": "stream",
     "text": [
      "Missing mandatory props(s): ['title']\n",
      "Missing recommended props(s): ['contactPoint', 'distribution', 'publisher', 'spatial', 'temporal']\n",
      "Property not in DCAT schema: ['name', 'author', 'license']\n",
      "Invalid type: ['String:name', 'String:description', 'String:author', 'String or list of strings:theme', 'String:license', 'String or list of strings:keyword', 'ISO date or datetime:issued', 'ISO date or datetime:modified']\n"
     ]
    }
   ],
   "source": [
    "# Create datapackage\n",
    "description = \"\"\"\n",
    "# Example graph with cytoscape\n",
    "\"\"\"\n",
    "\n",
    "package = {\n",
    "    \"name\":\"Example graph with cytoscape\", \n",
    "    \"description\":description, \n",
    "    \"author\":\"Paul Bencze\", \n",
    "    \"theme\":\"example\",\n",
    "    \"license\": \"MIT\",\n",
    "    \"keyword\": [\"example, graph, cytoscape\"]\n",
    "}\n",
    "\n",
    "dp = deetly.package(package)"
   ]
  },
  {
   "cell_type": "code",
   "execution_count": 3,
   "metadata": {},
   "outputs": [],
   "source": [
    "df_edges = pd.read_csv(\"https://raw.githubusercontent.com/mathbeveridge/asoiaf/master/data/asoiaf-all-edges.csv\")\n",
    "df_nodes = pd.read_csv(\"https://raw.githubusercontent.com/mathbeveridge/asoiaf/master/data/asoiaf-all-nodes.csv\")"
   ]
  },
  {
   "cell_type": "code",
   "execution_count": 4,
   "metadata": {},
   "outputs": [
    {
     "data": {
      "text/html": [
       "<div>\n",
       "<style scoped>\n",
       "    .dataframe tbody tr th:only-of-type {\n",
       "        vertical-align: middle;\n",
       "    }\n",
       "\n",
       "    .dataframe tbody tr th {\n",
       "        vertical-align: top;\n",
       "    }\n",
       "\n",
       "    .dataframe thead th {\n",
       "        text-align: right;\n",
       "    }\n",
       "</style>\n",
       "<table border=\"1\" class=\"dataframe\">\n",
       "  <thead>\n",
       "    <tr style=\"text-align: right;\">\n",
       "      <th></th>\n",
       "      <th>Id</th>\n",
       "      <th>Label</th>\n",
       "    </tr>\n",
       "  </thead>\n",
       "  <tbody>\n",
       "    <tr>\n",
       "      <th>0</th>\n",
       "      <td>Addam-Marbrand</td>\n",
       "      <td>Addam Marbrand</td>\n",
       "    </tr>\n",
       "  </tbody>\n",
       "</table>\n",
       "</div>"
      ],
      "text/plain": [
       "               Id           Label\n",
       "0  Addam-Marbrand  Addam Marbrand"
      ]
     },
     "execution_count": 4,
     "metadata": {},
     "output_type": "execute_result"
    }
   ],
   "source": [
    "df_nodes.head(1)"
   ]
  },
  {
   "cell_type": "code",
   "execution_count": 5,
   "metadata": {},
   "outputs": [
    {
     "data": {
      "text/html": [
       "<div>\n",
       "<style scoped>\n",
       "    .dataframe tbody tr th:only-of-type {\n",
       "        vertical-align: middle;\n",
       "    }\n",
       "\n",
       "    .dataframe tbody tr th {\n",
       "        vertical-align: top;\n",
       "    }\n",
       "\n",
       "    .dataframe thead th {\n",
       "        text-align: right;\n",
       "    }\n",
       "</style>\n",
       "<table border=\"1\" class=\"dataframe\">\n",
       "  <thead>\n",
       "    <tr style=\"text-align: right;\">\n",
       "      <th></th>\n",
       "      <th>Source</th>\n",
       "      <th>Target</th>\n",
       "      <th>Type</th>\n",
       "      <th>id</th>\n",
       "      <th>weight</th>\n",
       "    </tr>\n",
       "  </thead>\n",
       "  <tbody>\n",
       "    <tr>\n",
       "      <th>0</th>\n",
       "      <td>Addam-Marbrand</td>\n",
       "      <td>Brynden-Tully</td>\n",
       "      <td>Undirected</td>\n",
       "      <td>0</td>\n",
       "      <td>3</td>\n",
       "    </tr>\n",
       "  </tbody>\n",
       "</table>\n",
       "</div>"
      ],
      "text/plain": [
       "           Source         Target        Type  id  weight\n",
       "0  Addam-Marbrand  Brynden-Tully  Undirected   0       3"
      ]
     },
     "execution_count": 5,
     "metadata": {},
     "output_type": "execute_result"
    }
   ],
   "source": [
    "df_edges.head(1)"
   ]
  },
  {
   "cell_type": "code",
   "execution_count": 6,
   "metadata": {},
   "outputs": [],
   "source": [
    "from graphviz import Digraph\n",
    "dot = Digraph(comment='VIP graph')\n",
    "\n",
    "for node in df_nodes:\n",
    "    dot.node(node)\n",
    "    \n",
    "for i in range(len(df_edges)):\n",
    "    edge = df_edges.iloc[i]\n",
    "    dot.edge(edge['Source'], edge['Target'])"
   ]
  },
  {
   "cell_type": "code",
   "execution_count": 7,
   "metadata": {},
   "outputs": [
    {
     "ename": "KeyboardInterrupt",
     "evalue": "",
     "output_type": "error",
     "traceback": [
      "\u001b[0;31m---------------------------------------------------------------------------\u001b[0m",
      "\u001b[0;31mKeyboardInterrupt\u001b[0m                         Traceback (most recent call last)",
      "\u001b[0;32m<ipython-input-7-414a27b1bc30>\u001b[0m in \u001b[0;36m<module>\u001b[0;34m\u001b[0m\n\u001b[0;32m----> 1\u001b[0;31m \u001b[0mdot\u001b[0m\u001b[0;34m\u001b[0m\u001b[0;34m\u001b[0m\u001b[0m\n\u001b[0m",
      "\u001b[0;32m~/.pyenv/versions/3.8.2/envs/pydeck/lib/python3.8/site-packages/IPython/core/displayhook.py\u001b[0m in \u001b[0;36m__call__\u001b[0;34m(self, result)\u001b[0m\n\u001b[1;32m    260\u001b[0m             \u001b[0mself\u001b[0m\u001b[0;34m.\u001b[0m\u001b[0mstart_displayhook\u001b[0m\u001b[0;34m(\u001b[0m\u001b[0;34m)\u001b[0m\u001b[0;34m\u001b[0m\u001b[0;34m\u001b[0m\u001b[0m\n\u001b[1;32m    261\u001b[0m             \u001b[0mself\u001b[0m\u001b[0;34m.\u001b[0m\u001b[0mwrite_output_prompt\u001b[0m\u001b[0;34m(\u001b[0m\u001b[0;34m)\u001b[0m\u001b[0;34m\u001b[0m\u001b[0;34m\u001b[0m\u001b[0m\n\u001b[0;32m--> 262\u001b[0;31m             \u001b[0mformat_dict\u001b[0m\u001b[0;34m,\u001b[0m \u001b[0mmd_dict\u001b[0m \u001b[0;34m=\u001b[0m \u001b[0mself\u001b[0m\u001b[0;34m.\u001b[0m\u001b[0mcompute_format_data\u001b[0m\u001b[0;34m(\u001b[0m\u001b[0mresult\u001b[0m\u001b[0;34m)\u001b[0m\u001b[0;34m\u001b[0m\u001b[0;34m\u001b[0m\u001b[0m\n\u001b[0m\u001b[1;32m    263\u001b[0m             \u001b[0mself\u001b[0m\u001b[0;34m.\u001b[0m\u001b[0mupdate_user_ns\u001b[0m\u001b[0;34m(\u001b[0m\u001b[0mresult\u001b[0m\u001b[0;34m)\u001b[0m\u001b[0;34m\u001b[0m\u001b[0;34m\u001b[0m\u001b[0m\n\u001b[1;32m    264\u001b[0m             \u001b[0mself\u001b[0m\u001b[0;34m.\u001b[0m\u001b[0mfill_exec_result\u001b[0m\u001b[0;34m(\u001b[0m\u001b[0mresult\u001b[0m\u001b[0;34m)\u001b[0m\u001b[0;34m\u001b[0m\u001b[0;34m\u001b[0m\u001b[0m\n",
      "\u001b[0;32m~/.pyenv/versions/3.8.2/envs/pydeck/lib/python3.8/site-packages/IPython/core/displayhook.py\u001b[0m in \u001b[0;36mcompute_format_data\u001b[0;34m(self, result)\u001b[0m\n\u001b[1;32m    149\u001b[0m \u001b[0;34m\u001b[0m\u001b[0m\n\u001b[1;32m    150\u001b[0m         \"\"\"\n\u001b[0;32m--> 151\u001b[0;31m         \u001b[0;32mreturn\u001b[0m \u001b[0mself\u001b[0m\u001b[0;34m.\u001b[0m\u001b[0mshell\u001b[0m\u001b[0;34m.\u001b[0m\u001b[0mdisplay_formatter\u001b[0m\u001b[0;34m.\u001b[0m\u001b[0mformat\u001b[0m\u001b[0;34m(\u001b[0m\u001b[0mresult\u001b[0m\u001b[0;34m)\u001b[0m\u001b[0;34m\u001b[0m\u001b[0;34m\u001b[0m\u001b[0m\n\u001b[0m\u001b[1;32m    152\u001b[0m \u001b[0;34m\u001b[0m\u001b[0m\n\u001b[1;32m    153\u001b[0m     \u001b[0;31m# This can be set to True by the write_output_prompt method in a subclass\u001b[0m\u001b[0;34m\u001b[0m\u001b[0;34m\u001b[0m\u001b[0;34m\u001b[0m\u001b[0m\n",
      "\u001b[0;32m~/.pyenv/versions/3.8.2/envs/pydeck/lib/python3.8/site-packages/IPython/core/formatters.py\u001b[0m in \u001b[0;36mformat\u001b[0;34m(self, obj, include, exclude)\u001b[0m\n\u001b[1;32m    178\u001b[0m             \u001b[0mmd\u001b[0m \u001b[0;34m=\u001b[0m \u001b[0;32mNone\u001b[0m\u001b[0;34m\u001b[0m\u001b[0;34m\u001b[0m\u001b[0m\n\u001b[1;32m    179\u001b[0m             \u001b[0;32mtry\u001b[0m\u001b[0;34m:\u001b[0m\u001b[0;34m\u001b[0m\u001b[0;34m\u001b[0m\u001b[0m\n\u001b[0;32m--> 180\u001b[0;31m                 \u001b[0mdata\u001b[0m \u001b[0;34m=\u001b[0m \u001b[0mformatter\u001b[0m\u001b[0;34m(\u001b[0m\u001b[0mobj\u001b[0m\u001b[0;34m)\u001b[0m\u001b[0;34m\u001b[0m\u001b[0;34m\u001b[0m\u001b[0m\n\u001b[0m\u001b[1;32m    181\u001b[0m             \u001b[0;32mexcept\u001b[0m\u001b[0;34m:\u001b[0m\u001b[0;34m\u001b[0m\u001b[0;34m\u001b[0m\u001b[0m\n\u001b[1;32m    182\u001b[0m                 \u001b[0;31m# FIXME: log the exception\u001b[0m\u001b[0;34m\u001b[0m\u001b[0;34m\u001b[0m\u001b[0;34m\u001b[0m\u001b[0m\n",
      "\u001b[0;32m<decorator-gen-9>\u001b[0m in \u001b[0;36m__call__\u001b[0;34m(self, obj)\u001b[0m\n",
      "\u001b[0;32m~/.pyenv/versions/3.8.2/envs/pydeck/lib/python3.8/site-packages/IPython/core/formatters.py\u001b[0m in \u001b[0;36mcatch_format_error\u001b[0;34m(method, self, *args, **kwargs)\u001b[0m\n\u001b[1;32m    222\u001b[0m     \u001b[0;34m\"\"\"show traceback on failed format call\"\"\"\u001b[0m\u001b[0;34m\u001b[0m\u001b[0;34m\u001b[0m\u001b[0m\n\u001b[1;32m    223\u001b[0m     \u001b[0;32mtry\u001b[0m\u001b[0;34m:\u001b[0m\u001b[0;34m\u001b[0m\u001b[0;34m\u001b[0m\u001b[0m\n\u001b[0;32m--> 224\u001b[0;31m         \u001b[0mr\u001b[0m \u001b[0;34m=\u001b[0m \u001b[0mmethod\u001b[0m\u001b[0;34m(\u001b[0m\u001b[0mself\u001b[0m\u001b[0;34m,\u001b[0m \u001b[0;34m*\u001b[0m\u001b[0margs\u001b[0m\u001b[0;34m,\u001b[0m \u001b[0;34m**\u001b[0m\u001b[0mkwargs\u001b[0m\u001b[0;34m)\u001b[0m\u001b[0;34m\u001b[0m\u001b[0;34m\u001b[0m\u001b[0m\n\u001b[0m\u001b[1;32m    225\u001b[0m     \u001b[0;32mexcept\u001b[0m \u001b[0mNotImplementedError\u001b[0m\u001b[0;34m:\u001b[0m\u001b[0;34m\u001b[0m\u001b[0;34m\u001b[0m\u001b[0m\n\u001b[1;32m    226\u001b[0m         \u001b[0;31m# don't warn on NotImplementedErrors\u001b[0m\u001b[0;34m\u001b[0m\u001b[0;34m\u001b[0m\u001b[0;34m\u001b[0m\u001b[0m\n",
      "\u001b[0;32m~/.pyenv/versions/3.8.2/envs/pydeck/lib/python3.8/site-packages/IPython/core/formatters.py\u001b[0m in \u001b[0;36m__call__\u001b[0;34m(self, obj)\u001b[0m\n\u001b[1;32m    343\u001b[0m             \u001b[0mmethod\u001b[0m \u001b[0;34m=\u001b[0m \u001b[0mget_real_method\u001b[0m\u001b[0;34m(\u001b[0m\u001b[0mobj\u001b[0m\u001b[0;34m,\u001b[0m \u001b[0mself\u001b[0m\u001b[0;34m.\u001b[0m\u001b[0mprint_method\u001b[0m\u001b[0;34m)\u001b[0m\u001b[0;34m\u001b[0m\u001b[0;34m\u001b[0m\u001b[0m\n\u001b[1;32m    344\u001b[0m             \u001b[0;32mif\u001b[0m \u001b[0mmethod\u001b[0m \u001b[0;32mis\u001b[0m \u001b[0;32mnot\u001b[0m \u001b[0;32mNone\u001b[0m\u001b[0;34m:\u001b[0m\u001b[0;34m\u001b[0m\u001b[0;34m\u001b[0m\u001b[0m\n\u001b[0;32m--> 345\u001b[0;31m                 \u001b[0;32mreturn\u001b[0m \u001b[0mmethod\u001b[0m\u001b[0;34m(\u001b[0m\u001b[0;34m)\u001b[0m\u001b[0;34m\u001b[0m\u001b[0;34m\u001b[0m\u001b[0m\n\u001b[0m\u001b[1;32m    346\u001b[0m             \u001b[0;32mreturn\u001b[0m \u001b[0;32mNone\u001b[0m\u001b[0;34m\u001b[0m\u001b[0;34m\u001b[0m\u001b[0m\n\u001b[1;32m    347\u001b[0m         \u001b[0;32melse\u001b[0m\u001b[0;34m:\u001b[0m\u001b[0;34m\u001b[0m\u001b[0;34m\u001b[0m\u001b[0m\n",
      "\u001b[0;32m~/.pyenv/versions/3.8.2/envs/pydeck/lib/python3.8/site-packages/graphviz/files.py\u001b[0m in \u001b[0;36m_repr_svg_\u001b[0;34m(self)\u001b[0m\n\u001b[1;32m    111\u001b[0m \u001b[0;34m\u001b[0m\u001b[0m\n\u001b[1;32m    112\u001b[0m     \u001b[0;32mdef\u001b[0m \u001b[0m_repr_svg_\u001b[0m\u001b[0;34m(\u001b[0m\u001b[0mself\u001b[0m\u001b[0;34m)\u001b[0m\u001b[0;34m:\u001b[0m\u001b[0;34m\u001b[0m\u001b[0;34m\u001b[0m\u001b[0m\n\u001b[0;32m--> 113\u001b[0;31m         \u001b[0;32mreturn\u001b[0m \u001b[0mself\u001b[0m\u001b[0;34m.\u001b[0m\u001b[0mpipe\u001b[0m\u001b[0;34m(\u001b[0m\u001b[0mformat\u001b[0m\u001b[0;34m=\u001b[0m\u001b[0;34m'svg'\u001b[0m\u001b[0;34m)\u001b[0m\u001b[0;34m.\u001b[0m\u001b[0mdecode\u001b[0m\u001b[0;34m(\u001b[0m\u001b[0mself\u001b[0m\u001b[0;34m.\u001b[0m\u001b[0m_encoding\u001b[0m\u001b[0;34m)\u001b[0m\u001b[0;34m\u001b[0m\u001b[0;34m\u001b[0m\u001b[0m\n\u001b[0m\u001b[1;32m    114\u001b[0m \u001b[0;34m\u001b[0m\u001b[0m\n\u001b[1;32m    115\u001b[0m     \u001b[0;32mdef\u001b[0m \u001b[0mpipe\u001b[0m\u001b[0;34m(\u001b[0m\u001b[0mself\u001b[0m\u001b[0;34m,\u001b[0m \u001b[0mformat\u001b[0m\u001b[0;34m=\u001b[0m\u001b[0;32mNone\u001b[0m\u001b[0;34m,\u001b[0m \u001b[0mrenderer\u001b[0m\u001b[0;34m=\u001b[0m\u001b[0;32mNone\u001b[0m\u001b[0;34m,\u001b[0m \u001b[0mformatter\u001b[0m\u001b[0;34m=\u001b[0m\u001b[0;32mNone\u001b[0m\u001b[0;34m,\u001b[0m \u001b[0mquiet\u001b[0m\u001b[0;34m=\u001b[0m\u001b[0;32mFalse\u001b[0m\u001b[0;34m)\u001b[0m\u001b[0;34m:\u001b[0m\u001b[0;34m\u001b[0m\u001b[0;34m\u001b[0m\u001b[0m\n",
      "\u001b[0;32m~/.pyenv/versions/3.8.2/envs/pydeck/lib/python3.8/site-packages/graphviz/files.py\u001b[0m in \u001b[0;36mpipe\u001b[0;34m(self, format, renderer, formatter, quiet)\u001b[0m\n\u001b[1;32m    134\u001b[0m         \u001b[0mdata\u001b[0m \u001b[0;34m=\u001b[0m \u001b[0mtext_type\u001b[0m\u001b[0;34m(\u001b[0m\u001b[0mself\u001b[0m\u001b[0;34m.\u001b[0m\u001b[0msource\u001b[0m\u001b[0;34m)\u001b[0m\u001b[0;34m.\u001b[0m\u001b[0mencode\u001b[0m\u001b[0;34m(\u001b[0m\u001b[0mself\u001b[0m\u001b[0;34m.\u001b[0m\u001b[0m_encoding\u001b[0m\u001b[0;34m)\u001b[0m\u001b[0;34m\u001b[0m\u001b[0;34m\u001b[0m\u001b[0m\n\u001b[1;32m    135\u001b[0m \u001b[0;34m\u001b[0m\u001b[0m\n\u001b[0;32m--> 136\u001b[0;31m         out = backend.pipe(self._engine, format, data,\n\u001b[0m\u001b[1;32m    137\u001b[0m                            \u001b[0mrenderer\u001b[0m\u001b[0;34m=\u001b[0m\u001b[0mrenderer\u001b[0m\u001b[0;34m,\u001b[0m \u001b[0mformatter\u001b[0m\u001b[0;34m=\u001b[0m\u001b[0mformatter\u001b[0m\u001b[0;34m,\u001b[0m\u001b[0;34m\u001b[0m\u001b[0;34m\u001b[0m\u001b[0m\n\u001b[1;32m    138\u001b[0m                            quiet=quiet)\n",
      "\u001b[0;32m~/.pyenv/versions/3.8.2/envs/pydeck/lib/python3.8/site-packages/graphviz/backend.py\u001b[0m in \u001b[0;36mpipe\u001b[0;34m(engine, format, data, renderer, formatter, quiet)\u001b[0m\n\u001b[1;32m    242\u001b[0m     \"\"\"\n\u001b[1;32m    243\u001b[0m     \u001b[0mcmd\u001b[0m\u001b[0;34m,\u001b[0m \u001b[0m_\u001b[0m \u001b[0;34m=\u001b[0m \u001b[0mcommand\u001b[0m\u001b[0;34m(\u001b[0m\u001b[0mengine\u001b[0m\u001b[0;34m,\u001b[0m \u001b[0mformat\u001b[0m\u001b[0;34m,\u001b[0m \u001b[0;32mNone\u001b[0m\u001b[0;34m,\u001b[0m \u001b[0mrenderer\u001b[0m\u001b[0;34m,\u001b[0m \u001b[0mformatter\u001b[0m\u001b[0;34m)\u001b[0m\u001b[0;34m\u001b[0m\u001b[0;34m\u001b[0m\u001b[0m\n\u001b[0;32m--> 244\u001b[0;31m     \u001b[0mout\u001b[0m\u001b[0;34m,\u001b[0m \u001b[0m_\u001b[0m \u001b[0;34m=\u001b[0m \u001b[0mrun\u001b[0m\u001b[0;34m(\u001b[0m\u001b[0mcmd\u001b[0m\u001b[0;34m,\u001b[0m \u001b[0minput\u001b[0m\u001b[0;34m=\u001b[0m\u001b[0mdata\u001b[0m\u001b[0;34m,\u001b[0m \u001b[0mcapture_output\u001b[0m\u001b[0;34m=\u001b[0m\u001b[0;32mTrue\u001b[0m\u001b[0;34m,\u001b[0m \u001b[0mcheck\u001b[0m\u001b[0;34m=\u001b[0m\u001b[0;32mTrue\u001b[0m\u001b[0;34m,\u001b[0m \u001b[0mquiet\u001b[0m\u001b[0;34m=\u001b[0m\u001b[0mquiet\u001b[0m\u001b[0;34m)\u001b[0m\u001b[0;34m\u001b[0m\u001b[0;34m\u001b[0m\u001b[0m\n\u001b[0m\u001b[1;32m    245\u001b[0m     \u001b[0;32mreturn\u001b[0m \u001b[0mout\u001b[0m\u001b[0;34m\u001b[0m\u001b[0;34m\u001b[0m\u001b[0m\n\u001b[1;32m    246\u001b[0m \u001b[0;34m\u001b[0m\u001b[0m\n",
      "\u001b[0;32m~/.pyenv/versions/3.8.2/envs/pydeck/lib/python3.8/site-packages/graphviz/backend.py\u001b[0m in \u001b[0;36mrun\u001b[0;34m(cmd, input, capture_output, check, encoding, quiet, **kwargs)\u001b[0m\n\u001b[1;32m    169\u001b[0m             \u001b[0;32mraise\u001b[0m\u001b[0;34m\u001b[0m\u001b[0;34m\u001b[0m\u001b[0m\n\u001b[1;32m    170\u001b[0m \u001b[0;34m\u001b[0m\u001b[0m\n\u001b[0;32m--> 171\u001b[0;31m     \u001b[0mout\u001b[0m\u001b[0;34m,\u001b[0m \u001b[0merr\u001b[0m \u001b[0;34m=\u001b[0m \u001b[0mproc\u001b[0m\u001b[0;34m.\u001b[0m\u001b[0mcommunicate\u001b[0m\u001b[0;34m(\u001b[0m\u001b[0minput\u001b[0m\u001b[0;34m)\u001b[0m\u001b[0;34m\u001b[0m\u001b[0;34m\u001b[0m\u001b[0m\n\u001b[0m\u001b[1;32m    172\u001b[0m \u001b[0;34m\u001b[0m\u001b[0m\n\u001b[1;32m    173\u001b[0m     \u001b[0;32mif\u001b[0m \u001b[0;32mnot\u001b[0m \u001b[0mquiet\u001b[0m \u001b[0;32mand\u001b[0m \u001b[0merr\u001b[0m\u001b[0;34m:\u001b[0m\u001b[0;34m\u001b[0m\u001b[0;34m\u001b[0m\u001b[0m\n",
      "\u001b[0;32m~/.pyenv/versions/3.8.2/lib/python3.8/subprocess.py\u001b[0m in \u001b[0;36mcommunicate\u001b[0;34m(self, input, timeout)\u001b[0m\n\u001b[1;32m   1022\u001b[0m \u001b[0;34m\u001b[0m\u001b[0m\n\u001b[1;32m   1023\u001b[0m             \u001b[0;32mtry\u001b[0m\u001b[0;34m:\u001b[0m\u001b[0;34m\u001b[0m\u001b[0;34m\u001b[0m\u001b[0m\n\u001b[0;32m-> 1024\u001b[0;31m                 \u001b[0mstdout\u001b[0m\u001b[0;34m,\u001b[0m \u001b[0mstderr\u001b[0m \u001b[0;34m=\u001b[0m \u001b[0mself\u001b[0m\u001b[0;34m.\u001b[0m\u001b[0m_communicate\u001b[0m\u001b[0;34m(\u001b[0m\u001b[0minput\u001b[0m\u001b[0;34m,\u001b[0m \u001b[0mendtime\u001b[0m\u001b[0;34m,\u001b[0m \u001b[0mtimeout\u001b[0m\u001b[0;34m)\u001b[0m\u001b[0;34m\u001b[0m\u001b[0;34m\u001b[0m\u001b[0m\n\u001b[0m\u001b[1;32m   1025\u001b[0m             \u001b[0;32mexcept\u001b[0m \u001b[0mKeyboardInterrupt\u001b[0m\u001b[0;34m:\u001b[0m\u001b[0;34m\u001b[0m\u001b[0;34m\u001b[0m\u001b[0m\n\u001b[1;32m   1026\u001b[0m                 \u001b[0;31m# https://bugs.python.org/issue25942\u001b[0m\u001b[0;34m\u001b[0m\u001b[0;34m\u001b[0m\u001b[0;34m\u001b[0m\u001b[0m\n",
      "\u001b[0;32m~/.pyenv/versions/3.8.2/lib/python3.8/subprocess.py\u001b[0m in \u001b[0;36m_communicate\u001b[0;34m(self, input, endtime, orig_timeout)\u001b[0m\n\u001b[1;32m   1864\u001b[0m                             'failed to raise TimeoutExpired.')\n\u001b[1;32m   1865\u001b[0m \u001b[0;34m\u001b[0m\u001b[0m\n\u001b[0;32m-> 1866\u001b[0;31m                     \u001b[0mready\u001b[0m \u001b[0;34m=\u001b[0m \u001b[0mselector\u001b[0m\u001b[0;34m.\u001b[0m\u001b[0mselect\u001b[0m\u001b[0;34m(\u001b[0m\u001b[0mtimeout\u001b[0m\u001b[0;34m)\u001b[0m\u001b[0;34m\u001b[0m\u001b[0;34m\u001b[0m\u001b[0m\n\u001b[0m\u001b[1;32m   1867\u001b[0m                     \u001b[0mself\u001b[0m\u001b[0;34m.\u001b[0m\u001b[0m_check_timeout\u001b[0m\u001b[0;34m(\u001b[0m\u001b[0mendtime\u001b[0m\u001b[0;34m,\u001b[0m \u001b[0morig_timeout\u001b[0m\u001b[0;34m,\u001b[0m \u001b[0mstdout\u001b[0m\u001b[0;34m,\u001b[0m \u001b[0mstderr\u001b[0m\u001b[0;34m)\u001b[0m\u001b[0;34m\u001b[0m\u001b[0;34m\u001b[0m\u001b[0m\n\u001b[1;32m   1868\u001b[0m \u001b[0;34m\u001b[0m\u001b[0m\n",
      "\u001b[0;32m~/.pyenv/versions/3.8.2/lib/python3.8/selectors.py\u001b[0m in \u001b[0;36mselect\u001b[0;34m(self, timeout)\u001b[0m\n\u001b[1;32m    413\u001b[0m         \u001b[0mready\u001b[0m \u001b[0;34m=\u001b[0m \u001b[0;34m[\u001b[0m\u001b[0;34m]\u001b[0m\u001b[0;34m\u001b[0m\u001b[0;34m\u001b[0m\u001b[0m\n\u001b[1;32m    414\u001b[0m         \u001b[0;32mtry\u001b[0m\u001b[0;34m:\u001b[0m\u001b[0;34m\u001b[0m\u001b[0;34m\u001b[0m\u001b[0m\n\u001b[0;32m--> 415\u001b[0;31m             \u001b[0mfd_event_list\u001b[0m \u001b[0;34m=\u001b[0m \u001b[0mself\u001b[0m\u001b[0;34m.\u001b[0m\u001b[0m_selector\u001b[0m\u001b[0;34m.\u001b[0m\u001b[0mpoll\u001b[0m\u001b[0;34m(\u001b[0m\u001b[0mtimeout\u001b[0m\u001b[0;34m)\u001b[0m\u001b[0;34m\u001b[0m\u001b[0;34m\u001b[0m\u001b[0m\n\u001b[0m\u001b[1;32m    416\u001b[0m         \u001b[0;32mexcept\u001b[0m \u001b[0mInterruptedError\u001b[0m\u001b[0;34m:\u001b[0m\u001b[0;34m\u001b[0m\u001b[0;34m\u001b[0m\u001b[0m\n\u001b[1;32m    417\u001b[0m             \u001b[0;32mreturn\u001b[0m \u001b[0mready\u001b[0m\u001b[0;34m\u001b[0m\u001b[0;34m\u001b[0m\u001b[0m\n",
      "\u001b[0;31mKeyboardInterrupt\u001b[0m: "
     ]
    }
   ],
   "source": [
    "dot"
   ]
  },
  {
   "cell_type": "code",
   "execution_count": 7,
   "metadata": {},
   "outputs": [],
   "source": [
    "def getNode(row):\n",
    "    return {'data':{'id':row['Id']}}\n",
    "    #return {'data':{'id':row['Id'],'label':row['Label']}}\n",
    "    \n",
    "df_nodes['node'] = df_nodes.apply(getNode, axis=1)"
   ]
  },
  {
   "cell_type": "code",
   "execution_count": 8,
   "metadata": {},
   "outputs": [
    {
     "data": {
      "text/plain": [
       "{'data': {'id': 'Addam-Marbrand'}}"
      ]
     },
     "execution_count": 8,
     "metadata": {},
     "output_type": "execute_result"
    }
   ],
   "source": [
    "nodes = df_nodes['node'].to_list()\n",
    "nodes[0]"
   ]
  },
  {
   "cell_type": "code",
   "execution_count": 9,
   "metadata": {},
   "outputs": [
    {
     "data": {
      "text/html": [
       "<div>\n",
       "<style scoped>\n",
       "    .dataframe tbody tr th:only-of-type {\n",
       "        vertical-align: middle;\n",
       "    }\n",
       "\n",
       "    .dataframe tbody tr th {\n",
       "        vertical-align: top;\n",
       "    }\n",
       "\n",
       "    .dataframe thead th {\n",
       "        text-align: right;\n",
       "    }\n",
       "</style>\n",
       "<table border=\"1\" class=\"dataframe\">\n",
       "  <thead>\n",
       "    <tr style=\"text-align: right;\">\n",
       "      <th></th>\n",
       "      <th>Source</th>\n",
       "      <th>Target</th>\n",
       "      <th>Type</th>\n",
       "      <th>id</th>\n",
       "      <th>weight</th>\n",
       "    </tr>\n",
       "  </thead>\n",
       "  <tbody>\n",
       "    <tr>\n",
       "      <th>0</th>\n",
       "      <td>Addam-Marbrand</td>\n",
       "      <td>Brynden-Tully</td>\n",
       "      <td>Undirected</td>\n",
       "      <td>0</td>\n",
       "      <td>3</td>\n",
       "    </tr>\n",
       "  </tbody>\n",
       "</table>\n",
       "</div>"
      ],
      "text/plain": [
       "           Source         Target        Type  id  weight\n",
       "0  Addam-Marbrand  Brynden-Tully  Undirected   0       3"
      ]
     },
     "execution_count": 9,
     "metadata": {},
     "output_type": "execute_result"
    }
   ],
   "source": [
    "df_edges.head(1)"
   ]
  },
  {
   "cell_type": "code",
   "execution_count": 10,
   "metadata": {},
   "outputs": [],
   "source": [
    "def getEdge(row):\n",
    "    return {'data':{'source':row['Source'],'target':row['Target']}}\n",
    "    #return {'data':{'id':row['id'],'source':row['Source'],'target':row['Target'],'type':row['Type'],'weight':row['weight']}}\n",
    "    \n",
    "df_edges['edge'] = df_edges.apply(getEdge, axis=1)"
   ]
  },
  {
   "cell_type": "code",
   "execution_count": 11,
   "metadata": {},
   "outputs": [],
   "source": [
    "edges = df_edges['edge'].to_list()"
   ]
  },
  {
   "cell_type": "code",
   "execution_count": 12,
   "metadata": {},
   "outputs": [],
   "source": [
    "network = {\n",
    "    'elements': {\n",
    "        'nodes': nodes[0:100],\n",
    "        'edges': edges[0:200]\n",
    "    }\n",
    "}"
   ]
  },
  {
   "cell_type": "code",
   "execution_count": 13,
   "metadata": {},
   "outputs": [
    {
     "data": {
      "text/plain": [
       "{'data': {'id': 'Aegon-Frey-(son-of-Stevron)'}}"
      ]
     },
     "execution_count": 13,
     "metadata": {},
     "output_type": "execute_result"
    }
   ],
   "source": [
    "network['elements']['nodes'][1]"
   ]
  },
  {
   "cell_type": "code",
   "execution_count": 14,
   "metadata": {},
   "outputs": [
    {
     "data": {
      "application/vnd.jupyter.widget-view+json": {
       "model_id": "7d0d2cf47ec346938d63c3e7a556faf5",
       "version_major": 2,
       "version_minor": 0
      },
      "text/plain": [
       "Cytoscape(data={'elements': {'nodes': [{'data': {'id': 'Addam-Marbrand'}}, {'data': {'id': 'Aegon-Frey-(son-of…"
      ]
     },
     "metadata": {},
     "output_type": "display_data"
    }
   ],
   "source": [
    "fig = Cytoscape(data=network, layout_name='cose')\n",
    "fig"
   ]
  },
  {
   "cell_type": "code",
   "execution_count": 17,
   "metadata": {},
   "outputs": [],
   "source": [
    "import networkx as nx\n",
    "from networkx.readwrite import cytoscape_data\n",
    "from networkx.algorithms import betweenness_centrality, edge_betweenness_centrality"
   ]
  },
  {
   "cell_type": "code",
   "execution_count": 18,
   "metadata": {},
   "outputs": [
    {
     "data": {
      "application/vnd.jupyter.widget-view+json": {
       "model_id": "0795dfb5f58f45c0a42af3812329afeb",
       "version_major": 2,
       "version_minor": 0
      },
      "text/plain": [
       "Cytoscape(data={'data': [], 'directed': True, 'multigraph': True, 'elements': {'nodes': [{'data': {'id': '0', …"
      ]
     },
     "metadata": {},
     "output_type": "display_data"
    }
   ],
   "source": [
    "network1 = nx.scale_free_graph(100)\n",
    "cyjs1 = cytoscape_data(network1)\n",
    "Cytoscape(data=cyjs1)"
   ]
  },
  {
   "cell_type": "code",
   "execution_count": 19,
   "metadata": {},
   "outputs": [
    {
     "data": {
      "application/vnd.jupyter.widget-view+json": {
       "model_id": "d4efcfac87034f819c50dd8353fecf4b",
       "version_major": 2,
       "version_minor": 0
      },
      "text/plain": [
       "Cytoscape(background='#EEEEEE', data={'data': [], 'directed': False, 'multigraph': False, 'elements': {'nodes'…"
      ]
     },
     "metadata": {},
     "output_type": "display_data"
    }
   ],
   "source": [
    "G = nx.waxman_graph(150)\n",
    "\n",
    "# Calculate betweenness centrarity of the graph (for both nodes and edges)\n",
    "bc = betweenness_centrality(G)\n",
    "ebc = edge_betweenness_centrality(G)\n",
    "nx.set_node_attributes(G, bc, 'betweenness')\n",
    "nx.set_edge_attributes(G, ebc, 'betweenness')\n",
    "\n",
    "# Pick min and max for each data\n",
    "bc_min = min(bc.values())\n",
    "bc_max = max(bc.values())\n",
    "ebc_min = min(ebc.values())\n",
    "ebc_max = max(ebc.values())\n",
    "\n",
    "# Create visual mappings\n",
    "\n",
    "# For nodes\n",
    "mapper = 'mapData(betweenness,' + str(bc_min) + ',' + str(bc_max) + ', 5, 50)'\n",
    "op_mapper = 'mapData(betweenness,' + str(bc_min) + ',' + str(bc_max) + ', 0.3, 1)'\n",
    "color_mapper = 'mapData(betweenness,' + str(bc_min) + ',' + str(bc_max) + ', #EFEFEF, #00897B)'\n",
    "\n",
    "# For edges\n",
    "edge_mapper = 'mapData(betweenness,' + str(ebc_min) + ',' + str(ebc_max) + ', 1, 10)'\n",
    "edge_op_mapper = 'mapData(betweenness,' + str(ebc_min) + ',' + str(ebc_max) + ', 0.3, 1)'\n",
    "\n",
    "# Build a style\n",
    "custom_visual_style = [\n",
    "    {\n",
    "        'selector': 'node',\n",
    "        'style': {\n",
    "            'background-color': color_mapper,\n",
    "            'width': mapper,\n",
    "            'height': mapper,\n",
    "            'background-opacity': op_mapper,\n",
    "            'label': \"data(id)\"\n",
    "        }\n",
    "    },\n",
    "    {\n",
    "        'selector': 'edge',\n",
    "        'style': {\n",
    "            'width': edge_mapper,\n",
    "            'opacity': edge_op_mapper,\n",
    "            'line-color': '#333333'        \n",
    "        }\n",
    "    }\n",
    "]\n",
    "\n",
    "# Convert to Cytoscape.js JSON\n",
    "cyjs2 = cytoscape_data(G)\n",
    "\n",
    "# Visualize it\n",
    "Cytoscape(data=cyjs2,  layout_name='circle', visual_style=custom_visual_style, background='#EEEEEE')"
   ]
  },
  {
   "cell_type": "code",
   "execution_count": 20,
   "metadata": {},
   "outputs": [],
   "source": [
    "import requests\n",
    "url = 'https://raw.githubusercontent.com/plotly/dash-cytoscape/master/demos/data/sample_network.txt'\n",
    "data = requests.get(url).text.split('\\n')"
   ]
  },
  {
   "cell_type": "code",
   "execution_count": 21,
   "metadata": {},
   "outputs": [],
   "source": [
    "nodes = set()\n",
    "cy_edges, cy_nodes = [], []\n",
    "edges = data[:200]\n",
    "colors = ['red', 'blue', 'green', 'yellow', 'pink']\n",
    "\n",
    "for edge in edges:\n",
    "    source, target = edge.split(\" \")\n",
    "    color = colors[len(cy_nodes) % 5]\n",
    "\n",
    "    if source not in nodes:  # Add the source node\n",
    "        nodes.add(source)\n",
    "        cy_nodes.append({\"data\": {\"id\": source}, \"classes\": color})\n",
    "\n",
    "    if target not in nodes:  # Add the target node\n",
    "        nodes.add(target)\n",
    "        cy_nodes.append({\"data\": {\"id\": target}, \"classes\": color})\n",
    "\n",
    "    cy_edges.append({  # Add the Edge Node\n",
    "        'data': {'source': source, 'target': target},\n",
    "        'classes': color\n",
    "    })"
   ]
  },
  {
   "cell_type": "code",
   "execution_count": 22,
   "metadata": {},
   "outputs": [],
   "source": [
    "network = {\n",
    "    'elements': {\n",
    "        'nodes': cy_nodes,\n",
    "        'edges': cy_edges\n",
    "    }\n",
    "}"
   ]
  },
  {
   "cell_type": "code",
   "execution_count": 189,
   "metadata": {},
   "outputs": [
    {
     "data": {
      "application/vnd.jupyter.widget-view+json": {
       "model_id": "6e678af6bd3d47269ada26351f195526",
       "version_major": 2,
       "version_minor": 0
      },
      "text/plain": [
       "Cytoscape(data={'elements': {'nodes': [{'data': {'id': '108082478497335384404'}, 'classes': 'red'}, {'data': {…"
      ]
     },
     "metadata": {},
     "output_type": "display_data"
    }
   ],
   "source": [
    "fig = Cytoscape(data=network)\n",
    "fig"
   ]
  },
  {
   "cell_type": "code",
   "execution_count": 23,
   "metadata": {},
   "outputs": [
    {
     "data": {
      "text/plain": [
       "{'version_major': 2,\n",
       " 'version_minor': 0,\n",
       " 'model_id': '7d0d2cf47ec346938d63c3e7a556faf5'}"
      ]
     },
     "execution_count": 23,
     "metadata": {},
     "output_type": "execute_result"
    }
   ],
   "source": [
    "fig.get_view_spec()"
   ]
  },
  {
   "cell_type": "code",
   "execution_count": 24,
   "metadata": {},
   "outputs": [
    {
     "data": {
      "text/plain": [
       "{'_dom_classes': (),\n",
       " '_model_module': 'cytoscape-jupyter-widget',\n",
       " '_model_module_version': '^0.1.0',\n",
       " '_model_name': 'CytoscapeModel',\n",
       " '_view_count': None,\n",
       " '_view_module': 'cytoscape-jupyter-widget',\n",
       " '_view_module_version': '^0.1.0',\n",
       " '_view_name': 'CytoscapeView',\n",
       " 'background': '#FFFFFF',\n",
       " 'data': {'elements': {'nodes': [{'data': {'id': 'Addam-Marbrand'}},\n",
       "    {'data': {'id': 'Aegon-Frey-(son-of-Stevron)'}},\n",
       "    {'data': {'id': 'Aegon-I-Targaryen'}},\n",
       "    {'data': {'id': 'Aegon-Targaryen-(son-of-Rhaegar)'}},\n",
       "    {'data': {'id': 'Aegon-V-Targaryen'}},\n",
       "    {'data': {'id': 'Aemon-Targaryen-(Dragonknight)'}},\n",
       "    {'data': {'id': 'Aemon-Targaryen-(Maester-Aemon)'}},\n",
       "    {'data': {'id': 'Aenys-Frey'}},\n",
       "    {'data': {'id': 'Aeron-Greyjoy'}},\n",
       "    {'data': {'id': 'Aerys-I-Targaryen'}},\n",
       "    {'data': {'id': 'Aerys-II-Targaryen'}},\n",
       "    {'data': {'id': 'Aggar'}},\n",
       "    {'data': {'id': 'Aggo'}},\n",
       "    {'data': {'id': 'Alayaya'}},\n",
       "    {'data': {'id': 'Albett'}},\n",
       "    {'data': {'id': 'Alebelly'}},\n",
       "    {'data': {'id': 'Alerie-Hightower'}},\n",
       "    {'data': {'id': 'Alester-Florent'}},\n",
       "    {'data': {'id': 'Alla-Tyrell'}},\n",
       "    {'data': {'id': 'Allar-Deem'}},\n",
       "    {'data': {'id': 'Allard-Seaworth'}},\n",
       "    {'data': {'id': 'Alleras'}},\n",
       "    {'data': {'id': 'Alliser-Thorne'}},\n",
       "    {'data': {'id': 'Alyn'}},\n",
       "    {'data': {'id': 'Alys-Arryn'}},\n",
       "    {'data': {'id': 'Alys-Karstark'}},\n",
       "    {'data': {'id': 'Alysane-Mormont'}},\n",
       "    {'data': {'id': 'Amabel'}},\n",
       "    {'data': {'id': 'Amerei-Frey'}},\n",
       "    {'data': {'id': 'Amory-Lorch'}},\n",
       "    {'data': {'id': 'Anders-Yronwood'}},\n",
       "    {'data': {'id': 'Andrew-Estermont'}},\n",
       "    {'data': {'id': 'Andrey-Dalt'}},\n",
       "    {'data': {'id': 'Anguy'}},\n",
       "    {'data': {'id': 'Anya-Waynwood'}},\n",
       "    {'data': {'id': 'Archibald-Yronwood'}},\n",
       "    {'data': {'id': 'Ardrian-Celtigar'}},\n",
       "    {'data': {'id': 'Areo-Hotah'}},\n",
       "    {'data': {'id': 'Arianne-Martell'}},\n",
       "    {'data': {'id': 'Armen'}},\n",
       "    {'data': {'id': 'Arnolf-Karstark'}},\n",
       "    {'data': {'id': 'Aron-Santagar'}},\n",
       "    {'data': {'id': 'Arron'}},\n",
       "    {'data': {'id': 'Arson'}},\n",
       "    {'data': {'id': 'Arstan'}},\n",
       "    {'data': {'id': 'Arthor-Karstark'}},\n",
       "    {'data': {'id': 'Arthur-Dayne'}},\n",
       "    {'data': {'id': 'Arwyn-Oakheart'}},\n",
       "    {'data': {'id': 'Arya-Stark'}},\n",
       "    {'data': {'id': 'Arys-Oakheart'}},\n",
       "    {'data': {'id': 'Asha-Greyjoy'}},\n",
       "    {'data': {'id': 'Ashara-Dayne'}},\n",
       "    {'data': {'id': 'Aurane-Waters'}},\n",
       "    {'data': {'id': 'Axell-Florent'}},\n",
       "    {'data': {'id': 'Azor-Ahai'}},\n",
       "    {'data': {'id': 'Bael-the-Bard'}},\n",
       "    {'data': {'id': 'Baelor-Blacktyde'}},\n",
       "    {'data': {'id': 'Baelor-I-Targaryen'}},\n",
       "    {'data': {'id': 'Ballabar'}},\n",
       "    {'data': {'id': 'Balman-Byrch'}},\n",
       "    {'data': {'id': 'Balon-Greyjoy'}},\n",
       "    {'data': {'id': 'Balon-Swann'}},\n",
       "    {'data': {'id': 'Bannen'}},\n",
       "    {'data': {'id': 'Barbrey-Dustin'}},\n",
       "    {'data': {'id': 'Barristan-Selmy'}},\n",
       "    {'data': {'id': 'Barsena'}},\n",
       "    {'data': {'id': 'Bartimus'}},\n",
       "    {'data': {'id': 'Bedwyck'}},\n",
       "    {'data': {'id': 'Belaquo'}},\n",
       "    {'data': {'id': 'Bellegere-Otherys'}},\n",
       "    {'data': {'id': 'Belwas'}},\n",
       "    {'data': {'id': 'Ben-Bones'}},\n",
       "    {'data': {'id': 'Ben-Plumm'}},\n",
       "    {'data': {'id': 'Benedar-Belmore'}},\n",
       "    {'data': {'id': 'Benerro'}},\n",
       "    {'data': {'id': 'Benethon-Scales'}},\n",
       "    {'data': {'id': 'Benfred-Tallhart'}},\n",
       "    {'data': {'id': 'Benjen-Stark'}},\n",
       "    {'data': {'id': 'Beric-Dondarrion'}},\n",
       "    {'data': {'id': 'Beth-Cassel'}},\n",
       "    {'data': {'id': 'Big-Boil'}},\n",
       "    {'data': {'id': 'Biter'}},\n",
       "    {'data': {'id': 'Black-Balaq'}},\n",
       "    {'data': {'id': 'Blane'}},\n",
       "    {'data': {'id': 'Bloodbeard'}},\n",
       "    {'data': {'id': 'Blue-Bard'}},\n",
       "    {'data': {'id': 'Bonifer-Hasty'}},\n",
       "    {'data': {'id': 'Boros-Blount'}},\n",
       "    {'data': {'id': 'Bowen-Marsh'}},\n",
       "    {'data': {'id': 'Bran-Stark'}},\n",
       "    {'data': {'id': 'Brandon-Norrey'}},\n",
       "    {'data': {'id': 'Brandon-Stark'}},\n",
       "    {'data': {'id': 'Brea'}},\n",
       "    {'data': {'id': 'Brella'}},\n",
       "    {'data': {'id': 'Brenett'}},\n",
       "    {'data': {'id': 'Brienne-of-Tarth'}},\n",
       "    {'data': {'id': 'Bronn'}},\n",
       "    {'data': {'id': 'Brus-Buckler'}},\n",
       "    {'data': {'id': 'Brusco'}},\n",
       "    {'data': {'id': 'Bryce-Caron'}}],\n",
       "   'edges': [{'data': {'source': 'Addam-Marbrand', 'target': 'Brynden-Tully'}},\n",
       "    {'data': {'source': 'Addam-Marbrand', 'target': 'Cersei-Lannister'}},\n",
       "    {'data': {'source': 'Addam-Marbrand', 'target': 'Gyles-Rosby'}},\n",
       "    {'data': {'source': 'Addam-Marbrand', 'target': 'Jaime-Lannister'}},\n",
       "    {'data': {'source': 'Addam-Marbrand', 'target': 'Jalabhar-Xho'}},\n",
       "    {'data': {'source': 'Addam-Marbrand', 'target': 'Joffrey-Baratheon'}},\n",
       "    {'data': {'source': 'Addam-Marbrand', 'target': 'Kevan-Lannister'}},\n",
       "    {'data': {'source': 'Addam-Marbrand', 'target': 'Lyle-Crakehall'}},\n",
       "    {'data': {'source': 'Addam-Marbrand', 'target': 'Oberyn-Martell'}},\n",
       "    {'data': {'source': 'Addam-Marbrand', 'target': 'Tyrion-Lannister'}},\n",
       "    {'data': {'source': 'Addam-Marbrand', 'target': 'Tywin-Lannister'}},\n",
       "    {'data': {'source': 'Addam-Marbrand', 'target': 'Varys'}},\n",
       "    {'data': {'source': 'Aegon-Frey-(son-of-Stevron)',\n",
       "      'target': 'Catelyn-Stark'}},\n",
       "    {'data': {'source': 'Aegon-Frey-(son-of-Stevron)',\n",
       "      'target': 'Robb-Stark'}},\n",
       "    {'data': {'source': 'Aegon-Frey-(son-of-Stevron)',\n",
       "      'target': 'Stevron-Frey'}},\n",
       "    {'data': {'source': 'Aegon-Frey-(son-of-Stevron)',\n",
       "      'target': 'Walder-Frey'}},\n",
       "    {'data': {'source': 'Aegon-I-Targaryen', 'target': 'Daenerys-Targaryen'}},\n",
       "    {'data': {'source': 'Aegon-I-Targaryen', 'target': 'Eddard-Stark'}},\n",
       "    {'data': {'source': 'Aegon-I-Targaryen', 'target': 'Harren-Hoare'}},\n",
       "    {'data': {'source': 'Aegon-I-Targaryen', 'target': 'Nan'}},\n",
       "    {'data': {'source': 'Aegon-I-Targaryen', 'target': 'Rhaenys-Targaryen'}},\n",
       "    {'data': {'source': 'Aegon-I-Targaryen', 'target': 'Stannis-Baratheon'}},\n",
       "    {'data': {'source': 'Aegon-I-Targaryen', 'target': 'Torrhen-Stark'}},\n",
       "    {'data': {'source': 'Aegon-I-Targaryen', 'target': 'Tyrion-Lannister'}},\n",
       "    {'data': {'source': 'Aegon-I-Targaryen', 'target': 'Visenya-Targaryen'}},\n",
       "    {'data': {'source': 'Aegon-Targaryen-(son-of-Rhaegar)',\n",
       "      'target': 'Daenerys-Targaryen'}},\n",
       "    {'data': {'source': 'Aegon-Targaryen-(son-of-Rhaegar)',\n",
       "      'target': 'Elia-Martell'}},\n",
       "    {'data': {'source': 'Aegon-Targaryen-(son-of-Rhaegar)',\n",
       "      'target': 'Franklyn-Flowers'}},\n",
       "    {'data': {'source': 'Aegon-Targaryen-(son-of-Rhaegar)',\n",
       "      'target': 'Haldon'}},\n",
       "    {'data': {'source': 'Aegon-Targaryen-(son-of-Rhaegar)',\n",
       "      'target': 'Harry-Strickland'}},\n",
       "    {'data': {'source': 'Aegon-Targaryen-(son-of-Rhaegar)',\n",
       "      'target': 'Jon-Connington'}},\n",
       "    {'data': {'source': 'Aegon-Targaryen-(son-of-Rhaegar)',\n",
       "      'target': 'Lemore'}},\n",
       "    {'data': {'source': 'Aegon-Targaryen-(son-of-Rhaegar)',\n",
       "      'target': 'Rhaegar-Targaryen'}},\n",
       "    {'data': {'source': 'Aegon-Targaryen-(son-of-Rhaegar)',\n",
       "      'target': 'Rhaenys-Targaryen-(daughter-of-Rhaegar)'}},\n",
       "    {'data': {'source': 'Aegon-Targaryen-(son-of-Rhaegar)',\n",
       "      'target': 'Rolly-Duckfield'}},\n",
       "    {'data': {'source': 'Aegon-Targaryen-(son-of-Rhaegar)',\n",
       "      'target': 'Tyrion-Lannister'}},\n",
       "    {'data': {'source': 'Aegon-Targaryen-(son-of-Rhaegar)',\n",
       "      'target': 'Tywin-Lannister'}},\n",
       "    {'data': {'source': 'Aegon-Targaryen-(son-of-Rhaegar)',\n",
       "      'target': 'Viserys-Targaryen'}},\n",
       "    {'data': {'source': 'Aegon-Targaryen-(son-of-Rhaegar)',\n",
       "      'target': 'Yandry'}},\n",
       "    {'data': {'source': 'Aegon-Targaryen-(son-of-Rhaegar)',\n",
       "      'target': 'Ysilla'}},\n",
       "    {'data': {'source': 'Aegon-V-Targaryen',\n",
       "      'target': 'Aemon-Targaryen-(Maester-Aemon)'}},\n",
       "    {'data': {'source': 'Aemon-Targaryen-(Dragonknight)',\n",
       "      'target': 'Jaime-Lannister'}},\n",
       "    {'data': {'source': 'Aemon-Targaryen-(Maester-Aemon)',\n",
       "      'target': 'Alleras'}},\n",
       "    {'data': {'source': 'Aemon-Targaryen-(Maester-Aemon)',\n",
       "      'target': 'Alliser-Thorne'}},\n",
       "    {'data': {'source': 'Aemon-Targaryen-(Maester-Aemon)',\n",
       "      'target': 'Bowen-Marsh'}},\n",
       "    {'data': {'source': 'Aemon-Targaryen-(Maester-Aemon)', 'target': 'Chett'}},\n",
       "    {'data': {'source': 'Aemon-Targaryen-(Maester-Aemon)',\n",
       "      'target': 'Clydas'}},\n",
       "    {'data': {'source': 'Aemon-Targaryen-(Maester-Aemon)',\n",
       "      'target': 'Cotter-Pyke'}},\n",
       "    {'data': {'source': 'Aemon-Targaryen-(Maester-Aemon)',\n",
       "      'target': 'Daeron-II-Targaryen'}},\n",
       "    {'data': {'source': 'Aemon-Targaryen-(Maester-Aemon)',\n",
       "      'target': 'Dareon'}},\n",
       "    {'data': {'source': 'Aemon-Targaryen-(Maester-Aemon)',\n",
       "      'target': 'Denys-Mallister'}},\n",
       "    {'data': {'source': 'Aemon-Targaryen-(Maester-Aemon)',\n",
       "      'target': 'Donal-Noye'}},\n",
       "    {'data': {'source': 'Aemon-Targaryen-(Maester-Aemon)',\n",
       "      'target': 'Eddison-Tollett'}},\n",
       "    {'data': {'source': 'Aemon-Targaryen-(Maester-Aemon)', 'target': 'Gilly'}},\n",
       "    {'data': {'source': 'Aemon-Targaryen-(Maester-Aemon)', 'target': 'Grenn'}},\n",
       "    {'data': {'source': 'Aemon-Targaryen-(Maester-Aemon)', 'target': 'Hobb'}},\n",
       "    {'data': {'source': 'Aemon-Targaryen-(Maester-Aemon)',\n",
       "      'target': 'Janos-Slynt'}},\n",
       "    {'data': {'source': 'Aemon-Targaryen-(Maester-Aemon)',\n",
       "      'target': 'Jeor-Mormont'}},\n",
       "    {'data': {'source': 'Aemon-Targaryen-(Maester-Aemon)',\n",
       "      'target': 'Jon-Snow'}},\n",
       "    {'data': {'source': 'Aemon-Targaryen-(Maester-Aemon)',\n",
       "      'target': 'Maekar-I-Targaryen'}},\n",
       "    {'data': {'source': 'Aemon-Targaryen-(Maester-Aemon)',\n",
       "      'target': 'Mance-Rayder'}},\n",
       "    {'data': {'source': 'Aemon-Targaryen-(Maester-Aemon)', 'target': 'Owen'}},\n",
       "    {'data': {'source': 'Aemon-Targaryen-(Maester-Aemon)', 'target': 'Pypar'}},\n",
       "    {'data': {'source': 'Aemon-Targaryen-(Maester-Aemon)',\n",
       "      'target': 'Robert-Baratheon'}},\n",
       "    {'data': {'source': 'Aemon-Targaryen-(Maester-Aemon)',\n",
       "      'target': 'Samwell-Tarly'}},\n",
       "    {'data': {'source': 'Aemon-Targaryen-(Maester-Aemon)',\n",
       "      'target': 'Stannis-Baratheon'}},\n",
       "    {'data': {'source': 'Aemon-Targaryen-(Maester-Aemon)',\n",
       "      'target': 'Wynton-Stout'}},\n",
       "    {'data': {'source': 'Aenys-Frey', 'target': 'Arya-Stark'}},\n",
       "    {'data': {'source': 'Aenys-Frey', 'target': 'Hosteen-Frey'}},\n",
       "    {'data': {'source': 'Aenys-Frey', 'target': 'Theon-Greyjoy'}},\n",
       "    {'data': {'source': 'Aenys-Frey', 'target': 'Wyman-Manderly'}},\n",
       "    {'data': {'source': 'Aeron-Greyjoy', 'target': 'Asha-Greyjoy'}},\n",
       "    {'data': {'source': 'Aeron-Greyjoy', 'target': 'Baelor-Blacktyde'}},\n",
       "    {'data': {'source': 'Aeron-Greyjoy', 'target': 'Balon-Greyjoy'}},\n",
       "    {'data': {'source': 'Aeron-Greyjoy', 'target': 'Dagmer'}},\n",
       "    {'data': {'source': 'Aeron-Greyjoy', 'target': 'Dunstan-Drumm'}},\n",
       "    {'data': {'source': 'Aeron-Greyjoy', 'target': 'Emmond'}},\n",
       "    {'data': {'source': 'Aeron-Greyjoy', 'target': 'Euron-Greyjoy'}},\n",
       "    {'data': {'source': 'Aeron-Greyjoy', 'target': 'Gormond-Goodbrother'}},\n",
       "    {'data': {'source': 'Aeron-Greyjoy', 'target': 'Gorold-Goodbrother'}},\n",
       "    {'data': {'source': 'Aeron-Greyjoy', 'target': 'Greydon-Goodbrother'}},\n",
       "    {'data': {'source': 'Aeron-Greyjoy', 'target': 'Meldred-Merlyn'}},\n",
       "    {'data': {'source': 'Aeron-Greyjoy', 'target': 'Murenmure'}},\n",
       "    {'data': {'source': 'Aeron-Greyjoy', 'target': 'Rus'}},\n",
       "    {'data': {'source': 'Aeron-Greyjoy', 'target': 'Theon-Greyjoy'}},\n",
       "    {'data': {'source': 'Aeron-Greyjoy', 'target': 'Victarion-Greyjoy'}},\n",
       "    {'data': {'source': 'Aerys-I-Targaryen', 'target': 'Robert-Baratheon'}},\n",
       "    {'data': {'source': 'Aerys-II-Targaryen', 'target': 'Arthur-Dayne'}},\n",
       "    {'data': {'source': 'Aerys-II-Targaryen', 'target': 'Barristan-Selmy'}},\n",
       "    {'data': {'source': 'Aerys-II-Targaryen', 'target': 'Brandon-Stark'}},\n",
       "    {'data': {'source': 'Aerys-II-Targaryen', 'target': 'Brienne-of-Tarth'}},\n",
       "    {'data': {'source': 'Aerys-II-Targaryen', 'target': 'Cersei-Lannister'}},\n",
       "    {'data': {'source': 'Aerys-II-Targaryen', 'target': 'Denys-Darklyn'}},\n",
       "    {'data': {'source': 'Aerys-II-Targaryen', 'target': 'Eddard-Stark'}},\n",
       "    {'data': {'source': 'Aerys-II-Targaryen', 'target': 'Elbert-Arryn'}},\n",
       "    {'data': {'source': 'Aerys-II-Targaryen', 'target': 'Gerold-Hightower'}},\n",
       "    {'data': {'source': 'Aerys-II-Targaryen', 'target': 'Jaime-Lannister'}},\n",
       "    {'data': {'source': 'Aerys-II-Targaryen', 'target': 'Joffrey-Baratheon'}},\n",
       "    {'data': {'source': 'Aerys-II-Targaryen', 'target': 'Jon-Arryn'}},\n",
       "    {'data': {'source': 'Aerys-II-Targaryen', 'target': 'Owen-Merryweather'}},\n",
       "    {'data': {'source': 'Aerys-II-Targaryen', 'target': 'Rhaegar-Targaryen'}},\n",
       "    {'data': {'source': 'Aerys-II-Targaryen', 'target': 'Robert-Baratheon'}},\n",
       "    {'data': {'source': 'Aerys-II-Targaryen', 'target': 'Rossart'}},\n",
       "    {'data': {'source': 'Aerys-II-Targaryen', 'target': 'Tyrion-Lannister'}},\n",
       "    {'data': {'source': 'Aerys-II-Targaryen', 'target': 'Tywin-Lannister'}},\n",
       "    {'data': {'source': 'Aerys-II-Targaryen', 'target': 'Viserys-Targaryen'}},\n",
       "    {'data': {'source': 'Aggar', 'target': 'Gariss'}},\n",
       "    {'data': {'source': 'Aggar', 'target': 'Gelmarr'}},\n",
       "    {'data': {'source': 'Aggar', 'target': 'Gynir'}},\n",
       "    {'data': {'source': 'Aggar', 'target': 'Ramsay-Snow'}},\n",
       "    {'data': {'source': 'Aggo', 'target': 'Barristan-Selmy'}},\n",
       "    {'data': {'source': 'Aggo', 'target': 'Belwas'}},\n",
       "    {'data': {'source': 'Aggo', 'target': 'Daario-Naharis'}},\n",
       "    {'data': {'source': 'Aggo', 'target': 'Daenerys-Targaryen'}},\n",
       "    {'data': {'source': 'Aggo', 'target': 'Drogo'}},\n",
       "    {'data': {'source': 'Aggo', 'target': 'Grey-Worm'}},\n",
       "    {'data': {'source': 'Aggo', 'target': 'Jhogo'}},\n",
       "    {'data': {'source': 'Aggo', 'target': 'Jorah-Mormont'}},\n",
       "    {'data': {'source': 'Aggo', 'target': 'Quaro'}},\n",
       "    {'data': {'source': 'Aggo', 'target': 'Rakharo'}},\n",
       "    {'data': {'source': 'Alayaya', 'target': 'Bronn'}},\n",
       "    {'data': {'source': 'Alayaya', 'target': 'Cersei-Lannister'}},\n",
       "    {'data': {'source': 'Alayaya', 'target': 'Dancy'}},\n",
       "    {'data': {'source': 'Alayaya', 'target': 'Tyrion-Lannister'}},\n",
       "    {'data': {'source': 'Albett', 'target': 'Halder'}},\n",
       "    {'data': {'source': 'Albett', 'target': 'Jon-Snow'}},\n",
       "    {'data': {'source': 'Albett', 'target': 'Rast'}},\n",
       "    {'data': {'source': 'Alebelly', 'target': 'Bran-Stark'}},\n",
       "    {'data': {'source': 'Alebelly', 'target': 'Hayhead'}},\n",
       "    {'data': {'source': 'Alebelly', 'target': 'Jojen-Reed'}},\n",
       "    {'data': {'source': 'Alebelly', 'target': 'Mikken'}},\n",
       "    {'data': {'source': 'Alerie-Hightower', 'target': 'Mace-Tyrell'}},\n",
       "    {'data': {'source': 'Alerie-Hightower', 'target': 'Margaery-Tyrell'}},\n",
       "    {'data': {'source': 'Alester-Florent', 'target': 'Axell-Florent'}},\n",
       "    {'data': {'source': 'Alester-Florent', 'target': 'Cortnay-Penrose'}},\n",
       "    {'data': {'source': 'Alester-Florent', 'target': 'Davos-Seaworth'}},\n",
       "    {'data': {'source': 'Alester-Florent', 'target': 'Lamprey'}},\n",
       "    {'data': {'source': 'Alester-Florent', 'target': 'Renly-Baratheon'}},\n",
       "    {'data': {'source': 'Alester-Florent', 'target': 'Selyse-Florent'}},\n",
       "    {'data': {'source': 'Alester-Florent', 'target': 'Stannis-Baratheon'}},\n",
       "    {'data': {'source': 'Alla-Tyrell', 'target': 'Elinor-Tyrell'}},\n",
       "    {'data': {'source': 'Alla-Tyrell', 'target': 'Margaery-Tyrell'}},\n",
       "    {'data': {'source': 'Alla-Tyrell', 'target': 'Megga-Tyrell'}},\n",
       "    {'data': {'source': 'Alla-Tyrell', 'target': 'Osney-Kettleblack'}},\n",
       "    {'data': {'source': 'Alla-Tyrell', 'target': 'Sansa-Stark'}},\n",
       "    {'data': {'source': 'Allar-Deem', 'target': 'Janos-Slynt'}},\n",
       "    {'data': {'source': 'Allar-Deem', 'target': 'Tyrion-Lannister'}},\n",
       "    {'data': {'source': 'Allard-Seaworth', 'target': 'Davos-Seaworth'}},\n",
       "    {'data': {'source': 'Allard-Seaworth', 'target': 'Marya-Seaworth'}},\n",
       "    {'data': {'source': 'Allard-Seaworth', 'target': 'Stannis-Baratheon'}},\n",
       "    {'data': {'source': 'Alleras', 'target': 'Armen'}},\n",
       "    {'data': {'source': 'Alleras', 'target': 'Leo-Tyrell'}},\n",
       "    {'data': {'source': 'Alleras', 'target': 'Marwyn'}},\n",
       "    {'data': {'source': 'Alleras', 'target': 'Mollander'}},\n",
       "    {'data': {'source': 'Alleras', 'target': 'Pate-(novice)'}},\n",
       "    {'data': {'source': 'Alleras', 'target': 'Roone'}},\n",
       "    {'data': {'source': 'Alleras', 'target': 'Samwell-Tarly'}},\n",
       "    {'data': {'source': 'Alliser-Thorne', 'target': 'Bowen-Marsh'}},\n",
       "    {'data': {'source': 'Alliser-Thorne', 'target': 'Grenn'}},\n",
       "    {'data': {'source': 'Alliser-Thorne', 'target': 'Halder'}},\n",
       "    {'data': {'source': 'Alliser-Thorne', 'target': 'Janos-Slynt'}},\n",
       "    {'data': {'source': 'Alliser-Thorne', 'target': 'Jeor-Mormont'}},\n",
       "    {'data': {'source': 'Alliser-Thorne', 'target': 'Joffrey-Baratheon'}},\n",
       "    {'data': {'source': 'Alliser-Thorne', 'target': 'Jon-Snow'}},\n",
       "    {'data': {'source': 'Alliser-Thorne', 'target': 'Mance-Rayder'}},\n",
       "    {'data': {'source': 'Alliser-Thorne', 'target': 'Pypar'}},\n",
       "    {'data': {'source': 'Alliser-Thorne', 'target': 'Qhorin-Halfhand'}},\n",
       "    {'data': {'source': 'Alliser-Thorne', 'target': 'Rast'}},\n",
       "    {'data': {'source': 'Alliser-Thorne', 'target': 'Samwell-Tarly'}},\n",
       "    {'data': {'source': 'Alliser-Thorne', 'target': 'Stannis-Baratheon'}},\n",
       "    {'data': {'source': 'Alliser-Thorne', 'target': 'Tyrion-Lannister'}},\n",
       "    {'data': {'source': 'Alyn', 'target': 'Eddard-Stark'}},\n",
       "    {'data': {'source': 'Alyn', 'target': 'Harwin'}},\n",
       "    {'data': {'source': 'Alyn', 'target': 'Jory-Cassel'}},\n",
       "    {'data': {'source': 'Alyn', 'target': 'Robert-Baratheon'}},\n",
       "    {'data': {'source': 'Alyn', 'target': 'Tomard'}},\n",
       "    {'data': {'source': 'Alys-Arryn', 'target': 'Elys-Waynwood'}},\n",
       "    {'data': {'source': 'Alys-Arryn', 'target': 'Jon-Arryn'}},\n",
       "    {'data': {'source': 'Alys-Karstark', 'target': 'Jon-Snow'}},\n",
       "    {'data': {'source': 'Alys-Karstark', 'target': 'Melisandre'}},\n",
       "    {'data': {'source': 'Alys-Karstark', 'target': 'Sigorn'}},\n",
       "    {'data': {'source': 'Alysane-Mormont', 'target': 'Asha-Greyjoy'}},\n",
       "    {'data': {'source': 'Alysane-Mormont', 'target': 'Justin-Massey'}},\n",
       "    {'data': {'source': 'Alysane-Mormont', 'target': 'Stannis-Baratheon'}},\n",
       "    {'data': {'source': 'Amabel', 'target': 'Arya-Stark'}},\n",
       "    {'data': {'source': 'Amabel', 'target': 'Harra'}},\n",
       "    {'data': {'source': 'Amerei-Frey', 'target': 'Jaime-Lannister'}},\n",
       "    {'data': {'source': 'Amerei-Frey', 'target': 'Lancel-Lannister'}},\n",
       "    {'data': {'source': 'Amerei-Frey', 'target': 'Lyle-Crakehall'}},\n",
       "    {'data': {'source': 'Amory-Lorch', 'target': 'Arya-Stark'}},\n",
       "    {'data': {'source': 'Amory-Lorch', 'target': 'Cersei-Lannister'}},\n",
       "    {'data': {'source': 'Amory-Lorch', 'target': 'Chiswyck'}},\n",
       "    {'data': {'source': 'Amory-Lorch', 'target': 'Dunsen'}},\n",
       "    {'data': {'source': 'Amory-Lorch', 'target': 'Gendry'}},\n",
       "    {'data': {'source': 'Amory-Lorch', 'target': 'Gregor-Clegane'}},\n",
       "    {'data': {'source': 'Amory-Lorch', 'target': 'Hot-Pie'}},\n",
       "    {'data': {'source': 'Amory-Lorch', 'target': 'Ilyn-Payne'}},\n",
       "    {'data': {'source': 'Amory-Lorch', 'target': 'Jaime-Lannister'}},\n",
       "    {'data': {'source': 'Amory-Lorch', 'target': 'Joffrey-Baratheon'}},\n",
       "    {'data': {'source': 'Amory-Lorch', 'target': 'Meryn-Trant'}}]}},\n",
       " 'format': 'cyjs',\n",
       " 'layout': 'IPY_MODEL_f75e15f846134a2c849bb46e63ab2b5f',\n",
       " 'layout_name': 'cose',\n",
       " 'visual_style': None}"
      ]
     },
     "execution_count": 24,
     "metadata": {},
     "output_type": "execute_result"
    }
   ],
   "source": [
    "fig.get_state()"
   ]
  },
  {
   "cell_type": "code",
   "execution_count": 198,
   "metadata": {},
   "outputs": [],
   "source": [
    "## Publish"
   ]
  },
  {
   "cell_type": "code",
   "execution_count": 199,
   "metadata": {
    "colab": {
     "base_uri": "https://localhost:8080/",
     "height": 85
    },
    "colab_type": "code",
    "id": "J2QxjTN7c8eL",
    "outputId": "ca4ab1b0-9d32-46be-992f-38a5cf5475cc",
    "tags": []
   },
   "outputs": [
    {
     "name": "stdout",
     "output_type": "stream",
     "text": [
      "Public datapackage: https://storage.googleapis.com/deetly/examples/0be9a787c00f0569d669fb2492424fbc/datapackage.json \n",
      "\n",
      "Published at: https://public.deetly.com/examples/0be9a787c00f0569d669fb2492424fbc \n",
      "\n"
     ]
    }
   ],
   "source": [
    "dp.publish()"
   ]
  }
 ],
 "metadata": {
  "colab": {
   "authorship_tag": "ABX9TyPrJ49vyNtwntfNHwazW3J3",
   "include_colab_link": true,
   "name": "example_basic_altair_and_plotly.ipynb",
   "provenance": []
  },
  "kernelspec": {
   "display_name": "Python 3",
   "language": "python",
   "name": "python3"
  },
  "language_info": {
   "codemirror_mode": {
    "name": "ipython",
    "version": 3
   },
   "file_extension": ".py",
   "mimetype": "text/x-python",
   "name": "python",
   "nbconvert_exporter": "python",
   "pygments_lexer": "ipython3",
   "version": "3.8.2"
  }
 },
 "nbformat": 4,
 "nbformat_minor": 1
}
