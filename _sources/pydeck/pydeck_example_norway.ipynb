{
 "cells": [
  {
   "cell_type": "markdown",
   "metadata": {},
   "source": [
    "# Map types"
   ]
  },
  {
   "cell_type": "code",
   "execution_count": 1,
   "metadata": {},
   "outputs": [
    {
     "data": {
      "text/plain": [
       "'no_NO.UTF-8'"
      ]
     },
     "execution_count": 1,
     "metadata": {},
     "output_type": "execute_result"
    }
   ],
   "source": [
    "import deetly\n",
    "import os\n",
    "import pandas as pd\n",
    "from getpass import getpass\n",
    "import geopandas as gpd\n",
    "import pydeck\n",
    "import altair as alt\n",
    "import dateutil.parser\n",
    "import requests\n",
    "import json\n",
    "\n",
    "import locale\n",
    "locale.setlocale(locale.LC_ALL, \"no_NO.UTF-8\")"
   ]
  },
  {
   "cell_type": "code",
   "execution_count": 2,
   "metadata": {},
   "outputs": [],
   "source": [
    "MAPBOX_TOKEN = os.environ['MAPBOX_TOKEN'] "
   ]
  },
  {
   "cell_type": "code",
   "execution_count": 3,
   "metadata": {},
   "outputs": [],
   "source": [
    "MAP_URL = 'https://raw.githubusercontent.com/datasett/maps/master/norway/data/2020/counties_2020_s_geojson.json'"
   ]
  },
  {
   "cell_type": "code",
   "execution_count": 4,
   "metadata": {},
   "outputs": [],
   "source": [
    "COLOR_RANGE = [\n",
    "  [255, 255, 178, 25],\n",
    "  [254, 217, 118, 85],\n",
    "  [254, 178, 76, 127],\n",
    "  [253, 141, 60, 170],\n",
    "  [240, 59, 32, 212],\n",
    "  [189, 0, 38, 255]\n",
    "]"
   ]
  },
  {
   "cell_type": "code",
   "execution_count": 5,
   "metadata": {},
   "outputs": [
    {
     "name": "stdout",
     "output_type": "stream",
     "text": [
      "Missing mandatory props(s): ['title']\n",
      "Missing recommended props(s): ['contactPoint', 'distribution', 'keyword', 'publisher', 'spatial', 'temporal']\n",
      "Property not in DCAT schema: ['name', 'author', 'license', 'keywords']\n",
      "Invalid type: ['String:name', 'String:description', 'String:author', 'String or list of strings:theme', 'String:license', 'String:keywords', 'ISO date or datetime:issued', 'ISO date or datetime:modified']\n"
     ]
    }
   ],
   "source": [
    "# Create datapackage\n",
    "description = \"\"\"\n",
    "## Skisser til kartvisning for antall søknader om ordinære dagpenger og dagpenger under permittering\n",
    "\"\"\"\n",
    "\n",
    "package = {\n",
    "    \"name\":\"Skisser til kartvisning for antall søknader om ordinære dagpenger og dagpenger under permittering\", \n",
    "    \"description\":description, \n",
    "    \"author\":\"deetly\", \n",
    "    \"theme\":\"example\",\n",
    "    \"license\": \"MIT\",\n",
    "    \"keywords\": [\"example, deck.gl, pydeck, arbeid, dagpenger, permittering, permitteringer\"]\n",
    "}\n",
    "\n",
    "dp = deetly.package(package)"
   ]
  },
  {
   "cell_type": "markdown",
   "metadata": {},
   "source": [
    "# Get data from nav.no"
   ]
  },
  {
   "cell_type": "code",
   "execution_count": 6,
   "metadata": {},
   "outputs": [],
   "source": [
    "EXCEL_URL = 'https://www.nav.no/no/nav-og-samfunn/statistikk/flere-statistikkomrader/relatert-informasjon/soknader-om-dagpenger/_/attachment/download/411ae583-d0a3-4e5b-9f70-b87e62424518:6f394fda3ad3098d5913a9f4b417a72d5174bea5/2503%20-%20S%C3%B8knader_om_dagpenger.xlsx'"
   ]
  },
  {
   "cell_type": "code",
   "execution_count": 7,
   "metadata": {},
   "outputs": [
    {
     "data": {
      "text/plain": [
       "['Dato',\n",
       " 'Uke',\n",
       " 'Fylke. Ordinære',\n",
       " 'Fylke. Permitterte',\n",
       " 'Kommune. Permitterte',\n",
       " 'Bydel. Permitterte',\n",
       " 'År',\n",
       " 'Om statistikken']"
      ]
     },
     "execution_count": 7,
     "metadata": {},
     "output_type": "execute_result"
    }
   ],
   "source": [
    "xl_sykefravaer = pd.ExcelFile(EXCEL_URL)\n",
    "xl_sykefravaer.sheet_names"
   ]
  },
  {
   "cell_type": "code",
   "execution_count": 8,
   "metadata": {},
   "outputs": [
    {
     "data": {
      "text/html": [
       "<div>\n",
       "<style scoped>\n",
       "    .dataframe tbody tr th:only-of-type {\n",
       "        vertical-align: middle;\n",
       "    }\n",
       "\n",
       "    .dataframe tbody tr th {\n",
       "        vertical-align: top;\n",
       "    }\n",
       "\n",
       "    .dataframe thead th {\n",
       "        text-align: right;\n",
       "    }\n",
       "</style>\n",
       "<table border=\"1\" class=\"dataframe\">\n",
       "  <thead>\n",
       "    <tr style=\"text-align: right;\">\n",
       "      <th></th>\n",
       "      <th>Kommune</th>\n",
       "      <th>sum</th>\n",
       "      <th>uke11</th>\n",
       "      <th>uke12</th>\n",
       "      <th>uke13</th>\n",
       "      <th>kommunenummer</th>\n",
       "      <th>kommune_navn</th>\n",
       "    </tr>\n",
       "  </thead>\n",
       "  <tbody>\n",
       "    <tr>\n",
       "      <th>1</th>\n",
       "      <td>0301 Oslo</td>\n",
       "      <td>38532</td>\n",
       "      <td>3976</td>\n",
       "      <td>29746</td>\n",
       "      <td>4810</td>\n",
       "      <td>0301</td>\n",
       "      <td>Oslo</td>\n",
       "    </tr>\n",
       "  </tbody>\n",
       "</table>\n",
       "</div>"
      ],
      "text/plain": [
       "     Kommune    sum  uke11  uke12  uke13 kommunenummer kommune_navn\n",
       "1  0301 Oslo  38532   3976  29746   4810          0301         Oslo"
      ]
     },
     "execution_count": 8,
     "metadata": {},
     "output_type": "execute_result"
    }
   ],
   "source": [
    "df_p = pd.read_excel(EXCEL_URL,sheet_name='Kommune. Permitterte', header=6, encoding=\"latin-1\")\n",
    "df_p.drop(columns=[\"Unnamed: 0\",\"Unnamed: 2\",\"Unnamed: 7\",\"Unnamed: 8\",\"Unnamed: 9\"], axis=1, inplace=True)\n",
    "df_p.rename(columns={\"Unnamed: 1\": \"Kommune\"}, inplace=True)\n",
    "df_p.drop([0, 0],inplace=True)\n",
    "df_p.replace({'Kommune': {'Ukjent': '9999 Ukjent'}}, inplace=True)\n",
    "df_p.replace({'*':0}, inplace=True)\n",
    "df_p[\"kommunenummer\"] = df_p[\"Kommune\"].apply(lambda x: x[0:4])\n",
    "df_p[\"kommune_navn\"] = df_p[\"Kommune\"].apply(lambda x: x[4:])\n",
    "df_p.rename(columns={\"I alt\": \"sum\", 11: 'uke11', 12: 'uke12', 13:'uke13'}, inplace=True)\n",
    "df_p.head(1)"
   ]
  },
  {
   "cell_type": "code",
   "execution_count": 9,
   "metadata": {},
   "outputs": [],
   "source": [
    "df_map = gpd.read_file(MAP_URL)\n",
    "df_merged = pd.merge(df_map, df_p, how='left', on='kommunenummer')\n",
    "df_merged['lat'] = df_merged['geometry'].apply(lambda x : round(x.centroid.y,2))\n",
    "df_merged['lng'] = df_merged['geometry'].apply(lambda x : round(x.centroid.x,2))\n",
    "df_merged['coordinates']  = df_merged.apply(lambda row: [row['lng'], row['lat']], axis=1)"
   ]
  },
  {
   "cell_type": "code",
   "execution_count": 10,
   "metadata": {},
   "outputs": [
    {
     "data": {
      "text/html": [
       "<div>\n",
       "<style scoped>\n",
       "    .dataframe tbody tr th:only-of-type {\n",
       "        vertical-align: middle;\n",
       "    }\n",
       "\n",
       "    .dataframe tbody tr th {\n",
       "        vertical-align: top;\n",
       "    }\n",
       "\n",
       "    .dataframe thead th {\n",
       "        text-align: right;\n",
       "    }\n",
       "</style>\n",
       "<table border=\"1\" class=\"dataframe\">\n",
       "  <thead>\n",
       "    <tr style=\"text-align: right;\">\n",
       "      <th></th>\n",
       "      <th>id</th>\n",
       "      <th>kommunenummer</th>\n",
       "      <th>oppdateringsdato</th>\n",
       "      <th>navn</th>\n",
       "      <th>area_kommune</th>\n",
       "      <th>fylke_nummer</th>\n",
       "      <th>fylke_navn</th>\n",
       "      <th>geometry</th>\n",
       "      <th>Kommune</th>\n",
       "      <th>sum</th>\n",
       "      <th>uke11</th>\n",
       "      <th>uke12</th>\n",
       "      <th>uke13</th>\n",
       "      <th>kommune_navn</th>\n",
       "      <th>lat</th>\n",
       "      <th>lng</th>\n",
       "      <th>coordinates</th>\n",
       "    </tr>\n",
       "  </thead>\n",
       "  <tbody>\n",
       "    <tr>\n",
       "      <th>0</th>\n",
       "      <td>0</td>\n",
       "      <td>0301</td>\n",
       "      <td>2019-10-28T00:00:00</td>\n",
       "      <td>Oslo</td>\n",
       "      <td>0.072515</td>\n",
       "      <td>03</td>\n",
       "      <td>OSLO</td>\n",
       "      <td>POLYGON ((10.68032 60.13353, 10.74694 60.12303...</td>\n",
       "      <td>0301 Oslo</td>\n",
       "      <td>38532</td>\n",
       "      <td>3976</td>\n",
       "      <td>29746</td>\n",
       "      <td>4810</td>\n",
       "      <td>Oslo</td>\n",
       "      <td>59.98</td>\n",
       "      <td>10.74</td>\n",
       "      <td>[10.74, 59.98]</td>\n",
       "    </tr>\n",
       "  </tbody>\n",
       "</table>\n",
       "</div>"
      ],
      "text/plain": [
       "  id kommunenummer     oppdateringsdato  navn  area_kommune fylke_nummer  \\\n",
       "0  0          0301  2019-10-28T00:00:00  Oslo      0.072515           03   \n",
       "\n",
       "  fylke_navn                                           geometry    Kommune  \\\n",
       "0       OSLO  POLYGON ((10.68032 60.13353, 10.74694 60.12303...  0301 Oslo   \n",
       "\n",
       "     sum  uke11  uke12  uke13 kommune_navn    lat    lng     coordinates  \n",
       "0  38532   3976  29746   4810         Oslo  59.98  10.74  [10.74, 59.98]  "
      ]
     },
     "execution_count": 10,
     "metadata": {},
     "output_type": "execute_result"
    }
   ],
   "source": [
    "df_merged.head(1)"
   ]
  },
  {
   "cell_type": "code",
   "execution_count": 11,
   "metadata": {},
   "outputs": [],
   "source": [
    "# Map centered on Trondheim, Norway\n",
    "view_state_norway = pydeck.ViewState(\n",
    "    longitude = 17,\n",
    "    latitude= 64,\n",
    "    zoom= 3,\n",
    "    minZoom= 3,\n",
    "    maxZoom= 12,\n",
    "    pitch= 45,\n",
    "    bearing= 0)"
   ]
  },
  {
   "cell_type": "markdown",
   "metadata": {},
   "source": [
    "## GeoJson"
   ]
  },
  {
   "cell_type": "code",
   "execution_count": 12,
   "metadata": {},
   "outputs": [
    {
     "data": {
      "text/html": [
       "\n",
       "        <iframe\n",
       "            width=\"700\"\n",
       "            height=\"500\"\n",
       "            src=\"./fig.html\"\n",
       "            frameborder=\"0\"\n",
       "            allowfullscreen\n",
       "        ></iframe>\n",
       "        "
      ],
      "text/plain": [
       "<IPython.lib.display.IFrame at 0x122225610>"
      ]
     },
     "metadata": {},
     "output_type": "display_data"
    },
    {
     "data": {
      "text/plain": [
       "'/Users/B149899/Projects/deetly/docs/content/pydeck/fig.html'"
      ]
     },
     "execution_count": 12,
     "metadata": {},
     "output_type": "execute_result"
    }
   ],
   "source": [
    "layer = pydeck.Layer(\n",
    "    'GeoJsonLayer',\n",
    "    json.loads(df_merged.to_json()),\n",
    "    stroked = False,\n",
    "    filled = True,\n",
    "    extruded = True,\n",
    "    wireframe = True,\n",
    "    elevationScale = 40,\n",
    "    getElevation = 'properties.sum',\n",
    "    getFillColor = [199,233,180],\n",
    "    getLineColor = [255,255,255],\n",
    "    pickable=True\n",
    ")\n",
    "\n",
    "\n",
    "tooltip = {\n",
    "    \"html\": \"{properties.navn}<br/>Sum antall: {properties.sum}\",\n",
    "    \"style\": {\n",
    "        \"backgroundColor\": \"silver\",\n",
    "        \"color\": \"black\",\n",
    "        \"zIndex\": \"10000\",\n",
    "    },\n",
    "}\n",
    "\n",
    "# Render\n",
    "fig = pydeck.Deck(layers=[layer], \n",
    "                          initial_view_state=view_state_norway, \n",
    "                          #tooltip=tooltip, \n",
    "                          mapbox_key=MAPBOX_TOKEN\n",
    "                 )\n",
    "fig.to_html('fig.html')"
   ]
  },
  {
   "cell_type": "code",
   "execution_count": 13,
   "metadata": {},
   "outputs": [],
   "source": [
    "# Add figure to data package\n",
    "description = \"\"\"\n",
    "## GeoJson layer\n",
    "\n",
    "```python\n",
    "layer = pydeck.Layer(\n",
    "    'GeoJsonLayer',\n",
    "    json.loads(df_merged.to_json()),\n",
    "    stroked = False,\n",
    "    filled = True,\n",
    "    extruded = True,\n",
    "    wireframe = True,\n",
    "    elevationScale = 40,\n",
    "    getElevation = 'properties.sum',\n",
    "    getFillColor = [199,233,180],\n",
    "    getLineColor = [255,255,255],\n",
    "    pickable=True\n",
    ")\n",
    "\n",
    "\n",
    "tooltip = {\n",
    "    \"html\": \"<b>{properties.navn}</b><br/>Sum antall: {properties.sum}\",\n",
    "    \"style\": {\n",
    "        \"backgroundColor\": \"silver\",\n",
    "        \"color\": \"black\",\n",
    "        \"zIndex\": \"10000\",\n",
    "    },\n",
    "}\n",
    "\n",
    "# Render\n",
    "fig = pydeck.Deck(layers=[layer], \n",
    "                          initial_view_state=view_state_norway, \n",
    "                          tooltip=tooltip, \n",
    "                          mapbox_key=MAPBOX_TOKEN)\n",
    "\n",
    "```\n",
    "\n",
    "\"\"\"\n",
    "\n",
    "dp.pydeck(fig, \n",
    "          \"GeoJSON\",\n",
    "          description, \n",
    "          showMap=True, \n",
    "          #tooltip=json.dumps(tooltip)\n",
    "         )"
   ]
  },
  {
   "cell_type": "code",
   "execution_count": 14,
   "metadata": {},
   "outputs": [],
   "source": [
    "tooltip = {\n",
    "    \"html\": \"<b>{navn}</b><br/>Sum antall: {sum}\",\n",
    "    \"style\": {\n",
    "        \"backgroundColor\": \"silver\",\n",
    "        \"color\": \"black\",\n",
    "        \"zIndex\": \"10000\",\n",
    "    },\n",
    "}"
   ]
  },
  {
   "cell_type": "markdown",
   "metadata": {},
   "source": [
    "## Scatterplot"
   ]
  },
  {
   "cell_type": "code",
   "execution_count": 15,
   "metadata": {},
   "outputs": [
    {
     "data": {
      "text/html": [
       "<div>\n",
       "<style scoped>\n",
       "    .dataframe tbody tr th:only-of-type {\n",
       "        vertical-align: middle;\n",
       "    }\n",
       "\n",
       "    .dataframe tbody tr th {\n",
       "        vertical-align: top;\n",
       "    }\n",
       "\n",
       "    .dataframe thead th {\n",
       "        text-align: right;\n",
       "    }\n",
       "</style>\n",
       "<table border=\"1\" class=\"dataframe\">\n",
       "  <thead>\n",
       "    <tr style=\"text-align: right;\">\n",
       "      <th></th>\n",
       "      <th>navn</th>\n",
       "      <th>fylke_navn</th>\n",
       "      <th>sum</th>\n",
       "      <th>coordinates</th>\n",
       "      <th>lat</th>\n",
       "      <th>lng</th>\n",
       "    </tr>\n",
       "  </thead>\n",
       "  <tbody>\n",
       "    <tr>\n",
       "      <th>0</th>\n",
       "      <td>Oslo</td>\n",
       "      <td>OSLO</td>\n",
       "      <td>38532</td>\n",
       "      <td>[10.74, 59.98]</td>\n",
       "      <td>59.98</td>\n",
       "      <td>10.74</td>\n",
       "    </tr>\n",
       "  </tbody>\n",
       "</table>\n",
       "</div>"
      ],
      "text/plain": [
       "   navn fylke_navn    sum     coordinates    lat    lng\n",
       "0  Oslo       OSLO  38532  [10.74, 59.98]  59.98  10.74"
      ]
     },
     "execution_count": 15,
     "metadata": {},
     "output_type": "execute_result"
    }
   ],
   "source": [
    "source=df_merged[['navn','fylke_navn','sum','coordinates','lat','lng']]\n",
    "source.head(1)"
   ]
  },
  {
   "cell_type": "code",
   "execution_count": 16,
   "metadata": {},
   "outputs": [
    {
     "data": {
      "text/html": [
       "\n",
       "        <iframe\n",
       "            width=\"700\"\n",
       "            height=\"500\"\n",
       "            src=\"./fig.html\"\n",
       "            frameborder=\"0\"\n",
       "            allowfullscreen\n",
       "        ></iframe>\n",
       "        "
      ],
      "text/plain": [
       "<IPython.lib.display.IFrame at 0x121fb9400>"
      ]
     },
     "metadata": {},
     "output_type": "display_data"
    },
    {
     "data": {
      "text/plain": [
       "'/Users/B149899/Projects/deetly/docs/content/pydeck/fig.html'"
      ]
     },
     "execution_count": 16,
     "metadata": {},
     "output_type": "execute_result"
    }
   ],
   "source": [
    "view_state = pydeck.ViewState(\n",
    "    longitude = 17,\n",
    "    latitude= 64,\n",
    "    zoom= 3,\n",
    "    minZoom= 3,\n",
    "    maxZoom= 12,\n",
    "    pitch= 0,\n",
    "    bearing= 0)\n",
    "\n",
    "\n",
    "layer = pydeck.Layer(\n",
    "    \"ScatterplotLayer\",\n",
    "    data=source,\n",
    "    pickable=True,\n",
    "    opacity=0.8,\n",
    "    stroked=True,\n",
    "    filled=True,\n",
    "    radius_scale=2,\n",
    "    radius_min_pixels=1,\n",
    "    radius_max_pixels=200,\n",
    "    line_width_min_pixels=1,\n",
    "    get_position=[\"lng\", \"lat\"],\n",
    "    get_radius=\"sum\",\n",
    "    get_fill_color=[255, 140, 0],\n",
    "    get_line_color=[0, 0, 0],\n",
    ")\n",
    "\n",
    "fig = pydeck.Deck(layers=[layer], tooltip=tooltip, initial_view_state=view_state, mapbox_key=MAPBOX_TOKEN)\n",
    "fig.to_html('fig.html')"
   ]
  },
  {
   "cell_type": "code",
   "execution_count": 17,
   "metadata": {},
   "outputs": [],
   "source": [
    "# Add figure to data package\n",
    "description = \"\"\"\n",
    "## Scatterplot layer\n",
    "\n",
    "```python\n",
    "view_state = pydeck.ViewState(\n",
    "    longitude = 17,\n",
    "    latitude= 64,\n",
    "    zoom= 3,\n",
    "    minZoom= 3,\n",
    "    maxZoom= 12,\n",
    "    pitch= 0,\n",
    "    bearing= 0)\n",
    "\n",
    "\n",
    "layer = pydeck.Layer(\n",
    "    \"ScatterplotLayer\",\n",
    "    data=source,\n",
    "    pickable=True,\n",
    "    opacity=0.8,\n",
    "    stroked=True,\n",
    "    filled=True,\n",
    "    radius_scale=2,\n",
    "    radius_min_pixels=1,\n",
    "    radius_max_pixels=200,\n",
    "    line_width_min_pixels=1,\n",
    "    get_position=[\"lng\", \"lat\"],\n",
    "    get_radius=\"sum\",\n",
    "    get_fill_color=[255, 140, 0],\n",
    "    get_line_color=[0, 0, 0],\n",
    ")\n",
    "\n",
    "fig = pydeck.Deck(layers=[layer], tooltip=tooltip, initial_view_state=view_state, mapbox_key=MAPBOX_TOKEN)\n",
    "fig.to_html('fig.html')\n",
    "```\n",
    "\n",
    "\"\"\"\n",
    "\n",
    "dp.pydeck(fig, \"Scatterplot\",description, showMap=True, tooltip=json.dumps(tooltip))"
   ]
  },
  {
   "cell_type": "markdown",
   "metadata": {},
   "source": [
    "## Column layer"
   ]
  },
  {
   "cell_type": "code",
   "execution_count": 18,
   "metadata": {},
   "outputs": [
    {
     "data": {
      "text/html": [
       "\n",
       "        <iframe\n",
       "            width=\"700\"\n",
       "            height=\"500\"\n",
       "            src=\"./fig_col.html\"\n",
       "            frameborder=\"0\"\n",
       "            allowfullscreen\n",
       "        ></iframe>\n",
       "        "
      ],
      "text/plain": [
       "<IPython.lib.display.IFrame at 0x122497be0>"
      ]
     },
     "metadata": {},
     "output_type": "display_data"
    },
    {
     "data": {
      "text/plain": [
       "'/Users/B149899/Projects/deetly/docs/content/pydeck/fig_col.html'"
      ]
     },
     "execution_count": 18,
     "metadata": {},
     "output_type": "execute_result"
    }
   ],
   "source": [
    "layer = pydeck.Layer(\n",
    "    \"ColumnLayer\",\n",
    "    source,\n",
    "    get_position=[\"lng\", \"lat\"],\n",
    "    get_elevation=\"sum\",\n",
    "    elevation_scale=100,\n",
    "    radius=5000,\n",
    "    get_fill_color=[255, 140, 0],\n",
    "    pickable=True,\n",
    "    auto_highlight=True,\n",
    ")\n",
    "\n",
    "fig_col = pydeck.Deck(\n",
    "    layer,\n",
    "    initial_view_state=view_state_norway,\n",
    "    tooltip=tooltip,\n",
    "    mapbox_key=MAPBOX_TOKEN\n",
    ")\n",
    "\n",
    "fig_col.to_html(\"fig_col.html\")"
   ]
  },
  {
   "cell_type": "code",
   "execution_count": 19,
   "metadata": {},
   "outputs": [],
   "source": [
    "# Add figure to data package\n",
    "description = \"\"\"\n",
    "## Column layer\n",
    "\"\"\"\n",
    "\n",
    "dp.pydeck(fig_col, \"Column\",description, showMap=True, tooltip=json.dumps(tooltip))"
   ]
  },
  {
   "cell_type": "markdown",
   "metadata": {},
   "source": [
    "## GridCell"
   ]
  },
  {
   "cell_type": "code",
   "execution_count": 20,
   "metadata": {},
   "outputs": [
    {
     "data": {
      "text/html": [
       "\n",
       "        <iframe\n",
       "            width=\"700\"\n",
       "            height=\"500\"\n",
       "            src=\"./fig_grid.html\"\n",
       "            frameborder=\"0\"\n",
       "            allowfullscreen\n",
       "        ></iframe>\n",
       "        "
      ],
      "text/plain": [
       "<IPython.lib.display.IFrame at 0x122497040>"
      ]
     },
     "metadata": {},
     "output_type": "display_data"
    },
    {
     "data": {
      "text/plain": [
       "'/Users/B149899/Projects/deetly/docs/content/pydeck/fig_grid.html'"
      ]
     },
     "execution_count": 20,
     "metadata": {},
     "output_type": "execute_result"
    }
   ],
   "source": [
    "src = source.copy()\n",
    "\n",
    "color_lookup = pydeck.data_utils.assign_random_colors(src['fylke_navn'])\n",
    "src['color'] = src.apply(lambda row: color_lookup.get(row['fylke_navn']), axis=1)\n",
    "\n",
    "layer = pydeck.Layer(\n",
    "    \"GridCellLayer\",\n",
    "    data=src,\n",
    "    get_position=[\"lng\", \"lat\"],\n",
    "    get_elevation=\"sum\",\n",
    "    cell_size=10000,\n",
    "    get_fill_color=\"color\",\n",
    "    elevation_scale=50,\n",
    "    pickable=True,\n",
    "    auto_highlight=True,\n",
    ")\n",
    "\n",
    "fig_grid = pydeck.Deck(\n",
    "    layer,\n",
    "    initial_view_state=view_state_norway,\n",
    "    tooltip=tooltip,\n",
    "    mapbox_key=MAPBOX_TOKEN\n",
    ")\n",
    "\n",
    "fig_grid.to_html(\"fig_grid.html\")"
   ]
  },
  {
   "cell_type": "code",
   "execution_count": 21,
   "metadata": {},
   "outputs": [],
   "source": [
    "# Add figure to data package\n",
    "description = \"\"\"\n",
    "## Gridcell layer\n",
    "\n",
    "```python\n",
    "color_lookup = pydeck.data_utils.assign_random_colors(src['fylke_navn'])\n",
    "src['color'] = src.apply(lambda row: color_lookup.get(row['fylke_navn']), axis=1)\n",
    "\n",
    "layer = pydeck.Layer(\n",
    "    \"GridCellLayer\",\n",
    "    data=src,\n",
    "    get_position=[\"lng\", \"lat\"],\n",
    "    get_elevation=\"sum\",\n",
    "    cell_size=10000,\n",
    "    get_fill_color=\"color\",\n",
    "    elevation_scale=50,\n",
    "    pickable=True,\n",
    "    auto_highlight=True,\n",
    ")\n",
    "\n",
    "fig_grid = pydeck.Deck(\n",
    "    layer,\n",
    "    initial_view_state=view_state_norway,\n",
    "    tooltip=tooltip,\n",
    "    mapbox_key=MAPBOX_TOKEN\n",
    ")\n",
    "```\n",
    "\"\"\"\n",
    "\n",
    "dp.pydeck(fig_grid, \"Gridcell\",description, showMap=True, tooltip=json.dumps(tooltip))"
   ]
  },
  {
   "cell_type": "markdown",
   "metadata": {},
   "source": [
    "## Screengrid"
   ]
  },
  {
   "cell_type": "code",
   "execution_count": 22,
   "metadata": {},
   "outputs": [
    {
     "data": {
      "text/html": [
       "\n",
       "        <iframe\n",
       "            width=\"700\"\n",
       "            height=\"500\"\n",
       "            src=\"./fig_grid.html\"\n",
       "            frameborder=\"0\"\n",
       "            allowfullscreen\n",
       "        ></iframe>\n",
       "        "
      ],
      "text/plain": [
       "<IPython.lib.display.IFrame at 0x122225a90>"
      ]
     },
     "metadata": {},
     "output_type": "display_data"
    },
    {
     "data": {
      "text/plain": [
       "'/Users/B149899/Projects/deetly/docs/content/pydeck/fig_grid.html'"
      ]
     },
     "execution_count": 22,
     "metadata": {},
     "output_type": "execute_result"
    }
   ],
   "source": [
    "view = pydeck.data_utils.compute_view(source[[\"lng\", \"lat\"]])\n",
    "view.pitch = 45\n",
    "view.bearing = 0\n",
    "\n",
    "layer = pydeck.Layer(\n",
    "    'ScreenGridLayer',\n",
    "    source,\n",
    "    cell_size_pixels=20,\n",
    "    color_range=COLOR_RANGE,\n",
    "    get_position='[lng, lat]',\n",
    "    pickable=True,\n",
    "    auto_highlight=True)\n",
    "\n",
    "fig = pydeck.Deck(layers=[layer], initial_view_state=view,mapbox_key=MAPBOX_TOKEN)\n",
    "fig.to_html(\"fig_grid.html\")"
   ]
  },
  {
   "cell_type": "code",
   "execution_count": 23,
   "metadata": {},
   "outputs": [],
   "source": [
    "# Add figure to data package\n",
    "description = \"\"\"\n",
    "## Screen grid\n",
    "\n",
    "```python\n",
    "view = pydeck.data_utils.compute_view(source[[\"lng\", \"lat\"]])\n",
    "view.pitch = 45\n",
    "view.bearing = 0\n",
    "\n",
    "layer = pydeck.Layer(\n",
    "    'ScreenGridLayer',\n",
    "    source,\n",
    "    cell_size_pixels=20,\n",
    "    color_range=COLOR_RANGE,\n",
    "    get_position='[lng, lat]',\n",
    "    pickable=True,\n",
    "    auto_highlight=True)\n",
    "\n",
    "fig = pydeck.Deck(layers=[layer], initial_view_state=view,mapbox_key=MAPBOX_TOKEN)\n",
    "```\n",
    "\n",
    "\"\"\"\n",
    "\n",
    "dp.pydeck(fig, \"Screen grid\",description, showMap=True)"
   ]
  },
  {
   "cell_type": "code",
   "execution_count": 24,
   "metadata": {},
   "outputs": [
    {
     "data": {
      "text/html": [
       "\n",
       "        <iframe\n",
       "            width=\"700\"\n",
       "            height=\"500\"\n",
       "            src=\"./fig.html\"\n",
       "            frameborder=\"0\"\n",
       "            allowfullscreen\n",
       "        ></iframe>\n",
       "        "
      ],
      "text/plain": [
       "<IPython.lib.display.IFrame at 0x121fa8ee0>"
      ]
     },
     "metadata": {},
     "output_type": "display_data"
    },
    {
     "data": {
      "text/plain": [
       "'/Users/B149899/Projects/deetly/docs/content/pydeck/fig.html'"
      ]
     },
     "execution_count": 24,
     "metadata": {},
     "output_type": "execute_result"
    }
   ],
   "source": [
    "view = pydeck.data_utils.compute_view(src[[\"lng\", \"lat\"]])\n",
    "view.pitch = 45\n",
    "view.bearing = 0\n",
    "\n",
    "layer = pydeck.Layer(\n",
    "    \"ColumnLayer\",\n",
    "    data=src,\n",
    "    get_position=[\"lng\", \"lat\"],\n",
    "    get_elevation=\"sum\",\n",
    "    cell_size=10000,\n",
    "    radius=5000,\n",
    "    get_fill_color=\"color\",\n",
    "    elevation_scale=50,\n",
    "    pickable=True,\n",
    "    auto_highlight=True,\n",
    ")\n",
    "\n",
    "fig = pydeck.Deck(\n",
    "    layer,\n",
    "    initial_view_state=view,\n",
    "    tooltip=tooltip,\n",
    "    mapbox_key=MAPBOX_TOKEN\n",
    ")\n",
    "\n",
    "fig.to_html(\"fig.html\")"
   ]
  },
  {
   "cell_type": "code",
   "execution_count": 25,
   "metadata": {},
   "outputs": [],
   "source": [
    "# Add figure to data package\n",
    "description = \"\"\"\n",
    "## Grouped columns layer\n",
    "\n",
    "```python\n",
    "view = pydeck.data_utils.compute_view(src[[\"lng\", \"lat\"]])\n",
    "view.pitch = 45\n",
    "view.bearing = 0\n",
    "\n",
    "layer = pydeck.Layer(\n",
    "    \"ColumnLayer\",\n",
    "    data=src,\n",
    "    get_position=[\"lng\", \"lat\"],\n",
    "    get_elevation=\"sum\",\n",
    "    cell_size=10000,\n",
    "    radius=5000,\n",
    "    get_fill_color=\"color\",\n",
    "    elevation_scale=50,\n",
    "    pickable=True,\n",
    "    auto_highlight=True,\n",
    ")\n",
    "\n",
    "fig = pydeck.Deck(\n",
    "    layer,\n",
    "    initial_view_state=view,\n",
    "    tooltip=tooltip,\n",
    "    mapbox_key=MAPBOX_TOKEN\n",
    ")\n",
    "```\n",
    "\n",
    "\"\"\"\n",
    "\n",
    "dp.pydeck(fig, \"Grouped columns\",description, showMap=True, tooltip=json.dumps(tooltip))"
   ]
  },
  {
   "cell_type": "markdown",
   "metadata": {},
   "source": [
    "## Heatmap"
   ]
  },
  {
   "cell_type": "code",
   "execution_count": 26,
   "metadata": {},
   "outputs": [
    {
     "data": {
      "text/html": [
       "\n",
       "        <iframe\n",
       "            width=\"700\"\n",
       "            height=\"500\"\n",
       "            src=\"./fig_grid.html\"\n",
       "            frameborder=\"0\"\n",
       "            allowfullscreen\n",
       "        ></iframe>\n",
       "        "
      ],
      "text/plain": [
       "<IPython.lib.display.IFrame at 0x121e73fa0>"
      ]
     },
     "metadata": {},
     "output_type": "display_data"
    },
    {
     "data": {
      "text/plain": [
       "'/Users/B149899/Projects/deetly/docs/content/pydeck/fig_grid.html'"
      ]
     },
     "execution_count": 26,
     "metadata": {},
     "output_type": "execute_result"
    }
   ],
   "source": [
    "view = pydeck.data_utils.compute_view(source[[\"lng\", \"lat\"]])\n",
    "view.pitch = 45\n",
    "view.bearing = 0\n",
    "\n",
    "layer = pydeck.Layer(\n",
    "    'HeatmapLayer',\n",
    "    source,\n",
    "    get_position='[lng, lat]',\n",
    "    weight=\"sum\",\n",
    "    pickable=True,\n",
    ")\n",
    "\n",
    "fig = pydeck.Deck(layers=[layer], initial_view_state=view,mapbox_key=MAPBOX_TOKEN)\n",
    "fig.to_html(\"fig_grid.html\")\n"
   ]
  },
  {
   "cell_type": "code",
   "execution_count": 27,
   "metadata": {},
   "outputs": [],
   "source": [
    "# Add figure to data package\n",
    "description = \"\"\"\n",
    "## Heatmap layer\n",
    "\n",
    "```python\n",
    "view = pydeck.data_utils.compute_view(source[[\"lng\", \"lat\"]])\n",
    "view.pitch = 45\n",
    "view.bearing = 0\n",
    "\n",
    "layer = pydeck.Layer(\n",
    "    'HeatmapLayer',\n",
    "    source,\n",
    "    get_position='[lng, lat]',\n",
    "    weight=\"sum\",\n",
    "    pickable=True,\n",
    ")\n",
    "\n",
    "fig = pydeck.Deck(layers=[layer], initial_view_state=view,mapbox_key=MAPBOX_TOKEN)\n",
    "```\n",
    "\n",
    "\"\"\"\n",
    "\n",
    "dp.pydeck(fig, \"Heatmap\",description, showMap=True)"
   ]
  },
  {
   "cell_type": "markdown",
   "metadata": {},
   "source": [
    "## Hexagon"
   ]
  },
  {
   "cell_type": "code",
   "execution_count": 28,
   "metadata": {},
   "outputs": [],
   "source": [
    "coordinates = []\n",
    "count = 0\n",
    "\n",
    "for index, row in source.iterrows():\n",
    "    for index in range(1,row['sum']):\n",
    "        coordinates.append({'c': row['coordinates']})\n",
    "        count = count + 1\n"
   ]
  },
  {
   "cell_type": "code",
   "execution_count": 29,
   "metadata": {},
   "outputs": [
    {
     "data": {
      "text/plain": [
       "{'c': [10.74, 59.98]}"
      ]
     },
     "execution_count": 29,
     "metadata": {},
     "output_type": "execute_result"
    }
   ],
   "source": [
    "coordinates[1]"
   ]
  },
  {
   "cell_type": "code",
   "execution_count": 30,
   "metadata": {},
   "outputs": [
    {
     "data": {
      "text/html": [
       "\n",
       "        <iframe\n",
       "            width=\"700\"\n",
       "            height=\"500\"\n",
       "            src=\"./fig_grid.html\"\n",
       "            frameborder=\"0\"\n",
       "            allowfullscreen\n",
       "        ></iframe>\n",
       "        "
      ],
      "text/plain": [
       "<IPython.lib.display.IFrame at 0x1221f79d0>"
      ]
     },
     "metadata": {},
     "output_type": "display_data"
    },
    {
     "data": {
      "text/plain": [
       "'/Users/B149899/Projects/deetly/docs/content/pydeck/fig_grid.html'"
      ]
     },
     "execution_count": 30,
     "metadata": {},
     "output_type": "execute_result"
    }
   ],
   "source": [
    "view = pydeck.data_utils.compute_view(source[[\"lng\", \"lat\"]])\n",
    "view.pitch = 45\n",
    "view.bearing = 0\n",
    "\n",
    "layer = pydeck.Layer(\n",
    "    'HexagonLayer',\n",
    "    coordinates,\n",
    "    extruded=True,\n",
    "    radius=10000,\n",
    "    elevationScale=1000,\n",
    "    getPosition=\"c\",\n",
    "    pickable=True,\n",
    ")\n",
    "\n",
    "fig = pydeck.Deck(layers=layer, initial_view_state=view,mapbox_key=MAPBOX_TOKEN)\n",
    "fig.to_html(\"fig_grid.html\")"
   ]
  },
  {
   "cell_type": "code",
   "execution_count": 31,
   "metadata": {},
   "outputs": [],
   "source": [
    "# Add figure to data package\n",
    "description = \"\"\"\n",
    "## Hexagon layer\n",
    "\n",
    "```python\n",
    "view = pydeck.data_utils.compute_view(source[[\"lng\", \"lat\"]])\n",
    "view.pitch = 45\n",
    "view.bearing = 0\n",
    "\n",
    "layer = pydeck.Layer(\n",
    "    'HexagonLayer',\n",
    "    coordinates,\n",
    "    extruded=True,\n",
    "    radius=10000,\n",
    "    elevationScale=1000,\n",
    "    getPosition=\"c\",\n",
    "    pickable=True,\n",
    ")\n",
    "\n",
    "fig = pydeck.Deck(layers=layer, initial_view_state=view,mapbox_key=MAPBOX_TOKEN)\n",
    "```\n",
    "\n",
    "\"\"\"\n",
    "\n",
    "dp.pydeck(fig, \"Hexagon\",description, showMap=True)"
   ]
  },
  {
   "cell_type": "markdown",
   "metadata": {},
   "source": [
    "## Publish"
   ]
  },
  {
   "cell_type": "code",
   "execution_count": 32,
   "metadata": {},
   "outputs": [
    {
     "name": "stdout",
     "output_type": "stream",
     "text": [
      "View: https://public.deetly.com/examples/12e6fabacd0f55e21f231105eecafdca \n",
      "\n",
      "Metadata: https://storage.googleapis.com/deetly/examples/12e6fabacd0f55e21f231105eecafdca/datapackage.json \n",
      "\n"
     ]
    }
   ],
   "source": [
    "dp.publish()"
   ]
  }
 ],
 "metadata": {
  "file_extension": ".py",
  "kernelspec": {
   "display_name": "Python 3",
   "language": "python",
   "name": "python3"
  },
  "language_info": {
   "codemirror_mode": {
    "name": "ipython",
    "version": 3
   },
   "file_extension": ".py",
   "mimetype": "text/x-python",
   "name": "python",
   "nbconvert_exporter": "python",
   "pygments_lexer": "ipython3",
   "version": "3.8.2"
  },
  "mimetype": "text/x-python",
  "name": "python",
  "npconvert_exporter": "python",
  "pygments_lexer": "ipython3",
  "version": 3
 },
 "nbformat": 4,
 "nbformat_minor": 2
}
