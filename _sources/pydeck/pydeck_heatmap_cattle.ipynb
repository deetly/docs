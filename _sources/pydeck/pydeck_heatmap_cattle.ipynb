{
 "cells": [
  {
   "cell_type": "markdown",
   "metadata": {},
   "source": [
    "# Heatmap cattle\n",
    "\n",
    ">Adapted from [pydeck samples](https://hub.gke2.mybinder.org/user/uber-deck.gl-q8rux2v0/edit/heatmap_layer.py)"
   ]
  },
  {
   "cell_type": "code",
   "execution_count": 1,
   "metadata": {},
   "outputs": [],
   "source": [
    "import os\n",
    "import deetly\n",
    "import pandas as pd\n",
    "import pydeck as pdk\n",
    "\n",
    "from IPython.core.display import display"
   ]
  },
  {
   "cell_type": "code",
   "execution_count": 5,
   "metadata": {},
   "outputs": [],
   "source": [
    "MAPBOX_TOKEN = os.environ['MAPBOX_TOKEN'] "
   ]
  },
  {
   "cell_type": "code",
   "execution_count": 2,
   "metadata": {},
   "outputs": [],
   "source": [
    "metadata = {\n",
    "    \"name\":\"Pydeck heatmap USA cattle\", \n",
    "    \"author\":\"deetly\", \n",
    "    \"theme\":\"examples\",\n",
    "    \"keywords\": [\"examples\", \"pydeck\", \"heatmap\", \"maps\"]\n",
    "}\n",
    "\n",
    "dp = deetly.package(metadata)"
   ]
  },
  {
   "cell_type": "code",
   "execution_count": 14,
   "metadata": {},
   "outputs": [],
   "source": [
    "\"\"\"\n",
    "HeatmapLayer\n",
    "===========\n",
    "\n",
    "Location of livestock raised in New Mexico in the United States in 2006,\n",
    "via the United Nations and FAOSTAT, with the source data viewable here: http://www.fao.org/faostat/en/\n",
    "\n",
    "Locations for poultry are viewable in blue and cattle are in orange.\n",
    "\n",
    "Overlaid with the satellite imagery from Mapbox to highlight the how terrain affects agriculture.\n",
    "\"\"\"\n",
    "\n",
    "CATTLE_DATA = \"https://raw.githubusercontent.com/ajduberstein/geo_datasets/master/nm_cattle.csv\"\n",
    "POULTRY_DATA = \"https://raw.githubusercontent.com/ajduberstein/geo_datasets/master/nm_chickens.csv\"\n",
    "\n",
    "\n",
    "HEADER = [\"lng\", \"lat\", \"weight\"]\n",
    "cattle_df = pd.read_csv(CATTLE_DATA, header=None).sample(frac=0.05)\n",
    "poultry_df = pd.read_csv(POULTRY_DATA, header=None).sample(frac=0.05)"
   ]
  },
  {
   "cell_type": "code",
   "execution_count": 15,
   "metadata": {},
   "outputs": [
    {
     "data": {
      "application/vnd.jupyter.widget-view+json": {
       "model_id": "a7b4723d972b42519c1678c6c4263629",
       "version_major": 2,
       "version_minor": 0
      },
      "text/plain": [
       "DeckGLWidget(google_maps_key=None, json_input='{\"initialViewState\": {\"latitude\": 34.41459714642641, \"longitude…"
      ]
     },
     "metadata": {},
     "output_type": "display_data"
    }
   ],
   "source": [
    "cattle_df.columns = HEADER\n",
    "poultry_df.columns = HEADER\n",
    "\n",
    "COLOR_BREWER_BLUE_SCALE = [\n",
    "    [240, 249, 232],\n",
    "    [204, 235, 197],\n",
    "    [168, 221, 181],\n",
    "    [123, 204, 196],\n",
    "    [67, 162, 202],\n",
    "    [8, 104, 172],\n",
    "]\n",
    "\n",
    "view = pdk.data_utils.compute_view(cattle_df[[\"lng\", \"lat\"]])\n",
    "view.zoom = 6\n",
    "\n",
    "cattle = pdk.Layer(\n",
    "    \"HeatmapLayer\",\n",
    "    data=cattle_df,\n",
    "    opacity=0.9,\n",
    "    get_position=[\"lng\", \"lat\"],\n",
    "    aggregation=\"MEAN\",\n",
    "    color_range=COLOR_BREWER_BLUE_SCALE,\n",
    "    threshold=1,\n",
    "    get_weight=\"weight\",\n",
    "    pickable=True,\n",
    ")\n",
    "\n",
    "poultry = pdk.Layer(\n",
    "    \"HeatmapLayer\",\n",
    "    data=poultry_df,\n",
    "    opacity=0.9,\n",
    "    get_position=[\"lng\", \"lat\"],\n",
    "    threshold=0.75,\n",
    "    aggregation=\"MEAN\",\n",
    "    get_weight=\"weight\",\n",
    "    pickable=True,\n",
    ")\n",
    "\n",
    "\n",
    "r = pdk.Deck(\n",
    "    layers=[cattle, poultry],\n",
    "    initial_view_state=view,\n",
    "    map_provider=\"mapbox\",\n",
    "    map_style=pdk.map_styles.SATELLITE,\n",
    "    tooltip={\"text\": \"Concentration of cattle in blue, concentration of poultry in orange\"},\n",
    "    mapbox_key=MAPBOX_TOKEN,\n",
    ")\n",
    "\n",
    "r.show()"
   ]
  },
  {
   "cell_type": "code",
   "execution_count": 16,
   "metadata": {},
   "outputs": [],
   "source": [
    "dp.pydeck(r, \"Heatmap cattle\")"
   ]
  },
  {
   "cell_type": "code",
   "execution_count": 13,
   "metadata": {},
   "outputs": [],
   "source": [
    "#dp.publish() #TODO check json decode error"
   ]
  }
 ],
 "metadata": {
  "kernelspec": {
   "display_name": "Python 3",
   "language": "python",
   "name": "python3"
  },
  "language_info": {
   "codemirror_mode": {
    "name": "ipython",
    "version": 3
   },
   "file_extension": ".py",
   "mimetype": "text/x-python",
   "name": "python",
   "nbconvert_exporter": "python",
   "pygments_lexer": "ipython3",
   "version": "3.8.2"
  }
 },
 "nbformat": 4,
 "nbformat_minor": 4
}
