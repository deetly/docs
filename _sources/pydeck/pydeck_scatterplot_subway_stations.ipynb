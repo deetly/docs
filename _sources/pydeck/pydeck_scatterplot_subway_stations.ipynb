{
 "cells": [
  {
   "cell_type": "markdown",
   "metadata": {},
   "source": [
    "# Scatterplot subway stations\n",
    "\n",
    ">Adapted from [pydeck samples](https://hub.gke2.mybinder.org/user/uber-deck.gl-b4is9nvm/notebooks/02%20-%20Scatterplots.ipynb)"
   ]
  },
  {
   "cell_type": "code",
   "execution_count": 5,
   "metadata": {},
   "outputs": [],
   "source": [
    "import os\n",
    "import deetly\n",
    "import pandas as pd\n",
    "import pydeck as pdk"
   ]
  },
  {
   "cell_type": "code",
   "execution_count": 6,
   "metadata": {},
   "outputs": [],
   "source": [
    "MAPBOX_TOKEN = os.environ['MAPBOX_TOKEN'] "
   ]
  },
  {
   "cell_type": "code",
   "execution_count": 7,
   "metadata": {},
   "outputs": [],
   "source": [
    "metadata = {\n",
    "    \"name\":\"Pydeck scatterplot Beijing subway stations\", \n",
    "    \"keywords\": [\"examples\", \"pydeck\", \"scatterplot\", \"maps\"]\n",
    "}\n",
    "\n",
    "ds = deetly.story(metadata)"
   ]
  },
  {
   "cell_type": "code",
   "execution_count": 11,
   "metadata": {},
   "outputs": [],
   "source": [
    "URL = 'https://raw.githubusercontent.com/ajduberstein/data_sets/master/beijing_subway_station.csv'\n",
    "df = pd.read_csv(URL)"
   ]
  },
  {
   "cell_type": "code",
   "execution_count": 12,
   "metadata": {},
   "outputs": [],
   "source": [
    "from ast import literal_eval\n",
    "df['color'] = df.apply(lambda x: literal_eval(x['color']), axis=1)"
   ]
  },
  {
   "cell_type": "code",
   "execution_count": 14,
   "metadata": {},
   "outputs": [
    {
     "data": {
      "text/html": [
       "<div>\n",
       "<style scoped>\n",
       "    .dataframe tbody tr th:only-of-type {\n",
       "        vertical-align: middle;\n",
       "    }\n",
       "\n",
       "    .dataframe tbody tr th {\n",
       "        vertical-align: top;\n",
       "    }\n",
       "\n",
       "    .dataframe thead th {\n",
       "        text-align: right;\n",
       "    }\n",
       "</style>\n",
       "<table border=\"1\" class=\"dataframe\">\n",
       "  <thead>\n",
       "    <tr style=\"text-align: right;\">\n",
       "      <th></th>\n",
       "      <th>lat</th>\n",
       "      <th>lng</th>\n",
       "      <th>osm_id</th>\n",
       "      <th>station_name</th>\n",
       "      <th>chinese_name</th>\n",
       "      <th>opening_date</th>\n",
       "      <th>color</th>\n",
       "      <th>line_name</th>\n",
       "    </tr>\n",
       "  </thead>\n",
       "  <tbody>\n",
       "    <tr>\n",
       "      <th>0</th>\n",
       "      <td>39.940249</td>\n",
       "      <td>116.456359</td>\n",
       "      <td>1351272524</td>\n",
       "      <td>Agricultural Exhibition Center</td>\n",
       "      <td>农业展览馆</td>\n",
       "      <td>2008-07-19</td>\n",
       "      <td>[0, 146, 188, 255]</td>\n",
       "      <td>Line 10</td>\n",
       "    </tr>\n",
       "  </tbody>\n",
       "</table>\n",
       "</div>"
      ],
      "text/plain": [
       "         lat         lng      osm_id                    station_name  \\\n",
       "0  39.940249  116.456359  1351272524  Agricultural Exhibition Center   \n",
       "\n",
       "  chinese_name opening_date               color line_name  \n",
       "0        农业展览馆   2008-07-19  [0, 146, 188, 255]   Line 10  "
      ]
     },
     "execution_count": 14,
     "metadata": {},
     "output_type": "execute_result"
    }
   ],
   "source": [
    "df.head(1)"
   ]
  },
  {
   "cell_type": "code",
   "execution_count": 15,
   "metadata": {},
   "outputs": [],
   "source": [
    "# Use pydeck's data_utils module to fit a viewport to the central 90% of the data\n",
    "viewport = pdk.data_utils.compute_view(points=df[['lng', 'lat']], view_proportion=0.9)"
   ]
  },
  {
   "cell_type": "code",
   "execution_count": 16,
   "metadata": {},
   "outputs": [
    {
     "data": {
      "application/vnd.jupyter.widget-view+json": {
       "model_id": "4f66b463b3ff42daaacf5fb7c8fb6f9b",
       "version_major": 2,
       "version_minor": 0
      },
      "text/plain": [
       "DeckGLWidget(carto_key=None, custom_libraries=[], google_maps_key=None, json_input='{\"initialViewState\": {\"lat…"
      ]
     },
     "metadata": {},
     "output_type": "display_data"
    }
   ],
   "source": [
    "scatterplot = pdk.Layer(\n",
    "    'ScatterplotLayer',\n",
    "    df,\n",
    "    get_position=['lng', 'lat'],\n",
    "    get_radius=500,\n",
    "    get_fill_color='color')\n",
    "fig = pdk.Deck(scatterplot, initial_view_state=viewport,api_keys={\"mapbox\": MAPBOX_TOKEN})\n",
    "fig.show()"
   ]
  },
  {
   "cell_type": "code",
   "execution_count": 18,
   "metadata": {},
   "outputs": [],
   "source": [
    "ds.pydeck(fig,\"stations\", showMap=True)"
   ]
  },
  {
   "cell_type": "code",
   "execution_count": 19,
   "metadata": {},
   "outputs": [
    {
     "name": "stdout",
     "output_type": "stream",
     "text": [
      "Publishing story Pydeck scatterplot Beijing subway stations to the examples space...\n",
      "Published at: https://public.deetly.com/examples/d19e04df10162b944f197130fb7b5bb7 \n",
      "\n",
      "Metadata: https://storage.googleapis.com/deetly/examples/d19e04df10162b944f197130fb7b5bb7/datapackage.json \n",
      "\n"
     ]
    }
   ],
   "source": [
    "ds.publish()"
   ]
  }
 ],
 "metadata": {
  "kernelspec": {
   "display_name": "Python 3",
   "language": "python",
   "name": "python3"
  },
  "language_info": {
   "codemirror_mode": {
    "name": "ipython",
    "version": 3
   },
   "file_extension": ".py",
   "mimetype": "text/x-python",
   "name": "python",
   "nbconvert_exporter": "python",
   "pygments_lexer": "ipython3",
   "version": "3.7.9"
  }
 },
 "nbformat": 4,
 "nbformat_minor": 4
}
