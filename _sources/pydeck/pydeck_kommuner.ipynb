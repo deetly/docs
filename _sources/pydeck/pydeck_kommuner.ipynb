{
 "cells": [
  {
   "cell_type": "markdown",
   "metadata": {
    "colab_type": "text",
    "id": "view-in-github"
   },
   "source": [
    "# Pydeck example kommuner"
   ]
  },
  {
   "cell_type": "code",
   "execution_count": 2,
   "metadata": {},
   "outputs": [],
   "source": [
    "import json\n",
    "import os\n",
    "import requests\n",
    "import deetly\n",
    "import geopandas as gp\n",
    "import numpy as np\n",
    "import pandas as pd\n",
    "import pydeck"
   ]
  },
  {
   "cell_type": "code",
   "execution_count": 3,
   "metadata": {},
   "outputs": [],
   "source": [
    "MAPBOX_TOKEN = os.environ['MAPBOX_TOKEN'] "
   ]
  },
  {
   "cell_type": "code",
   "execution_count": 4,
   "metadata": {},
   "outputs": [],
   "source": [
    "MAP_URL = 'https://raw.githubusercontent.com/datasett/maps/master/norway/data/counties_2018_s_geojson.json'"
   ]
  },
  {
   "cell_type": "code",
   "execution_count": 7,
   "metadata": {
    "tags": []
   },
   "outputs": [],
   "source": [
    "package = {\n",
    "    \"name\":\"Norwegian Counties Area\", \n",
    "    \"author\":\"deetly\", \n",
    "    \"theme\":\"examples\",\n",
    "    \"keywords\": [\"examples\", \"pydeck\", \"counties\", \"maps\"]\n",
    "}\n",
    "\n",
    "dp = deetly.package(package)"
   ]
  },
  {
   "cell_type": "code",
   "execution_count": 8,
   "metadata": {},
   "outputs": [],
   "source": [
    "# Map centered on Trondheim, Norway\n",
    "view_state_norway = pydeck.ViewState(\n",
    "    longitude = 17,\n",
    "    latitude= 64,\n",
    "    zoom= 3,\n",
    "    minZoom= 3,\n",
    "    maxZoom= 12,\n",
    "    pitch= 45,\n",
    "    bearing= 0)"
   ]
  },
  {
   "cell_type": "code",
   "execution_count": 9,
   "metadata": {},
   "outputs": [
    {
     "data": {
      "application/vnd.jupyter.widget-view+json": {
       "model_id": "7edc98d717dc4b5c909c51fb560e9de9",
       "version_major": 2,
       "version_minor": 0
      },
      "text/plain": [
       "DeckGLWidget(google_maps_key=None, json_input='{\"initialViewState\": {\"bearing\": 0, \"latitude\": 64, \"longitude\"…"
      ]
     },
     "metadata": {},
     "output_type": "display_data"
    }
   ],
   "source": [
    "data_geojson = requests.get(MAP_URL).json()\n",
    "\n",
    "layer = pydeck.Layer(\n",
    "    'GeoJsonLayer',\n",
    "    data_geojson,\n",
    "    stroked = False,\n",
    "    filled = True,\n",
    "    extruded = True,\n",
    "    wireframe = True,\n",
    "    elevationScale = 250000,\n",
    "    get_elevation = 'properties.area_kommune',\n",
    "    width_min_pixels=5,\n",
    "    get_fill_color='[255, 255, 300*properties.area_kommune]',\n",
    "    getLineColor = [\n",
    "        255,\n",
    "        255,\n",
    "        255\n",
    "    ],\n",
    "    pickable=True\n",
    ")\n",
    "\n",
    "\n",
    "tooltip={\n",
    "        'html': '<b>Kommune: </b>{properties.navn}</br>\\\n",
    "                Fylke: {properties.fylke_navn_2020}</br>\\\n",
    "                Areal: {properties.area_kommune}',\n",
    "        'style': {\n",
    "            'color': 'black',\n",
    "            'backgroundColor':'#efefef',\n",
    "            'zIndex': 999\n",
    "        }\n",
    "    }\n",
    "\n",
    "# Render\n",
    "fig = pydeck.Deck(layers=[layer],\n",
    "                  initial_view_state=view_state_norway,\n",
    "                  mapbox_key=MAPBOX_TOKEN,\n",
    "                  tooltip=tooltip\n",
    ")\n",
    "\n",
    "fig.show()"
   ]
  },
  {
   "cell_type": "code",
   "execution_count": 10,
   "metadata": {},
   "outputs": [],
   "source": [
    "# Add figure to data package\n",
    "description = \"\"\"\n",
    "## Area of Norwegian counties without background map\n",
    "\"\"\"\n",
    "\n",
    "dp.pydeck(fig, \"Counties Area without map\",description, showMap=False, tooltip=json.dumps(tooltip))"
   ]
  },
  {
   "cell_type": "code",
   "execution_count": 11,
   "metadata": {},
   "outputs": [],
   "source": [
    "# Add figure to data package\n",
    "description = \"\"\"\n",
    "## Area of Norwegian counties with background map\n",
    "\"\"\"\n",
    "\n",
    "dp.pydeck(fig, \"Counties Area with map\",description, showMap=True, tooltip=json.dumps(tooltip))"
   ]
  },
  {
   "cell_type": "markdown",
   "metadata": {},
   "source": [
    "## Publish"
   ]
  },
  {
   "cell_type": "code",
   "execution_count": 12,
   "metadata": {
    "tags": []
   },
   "outputs": [
    {
     "name": "stdout",
     "output_type": "stream",
     "text": [
      "View: https://public.deetly.com/examples/fdb4d679c82e45639457ed5e9493530a \n",
      "\n",
      "Metadata: https://storage.googleapis.com/deetly/examples/fdb4d679c82e45639457ed5e9493530a/datapackage.json \n",
      "\n"
     ]
    }
   ],
   "source": [
    "# publish datapackage\n",
    "dp.publish()"
   ]
  },
  {
   "cell_type": "code",
   "execution_count": null,
   "metadata": {},
   "outputs": [],
   "source": []
  }
 ],
 "metadata": {
  "colab": {
   "authorship_tag": "ABX9TyPS8+e7P6oStqXEaagxFBFc",
   "include_colab_link": true,
   "name": "example_pydeck_kommuner.ipynb",
   "provenance": []
  },
  "kernelspec": {
   "display_name": "Python 3",
   "language": "python",
   "name": "python3"
  },
  "language_info": {
   "codemirror_mode": {
    "name": "ipython",
    "version": 3
   },
   "file_extension": ".py",
   "mimetype": "text/x-python",
   "name": "python",
   "nbconvert_exporter": "python",
   "pygments_lexer": "ipython3",
   "version": "3.8.2"
  }
 },
 "nbformat": 4,
 "nbformat_minor": 2
}
