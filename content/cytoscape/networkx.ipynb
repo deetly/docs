{
 "cells": [
  {
   "cell_type": "markdown",
   "metadata": {},
   "source": [
    "# NetworkX to Cytoscape example"
   ]
  },
  {
   "cell_type": "code",
   "execution_count": 1,
   "metadata": {},
   "outputs": [],
   "source": [
    "import deetly\n",
    "import ipycytoscape\n",
    "import json\n",
    "import networkx as nx\n",
    "import pandas as pd\n",
    "import requests"
   ]
  },
  {
   "cell_type": "code",
   "execution_count": 2,
   "metadata": {},
   "outputs": [],
   "source": [
    "# workaround since ipycytoscape does not export JSON declaration\n",
    "def get_spec(fig):\n",
    "    nodes = []\n",
    "    for node in fig.graph.nodes:\n",
    "        nodes.append({'data':json.loads(json.dumps(node.data)), 'classes':json.loads(json.dumps(node.classes))})\n",
    "        \n",
    "    edges = []\n",
    "    for edge in fig.graph.edges:\n",
    "        edges.append({'data':json.loads(json.dumps(edge.data))})\n",
    "        \n",
    "    return {\n",
    "        'layout': fig.cytoscape_layout,\n",
    "        'stylesheet': fig.cytoscape_style,\n",
    "        'elements': {'edges':edges,'nodes':nodes},\n",
    "    }"
   ]
  },
  {
   "cell_type": "code",
   "execution_count": 3,
   "metadata": {
    "tags": []
   },
   "outputs": [],
   "source": [
    "# Create datastory\n",
    "package = {\n",
    "    \"name\":\"Example cytoscape graph from NetworkX\", \n",
    "    \"keyword\": [\"example, graph, cytoscape\"]\n",
    "}\n",
    "\n",
    "ds = deetly.story(package)"
   ]
  },
  {
   "cell_type": "markdown",
   "metadata": {},
   "source": [
    "## From NetworkX\n",
    "Source: https://github.com/QuantStack/ipycytoscape/blob/master/examples/NetworkX%20Example.ipynb"
   ]
  },
  {
   "cell_type": "code",
   "execution_count": 4,
   "metadata": {},
   "outputs": [
    {
     "data": {
      "application/vnd.jupyter.widget-view+json": {
       "model_id": "97de37b84c394197ad5190d12c620c90",
       "version_major": 2,
       "version_minor": 0
      },
      "text/plain": [
       "CytoscapeWidget(cytoscape_layout={'name': 'cola'}, cytoscape_style=[{'selector': 'node', 'css': {'background-c…"
      ]
     },
     "metadata": {},
     "output_type": "display_data"
    }
   ],
   "source": [
    "G = nx.complete_graph(6)\n",
    "fig = ipycytoscape.CytoscapeWidget()\n",
    "fig.graph.add_graph_from_networkx(G)\n",
    "fig"
   ]
  },
  {
   "cell_type": "code",
   "execution_count": 5,
   "metadata": {},
   "outputs": [],
   "source": [
    "ds.cytoscape(get_spec(fig), \"Complete graph\")"
   ]
  },
  {
   "cell_type": "markdown",
   "metadata": {},
   "source": [
    "## Custom nodes\n",
    "Source: https://github.com/QuantStack/ipycytoscape/blob/master/examples/NetworkX%20Example.ipynb"
   ]
  },
  {
   "cell_type": "code",
   "execution_count": 6,
   "metadata": {},
   "outputs": [
    {
     "data": {
      "application/vnd.jupyter.widget-view+json": {
       "model_id": "56782e6437f3405097d49554f8e4dd40",
       "version_major": 2,
       "version_minor": 0
      },
      "text/plain": [
       "CytoscapeWidget(cytoscape_layout={'name': 'cola'}, cytoscape_style=[{'selector': 'node.class1', 'css': {'backg…"
      ]
     },
     "metadata": {},
     "output_type": "display_data"
    }
   ],
   "source": [
    "class CustomNode(ipycytoscape.Node):\n",
    "    def __init__(self, name, classes=''):\n",
    "        super().__init__()\n",
    "        self.data['id'] = name\n",
    "        self.classes = classes\n",
    "\n",
    "n1 = CustomNode(\"node 1\", classes='class1')\n",
    "n2 = CustomNode(\"node 2\", classes='class2')\n",
    "        \n",
    "G = nx.Graph()\n",
    "\n",
    "G.add_node(n1)\n",
    "G.add_node(n2)\n",
    "\n",
    "G.add_edge(n1, n2)\n",
    "\n",
    "fig = ipycytoscape.CytoscapeWidget()\n",
    "fig.graph.add_graph_from_networkx(G)\n",
    "fig.set_style([\n",
    "        {\n",
    "            'selector': 'node.class1',\n",
    "            'css': {\n",
    "                'background-color': 'red'\n",
    "            }\n",
    "        },\n",
    "        {\n",
    "            'selector': 'node.class2',\n",
    "            'css': {\n",
    "                'background-color': 'green'\n",
    "            }\n",
    "        }\n",
    "])\n",
    "fig"
   ]
  },
  {
   "cell_type": "code",
   "execution_count": 7,
   "metadata": {},
   "outputs": [],
   "source": [
    "ds.cytoscape(get_spec(fig), \"Custom nodes\")"
   ]
  },
  {
   "cell_type": "code",
   "execution_count": 8,
   "metadata": {
    "tags": []
   },
   "outputs": [
    {
     "name": "stdout",
     "output_type": "stream",
     "text": [
      "Publishing story Example cytoscape graph from NetworkX to the examples space...\n",
      "Published at: https://public.deetly.com/examples/704543ab947c78cbff3fa377a0380f08 \n",
      "\n"
     ]
    }
   ],
   "source": [
    "ds.publish()"
   ]
  }
 ],
 "metadata": {
  "kernelspec": {
   "display_name": "Python 3",
   "language": "python",
   "name": "python3"
  },
  "language_info": {
   "codemirror_mode": {
    "name": "ipython",
    "version": 3
   },
   "file_extension": ".py",
   "mimetype": "text/x-python",
   "name": "python",
   "nbconvert_exporter": "python",
   "pygments_lexer": "ipython3",
   "version": "3.8.2"
  }
 },
 "nbformat": 4,
 "nbformat_minor": 4
}
