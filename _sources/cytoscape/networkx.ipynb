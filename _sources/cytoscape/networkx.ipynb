{
 "cells": [
  {
   "cell_type": "markdown",
   "metadata": {},
   "source": [
    "# Labels"
   ]
  },
  {
   "cell_type": "code",
   "execution_count": 1,
   "metadata": {},
   "outputs": [],
   "source": [
    "import deetly\n",
    "import ipycytoscape\n",
    "import json\n",
    "import networkx as nx\n",
    "import pandas as pd\n",
    "import requests"
   ]
  },
  {
   "cell_type": "code",
   "execution_count": 2,
   "metadata": {},
   "outputs": [],
   "source": [
    "# workaround since ipycytoscape does not export JSON declaration\n",
    "def get_spec(fig):\n",
    "    nodes = []\n",
    "    for node in fig.graph.nodes:\n",
    "        nodes.append({'data':json.loads(json.dumps(node.data)), 'classes':json.loads(json.dumps(node.classes))})\n",
    "        \n",
    "    edges = []\n",
    "    for edge in fig.graph.edges:\n",
    "        edges.append({'data':json.loads(json.dumps(edge.data))})\n",
    "        \n",
    "    return {\n",
    "        'layout': fig.cytoscape_layout,\n",
    "        'stylesheet': fig.cytoscape_style,\n",
    "        'elements': {'edges':edges,'nodes':nodes},\n",
    "    }"
   ]
  },
  {
   "cell_type": "code",
   "execution_count": 3,
   "metadata": {
    "tags": []
   },
   "outputs": [
    {
     "name": "stdout",
     "output_type": "stream",
     "text": [
      "Missing mandatory props(s): ['title']\n",
      "Missing recommended props(s): ['contactPoint', 'distribution', 'publisher', 'spatial', 'temporal']\n",
      "Property not in DCAT schema: ['name', 'author', 'license']\n",
      "Invalid type: ['String:name', 'String:description', 'String:author', 'String or list of strings:theme', 'String:license', 'String or list of strings:keyword', 'ISO date or datetime:issued', 'ISO date or datetime:modified']\n"
     ]
    }
   ],
   "source": [
    "# Create datapackage\n",
    "description = \"\"\"\n",
    "# Example cytoscape graph from NetworkX\n",
    "\"\"\"\n",
    "\n",
    "package = {\n",
    "    \"name\":\"Example cytoscape graph from NetworkX\", \n",
    "    \"description\":description, \n",
    "    \"author\":\"deetly\", \n",
    "    \"theme\":\"example\",\n",
    "    \"license\": \"MIT\",\n",
    "    \"keyword\": [\"example, graph, cytoscape\"]\n",
    "}\n",
    "\n",
    "dp = deetly.package(package)"
   ]
  },
  {
   "cell_type": "markdown",
   "metadata": {},
   "source": [
    "## From NetworkX\n",
    "Source: https://github.com/QuantStack/ipycytoscape/blob/master/examples/NetworkX%20Example.ipynb"
   ]
  },
  {
   "cell_type": "code",
   "execution_count": 4,
   "metadata": {},
   "outputs": [
    {
     "data": {
      "application/vnd.jupyter.widget-view+json": {
       "model_id": "59e373e82f8a4d81967d69be8128521b",
       "version_major": 2,
       "version_minor": 0
      },
      "text/plain": [
       "CytoscapeWidget(cytoscape_layout={'name': 'cola'}, cytoscape_style=[{'selector': 'node', 'css': {'background-c…"
      ]
     },
     "metadata": {},
     "output_type": "display_data"
    }
   ],
   "source": [
    "G = nx.complete_graph(6)\n",
    "fig = ipycytoscape.CytoscapeWidget()\n",
    "fig.graph.add_graph_from_networkx(G)\n",
    "fig"
   ]
  },
  {
   "cell_type": "code",
   "execution_count": 5,
   "metadata": {},
   "outputs": [],
   "source": [
    "dp.cytoscape(get_spec(fig), \"Complete graph\")"
   ]
  },
  {
   "cell_type": "markdown",
   "metadata": {},
   "source": [
    "## Custom nodes\n",
    "Source: https://github.com/QuantStack/ipycytoscape/blob/master/examples/NetworkX%20Example.ipynb"
   ]
  },
  {
   "cell_type": "code",
   "execution_count": 6,
   "metadata": {},
   "outputs": [
    {
     "data": {
      "application/vnd.jupyter.widget-view+json": {
       "model_id": "251b62baa13c4ee1a92c98b3940b29d5",
       "version_major": 2,
       "version_minor": 0
      },
      "text/plain": [
       "CytoscapeWidget(cytoscape_layout={'name': 'cola'}, cytoscape_style=[{'selector': 'node.class1', 'css': {'backg…"
      ]
     },
     "metadata": {},
     "output_type": "display_data"
    }
   ],
   "source": [
    "class CustomNode(ipycytoscape.Node):\n",
    "    def __init__(self, name, classes=''):\n",
    "        super().__init__()\n",
    "        self.data['id'] = name\n",
    "        self.classes = classes\n",
    "\n",
    "n1 = CustomNode(\"node 1\", classes='class1')\n",
    "n2 = CustomNode(\"node 2\", classes='class2')\n",
    "        \n",
    "G = nx.Graph()\n",
    "\n",
    "G.add_node(n1)\n",
    "G.add_node(n2)\n",
    "\n",
    "G.add_edge(n1, n2)\n",
    "\n",
    "fig = ipycytoscape.CytoscapeWidget()\n",
    "fig.graph.add_graph_from_networkx(G)\n",
    "fig.set_style([\n",
    "        {\n",
    "            'selector': 'node.class1',\n",
    "            'css': {\n",
    "                'background-color': 'red'\n",
    "            }\n",
    "        },\n",
    "        {\n",
    "            'selector': 'node.class2',\n",
    "            'css': {\n",
    "                'background-color': 'green'\n",
    "            }\n",
    "        }\n",
    "])\n",
    "fig"
   ]
  },
  {
   "cell_type": "code",
   "execution_count": 7,
   "metadata": {},
   "outputs": [],
   "source": [
    "dp.cytoscape(get_spec(fig), \"Custom nodes\")"
   ]
  },
  {
   "cell_type": "code",
   "execution_count": 8,
   "metadata": {
    "tags": []
   },
   "outputs": [
    {
     "name": "stdout",
     "output_type": "stream",
     "text": [
      "View: https://public.deetly.com/examples/1e34c114a801d31b9389f578e1f00493 \n",
      "\n",
      "Metadata: https://storage.googleapis.com/deetly/examples/1e34c114a801d31b9389f578e1f00493/datapackage.json \n",
      "\n"
     ]
    }
   ],
   "source": [
    "dp.publish()"
   ]
  }
 ],
 "metadata": {
  "kernelspec": {
   "display_name": "Python 3",
   "language": "python",
   "name": "python3"
  },
  "language_info": {
   "codemirror_mode": {
    "name": "ipython",
    "version": 3
   },
   "file_extension": ".py",
   "mimetype": "text/x-python",
   "name": "python",
   "nbconvert_exporter": "python",
   "pygments_lexer": "ipython3",
   "version": "3.8.2"
  }
 },
 "nbformat": 4,
 "nbformat_minor": 4
}
