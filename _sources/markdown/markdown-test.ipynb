{
 "cells": [
  {
   "cell_type": "markdown",
   "metadata": {},
   "source": [
    "# Markdown view"
   ]
  },
  {
   "cell_type": "markdown",
   "metadata": {},
   "source": [
    "## Setup"
   ]
  },
  {
   "cell_type": "code",
   "execution_count": 1,
   "metadata": {
    "colab": {},
    "colab_type": "code",
    "id": "mH6uBQ7ia40W",
    "tags": []
   },
   "outputs": [],
   "source": [
    "import deetly"
   ]
  },
  {
   "cell_type": "markdown",
   "metadata": {},
   "source": [
    "## Create datapackage"
   ]
  },
  {
   "cell_type": "code",
   "execution_count": 2,
   "metadata": {
    "colab": {},
    "colab_type": "code",
    "id": "bWHX_wcZbrqq",
    "tags": []
   },
   "outputs": [
    {
     "name": "stdout",
     "output_type": "stream",
     "text": [
      "Missing recommended props(s): ['contactPoint', 'distribution', 'keyword', 'publisher', 'spatial', 'temporal']\n",
      "Invalid type: ['String:title', 'String:name', 'String:description', 'String:author', 'String or list of strings:theme', 'String:license', 'String:keywords', 'ISO date or datetime:issued', 'ISO date or datetime:modified']\n",
      "Property not in DCAT schema: ['name', 'author', 'license', 'keywords']\n"
     ]
    }
   ],
   "source": [
    "# Create datapackage\n",
    "description = \"\"\"\n",
    "Markdown view demo\n",
    "\"\"\"\n",
    "\n",
    "package = {\n",
    "    \"title\":\"Markdown view demo\",\n",
    "    \"name\":\"Markdown view demo\", \n",
    "    \"description\":description, \n",
    "    \"author\":\"deetly\", \n",
    "    \"theme\":\"examples\",\n",
    "    \"license\": \"MIT\",\n",
    "    \"keywords\": [\"markdown, example\"]\n",
    "}\n",
    "\n",
    "dp = deetly.package(package)"
   ]
  },
  {
   "cell_type": "markdown",
   "metadata": {},
   "source": [
    "## Get data & create views"
   ]
  },
  {
   "cell_type": "code",
   "execution_count": 3,
   "metadata": {},
   "outputs": [],
   "source": [
    "markdown = \"\"\"\n",
    "An H1 Header\n",
    "============\n",
    "\n",
    "An H2 Header\n",
    "------------\n",
    "\n",
    "# An H1 Header\n",
    "## An H2 Header\n",
    "### An H3 Header\n",
    "#### An H4 Header\n",
    "##### An H5 Header\n",
    "\"\"\"\n",
    "\n",
    "dp.markdown(markdown, 'Headers')"
   ]
  },
  {
   "cell_type": "code",
   "execution_count": 4,
   "metadata": {},
   "outputs": [],
   "source": [
    "markdown = \"\"\"\n",
    "> Of all the things I've lost \n",
    "> I miss my mind the most. - Mark Twain\n",
    "\"\"\"\n",
    "\n",
    "dp.markdown(markdown, 'Blockquotes')"
   ]
  },
  {
   "cell_type": "code",
   "execution_count": 5,
   "metadata": {},
   "outputs": [],
   "source": [
    "markdown = \"\"\"\n",
    "- Item 1\n",
    "  - Sub-item 1\n",
    "  - Sub-item 2\n",
    "- Item 2\n",
    "  - Sub-item 1\n",
    "\"\"\"\n",
    "\n",
    "dp.markdown(markdown, 'Lists')"
   ]
  },
  {
   "cell_type": "code",
   "execution_count": 6,
   "metadata": {},
   "outputs": [],
   "source": [
    "markdown = \"\"\"\n",
    "Check out this code:\n",
    "\n",
    "    def fibonacci(number):\n",
    "        if number <= 1:\n",
    "            return number\n",
    "        else:\n",
    "            return fibonacci(number - 1) + fibonacci(number - 2)\n",
    "\n",
    "And use the function like this:\n",
    "\n",
    "    fib_number = fibonacci(8)\n",
    "    print 'The 8th Fibonacci number is:', fib_number\n",
    "\n",
    "Wow, that was amazing...\n",
    "\n",
    "```python\n",
    "name = 'Scott'\n",
    "print 'Hi my name is ' + name\n",
    "```\n",
    "\"\"\"\n",
    "\n",
    "dp.markdown(markdown, 'Codeblock')"
   ]
  },
  {
   "cell_type": "markdown",
   "metadata": {},
   "source": [
    "## Links"
   ]
  },
  {
   "cell_type": "code",
   "execution_count": 7,
   "metadata": {},
   "outputs": [],
   "source": [
    "markdown = \"\"\"\n",
    "Here is a link til [Google][GO].\n",
    "\n",
    "[GO]: https://google.com \"Google Link Title\"\n",
    "\n",
    "\n",
    "Another link to google.\n",
    "\n",
    "[Google](https://google.com \"Google Link Title\")\n",
    "\"\"\"        \n",
    "\n",
    "dp.markdown(markdown, 'Links')"
   ]
  },
  {
   "cell_type": "markdown",
   "metadata": {},
   "source": [
    "## Tables"
   ]
  },
  {
   "cell_type": "code",
   "execution_count": 8,
   "metadata": {},
   "outputs": [],
   "source": [
    "markdown=\"\"\"\n",
    "\n",
    "First Header | Second Header\n",
    "------------ | -------------\n",
    "Content from cell 1 | Content from cell 2\n",
    "Content in the first column | Content in the second column\n",
    "\n",
    "\n",
    "Right aligned columns\n",
    "\n",
    "First Header | Second Header\n",
    "------------: | -------------:\n",
    "Content from cell 1 | Content from cell 2\n",
    "Content in the first column | Content in the second column\n",
    "\n",
    "\"\"\"\n",
    "\n",
    "dp.markdown(markdown, 'Tables')"
   ]
  },
  {
   "cell_type": "markdown",
   "metadata": {},
   "source": [
    "## Images"
   ]
  },
  {
   "cell_type": "code",
   "execution_count": 9,
   "metadata": {},
   "outputs": [],
   "source": [
    "markdown=\"\"\"\n",
    "\n",
    "![Octocat](https://github.githubassets.com/images/icons/emoji/octocat.png)\n",
    "\n",
    "![Octocat](https://github.githubassets.com/images/icons/emoji/octocat.png \"The Octocat\")\n",
    "\n",
    "Images also have a footnote style syntax\n",
    "\n",
    "![Octocat][id]\n",
    "\n",
    "With a reference later in the document defining the URL location\n",
    "\n",
    "[id]: https://github.githubassets.com/images/icons/emoji/octocat.png \"The Octocat\"\n",
    "\n",
    "\"\"\"\n",
    "\n",
    "dp.markdown(markdown, 'Images')"
   ]
  },
  {
   "cell_type": "markdown",
   "metadata": {},
   "source": [
    "## Publish"
   ]
  },
  {
   "cell_type": "code",
   "execution_count": 10,
   "metadata": {
    "colab": {
     "base_uri": "https://localhost:8080/",
     "height": 85
    },
    "colab_type": "code",
    "id": "J2QxjTN7c8eL",
    "outputId": "ca4ab1b0-9d32-46be-992f-38a5cf5475cc",
    "tags": []
   },
   "outputs": [
    {
     "name": "stdout",
     "output_type": "stream",
     "text": [
      "View: https://public.deetly.com/examples/bb2d21ccc2e6f279dd0d919b459cc7e1 \n",
      "\n",
      "Metadata: https://storage.googleapis.com/deetly/examples/bb2d21ccc2e6f279dd0d919b459cc7e1/datapackage.json \n",
      "\n"
     ]
    }
   ],
   "source": [
    "dp.publish()"
   ]
  }
 ],
 "metadata": {
  "colab": {
   "authorship_tag": "ABX9TyPrJ49vyNtwntfNHwazW3J3",
   "include_colab_link": true,
   "name": "example_basic_altair_and_plotly.ipynb",
   "provenance": []
  },
  "kernelspec": {
   "display_name": "Python 3",
   "language": "python",
   "name": "python3"
  },
  "language_info": {
   "codemirror_mode": {
    "name": "ipython",
    "version": 3
   },
   "file_extension": ".py",
   "mimetype": "text/x-python",
   "name": "python",
   "nbconvert_exporter": "python",
   "pygments_lexer": "ipython3",
   "version": "3.8.2"
  }
 },
 "nbformat": 4,
 "nbformat_minor": 1
}
