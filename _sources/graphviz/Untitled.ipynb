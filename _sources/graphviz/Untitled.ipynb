{
 "cells": [
  {
   "cell_type": "code",
   "execution_count": 8,
   "metadata": {},
   "outputs": [],
   "source": [
    "import os\n",
    "import requests\n",
    "import shutil\n",
    "\n",
    "from pm4py.statistics.attributes.log import get as attributes_filter\n",
    "from pm4py.objects.log.importer.xes import importer as xes_importer\n",
    "from pm4py.statistics.traces.log import case_statistics\n",
    "from pm4py.visualization.graphs import visualizer as graphs_visualizer\n",
    "\n",
    "import deetly"
   ]
  },
  {
   "cell_type": "code",
   "execution_count": 9,
   "metadata": {},
   "outputs": [],
   "source": [
    "def download_file(url):\n",
    "    local_filename = url.split('/')[-1]\n",
    "    with requests.get(url, stream=True) as r:\n",
    "        with open(local_filename, 'wb') as f:\n",
    "            shutil.copyfileobj(r.raw, f)\n",
    "\n",
    "    return local_filename"
   ]
  },
  {
   "cell_type": "code",
   "execution_count": null,
   "metadata": {},
   "outputs": [],
   "source": [
    "url = 'https://raw.githubusercontent.com/pm4py/pm4py-core/release/tests/input_data/receipt.xes'\n",
    "log = xes_importer.apply(download_file(url))"
   ]
  },
  {
   "cell_type": "code",
   "execution_count": null,
   "metadata": {},
   "outputs": [],
   "source": [
    "# visualize case duration graph\n",
    "x_cases, y_cases = case_statistics.get_kde_caseduration(log)\n",
    "graph_cases = graphs_visualizer.apply(x_cases, y_cases, variant=graphs_visualizer.Variants.CASES,\n",
    "                                      parameters={graphs_visualizer.Variants.CASES.value.Parameters.FORMAT: \"svg\"})\n",
    "graphs_visualizer.view(graph_cases)\n",
    "\n",
    "# visualize events over time graph\n",
    "x_dates, y_dates = attributes_filter.get_kde_date_attribute(log)\n",
    "graph_dates = graphs_visualizer.apply(x_dates, y_dates, variant=graphs_visualizer.Variants.DATES,\n",
    "                                      parameters={graphs_visualizer.Variants.DATES.value.Parameters.FORMAT: \"svg\"})\n",
    "graphs_visualizer.view(graph_dates)"
   ]
  }
 ],
 "metadata": {
  "kernelspec": {
   "display_name": "pydeck",
   "language": "python",
   "name": "pydeck"
  },
  "language_info": {
   "codemirror_mode": {
    "name": "ipython",
    "version": 3
   },
   "file_extension": ".py",
   "mimetype": "text/x-python",
   "name": "python",
   "nbconvert_exporter": "python",
   "pygments_lexer": "ipython3",
   "version": "3.8.2"
  }
 },
 "nbformat": 4,
 "nbformat_minor": 4
}
