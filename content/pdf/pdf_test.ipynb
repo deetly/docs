{
 "cells": [
  {
   "cell_type": "markdown",
   "metadata": {
    "colab_type": "text",
    "id": "view-in-github"
   },
   "source": [
    "# PDF view demo\n",
    "> \"Demo of pdf view\""
   ]
  },
  {
   "cell_type": "markdown",
   "metadata": {},
   "source": [
    "## Setup"
   ]
  },
  {
   "cell_type": "code",
   "execution_count": 2,
   "metadata": {
    "colab": {},
    "colab_type": "code",
    "id": "-tnJDSCabT4T"
   },
   "outputs": [],
   "source": [
    "import deetly"
   ]
  },
  {
   "cell_type": "markdown",
   "metadata": {},
   "source": [
    "## Create datastory"
   ]
  },
  {
   "cell_type": "code",
   "execution_count": 3,
   "metadata": {
    "colab": {},
    "colab_type": "code",
    "id": "bWHX_wcZbrqq"
   },
   "outputs": [],
   "source": [
    "# Create datastory\n",
    "package = {\n",
    "    \"name\":\"PDF view demo\", \n",
    "    \"keywords\": [\"pdf, example\"]\n",
    "}\n",
    "\n",
    "ds = deetly.story(package)"
   ]
  },
  {
   "cell_type": "markdown",
   "metadata": {},
   "source": [
    "## Get data & create views"
   ]
  },
  {
   "cell_type": "code",
   "execution_count": 4,
   "metadata": {},
   "outputs": [],
   "source": [
    "url = \"https://storage.googleapis.com/deetly/data/Arbeidsmarkedet%20na%CC%8A%20-%20mai%202020.pdf\"\n",
    "\n",
    "ds.add(\"link\", url,\"Arbeidsmarkedet nå\")\n",
    "ds.add(\"pdf\",\"Arbeidsmarkedet nå\", \"Arbeidsmarkedet nå\")"
   ]
  },
  {
   "cell_type": "markdown",
   "metadata": {},
   "source": [
    "## Publish"
   ]
  },
  {
   "cell_type": "code",
   "execution_count": 5,
   "metadata": {
    "colab": {
     "base_uri": "https://localhost:8080/",
     "height": 85
    },
    "colab_type": "code",
    "id": "J2QxjTN7c8eL",
    "outputId": "ca4ab1b0-9d32-46be-992f-38a5cf5475cc"
   },
   "outputs": [
    {
     "name": "stdout",
     "output_type": "stream",
     "text": [
      "Publishing story PDF view demo to the examples space...\n",
      "Published at: https://public.deetly.com/examples/c81e48ce7a59181c0a772f669477f1b2 \n",
      "\n",
      "Resources: \n",
      "\n",
      "https://storage.googleapis.com/deetly/data/Arbeidsmarkedet%20na%CC%8A%20-%20mai%202020.pdf \n",
      "\n"
     ]
    }
   ],
   "source": [
    "ds.publish()"
   ]
  }
 ],
 "metadata": {
  "colab": {
   "authorship_tag": "ABX9TyPrJ49vyNtwntfNHwazW3J3",
   "include_colab_link": true,
   "name": "example_basic_altair_and_plotly.ipynb",
   "provenance": []
  },
  "kernelspec": {
   "display_name": "Python 3",
   "language": "python",
   "name": "python3"
  },
  "language_info": {
   "codemirror_mode": {
    "name": "ipython",
    "version": 3
   },
   "file_extension": ".py",
   "mimetype": "text/x-python",
   "name": "python",
   "nbconvert_exporter": "python",
   "pygments_lexer": "ipython3",
   "version": "3.8.2"
  }
 },
 "nbformat": 4,
 "nbformat_minor": 1
}
