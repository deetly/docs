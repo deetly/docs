{
 "cells": [
  {
   "cell_type": "markdown",
   "metadata": {},
   "source": [
    "# Examples"
   ]
  },
  {
   "cell_type": "code",
   "execution_count": 1,
   "metadata": {},
   "outputs": [],
   "source": [
    "import deetly\n",
    "import ipycytoscape\n",
    "import json\n",
    "import pandas as pd\n",
    "import requests"
   ]
  },
  {
   "cell_type": "code",
   "execution_count": 2,
   "metadata": {
    "tags": []
   },
   "outputs": [
    {
     "name": "stdout",
     "output_type": "stream",
     "text": [
      "Missing mandatory props(s): ['title']\n",
      "Missing recommended props(s): ['contactPoint', 'distribution', 'publisher', 'spatial', 'temporal']\n",
      "Property not in DCAT schema: ['name', 'author', 'license']\n",
      "Invalid type: ['String:name', 'String:description', 'String:author', 'String or list of strings:theme', 'String:license', 'String or list of strings:keyword', 'ISO date or datetime:issued', 'ISO date or datetime:modified']\n"
     ]
    }
   ],
   "source": [
    "# Create datapackage\n",
    "description = \"\"\"\n",
    "# Example graph with cytoscape\n",
    "\"\"\"\n",
    "\n",
    "package = {\n",
    "    \"name\":\"Example graph with cytoscape\", \n",
    "    \"description\":description, \n",
    "    \"author\":\"deetly\", \n",
    "    \"theme\":\"example\",\n",
    "    \"license\": \"MIT\",\n",
    "    \"keyword\": [\"example, graph, cytoscape\"]\n",
    "}\n",
    "\n",
    "dp = deetly.package(package)"
   ]
  },
  {
   "cell_type": "code",
   "execution_count": 3,
   "metadata": {},
   "outputs": [],
   "source": [
    "elements = {\n",
    "    \"nodes\": [\n",
    "      {\n",
    "        \"data\": {\n",
    "          \"id\": \"hello\",\n",
    "          \"label\": \"Hello\"\n",
    "        },\n",
    "        \"position\": {\n",
    "          \"x\": 25,\n",
    "          \"y\": 25\n",
    "        }\n",
    "      },\n",
    "      {\n",
    "        \"data\": {\n",
    "          \"id\": \"world\",\n",
    "          \"label\": \"World\"\n",
    "        },\n",
    "        \"position\": {\n",
    "          \"x\": 75,\n",
    "          \"y\": 75\n",
    "        }\n",
    "      }\n",
    "    ],\n",
    "    \"edges\": [\n",
    "      {\n",
    "        \"data\": {\n",
    "          \"source\": \"hello\",\n",
    "          \"target\": \"world\"\n",
    "        }\n",
    "      }\n",
    "    ]\n",
    "}"
   ]
  },
  {
   "cell_type": "code",
   "execution_count": 4,
   "metadata": {},
   "outputs": [],
   "source": [
    "stylesheet=[{\n",
    "      \"selector\":\"node\",\n",
    "      \"style\":{\n",
    "         \"height\":15,\n",
    "         \"width\":15,\n",
    "         \"background-color\":\"#30c9bc\"\n",
    "      }\n",
    "    }, \n",
    "    {\n",
    "      \"selector\":\"edge\",\n",
    "      \"style\":{\n",
    "        'width': 4,\n",
    "        'line-color': '#30c9bc',\n",
    "        'target-arrow-shape': 'triangle',\n",
    "        'target-arrow-color': '#30c9bc',\n",
    "        'curve-style': 'bezier'\n",
    "      }\n",
    "    }\n",
    "]\n",
    "\n",
    "style = {\"height\": 200, \"width\":200}"
   ]
  },
  {
   "cell_type": "code",
   "execution_count": 5,
   "metadata": {},
   "outputs": [
    {
     "data": {
      "application/vnd.jupyter.widget-view+json": {
       "model_id": "16aa7cc4a42648bfb6616bc5a07fb2d6",
       "version_major": 2,
       "version_minor": 0
      },
      "text/plain": [
       "CytoscapeWidget(cytoscape_layout={'name': 'preset'}, cytoscape_style=[{'selector': 'node', 'style': {'height':…"
      ]
     },
     "metadata": {},
     "output_type": "display_data"
    }
   ],
   "source": [
    "fig = ipycytoscape.CytoscapeWidget()\n",
    "fig.graph.add_graph_from_json(elements)\n",
    "fig.set_layout(name='preset')\n",
    "fig.set_style(stylesheet)\n",
    "fig"
   ]
  },
  {
   "cell_type": "code",
   "execution_count": 6,
   "metadata": {},
   "outputs": [],
   "source": [
    "spec = {'elements': elements, \n",
    "        'stylesheet': stylesheet, \n",
    "        'layout': {'name': 'preset'},\n",
    "        'style': style\n",
    "}\n",
    "dp.cytoscape(spec, \"Hello world\")"
   ]
  },
  {
   "cell_type": "markdown",
   "metadata": {},
   "source": [
    "## Concentric data"
   ]
  },
  {
   "cell_type": "code",
   "execution_count": 7,
   "metadata": {},
   "outputs": [],
   "source": [
    "url = \"https://raw.githubusercontent.com/QuantStack/ipycytoscape/master/examples/concentricData.json\"\n",
    "res = requests.get(url)\n",
    "elements = res.json()"
   ]
  },
  {
   "cell_type": "code",
   "execution_count": 8,
   "metadata": {},
   "outputs": [],
   "source": [
    "stylesheet=[{\n",
    "      \"selector\":\"node\",\n",
    "      \"style\":{\n",
    "         \"height\":10,\n",
    "         \"width\":10,\n",
    "         \"background-color\":\"#30c9bc\"\n",
    "      }\n",
    "   },\n",
    "   {\n",
    "      \"selector\":\"edge\",\n",
    "      \"style\":{\n",
    "         \"width\":5,\n",
    "         \"opacity\":0.5,\n",
    "         \"line-color\":\"#30c9bc\"\n",
    "      }\n",
    "   }]"
   ]
  },
  {
   "cell_type": "code",
   "execution_count": 9,
   "metadata": {},
   "outputs": [
    {
     "data": {
      "application/vnd.jupyter.widget-view+json": {
       "model_id": "69807dceea8f4ae6a76b29193bba1144",
       "version_major": 2,
       "version_minor": 0
      },
      "text/plain": [
       "CytoscapeWidget(cytoscape_layout={'name': 'concentric'}, cytoscape_style=[{'selector': 'node', 'style': {'heig…"
      ]
     },
     "metadata": {},
     "output_type": "display_data"
    }
   ],
   "source": [
    "fig = ipycytoscape.CytoscapeWidget()\n",
    "fig.graph.add_graph_from_json(elements)\n",
    "fig.set_layout(name='concentric')\n",
    "fig.set_style(stylesheet)\n",
    "fig"
   ]
  },
  {
   "cell_type": "code",
   "execution_count": 10,
   "metadata": {},
   "outputs": [],
   "source": [
    "spec = {'elements': elements, \n",
    "        'stylesheet': stylesheet, \n",
    "        'layout': {'name': 'concentric'} \n",
    "}"
   ]
  },
  {
   "cell_type": "code",
   "execution_count": 11,
   "metadata": {},
   "outputs": [],
   "source": [
    "dp.cytoscape(spec, \"Concentric data example\")"
   ]
  },
  {
   "cell_type": "markdown",
   "metadata": {},
   "source": [
    "## DAG data"
   ]
  },
  {
   "cell_type": "code",
   "execution_count": 12,
   "metadata": {},
   "outputs": [],
   "source": [
    "url = \"https://raw.githubusercontent.com/QuantStack/ipycytoscape/master/examples/DAGData.json\"\n",
    "res = requests.get(url)\n",
    "elements = res.json()"
   ]
  },
  {
   "cell_type": "code",
   "execution_count": 13,
   "metadata": {},
   "outputs": [],
   "source": [
    "stylesheet = [{\n",
    "    'selector': 'node',\n",
    "    'css': {\n",
    "        'background-color': '#11479e'\n",
    "        }\n",
    "    },\n",
    "    {\n",
    "    'selector': 'node:parent',\n",
    "    'css': {\n",
    "        'background-opacity': 0.333\n",
    "        }\n",
    "    },\n",
    "    {\n",
    "        'selector': 'edge',\n",
    "        'style': {\n",
    "            'width': 4,\n",
    "            'line-color': '#9dbaea',\n",
    "            'target-arrow-shape': 'triangle',\n",
    "            'target-arrow-color': '#9dbaea',\n",
    "            'curve-style': 'bezier'\n",
    "        }\n",
    "    }\n",
    "]"
   ]
  },
  {
   "cell_type": "code",
   "execution_count": 14,
   "metadata": {},
   "outputs": [
    {
     "data": {
      "application/vnd.jupyter.widget-view+json": {
       "model_id": "1ba5ff0d088c43799c6ec48789613525",
       "version_major": 2,
       "version_minor": 0
      },
      "text/plain": [
       "CytoscapeWidget(cytoscape_layout={'name': 'dagre', 'nodeSpacing': 10, 'edgeLengthVal': 10}, cytoscape_style=[{…"
      ]
     },
     "metadata": {},
     "output_type": "display_data"
    }
   ],
   "source": [
    "fig = ipycytoscape.CytoscapeWidget()\n",
    "fig.graph.add_graph_from_json(elements)\n",
    "fig.set_layout(name='dagre', nodeSpacing=10, edgeLengthVal=10)\n",
    "fig.set_style(stylesheet)\n",
    "fig"
   ]
  },
  {
   "cell_type": "code",
   "execution_count": 15,
   "metadata": {},
   "outputs": [],
   "source": [
    "spec = {'elements': elements,\n",
    "        'stylesheet': stylesheet,\n",
    "        'layout': {'name': 'dagre', 'nodeSpacing':10, 'edgeLengthVal':10} \n",
    "}"
   ]
  },
  {
   "cell_type": "code",
   "execution_count": 16,
   "metadata": {},
   "outputs": [],
   "source": [
    "dp.cytoscape(spec, \"DAG data example\")"
   ]
  },
  {
   "cell_type": "markdown",
   "metadata": {},
   "source": [
    "## Grid example"
   ]
  },
  {
   "cell_type": "code",
   "execution_count": 17,
   "metadata": {},
   "outputs": [],
   "source": [
    "url = \"https://raw.githubusercontent.com/QuantStack/ipycytoscape/master/examples/gridData.json\"\n",
    "res = requests.get(url)\n",
    "elements = res.json()"
   ]
  },
  {
   "cell_type": "code",
   "execution_count": 18,
   "metadata": {},
   "outputs": [
    {
     "data": {
      "application/vnd.jupyter.widget-view+json": {
       "model_id": "cf65a6054bc44b23b14c5b661aa1f76c",
       "version_major": 2,
       "version_minor": 0
      },
      "text/plain": [
       "CytoscapeWidget(cytoscape_layout={'name': 'grid'}, cytoscape_style=[{'selector': 'node', 'style': {'height': 2…"
      ]
     },
     "metadata": {},
     "output_type": "display_data"
    }
   ],
   "source": [
    "stylesheet = [{\n",
    "      \"selector\":\"node\",\n",
    "      \"style\":{\n",
    "         \"height\":20,\n",
    "         \"width\":20,\n",
    "         \"background-color\":\"#18e018\"\n",
    "      }\n",
    "    },\n",
    "    {\n",
    "      \"selector\":\"edge\",\n",
    "      \"style\":{\n",
    "         \"curve-style\":\"haystack\",\n",
    "         \"haystack-radius\":0,\n",
    "         \"width\":5,\n",
    "         \"opacity\":0.5,\n",
    "         \"line-color\":\"#a2efa2\"\n",
    "      }\n",
    "}]\n",
    "\n",
    "\n",
    "fig = ipycytoscape.CytoscapeWidget()\n",
    "fig.graph.add_graph_from_json(elements)\n",
    "fig.set_layout(name='grid')\n",
    "fig.set_style(stylesheet)\n",
    "fig"
   ]
  },
  {
   "cell_type": "code",
   "execution_count": 19,
   "metadata": {},
   "outputs": [],
   "source": [
    "spec = {'elements': elements,\n",
    "    'stylesheet': stylesheet,\n",
    "    'layout': {'name': 'grid'} \n",
    "}"
   ]
  },
  {
   "cell_type": "code",
   "execution_count": 20,
   "metadata": {},
   "outputs": [],
   "source": [
    "dp.cytoscape(spec, \"Grid data example\")"
   ]
  },
  {
   "cell_type": "markdown",
   "metadata": {},
   "source": [
    "## Pandas example"
   ]
  },
  {
   "cell_type": "code",
   "execution_count": 21,
   "metadata": {},
   "outputs": [],
   "source": [
    "# workaround since ipycytoscape does not export JSON declaration\n",
    "def get_spec(fig):\n",
    "    nodes = []\n",
    "    for node in fig.graph.nodes:\n",
    "        nodes.append({'data':json.loads(json.dumps(node.data))})\n",
    "        \n",
    "    edges = []\n",
    "    for edge in fig.graph.edges:\n",
    "        edges.append({'data':json.loads(json.dumps(edge.data))})\n",
    "        \n",
    "    return {\n",
    "        'layout': fig.cytoscape_layout,\n",
    "        'stylesheet': fig.cytoscape_style,\n",
    "        'elements': {'edges':edges,'nodes':nodes},\n",
    "    }\n",
    "    "
   ]
  },
  {
   "cell_type": "code",
   "execution_count": 22,
   "metadata": {},
   "outputs": [],
   "source": [
    "df = pd.read_csv(\"https://raw.githubusercontent.com/nextstrain/ncov/fe5a7ed1f92af63d6d1d43d0307e4b2620108aaa/data/metadata.tsv\", sep = '\\t')"
   ]
  },
  {
   "cell_type": "code",
   "execution_count": 23,
   "metadata": {},
   "outputs": [
    {
     "data": {
      "text/html": [
       "<div>\n",
       "<style scoped>\n",
       "    .dataframe tbody tr th:only-of-type {\n",
       "        vertical-align: middle;\n",
       "    }\n",
       "\n",
       "    .dataframe tbody tr th {\n",
       "        vertical-align: top;\n",
       "    }\n",
       "\n",
       "    .dataframe thead th {\n",
       "        text-align: right;\n",
       "    }\n",
       "</style>\n",
       "<table border=\"1\" class=\"dataframe\">\n",
       "  <thead>\n",
       "    <tr style=\"text-align: right;\">\n",
       "      <th></th>\n",
       "      <th>strain</th>\n",
       "      <th>virus</th>\n",
       "      <th>gisaid_epi_isl</th>\n",
       "      <th>genbank_accession</th>\n",
       "      <th>date</th>\n",
       "      <th>region</th>\n",
       "      <th>country</th>\n",
       "      <th>division</th>\n",
       "      <th>location</th>\n",
       "      <th>region_exposure</th>\n",
       "      <th>...</th>\n",
       "      <th>length</th>\n",
       "      <th>host</th>\n",
       "      <th>age</th>\n",
       "      <th>sex</th>\n",
       "      <th>originating_lab</th>\n",
       "      <th>submitting_lab</th>\n",
       "      <th>authors</th>\n",
       "      <th>url</th>\n",
       "      <th>title</th>\n",
       "      <th>date_submitted</th>\n",
       "    </tr>\n",
       "  </thead>\n",
       "  <tbody>\n",
       "    <tr>\n",
       "      <th>0</th>\n",
       "      <td>Algeria/G0638_2264/2020</td>\n",
       "      <td>ncov</td>\n",
       "      <td>EPI_ISL_418241</td>\n",
       "      <td>?</td>\n",
       "      <td>2020-03-02</td>\n",
       "      <td>Africa</td>\n",
       "      <td>Algeria</td>\n",
       "      <td>Boufarik</td>\n",
       "      <td>NaN</td>\n",
       "      <td>Africa</td>\n",
       "      <td>...</td>\n",
       "      <td>29862</td>\n",
       "      <td>Human</td>\n",
       "      <td>28</td>\n",
       "      <td>Female</td>\n",
       "      <td>NIC Viral Respiratory Unit - Institut Pasteur ...</td>\n",
       "      <td>National Reference Center for Viruses of Respi...</td>\n",
       "      <td>Albert et al</td>\n",
       "      <td>https://www.gisaid.org</td>\n",
       "      <td>?</td>\n",
       "      <td>2020-03-29</td>\n",
       "    </tr>\n",
       "  </tbody>\n",
       "</table>\n",
       "<p>1 rows × 23 columns</p>\n",
       "</div>"
      ],
      "text/plain": [
       "                    strain virus  gisaid_epi_isl genbank_accession  \\\n",
       "0  Algeria/G0638_2264/2020  ncov  EPI_ISL_418241                 ?   \n",
       "\n",
       "         date  region  country  division location region_exposure  ... length  \\\n",
       "0  2020-03-02  Africa  Algeria  Boufarik      NaN          Africa  ...  29862   \n",
       "\n",
       "    host age     sex                                    originating_lab  \\\n",
       "0  Human  28  Female  NIC Viral Respiratory Unit - Institut Pasteur ...   \n",
       "\n",
       "                                      submitting_lab       authors  \\\n",
       "0  National Reference Center for Viruses of Respi...  Albert et al   \n",
       "\n",
       "                      url title date_submitted  \n",
       "0  https://www.gisaid.org     ?     2020-03-29  \n",
       "\n",
       "[1 rows x 23 columns]"
      ]
     },
     "execution_count": 23,
     "metadata": {},
     "output_type": "execute_result"
    }
   ],
   "source": [
    "df.head(1)"
   ]
  },
  {
   "cell_type": "code",
   "execution_count": 24,
   "metadata": {},
   "outputs": [
    {
     "data": {
      "application/vnd.jupyter.widget-view+json": {
       "model_id": "1cd0ce64b986424092ee135860433dc2",
       "version_major": 2,
       "version_minor": 0
      },
      "text/plain": [
       "CytoscapeWidget(cytoscape_layout={'name': 'cola'}, cytoscape_style=[{'selector': 'node', 'css': {'background-c…"
      ]
     },
     "metadata": {},
     "output_type": "display_data"
    }
   ],
   "source": [
    "fig = ipycytoscape.CytoscapeWidget()\n",
    "fig.set_tooltip_source('name')\n",
    "fig.graph.add_graph_from_df(df[:30], ['country'], ['age', 'virus'])\n",
    "fig"
   ]
  },
  {
   "cell_type": "code",
   "execution_count": 25,
   "metadata": {},
   "outputs": [],
   "source": [
    "dp.cytoscape(get_spec(fig), \"Pandas example\")"
   ]
  },
  {
   "cell_type": "code",
   "execution_count": 26,
   "metadata": {
    "tags": []
   },
   "outputs": [
    {
     "name": "stdout",
     "output_type": "stream",
     "text": [
      "View: https://public.deetly.com/examples/0868fedec370f6a1d981e09e3c585808 \n",
      "\n",
      "Metadata: https://storage.googleapis.com/deetly/examples/0868fedec370f6a1d981e09e3c585808/datapackage.json \n",
      "\n"
     ]
    }
   ],
   "source": [
    "dp.publish()"
   ]
  }
 ],
 "metadata": {
  "kernelspec": {
   "display_name": "Python 3",
   "language": "python",
   "name": "python3"
  },
  "language_info": {
   "codemirror_mode": {
    "name": "ipython",
    "version": 3
   },
   "file_extension": ".py",
   "mimetype": "text/x-python",
   "name": "python",
   "nbconvert_exporter": "python",
   "pygments_lexer": "ipython3",
   "version": "3.8.2"
  }
 },
 "nbformat": 4,
 "nbformat_minor": 4
}
