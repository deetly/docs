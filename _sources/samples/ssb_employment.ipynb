{
 "cells": [
  {
   "cell_type": "markdown",
   "metadata": {},
   "source": [
    "# Plotly express from Jsonstat"
   ]
  },
  {
   "cell_type": "code",
   "execution_count": 1,
   "metadata": {},
   "outputs": [
    {
     "ename": "ModuleNotFoundError",
     "evalue": "No module named 'pyjstat'",
     "output_type": "error",
     "traceback": [
      "\u001b[0;31m---------------------------------------------------------------------------\u001b[0m",
      "\u001b[0;31mModuleNotFoundError\u001b[0m                       Traceback (most recent call last)",
      "\u001b[0;32m<ipython-input-1-4dbf5a3d0016>\u001b[0m in \u001b[0;36m<module>\u001b[0;34m\u001b[0m\n\u001b[1;32m      2\u001b[0m \u001b[0;32mimport\u001b[0m \u001b[0mrequests\u001b[0m\u001b[0;34m\u001b[0m\u001b[0;34m\u001b[0m\u001b[0m\n\u001b[1;32m      3\u001b[0m \u001b[0;32mimport\u001b[0m \u001b[0mjson\u001b[0m\u001b[0;34m\u001b[0m\u001b[0;34m\u001b[0m\u001b[0m\n\u001b[0;32m----> 4\u001b[0;31m \u001b[0;32mfrom\u001b[0m \u001b[0mpyjstat\u001b[0m \u001b[0;32mimport\u001b[0m \u001b[0mpyjstat\u001b[0m\u001b[0;34m\u001b[0m\u001b[0;34m\u001b[0m\u001b[0m\n\u001b[0m\u001b[1;32m      5\u001b[0m \u001b[0;32mimport\u001b[0m \u001b[0mpandas\u001b[0m \u001b[0;32mas\u001b[0m \u001b[0mpd\u001b[0m\u001b[0;34m\u001b[0m\u001b[0;34m\u001b[0m\u001b[0m\n\u001b[1;32m      6\u001b[0m \u001b[0;32mimport\u001b[0m \u001b[0mplotly\u001b[0m\u001b[0;34m.\u001b[0m\u001b[0mexpress\u001b[0m \u001b[0;32mas\u001b[0m \u001b[0mpx\u001b[0m\u001b[0;34m\u001b[0m\u001b[0;34m\u001b[0m\u001b[0m\n",
      "\u001b[0;31mModuleNotFoundError\u001b[0m: No module named 'pyjstat'"
     ]
    }
   ],
   "source": [
    "import deetly\n",
    "import requests\n",
    "import json\n",
    "from pyjstat import pyjstat\n",
    "import pandas as pd\n",
    "import plotly.express as px\n",
    "import altair as alt"
   ]
  },
  {
   "cell_type": "code",
   "execution_count": 20,
   "metadata": {},
   "outputs": [],
   "source": [
    "# Create datastory\n",
    "package = {\n",
    "    \"name\": \"SSB Labor market example\",\n",
    "    \"keywords\":[\"plotly\",\"plotly express\",\"altair\",\"vega\",\"examples\"],\n",
    "}\n",
    "\n",
    "ds = deetly.story(package)"
   ]
  },
  {
   "cell_type": "code",
   "execution_count": 21,
   "metadata": {},
   "outputs": [
    {
     "name": "stdout",
     "output_type": "stream",
     "text": [
      "<Response [200]>\n"
     ]
    }
   ],
   "source": [
    "url = 'https://data.ssb.no/api/v0/no/table/08771'\n",
    "query = \"\"\"\n",
    "{\n",
    "  \"query\": [\n",
    "    {\n",
    "      \"code\": \"NACE2007\",\n",
    "      \"selection\": {\n",
    "        \"filter\": \"all\",\n",
    "        \"values\": [\"*\"]\n",
    "      }\n",
    "    },\n",
    "    {\n",
    "      \"code\": \"ContentsCode\",\n",
    "      \"selection\": {\n",
    "        \"filter\": \"all\",\n",
    "        \"values\": [\"*\"]\n",
    "      }\n",
    "    },\n",
    "    {\n",
    "      \"code\": \"Tid\",\n",
    "      \"selection\": {\n",
    "        \"filter\": \"all\",\n",
    "        \"values\": [\"*\"]\n",
    "      }\n",
    "    }\n",
    "  ],\n",
    "  \"response\": {\n",
    "    \"format\": \"json-stat2\"\n",
    "  }\n",
    "}\n",
    "\"\"\"\n",
    "res = requests.post(url, json=json.loads(query))\n",
    "print(res)\n",
    "dataset = pyjstat.Dataset.read(res.text)\n",
    "df_stillinger = dataset.write('dataframe')\n",
    "df_stillinger_id = dataset.write('dataframe',naming='id')\n",
    "df_stillinger['NACE2007'] = df_stillinger_id['NACE2007']\n",
    "df_stillinger = df_stillinger[(~df_stillinger['NACE2007'].isin(['00-99','01-96'])) & (df_stillinger['kvartal']>'2010K4')]\n",
    "df_stillinger = df_stillinger.pivot(index=['NACE2007','næring (SN2007)','kvartal'], \n",
    "                                    columns=['statistikkvariabel'], \n",
    "                                    values='value').reset_index()\n",
    "\n"
   ]
  },
  {
   "cell_type": "code",
   "execution_count": 22,
   "metadata": {},
   "outputs": [
    {
     "data": {
      "text/html": [
       "<div>\n",
       "<style scoped>\n",
       "    .dataframe tbody tr th:only-of-type {\n",
       "        vertical-align: middle;\n",
       "    }\n",
       "\n",
       "    .dataframe tbody tr th {\n",
       "        vertical-align: top;\n",
       "    }\n",
       "\n",
       "    .dataframe thead th {\n",
       "        text-align: right;\n",
       "    }\n",
       "</style>\n",
       "<table border=\"1\" class=\"dataframe\">\n",
       "  <thead>\n",
       "    <tr style=\"text-align: right;\">\n",
       "      <th>statistikkvariabel</th>\n",
       "      <th>NACE2007</th>\n",
       "      <th>næring (SN2007)</th>\n",
       "      <th>kvartal</th>\n",
       "      <th>Ledige stillingar</th>\n",
       "      <th>Ledige stillingar (prosent)</th>\n",
       "      <th>Ledige stillingar, endring frå året før</th>\n",
       "      <th>Ledige stillingar, endring i prosentpoeng frå året før</th>\n",
       "    </tr>\n",
       "  </thead>\n",
       "  <tbody>\n",
       "    <tr>\n",
       "      <th>0</th>\n",
       "      <td>01-03</td>\n",
       "      <td>Jordbruk, skogbruk og fiske</td>\n",
       "      <td>2011K1</td>\n",
       "      <td>600.0</td>\n",
       "      <td>1.8</td>\n",
       "      <td>300.0</td>\n",
       "      <td>0.8</td>\n",
       "    </tr>\n",
       "  </tbody>\n",
       "</table>\n",
       "</div>"
      ],
      "text/plain": [
       "statistikkvariabel NACE2007              næring (SN2007) kvartal  \\\n",
       "0                     01-03  Jordbruk, skogbruk og fiske  2011K1   \n",
       "\n",
       "statistikkvariabel  Ledige stillingar  Ledige stillingar (prosent)  \\\n",
       "0                               600.0                          1.8   \n",
       "\n",
       "statistikkvariabel  Ledige stillingar, endring frå året før  \\\n",
       "0                                                     300.0   \n",
       "\n",
       "statistikkvariabel  Ledige stillingar, endring i prosentpoeng frå året før  \n",
       "0                                                                 0.8       "
      ]
     },
     "execution_count": 22,
     "metadata": {},
     "output_type": "execute_result"
    }
   ],
   "source": [
    "df_stillinger.head(1)"
   ]
  },
  {
   "cell_type": "code",
   "execution_count": 23,
   "metadata": {},
   "outputs": [
    {
     "data": {
      "application/vnd.plotly.v1+json": {
       "config": {
        "plotlyServerURL": "https://plot.ly"
       },
       "data": [
        {
         "hovertemplate": "NACE2007=01-03<br>kvartal=%{x}<br>Ledige stillingar=%{y}<extra></extra>",
         "legendgroup": "01-03",
         "line": {
          "color": "#636efa",
          "dash": "solid"
         },
         "mode": "lines",
         "name": "01-03",
         "orientation": "v",
         "showlegend": true,
         "type": "scatter",
         "x": [
          "2011K1",
          "2011K2",
          "2011K3",
          "2011K4",
          "2012K1",
          "2012K2",
          "2012K3",
          "2012K4",
          "2013K1",
          "2013K2",
          "2013K3",
          "2013K4",
          "2014K1",
          "2014K2",
          "2014K3",
          "2014K4",
          "2015K1",
          "2015K2",
          "2015K3",
          "2015K4",
          "2016K1",
          "2016K2",
          "2016K3",
          "2016K4",
          "2017K1",
          "2017K2",
          "2017K3",
          "2017K4",
          "2018K1",
          "2018K2",
          "2018K3",
          "2018K4",
          "2019K1",
          "2019K2",
          "2019K3",
          "2019K4",
          "2020K1",
          "2020K2",
          "2020K3",
          "2020K4"
         ],
         "xaxis": "x",
         "y": [
          600,
          500,
          900,
          500,
          400,
          300,
          200,
          200,
          300,
          700,
          300,
          200,
          300,
          400,
          400,
          200,
          300,
          500,
          200,
          200,
          200,
          300,
          100,
          300,
          400,
          300,
          400,
          200,
          700,
          400,
          300,
          400,
          700,
          400,
          700,
          500,
          600,
          300,
          300,
          400
         ],
         "yaxis": "y"
        },
        {
         "hovertemplate": "NACE2007=05-09<br>kvartal=%{x}<br>Ledige stillingar=%{y}<extra></extra>",
         "legendgroup": "05-09",
         "line": {
          "color": "#EF553B",
          "dash": "solid"
         },
         "mode": "lines",
         "name": "05-09",
         "orientation": "v",
         "showlegend": true,
         "type": "scatter",
         "x": [
          "2011K1",
          "2011K2",
          "2011K3",
          "2011K4",
          "2012K1",
          "2012K2",
          "2012K3",
          "2012K4",
          "2013K1",
          "2013K2",
          "2013K3",
          "2013K4",
          "2014K1",
          "2014K2",
          "2014K3",
          "2014K4",
          "2015K1",
          "2015K2",
          "2015K3",
          "2015K4",
          "2016K1",
          "2016K2",
          "2016K3",
          "2016K4",
          "2017K1",
          "2017K2",
          "2017K3",
          "2017K4",
          "2018K1",
          "2018K2",
          "2018K3",
          "2018K4",
          "2019K1",
          "2019K2",
          "2019K3",
          "2019K4",
          "2020K1",
          "2020K2",
          "2020K3",
          "2020K4"
         ],
         "xaxis": "x",
         "y": [
          1800,
          2000,
          1800,
          2200,
          2200,
          2500,
          2100,
          2000,
          1900,
          2100,
          1700,
          1400,
          1700,
          1700,
          1200,
          1000,
          600,
          600,
          600,
          400,
          300,
          200,
          300,
          500,
          400,
          500,
          600,
          1000,
          1400,
          1300,
          1400,
          1800,
          1500,
          1500,
          1100,
          1400,
          900,
          300,
          600,
          700
         ],
         "yaxis": "y"
        },
        {
         "hovertemplate": "NACE2007=10-33<br>kvartal=%{x}<br>Ledige stillingar=%{y}<extra></extra>",
         "legendgroup": "10-33",
         "line": {
          "color": "#00cc96",
          "dash": "solid"
         },
         "mode": "lines",
         "name": "10-33",
         "orientation": "v",
         "showlegend": true,
         "type": "scatter",
         "x": [
          "2011K1",
          "2011K2",
          "2011K3",
          "2011K4",
          "2012K1",
          "2012K2",
          "2012K3",
          "2012K4",
          "2013K1",
          "2013K2",
          "2013K3",
          "2013K4",
          "2014K1",
          "2014K2",
          "2014K3",
          "2014K4",
          "2015K1",
          "2015K2",
          "2015K3",
          "2015K4",
          "2016K1",
          "2016K2",
          "2016K3",
          "2016K4",
          "2017K1",
          "2017K2",
          "2017K3",
          "2017K4",
          "2018K1",
          "2018K2",
          "2018K3",
          "2018K4",
          "2019K1",
          "2019K2",
          "2019K3",
          "2019K4",
          "2020K1",
          "2020K2",
          "2020K3",
          "2020K4"
         ],
         "xaxis": "x",
         "y": [
          4500,
          4700,
          4100,
          3900,
          5300,
          4600,
          4000,
          3800,
          4100,
          3800,
          3200,
          3000,
          3500,
          3600,
          2800,
          2400,
          2800,
          2300,
          1600,
          1700,
          2200,
          1800,
          2000,
          1600,
          2700,
          2400,
          2500,
          2400,
          3400,
          3900,
          3500,
          3300,
          4400,
          4400,
          4200,
          3400,
          3300,
          2200,
          2700,
          2600
         ],
         "yaxis": "y"
        },
        {
         "hovertemplate": "NACE2007=35-39<br>kvartal=%{x}<br>Ledige stillingar=%{y}<extra></extra>",
         "legendgroup": "35-39",
         "line": {
          "color": "#ab63fa",
          "dash": "solid"
         },
         "mode": "lines",
         "name": "35-39",
         "orientation": "v",
         "showlegend": true,
         "type": "scatter",
         "x": [
          "2011K1",
          "2011K2",
          "2011K3",
          "2011K4",
          "2012K1",
          "2012K2",
          "2012K3",
          "2012K4",
          "2013K1",
          "2013K2",
          "2013K3",
          "2013K4",
          "2014K1",
          "2014K2",
          "2014K3",
          "2014K4",
          "2015K1",
          "2015K2",
          "2015K3",
          "2015K4",
          "2016K1",
          "2016K2",
          "2016K3",
          "2016K4",
          "2017K1",
          "2017K2",
          "2017K3",
          "2017K4",
          "2018K1",
          "2018K2",
          "2018K3",
          "2018K4",
          "2019K1",
          "2019K2",
          "2019K3",
          "2019K4",
          "2020K1",
          "2020K2",
          "2020K3",
          "2020K4"
         ],
         "xaxis": "x",
         "y": [
          600,
          700,
          500,
          600,
          600,
          600,
          500,
          600,
          500,
          600,
          500,
          500,
          400,
          400,
          400,
          400,
          400,
          400,
          400,
          300,
          400,
          500,
          400,
          400,
          400,
          400,
          500,
          300,
          500,
          500,
          500,
          500,
          600,
          700,
          600,
          500,
          600,
          600,
          500,
          600
         ],
         "yaxis": "y"
        },
        {
         "hovertemplate": "NACE2007=41-43<br>kvartal=%{x}<br>Ledige stillingar=%{y}<extra></extra>",
         "legendgroup": "41-43",
         "line": {
          "color": "#FFA15A",
          "dash": "solid"
         },
         "mode": "lines",
         "name": "41-43",
         "orientation": "v",
         "showlegend": true,
         "type": "scatter",
         "x": [
          "2011K1",
          "2011K2",
          "2011K3",
          "2011K4",
          "2012K1",
          "2012K2",
          "2012K3",
          "2012K4",
          "2013K1",
          "2013K2",
          "2013K3",
          "2013K4",
          "2014K1",
          "2014K2",
          "2014K3",
          "2014K4",
          "2015K1",
          "2015K2",
          "2015K3",
          "2015K4",
          "2016K1",
          "2016K2",
          "2016K3",
          "2016K4",
          "2017K1",
          "2017K2",
          "2017K3",
          "2017K4",
          "2018K1",
          "2018K2",
          "2018K3",
          "2018K4",
          "2019K1",
          "2019K2",
          "2019K3",
          "2019K4",
          "2020K1",
          "2020K2",
          "2020K3",
          "2020K4"
         ],
         "xaxis": "x",
         "y": [
          5100,
          5300,
          4500,
          4800,
          4700,
          4100,
          4000,
          3900,
          4300,
          5600,
          4400,
          3400,
          4500,
          4400,
          4000,
          3200,
          3500,
          6800,
          3300,
          2300,
          3900,
          3500,
          3900,
          3800,
          3800,
          3800,
          4800,
          4400,
          5200,
          5400,
          5400,
          4900,
          5400,
          6200,
          5300,
          4200,
          5700,
          4600,
          4300,
          4300
         ],
         "yaxis": "y"
        },
        {
         "hovertemplate": "NACE2007=45-47<br>kvartal=%{x}<br>Ledige stillingar=%{y}<extra></extra>",
         "legendgroup": "45-47",
         "line": {
          "color": "#19d3f3",
          "dash": "solid"
         },
         "mode": "lines",
         "name": "45-47",
         "orientation": "v",
         "showlegend": true,
         "type": "scatter",
         "x": [
          "2011K1",
          "2011K2",
          "2011K3",
          "2011K4",
          "2012K1",
          "2012K2",
          "2012K3",
          "2012K4",
          "2013K1",
          "2013K2",
          "2013K3",
          "2013K4",
          "2014K1",
          "2014K2",
          "2014K3",
          "2014K4",
          "2015K1",
          "2015K2",
          "2015K3",
          "2015K4",
          "2016K1",
          "2016K2",
          "2016K3",
          "2016K4",
          "2017K1",
          "2017K2",
          "2017K3",
          "2017K4",
          "2018K1",
          "2018K2",
          "2018K3",
          "2018K4",
          "2019K1",
          "2019K2",
          "2019K3",
          "2019K4",
          "2020K1",
          "2020K2",
          "2020K3",
          "2020K4"
         ],
         "xaxis": "x",
         "y": [
          5600,
          8300,
          9700,
          6400,
          7100,
          6900,
          6800,
          6300,
          7500,
          9000,
          5600,
          4800,
          5700,
          5500,
          5100,
          4000,
          5300,
          5400,
          5500,
          5100,
          4400,
          6600,
          5400,
          4000,
          6000,
          6400,
          5800,
          6500,
          7400,
          6800,
          7900,
          4800,
          8500,
          11000,
          5600,
          6600,
          6900,
          6400,
          7400,
          5700
         ],
         "yaxis": "y"
        },
        {
         "hovertemplate": "NACE2007=49-53<br>kvartal=%{x}<br>Ledige stillingar=%{y}<extra></extra>",
         "legendgroup": "49-53",
         "line": {
          "color": "#FF6692",
          "dash": "solid"
         },
         "mode": "lines",
         "name": "49-53",
         "orientation": "v",
         "showlegend": true,
         "type": "scatter",
         "x": [
          "2011K1",
          "2011K2",
          "2011K3",
          "2011K4",
          "2012K1",
          "2012K2",
          "2012K3",
          "2012K4",
          "2013K1",
          "2013K2",
          "2013K3",
          "2013K4",
          "2014K1",
          "2014K2",
          "2014K3",
          "2014K4",
          "2015K1",
          "2015K2",
          "2015K3",
          "2015K4",
          "2016K1",
          "2016K2",
          "2016K3",
          "2016K4",
          "2017K1",
          "2017K2",
          "2017K3",
          "2017K4",
          "2018K1",
          "2018K2",
          "2018K3",
          "2018K4",
          "2019K1",
          "2019K2",
          "2019K3",
          "2019K4",
          "2020K1",
          "2020K2",
          "2020K3",
          "2020K4"
         ],
         "xaxis": "x",
         "y": [
          3000,
          2100,
          2300,
          1500,
          2100,
          2000,
          2600,
          1600,
          2300,
          2600,
          2800,
          2100,
          2300,
          1900,
          1900,
          1900,
          1700,
          2100,
          1800,
          1400,
          1900,
          1500,
          1400,
          1300,
          2700,
          2900,
          1900,
          1900,
          2700,
          2900,
          2500,
          2000,
          2800,
          3800,
          3000,
          3600,
          2700,
          1600,
          1800,
          1900
         ],
         "yaxis": "y"
        },
        {
         "hovertemplate": "NACE2007=55-56<br>kvartal=%{x}<br>Ledige stillingar=%{y}<extra></extra>",
         "legendgroup": "55-56",
         "line": {
          "color": "#B6E880",
          "dash": "solid"
         },
         "mode": "lines",
         "name": "55-56",
         "orientation": "v",
         "showlegend": true,
         "type": "scatter",
         "x": [
          "2011K1",
          "2011K2",
          "2011K3",
          "2011K4",
          "2012K1",
          "2012K2",
          "2012K3",
          "2012K4",
          "2013K1",
          "2013K2",
          "2013K3",
          "2013K4",
          "2014K1",
          "2014K2",
          "2014K3",
          "2014K4",
          "2015K1",
          "2015K2",
          "2015K3",
          "2015K4",
          "2016K1",
          "2016K2",
          "2016K3",
          "2016K4",
          "2017K1",
          "2017K2",
          "2017K3",
          "2017K4",
          "2018K1",
          "2018K2",
          "2018K3",
          "2018K4",
          "2019K1",
          "2019K2",
          "2019K3",
          "2019K4",
          "2020K1",
          "2020K2",
          "2020K3",
          "2020K4"
         ],
         "xaxis": "x",
         "y": [
          2500,
          4100,
          2300,
          1100,
          2600,
          2700,
          2700,
          2000,
          2600,
          2500,
          2900,
          1600,
          2100,
          2200,
          2700,
          1700,
          2000,
          2800,
          2100,
          1300,
          1700,
          2300,
          2600,
          1400,
          2400,
          2200,
          2600,
          1600,
          2200,
          2900,
          2100,
          1600,
          2200,
          3500,
          2300,
          1500,
          2400,
          1700,
          1100,
          700
         ],
         "yaxis": "y"
        },
        {
         "hovertemplate": "NACE2007=58-63<br>kvartal=%{x}<br>Ledige stillingar=%{y}<extra></extra>",
         "legendgroup": "58-63",
         "line": {
          "color": "#FF97FF",
          "dash": "solid"
         },
         "mode": "lines",
         "name": "58-63",
         "orientation": "v",
         "showlegend": true,
         "type": "scatter",
         "x": [
          "2011K1",
          "2011K2",
          "2011K3",
          "2011K4",
          "2012K1",
          "2012K2",
          "2012K3",
          "2012K4",
          "2013K1",
          "2013K2",
          "2013K3",
          "2013K4",
          "2014K1",
          "2014K2",
          "2014K3",
          "2014K4",
          "2015K1",
          "2015K2",
          "2015K3",
          "2015K4",
          "2016K1",
          "2016K2",
          "2016K3",
          "2016K4",
          "2017K1",
          "2017K2",
          "2017K3",
          "2017K4",
          "2018K1",
          "2018K2",
          "2018K3",
          "2018K4",
          "2019K1",
          "2019K2",
          "2019K3",
          "2019K4",
          "2020K1",
          "2020K2",
          "2020K3",
          "2020K4"
         ],
         "xaxis": "x",
         "y": [
          3500,
          3400,
          2800,
          2600,
          3600,
          3500,
          3100,
          2800,
          3200,
          3500,
          2900,
          2500,
          3000,
          3000,
          2300,
          2800,
          2400,
          2200,
          1800,
          2000,
          2500,
          2700,
          2700,
          3000,
          2900,
          2700,
          3000,
          3000,
          3500,
          3500,
          4000,
          4000,
          4700,
          4800,
          4800,
          4500,
          5000,
          3200,
          3500,
          4500
         ],
         "yaxis": "y"
        },
        {
         "hovertemplate": "NACE2007=64-66<br>kvartal=%{x}<br>Ledige stillingar=%{y}<extra></extra>",
         "legendgroup": "64-66",
         "line": {
          "color": "#FECB52",
          "dash": "solid"
         },
         "mode": "lines",
         "name": "64-66",
         "orientation": "v",
         "showlegend": true,
         "type": "scatter",
         "x": [
          "2011K1",
          "2011K2",
          "2011K3",
          "2011K4",
          "2012K1",
          "2012K2",
          "2012K3",
          "2012K4",
          "2013K1",
          "2013K2",
          "2013K3",
          "2013K4",
          "2014K1",
          "2014K2",
          "2014K3",
          "2014K4",
          "2015K1",
          "2015K2",
          "2015K3",
          "2015K4",
          "2016K1",
          "2016K2",
          "2016K3",
          "2016K4",
          "2017K1",
          "2017K2",
          "2017K3",
          "2017K4",
          "2018K1",
          "2018K2",
          "2018K3",
          "2018K4",
          "2019K1",
          "2019K2",
          "2019K3",
          "2019K4",
          "2020K1",
          "2020K2",
          "2020K3",
          "2020K4"
         ],
         "xaxis": "x",
         "y": [
          1300,
          1500,
          900,
          800,
          800,
          700,
          600,
          700,
          600,
          700,
          700,
          600,
          700,
          700,
          500,
          600,
          800,
          700,
          500,
          600,
          800,
          600,
          800,
          600,
          800,
          900,
          800,
          1000,
          900,
          1000,
          800,
          1000,
          800,
          1000,
          800,
          800,
          1300,
          800,
          800,
          800
         ],
         "yaxis": "y"
        },
        {
         "hovertemplate": "NACE2007=68<br>kvartal=%{x}<br>Ledige stillingar=%{y}<extra></extra>",
         "legendgroup": "68",
         "line": {
          "color": "#636efa",
          "dash": "solid"
         },
         "mode": "lines",
         "name": "68",
         "orientation": "v",
         "showlegend": true,
         "type": "scatter",
         "x": [
          "2011K1",
          "2011K2",
          "2011K3",
          "2011K4",
          "2012K1",
          "2012K2",
          "2012K3",
          "2012K4",
          "2013K1",
          "2013K2",
          "2013K3",
          "2013K4",
          "2014K1",
          "2014K2",
          "2014K3",
          "2014K4",
          "2015K1",
          "2015K2",
          "2015K3",
          "2015K4",
          "2016K1",
          "2016K2",
          "2016K3",
          "2016K4",
          "2017K1",
          "2017K2",
          "2017K3",
          "2017K4",
          "2018K1",
          "2018K2",
          "2018K3",
          "2018K4",
          "2019K1",
          "2019K2",
          "2019K3",
          "2019K4",
          "2020K1",
          "2020K2",
          "2020K3",
          "2020K4"
         ],
         "xaxis": "x",
         "y": [
          700,
          800,
          700,
          900,
          600,
          600,
          500,
          600,
          500,
          600,
          400,
          300,
          400,
          300,
          200,
          300,
          600,
          600,
          400,
          400,
          400,
          500,
          1100,
          500,
          400,
          600,
          800,
          500,
          400,
          400,
          400,
          500,
          600,
          700,
          700,
          600,
          600,
          600,
          600,
          700
         ],
         "yaxis": "y"
        },
        {
         "hovertemplate": "NACE2007=69-75<br>kvartal=%{x}<br>Ledige stillingar=%{y}<extra></extra>",
         "legendgroup": "69-75",
         "line": {
          "color": "#EF553B",
          "dash": "solid"
         },
         "mode": "lines",
         "name": "69-75",
         "orientation": "v",
         "showlegend": true,
         "type": "scatter",
         "x": [
          "2011K1",
          "2011K2",
          "2011K3",
          "2011K4",
          "2012K1",
          "2012K2",
          "2012K3",
          "2012K4",
          "2013K1",
          "2013K2",
          "2013K3",
          "2013K4",
          "2014K1",
          "2014K2",
          "2014K3",
          "2014K4",
          "2015K1",
          "2015K2",
          "2015K3",
          "2015K4",
          "2016K1",
          "2016K2",
          "2016K3",
          "2016K4",
          "2017K1",
          "2017K2",
          "2017K3",
          "2017K4",
          "2018K1",
          "2018K2",
          "2018K3",
          "2018K4",
          "2019K1",
          "2019K2",
          "2019K3",
          "2019K4",
          "2020K1",
          "2020K2",
          "2020K3",
          "2020K4"
         ],
         "xaxis": "x",
         "y": [
          5200,
          4600,
          4500,
          5500,
          4000,
          4800,
          3700,
          3700,
          3600,
          3600,
          3700,
          3600,
          3100,
          3500,
          2800,
          2900,
          3400,
          2800,
          2000,
          2600,
          5000,
          2900,
          3300,
          2900,
          3300,
          4200,
          4500,
          5300,
          4800,
          4700,
          4200,
          4000,
          4700,
          5100,
          5300,
          4200,
          4300,
          3100,
          4300,
          4500
         ],
         "yaxis": "y"
        },
        {
         "hovertemplate": "NACE2007=77-82<br>kvartal=%{x}<br>Ledige stillingar=%{y}<extra></extra>",
         "legendgroup": "77-82",
         "line": {
          "color": "#00cc96",
          "dash": "solid"
         },
         "mode": "lines",
         "name": "77-82",
         "orientation": "v",
         "showlegend": true,
         "type": "scatter",
         "x": [
          "2011K1",
          "2011K2",
          "2011K3",
          "2011K4",
          "2012K1",
          "2012K2",
          "2012K3",
          "2012K4",
          "2013K1",
          "2013K2",
          "2013K3",
          "2013K4",
          "2014K1",
          "2014K2",
          "2014K3",
          "2014K4",
          "2015K1",
          "2015K2",
          "2015K3",
          "2015K4",
          "2016K1",
          "2016K2",
          "2016K3",
          "2016K4",
          "2017K1",
          "2017K2",
          "2017K3",
          "2017K4",
          "2018K1",
          "2018K2",
          "2018K3",
          "2018K4",
          "2019K1",
          "2019K2",
          "2019K3",
          "2019K4",
          "2020K1",
          "2020K2",
          "2020K3",
          "2020K4"
         ],
         "xaxis": "x",
         "y": [
          9400,
          10700,
          9300,
          8000,
          10800,
          9900,
          9200,
          9000,
          10200,
          9100,
          7800,
          6900,
          8900,
          9500,
          7800,
          8800,
          7300,
          6300,
          4900,
          5100,
          6200,
          5100,
          5000,
          5300,
          6400,
          6300,
          4900,
          5800,
          7200,
          8000,
          6700,
          5800,
          8800,
          8200,
          6900,
          6300,
          6200,
          4000,
          5200,
          4300
         ],
         "yaxis": "y"
        },
        {
         "hovertemplate": "NACE2007=84<br>kvartal=%{x}<br>Ledige stillingar=%{y}<extra></extra>",
         "legendgroup": "84",
         "line": {
          "color": "#ab63fa",
          "dash": "solid"
         },
         "mode": "lines",
         "name": "84",
         "orientation": "v",
         "showlegend": true,
         "type": "scatter",
         "x": [
          "2011K1",
          "2011K2",
          "2011K3",
          "2011K4",
          "2012K1",
          "2012K2",
          "2012K3",
          "2012K4",
          "2013K1",
          "2013K2",
          "2013K3",
          "2013K4",
          "2014K1",
          "2014K2",
          "2014K3",
          "2014K4",
          "2015K1",
          "2015K2",
          "2015K3",
          "2015K4",
          "2016K1",
          "2016K2",
          "2016K3",
          "2016K4",
          "2017K1",
          "2017K2",
          "2017K3",
          "2017K4",
          "2018K1",
          "2018K2",
          "2018K3",
          "2018K4",
          "2019K1",
          "2019K2",
          "2019K3",
          "2019K4",
          "2020K1",
          "2020K2",
          "2020K3",
          "2020K4"
         ],
         "xaxis": "x",
         "y": [
          3900,
          3400,
          3300,
          3300,
          4500,
          4000,
          3800,
          4000,
          3300,
          3900,
          2800,
          2800,
          4200,
          3600,
          2600,
          2700,
          3300,
          3200,
          3900,
          3600,
          3400,
          3200,
          2700,
          3400,
          4000,
          3400,
          2800,
          3100,
          4000,
          4100,
          3600,
          3700,
          4100,
          4000,
          3900,
          4100,
          3800,
          3700,
          4800,
          4800
         ],
         "yaxis": "y"
        },
        {
         "hovertemplate": "NACE2007=85<br>kvartal=%{x}<br>Ledige stillingar=%{y}<extra></extra>",
         "legendgroup": "85",
         "line": {
          "color": "#FFA15A",
          "dash": "solid"
         },
         "mode": "lines",
         "name": "85",
         "orientation": "v",
         "showlegend": true,
         "type": "scatter",
         "x": [
          "2011K1",
          "2011K2",
          "2011K3",
          "2011K4",
          "2012K1",
          "2012K2",
          "2012K3",
          "2012K4",
          "2013K1",
          "2013K2",
          "2013K3",
          "2013K4",
          "2014K1",
          "2014K2",
          "2014K3",
          "2014K4",
          "2015K1",
          "2015K2",
          "2015K3",
          "2015K4",
          "2016K1",
          "2016K2",
          "2016K3",
          "2016K4",
          "2017K1",
          "2017K2",
          "2017K3",
          "2017K4",
          "2018K1",
          "2018K2",
          "2018K3",
          "2018K4",
          "2019K1",
          "2019K2",
          "2019K3",
          "2019K4",
          "2020K1",
          "2020K2",
          "2020K3",
          "2020K4"
         ],
         "xaxis": "x",
         "y": [
          2700,
          5100,
          2600,
          2200,
          4100,
          6900,
          2500,
          2400,
          3800,
          6000,
          2200,
          2500,
          2900,
          5800,
          2800,
          2300,
          3700,
          7800,
          2500,
          2400,
          3500,
          5200,
          2000,
          2900,
          4900,
          6700,
          2700,
          2900,
          4200,
          8000,
          2800,
          3100,
          4900,
          8000,
          3000,
          3400,
          5500,
          6600,
          3300,
          3500
         ],
         "yaxis": "y"
        },
        {
         "hovertemplate": "NACE2007=86<br>kvartal=%{x}<br>Ledige stillingar=%{y}<extra></extra>",
         "legendgroup": "86",
         "line": {
          "color": "#19d3f3",
          "dash": "solid"
         },
         "mode": "lines",
         "name": "86",
         "orientation": "v",
         "showlegend": true,
         "type": "scatter",
         "x": [
          "2011K1",
          "2011K2",
          "2011K3",
          "2011K4",
          "2012K1",
          "2012K2",
          "2012K3",
          "2012K4",
          "2013K1",
          "2013K2",
          "2013K3",
          "2013K4",
          "2014K1",
          "2014K2",
          "2014K3",
          "2014K4",
          "2015K1",
          "2015K2",
          "2015K3",
          "2015K4",
          "2016K1",
          "2016K2",
          "2016K3",
          "2016K4",
          "2017K1",
          "2017K2",
          "2017K3",
          "2017K4",
          "2018K1",
          "2018K2",
          "2018K3",
          "2018K4",
          "2019K1",
          "2019K2",
          "2019K3",
          "2019K4",
          "2020K1",
          "2020K2",
          "2020K3",
          "2020K4"
         ],
         "xaxis": "x",
         "y": [
          3700,
          4600,
          3600,
          3600,
          4000,
          4500,
          4000,
          3900,
          4700,
          5300,
          4300,
          3800,
          5200,
          4100,
          4700,
          5900,
          4700,
          4400,
          4600,
          3800,
          4700,
          5200,
          5800,
          4200,
          5600,
          5100,
          4700,
          5700,
          6100,
          6100,
          6100,
          5800,
          6800,
          6000,
          6100,
          5400,
          6700,
          6700,
          4900,
          6000
         ],
         "yaxis": "y"
        },
        {
         "hovertemplate": "NACE2007=87<br>kvartal=%{x}<br>Ledige stillingar=%{y}<extra></extra>",
         "legendgroup": "87",
         "line": {
          "color": "#FF6692",
          "dash": "solid"
         },
         "mode": "lines",
         "name": "87",
         "orientation": "v",
         "showlegend": true,
         "type": "scatter",
         "x": [
          "2011K1",
          "2011K2",
          "2011K3",
          "2011K4",
          "2012K1",
          "2012K2",
          "2012K3",
          "2012K4",
          "2013K1",
          "2013K2",
          "2013K3",
          "2013K4",
          "2014K1",
          "2014K2",
          "2014K3",
          "2014K4",
          "2015K1",
          "2015K2",
          "2015K3",
          "2015K4",
          "2016K1",
          "2016K2",
          "2016K3",
          "2016K4",
          "2017K1",
          "2017K2",
          "2017K3",
          "2017K4",
          "2018K1",
          "2018K2",
          "2018K3",
          "2018K4",
          "2019K1",
          "2019K2",
          "2019K3",
          "2019K4",
          "2020K1",
          "2020K2",
          "2020K3",
          "2020K4"
         ],
         "xaxis": "x",
         "y": [
          8500,
          8400,
          8400,
          8100,
          6600,
          6000,
          4700,
          4900,
          7200,
          6800,
          7700,
          5700,
          7400,
          7300,
          8000,
          7900,
          9300,
          7300,
          8500,
          7200,
          7000,
          7000,
          7300,
          5900,
          5800,
          6700,
          7100,
          6900,
          7800,
          8400,
          9400,
          7700,
          6900,
          6300,
          5900,
          6900,
          6800,
          4700,
          7600,
          7900
         ],
         "yaxis": "y"
        },
        {
         "hovertemplate": "NACE2007=88<br>kvartal=%{x}<br>Ledige stillingar=%{y}<extra></extra>",
         "legendgroup": "88",
         "line": {
          "color": "#B6E880",
          "dash": "solid"
         },
         "mode": "lines",
         "name": "88",
         "orientation": "v",
         "showlegend": true,
         "type": "scatter",
         "x": [
          "2011K1",
          "2011K2",
          "2011K3",
          "2011K4",
          "2012K1",
          "2012K2",
          "2012K3",
          "2012K4",
          "2013K1",
          "2013K2",
          "2013K3",
          "2013K4",
          "2014K1",
          "2014K2",
          "2014K3",
          "2014K4",
          "2015K1",
          "2015K2",
          "2015K3",
          "2015K4",
          "2016K1",
          "2016K2",
          "2016K3",
          "2016K4",
          "2017K1",
          "2017K2",
          "2017K3",
          "2017K4",
          "2018K1",
          "2018K2",
          "2018K3",
          "2018K4",
          "2019K1",
          "2019K2",
          "2019K3",
          "2019K4",
          "2020K1",
          "2020K2",
          "2020K3",
          "2020K4"
         ],
         "xaxis": "x",
         "y": [
          4800,
          6700,
          4000,
          4400,
          3400,
          6100,
          4100,
          4100,
          4700,
          5800,
          3600,
          3200,
          3900,
          5300,
          2500,
          3500,
          6200,
          4700,
          3000,
          3300,
          4500,
          5000,
          4200,
          5100,
          3000,
          7200,
          4000,
          3700,
          3900,
          4700,
          4500,
          2900,
          4700,
          6500,
          3900,
          3900,
          5800,
          6800,
          4300,
          3700
         ],
         "yaxis": "y"
        },
        {
         "hovertemplate": "NACE2007=90-93<br>kvartal=%{x}<br>Ledige stillingar=%{y}<extra></extra>",
         "legendgroup": "90-93",
         "line": {
          "color": "#FF97FF",
          "dash": "solid"
         },
         "mode": "lines",
         "name": "90-93",
         "orientation": "v",
         "showlegend": true,
         "type": "scatter",
         "x": [
          "2011K1",
          "2011K2",
          "2011K3",
          "2011K4",
          "2012K1",
          "2012K2",
          "2012K3",
          "2012K4",
          "2013K1",
          "2013K2",
          "2013K3",
          "2013K4",
          "2014K1",
          "2014K2",
          "2014K3",
          "2014K4",
          "2015K1",
          "2015K2",
          "2015K3",
          "2015K4",
          "2016K1",
          "2016K2",
          "2016K3",
          "2016K4",
          "2017K1",
          "2017K2",
          "2017K3",
          "2017K4",
          "2018K1",
          "2018K2",
          "2018K3",
          "2018K4",
          "2019K1",
          "2019K2",
          "2019K3",
          "2019K4",
          "2020K1",
          "2020K2",
          "2020K3",
          "2020K4"
         ],
         "xaxis": "x",
         "y": [
          500,
          600,
          500,
          600,
          600,
          500,
          700,
          400,
          800,
          500,
          600,
          1200,
          600,
          700,
          900,
          700,
          600,
          500,
          400,
          500,
          1100,
          700,
          700,
          900,
          1100,
          1100,
          1100,
          700,
          800,
          1200,
          800,
          600,
          1400,
          1100,
          800,
          800,
          1600,
          900,
          600,
          1300
         ],
         "yaxis": "y"
        },
        {
         "hovertemplate": "NACE2007=94-96<br>kvartal=%{x}<br>Ledige stillingar=%{y}<extra></extra>",
         "legendgroup": "94-96",
         "line": {
          "color": "#FECB52",
          "dash": "solid"
         },
         "mode": "lines",
         "name": "94-96",
         "orientation": "v",
         "showlegend": true,
         "type": "scatter",
         "x": [
          "2011K1",
          "2011K2",
          "2011K3",
          "2011K4",
          "2012K1",
          "2012K2",
          "2012K3",
          "2012K4",
          "2013K1",
          "2013K2",
          "2013K3",
          "2013K4",
          "2014K1",
          "2014K2",
          "2014K3",
          "2014K4",
          "2015K1",
          "2015K2",
          "2015K3",
          "2015K4",
          "2016K1",
          "2016K2",
          "2016K3",
          "2016K4",
          "2017K1",
          "2017K2",
          "2017K3",
          "2017K4",
          "2018K1",
          "2018K2",
          "2018K3",
          "2018K4",
          "2019K1",
          "2019K2",
          "2019K3",
          "2019K4",
          "2020K1",
          "2020K2",
          "2020K3",
          "2020K4"
         ],
         "xaxis": "x",
         "y": [
          1000,
          900,
          1300,
          1000,
          1100,
          1000,
          900,
          1000,
          1600,
          1500,
          1100,
          1100,
          900,
          1000,
          600,
          800,
          1500,
          1400,
          1200,
          800,
          1100,
          1500,
          800,
          800,
          1300,
          1400,
          1100,
          1000,
          1200,
          1100,
          1100,
          1200,
          1300,
          1400,
          1000,
          1200,
          1000,
          1200,
          1000,
          1100
         ],
         "yaxis": "y"
        }
       ],
       "layout": {
        "legend": {
         "title": {
          "text": "NACE2007"
         },
         "tracegroupgap": 0
        },
        "margin": {
         "t": 60
        },
        "template": {
         "data": {
          "bar": [
           {
            "error_x": {
             "color": "#2a3f5f"
            },
            "error_y": {
             "color": "#2a3f5f"
            },
            "marker": {
             "line": {
              "color": "#E5ECF6",
              "width": 0.5
             }
            },
            "type": "bar"
           }
          ],
          "barpolar": [
           {
            "marker": {
             "line": {
              "color": "#E5ECF6",
              "width": 0.5
             }
            },
            "type": "barpolar"
           }
          ],
          "carpet": [
           {
            "aaxis": {
             "endlinecolor": "#2a3f5f",
             "gridcolor": "white",
             "linecolor": "white",
             "minorgridcolor": "white",
             "startlinecolor": "#2a3f5f"
            },
            "baxis": {
             "endlinecolor": "#2a3f5f",
             "gridcolor": "white",
             "linecolor": "white",
             "minorgridcolor": "white",
             "startlinecolor": "#2a3f5f"
            },
            "type": "carpet"
           }
          ],
          "choropleth": [
           {
            "colorbar": {
             "outlinewidth": 0,
             "ticks": ""
            },
            "type": "choropleth"
           }
          ],
          "contour": [
           {
            "colorbar": {
             "outlinewidth": 0,
             "ticks": ""
            },
            "colorscale": [
             [
              0,
              "#0d0887"
             ],
             [
              0.1111111111111111,
              "#46039f"
             ],
             [
              0.2222222222222222,
              "#7201a8"
             ],
             [
              0.3333333333333333,
              "#9c179e"
             ],
             [
              0.4444444444444444,
              "#bd3786"
             ],
             [
              0.5555555555555556,
              "#d8576b"
             ],
             [
              0.6666666666666666,
              "#ed7953"
             ],
             [
              0.7777777777777778,
              "#fb9f3a"
             ],
             [
              0.8888888888888888,
              "#fdca26"
             ],
             [
              1,
              "#f0f921"
             ]
            ],
            "type": "contour"
           }
          ],
          "contourcarpet": [
           {
            "colorbar": {
             "outlinewidth": 0,
             "ticks": ""
            },
            "type": "contourcarpet"
           }
          ],
          "heatmap": [
           {
            "colorbar": {
             "outlinewidth": 0,
             "ticks": ""
            },
            "colorscale": [
             [
              0,
              "#0d0887"
             ],
             [
              0.1111111111111111,
              "#46039f"
             ],
             [
              0.2222222222222222,
              "#7201a8"
             ],
             [
              0.3333333333333333,
              "#9c179e"
             ],
             [
              0.4444444444444444,
              "#bd3786"
             ],
             [
              0.5555555555555556,
              "#d8576b"
             ],
             [
              0.6666666666666666,
              "#ed7953"
             ],
             [
              0.7777777777777778,
              "#fb9f3a"
             ],
             [
              0.8888888888888888,
              "#fdca26"
             ],
             [
              1,
              "#f0f921"
             ]
            ],
            "type": "heatmap"
           }
          ],
          "heatmapgl": [
           {
            "colorbar": {
             "outlinewidth": 0,
             "ticks": ""
            },
            "colorscale": [
             [
              0,
              "#0d0887"
             ],
             [
              0.1111111111111111,
              "#46039f"
             ],
             [
              0.2222222222222222,
              "#7201a8"
             ],
             [
              0.3333333333333333,
              "#9c179e"
             ],
             [
              0.4444444444444444,
              "#bd3786"
             ],
             [
              0.5555555555555556,
              "#d8576b"
             ],
             [
              0.6666666666666666,
              "#ed7953"
             ],
             [
              0.7777777777777778,
              "#fb9f3a"
             ],
             [
              0.8888888888888888,
              "#fdca26"
             ],
             [
              1,
              "#f0f921"
             ]
            ],
            "type": "heatmapgl"
           }
          ],
          "histogram": [
           {
            "marker": {
             "colorbar": {
              "outlinewidth": 0,
              "ticks": ""
             }
            },
            "type": "histogram"
           }
          ],
          "histogram2d": [
           {
            "colorbar": {
             "outlinewidth": 0,
             "ticks": ""
            },
            "colorscale": [
             [
              0,
              "#0d0887"
             ],
             [
              0.1111111111111111,
              "#46039f"
             ],
             [
              0.2222222222222222,
              "#7201a8"
             ],
             [
              0.3333333333333333,
              "#9c179e"
             ],
             [
              0.4444444444444444,
              "#bd3786"
             ],
             [
              0.5555555555555556,
              "#d8576b"
             ],
             [
              0.6666666666666666,
              "#ed7953"
             ],
             [
              0.7777777777777778,
              "#fb9f3a"
             ],
             [
              0.8888888888888888,
              "#fdca26"
             ],
             [
              1,
              "#f0f921"
             ]
            ],
            "type": "histogram2d"
           }
          ],
          "histogram2dcontour": [
           {
            "colorbar": {
             "outlinewidth": 0,
             "ticks": ""
            },
            "colorscale": [
             [
              0,
              "#0d0887"
             ],
             [
              0.1111111111111111,
              "#46039f"
             ],
             [
              0.2222222222222222,
              "#7201a8"
             ],
             [
              0.3333333333333333,
              "#9c179e"
             ],
             [
              0.4444444444444444,
              "#bd3786"
             ],
             [
              0.5555555555555556,
              "#d8576b"
             ],
             [
              0.6666666666666666,
              "#ed7953"
             ],
             [
              0.7777777777777778,
              "#fb9f3a"
             ],
             [
              0.8888888888888888,
              "#fdca26"
             ],
             [
              1,
              "#f0f921"
             ]
            ],
            "type": "histogram2dcontour"
           }
          ],
          "mesh3d": [
           {
            "colorbar": {
             "outlinewidth": 0,
             "ticks": ""
            },
            "type": "mesh3d"
           }
          ],
          "parcoords": [
           {
            "line": {
             "colorbar": {
              "outlinewidth": 0,
              "ticks": ""
             }
            },
            "type": "parcoords"
           }
          ],
          "pie": [
           {
            "automargin": true,
            "type": "pie"
           }
          ],
          "scatter": [
           {
            "marker": {
             "colorbar": {
              "outlinewidth": 0,
              "ticks": ""
             }
            },
            "type": "scatter"
           }
          ],
          "scatter3d": [
           {
            "line": {
             "colorbar": {
              "outlinewidth": 0,
              "ticks": ""
             }
            },
            "marker": {
             "colorbar": {
              "outlinewidth": 0,
              "ticks": ""
             }
            },
            "type": "scatter3d"
           }
          ],
          "scattercarpet": [
           {
            "marker": {
             "colorbar": {
              "outlinewidth": 0,
              "ticks": ""
             }
            },
            "type": "scattercarpet"
           }
          ],
          "scattergeo": [
           {
            "marker": {
             "colorbar": {
              "outlinewidth": 0,
              "ticks": ""
             }
            },
            "type": "scattergeo"
           }
          ],
          "scattergl": [
           {
            "marker": {
             "colorbar": {
              "outlinewidth": 0,
              "ticks": ""
             }
            },
            "type": "scattergl"
           }
          ],
          "scattermapbox": [
           {
            "marker": {
             "colorbar": {
              "outlinewidth": 0,
              "ticks": ""
             }
            },
            "type": "scattermapbox"
           }
          ],
          "scatterpolar": [
           {
            "marker": {
             "colorbar": {
              "outlinewidth": 0,
              "ticks": ""
             }
            },
            "type": "scatterpolar"
           }
          ],
          "scatterpolargl": [
           {
            "marker": {
             "colorbar": {
              "outlinewidth": 0,
              "ticks": ""
             }
            },
            "type": "scatterpolargl"
           }
          ],
          "scatterternary": [
           {
            "marker": {
             "colorbar": {
              "outlinewidth": 0,
              "ticks": ""
             }
            },
            "type": "scatterternary"
           }
          ],
          "surface": [
           {
            "colorbar": {
             "outlinewidth": 0,
             "ticks": ""
            },
            "colorscale": [
             [
              0,
              "#0d0887"
             ],
             [
              0.1111111111111111,
              "#46039f"
             ],
             [
              0.2222222222222222,
              "#7201a8"
             ],
             [
              0.3333333333333333,
              "#9c179e"
             ],
             [
              0.4444444444444444,
              "#bd3786"
             ],
             [
              0.5555555555555556,
              "#d8576b"
             ],
             [
              0.6666666666666666,
              "#ed7953"
             ],
             [
              0.7777777777777778,
              "#fb9f3a"
             ],
             [
              0.8888888888888888,
              "#fdca26"
             ],
             [
              1,
              "#f0f921"
             ]
            ],
            "type": "surface"
           }
          ],
          "table": [
           {
            "cells": {
             "fill": {
              "color": "#EBF0F8"
             },
             "line": {
              "color": "white"
             }
            },
            "header": {
             "fill": {
              "color": "#C8D4E3"
             },
             "line": {
              "color": "white"
             }
            },
            "type": "table"
           }
          ]
         },
         "layout": {
          "annotationdefaults": {
           "arrowcolor": "#2a3f5f",
           "arrowhead": 0,
           "arrowwidth": 1
          },
          "autotypenumbers": "strict",
          "coloraxis": {
           "colorbar": {
            "outlinewidth": 0,
            "ticks": ""
           }
          },
          "colorscale": {
           "diverging": [
            [
             0,
             "#8e0152"
            ],
            [
             0.1,
             "#c51b7d"
            ],
            [
             0.2,
             "#de77ae"
            ],
            [
             0.3,
             "#f1b6da"
            ],
            [
             0.4,
             "#fde0ef"
            ],
            [
             0.5,
             "#f7f7f7"
            ],
            [
             0.6,
             "#e6f5d0"
            ],
            [
             0.7,
             "#b8e186"
            ],
            [
             0.8,
             "#7fbc41"
            ],
            [
             0.9,
             "#4d9221"
            ],
            [
             1,
             "#276419"
            ]
           ],
           "sequential": [
            [
             0,
             "#0d0887"
            ],
            [
             0.1111111111111111,
             "#46039f"
            ],
            [
             0.2222222222222222,
             "#7201a8"
            ],
            [
             0.3333333333333333,
             "#9c179e"
            ],
            [
             0.4444444444444444,
             "#bd3786"
            ],
            [
             0.5555555555555556,
             "#d8576b"
            ],
            [
             0.6666666666666666,
             "#ed7953"
            ],
            [
             0.7777777777777778,
             "#fb9f3a"
            ],
            [
             0.8888888888888888,
             "#fdca26"
            ],
            [
             1,
             "#f0f921"
            ]
           ],
           "sequentialminus": [
            [
             0,
             "#0d0887"
            ],
            [
             0.1111111111111111,
             "#46039f"
            ],
            [
             0.2222222222222222,
             "#7201a8"
            ],
            [
             0.3333333333333333,
             "#9c179e"
            ],
            [
             0.4444444444444444,
             "#bd3786"
            ],
            [
             0.5555555555555556,
             "#d8576b"
            ],
            [
             0.6666666666666666,
             "#ed7953"
            ],
            [
             0.7777777777777778,
             "#fb9f3a"
            ],
            [
             0.8888888888888888,
             "#fdca26"
            ],
            [
             1,
             "#f0f921"
            ]
           ]
          },
          "colorway": [
           "#636efa",
           "#EF553B",
           "#00cc96",
           "#ab63fa",
           "#FFA15A",
           "#19d3f3",
           "#FF6692",
           "#B6E880",
           "#FF97FF",
           "#FECB52"
          ],
          "font": {
           "color": "#2a3f5f"
          },
          "geo": {
           "bgcolor": "white",
           "lakecolor": "white",
           "landcolor": "#E5ECF6",
           "showlakes": true,
           "showland": true,
           "subunitcolor": "white"
          },
          "hoverlabel": {
           "align": "left"
          },
          "hovermode": "closest",
          "mapbox": {
           "style": "light"
          },
          "paper_bgcolor": "white",
          "plot_bgcolor": "#E5ECF6",
          "polar": {
           "angularaxis": {
            "gridcolor": "white",
            "linecolor": "white",
            "ticks": ""
           },
           "bgcolor": "#E5ECF6",
           "radialaxis": {
            "gridcolor": "white",
            "linecolor": "white",
            "ticks": ""
           }
          },
          "scene": {
           "xaxis": {
            "backgroundcolor": "#E5ECF6",
            "gridcolor": "white",
            "gridwidth": 2,
            "linecolor": "white",
            "showbackground": true,
            "ticks": "",
            "zerolinecolor": "white"
           },
           "yaxis": {
            "backgroundcolor": "#E5ECF6",
            "gridcolor": "white",
            "gridwidth": 2,
            "linecolor": "white",
            "showbackground": true,
            "ticks": "",
            "zerolinecolor": "white"
           },
           "zaxis": {
            "backgroundcolor": "#E5ECF6",
            "gridcolor": "white",
            "gridwidth": 2,
            "linecolor": "white",
            "showbackground": true,
            "ticks": "",
            "zerolinecolor": "white"
           }
          },
          "shapedefaults": {
           "line": {
            "color": "#2a3f5f"
           }
          },
          "ternary": {
           "aaxis": {
            "gridcolor": "white",
            "linecolor": "white",
            "ticks": ""
           },
           "baxis": {
            "gridcolor": "white",
            "linecolor": "white",
            "ticks": ""
           },
           "bgcolor": "#E5ECF6",
           "caxis": {
            "gridcolor": "white",
            "linecolor": "white",
            "ticks": ""
           }
          },
          "title": {
           "x": 0.05
          },
          "xaxis": {
           "automargin": true,
           "gridcolor": "white",
           "linecolor": "white",
           "ticks": "",
           "title": {
            "standoff": 15
           },
           "zerolinecolor": "white",
           "zerolinewidth": 2
          },
          "yaxis": {
           "automargin": true,
           "gridcolor": "white",
           "linecolor": "white",
           "ticks": "",
           "title": {
            "standoff": 15
           },
           "zerolinecolor": "white",
           "zerolinewidth": 2
          }
         }
        },
        "xaxis": {
         "anchor": "y",
         "domain": [
          0,
          1
         ],
         "title": {
          "text": "kvartal"
         }
        },
        "yaxis": {
         "anchor": "x",
         "domain": [
          0,
          1
         ],
         "title": {
          "text": "Ledige stillingar"
         }
        }
       }
      },
      "text/html": [
       "<div>                            <div id=\"7c0c68bb-baba-4b7f-89f9-4f8d08a9cec1\" class=\"plotly-graph-div\" style=\"height:525px; width:100%;\"></div>            <script type=\"text/javascript\">                require([\"plotly\"], function(Plotly) {                    window.PLOTLYENV=window.PLOTLYENV || {};                                    if (document.getElementById(\"7c0c68bb-baba-4b7f-89f9-4f8d08a9cec1\")) {                    Plotly.newPlot(                        \"7c0c68bb-baba-4b7f-89f9-4f8d08a9cec1\",                        [{\"hovertemplate\": \"NACE2007=01-03<br>kvartal=%{x}<br>Ledige stillingar=%{y}<extra></extra>\", \"legendgroup\": \"01-03\", \"line\": {\"color\": \"#636efa\", \"dash\": \"solid\"}, \"mode\": \"lines\", \"name\": \"01-03\", \"orientation\": \"v\", \"showlegend\": true, \"type\": \"scatter\", \"x\": [\"2011K1\", \"2011K2\", \"2011K3\", \"2011K4\", \"2012K1\", \"2012K2\", \"2012K3\", \"2012K4\", \"2013K1\", \"2013K2\", \"2013K3\", \"2013K4\", \"2014K1\", \"2014K2\", \"2014K3\", \"2014K4\", \"2015K1\", \"2015K2\", \"2015K3\", \"2015K4\", \"2016K1\", \"2016K2\", \"2016K3\", \"2016K4\", \"2017K1\", \"2017K2\", \"2017K3\", \"2017K4\", \"2018K1\", \"2018K2\", \"2018K3\", \"2018K4\", \"2019K1\", \"2019K2\", \"2019K3\", \"2019K4\", \"2020K1\", \"2020K2\", \"2020K3\", \"2020K4\"], \"xaxis\": \"x\", \"y\": [600.0, 500.0, 900.0, 500.0, 400.0, 300.0, 200.0, 200.0, 300.0, 700.0, 300.0, 200.0, 300.0, 400.0, 400.0, 200.0, 300.0, 500.0, 200.0, 200.0, 200.0, 300.0, 100.0, 300.0, 400.0, 300.0, 400.0, 200.0, 700.0, 400.0, 300.0, 400.0, 700.0, 400.0, 700.0, 500.0, 600.0, 300.0, 300.0, 400.0], \"yaxis\": \"y\"}, {\"hovertemplate\": \"NACE2007=05-09<br>kvartal=%{x}<br>Ledige stillingar=%{y}<extra></extra>\", \"legendgroup\": \"05-09\", \"line\": {\"color\": \"#EF553B\", \"dash\": \"solid\"}, \"mode\": \"lines\", \"name\": \"05-09\", \"orientation\": \"v\", \"showlegend\": true, \"type\": \"scatter\", \"x\": [\"2011K1\", \"2011K2\", \"2011K3\", \"2011K4\", \"2012K1\", \"2012K2\", \"2012K3\", \"2012K4\", \"2013K1\", \"2013K2\", \"2013K3\", \"2013K4\", \"2014K1\", \"2014K2\", \"2014K3\", \"2014K4\", \"2015K1\", \"2015K2\", \"2015K3\", \"2015K4\", \"2016K1\", \"2016K2\", \"2016K3\", \"2016K4\", \"2017K1\", \"2017K2\", \"2017K3\", \"2017K4\", \"2018K1\", \"2018K2\", \"2018K3\", \"2018K4\", \"2019K1\", \"2019K2\", \"2019K3\", \"2019K4\", \"2020K1\", \"2020K2\", \"2020K3\", \"2020K4\"], \"xaxis\": \"x\", \"y\": [1800.0, 2000.0, 1800.0, 2200.0, 2200.0, 2500.0, 2100.0, 2000.0, 1900.0, 2100.0, 1700.0, 1400.0, 1700.0, 1700.0, 1200.0, 1000.0, 600.0, 600.0, 600.0, 400.0, 300.0, 200.0, 300.0, 500.0, 400.0, 500.0, 600.0, 1000.0, 1400.0, 1300.0, 1400.0, 1800.0, 1500.0, 1500.0, 1100.0, 1400.0, 900.0, 300.0, 600.0, 700.0], \"yaxis\": \"y\"}, {\"hovertemplate\": \"NACE2007=10-33<br>kvartal=%{x}<br>Ledige stillingar=%{y}<extra></extra>\", \"legendgroup\": \"10-33\", \"line\": {\"color\": \"#00cc96\", \"dash\": \"solid\"}, \"mode\": \"lines\", \"name\": \"10-33\", \"orientation\": \"v\", \"showlegend\": true, \"type\": \"scatter\", \"x\": [\"2011K1\", \"2011K2\", \"2011K3\", \"2011K4\", \"2012K1\", \"2012K2\", \"2012K3\", \"2012K4\", \"2013K1\", \"2013K2\", \"2013K3\", \"2013K4\", \"2014K1\", \"2014K2\", \"2014K3\", \"2014K4\", \"2015K1\", \"2015K2\", \"2015K3\", \"2015K4\", \"2016K1\", \"2016K2\", \"2016K3\", \"2016K4\", \"2017K1\", \"2017K2\", \"2017K3\", \"2017K4\", \"2018K1\", \"2018K2\", \"2018K3\", \"2018K4\", \"2019K1\", \"2019K2\", \"2019K3\", \"2019K4\", \"2020K1\", \"2020K2\", \"2020K3\", \"2020K4\"], \"xaxis\": \"x\", \"y\": [4500.0, 4700.0, 4100.0, 3900.0, 5300.0, 4600.0, 4000.0, 3800.0, 4100.0, 3800.0, 3200.0, 3000.0, 3500.0, 3600.0, 2800.0, 2400.0, 2800.0, 2300.0, 1600.0, 1700.0, 2200.0, 1800.0, 2000.0, 1600.0, 2700.0, 2400.0, 2500.0, 2400.0, 3400.0, 3900.0, 3500.0, 3300.0, 4400.0, 4400.0, 4200.0, 3400.0, 3300.0, 2200.0, 2700.0, 2600.0], \"yaxis\": \"y\"}, {\"hovertemplate\": \"NACE2007=35-39<br>kvartal=%{x}<br>Ledige stillingar=%{y}<extra></extra>\", \"legendgroup\": \"35-39\", \"line\": {\"color\": \"#ab63fa\", \"dash\": \"solid\"}, \"mode\": \"lines\", \"name\": \"35-39\", \"orientation\": \"v\", \"showlegend\": true, \"type\": \"scatter\", \"x\": [\"2011K1\", \"2011K2\", \"2011K3\", \"2011K4\", \"2012K1\", \"2012K2\", \"2012K3\", \"2012K4\", \"2013K1\", \"2013K2\", \"2013K3\", \"2013K4\", \"2014K1\", \"2014K2\", \"2014K3\", \"2014K4\", \"2015K1\", \"2015K2\", \"2015K3\", \"2015K4\", \"2016K1\", \"2016K2\", \"2016K3\", \"2016K4\", \"2017K1\", \"2017K2\", \"2017K3\", \"2017K4\", \"2018K1\", \"2018K2\", \"2018K3\", \"2018K4\", \"2019K1\", \"2019K2\", \"2019K3\", \"2019K4\", \"2020K1\", \"2020K2\", \"2020K3\", \"2020K4\"], \"xaxis\": \"x\", \"y\": [600.0, 700.0, 500.0, 600.0, 600.0, 600.0, 500.0, 600.0, 500.0, 600.0, 500.0, 500.0, 400.0, 400.0, 400.0, 400.0, 400.0, 400.0, 400.0, 300.0, 400.0, 500.0, 400.0, 400.0, 400.0, 400.0, 500.0, 300.0, 500.0, 500.0, 500.0, 500.0, 600.0, 700.0, 600.0, 500.0, 600.0, 600.0, 500.0, 600.0], \"yaxis\": \"y\"}, {\"hovertemplate\": \"NACE2007=41-43<br>kvartal=%{x}<br>Ledige stillingar=%{y}<extra></extra>\", \"legendgroup\": \"41-43\", \"line\": {\"color\": \"#FFA15A\", \"dash\": \"solid\"}, \"mode\": \"lines\", \"name\": \"41-43\", \"orientation\": \"v\", \"showlegend\": true, \"type\": \"scatter\", \"x\": [\"2011K1\", \"2011K2\", \"2011K3\", \"2011K4\", \"2012K1\", \"2012K2\", \"2012K3\", \"2012K4\", \"2013K1\", \"2013K2\", \"2013K3\", \"2013K4\", \"2014K1\", \"2014K2\", \"2014K3\", \"2014K4\", \"2015K1\", \"2015K2\", \"2015K3\", \"2015K4\", \"2016K1\", \"2016K2\", \"2016K3\", \"2016K4\", \"2017K1\", \"2017K2\", \"2017K3\", \"2017K4\", \"2018K1\", \"2018K2\", \"2018K3\", \"2018K4\", \"2019K1\", \"2019K2\", \"2019K3\", \"2019K4\", \"2020K1\", \"2020K2\", \"2020K3\", \"2020K4\"], \"xaxis\": \"x\", \"y\": [5100.0, 5300.0, 4500.0, 4800.0, 4700.0, 4100.0, 4000.0, 3900.0, 4300.0, 5600.0, 4400.0, 3400.0, 4500.0, 4400.0, 4000.0, 3200.0, 3500.0, 6800.0, 3300.0, 2300.0, 3900.0, 3500.0, 3900.0, 3800.0, 3800.0, 3800.0, 4800.0, 4400.0, 5200.0, 5400.0, 5400.0, 4900.0, 5400.0, 6200.0, 5300.0, 4200.0, 5700.0, 4600.0, 4300.0, 4300.0], \"yaxis\": \"y\"}, {\"hovertemplate\": \"NACE2007=45-47<br>kvartal=%{x}<br>Ledige stillingar=%{y}<extra></extra>\", \"legendgroup\": \"45-47\", \"line\": {\"color\": \"#19d3f3\", \"dash\": \"solid\"}, \"mode\": \"lines\", \"name\": \"45-47\", \"orientation\": \"v\", \"showlegend\": true, \"type\": \"scatter\", \"x\": [\"2011K1\", \"2011K2\", \"2011K3\", \"2011K4\", \"2012K1\", \"2012K2\", \"2012K3\", \"2012K4\", \"2013K1\", \"2013K2\", \"2013K3\", \"2013K4\", \"2014K1\", \"2014K2\", \"2014K3\", \"2014K4\", \"2015K1\", \"2015K2\", \"2015K3\", \"2015K4\", \"2016K1\", \"2016K2\", \"2016K3\", \"2016K4\", \"2017K1\", \"2017K2\", \"2017K3\", \"2017K4\", \"2018K1\", \"2018K2\", \"2018K3\", \"2018K4\", \"2019K1\", \"2019K2\", \"2019K3\", \"2019K4\", \"2020K1\", \"2020K2\", \"2020K3\", \"2020K4\"], \"xaxis\": \"x\", \"y\": [5600.0, 8300.0, 9700.0, 6400.0, 7100.0, 6900.0, 6800.0, 6300.0, 7500.0, 9000.0, 5600.0, 4800.0, 5700.0, 5500.0, 5100.0, 4000.0, 5300.0, 5400.0, 5500.0, 5100.0, 4400.0, 6600.0, 5400.0, 4000.0, 6000.0, 6400.0, 5800.0, 6500.0, 7400.0, 6800.0, 7900.0, 4800.0, 8500.0, 11000.0, 5600.0, 6600.0, 6900.0, 6400.0, 7400.0, 5700.0], \"yaxis\": \"y\"}, {\"hovertemplate\": \"NACE2007=49-53<br>kvartal=%{x}<br>Ledige stillingar=%{y}<extra></extra>\", \"legendgroup\": \"49-53\", \"line\": {\"color\": \"#FF6692\", \"dash\": \"solid\"}, \"mode\": \"lines\", \"name\": \"49-53\", \"orientation\": \"v\", \"showlegend\": true, \"type\": \"scatter\", \"x\": [\"2011K1\", \"2011K2\", \"2011K3\", \"2011K4\", \"2012K1\", \"2012K2\", \"2012K3\", \"2012K4\", \"2013K1\", \"2013K2\", \"2013K3\", \"2013K4\", \"2014K1\", \"2014K2\", \"2014K3\", \"2014K4\", \"2015K1\", \"2015K2\", \"2015K3\", \"2015K4\", \"2016K1\", \"2016K2\", \"2016K3\", \"2016K4\", \"2017K1\", \"2017K2\", \"2017K3\", \"2017K4\", \"2018K1\", \"2018K2\", \"2018K3\", \"2018K4\", \"2019K1\", \"2019K2\", \"2019K3\", \"2019K4\", \"2020K1\", \"2020K2\", \"2020K3\", \"2020K4\"], \"xaxis\": \"x\", \"y\": [3000.0, 2100.0, 2300.0, 1500.0, 2100.0, 2000.0, 2600.0, 1600.0, 2300.0, 2600.0, 2800.0, 2100.0, 2300.0, 1900.0, 1900.0, 1900.0, 1700.0, 2100.0, 1800.0, 1400.0, 1900.0, 1500.0, 1400.0, 1300.0, 2700.0, 2900.0, 1900.0, 1900.0, 2700.0, 2900.0, 2500.0, 2000.0, 2800.0, 3800.0, 3000.0, 3600.0, 2700.0, 1600.0, 1800.0, 1900.0], \"yaxis\": \"y\"}, {\"hovertemplate\": \"NACE2007=55-56<br>kvartal=%{x}<br>Ledige stillingar=%{y}<extra></extra>\", \"legendgroup\": \"55-56\", \"line\": {\"color\": \"#B6E880\", \"dash\": \"solid\"}, \"mode\": \"lines\", \"name\": \"55-56\", \"orientation\": \"v\", \"showlegend\": true, \"type\": \"scatter\", \"x\": [\"2011K1\", \"2011K2\", \"2011K3\", \"2011K4\", \"2012K1\", \"2012K2\", \"2012K3\", \"2012K4\", \"2013K1\", \"2013K2\", \"2013K3\", \"2013K4\", \"2014K1\", \"2014K2\", \"2014K3\", \"2014K4\", \"2015K1\", \"2015K2\", \"2015K3\", \"2015K4\", \"2016K1\", \"2016K2\", \"2016K3\", \"2016K4\", \"2017K1\", \"2017K2\", \"2017K3\", \"2017K4\", \"2018K1\", \"2018K2\", \"2018K3\", \"2018K4\", \"2019K1\", \"2019K2\", \"2019K3\", \"2019K4\", \"2020K1\", \"2020K2\", \"2020K3\", \"2020K4\"], \"xaxis\": \"x\", \"y\": [2500.0, 4100.0, 2300.0, 1100.0, 2600.0, 2700.0, 2700.0, 2000.0, 2600.0, 2500.0, 2900.0, 1600.0, 2100.0, 2200.0, 2700.0, 1700.0, 2000.0, 2800.0, 2100.0, 1300.0, 1700.0, 2300.0, 2600.0, 1400.0, 2400.0, 2200.0, 2600.0, 1600.0, 2200.0, 2900.0, 2100.0, 1600.0, 2200.0, 3500.0, 2300.0, 1500.0, 2400.0, 1700.0, 1100.0, 700.0], \"yaxis\": \"y\"}, {\"hovertemplate\": \"NACE2007=58-63<br>kvartal=%{x}<br>Ledige stillingar=%{y}<extra></extra>\", \"legendgroup\": \"58-63\", \"line\": {\"color\": \"#FF97FF\", \"dash\": \"solid\"}, \"mode\": \"lines\", \"name\": \"58-63\", \"orientation\": \"v\", \"showlegend\": true, \"type\": \"scatter\", \"x\": [\"2011K1\", \"2011K2\", \"2011K3\", \"2011K4\", \"2012K1\", \"2012K2\", \"2012K3\", \"2012K4\", \"2013K1\", \"2013K2\", \"2013K3\", \"2013K4\", \"2014K1\", \"2014K2\", \"2014K3\", \"2014K4\", \"2015K1\", \"2015K2\", \"2015K3\", \"2015K4\", \"2016K1\", \"2016K2\", \"2016K3\", \"2016K4\", \"2017K1\", \"2017K2\", \"2017K3\", \"2017K4\", \"2018K1\", \"2018K2\", \"2018K3\", \"2018K4\", \"2019K1\", \"2019K2\", \"2019K3\", \"2019K4\", \"2020K1\", \"2020K2\", \"2020K3\", \"2020K4\"], \"xaxis\": \"x\", \"y\": [3500.0, 3400.0, 2800.0, 2600.0, 3600.0, 3500.0, 3100.0, 2800.0, 3200.0, 3500.0, 2900.0, 2500.0, 3000.0, 3000.0, 2300.0, 2800.0, 2400.0, 2200.0, 1800.0, 2000.0, 2500.0, 2700.0, 2700.0, 3000.0, 2900.0, 2700.0, 3000.0, 3000.0, 3500.0, 3500.0, 4000.0, 4000.0, 4700.0, 4800.0, 4800.0, 4500.0, 5000.0, 3200.0, 3500.0, 4500.0], \"yaxis\": \"y\"}, {\"hovertemplate\": \"NACE2007=64-66<br>kvartal=%{x}<br>Ledige stillingar=%{y}<extra></extra>\", \"legendgroup\": \"64-66\", \"line\": {\"color\": \"#FECB52\", \"dash\": \"solid\"}, \"mode\": \"lines\", \"name\": \"64-66\", \"orientation\": \"v\", \"showlegend\": true, \"type\": \"scatter\", \"x\": [\"2011K1\", \"2011K2\", \"2011K3\", \"2011K4\", \"2012K1\", \"2012K2\", \"2012K3\", \"2012K4\", \"2013K1\", \"2013K2\", \"2013K3\", \"2013K4\", \"2014K1\", \"2014K2\", \"2014K3\", \"2014K4\", \"2015K1\", \"2015K2\", \"2015K3\", \"2015K4\", \"2016K1\", \"2016K2\", \"2016K3\", \"2016K4\", \"2017K1\", \"2017K2\", \"2017K3\", \"2017K4\", \"2018K1\", \"2018K2\", \"2018K3\", \"2018K4\", \"2019K1\", \"2019K2\", \"2019K3\", \"2019K4\", \"2020K1\", \"2020K2\", \"2020K3\", \"2020K4\"], \"xaxis\": \"x\", \"y\": [1300.0, 1500.0, 900.0, 800.0, 800.0, 700.0, 600.0, 700.0, 600.0, 700.0, 700.0, 600.0, 700.0, 700.0, 500.0, 600.0, 800.0, 700.0, 500.0, 600.0, 800.0, 600.0, 800.0, 600.0, 800.0, 900.0, 800.0, 1000.0, 900.0, 1000.0, 800.0, 1000.0, 800.0, 1000.0, 800.0, 800.0, 1300.0, 800.0, 800.0, 800.0], \"yaxis\": \"y\"}, {\"hovertemplate\": \"NACE2007=68<br>kvartal=%{x}<br>Ledige stillingar=%{y}<extra></extra>\", \"legendgroup\": \"68\", \"line\": {\"color\": \"#636efa\", \"dash\": \"solid\"}, \"mode\": \"lines\", \"name\": \"68\", \"orientation\": \"v\", \"showlegend\": true, \"type\": \"scatter\", \"x\": [\"2011K1\", \"2011K2\", \"2011K3\", \"2011K4\", \"2012K1\", \"2012K2\", \"2012K3\", \"2012K4\", \"2013K1\", \"2013K2\", \"2013K3\", \"2013K4\", \"2014K1\", \"2014K2\", \"2014K3\", \"2014K4\", \"2015K1\", \"2015K2\", \"2015K3\", \"2015K4\", \"2016K1\", \"2016K2\", \"2016K3\", \"2016K4\", \"2017K1\", \"2017K2\", \"2017K3\", \"2017K4\", \"2018K1\", \"2018K2\", \"2018K3\", \"2018K4\", \"2019K1\", \"2019K2\", \"2019K3\", \"2019K4\", \"2020K1\", \"2020K2\", \"2020K3\", \"2020K4\"], \"xaxis\": \"x\", \"y\": [700.0, 800.0, 700.0, 900.0, 600.0, 600.0, 500.0, 600.0, 500.0, 600.0, 400.0, 300.0, 400.0, 300.0, 200.0, 300.0, 600.0, 600.0, 400.0, 400.0, 400.0, 500.0, 1100.0, 500.0, 400.0, 600.0, 800.0, 500.0, 400.0, 400.0, 400.0, 500.0, 600.0, 700.0, 700.0, 600.0, 600.0, 600.0, 600.0, 700.0], \"yaxis\": \"y\"}, {\"hovertemplate\": \"NACE2007=69-75<br>kvartal=%{x}<br>Ledige stillingar=%{y}<extra></extra>\", \"legendgroup\": \"69-75\", \"line\": {\"color\": \"#EF553B\", \"dash\": \"solid\"}, \"mode\": \"lines\", \"name\": \"69-75\", \"orientation\": \"v\", \"showlegend\": true, \"type\": \"scatter\", \"x\": [\"2011K1\", \"2011K2\", \"2011K3\", \"2011K4\", \"2012K1\", \"2012K2\", \"2012K3\", \"2012K4\", \"2013K1\", \"2013K2\", \"2013K3\", \"2013K4\", \"2014K1\", \"2014K2\", \"2014K3\", \"2014K4\", \"2015K1\", \"2015K2\", \"2015K3\", \"2015K4\", \"2016K1\", \"2016K2\", \"2016K3\", \"2016K4\", \"2017K1\", \"2017K2\", \"2017K3\", \"2017K4\", \"2018K1\", \"2018K2\", \"2018K3\", \"2018K4\", \"2019K1\", \"2019K2\", \"2019K3\", \"2019K4\", \"2020K1\", \"2020K2\", \"2020K3\", \"2020K4\"], \"xaxis\": \"x\", \"y\": [5200.0, 4600.0, 4500.0, 5500.0, 4000.0, 4800.0, 3700.0, 3700.0, 3600.0, 3600.0, 3700.0, 3600.0, 3100.0, 3500.0, 2800.0, 2900.0, 3400.0, 2800.0, 2000.0, 2600.0, 5000.0, 2900.0, 3300.0, 2900.0, 3300.0, 4200.0, 4500.0, 5300.0, 4800.0, 4700.0, 4200.0, 4000.0, 4700.0, 5100.0, 5300.0, 4200.0, 4300.0, 3100.0, 4300.0, 4500.0], \"yaxis\": \"y\"}, {\"hovertemplate\": \"NACE2007=77-82<br>kvartal=%{x}<br>Ledige stillingar=%{y}<extra></extra>\", \"legendgroup\": \"77-82\", \"line\": {\"color\": \"#00cc96\", \"dash\": \"solid\"}, \"mode\": \"lines\", \"name\": \"77-82\", \"orientation\": \"v\", \"showlegend\": true, \"type\": \"scatter\", \"x\": [\"2011K1\", \"2011K2\", \"2011K3\", \"2011K4\", \"2012K1\", \"2012K2\", \"2012K3\", \"2012K4\", \"2013K1\", \"2013K2\", \"2013K3\", \"2013K4\", \"2014K1\", \"2014K2\", \"2014K3\", \"2014K4\", \"2015K1\", \"2015K2\", \"2015K3\", \"2015K4\", \"2016K1\", \"2016K2\", \"2016K3\", \"2016K4\", \"2017K1\", \"2017K2\", \"2017K3\", \"2017K4\", \"2018K1\", \"2018K2\", \"2018K3\", \"2018K4\", \"2019K1\", \"2019K2\", \"2019K3\", \"2019K4\", \"2020K1\", \"2020K2\", \"2020K3\", \"2020K4\"], \"xaxis\": \"x\", \"y\": [9400.0, 10700.0, 9300.0, 8000.0, 10800.0, 9900.0, 9200.0, 9000.0, 10200.0, 9100.0, 7800.0, 6900.0, 8900.0, 9500.0, 7800.0, 8800.0, 7300.0, 6300.0, 4900.0, 5100.0, 6200.0, 5100.0, 5000.0, 5300.0, 6400.0, 6300.0, 4900.0, 5800.0, 7200.0, 8000.0, 6700.0, 5800.0, 8800.0, 8200.0, 6900.0, 6300.0, 6200.0, 4000.0, 5200.0, 4300.0], \"yaxis\": \"y\"}, {\"hovertemplate\": \"NACE2007=84<br>kvartal=%{x}<br>Ledige stillingar=%{y}<extra></extra>\", \"legendgroup\": \"84\", \"line\": {\"color\": \"#ab63fa\", \"dash\": \"solid\"}, \"mode\": \"lines\", \"name\": \"84\", \"orientation\": \"v\", \"showlegend\": true, \"type\": \"scatter\", \"x\": [\"2011K1\", \"2011K2\", \"2011K3\", \"2011K4\", \"2012K1\", \"2012K2\", \"2012K3\", \"2012K4\", \"2013K1\", \"2013K2\", \"2013K3\", \"2013K4\", \"2014K1\", \"2014K2\", \"2014K3\", \"2014K4\", \"2015K1\", \"2015K2\", \"2015K3\", \"2015K4\", \"2016K1\", \"2016K2\", \"2016K3\", \"2016K4\", \"2017K1\", \"2017K2\", \"2017K3\", \"2017K4\", \"2018K1\", \"2018K2\", \"2018K3\", \"2018K4\", \"2019K1\", \"2019K2\", \"2019K3\", \"2019K4\", \"2020K1\", \"2020K2\", \"2020K3\", \"2020K4\"], \"xaxis\": \"x\", \"y\": [3900.0, 3400.0, 3300.0, 3300.0, 4500.0, 4000.0, 3800.0, 4000.0, 3300.0, 3900.0, 2800.0, 2800.0, 4200.0, 3600.0, 2600.0, 2700.0, 3300.0, 3200.0, 3900.0, 3600.0, 3400.0, 3200.0, 2700.0, 3400.0, 4000.0, 3400.0, 2800.0, 3100.0, 4000.0, 4100.0, 3600.0, 3700.0, 4100.0, 4000.0, 3900.0, 4100.0, 3800.0, 3700.0, 4800.0, 4800.0], \"yaxis\": \"y\"}, {\"hovertemplate\": \"NACE2007=85<br>kvartal=%{x}<br>Ledige stillingar=%{y}<extra></extra>\", \"legendgroup\": \"85\", \"line\": {\"color\": \"#FFA15A\", \"dash\": \"solid\"}, \"mode\": \"lines\", \"name\": \"85\", \"orientation\": \"v\", \"showlegend\": true, \"type\": \"scatter\", \"x\": [\"2011K1\", \"2011K2\", \"2011K3\", \"2011K4\", \"2012K1\", \"2012K2\", \"2012K3\", \"2012K4\", \"2013K1\", \"2013K2\", \"2013K3\", \"2013K4\", \"2014K1\", \"2014K2\", \"2014K3\", \"2014K4\", \"2015K1\", \"2015K2\", \"2015K3\", \"2015K4\", \"2016K1\", \"2016K2\", \"2016K3\", \"2016K4\", \"2017K1\", \"2017K2\", \"2017K3\", \"2017K4\", \"2018K1\", \"2018K2\", \"2018K3\", \"2018K4\", \"2019K1\", \"2019K2\", \"2019K3\", \"2019K4\", \"2020K1\", \"2020K2\", \"2020K3\", \"2020K4\"], \"xaxis\": \"x\", \"y\": [2700.0, 5100.0, 2600.0, 2200.0, 4100.0, 6900.0, 2500.0, 2400.0, 3800.0, 6000.0, 2200.0, 2500.0, 2900.0, 5800.0, 2800.0, 2300.0, 3700.0, 7800.0, 2500.0, 2400.0, 3500.0, 5200.0, 2000.0, 2900.0, 4900.0, 6700.0, 2700.0, 2900.0, 4200.0, 8000.0, 2800.0, 3100.0, 4900.0, 8000.0, 3000.0, 3400.0, 5500.0, 6600.0, 3300.0, 3500.0], \"yaxis\": \"y\"}, {\"hovertemplate\": \"NACE2007=86<br>kvartal=%{x}<br>Ledige stillingar=%{y}<extra></extra>\", \"legendgroup\": \"86\", \"line\": {\"color\": \"#19d3f3\", \"dash\": \"solid\"}, \"mode\": \"lines\", \"name\": \"86\", \"orientation\": \"v\", \"showlegend\": true, \"type\": \"scatter\", \"x\": [\"2011K1\", \"2011K2\", \"2011K3\", \"2011K4\", \"2012K1\", \"2012K2\", \"2012K3\", \"2012K4\", \"2013K1\", \"2013K2\", \"2013K3\", \"2013K4\", \"2014K1\", \"2014K2\", \"2014K3\", \"2014K4\", \"2015K1\", \"2015K2\", \"2015K3\", \"2015K4\", \"2016K1\", \"2016K2\", \"2016K3\", \"2016K4\", \"2017K1\", \"2017K2\", \"2017K3\", \"2017K4\", \"2018K1\", \"2018K2\", \"2018K3\", \"2018K4\", \"2019K1\", \"2019K2\", \"2019K3\", \"2019K4\", \"2020K1\", \"2020K2\", \"2020K3\", \"2020K4\"], \"xaxis\": \"x\", \"y\": [3700.0, 4600.0, 3600.0, 3600.0, 4000.0, 4500.0, 4000.0, 3900.0, 4700.0, 5300.0, 4300.0, 3800.0, 5200.0, 4100.0, 4700.0, 5900.0, 4700.0, 4400.0, 4600.0, 3800.0, 4700.0, 5200.0, 5800.0, 4200.0, 5600.0, 5100.0, 4700.0, 5700.0, 6100.0, 6100.0, 6100.0, 5800.0, 6800.0, 6000.0, 6100.0, 5400.0, 6700.0, 6700.0, 4900.0, 6000.0], \"yaxis\": \"y\"}, {\"hovertemplate\": \"NACE2007=87<br>kvartal=%{x}<br>Ledige stillingar=%{y}<extra></extra>\", \"legendgroup\": \"87\", \"line\": {\"color\": \"#FF6692\", \"dash\": \"solid\"}, \"mode\": \"lines\", \"name\": \"87\", \"orientation\": \"v\", \"showlegend\": true, \"type\": \"scatter\", \"x\": [\"2011K1\", \"2011K2\", \"2011K3\", \"2011K4\", \"2012K1\", \"2012K2\", \"2012K3\", \"2012K4\", \"2013K1\", \"2013K2\", \"2013K3\", \"2013K4\", \"2014K1\", \"2014K2\", \"2014K3\", \"2014K4\", \"2015K1\", \"2015K2\", \"2015K3\", \"2015K4\", \"2016K1\", \"2016K2\", \"2016K3\", \"2016K4\", \"2017K1\", \"2017K2\", \"2017K3\", \"2017K4\", \"2018K1\", \"2018K2\", \"2018K3\", \"2018K4\", \"2019K1\", \"2019K2\", \"2019K3\", \"2019K4\", \"2020K1\", \"2020K2\", \"2020K3\", \"2020K4\"], \"xaxis\": \"x\", \"y\": [8500.0, 8400.0, 8400.0, 8100.0, 6600.0, 6000.0, 4700.0, 4900.0, 7200.0, 6800.0, 7700.0, 5700.0, 7400.0, 7300.0, 8000.0, 7900.0, 9300.0, 7300.0, 8500.0, 7200.0, 7000.0, 7000.0, 7300.0, 5900.0, 5800.0, 6700.0, 7100.0, 6900.0, 7800.0, 8400.0, 9400.0, 7700.0, 6900.0, 6300.0, 5900.0, 6900.0, 6800.0, 4700.0, 7600.0, 7900.0], \"yaxis\": \"y\"}, {\"hovertemplate\": \"NACE2007=88<br>kvartal=%{x}<br>Ledige stillingar=%{y}<extra></extra>\", \"legendgroup\": \"88\", \"line\": {\"color\": \"#B6E880\", \"dash\": \"solid\"}, \"mode\": \"lines\", \"name\": \"88\", \"orientation\": \"v\", \"showlegend\": true, \"type\": \"scatter\", \"x\": [\"2011K1\", \"2011K2\", \"2011K3\", \"2011K4\", \"2012K1\", \"2012K2\", \"2012K3\", \"2012K4\", \"2013K1\", \"2013K2\", \"2013K3\", \"2013K4\", \"2014K1\", \"2014K2\", \"2014K3\", \"2014K4\", \"2015K1\", \"2015K2\", \"2015K3\", \"2015K4\", \"2016K1\", \"2016K2\", \"2016K3\", \"2016K4\", \"2017K1\", \"2017K2\", \"2017K3\", \"2017K4\", \"2018K1\", \"2018K2\", \"2018K3\", \"2018K4\", \"2019K1\", \"2019K2\", \"2019K3\", \"2019K4\", \"2020K1\", \"2020K2\", \"2020K3\", \"2020K4\"], \"xaxis\": \"x\", \"y\": [4800.0, 6700.0, 4000.0, 4400.0, 3400.0, 6100.0, 4100.0, 4100.0, 4700.0, 5800.0, 3600.0, 3200.0, 3900.0, 5300.0, 2500.0, 3500.0, 6200.0, 4700.0, 3000.0, 3300.0, 4500.0, 5000.0, 4200.0, 5100.0, 3000.0, 7200.0, 4000.0, 3700.0, 3900.0, 4700.0, 4500.0, 2900.0, 4700.0, 6500.0, 3900.0, 3900.0, 5800.0, 6800.0, 4300.0, 3700.0], \"yaxis\": \"y\"}, {\"hovertemplate\": \"NACE2007=90-93<br>kvartal=%{x}<br>Ledige stillingar=%{y}<extra></extra>\", \"legendgroup\": \"90-93\", \"line\": {\"color\": \"#FF97FF\", \"dash\": \"solid\"}, \"mode\": \"lines\", \"name\": \"90-93\", \"orientation\": \"v\", \"showlegend\": true, \"type\": \"scatter\", \"x\": [\"2011K1\", \"2011K2\", \"2011K3\", \"2011K4\", \"2012K1\", \"2012K2\", \"2012K3\", \"2012K4\", \"2013K1\", \"2013K2\", \"2013K3\", \"2013K4\", \"2014K1\", \"2014K2\", \"2014K3\", \"2014K4\", \"2015K1\", \"2015K2\", \"2015K3\", \"2015K4\", \"2016K1\", \"2016K2\", \"2016K3\", \"2016K4\", \"2017K1\", \"2017K2\", \"2017K3\", \"2017K4\", \"2018K1\", \"2018K2\", \"2018K3\", \"2018K4\", \"2019K1\", \"2019K2\", \"2019K3\", \"2019K4\", \"2020K1\", \"2020K2\", \"2020K3\", \"2020K4\"], \"xaxis\": \"x\", \"y\": [500.0, 600.0, 500.0, 600.0, 600.0, 500.0, 700.0, 400.0, 800.0, 500.0, 600.0, 1200.0, 600.0, 700.0, 900.0, 700.0, 600.0, 500.0, 400.0, 500.0, 1100.0, 700.0, 700.0, 900.0, 1100.0, 1100.0, 1100.0, 700.0, 800.0, 1200.0, 800.0, 600.0, 1400.0, 1100.0, 800.0, 800.0, 1600.0, 900.0, 600.0, 1300.0], \"yaxis\": \"y\"}, {\"hovertemplate\": \"NACE2007=94-96<br>kvartal=%{x}<br>Ledige stillingar=%{y}<extra></extra>\", \"legendgroup\": \"94-96\", \"line\": {\"color\": \"#FECB52\", \"dash\": \"solid\"}, \"mode\": \"lines\", \"name\": \"94-96\", \"orientation\": \"v\", \"showlegend\": true, \"type\": \"scatter\", \"x\": [\"2011K1\", \"2011K2\", \"2011K3\", \"2011K4\", \"2012K1\", \"2012K2\", \"2012K3\", \"2012K4\", \"2013K1\", \"2013K2\", \"2013K3\", \"2013K4\", \"2014K1\", \"2014K2\", \"2014K3\", \"2014K4\", \"2015K1\", \"2015K2\", \"2015K3\", \"2015K4\", \"2016K1\", \"2016K2\", \"2016K3\", \"2016K4\", \"2017K1\", \"2017K2\", \"2017K3\", \"2017K4\", \"2018K1\", \"2018K2\", \"2018K3\", \"2018K4\", \"2019K1\", \"2019K2\", \"2019K3\", \"2019K4\", \"2020K1\", \"2020K2\", \"2020K3\", \"2020K4\"], \"xaxis\": \"x\", \"y\": [1000.0, 900.0, 1300.0, 1000.0, 1100.0, 1000.0, 900.0, 1000.0, 1600.0, 1500.0, 1100.0, 1100.0, 900.0, 1000.0, 600.0, 800.0, 1500.0, 1400.0, 1200.0, 800.0, 1100.0, 1500.0, 800.0, 800.0, 1300.0, 1400.0, 1100.0, 1000.0, 1200.0, 1100.0, 1100.0, 1200.0, 1300.0, 1400.0, 1000.0, 1200.0, 1000.0, 1200.0, 1000.0, 1100.0], \"yaxis\": \"y\"}],                        {\"legend\": {\"title\": {\"text\": \"NACE2007\"}, \"tracegroupgap\": 0}, \"margin\": {\"t\": 60}, \"template\": {\"data\": {\"bar\": [{\"error_x\": {\"color\": \"#2a3f5f\"}, \"error_y\": {\"color\": \"#2a3f5f\"}, \"marker\": {\"line\": {\"color\": \"#E5ECF6\", \"width\": 0.5}}, \"type\": \"bar\"}], \"barpolar\": [{\"marker\": {\"line\": {\"color\": \"#E5ECF6\", \"width\": 0.5}}, \"type\": \"barpolar\"}], \"carpet\": [{\"aaxis\": {\"endlinecolor\": \"#2a3f5f\", \"gridcolor\": \"white\", \"linecolor\": \"white\", \"minorgridcolor\": \"white\", \"startlinecolor\": \"#2a3f5f\"}, \"baxis\": {\"endlinecolor\": \"#2a3f5f\", \"gridcolor\": \"white\", \"linecolor\": \"white\", \"minorgridcolor\": \"white\", \"startlinecolor\": \"#2a3f5f\"}, \"type\": \"carpet\"}], \"choropleth\": [{\"colorbar\": {\"outlinewidth\": 0, \"ticks\": \"\"}, \"type\": \"choropleth\"}], \"contour\": [{\"colorbar\": {\"outlinewidth\": 0, \"ticks\": \"\"}, \"colorscale\": [[0.0, \"#0d0887\"], [0.1111111111111111, \"#46039f\"], [0.2222222222222222, \"#7201a8\"], [0.3333333333333333, \"#9c179e\"], [0.4444444444444444, \"#bd3786\"], [0.5555555555555556, \"#d8576b\"], [0.6666666666666666, \"#ed7953\"], [0.7777777777777778, \"#fb9f3a\"], [0.8888888888888888, \"#fdca26\"], [1.0, \"#f0f921\"]], \"type\": \"contour\"}], \"contourcarpet\": [{\"colorbar\": {\"outlinewidth\": 0, \"ticks\": \"\"}, \"type\": \"contourcarpet\"}], \"heatmap\": [{\"colorbar\": {\"outlinewidth\": 0, \"ticks\": \"\"}, \"colorscale\": [[0.0, \"#0d0887\"], [0.1111111111111111, \"#46039f\"], [0.2222222222222222, \"#7201a8\"], [0.3333333333333333, \"#9c179e\"], [0.4444444444444444, \"#bd3786\"], [0.5555555555555556, \"#d8576b\"], [0.6666666666666666, \"#ed7953\"], [0.7777777777777778, \"#fb9f3a\"], [0.8888888888888888, \"#fdca26\"], [1.0, \"#f0f921\"]], \"type\": \"heatmap\"}], \"heatmapgl\": [{\"colorbar\": {\"outlinewidth\": 0, \"ticks\": \"\"}, \"colorscale\": [[0.0, \"#0d0887\"], [0.1111111111111111, \"#46039f\"], [0.2222222222222222, \"#7201a8\"], [0.3333333333333333, \"#9c179e\"], [0.4444444444444444, \"#bd3786\"], [0.5555555555555556, \"#d8576b\"], [0.6666666666666666, \"#ed7953\"], [0.7777777777777778, \"#fb9f3a\"], [0.8888888888888888, \"#fdca26\"], [1.0, \"#f0f921\"]], \"type\": \"heatmapgl\"}], \"histogram\": [{\"marker\": {\"colorbar\": {\"outlinewidth\": 0, \"ticks\": \"\"}}, \"type\": \"histogram\"}], \"histogram2d\": [{\"colorbar\": {\"outlinewidth\": 0, \"ticks\": \"\"}, \"colorscale\": [[0.0, \"#0d0887\"], [0.1111111111111111, \"#46039f\"], [0.2222222222222222, \"#7201a8\"], [0.3333333333333333, \"#9c179e\"], [0.4444444444444444, \"#bd3786\"], [0.5555555555555556, \"#d8576b\"], [0.6666666666666666, \"#ed7953\"], [0.7777777777777778, \"#fb9f3a\"], [0.8888888888888888, \"#fdca26\"], [1.0, \"#f0f921\"]], \"type\": \"histogram2d\"}], \"histogram2dcontour\": [{\"colorbar\": {\"outlinewidth\": 0, \"ticks\": \"\"}, \"colorscale\": [[0.0, \"#0d0887\"], [0.1111111111111111, \"#46039f\"], [0.2222222222222222, \"#7201a8\"], [0.3333333333333333, \"#9c179e\"], [0.4444444444444444, \"#bd3786\"], [0.5555555555555556, \"#d8576b\"], [0.6666666666666666, \"#ed7953\"], [0.7777777777777778, \"#fb9f3a\"], [0.8888888888888888, \"#fdca26\"], [1.0, \"#f0f921\"]], \"type\": \"histogram2dcontour\"}], \"mesh3d\": [{\"colorbar\": {\"outlinewidth\": 0, \"ticks\": \"\"}, \"type\": \"mesh3d\"}], \"parcoords\": [{\"line\": {\"colorbar\": {\"outlinewidth\": 0, \"ticks\": \"\"}}, \"type\": \"parcoords\"}], \"pie\": [{\"automargin\": true, \"type\": \"pie\"}], \"scatter\": [{\"marker\": {\"colorbar\": {\"outlinewidth\": 0, \"ticks\": \"\"}}, \"type\": \"scatter\"}], \"scatter3d\": [{\"line\": {\"colorbar\": {\"outlinewidth\": 0, \"ticks\": \"\"}}, \"marker\": {\"colorbar\": {\"outlinewidth\": 0, \"ticks\": \"\"}}, \"type\": \"scatter3d\"}], \"scattercarpet\": [{\"marker\": {\"colorbar\": {\"outlinewidth\": 0, \"ticks\": \"\"}}, \"type\": \"scattercarpet\"}], \"scattergeo\": [{\"marker\": {\"colorbar\": {\"outlinewidth\": 0, \"ticks\": \"\"}}, \"type\": \"scattergeo\"}], \"scattergl\": [{\"marker\": {\"colorbar\": {\"outlinewidth\": 0, \"ticks\": \"\"}}, \"type\": \"scattergl\"}], \"scattermapbox\": [{\"marker\": {\"colorbar\": {\"outlinewidth\": 0, \"ticks\": \"\"}}, \"type\": \"scattermapbox\"}], \"scatterpolar\": [{\"marker\": {\"colorbar\": {\"outlinewidth\": 0, \"ticks\": \"\"}}, \"type\": \"scatterpolar\"}], \"scatterpolargl\": [{\"marker\": {\"colorbar\": {\"outlinewidth\": 0, \"ticks\": \"\"}}, \"type\": \"scatterpolargl\"}], \"scatterternary\": [{\"marker\": {\"colorbar\": {\"outlinewidth\": 0, \"ticks\": \"\"}}, \"type\": \"scatterternary\"}], \"surface\": [{\"colorbar\": {\"outlinewidth\": 0, \"ticks\": \"\"}, \"colorscale\": [[0.0, \"#0d0887\"], [0.1111111111111111, \"#46039f\"], [0.2222222222222222, \"#7201a8\"], [0.3333333333333333, \"#9c179e\"], [0.4444444444444444, \"#bd3786\"], [0.5555555555555556, \"#d8576b\"], [0.6666666666666666, \"#ed7953\"], [0.7777777777777778, \"#fb9f3a\"], [0.8888888888888888, \"#fdca26\"], [1.0, \"#f0f921\"]], \"type\": \"surface\"}], \"table\": [{\"cells\": {\"fill\": {\"color\": \"#EBF0F8\"}, \"line\": {\"color\": \"white\"}}, \"header\": {\"fill\": {\"color\": \"#C8D4E3\"}, \"line\": {\"color\": \"white\"}}, \"type\": \"table\"}]}, \"layout\": {\"annotationdefaults\": {\"arrowcolor\": \"#2a3f5f\", \"arrowhead\": 0, \"arrowwidth\": 1}, \"autotypenumbers\": \"strict\", \"coloraxis\": {\"colorbar\": {\"outlinewidth\": 0, \"ticks\": \"\"}}, \"colorscale\": {\"diverging\": [[0, \"#8e0152\"], [0.1, \"#c51b7d\"], [0.2, \"#de77ae\"], [0.3, \"#f1b6da\"], [0.4, \"#fde0ef\"], [0.5, \"#f7f7f7\"], [0.6, \"#e6f5d0\"], [0.7, \"#b8e186\"], [0.8, \"#7fbc41\"], [0.9, \"#4d9221\"], [1, \"#276419\"]], \"sequential\": [[0.0, \"#0d0887\"], [0.1111111111111111, \"#46039f\"], [0.2222222222222222, \"#7201a8\"], [0.3333333333333333, \"#9c179e\"], [0.4444444444444444, \"#bd3786\"], [0.5555555555555556, \"#d8576b\"], [0.6666666666666666, \"#ed7953\"], [0.7777777777777778, \"#fb9f3a\"], [0.8888888888888888, \"#fdca26\"], [1.0, \"#f0f921\"]], \"sequentialminus\": [[0.0, \"#0d0887\"], [0.1111111111111111, \"#46039f\"], [0.2222222222222222, \"#7201a8\"], [0.3333333333333333, \"#9c179e\"], [0.4444444444444444, \"#bd3786\"], [0.5555555555555556, \"#d8576b\"], [0.6666666666666666, \"#ed7953\"], [0.7777777777777778, \"#fb9f3a\"], [0.8888888888888888, \"#fdca26\"], [1.0, \"#f0f921\"]]}, \"colorway\": [\"#636efa\", \"#EF553B\", \"#00cc96\", \"#ab63fa\", \"#FFA15A\", \"#19d3f3\", \"#FF6692\", \"#B6E880\", \"#FF97FF\", \"#FECB52\"], \"font\": {\"color\": \"#2a3f5f\"}, \"geo\": {\"bgcolor\": \"white\", \"lakecolor\": \"white\", \"landcolor\": \"#E5ECF6\", \"showlakes\": true, \"showland\": true, \"subunitcolor\": \"white\"}, \"hoverlabel\": {\"align\": \"left\"}, \"hovermode\": \"closest\", \"mapbox\": {\"style\": \"light\"}, \"paper_bgcolor\": \"white\", \"plot_bgcolor\": \"#E5ECF6\", \"polar\": {\"angularaxis\": {\"gridcolor\": \"white\", \"linecolor\": \"white\", \"ticks\": \"\"}, \"bgcolor\": \"#E5ECF6\", \"radialaxis\": {\"gridcolor\": \"white\", \"linecolor\": \"white\", \"ticks\": \"\"}}, \"scene\": {\"xaxis\": {\"backgroundcolor\": \"#E5ECF6\", \"gridcolor\": \"white\", \"gridwidth\": 2, \"linecolor\": \"white\", \"showbackground\": true, \"ticks\": \"\", \"zerolinecolor\": \"white\"}, \"yaxis\": {\"backgroundcolor\": \"#E5ECF6\", \"gridcolor\": \"white\", \"gridwidth\": 2, \"linecolor\": \"white\", \"showbackground\": true, \"ticks\": \"\", \"zerolinecolor\": \"white\"}, \"zaxis\": {\"backgroundcolor\": \"#E5ECF6\", \"gridcolor\": \"white\", \"gridwidth\": 2, \"linecolor\": \"white\", \"showbackground\": true, \"ticks\": \"\", \"zerolinecolor\": \"white\"}}, \"shapedefaults\": {\"line\": {\"color\": \"#2a3f5f\"}}, \"ternary\": {\"aaxis\": {\"gridcolor\": \"white\", \"linecolor\": \"white\", \"ticks\": \"\"}, \"baxis\": {\"gridcolor\": \"white\", \"linecolor\": \"white\", \"ticks\": \"\"}, \"bgcolor\": \"#E5ECF6\", \"caxis\": {\"gridcolor\": \"white\", \"linecolor\": \"white\", \"ticks\": \"\"}}, \"title\": {\"x\": 0.05}, \"xaxis\": {\"automargin\": true, \"gridcolor\": \"white\", \"linecolor\": \"white\", \"ticks\": \"\", \"title\": {\"standoff\": 15}, \"zerolinecolor\": \"white\", \"zerolinewidth\": 2}, \"yaxis\": {\"automargin\": true, \"gridcolor\": \"white\", \"linecolor\": \"white\", \"ticks\": \"\", \"title\": {\"standoff\": 15}, \"zerolinecolor\": \"white\", \"zerolinewidth\": 2}}}, \"xaxis\": {\"anchor\": \"y\", \"domain\": [0.0, 1.0], \"title\": {\"text\": \"kvartal\"}}, \"yaxis\": {\"anchor\": \"x\", \"domain\": [0.0, 1.0], \"title\": {\"text\": \"Ledige stillingar\"}}},                        {\"responsive\": true}                    ).then(function(){\n",
       "                            \n",
       "var gd = document.getElementById('7c0c68bb-baba-4b7f-89f9-4f8d08a9cec1');\n",
       "var x = new MutationObserver(function (mutations, observer) {{\n",
       "        var display = window.getComputedStyle(gd).display;\n",
       "        if (!display || display === 'none') {{\n",
       "            console.log([gd, 'removed!']);\n",
       "            Plotly.purge(gd);\n",
       "            observer.disconnect();\n",
       "        }}\n",
       "}});\n",
       "\n",
       "// Listen for the removal of the full notebook cells\n",
       "var notebookContainer = gd.closest('#notebook-container');\n",
       "if (notebookContainer) {{\n",
       "    x.observe(notebookContainer, {childList: true});\n",
       "}}\n",
       "\n",
       "// Listen for the clearing of the current output cell\n",
       "var outputEl = gd.closest('.output');\n",
       "if (outputEl) {{\n",
       "    x.observe(outputEl, {childList: true});\n",
       "}}\n",
       "\n",
       "                        })                };                });            </script>        </div>"
      ]
     },
     "metadata": {},
     "output_type": "display_data"
    }
   ],
   "source": [
    "fig = px.line(df_stillinger, y='Ledige stillingar', x='kvartal', color='NACE2007')\n",
    "fig.show()"
   ]
  },
  {
   "cell_type": "code",
   "execution_count": 24,
   "metadata": {},
   "outputs": [],
   "source": [
    "description = \"\"\"\n",
    "Ledige stillinger pr næring\n",
    "\"\"\"\n",
    "\n",
    "ds.plotly(fig, \"Ledige stillinger pr næring\",description)"
   ]
  },
  {
   "cell_type": "markdown",
   "metadata": {},
   "source": [
    "## Sysselsatte"
   ]
  },
  {
   "cell_type": "code",
   "execution_count": 25,
   "metadata": {},
   "outputs": [
    {
     "name": "stdout",
     "output_type": "stream",
     "text": [
      "<Response [200]>\n"
     ]
    }
   ],
   "source": [
    "url = 'https://data.ssb.no/api/v0/no/table/11154'\n",
    "query = \"\"\"\n",
    "{\n",
    "  \"query\": [\n",
    "    {\n",
    "      \"code\": \"Kjonn\",\n",
    "      \"selection\": {\n",
    "        \"filter\": \"item\",\n",
    "        \"values\": [\"0\"]\n",
    "      }\n",
    "    },\n",
    "    {\n",
    "      \"code\": \"NACE2007\",\n",
    "      \"selection\": {\n",
    "        \"filter\": \"all\",\n",
    "        \"values\": [\"*\"]\n",
    "      }\n",
    "    },\n",
    "    {\n",
    "      \"code\": \"ContentsCode\",\n",
    "      \"selection\": {\n",
    "        \"filter\": \"all\",\n",
    "        \"values\": [\"*\"]\n",
    "      }\n",
    "    },\n",
    "    {\n",
    "      \"code\": \"Tid\",\n",
    "      \"selection\": {\n",
    "        \"filter\": \"all\",\n",
    "        \"values\": [\"*\"]\n",
    "      }\n",
    "    }\n",
    "  ],\n",
    "  \"response\": {\n",
    "    \"format\": \"json-stat2\"\n",
    "  }\n",
    "}\n",
    "\"\"\"\n",
    "res = requests.post(url, json=json.loads(query))\n",
    "print(res)\n",
    "dataset = pyjstat.Dataset.read(res.text)\n",
    "df_sysselsatte = dataset.write('dataframe')\n",
    "df_sysselsatte_id = dataset.write('dataframe',naming='id')\n",
    "df_sysselsatte['NACE2007'] = df_sysselsatte_id['NACE2007']\n",
    "df_sysselsatte = df_sysselsatte[(df_sysselsatte['NACE2007']!='00-99') & (df_sysselsatte['kvartal']>'2010K4')]\n",
    "df_sysselsatte = df_sysselsatte.pivot(index=['NACE2007','næring (SN2007)','kvartal'], \n",
    "                                      columns=['statistikkvariabel'], \n",
    "                                      values='value').reset_index()\n"
   ]
  },
  {
   "cell_type": "code",
   "execution_count": 26,
   "metadata": {},
   "outputs": [
    {
     "data": {
      "text/html": [
       "<div>\n",
       "<style scoped>\n",
       "    .dataframe tbody tr th:only-of-type {\n",
       "        vertical-align: middle;\n",
       "    }\n",
       "\n",
       "    .dataframe tbody tr th {\n",
       "        vertical-align: top;\n",
       "    }\n",
       "\n",
       "    .dataframe thead th {\n",
       "        text-align: right;\n",
       "    }\n",
       "</style>\n",
       "<table border=\"1\" class=\"dataframe\">\n",
       "  <thead>\n",
       "    <tr style=\"text-align: right;\">\n",
       "      <th>statistikkvariabel</th>\n",
       "      <th>NACE2007</th>\n",
       "      <th>næring (SN2007)</th>\n",
       "      <th>kvartal</th>\n",
       "      <th>Sysselsatte</th>\n",
       "    </tr>\n",
       "  </thead>\n",
       "  <tbody>\n",
       "    <tr>\n",
       "      <th>0</th>\n",
       "      <td>01-02</td>\n",
       "      <td>Jordbruk og skogbruk</td>\n",
       "      <td>2011K1</td>\n",
       "      <td>45</td>\n",
       "    </tr>\n",
       "  </tbody>\n",
       "</table>\n",
       "</div>"
      ],
      "text/plain": [
       "statistikkvariabel NACE2007       næring (SN2007) kvartal  Sysselsatte\n",
       "0                     01-02  Jordbruk og skogbruk  2011K1           45"
      ]
     },
     "execution_count": 26,
     "metadata": {},
     "output_type": "execute_result"
    }
   ],
   "source": [
    "df_sysselsatte.head(1)"
   ]
  },
  {
   "cell_type": "code",
   "execution_count": 27,
   "metadata": {},
   "outputs": [
    {
     "data": {
      "text/plain": [
       "array(['01-02', '03', '05-09', '10-12', '13-15', '16', '17', '18',\n",
       "       '19-22', '23', '24-25', '26-28', '29-30', '31-33', '35', '36-39',\n",
       "       '41-43', '45', '46', '47', '49', '50', '51', '52', '53', '55',\n",
       "       '56', '58-63', '64-66', '68', '69-75', '77-82', '84', '85',\n",
       "       '86-88', '90-93', '94-99'], dtype=object)"
      ]
     },
     "execution_count": 27,
     "metadata": {},
     "output_type": "execute_result"
    }
   ],
   "source": [
    "df_sysselsatte['NACE2007'].unique()"
   ]
  },
  {
   "cell_type": "code",
   "execution_count": 28,
   "metadata": {},
   "outputs": [
    {
     "data": {
      "text/plain": [
       "array(['01-03', '05-09', '10-33', '35-39', '41-43', '45-47', '49-53',\n",
       "       '55-56', '58-63', '64-66', '68', '69-75', '77-82', '84', '85',\n",
       "       '86', '87', '88', '90-93', '94-96'], dtype=object)"
      ]
     },
     "execution_count": 28,
     "metadata": {},
     "output_type": "execute_result"
    }
   ],
   "source": [
    "df_stillinger['NACE2007'].unique()"
   ]
  },
  {
   "cell_type": "code",
   "execution_count": 29,
   "metadata": {},
   "outputs": [],
   "source": [
    "df = pd.merge(df_stillinger, df_sysselsatte, on=['NACE2007','kvartal'], suffixes=['','_sysselsatte'])"
   ]
  },
  {
   "cell_type": "code",
   "execution_count": 30,
   "metadata": {},
   "outputs": [
    {
     "data": {
      "text/html": [
       "<div>\n",
       "<style scoped>\n",
       "    .dataframe tbody tr th:only-of-type {\n",
       "        vertical-align: middle;\n",
       "    }\n",
       "\n",
       "    .dataframe tbody tr th {\n",
       "        vertical-align: top;\n",
       "    }\n",
       "\n",
       "    .dataframe thead th {\n",
       "        text-align: right;\n",
       "    }\n",
       "</style>\n",
       "<table border=\"1\" class=\"dataframe\">\n",
       "  <thead>\n",
       "    <tr style=\"text-align: right;\">\n",
       "      <th>statistikkvariabel</th>\n",
       "      <th>NACE2007</th>\n",
       "      <th>næring (SN2007)</th>\n",
       "      <th>kvartal</th>\n",
       "      <th>Ledige stillingar</th>\n",
       "      <th>Ledige stillingar (prosent)</th>\n",
       "      <th>Ledige stillingar, endring frå året før</th>\n",
       "      <th>Ledige stillingar, endring i prosentpoeng frå året før</th>\n",
       "      <th>næring (SN2007)_sysselsatte</th>\n",
       "      <th>Sysselsatte</th>\n",
       "    </tr>\n",
       "  </thead>\n",
       "  <tbody>\n",
       "    <tr>\n",
       "      <th>0</th>\n",
       "      <td>05-09</td>\n",
       "      <td>Bergverksdrift og utvinning</td>\n",
       "      <td>2011K1</td>\n",
       "      <td>1800.0</td>\n",
       "      <td>3.3</td>\n",
       "      <td>1100.0</td>\n",
       "      <td>1.7</td>\n",
       "      <td>Bergverksdrift og utvinning</td>\n",
       "      <td>49</td>\n",
       "    </tr>\n",
       "  </tbody>\n",
       "</table>\n",
       "</div>"
      ],
      "text/plain": [
       "statistikkvariabel NACE2007              næring (SN2007) kvartal  \\\n",
       "0                     05-09  Bergverksdrift og utvinning  2011K1   \n",
       "\n",
       "statistikkvariabel  Ledige stillingar  Ledige stillingar (prosent)  \\\n",
       "0                              1800.0                          3.3   \n",
       "\n",
       "statistikkvariabel  Ledige stillingar, endring frå året før  \\\n",
       "0                                                    1100.0   \n",
       "\n",
       "statistikkvariabel  Ledige stillingar, endring i prosentpoeng frå året før  \\\n",
       "0                                                                 1.7        \n",
       "\n",
       "statistikkvariabel  næring (SN2007)_sysselsatte  Sysselsatte  \n",
       "0                   Bergverksdrift og utvinning           49  "
      ]
     },
     "execution_count": 30,
     "metadata": {},
     "output_type": "execute_result"
    }
   ],
   "source": [
    "df.head(1)"
   ]
  },
  {
   "cell_type": "code",
   "execution_count": 31,
   "metadata": {},
   "outputs": [
    {
     "data": {
      "text/plain": [
       "array(['05-09', '41-43', '58-63', '64-66', '68', '69-75', '77-82', '84',\n",
       "       '85', '90-93'], dtype=object)"
      ]
     },
     "execution_count": 31,
     "metadata": {},
     "output_type": "execute_result"
    }
   ],
   "source": [
    "df['NACE2007'].unique()"
   ]
  },
  {
   "cell_type": "code",
   "execution_count": 32,
   "metadata": {},
   "outputs": [
    {
     "data": {
      "application/vnd.plotly.v1+json": {
       "config": {
        "plotlyServerURL": "https://plot.ly"
       },
       "data": [
        {
         "hovertemplate": "<b>%{hovertext}</b><br><br>næring (SN2007)=Bergverksdrift og utvinning<br>kvartal=2011K1<br>Ledige stillingar (prosent)=%{x}<br>Sysselsatte=%{y}<br>Ledige stillingar=%{marker.size}<extra></extra>",
         "hovertext": [
          "Bergverksdrift og utvinning"
         ],
         "ids": [
          "Bergverksdrift og utvinning"
         ],
         "legendgroup": "Bergverksdrift og utvinning",
         "marker": {
          "color": "#636efa",
          "size": [
           1800
          ],
          "sizemode": "area",
          "sizeref": 4.32,
          "symbol": "circle"
         },
         "mode": "markers",
         "name": "Bergverksdrift og utvinning",
         "orientation": "v",
         "showlegend": true,
         "type": "scatter",
         "x": [
          3.3
         ],
         "xaxis": "x",
         "y": [
          49
         ],
         "yaxis": "y"
        },
        {
         "hovertemplate": "<b>%{hovertext}</b><br><br>næring (SN2007)=Byggje- og anleggsverksemd<br>kvartal=2011K1<br>Ledige stillingar (prosent)=%{x}<br>Sysselsatte=%{y}<br>Ledige stillingar=%{marker.size}<extra></extra>",
         "hovertext": [
          "Byggje- og anleggsverksemd"
         ],
         "ids": [
          "Byggje- og anleggsverksemd"
         ],
         "legendgroup": "Byggje- og anleggsverksemd",
         "marker": {
          "color": "#EF553B",
          "size": [
           5100
          ],
          "sizemode": "area",
          "sizeref": 4.32,
          "symbol": "circle"
         },
         "mode": "markers",
         "name": "Byggje- og anleggsverksemd",
         "orientation": "v",
         "showlegend": true,
         "type": "scatter",
         "x": [
          2.8
         ],
         "xaxis": "x",
         "y": [
          182
         ],
         "yaxis": "y"
        },
        {
         "hovertemplate": "<b>%{hovertext}</b><br><br>næring (SN2007)=Informasjon og kommunikasjon<br>kvartal=2011K1<br>Ledige stillingar (prosent)=%{x}<br>Sysselsatte=%{y}<br>Ledige stillingar=%{marker.size}<extra></extra>",
         "hovertext": [
          "Informasjon og kommunikasjon"
         ],
         "ids": [
          "Informasjon og kommunikasjon"
         ],
         "legendgroup": "Informasjon og kommunikasjon",
         "marker": {
          "color": "#00cc96",
          "size": [
           3500
          ],
          "sizemode": "area",
          "sizeref": 4.32,
          "symbol": "circle"
         },
         "mode": "markers",
         "name": "Informasjon og kommunikasjon",
         "orientation": "v",
         "showlegend": true,
         "type": "scatter",
         "x": [
          4.1
         ],
         "xaxis": "x",
         "y": [
          91
         ],
         "yaxis": "y"
        },
        {
         "hovertemplate": "<b>%{hovertext}</b><br><br>næring (SN2007)=Finansierings- og forsikringsverksemd<br>kvartal=2011K1<br>Ledige stillingar (prosent)=%{x}<br>Sysselsatte=%{y}<br>Ledige stillingar=%{marker.size}<extra></extra>",
         "hovertext": [
          "Finansierings- og forsikringsverksemd"
         ],
         "ids": [
          "Finansierings- og forsikringsverksemd"
         ],
         "legendgroup": "Finansierings- og forsikringsverksemd",
         "marker": {
          "color": "#ab63fa",
          "size": [
           1300
          ],
          "sizemode": "area",
          "sizeref": 4.32,
          "symbol": "circle"
         },
         "mode": "markers",
         "name": "Finansierings- og forsikringsverksemd",
         "orientation": "v",
         "showlegend": true,
         "type": "scatter",
         "x": [
          2.7
         ],
         "xaxis": "x",
         "y": [
          51
         ],
         "yaxis": "y"
        },
        {
         "hovertemplate": "<b>%{hovertext}</b><br><br>næring (SN2007)=Omsetning og drift av fast eigedom<br>kvartal=2011K1<br>Ledige stillingar (prosent)=%{x}<br>Sysselsatte=%{y}<br>Ledige stillingar=%{marker.size}<extra></extra>",
         "hovertext": [
          "Omsetning og drift av fast eigedom"
         ],
         "ids": [
          "Omsetning og drift av fast eigedom"
         ],
         "legendgroup": "Omsetning og drift av fast eigedom",
         "marker": {
          "color": "#FFA15A",
          "size": [
           700
          ],
          "sizemode": "area",
          "sizeref": 4.32,
          "symbol": "circle"
         },
         "mode": "markers",
         "name": "Omsetning og drift av fast eigedom",
         "orientation": "v",
         "showlegend": true,
         "type": "scatter",
         "x": [
          2.9
         ],
         "xaxis": "x",
         "y": [
          21
         ],
         "yaxis": "y"
        },
        {
         "hovertemplate": "<b>%{hovertext}</b><br><br>næring (SN2007)=Fagleg, vitskapleg og teknisk tenesteyting<br>kvartal=2011K1<br>Ledige stillingar (prosent)=%{x}<br>Sysselsatte=%{y}<br>Ledige stillingar=%{marker.size}<extra></extra>",
         "hovertext": [
          "Fagleg, vitskapleg og teknisk tenesteyting"
         ],
         "ids": [
          "Fagleg, vitskapleg og teknisk tenesteyting"
         ],
         "legendgroup": "Fagleg, vitskapleg og teknisk tenesteyting",
         "marker": {
          "color": "#19d3f3",
          "size": [
           5200
          ],
          "sizemode": "area",
          "sizeref": 4.32,
          "symbol": "circle"
         },
         "mode": "markers",
         "name": "Fagleg, vitskapleg og teknisk tenesteyting",
         "orientation": "v",
         "showlegend": true,
         "type": "scatter",
         "x": [
          4.4
         ],
         "xaxis": "x",
         "y": [
          133
         ],
         "yaxis": "y"
        },
        {
         "hovertemplate": "<b>%{hovertext}</b><br><br>næring (SN2007)=Forretningsmessig tenesteyting<br>kvartal=2011K1<br>Ledige stillingar (prosent)=%{x}<br>Sysselsatte=%{y}<br>Ledige stillingar=%{marker.size}<extra></extra>",
         "hovertext": [
          "Forretningsmessig tenesteyting"
         ],
         "ids": [
          "Forretningsmessig tenesteyting"
         ],
         "legendgroup": "Forretningsmessig tenesteyting",
         "marker": {
          "color": "#FF6692",
          "size": [
           9400
          ],
          "sizemode": "area",
          "sizeref": 4.32,
          "symbol": "circle"
         },
         "mode": "markers",
         "name": "Forretningsmessig tenesteyting",
         "orientation": "v",
         "showlegend": true,
         "type": "scatter",
         "x": [
          6.9
         ],
         "xaxis": "x",
         "y": [
          103
         ],
         "yaxis": "y"
        },
        {
         "hovertemplate": "<b>%{hovertext}</b><br><br>næring (SN2007)=Offentleg administrasjon og forsvar, og trygdeordningar underordna offentleg forvalting<br>kvartal=2011K1<br>Ledige stillingar (prosent)=%{x}<br>Sysselsatte=%{y}<br>Ledige stillingar=%{marker.size}<extra></extra>",
         "hovertext": [
          "Offentleg administrasjon og forsvar, og trygdeordningar underordna offentleg forvalting"
         ],
         "ids": [
          "Offentleg administrasjon og forsvar, og trygdeordningar underordna offentleg forvalting"
         ],
         "legendgroup": "Offentleg administrasjon og forsvar, og trygdeordningar underordna offentleg forvalting",
         "marker": {
          "color": "#B6E880",
          "size": [
           3900
          ],
          "sizemode": "area",
          "sizeref": 4.32,
          "symbol": "circle"
         },
         "mode": "markers",
         "name": "Offentleg administrasjon og forsvar, og trygdeordningar underordna offentleg forvalting",
         "orientation": "v",
         "showlegend": true,
         "type": "scatter",
         "x": [
          2.6
         ],
         "xaxis": "x",
         "y": [
          148
         ],
         "yaxis": "y"
        },
        {
         "hovertemplate": "<b>%{hovertext}</b><br><br>næring (SN2007)=Undervisning<br>kvartal=2011K1<br>Ledige stillingar (prosent)=%{x}<br>Sysselsatte=%{y}<br>Ledige stillingar=%{marker.size}<extra></extra>",
         "hovertext": [
          "Undervisning"
         ],
         "ids": [
          "Undervisning"
         ],
         "legendgroup": "Undervisning",
         "marker": {
          "color": "#FF97FF",
          "size": [
           2700
          ],
          "sizemode": "area",
          "sizeref": 4.32,
          "symbol": "circle"
         },
         "mode": "markers",
         "name": "Undervisning",
         "orientation": "v",
         "showlegend": true,
         "type": "scatter",
         "x": [
          1.3
         ],
         "xaxis": "x",
         "y": [
          214
         ],
         "yaxis": "y"
        },
        {
         "hovertemplate": "<b>%{hovertext}</b><br><br>næring (SN2007)=Kulturell verksemd, underhaldning og fritidsaktivitetar<br>kvartal=2011K1<br>Ledige stillingar (prosent)=%{x}<br>Sysselsatte=%{y}<br>Ledige stillingar=%{marker.size}<extra></extra>",
         "hovertext": [
          "Kulturell verksemd, underhaldning og fritidsaktivitetar"
         ],
         "ids": [
          "Kulturell verksemd, underhaldning og fritidsaktivitetar"
         ],
         "legendgroup": "Kulturell verksemd, underhaldning og fritidsaktivitetar",
         "marker": {
          "color": "#FECB52",
          "size": [
           500
          ],
          "sizemode": "area",
          "sizeref": 4.32,
          "symbol": "circle"
         },
         "mode": "markers",
         "name": "Kulturell verksemd, underhaldning og fritidsaktivitetar",
         "orientation": "v",
         "showlegend": true,
         "type": "scatter",
         "x": [
          1.6
         ],
         "xaxis": "x",
         "y": [
          52
         ],
         "yaxis": "y"
        }
       ],
       "frames": [
        {
         "data": [
          {
           "hovertemplate": "<b>%{hovertext}</b><br><br>næring (SN2007)=Bergverksdrift og utvinning<br>kvartal=2011K1<br>Ledige stillingar (prosent)=%{x}<br>Sysselsatte=%{y}<br>Ledige stillingar=%{marker.size}<extra></extra>",
           "hovertext": [
            "Bergverksdrift og utvinning"
           ],
           "ids": [
            "Bergverksdrift og utvinning"
           ],
           "legendgroup": "Bergverksdrift og utvinning",
           "marker": {
            "color": "#636efa",
            "size": [
             1800
            ],
            "sizemode": "area",
            "sizeref": 4.32,
            "symbol": "circle"
           },
           "mode": "markers",
           "name": "Bergverksdrift og utvinning",
           "orientation": "v",
           "showlegend": true,
           "type": "scatter",
           "x": [
            3.3
           ],
           "xaxis": "x",
           "y": [
            49
           ],
           "yaxis": "y"
          },
          {
           "hovertemplate": "<b>%{hovertext}</b><br><br>næring (SN2007)=Byggje- og anleggsverksemd<br>kvartal=2011K1<br>Ledige stillingar (prosent)=%{x}<br>Sysselsatte=%{y}<br>Ledige stillingar=%{marker.size}<extra></extra>",
           "hovertext": [
            "Byggje- og anleggsverksemd"
           ],
           "ids": [
            "Byggje- og anleggsverksemd"
           ],
           "legendgroup": "Byggje- og anleggsverksemd",
           "marker": {
            "color": "#EF553B",
            "size": [
             5100
            ],
            "sizemode": "area",
            "sizeref": 4.32,
            "symbol": "circle"
           },
           "mode": "markers",
           "name": "Byggje- og anleggsverksemd",
           "orientation": "v",
           "showlegend": true,
           "type": "scatter",
           "x": [
            2.8
           ],
           "xaxis": "x",
           "y": [
            182
           ],
           "yaxis": "y"
          },
          {
           "hovertemplate": "<b>%{hovertext}</b><br><br>næring (SN2007)=Informasjon og kommunikasjon<br>kvartal=2011K1<br>Ledige stillingar (prosent)=%{x}<br>Sysselsatte=%{y}<br>Ledige stillingar=%{marker.size}<extra></extra>",
           "hovertext": [
            "Informasjon og kommunikasjon"
           ],
           "ids": [
            "Informasjon og kommunikasjon"
           ],
           "legendgroup": "Informasjon og kommunikasjon",
           "marker": {
            "color": "#00cc96",
            "size": [
             3500
            ],
            "sizemode": "area",
            "sizeref": 4.32,
            "symbol": "circle"
           },
           "mode": "markers",
           "name": "Informasjon og kommunikasjon",
           "orientation": "v",
           "showlegend": true,
           "type": "scatter",
           "x": [
            4.1
           ],
           "xaxis": "x",
           "y": [
            91
           ],
           "yaxis": "y"
          },
          {
           "hovertemplate": "<b>%{hovertext}</b><br><br>næring (SN2007)=Finansierings- og forsikringsverksemd<br>kvartal=2011K1<br>Ledige stillingar (prosent)=%{x}<br>Sysselsatte=%{y}<br>Ledige stillingar=%{marker.size}<extra></extra>",
           "hovertext": [
            "Finansierings- og forsikringsverksemd"
           ],
           "ids": [
            "Finansierings- og forsikringsverksemd"
           ],
           "legendgroup": "Finansierings- og forsikringsverksemd",
           "marker": {
            "color": "#ab63fa",
            "size": [
             1300
            ],
            "sizemode": "area",
            "sizeref": 4.32,
            "symbol": "circle"
           },
           "mode": "markers",
           "name": "Finansierings- og forsikringsverksemd",
           "orientation": "v",
           "showlegend": true,
           "type": "scatter",
           "x": [
            2.7
           ],
           "xaxis": "x",
           "y": [
            51
           ],
           "yaxis": "y"
          },
          {
           "hovertemplate": "<b>%{hovertext}</b><br><br>næring (SN2007)=Omsetning og drift av fast eigedom<br>kvartal=2011K1<br>Ledige stillingar (prosent)=%{x}<br>Sysselsatte=%{y}<br>Ledige stillingar=%{marker.size}<extra></extra>",
           "hovertext": [
            "Omsetning og drift av fast eigedom"
           ],
           "ids": [
            "Omsetning og drift av fast eigedom"
           ],
           "legendgroup": "Omsetning og drift av fast eigedom",
           "marker": {
            "color": "#FFA15A",
            "size": [
             700
            ],
            "sizemode": "area",
            "sizeref": 4.32,
            "symbol": "circle"
           },
           "mode": "markers",
           "name": "Omsetning og drift av fast eigedom",
           "orientation": "v",
           "showlegend": true,
           "type": "scatter",
           "x": [
            2.9
           ],
           "xaxis": "x",
           "y": [
            21
           ],
           "yaxis": "y"
          },
          {
           "hovertemplate": "<b>%{hovertext}</b><br><br>næring (SN2007)=Fagleg, vitskapleg og teknisk tenesteyting<br>kvartal=2011K1<br>Ledige stillingar (prosent)=%{x}<br>Sysselsatte=%{y}<br>Ledige stillingar=%{marker.size}<extra></extra>",
           "hovertext": [
            "Fagleg, vitskapleg og teknisk tenesteyting"
           ],
           "ids": [
            "Fagleg, vitskapleg og teknisk tenesteyting"
           ],
           "legendgroup": "Fagleg, vitskapleg og teknisk tenesteyting",
           "marker": {
            "color": "#19d3f3",
            "size": [
             5200
            ],
            "sizemode": "area",
            "sizeref": 4.32,
            "symbol": "circle"
           },
           "mode": "markers",
           "name": "Fagleg, vitskapleg og teknisk tenesteyting",
           "orientation": "v",
           "showlegend": true,
           "type": "scatter",
           "x": [
            4.4
           ],
           "xaxis": "x",
           "y": [
            133
           ],
           "yaxis": "y"
          },
          {
           "hovertemplate": "<b>%{hovertext}</b><br><br>næring (SN2007)=Forretningsmessig tenesteyting<br>kvartal=2011K1<br>Ledige stillingar (prosent)=%{x}<br>Sysselsatte=%{y}<br>Ledige stillingar=%{marker.size}<extra></extra>",
           "hovertext": [
            "Forretningsmessig tenesteyting"
           ],
           "ids": [
            "Forretningsmessig tenesteyting"
           ],
           "legendgroup": "Forretningsmessig tenesteyting",
           "marker": {
            "color": "#FF6692",
            "size": [
             9400
            ],
            "sizemode": "area",
            "sizeref": 4.32,
            "symbol": "circle"
           },
           "mode": "markers",
           "name": "Forretningsmessig tenesteyting",
           "orientation": "v",
           "showlegend": true,
           "type": "scatter",
           "x": [
            6.9
           ],
           "xaxis": "x",
           "y": [
            103
           ],
           "yaxis": "y"
          },
          {
           "hovertemplate": "<b>%{hovertext}</b><br><br>næring (SN2007)=Offentleg administrasjon og forsvar, og trygdeordningar underordna offentleg forvalting<br>kvartal=2011K1<br>Ledige stillingar (prosent)=%{x}<br>Sysselsatte=%{y}<br>Ledige stillingar=%{marker.size}<extra></extra>",
           "hovertext": [
            "Offentleg administrasjon og forsvar, og trygdeordningar underordna offentleg forvalting"
           ],
           "ids": [
            "Offentleg administrasjon og forsvar, og trygdeordningar underordna offentleg forvalting"
           ],
           "legendgroup": "Offentleg administrasjon og forsvar, og trygdeordningar underordna offentleg forvalting",
           "marker": {
            "color": "#B6E880",
            "size": [
             3900
            ],
            "sizemode": "area",
            "sizeref": 4.32,
            "symbol": "circle"
           },
           "mode": "markers",
           "name": "Offentleg administrasjon og forsvar, og trygdeordningar underordna offentleg forvalting",
           "orientation": "v",
           "showlegend": true,
           "type": "scatter",
           "x": [
            2.6
           ],
           "xaxis": "x",
           "y": [
            148
           ],
           "yaxis": "y"
          },
          {
           "hovertemplate": "<b>%{hovertext}</b><br><br>næring (SN2007)=Undervisning<br>kvartal=2011K1<br>Ledige stillingar (prosent)=%{x}<br>Sysselsatte=%{y}<br>Ledige stillingar=%{marker.size}<extra></extra>",
           "hovertext": [
            "Undervisning"
           ],
           "ids": [
            "Undervisning"
           ],
           "legendgroup": "Undervisning",
           "marker": {
            "color": "#FF97FF",
            "size": [
             2700
            ],
            "sizemode": "area",
            "sizeref": 4.32,
            "symbol": "circle"
           },
           "mode": "markers",
           "name": "Undervisning",
           "orientation": "v",
           "showlegend": true,
           "type": "scatter",
           "x": [
            1.3
           ],
           "xaxis": "x",
           "y": [
            214
           ],
           "yaxis": "y"
          },
          {
           "hovertemplate": "<b>%{hovertext}</b><br><br>næring (SN2007)=Kulturell verksemd, underhaldning og fritidsaktivitetar<br>kvartal=2011K1<br>Ledige stillingar (prosent)=%{x}<br>Sysselsatte=%{y}<br>Ledige stillingar=%{marker.size}<extra></extra>",
           "hovertext": [
            "Kulturell verksemd, underhaldning og fritidsaktivitetar"
           ],
           "ids": [
            "Kulturell verksemd, underhaldning og fritidsaktivitetar"
           ],
           "legendgroup": "Kulturell verksemd, underhaldning og fritidsaktivitetar",
           "marker": {
            "color": "#FECB52",
            "size": [
             500
            ],
            "sizemode": "area",
            "sizeref": 4.32,
            "symbol": "circle"
           },
           "mode": "markers",
           "name": "Kulturell verksemd, underhaldning og fritidsaktivitetar",
           "orientation": "v",
           "showlegend": true,
           "type": "scatter",
           "x": [
            1.6
           ],
           "xaxis": "x",
           "y": [
            52
           ],
           "yaxis": "y"
          }
         ],
         "name": "2011K1"
        },
        {
         "data": [
          {
           "hovertemplate": "<b>%{hovertext}</b><br><br>næring (SN2007)=Bergverksdrift og utvinning<br>kvartal=2011K2<br>Ledige stillingar (prosent)=%{x}<br>Sysselsatte=%{y}<br>Ledige stillingar=%{marker.size}<extra></extra>",
           "hovertext": [
            "Bergverksdrift og utvinning"
           ],
           "ids": [
            "Bergverksdrift og utvinning"
           ],
           "legendgroup": "Bergverksdrift og utvinning",
           "marker": {
            "color": "#636efa",
            "size": [
             2000
            ],
            "sizemode": "area",
            "sizeref": 4.32,
            "symbol": "circle"
           },
           "mode": "markers",
           "name": "Bergverksdrift og utvinning",
           "orientation": "v",
           "showlegend": true,
           "type": "scatter",
           "x": [
            3.5
           ],
           "xaxis": "x",
           "y": [
            53
           ],
           "yaxis": "y"
          },
          {
           "hovertemplate": "<b>%{hovertext}</b><br><br>næring (SN2007)=Byggje- og anleggsverksemd<br>kvartal=2011K2<br>Ledige stillingar (prosent)=%{x}<br>Sysselsatte=%{y}<br>Ledige stillingar=%{marker.size}<extra></extra>",
           "hovertext": [
            "Byggje- og anleggsverksemd"
           ],
           "ids": [
            "Byggje- og anleggsverksemd"
           ],
           "legendgroup": "Byggje- og anleggsverksemd",
           "marker": {
            "color": "#EF553B",
            "size": [
             5300
            ],
            "sizemode": "area",
            "sizeref": 4.32,
            "symbol": "circle"
           },
           "mode": "markers",
           "name": "Byggje- og anleggsverksemd",
           "orientation": "v",
           "showlegend": true,
           "type": "scatter",
           "x": [
            2.9
           ],
           "xaxis": "x",
           "y": [
            184
           ],
           "yaxis": "y"
          },
          {
           "hovertemplate": "<b>%{hovertext}</b><br><br>næring (SN2007)=Informasjon og kommunikasjon<br>kvartal=2011K2<br>Ledige stillingar (prosent)=%{x}<br>Sysselsatte=%{y}<br>Ledige stillingar=%{marker.size}<extra></extra>",
           "hovertext": [
            "Informasjon og kommunikasjon"
           ],
           "ids": [
            "Informasjon og kommunikasjon"
           ],
           "legendgroup": "Informasjon og kommunikasjon",
           "marker": {
            "color": "#00cc96",
            "size": [
             3400
            ],
            "sizemode": "area",
            "sizeref": 4.32,
            "symbol": "circle"
           },
           "mode": "markers",
           "name": "Informasjon og kommunikasjon",
           "orientation": "v",
           "showlegend": true,
           "type": "scatter",
           "x": [
            4
           ],
           "xaxis": "x",
           "y": [
            94
           ],
           "yaxis": "y"
          },
          {
           "hovertemplate": "<b>%{hovertext}</b><br><br>næring (SN2007)=Finansierings- og forsikringsverksemd<br>kvartal=2011K2<br>Ledige stillingar (prosent)=%{x}<br>Sysselsatte=%{y}<br>Ledige stillingar=%{marker.size}<extra></extra>",
           "hovertext": [
            "Finansierings- og forsikringsverksemd"
           ],
           "ids": [
            "Finansierings- og forsikringsverksemd"
           ],
           "legendgroup": "Finansierings- og forsikringsverksemd",
           "marker": {
            "color": "#ab63fa",
            "size": [
             1500
            ],
            "sizemode": "area",
            "sizeref": 4.32,
            "symbol": "circle"
           },
           "mode": "markers",
           "name": "Finansierings- og forsikringsverksemd",
           "orientation": "v",
           "showlegend": true,
           "type": "scatter",
           "x": [
            2.9
           ],
           "xaxis": "x",
           "y": [
            51
           ],
           "yaxis": "y"
          },
          {
           "hovertemplate": "<b>%{hovertext}</b><br><br>næring (SN2007)=Omsetning og drift av fast eigedom<br>kvartal=2011K2<br>Ledige stillingar (prosent)=%{x}<br>Sysselsatte=%{y}<br>Ledige stillingar=%{marker.size}<extra></extra>",
           "hovertext": [
            "Omsetning og drift av fast eigedom"
           ],
           "ids": [
            "Omsetning og drift av fast eigedom"
           ],
           "legendgroup": "Omsetning og drift av fast eigedom",
           "marker": {
            "color": "#FFA15A",
            "size": [
             800
            ],
            "sizemode": "area",
            "sizeref": 4.32,
            "symbol": "circle"
           },
           "mode": "markers",
           "name": "Omsetning og drift av fast eigedom",
           "orientation": "v",
           "showlegend": true,
           "type": "scatter",
           "x": [
            3.5
           ],
           "xaxis": "x",
           "y": [
            20
           ],
           "yaxis": "y"
          },
          {
           "hovertemplate": "<b>%{hovertext}</b><br><br>næring (SN2007)=Fagleg, vitskapleg og teknisk tenesteyting<br>kvartal=2011K2<br>Ledige stillingar (prosent)=%{x}<br>Sysselsatte=%{y}<br>Ledige stillingar=%{marker.size}<extra></extra>",
           "hovertext": [
            "Fagleg, vitskapleg og teknisk tenesteyting"
           ],
           "ids": [
            "Fagleg, vitskapleg og teknisk tenesteyting"
           ],
           "legendgroup": "Fagleg, vitskapleg og teknisk tenesteyting",
           "marker": {
            "color": "#19d3f3",
            "size": [
             4600
            ],
            "sizemode": "area",
            "sizeref": 4.32,
            "symbol": "circle"
           },
           "mode": "markers",
           "name": "Fagleg, vitskapleg og teknisk tenesteyting",
           "orientation": "v",
           "showlegend": true,
           "type": "scatter",
           "x": [
            4
           ],
           "xaxis": "x",
           "y": [
            128
           ],
           "yaxis": "y"
          },
          {
           "hovertemplate": "<b>%{hovertext}</b><br><br>næring (SN2007)=Forretningsmessig tenesteyting<br>kvartal=2011K2<br>Ledige stillingar (prosent)=%{x}<br>Sysselsatte=%{y}<br>Ledige stillingar=%{marker.size}<extra></extra>",
           "hovertext": [
            "Forretningsmessig tenesteyting"
           ],
           "ids": [
            "Forretningsmessig tenesteyting"
           ],
           "legendgroup": "Forretningsmessig tenesteyting",
           "marker": {
            "color": "#FF6692",
            "size": [
             10700
            ],
            "sizemode": "area",
            "sizeref": 4.32,
            "symbol": "circle"
           },
           "mode": "markers",
           "name": "Forretningsmessig tenesteyting",
           "orientation": "v",
           "showlegend": true,
           "type": "scatter",
           "x": [
            7.8
           ],
           "xaxis": "x",
           "y": [
            105
           ],
           "yaxis": "y"
          },
          {
           "hovertemplate": "<b>%{hovertext}</b><br><br>næring (SN2007)=Offentleg administrasjon og forsvar, og trygdeordningar underordna offentleg forvalting<br>kvartal=2011K2<br>Ledige stillingar (prosent)=%{x}<br>Sysselsatte=%{y}<br>Ledige stillingar=%{marker.size}<extra></extra>",
           "hovertext": [
            "Offentleg administrasjon og forsvar, og trygdeordningar underordna offentleg forvalting"
           ],
           "ids": [
            "Offentleg administrasjon og forsvar, og trygdeordningar underordna offentleg forvalting"
           ],
           "legendgroup": "Offentleg administrasjon og forsvar, og trygdeordningar underordna offentleg forvalting",
           "marker": {
            "color": "#B6E880",
            "size": [
             3400
            ],
            "sizemode": "area",
            "sizeref": 4.32,
            "symbol": "circle"
           },
           "mode": "markers",
           "name": "Offentleg administrasjon og forsvar, og trygdeordningar underordna offentleg forvalting",
           "orientation": "v",
           "showlegend": true,
           "type": "scatter",
           "x": [
            2.3
           ],
           "xaxis": "x",
           "y": [
            151
           ],
           "yaxis": "y"
          },
          {
           "hovertemplate": "<b>%{hovertext}</b><br><br>næring (SN2007)=Undervisning<br>kvartal=2011K2<br>Ledige stillingar (prosent)=%{x}<br>Sysselsatte=%{y}<br>Ledige stillingar=%{marker.size}<extra></extra>",
           "hovertext": [
            "Undervisning"
           ],
           "ids": [
            "Undervisning"
           ],
           "legendgroup": "Undervisning",
           "marker": {
            "color": "#FF97FF",
            "size": [
             5100
            ],
            "sizemode": "area",
            "sizeref": 4.32,
            "symbol": "circle"
           },
           "mode": "markers",
           "name": "Undervisning",
           "orientation": "v",
           "showlegend": true,
           "type": "scatter",
           "x": [
            2.4
           ],
           "xaxis": "x",
           "y": [
            212
           ],
           "yaxis": "y"
          },
          {
           "hovertemplate": "<b>%{hovertext}</b><br><br>næring (SN2007)=Kulturell verksemd, underhaldning og fritidsaktivitetar<br>kvartal=2011K2<br>Ledige stillingar (prosent)=%{x}<br>Sysselsatte=%{y}<br>Ledige stillingar=%{marker.size}<extra></extra>",
           "hovertext": [
            "Kulturell verksemd, underhaldning og fritidsaktivitetar"
           ],
           "ids": [
            "Kulturell verksemd, underhaldning og fritidsaktivitetar"
           ],
           "legendgroup": "Kulturell verksemd, underhaldning og fritidsaktivitetar",
           "marker": {
            "color": "#FECB52",
            "size": [
             600
            ],
            "sizemode": "area",
            "sizeref": 4.32,
            "symbol": "circle"
           },
           "mode": "markers",
           "name": "Kulturell verksemd, underhaldning og fritidsaktivitetar",
           "orientation": "v",
           "showlegend": true,
           "type": "scatter",
           "x": [
            1.9
           ],
           "xaxis": "x",
           "y": [
            51
           ],
           "yaxis": "y"
          }
         ],
         "name": "2011K2"
        },
        {
         "data": [
          {
           "hovertemplate": "<b>%{hovertext}</b><br><br>næring (SN2007)=Bergverksdrift og utvinning<br>kvartal=2011K3<br>Ledige stillingar (prosent)=%{x}<br>Sysselsatte=%{y}<br>Ledige stillingar=%{marker.size}<extra></extra>",
           "hovertext": [
            "Bergverksdrift og utvinning"
           ],
           "ids": [
            "Bergverksdrift og utvinning"
           ],
           "legendgroup": "Bergverksdrift og utvinning",
           "marker": {
            "color": "#636efa",
            "size": [
             1800
            ],
            "sizemode": "area",
            "sizeref": 4.32,
            "symbol": "circle"
           },
           "mode": "markers",
           "name": "Bergverksdrift og utvinning",
           "orientation": "v",
           "showlegend": true,
           "type": "scatter",
           "x": [
            3.2
           ],
           "xaxis": "x",
           "y": [
            54
           ],
           "yaxis": "y"
          },
          {
           "hovertemplate": "<b>%{hovertext}</b><br><br>næring (SN2007)=Byggje- og anleggsverksemd<br>kvartal=2011K3<br>Ledige stillingar (prosent)=%{x}<br>Sysselsatte=%{y}<br>Ledige stillingar=%{marker.size}<extra></extra>",
           "hovertext": [
            "Byggje- og anleggsverksemd"
           ],
           "ids": [
            "Byggje- og anleggsverksemd"
           ],
           "legendgroup": "Byggje- og anleggsverksemd",
           "marker": {
            "color": "#EF553B",
            "size": [
             4500
            ],
            "sizemode": "area",
            "sizeref": 4.32,
            "symbol": "circle"
           },
           "mode": "markers",
           "name": "Byggje- og anleggsverksemd",
           "orientation": "v",
           "showlegend": true,
           "type": "scatter",
           "x": [
            2.3
           ],
           "xaxis": "x",
           "y": [
            190
           ],
           "yaxis": "y"
          },
          {
           "hovertemplate": "<b>%{hovertext}</b><br><br>næring (SN2007)=Informasjon og kommunikasjon<br>kvartal=2011K3<br>Ledige stillingar (prosent)=%{x}<br>Sysselsatte=%{y}<br>Ledige stillingar=%{marker.size}<extra></extra>",
           "hovertext": [
            "Informasjon og kommunikasjon"
           ],
           "ids": [
            "Informasjon og kommunikasjon"
           ],
           "legendgroup": "Informasjon og kommunikasjon",
           "marker": {
            "color": "#00cc96",
            "size": [
             2800
            ],
            "sizemode": "area",
            "sizeref": 4.32,
            "symbol": "circle"
           },
           "mode": "markers",
           "name": "Informasjon og kommunikasjon",
           "orientation": "v",
           "showlegend": true,
           "type": "scatter",
           "x": [
            3.4
           ],
           "xaxis": "x",
           "y": [
            96
           ],
           "yaxis": "y"
          },
          {
           "hovertemplate": "<b>%{hovertext}</b><br><br>næring (SN2007)=Finansierings- og forsikringsverksemd<br>kvartal=2011K3<br>Ledige stillingar (prosent)=%{x}<br>Sysselsatte=%{y}<br>Ledige stillingar=%{marker.size}<extra></extra>",
           "hovertext": [
            "Finansierings- og forsikringsverksemd"
           ],
           "ids": [
            "Finansierings- og forsikringsverksemd"
           ],
           "legendgroup": "Finansierings- og forsikringsverksemd",
           "marker": {
            "color": "#ab63fa",
            "size": [
             900
            ],
            "sizemode": "area",
            "sizeref": 4.32,
            "symbol": "circle"
           },
           "mode": "markers",
           "name": "Finansierings- og forsikringsverksemd",
           "orientation": "v",
           "showlegend": true,
           "type": "scatter",
           "x": [
            1.8
           ],
           "xaxis": "x",
           "y": [
            51
           ],
           "yaxis": "y"
          },
          {
           "hovertemplate": "<b>%{hovertext}</b><br><br>næring (SN2007)=Omsetning og drift av fast eigedom<br>kvartal=2011K3<br>Ledige stillingar (prosent)=%{x}<br>Sysselsatte=%{y}<br>Ledige stillingar=%{marker.size}<extra></extra>",
           "hovertext": [
            "Omsetning og drift av fast eigedom"
           ],
           "ids": [
            "Omsetning og drift av fast eigedom"
           ],
           "legendgroup": "Omsetning og drift av fast eigedom",
           "marker": {
            "color": "#FFA15A",
            "size": [
             700
            ],
            "sizemode": "area",
            "sizeref": 4.32,
            "symbol": "circle"
           },
           "mode": "markers",
           "name": "Omsetning og drift av fast eigedom",
           "orientation": "v",
           "showlegend": true,
           "type": "scatter",
           "x": [
            2.9
           ],
           "xaxis": "x",
           "y": [
            18
           ],
           "yaxis": "y"
          },
          {
           "hovertemplate": "<b>%{hovertext}</b><br><br>næring (SN2007)=Fagleg, vitskapleg og teknisk tenesteyting<br>kvartal=2011K3<br>Ledige stillingar (prosent)=%{x}<br>Sysselsatte=%{y}<br>Ledige stillingar=%{marker.size}<extra></extra>",
           "hovertext": [
            "Fagleg, vitskapleg og teknisk tenesteyting"
           ],
           "ids": [
            "Fagleg, vitskapleg og teknisk tenesteyting"
           ],
           "legendgroup": "Fagleg, vitskapleg og teknisk tenesteyting",
           "marker": {
            "color": "#19d3f3",
            "size": [
             4500
            ],
            "sizemode": "area",
            "sizeref": 4.32,
            "symbol": "circle"
           },
           "mode": "markers",
           "name": "Fagleg, vitskapleg og teknisk tenesteyting",
           "orientation": "v",
           "showlegend": true,
           "type": "scatter",
           "x": [
            3.8
           ],
           "xaxis": "x",
           "y": [
            131
           ],
           "yaxis": "y"
          },
          {
           "hovertemplate": "<b>%{hovertext}</b><br><br>næring (SN2007)=Forretningsmessig tenesteyting<br>kvartal=2011K3<br>Ledige stillingar (prosent)=%{x}<br>Sysselsatte=%{y}<br>Ledige stillingar=%{marker.size}<extra></extra>",
           "hovertext": [
            "Forretningsmessig tenesteyting"
           ],
           "ids": [
            "Forretningsmessig tenesteyting"
           ],
           "legendgroup": "Forretningsmessig tenesteyting",
           "marker": {
            "color": "#FF6692",
            "size": [
             9300
            ],
            "sizemode": "area",
            "sizeref": 4.32,
            "symbol": "circle"
           },
           "mode": "markers",
           "name": "Forretningsmessig tenesteyting",
           "orientation": "v",
           "showlegend": true,
           "type": "scatter",
           "x": [
            6.6
           ],
           "xaxis": "x",
           "y": [
            100
           ],
           "yaxis": "y"
          },
          {
           "hovertemplate": "<b>%{hovertext}</b><br><br>næring (SN2007)=Offentleg administrasjon og forsvar, og trygdeordningar underordna offentleg forvalting<br>kvartal=2011K3<br>Ledige stillingar (prosent)=%{x}<br>Sysselsatte=%{y}<br>Ledige stillingar=%{marker.size}<extra></extra>",
           "hovertext": [
            "Offentleg administrasjon og forsvar, og trygdeordningar underordna offentleg forvalting"
           ],
           "ids": [
            "Offentleg administrasjon og forsvar, og trygdeordningar underordna offentleg forvalting"
           ],
           "legendgroup": "Offentleg administrasjon og forsvar, og trygdeordningar underordna offentleg forvalting",
           "marker": {
            "color": "#B6E880",
            "size": [
             3300
            ],
            "sizemode": "area",
            "sizeref": 4.32,
            "symbol": "circle"
           },
           "mode": "markers",
           "name": "Offentleg administrasjon og forsvar, og trygdeordningar underordna offentleg forvalting",
           "orientation": "v",
           "showlegend": true,
           "type": "scatter",
           "x": [
            2.2
           ],
           "xaxis": "x",
           "y": [
            149
           ],
           "yaxis": "y"
          },
          {
           "hovertemplate": "<b>%{hovertext}</b><br><br>næring (SN2007)=Undervisning<br>kvartal=2011K3<br>Ledige stillingar (prosent)=%{x}<br>Sysselsatte=%{y}<br>Ledige stillingar=%{marker.size}<extra></extra>",
           "hovertext": [
            "Undervisning"
           ],
           "ids": [
            "Undervisning"
           ],
           "legendgroup": "Undervisning",
           "marker": {
            "color": "#FF97FF",
            "size": [
             2600
            ],
            "sizemode": "area",
            "sizeref": 4.32,
            "symbol": "circle"
           },
           "mode": "markers",
           "name": "Undervisning",
           "orientation": "v",
           "showlegend": true,
           "type": "scatter",
           "x": [
            1.3
           ],
           "xaxis": "x",
           "y": [
            204
           ],
           "yaxis": "y"
          },
          {
           "hovertemplate": "<b>%{hovertext}</b><br><br>næring (SN2007)=Kulturell verksemd, underhaldning og fritidsaktivitetar<br>kvartal=2011K3<br>Ledige stillingar (prosent)=%{x}<br>Sysselsatte=%{y}<br>Ledige stillingar=%{marker.size}<extra></extra>",
           "hovertext": [
            "Kulturell verksemd, underhaldning og fritidsaktivitetar"
           ],
           "ids": [
            "Kulturell verksemd, underhaldning og fritidsaktivitetar"
           ],
           "legendgroup": "Kulturell verksemd, underhaldning og fritidsaktivitetar",
           "marker": {
            "color": "#FECB52",
            "size": [
             500
            ],
            "sizemode": "area",
            "sizeref": 4.32,
            "symbol": "circle"
           },
           "mode": "markers",
           "name": "Kulturell verksemd, underhaldning og fritidsaktivitetar",
           "orientation": "v",
           "showlegend": true,
           "type": "scatter",
           "x": [
            1.6
           ],
           "xaxis": "x",
           "y": [
            50
           ],
           "yaxis": "y"
          }
         ],
         "name": "2011K3"
        },
        {
         "data": [
          {
           "hovertemplate": "<b>%{hovertext}</b><br><br>næring (SN2007)=Bergverksdrift og utvinning<br>kvartal=2011K4<br>Ledige stillingar (prosent)=%{x}<br>Sysselsatte=%{y}<br>Ledige stillingar=%{marker.size}<extra></extra>",
           "hovertext": [
            "Bergverksdrift og utvinning"
           ],
           "ids": [
            "Bergverksdrift og utvinning"
           ],
           "legendgroup": "Bergverksdrift og utvinning",
           "marker": {
            "color": "#636efa",
            "size": [
             2200
            ],
            "sizemode": "area",
            "sizeref": 4.32,
            "symbol": "circle"
           },
           "mode": "markers",
           "name": "Bergverksdrift og utvinning",
           "orientation": "v",
           "showlegend": true,
           "type": "scatter",
           "x": [
            3.8
           ],
           "xaxis": "x",
           "y": [
            55
           ],
           "yaxis": "y"
          },
          {
           "hovertemplate": "<b>%{hovertext}</b><br><br>næring (SN2007)=Byggje- og anleggsverksemd<br>kvartal=2011K4<br>Ledige stillingar (prosent)=%{x}<br>Sysselsatte=%{y}<br>Ledige stillingar=%{marker.size}<extra></extra>",
           "hovertext": [
            "Byggje- og anleggsverksemd"
           ],
           "ids": [
            "Byggje- og anleggsverksemd"
           ],
           "legendgroup": "Byggje- og anleggsverksemd",
           "marker": {
            "color": "#EF553B",
            "size": [
             4800
            ],
            "sizemode": "area",
            "sizeref": 4.32,
            "symbol": "circle"
           },
           "mode": "markers",
           "name": "Byggje- og anleggsverksemd",
           "orientation": "v",
           "showlegend": true,
           "type": "scatter",
           "x": [
            2.5
           ],
           "xaxis": "x",
           "y": [
            188
           ],
           "yaxis": "y"
          },
          {
           "hovertemplate": "<b>%{hovertext}</b><br><br>næring (SN2007)=Informasjon og kommunikasjon<br>kvartal=2011K4<br>Ledige stillingar (prosent)=%{x}<br>Sysselsatte=%{y}<br>Ledige stillingar=%{marker.size}<extra></extra>",
           "hovertext": [
            "Informasjon og kommunikasjon"
           ],
           "ids": [
            "Informasjon og kommunikasjon"
           ],
           "legendgroup": "Informasjon og kommunikasjon",
           "marker": {
            "color": "#00cc96",
            "size": [
             2600
            ],
            "sizemode": "area",
            "sizeref": 4.32,
            "symbol": "circle"
           },
           "mode": "markers",
           "name": "Informasjon og kommunikasjon",
           "orientation": "v",
           "showlegend": true,
           "type": "scatter",
           "x": [
            3.1
           ],
           "xaxis": "x",
           "y": [
            95
           ],
           "yaxis": "y"
          },
          {
           "hovertemplate": "<b>%{hovertext}</b><br><br>næring (SN2007)=Finansierings- og forsikringsverksemd<br>kvartal=2011K4<br>Ledige stillingar (prosent)=%{x}<br>Sysselsatte=%{y}<br>Ledige stillingar=%{marker.size}<extra></extra>",
           "hovertext": [
            "Finansierings- og forsikringsverksemd"
           ],
           "ids": [
            "Finansierings- og forsikringsverksemd"
           ],
           "legendgroup": "Finansierings- og forsikringsverksemd",
           "marker": {
            "color": "#ab63fa",
            "size": [
             800
            ],
            "sizemode": "area",
            "sizeref": 4.32,
            "symbol": "circle"
           },
           "mode": "markers",
           "name": "Finansierings- og forsikringsverksemd",
           "orientation": "v",
           "showlegend": true,
           "type": "scatter",
           "x": [
            1.6
           ],
           "xaxis": "x",
           "y": [
            51
           ],
           "yaxis": "y"
          },
          {
           "hovertemplate": "<b>%{hovertext}</b><br><br>næring (SN2007)=Omsetning og drift av fast eigedom<br>kvartal=2011K4<br>Ledige stillingar (prosent)=%{x}<br>Sysselsatte=%{y}<br>Ledige stillingar=%{marker.size}<extra></extra>",
           "hovertext": [
            "Omsetning og drift av fast eigedom"
           ],
           "ids": [
            "Omsetning og drift av fast eigedom"
           ],
           "legendgroup": "Omsetning og drift av fast eigedom",
           "marker": {
            "color": "#FFA15A",
            "size": [
             900
            ],
            "sizemode": "area",
            "sizeref": 4.32,
            "symbol": "circle"
           },
           "mode": "markers",
           "name": "Omsetning og drift av fast eigedom",
           "orientation": "v",
           "showlegend": true,
           "type": "scatter",
           "x": [
            3.6
           ],
           "xaxis": "x",
           "y": [
            18
           ],
           "yaxis": "y"
          },
          {
           "hovertemplate": "<b>%{hovertext}</b><br><br>næring (SN2007)=Fagleg, vitskapleg og teknisk tenesteyting<br>kvartal=2011K4<br>Ledige stillingar (prosent)=%{x}<br>Sysselsatte=%{y}<br>Ledige stillingar=%{marker.size}<extra></extra>",
           "hovertext": [
            "Fagleg, vitskapleg og teknisk tenesteyting"
           ],
           "ids": [
            "Fagleg, vitskapleg og teknisk tenesteyting"
           ],
           "legendgroup": "Fagleg, vitskapleg og teknisk tenesteyting",
           "marker": {
            "color": "#19d3f3",
            "size": [
             5500
            ],
            "sizemode": "area",
            "sizeref": 4.32,
            "symbol": "circle"
           },
           "mode": "markers",
           "name": "Fagleg, vitskapleg og teknisk tenesteyting",
           "orientation": "v",
           "showlegend": true,
           "type": "scatter",
           "x": [
            4.6
           ],
           "xaxis": "x",
           "y": [
            138
           ],
           "yaxis": "y"
          },
          {
           "hovertemplate": "<b>%{hovertext}</b><br><br>næring (SN2007)=Forretningsmessig tenesteyting<br>kvartal=2011K4<br>Ledige stillingar (prosent)=%{x}<br>Sysselsatte=%{y}<br>Ledige stillingar=%{marker.size}<extra></extra>",
           "hovertext": [
            "Forretningsmessig tenesteyting"
           ],
           "ids": [
            "Forretningsmessig tenesteyting"
           ],
           "legendgroup": "Forretningsmessig tenesteyting",
           "marker": {
            "color": "#FF6692",
            "size": [
             8000
            ],
            "sizemode": "area",
            "sizeref": 4.32,
            "symbol": "circle"
           },
           "mode": "markers",
           "name": "Forretningsmessig tenesteyting",
           "orientation": "v",
           "showlegend": true,
           "type": "scatter",
           "x": [
            5.7
           ],
           "xaxis": "x",
           "y": [
            100
           ],
           "yaxis": "y"
          },
          {
           "hovertemplate": "<b>%{hovertext}</b><br><br>næring (SN2007)=Offentleg administrasjon og forsvar, og trygdeordningar underordna offentleg forvalting<br>kvartal=2011K4<br>Ledige stillingar (prosent)=%{x}<br>Sysselsatte=%{y}<br>Ledige stillingar=%{marker.size}<extra></extra>",
           "hovertext": [
            "Offentleg administrasjon og forsvar, og trygdeordningar underordna offentleg forvalting"
           ],
           "ids": [
            "Offentleg administrasjon og forsvar, og trygdeordningar underordna offentleg forvalting"
           ],
           "legendgroup": "Offentleg administrasjon og forsvar, og trygdeordningar underordna offentleg forvalting",
           "marker": {
            "color": "#B6E880",
            "size": [
             3300
            ],
            "sizemode": "area",
            "sizeref": 4.32,
            "symbol": "circle"
           },
           "mode": "markers",
           "name": "Offentleg administrasjon og forsvar, og trygdeordningar underordna offentleg forvalting",
           "orientation": "v",
           "showlegend": true,
           "type": "scatter",
           "x": [
            2.2
           ],
           "xaxis": "x",
           "y": [
            153
           ],
           "yaxis": "y"
          },
          {
           "hovertemplate": "<b>%{hovertext}</b><br><br>næring (SN2007)=Undervisning<br>kvartal=2011K4<br>Ledige stillingar (prosent)=%{x}<br>Sysselsatte=%{y}<br>Ledige stillingar=%{marker.size}<extra></extra>",
           "hovertext": [
            "Undervisning"
           ],
           "ids": [
            "Undervisning"
           ],
           "legendgroup": "Undervisning",
           "marker": {
            "color": "#FF97FF",
            "size": [
             2200
            ],
            "sizemode": "area",
            "sizeref": 4.32,
            "symbol": "circle"
           },
           "mode": "markers",
           "name": "Undervisning",
           "orientation": "v",
           "showlegend": true,
           "type": "scatter",
           "x": [
            1.1
           ],
           "xaxis": "x",
           "y": [
            213
           ],
           "yaxis": "y"
          },
          {
           "hovertemplate": "<b>%{hovertext}</b><br><br>næring (SN2007)=Kulturell verksemd, underhaldning og fritidsaktivitetar<br>kvartal=2011K4<br>Ledige stillingar (prosent)=%{x}<br>Sysselsatte=%{y}<br>Ledige stillingar=%{marker.size}<extra></extra>",
           "hovertext": [
            "Kulturell verksemd, underhaldning og fritidsaktivitetar"
           ],
           "ids": [
            "Kulturell verksemd, underhaldning og fritidsaktivitetar"
           ],
           "legendgroup": "Kulturell verksemd, underhaldning og fritidsaktivitetar",
           "marker": {
            "color": "#FECB52",
            "size": [
             600
            ],
            "sizemode": "area",
            "sizeref": 4.32,
            "symbol": "circle"
           },
           "mode": "markers",
           "name": "Kulturell verksemd, underhaldning og fritidsaktivitetar",
           "orientation": "v",
           "showlegend": true,
           "type": "scatter",
           "x": [
            2
           ],
           "xaxis": "x",
           "y": [
            49
           ],
           "yaxis": "y"
          }
         ],
         "name": "2011K4"
        },
        {
         "data": [
          {
           "hovertemplate": "<b>%{hovertext}</b><br><br>næring (SN2007)=Bergverksdrift og utvinning<br>kvartal=2012K1<br>Ledige stillingar (prosent)=%{x}<br>Sysselsatte=%{y}<br>Ledige stillingar=%{marker.size}<extra></extra>",
           "hovertext": [
            "Bergverksdrift og utvinning"
           ],
           "ids": [
            "Bergverksdrift og utvinning"
           ],
           "legendgroup": "Bergverksdrift og utvinning",
           "marker": {
            "color": "#636efa",
            "size": [
             2200
            ],
            "sizemode": "area",
            "sizeref": 4.32,
            "symbol": "circle"
           },
           "mode": "markers",
           "name": "Bergverksdrift og utvinning",
           "orientation": "v",
           "showlegend": true,
           "type": "scatter",
           "x": [
            3.8
           ],
           "xaxis": "x",
           "y": [
            56
           ],
           "yaxis": "y"
          },
          {
           "hovertemplate": "<b>%{hovertext}</b><br><br>næring (SN2007)=Byggje- og anleggsverksemd<br>kvartal=2012K1<br>Ledige stillingar (prosent)=%{x}<br>Sysselsatte=%{y}<br>Ledige stillingar=%{marker.size}<extra></extra>",
           "hovertext": [
            "Byggje- og anleggsverksemd"
           ],
           "ids": [
            "Byggje- og anleggsverksemd"
           ],
           "legendgroup": "Byggje- og anleggsverksemd",
           "marker": {
            "color": "#EF553B",
            "size": [
             4700
            ],
            "sizemode": "area",
            "sizeref": 4.32,
            "symbol": "circle"
           },
           "mode": "markers",
           "name": "Byggje- og anleggsverksemd",
           "orientation": "v",
           "showlegend": true,
           "type": "scatter",
           "x": [
            2.4
           ],
           "xaxis": "x",
           "y": [
            188
           ],
           "yaxis": "y"
          },
          {
           "hovertemplate": "<b>%{hovertext}</b><br><br>næring (SN2007)=Informasjon og kommunikasjon<br>kvartal=2012K1<br>Ledige stillingar (prosent)=%{x}<br>Sysselsatte=%{y}<br>Ledige stillingar=%{marker.size}<extra></extra>",
           "hovertext": [
            "Informasjon og kommunikasjon"
           ],
           "ids": [
            "Informasjon og kommunikasjon"
           ],
           "legendgroup": "Informasjon og kommunikasjon",
           "marker": {
            "color": "#00cc96",
            "size": [
             3600
            ],
            "sizemode": "area",
            "sizeref": 4.32,
            "symbol": "circle"
           },
           "mode": "markers",
           "name": "Informasjon og kommunikasjon",
           "orientation": "v",
           "showlegend": true,
           "type": "scatter",
           "x": [
            4.2
           ],
           "xaxis": "x",
           "y": [
            100
           ],
           "yaxis": "y"
          },
          {
           "hovertemplate": "<b>%{hovertext}</b><br><br>næring (SN2007)=Finansierings- og forsikringsverksemd<br>kvartal=2012K1<br>Ledige stillingar (prosent)=%{x}<br>Sysselsatte=%{y}<br>Ledige stillingar=%{marker.size}<extra></extra>",
           "hovertext": [
            "Finansierings- og forsikringsverksemd"
           ],
           "ids": [
            "Finansierings- og forsikringsverksemd"
           ],
           "legendgroup": "Finansierings- og forsikringsverksemd",
           "marker": {
            "color": "#ab63fa",
            "size": [
             800
            ],
            "sizemode": "area",
            "sizeref": 4.32,
            "symbol": "circle"
           },
           "mode": "markers",
           "name": "Finansierings- og forsikringsverksemd",
           "orientation": "v",
           "showlegend": true,
           "type": "scatter",
           "x": [
            1.7
           ],
           "xaxis": "x",
           "y": [
            52
           ],
           "yaxis": "y"
          },
          {
           "hovertemplate": "<b>%{hovertext}</b><br><br>næring (SN2007)=Omsetning og drift av fast eigedom<br>kvartal=2012K1<br>Ledige stillingar (prosent)=%{x}<br>Sysselsatte=%{y}<br>Ledige stillingar=%{marker.size}<extra></extra>",
           "hovertext": [
            "Omsetning og drift av fast eigedom"
           ],
           "ids": [
            "Omsetning og drift av fast eigedom"
           ],
           "legendgroup": "Omsetning og drift av fast eigedom",
           "marker": {
            "color": "#FFA15A",
            "size": [
             600
            ],
            "sizemode": "area",
            "sizeref": 4.32,
            "symbol": "circle"
           },
           "mode": "markers",
           "name": "Omsetning og drift av fast eigedom",
           "orientation": "v",
           "showlegend": true,
           "type": "scatter",
           "x": [
            2.5
           ],
           "xaxis": "x",
           "y": [
            18
           ],
           "yaxis": "y"
          },
          {
           "hovertemplate": "<b>%{hovertext}</b><br><br>næring (SN2007)=Fagleg, vitskapleg og teknisk tenesteyting<br>kvartal=2012K1<br>Ledige stillingar (prosent)=%{x}<br>Sysselsatte=%{y}<br>Ledige stillingar=%{marker.size}<extra></extra>",
           "hovertext": [
            "Fagleg, vitskapleg og teknisk tenesteyting"
           ],
           "ids": [
            "Fagleg, vitskapleg og teknisk tenesteyting"
           ],
           "legendgroup": "Fagleg, vitskapleg og teknisk tenesteyting",
           "marker": {
            "color": "#19d3f3",
            "size": [
             4000
            ],
            "sizemode": "area",
            "sizeref": 4.32,
            "symbol": "circle"
           },
           "mode": "markers",
           "name": "Fagleg, vitskapleg og teknisk tenesteyting",
           "orientation": "v",
           "showlegend": true,
           "type": "scatter",
           "x": [
            3.3
           ],
           "xaxis": "x",
           "y": [
            138
           ],
           "yaxis": "y"
          },
          {
           "hovertemplate": "<b>%{hovertext}</b><br><br>næring (SN2007)=Forretningsmessig tenesteyting<br>kvartal=2012K1<br>Ledige stillingar (prosent)=%{x}<br>Sysselsatte=%{y}<br>Ledige stillingar=%{marker.size}<extra></extra>",
           "hovertext": [
            "Forretningsmessig tenesteyting"
           ],
           "ids": [
            "Forretningsmessig tenesteyting"
           ],
           "legendgroup": "Forretningsmessig tenesteyting",
           "marker": {
            "color": "#FF6692",
            "size": [
             10800
            ],
            "sizemode": "area",
            "sizeref": 4.32,
            "symbol": "circle"
           },
           "mode": "markers",
           "name": "Forretningsmessig tenesteyting",
           "orientation": "v",
           "showlegend": true,
           "type": "scatter",
           "x": [
            7.5
           ],
           "xaxis": "x",
           "y": [
            103
           ],
           "yaxis": "y"
          },
          {
           "hovertemplate": "<b>%{hovertext}</b><br><br>næring (SN2007)=Offentleg administrasjon og forsvar, og trygdeordningar underordna offentleg forvalting<br>kvartal=2012K1<br>Ledige stillingar (prosent)=%{x}<br>Sysselsatte=%{y}<br>Ledige stillingar=%{marker.size}<extra></extra>",
           "hovertext": [
            "Offentleg administrasjon og forsvar, og trygdeordningar underordna offentleg forvalting"
           ],
           "ids": [
            "Offentleg administrasjon og forsvar, og trygdeordningar underordna offentleg forvalting"
           ],
           "legendgroup": "Offentleg administrasjon og forsvar, og trygdeordningar underordna offentleg forvalting",
           "marker": {
            "color": "#B6E880",
            "size": [
             4500
            ],
            "sizemode": "area",
            "sizeref": 4.32,
            "symbol": "circle"
           },
           "mode": "markers",
           "name": "Offentleg administrasjon og forsvar, og trygdeordningar underordna offentleg forvalting",
           "orientation": "v",
           "showlegend": true,
           "type": "scatter",
           "x": [
            3
           ],
           "xaxis": "x",
           "y": [
            160
           ],
           "yaxis": "y"
          },
          {
           "hovertemplate": "<b>%{hovertext}</b><br><br>næring (SN2007)=Undervisning<br>kvartal=2012K1<br>Ledige stillingar (prosent)=%{x}<br>Sysselsatte=%{y}<br>Ledige stillingar=%{marker.size}<extra></extra>",
           "hovertext": [
            "Undervisning"
           ],
           "ids": [
            "Undervisning"
           ],
           "legendgroup": "Undervisning",
           "marker": {
            "color": "#FF97FF",
            "size": [
             4100
            ],
            "sizemode": "area",
            "sizeref": 4.32,
            "symbol": "circle"
           },
           "mode": "markers",
           "name": "Undervisning",
           "orientation": "v",
           "showlegend": true,
           "type": "scatter",
           "x": [
            2
           ],
           "xaxis": "x",
           "y": [
            213
           ],
           "yaxis": "y"
          },
          {
           "hovertemplate": "<b>%{hovertext}</b><br><br>næring (SN2007)=Kulturell verksemd, underhaldning og fritidsaktivitetar<br>kvartal=2012K1<br>Ledige stillingar (prosent)=%{x}<br>Sysselsatte=%{y}<br>Ledige stillingar=%{marker.size}<extra></extra>",
           "hovertext": [
            "Kulturell verksemd, underhaldning og fritidsaktivitetar"
           ],
           "ids": [
            "Kulturell verksemd, underhaldning og fritidsaktivitetar"
           ],
           "legendgroup": "Kulturell verksemd, underhaldning og fritidsaktivitetar",
           "marker": {
            "color": "#FECB52",
            "size": [
             600
            ],
            "sizemode": "area",
            "sizeref": 4.32,
            "symbol": "circle"
           },
           "mode": "markers",
           "name": "Kulturell verksemd, underhaldning og fritidsaktivitetar",
           "orientation": "v",
           "showlegend": true,
           "type": "scatter",
           "x": [
            2
           ],
           "xaxis": "x",
           "y": [
            47
           ],
           "yaxis": "y"
          }
         ],
         "name": "2012K1"
        },
        {
         "data": [
          {
           "hovertemplate": "<b>%{hovertext}</b><br><br>næring (SN2007)=Bergverksdrift og utvinning<br>kvartal=2012K2<br>Ledige stillingar (prosent)=%{x}<br>Sysselsatte=%{y}<br>Ledige stillingar=%{marker.size}<extra></extra>",
           "hovertext": [
            "Bergverksdrift og utvinning"
           ],
           "ids": [
            "Bergverksdrift og utvinning"
           ],
           "legendgroup": "Bergverksdrift og utvinning",
           "marker": {
            "color": "#636efa",
            "size": [
             2500
            ],
            "sizemode": "area",
            "sizeref": 4.32,
            "symbol": "circle"
           },
           "mode": "markers",
           "name": "Bergverksdrift og utvinning",
           "orientation": "v",
           "showlegend": true,
           "type": "scatter",
           "x": [
            4.1
           ],
           "xaxis": "x",
           "y": [
            55
           ],
           "yaxis": "y"
          },
          {
           "hovertemplate": "<b>%{hovertext}</b><br><br>næring (SN2007)=Byggje- og anleggsverksemd<br>kvartal=2012K2<br>Ledige stillingar (prosent)=%{x}<br>Sysselsatte=%{y}<br>Ledige stillingar=%{marker.size}<extra></extra>",
           "hovertext": [
            "Byggje- og anleggsverksemd"
           ],
           "ids": [
            "Byggje- og anleggsverksemd"
           ],
           "legendgroup": "Byggje- og anleggsverksemd",
           "marker": {
            "color": "#EF553B",
            "size": [
             4100
            ],
            "sizemode": "area",
            "sizeref": 4.32,
            "symbol": "circle"
           },
           "mode": "markers",
           "name": "Byggje- og anleggsverksemd",
           "orientation": "v",
           "showlegend": true,
           "type": "scatter",
           "x": [
            2.1
           ],
           "xaxis": "x",
           "y": [
            193
           ],
           "yaxis": "y"
          },
          {
           "hovertemplate": "<b>%{hovertext}</b><br><br>næring (SN2007)=Informasjon og kommunikasjon<br>kvartal=2012K2<br>Ledige stillingar (prosent)=%{x}<br>Sysselsatte=%{y}<br>Ledige stillingar=%{marker.size}<extra></extra>",
           "hovertext": [
            "Informasjon og kommunikasjon"
           ],
           "ids": [
            "Informasjon og kommunikasjon"
           ],
           "legendgroup": "Informasjon og kommunikasjon",
           "marker": {
            "color": "#00cc96",
            "size": [
             3500
            ],
            "sizemode": "area",
            "sizeref": 4.32,
            "symbol": "circle"
           },
           "mode": "markers",
           "name": "Informasjon og kommunikasjon",
           "orientation": "v",
           "showlegend": true,
           "type": "scatter",
           "x": [
            4
           ],
           "xaxis": "x",
           "y": [
            102
           ],
           "yaxis": "y"
          },
          {
           "hovertemplate": "<b>%{hovertext}</b><br><br>næring (SN2007)=Finansierings- og forsikringsverksemd<br>kvartal=2012K2<br>Ledige stillingar (prosent)=%{x}<br>Sysselsatte=%{y}<br>Ledige stillingar=%{marker.size}<extra></extra>",
           "hovertext": [
            "Finansierings- og forsikringsverksemd"
           ],
           "ids": [
            "Finansierings- og forsikringsverksemd"
           ],
           "legendgroup": "Finansierings- og forsikringsverksemd",
           "marker": {
            "color": "#ab63fa",
            "size": [
             700
            ],
            "sizemode": "area",
            "sizeref": 4.32,
            "symbol": "circle"
           },
           "mode": "markers",
           "name": "Finansierings- og forsikringsverksemd",
           "orientation": "v",
           "showlegend": true,
           "type": "scatter",
           "x": [
            1.4
           ],
           "xaxis": "x",
           "y": [
            51
           ],
           "yaxis": "y"
          },
          {
           "hovertemplate": "<b>%{hovertext}</b><br><br>næring (SN2007)=Omsetning og drift av fast eigedom<br>kvartal=2012K2<br>Ledige stillingar (prosent)=%{x}<br>Sysselsatte=%{y}<br>Ledige stillingar=%{marker.size}<extra></extra>",
           "hovertext": [
            "Omsetning og drift av fast eigedom"
           ],
           "ids": [
            "Omsetning og drift av fast eigedom"
           ],
           "legendgroup": "Omsetning og drift av fast eigedom",
           "marker": {
            "color": "#FFA15A",
            "size": [
             600
            ],
            "sizemode": "area",
            "sizeref": 4.32,
            "symbol": "circle"
           },
           "mode": "markers",
           "name": "Omsetning og drift av fast eigedom",
           "orientation": "v",
           "showlegend": true,
           "type": "scatter",
           "x": [
            2.4
           ],
           "xaxis": "x",
           "y": [
            19
           ],
           "yaxis": "y"
          },
          {
           "hovertemplate": "<b>%{hovertext}</b><br><br>næring (SN2007)=Fagleg, vitskapleg og teknisk tenesteyting<br>kvartal=2012K2<br>Ledige stillingar (prosent)=%{x}<br>Sysselsatte=%{y}<br>Ledige stillingar=%{marker.size}<extra></extra>",
           "hovertext": [
            "Fagleg, vitskapleg og teknisk tenesteyting"
           ],
           "ids": [
            "Fagleg, vitskapleg og teknisk tenesteyting"
           ],
           "legendgroup": "Fagleg, vitskapleg og teknisk tenesteyting",
           "marker": {
            "color": "#19d3f3",
            "size": [
             4800
            ],
            "sizemode": "area",
            "sizeref": 4.32,
            "symbol": "circle"
           },
           "mode": "markers",
           "name": "Fagleg, vitskapleg og teknisk tenesteyting",
           "orientation": "v",
           "showlegend": true,
           "type": "scatter",
           "x": [
            4
           ],
           "xaxis": "x",
           "y": [
            139
           ],
           "yaxis": "y"
          },
          {
           "hovertemplate": "<b>%{hovertext}</b><br><br>næring (SN2007)=Forretningsmessig tenesteyting<br>kvartal=2012K2<br>Ledige stillingar (prosent)=%{x}<br>Sysselsatte=%{y}<br>Ledige stillingar=%{marker.size}<extra></extra>",
           "hovertext": [
            "Forretningsmessig tenesteyting"
           ],
           "ids": [
            "Forretningsmessig tenesteyting"
           ],
           "legendgroup": "Forretningsmessig tenesteyting",
           "marker": {
            "color": "#FF6692",
            "size": [
             9900
            ],
            "sizemode": "area",
            "sizeref": 4.32,
            "symbol": "circle"
           },
           "mode": "markers",
           "name": "Forretningsmessig tenesteyting",
           "orientation": "v",
           "showlegend": true,
           "type": "scatter",
           "x": [
            6.9
           ],
           "xaxis": "x",
           "y": [
            105
           ],
           "yaxis": "y"
          },
          {
           "hovertemplate": "<b>%{hovertext}</b><br><br>næring (SN2007)=Offentleg administrasjon og forsvar, og trygdeordningar underordna offentleg forvalting<br>kvartal=2012K2<br>Ledige stillingar (prosent)=%{x}<br>Sysselsatte=%{y}<br>Ledige stillingar=%{marker.size}<extra></extra>",
           "hovertext": [
            "Offentleg administrasjon og forsvar, og trygdeordningar underordna offentleg forvalting"
           ],
           "ids": [
            "Offentleg administrasjon og forsvar, og trygdeordningar underordna offentleg forvalting"
           ],
           "legendgroup": "Offentleg administrasjon og forsvar, og trygdeordningar underordna offentleg forvalting",
           "marker": {
            "color": "#B6E880",
            "size": [
             4000
            ],
            "sizemode": "area",
            "sizeref": 4.32,
            "symbol": "circle"
           },
           "mode": "markers",
           "name": "Offentleg administrasjon og forsvar, og trygdeordningar underordna offentleg forvalting",
           "orientation": "v",
           "showlegend": true,
           "type": "scatter",
           "x": [
            2.7
           ],
           "xaxis": "x",
           "y": [
            158
           ],
           "yaxis": "y"
          },
          {
           "hovertemplate": "<b>%{hovertext}</b><br><br>næring (SN2007)=Undervisning<br>kvartal=2012K2<br>Ledige stillingar (prosent)=%{x}<br>Sysselsatte=%{y}<br>Ledige stillingar=%{marker.size}<extra></extra>",
           "hovertext": [
            "Undervisning"
           ],
           "ids": [
            "Undervisning"
           ],
           "legendgroup": "Undervisning",
           "marker": {
            "color": "#FF97FF",
            "size": [
             6900
            ],
            "sizemode": "area",
            "sizeref": 4.32,
            "symbol": "circle"
           },
           "mode": "markers",
           "name": "Undervisning",
           "orientation": "v",
           "showlegend": true,
           "type": "scatter",
           "x": [
            3.2
           ],
           "xaxis": "x",
           "y": [
            212
           ],
           "yaxis": "y"
          },
          {
           "hovertemplate": "<b>%{hovertext}</b><br><br>næring (SN2007)=Kulturell verksemd, underhaldning og fritidsaktivitetar<br>kvartal=2012K2<br>Ledige stillingar (prosent)=%{x}<br>Sysselsatte=%{y}<br>Ledige stillingar=%{marker.size}<extra></extra>",
           "hovertext": [
            "Kulturell verksemd, underhaldning og fritidsaktivitetar"
           ],
           "ids": [
            "Kulturell verksemd, underhaldning og fritidsaktivitetar"
           ],
           "legendgroup": "Kulturell verksemd, underhaldning og fritidsaktivitetar",
           "marker": {
            "color": "#FECB52",
            "size": [
             500
            ],
            "sizemode": "area",
            "sizeref": 4.32,
            "symbol": "circle"
           },
           "mode": "markers",
           "name": "Kulturell verksemd, underhaldning og fritidsaktivitetar",
           "orientation": "v",
           "showlegend": true,
           "type": "scatter",
           "x": [
            1.6
           ],
           "xaxis": "x",
           "y": [
            50
           ],
           "yaxis": "y"
          }
         ],
         "name": "2012K2"
        },
        {
         "data": [
          {
           "hovertemplate": "<b>%{hovertext}</b><br><br>næring (SN2007)=Bergverksdrift og utvinning<br>kvartal=2012K3<br>Ledige stillingar (prosent)=%{x}<br>Sysselsatte=%{y}<br>Ledige stillingar=%{marker.size}<extra></extra>",
           "hovertext": [
            "Bergverksdrift og utvinning"
           ],
           "ids": [
            "Bergverksdrift og utvinning"
           ],
           "legendgroup": "Bergverksdrift og utvinning",
           "marker": {
            "color": "#636efa",
            "size": [
             2100
            ],
            "sizemode": "area",
            "sizeref": 4.32,
            "symbol": "circle"
           },
           "mode": "markers",
           "name": "Bergverksdrift og utvinning",
           "orientation": "v",
           "showlegend": true,
           "type": "scatter",
           "x": [
            3.5
           ],
           "xaxis": "x",
           "y": [
            58
           ],
           "yaxis": "y"
          },
          {
           "hovertemplate": "<b>%{hovertext}</b><br><br>næring (SN2007)=Byggje- og anleggsverksemd<br>kvartal=2012K3<br>Ledige stillingar (prosent)=%{x}<br>Sysselsatte=%{y}<br>Ledige stillingar=%{marker.size}<extra></extra>",
           "hovertext": [
            "Byggje- og anleggsverksemd"
           ],
           "ids": [
            "Byggje- og anleggsverksemd"
           ],
           "legendgroup": "Byggje- og anleggsverksemd",
           "marker": {
            "color": "#EF553B",
            "size": [
             4000
            ],
            "sizemode": "area",
            "sizeref": 4.32,
            "symbol": "circle"
           },
           "mode": "markers",
           "name": "Byggje- og anleggsverksemd",
           "orientation": "v",
           "showlegend": true,
           "type": "scatter",
           "x": [
            2
           ],
           "xaxis": "x",
           "y": [
            200
           ],
           "yaxis": "y"
          },
          {
           "hovertemplate": "<b>%{hovertext}</b><br><br>næring (SN2007)=Informasjon og kommunikasjon<br>kvartal=2012K3<br>Ledige stillingar (prosent)=%{x}<br>Sysselsatte=%{y}<br>Ledige stillingar=%{marker.size}<extra></extra>",
           "hovertext": [
            "Informasjon og kommunikasjon"
           ],
           "ids": [
            "Informasjon og kommunikasjon"
           ],
           "legendgroup": "Informasjon og kommunikasjon",
           "marker": {
            "color": "#00cc96",
            "size": [
             3100
            ],
            "sizemode": "area",
            "sizeref": 4.32,
            "symbol": "circle"
           },
           "mode": "markers",
           "name": "Informasjon og kommunikasjon",
           "orientation": "v",
           "showlegend": true,
           "type": "scatter",
           "x": [
            3.6
           ],
           "xaxis": "x",
           "y": [
            99
           ],
           "yaxis": "y"
          },
          {
           "hovertemplate": "<b>%{hovertext}</b><br><br>næring (SN2007)=Finansierings- og forsikringsverksemd<br>kvartal=2012K3<br>Ledige stillingar (prosent)=%{x}<br>Sysselsatte=%{y}<br>Ledige stillingar=%{marker.size}<extra></extra>",
           "hovertext": [
            "Finansierings- og forsikringsverksemd"
           ],
           "ids": [
            "Finansierings- og forsikringsverksemd"
           ],
           "legendgroup": "Finansierings- og forsikringsverksemd",
           "marker": {
            "color": "#ab63fa",
            "size": [
             600
            ],
            "sizemode": "area",
            "sizeref": 4.32,
            "symbol": "circle"
           },
           "mode": "markers",
           "name": "Finansierings- og forsikringsverksemd",
           "orientation": "v",
           "showlegend": true,
           "type": "scatter",
           "x": [
            1.3
           ],
           "xaxis": "x",
           "y": [
            51
           ],
           "yaxis": "y"
          },
          {
           "hovertemplate": "<b>%{hovertext}</b><br><br>næring (SN2007)=Omsetning og drift av fast eigedom<br>kvartal=2012K3<br>Ledige stillingar (prosent)=%{x}<br>Sysselsatte=%{y}<br>Ledige stillingar=%{marker.size}<extra></extra>",
           "hovertext": [
            "Omsetning og drift av fast eigedom"
           ],
           "ids": [
            "Omsetning og drift av fast eigedom"
           ],
           "legendgroup": "Omsetning og drift av fast eigedom",
           "marker": {
            "color": "#FFA15A",
            "size": [
             500
            ],
            "sizemode": "area",
            "sizeref": 4.32,
            "symbol": "circle"
           },
           "mode": "markers",
           "name": "Omsetning og drift av fast eigedom",
           "orientation": "v",
           "showlegend": true,
           "type": "scatter",
           "x": [
            2.1
           ],
           "xaxis": "x",
           "y": [
            17
           ],
           "yaxis": "y"
          },
          {
           "hovertemplate": "<b>%{hovertext}</b><br><br>næring (SN2007)=Fagleg, vitskapleg og teknisk tenesteyting<br>kvartal=2012K3<br>Ledige stillingar (prosent)=%{x}<br>Sysselsatte=%{y}<br>Ledige stillingar=%{marker.size}<extra></extra>",
           "hovertext": [
            "Fagleg, vitskapleg og teknisk tenesteyting"
           ],
           "ids": [
            "Fagleg, vitskapleg og teknisk tenesteyting"
           ],
           "legendgroup": "Fagleg, vitskapleg og teknisk tenesteyting",
           "marker": {
            "color": "#19d3f3",
            "size": [
             3700
            ],
            "sizemode": "area",
            "sizeref": 4.32,
            "symbol": "circle"
           },
           "mode": "markers",
           "name": "Fagleg, vitskapleg og teknisk tenesteyting",
           "orientation": "v",
           "showlegend": true,
           "type": "scatter",
           "x": [
            3
           ],
           "xaxis": "x",
           "y": [
            143
           ],
           "yaxis": "y"
          },
          {
           "hovertemplate": "<b>%{hovertext}</b><br><br>næring (SN2007)=Forretningsmessig tenesteyting<br>kvartal=2012K3<br>Ledige stillingar (prosent)=%{x}<br>Sysselsatte=%{y}<br>Ledige stillingar=%{marker.size}<extra></extra>",
           "hovertext": [
            "Forretningsmessig tenesteyting"
           ],
           "ids": [
            "Forretningsmessig tenesteyting"
           ],
           "legendgroup": "Forretningsmessig tenesteyting",
           "marker": {
            "color": "#FF6692",
            "size": [
             9200
            ],
            "sizemode": "area",
            "sizeref": 4.32,
            "symbol": "circle"
           },
           "mode": "markers",
           "name": "Forretningsmessig tenesteyting",
           "orientation": "v",
           "showlegend": true,
           "type": "scatter",
           "x": [
            6.1
           ],
           "xaxis": "x",
           "y": [
            108
           ],
           "yaxis": "y"
          },
          {
           "hovertemplate": "<b>%{hovertext}</b><br><br>næring (SN2007)=Offentleg administrasjon og forsvar, og trygdeordningar underordna offentleg forvalting<br>kvartal=2012K3<br>Ledige stillingar (prosent)=%{x}<br>Sysselsatte=%{y}<br>Ledige stillingar=%{marker.size}<extra></extra>",
           "hovertext": [
            "Offentleg administrasjon og forsvar, og trygdeordningar underordna offentleg forvalting"
           ],
           "ids": [
            "Offentleg administrasjon og forsvar, og trygdeordningar underordna offentleg forvalting"
           ],
           "legendgroup": "Offentleg administrasjon og forsvar, og trygdeordningar underordna offentleg forvalting",
           "marker": {
            "color": "#B6E880",
            "size": [
             3800
            ],
            "sizemode": "area",
            "sizeref": 4.32,
            "symbol": "circle"
           },
           "mode": "markers",
           "name": "Offentleg administrasjon og forsvar, og trygdeordningar underordna offentleg forvalting",
           "orientation": "v",
           "showlegend": true,
           "type": "scatter",
           "x": [
            2.5
           ],
           "xaxis": "x",
           "y": [
            158
           ],
           "yaxis": "y"
          },
          {
           "hovertemplate": "<b>%{hovertext}</b><br><br>næring (SN2007)=Undervisning<br>kvartal=2012K3<br>Ledige stillingar (prosent)=%{x}<br>Sysselsatte=%{y}<br>Ledige stillingar=%{marker.size}<extra></extra>",
           "hovertext": [
            "Undervisning"
           ],
           "ids": [
            "Undervisning"
           ],
           "legendgroup": "Undervisning",
           "marker": {
            "color": "#FF97FF",
            "size": [
             2500
            ],
            "sizemode": "area",
            "sizeref": 4.32,
            "symbol": "circle"
           },
           "mode": "markers",
           "name": "Undervisning",
           "orientation": "v",
           "showlegend": true,
           "type": "scatter",
           "x": [
            1.2
           ],
           "xaxis": "x",
           "y": [
            207
           ],
           "yaxis": "y"
          },
          {
           "hovertemplate": "<b>%{hovertext}</b><br><br>næring (SN2007)=Kulturell verksemd, underhaldning og fritidsaktivitetar<br>kvartal=2012K3<br>Ledige stillingar (prosent)=%{x}<br>Sysselsatte=%{y}<br>Ledige stillingar=%{marker.size}<extra></extra>",
           "hovertext": [
            "Kulturell verksemd, underhaldning og fritidsaktivitetar"
           ],
           "ids": [
            "Kulturell verksemd, underhaldning og fritidsaktivitetar"
           ],
           "legendgroup": "Kulturell verksemd, underhaldning og fritidsaktivitetar",
           "marker": {
            "color": "#FECB52",
            "size": [
             700
            ],
            "sizemode": "area",
            "sizeref": 4.32,
            "symbol": "circle"
           },
           "mode": "markers",
           "name": "Kulturell verksemd, underhaldning og fritidsaktivitetar",
           "orientation": "v",
           "showlegend": true,
           "type": "scatter",
           "x": [
            2.1
           ],
           "xaxis": "x",
           "y": [
            49
           ],
           "yaxis": "y"
          }
         ],
         "name": "2012K3"
        },
        {
         "data": [
          {
           "hovertemplate": "<b>%{hovertext}</b><br><br>næring (SN2007)=Bergverksdrift og utvinning<br>kvartal=2012K4<br>Ledige stillingar (prosent)=%{x}<br>Sysselsatte=%{y}<br>Ledige stillingar=%{marker.size}<extra></extra>",
           "hovertext": [
            "Bergverksdrift og utvinning"
           ],
           "ids": [
            "Bergverksdrift og utvinning"
           ],
           "legendgroup": "Bergverksdrift og utvinning",
           "marker": {
            "color": "#636efa",
            "size": [
             2000
            ],
            "sizemode": "area",
            "sizeref": 4.32,
            "symbol": "circle"
           },
           "mode": "markers",
           "name": "Bergverksdrift og utvinning",
           "orientation": "v",
           "showlegend": true,
           "type": "scatter",
           "x": [
            3.2
           ],
           "xaxis": "x",
           "y": [
            61
           ],
           "yaxis": "y"
          },
          {
           "hovertemplate": "<b>%{hovertext}</b><br><br>næring (SN2007)=Byggje- og anleggsverksemd<br>kvartal=2012K4<br>Ledige stillingar (prosent)=%{x}<br>Sysselsatte=%{y}<br>Ledige stillingar=%{marker.size}<extra></extra>",
           "hovertext": [
            "Byggje- og anleggsverksemd"
           ],
           "ids": [
            "Byggje- og anleggsverksemd"
           ],
           "legendgroup": "Byggje- og anleggsverksemd",
           "marker": {
            "color": "#EF553B",
            "size": [
             3900
            ],
            "sizemode": "area",
            "sizeref": 4.32,
            "symbol": "circle"
           },
           "mode": "markers",
           "name": "Byggje- og anleggsverksemd",
           "orientation": "v",
           "showlegend": true,
           "type": "scatter",
           "x": [
            1.9
           ],
           "xaxis": "x",
           "y": [
            200
           ],
           "yaxis": "y"
          },
          {
           "hovertemplate": "<b>%{hovertext}</b><br><br>næring (SN2007)=Informasjon og kommunikasjon<br>kvartal=2012K4<br>Ledige stillingar (prosent)=%{x}<br>Sysselsatte=%{y}<br>Ledige stillingar=%{marker.size}<extra></extra>",
           "hovertext": [
            "Informasjon og kommunikasjon"
           ],
           "ids": [
            "Informasjon og kommunikasjon"
           ],
           "legendgroup": "Informasjon og kommunikasjon",
           "marker": {
            "color": "#00cc96",
            "size": [
             2800
            ],
            "sizemode": "area",
            "sizeref": 4.32,
            "symbol": "circle"
           },
           "mode": "markers",
           "name": "Informasjon og kommunikasjon",
           "orientation": "v",
           "showlegend": true,
           "type": "scatter",
           "x": [
            3.2
           ],
           "xaxis": "x",
           "y": [
            102
           ],
           "yaxis": "y"
          },
          {
           "hovertemplate": "<b>%{hovertext}</b><br><br>næring (SN2007)=Finansierings- og forsikringsverksemd<br>kvartal=2012K4<br>Ledige stillingar (prosent)=%{x}<br>Sysselsatte=%{y}<br>Ledige stillingar=%{marker.size}<extra></extra>",
           "hovertext": [
            "Finansierings- og forsikringsverksemd"
           ],
           "ids": [
            "Finansierings- og forsikringsverksemd"
           ],
           "legendgroup": "Finansierings- og forsikringsverksemd",
           "marker": {
            "color": "#ab63fa",
            "size": [
             700
            ],
            "sizemode": "area",
            "sizeref": 4.32,
            "symbol": "circle"
           },
           "mode": "markers",
           "name": "Finansierings- og forsikringsverksemd",
           "orientation": "v",
           "showlegend": true,
           "type": "scatter",
           "x": [
            1.4
           ],
           "xaxis": "x",
           "y": [
            50
           ],
           "yaxis": "y"
          },
          {
           "hovertemplate": "<b>%{hovertext}</b><br><br>næring (SN2007)=Omsetning og drift av fast eigedom<br>kvartal=2012K4<br>Ledige stillingar (prosent)=%{x}<br>Sysselsatte=%{y}<br>Ledige stillingar=%{marker.size}<extra></extra>",
           "hovertext": [
            "Omsetning og drift av fast eigedom"
           ],
           "ids": [
            "Omsetning og drift av fast eigedom"
           ],
           "legendgroup": "Omsetning og drift av fast eigedom",
           "marker": {
            "color": "#FFA15A",
            "size": [
             600
            ],
            "sizemode": "area",
            "sizeref": 4.32,
            "symbol": "circle"
           },
           "mode": "markers",
           "name": "Omsetning og drift av fast eigedom",
           "orientation": "v",
           "showlegend": true,
           "type": "scatter",
           "x": [
            2.6
           ],
           "xaxis": "x",
           "y": [
            20
           ],
           "yaxis": "y"
          },
          {
           "hovertemplate": "<b>%{hovertext}</b><br><br>næring (SN2007)=Fagleg, vitskapleg og teknisk tenesteyting<br>kvartal=2012K4<br>Ledige stillingar (prosent)=%{x}<br>Sysselsatte=%{y}<br>Ledige stillingar=%{marker.size}<extra></extra>",
           "hovertext": [
            "Fagleg, vitskapleg og teknisk tenesteyting"
           ],
           "ids": [
            "Fagleg, vitskapleg og teknisk tenesteyting"
           ],
           "legendgroup": "Fagleg, vitskapleg og teknisk tenesteyting",
           "marker": {
            "color": "#19d3f3",
            "size": [
             3700
            ],
            "sizemode": "area",
            "sizeref": 4.32,
            "symbol": "circle"
           },
           "mode": "markers",
           "name": "Fagleg, vitskapleg og teknisk tenesteyting",
           "orientation": "v",
           "showlegend": true,
           "type": "scatter",
           "x": [
            3
           ],
           "xaxis": "x",
           "y": [
            147
           ],
           "yaxis": "y"
          },
          {
           "hovertemplate": "<b>%{hovertext}</b><br><br>næring (SN2007)=Forretningsmessig tenesteyting<br>kvartal=2012K4<br>Ledige stillingar (prosent)=%{x}<br>Sysselsatte=%{y}<br>Ledige stillingar=%{marker.size}<extra></extra>",
           "hovertext": [
            "Forretningsmessig tenesteyting"
           ],
           "ids": [
            "Forretningsmessig tenesteyting"
           ],
           "legendgroup": "Forretningsmessig tenesteyting",
           "marker": {
            "color": "#FF6692",
            "size": [
             9000
            ],
            "sizemode": "area",
            "sizeref": 4.32,
            "symbol": "circle"
           },
           "mode": "markers",
           "name": "Forretningsmessig tenesteyting",
           "orientation": "v",
           "showlegend": true,
           "type": "scatter",
           "x": [
            5.9
           ],
           "xaxis": "x",
           "y": [
            101
           ],
           "yaxis": "y"
          },
          {
           "hovertemplate": "<b>%{hovertext}</b><br><br>næring (SN2007)=Offentleg administrasjon og forsvar, og trygdeordningar underordna offentleg forvalting<br>kvartal=2012K4<br>Ledige stillingar (prosent)=%{x}<br>Sysselsatte=%{y}<br>Ledige stillingar=%{marker.size}<extra></extra>",
           "hovertext": [
            "Offentleg administrasjon og forsvar, og trygdeordningar underordna offentleg forvalting"
           ],
           "ids": [
            "Offentleg administrasjon og forsvar, og trygdeordningar underordna offentleg forvalting"
           ],
           "legendgroup": "Offentleg administrasjon og forsvar, og trygdeordningar underordna offentleg forvalting",
           "marker": {
            "color": "#B6E880",
            "size": [
             4000
            ],
            "sizemode": "area",
            "sizeref": 4.32,
            "symbol": "circle"
           },
           "mode": "markers",
           "name": "Offentleg administrasjon og forsvar, og trygdeordningar underordna offentleg forvalting",
           "orientation": "v",
           "showlegend": true,
           "type": "scatter",
           "x": [
            2.6
           ],
           "xaxis": "x",
           "y": [
            162
           ],
           "yaxis": "y"
          },
          {
           "hovertemplate": "<b>%{hovertext}</b><br><br>næring (SN2007)=Undervisning<br>kvartal=2012K4<br>Ledige stillingar (prosent)=%{x}<br>Sysselsatte=%{y}<br>Ledige stillingar=%{marker.size}<extra></extra>",
           "hovertext": [
            "Undervisning"
           ],
           "ids": [
            "Undervisning"
           ],
           "legendgroup": "Undervisning",
           "marker": {
            "color": "#FF97FF",
            "size": [
             2400
            ],
            "sizemode": "area",
            "sizeref": 4.32,
            "symbol": "circle"
           },
           "mode": "markers",
           "name": "Undervisning",
           "orientation": "v",
           "showlegend": true,
           "type": "scatter",
           "x": [
            1.2
           ],
           "xaxis": "x",
           "y": [
            214
           ],
           "yaxis": "y"
          },
          {
           "hovertemplate": "<b>%{hovertext}</b><br><br>næring (SN2007)=Kulturell verksemd, underhaldning og fritidsaktivitetar<br>kvartal=2012K4<br>Ledige stillingar (prosent)=%{x}<br>Sysselsatte=%{y}<br>Ledige stillingar=%{marker.size}<extra></extra>",
           "hovertext": [
            "Kulturell verksemd, underhaldning og fritidsaktivitetar"
           ],
           "ids": [
            "Kulturell verksemd, underhaldning og fritidsaktivitetar"
           ],
           "legendgroup": "Kulturell verksemd, underhaldning og fritidsaktivitetar",
           "marker": {
            "color": "#FECB52",
            "size": [
             400
            ],
            "sizemode": "area",
            "sizeref": 4.32,
            "symbol": "circle"
           },
           "mode": "markers",
           "name": "Kulturell verksemd, underhaldning og fritidsaktivitetar",
           "orientation": "v",
           "showlegend": true,
           "type": "scatter",
           "x": [
            1.3
           ],
           "xaxis": "x",
           "y": [
            50
           ],
           "yaxis": "y"
          }
         ],
         "name": "2012K4"
        },
        {
         "data": [
          {
           "hovertemplate": "<b>%{hovertext}</b><br><br>næring (SN2007)=Bergverksdrift og utvinning<br>kvartal=2013K1<br>Ledige stillingar (prosent)=%{x}<br>Sysselsatte=%{y}<br>Ledige stillingar=%{marker.size}<extra></extra>",
           "hovertext": [
            "Bergverksdrift og utvinning"
           ],
           "ids": [
            "Bergverksdrift og utvinning"
           ],
           "legendgroup": "Bergverksdrift og utvinning",
           "marker": {
            "color": "#636efa",
            "size": [
             1900
            ],
            "sizemode": "area",
            "sizeref": 4.32,
            "symbol": "circle"
           },
           "mode": "markers",
           "name": "Bergverksdrift og utvinning",
           "orientation": "v",
           "showlegend": true,
           "type": "scatter",
           "x": [
            2.9
           ],
           "xaxis": "x",
           "y": [
            68
           ],
           "yaxis": "y"
          },
          {
           "hovertemplate": "<b>%{hovertext}</b><br><br>næring (SN2007)=Byggje- og anleggsverksemd<br>kvartal=2013K1<br>Ledige stillingar (prosent)=%{x}<br>Sysselsatte=%{y}<br>Ledige stillingar=%{marker.size}<extra></extra>",
           "hovertext": [
            "Byggje- og anleggsverksemd"
           ],
           "ids": [
            "Byggje- og anleggsverksemd"
           ],
           "legendgroup": "Byggje- og anleggsverksemd",
           "marker": {
            "color": "#EF553B",
            "size": [
             4300
            ],
            "sizemode": "area",
            "sizeref": 4.32,
            "symbol": "circle"
           },
           "mode": "markers",
           "name": "Byggje- og anleggsverksemd",
           "orientation": "v",
           "showlegend": true,
           "type": "scatter",
           "x": [
            2.1
           ],
           "xaxis": "x",
           "y": [
            193
           ],
           "yaxis": "y"
          },
          {
           "hovertemplate": "<b>%{hovertext}</b><br><br>næring (SN2007)=Informasjon og kommunikasjon<br>kvartal=2013K1<br>Ledige stillingar (prosent)=%{x}<br>Sysselsatte=%{y}<br>Ledige stillingar=%{marker.size}<extra></extra>",
           "hovertext": [
            "Informasjon og kommunikasjon"
           ],
           "ids": [
            "Informasjon og kommunikasjon"
           ],
           "legendgroup": "Informasjon og kommunikasjon",
           "marker": {
            "color": "#00cc96",
            "size": [
             3200
            ],
            "sizemode": "area",
            "sizeref": 4.32,
            "symbol": "circle"
           },
           "mode": "markers",
           "name": "Informasjon og kommunikasjon",
           "orientation": "v",
           "showlegend": true,
           "type": "scatter",
           "x": [
            3.7
           ],
           "xaxis": "x",
           "y": [
            106
           ],
           "yaxis": "y"
          },
          {
           "hovertemplate": "<b>%{hovertext}</b><br><br>næring (SN2007)=Finansierings- og forsikringsverksemd<br>kvartal=2013K1<br>Ledige stillingar (prosent)=%{x}<br>Sysselsatte=%{y}<br>Ledige stillingar=%{marker.size}<extra></extra>",
           "hovertext": [
            "Finansierings- og forsikringsverksemd"
           ],
           "ids": [
            "Finansierings- og forsikringsverksemd"
           ],
           "legendgroup": "Finansierings- og forsikringsverksemd",
           "marker": {
            "color": "#ab63fa",
            "size": [
             600
            ],
            "sizemode": "area",
            "sizeref": 4.32,
            "symbol": "circle"
           },
           "mode": "markers",
           "name": "Finansierings- og forsikringsverksemd",
           "orientation": "v",
           "showlegend": true,
           "type": "scatter",
           "x": [
            1.3
           ],
           "xaxis": "x",
           "y": [
            52
           ],
           "yaxis": "y"
          },
          {
           "hovertemplate": "<b>%{hovertext}</b><br><br>næring (SN2007)=Omsetning og drift av fast eigedom<br>kvartal=2013K1<br>Ledige stillingar (prosent)=%{x}<br>Sysselsatte=%{y}<br>Ledige stillingar=%{marker.size}<extra></extra>",
           "hovertext": [
            "Omsetning og drift av fast eigedom"
           ],
           "ids": [
            "Omsetning og drift av fast eigedom"
           ],
           "legendgroup": "Omsetning og drift av fast eigedom",
           "marker": {
            "color": "#FFA15A",
            "size": [
             500
            ],
            "sizemode": "area",
            "sizeref": 4.32,
            "symbol": "circle"
           },
           "mode": "markers",
           "name": "Omsetning og drift av fast eigedom",
           "orientation": "v",
           "showlegend": true,
           "type": "scatter",
           "x": [
            2.1
           ],
           "xaxis": "x",
           "y": [
            23
           ],
           "yaxis": "y"
          },
          {
           "hovertemplate": "<b>%{hovertext}</b><br><br>næring (SN2007)=Fagleg, vitskapleg og teknisk tenesteyting<br>kvartal=2013K1<br>Ledige stillingar (prosent)=%{x}<br>Sysselsatte=%{y}<br>Ledige stillingar=%{marker.size}<extra></extra>",
           "hovertext": [
            "Fagleg, vitskapleg og teknisk tenesteyting"
           ],
           "ids": [
            "Fagleg, vitskapleg og teknisk tenesteyting"
           ],
           "legendgroup": "Fagleg, vitskapleg og teknisk tenesteyting",
           "marker": {
            "color": "#19d3f3",
            "size": [
             3600
            ],
            "sizemode": "area",
            "sizeref": 4.32,
            "symbol": "circle"
           },
           "mode": "markers",
           "name": "Fagleg, vitskapleg og teknisk tenesteyting",
           "orientation": "v",
           "showlegend": true,
           "type": "scatter",
           "x": [
            2.9
           ],
           "xaxis": "x",
           "y": [
            149
           ],
           "yaxis": "y"
          },
          {
           "hovertemplate": "<b>%{hovertext}</b><br><br>næring (SN2007)=Forretningsmessig tenesteyting<br>kvartal=2013K1<br>Ledige stillingar (prosent)=%{x}<br>Sysselsatte=%{y}<br>Ledige stillingar=%{marker.size}<extra></extra>",
           "hovertext": [
            "Forretningsmessig tenesteyting"
           ],
           "ids": [
            "Forretningsmessig tenesteyting"
           ],
           "legendgroup": "Forretningsmessig tenesteyting",
           "marker": {
            "color": "#FF6692",
            "size": [
             10200
            ],
            "sizemode": "area",
            "sizeref": 4.32,
            "symbol": "circle"
           },
           "mode": "markers",
           "name": "Forretningsmessig tenesteyting",
           "orientation": "v",
           "showlegend": true,
           "type": "scatter",
           "x": [
            6.7
           ],
           "xaxis": "x",
           "y": [
            99
           ],
           "yaxis": "y"
          },
          {
           "hovertemplate": "<b>%{hovertext}</b><br><br>næring (SN2007)=Offentleg administrasjon og forsvar, og trygdeordningar underordna offentleg forvalting<br>kvartal=2013K1<br>Ledige stillingar (prosent)=%{x}<br>Sysselsatte=%{y}<br>Ledige stillingar=%{marker.size}<extra></extra>",
           "hovertext": [
            "Offentleg administrasjon og forsvar, og trygdeordningar underordna offentleg forvalting"
           ],
           "ids": [
            "Offentleg administrasjon og forsvar, og trygdeordningar underordna offentleg forvalting"
           ],
           "legendgroup": "Offentleg administrasjon og forsvar, og trygdeordningar underordna offentleg forvalting",
           "marker": {
            "color": "#B6E880",
            "size": [
             3300
            ],
            "sizemode": "area",
            "sizeref": 4.32,
            "symbol": "circle"
           },
           "mode": "markers",
           "name": "Offentleg administrasjon og forsvar, og trygdeordningar underordna offentleg forvalting",
           "orientation": "v",
           "showlegend": true,
           "type": "scatter",
           "x": [
            2.2
           ],
           "xaxis": "x",
           "y": [
            157
           ],
           "yaxis": "y"
          },
          {
           "hovertemplate": "<b>%{hovertext}</b><br><br>næring (SN2007)=Undervisning<br>kvartal=2013K1<br>Ledige stillingar (prosent)=%{x}<br>Sysselsatte=%{y}<br>Ledige stillingar=%{marker.size}<extra></extra>",
           "hovertext": [
            "Undervisning"
           ],
           "ids": [
            "Undervisning"
           ],
           "legendgroup": "Undervisning",
           "marker": {
            "color": "#FF97FF",
            "size": [
             3800
            ],
            "sizemode": "area",
            "sizeref": 4.32,
            "symbol": "circle"
           },
           "mode": "markers",
           "name": "Undervisning",
           "orientation": "v",
           "showlegend": true,
           "type": "scatter",
           "x": [
            1.8
           ],
           "xaxis": "x",
           "y": [
            212
           ],
           "yaxis": "y"
          },
          {
           "hovertemplate": "<b>%{hovertext}</b><br><br>næring (SN2007)=Kulturell verksemd, underhaldning og fritidsaktivitetar<br>kvartal=2013K1<br>Ledige stillingar (prosent)=%{x}<br>Sysselsatte=%{y}<br>Ledige stillingar=%{marker.size}<extra></extra>",
           "hovertext": [
            "Kulturell verksemd, underhaldning og fritidsaktivitetar"
           ],
           "ids": [
            "Kulturell verksemd, underhaldning og fritidsaktivitetar"
           ],
           "legendgroup": "Kulturell verksemd, underhaldning og fritidsaktivitetar",
           "marker": {
            "color": "#FECB52",
            "size": [
             800
            ],
            "sizemode": "area",
            "sizeref": 4.32,
            "symbol": "circle"
           },
           "mode": "markers",
           "name": "Kulturell verksemd, underhaldning og fritidsaktivitetar",
           "orientation": "v",
           "showlegend": true,
           "type": "scatter",
           "x": [
            2.2
           ],
           "xaxis": "x",
           "y": [
            50
           ],
           "yaxis": "y"
          }
         ],
         "name": "2013K1"
        },
        {
         "data": [
          {
           "hovertemplate": "<b>%{hovertext}</b><br><br>næring (SN2007)=Bergverksdrift og utvinning<br>kvartal=2013K2<br>Ledige stillingar (prosent)=%{x}<br>Sysselsatte=%{y}<br>Ledige stillingar=%{marker.size}<extra></extra>",
           "hovertext": [
            "Bergverksdrift og utvinning"
           ],
           "ids": [
            "Bergverksdrift og utvinning"
           ],
           "legendgroup": "Bergverksdrift og utvinning",
           "marker": {
            "color": "#636efa",
            "size": [
             2100
            ],
            "sizemode": "area",
            "sizeref": 4.32,
            "symbol": "circle"
           },
           "mode": "markers",
           "name": "Bergverksdrift og utvinning",
           "orientation": "v",
           "showlegend": true,
           "type": "scatter",
           "x": [
            3.2
           ],
           "xaxis": "x",
           "y": [
            69
           ],
           "yaxis": "y"
          },
          {
           "hovertemplate": "<b>%{hovertext}</b><br><br>næring (SN2007)=Byggje- og anleggsverksemd<br>kvartal=2013K2<br>Ledige stillingar (prosent)=%{x}<br>Sysselsatte=%{y}<br>Ledige stillingar=%{marker.size}<extra></extra>",
           "hovertext": [
            "Byggje- og anleggsverksemd"
           ],
           "ids": [
            "Byggje- og anleggsverksemd"
           ],
           "legendgroup": "Byggje- og anleggsverksemd",
           "marker": {
            "color": "#EF553B",
            "size": [
             5600
            ],
            "sizemode": "area",
            "sizeref": 4.32,
            "symbol": "circle"
           },
           "mode": "markers",
           "name": "Byggje- og anleggsverksemd",
           "orientation": "v",
           "showlegend": true,
           "type": "scatter",
           "x": [
            2.7
           ],
           "xaxis": "x",
           "y": [
            197
           ],
           "yaxis": "y"
          },
          {
           "hovertemplate": "<b>%{hovertext}</b><br><br>næring (SN2007)=Informasjon og kommunikasjon<br>kvartal=2013K2<br>Ledige stillingar (prosent)=%{x}<br>Sysselsatte=%{y}<br>Ledige stillingar=%{marker.size}<extra></extra>",
           "hovertext": [
            "Informasjon og kommunikasjon"
           ],
           "ids": [
            "Informasjon og kommunikasjon"
           ],
           "legendgroup": "Informasjon og kommunikasjon",
           "marker": {
            "color": "#00cc96",
            "size": [
             3500
            ],
            "sizemode": "area",
            "sizeref": 4.32,
            "symbol": "circle"
           },
           "mode": "markers",
           "name": "Informasjon og kommunikasjon",
           "orientation": "v",
           "showlegend": true,
           "type": "scatter",
           "x": [
            4
           ],
           "xaxis": "x",
           "y": [
            106
           ],
           "yaxis": "y"
          },
          {
           "hovertemplate": "<b>%{hovertext}</b><br><br>næring (SN2007)=Finansierings- og forsikringsverksemd<br>kvartal=2013K2<br>Ledige stillingar (prosent)=%{x}<br>Sysselsatte=%{y}<br>Ledige stillingar=%{marker.size}<extra></extra>",
           "hovertext": [
            "Finansierings- og forsikringsverksemd"
           ],
           "ids": [
            "Finansierings- og forsikringsverksemd"
           ],
           "legendgroup": "Finansierings- og forsikringsverksemd",
           "marker": {
            "color": "#ab63fa",
            "size": [
             700
            ],
            "sizemode": "area",
            "sizeref": 4.32,
            "symbol": "circle"
           },
           "mode": "markers",
           "name": "Finansierings- og forsikringsverksemd",
           "orientation": "v",
           "showlegend": true,
           "type": "scatter",
           "x": [
            1.5
           ],
           "xaxis": "x",
           "y": [
            53
           ],
           "yaxis": "y"
          },
          {
           "hovertemplate": "<b>%{hovertext}</b><br><br>næring (SN2007)=Omsetning og drift av fast eigedom<br>kvartal=2013K2<br>Ledige stillingar (prosent)=%{x}<br>Sysselsatte=%{y}<br>Ledige stillingar=%{marker.size}<extra></extra>",
           "hovertext": [
            "Omsetning og drift av fast eigedom"
           ],
           "ids": [
            "Omsetning og drift av fast eigedom"
           ],
           "legendgroup": "Omsetning og drift av fast eigedom",
           "marker": {
            "color": "#FFA15A",
            "size": [
             600
            ],
            "sizemode": "area",
            "sizeref": 4.32,
            "symbol": "circle"
           },
           "mode": "markers",
           "name": "Omsetning og drift av fast eigedom",
           "orientation": "v",
           "showlegend": true,
           "type": "scatter",
           "x": [
            2.3
           ],
           "xaxis": "x",
           "y": [
            24
           ],
           "yaxis": "y"
          },
          {
           "hovertemplate": "<b>%{hovertext}</b><br><br>næring (SN2007)=Fagleg, vitskapleg og teknisk tenesteyting<br>kvartal=2013K2<br>Ledige stillingar (prosent)=%{x}<br>Sysselsatte=%{y}<br>Ledige stillingar=%{marker.size}<extra></extra>",
           "hovertext": [
            "Fagleg, vitskapleg og teknisk tenesteyting"
           ],
           "ids": [
            "Fagleg, vitskapleg og teknisk tenesteyting"
           ],
           "legendgroup": "Fagleg, vitskapleg og teknisk tenesteyting",
           "marker": {
            "color": "#19d3f3",
            "size": [
             3600
            ],
            "sizemode": "area",
            "sizeref": 4.32,
            "symbol": "circle"
           },
           "mode": "markers",
           "name": "Fagleg, vitskapleg og teknisk tenesteyting",
           "orientation": "v",
           "showlegend": true,
           "type": "scatter",
           "x": [
            2.8
           ],
           "xaxis": "x",
           "y": [
            149
           ],
           "yaxis": "y"
          },
          {
           "hovertemplate": "<b>%{hovertext}</b><br><br>næring (SN2007)=Forretningsmessig tenesteyting<br>kvartal=2013K2<br>Ledige stillingar (prosent)=%{x}<br>Sysselsatte=%{y}<br>Ledige stillingar=%{marker.size}<extra></extra>",
           "hovertext": [
            "Forretningsmessig tenesteyting"
           ],
           "ids": [
            "Forretningsmessig tenesteyting"
           ],
           "legendgroup": "Forretningsmessig tenesteyting",
           "marker": {
            "color": "#FF6692",
            "size": [
             9100
            ],
            "sizemode": "area",
            "sizeref": 4.32,
            "symbol": "circle"
           },
           "mode": "markers",
           "name": "Forretningsmessig tenesteyting",
           "orientation": "v",
           "showlegend": true,
           "type": "scatter",
           "x": [
            6
           ],
           "xaxis": "x",
           "y": [
            103
           ],
           "yaxis": "y"
          },
          {
           "hovertemplate": "<b>%{hovertext}</b><br><br>næring (SN2007)=Offentleg administrasjon og forsvar, og trygdeordningar underordna offentleg forvalting<br>kvartal=2013K2<br>Ledige stillingar (prosent)=%{x}<br>Sysselsatte=%{y}<br>Ledige stillingar=%{marker.size}<extra></extra>",
           "hovertext": [
            "Offentleg administrasjon og forsvar, og trygdeordningar underordna offentleg forvalting"
           ],
           "ids": [
            "Offentleg administrasjon og forsvar, og trygdeordningar underordna offentleg forvalting"
           ],
           "legendgroup": "Offentleg administrasjon og forsvar, og trygdeordningar underordna offentleg forvalting",
           "marker": {
            "color": "#B6E880",
            "size": [
             3900
            ],
            "sizemode": "area",
            "sizeref": 4.32,
            "symbol": "circle"
           },
           "mode": "markers",
           "name": "Offentleg administrasjon og forsvar, og trygdeordningar underordna offentleg forvalting",
           "orientation": "v",
           "showlegend": true,
           "type": "scatter",
           "x": [
            2.5
           ],
           "xaxis": "x",
           "y": [
            160
           ],
           "yaxis": "y"
          },
          {
           "hovertemplate": "<b>%{hovertext}</b><br><br>næring (SN2007)=Undervisning<br>kvartal=2013K2<br>Ledige stillingar (prosent)=%{x}<br>Sysselsatte=%{y}<br>Ledige stillingar=%{marker.size}<extra></extra>",
           "hovertext": [
            "Undervisning"
           ],
           "ids": [
            "Undervisning"
           ],
           "legendgroup": "Undervisning",
           "marker": {
            "color": "#FF97FF",
            "size": [
             6000
            ],
            "sizemode": "area",
            "sizeref": 4.32,
            "symbol": "circle"
           },
           "mode": "markers",
           "name": "Undervisning",
           "orientation": "v",
           "showlegend": true,
           "type": "scatter",
           "x": [
            2.8
           ],
           "xaxis": "x",
           "y": [
            221
           ],
           "yaxis": "y"
          },
          {
           "hovertemplate": "<b>%{hovertext}</b><br><br>næring (SN2007)=Kulturell verksemd, underhaldning og fritidsaktivitetar<br>kvartal=2013K2<br>Ledige stillingar (prosent)=%{x}<br>Sysselsatte=%{y}<br>Ledige stillingar=%{marker.size}<extra></extra>",
           "hovertext": [
            "Kulturell verksemd, underhaldning og fritidsaktivitetar"
           ],
           "ids": [
            "Kulturell verksemd, underhaldning og fritidsaktivitetar"
           ],
           "legendgroup": "Kulturell verksemd, underhaldning og fritidsaktivitetar",
           "marker": {
            "color": "#FECB52",
            "size": [
             500
            ],
            "sizemode": "area",
            "sizeref": 4.32,
            "symbol": "circle"
           },
           "mode": "markers",
           "name": "Kulturell verksemd, underhaldning og fritidsaktivitetar",
           "orientation": "v",
           "showlegend": true,
           "type": "scatter",
           "x": [
            1.3
           ],
           "xaxis": "x",
           "y": [
            54
           ],
           "yaxis": "y"
          }
         ],
         "name": "2013K2"
        },
        {
         "data": [
          {
           "hovertemplate": "<b>%{hovertext}</b><br><br>næring (SN2007)=Bergverksdrift og utvinning<br>kvartal=2013K3<br>Ledige stillingar (prosent)=%{x}<br>Sysselsatte=%{y}<br>Ledige stillingar=%{marker.size}<extra></extra>",
           "hovertext": [
            "Bergverksdrift og utvinning"
           ],
           "ids": [
            "Bergverksdrift og utvinning"
           ],
           "legendgroup": "Bergverksdrift og utvinning",
           "marker": {
            "color": "#636efa",
            "size": [
             1700
            ],
            "sizemode": "area",
            "sizeref": 4.32,
            "symbol": "circle"
           },
           "mode": "markers",
           "name": "Bergverksdrift og utvinning",
           "orientation": "v",
           "showlegend": true,
           "type": "scatter",
           "x": [
            2.6
           ],
           "xaxis": "x",
           "y": [
            70
           ],
           "yaxis": "y"
          },
          {
           "hovertemplate": "<b>%{hovertext}</b><br><br>næring (SN2007)=Byggje- og anleggsverksemd<br>kvartal=2013K3<br>Ledige stillingar (prosent)=%{x}<br>Sysselsatte=%{y}<br>Ledige stillingar=%{marker.size}<extra></extra>",
           "hovertext": [
            "Byggje- og anleggsverksemd"
           ],
           "ids": [
            "Byggje- og anleggsverksemd"
           ],
           "legendgroup": "Byggje- og anleggsverksemd",
           "marker": {
            "color": "#EF553B",
            "size": [
             4400
            ],
            "sizemode": "area",
            "sizeref": 4.32,
            "symbol": "circle"
           },
           "mode": "markers",
           "name": "Byggje- og anleggsverksemd",
           "orientation": "v",
           "showlegend": true,
           "type": "scatter",
           "x": [
            2.1
           ],
           "xaxis": "x",
           "y": [
            199
           ],
           "yaxis": "y"
          },
          {
           "hovertemplate": "<b>%{hovertext}</b><br><br>næring (SN2007)=Informasjon og kommunikasjon<br>kvartal=2013K3<br>Ledige stillingar (prosent)=%{x}<br>Sysselsatte=%{y}<br>Ledige stillingar=%{marker.size}<extra></extra>",
           "hovertext": [
            "Informasjon og kommunikasjon"
           ],
           "ids": [
            "Informasjon og kommunikasjon"
           ],
           "legendgroup": "Informasjon og kommunikasjon",
           "marker": {
            "color": "#00cc96",
            "size": [
             2900
            ],
            "sizemode": "area",
            "sizeref": 4.32,
            "symbol": "circle"
           },
           "mode": "markers",
           "name": "Informasjon og kommunikasjon",
           "orientation": "v",
           "showlegend": true,
           "type": "scatter",
           "x": [
            3.3
           ],
           "xaxis": "x",
           "y": [
            101
           ],
           "yaxis": "y"
          },
          {
           "hovertemplate": "<b>%{hovertext}</b><br><br>næring (SN2007)=Finansierings- og forsikringsverksemd<br>kvartal=2013K3<br>Ledige stillingar (prosent)=%{x}<br>Sysselsatte=%{y}<br>Ledige stillingar=%{marker.size}<extra></extra>",
           "hovertext": [
            "Finansierings- og forsikringsverksemd"
           ],
           "ids": [
            "Finansierings- og forsikringsverksemd"
           ],
           "legendgroup": "Finansierings- og forsikringsverksemd",
           "marker": {
            "color": "#ab63fa",
            "size": [
             700
            ],
            "sizemode": "area",
            "sizeref": 4.32,
            "symbol": "circle"
           },
           "mode": "markers",
           "name": "Finansierings- og forsikringsverksemd",
           "orientation": "v",
           "showlegend": true,
           "type": "scatter",
           "x": [
            1.5
           ],
           "xaxis": "x",
           "y": [
            54
           ],
           "yaxis": "y"
          },
          {
           "hovertemplate": "<b>%{hovertext}</b><br><br>næring (SN2007)=Omsetning og drift av fast eigedom<br>kvartal=2013K3<br>Ledige stillingar (prosent)=%{x}<br>Sysselsatte=%{y}<br>Ledige stillingar=%{marker.size}<extra></extra>",
           "hovertext": [
            "Omsetning og drift av fast eigedom"
           ],
           "ids": [
            "Omsetning og drift av fast eigedom"
           ],
           "legendgroup": "Omsetning og drift av fast eigedom",
           "marker": {
            "color": "#FFA15A",
            "size": [
             400
            ],
            "sizemode": "area",
            "sizeref": 4.32,
            "symbol": "circle"
           },
           "mode": "markers",
           "name": "Omsetning og drift av fast eigedom",
           "orientation": "v",
           "showlegend": true,
           "type": "scatter",
           "x": [
            1.7
           ],
           "xaxis": "x",
           "y": [
            24
           ],
           "yaxis": "y"
          },
          {
           "hovertemplate": "<b>%{hovertext}</b><br><br>næring (SN2007)=Fagleg, vitskapleg og teknisk tenesteyting<br>kvartal=2013K3<br>Ledige stillingar (prosent)=%{x}<br>Sysselsatte=%{y}<br>Ledige stillingar=%{marker.size}<extra></extra>",
           "hovertext": [
            "Fagleg, vitskapleg og teknisk tenesteyting"
           ],
           "ids": [
            "Fagleg, vitskapleg og teknisk tenesteyting"
           ],
           "legendgroup": "Fagleg, vitskapleg og teknisk tenesteyting",
           "marker": {
            "color": "#19d3f3",
            "size": [
             3700
            ],
            "sizemode": "area",
            "sizeref": 4.32,
            "symbol": "circle"
           },
           "mode": "markers",
           "name": "Fagleg, vitskapleg og teknisk tenesteyting",
           "orientation": "v",
           "showlegend": true,
           "type": "scatter",
           "x": [
            2.9
           ],
           "xaxis": "x",
           "y": [
            146
           ],
           "yaxis": "y"
          },
          {
           "hovertemplate": "<b>%{hovertext}</b><br><br>næring (SN2007)=Forretningsmessig tenesteyting<br>kvartal=2013K3<br>Ledige stillingar (prosent)=%{x}<br>Sysselsatte=%{y}<br>Ledige stillingar=%{marker.size}<extra></extra>",
           "hovertext": [
            "Forretningsmessig tenesteyting"
           ],
           "ids": [
            "Forretningsmessig tenesteyting"
           ],
           "legendgroup": "Forretningsmessig tenesteyting",
           "marker": {
            "color": "#FF6692",
            "size": [
             7800
            ],
            "sizemode": "area",
            "sizeref": 4.32,
            "symbol": "circle"
           },
           "mode": "markers",
           "name": "Forretningsmessig tenesteyting",
           "orientation": "v",
           "showlegend": true,
           "type": "scatter",
           "x": [
            4.9
           ],
           "xaxis": "x",
           "y": [
            106
           ],
           "yaxis": "y"
          },
          {
           "hovertemplate": "<b>%{hovertext}</b><br><br>næring (SN2007)=Offentleg administrasjon og forsvar, og trygdeordningar underordna offentleg forvalting<br>kvartal=2013K3<br>Ledige stillingar (prosent)=%{x}<br>Sysselsatte=%{y}<br>Ledige stillingar=%{marker.size}<extra></extra>",
           "hovertext": [
            "Offentleg administrasjon og forsvar, og trygdeordningar underordna offentleg forvalting"
           ],
           "ids": [
            "Offentleg administrasjon og forsvar, og trygdeordningar underordna offentleg forvalting"
           ],
           "legendgroup": "Offentleg administrasjon og forsvar, og trygdeordningar underordna offentleg forvalting",
           "marker": {
            "color": "#B6E880",
            "size": [
             2800
            ],
            "sizemode": "area",
            "sizeref": 4.32,
            "symbol": "circle"
           },
           "mode": "markers",
           "name": "Offentleg administrasjon og forsvar, og trygdeordningar underordna offentleg forvalting",
           "orientation": "v",
           "showlegend": true,
           "type": "scatter",
           "x": [
            1.8
           ],
           "xaxis": "x",
           "y": [
            164
           ],
           "yaxis": "y"
          },
          {
           "hovertemplate": "<b>%{hovertext}</b><br><br>næring (SN2007)=Undervisning<br>kvartal=2013K3<br>Ledige stillingar (prosent)=%{x}<br>Sysselsatte=%{y}<br>Ledige stillingar=%{marker.size}<extra></extra>",
           "hovertext": [
            "Undervisning"
           ],
           "ids": [
            "Undervisning"
           ],
           "legendgroup": "Undervisning",
           "marker": {
            "color": "#FF97FF",
            "size": [
             2200
            ],
            "sizemode": "area",
            "sizeref": 4.32,
            "symbol": "circle"
           },
           "mode": "markers",
           "name": "Undervisning",
           "orientation": "v",
           "showlegend": true,
           "type": "scatter",
           "x": [
            1
           ],
           "xaxis": "x",
           "y": [
            217
           ],
           "yaxis": "y"
          },
          {
           "hovertemplate": "<b>%{hovertext}</b><br><br>næring (SN2007)=Kulturell verksemd, underhaldning og fritidsaktivitetar<br>kvartal=2013K3<br>Ledige stillingar (prosent)=%{x}<br>Sysselsatte=%{y}<br>Ledige stillingar=%{marker.size}<extra></extra>",
           "hovertext": [
            "Kulturell verksemd, underhaldning og fritidsaktivitetar"
           ],
           "ids": [
            "Kulturell verksemd, underhaldning og fritidsaktivitetar"
           ],
           "legendgroup": "Kulturell verksemd, underhaldning og fritidsaktivitetar",
           "marker": {
            "color": "#FECB52",
            "size": [
             600
            ],
            "sizemode": "area",
            "sizeref": 4.32,
            "symbol": "circle"
           },
           "mode": "markers",
           "name": "Kulturell verksemd, underhaldning og fritidsaktivitetar",
           "orientation": "v",
           "showlegend": true,
           "type": "scatter",
           "x": [
            1.6
           ],
           "xaxis": "x",
           "y": [
            50
           ],
           "yaxis": "y"
          }
         ],
         "name": "2013K3"
        },
        {
         "data": [
          {
           "hovertemplate": "<b>%{hovertext}</b><br><br>næring (SN2007)=Bergverksdrift og utvinning<br>kvartal=2013K4<br>Ledige stillingar (prosent)=%{x}<br>Sysselsatte=%{y}<br>Ledige stillingar=%{marker.size}<extra></extra>",
           "hovertext": [
            "Bergverksdrift og utvinning"
           ],
           "ids": [
            "Bergverksdrift og utvinning"
           ],
           "legendgroup": "Bergverksdrift og utvinning",
           "marker": {
            "color": "#636efa",
            "size": [
             1400
            ],
            "sizemode": "area",
            "sizeref": 4.32,
            "symbol": "circle"
           },
           "mode": "markers",
           "name": "Bergverksdrift og utvinning",
           "orientation": "v",
           "showlegend": true,
           "type": "scatter",
           "x": [
            2.1
           ],
           "xaxis": "x",
           "y": [
            74
           ],
           "yaxis": "y"
          },
          {
           "hovertemplate": "<b>%{hovertext}</b><br><br>næring (SN2007)=Byggje- og anleggsverksemd<br>kvartal=2013K4<br>Ledige stillingar (prosent)=%{x}<br>Sysselsatte=%{y}<br>Ledige stillingar=%{marker.size}<extra></extra>",
           "hovertext": [
            "Byggje- og anleggsverksemd"
           ],
           "ids": [
            "Byggje- og anleggsverksemd"
           ],
           "legendgroup": "Byggje- og anleggsverksemd",
           "marker": {
            "color": "#EF553B",
            "size": [
             3400
            ],
            "sizemode": "area",
            "sizeref": 4.32,
            "symbol": "circle"
           },
           "mode": "markers",
           "name": "Byggje- og anleggsverksemd",
           "orientation": "v",
           "showlegend": true,
           "type": "scatter",
           "x": [
            1.6
           ],
           "xaxis": "x",
           "y": [
            206
           ],
           "yaxis": "y"
          },
          {
           "hovertemplate": "<b>%{hovertext}</b><br><br>næring (SN2007)=Informasjon og kommunikasjon<br>kvartal=2013K4<br>Ledige stillingar (prosent)=%{x}<br>Sysselsatte=%{y}<br>Ledige stillingar=%{marker.size}<extra></extra>",
           "hovertext": [
            "Informasjon og kommunikasjon"
           ],
           "ids": [
            "Informasjon og kommunikasjon"
           ],
           "legendgroup": "Informasjon og kommunikasjon",
           "marker": {
            "color": "#00cc96",
            "size": [
             2500
            ],
            "sizemode": "area",
            "sizeref": 4.32,
            "symbol": "circle"
           },
           "mode": "markers",
           "name": "Informasjon og kommunikasjon",
           "orientation": "v",
           "showlegend": true,
           "type": "scatter",
           "x": [
            2.9
           ],
           "xaxis": "x",
           "y": [
            100
           ],
           "yaxis": "y"
          },
          {
           "hovertemplate": "<b>%{hovertext}</b><br><br>næring (SN2007)=Finansierings- og forsikringsverksemd<br>kvartal=2013K4<br>Ledige stillingar (prosent)=%{x}<br>Sysselsatte=%{y}<br>Ledige stillingar=%{marker.size}<extra></extra>",
           "hovertext": [
            "Finansierings- og forsikringsverksemd"
           ],
           "ids": [
            "Finansierings- og forsikringsverksemd"
           ],
           "legendgroup": "Finansierings- og forsikringsverksemd",
           "marker": {
            "color": "#ab63fa",
            "size": [
             600
            ],
            "sizemode": "area",
            "sizeref": 4.32,
            "symbol": "circle"
           },
           "mode": "markers",
           "name": "Finansierings- og forsikringsverksemd",
           "orientation": "v",
           "showlegend": true,
           "type": "scatter",
           "x": [
            1.2
           ],
           "xaxis": "x",
           "y": [
            52
           ],
           "yaxis": "y"
          },
          {
           "hovertemplate": "<b>%{hovertext}</b><br><br>næring (SN2007)=Omsetning og drift av fast eigedom<br>kvartal=2013K4<br>Ledige stillingar (prosent)=%{x}<br>Sysselsatte=%{y}<br>Ledige stillingar=%{marker.size}<extra></extra>",
           "hovertext": [
            "Omsetning og drift av fast eigedom"
           ],
           "ids": [
            "Omsetning og drift av fast eigedom"
           ],
           "legendgroup": "Omsetning og drift av fast eigedom",
           "marker": {
            "color": "#FFA15A",
            "size": [
             300
            ],
            "sizemode": "area",
            "sizeref": 4.32,
            "symbol": "circle"
           },
           "mode": "markers",
           "name": "Omsetning og drift av fast eigedom",
           "orientation": "v",
           "showlegend": true,
           "type": "scatter",
           "x": [
            1.1
           ],
           "xaxis": "x",
           "y": [
            22
           ],
           "yaxis": "y"
          },
          {
           "hovertemplate": "<b>%{hovertext}</b><br><br>næring (SN2007)=Fagleg, vitskapleg og teknisk tenesteyting<br>kvartal=2013K4<br>Ledige stillingar (prosent)=%{x}<br>Sysselsatte=%{y}<br>Ledige stillingar=%{marker.size}<extra></extra>",
           "hovertext": [
            "Fagleg, vitskapleg og teknisk tenesteyting"
           ],
           "ids": [
            "Fagleg, vitskapleg og teknisk tenesteyting"
           ],
           "legendgroup": "Fagleg, vitskapleg og teknisk tenesteyting",
           "marker": {
            "color": "#19d3f3",
            "size": [
             3600
            ],
            "sizemode": "area",
            "sizeref": 4.32,
            "symbol": "circle"
           },
           "mode": "markers",
           "name": "Fagleg, vitskapleg og teknisk tenesteyting",
           "orientation": "v",
           "showlegend": true,
           "type": "scatter",
           "x": [
            2.8
           ],
           "xaxis": "x",
           "y": [
            152
           ],
           "yaxis": "y"
          },
          {
           "hovertemplate": "<b>%{hovertext}</b><br><br>næring (SN2007)=Forretningsmessig tenesteyting<br>kvartal=2013K4<br>Ledige stillingar (prosent)=%{x}<br>Sysselsatte=%{y}<br>Ledige stillingar=%{marker.size}<extra></extra>",
           "hovertext": [
            "Forretningsmessig tenesteyting"
           ],
           "ids": [
            "Forretningsmessig tenesteyting"
           ],
           "legendgroup": "Forretningsmessig tenesteyting",
           "marker": {
            "color": "#FF6692",
            "size": [
             6900
            ],
            "sizemode": "area",
            "sizeref": 4.32,
            "symbol": "circle"
           },
           "mode": "markers",
           "name": "Forretningsmessig tenesteyting",
           "orientation": "v",
           "showlegend": true,
           "type": "scatter",
           "x": [
            4.4
           ],
           "xaxis": "x",
           "y": [
            110
           ],
           "yaxis": "y"
          },
          {
           "hovertemplate": "<b>%{hovertext}</b><br><br>næring (SN2007)=Offentleg administrasjon og forsvar, og trygdeordningar underordna offentleg forvalting<br>kvartal=2013K4<br>Ledige stillingar (prosent)=%{x}<br>Sysselsatte=%{y}<br>Ledige stillingar=%{marker.size}<extra></extra>",
           "hovertext": [
            "Offentleg administrasjon og forsvar, og trygdeordningar underordna offentleg forvalting"
           ],
           "ids": [
            "Offentleg administrasjon og forsvar, og trygdeordningar underordna offentleg forvalting"
           ],
           "legendgroup": "Offentleg administrasjon og forsvar, og trygdeordningar underordna offentleg forvalting",
           "marker": {
            "color": "#B6E880",
            "size": [
             2800
            ],
            "sizemode": "area",
            "sizeref": 4.32,
            "symbol": "circle"
           },
           "mode": "markers",
           "name": "Offentleg administrasjon og forsvar, og trygdeordningar underordna offentleg forvalting",
           "orientation": "v",
           "showlegend": true,
           "type": "scatter",
           "x": [
            1.8
           ],
           "xaxis": "x",
           "y": [
            167
           ],
           "yaxis": "y"
          },
          {
           "hovertemplate": "<b>%{hovertext}</b><br><br>næring (SN2007)=Undervisning<br>kvartal=2013K4<br>Ledige stillingar (prosent)=%{x}<br>Sysselsatte=%{y}<br>Ledige stillingar=%{marker.size}<extra></extra>",
           "hovertext": [
            "Undervisning"
           ],
           "ids": [
            "Undervisning"
           ],
           "legendgroup": "Undervisning",
           "marker": {
            "color": "#FF97FF",
            "size": [
             2500
            ],
            "sizemode": "area",
            "sizeref": 4.32,
            "symbol": "circle"
           },
           "mode": "markers",
           "name": "Undervisning",
           "orientation": "v",
           "showlegend": true,
           "type": "scatter",
           "x": [
            1.2
           ],
           "xaxis": "x",
           "y": [
            226
           ],
           "yaxis": "y"
          },
          {
           "hovertemplate": "<b>%{hovertext}</b><br><br>næring (SN2007)=Kulturell verksemd, underhaldning og fritidsaktivitetar<br>kvartal=2013K4<br>Ledige stillingar (prosent)=%{x}<br>Sysselsatte=%{y}<br>Ledige stillingar=%{marker.size}<extra></extra>",
           "hovertext": [
            "Kulturell verksemd, underhaldning og fritidsaktivitetar"
           ],
           "ids": [
            "Kulturell verksemd, underhaldning og fritidsaktivitetar"
           ],
           "legendgroup": "Kulturell verksemd, underhaldning og fritidsaktivitetar",
           "marker": {
            "color": "#FECB52",
            "size": [
             1200
            ],
            "sizemode": "area",
            "sizeref": 4.32,
            "symbol": "circle"
           },
           "mode": "markers",
           "name": "Kulturell verksemd, underhaldning og fritidsaktivitetar",
           "orientation": "v",
           "showlegend": true,
           "type": "scatter",
           "x": [
            3.3
           ],
           "xaxis": "x",
           "y": [
            51
           ],
           "yaxis": "y"
          }
         ],
         "name": "2013K4"
        },
        {
         "data": [
          {
           "hovertemplate": "<b>%{hovertext}</b><br><br>næring (SN2007)=Bergverksdrift og utvinning<br>kvartal=2014K1<br>Ledige stillingar (prosent)=%{x}<br>Sysselsatte=%{y}<br>Ledige stillingar=%{marker.size}<extra></extra>",
           "hovertext": [
            "Bergverksdrift og utvinning"
           ],
           "ids": [
            "Bergverksdrift og utvinning"
           ],
           "legendgroup": "Bergverksdrift og utvinning",
           "marker": {
            "color": "#636efa",
            "size": [
             1700
            ],
            "sizemode": "area",
            "sizeref": 4.32,
            "symbol": "circle"
           },
           "mode": "markers",
           "name": "Bergverksdrift og utvinning",
           "orientation": "v",
           "showlegend": true,
           "type": "scatter",
           "x": [
            2.5
           ],
           "xaxis": "x",
           "y": [
            74
           ],
           "yaxis": "y"
          },
          {
           "hovertemplate": "<b>%{hovertext}</b><br><br>næring (SN2007)=Byggje- og anleggsverksemd<br>kvartal=2014K1<br>Ledige stillingar (prosent)=%{x}<br>Sysselsatte=%{y}<br>Ledige stillingar=%{marker.size}<extra></extra>",
           "hovertext": [
            "Byggje- og anleggsverksemd"
           ],
           "ids": [
            "Byggje- og anleggsverksemd"
           ],
           "legendgroup": "Byggje- og anleggsverksemd",
           "marker": {
            "color": "#EF553B",
            "size": [
             4500
            ],
            "sizemode": "area",
            "sizeref": 4.32,
            "symbol": "circle"
           },
           "mode": "markers",
           "name": "Byggje- og anleggsverksemd",
           "orientation": "v",
           "showlegend": true,
           "type": "scatter",
           "x": [
            2.1
           ],
           "xaxis": "x",
           "y": [
            196
           ],
           "yaxis": "y"
          },
          {
           "hovertemplate": "<b>%{hovertext}</b><br><br>næring (SN2007)=Informasjon og kommunikasjon<br>kvartal=2014K1<br>Ledige stillingar (prosent)=%{x}<br>Sysselsatte=%{y}<br>Ledige stillingar=%{marker.size}<extra></extra>",
           "hovertext": [
            "Informasjon og kommunikasjon"
           ],
           "ids": [
            "Informasjon og kommunikasjon"
           ],
           "legendgroup": "Informasjon og kommunikasjon",
           "marker": {
            "color": "#00cc96",
            "size": [
             3000
            ],
            "sizemode": "area",
            "sizeref": 4.32,
            "symbol": "circle"
           },
           "mode": "markers",
           "name": "Informasjon og kommunikasjon",
           "orientation": "v",
           "showlegend": true,
           "type": "scatter",
           "x": [
            3.5
           ],
           "xaxis": "x",
           "y": [
            102
           ],
           "yaxis": "y"
          },
          {
           "hovertemplate": "<b>%{hovertext}</b><br><br>næring (SN2007)=Finansierings- og forsikringsverksemd<br>kvartal=2014K1<br>Ledige stillingar (prosent)=%{x}<br>Sysselsatte=%{y}<br>Ledige stillingar=%{marker.size}<extra></extra>",
           "hovertext": [
            "Finansierings- og forsikringsverksemd"
           ],
           "ids": [
            "Finansierings- og forsikringsverksemd"
           ],
           "legendgroup": "Finansierings- og forsikringsverksemd",
           "marker": {
            "color": "#ab63fa",
            "size": [
             700
            ],
            "sizemode": "area",
            "sizeref": 4.32,
            "symbol": "circle"
           },
           "mode": "markers",
           "name": "Finansierings- og forsikringsverksemd",
           "orientation": "v",
           "showlegend": true,
           "type": "scatter",
           "x": [
            1.5
           ],
           "xaxis": "x",
           "y": [
            54
           ],
           "yaxis": "y"
          },
          {
           "hovertemplate": "<b>%{hovertext}</b><br><br>næring (SN2007)=Omsetning og drift av fast eigedom<br>kvartal=2014K1<br>Ledige stillingar (prosent)=%{x}<br>Sysselsatte=%{y}<br>Ledige stillingar=%{marker.size}<extra></extra>",
           "hovertext": [
            "Omsetning og drift av fast eigedom"
           ],
           "ids": [
            "Omsetning og drift av fast eigedom"
           ],
           "legendgroup": "Omsetning og drift av fast eigedom",
           "marker": {
            "color": "#FFA15A",
            "size": [
             400
            ],
            "sizemode": "area",
            "sizeref": 4.32,
            "symbol": "circle"
           },
           "mode": "markers",
           "name": "Omsetning og drift av fast eigedom",
           "orientation": "v",
           "showlegend": true,
           "type": "scatter",
           "x": [
            1.5
           ],
           "xaxis": "x",
           "y": [
            23
           ],
           "yaxis": "y"
          },
          {
           "hovertemplate": "<b>%{hovertext}</b><br><br>næring (SN2007)=Fagleg, vitskapleg og teknisk tenesteyting<br>kvartal=2014K1<br>Ledige stillingar (prosent)=%{x}<br>Sysselsatte=%{y}<br>Ledige stillingar=%{marker.size}<extra></extra>",
           "hovertext": [
            "Fagleg, vitskapleg og teknisk tenesteyting"
           ],
           "ids": [
            "Fagleg, vitskapleg og teknisk tenesteyting"
           ],
           "legendgroup": "Fagleg, vitskapleg og teknisk tenesteyting",
           "marker": {
            "color": "#19d3f3",
            "size": [
             3100
            ],
            "sizemode": "area",
            "sizeref": 4.32,
            "symbol": "circle"
           },
           "mode": "markers",
           "name": "Fagleg, vitskapleg og teknisk tenesteyting",
           "orientation": "v",
           "showlegend": true,
           "type": "scatter",
           "x": [
            2.4
           ],
           "xaxis": "x",
           "y": [
            150
           ],
           "yaxis": "y"
          },
          {
           "hovertemplate": "<b>%{hovertext}</b><br><br>næring (SN2007)=Forretningsmessig tenesteyting<br>kvartal=2014K1<br>Ledige stillingar (prosent)=%{x}<br>Sysselsatte=%{y}<br>Ledige stillingar=%{marker.size}<extra></extra>",
           "hovertext": [
            "Forretningsmessig tenesteyting"
           ],
           "ids": [
            "Forretningsmessig tenesteyting"
           ],
           "legendgroup": "Forretningsmessig tenesteyting",
           "marker": {
            "color": "#FF6692",
            "size": [
             8900
            ],
            "sizemode": "area",
            "sizeref": 4.32,
            "symbol": "circle"
           },
           "mode": "markers",
           "name": "Forretningsmessig tenesteyting",
           "orientation": "v",
           "showlegend": true,
           "type": "scatter",
           "x": [
            5.7
           ],
           "xaxis": "x",
           "y": [
            110
           ],
           "yaxis": "y"
          },
          {
           "hovertemplate": "<b>%{hovertext}</b><br><br>næring (SN2007)=Offentleg administrasjon og forsvar, og trygdeordningar underordna offentleg forvalting<br>kvartal=2014K1<br>Ledige stillingar (prosent)=%{x}<br>Sysselsatte=%{y}<br>Ledige stillingar=%{marker.size}<extra></extra>",
           "hovertext": [
            "Offentleg administrasjon og forsvar, og trygdeordningar underordna offentleg forvalting"
           ],
           "ids": [
            "Offentleg administrasjon og forsvar, og trygdeordningar underordna offentleg forvalting"
           ],
           "legendgroup": "Offentleg administrasjon og forsvar, og trygdeordningar underordna offentleg forvalting",
           "marker": {
            "color": "#B6E880",
            "size": [
             4200
            ],
            "sizemode": "area",
            "sizeref": 4.32,
            "symbol": "circle"
           },
           "mode": "markers",
           "name": "Offentleg administrasjon og forsvar, og trygdeordningar underordna offentleg forvalting",
           "orientation": "v",
           "showlegend": true,
           "type": "scatter",
           "x": [
            2.7
           ],
           "xaxis": "x",
           "y": [
            164
           ],
           "yaxis": "y"
          },
          {
           "hovertemplate": "<b>%{hovertext}</b><br><br>næring (SN2007)=Undervisning<br>kvartal=2014K1<br>Ledige stillingar (prosent)=%{x}<br>Sysselsatte=%{y}<br>Ledige stillingar=%{marker.size}<extra></extra>",
           "hovertext": [
            "Undervisning"
           ],
           "ids": [
            "Undervisning"
           ],
           "legendgroup": "Undervisning",
           "marker": {
            "color": "#FF97FF",
            "size": [
             2900
            ],
            "sizemode": "area",
            "sizeref": 4.32,
            "symbol": "circle"
           },
           "mode": "markers",
           "name": "Undervisning",
           "orientation": "v",
           "showlegend": true,
           "type": "scatter",
           "x": [
            1.4
           ],
           "xaxis": "x",
           "y": [
            226
           ],
           "yaxis": "y"
          },
          {
           "hovertemplate": "<b>%{hovertext}</b><br><br>næring (SN2007)=Kulturell verksemd, underhaldning og fritidsaktivitetar<br>kvartal=2014K1<br>Ledige stillingar (prosent)=%{x}<br>Sysselsatte=%{y}<br>Ledige stillingar=%{marker.size}<extra></extra>",
           "hovertext": [
            "Kulturell verksemd, underhaldning og fritidsaktivitetar"
           ],
           "ids": [
            "Kulturell verksemd, underhaldning og fritidsaktivitetar"
           ],
           "legendgroup": "Kulturell verksemd, underhaldning og fritidsaktivitetar",
           "marker": {
            "color": "#FECB52",
            "size": [
             600
            ],
            "sizemode": "area",
            "sizeref": 4.32,
            "symbol": "circle"
           },
           "mode": "markers",
           "name": "Kulturell verksemd, underhaldning og fritidsaktivitetar",
           "orientation": "v",
           "showlegend": true,
           "type": "scatter",
           "x": [
            1.6
           ],
           "xaxis": "x",
           "y": [
            53
           ],
           "yaxis": "y"
          }
         ],
         "name": "2014K1"
        },
        {
         "data": [
          {
           "hovertemplate": "<b>%{hovertext}</b><br><br>næring (SN2007)=Bergverksdrift og utvinning<br>kvartal=2014K2<br>Ledige stillingar (prosent)=%{x}<br>Sysselsatte=%{y}<br>Ledige stillingar=%{marker.size}<extra></extra>",
           "hovertext": [
            "Bergverksdrift og utvinning"
           ],
           "ids": [
            "Bergverksdrift og utvinning"
           ],
           "legendgroup": "Bergverksdrift og utvinning",
           "marker": {
            "color": "#636efa",
            "size": [
             1700
            ],
            "sizemode": "area",
            "sizeref": 4.32,
            "symbol": "circle"
           },
           "mode": "markers",
           "name": "Bergverksdrift og utvinning",
           "orientation": "v",
           "showlegend": true,
           "type": "scatter",
           "x": [
            2.5
           ],
           "xaxis": "x",
           "y": [
            76
           ],
           "yaxis": "y"
          },
          {
           "hovertemplate": "<b>%{hovertext}</b><br><br>næring (SN2007)=Byggje- og anleggsverksemd<br>kvartal=2014K2<br>Ledige stillingar (prosent)=%{x}<br>Sysselsatte=%{y}<br>Ledige stillingar=%{marker.size}<extra></extra>",
           "hovertext": [
            "Byggje- og anleggsverksemd"
           ],
           "ids": [
            "Byggje- og anleggsverksemd"
           ],
           "legendgroup": "Byggje- og anleggsverksemd",
           "marker": {
            "color": "#EF553B",
            "size": [
             4400
            ],
            "sizemode": "area",
            "sizeref": 4.32,
            "symbol": "circle"
           },
           "mode": "markers",
           "name": "Byggje- og anleggsverksemd",
           "orientation": "v",
           "showlegend": true,
           "type": "scatter",
           "x": [
            2.1
           ],
           "xaxis": "x",
           "y": [
            211
           ],
           "yaxis": "y"
          },
          {
           "hovertemplate": "<b>%{hovertext}</b><br><br>næring (SN2007)=Informasjon og kommunikasjon<br>kvartal=2014K2<br>Ledige stillingar (prosent)=%{x}<br>Sysselsatte=%{y}<br>Ledige stillingar=%{marker.size}<extra></extra>",
           "hovertext": [
            "Informasjon og kommunikasjon"
           ],
           "ids": [
            "Informasjon og kommunikasjon"
           ],
           "legendgroup": "Informasjon og kommunikasjon",
           "marker": {
            "color": "#00cc96",
            "size": [
             3000
            ],
            "sizemode": "area",
            "sizeref": 4.32,
            "symbol": "circle"
           },
           "mode": "markers",
           "name": "Informasjon og kommunikasjon",
           "orientation": "v",
           "showlegend": true,
           "type": "scatter",
           "x": [
            3.4
           ],
           "xaxis": "x",
           "y": [
            100
           ],
           "yaxis": "y"
          },
          {
           "hovertemplate": "<b>%{hovertext}</b><br><br>næring (SN2007)=Finansierings- og forsikringsverksemd<br>kvartal=2014K2<br>Ledige stillingar (prosent)=%{x}<br>Sysselsatte=%{y}<br>Ledige stillingar=%{marker.size}<extra></extra>",
           "hovertext": [
            "Finansierings- og forsikringsverksemd"
           ],
           "ids": [
            "Finansierings- og forsikringsverksemd"
           ],
           "legendgroup": "Finansierings- og forsikringsverksemd",
           "marker": {
            "color": "#ab63fa",
            "size": [
             700
            ],
            "sizemode": "area",
            "sizeref": 4.32,
            "symbol": "circle"
           },
           "mode": "markers",
           "name": "Finansierings- og forsikringsverksemd",
           "orientation": "v",
           "showlegend": true,
           "type": "scatter",
           "x": [
            1.5
           ],
           "xaxis": "x",
           "y": [
            56
           ],
           "yaxis": "y"
          },
          {
           "hovertemplate": "<b>%{hovertext}</b><br><br>næring (SN2007)=Omsetning og drift av fast eigedom<br>kvartal=2014K2<br>Ledige stillingar (prosent)=%{x}<br>Sysselsatte=%{y}<br>Ledige stillingar=%{marker.size}<extra></extra>",
           "hovertext": [
            "Omsetning og drift av fast eigedom"
           ],
           "ids": [
            "Omsetning og drift av fast eigedom"
           ],
           "legendgroup": "Omsetning og drift av fast eigedom",
           "marker": {
            "color": "#FFA15A",
            "size": [
             300
            ],
            "sizemode": "area",
            "sizeref": 4.32,
            "symbol": "circle"
           },
           "mode": "markers",
           "name": "Omsetning og drift av fast eigedom",
           "orientation": "v",
           "showlegend": true,
           "type": "scatter",
           "x": [
            1.2
           ],
           "xaxis": "x",
           "y": [
            26
           ],
           "yaxis": "y"
          },
          {
           "hovertemplate": "<b>%{hovertext}</b><br><br>næring (SN2007)=Fagleg, vitskapleg og teknisk tenesteyting<br>kvartal=2014K2<br>Ledige stillingar (prosent)=%{x}<br>Sysselsatte=%{y}<br>Ledige stillingar=%{marker.size}<extra></extra>",
           "hovertext": [
            "Fagleg, vitskapleg og teknisk tenesteyting"
           ],
           "ids": [
            "Fagleg, vitskapleg og teknisk tenesteyting"
           ],
           "legendgroup": "Fagleg, vitskapleg og teknisk tenesteyting",
           "marker": {
            "color": "#19d3f3",
            "size": [
             3500
            ],
            "sizemode": "area",
            "sizeref": 4.32,
            "symbol": "circle"
           },
           "mode": "markers",
           "name": "Fagleg, vitskapleg og teknisk tenesteyting",
           "orientation": "v",
           "showlegend": true,
           "type": "scatter",
           "x": [
            2.6
           ],
           "xaxis": "x",
           "y": [
            157
           ],
           "yaxis": "y"
          },
          {
           "hovertemplate": "<b>%{hovertext}</b><br><br>næring (SN2007)=Forretningsmessig tenesteyting<br>kvartal=2014K2<br>Ledige stillingar (prosent)=%{x}<br>Sysselsatte=%{y}<br>Ledige stillingar=%{marker.size}<extra></extra>",
           "hovertext": [
            "Forretningsmessig tenesteyting"
           ],
           "ids": [
            "Forretningsmessig tenesteyting"
           ],
           "legendgroup": "Forretningsmessig tenesteyting",
           "marker": {
            "color": "#FF6692",
            "size": [
             9500
            ],
            "sizemode": "area",
            "sizeref": 4.32,
            "symbol": "circle"
           },
           "mode": "markers",
           "name": "Forretningsmessig tenesteyting",
           "orientation": "v",
           "showlegend": true,
           "type": "scatter",
           "x": [
            6.1
           ],
           "xaxis": "x",
           "y": [
            110
           ],
           "yaxis": "y"
          },
          {
           "hovertemplate": "<b>%{hovertext}</b><br><br>næring (SN2007)=Offentleg administrasjon og forsvar, og trygdeordningar underordna offentleg forvalting<br>kvartal=2014K2<br>Ledige stillingar (prosent)=%{x}<br>Sysselsatte=%{y}<br>Ledige stillingar=%{marker.size}<extra></extra>",
           "hovertext": [
            "Offentleg administrasjon og forsvar, og trygdeordningar underordna offentleg forvalting"
           ],
           "ids": [
            "Offentleg administrasjon og forsvar, og trygdeordningar underordna offentleg forvalting"
           ],
           "legendgroup": "Offentleg administrasjon og forsvar, og trygdeordningar underordna offentleg forvalting",
           "marker": {
            "color": "#B6E880",
            "size": [
             3600
            ],
            "sizemode": "area",
            "sizeref": 4.32,
            "symbol": "circle"
           },
           "mode": "markers",
           "name": "Offentleg administrasjon og forsvar, og trygdeordningar underordna offentleg forvalting",
           "orientation": "v",
           "showlegend": true,
           "type": "scatter",
           "x": [
            2.4
           ],
           "xaxis": "x",
           "y": [
            168
           ],
           "yaxis": "y"
          },
          {
           "hovertemplate": "<b>%{hovertext}</b><br><br>næring (SN2007)=Undervisning<br>kvartal=2014K2<br>Ledige stillingar (prosent)=%{x}<br>Sysselsatte=%{y}<br>Ledige stillingar=%{marker.size}<extra></extra>",
           "hovertext": [
            "Undervisning"
           ],
           "ids": [
            "Undervisning"
           ],
           "legendgroup": "Undervisning",
           "marker": {
            "color": "#FF97FF",
            "size": [
             5800
            ],
            "sizemode": "area",
            "sizeref": 4.32,
            "symbol": "circle"
           },
           "mode": "markers",
           "name": "Undervisning",
           "orientation": "v",
           "showlegend": true,
           "type": "scatter",
           "x": [
            2.7
           ],
           "xaxis": "x",
           "y": [
            225
           ],
           "yaxis": "y"
          },
          {
           "hovertemplate": "<b>%{hovertext}</b><br><br>næring (SN2007)=Kulturell verksemd, underhaldning og fritidsaktivitetar<br>kvartal=2014K2<br>Ledige stillingar (prosent)=%{x}<br>Sysselsatte=%{y}<br>Ledige stillingar=%{marker.size}<extra></extra>",
           "hovertext": [
            "Kulturell verksemd, underhaldning og fritidsaktivitetar"
           ],
           "ids": [
            "Kulturell verksemd, underhaldning og fritidsaktivitetar"
           ],
           "legendgroup": "Kulturell verksemd, underhaldning og fritidsaktivitetar",
           "marker": {
            "color": "#FECB52",
            "size": [
             700
            ],
            "sizemode": "area",
            "sizeref": 4.32,
            "symbol": "circle"
           },
           "mode": "markers",
           "name": "Kulturell verksemd, underhaldning og fritidsaktivitetar",
           "orientation": "v",
           "showlegend": true,
           "type": "scatter",
           "x": [
            1.8
           ],
           "xaxis": "x",
           "y": [
            55
           ],
           "yaxis": "y"
          }
         ],
         "name": "2014K2"
        },
        {
         "data": [
          {
           "hovertemplate": "<b>%{hovertext}</b><br><br>næring (SN2007)=Bergverksdrift og utvinning<br>kvartal=2014K3<br>Ledige stillingar (prosent)=%{x}<br>Sysselsatte=%{y}<br>Ledige stillingar=%{marker.size}<extra></extra>",
           "hovertext": [
            "Bergverksdrift og utvinning"
           ],
           "ids": [
            "Bergverksdrift og utvinning"
           ],
           "legendgroup": "Bergverksdrift og utvinning",
           "marker": {
            "color": "#636efa",
            "size": [
             1200
            ],
            "sizemode": "area",
            "sizeref": 4.32,
            "symbol": "circle"
           },
           "mode": "markers",
           "name": "Bergverksdrift og utvinning",
           "orientation": "v",
           "showlegend": true,
           "type": "scatter",
           "x": [
            1.7
           ],
           "xaxis": "x",
           "y": [
            76
           ],
           "yaxis": "y"
          },
          {
           "hovertemplate": "<b>%{hovertext}</b><br><br>næring (SN2007)=Byggje- og anleggsverksemd<br>kvartal=2014K3<br>Ledige stillingar (prosent)=%{x}<br>Sysselsatte=%{y}<br>Ledige stillingar=%{marker.size}<extra></extra>",
           "hovertext": [
            "Byggje- og anleggsverksemd"
           ],
           "ids": [
            "Byggje- og anleggsverksemd"
           ],
           "legendgroup": "Byggje- og anleggsverksemd",
           "marker": {
            "color": "#EF553B",
            "size": [
             4000
            ],
            "sizemode": "area",
            "sizeref": 4.32,
            "symbol": "circle"
           },
           "mode": "markers",
           "name": "Byggje- og anleggsverksemd",
           "orientation": "v",
           "showlegend": true,
           "type": "scatter",
           "x": [
            1.8
           ],
           "xaxis": "x",
           "y": [
            208
           ],
           "yaxis": "y"
          },
          {
           "hovertemplate": "<b>%{hovertext}</b><br><br>næring (SN2007)=Informasjon og kommunikasjon<br>kvartal=2014K3<br>Ledige stillingar (prosent)=%{x}<br>Sysselsatte=%{y}<br>Ledige stillingar=%{marker.size}<extra></extra>",
           "hovertext": [
            "Informasjon og kommunikasjon"
           ],
           "ids": [
            "Informasjon og kommunikasjon"
           ],
           "legendgroup": "Informasjon og kommunikasjon",
           "marker": {
            "color": "#00cc96",
            "size": [
             2300
            ],
            "sizemode": "area",
            "sizeref": 4.32,
            "symbol": "circle"
           },
           "mode": "markers",
           "name": "Informasjon og kommunikasjon",
           "orientation": "v",
           "showlegend": true,
           "type": "scatter",
           "x": [
            2.6
           ],
           "xaxis": "x",
           "y": [
            100
           ],
           "yaxis": "y"
          },
          {
           "hovertemplate": "<b>%{hovertext}</b><br><br>næring (SN2007)=Finansierings- og forsikringsverksemd<br>kvartal=2014K3<br>Ledige stillingar (prosent)=%{x}<br>Sysselsatte=%{y}<br>Ledige stillingar=%{marker.size}<extra></extra>",
           "hovertext": [
            "Finansierings- og forsikringsverksemd"
           ],
           "ids": [
            "Finansierings- og forsikringsverksemd"
           ],
           "legendgroup": "Finansierings- og forsikringsverksemd",
           "marker": {
            "color": "#ab63fa",
            "size": [
             500
            ],
            "sizemode": "area",
            "sizeref": 4.32,
            "symbol": "circle"
           },
           "mode": "markers",
           "name": "Finansierings- og forsikringsverksemd",
           "orientation": "v",
           "showlegend": true,
           "type": "scatter",
           "x": [
            1.1
           ],
           "xaxis": "x",
           "y": [
            56
           ],
           "yaxis": "y"
          },
          {
           "hovertemplate": "<b>%{hovertext}</b><br><br>næring (SN2007)=Omsetning og drift av fast eigedom<br>kvartal=2014K3<br>Ledige stillingar (prosent)=%{x}<br>Sysselsatte=%{y}<br>Ledige stillingar=%{marker.size}<extra></extra>",
           "hovertext": [
            "Omsetning og drift av fast eigedom"
           ],
           "ids": [
            "Omsetning og drift av fast eigedom"
           ],
           "legendgroup": "Omsetning og drift av fast eigedom",
           "marker": {
            "color": "#FFA15A",
            "size": [
             200
            ],
            "sizemode": "area",
            "sizeref": 4.32,
            "symbol": "circle"
           },
           "mode": "markers",
           "name": "Omsetning og drift av fast eigedom",
           "orientation": "v",
           "showlegend": true,
           "type": "scatter",
           "x": [
            0.9
           ],
           "xaxis": "x",
           "y": [
            25
           ],
           "yaxis": "y"
          },
          {
           "hovertemplate": "<b>%{hovertext}</b><br><br>næring (SN2007)=Fagleg, vitskapleg og teknisk tenesteyting<br>kvartal=2014K3<br>Ledige stillingar (prosent)=%{x}<br>Sysselsatte=%{y}<br>Ledige stillingar=%{marker.size}<extra></extra>",
           "hovertext": [
            "Fagleg, vitskapleg og teknisk tenesteyting"
           ],
           "ids": [
            "Fagleg, vitskapleg og teknisk tenesteyting"
           ],
           "legendgroup": "Fagleg, vitskapleg og teknisk tenesteyting",
           "marker": {
            "color": "#19d3f3",
            "size": [
             2800
            ],
            "sizemode": "area",
            "sizeref": 4.32,
            "symbol": "circle"
           },
           "mode": "markers",
           "name": "Fagleg, vitskapleg og teknisk tenesteyting",
           "orientation": "v",
           "showlegend": true,
           "type": "scatter",
           "x": [
            2.1
           ],
           "xaxis": "x",
           "y": [
            151
           ],
           "yaxis": "y"
          },
          {
           "hovertemplate": "<b>%{hovertext}</b><br><br>næring (SN2007)=Forretningsmessig tenesteyting<br>kvartal=2014K3<br>Ledige stillingar (prosent)=%{x}<br>Sysselsatte=%{y}<br>Ledige stillingar=%{marker.size}<extra></extra>",
           "hovertext": [
            "Forretningsmessig tenesteyting"
           ],
           "ids": [
            "Forretningsmessig tenesteyting"
           ],
           "legendgroup": "Forretningsmessig tenesteyting",
           "marker": {
            "color": "#FF6692",
            "size": [
             7800
            ],
            "sizemode": "area",
            "sizeref": 4.32,
            "symbol": "circle"
           },
           "mode": "markers",
           "name": "Forretningsmessig tenesteyting",
           "orientation": "v",
           "showlegend": true,
           "type": "scatter",
           "x": [
            4.8
           ],
           "xaxis": "x",
           "y": [
            113
           ],
           "yaxis": "y"
          },
          {
           "hovertemplate": "<b>%{hovertext}</b><br><br>næring (SN2007)=Offentleg administrasjon og forsvar, og trygdeordningar underordna offentleg forvalting<br>kvartal=2014K3<br>Ledige stillingar (prosent)=%{x}<br>Sysselsatte=%{y}<br>Ledige stillingar=%{marker.size}<extra></extra>",
           "hovertext": [
            "Offentleg administrasjon og forsvar, og trygdeordningar underordna offentleg forvalting"
           ],
           "ids": [
            "Offentleg administrasjon og forsvar, og trygdeordningar underordna offentleg forvalting"
           ],
           "legendgroup": "Offentleg administrasjon og forsvar, og trygdeordningar underordna offentleg forvalting",
           "marker": {
            "color": "#B6E880",
            "size": [
             2600
            ],
            "sizemode": "area",
            "sizeref": 4.32,
            "symbol": "circle"
           },
           "mode": "markers",
           "name": "Offentleg administrasjon og forsvar, og trygdeordningar underordna offentleg forvalting",
           "orientation": "v",
           "showlegend": true,
           "type": "scatter",
           "x": [
            1.7
           ],
           "xaxis": "x",
           "y": [
            169
           ],
           "yaxis": "y"
          },
          {
           "hovertemplate": "<b>%{hovertext}</b><br><br>næring (SN2007)=Undervisning<br>kvartal=2014K3<br>Ledige stillingar (prosent)=%{x}<br>Sysselsatte=%{y}<br>Ledige stillingar=%{marker.size}<extra></extra>",
           "hovertext": [
            "Undervisning"
           ],
           "ids": [
            "Undervisning"
           ],
           "legendgroup": "Undervisning",
           "marker": {
            "color": "#FF97FF",
            "size": [
             2800
            ],
            "sizemode": "area",
            "sizeref": 4.32,
            "symbol": "circle"
           },
           "mode": "markers",
           "name": "Undervisning",
           "orientation": "v",
           "showlegend": true,
           "type": "scatter",
           "x": [
            1.4
           ],
           "xaxis": "x",
           "y": [
            220
           ],
           "yaxis": "y"
          },
          {
           "hovertemplate": "<b>%{hovertext}</b><br><br>næring (SN2007)=Kulturell verksemd, underhaldning og fritidsaktivitetar<br>kvartal=2014K3<br>Ledige stillingar (prosent)=%{x}<br>Sysselsatte=%{y}<br>Ledige stillingar=%{marker.size}<extra></extra>",
           "hovertext": [
            "Kulturell verksemd, underhaldning og fritidsaktivitetar"
           ],
           "ids": [
            "Kulturell verksemd, underhaldning og fritidsaktivitetar"
           ],
           "legendgroup": "Kulturell verksemd, underhaldning og fritidsaktivitetar",
           "marker": {
            "color": "#FECB52",
            "size": [
             900
            ],
            "sizemode": "area",
            "sizeref": 4.32,
            "symbol": "circle"
           },
           "mode": "markers",
           "name": "Kulturell verksemd, underhaldning og fritidsaktivitetar",
           "orientation": "v",
           "showlegend": true,
           "type": "scatter",
           "x": [
            2.3
           ],
           "xaxis": "x",
           "y": [
            57
           ],
           "yaxis": "y"
          }
         ],
         "name": "2014K3"
        },
        {
         "data": [
          {
           "hovertemplate": "<b>%{hovertext}</b><br><br>næring (SN2007)=Bergverksdrift og utvinning<br>kvartal=2014K4<br>Ledige stillingar (prosent)=%{x}<br>Sysselsatte=%{y}<br>Ledige stillingar=%{marker.size}<extra></extra>",
           "hovertext": [
            "Bergverksdrift og utvinning"
           ],
           "ids": [
            "Bergverksdrift og utvinning"
           ],
           "legendgroup": "Bergverksdrift og utvinning",
           "marker": {
            "color": "#636efa",
            "size": [
             1000
            ],
            "sizemode": "area",
            "sizeref": 4.32,
            "symbol": "circle"
           },
           "mode": "markers",
           "name": "Bergverksdrift og utvinning",
           "orientation": "v",
           "showlegend": true,
           "type": "scatter",
           "x": [
            1.4
           ],
           "xaxis": "x",
           "y": [
            73
           ],
           "yaxis": "y"
          },
          {
           "hovertemplate": "<b>%{hovertext}</b><br><br>næring (SN2007)=Byggje- og anleggsverksemd<br>kvartal=2014K4<br>Ledige stillingar (prosent)=%{x}<br>Sysselsatte=%{y}<br>Ledige stillingar=%{marker.size}<extra></extra>",
           "hovertext": [
            "Byggje- og anleggsverksemd"
           ],
           "ids": [
            "Byggje- og anleggsverksemd"
           ],
           "legendgroup": "Byggje- og anleggsverksemd",
           "marker": {
            "color": "#EF553B",
            "size": [
             3200
            ],
            "sizemode": "area",
            "sizeref": 4.32,
            "symbol": "circle"
           },
           "mode": "markers",
           "name": "Byggje- og anleggsverksemd",
           "orientation": "v",
           "showlegend": true,
           "type": "scatter",
           "x": [
            1.4
           ],
           "xaxis": "x",
           "y": [
            210
           ],
           "yaxis": "y"
          },
          {
           "hovertemplate": "<b>%{hovertext}</b><br><br>næring (SN2007)=Informasjon og kommunikasjon<br>kvartal=2014K4<br>Ledige stillingar (prosent)=%{x}<br>Sysselsatte=%{y}<br>Ledige stillingar=%{marker.size}<extra></extra>",
           "hovertext": [
            "Informasjon og kommunikasjon"
           ],
           "ids": [
            "Informasjon og kommunikasjon"
           ],
           "legendgroup": "Informasjon og kommunikasjon",
           "marker": {
            "color": "#00cc96",
            "size": [
             2800
            ],
            "sizemode": "area",
            "sizeref": 4.32,
            "symbol": "circle"
           },
           "mode": "markers",
           "name": "Informasjon og kommunikasjon",
           "orientation": "v",
           "showlegend": true,
           "type": "scatter",
           "x": [
            3.2
           ],
           "xaxis": "x",
           "y": [
            96
           ],
           "yaxis": "y"
          },
          {
           "hovertemplate": "<b>%{hovertext}</b><br><br>næring (SN2007)=Finansierings- og forsikringsverksemd<br>kvartal=2014K4<br>Ledige stillingar (prosent)=%{x}<br>Sysselsatte=%{y}<br>Ledige stillingar=%{marker.size}<extra></extra>",
           "hovertext": [
            "Finansierings- og forsikringsverksemd"
           ],
           "ids": [
            "Finansierings- og forsikringsverksemd"
           ],
           "legendgroup": "Finansierings- og forsikringsverksemd",
           "marker": {
            "color": "#ab63fa",
            "size": [
             600
            ],
            "sizemode": "area",
            "sizeref": 4.32,
            "symbol": "circle"
           },
           "mode": "markers",
           "name": "Finansierings- og forsikringsverksemd",
           "orientation": "v",
           "showlegend": true,
           "type": "scatter",
           "x": [
            1.2
           ],
           "xaxis": "x",
           "y": [
            54
           ],
           "yaxis": "y"
          },
          {
           "hovertemplate": "<b>%{hovertext}</b><br><br>næring (SN2007)=Omsetning og drift av fast eigedom<br>kvartal=2014K4<br>Ledige stillingar (prosent)=%{x}<br>Sysselsatte=%{y}<br>Ledige stillingar=%{marker.size}<extra></extra>",
           "hovertext": [
            "Omsetning og drift av fast eigedom"
           ],
           "ids": [
            "Omsetning og drift av fast eigedom"
           ],
           "legendgroup": "Omsetning og drift av fast eigedom",
           "marker": {
            "color": "#FFA15A",
            "size": [
             300
            ],
            "sizemode": "area",
            "sizeref": 4.32,
            "symbol": "circle"
           },
           "mode": "markers",
           "name": "Omsetning og drift av fast eigedom",
           "orientation": "v",
           "showlegend": true,
           "type": "scatter",
           "x": [
            1.2
           ],
           "xaxis": "x",
           "y": [
            26
           ],
           "yaxis": "y"
          },
          {
           "hovertemplate": "<b>%{hovertext}</b><br><br>næring (SN2007)=Fagleg, vitskapleg og teknisk tenesteyting<br>kvartal=2014K4<br>Ledige stillingar (prosent)=%{x}<br>Sysselsatte=%{y}<br>Ledige stillingar=%{marker.size}<extra></extra>",
           "hovertext": [
            "Fagleg, vitskapleg og teknisk tenesteyting"
           ],
           "ids": [
            "Fagleg, vitskapleg og teknisk tenesteyting"
           ],
           "legendgroup": "Fagleg, vitskapleg og teknisk tenesteyting",
           "marker": {
            "color": "#19d3f3",
            "size": [
             2900
            ],
            "sizemode": "area",
            "sizeref": 4.32,
            "symbol": "circle"
           },
           "mode": "markers",
           "name": "Fagleg, vitskapleg og teknisk tenesteyting",
           "orientation": "v",
           "showlegend": true,
           "type": "scatter",
           "x": [
            2.2
           ],
           "xaxis": "x",
           "y": [
            149
           ],
           "yaxis": "y"
          },
          {
           "hovertemplate": "<b>%{hovertext}</b><br><br>næring (SN2007)=Forretningsmessig tenesteyting<br>kvartal=2014K4<br>Ledige stillingar (prosent)=%{x}<br>Sysselsatte=%{y}<br>Ledige stillingar=%{marker.size}<extra></extra>",
           "hovertext": [
            "Forretningsmessig tenesteyting"
           ],
           "ids": [
            "Forretningsmessig tenesteyting"
           ],
           "legendgroup": "Forretningsmessig tenesteyting",
           "marker": {
            "color": "#FF6692",
            "size": [
             8800
            ],
            "sizemode": "area",
            "sizeref": 4.32,
            "symbol": "circle"
           },
           "mode": "markers",
           "name": "Forretningsmessig tenesteyting",
           "orientation": "v",
           "showlegend": true,
           "type": "scatter",
           "x": [
            5.5
           ],
           "xaxis": "x",
           "y": [
            120
           ],
           "yaxis": "y"
          },
          {
           "hovertemplate": "<b>%{hovertext}</b><br><br>næring (SN2007)=Offentleg administrasjon og forsvar, og trygdeordningar underordna offentleg forvalting<br>kvartal=2014K4<br>Ledige stillingar (prosent)=%{x}<br>Sysselsatte=%{y}<br>Ledige stillingar=%{marker.size}<extra></extra>",
           "hovertext": [
            "Offentleg administrasjon og forsvar, og trygdeordningar underordna offentleg forvalting"
           ],
           "ids": [
            "Offentleg administrasjon og forsvar, og trygdeordningar underordna offentleg forvalting"
           ],
           "legendgroup": "Offentleg administrasjon og forsvar, og trygdeordningar underordna offentleg forvalting",
           "marker": {
            "color": "#B6E880",
            "size": [
             2700
            ],
            "sizemode": "area",
            "sizeref": 4.32,
            "symbol": "circle"
           },
           "mode": "markers",
           "name": "Offentleg administrasjon og forsvar, og trygdeordningar underordna offentleg forvalting",
           "orientation": "v",
           "showlegend": true,
           "type": "scatter",
           "x": [
            1.7
           ],
           "xaxis": "x",
           "y": [
            168
           ],
           "yaxis": "y"
          },
          {
           "hovertemplate": "<b>%{hovertext}</b><br><br>næring (SN2007)=Undervisning<br>kvartal=2014K4<br>Ledige stillingar (prosent)=%{x}<br>Sysselsatte=%{y}<br>Ledige stillingar=%{marker.size}<extra></extra>",
           "hovertext": [
            "Undervisning"
           ],
           "ids": [
            "Undervisning"
           ],
           "legendgroup": "Undervisning",
           "marker": {
            "color": "#FF97FF",
            "size": [
             2300
            ],
            "sizemode": "area",
            "sizeref": 4.32,
            "symbol": "circle"
           },
           "mode": "markers",
           "name": "Undervisning",
           "orientation": "v",
           "showlegend": true,
           "type": "scatter",
           "x": [
            1.1
           ],
           "xaxis": "x",
           "y": [
            222
           ],
           "yaxis": "y"
          },
          {
           "hovertemplate": "<b>%{hovertext}</b><br><br>næring (SN2007)=Kulturell verksemd, underhaldning og fritidsaktivitetar<br>kvartal=2014K4<br>Ledige stillingar (prosent)=%{x}<br>Sysselsatte=%{y}<br>Ledige stillingar=%{marker.size}<extra></extra>",
           "hovertext": [
            "Kulturell verksemd, underhaldning og fritidsaktivitetar"
           ],
           "ids": [
            "Kulturell verksemd, underhaldning og fritidsaktivitetar"
           ],
           "legendgroup": "Kulturell verksemd, underhaldning og fritidsaktivitetar",
           "marker": {
            "color": "#FECB52",
            "size": [
             700
            ],
            "sizemode": "area",
            "sizeref": 4.32,
            "symbol": "circle"
           },
           "mode": "markers",
           "name": "Kulturell verksemd, underhaldning og fritidsaktivitetar",
           "orientation": "v",
           "showlegend": true,
           "type": "scatter",
           "x": [
            1.9
           ],
           "xaxis": "x",
           "y": [
            57
           ],
           "yaxis": "y"
          }
         ],
         "name": "2014K4"
        },
        {
         "data": [
          {
           "hovertemplate": "<b>%{hovertext}</b><br><br>næring (SN2007)=Bergverksdrift og utvinning<br>kvartal=2015K1<br>Ledige stillingar (prosent)=%{x}<br>Sysselsatte=%{y}<br>Ledige stillingar=%{marker.size}<extra></extra>",
           "hovertext": [
            "Bergverksdrift og utvinning"
           ],
           "ids": [
            "Bergverksdrift og utvinning"
           ],
           "legendgroup": "Bergverksdrift og utvinning",
           "marker": {
            "color": "#636efa",
            "size": [
             600
            ],
            "sizemode": "area",
            "sizeref": 4.32,
            "symbol": "circle"
           },
           "mode": "markers",
           "name": "Bergverksdrift og utvinning",
           "orientation": "v",
           "showlegend": true,
           "type": "scatter",
           "x": [
            0.8
           ],
           "xaxis": "x",
           "y": [
            71
           ],
           "yaxis": "y"
          },
          {
           "hovertemplate": "<b>%{hovertext}</b><br><br>næring (SN2007)=Byggje- og anleggsverksemd<br>kvartal=2015K1<br>Ledige stillingar (prosent)=%{x}<br>Sysselsatte=%{y}<br>Ledige stillingar=%{marker.size}<extra></extra>",
           "hovertext": [
            "Byggje- og anleggsverksemd"
           ],
           "ids": [
            "Byggje- og anleggsverksemd"
           ],
           "legendgroup": "Byggje- og anleggsverksemd",
           "marker": {
            "color": "#EF553B",
            "size": [
             3500
            ],
            "sizemode": "area",
            "sizeref": 4.32,
            "symbol": "circle"
           },
           "mode": "markers",
           "name": "Byggje- og anleggsverksemd",
           "orientation": "v",
           "showlegend": true,
           "type": "scatter",
           "x": [
            1.8
           ],
           "xaxis": "x",
           "y": [
            214
           ],
           "yaxis": "y"
          },
          {
           "hovertemplate": "<b>%{hovertext}</b><br><br>næring (SN2007)=Informasjon og kommunikasjon<br>kvartal=2015K1<br>Ledige stillingar (prosent)=%{x}<br>Sysselsatte=%{y}<br>Ledige stillingar=%{marker.size}<extra></extra>",
           "hovertext": [
            "Informasjon og kommunikasjon"
           ],
           "ids": [
            "Informasjon og kommunikasjon"
           ],
           "legendgroup": "Informasjon og kommunikasjon",
           "marker": {
            "color": "#00cc96",
            "size": [
             2400
            ],
            "sizemode": "area",
            "sizeref": 4.32,
            "symbol": "circle"
           },
           "mode": "markers",
           "name": "Informasjon og kommunikasjon",
           "orientation": "v",
           "showlegend": true,
           "type": "scatter",
           "x": [
            2.7
           ],
           "xaxis": "x",
           "y": [
            90
           ],
           "yaxis": "y"
          },
          {
           "hovertemplate": "<b>%{hovertext}</b><br><br>næring (SN2007)=Finansierings- og forsikringsverksemd<br>kvartal=2015K1<br>Ledige stillingar (prosent)=%{x}<br>Sysselsatte=%{y}<br>Ledige stillingar=%{marker.size}<extra></extra>",
           "hovertext": [
            "Finansierings- og forsikringsverksemd"
           ],
           "ids": [
            "Finansierings- og forsikringsverksemd"
           ],
           "legendgroup": "Finansierings- og forsikringsverksemd",
           "marker": {
            "color": "#ab63fa",
            "size": [
             800
            ],
            "sizemode": "area",
            "sizeref": 4.32,
            "symbol": "circle"
           },
           "mode": "markers",
           "name": "Finansierings- og forsikringsverksemd",
           "orientation": "v",
           "showlegend": true,
           "type": "scatter",
           "x": [
            1.7
           ],
           "xaxis": "x",
           "y": [
            52
           ],
           "yaxis": "y"
          },
          {
           "hovertemplate": "<b>%{hovertext}</b><br><br>næring (SN2007)=Omsetning og drift av fast eigedom<br>kvartal=2015K1<br>Ledige stillingar (prosent)=%{x}<br>Sysselsatte=%{y}<br>Ledige stillingar=%{marker.size}<extra></extra>",
           "hovertext": [
            "Omsetning og drift av fast eigedom"
           ],
           "ids": [
            "Omsetning og drift av fast eigedom"
           ],
           "legendgroup": "Omsetning og drift av fast eigedom",
           "marker": {
            "color": "#FFA15A",
            "size": [
             600
            ],
            "sizemode": "area",
            "sizeref": 4.32,
            "symbol": "circle"
           },
           "mode": "markers",
           "name": "Omsetning og drift av fast eigedom",
           "orientation": "v",
           "showlegend": true,
           "type": "scatter",
           "x": [
            2.4
           ],
           "xaxis": "x",
           "y": [
            25
           ],
           "yaxis": "y"
          },
          {
           "hovertemplate": "<b>%{hovertext}</b><br><br>næring (SN2007)=Fagleg, vitskapleg og teknisk tenesteyting<br>kvartal=2015K1<br>Ledige stillingar (prosent)=%{x}<br>Sysselsatte=%{y}<br>Ledige stillingar=%{marker.size}<extra></extra>",
           "hovertext": [
            "Fagleg, vitskapleg og teknisk tenesteyting"
           ],
           "ids": [
            "Fagleg, vitskapleg og teknisk tenesteyting"
           ],
           "legendgroup": "Fagleg, vitskapleg og teknisk tenesteyting",
           "marker": {
            "color": "#19d3f3",
            "size": [
             3400
            ],
            "sizemode": "area",
            "sizeref": 4.32,
            "symbol": "circle"
           },
           "mode": "markers",
           "name": "Fagleg, vitskapleg og teknisk tenesteyting",
           "orientation": "v",
           "showlegend": true,
           "type": "scatter",
           "x": [
            2.6
           ],
           "xaxis": "x",
           "y": [
            149
           ],
           "yaxis": "y"
          },
          {
           "hovertemplate": "<b>%{hovertext}</b><br><br>næring (SN2007)=Forretningsmessig tenesteyting<br>kvartal=2015K1<br>Ledige stillingar (prosent)=%{x}<br>Sysselsatte=%{y}<br>Ledige stillingar=%{marker.size}<extra></extra>",
           "hovertext": [
            "Forretningsmessig tenesteyting"
           ],
           "ids": [
            "Forretningsmessig tenesteyting"
           ],
           "legendgroup": "Forretningsmessig tenesteyting",
           "marker": {
            "color": "#FF6692",
            "size": [
             7300
            ],
            "sizemode": "area",
            "sizeref": 4.32,
            "symbol": "circle"
           },
           "mode": "markers",
           "name": "Forretningsmessig tenesteyting",
           "orientation": "v",
           "showlegend": true,
           "type": "scatter",
           "x": [
            5.1
           ],
           "xaxis": "x",
           "y": [
            121
           ],
           "yaxis": "y"
          },
          {
           "hovertemplate": "<b>%{hovertext}</b><br><br>næring (SN2007)=Offentleg administrasjon og forsvar, og trygdeordningar underordna offentleg forvalting<br>kvartal=2015K1<br>Ledige stillingar (prosent)=%{x}<br>Sysselsatte=%{y}<br>Ledige stillingar=%{marker.size}<extra></extra>",
           "hovertext": [
            "Offentleg administrasjon og forsvar, og trygdeordningar underordna offentleg forvalting"
           ],
           "ids": [
            "Offentleg administrasjon og forsvar, og trygdeordningar underordna offentleg forvalting"
           ],
           "legendgroup": "Offentleg administrasjon og forsvar, og trygdeordningar underordna offentleg forvalting",
           "marker": {
            "color": "#B6E880",
            "size": [
             3300
            ],
            "sizemode": "area",
            "sizeref": 4.32,
            "symbol": "circle"
           },
           "mode": "markers",
           "name": "Offentleg administrasjon og forsvar, og trygdeordningar underordna offentleg forvalting",
           "orientation": "v",
           "showlegend": true,
           "type": "scatter",
           "x": [
            2
           ],
           "xaxis": "x",
           "y": [
            164
           ],
           "yaxis": "y"
          },
          {
           "hovertemplate": "<b>%{hovertext}</b><br><br>næring (SN2007)=Undervisning<br>kvartal=2015K1<br>Ledige stillingar (prosent)=%{x}<br>Sysselsatte=%{y}<br>Ledige stillingar=%{marker.size}<extra></extra>",
           "hovertext": [
            "Undervisning"
           ],
           "ids": [
            "Undervisning"
           ],
           "legendgroup": "Undervisning",
           "marker": {
            "color": "#FF97FF",
            "size": [
             3700
            ],
            "sizemode": "area",
            "sizeref": 4.32,
            "symbol": "circle"
           },
           "mode": "markers",
           "name": "Undervisning",
           "orientation": "v",
           "showlegend": true,
           "type": "scatter",
           "x": [
            1.6
           ],
           "xaxis": "x",
           "y": [
            224
           ],
           "yaxis": "y"
          },
          {
           "hovertemplate": "<b>%{hovertext}</b><br><br>næring (SN2007)=Kulturell verksemd, underhaldning og fritidsaktivitetar<br>kvartal=2015K1<br>Ledige stillingar (prosent)=%{x}<br>Sysselsatte=%{y}<br>Ledige stillingar=%{marker.size}<extra></extra>",
           "hovertext": [
            "Kulturell verksemd, underhaldning og fritidsaktivitetar"
           ],
           "ids": [
            "Kulturell verksemd, underhaldning og fritidsaktivitetar"
           ],
           "legendgroup": "Kulturell verksemd, underhaldning og fritidsaktivitetar",
           "marker": {
            "color": "#FECB52",
            "size": [
             600
            ],
            "sizemode": "area",
            "sizeref": 4.32,
            "symbol": "circle"
           },
           "mode": "markers",
           "name": "Kulturell verksemd, underhaldning og fritidsaktivitetar",
           "orientation": "v",
           "showlegend": true,
           "type": "scatter",
           "x": [
            1.3
           ],
           "xaxis": "x",
           "y": [
            55
           ],
           "yaxis": "y"
          }
         ],
         "name": "2015K1"
        },
        {
         "data": [
          {
           "hovertemplate": "<b>%{hovertext}</b><br><br>næring (SN2007)=Bergverksdrift og utvinning<br>kvartal=2015K2<br>Ledige stillingar (prosent)=%{x}<br>Sysselsatte=%{y}<br>Ledige stillingar=%{marker.size}<extra></extra>",
           "hovertext": [
            "Bergverksdrift og utvinning"
           ],
           "ids": [
            "Bergverksdrift og utvinning"
           ],
           "legendgroup": "Bergverksdrift og utvinning",
           "marker": {
            "color": "#636efa",
            "size": [
             600
            ],
            "sizemode": "area",
            "sizeref": 4.32,
            "symbol": "circle"
           },
           "mode": "markers",
           "name": "Bergverksdrift og utvinning",
           "orientation": "v",
           "showlegend": true,
           "type": "scatter",
           "x": [
            0.9
           ],
           "xaxis": "x",
           "y": [
            69
           ],
           "yaxis": "y"
          },
          {
           "hovertemplate": "<b>%{hovertext}</b><br><br>næring (SN2007)=Byggje- og anleggsverksemd<br>kvartal=2015K2<br>Ledige stillingar (prosent)=%{x}<br>Sysselsatte=%{y}<br>Ledige stillingar=%{marker.size}<extra></extra>",
           "hovertext": [
            "Byggje- og anleggsverksemd"
           ],
           "ids": [
            "Byggje- og anleggsverksemd"
           ],
           "legendgroup": "Byggje- og anleggsverksemd",
           "marker": {
            "color": "#EF553B",
            "size": [
             6800
            ],
            "sizemode": "area",
            "sizeref": 4.32,
            "symbol": "circle"
           },
           "mode": "markers",
           "name": "Byggje- og anleggsverksemd",
           "orientation": "v",
           "showlegend": true,
           "type": "scatter",
           "x": [
            3.3
           ],
           "xaxis": "x",
           "y": [
            206
           ],
           "yaxis": "y"
          },
          {
           "hovertemplate": "<b>%{hovertext}</b><br><br>næring (SN2007)=Informasjon og kommunikasjon<br>kvartal=2015K2<br>Ledige stillingar (prosent)=%{x}<br>Sysselsatte=%{y}<br>Ledige stillingar=%{marker.size}<extra></extra>",
           "hovertext": [
            "Informasjon og kommunikasjon"
           ],
           "ids": [
            "Informasjon og kommunikasjon"
           ],
           "legendgroup": "Informasjon og kommunikasjon",
           "marker": {
            "color": "#00cc96",
            "size": [
             2200
            ],
            "sizemode": "area",
            "sizeref": 4.32,
            "symbol": "circle"
           },
           "mode": "markers",
           "name": "Informasjon og kommunikasjon",
           "orientation": "v",
           "showlegend": true,
           "type": "scatter",
           "x": [
            2.5
           ],
           "xaxis": "x",
           "y": [
            94
           ],
           "yaxis": "y"
          },
          {
           "hovertemplate": "<b>%{hovertext}</b><br><br>næring (SN2007)=Finansierings- og forsikringsverksemd<br>kvartal=2015K2<br>Ledige stillingar (prosent)=%{x}<br>Sysselsatte=%{y}<br>Ledige stillingar=%{marker.size}<extra></extra>",
           "hovertext": [
            "Finansierings- og forsikringsverksemd"
           ],
           "ids": [
            "Finansierings- og forsikringsverksemd"
           ],
           "legendgroup": "Finansierings- og forsikringsverksemd",
           "marker": {
            "color": "#ab63fa",
            "size": [
             700
            ],
            "sizemode": "area",
            "sizeref": 4.32,
            "symbol": "circle"
           },
           "mode": "markers",
           "name": "Finansierings- og forsikringsverksemd",
           "orientation": "v",
           "showlegend": true,
           "type": "scatter",
           "x": [
            1.5
           ],
           "xaxis": "x",
           "y": [
            52
           ],
           "yaxis": "y"
          },
          {
           "hovertemplate": "<b>%{hovertext}</b><br><br>næring (SN2007)=Omsetning og drift av fast eigedom<br>kvartal=2015K2<br>Ledige stillingar (prosent)=%{x}<br>Sysselsatte=%{y}<br>Ledige stillingar=%{marker.size}<extra></extra>",
           "hovertext": [
            "Omsetning og drift av fast eigedom"
           ],
           "ids": [
            "Omsetning og drift av fast eigedom"
           ],
           "legendgroup": "Omsetning og drift av fast eigedom",
           "marker": {
            "color": "#FFA15A",
            "size": [
             600
            ],
            "sizemode": "area",
            "sizeref": 4.32,
            "symbol": "circle"
           },
           "mode": "markers",
           "name": "Omsetning og drift av fast eigedom",
           "orientation": "v",
           "showlegend": true,
           "type": "scatter",
           "x": [
            2.6
           ],
           "xaxis": "x",
           "y": [
            26
           ],
           "yaxis": "y"
          },
          {
           "hovertemplate": "<b>%{hovertext}</b><br><br>næring (SN2007)=Fagleg, vitskapleg og teknisk tenesteyting<br>kvartal=2015K2<br>Ledige stillingar (prosent)=%{x}<br>Sysselsatte=%{y}<br>Ledige stillingar=%{marker.size}<extra></extra>",
           "hovertext": [
            "Fagleg, vitskapleg og teknisk tenesteyting"
           ],
           "ids": [
            "Fagleg, vitskapleg og teknisk tenesteyting"
           ],
           "legendgroup": "Fagleg, vitskapleg og teknisk tenesteyting",
           "marker": {
            "color": "#19d3f3",
            "size": [
             2800
            ],
            "sizemode": "area",
            "sizeref": 4.32,
            "symbol": "circle"
           },
           "mode": "markers",
           "name": "Fagleg, vitskapleg og teknisk tenesteyting",
           "orientation": "v",
           "showlegend": true,
           "type": "scatter",
           "x": [
            2.1
           ],
           "xaxis": "x",
           "y": [
            153
           ],
           "yaxis": "y"
          },
          {
           "hovertemplate": "<b>%{hovertext}</b><br><br>næring (SN2007)=Forretningsmessig tenesteyting<br>kvartal=2015K2<br>Ledige stillingar (prosent)=%{x}<br>Sysselsatte=%{y}<br>Ledige stillingar=%{marker.size}<extra></extra>",
           "hovertext": [
            "Forretningsmessig tenesteyting"
           ],
           "ids": [
            "Forretningsmessig tenesteyting"
           ],
           "legendgroup": "Forretningsmessig tenesteyting",
           "marker": {
            "color": "#FF6692",
            "size": [
             6300
            ],
            "sizemode": "area",
            "sizeref": 4.32,
            "symbol": "circle"
           },
           "mode": "markers",
           "name": "Forretningsmessig tenesteyting",
           "orientation": "v",
           "showlegend": true,
           "type": "scatter",
           "x": [
            4.4
           ],
           "xaxis": "x",
           "y": [
            129
           ],
           "yaxis": "y"
          },
          {
           "hovertemplate": "<b>%{hovertext}</b><br><br>næring (SN2007)=Offentleg administrasjon og forsvar, og trygdeordningar underordna offentleg forvalting<br>kvartal=2015K2<br>Ledige stillingar (prosent)=%{x}<br>Sysselsatte=%{y}<br>Ledige stillingar=%{marker.size}<extra></extra>",
           "hovertext": [
            "Offentleg administrasjon og forsvar, og trygdeordningar underordna offentleg forvalting"
           ],
           "ids": [
            "Offentleg administrasjon og forsvar, og trygdeordningar underordna offentleg forvalting"
           ],
           "legendgroup": "Offentleg administrasjon og forsvar, og trygdeordningar underordna offentleg forvalting",
           "marker": {
            "color": "#B6E880",
            "size": [
             3200
            ],
            "sizemode": "area",
            "sizeref": 4.32,
            "symbol": "circle"
           },
           "mode": "markers",
           "name": "Offentleg administrasjon og forsvar, og trygdeordningar underordna offentleg forvalting",
           "orientation": "v",
           "showlegend": true,
           "type": "scatter",
           "x": [
            1.8
           ],
           "xaxis": "x",
           "y": [
            166
           ],
           "yaxis": "y"
          },
          {
           "hovertemplate": "<b>%{hovertext}</b><br><br>næring (SN2007)=Undervisning<br>kvartal=2015K2<br>Ledige stillingar (prosent)=%{x}<br>Sysselsatte=%{y}<br>Ledige stillingar=%{marker.size}<extra></extra>",
           "hovertext": [
            "Undervisning"
           ],
           "ids": [
            "Undervisning"
           ],
           "legendgroup": "Undervisning",
           "marker": {
            "color": "#FF97FF",
            "size": [
             7800
            ],
            "sizemode": "area",
            "sizeref": 4.32,
            "symbol": "circle"
           },
           "mode": "markers",
           "name": "Undervisning",
           "orientation": "v",
           "showlegend": true,
           "type": "scatter",
           "x": [
            3.2
           ],
           "xaxis": "x",
           "y": [
            223
           ],
           "yaxis": "y"
          },
          {
           "hovertemplate": "<b>%{hovertext}</b><br><br>næring (SN2007)=Kulturell verksemd, underhaldning og fritidsaktivitetar<br>kvartal=2015K2<br>Ledige stillingar (prosent)=%{x}<br>Sysselsatte=%{y}<br>Ledige stillingar=%{marker.size}<extra></extra>",
           "hovertext": [
            "Kulturell verksemd, underhaldning og fritidsaktivitetar"
           ],
           "ids": [
            "Kulturell verksemd, underhaldning og fritidsaktivitetar"
           ],
           "legendgroup": "Kulturell verksemd, underhaldning og fritidsaktivitetar",
           "marker": {
            "color": "#FECB52",
            "size": [
             500
            ],
            "sizemode": "area",
            "sizeref": 4.32,
            "symbol": "circle"
           },
           "mode": "markers",
           "name": "Kulturell verksemd, underhaldning og fritidsaktivitetar",
           "orientation": "v",
           "showlegend": true,
           "type": "scatter",
           "x": [
            1
           ],
           "xaxis": "x",
           "y": [
            56
           ],
           "yaxis": "y"
          }
         ],
         "name": "2015K2"
        },
        {
         "data": [
          {
           "hovertemplate": "<b>%{hovertext}</b><br><br>næring (SN2007)=Bergverksdrift og utvinning<br>kvartal=2015K3<br>Ledige stillingar (prosent)=%{x}<br>Sysselsatte=%{y}<br>Ledige stillingar=%{marker.size}<extra></extra>",
           "hovertext": [
            "Bergverksdrift og utvinning"
           ],
           "ids": [
            "Bergverksdrift og utvinning"
           ],
           "legendgroup": "Bergverksdrift og utvinning",
           "marker": {
            "color": "#636efa",
            "size": [
             600
            ],
            "sizemode": "area",
            "sizeref": 4.32,
            "symbol": "circle"
           },
           "mode": "markers",
           "name": "Bergverksdrift og utvinning",
           "orientation": "v",
           "showlegend": true,
           "type": "scatter",
           "x": [
            0.9
           ],
           "xaxis": "x",
           "y": [
            63
           ],
           "yaxis": "y"
          },
          {
           "hovertemplate": "<b>%{hovertext}</b><br><br>næring (SN2007)=Byggje- og anleggsverksemd<br>kvartal=2015K3<br>Ledige stillingar (prosent)=%{x}<br>Sysselsatte=%{y}<br>Ledige stillingar=%{marker.size}<extra></extra>",
           "hovertext": [
            "Byggje- og anleggsverksemd"
           ],
           "ids": [
            "Byggje- og anleggsverksemd"
           ],
           "legendgroup": "Byggje- og anleggsverksemd",
           "marker": {
            "color": "#EF553B",
            "size": [
             3300
            ],
            "sizemode": "area",
            "sizeref": 4.32,
            "symbol": "circle"
           },
           "mode": "markers",
           "name": "Byggje- og anleggsverksemd",
           "orientation": "v",
           "showlegend": true,
           "type": "scatter",
           "x": [
            1.6
           ],
           "xaxis": "x",
           "y": [
            209
           ],
           "yaxis": "y"
          },
          {
           "hovertemplate": "<b>%{hovertext}</b><br><br>næring (SN2007)=Informasjon og kommunikasjon<br>kvartal=2015K3<br>Ledige stillingar (prosent)=%{x}<br>Sysselsatte=%{y}<br>Ledige stillingar=%{marker.size}<extra></extra>",
           "hovertext": [
            "Informasjon og kommunikasjon"
           ],
           "ids": [
            "Informasjon og kommunikasjon"
           ],
           "legendgroup": "Informasjon og kommunikasjon",
           "marker": {
            "color": "#00cc96",
            "size": [
             1800
            ],
            "sizemode": "area",
            "sizeref": 4.32,
            "symbol": "circle"
           },
           "mode": "markers",
           "name": "Informasjon og kommunikasjon",
           "orientation": "v",
           "showlegend": true,
           "type": "scatter",
           "x": [
            2.1
           ],
           "xaxis": "x",
           "y": [
            96
           ],
           "yaxis": "y"
          },
          {
           "hovertemplate": "<b>%{hovertext}</b><br><br>næring (SN2007)=Finansierings- og forsikringsverksemd<br>kvartal=2015K3<br>Ledige stillingar (prosent)=%{x}<br>Sysselsatte=%{y}<br>Ledige stillingar=%{marker.size}<extra></extra>",
           "hovertext": [
            "Finansierings- og forsikringsverksemd"
           ],
           "ids": [
            "Finansierings- og forsikringsverksemd"
           ],
           "legendgroup": "Finansierings- og forsikringsverksemd",
           "marker": {
            "color": "#ab63fa",
            "size": [
             500
            ],
            "sizemode": "area",
            "sizeref": 4.32,
            "symbol": "circle"
           },
           "mode": "markers",
           "name": "Finansierings- og forsikringsverksemd",
           "orientation": "v",
           "showlegend": true,
           "type": "scatter",
           "x": [
            1.1
           ],
           "xaxis": "x",
           "y": [
            49
           ],
           "yaxis": "y"
          },
          {
           "hovertemplate": "<b>%{hovertext}</b><br><br>næring (SN2007)=Omsetning og drift av fast eigedom<br>kvartal=2015K3<br>Ledige stillingar (prosent)=%{x}<br>Sysselsatte=%{y}<br>Ledige stillingar=%{marker.size}<extra></extra>",
           "hovertext": [
            "Omsetning og drift av fast eigedom"
           ],
           "ids": [
            "Omsetning og drift av fast eigedom"
           ],
           "legendgroup": "Omsetning og drift av fast eigedom",
           "marker": {
            "color": "#FFA15A",
            "size": [
             400
            ],
            "sizemode": "area",
            "sizeref": 4.32,
            "symbol": "circle"
           },
           "mode": "markers",
           "name": "Omsetning og drift av fast eigedom",
           "orientation": "v",
           "showlegend": true,
           "type": "scatter",
           "x": [
            1.6
           ],
           "xaxis": "x",
           "y": [
            24
           ],
           "yaxis": "y"
          },
          {
           "hovertemplate": "<b>%{hovertext}</b><br><br>næring (SN2007)=Fagleg, vitskapleg og teknisk tenesteyting<br>kvartal=2015K3<br>Ledige stillingar (prosent)=%{x}<br>Sysselsatte=%{y}<br>Ledige stillingar=%{marker.size}<extra></extra>",
           "hovertext": [
            "Fagleg, vitskapleg og teknisk tenesteyting"
           ],
           "ids": [
            "Fagleg, vitskapleg og teknisk tenesteyting"
           ],
           "legendgroup": "Fagleg, vitskapleg og teknisk tenesteyting",
           "marker": {
            "color": "#19d3f3",
            "size": [
             2000
            ],
            "sizemode": "area",
            "sizeref": 4.32,
            "symbol": "circle"
           },
           "mode": "markers",
           "name": "Fagleg, vitskapleg og teknisk tenesteyting",
           "orientation": "v",
           "showlegend": true,
           "type": "scatter",
           "x": [
            1.5
           ],
           "xaxis": "x",
           "y": [
            154
           ],
           "yaxis": "y"
          },
          {
           "hovertemplate": "<b>%{hovertext}</b><br><br>næring (SN2007)=Forretningsmessig tenesteyting<br>kvartal=2015K3<br>Ledige stillingar (prosent)=%{x}<br>Sysselsatte=%{y}<br>Ledige stillingar=%{marker.size}<extra></extra>",
           "hovertext": [
            "Forretningsmessig tenesteyting"
           ],
           "ids": [
            "Forretningsmessig tenesteyting"
           ],
           "legendgroup": "Forretningsmessig tenesteyting",
           "marker": {
            "color": "#FF6692",
            "size": [
             4900
            ],
            "sizemode": "area",
            "sizeref": 4.32,
            "symbol": "circle"
           },
           "mode": "markers",
           "name": "Forretningsmessig tenesteyting",
           "orientation": "v",
           "showlegend": true,
           "type": "scatter",
           "x": [
            3.3
           ],
           "xaxis": "x",
           "y": [
            119
           ],
           "yaxis": "y"
          },
          {
           "hovertemplate": "<b>%{hovertext}</b><br><br>næring (SN2007)=Offentleg administrasjon og forsvar, og trygdeordningar underordna offentleg forvalting<br>kvartal=2015K3<br>Ledige stillingar (prosent)=%{x}<br>Sysselsatte=%{y}<br>Ledige stillingar=%{marker.size}<extra></extra>",
           "hovertext": [
            "Offentleg administrasjon og forsvar, og trygdeordningar underordna offentleg forvalting"
           ],
           "ids": [
            "Offentleg administrasjon og forsvar, og trygdeordningar underordna offentleg forvalting"
           ],
           "legendgroup": "Offentleg administrasjon og forsvar, og trygdeordningar underordna offentleg forvalting",
           "marker": {
            "color": "#B6E880",
            "size": [
             3900
            ],
            "sizemode": "area",
            "sizeref": 4.32,
            "symbol": "circle"
           },
           "mode": "markers",
           "name": "Offentleg administrasjon og forsvar, og trygdeordningar underordna offentleg forvalting",
           "orientation": "v",
           "showlegend": true,
           "type": "scatter",
           "x": [
            2.2
           ],
           "xaxis": "x",
           "y": [
            166
           ],
           "yaxis": "y"
          },
          {
           "hovertemplate": "<b>%{hovertext}</b><br><br>næring (SN2007)=Undervisning<br>kvartal=2015K3<br>Ledige stillingar (prosent)=%{x}<br>Sysselsatte=%{y}<br>Ledige stillingar=%{marker.size}<extra></extra>",
           "hovertext": [
            "Undervisning"
           ],
           "ids": [
            "Undervisning"
           ],
           "legendgroup": "Undervisning",
           "marker": {
            "color": "#FF97FF",
            "size": [
             2500
            ],
            "sizemode": "area",
            "sizeref": 4.32,
            "symbol": "circle"
           },
           "mode": "markers",
           "name": "Undervisning",
           "orientation": "v",
           "showlegend": true,
           "type": "scatter",
           "x": [
            1.2
           ],
           "xaxis": "x",
           "y": [
            221
           ],
           "yaxis": "y"
          },
          {
           "hovertemplate": "<b>%{hovertext}</b><br><br>næring (SN2007)=Kulturell verksemd, underhaldning og fritidsaktivitetar<br>kvartal=2015K3<br>Ledige stillingar (prosent)=%{x}<br>Sysselsatte=%{y}<br>Ledige stillingar=%{marker.size}<extra></extra>",
           "hovertext": [
            "Kulturell verksemd, underhaldning og fritidsaktivitetar"
           ],
           "ids": [
            "Kulturell verksemd, underhaldning og fritidsaktivitetar"
           ],
           "legendgroup": "Kulturell verksemd, underhaldning og fritidsaktivitetar",
           "marker": {
            "color": "#FECB52",
            "size": [
             400
            ],
            "sizemode": "area",
            "sizeref": 4.32,
            "symbol": "circle"
           },
           "mode": "markers",
           "name": "Kulturell verksemd, underhaldning og fritidsaktivitetar",
           "orientation": "v",
           "showlegend": true,
           "type": "scatter",
           "x": [
            0.9
           ],
           "xaxis": "x",
           "y": [
            58
           ],
           "yaxis": "y"
          }
         ],
         "name": "2015K3"
        },
        {
         "data": [
          {
           "hovertemplate": "<b>%{hovertext}</b><br><br>næring (SN2007)=Bergverksdrift og utvinning<br>kvartal=2015K4<br>Ledige stillingar (prosent)=%{x}<br>Sysselsatte=%{y}<br>Ledige stillingar=%{marker.size}<extra></extra>",
           "hovertext": [
            "Bergverksdrift og utvinning"
           ],
           "ids": [
            "Bergverksdrift og utvinning"
           ],
           "legendgroup": "Bergverksdrift og utvinning",
           "marker": {
            "color": "#636efa",
            "size": [
             400
            ],
            "sizemode": "area",
            "sizeref": 4.32,
            "symbol": "circle"
           },
           "mode": "markers",
           "name": "Bergverksdrift og utvinning",
           "orientation": "v",
           "showlegend": true,
           "type": "scatter",
           "x": [
            0.6
           ],
           "xaxis": "x",
           "y": [
            61
           ],
           "yaxis": "y"
          },
          {
           "hovertemplate": "<b>%{hovertext}</b><br><br>næring (SN2007)=Byggje- og anleggsverksemd<br>kvartal=2015K4<br>Ledige stillingar (prosent)=%{x}<br>Sysselsatte=%{y}<br>Ledige stillingar=%{marker.size}<extra></extra>",
           "hovertext": [
            "Byggje- og anleggsverksemd"
           ],
           "ids": [
            "Byggje- og anleggsverksemd"
           ],
           "legendgroup": "Byggje- og anleggsverksemd",
           "marker": {
            "color": "#EF553B",
            "size": [
             2300
            ],
            "sizemode": "area",
            "sizeref": 4.32,
            "symbol": "circle"
           },
           "mode": "markers",
           "name": "Byggje- og anleggsverksemd",
           "orientation": "v",
           "showlegend": true,
           "type": "scatter",
           "x": [
            1.1
           ],
           "xaxis": "x",
           "y": [
            202
           ],
           "yaxis": "y"
          },
          {
           "hovertemplate": "<b>%{hovertext}</b><br><br>næring (SN2007)=Informasjon og kommunikasjon<br>kvartal=2015K4<br>Ledige stillingar (prosent)=%{x}<br>Sysselsatte=%{y}<br>Ledige stillingar=%{marker.size}<extra></extra>",
           "hovertext": [
            "Informasjon og kommunikasjon"
           ],
           "ids": [
            "Informasjon og kommunikasjon"
           ],
           "legendgroup": "Informasjon og kommunikasjon",
           "marker": {
            "color": "#00cc96",
            "size": [
             2000
            ],
            "sizemode": "area",
            "sizeref": 4.32,
            "symbol": "circle"
           },
           "mode": "markers",
           "name": "Informasjon og kommunikasjon",
           "orientation": "v",
           "showlegend": true,
           "type": "scatter",
           "x": [
            2.2
           ],
           "xaxis": "x",
           "y": [
            99
           ],
           "yaxis": "y"
          },
          {
           "hovertemplate": "<b>%{hovertext}</b><br><br>næring (SN2007)=Finansierings- og forsikringsverksemd<br>kvartal=2015K4<br>Ledige stillingar (prosent)=%{x}<br>Sysselsatte=%{y}<br>Ledige stillingar=%{marker.size}<extra></extra>",
           "hovertext": [
            "Finansierings- og forsikringsverksemd"
           ],
           "ids": [
            "Finansierings- og forsikringsverksemd"
           ],
           "legendgroup": "Finansierings- og forsikringsverksemd",
           "marker": {
            "color": "#ab63fa",
            "size": [
             600
            ],
            "sizemode": "area",
            "sizeref": 4.32,
            "symbol": "circle"
           },
           "mode": "markers",
           "name": "Finansierings- og forsikringsverksemd",
           "orientation": "v",
           "showlegend": true,
           "type": "scatter",
           "x": [
            1.2
           ],
           "xaxis": "x",
           "y": [
            50
           ],
           "yaxis": "y"
          },
          {
           "hovertemplate": "<b>%{hovertext}</b><br><br>næring (SN2007)=Omsetning og drift av fast eigedom<br>kvartal=2015K4<br>Ledige stillingar (prosent)=%{x}<br>Sysselsatte=%{y}<br>Ledige stillingar=%{marker.size}<extra></extra>",
           "hovertext": [
            "Omsetning og drift av fast eigedom"
           ],
           "ids": [
            "Omsetning og drift av fast eigedom"
           ],
           "legendgroup": "Omsetning og drift av fast eigedom",
           "marker": {
            "color": "#FFA15A",
            "size": [
             400
            ],
            "sizemode": "area",
            "sizeref": 4.32,
            "symbol": "circle"
           },
           "mode": "markers",
           "name": "Omsetning og drift av fast eigedom",
           "orientation": "v",
           "showlegend": true,
           "type": "scatter",
           "x": [
            1.6
           ],
           "xaxis": "x",
           "y": [
            26
           ],
           "yaxis": "y"
          },
          {
           "hovertemplate": "<b>%{hovertext}</b><br><br>næring (SN2007)=Fagleg, vitskapleg og teknisk tenesteyting<br>kvartal=2015K4<br>Ledige stillingar (prosent)=%{x}<br>Sysselsatte=%{y}<br>Ledige stillingar=%{marker.size}<extra></extra>",
           "hovertext": [
            "Fagleg, vitskapleg og teknisk tenesteyting"
           ],
           "ids": [
            "Fagleg, vitskapleg og teknisk tenesteyting"
           ],
           "legendgroup": "Fagleg, vitskapleg og teknisk tenesteyting",
           "marker": {
            "color": "#19d3f3",
            "size": [
             2600
            ],
            "sizemode": "area",
            "sizeref": 4.32,
            "symbol": "circle"
           },
           "mode": "markers",
           "name": "Fagleg, vitskapleg og teknisk tenesteyting",
           "orientation": "v",
           "showlegend": true,
           "type": "scatter",
           "x": [
            1.9
           ],
           "xaxis": "x",
           "y": [
            157
           ],
           "yaxis": "y"
          },
          {
           "hovertemplate": "<b>%{hovertext}</b><br><br>næring (SN2007)=Forretningsmessig tenesteyting<br>kvartal=2015K4<br>Ledige stillingar (prosent)=%{x}<br>Sysselsatte=%{y}<br>Ledige stillingar=%{marker.size}<extra></extra>",
           "hovertext": [
            "Forretningsmessig tenesteyting"
           ],
           "ids": [
            "Forretningsmessig tenesteyting"
           ],
           "legendgroup": "Forretningsmessig tenesteyting",
           "marker": {
            "color": "#FF6692",
            "size": [
             5100
            ],
            "sizemode": "area",
            "sizeref": 4.32,
            "symbol": "circle"
           },
           "mode": "markers",
           "name": "Forretningsmessig tenesteyting",
           "orientation": "v",
           "showlegend": true,
           "type": "scatter",
           "x": [
            3.5
           ],
           "xaxis": "x",
           "y": [
            121
           ],
           "yaxis": "y"
          },
          {
           "hovertemplate": "<b>%{hovertext}</b><br><br>næring (SN2007)=Offentleg administrasjon og forsvar, og trygdeordningar underordna offentleg forvalting<br>kvartal=2015K4<br>Ledige stillingar (prosent)=%{x}<br>Sysselsatte=%{y}<br>Ledige stillingar=%{marker.size}<extra></extra>",
           "hovertext": [
            "Offentleg administrasjon og forsvar, og trygdeordningar underordna offentleg forvalting"
           ],
           "ids": [
            "Offentleg administrasjon og forsvar, og trygdeordningar underordna offentleg forvalting"
           ],
           "legendgroup": "Offentleg administrasjon og forsvar, og trygdeordningar underordna offentleg forvalting",
           "marker": {
            "color": "#B6E880",
            "size": [
             3600
            ],
            "sizemode": "area",
            "sizeref": 4.32,
            "symbol": "circle"
           },
           "mode": "markers",
           "name": "Offentleg administrasjon og forsvar, og trygdeordningar underordna offentleg forvalting",
           "orientation": "v",
           "showlegend": true,
           "type": "scatter",
           "x": [
            2
           ],
           "xaxis": "x",
           "y": [
            167
           ],
           "yaxis": "y"
          },
          {
           "hovertemplate": "<b>%{hovertext}</b><br><br>næring (SN2007)=Undervisning<br>kvartal=2015K4<br>Ledige stillingar (prosent)=%{x}<br>Sysselsatte=%{y}<br>Ledige stillingar=%{marker.size}<extra></extra>",
           "hovertext": [
            "Undervisning"
           ],
           "ids": [
            "Undervisning"
           ],
           "legendgroup": "Undervisning",
           "marker": {
            "color": "#FF97FF",
            "size": [
             2400
            ],
            "sizemode": "area",
            "sizeref": 4.32,
            "symbol": "circle"
           },
           "mode": "markers",
           "name": "Undervisning",
           "orientation": "v",
           "showlegend": true,
           "type": "scatter",
           "x": [
            1
           ],
           "xaxis": "x",
           "y": [
            219
           ],
           "yaxis": "y"
          },
          {
           "hovertemplate": "<b>%{hovertext}</b><br><br>næring (SN2007)=Kulturell verksemd, underhaldning og fritidsaktivitetar<br>kvartal=2015K4<br>Ledige stillingar (prosent)=%{x}<br>Sysselsatte=%{y}<br>Ledige stillingar=%{marker.size}<extra></extra>",
           "hovertext": [
            "Kulturell verksemd, underhaldning og fritidsaktivitetar"
           ],
           "ids": [
            "Kulturell verksemd, underhaldning og fritidsaktivitetar"
           ],
           "legendgroup": "Kulturell verksemd, underhaldning og fritidsaktivitetar",
           "marker": {
            "color": "#FECB52",
            "size": [
             500
            ],
            "sizemode": "area",
            "sizeref": 4.32,
            "symbol": "circle"
           },
           "mode": "markers",
           "name": "Kulturell verksemd, underhaldning og fritidsaktivitetar",
           "orientation": "v",
           "showlegend": true,
           "type": "scatter",
           "x": [
            1.2
           ],
           "xaxis": "x",
           "y": [
            58
           ],
           "yaxis": "y"
          }
         ],
         "name": "2015K4"
        },
        {
         "data": [
          {
           "hovertemplate": "<b>%{hovertext}</b><br><br>næring (SN2007)=Bergverksdrift og utvinning<br>kvartal=2016K1<br>Ledige stillingar (prosent)=%{x}<br>Sysselsatte=%{y}<br>Ledige stillingar=%{marker.size}<extra></extra>",
           "hovertext": [
            "Bergverksdrift og utvinning"
           ],
           "ids": [
            "Bergverksdrift og utvinning"
           ],
           "legendgroup": "Bergverksdrift og utvinning",
           "marker": {
            "color": "#636efa",
            "size": [
             300
            ],
            "sizemode": "area",
            "sizeref": 4.32,
            "symbol": "circle"
           },
           "mode": "markers",
           "name": "Bergverksdrift og utvinning",
           "orientation": "v",
           "showlegend": true,
           "type": "scatter",
           "x": [
            0.5
           ],
           "xaxis": "x",
           "y": [
            61
           ],
           "yaxis": "y"
          },
          {
           "hovertemplate": "<b>%{hovertext}</b><br><br>næring (SN2007)=Byggje- og anleggsverksemd<br>kvartal=2016K1<br>Ledige stillingar (prosent)=%{x}<br>Sysselsatte=%{y}<br>Ledige stillingar=%{marker.size}<extra></extra>",
           "hovertext": [
            "Byggje- og anleggsverksemd"
           ],
           "ids": [
            "Byggje- og anleggsverksemd"
           ],
           "legendgroup": "Byggje- og anleggsverksemd",
           "marker": {
            "color": "#EF553B",
            "size": [
             3900
            ],
            "sizemode": "area",
            "sizeref": 4.32,
            "symbol": "circle"
           },
           "mode": "markers",
           "name": "Byggje- og anleggsverksemd",
           "orientation": "v",
           "showlegend": true,
           "type": "scatter",
           "x": [
            1.9
           ],
           "xaxis": "x",
           "y": [
            206
           ],
           "yaxis": "y"
          },
          {
           "hovertemplate": "<b>%{hovertext}</b><br><br>næring (SN2007)=Informasjon og kommunikasjon<br>kvartal=2016K1<br>Ledige stillingar (prosent)=%{x}<br>Sysselsatte=%{y}<br>Ledige stillingar=%{marker.size}<extra></extra>",
           "hovertext": [
            "Informasjon og kommunikasjon"
           ],
           "ids": [
            "Informasjon og kommunikasjon"
           ],
           "legendgroup": "Informasjon og kommunikasjon",
           "marker": {
            "color": "#00cc96",
            "size": [
             2500
            ],
            "sizemode": "area",
            "sizeref": 4.32,
            "symbol": "circle"
           },
           "mode": "markers",
           "name": "Informasjon og kommunikasjon",
           "orientation": "v",
           "showlegend": true,
           "type": "scatter",
           "x": [
            2.7
           ],
           "xaxis": "x",
           "y": [
            99
           ],
           "yaxis": "y"
          },
          {
           "hovertemplate": "<b>%{hovertext}</b><br><br>næring (SN2007)=Finansierings- og forsikringsverksemd<br>kvartal=2016K1<br>Ledige stillingar (prosent)=%{x}<br>Sysselsatte=%{y}<br>Ledige stillingar=%{marker.size}<extra></extra>",
           "hovertext": [
            "Finansierings- og forsikringsverksemd"
           ],
           "ids": [
            "Finansierings- og forsikringsverksemd"
           ],
           "legendgroup": "Finansierings- og forsikringsverksemd",
           "marker": {
            "color": "#ab63fa",
            "size": [
             800
            ],
            "sizemode": "area",
            "sizeref": 4.32,
            "symbol": "circle"
           },
           "mode": "markers",
           "name": "Finansierings- og forsikringsverksemd",
           "orientation": "v",
           "showlegend": true,
           "type": "scatter",
           "x": [
            1.7
           ],
           "xaxis": "x",
           "y": [
            46
           ],
           "yaxis": "y"
          },
          {
           "hovertemplate": "<b>%{hovertext}</b><br><br>næring (SN2007)=Omsetning og drift av fast eigedom<br>kvartal=2016K1<br>Ledige stillingar (prosent)=%{x}<br>Sysselsatte=%{y}<br>Ledige stillingar=%{marker.size}<extra></extra>",
           "hovertext": [
            "Omsetning og drift av fast eigedom"
           ],
           "ids": [
            "Omsetning og drift av fast eigedom"
           ],
           "legendgroup": "Omsetning og drift av fast eigedom",
           "marker": {
            "color": "#FFA15A",
            "size": [
             400
            ],
            "sizemode": "area",
            "sizeref": 4.32,
            "symbol": "circle"
           },
           "mode": "markers",
           "name": "Omsetning og drift av fast eigedom",
           "orientation": "v",
           "showlegend": true,
           "type": "scatter",
           "x": [
            1.8
           ],
           "xaxis": "x",
           "y": [
            22
           ],
           "yaxis": "y"
          },
          {
           "hovertemplate": "<b>%{hovertext}</b><br><br>næring (SN2007)=Fagleg, vitskapleg og teknisk tenesteyting<br>kvartal=2016K1<br>Ledige stillingar (prosent)=%{x}<br>Sysselsatte=%{y}<br>Ledige stillingar=%{marker.size}<extra></extra>",
           "hovertext": [
            "Fagleg, vitskapleg og teknisk tenesteyting"
           ],
           "ids": [
            "Fagleg, vitskapleg og teknisk tenesteyting"
           ],
           "legendgroup": "Fagleg, vitskapleg og teknisk tenesteyting",
           "marker": {
            "color": "#19d3f3",
            "size": [
             5000
            ],
            "sizemode": "area",
            "sizeref": 4.32,
            "symbol": "circle"
           },
           "mode": "markers",
           "name": "Fagleg, vitskapleg og teknisk tenesteyting",
           "orientation": "v",
           "showlegend": true,
           "type": "scatter",
           "x": [
            3.7
           ],
           "xaxis": "x",
           "y": [
            158
           ],
           "yaxis": "y"
          },
          {
           "hovertemplate": "<b>%{hovertext}</b><br><br>næring (SN2007)=Forretningsmessig tenesteyting<br>kvartal=2016K1<br>Ledige stillingar (prosent)=%{x}<br>Sysselsatte=%{y}<br>Ledige stillingar=%{marker.size}<extra></extra>",
           "hovertext": [
            "Forretningsmessig tenesteyting"
           ],
           "ids": [
            "Forretningsmessig tenesteyting"
           ],
           "legendgroup": "Forretningsmessig tenesteyting",
           "marker": {
            "color": "#FF6692",
            "size": [
             6200
            ],
            "sizemode": "area",
            "sizeref": 4.32,
            "symbol": "circle"
           },
           "mode": "markers",
           "name": "Forretningsmessig tenesteyting",
           "orientation": "v",
           "showlegend": true,
           "type": "scatter",
           "x": [
            4.5
           ],
           "xaxis": "x",
           "y": [
            115
           ],
           "yaxis": "y"
          },
          {
           "hovertemplate": "<b>%{hovertext}</b><br><br>næring (SN2007)=Offentleg administrasjon og forsvar, og trygdeordningar underordna offentleg forvalting<br>kvartal=2016K1<br>Ledige stillingar (prosent)=%{x}<br>Sysselsatte=%{y}<br>Ledige stillingar=%{marker.size}<extra></extra>",
           "hovertext": [
            "Offentleg administrasjon og forsvar, og trygdeordningar underordna offentleg forvalting"
           ],
           "ids": [
            "Offentleg administrasjon og forsvar, og trygdeordningar underordna offentleg forvalting"
           ],
           "legendgroup": "Offentleg administrasjon og forsvar, og trygdeordningar underordna offentleg forvalting",
           "marker": {
            "color": "#B6E880",
            "size": [
             3400
            ],
            "sizemode": "area",
            "sizeref": 4.32,
            "symbol": "circle"
           },
           "mode": "markers",
           "name": "Offentleg administrasjon og forsvar, og trygdeordningar underordna offentleg forvalting",
           "orientation": "v",
           "showlegend": true,
           "type": "scatter",
           "x": [
            1.9
           ],
           "xaxis": "x",
           "y": [
            169
           ],
           "yaxis": "y"
          },
          {
           "hovertemplate": "<b>%{hovertext}</b><br><br>næring (SN2007)=Undervisning<br>kvartal=2016K1<br>Ledige stillingar (prosent)=%{x}<br>Sysselsatte=%{y}<br>Ledige stillingar=%{marker.size}<extra></extra>",
           "hovertext": [
            "Undervisning"
           ],
           "ids": [
            "Undervisning"
           ],
           "legendgroup": "Undervisning",
           "marker": {
            "color": "#FF97FF",
            "size": [
             3500
            ],
            "sizemode": "area",
            "sizeref": 4.32,
            "symbol": "circle"
           },
           "mode": "markers",
           "name": "Undervisning",
           "orientation": "v",
           "showlegend": true,
           "type": "scatter",
           "x": [
            1.5
           ],
           "xaxis": "x",
           "y": [
            223
           ],
           "yaxis": "y"
          },
          {
           "hovertemplate": "<b>%{hovertext}</b><br><br>næring (SN2007)=Kulturell verksemd, underhaldning og fritidsaktivitetar<br>kvartal=2016K1<br>Ledige stillingar (prosent)=%{x}<br>Sysselsatte=%{y}<br>Ledige stillingar=%{marker.size}<extra></extra>",
           "hovertext": [
            "Kulturell verksemd, underhaldning og fritidsaktivitetar"
           ],
           "ids": [
            "Kulturell verksemd, underhaldning og fritidsaktivitetar"
           ],
           "legendgroup": "Kulturell verksemd, underhaldning og fritidsaktivitetar",
           "marker": {
            "color": "#FECB52",
            "size": [
             1100
            ],
            "sizemode": "area",
            "sizeref": 4.32,
            "symbol": "circle"
           },
           "mode": "markers",
           "name": "Kulturell verksemd, underhaldning og fritidsaktivitetar",
           "orientation": "v",
           "showlegend": true,
           "type": "scatter",
           "x": [
            2.3
           ],
           "xaxis": "x",
           "y": [
            59
           ],
           "yaxis": "y"
          }
         ],
         "name": "2016K1"
        },
        {
         "data": [
          {
           "hovertemplate": "<b>%{hovertext}</b><br><br>næring (SN2007)=Bergverksdrift og utvinning<br>kvartal=2016K2<br>Ledige stillingar (prosent)=%{x}<br>Sysselsatte=%{y}<br>Ledige stillingar=%{marker.size}<extra></extra>",
           "hovertext": [
            "Bergverksdrift og utvinning"
           ],
           "ids": [
            "Bergverksdrift og utvinning"
           ],
           "legendgroup": "Bergverksdrift og utvinning",
           "marker": {
            "color": "#636efa",
            "size": [
             200
            ],
            "sizemode": "area",
            "sizeref": 4.32,
            "symbol": "circle"
           },
           "mode": "markers",
           "name": "Bergverksdrift og utvinning",
           "orientation": "v",
           "showlegend": true,
           "type": "scatter",
           "x": [
            0.3
           ],
           "xaxis": "x",
           "y": [
            56
           ],
           "yaxis": "y"
          },
          {
           "hovertemplate": "<b>%{hovertext}</b><br><br>næring (SN2007)=Byggje- og anleggsverksemd<br>kvartal=2016K2<br>Ledige stillingar (prosent)=%{x}<br>Sysselsatte=%{y}<br>Ledige stillingar=%{marker.size}<extra></extra>",
           "hovertext": [
            "Byggje- og anleggsverksemd"
           ],
           "ids": [
            "Byggje- og anleggsverksemd"
           ],
           "legendgroup": "Byggje- og anleggsverksemd",
           "marker": {
            "color": "#EF553B",
            "size": [
             3500
            ],
            "sizemode": "area",
            "sizeref": 4.32,
            "symbol": "circle"
           },
           "mode": "markers",
           "name": "Byggje- og anleggsverksemd",
           "orientation": "v",
           "showlegend": true,
           "type": "scatter",
           "x": [
            1.6
           ],
           "xaxis": "x",
           "y": [
            201
           ],
           "yaxis": "y"
          },
          {
           "hovertemplate": "<b>%{hovertext}</b><br><br>næring (SN2007)=Informasjon og kommunikasjon<br>kvartal=2016K2<br>Ledige stillingar (prosent)=%{x}<br>Sysselsatte=%{y}<br>Ledige stillingar=%{marker.size}<extra></extra>",
           "hovertext": [
            "Informasjon og kommunikasjon"
           ],
           "ids": [
            "Informasjon og kommunikasjon"
           ],
           "legendgroup": "Informasjon og kommunikasjon",
           "marker": {
            "color": "#00cc96",
            "size": [
             2700
            ],
            "sizemode": "area",
            "sizeref": 4.32,
            "symbol": "circle"
           },
           "mode": "markers",
           "name": "Informasjon og kommunikasjon",
           "orientation": "v",
           "showlegend": true,
           "type": "scatter",
           "x": [
            3
           ],
           "xaxis": "x",
           "y": [
            95
           ],
           "yaxis": "y"
          },
          {
           "hovertemplate": "<b>%{hovertext}</b><br><br>næring (SN2007)=Finansierings- og forsikringsverksemd<br>kvartal=2016K2<br>Ledige stillingar (prosent)=%{x}<br>Sysselsatte=%{y}<br>Ledige stillingar=%{marker.size}<extra></extra>",
           "hovertext": [
            "Finansierings- og forsikringsverksemd"
           ],
           "ids": [
            "Finansierings- og forsikringsverksemd"
           ],
           "legendgroup": "Finansierings- og forsikringsverksemd",
           "marker": {
            "color": "#ab63fa",
            "size": [
             600
            ],
            "sizemode": "area",
            "sizeref": 4.32,
            "symbol": "circle"
           },
           "mode": "markers",
           "name": "Finansierings- og forsikringsverksemd",
           "orientation": "v",
           "showlegend": true,
           "type": "scatter",
           "x": [
            1.4
           ],
           "xaxis": "x",
           "y": [
            46
           ],
           "yaxis": "y"
          },
          {
           "hovertemplate": "<b>%{hovertext}</b><br><br>næring (SN2007)=Omsetning og drift av fast eigedom<br>kvartal=2016K2<br>Ledige stillingar (prosent)=%{x}<br>Sysselsatte=%{y}<br>Ledige stillingar=%{marker.size}<extra></extra>",
           "hovertext": [
            "Omsetning og drift av fast eigedom"
           ],
           "ids": [
            "Omsetning og drift av fast eigedom"
           ],
           "legendgroup": "Omsetning og drift av fast eigedom",
           "marker": {
            "color": "#FFA15A",
            "size": [
             500
            ],
            "sizemode": "area",
            "sizeref": 4.32,
            "symbol": "circle"
           },
           "mode": "markers",
           "name": "Omsetning og drift av fast eigedom",
           "orientation": "v",
           "showlegend": true,
           "type": "scatter",
           "x": [
            2.1
           ],
           "xaxis": "x",
           "y": [
            23
           ],
           "yaxis": "y"
          },
          {
           "hovertemplate": "<b>%{hovertext}</b><br><br>næring (SN2007)=Fagleg, vitskapleg og teknisk tenesteyting<br>kvartal=2016K2<br>Ledige stillingar (prosent)=%{x}<br>Sysselsatte=%{y}<br>Ledige stillingar=%{marker.size}<extra></extra>",
           "hovertext": [
            "Fagleg, vitskapleg og teknisk tenesteyting"
           ],
           "ids": [
            "Fagleg, vitskapleg og teknisk tenesteyting"
           ],
           "legendgroup": "Fagleg, vitskapleg og teknisk tenesteyting",
           "marker": {
            "color": "#19d3f3",
            "size": [
             2900
            ],
            "sizemode": "area",
            "sizeref": 4.32,
            "symbol": "circle"
           },
           "mode": "markers",
           "name": "Fagleg, vitskapleg og teknisk tenesteyting",
           "orientation": "v",
           "showlegend": true,
           "type": "scatter",
           "x": [
            2.2
           ],
           "xaxis": "x",
           "y": [
            158
           ],
           "yaxis": "y"
          },
          {
           "hovertemplate": "<b>%{hovertext}</b><br><br>næring (SN2007)=Forretningsmessig tenesteyting<br>kvartal=2016K2<br>Ledige stillingar (prosent)=%{x}<br>Sysselsatte=%{y}<br>Ledige stillingar=%{marker.size}<extra></extra>",
           "hovertext": [
            "Forretningsmessig tenesteyting"
           ],
           "ids": [
            "Forretningsmessig tenesteyting"
           ],
           "legendgroup": "Forretningsmessig tenesteyting",
           "marker": {
            "color": "#FF6692",
            "size": [
             5100
            ],
            "sizemode": "area",
            "sizeref": 4.32,
            "symbol": "circle"
           },
           "mode": "markers",
           "name": "Forretningsmessig tenesteyting",
           "orientation": "v",
           "showlegend": true,
           "type": "scatter",
           "x": [
            3.5
           ],
           "xaxis": "x",
           "y": [
            125
           ],
           "yaxis": "y"
          },
          {
           "hovertemplate": "<b>%{hovertext}</b><br><br>næring (SN2007)=Offentleg administrasjon og forsvar, og trygdeordningar underordna offentleg forvalting<br>kvartal=2016K2<br>Ledige stillingar (prosent)=%{x}<br>Sysselsatte=%{y}<br>Ledige stillingar=%{marker.size}<extra></extra>",
           "hovertext": [
            "Offentleg administrasjon og forsvar, og trygdeordningar underordna offentleg forvalting"
           ],
           "ids": [
            "Offentleg administrasjon og forsvar, og trygdeordningar underordna offentleg forvalting"
           ],
           "legendgroup": "Offentleg administrasjon og forsvar, og trygdeordningar underordna offentleg forvalting",
           "marker": {
            "color": "#B6E880",
            "size": [
             3200
            ],
            "sizemode": "area",
            "sizeref": 4.32,
            "symbol": "circle"
           },
           "mode": "markers",
           "name": "Offentleg administrasjon og forsvar, og trygdeordningar underordna offentleg forvalting",
           "orientation": "v",
           "showlegend": true,
           "type": "scatter",
           "x": [
            1.7
           ],
           "xaxis": "x",
           "y": [
            172
           ],
           "yaxis": "y"
          },
          {
           "hovertemplate": "<b>%{hovertext}</b><br><br>næring (SN2007)=Undervisning<br>kvartal=2016K2<br>Ledige stillingar (prosent)=%{x}<br>Sysselsatte=%{y}<br>Ledige stillingar=%{marker.size}<extra></extra>",
           "hovertext": [
            "Undervisning"
           ],
           "ids": [
            "Undervisning"
           ],
           "legendgroup": "Undervisning",
           "marker": {
            "color": "#FF97FF",
            "size": [
             5200
            ],
            "sizemode": "area",
            "sizeref": 4.32,
            "symbol": "circle"
           },
           "mode": "markers",
           "name": "Undervisning",
           "orientation": "v",
           "showlegend": true,
           "type": "scatter",
           "x": [
            2.1
           ],
           "xaxis": "x",
           "y": [
            228
           ],
           "yaxis": "y"
          },
          {
           "hovertemplate": "<b>%{hovertext}</b><br><br>næring (SN2007)=Kulturell verksemd, underhaldning og fritidsaktivitetar<br>kvartal=2016K2<br>Ledige stillingar (prosent)=%{x}<br>Sysselsatte=%{y}<br>Ledige stillingar=%{marker.size}<extra></extra>",
           "hovertext": [
            "Kulturell verksemd, underhaldning og fritidsaktivitetar"
           ],
           "ids": [
            "Kulturell verksemd, underhaldning og fritidsaktivitetar"
           ],
           "legendgroup": "Kulturell verksemd, underhaldning og fritidsaktivitetar",
           "marker": {
            "color": "#FECB52",
            "size": [
             700
            ],
            "sizemode": "area",
            "sizeref": 4.32,
            "symbol": "circle"
           },
           "mode": "markers",
           "name": "Kulturell verksemd, underhaldning og fritidsaktivitetar",
           "orientation": "v",
           "showlegend": true,
           "type": "scatter",
           "x": [
            1.4
           ],
           "xaxis": "x",
           "y": [
            62
           ],
           "yaxis": "y"
          }
         ],
         "name": "2016K2"
        },
        {
         "data": [
          {
           "hovertemplate": "<b>%{hovertext}</b><br><br>næring (SN2007)=Bergverksdrift og utvinning<br>kvartal=2016K3<br>Ledige stillingar (prosent)=%{x}<br>Sysselsatte=%{y}<br>Ledige stillingar=%{marker.size}<extra></extra>",
           "hovertext": [
            "Bergverksdrift og utvinning"
           ],
           "ids": [
            "Bergverksdrift og utvinning"
           ],
           "legendgroup": "Bergverksdrift og utvinning",
           "marker": {
            "color": "#636efa",
            "size": [
             300
            ],
            "sizemode": "area",
            "sizeref": 4.32,
            "symbol": "circle"
           },
           "mode": "markers",
           "name": "Bergverksdrift og utvinning",
           "orientation": "v",
           "showlegend": true,
           "type": "scatter",
           "x": [
            0.5
           ],
           "xaxis": "x",
           "y": [
            50
           ],
           "yaxis": "y"
          },
          {
           "hovertemplate": "<b>%{hovertext}</b><br><br>næring (SN2007)=Byggje- og anleggsverksemd<br>kvartal=2016K3<br>Ledige stillingar (prosent)=%{x}<br>Sysselsatte=%{y}<br>Ledige stillingar=%{marker.size}<extra></extra>",
           "hovertext": [
            "Byggje- og anleggsverksemd"
           ],
           "ids": [
            "Byggje- og anleggsverksemd"
           ],
           "legendgroup": "Byggje- og anleggsverksemd",
           "marker": {
            "color": "#EF553B",
            "size": [
             3900
            ],
            "sizemode": "area",
            "sizeref": 4.32,
            "symbol": "circle"
           },
           "mode": "markers",
           "name": "Byggje- og anleggsverksemd",
           "orientation": "v",
           "showlegend": true,
           "type": "scatter",
           "x": [
            1.8
           ],
           "xaxis": "x",
           "y": [
            206
           ],
           "yaxis": "y"
          },
          {
           "hovertemplate": "<b>%{hovertext}</b><br><br>næring (SN2007)=Informasjon og kommunikasjon<br>kvartal=2016K3<br>Ledige stillingar (prosent)=%{x}<br>Sysselsatte=%{y}<br>Ledige stillingar=%{marker.size}<extra></extra>",
           "hovertext": [
            "Informasjon og kommunikasjon"
           ],
           "ids": [
            "Informasjon og kommunikasjon"
           ],
           "legendgroup": "Informasjon og kommunikasjon",
           "marker": {
            "color": "#00cc96",
            "size": [
             2700
            ],
            "sizemode": "area",
            "sizeref": 4.32,
            "symbol": "circle"
           },
           "mode": "markers",
           "name": "Informasjon og kommunikasjon",
           "orientation": "v",
           "showlegend": true,
           "type": "scatter",
           "x": [
            3
           ],
           "xaxis": "x",
           "y": [
            95
           ],
           "yaxis": "y"
          },
          {
           "hovertemplate": "<b>%{hovertext}</b><br><br>næring (SN2007)=Finansierings- og forsikringsverksemd<br>kvartal=2016K3<br>Ledige stillingar (prosent)=%{x}<br>Sysselsatte=%{y}<br>Ledige stillingar=%{marker.size}<extra></extra>",
           "hovertext": [
            "Finansierings- og forsikringsverksemd"
           ],
           "ids": [
            "Finansierings- og forsikringsverksemd"
           ],
           "legendgroup": "Finansierings- og forsikringsverksemd",
           "marker": {
            "color": "#ab63fa",
            "size": [
             800
            ],
            "sizemode": "area",
            "sizeref": 4.32,
            "symbol": "circle"
           },
           "mode": "markers",
           "name": "Finansierings- og forsikringsverksemd",
           "orientation": "v",
           "showlegend": true,
           "type": "scatter",
           "x": [
            1.6
           ],
           "xaxis": "x",
           "y": [
            46
           ],
           "yaxis": "y"
          },
          {
           "hovertemplate": "<b>%{hovertext}</b><br><br>næring (SN2007)=Omsetning og drift av fast eigedom<br>kvartal=2016K3<br>Ledige stillingar (prosent)=%{x}<br>Sysselsatte=%{y}<br>Ledige stillingar=%{marker.size}<extra></extra>",
           "hovertext": [
            "Omsetning og drift av fast eigedom"
           ],
           "ids": [
            "Omsetning og drift av fast eigedom"
           ],
           "legendgroup": "Omsetning og drift av fast eigedom",
           "marker": {
            "color": "#FFA15A",
            "size": [
             1100
            ],
            "sizemode": "area",
            "sizeref": 4.32,
            "symbol": "circle"
           },
           "mode": "markers",
           "name": "Omsetning og drift av fast eigedom",
           "orientation": "v",
           "showlegend": true,
           "type": "scatter",
           "x": [
            4
           ],
           "xaxis": "x",
           "y": [
            23
           ],
           "yaxis": "y"
          },
          {
           "hovertemplate": "<b>%{hovertext}</b><br><br>næring (SN2007)=Fagleg, vitskapleg og teknisk tenesteyting<br>kvartal=2016K3<br>Ledige stillingar (prosent)=%{x}<br>Sysselsatte=%{y}<br>Ledige stillingar=%{marker.size}<extra></extra>",
           "hovertext": [
            "Fagleg, vitskapleg og teknisk tenesteyting"
           ],
           "ids": [
            "Fagleg, vitskapleg og teknisk tenesteyting"
           ],
           "legendgroup": "Fagleg, vitskapleg og teknisk tenesteyting",
           "marker": {
            "color": "#19d3f3",
            "size": [
             3300
            ],
            "sizemode": "area",
            "sizeref": 4.32,
            "symbol": "circle"
           },
           "mode": "markers",
           "name": "Fagleg, vitskapleg og teknisk tenesteyting",
           "orientation": "v",
           "showlegend": true,
           "type": "scatter",
           "x": [
            2.5
           ],
           "xaxis": "x",
           "y": [
            156
           ],
           "yaxis": "y"
          },
          {
           "hovertemplate": "<b>%{hovertext}</b><br><br>næring (SN2007)=Forretningsmessig tenesteyting<br>kvartal=2016K3<br>Ledige stillingar (prosent)=%{x}<br>Sysselsatte=%{y}<br>Ledige stillingar=%{marker.size}<extra></extra>",
           "hovertext": [
            "Forretningsmessig tenesteyting"
           ],
           "ids": [
            "Forretningsmessig tenesteyting"
           ],
           "legendgroup": "Forretningsmessig tenesteyting",
           "marker": {
            "color": "#FF6692",
            "size": [
             5000
            ],
            "sizemode": "area",
            "sizeref": 4.32,
            "symbol": "circle"
           },
           "mode": "markers",
           "name": "Forretningsmessig tenesteyting",
           "orientation": "v",
           "showlegend": true,
           "type": "scatter",
           "x": [
            3.3
           ],
           "xaxis": "x",
           "y": [
            125
           ],
           "yaxis": "y"
          },
          {
           "hovertemplate": "<b>%{hovertext}</b><br><br>næring (SN2007)=Offentleg administrasjon og forsvar, og trygdeordningar underordna offentleg forvalting<br>kvartal=2016K3<br>Ledige stillingar (prosent)=%{x}<br>Sysselsatte=%{y}<br>Ledige stillingar=%{marker.size}<extra></extra>",
           "hovertext": [
            "Offentleg administrasjon og forsvar, og trygdeordningar underordna offentleg forvalting"
           ],
           "ids": [
            "Offentleg administrasjon og forsvar, og trygdeordningar underordna offentleg forvalting"
           ],
           "legendgroup": "Offentleg administrasjon og forsvar, og trygdeordningar underordna offentleg forvalting",
           "marker": {
            "color": "#B6E880",
            "size": [
             2700
            ],
            "sizemode": "area",
            "sizeref": 4.32,
            "symbol": "circle"
           },
           "mode": "markers",
           "name": "Offentleg administrasjon og forsvar, og trygdeordningar underordna offentleg forvalting",
           "orientation": "v",
           "showlegend": true,
           "type": "scatter",
           "x": [
            1.5
           ],
           "xaxis": "x",
           "y": [
            181
           ],
           "yaxis": "y"
          },
          {
           "hovertemplate": "<b>%{hovertext}</b><br><br>næring (SN2007)=Undervisning<br>kvartal=2016K3<br>Ledige stillingar (prosent)=%{x}<br>Sysselsatte=%{y}<br>Ledige stillingar=%{marker.size}<extra></extra>",
           "hovertext": [
            "Undervisning"
           ],
           "ids": [
            "Undervisning"
           ],
           "legendgroup": "Undervisning",
           "marker": {
            "color": "#FF97FF",
            "size": [
             2000
            ],
            "sizemode": "area",
            "sizeref": 4.32,
            "symbol": "circle"
           },
           "mode": "markers",
           "name": "Undervisning",
           "orientation": "v",
           "showlegend": true,
           "type": "scatter",
           "x": [
            0.9
           ],
           "xaxis": "x",
           "y": [
            218
           ],
           "yaxis": "y"
          },
          {
           "hovertemplate": "<b>%{hovertext}</b><br><br>næring (SN2007)=Kulturell verksemd, underhaldning og fritidsaktivitetar<br>kvartal=2016K3<br>Ledige stillingar (prosent)=%{x}<br>Sysselsatte=%{y}<br>Ledige stillingar=%{marker.size}<extra></extra>",
           "hovertext": [
            "Kulturell verksemd, underhaldning og fritidsaktivitetar"
           ],
           "ids": [
            "Kulturell verksemd, underhaldning og fritidsaktivitetar"
           ],
           "legendgroup": "Kulturell verksemd, underhaldning og fritidsaktivitetar",
           "marker": {
            "color": "#FECB52",
            "size": [
             700
            ],
            "sizemode": "area",
            "sizeref": 4.32,
            "symbol": "circle"
           },
           "mode": "markers",
           "name": "Kulturell verksemd, underhaldning og fritidsaktivitetar",
           "orientation": "v",
           "showlegend": true,
           "type": "scatter",
           "x": [
            1.5
           ],
           "xaxis": "x",
           "y": [
            57
           ],
           "yaxis": "y"
          }
         ],
         "name": "2016K3"
        },
        {
         "data": [
          {
           "hovertemplate": "<b>%{hovertext}</b><br><br>næring (SN2007)=Bergverksdrift og utvinning<br>kvartal=2016K4<br>Ledige stillingar (prosent)=%{x}<br>Sysselsatte=%{y}<br>Ledige stillingar=%{marker.size}<extra></extra>",
           "hovertext": [
            "Bergverksdrift og utvinning"
           ],
           "ids": [
            "Bergverksdrift og utvinning"
           ],
           "legendgroup": "Bergverksdrift og utvinning",
           "marker": {
            "color": "#636efa",
            "size": [
             500
            ],
            "sizemode": "area",
            "sizeref": 4.32,
            "symbol": "circle"
           },
           "mode": "markers",
           "name": "Bergverksdrift og utvinning",
           "orientation": "v",
           "showlegend": true,
           "type": "scatter",
           "x": [
            1
           ],
           "xaxis": "x",
           "y": [
            49
           ],
           "yaxis": "y"
          },
          {
           "hovertemplate": "<b>%{hovertext}</b><br><br>næring (SN2007)=Byggje- og anleggsverksemd<br>kvartal=2016K4<br>Ledige stillingar (prosent)=%{x}<br>Sysselsatte=%{y}<br>Ledige stillingar=%{marker.size}<extra></extra>",
           "hovertext": [
            "Byggje- og anleggsverksemd"
           ],
           "ids": [
            "Byggje- og anleggsverksemd"
           ],
           "legendgroup": "Byggje- og anleggsverksemd",
           "marker": {
            "color": "#EF553B",
            "size": [
             3800
            ],
            "sizemode": "area",
            "sizeref": 4.32,
            "symbol": "circle"
           },
           "mode": "markers",
           "name": "Byggje- og anleggsverksemd",
           "orientation": "v",
           "showlegend": true,
           "type": "scatter",
           "x": [
            1.7
           ],
           "xaxis": "x",
           "y": [
            201
           ],
           "yaxis": "y"
          },
          {
           "hovertemplate": "<b>%{hovertext}</b><br><br>næring (SN2007)=Informasjon og kommunikasjon<br>kvartal=2016K4<br>Ledige stillingar (prosent)=%{x}<br>Sysselsatte=%{y}<br>Ledige stillingar=%{marker.size}<extra></extra>",
           "hovertext": [
            "Informasjon og kommunikasjon"
           ],
           "ids": [
            "Informasjon og kommunikasjon"
           ],
           "legendgroup": "Informasjon og kommunikasjon",
           "marker": {
            "color": "#00cc96",
            "size": [
             3000
            ],
            "sizemode": "area",
            "sizeref": 4.32,
            "symbol": "circle"
           },
           "mode": "markers",
           "name": "Informasjon og kommunikasjon",
           "orientation": "v",
           "showlegend": true,
           "type": "scatter",
           "x": [
            3.3
           ],
           "xaxis": "x",
           "y": [
            98
           ],
           "yaxis": "y"
          },
          {
           "hovertemplate": "<b>%{hovertext}</b><br><br>næring (SN2007)=Finansierings- og forsikringsverksemd<br>kvartal=2016K4<br>Ledige stillingar (prosent)=%{x}<br>Sysselsatte=%{y}<br>Ledige stillingar=%{marker.size}<extra></extra>",
           "hovertext": [
            "Finansierings- og forsikringsverksemd"
           ],
           "ids": [
            "Finansierings- og forsikringsverksemd"
           ],
           "legendgroup": "Finansierings- og forsikringsverksemd",
           "marker": {
            "color": "#ab63fa",
            "size": [
             600
            ],
            "sizemode": "area",
            "sizeref": 4.32,
            "symbol": "circle"
           },
           "mode": "markers",
           "name": "Finansierings- og forsikringsverksemd",
           "orientation": "v",
           "showlegend": true,
           "type": "scatter",
           "x": [
            1.3
           ],
           "xaxis": "x",
           "y": [
            45
           ],
           "yaxis": "y"
          },
          {
           "hovertemplate": "<b>%{hovertext}</b><br><br>næring (SN2007)=Omsetning og drift av fast eigedom<br>kvartal=2016K4<br>Ledige stillingar (prosent)=%{x}<br>Sysselsatte=%{y}<br>Ledige stillingar=%{marker.size}<extra></extra>",
           "hovertext": [
            "Omsetning og drift av fast eigedom"
           ],
           "ids": [
            "Omsetning og drift av fast eigedom"
           ],
           "legendgroup": "Omsetning og drift av fast eigedom",
           "marker": {
            "color": "#FFA15A",
            "size": [
             500
            ],
            "sizemode": "area",
            "sizeref": 4.32,
            "symbol": "circle"
           },
           "mode": "markers",
           "name": "Omsetning og drift av fast eigedom",
           "orientation": "v",
           "showlegend": true,
           "type": "scatter",
           "x": [
            1.8
           ],
           "xaxis": "x",
           "y": [
            20
           ],
           "yaxis": "y"
          },
          {
           "hovertemplate": "<b>%{hovertext}</b><br><br>næring (SN2007)=Fagleg, vitskapleg og teknisk tenesteyting<br>kvartal=2016K4<br>Ledige stillingar (prosent)=%{x}<br>Sysselsatte=%{y}<br>Ledige stillingar=%{marker.size}<extra></extra>",
           "hovertext": [
            "Fagleg, vitskapleg og teknisk tenesteyting"
           ],
           "ids": [
            "Fagleg, vitskapleg og teknisk tenesteyting"
           ],
           "legendgroup": "Fagleg, vitskapleg og teknisk tenesteyting",
           "marker": {
            "color": "#19d3f3",
            "size": [
             2900
            ],
            "sizemode": "area",
            "sizeref": 4.32,
            "symbol": "circle"
           },
           "mode": "markers",
           "name": "Fagleg, vitskapleg og teknisk tenesteyting",
           "orientation": "v",
           "showlegend": true,
           "type": "scatter",
           "x": [
            2.1
           ],
           "xaxis": "x",
           "y": [
            157
           ],
           "yaxis": "y"
          },
          {
           "hovertemplate": "<b>%{hovertext}</b><br><br>næring (SN2007)=Forretningsmessig tenesteyting<br>kvartal=2016K4<br>Ledige stillingar (prosent)=%{x}<br>Sysselsatte=%{y}<br>Ledige stillingar=%{marker.size}<extra></extra>",
           "hovertext": [
            "Forretningsmessig tenesteyting"
           ],
           "ids": [
            "Forretningsmessig tenesteyting"
           ],
           "legendgroup": "Forretningsmessig tenesteyting",
           "marker": {
            "color": "#FF6692",
            "size": [
             5300
            ],
            "sizemode": "area",
            "sizeref": 4.32,
            "symbol": "circle"
           },
           "mode": "markers",
           "name": "Forretningsmessig tenesteyting",
           "orientation": "v",
           "showlegend": true,
           "type": "scatter",
           "x": [
            3.5
           ],
           "xaxis": "x",
           "y": [
            118
           ],
           "yaxis": "y"
          },
          {
           "hovertemplate": "<b>%{hovertext}</b><br><br>næring (SN2007)=Offentleg administrasjon og forsvar, og trygdeordningar underordna offentleg forvalting<br>kvartal=2016K4<br>Ledige stillingar (prosent)=%{x}<br>Sysselsatte=%{y}<br>Ledige stillingar=%{marker.size}<extra></extra>",
           "hovertext": [
            "Offentleg administrasjon og forsvar, og trygdeordningar underordna offentleg forvalting"
           ],
           "ids": [
            "Offentleg administrasjon og forsvar, og trygdeordningar underordna offentleg forvalting"
           ],
           "legendgroup": "Offentleg administrasjon og forsvar, og trygdeordningar underordna offentleg forvalting",
           "marker": {
            "color": "#B6E880",
            "size": [
             3400
            ],
            "sizemode": "area",
            "sizeref": 4.32,
            "symbol": "circle"
           },
           "mode": "markers",
           "name": "Offentleg administrasjon og forsvar, og trygdeordningar underordna offentleg forvalting",
           "orientation": "v",
           "showlegend": true,
           "type": "scatter",
           "x": [
            1.8
           ],
           "xaxis": "x",
           "y": [
            184
           ],
           "yaxis": "y"
          },
          {
           "hovertemplate": "<b>%{hovertext}</b><br><br>næring (SN2007)=Undervisning<br>kvartal=2016K4<br>Ledige stillingar (prosent)=%{x}<br>Sysselsatte=%{y}<br>Ledige stillingar=%{marker.size}<extra></extra>",
           "hovertext": [
            "Undervisning"
           ],
           "ids": [
            "Undervisning"
           ],
           "legendgroup": "Undervisning",
           "marker": {
            "color": "#FF97FF",
            "size": [
             2900
            ],
            "sizemode": "area",
            "sizeref": 4.32,
            "symbol": "circle"
           },
           "mode": "markers",
           "name": "Undervisning",
           "orientation": "v",
           "showlegend": true,
           "type": "scatter",
           "x": [
            1.2
           ],
           "xaxis": "x",
           "y": [
            231
           ],
           "yaxis": "y"
          },
          {
           "hovertemplate": "<b>%{hovertext}</b><br><br>næring (SN2007)=Kulturell verksemd, underhaldning og fritidsaktivitetar<br>kvartal=2016K4<br>Ledige stillingar (prosent)=%{x}<br>Sysselsatte=%{y}<br>Ledige stillingar=%{marker.size}<extra></extra>",
           "hovertext": [
            "Kulturell verksemd, underhaldning og fritidsaktivitetar"
           ],
           "ids": [
            "Kulturell verksemd, underhaldning og fritidsaktivitetar"
           ],
           "legendgroup": "Kulturell verksemd, underhaldning og fritidsaktivitetar",
           "marker": {
            "color": "#FECB52",
            "size": [
             900
            ],
            "sizemode": "area",
            "sizeref": 4.32,
            "symbol": "circle"
           },
           "mode": "markers",
           "name": "Kulturell verksemd, underhaldning og fritidsaktivitetar",
           "orientation": "v",
           "showlegend": true,
           "type": "scatter",
           "x": [
            1.8
           ],
           "xaxis": "x",
           "y": [
            55
           ],
           "yaxis": "y"
          }
         ],
         "name": "2016K4"
        },
        {
         "data": [
          {
           "hovertemplate": "<b>%{hovertext}</b><br><br>næring (SN2007)=Bergverksdrift og utvinning<br>kvartal=2017K1<br>Ledige stillingar (prosent)=%{x}<br>Sysselsatte=%{y}<br>Ledige stillingar=%{marker.size}<extra></extra>",
           "hovertext": [
            "Bergverksdrift og utvinning"
           ],
           "ids": [
            "Bergverksdrift og utvinning"
           ],
           "legendgroup": "Bergverksdrift og utvinning",
           "marker": {
            "color": "#636efa",
            "size": [
             400
            ],
            "sizemode": "area",
            "sizeref": 4.32,
            "symbol": "circle"
           },
           "mode": "markers",
           "name": "Bergverksdrift og utvinning",
           "orientation": "v",
           "showlegend": true,
           "type": "scatter",
           "x": [
            0.7
           ],
           "xaxis": "x",
           "y": [
            48
           ],
           "yaxis": "y"
          },
          {
           "hovertemplate": "<b>%{hovertext}</b><br><br>næring (SN2007)=Byggje- og anleggsverksemd<br>kvartal=2017K1<br>Ledige stillingar (prosent)=%{x}<br>Sysselsatte=%{y}<br>Ledige stillingar=%{marker.size}<extra></extra>",
           "hovertext": [
            "Byggje- og anleggsverksemd"
           ],
           "ids": [
            "Byggje- og anleggsverksemd"
           ],
           "legendgroup": "Byggje- og anleggsverksemd",
           "marker": {
            "color": "#EF553B",
            "size": [
             3800
            ],
            "sizemode": "area",
            "sizeref": 4.32,
            "symbol": "circle"
           },
           "mode": "markers",
           "name": "Byggje- og anleggsverksemd",
           "orientation": "v",
           "showlegend": true,
           "type": "scatter",
           "x": [
            1.8
           ],
           "xaxis": "x",
           "y": [
            206
           ],
           "yaxis": "y"
          },
          {
           "hovertemplate": "<b>%{hovertext}</b><br><br>næring (SN2007)=Informasjon og kommunikasjon<br>kvartal=2017K1<br>Ledige stillingar (prosent)=%{x}<br>Sysselsatte=%{y}<br>Ledige stillingar=%{marker.size}<extra></extra>",
           "hovertext": [
            "Informasjon og kommunikasjon"
           ],
           "ids": [
            "Informasjon og kommunikasjon"
           ],
           "legendgroup": "Informasjon og kommunikasjon",
           "marker": {
            "color": "#00cc96",
            "size": [
             2900
            ],
            "sizemode": "area",
            "sizeref": 4.32,
            "symbol": "circle"
           },
           "mode": "markers",
           "name": "Informasjon og kommunikasjon",
           "orientation": "v",
           "showlegend": true,
           "type": "scatter",
           "x": [
            3.2
           ],
           "xaxis": "x",
           "y": [
            100
           ],
           "yaxis": "y"
          },
          {
           "hovertemplate": "<b>%{hovertext}</b><br><br>næring (SN2007)=Finansierings- og forsikringsverksemd<br>kvartal=2017K1<br>Ledige stillingar (prosent)=%{x}<br>Sysselsatte=%{y}<br>Ledige stillingar=%{marker.size}<extra></extra>",
           "hovertext": [
            "Finansierings- og forsikringsverksemd"
           ],
           "ids": [
            "Finansierings- og forsikringsverksemd"
           ],
           "legendgroup": "Finansierings- og forsikringsverksemd",
           "marker": {
            "color": "#ab63fa",
            "size": [
             800
            ],
            "sizemode": "area",
            "sizeref": 4.32,
            "symbol": "circle"
           },
           "mode": "markers",
           "name": "Finansierings- og forsikringsverksemd",
           "orientation": "v",
           "showlegend": true,
           "type": "scatter",
           "x": [
            1.8
           ],
           "xaxis": "x",
           "y": [
            45
           ],
           "yaxis": "y"
          },
          {
           "hovertemplate": "<b>%{hovertext}</b><br><br>næring (SN2007)=Omsetning og drift av fast eigedom<br>kvartal=2017K1<br>Ledige stillingar (prosent)=%{x}<br>Sysselsatte=%{y}<br>Ledige stillingar=%{marker.size}<extra></extra>",
           "hovertext": [
            "Omsetning og drift av fast eigedom"
           ],
           "ids": [
            "Omsetning og drift av fast eigedom"
           ],
           "legendgroup": "Omsetning og drift av fast eigedom",
           "marker": {
            "color": "#FFA15A",
            "size": [
             400
            ],
            "sizemode": "area",
            "sizeref": 4.32,
            "symbol": "circle"
           },
           "mode": "markers",
           "name": "Omsetning og drift av fast eigedom",
           "orientation": "v",
           "showlegend": true,
           "type": "scatter",
           "x": [
            1.6
           ],
           "xaxis": "x",
           "y": [
            20
           ],
           "yaxis": "y"
          },
          {
           "hovertemplate": "<b>%{hovertext}</b><br><br>næring (SN2007)=Fagleg, vitskapleg og teknisk tenesteyting<br>kvartal=2017K1<br>Ledige stillingar (prosent)=%{x}<br>Sysselsatte=%{y}<br>Ledige stillingar=%{marker.size}<extra></extra>",
           "hovertext": [
            "Fagleg, vitskapleg og teknisk tenesteyting"
           ],
           "ids": [
            "Fagleg, vitskapleg og teknisk tenesteyting"
           ],
           "legendgroup": "Fagleg, vitskapleg og teknisk tenesteyting",
           "marker": {
            "color": "#19d3f3",
            "size": [
             3300
            ],
            "sizemode": "area",
            "sizeref": 4.32,
            "symbol": "circle"
           },
           "mode": "markers",
           "name": "Fagleg, vitskapleg og teknisk tenesteyting",
           "orientation": "v",
           "showlegend": true,
           "type": "scatter",
           "x": [
            2.5
           ],
           "xaxis": "x",
           "y": [
            157
           ],
           "yaxis": "y"
          },
          {
           "hovertemplate": "<b>%{hovertext}</b><br><br>næring (SN2007)=Forretningsmessig tenesteyting<br>kvartal=2017K1<br>Ledige stillingar (prosent)=%{x}<br>Sysselsatte=%{y}<br>Ledige stillingar=%{marker.size}<extra></extra>",
           "hovertext": [
            "Forretningsmessig tenesteyting"
           ],
           "ids": [
            "Forretningsmessig tenesteyting"
           ],
           "legendgroup": "Forretningsmessig tenesteyting",
           "marker": {
            "color": "#FF6692",
            "size": [
             6400
            ],
            "sizemode": "area",
            "sizeref": 4.32,
            "symbol": "circle"
           },
           "mode": "markers",
           "name": "Forretningsmessig tenesteyting",
           "orientation": "v",
           "showlegend": true,
           "type": "scatter",
           "x": [
            4.4
           ],
           "xaxis": "x",
           "y": [
            116
           ],
           "yaxis": "y"
          },
          {
           "hovertemplate": "<b>%{hovertext}</b><br><br>næring (SN2007)=Offentleg administrasjon og forsvar, og trygdeordningar underordna offentleg forvalting<br>kvartal=2017K1<br>Ledige stillingar (prosent)=%{x}<br>Sysselsatte=%{y}<br>Ledige stillingar=%{marker.size}<extra></extra>",
           "hovertext": [
            "Offentleg administrasjon og forsvar, og trygdeordningar underordna offentleg forvalting"
           ],
           "ids": [
            "Offentleg administrasjon og forsvar, og trygdeordningar underordna offentleg forvalting"
           ],
           "legendgroup": "Offentleg administrasjon og forsvar, og trygdeordningar underordna offentleg forvalting",
           "marker": {
            "color": "#B6E880",
            "size": [
             4000
            ],
            "sizemode": "area",
            "sizeref": 4.32,
            "symbol": "circle"
           },
           "mode": "markers",
           "name": "Offentleg administrasjon og forsvar, og trygdeordningar underordna offentleg forvalting",
           "orientation": "v",
           "showlegend": true,
           "type": "scatter",
           "x": [
            2.2
           ],
           "xaxis": "x",
           "y": [
            182
           ],
           "yaxis": "y"
          },
          {
           "hovertemplate": "<b>%{hovertext}</b><br><br>næring (SN2007)=Undervisning<br>kvartal=2017K1<br>Ledige stillingar (prosent)=%{x}<br>Sysselsatte=%{y}<br>Ledige stillingar=%{marker.size}<extra></extra>",
           "hovertext": [
            "Undervisning"
           ],
           "ids": [
            "Undervisning"
           ],
           "legendgroup": "Undervisning",
           "marker": {
            "color": "#FF97FF",
            "size": [
             4900
            ],
            "sizemode": "area",
            "sizeref": 4.32,
            "symbol": "circle"
           },
           "mode": "markers",
           "name": "Undervisning",
           "orientation": "v",
           "showlegend": true,
           "type": "scatter",
           "x": [
            2
           ],
           "xaxis": "x",
           "y": [
            223
           ],
           "yaxis": "y"
          },
          {
           "hovertemplate": "<b>%{hovertext}</b><br><br>næring (SN2007)=Kulturell verksemd, underhaldning og fritidsaktivitetar<br>kvartal=2017K1<br>Ledige stillingar (prosent)=%{x}<br>Sysselsatte=%{y}<br>Ledige stillingar=%{marker.size}<extra></extra>",
           "hovertext": [
            "Kulturell verksemd, underhaldning og fritidsaktivitetar"
           ],
           "ids": [
            "Kulturell verksemd, underhaldning og fritidsaktivitetar"
           ],
           "legendgroup": "Kulturell verksemd, underhaldning og fritidsaktivitetar",
           "marker": {
            "color": "#FECB52",
            "size": [
             1100
            ],
            "sizemode": "area",
            "sizeref": 4.32,
            "symbol": "circle"
           },
           "mode": "markers",
           "name": "Kulturell verksemd, underhaldning og fritidsaktivitetar",
           "orientation": "v",
           "showlegend": true,
           "type": "scatter",
           "x": [
            2.2
           ],
           "xaxis": "x",
           "y": [
            52
           ],
           "yaxis": "y"
          }
         ],
         "name": "2017K1"
        },
        {
         "data": [
          {
           "hovertemplate": "<b>%{hovertext}</b><br><br>næring (SN2007)=Bergverksdrift og utvinning<br>kvartal=2017K2<br>Ledige stillingar (prosent)=%{x}<br>Sysselsatte=%{y}<br>Ledige stillingar=%{marker.size}<extra></extra>",
           "hovertext": [
            "Bergverksdrift og utvinning"
           ],
           "ids": [
            "Bergverksdrift og utvinning"
           ],
           "legendgroup": "Bergverksdrift og utvinning",
           "marker": {
            "color": "#636efa",
            "size": [
             500
            ],
            "sizemode": "area",
            "sizeref": 4.32,
            "symbol": "circle"
           },
           "mode": "markers",
           "name": "Bergverksdrift og utvinning",
           "orientation": "v",
           "showlegend": true,
           "type": "scatter",
           "x": [
            0.9
           ],
           "xaxis": "x",
           "y": [
            53
           ],
           "yaxis": "y"
          },
          {
           "hovertemplate": "<b>%{hovertext}</b><br><br>næring (SN2007)=Byggje- og anleggsverksemd<br>kvartal=2017K2<br>Ledige stillingar (prosent)=%{x}<br>Sysselsatte=%{y}<br>Ledige stillingar=%{marker.size}<extra></extra>",
           "hovertext": [
            "Byggje- og anleggsverksemd"
           ],
           "ids": [
            "Byggje- og anleggsverksemd"
           ],
           "legendgroup": "Byggje- og anleggsverksemd",
           "marker": {
            "color": "#EF553B",
            "size": [
             3800
            ],
            "sizemode": "area",
            "sizeref": 4.32,
            "symbol": "circle"
           },
           "mode": "markers",
           "name": "Byggje- og anleggsverksemd",
           "orientation": "v",
           "showlegend": true,
           "type": "scatter",
           "x": [
            1.7
           ],
           "xaxis": "x",
           "y": [
            210
           ],
           "yaxis": "y"
          },
          {
           "hovertemplate": "<b>%{hovertext}</b><br><br>næring (SN2007)=Informasjon og kommunikasjon<br>kvartal=2017K2<br>Ledige stillingar (prosent)=%{x}<br>Sysselsatte=%{y}<br>Ledige stillingar=%{marker.size}<extra></extra>",
           "hovertext": [
            "Informasjon og kommunikasjon"
           ],
           "ids": [
            "Informasjon og kommunikasjon"
           ],
           "legendgroup": "Informasjon og kommunikasjon",
           "marker": {
            "color": "#00cc96",
            "size": [
             2700
            ],
            "sizemode": "area",
            "sizeref": 4.32,
            "symbol": "circle"
           },
           "mode": "markers",
           "name": "Informasjon og kommunikasjon",
           "orientation": "v",
           "showlegend": true,
           "type": "scatter",
           "x": [
            3
           ],
           "xaxis": "x",
           "y": [
            98
           ],
           "yaxis": "y"
          },
          {
           "hovertemplate": "<b>%{hovertext}</b><br><br>næring (SN2007)=Finansierings- og forsikringsverksemd<br>kvartal=2017K2<br>Ledige stillingar (prosent)=%{x}<br>Sysselsatte=%{y}<br>Ledige stillingar=%{marker.size}<extra></extra>",
           "hovertext": [
            "Finansierings- og forsikringsverksemd"
           ],
           "ids": [
            "Finansierings- og forsikringsverksemd"
           ],
           "legendgroup": "Finansierings- og forsikringsverksemd",
           "marker": {
            "color": "#ab63fa",
            "size": [
             900
            ],
            "sizemode": "area",
            "sizeref": 4.32,
            "symbol": "circle"
           },
           "mode": "markers",
           "name": "Finansierings- og forsikringsverksemd",
           "orientation": "v",
           "showlegend": true,
           "type": "scatter",
           "x": [
            2
           ],
           "xaxis": "x",
           "y": [
            48
           ],
           "yaxis": "y"
          },
          {
           "hovertemplate": "<b>%{hovertext}</b><br><br>næring (SN2007)=Omsetning og drift av fast eigedom<br>kvartal=2017K2<br>Ledige stillingar (prosent)=%{x}<br>Sysselsatte=%{y}<br>Ledige stillingar=%{marker.size}<extra></extra>",
           "hovertext": [
            "Omsetning og drift av fast eigedom"
           ],
           "ids": [
            "Omsetning og drift av fast eigedom"
           ],
           "legendgroup": "Omsetning og drift av fast eigedom",
           "marker": {
            "color": "#FFA15A",
            "size": [
             600
            ],
            "sizemode": "area",
            "sizeref": 4.32,
            "symbol": "circle"
           },
           "mode": "markers",
           "name": "Omsetning og drift av fast eigedom",
           "orientation": "v",
           "showlegend": true,
           "type": "scatter",
           "x": [
            2.4
           ],
           "xaxis": "x",
           "y": [
            22
           ],
           "yaxis": "y"
          },
          {
           "hovertemplate": "<b>%{hovertext}</b><br><br>næring (SN2007)=Fagleg, vitskapleg og teknisk tenesteyting<br>kvartal=2017K2<br>Ledige stillingar (prosent)=%{x}<br>Sysselsatte=%{y}<br>Ledige stillingar=%{marker.size}<extra></extra>",
           "hovertext": [
            "Fagleg, vitskapleg og teknisk tenesteyting"
           ],
           "ids": [
            "Fagleg, vitskapleg og teknisk tenesteyting"
           ],
           "legendgroup": "Fagleg, vitskapleg og teknisk tenesteyting",
           "marker": {
            "color": "#19d3f3",
            "size": [
             4200
            ],
            "sizemode": "area",
            "sizeref": 4.32,
            "symbol": "circle"
           },
           "mode": "markers",
           "name": "Fagleg, vitskapleg og teknisk tenesteyting",
           "orientation": "v",
           "showlegend": true,
           "type": "scatter",
           "x": [
            3.1
           ],
           "xaxis": "x",
           "y": [
            152
           ],
           "yaxis": "y"
          },
          {
           "hovertemplate": "<b>%{hovertext}</b><br><br>næring (SN2007)=Forretningsmessig tenesteyting<br>kvartal=2017K2<br>Ledige stillingar (prosent)=%{x}<br>Sysselsatte=%{y}<br>Ledige stillingar=%{marker.size}<extra></extra>",
           "hovertext": [
            "Forretningsmessig tenesteyting"
           ],
           "ids": [
            "Forretningsmessig tenesteyting"
           ],
           "legendgroup": "Forretningsmessig tenesteyting",
           "marker": {
            "color": "#FF6692",
            "size": [
             6300
            ],
            "sizemode": "area",
            "sizeref": 4.32,
            "symbol": "circle"
           },
           "mode": "markers",
           "name": "Forretningsmessig tenesteyting",
           "orientation": "v",
           "showlegend": true,
           "type": "scatter",
           "x": [
            4.1
           ],
           "xaxis": "x",
           "y": [
            122
           ],
           "yaxis": "y"
          },
          {
           "hovertemplate": "<b>%{hovertext}</b><br><br>næring (SN2007)=Offentleg administrasjon og forsvar, og trygdeordningar underordna offentleg forvalting<br>kvartal=2017K2<br>Ledige stillingar (prosent)=%{x}<br>Sysselsatte=%{y}<br>Ledige stillingar=%{marker.size}<extra></extra>",
           "hovertext": [
            "Offentleg administrasjon og forsvar, og trygdeordningar underordna offentleg forvalting"
           ],
           "ids": [
            "Offentleg administrasjon og forsvar, og trygdeordningar underordna offentleg forvalting"
           ],
           "legendgroup": "Offentleg administrasjon og forsvar, og trygdeordningar underordna offentleg forvalting",
           "marker": {
            "color": "#B6E880",
            "size": [
             3400
            ],
            "sizemode": "area",
            "sizeref": 4.32,
            "symbol": "circle"
           },
           "mode": "markers",
           "name": "Offentleg administrasjon og forsvar, og trygdeordningar underordna offentleg forvalting",
           "orientation": "v",
           "showlegend": true,
           "type": "scatter",
           "x": [
            1.8
           ],
           "xaxis": "x",
           "y": [
            186
           ],
           "yaxis": "y"
          },
          {
           "hovertemplate": "<b>%{hovertext}</b><br><br>næring (SN2007)=Undervisning<br>kvartal=2017K2<br>Ledige stillingar (prosent)=%{x}<br>Sysselsatte=%{y}<br>Ledige stillingar=%{marker.size}<extra></extra>",
           "hovertext": [
            "Undervisning"
           ],
           "ids": [
            "Undervisning"
           ],
           "legendgroup": "Undervisning",
           "marker": {
            "color": "#FF97FF",
            "size": [
             6700
            ],
            "sizemode": "area",
            "sizeref": 4.32,
            "symbol": "circle"
           },
           "mode": "markers",
           "name": "Undervisning",
           "orientation": "v",
           "showlegend": true,
           "type": "scatter",
           "x": [
            2.7
           ],
           "xaxis": "x",
           "y": [
            218
           ],
           "yaxis": "y"
          },
          {
           "hovertemplate": "<b>%{hovertext}</b><br><br>næring (SN2007)=Kulturell verksemd, underhaldning og fritidsaktivitetar<br>kvartal=2017K2<br>Ledige stillingar (prosent)=%{x}<br>Sysselsatte=%{y}<br>Ledige stillingar=%{marker.size}<extra></extra>",
           "hovertext": [
            "Kulturell verksemd, underhaldning og fritidsaktivitetar"
           ],
           "ids": [
            "Kulturell verksemd, underhaldning og fritidsaktivitetar"
           ],
           "legendgroup": "Kulturell verksemd, underhaldning og fritidsaktivitetar",
           "marker": {
            "color": "#FECB52",
            "size": [
             1100
            ],
            "sizemode": "area",
            "sizeref": 4.32,
            "symbol": "circle"
           },
           "mode": "markers",
           "name": "Kulturell verksemd, underhaldning og fritidsaktivitetar",
           "orientation": "v",
           "showlegend": true,
           "type": "scatter",
           "x": [
            2.1
           ],
           "xaxis": "x",
           "y": [
            58
           ],
           "yaxis": "y"
          }
         ],
         "name": "2017K2"
        },
        {
         "data": [
          {
           "hovertemplate": "<b>%{hovertext}</b><br><br>næring (SN2007)=Bergverksdrift og utvinning<br>kvartal=2017K3<br>Ledige stillingar (prosent)=%{x}<br>Sysselsatte=%{y}<br>Ledige stillingar=%{marker.size}<extra></extra>",
           "hovertext": [
            "Bergverksdrift og utvinning"
           ],
           "ids": [
            "Bergverksdrift og utvinning"
           ],
           "legendgroup": "Bergverksdrift og utvinning",
           "marker": {
            "color": "#636efa",
            "size": [
             600
            ],
            "sizemode": "area",
            "sizeref": 4.32,
            "symbol": "circle"
           },
           "mode": "markers",
           "name": "Bergverksdrift og utvinning",
           "orientation": "v",
           "showlegend": true,
           "type": "scatter",
           "x": [
            1
           ],
           "xaxis": "x",
           "y": [
            55
           ],
           "yaxis": "y"
          },
          {
           "hovertemplate": "<b>%{hovertext}</b><br><br>næring (SN2007)=Byggje- og anleggsverksemd<br>kvartal=2017K3<br>Ledige stillingar (prosent)=%{x}<br>Sysselsatte=%{y}<br>Ledige stillingar=%{marker.size}<extra></extra>",
           "hovertext": [
            "Byggje- og anleggsverksemd"
           ],
           "ids": [
            "Byggje- og anleggsverksemd"
           ],
           "legendgroup": "Byggje- og anleggsverksemd",
           "marker": {
            "color": "#EF553B",
            "size": [
             4800
            ],
            "sizemode": "area",
            "sizeref": 4.32,
            "symbol": "circle"
           },
           "mode": "markers",
           "name": "Byggje- og anleggsverksemd",
           "orientation": "v",
           "showlegend": true,
           "type": "scatter",
           "x": [
            2.1
           ],
           "xaxis": "x",
           "y": [
            212
           ],
           "yaxis": "y"
          },
          {
           "hovertemplate": "<b>%{hovertext}</b><br><br>næring (SN2007)=Informasjon og kommunikasjon<br>kvartal=2017K3<br>Ledige stillingar (prosent)=%{x}<br>Sysselsatte=%{y}<br>Ledige stillingar=%{marker.size}<extra></extra>",
           "hovertext": [
            "Informasjon og kommunikasjon"
           ],
           "ids": [
            "Informasjon og kommunikasjon"
           ],
           "legendgroup": "Informasjon og kommunikasjon",
           "marker": {
            "color": "#00cc96",
            "size": [
             3000
            ],
            "sizemode": "area",
            "sizeref": 4.32,
            "symbol": "circle"
           },
           "mode": "markers",
           "name": "Informasjon og kommunikasjon",
           "orientation": "v",
           "showlegend": true,
           "type": "scatter",
           "x": [
            3.2
           ],
           "xaxis": "x",
           "y": [
            102
           ],
           "yaxis": "y"
          },
          {
           "hovertemplate": "<b>%{hovertext}</b><br><br>næring (SN2007)=Finansierings- og forsikringsverksemd<br>kvartal=2017K3<br>Ledige stillingar (prosent)=%{x}<br>Sysselsatte=%{y}<br>Ledige stillingar=%{marker.size}<extra></extra>",
           "hovertext": [
            "Finansierings- og forsikringsverksemd"
           ],
           "ids": [
            "Finansierings- og forsikringsverksemd"
           ],
           "legendgroup": "Finansierings- og forsikringsverksemd",
           "marker": {
            "color": "#ab63fa",
            "size": [
             800
            ],
            "sizemode": "area",
            "sizeref": 4.32,
            "symbol": "circle"
           },
           "mode": "markers",
           "name": "Finansierings- og forsikringsverksemd",
           "orientation": "v",
           "showlegend": true,
           "type": "scatter",
           "x": [
            1.7
           ],
           "xaxis": "x",
           "y": [
            53
           ],
           "yaxis": "y"
          },
          {
           "hovertemplate": "<b>%{hovertext}</b><br><br>næring (SN2007)=Omsetning og drift av fast eigedom<br>kvartal=2017K3<br>Ledige stillingar (prosent)=%{x}<br>Sysselsatte=%{y}<br>Ledige stillingar=%{marker.size}<extra></extra>",
           "hovertext": [
            "Omsetning og drift av fast eigedom"
           ],
           "ids": [
            "Omsetning og drift av fast eigedom"
           ],
           "legendgroup": "Omsetning og drift av fast eigedom",
           "marker": {
            "color": "#FFA15A",
            "size": [
             800
            ],
            "sizemode": "area",
            "sizeref": 4.32,
            "symbol": "circle"
           },
           "mode": "markers",
           "name": "Omsetning og drift av fast eigedom",
           "orientation": "v",
           "showlegend": true,
           "type": "scatter",
           "x": [
            2.8
           ],
           "xaxis": "x",
           "y": [
            24
           ],
           "yaxis": "y"
          },
          {
           "hovertemplate": "<b>%{hovertext}</b><br><br>næring (SN2007)=Fagleg, vitskapleg og teknisk tenesteyting<br>kvartal=2017K3<br>Ledige stillingar (prosent)=%{x}<br>Sysselsatte=%{y}<br>Ledige stillingar=%{marker.size}<extra></extra>",
           "hovertext": [
            "Fagleg, vitskapleg og teknisk tenesteyting"
           ],
           "ids": [
            "Fagleg, vitskapleg og teknisk tenesteyting"
           ],
           "legendgroup": "Fagleg, vitskapleg og teknisk tenesteyting",
           "marker": {
            "color": "#19d3f3",
            "size": [
             4500
            ],
            "sizemode": "area",
            "sizeref": 4.32,
            "symbol": "circle"
           },
           "mode": "markers",
           "name": "Fagleg, vitskapleg og teknisk tenesteyting",
           "orientation": "v",
           "showlegend": true,
           "type": "scatter",
           "x": [
            3.3
           ],
           "xaxis": "x",
           "y": [
            156
           ],
           "yaxis": "y"
          },
          {
           "hovertemplate": "<b>%{hovertext}</b><br><br>næring (SN2007)=Forretningsmessig tenesteyting<br>kvartal=2017K3<br>Ledige stillingar (prosent)=%{x}<br>Sysselsatte=%{y}<br>Ledige stillingar=%{marker.size}<extra></extra>",
           "hovertext": [
            "Forretningsmessig tenesteyting"
           ],
           "ids": [
            "Forretningsmessig tenesteyting"
           ],
           "legendgroup": "Forretningsmessig tenesteyting",
           "marker": {
            "color": "#FF6692",
            "size": [
             4900
            ],
            "sizemode": "area",
            "sizeref": 4.32,
            "symbol": "circle"
           },
           "mode": "markers",
           "name": "Forretningsmessig tenesteyting",
           "orientation": "v",
           "showlegend": true,
           "type": "scatter",
           "x": [
            3
           ],
           "xaxis": "x",
           "y": [
            125
           ],
           "yaxis": "y"
          },
          {
           "hovertemplate": "<b>%{hovertext}</b><br><br>næring (SN2007)=Offentleg administrasjon og forsvar, og trygdeordningar underordna offentleg forvalting<br>kvartal=2017K3<br>Ledige stillingar (prosent)=%{x}<br>Sysselsatte=%{y}<br>Ledige stillingar=%{marker.size}<extra></extra>",
           "hovertext": [
            "Offentleg administrasjon og forsvar, og trygdeordningar underordna offentleg forvalting"
           ],
           "ids": [
            "Offentleg administrasjon og forsvar, og trygdeordningar underordna offentleg forvalting"
           ],
           "legendgroup": "Offentleg administrasjon og forsvar, og trygdeordningar underordna offentleg forvalting",
           "marker": {
            "color": "#B6E880",
            "size": [
             2800
            ],
            "sizemode": "area",
            "sizeref": 4.32,
            "symbol": "circle"
           },
           "mode": "markers",
           "name": "Offentleg administrasjon og forsvar, og trygdeordningar underordna offentleg forvalting",
           "orientation": "v",
           "showlegend": true,
           "type": "scatter",
           "x": [
            1.5
           ],
           "xaxis": "x",
           "y": [
            181
           ],
           "yaxis": "y"
          },
          {
           "hovertemplate": "<b>%{hovertext}</b><br><br>næring (SN2007)=Undervisning<br>kvartal=2017K3<br>Ledige stillingar (prosent)=%{x}<br>Sysselsatte=%{y}<br>Ledige stillingar=%{marker.size}<extra></extra>",
           "hovertext": [
            "Undervisning"
           ],
           "ids": [
            "Undervisning"
           ],
           "legendgroup": "Undervisning",
           "marker": {
            "color": "#FF97FF",
            "size": [
             2700
            ],
            "sizemode": "area",
            "sizeref": 4.32,
            "symbol": "circle"
           },
           "mode": "markers",
           "name": "Undervisning",
           "orientation": "v",
           "showlegend": true,
           "type": "scatter",
           "x": [
            1.2
           ],
           "xaxis": "x",
           "y": [
            215
           ],
           "yaxis": "y"
          },
          {
           "hovertemplate": "<b>%{hovertext}</b><br><br>næring (SN2007)=Kulturell verksemd, underhaldning og fritidsaktivitetar<br>kvartal=2017K3<br>Ledige stillingar (prosent)=%{x}<br>Sysselsatte=%{y}<br>Ledige stillingar=%{marker.size}<extra></extra>",
           "hovertext": [
            "Kulturell verksemd, underhaldning og fritidsaktivitetar"
           ],
           "ids": [
            "Kulturell verksemd, underhaldning og fritidsaktivitetar"
           ],
           "legendgroup": "Kulturell verksemd, underhaldning og fritidsaktivitetar",
           "marker": {
            "color": "#FECB52",
            "size": [
             1100
            ],
            "sizemode": "area",
            "sizeref": 4.32,
            "symbol": "circle"
           },
           "mode": "markers",
           "name": "Kulturell verksemd, underhaldning og fritidsaktivitetar",
           "orientation": "v",
           "showlegend": true,
           "type": "scatter",
           "x": [
            2.2
           ],
           "xaxis": "x",
           "y": [
            58
           ],
           "yaxis": "y"
          }
         ],
         "name": "2017K3"
        },
        {
         "data": [
          {
           "hovertemplate": "<b>%{hovertext}</b><br><br>næring (SN2007)=Bergverksdrift og utvinning<br>kvartal=2017K4<br>Ledige stillingar (prosent)=%{x}<br>Sysselsatte=%{y}<br>Ledige stillingar=%{marker.size}<extra></extra>",
           "hovertext": [
            "Bergverksdrift og utvinning"
           ],
           "ids": [
            "Bergverksdrift og utvinning"
           ],
           "legendgroup": "Bergverksdrift og utvinning",
           "marker": {
            "color": "#636efa",
            "size": [
             1000
            ],
            "sizemode": "area",
            "sizeref": 4.32,
            "symbol": "circle"
           },
           "mode": "markers",
           "name": "Bergverksdrift og utvinning",
           "orientation": "v",
           "showlegend": true,
           "type": "scatter",
           "x": [
            1.8
           ],
           "xaxis": "x",
           "y": [
            54
           ],
           "yaxis": "y"
          },
          {
           "hovertemplate": "<b>%{hovertext}</b><br><br>næring (SN2007)=Byggje- og anleggsverksemd<br>kvartal=2017K4<br>Ledige stillingar (prosent)=%{x}<br>Sysselsatte=%{y}<br>Ledige stillingar=%{marker.size}<extra></extra>",
           "hovertext": [
            "Byggje- og anleggsverksemd"
           ],
           "ids": [
            "Byggje- og anleggsverksemd"
           ],
           "legendgroup": "Byggje- og anleggsverksemd",
           "marker": {
            "color": "#EF553B",
            "size": [
             4400
            ],
            "sizemode": "area",
            "sizeref": 4.32,
            "symbol": "circle"
           },
           "mode": "markers",
           "name": "Byggje- og anleggsverksemd",
           "orientation": "v",
           "showlegend": true,
           "type": "scatter",
           "x": [
            1.8
           ],
           "xaxis": "x",
           "y": [
            213
           ],
           "yaxis": "y"
          },
          {
           "hovertemplate": "<b>%{hovertext}</b><br><br>næring (SN2007)=Informasjon og kommunikasjon<br>kvartal=2017K4<br>Ledige stillingar (prosent)=%{x}<br>Sysselsatte=%{y}<br>Ledige stillingar=%{marker.size}<extra></extra>",
           "hovertext": [
            "Informasjon og kommunikasjon"
           ],
           "ids": [
            "Informasjon og kommunikasjon"
           ],
           "legendgroup": "Informasjon og kommunikasjon",
           "marker": {
            "color": "#00cc96",
            "size": [
             3000
            ],
            "sizemode": "area",
            "sizeref": 4.32,
            "symbol": "circle"
           },
           "mode": "markers",
           "name": "Informasjon og kommunikasjon",
           "orientation": "v",
           "showlegend": true,
           "type": "scatter",
           "x": [
            3.2
           ],
           "xaxis": "x",
           "y": [
            102
           ],
           "yaxis": "y"
          },
          {
           "hovertemplate": "<b>%{hovertext}</b><br><br>næring (SN2007)=Finansierings- og forsikringsverksemd<br>kvartal=2017K4<br>Ledige stillingar (prosent)=%{x}<br>Sysselsatte=%{y}<br>Ledige stillingar=%{marker.size}<extra></extra>",
           "hovertext": [
            "Finansierings- og forsikringsverksemd"
           ],
           "ids": [
            "Finansierings- og forsikringsverksemd"
           ],
           "legendgroup": "Finansierings- og forsikringsverksemd",
           "marker": {
            "color": "#ab63fa",
            "size": [
             1000
            ],
            "sizemode": "area",
            "sizeref": 4.32,
            "symbol": "circle"
           },
           "mode": "markers",
           "name": "Finansierings- og forsikringsverksemd",
           "orientation": "v",
           "showlegend": true,
           "type": "scatter",
           "x": [
            2.2
           ],
           "xaxis": "x",
           "y": [
            53
           ],
           "yaxis": "y"
          },
          {
           "hovertemplate": "<b>%{hovertext}</b><br><br>næring (SN2007)=Omsetning og drift av fast eigedom<br>kvartal=2017K4<br>Ledige stillingar (prosent)=%{x}<br>Sysselsatte=%{y}<br>Ledige stillingar=%{marker.size}<extra></extra>",
           "hovertext": [
            "Omsetning og drift av fast eigedom"
           ],
           "ids": [
            "Omsetning og drift av fast eigedom"
           ],
           "legendgroup": "Omsetning og drift av fast eigedom",
           "marker": {
            "color": "#FFA15A",
            "size": [
             500
            ],
            "sizemode": "area",
            "sizeref": 4.32,
            "symbol": "circle"
           },
           "mode": "markers",
           "name": "Omsetning og drift av fast eigedom",
           "orientation": "v",
           "showlegend": true,
           "type": "scatter",
           "x": [
            1.9
           ],
           "xaxis": "x",
           "y": [
            23
           ],
           "yaxis": "y"
          },
          {
           "hovertemplate": "<b>%{hovertext}</b><br><br>næring (SN2007)=Fagleg, vitskapleg og teknisk tenesteyting<br>kvartal=2017K4<br>Ledige stillingar (prosent)=%{x}<br>Sysselsatte=%{y}<br>Ledige stillingar=%{marker.size}<extra></extra>",
           "hovertext": [
            "Fagleg, vitskapleg og teknisk tenesteyting"
           ],
           "ids": [
            "Fagleg, vitskapleg og teknisk tenesteyting"
           ],
           "legendgroup": "Fagleg, vitskapleg og teknisk tenesteyting",
           "marker": {
            "color": "#19d3f3",
            "size": [
             5300
            ],
            "sizemode": "area",
            "sizeref": 4.32,
            "symbol": "circle"
           },
           "mode": "markers",
           "name": "Fagleg, vitskapleg og teknisk tenesteyting",
           "orientation": "v",
           "showlegend": true,
           "type": "scatter",
           "x": [
            3.8
           ],
           "xaxis": "x",
           "y": [
            156
           ],
           "yaxis": "y"
          },
          {
           "hovertemplate": "<b>%{hovertext}</b><br><br>næring (SN2007)=Forretningsmessig tenesteyting<br>kvartal=2017K4<br>Ledige stillingar (prosent)=%{x}<br>Sysselsatte=%{y}<br>Ledige stillingar=%{marker.size}<extra></extra>",
           "hovertext": [
            "Forretningsmessig tenesteyting"
           ],
           "ids": [
            "Forretningsmessig tenesteyting"
           ],
           "legendgroup": "Forretningsmessig tenesteyting",
           "marker": {
            "color": "#FF6692",
            "size": [
             5800
            ],
            "sizemode": "area",
            "sizeref": 4.32,
            "symbol": "circle"
           },
           "mode": "markers",
           "name": "Forretningsmessig tenesteyting",
           "orientation": "v",
           "showlegend": true,
           "type": "scatter",
           "x": [
            3.6
           ],
           "xaxis": "x",
           "y": [
            126
           ],
           "yaxis": "y"
          },
          {
           "hovertemplate": "<b>%{hovertext}</b><br><br>næring (SN2007)=Offentleg administrasjon og forsvar, og trygdeordningar underordna offentleg forvalting<br>kvartal=2017K4<br>Ledige stillingar (prosent)=%{x}<br>Sysselsatte=%{y}<br>Ledige stillingar=%{marker.size}<extra></extra>",
           "hovertext": [
            "Offentleg administrasjon og forsvar, og trygdeordningar underordna offentleg forvalting"
           ],
           "ids": [
            "Offentleg administrasjon og forsvar, og trygdeordningar underordna offentleg forvalting"
           ],
           "legendgroup": "Offentleg administrasjon og forsvar, og trygdeordningar underordna offentleg forvalting",
           "marker": {
            "color": "#B6E880",
            "size": [
             3100
            ],
            "sizemode": "area",
            "sizeref": 4.32,
            "symbol": "circle"
           },
           "mode": "markers",
           "name": "Offentleg administrasjon og forsvar, og trygdeordningar underordna offentleg forvalting",
           "orientation": "v",
           "showlegend": true,
           "type": "scatter",
           "x": [
            1.6
           ],
           "xaxis": "x",
           "y": [
            183
           ],
           "yaxis": "y"
          },
          {
           "hovertemplate": "<b>%{hovertext}</b><br><br>næring (SN2007)=Undervisning<br>kvartal=2017K4<br>Ledige stillingar (prosent)=%{x}<br>Sysselsatte=%{y}<br>Ledige stillingar=%{marker.size}<extra></extra>",
           "hovertext": [
            "Undervisning"
           ],
           "ids": [
            "Undervisning"
           ],
           "legendgroup": "Undervisning",
           "marker": {
            "color": "#FF97FF",
            "size": [
             2900
            ],
            "sizemode": "area",
            "sizeref": 4.32,
            "symbol": "circle"
           },
           "mode": "markers",
           "name": "Undervisning",
           "orientation": "v",
           "showlegend": true,
           "type": "scatter",
           "x": [
            1.2
           ],
           "xaxis": "x",
           "y": [
            219
           ],
           "yaxis": "y"
          },
          {
           "hovertemplate": "<b>%{hovertext}</b><br><br>næring (SN2007)=Kulturell verksemd, underhaldning og fritidsaktivitetar<br>kvartal=2017K4<br>Ledige stillingar (prosent)=%{x}<br>Sysselsatte=%{y}<br>Ledige stillingar=%{marker.size}<extra></extra>",
           "hovertext": [
            "Kulturell verksemd, underhaldning og fritidsaktivitetar"
           ],
           "ids": [
            "Kulturell verksemd, underhaldning og fritidsaktivitetar"
           ],
           "legendgroup": "Kulturell verksemd, underhaldning og fritidsaktivitetar",
           "marker": {
            "color": "#FECB52",
            "size": [
             700
            ],
            "sizemode": "area",
            "sizeref": 4.32,
            "symbol": "circle"
           },
           "mode": "markers",
           "name": "Kulturell verksemd, underhaldning og fritidsaktivitetar",
           "orientation": "v",
           "showlegend": true,
           "type": "scatter",
           "x": [
            1.5
           ],
           "xaxis": "x",
           "y": [
            57
           ],
           "yaxis": "y"
          }
         ],
         "name": "2017K4"
        },
        {
         "data": [
          {
           "hovertemplate": "<b>%{hovertext}</b><br><br>næring (SN2007)=Bergverksdrift og utvinning<br>kvartal=2018K1<br>Ledige stillingar (prosent)=%{x}<br>Sysselsatte=%{y}<br>Ledige stillingar=%{marker.size}<extra></extra>",
           "hovertext": [
            "Bergverksdrift og utvinning"
           ],
           "ids": [
            "Bergverksdrift og utvinning"
           ],
           "legendgroup": "Bergverksdrift og utvinning",
           "marker": {
            "color": "#636efa",
            "size": [
             1400
            ],
            "sizemode": "area",
            "sizeref": 4.32,
            "symbol": "circle"
           },
           "mode": "markers",
           "name": "Bergverksdrift og utvinning",
           "orientation": "v",
           "showlegend": true,
           "type": "scatter",
           "x": [
            2.6
           ],
           "xaxis": "x",
           "y": [
            61
           ],
           "yaxis": "y"
          },
          {
           "hovertemplate": "<b>%{hovertext}</b><br><br>næring (SN2007)=Byggje- og anleggsverksemd<br>kvartal=2018K1<br>Ledige stillingar (prosent)=%{x}<br>Sysselsatte=%{y}<br>Ledige stillingar=%{marker.size}<extra></extra>",
           "hovertext": [
            "Byggje- og anleggsverksemd"
           ],
           "ids": [
            "Byggje- og anleggsverksemd"
           ],
           "legendgroup": "Byggje- og anleggsverksemd",
           "marker": {
            "color": "#EF553B",
            "size": [
             5200
            ],
            "sizemode": "area",
            "sizeref": 4.32,
            "symbol": "circle"
           },
           "mode": "markers",
           "name": "Byggje- og anleggsverksemd",
           "orientation": "v",
           "showlegend": true,
           "type": "scatter",
           "x": [
            2.3
           ],
           "xaxis": "x",
           "y": [
            216
           ],
           "yaxis": "y"
          },
          {
           "hovertemplate": "<b>%{hovertext}</b><br><br>næring (SN2007)=Informasjon og kommunikasjon<br>kvartal=2018K1<br>Ledige stillingar (prosent)=%{x}<br>Sysselsatte=%{y}<br>Ledige stillingar=%{marker.size}<extra></extra>",
           "hovertext": [
            "Informasjon og kommunikasjon"
           ],
           "ids": [
            "Informasjon og kommunikasjon"
           ],
           "legendgroup": "Informasjon og kommunikasjon",
           "marker": {
            "color": "#00cc96",
            "size": [
             3500
            ],
            "sizemode": "area",
            "sizeref": 4.32,
            "symbol": "circle"
           },
           "mode": "markers",
           "name": "Informasjon og kommunikasjon",
           "orientation": "v",
           "showlegend": true,
           "type": "scatter",
           "x": [
            3.8
           ],
           "xaxis": "x",
           "y": [
            99
           ],
           "yaxis": "y"
          },
          {
           "hovertemplate": "<b>%{hovertext}</b><br><br>næring (SN2007)=Finansierings- og forsikringsverksemd<br>kvartal=2018K1<br>Ledige stillingar (prosent)=%{x}<br>Sysselsatte=%{y}<br>Ledige stillingar=%{marker.size}<extra></extra>",
           "hovertext": [
            "Finansierings- og forsikringsverksemd"
           ],
           "ids": [
            "Finansierings- og forsikringsverksemd"
           ],
           "legendgroup": "Finansierings- og forsikringsverksemd",
           "marker": {
            "color": "#ab63fa",
            "size": [
             900
            ],
            "sizemode": "area",
            "sizeref": 4.32,
            "symbol": "circle"
           },
           "mode": "markers",
           "name": "Finansierings- og forsikringsverksemd",
           "orientation": "v",
           "showlegend": true,
           "type": "scatter",
           "x": [
            1.9
           ],
           "xaxis": "x",
           "y": [
            55
           ],
           "yaxis": "y"
          },
          {
           "hovertemplate": "<b>%{hovertext}</b><br><br>næring (SN2007)=Omsetning og drift av fast eigedom<br>kvartal=2018K1<br>Ledige stillingar (prosent)=%{x}<br>Sysselsatte=%{y}<br>Ledige stillingar=%{marker.size}<extra></extra>",
           "hovertext": [
            "Omsetning og drift av fast eigedom"
           ],
           "ids": [
            "Omsetning og drift av fast eigedom"
           ],
           "legendgroup": "Omsetning og drift av fast eigedom",
           "marker": {
            "color": "#FFA15A",
            "size": [
             400
            ],
            "sizemode": "area",
            "sizeref": 4.32,
            "symbol": "circle"
           },
           "mode": "markers",
           "name": "Omsetning og drift av fast eigedom",
           "orientation": "v",
           "showlegend": true,
           "type": "scatter",
           "x": [
            1.6
           ],
           "xaxis": "x",
           "y": [
            26
           ],
           "yaxis": "y"
          },
          {
           "hovertemplate": "<b>%{hovertext}</b><br><br>næring (SN2007)=Fagleg, vitskapleg og teknisk tenesteyting<br>kvartal=2018K1<br>Ledige stillingar (prosent)=%{x}<br>Sysselsatte=%{y}<br>Ledige stillingar=%{marker.size}<extra></extra>",
           "hovertext": [
            "Fagleg, vitskapleg og teknisk tenesteyting"
           ],
           "ids": [
            "Fagleg, vitskapleg og teknisk tenesteyting"
           ],
           "legendgroup": "Fagleg, vitskapleg og teknisk tenesteyting",
           "marker": {
            "color": "#19d3f3",
            "size": [
             4800
            ],
            "sizemode": "area",
            "sizeref": 4.32,
            "symbol": "circle"
           },
           "mode": "markers",
           "name": "Fagleg, vitskapleg og teknisk tenesteyting",
           "orientation": "v",
           "showlegend": true,
           "type": "scatter",
           "x": [
            3.5
           ],
           "xaxis": "x",
           "y": [
            157
           ],
           "yaxis": "y"
          },
          {
           "hovertemplate": "<b>%{hovertext}</b><br><br>næring (SN2007)=Forretningsmessig tenesteyting<br>kvartal=2018K1<br>Ledige stillingar (prosent)=%{x}<br>Sysselsatte=%{y}<br>Ledige stillingar=%{marker.size}<extra></extra>",
           "hovertext": [
            "Forretningsmessig tenesteyting"
           ],
           "ids": [
            "Forretningsmessig tenesteyting"
           ],
           "legendgroup": "Forretningsmessig tenesteyting",
           "marker": {
            "color": "#FF6692",
            "size": [
             7200
            ],
            "sizemode": "area",
            "sizeref": 4.32,
            "symbol": "circle"
           },
           "mode": "markers",
           "name": "Forretningsmessig tenesteyting",
           "orientation": "v",
           "showlegend": true,
           "type": "scatter",
           "x": [
            4.6
           ],
           "xaxis": "x",
           "y": [
            128
           ],
           "yaxis": "y"
          },
          {
           "hovertemplate": "<b>%{hovertext}</b><br><br>næring (SN2007)=Offentleg administrasjon og forsvar, og trygdeordningar underordna offentleg forvalting<br>kvartal=2018K1<br>Ledige stillingar (prosent)=%{x}<br>Sysselsatte=%{y}<br>Ledige stillingar=%{marker.size}<extra></extra>",
           "hovertext": [
            "Offentleg administrasjon og forsvar, og trygdeordningar underordna offentleg forvalting"
           ],
           "ids": [
            "Offentleg administrasjon og forsvar, og trygdeordningar underordna offentleg forvalting"
           ],
           "legendgroup": "Offentleg administrasjon og forsvar, og trygdeordningar underordna offentleg forvalting",
           "marker": {
            "color": "#B6E880",
            "size": [
             4000
            ],
            "sizemode": "area",
            "sizeref": 4.32,
            "symbol": "circle"
           },
           "mode": "markers",
           "name": "Offentleg administrasjon og forsvar, og trygdeordningar underordna offentleg forvalting",
           "orientation": "v",
           "showlegend": true,
           "type": "scatter",
           "x": [
            2.2
           ],
           "xaxis": "x",
           "y": [
            185
           ],
           "yaxis": "y"
          },
          {
           "hovertemplate": "<b>%{hovertext}</b><br><br>næring (SN2007)=Undervisning<br>kvartal=2018K1<br>Ledige stillingar (prosent)=%{x}<br>Sysselsatte=%{y}<br>Ledige stillingar=%{marker.size}<extra></extra>",
           "hovertext": [
            "Undervisning"
           ],
           "ids": [
            "Undervisning"
           ],
           "legendgroup": "Undervisning",
           "marker": {
            "color": "#FF97FF",
            "size": [
             4200
            ],
            "sizemode": "area",
            "sizeref": 4.32,
            "symbol": "circle"
           },
           "mode": "markers",
           "name": "Undervisning",
           "orientation": "v",
           "showlegend": true,
           "type": "scatter",
           "x": [
            1.7
           ],
           "xaxis": "x",
           "y": [
            225
           ],
           "yaxis": "y"
          },
          {
           "hovertemplate": "<b>%{hovertext}</b><br><br>næring (SN2007)=Kulturell verksemd, underhaldning og fritidsaktivitetar<br>kvartal=2018K1<br>Ledige stillingar (prosent)=%{x}<br>Sysselsatte=%{y}<br>Ledige stillingar=%{marker.size}<extra></extra>",
           "hovertext": [
            "Kulturell verksemd, underhaldning og fritidsaktivitetar"
           ],
           "ids": [
            "Kulturell verksemd, underhaldning og fritidsaktivitetar"
           ],
           "legendgroup": "Kulturell verksemd, underhaldning og fritidsaktivitetar",
           "marker": {
            "color": "#FECB52",
            "size": [
             800
            ],
            "sizemode": "area",
            "sizeref": 4.32,
            "symbol": "circle"
           },
           "mode": "markers",
           "name": "Kulturell verksemd, underhaldning og fritidsaktivitetar",
           "orientation": "v",
           "showlegend": true,
           "type": "scatter",
           "x": [
            1.5
           ],
           "xaxis": "x",
           "y": [
            59
           ],
           "yaxis": "y"
          }
         ],
         "name": "2018K1"
        },
        {
         "data": [
          {
           "hovertemplate": "<b>%{hovertext}</b><br><br>næring (SN2007)=Bergverksdrift og utvinning<br>kvartal=2018K2<br>Ledige stillingar (prosent)=%{x}<br>Sysselsatte=%{y}<br>Ledige stillingar=%{marker.size}<extra></extra>",
           "hovertext": [
            "Bergverksdrift og utvinning"
           ],
           "ids": [
            "Bergverksdrift og utvinning"
           ],
           "legendgroup": "Bergverksdrift og utvinning",
           "marker": {
            "color": "#636efa",
            "size": [
             1300
            ],
            "sizemode": "area",
            "sizeref": 4.32,
            "symbol": "circle"
           },
           "mode": "markers",
           "name": "Bergverksdrift og utvinning",
           "orientation": "v",
           "showlegend": true,
           "type": "scatter",
           "x": [
            2.4
           ],
           "xaxis": "x",
           "y": [
            62
           ],
           "yaxis": "y"
          },
          {
           "hovertemplate": "<b>%{hovertext}</b><br><br>næring (SN2007)=Byggje- og anleggsverksemd<br>kvartal=2018K2<br>Ledige stillingar (prosent)=%{x}<br>Sysselsatte=%{y}<br>Ledige stillingar=%{marker.size}<extra></extra>",
           "hovertext": [
            "Byggje- og anleggsverksemd"
           ],
           "ids": [
            "Byggje- og anleggsverksemd"
           ],
           "legendgroup": "Byggje- og anleggsverksemd",
           "marker": {
            "color": "#EF553B",
            "size": [
             5400
            ],
            "sizemode": "area",
            "sizeref": 4.32,
            "symbol": "circle"
           },
           "mode": "markers",
           "name": "Byggje- og anleggsverksemd",
           "orientation": "v",
           "showlegend": true,
           "type": "scatter",
           "x": [
            2.3
           ],
           "xaxis": "x",
           "y": [
            220
           ],
           "yaxis": "y"
          },
          {
           "hovertemplate": "<b>%{hovertext}</b><br><br>næring (SN2007)=Informasjon og kommunikasjon<br>kvartal=2018K2<br>Ledige stillingar (prosent)=%{x}<br>Sysselsatte=%{y}<br>Ledige stillingar=%{marker.size}<extra></extra>",
           "hovertext": [
            "Informasjon og kommunikasjon"
           ],
           "ids": [
            "Informasjon og kommunikasjon"
           ],
           "legendgroup": "Informasjon og kommunikasjon",
           "marker": {
            "color": "#00cc96",
            "size": [
             3500
            ],
            "sizemode": "area",
            "sizeref": 4.32,
            "symbol": "circle"
           },
           "mode": "markers",
           "name": "Informasjon og kommunikasjon",
           "orientation": "v",
           "showlegend": true,
           "type": "scatter",
           "x": [
            3.6
           ],
           "xaxis": "x",
           "y": [
            105
           ],
           "yaxis": "y"
          },
          {
           "hovertemplate": "<b>%{hovertext}</b><br><br>næring (SN2007)=Finansierings- og forsikringsverksemd<br>kvartal=2018K2<br>Ledige stillingar (prosent)=%{x}<br>Sysselsatte=%{y}<br>Ledige stillingar=%{marker.size}<extra></extra>",
           "hovertext": [
            "Finansierings- og forsikringsverksemd"
           ],
           "ids": [
            "Finansierings- og forsikringsverksemd"
           ],
           "legendgroup": "Finansierings- og forsikringsverksemd",
           "marker": {
            "color": "#ab63fa",
            "size": [
             1000
            ],
            "sizemode": "area",
            "sizeref": 4.32,
            "symbol": "circle"
           },
           "mode": "markers",
           "name": "Finansierings- og forsikringsverksemd",
           "orientation": "v",
           "showlegend": true,
           "type": "scatter",
           "x": [
            2.1
           ],
           "xaxis": "x",
           "y": [
            54
           ],
           "yaxis": "y"
          },
          {
           "hovertemplate": "<b>%{hovertext}</b><br><br>næring (SN2007)=Omsetning og drift av fast eigedom<br>kvartal=2018K2<br>Ledige stillingar (prosent)=%{x}<br>Sysselsatte=%{y}<br>Ledige stillingar=%{marker.size}<extra></extra>",
           "hovertext": [
            "Omsetning og drift av fast eigedom"
           ],
           "ids": [
            "Omsetning og drift av fast eigedom"
           ],
           "legendgroup": "Omsetning og drift av fast eigedom",
           "marker": {
            "color": "#FFA15A",
            "size": [
             400
            ],
            "sizemode": "area",
            "sizeref": 4.32,
            "symbol": "circle"
           },
           "mode": "markers",
           "name": "Omsetning og drift av fast eigedom",
           "orientation": "v",
           "showlegend": true,
           "type": "scatter",
           "x": [
            1.6
           ],
           "xaxis": "x",
           "y": [
            26
           ],
           "yaxis": "y"
          },
          {
           "hovertemplate": "<b>%{hovertext}</b><br><br>næring (SN2007)=Fagleg, vitskapleg og teknisk tenesteyting<br>kvartal=2018K2<br>Ledige stillingar (prosent)=%{x}<br>Sysselsatte=%{y}<br>Ledige stillingar=%{marker.size}<extra></extra>",
           "hovertext": [
            "Fagleg, vitskapleg og teknisk tenesteyting"
           ],
           "ids": [
            "Fagleg, vitskapleg og teknisk tenesteyting"
           ],
           "legendgroup": "Fagleg, vitskapleg og teknisk tenesteyting",
           "marker": {
            "color": "#19d3f3",
            "size": [
             4700
            ],
            "sizemode": "area",
            "sizeref": 4.32,
            "symbol": "circle"
           },
           "mode": "markers",
           "name": "Fagleg, vitskapleg og teknisk tenesteyting",
           "orientation": "v",
           "showlegend": true,
           "type": "scatter",
           "x": [
            3.3
           ],
           "xaxis": "x",
           "y": [
            159
           ],
           "yaxis": "y"
          },
          {
           "hovertemplate": "<b>%{hovertext}</b><br><br>næring (SN2007)=Forretningsmessig tenesteyting<br>kvartal=2018K2<br>Ledige stillingar (prosent)=%{x}<br>Sysselsatte=%{y}<br>Ledige stillingar=%{marker.size}<extra></extra>",
           "hovertext": [
            "Forretningsmessig tenesteyting"
           ],
           "ids": [
            "Forretningsmessig tenesteyting"
           ],
           "legendgroup": "Forretningsmessig tenesteyting",
           "marker": {
            "color": "#FF6692",
            "size": [
             8000
            ],
            "sizemode": "area",
            "sizeref": 4.32,
            "symbol": "circle"
           },
           "mode": "markers",
           "name": "Forretningsmessig tenesteyting",
           "orientation": "v",
           "showlegend": true,
           "type": "scatter",
           "x": [
            4.9
           ],
           "xaxis": "x",
           "y": [
            130
           ],
           "yaxis": "y"
          },
          {
           "hovertemplate": "<b>%{hovertext}</b><br><br>næring (SN2007)=Offentleg administrasjon og forsvar, og trygdeordningar underordna offentleg forvalting<br>kvartal=2018K2<br>Ledige stillingar (prosent)=%{x}<br>Sysselsatte=%{y}<br>Ledige stillingar=%{marker.size}<extra></extra>",
           "hovertext": [
            "Offentleg administrasjon og forsvar, og trygdeordningar underordna offentleg forvalting"
           ],
           "ids": [
            "Offentleg administrasjon og forsvar, og trygdeordningar underordna offentleg forvalting"
           ],
           "legendgroup": "Offentleg administrasjon og forsvar, og trygdeordningar underordna offentleg forvalting",
           "marker": {
            "color": "#B6E880",
            "size": [
             4100
            ],
            "sizemode": "area",
            "sizeref": 4.32,
            "symbol": "circle"
           },
           "mode": "markers",
           "name": "Offentleg administrasjon og forsvar, og trygdeordningar underordna offentleg forvalting",
           "orientation": "v",
           "showlegend": true,
           "type": "scatter",
           "x": [
            2.2
           ],
           "xaxis": "x",
           "y": [
            186
           ],
           "yaxis": "y"
          },
          {
           "hovertemplate": "<b>%{hovertext}</b><br><br>næring (SN2007)=Undervisning<br>kvartal=2018K2<br>Ledige stillingar (prosent)=%{x}<br>Sysselsatte=%{y}<br>Ledige stillingar=%{marker.size}<extra></extra>",
           "hovertext": [
            "Undervisning"
           ],
           "ids": [
            "Undervisning"
           ],
           "legendgroup": "Undervisning",
           "marker": {
            "color": "#FF97FF",
            "size": [
             8000
            ],
            "sizemode": "area",
            "sizeref": 4.32,
            "symbol": "circle"
           },
           "mode": "markers",
           "name": "Undervisning",
           "orientation": "v",
           "showlegend": true,
           "type": "scatter",
           "x": [
            3.1
           ],
           "xaxis": "x",
           "y": [
            222
           ],
           "yaxis": "y"
          },
          {
           "hovertemplate": "<b>%{hovertext}</b><br><br>næring (SN2007)=Kulturell verksemd, underhaldning og fritidsaktivitetar<br>kvartal=2018K2<br>Ledige stillingar (prosent)=%{x}<br>Sysselsatte=%{y}<br>Ledige stillingar=%{marker.size}<extra></extra>",
           "hovertext": [
            "Kulturell verksemd, underhaldning og fritidsaktivitetar"
           ],
           "ids": [
            "Kulturell verksemd, underhaldning og fritidsaktivitetar"
           ],
           "legendgroup": "Kulturell verksemd, underhaldning og fritidsaktivitetar",
           "marker": {
            "color": "#FECB52",
            "size": [
             1200
            ],
            "sizemode": "area",
            "sizeref": 4.32,
            "symbol": "circle"
           },
           "mode": "markers",
           "name": "Kulturell verksemd, underhaldning og fritidsaktivitetar",
           "orientation": "v",
           "showlegend": true,
           "type": "scatter",
           "x": [
            2.3
           ],
           "xaxis": "x",
           "y": [
            61
           ],
           "yaxis": "y"
          }
         ],
         "name": "2018K2"
        },
        {
         "data": [
          {
           "hovertemplate": "<b>%{hovertext}</b><br><br>næring (SN2007)=Bergverksdrift og utvinning<br>kvartal=2018K3<br>Ledige stillingar (prosent)=%{x}<br>Sysselsatte=%{y}<br>Ledige stillingar=%{marker.size}<extra></extra>",
           "hovertext": [
            "Bergverksdrift og utvinning"
           ],
           "ids": [
            "Bergverksdrift og utvinning"
           ],
           "legendgroup": "Bergverksdrift og utvinning",
           "marker": {
            "color": "#636efa",
            "size": [
             1400
            ],
            "sizemode": "area",
            "sizeref": 4.32,
            "symbol": "circle"
           },
           "mode": "markers",
           "name": "Bergverksdrift og utvinning",
           "orientation": "v",
           "showlegend": true,
           "type": "scatter",
           "x": [
            2.5
           ],
           "xaxis": "x",
           "y": [
            64
           ],
           "yaxis": "y"
          },
          {
           "hovertemplate": "<b>%{hovertext}</b><br><br>næring (SN2007)=Byggje- og anleggsverksemd<br>kvartal=2018K3<br>Ledige stillingar (prosent)=%{x}<br>Sysselsatte=%{y}<br>Ledige stillingar=%{marker.size}<extra></extra>",
           "hovertext": [
            "Byggje- og anleggsverksemd"
           ],
           "ids": [
            "Byggje- og anleggsverksemd"
           ],
           "legendgroup": "Byggje- og anleggsverksemd",
           "marker": {
            "color": "#EF553B",
            "size": [
             5400
            ],
            "sizemode": "area",
            "sizeref": 4.32,
            "symbol": "circle"
           },
           "mode": "markers",
           "name": "Byggje- og anleggsverksemd",
           "orientation": "v",
           "showlegend": true,
           "type": "scatter",
           "x": [
            2.2
           ],
           "xaxis": "x",
           "y": [
            224
           ],
           "yaxis": "y"
          },
          {
           "hovertemplate": "<b>%{hovertext}</b><br><br>næring (SN2007)=Informasjon og kommunikasjon<br>kvartal=2018K3<br>Ledige stillingar (prosent)=%{x}<br>Sysselsatte=%{y}<br>Ledige stillingar=%{marker.size}<extra></extra>",
           "hovertext": [
            "Informasjon og kommunikasjon"
           ],
           "ids": [
            "Informasjon og kommunikasjon"
           ],
           "legendgroup": "Informasjon og kommunikasjon",
           "marker": {
            "color": "#00cc96",
            "size": [
             4000
            ],
            "sizemode": "area",
            "sizeref": 4.32,
            "symbol": "circle"
           },
           "mode": "markers",
           "name": "Informasjon og kommunikasjon",
           "orientation": "v",
           "showlegend": true,
           "type": "scatter",
           "x": [
            4.1
           ],
           "xaxis": "x",
           "y": [
            105
           ],
           "yaxis": "y"
          },
          {
           "hovertemplate": "<b>%{hovertext}</b><br><br>næring (SN2007)=Finansierings- og forsikringsverksemd<br>kvartal=2018K3<br>Ledige stillingar (prosent)=%{x}<br>Sysselsatte=%{y}<br>Ledige stillingar=%{marker.size}<extra></extra>",
           "hovertext": [
            "Finansierings- og forsikringsverksemd"
           ],
           "ids": [
            "Finansierings- og forsikringsverksemd"
           ],
           "legendgroup": "Finansierings- og forsikringsverksemd",
           "marker": {
            "color": "#ab63fa",
            "size": [
             800
            ],
            "sizemode": "area",
            "sizeref": 4.32,
            "symbol": "circle"
           },
           "mode": "markers",
           "name": "Finansierings- og forsikringsverksemd",
           "orientation": "v",
           "showlegend": true,
           "type": "scatter",
           "x": [
            1.8
           ],
           "xaxis": "x",
           "y": [
            53
           ],
           "yaxis": "y"
          },
          {
           "hovertemplate": "<b>%{hovertext}</b><br><br>næring (SN2007)=Omsetning og drift av fast eigedom<br>kvartal=2018K3<br>Ledige stillingar (prosent)=%{x}<br>Sysselsatte=%{y}<br>Ledige stillingar=%{marker.size}<extra></extra>",
           "hovertext": [
            "Omsetning og drift av fast eigedom"
           ],
           "ids": [
            "Omsetning og drift av fast eigedom"
           ],
           "legendgroup": "Omsetning og drift av fast eigedom",
           "marker": {
            "color": "#FFA15A",
            "size": [
             400
            ],
            "sizemode": "area",
            "sizeref": 4.32,
            "symbol": "circle"
           },
           "mode": "markers",
           "name": "Omsetning og drift av fast eigedom",
           "orientation": "v",
           "showlegend": true,
           "type": "scatter",
           "x": [
            1.4
           ],
           "xaxis": "x",
           "y": [
            26
           ],
           "yaxis": "y"
          },
          {
           "hovertemplate": "<b>%{hovertext}</b><br><br>næring (SN2007)=Fagleg, vitskapleg og teknisk tenesteyting<br>kvartal=2018K3<br>Ledige stillingar (prosent)=%{x}<br>Sysselsatte=%{y}<br>Ledige stillingar=%{marker.size}<extra></extra>",
           "hovertext": [
            "Fagleg, vitskapleg og teknisk tenesteyting"
           ],
           "ids": [
            "Fagleg, vitskapleg og teknisk tenesteyting"
           ],
           "legendgroup": "Fagleg, vitskapleg og teknisk tenesteyting",
           "marker": {
            "color": "#19d3f3",
            "size": [
             4200
            ],
            "sizemode": "area",
            "sizeref": 4.32,
            "symbol": "circle"
           },
           "mode": "markers",
           "name": "Fagleg, vitskapleg og teknisk tenesteyting",
           "orientation": "v",
           "showlegend": true,
           "type": "scatter",
           "x": [
            2.9
           ],
           "xaxis": "x",
           "y": [
            160
           ],
           "yaxis": "y"
          },
          {
           "hovertemplate": "<b>%{hovertext}</b><br><br>næring (SN2007)=Forretningsmessig tenesteyting<br>kvartal=2018K3<br>Ledige stillingar (prosent)=%{x}<br>Sysselsatte=%{y}<br>Ledige stillingar=%{marker.size}<extra></extra>",
           "hovertext": [
            "Forretningsmessig tenesteyting"
           ],
           "ids": [
            "Forretningsmessig tenesteyting"
           ],
           "legendgroup": "Forretningsmessig tenesteyting",
           "marker": {
            "color": "#FF6692",
            "size": [
             6700
            ],
            "sizemode": "area",
            "sizeref": 4.32,
            "symbol": "circle"
           },
           "mode": "markers",
           "name": "Forretningsmessig tenesteyting",
           "orientation": "v",
           "showlegend": true,
           "type": "scatter",
           "x": [
            3.9
           ],
           "xaxis": "x",
           "y": [
            131
           ],
           "yaxis": "y"
          },
          {
           "hovertemplate": "<b>%{hovertext}</b><br><br>næring (SN2007)=Offentleg administrasjon og forsvar, og trygdeordningar underordna offentleg forvalting<br>kvartal=2018K3<br>Ledige stillingar (prosent)=%{x}<br>Sysselsatte=%{y}<br>Ledige stillingar=%{marker.size}<extra></extra>",
           "hovertext": [
            "Offentleg administrasjon og forsvar, og trygdeordningar underordna offentleg forvalting"
           ],
           "ids": [
            "Offentleg administrasjon og forsvar, og trygdeordningar underordna offentleg forvalting"
           ],
           "legendgroup": "Offentleg administrasjon og forsvar, og trygdeordningar underordna offentleg forvalting",
           "marker": {
            "color": "#B6E880",
            "size": [
             3600
            ],
            "sizemode": "area",
            "sizeref": 4.32,
            "symbol": "circle"
           },
           "mode": "markers",
           "name": "Offentleg administrasjon og forsvar, og trygdeordningar underordna offentleg forvalting",
           "orientation": "v",
           "showlegend": true,
           "type": "scatter",
           "x": [
            1.9
           ],
           "xaxis": "x",
           "y": [
            183
           ],
           "yaxis": "y"
          },
          {
           "hovertemplate": "<b>%{hovertext}</b><br><br>næring (SN2007)=Undervisning<br>kvartal=2018K3<br>Ledige stillingar (prosent)=%{x}<br>Sysselsatte=%{y}<br>Ledige stillingar=%{marker.size}<extra></extra>",
           "hovertext": [
            "Undervisning"
           ],
           "ids": [
            "Undervisning"
           ],
           "legendgroup": "Undervisning",
           "marker": {
            "color": "#FF97FF",
            "size": [
             2800
            ],
            "sizemode": "area",
            "sizeref": 4.32,
            "symbol": "circle"
           },
           "mode": "markers",
           "name": "Undervisning",
           "orientation": "v",
           "showlegend": true,
           "type": "scatter",
           "x": [
            1.2
           ],
           "xaxis": "x",
           "y": [
            218
           ],
           "yaxis": "y"
          },
          {
           "hovertemplate": "<b>%{hovertext}</b><br><br>næring (SN2007)=Kulturell verksemd, underhaldning og fritidsaktivitetar<br>kvartal=2018K3<br>Ledige stillingar (prosent)=%{x}<br>Sysselsatte=%{y}<br>Ledige stillingar=%{marker.size}<extra></extra>",
           "hovertext": [
            "Kulturell verksemd, underhaldning og fritidsaktivitetar"
           ],
           "ids": [
            "Kulturell verksemd, underhaldning og fritidsaktivitetar"
           ],
           "legendgroup": "Kulturell verksemd, underhaldning og fritidsaktivitetar",
           "marker": {
            "color": "#FECB52",
            "size": [
             800
            ],
            "sizemode": "area",
            "sizeref": 4.32,
            "symbol": "circle"
           },
           "mode": "markers",
           "name": "Kulturell verksemd, underhaldning og fritidsaktivitetar",
           "orientation": "v",
           "showlegend": true,
           "type": "scatter",
           "x": [
            1.6
           ],
           "xaxis": "x",
           "y": [
            61
           ],
           "yaxis": "y"
          }
         ],
         "name": "2018K3"
        },
        {
         "data": [
          {
           "hovertemplate": "<b>%{hovertext}</b><br><br>næring (SN2007)=Bergverksdrift og utvinning<br>kvartal=2018K4<br>Ledige stillingar (prosent)=%{x}<br>Sysselsatte=%{y}<br>Ledige stillingar=%{marker.size}<extra></extra>",
           "hovertext": [
            "Bergverksdrift og utvinning"
           ],
           "ids": [
            "Bergverksdrift og utvinning"
           ],
           "legendgroup": "Bergverksdrift og utvinning",
           "marker": {
            "color": "#636efa",
            "size": [
             1800
            ],
            "sizemode": "area",
            "sizeref": 4.32,
            "symbol": "circle"
           },
           "mode": "markers",
           "name": "Bergverksdrift og utvinning",
           "orientation": "v",
           "showlegend": true,
           "type": "scatter",
           "x": [
            3
           ],
           "xaxis": "x",
           "y": [
            62
           ],
           "yaxis": "y"
          },
          {
           "hovertemplate": "<b>%{hovertext}</b><br><br>næring (SN2007)=Byggje- og anleggsverksemd<br>kvartal=2018K4<br>Ledige stillingar (prosent)=%{x}<br>Sysselsatte=%{y}<br>Ledige stillingar=%{marker.size}<extra></extra>",
           "hovertext": [
            "Byggje- og anleggsverksemd"
           ],
           "ids": [
            "Byggje- og anleggsverksemd"
           ],
           "legendgroup": "Byggje- og anleggsverksemd",
           "marker": {
            "color": "#EF553B",
            "size": [
             4900
            ],
            "sizemode": "area",
            "sizeref": 4.32,
            "symbol": "circle"
           },
           "mode": "markers",
           "name": "Byggje- og anleggsverksemd",
           "orientation": "v",
           "showlegend": true,
           "type": "scatter",
           "x": [
            2
           ],
           "xaxis": "x",
           "y": [
            220
           ],
           "yaxis": "y"
          },
          {
           "hovertemplate": "<b>%{hovertext}</b><br><br>næring (SN2007)=Informasjon og kommunikasjon<br>kvartal=2018K4<br>Ledige stillingar (prosent)=%{x}<br>Sysselsatte=%{y}<br>Ledige stillingar=%{marker.size}<extra></extra>",
           "hovertext": [
            "Informasjon og kommunikasjon"
           ],
           "ids": [
            "Informasjon og kommunikasjon"
           ],
           "legendgroup": "Informasjon og kommunikasjon",
           "marker": {
            "color": "#00cc96",
            "size": [
             4000
            ],
            "sizemode": "area",
            "sizeref": 4.32,
            "symbol": "circle"
           },
           "mode": "markers",
           "name": "Informasjon og kommunikasjon",
           "orientation": "v",
           "showlegend": true,
           "type": "scatter",
           "x": [
            4
           ],
           "xaxis": "x",
           "y": [
            104
           ],
           "yaxis": "y"
          },
          {
           "hovertemplate": "<b>%{hovertext}</b><br><br>næring (SN2007)=Finansierings- og forsikringsverksemd<br>kvartal=2018K4<br>Ledige stillingar (prosent)=%{x}<br>Sysselsatte=%{y}<br>Ledige stillingar=%{marker.size}<extra></extra>",
           "hovertext": [
            "Finansierings- og forsikringsverksemd"
           ],
           "ids": [
            "Finansierings- og forsikringsverksemd"
           ],
           "legendgroup": "Finansierings- og forsikringsverksemd",
           "marker": {
            "color": "#ab63fa",
            "size": [
             1000
            ],
            "sizemode": "area",
            "sizeref": 4.32,
            "symbol": "circle"
           },
           "mode": "markers",
           "name": "Finansierings- og forsikringsverksemd",
           "orientation": "v",
           "showlegend": true,
           "type": "scatter",
           "x": [
            2.2
           ],
           "xaxis": "x",
           "y": [
            54
           ],
           "yaxis": "y"
          },
          {
           "hovertemplate": "<b>%{hovertext}</b><br><br>næring (SN2007)=Omsetning og drift av fast eigedom<br>kvartal=2018K4<br>Ledige stillingar (prosent)=%{x}<br>Sysselsatte=%{y}<br>Ledige stillingar=%{marker.size}<extra></extra>",
           "hovertext": [
            "Omsetning og drift av fast eigedom"
           ],
           "ids": [
            "Omsetning og drift av fast eigedom"
           ],
           "legendgroup": "Omsetning og drift av fast eigedom",
           "marker": {
            "color": "#FFA15A",
            "size": [
             500
            ],
            "sizemode": "area",
            "sizeref": 4.32,
            "symbol": "circle"
           },
           "mode": "markers",
           "name": "Omsetning og drift av fast eigedom",
           "orientation": "v",
           "showlegend": true,
           "type": "scatter",
           "x": [
            1.9
           ],
           "xaxis": "x",
           "y": [
            27
           ],
           "yaxis": "y"
          },
          {
           "hovertemplate": "<b>%{hovertext}</b><br><br>næring (SN2007)=Fagleg, vitskapleg og teknisk tenesteyting<br>kvartal=2018K4<br>Ledige stillingar (prosent)=%{x}<br>Sysselsatte=%{y}<br>Ledige stillingar=%{marker.size}<extra></extra>",
           "hovertext": [
            "Fagleg, vitskapleg og teknisk tenesteyting"
           ],
           "ids": [
            "Fagleg, vitskapleg og teknisk tenesteyting"
           ],
           "legendgroup": "Fagleg, vitskapleg og teknisk tenesteyting",
           "marker": {
            "color": "#19d3f3",
            "size": [
             4000
            ],
            "sizemode": "area",
            "sizeref": 4.32,
            "symbol": "circle"
           },
           "mode": "markers",
           "name": "Fagleg, vitskapleg og teknisk tenesteyting",
           "orientation": "v",
           "showlegend": true,
           "type": "scatter",
           "x": [
            2.7
           ],
           "xaxis": "x",
           "y": [
            161
           ],
           "yaxis": "y"
          },
          {
           "hovertemplate": "<b>%{hovertext}</b><br><br>næring (SN2007)=Forretningsmessig tenesteyting<br>kvartal=2018K4<br>Ledige stillingar (prosent)=%{x}<br>Sysselsatte=%{y}<br>Ledige stillingar=%{marker.size}<extra></extra>",
           "hovertext": [
            "Forretningsmessig tenesteyting"
           ],
           "ids": [
            "Forretningsmessig tenesteyting"
           ],
           "legendgroup": "Forretningsmessig tenesteyting",
           "marker": {
            "color": "#FF6692",
            "size": [
             5800
            ],
            "sizemode": "area",
            "sizeref": 4.32,
            "symbol": "circle"
           },
           "mode": "markers",
           "name": "Forretningsmessig tenesteyting",
           "orientation": "v",
           "showlegend": true,
           "type": "scatter",
           "x": [
            3.5
           ],
           "xaxis": "x",
           "y": [
            138
           ],
           "yaxis": "y"
          },
          {
           "hovertemplate": "<b>%{hovertext}</b><br><br>næring (SN2007)=Offentleg administrasjon og forsvar, og trygdeordningar underordna offentleg forvalting<br>kvartal=2018K4<br>Ledige stillingar (prosent)=%{x}<br>Sysselsatte=%{y}<br>Ledige stillingar=%{marker.size}<extra></extra>",
           "hovertext": [
            "Offentleg administrasjon og forsvar, og trygdeordningar underordna offentleg forvalting"
           ],
           "ids": [
            "Offentleg administrasjon og forsvar, og trygdeordningar underordna offentleg forvalting"
           ],
           "legendgroup": "Offentleg administrasjon og forsvar, og trygdeordningar underordna offentleg forvalting",
           "marker": {
            "color": "#B6E880",
            "size": [
             3700
            ],
            "sizemode": "area",
            "sizeref": 4.32,
            "symbol": "circle"
           },
           "mode": "markers",
           "name": "Offentleg administrasjon og forsvar, og trygdeordningar underordna offentleg forvalting",
           "orientation": "v",
           "showlegend": true,
           "type": "scatter",
           "x": [
            1.9
           ],
           "xaxis": "x",
           "y": [
            177
           ],
           "yaxis": "y"
          },
          {
           "hovertemplate": "<b>%{hovertext}</b><br><br>næring (SN2007)=Undervisning<br>kvartal=2018K4<br>Ledige stillingar (prosent)=%{x}<br>Sysselsatte=%{y}<br>Ledige stillingar=%{marker.size}<extra></extra>",
           "hovertext": [
            "Undervisning"
           ],
           "ids": [
            "Undervisning"
           ],
           "legendgroup": "Undervisning",
           "marker": {
            "color": "#FF97FF",
            "size": [
             3100
            ],
            "sizemode": "area",
            "sizeref": 4.32,
            "symbol": "circle"
           },
           "mode": "markers",
           "name": "Undervisning",
           "orientation": "v",
           "showlegend": true,
           "type": "scatter",
           "x": [
            1.2
           ],
           "xaxis": "x",
           "y": [
            222
           ],
           "yaxis": "y"
          },
          {
           "hovertemplate": "<b>%{hovertext}</b><br><br>næring (SN2007)=Kulturell verksemd, underhaldning og fritidsaktivitetar<br>kvartal=2018K4<br>Ledige stillingar (prosent)=%{x}<br>Sysselsatte=%{y}<br>Ledige stillingar=%{marker.size}<extra></extra>",
           "hovertext": [
            "Kulturell verksemd, underhaldning og fritidsaktivitetar"
           ],
           "ids": [
            "Kulturell verksemd, underhaldning og fritidsaktivitetar"
           ],
           "legendgroup": "Kulturell verksemd, underhaldning og fritidsaktivitetar",
           "marker": {
            "color": "#FECB52",
            "size": [
             600
            ],
            "sizemode": "area",
            "sizeref": 4.32,
            "symbol": "circle"
           },
           "mode": "markers",
           "name": "Kulturell verksemd, underhaldning og fritidsaktivitetar",
           "orientation": "v",
           "showlegend": true,
           "type": "scatter",
           "x": [
            1.1
           ],
           "xaxis": "x",
           "y": [
            61
           ],
           "yaxis": "y"
          }
         ],
         "name": "2018K4"
        },
        {
         "data": [
          {
           "hovertemplate": "<b>%{hovertext}</b><br><br>næring (SN2007)=Bergverksdrift og utvinning<br>kvartal=2019K1<br>Ledige stillingar (prosent)=%{x}<br>Sysselsatte=%{y}<br>Ledige stillingar=%{marker.size}<extra></extra>",
           "hovertext": [
            "Bergverksdrift og utvinning"
           ],
           "ids": [
            "Bergverksdrift og utvinning"
           ],
           "legendgroup": "Bergverksdrift og utvinning",
           "marker": {
            "color": "#636efa",
            "size": [
             1500
            ],
            "sizemode": "area",
            "sizeref": 4.32,
            "symbol": "circle"
           },
           "mode": "markers",
           "name": "Bergverksdrift og utvinning",
           "orientation": "v",
           "showlegend": true,
           "type": "scatter",
           "x": [
            2.5
           ],
           "xaxis": "x",
           "y": [
            61
           ],
           "yaxis": "y"
          },
          {
           "hovertemplate": "<b>%{hovertext}</b><br><br>næring (SN2007)=Byggje- og anleggsverksemd<br>kvartal=2019K1<br>Ledige stillingar (prosent)=%{x}<br>Sysselsatte=%{y}<br>Ledige stillingar=%{marker.size}<extra></extra>",
           "hovertext": [
            "Byggje- og anleggsverksemd"
           ],
           "ids": [
            "Byggje- og anleggsverksemd"
           ],
           "legendgroup": "Byggje- og anleggsverksemd",
           "marker": {
            "color": "#EF553B",
            "size": [
             5400
            ],
            "sizemode": "area",
            "sizeref": 4.32,
            "symbol": "circle"
           },
           "mode": "markers",
           "name": "Byggje- og anleggsverksemd",
           "orientation": "v",
           "showlegend": true,
           "type": "scatter",
           "x": [
            2.3
           ],
           "xaxis": "x",
           "y": [
            221
           ],
           "yaxis": "y"
          },
          {
           "hovertemplate": "<b>%{hovertext}</b><br><br>næring (SN2007)=Informasjon og kommunikasjon<br>kvartal=2019K1<br>Ledige stillingar (prosent)=%{x}<br>Sysselsatte=%{y}<br>Ledige stillingar=%{marker.size}<extra></extra>",
           "hovertext": [
            "Informasjon og kommunikasjon"
           ],
           "ids": [
            "Informasjon og kommunikasjon"
           ],
           "legendgroup": "Informasjon og kommunikasjon",
           "marker": {
            "color": "#00cc96",
            "size": [
             4700
            ],
            "sizemode": "area",
            "sizeref": 4.32,
            "symbol": "circle"
           },
           "mode": "markers",
           "name": "Informasjon og kommunikasjon",
           "orientation": "v",
           "showlegend": true,
           "type": "scatter",
           "x": [
            4.8
           ],
           "xaxis": "x",
           "y": [
            104
           ],
           "yaxis": "y"
          },
          {
           "hovertemplate": "<b>%{hovertext}</b><br><br>næring (SN2007)=Finansierings- og forsikringsverksemd<br>kvartal=2019K1<br>Ledige stillingar (prosent)=%{x}<br>Sysselsatte=%{y}<br>Ledige stillingar=%{marker.size}<extra></extra>",
           "hovertext": [
            "Finansierings- og forsikringsverksemd"
           ],
           "ids": [
            "Finansierings- og forsikringsverksemd"
           ],
           "legendgroup": "Finansierings- og forsikringsverksemd",
           "marker": {
            "color": "#ab63fa",
            "size": [
             800
            ],
            "sizemode": "area",
            "sizeref": 4.32,
            "symbol": "circle"
           },
           "mode": "markers",
           "name": "Finansierings- og forsikringsverksemd",
           "orientation": "v",
           "showlegend": true,
           "type": "scatter",
           "x": [
            1.7
           ],
           "xaxis": "x",
           "y": [
            53
           ],
           "yaxis": "y"
          },
          {
           "hovertemplate": "<b>%{hovertext}</b><br><br>næring (SN2007)=Omsetning og drift av fast eigedom<br>kvartal=2019K1<br>Ledige stillingar (prosent)=%{x}<br>Sysselsatte=%{y}<br>Ledige stillingar=%{marker.size}<extra></extra>",
           "hovertext": [
            "Omsetning og drift av fast eigedom"
           ],
           "ids": [
            "Omsetning og drift av fast eigedom"
           ],
           "legendgroup": "Omsetning og drift av fast eigedom",
           "marker": {
            "color": "#FFA15A",
            "size": [
             600
            ],
            "sizemode": "area",
            "sizeref": 4.32,
            "symbol": "circle"
           },
           "mode": "markers",
           "name": "Omsetning og drift av fast eigedom",
           "orientation": "v",
           "showlegend": true,
           "type": "scatter",
           "x": [
            2.2
           ],
           "xaxis": "x",
           "y": [
            28
           ],
           "yaxis": "y"
          },
          {
           "hovertemplate": "<b>%{hovertext}</b><br><br>næring (SN2007)=Fagleg, vitskapleg og teknisk tenesteyting<br>kvartal=2019K1<br>Ledige stillingar (prosent)=%{x}<br>Sysselsatte=%{y}<br>Ledige stillingar=%{marker.size}<extra></extra>",
           "hovertext": [
            "Fagleg, vitskapleg og teknisk tenesteyting"
           ],
           "ids": [
            "Fagleg, vitskapleg og teknisk tenesteyting"
           ],
           "legendgroup": "Fagleg, vitskapleg og teknisk tenesteyting",
           "marker": {
            "color": "#19d3f3",
            "size": [
             4700
            ],
            "sizemode": "area",
            "sizeref": 4.32,
            "symbol": "circle"
           },
           "mode": "markers",
           "name": "Fagleg, vitskapleg og teknisk tenesteyting",
           "orientation": "v",
           "showlegend": true,
           "type": "scatter",
           "x": [
            3.2
           ],
           "xaxis": "x",
           "y": [
            158
           ],
           "yaxis": "y"
          },
          {
           "hovertemplate": "<b>%{hovertext}</b><br><br>næring (SN2007)=Forretningsmessig tenesteyting<br>kvartal=2019K1<br>Ledige stillingar (prosent)=%{x}<br>Sysselsatte=%{y}<br>Ledige stillingar=%{marker.size}<extra></extra>",
           "hovertext": [
            "Forretningsmessig tenesteyting"
           ],
           "ids": [
            "Forretningsmessig tenesteyting"
           ],
           "legendgroup": "Forretningsmessig tenesteyting",
           "marker": {
            "color": "#FF6692",
            "size": [
             8800
            ],
            "sizemode": "area",
            "sizeref": 4.32,
            "symbol": "circle"
           },
           "mode": "markers",
           "name": "Forretningsmessig tenesteyting",
           "orientation": "v",
           "showlegend": true,
           "type": "scatter",
           "x": [
            5.4
           ],
           "xaxis": "x",
           "y": [
            129
           ],
           "yaxis": "y"
          },
          {
           "hovertemplate": "<b>%{hovertext}</b><br><br>næring (SN2007)=Offentleg administrasjon og forsvar, og trygdeordningar underordna offentleg forvalting<br>kvartal=2019K1<br>Ledige stillingar (prosent)=%{x}<br>Sysselsatte=%{y}<br>Ledige stillingar=%{marker.size}<extra></extra>",
           "hovertext": [
            "Offentleg administrasjon og forsvar, og trygdeordningar underordna offentleg forvalting"
           ],
           "ids": [
            "Offentleg administrasjon og forsvar, og trygdeordningar underordna offentleg forvalting"
           ],
           "legendgroup": "Offentleg administrasjon og forsvar, og trygdeordningar underordna offentleg forvalting",
           "marker": {
            "color": "#B6E880",
            "size": [
             4100
            ],
            "sizemode": "area",
            "sizeref": 4.32,
            "symbol": "circle"
           },
           "mode": "markers",
           "name": "Offentleg administrasjon og forsvar, og trygdeordningar underordna offentleg forvalting",
           "orientation": "v",
           "showlegend": true,
           "type": "scatter",
           "x": [
            2.2
           ],
           "xaxis": "x",
           "y": [
            177
           ],
           "yaxis": "y"
          },
          {
           "hovertemplate": "<b>%{hovertext}</b><br><br>næring (SN2007)=Undervisning<br>kvartal=2019K1<br>Ledige stillingar (prosent)=%{x}<br>Sysselsatte=%{y}<br>Ledige stillingar=%{marker.size}<extra></extra>",
           "hovertext": [
            "Undervisning"
           ],
           "ids": [
            "Undervisning"
           ],
           "legendgroup": "Undervisning",
           "marker": {
            "color": "#FF97FF",
            "size": [
             4900
            ],
            "sizemode": "area",
            "sizeref": 4.32,
            "symbol": "circle"
           },
           "mode": "markers",
           "name": "Undervisning",
           "orientation": "v",
           "showlegend": true,
           "type": "scatter",
           "x": [
            1.9
           ],
           "xaxis": "x",
           "y": [
            224
           ],
           "yaxis": "y"
          },
          {
           "hovertemplate": "<b>%{hovertext}</b><br><br>næring (SN2007)=Kulturell verksemd, underhaldning og fritidsaktivitetar<br>kvartal=2019K1<br>Ledige stillingar (prosent)=%{x}<br>Sysselsatte=%{y}<br>Ledige stillingar=%{marker.size}<extra></extra>",
           "hovertext": [
            "Kulturell verksemd, underhaldning og fritidsaktivitetar"
           ],
           "ids": [
            "Kulturell verksemd, underhaldning og fritidsaktivitetar"
           ],
           "legendgroup": "Kulturell verksemd, underhaldning og fritidsaktivitetar",
           "marker": {
            "color": "#FECB52",
            "size": [
             1400
            ],
            "sizemode": "area",
            "sizeref": 4.32,
            "symbol": "circle"
           },
           "mode": "markers",
           "name": "Kulturell verksemd, underhaldning og fritidsaktivitetar",
           "orientation": "v",
           "showlegend": true,
           "type": "scatter",
           "x": [
            2.6
           ],
           "xaxis": "x",
           "y": [
            66
           ],
           "yaxis": "y"
          }
         ],
         "name": "2019K1"
        },
        {
         "data": [
          {
           "hovertemplate": "<b>%{hovertext}</b><br><br>næring (SN2007)=Bergverksdrift og utvinning<br>kvartal=2019K2<br>Ledige stillingar (prosent)=%{x}<br>Sysselsatte=%{y}<br>Ledige stillingar=%{marker.size}<extra></extra>",
           "hovertext": [
            "Bergverksdrift og utvinning"
           ],
           "ids": [
            "Bergverksdrift og utvinning"
           ],
           "legendgroup": "Bergverksdrift og utvinning",
           "marker": {
            "color": "#636efa",
            "size": [
             1500
            ],
            "sizemode": "area",
            "sizeref": 4.32,
            "symbol": "circle"
           },
           "mode": "markers",
           "name": "Bergverksdrift og utvinning",
           "orientation": "v",
           "showlegend": true,
           "type": "scatter",
           "x": [
            2.5
           ],
           "xaxis": "x",
           "y": [
            61
           ],
           "yaxis": "y"
          },
          {
           "hovertemplate": "<b>%{hovertext}</b><br><br>næring (SN2007)=Byggje- og anleggsverksemd<br>kvartal=2019K2<br>Ledige stillingar (prosent)=%{x}<br>Sysselsatte=%{y}<br>Ledige stillingar=%{marker.size}<extra></extra>",
           "hovertext": [
            "Byggje- og anleggsverksemd"
           ],
           "ids": [
            "Byggje- og anleggsverksemd"
           ],
           "legendgroup": "Byggje- og anleggsverksemd",
           "marker": {
            "color": "#EF553B",
            "size": [
             6200
            ],
            "sizemode": "area",
            "sizeref": 4.32,
            "symbol": "circle"
           },
           "mode": "markers",
           "name": "Byggje- og anleggsverksemd",
           "orientation": "v",
           "showlegend": true,
           "type": "scatter",
           "x": [
            2.5
           ],
           "xaxis": "x",
           "y": [
            222
           ],
           "yaxis": "y"
          },
          {
           "hovertemplate": "<b>%{hovertext}</b><br><br>næring (SN2007)=Informasjon og kommunikasjon<br>kvartal=2019K2<br>Ledige stillingar (prosent)=%{x}<br>Sysselsatte=%{y}<br>Ledige stillingar=%{marker.size}<extra></extra>",
           "hovertext": [
            "Informasjon og kommunikasjon"
           ],
           "ids": [
            "Informasjon og kommunikasjon"
           ],
           "legendgroup": "Informasjon og kommunikasjon",
           "marker": {
            "color": "#00cc96",
            "size": [
             4800
            ],
            "sizemode": "area",
            "sizeref": 4.32,
            "symbol": "circle"
           },
           "mode": "markers",
           "name": "Informasjon og kommunikasjon",
           "orientation": "v",
           "showlegend": true,
           "type": "scatter",
           "x": [
            4.7
           ],
           "xaxis": "x",
           "y": [
            105
           ],
           "yaxis": "y"
          },
          {
           "hovertemplate": "<b>%{hovertext}</b><br><br>næring (SN2007)=Finansierings- og forsikringsverksemd<br>kvartal=2019K2<br>Ledige stillingar (prosent)=%{x}<br>Sysselsatte=%{y}<br>Ledige stillingar=%{marker.size}<extra></extra>",
           "hovertext": [
            "Finansierings- og forsikringsverksemd"
           ],
           "ids": [
            "Finansierings- og forsikringsverksemd"
           ],
           "legendgroup": "Finansierings- og forsikringsverksemd",
           "marker": {
            "color": "#ab63fa",
            "size": [
             1000
            ],
            "sizemode": "area",
            "sizeref": 4.32,
            "symbol": "circle"
           },
           "mode": "markers",
           "name": "Finansierings- og forsikringsverksemd",
           "orientation": "v",
           "showlegend": true,
           "type": "scatter",
           "x": [
            2.1
           ],
           "xaxis": "x",
           "y": [
            50
           ],
           "yaxis": "y"
          },
          {
           "hovertemplate": "<b>%{hovertext}</b><br><br>næring (SN2007)=Omsetning og drift av fast eigedom<br>kvartal=2019K2<br>Ledige stillingar (prosent)=%{x}<br>Sysselsatte=%{y}<br>Ledige stillingar=%{marker.size}<extra></extra>",
           "hovertext": [
            "Omsetning og drift av fast eigedom"
           ],
           "ids": [
            "Omsetning og drift av fast eigedom"
           ],
           "legendgroup": "Omsetning og drift av fast eigedom",
           "marker": {
            "color": "#FFA15A",
            "size": [
             700
            ],
            "sizemode": "area",
            "sizeref": 4.32,
            "symbol": "circle"
           },
           "mode": "markers",
           "name": "Omsetning og drift av fast eigedom",
           "orientation": "v",
           "showlegend": true,
           "type": "scatter",
           "x": [
            2.7
           ],
           "xaxis": "x",
           "y": [
            27
           ],
           "yaxis": "y"
          },
          {
           "hovertemplate": "<b>%{hovertext}</b><br><br>næring (SN2007)=Fagleg, vitskapleg og teknisk tenesteyting<br>kvartal=2019K2<br>Ledige stillingar (prosent)=%{x}<br>Sysselsatte=%{y}<br>Ledige stillingar=%{marker.size}<extra></extra>",
           "hovertext": [
            "Fagleg, vitskapleg og teknisk tenesteyting"
           ],
           "ids": [
            "Fagleg, vitskapleg og teknisk tenesteyting"
           ],
           "legendgroup": "Fagleg, vitskapleg og teknisk tenesteyting",
           "marker": {
            "color": "#19d3f3",
            "size": [
             5100
            ],
            "sizemode": "area",
            "sizeref": 4.32,
            "symbol": "circle"
           },
           "mode": "markers",
           "name": "Fagleg, vitskapleg og teknisk tenesteyting",
           "orientation": "v",
           "showlegend": true,
           "type": "scatter",
           "x": [
            3.4
           ],
           "xaxis": "x",
           "y": [
            156
           ],
           "yaxis": "y"
          },
          {
           "hovertemplate": "<b>%{hovertext}</b><br><br>næring (SN2007)=Forretningsmessig tenesteyting<br>kvartal=2019K2<br>Ledige stillingar (prosent)=%{x}<br>Sysselsatte=%{y}<br>Ledige stillingar=%{marker.size}<extra></extra>",
           "hovertext": [
            "Forretningsmessig tenesteyting"
           ],
           "ids": [
            "Forretningsmessig tenesteyting"
           ],
           "legendgroup": "Forretningsmessig tenesteyting",
           "marker": {
            "color": "#FF6692",
            "size": [
             8200
            ],
            "sizemode": "area",
            "sizeref": 4.32,
            "symbol": "circle"
           },
           "mode": "markers",
           "name": "Forretningsmessig tenesteyting",
           "orientation": "v",
           "showlegend": true,
           "type": "scatter",
           "x": [
            4.9
           ],
           "xaxis": "x",
           "y": [
            133
           ],
           "yaxis": "y"
          },
          {
           "hovertemplate": "<b>%{hovertext}</b><br><br>næring (SN2007)=Offentleg administrasjon og forsvar, og trygdeordningar underordna offentleg forvalting<br>kvartal=2019K2<br>Ledige stillingar (prosent)=%{x}<br>Sysselsatte=%{y}<br>Ledige stillingar=%{marker.size}<extra></extra>",
           "hovertext": [
            "Offentleg administrasjon og forsvar, og trygdeordningar underordna offentleg forvalting"
           ],
           "ids": [
            "Offentleg administrasjon og forsvar, og trygdeordningar underordna offentleg forvalting"
           ],
           "legendgroup": "Offentleg administrasjon og forsvar, og trygdeordningar underordna offentleg forvalting",
           "marker": {
            "color": "#B6E880",
            "size": [
             4000
            ],
            "sizemode": "area",
            "sizeref": 4.32,
            "symbol": "circle"
           },
           "mode": "markers",
           "name": "Offentleg administrasjon og forsvar, og trygdeordningar underordna offentleg forvalting",
           "orientation": "v",
           "showlegend": true,
           "type": "scatter",
           "x": [
            2.1
           ],
           "xaxis": "x",
           "y": [
            175
           ],
           "yaxis": "y"
          },
          {
           "hovertemplate": "<b>%{hovertext}</b><br><br>næring (SN2007)=Undervisning<br>kvartal=2019K2<br>Ledige stillingar (prosent)=%{x}<br>Sysselsatte=%{y}<br>Ledige stillingar=%{marker.size}<extra></extra>",
           "hovertext": [
            "Undervisning"
           ],
           "ids": [
            "Undervisning"
           ],
           "legendgroup": "Undervisning",
           "marker": {
            "color": "#FF97FF",
            "size": [
             8000
            ],
            "sizemode": "area",
            "sizeref": 4.32,
            "symbol": "circle"
           },
           "mode": "markers",
           "name": "Undervisning",
           "orientation": "v",
           "showlegend": true,
           "type": "scatter",
           "x": [
            3.1
           ],
           "xaxis": "x",
           "y": [
            232
           ],
           "yaxis": "y"
          },
          {
           "hovertemplate": "<b>%{hovertext}</b><br><br>næring (SN2007)=Kulturell verksemd, underhaldning og fritidsaktivitetar<br>kvartal=2019K2<br>Ledige stillingar (prosent)=%{x}<br>Sysselsatte=%{y}<br>Ledige stillingar=%{marker.size}<extra></extra>",
           "hovertext": [
            "Kulturell verksemd, underhaldning og fritidsaktivitetar"
           ],
           "ids": [
            "Kulturell verksemd, underhaldning og fritidsaktivitetar"
           ],
           "legendgroup": "Kulturell verksemd, underhaldning og fritidsaktivitetar",
           "marker": {
            "color": "#FECB52",
            "size": [
             1100
            ],
            "sizemode": "area",
            "sizeref": 4.32,
            "symbol": "circle"
           },
           "mode": "markers",
           "name": "Kulturell verksemd, underhaldning og fritidsaktivitetar",
           "orientation": "v",
           "showlegend": true,
           "type": "scatter",
           "x": [
            2
           ],
           "xaxis": "x",
           "y": [
            60
           ],
           "yaxis": "y"
          }
         ],
         "name": "2019K2"
        },
        {
         "data": [
          {
           "hovertemplate": "<b>%{hovertext}</b><br><br>næring (SN2007)=Bergverksdrift og utvinning<br>kvartal=2019K3<br>Ledige stillingar (prosent)=%{x}<br>Sysselsatte=%{y}<br>Ledige stillingar=%{marker.size}<extra></extra>",
           "hovertext": [
            "Bergverksdrift og utvinning"
           ],
           "ids": [
            "Bergverksdrift og utvinning"
           ],
           "legendgroup": "Bergverksdrift og utvinning",
           "marker": {
            "color": "#636efa",
            "size": [
             1100
            ],
            "sizemode": "area",
            "sizeref": 4.32,
            "symbol": "circle"
           },
           "mode": "markers",
           "name": "Bergverksdrift og utvinning",
           "orientation": "v",
           "showlegend": true,
           "type": "scatter",
           "x": [
            1.8
           ],
           "xaxis": "x",
           "y": [
            60
           ],
           "yaxis": "y"
          },
          {
           "hovertemplate": "<b>%{hovertext}</b><br><br>næring (SN2007)=Byggje- og anleggsverksemd<br>kvartal=2019K3<br>Ledige stillingar (prosent)=%{x}<br>Sysselsatte=%{y}<br>Ledige stillingar=%{marker.size}<extra></extra>",
           "hovertext": [
            "Byggje- og anleggsverksemd"
           ],
           "ids": [
            "Byggje- og anleggsverksemd"
           ],
           "legendgroup": "Byggje- og anleggsverksemd",
           "marker": {
            "color": "#EF553B",
            "size": [
             5300
            ],
            "sizemode": "area",
            "sizeref": 4.32,
            "symbol": "circle"
           },
           "mode": "markers",
           "name": "Byggje- og anleggsverksemd",
           "orientation": "v",
           "showlegend": true,
           "type": "scatter",
           "x": [
            2.1
           ],
           "xaxis": "x",
           "y": [
            232
           ],
           "yaxis": "y"
          },
          {
           "hovertemplate": "<b>%{hovertext}</b><br><br>næring (SN2007)=Informasjon og kommunikasjon<br>kvartal=2019K3<br>Ledige stillingar (prosent)=%{x}<br>Sysselsatte=%{y}<br>Ledige stillingar=%{marker.size}<extra></extra>",
           "hovertext": [
            "Informasjon og kommunikasjon"
           ],
           "ids": [
            "Informasjon og kommunikasjon"
           ],
           "legendgroup": "Informasjon og kommunikasjon",
           "marker": {
            "color": "#00cc96",
            "size": [
             4800
            ],
            "sizemode": "area",
            "sizeref": 4.32,
            "symbol": "circle"
           },
           "mode": "markers",
           "name": "Informasjon og kommunikasjon",
           "orientation": "v",
           "showlegend": true,
           "type": "scatter",
           "x": [
            4.6
           ],
           "xaxis": "x",
           "y": [
            110
           ],
           "yaxis": "y"
          },
          {
           "hovertemplate": "<b>%{hovertext}</b><br><br>næring (SN2007)=Finansierings- og forsikringsverksemd<br>kvartal=2019K3<br>Ledige stillingar (prosent)=%{x}<br>Sysselsatte=%{y}<br>Ledige stillingar=%{marker.size}<extra></extra>",
           "hovertext": [
            "Finansierings- og forsikringsverksemd"
           ],
           "ids": [
            "Finansierings- og forsikringsverksemd"
           ],
           "legendgroup": "Finansierings- og forsikringsverksemd",
           "marker": {
            "color": "#ab63fa",
            "size": [
             800
            ],
            "sizemode": "area",
            "sizeref": 4.32,
            "symbol": "circle"
           },
           "mode": "markers",
           "name": "Finansierings- og forsikringsverksemd",
           "orientation": "v",
           "showlegend": true,
           "type": "scatter",
           "x": [
            1.7
           ],
           "xaxis": "x",
           "y": [
            50
           ],
           "yaxis": "y"
          },
          {
           "hovertemplate": "<b>%{hovertext}</b><br><br>næring (SN2007)=Omsetning og drift av fast eigedom<br>kvartal=2019K3<br>Ledige stillingar (prosent)=%{x}<br>Sysselsatte=%{y}<br>Ledige stillingar=%{marker.size}<extra></extra>",
           "hovertext": [
            "Omsetning og drift av fast eigedom"
           ],
           "ids": [
            "Omsetning og drift av fast eigedom"
           ],
           "legendgroup": "Omsetning og drift av fast eigedom",
           "marker": {
            "color": "#FFA15A",
            "size": [
             700
            ],
            "sizemode": "area",
            "sizeref": 4.32,
            "symbol": "circle"
           },
           "mode": "markers",
           "name": "Omsetning og drift av fast eigedom",
           "orientation": "v",
           "showlegend": true,
           "type": "scatter",
           "x": [
            2.3
           ],
           "xaxis": "x",
           "y": [
            26
           ],
           "yaxis": "y"
          },
          {
           "hovertemplate": "<b>%{hovertext}</b><br><br>næring (SN2007)=Fagleg, vitskapleg og teknisk tenesteyting<br>kvartal=2019K3<br>Ledige stillingar (prosent)=%{x}<br>Sysselsatte=%{y}<br>Ledige stillingar=%{marker.size}<extra></extra>",
           "hovertext": [
            "Fagleg, vitskapleg og teknisk tenesteyting"
           ],
           "ids": [
            "Fagleg, vitskapleg og teknisk tenesteyting"
           ],
           "legendgroup": "Fagleg, vitskapleg og teknisk tenesteyting",
           "marker": {
            "color": "#19d3f3",
            "size": [
             5300
            ],
            "sizemode": "area",
            "sizeref": 4.32,
            "symbol": "circle"
           },
           "mode": "markers",
           "name": "Fagleg, vitskapleg og teknisk tenesteyting",
           "orientation": "v",
           "showlegend": true,
           "type": "scatter",
           "x": [
            3.6
           ],
           "xaxis": "x",
           "y": [
            159
           ],
           "yaxis": "y"
          },
          {
           "hovertemplate": "<b>%{hovertext}</b><br><br>næring (SN2007)=Forretningsmessig tenesteyting<br>kvartal=2019K3<br>Ledige stillingar (prosent)=%{x}<br>Sysselsatte=%{y}<br>Ledige stillingar=%{marker.size}<extra></extra>",
           "hovertext": [
            "Forretningsmessig tenesteyting"
           ],
           "ids": [
            "Forretningsmessig tenesteyting"
           ],
           "legendgroup": "Forretningsmessig tenesteyting",
           "marker": {
            "color": "#FF6692",
            "size": [
             6900
            ],
            "sizemode": "area",
            "sizeref": 4.32,
            "symbol": "circle"
           },
           "mode": "markers",
           "name": "Forretningsmessig tenesteyting",
           "orientation": "v",
           "showlegend": true,
           "type": "scatter",
           "x": [
            4
           ],
           "xaxis": "x",
           "y": [
            140
           ],
           "yaxis": "y"
          },
          {
           "hovertemplate": "<b>%{hovertext}</b><br><br>næring (SN2007)=Offentleg administrasjon og forsvar, og trygdeordningar underordna offentleg forvalting<br>kvartal=2019K3<br>Ledige stillingar (prosent)=%{x}<br>Sysselsatte=%{y}<br>Ledige stillingar=%{marker.size}<extra></extra>",
           "hovertext": [
            "Offentleg administrasjon og forsvar, og trygdeordningar underordna offentleg forvalting"
           ],
           "ids": [
            "Offentleg administrasjon og forsvar, og trygdeordningar underordna offentleg forvalting"
           ],
           "legendgroup": "Offentleg administrasjon og forsvar, og trygdeordningar underordna offentleg forvalting",
           "marker": {
            "color": "#B6E880",
            "size": [
             3900
            ],
            "sizemode": "area",
            "sizeref": 4.32,
            "symbol": "circle"
           },
           "mode": "markers",
           "name": "Offentleg administrasjon og forsvar, og trygdeordningar underordna offentleg forvalting",
           "orientation": "v",
           "showlegend": true,
           "type": "scatter",
           "x": [
            2
           ],
           "xaxis": "x",
           "y": [
            175
           ],
           "yaxis": "y"
          },
          {
           "hovertemplate": "<b>%{hovertext}</b><br><br>næring (SN2007)=Undervisning<br>kvartal=2019K3<br>Ledige stillingar (prosent)=%{x}<br>Sysselsatte=%{y}<br>Ledige stillingar=%{marker.size}<extra></extra>",
           "hovertext": [
            "Undervisning"
           ],
           "ids": [
            "Undervisning"
           ],
           "legendgroup": "Undervisning",
           "marker": {
            "color": "#FF97FF",
            "size": [
             3000
            ],
            "sizemode": "area",
            "sizeref": 4.32,
            "symbol": "circle"
           },
           "mode": "markers",
           "name": "Undervisning",
           "orientation": "v",
           "showlegend": true,
           "type": "scatter",
           "x": [
            1.3
           ],
           "xaxis": "x",
           "y": [
            228
           ],
           "yaxis": "y"
          },
          {
           "hovertemplate": "<b>%{hovertext}</b><br><br>næring (SN2007)=Kulturell verksemd, underhaldning og fritidsaktivitetar<br>kvartal=2019K3<br>Ledige stillingar (prosent)=%{x}<br>Sysselsatte=%{y}<br>Ledige stillingar=%{marker.size}<extra></extra>",
           "hovertext": [
            "Kulturell verksemd, underhaldning og fritidsaktivitetar"
           ],
           "ids": [
            "Kulturell verksemd, underhaldning og fritidsaktivitetar"
           ],
           "legendgroup": "Kulturell verksemd, underhaldning og fritidsaktivitetar",
           "marker": {
            "color": "#FECB52",
            "size": [
             800
            ],
            "sizemode": "area",
            "sizeref": 4.32,
            "symbol": "circle"
           },
           "mode": "markers",
           "name": "Kulturell verksemd, underhaldning og fritidsaktivitetar",
           "orientation": "v",
           "showlegend": true,
           "type": "scatter",
           "x": [
            1.6
           ],
           "xaxis": "x",
           "y": [
            63
           ],
           "yaxis": "y"
          }
         ],
         "name": "2019K3"
        },
        {
         "data": [
          {
           "hovertemplate": "<b>%{hovertext}</b><br><br>næring (SN2007)=Bergverksdrift og utvinning<br>kvartal=2019K4<br>Ledige stillingar (prosent)=%{x}<br>Sysselsatte=%{y}<br>Ledige stillingar=%{marker.size}<extra></extra>",
           "hovertext": [
            "Bergverksdrift og utvinning"
           ],
           "ids": [
            "Bergverksdrift og utvinning"
           ],
           "legendgroup": "Bergverksdrift og utvinning",
           "marker": {
            "color": "#636efa",
            "size": [
             1400
            ],
            "sizemode": "area",
            "sizeref": 4.32,
            "symbol": "circle"
           },
           "mode": "markers",
           "name": "Bergverksdrift og utvinning",
           "orientation": "v",
           "showlegend": true,
           "type": "scatter",
           "x": [
            2.2
           ],
           "xaxis": "x",
           "y": [
            62
           ],
           "yaxis": "y"
          },
          {
           "hovertemplate": "<b>%{hovertext}</b><br><br>næring (SN2007)=Byggje- og anleggsverksemd<br>kvartal=2019K4<br>Ledige stillingar (prosent)=%{x}<br>Sysselsatte=%{y}<br>Ledige stillingar=%{marker.size}<extra></extra>",
           "hovertext": [
            "Byggje- og anleggsverksemd"
           ],
           "ids": [
            "Byggje- og anleggsverksemd"
           ],
           "legendgroup": "Byggje- og anleggsverksemd",
           "marker": {
            "color": "#EF553B",
            "size": [
             4200
            ],
            "sizemode": "area",
            "sizeref": 4.32,
            "symbol": "circle"
           },
           "mode": "markers",
           "name": "Byggje- og anleggsverksemd",
           "orientation": "v",
           "showlegend": true,
           "type": "scatter",
           "x": [
            1.7
           ],
           "xaxis": "x",
           "y": [
            228
           ],
           "yaxis": "y"
          },
          {
           "hovertemplate": "<b>%{hovertext}</b><br><br>næring (SN2007)=Informasjon og kommunikasjon<br>kvartal=2019K4<br>Ledige stillingar (prosent)=%{x}<br>Sysselsatte=%{y}<br>Ledige stillingar=%{marker.size}<extra></extra>",
           "hovertext": [
            "Informasjon og kommunikasjon"
           ],
           "ids": [
            "Informasjon og kommunikasjon"
           ],
           "legendgroup": "Informasjon og kommunikasjon",
           "marker": {
            "color": "#00cc96",
            "size": [
             4500
            ],
            "sizemode": "area",
            "sizeref": 4.32,
            "symbol": "circle"
           },
           "mode": "markers",
           "name": "Informasjon og kommunikasjon",
           "orientation": "v",
           "showlegend": true,
           "type": "scatter",
           "x": [
            4.3
           ],
           "xaxis": "x",
           "y": [
            109
           ],
           "yaxis": "y"
          },
          {
           "hovertemplate": "<b>%{hovertext}</b><br><br>næring (SN2007)=Finansierings- og forsikringsverksemd<br>kvartal=2019K4<br>Ledige stillingar (prosent)=%{x}<br>Sysselsatte=%{y}<br>Ledige stillingar=%{marker.size}<extra></extra>",
           "hovertext": [
            "Finansierings- og forsikringsverksemd"
           ],
           "ids": [
            "Finansierings- og forsikringsverksemd"
           ],
           "legendgroup": "Finansierings- og forsikringsverksemd",
           "marker": {
            "color": "#ab63fa",
            "size": [
             800
            ],
            "sizemode": "area",
            "sizeref": 4.32,
            "symbol": "circle"
           },
           "mode": "markers",
           "name": "Finansierings- og forsikringsverksemd",
           "orientation": "v",
           "showlegend": true,
           "type": "scatter",
           "x": [
            1.6
           ],
           "xaxis": "x",
           "y": [
            46
           ],
           "yaxis": "y"
          },
          {
           "hovertemplate": "<b>%{hovertext}</b><br><br>næring (SN2007)=Omsetning og drift av fast eigedom<br>kvartal=2019K4<br>Ledige stillingar (prosent)=%{x}<br>Sysselsatte=%{y}<br>Ledige stillingar=%{marker.size}<extra></extra>",
           "hovertext": [
            "Omsetning og drift av fast eigedom"
           ],
           "ids": [
            "Omsetning og drift av fast eigedom"
           ],
           "legendgroup": "Omsetning og drift av fast eigedom",
           "marker": {
            "color": "#FFA15A",
            "size": [
             600
            ],
            "sizemode": "area",
            "sizeref": 4.32,
            "symbol": "circle"
           },
           "mode": "markers",
           "name": "Omsetning og drift av fast eigedom",
           "orientation": "v",
           "showlegend": true,
           "type": "scatter",
           "x": [
            2.1
           ],
           "xaxis": "x",
           "y": [
            29
           ],
           "yaxis": "y"
          },
          {
           "hovertemplate": "<b>%{hovertext}</b><br><br>næring (SN2007)=Fagleg, vitskapleg og teknisk tenesteyting<br>kvartal=2019K4<br>Ledige stillingar (prosent)=%{x}<br>Sysselsatte=%{y}<br>Ledige stillingar=%{marker.size}<extra></extra>",
           "hovertext": [
            "Fagleg, vitskapleg og teknisk tenesteyting"
           ],
           "ids": [
            "Fagleg, vitskapleg og teknisk tenesteyting"
           ],
           "legendgroup": "Fagleg, vitskapleg og teknisk tenesteyting",
           "marker": {
            "color": "#19d3f3",
            "size": [
             4200
            ],
            "sizemode": "area",
            "sizeref": 4.32,
            "symbol": "circle"
           },
           "mode": "markers",
           "name": "Fagleg, vitskapleg og teknisk tenesteyting",
           "orientation": "v",
           "showlegend": true,
           "type": "scatter",
           "x": [
            2.8
           ],
           "xaxis": "x",
           "y": [
            163
           ],
           "yaxis": "y"
          },
          {
           "hovertemplate": "<b>%{hovertext}</b><br><br>næring (SN2007)=Forretningsmessig tenesteyting<br>kvartal=2019K4<br>Ledige stillingar (prosent)=%{x}<br>Sysselsatte=%{y}<br>Ledige stillingar=%{marker.size}<extra></extra>",
           "hovertext": [
            "Forretningsmessig tenesteyting"
           ],
           "ids": [
            "Forretningsmessig tenesteyting"
           ],
           "legendgroup": "Forretningsmessig tenesteyting",
           "marker": {
            "color": "#FF6692",
            "size": [
             6300
            ],
            "sizemode": "area",
            "sizeref": 4.32,
            "symbol": "circle"
           },
           "mode": "markers",
           "name": "Forretningsmessig tenesteyting",
           "orientation": "v",
           "showlegend": true,
           "type": "scatter",
           "x": [
            3.7
           ],
           "xaxis": "x",
           "y": [
            134
           ],
           "yaxis": "y"
          },
          {
           "hovertemplate": "<b>%{hovertext}</b><br><br>næring (SN2007)=Offentleg administrasjon og forsvar, og trygdeordningar underordna offentleg forvalting<br>kvartal=2019K4<br>Ledige stillingar (prosent)=%{x}<br>Sysselsatte=%{y}<br>Ledige stillingar=%{marker.size}<extra></extra>",
           "hovertext": [
            "Offentleg administrasjon og forsvar, og trygdeordningar underordna offentleg forvalting"
           ],
           "ids": [
            "Offentleg administrasjon og forsvar, og trygdeordningar underordna offentleg forvalting"
           ],
           "legendgroup": "Offentleg administrasjon og forsvar, og trygdeordningar underordna offentleg forvalting",
           "marker": {
            "color": "#B6E880",
            "size": [
             4100
            ],
            "sizemode": "area",
            "sizeref": 4.32,
            "symbol": "circle"
           },
           "mode": "markers",
           "name": "Offentleg administrasjon og forsvar, og trygdeordningar underordna offentleg forvalting",
           "orientation": "v",
           "showlegend": true,
           "type": "scatter",
           "x": [
            2.2
           ],
           "xaxis": "x",
           "y": [
            174
           ],
           "yaxis": "y"
          },
          {
           "hovertemplate": "<b>%{hovertext}</b><br><br>næring (SN2007)=Undervisning<br>kvartal=2019K4<br>Ledige stillingar (prosent)=%{x}<br>Sysselsatte=%{y}<br>Ledige stillingar=%{marker.size}<extra></extra>",
           "hovertext": [
            "Undervisning"
           ],
           "ids": [
            "Undervisning"
           ],
           "legendgroup": "Undervisning",
           "marker": {
            "color": "#FF97FF",
            "size": [
             3400
            ],
            "sizemode": "area",
            "sizeref": 4.32,
            "symbol": "circle"
           },
           "mode": "markers",
           "name": "Undervisning",
           "orientation": "v",
           "showlegend": true,
           "type": "scatter",
           "x": [
            1.3
           ],
           "xaxis": "x",
           "y": [
            236
           ],
           "yaxis": "y"
          },
          {
           "hovertemplate": "<b>%{hovertext}</b><br><br>næring (SN2007)=Kulturell verksemd, underhaldning og fritidsaktivitetar<br>kvartal=2019K4<br>Ledige stillingar (prosent)=%{x}<br>Sysselsatte=%{y}<br>Ledige stillingar=%{marker.size}<extra></extra>",
           "hovertext": [
            "Kulturell verksemd, underhaldning og fritidsaktivitetar"
           ],
           "ids": [
            "Kulturell verksemd, underhaldning og fritidsaktivitetar"
           ],
           "legendgroup": "Kulturell verksemd, underhaldning og fritidsaktivitetar",
           "marker": {
            "color": "#FECB52",
            "size": [
             800
            ],
            "sizemode": "area",
            "sizeref": 4.32,
            "symbol": "circle"
           },
           "mode": "markers",
           "name": "Kulturell verksemd, underhaldning og fritidsaktivitetar",
           "orientation": "v",
           "showlegend": true,
           "type": "scatter",
           "x": [
            1.5
           ],
           "xaxis": "x",
           "y": [
            63
           ],
           "yaxis": "y"
          }
         ],
         "name": "2019K4"
        },
        {
         "data": [
          {
           "hovertemplate": "<b>%{hovertext}</b><br><br>næring (SN2007)=Bergverksdrift og utvinning<br>kvartal=2020K1<br>Ledige stillingar (prosent)=%{x}<br>Sysselsatte=%{y}<br>Ledige stillingar=%{marker.size}<extra></extra>",
           "hovertext": [
            "Bergverksdrift og utvinning"
           ],
           "ids": [
            "Bergverksdrift og utvinning"
           ],
           "legendgroup": "Bergverksdrift og utvinning",
           "marker": {
            "color": "#636efa",
            "size": [
             900
            ],
            "sizemode": "area",
            "sizeref": 4.32,
            "symbol": "circle"
           },
           "mode": "markers",
           "name": "Bergverksdrift og utvinning",
           "orientation": "v",
           "showlegend": true,
           "type": "scatter",
           "x": [
            1.5
           ],
           "xaxis": "x",
           "y": [
            60
           ],
           "yaxis": "y"
          },
          {
           "hovertemplate": "<b>%{hovertext}</b><br><br>næring (SN2007)=Byggje- og anleggsverksemd<br>kvartal=2020K1<br>Ledige stillingar (prosent)=%{x}<br>Sysselsatte=%{y}<br>Ledige stillingar=%{marker.size}<extra></extra>",
           "hovertext": [
            "Byggje- og anleggsverksemd"
           ],
           "ids": [
            "Byggje- og anleggsverksemd"
           ],
           "legendgroup": "Byggje- og anleggsverksemd",
           "marker": {
            "color": "#EF553B",
            "size": [
             5700
            ],
            "sizemode": "area",
            "sizeref": 4.32,
            "symbol": "circle"
           },
           "mode": "markers",
           "name": "Byggje- og anleggsverksemd",
           "orientation": "v",
           "showlegend": true,
           "type": "scatter",
           "x": [
            2.4
           ],
           "xaxis": "x",
           "y": [
            225
           ],
           "yaxis": "y"
          },
          {
           "hovertemplate": "<b>%{hovertext}</b><br><br>næring (SN2007)=Informasjon og kommunikasjon<br>kvartal=2020K1<br>Ledige stillingar (prosent)=%{x}<br>Sysselsatte=%{y}<br>Ledige stillingar=%{marker.size}<extra></extra>",
           "hovertext": [
            "Informasjon og kommunikasjon"
           ],
           "ids": [
            "Informasjon og kommunikasjon"
           ],
           "legendgroup": "Informasjon og kommunikasjon",
           "marker": {
            "color": "#00cc96",
            "size": [
             5000
            ],
            "sizemode": "area",
            "sizeref": 4.32,
            "symbol": "circle"
           },
           "mode": "markers",
           "name": "Informasjon og kommunikasjon",
           "orientation": "v",
           "showlegend": true,
           "type": "scatter",
           "x": [
            4.8
           ],
           "xaxis": "x",
           "y": [
            110
           ],
           "yaxis": "y"
          },
          {
           "hovertemplate": "<b>%{hovertext}</b><br><br>næring (SN2007)=Finansierings- og forsikringsverksemd<br>kvartal=2020K1<br>Ledige stillingar (prosent)=%{x}<br>Sysselsatte=%{y}<br>Ledige stillingar=%{marker.size}<extra></extra>",
           "hovertext": [
            "Finansierings- og forsikringsverksemd"
           ],
           "ids": [
            "Finansierings- og forsikringsverksemd"
           ],
           "legendgroup": "Finansierings- og forsikringsverksemd",
           "marker": {
            "color": "#ab63fa",
            "size": [
             1300
            ],
            "sizemode": "area",
            "sizeref": 4.32,
            "symbol": "circle"
           },
           "mode": "markers",
           "name": "Finansierings- og forsikringsverksemd",
           "orientation": "v",
           "showlegend": true,
           "type": "scatter",
           "x": [
            2.7
           ],
           "xaxis": "x",
           "y": [
            47
           ],
           "yaxis": "y"
          },
          {
           "hovertemplate": "<b>%{hovertext}</b><br><br>næring (SN2007)=Omsetning og drift av fast eigedom<br>kvartal=2020K1<br>Ledige stillingar (prosent)=%{x}<br>Sysselsatte=%{y}<br>Ledige stillingar=%{marker.size}<extra></extra>",
           "hovertext": [
            "Omsetning og drift av fast eigedom"
           ],
           "ids": [
            "Omsetning og drift av fast eigedom"
           ],
           "legendgroup": "Omsetning og drift av fast eigedom",
           "marker": {
            "color": "#FFA15A",
            "size": [
             600
            ],
            "sizemode": "area",
            "sizeref": 4.32,
            "symbol": "circle"
           },
           "mode": "markers",
           "name": "Omsetning og drift av fast eigedom",
           "orientation": "v",
           "showlegend": true,
           "type": "scatter",
           "x": [
            2
           ],
           "xaxis": "x",
           "y": [
            28
           ],
           "yaxis": "y"
          },
          {
           "hovertemplate": "<b>%{hovertext}</b><br><br>næring (SN2007)=Fagleg, vitskapleg og teknisk tenesteyting<br>kvartal=2020K1<br>Ledige stillingar (prosent)=%{x}<br>Sysselsatte=%{y}<br>Ledige stillingar=%{marker.size}<extra></extra>",
           "hovertext": [
            "Fagleg, vitskapleg og teknisk tenesteyting"
           ],
           "ids": [
            "Fagleg, vitskapleg og teknisk tenesteyting"
           ],
           "legendgroup": "Fagleg, vitskapleg og teknisk tenesteyting",
           "marker": {
            "color": "#19d3f3",
            "size": [
             4300
            ],
            "sizemode": "area",
            "sizeref": 4.32,
            "symbol": "circle"
           },
           "mode": "markers",
           "name": "Fagleg, vitskapleg og teknisk tenesteyting",
           "orientation": "v",
           "showlegend": true,
           "type": "scatter",
           "x": [
            2.9
           ],
           "xaxis": "x",
           "y": [
            161
           ],
           "yaxis": "y"
          },
          {
           "hovertemplate": "<b>%{hovertext}</b><br><br>næring (SN2007)=Forretningsmessig tenesteyting<br>kvartal=2020K1<br>Ledige stillingar (prosent)=%{x}<br>Sysselsatte=%{y}<br>Ledige stillingar=%{marker.size}<extra></extra>",
           "hovertext": [
            "Forretningsmessig tenesteyting"
           ],
           "ids": [
            "Forretningsmessig tenesteyting"
           ],
           "legendgroup": "Forretningsmessig tenesteyting",
           "marker": {
            "color": "#FF6692",
            "size": [
             6200
            ],
            "sizemode": "area",
            "sizeref": 4.32,
            "symbol": "circle"
           },
           "mode": "markers",
           "name": "Forretningsmessig tenesteyting",
           "orientation": "v",
           "showlegend": true,
           "type": "scatter",
           "x": [
            3.9
           ],
           "xaxis": "x",
           "y": [
            132
           ],
           "yaxis": "y"
          },
          {
           "hovertemplate": "<b>%{hovertext}</b><br><br>næring (SN2007)=Offentleg administrasjon og forsvar, og trygdeordningar underordna offentleg forvalting<br>kvartal=2020K1<br>Ledige stillingar (prosent)=%{x}<br>Sysselsatte=%{y}<br>Ledige stillingar=%{marker.size}<extra></extra>",
           "hovertext": [
            "Offentleg administrasjon og forsvar, og trygdeordningar underordna offentleg forvalting"
           ],
           "ids": [
            "Offentleg administrasjon og forsvar, og trygdeordningar underordna offentleg forvalting"
           ],
           "legendgroup": "Offentleg administrasjon og forsvar, og trygdeordningar underordna offentleg forvalting",
           "marker": {
            "color": "#B6E880",
            "size": [
             3800
            ],
            "sizemode": "area",
            "sizeref": 4.32,
            "symbol": "circle"
           },
           "mode": "markers",
           "name": "Offentleg administrasjon og forsvar, og trygdeordningar underordna offentleg forvalting",
           "orientation": "v",
           "showlegend": true,
           "type": "scatter",
           "x": [
            2
           ],
           "xaxis": "x",
           "y": [
            176
           ],
           "yaxis": "y"
          },
          {
           "hovertemplate": "<b>%{hovertext}</b><br><br>næring (SN2007)=Undervisning<br>kvartal=2020K1<br>Ledige stillingar (prosent)=%{x}<br>Sysselsatte=%{y}<br>Ledige stillingar=%{marker.size}<extra></extra>",
           "hovertext": [
            "Undervisning"
           ],
           "ids": [
            "Undervisning"
           ],
           "legendgroup": "Undervisning",
           "marker": {
            "color": "#FF97FF",
            "size": [
             5500
            ],
            "sizemode": "area",
            "sizeref": 4.32,
            "symbol": "circle"
           },
           "mode": "markers",
           "name": "Undervisning",
           "orientation": "v",
           "showlegend": true,
           "type": "scatter",
           "x": [
            2.1
           ],
           "xaxis": "x",
           "y": [
            235
           ],
           "yaxis": "y"
          },
          {
           "hovertemplate": "<b>%{hovertext}</b><br><br>næring (SN2007)=Kulturell verksemd, underhaldning og fritidsaktivitetar<br>kvartal=2020K1<br>Ledige stillingar (prosent)=%{x}<br>Sysselsatte=%{y}<br>Ledige stillingar=%{marker.size}<extra></extra>",
           "hovertext": [
            "Kulturell verksemd, underhaldning og fritidsaktivitetar"
           ],
           "ids": [
            "Kulturell verksemd, underhaldning og fritidsaktivitetar"
           ],
           "legendgroup": "Kulturell verksemd, underhaldning og fritidsaktivitetar",
           "marker": {
            "color": "#FECB52",
            "size": [
             1600
            ],
            "sizemode": "area",
            "sizeref": 4.32,
            "symbol": "circle"
           },
           "mode": "markers",
           "name": "Kulturell verksemd, underhaldning og fritidsaktivitetar",
           "orientation": "v",
           "showlegend": true,
           "type": "scatter",
           "x": [
            2.9
           ],
           "xaxis": "x",
           "y": [
            64
           ],
           "yaxis": "y"
          }
         ],
         "name": "2020K1"
        },
        {
         "data": [
          {
           "hovertemplate": "<b>%{hovertext}</b><br><br>næring (SN2007)=Bergverksdrift og utvinning<br>kvartal=2020K2<br>Ledige stillingar (prosent)=%{x}<br>Sysselsatte=%{y}<br>Ledige stillingar=%{marker.size}<extra></extra>",
           "hovertext": [
            "Bergverksdrift og utvinning"
           ],
           "ids": [
            "Bergverksdrift og utvinning"
           ],
           "legendgroup": "Bergverksdrift og utvinning",
           "marker": {
            "color": "#636efa",
            "size": [
             300
            ],
            "sizemode": "area",
            "sizeref": 4.32,
            "symbol": "circle"
           },
           "mode": "markers",
           "name": "Bergverksdrift og utvinning",
           "orientation": "v",
           "showlegend": true,
           "type": "scatter",
           "x": [
            0.5
           ],
           "xaxis": "x",
           "y": [
            61
           ],
           "yaxis": "y"
          },
          {
           "hovertemplate": "<b>%{hovertext}</b><br><br>næring (SN2007)=Byggje- og anleggsverksemd<br>kvartal=2020K2<br>Ledige stillingar (prosent)=%{x}<br>Sysselsatte=%{y}<br>Ledige stillingar=%{marker.size}<extra></extra>",
           "hovertext": [
            "Byggje- og anleggsverksemd"
           ],
           "ids": [
            "Byggje- og anleggsverksemd"
           ],
           "legendgroup": "Byggje- og anleggsverksemd",
           "marker": {
            "color": "#EF553B",
            "size": [
             4600
            ],
            "sizemode": "area",
            "sizeref": 4.32,
            "symbol": "circle"
           },
           "mode": "markers",
           "name": "Byggje- og anleggsverksemd",
           "orientation": "v",
           "showlegend": true,
           "type": "scatter",
           "x": [
            1.9
           ],
           "xaxis": "x",
           "y": [
            221
           ],
           "yaxis": "y"
          },
          {
           "hovertemplate": "<b>%{hovertext}</b><br><br>næring (SN2007)=Informasjon og kommunikasjon<br>kvartal=2020K2<br>Ledige stillingar (prosent)=%{x}<br>Sysselsatte=%{y}<br>Ledige stillingar=%{marker.size}<extra></extra>",
           "hovertext": [
            "Informasjon og kommunikasjon"
           ],
           "ids": [
            "Informasjon og kommunikasjon"
           ],
           "legendgroup": "Informasjon og kommunikasjon",
           "marker": {
            "color": "#00cc96",
            "size": [
             3200
            ],
            "sizemode": "area",
            "sizeref": 4.32,
            "symbol": "circle"
           },
           "mode": "markers",
           "name": "Informasjon og kommunikasjon",
           "orientation": "v",
           "showlegend": true,
           "type": "scatter",
           "x": [
            3.2
           ],
           "xaxis": "x",
           "y": [
            109
           ],
           "yaxis": "y"
          },
          {
           "hovertemplate": "<b>%{hovertext}</b><br><br>næring (SN2007)=Finansierings- og forsikringsverksemd<br>kvartal=2020K2<br>Ledige stillingar (prosent)=%{x}<br>Sysselsatte=%{y}<br>Ledige stillingar=%{marker.size}<extra></extra>",
           "hovertext": [
            "Finansierings- og forsikringsverksemd"
           ],
           "ids": [
            "Finansierings- og forsikringsverksemd"
           ],
           "legendgroup": "Finansierings- og forsikringsverksemd",
           "marker": {
            "color": "#ab63fa",
            "size": [
             800
            ],
            "sizemode": "area",
            "sizeref": 4.32,
            "symbol": "circle"
           },
           "mode": "markers",
           "name": "Finansierings- og forsikringsverksemd",
           "orientation": "v",
           "showlegend": true,
           "type": "scatter",
           "x": [
            1.6
           ],
           "xaxis": "x",
           "y": [
            49
           ],
           "yaxis": "y"
          },
          {
           "hovertemplate": "<b>%{hovertext}</b><br><br>næring (SN2007)=Omsetning og drift av fast eigedom<br>kvartal=2020K2<br>Ledige stillingar (prosent)=%{x}<br>Sysselsatte=%{y}<br>Ledige stillingar=%{marker.size}<extra></extra>",
           "hovertext": [
            "Omsetning og drift av fast eigedom"
           ],
           "ids": [
            "Omsetning og drift av fast eigedom"
           ],
           "legendgroup": "Omsetning og drift av fast eigedom",
           "marker": {
            "color": "#FFA15A",
            "size": [
             600
            ],
            "sizemode": "area",
            "sizeref": 4.32,
            "symbol": "circle"
           },
           "mode": "markers",
           "name": "Omsetning og drift av fast eigedom",
           "orientation": "v",
           "showlegend": true,
           "type": "scatter",
           "x": [
            2.1
           ],
           "xaxis": "x",
           "y": [
            25
           ],
           "yaxis": "y"
          },
          {
           "hovertemplate": "<b>%{hovertext}</b><br><br>næring (SN2007)=Fagleg, vitskapleg og teknisk tenesteyting<br>kvartal=2020K2<br>Ledige stillingar (prosent)=%{x}<br>Sysselsatte=%{y}<br>Ledige stillingar=%{marker.size}<extra></extra>",
           "hovertext": [
            "Fagleg, vitskapleg og teknisk tenesteyting"
           ],
           "ids": [
            "Fagleg, vitskapleg og teknisk tenesteyting"
           ],
           "legendgroup": "Fagleg, vitskapleg og teknisk tenesteyting",
           "marker": {
            "color": "#19d3f3",
            "size": [
             3100
            ],
            "sizemode": "area",
            "sizeref": 4.32,
            "symbol": "circle"
           },
           "mode": "markers",
           "name": "Fagleg, vitskapleg og teknisk tenesteyting",
           "orientation": "v",
           "showlegend": true,
           "type": "scatter",
           "x": [
            2.2
           ],
           "xaxis": "x",
           "y": [
            164
           ],
           "yaxis": "y"
          },
          {
           "hovertemplate": "<b>%{hovertext}</b><br><br>næring (SN2007)=Forretningsmessig tenesteyting<br>kvartal=2020K2<br>Ledige stillingar (prosent)=%{x}<br>Sysselsatte=%{y}<br>Ledige stillingar=%{marker.size}<extra></extra>",
           "hovertext": [
            "Forretningsmessig tenesteyting"
           ],
           "ids": [
            "Forretningsmessig tenesteyting"
           ],
           "legendgroup": "Forretningsmessig tenesteyting",
           "marker": {
            "color": "#FF6692",
            "size": [
             4000
            ],
            "sizemode": "area",
            "sizeref": 4.32,
            "symbol": "circle"
           },
           "mode": "markers",
           "name": "Forretningsmessig tenesteyting",
           "orientation": "v",
           "showlegend": true,
           "type": "scatter",
           "x": [
            2.7
           ],
           "xaxis": "x",
           "y": [
            129
           ],
           "yaxis": "y"
          },
          {
           "hovertemplate": "<b>%{hovertext}</b><br><br>næring (SN2007)=Offentleg administrasjon og forsvar, og trygdeordningar underordna offentleg forvalting<br>kvartal=2020K2<br>Ledige stillingar (prosent)=%{x}<br>Sysselsatte=%{y}<br>Ledige stillingar=%{marker.size}<extra></extra>",
           "hovertext": [
            "Offentleg administrasjon og forsvar, og trygdeordningar underordna offentleg forvalting"
           ],
           "ids": [
            "Offentleg administrasjon og forsvar, og trygdeordningar underordna offentleg forvalting"
           ],
           "legendgroup": "Offentleg administrasjon og forsvar, og trygdeordningar underordna offentleg forvalting",
           "marker": {
            "color": "#B6E880",
            "size": [
             3700
            ],
            "sizemode": "area",
            "sizeref": 4.32,
            "symbol": "circle"
           },
           "mode": "markers",
           "name": "Offentleg administrasjon og forsvar, og trygdeordningar underordna offentleg forvalting",
           "orientation": "v",
           "showlegend": true,
           "type": "scatter",
           "x": [
            2
           ],
           "xaxis": "x",
           "y": [
            170
           ],
           "yaxis": "y"
          },
          {
           "hovertemplate": "<b>%{hovertext}</b><br><br>næring (SN2007)=Undervisning<br>kvartal=2020K2<br>Ledige stillingar (prosent)=%{x}<br>Sysselsatte=%{y}<br>Ledige stillingar=%{marker.size}<extra></extra>",
           "hovertext": [
            "Undervisning"
           ],
           "ids": [
            "Undervisning"
           ],
           "legendgroup": "Undervisning",
           "marker": {
            "color": "#FF97FF",
            "size": [
             6600
            ],
            "sizemode": "area",
            "sizeref": 4.32,
            "symbol": "circle"
           },
           "mode": "markers",
           "name": "Undervisning",
           "orientation": "v",
           "showlegend": true,
           "type": "scatter",
           "x": [
            2.7
           ],
           "xaxis": "x",
           "y": [
            231
           ],
           "yaxis": "y"
          },
          {
           "hovertemplate": "<b>%{hovertext}</b><br><br>næring (SN2007)=Kulturell verksemd, underhaldning og fritidsaktivitetar<br>kvartal=2020K2<br>Ledige stillingar (prosent)=%{x}<br>Sysselsatte=%{y}<br>Ledige stillingar=%{marker.size}<extra></extra>",
           "hovertext": [
            "Kulturell verksemd, underhaldning og fritidsaktivitetar"
           ],
           "ids": [
            "Kulturell verksemd, underhaldning og fritidsaktivitetar"
           ],
           "legendgroup": "Kulturell verksemd, underhaldning og fritidsaktivitetar",
           "marker": {
            "color": "#FECB52",
            "size": [
             900
            ],
            "sizemode": "area",
            "sizeref": 4.32,
            "symbol": "circle"
           },
           "mode": "markers",
           "name": "Kulturell verksemd, underhaldning og fritidsaktivitetar",
           "orientation": "v",
           "showlegend": true,
           "type": "scatter",
           "x": [
            1.9
           ],
           "xaxis": "x",
           "y": [
            63
           ],
           "yaxis": "y"
          }
         ],
         "name": "2020K2"
        },
        {
         "data": [
          {
           "hovertemplate": "<b>%{hovertext}</b><br><br>næring (SN2007)=Bergverksdrift og utvinning<br>kvartal=2020K3<br>Ledige stillingar (prosent)=%{x}<br>Sysselsatte=%{y}<br>Ledige stillingar=%{marker.size}<extra></extra>",
           "hovertext": [
            "Bergverksdrift og utvinning"
           ],
           "ids": [
            "Bergverksdrift og utvinning"
           ],
           "legendgroup": "Bergverksdrift og utvinning",
           "marker": {
            "color": "#636efa",
            "size": [
             600
            ],
            "sizemode": "area",
            "sizeref": 4.32,
            "symbol": "circle"
           },
           "mode": "markers",
           "name": "Bergverksdrift og utvinning",
           "orientation": "v",
           "showlegend": true,
           "type": "scatter",
           "x": [
            0.9
           ],
           "xaxis": "x",
           "y": [
            63
           ],
           "yaxis": "y"
          },
          {
           "hovertemplate": "<b>%{hovertext}</b><br><br>næring (SN2007)=Byggje- og anleggsverksemd<br>kvartal=2020K3<br>Ledige stillingar (prosent)=%{x}<br>Sysselsatte=%{y}<br>Ledige stillingar=%{marker.size}<extra></extra>",
           "hovertext": [
            "Byggje- og anleggsverksemd"
           ],
           "ids": [
            "Byggje- og anleggsverksemd"
           ],
           "legendgroup": "Byggje- og anleggsverksemd",
           "marker": {
            "color": "#EF553B",
            "size": [
             4300
            ],
            "sizemode": "area",
            "sizeref": 4.32,
            "symbol": "circle"
           },
           "mode": "markers",
           "name": "Byggje- og anleggsverksemd",
           "orientation": "v",
           "showlegend": true,
           "type": "scatter",
           "x": [
            1.7
           ],
           "xaxis": "x",
           "y": [
            224
           ],
           "yaxis": "y"
          },
          {
           "hovertemplate": "<b>%{hovertext}</b><br><br>næring (SN2007)=Informasjon og kommunikasjon<br>kvartal=2020K3<br>Ledige stillingar (prosent)=%{x}<br>Sysselsatte=%{y}<br>Ledige stillingar=%{marker.size}<extra></extra>",
           "hovertext": [
            "Informasjon og kommunikasjon"
           ],
           "ids": [
            "Informasjon og kommunikasjon"
           ],
           "legendgroup": "Informasjon og kommunikasjon",
           "marker": {
            "color": "#00cc96",
            "size": [
             3500
            ],
            "sizemode": "area",
            "sizeref": 4.32,
            "symbol": "circle"
           },
           "mode": "markers",
           "name": "Informasjon og kommunikasjon",
           "orientation": "v",
           "showlegend": true,
           "type": "scatter",
           "x": [
            3.4
           ],
           "xaxis": "x",
           "y": [
            109
           ],
           "yaxis": "y"
          },
          {
           "hovertemplate": "<b>%{hovertext}</b><br><br>næring (SN2007)=Finansierings- og forsikringsverksemd<br>kvartal=2020K3<br>Ledige stillingar (prosent)=%{x}<br>Sysselsatte=%{y}<br>Ledige stillingar=%{marker.size}<extra></extra>",
           "hovertext": [
            "Finansierings- og forsikringsverksemd"
           ],
           "ids": [
            "Finansierings- og forsikringsverksemd"
           ],
           "legendgroup": "Finansierings- og forsikringsverksemd",
           "marker": {
            "color": "#ab63fa",
            "size": [
             800
            ],
            "sizemode": "area",
            "sizeref": 4.32,
            "symbol": "circle"
           },
           "mode": "markers",
           "name": "Finansierings- og forsikringsverksemd",
           "orientation": "v",
           "showlegend": true,
           "type": "scatter",
           "x": [
            1.6
           ],
           "xaxis": "x",
           "y": [
            51
           ],
           "yaxis": "y"
          },
          {
           "hovertemplate": "<b>%{hovertext}</b><br><br>næring (SN2007)=Omsetning og drift av fast eigedom<br>kvartal=2020K3<br>Ledige stillingar (prosent)=%{x}<br>Sysselsatte=%{y}<br>Ledige stillingar=%{marker.size}<extra></extra>",
           "hovertext": [
            "Omsetning og drift av fast eigedom"
           ],
           "ids": [
            "Omsetning og drift av fast eigedom"
           ],
           "legendgroup": "Omsetning og drift av fast eigedom",
           "marker": {
            "color": "#FFA15A",
            "size": [
             600
            ],
            "sizemode": "area",
            "sizeref": 4.32,
            "symbol": "circle"
           },
           "mode": "markers",
           "name": "Omsetning og drift av fast eigedom",
           "orientation": "v",
           "showlegend": true,
           "type": "scatter",
           "x": [
            2
           ],
           "xaxis": "x",
           "y": [
            27
           ],
           "yaxis": "y"
          },
          {
           "hovertemplate": "<b>%{hovertext}</b><br><br>næring (SN2007)=Fagleg, vitskapleg og teknisk tenesteyting<br>kvartal=2020K3<br>Ledige stillingar (prosent)=%{x}<br>Sysselsatte=%{y}<br>Ledige stillingar=%{marker.size}<extra></extra>",
           "hovertext": [
            "Fagleg, vitskapleg og teknisk tenesteyting"
           ],
           "ids": [
            "Fagleg, vitskapleg og teknisk tenesteyting"
           ],
           "legendgroup": "Fagleg, vitskapleg og teknisk tenesteyting",
           "marker": {
            "color": "#19d3f3",
            "size": [
             4300
            ],
            "sizemode": "area",
            "sizeref": 4.32,
            "symbol": "circle"
           },
           "mode": "markers",
           "name": "Fagleg, vitskapleg og teknisk tenesteyting",
           "orientation": "v",
           "showlegend": true,
           "type": "scatter",
           "x": [
            3
           ],
           "xaxis": "x",
           "y": [
            163
           ],
           "yaxis": "y"
          },
          {
           "hovertemplate": "<b>%{hovertext}</b><br><br>næring (SN2007)=Forretningsmessig tenesteyting<br>kvartal=2020K3<br>Ledige stillingar (prosent)=%{x}<br>Sysselsatte=%{y}<br>Ledige stillingar=%{marker.size}<extra></extra>",
           "hovertext": [
            "Forretningsmessig tenesteyting"
           ],
           "ids": [
            "Forretningsmessig tenesteyting"
           ],
           "legendgroup": "Forretningsmessig tenesteyting",
           "marker": {
            "color": "#FF6692",
            "size": [
             5200
            ],
            "sizemode": "area",
            "sizeref": 4.32,
            "symbol": "circle"
           },
           "mode": "markers",
           "name": "Forretningsmessig tenesteyting",
           "orientation": "v",
           "showlegend": true,
           "type": "scatter",
           "x": [
            3.4
           ],
           "xaxis": "x",
           "y": [
            122
           ],
           "yaxis": "y"
          },
          {
           "hovertemplate": "<b>%{hovertext}</b><br><br>næring (SN2007)=Offentleg administrasjon og forsvar, og trygdeordningar underordna offentleg forvalting<br>kvartal=2020K3<br>Ledige stillingar (prosent)=%{x}<br>Sysselsatte=%{y}<br>Ledige stillingar=%{marker.size}<extra></extra>",
           "hovertext": [
            "Offentleg administrasjon og forsvar, og trygdeordningar underordna offentleg forvalting"
           ],
           "ids": [
            "Offentleg administrasjon og forsvar, og trygdeordningar underordna offentleg forvalting"
           ],
           "legendgroup": "Offentleg administrasjon og forsvar, og trygdeordningar underordna offentleg forvalting",
           "marker": {
            "color": "#B6E880",
            "size": [
             4800
            ],
            "sizemode": "area",
            "sizeref": 4.32,
            "symbol": "circle"
           },
           "mode": "markers",
           "name": "Offentleg administrasjon og forsvar, og trygdeordningar underordna offentleg forvalting",
           "orientation": "v",
           "showlegend": true,
           "type": "scatter",
           "x": [
            2.5
           ],
           "xaxis": "x",
           "y": [
            166
           ],
           "yaxis": "y"
          },
          {
           "hovertemplate": "<b>%{hovertext}</b><br><br>næring (SN2007)=Undervisning<br>kvartal=2020K3<br>Ledige stillingar (prosent)=%{x}<br>Sysselsatte=%{y}<br>Ledige stillingar=%{marker.size}<extra></extra>",
           "hovertext": [
            "Undervisning"
           ],
           "ids": [
            "Undervisning"
           ],
           "legendgroup": "Undervisning",
           "marker": {
            "color": "#FF97FF",
            "size": [
             3300
            ],
            "sizemode": "area",
            "sizeref": 4.32,
            "symbol": "circle"
           },
           "mode": "markers",
           "name": "Undervisning",
           "orientation": "v",
           "showlegend": true,
           "type": "scatter",
           "x": [
            1.4
           ],
           "xaxis": "x",
           "y": [
            222
           ],
           "yaxis": "y"
          },
          {
           "hovertemplate": "<b>%{hovertext}</b><br><br>næring (SN2007)=Kulturell verksemd, underhaldning og fritidsaktivitetar<br>kvartal=2020K3<br>Ledige stillingar (prosent)=%{x}<br>Sysselsatte=%{y}<br>Ledige stillingar=%{marker.size}<extra></extra>",
           "hovertext": [
            "Kulturell verksemd, underhaldning og fritidsaktivitetar"
           ],
           "ids": [
            "Kulturell verksemd, underhaldning og fritidsaktivitetar"
           ],
           "legendgroup": "Kulturell verksemd, underhaldning og fritidsaktivitetar",
           "marker": {
            "color": "#FECB52",
            "size": [
             600
            ],
            "sizemode": "area",
            "sizeref": 4.32,
            "symbol": "circle"
           },
           "mode": "markers",
           "name": "Kulturell verksemd, underhaldning og fritidsaktivitetar",
           "orientation": "v",
           "showlegend": true,
           "type": "scatter",
           "x": [
            1.2
           ],
           "xaxis": "x",
           "y": [
            70
           ],
           "yaxis": "y"
          }
         ],
         "name": "2020K3"
        },
        {
         "data": [
          {
           "hovertemplate": "<b>%{hovertext}</b><br><br>næring (SN2007)=Bergverksdrift og utvinning<br>kvartal=2020K4<br>Ledige stillingar (prosent)=%{x}<br>Sysselsatte=%{y}<br>Ledige stillingar=%{marker.size}<extra></extra>",
           "hovertext": [
            "Bergverksdrift og utvinning"
           ],
           "ids": [
            "Bergverksdrift og utvinning"
           ],
           "legendgroup": "Bergverksdrift og utvinning",
           "marker": {
            "color": "#636efa",
            "size": [
             700
            ],
            "sizemode": "area",
            "sizeref": 4.32,
            "symbol": "circle"
           },
           "mode": "markers",
           "name": "Bergverksdrift og utvinning",
           "orientation": "v",
           "showlegend": true,
           "type": "scatter",
           "x": [
            1.2
           ],
           "xaxis": "x",
           "y": [
            63
           ],
           "yaxis": "y"
          },
          {
           "hovertemplate": "<b>%{hovertext}</b><br><br>næring (SN2007)=Byggje- og anleggsverksemd<br>kvartal=2020K4<br>Ledige stillingar (prosent)=%{x}<br>Sysselsatte=%{y}<br>Ledige stillingar=%{marker.size}<extra></extra>",
           "hovertext": [
            "Byggje- og anleggsverksemd"
           ],
           "ids": [
            "Byggje- og anleggsverksemd"
           ],
           "legendgroup": "Byggje- og anleggsverksemd",
           "marker": {
            "color": "#EF553B",
            "size": [
             4300
            ],
            "sizemode": "area",
            "sizeref": 4.32,
            "symbol": "circle"
           },
           "mode": "markers",
           "name": "Byggje- og anleggsverksemd",
           "orientation": "v",
           "showlegend": true,
           "type": "scatter",
           "x": [
            1.7
           ],
           "xaxis": "x",
           "y": [
            230
           ],
           "yaxis": "y"
          },
          {
           "hovertemplate": "<b>%{hovertext}</b><br><br>næring (SN2007)=Informasjon og kommunikasjon<br>kvartal=2020K4<br>Ledige stillingar (prosent)=%{x}<br>Sysselsatte=%{y}<br>Ledige stillingar=%{marker.size}<extra></extra>",
           "hovertext": [
            "Informasjon og kommunikasjon"
           ],
           "ids": [
            "Informasjon og kommunikasjon"
           ],
           "legendgroup": "Informasjon og kommunikasjon",
           "marker": {
            "color": "#00cc96",
            "size": [
             4500
            ],
            "sizemode": "area",
            "sizeref": 4.32,
            "symbol": "circle"
           },
           "mode": "markers",
           "name": "Informasjon og kommunikasjon",
           "orientation": "v",
           "showlegend": true,
           "type": "scatter",
           "x": [
            4.2
           ],
           "xaxis": "x",
           "y": [
            110
           ],
           "yaxis": "y"
          },
          {
           "hovertemplate": "<b>%{hovertext}</b><br><br>næring (SN2007)=Finansierings- og forsikringsverksemd<br>kvartal=2020K4<br>Ledige stillingar (prosent)=%{x}<br>Sysselsatte=%{y}<br>Ledige stillingar=%{marker.size}<extra></extra>",
           "hovertext": [
            "Finansierings- og forsikringsverksemd"
           ],
           "ids": [
            "Finansierings- og forsikringsverksemd"
           ],
           "legendgroup": "Finansierings- og forsikringsverksemd",
           "marker": {
            "color": "#ab63fa",
            "size": [
             800
            ],
            "sizemode": "area",
            "sizeref": 4.32,
            "symbol": "circle"
           },
           "mode": "markers",
           "name": "Finansierings- og forsikringsverksemd",
           "orientation": "v",
           "showlegend": true,
           "type": "scatter",
           "x": [
            1.5
           ],
           "xaxis": "x",
           "y": [
            52
           ],
           "yaxis": "y"
          },
          {
           "hovertemplate": "<b>%{hovertext}</b><br><br>næring (SN2007)=Omsetning og drift av fast eigedom<br>kvartal=2020K4<br>Ledige stillingar (prosent)=%{x}<br>Sysselsatte=%{y}<br>Ledige stillingar=%{marker.size}<extra></extra>",
           "hovertext": [
            "Omsetning og drift av fast eigedom"
           ],
           "ids": [
            "Omsetning og drift av fast eigedom"
           ],
           "legendgroup": "Omsetning og drift av fast eigedom",
           "marker": {
            "color": "#FFA15A",
            "size": [
             700
            ],
            "sizemode": "area",
            "sizeref": 4.32,
            "symbol": "circle"
           },
           "mode": "markers",
           "name": "Omsetning og drift av fast eigedom",
           "orientation": "v",
           "showlegend": true,
           "type": "scatter",
           "x": [
            2.5
           ],
           "xaxis": "x",
           "y": [
            27
           ],
           "yaxis": "y"
          },
          {
           "hovertemplate": "<b>%{hovertext}</b><br><br>næring (SN2007)=Fagleg, vitskapleg og teknisk tenesteyting<br>kvartal=2020K4<br>Ledige stillingar (prosent)=%{x}<br>Sysselsatte=%{y}<br>Ledige stillingar=%{marker.size}<extra></extra>",
           "hovertext": [
            "Fagleg, vitskapleg og teknisk tenesteyting"
           ],
           "ids": [
            "Fagleg, vitskapleg og teknisk tenesteyting"
           ],
           "legendgroup": "Fagleg, vitskapleg og teknisk tenesteyting",
           "marker": {
            "color": "#19d3f3",
            "size": [
             4500
            ],
            "sizemode": "area",
            "sizeref": 4.32,
            "symbol": "circle"
           },
           "mode": "markers",
           "name": "Fagleg, vitskapleg og teknisk tenesteyting",
           "orientation": "v",
           "showlegend": true,
           "type": "scatter",
           "x": [
            3.1
           ],
           "xaxis": "x",
           "y": [
            161
           ],
           "yaxis": "y"
          },
          {
           "hovertemplate": "<b>%{hovertext}</b><br><br>næring (SN2007)=Forretningsmessig tenesteyting<br>kvartal=2020K4<br>Ledige stillingar (prosent)=%{x}<br>Sysselsatte=%{y}<br>Ledige stillingar=%{marker.size}<extra></extra>",
           "hovertext": [
            "Forretningsmessig tenesteyting"
           ],
           "ids": [
            "Forretningsmessig tenesteyting"
           ],
           "legendgroup": "Forretningsmessig tenesteyting",
           "marker": {
            "color": "#FF6692",
            "size": [
             4300
            ],
            "sizemode": "area",
            "sizeref": 4.32,
            "symbol": "circle"
           },
           "mode": "markers",
           "name": "Forretningsmessig tenesteyting",
           "orientation": "v",
           "showlegend": true,
           "type": "scatter",
           "x": [
            2.8
           ],
           "xaxis": "x",
           "y": [
            124
           ],
           "yaxis": "y"
          },
          {
           "hovertemplate": "<b>%{hovertext}</b><br><br>næring (SN2007)=Offentleg administrasjon og forsvar, og trygdeordningar underordna offentleg forvalting<br>kvartal=2020K4<br>Ledige stillingar (prosent)=%{x}<br>Sysselsatte=%{y}<br>Ledige stillingar=%{marker.size}<extra></extra>",
           "hovertext": [
            "Offentleg administrasjon og forsvar, og trygdeordningar underordna offentleg forvalting"
           ],
           "ids": [
            "Offentleg administrasjon og forsvar, og trygdeordningar underordna offentleg forvalting"
           ],
           "legendgroup": "Offentleg administrasjon og forsvar, og trygdeordningar underordna offentleg forvalting",
           "marker": {
            "color": "#B6E880",
            "size": [
             4800
            ],
            "sizemode": "area",
            "sizeref": 4.32,
            "symbol": "circle"
           },
           "mode": "markers",
           "name": "Offentleg administrasjon og forsvar, og trygdeordningar underordna offentleg forvalting",
           "orientation": "v",
           "showlegend": true,
           "type": "scatter",
           "x": [
            2.5
           ],
           "xaxis": "x",
           "y": [
            176
           ],
           "yaxis": "y"
          },
          {
           "hovertemplate": "<b>%{hovertext}</b><br><br>næring (SN2007)=Undervisning<br>kvartal=2020K4<br>Ledige stillingar (prosent)=%{x}<br>Sysselsatte=%{y}<br>Ledige stillingar=%{marker.size}<extra></extra>",
           "hovertext": [
            "Undervisning"
           ],
           "ids": [
            "Undervisning"
           ],
           "legendgroup": "Undervisning",
           "marker": {
            "color": "#FF97FF",
            "size": [
             3500
            ],
            "sizemode": "area",
            "sizeref": 4.32,
            "symbol": "circle"
           },
           "mode": "markers",
           "name": "Undervisning",
           "orientation": "v",
           "showlegend": true,
           "type": "scatter",
           "x": [
            1.4
           ],
           "xaxis": "x",
           "y": [
            230
           ],
           "yaxis": "y"
          },
          {
           "hovertemplate": "<b>%{hovertext}</b><br><br>næring (SN2007)=Kulturell verksemd, underhaldning og fritidsaktivitetar<br>kvartal=2020K4<br>Ledige stillingar (prosent)=%{x}<br>Sysselsatte=%{y}<br>Ledige stillingar=%{marker.size}<extra></extra>",
           "hovertext": [
            "Kulturell verksemd, underhaldning og fritidsaktivitetar"
           ],
           "ids": [
            "Kulturell verksemd, underhaldning og fritidsaktivitetar"
           ],
           "legendgroup": "Kulturell verksemd, underhaldning og fritidsaktivitetar",
           "marker": {
            "color": "#FECB52",
            "size": [
             1300
            ],
            "sizemode": "area",
            "sizeref": 4.32,
            "symbol": "circle"
           },
           "mode": "markers",
           "name": "Kulturell verksemd, underhaldning og fritidsaktivitetar",
           "orientation": "v",
           "showlegend": true,
           "type": "scatter",
           "x": [
            2.6
           ],
           "xaxis": "x",
           "y": [
            67
           ],
           "yaxis": "y"
          }
         ],
         "name": "2020K4"
        }
       ],
       "layout": {
        "legend": {
         "itemsizing": "constant",
         "title": {
          "text": "næring (SN2007)"
         },
         "tracegroupgap": 0
        },
        "margin": {
         "t": 60
        },
        "showlegend": false,
        "sliders": [
         {
          "active": 0,
          "currentvalue": {
           "prefix": "kvartal="
          },
          "len": 0.9,
          "pad": {
           "b": 10,
           "t": 60
          },
          "steps": [
           {
            "args": [
             [
              "2011K1"
             ],
             {
              "frame": {
               "duration": 0,
               "redraw": false
              },
              "fromcurrent": true,
              "mode": "immediate",
              "transition": {
               "duration": 0,
               "easing": "linear"
              }
             }
            ],
            "label": "2011K1",
            "method": "animate"
           },
           {
            "args": [
             [
              "2011K2"
             ],
             {
              "frame": {
               "duration": 0,
               "redraw": false
              },
              "fromcurrent": true,
              "mode": "immediate",
              "transition": {
               "duration": 0,
               "easing": "linear"
              }
             }
            ],
            "label": "2011K2",
            "method": "animate"
           },
           {
            "args": [
             [
              "2011K3"
             ],
             {
              "frame": {
               "duration": 0,
               "redraw": false
              },
              "fromcurrent": true,
              "mode": "immediate",
              "transition": {
               "duration": 0,
               "easing": "linear"
              }
             }
            ],
            "label": "2011K3",
            "method": "animate"
           },
           {
            "args": [
             [
              "2011K4"
             ],
             {
              "frame": {
               "duration": 0,
               "redraw": false
              },
              "fromcurrent": true,
              "mode": "immediate",
              "transition": {
               "duration": 0,
               "easing": "linear"
              }
             }
            ],
            "label": "2011K4",
            "method": "animate"
           },
           {
            "args": [
             [
              "2012K1"
             ],
             {
              "frame": {
               "duration": 0,
               "redraw": false
              },
              "fromcurrent": true,
              "mode": "immediate",
              "transition": {
               "duration": 0,
               "easing": "linear"
              }
             }
            ],
            "label": "2012K1",
            "method": "animate"
           },
           {
            "args": [
             [
              "2012K2"
             ],
             {
              "frame": {
               "duration": 0,
               "redraw": false
              },
              "fromcurrent": true,
              "mode": "immediate",
              "transition": {
               "duration": 0,
               "easing": "linear"
              }
             }
            ],
            "label": "2012K2",
            "method": "animate"
           },
           {
            "args": [
             [
              "2012K3"
             ],
             {
              "frame": {
               "duration": 0,
               "redraw": false
              },
              "fromcurrent": true,
              "mode": "immediate",
              "transition": {
               "duration": 0,
               "easing": "linear"
              }
             }
            ],
            "label": "2012K3",
            "method": "animate"
           },
           {
            "args": [
             [
              "2012K4"
             ],
             {
              "frame": {
               "duration": 0,
               "redraw": false
              },
              "fromcurrent": true,
              "mode": "immediate",
              "transition": {
               "duration": 0,
               "easing": "linear"
              }
             }
            ],
            "label": "2012K4",
            "method": "animate"
           },
           {
            "args": [
             [
              "2013K1"
             ],
             {
              "frame": {
               "duration": 0,
               "redraw": false
              },
              "fromcurrent": true,
              "mode": "immediate",
              "transition": {
               "duration": 0,
               "easing": "linear"
              }
             }
            ],
            "label": "2013K1",
            "method": "animate"
           },
           {
            "args": [
             [
              "2013K2"
             ],
             {
              "frame": {
               "duration": 0,
               "redraw": false
              },
              "fromcurrent": true,
              "mode": "immediate",
              "transition": {
               "duration": 0,
               "easing": "linear"
              }
             }
            ],
            "label": "2013K2",
            "method": "animate"
           },
           {
            "args": [
             [
              "2013K3"
             ],
             {
              "frame": {
               "duration": 0,
               "redraw": false
              },
              "fromcurrent": true,
              "mode": "immediate",
              "transition": {
               "duration": 0,
               "easing": "linear"
              }
             }
            ],
            "label": "2013K3",
            "method": "animate"
           },
           {
            "args": [
             [
              "2013K4"
             ],
             {
              "frame": {
               "duration": 0,
               "redraw": false
              },
              "fromcurrent": true,
              "mode": "immediate",
              "transition": {
               "duration": 0,
               "easing": "linear"
              }
             }
            ],
            "label": "2013K4",
            "method": "animate"
           },
           {
            "args": [
             [
              "2014K1"
             ],
             {
              "frame": {
               "duration": 0,
               "redraw": false
              },
              "fromcurrent": true,
              "mode": "immediate",
              "transition": {
               "duration": 0,
               "easing": "linear"
              }
             }
            ],
            "label": "2014K1",
            "method": "animate"
           },
           {
            "args": [
             [
              "2014K2"
             ],
             {
              "frame": {
               "duration": 0,
               "redraw": false
              },
              "fromcurrent": true,
              "mode": "immediate",
              "transition": {
               "duration": 0,
               "easing": "linear"
              }
             }
            ],
            "label": "2014K2",
            "method": "animate"
           },
           {
            "args": [
             [
              "2014K3"
             ],
             {
              "frame": {
               "duration": 0,
               "redraw": false
              },
              "fromcurrent": true,
              "mode": "immediate",
              "transition": {
               "duration": 0,
               "easing": "linear"
              }
             }
            ],
            "label": "2014K3",
            "method": "animate"
           },
           {
            "args": [
             [
              "2014K4"
             ],
             {
              "frame": {
               "duration": 0,
               "redraw": false
              },
              "fromcurrent": true,
              "mode": "immediate",
              "transition": {
               "duration": 0,
               "easing": "linear"
              }
             }
            ],
            "label": "2014K4",
            "method": "animate"
           },
           {
            "args": [
             [
              "2015K1"
             ],
             {
              "frame": {
               "duration": 0,
               "redraw": false
              },
              "fromcurrent": true,
              "mode": "immediate",
              "transition": {
               "duration": 0,
               "easing": "linear"
              }
             }
            ],
            "label": "2015K1",
            "method": "animate"
           },
           {
            "args": [
             [
              "2015K2"
             ],
             {
              "frame": {
               "duration": 0,
               "redraw": false
              },
              "fromcurrent": true,
              "mode": "immediate",
              "transition": {
               "duration": 0,
               "easing": "linear"
              }
             }
            ],
            "label": "2015K2",
            "method": "animate"
           },
           {
            "args": [
             [
              "2015K3"
             ],
             {
              "frame": {
               "duration": 0,
               "redraw": false
              },
              "fromcurrent": true,
              "mode": "immediate",
              "transition": {
               "duration": 0,
               "easing": "linear"
              }
             }
            ],
            "label": "2015K3",
            "method": "animate"
           },
           {
            "args": [
             [
              "2015K4"
             ],
             {
              "frame": {
               "duration": 0,
               "redraw": false
              },
              "fromcurrent": true,
              "mode": "immediate",
              "transition": {
               "duration": 0,
               "easing": "linear"
              }
             }
            ],
            "label": "2015K4",
            "method": "animate"
           },
           {
            "args": [
             [
              "2016K1"
             ],
             {
              "frame": {
               "duration": 0,
               "redraw": false
              },
              "fromcurrent": true,
              "mode": "immediate",
              "transition": {
               "duration": 0,
               "easing": "linear"
              }
             }
            ],
            "label": "2016K1",
            "method": "animate"
           },
           {
            "args": [
             [
              "2016K2"
             ],
             {
              "frame": {
               "duration": 0,
               "redraw": false
              },
              "fromcurrent": true,
              "mode": "immediate",
              "transition": {
               "duration": 0,
               "easing": "linear"
              }
             }
            ],
            "label": "2016K2",
            "method": "animate"
           },
           {
            "args": [
             [
              "2016K3"
             ],
             {
              "frame": {
               "duration": 0,
               "redraw": false
              },
              "fromcurrent": true,
              "mode": "immediate",
              "transition": {
               "duration": 0,
               "easing": "linear"
              }
             }
            ],
            "label": "2016K3",
            "method": "animate"
           },
           {
            "args": [
             [
              "2016K4"
             ],
             {
              "frame": {
               "duration": 0,
               "redraw": false
              },
              "fromcurrent": true,
              "mode": "immediate",
              "transition": {
               "duration": 0,
               "easing": "linear"
              }
             }
            ],
            "label": "2016K4",
            "method": "animate"
           },
           {
            "args": [
             [
              "2017K1"
             ],
             {
              "frame": {
               "duration": 0,
               "redraw": false
              },
              "fromcurrent": true,
              "mode": "immediate",
              "transition": {
               "duration": 0,
               "easing": "linear"
              }
             }
            ],
            "label": "2017K1",
            "method": "animate"
           },
           {
            "args": [
             [
              "2017K2"
             ],
             {
              "frame": {
               "duration": 0,
               "redraw": false
              },
              "fromcurrent": true,
              "mode": "immediate",
              "transition": {
               "duration": 0,
               "easing": "linear"
              }
             }
            ],
            "label": "2017K2",
            "method": "animate"
           },
           {
            "args": [
             [
              "2017K3"
             ],
             {
              "frame": {
               "duration": 0,
               "redraw": false
              },
              "fromcurrent": true,
              "mode": "immediate",
              "transition": {
               "duration": 0,
               "easing": "linear"
              }
             }
            ],
            "label": "2017K3",
            "method": "animate"
           },
           {
            "args": [
             [
              "2017K4"
             ],
             {
              "frame": {
               "duration": 0,
               "redraw": false
              },
              "fromcurrent": true,
              "mode": "immediate",
              "transition": {
               "duration": 0,
               "easing": "linear"
              }
             }
            ],
            "label": "2017K4",
            "method": "animate"
           },
           {
            "args": [
             [
              "2018K1"
             ],
             {
              "frame": {
               "duration": 0,
               "redraw": false
              },
              "fromcurrent": true,
              "mode": "immediate",
              "transition": {
               "duration": 0,
               "easing": "linear"
              }
             }
            ],
            "label": "2018K1",
            "method": "animate"
           },
           {
            "args": [
             [
              "2018K2"
             ],
             {
              "frame": {
               "duration": 0,
               "redraw": false
              },
              "fromcurrent": true,
              "mode": "immediate",
              "transition": {
               "duration": 0,
               "easing": "linear"
              }
             }
            ],
            "label": "2018K2",
            "method": "animate"
           },
           {
            "args": [
             [
              "2018K3"
             ],
             {
              "frame": {
               "duration": 0,
               "redraw": false
              },
              "fromcurrent": true,
              "mode": "immediate",
              "transition": {
               "duration": 0,
               "easing": "linear"
              }
             }
            ],
            "label": "2018K3",
            "method": "animate"
           },
           {
            "args": [
             [
              "2018K4"
             ],
             {
              "frame": {
               "duration": 0,
               "redraw": false
              },
              "fromcurrent": true,
              "mode": "immediate",
              "transition": {
               "duration": 0,
               "easing": "linear"
              }
             }
            ],
            "label": "2018K4",
            "method": "animate"
           },
           {
            "args": [
             [
              "2019K1"
             ],
             {
              "frame": {
               "duration": 0,
               "redraw": false
              },
              "fromcurrent": true,
              "mode": "immediate",
              "transition": {
               "duration": 0,
               "easing": "linear"
              }
             }
            ],
            "label": "2019K1",
            "method": "animate"
           },
           {
            "args": [
             [
              "2019K2"
             ],
             {
              "frame": {
               "duration": 0,
               "redraw": false
              },
              "fromcurrent": true,
              "mode": "immediate",
              "transition": {
               "duration": 0,
               "easing": "linear"
              }
             }
            ],
            "label": "2019K2",
            "method": "animate"
           },
           {
            "args": [
             [
              "2019K3"
             ],
             {
              "frame": {
               "duration": 0,
               "redraw": false
              },
              "fromcurrent": true,
              "mode": "immediate",
              "transition": {
               "duration": 0,
               "easing": "linear"
              }
             }
            ],
            "label": "2019K3",
            "method": "animate"
           },
           {
            "args": [
             [
              "2019K4"
             ],
             {
              "frame": {
               "duration": 0,
               "redraw": false
              },
              "fromcurrent": true,
              "mode": "immediate",
              "transition": {
               "duration": 0,
               "easing": "linear"
              }
             }
            ],
            "label": "2019K4",
            "method": "animate"
           },
           {
            "args": [
             [
              "2020K1"
             ],
             {
              "frame": {
               "duration": 0,
               "redraw": false
              },
              "fromcurrent": true,
              "mode": "immediate",
              "transition": {
               "duration": 0,
               "easing": "linear"
              }
             }
            ],
            "label": "2020K1",
            "method": "animate"
           },
           {
            "args": [
             [
              "2020K2"
             ],
             {
              "frame": {
               "duration": 0,
               "redraw": false
              },
              "fromcurrent": true,
              "mode": "immediate",
              "transition": {
               "duration": 0,
               "easing": "linear"
              }
             }
            ],
            "label": "2020K2",
            "method": "animate"
           },
           {
            "args": [
             [
              "2020K3"
             ],
             {
              "frame": {
               "duration": 0,
               "redraw": false
              },
              "fromcurrent": true,
              "mode": "immediate",
              "transition": {
               "duration": 0,
               "easing": "linear"
              }
             }
            ],
            "label": "2020K3",
            "method": "animate"
           },
           {
            "args": [
             [
              "2020K4"
             ],
             {
              "frame": {
               "duration": 0,
               "redraw": false
              },
              "fromcurrent": true,
              "mode": "immediate",
              "transition": {
               "duration": 0,
               "easing": "linear"
              }
             }
            ],
            "label": "2020K4",
            "method": "animate"
           }
          ],
          "x": 0.1,
          "xanchor": "left",
          "y": 0,
          "yanchor": "top"
         }
        ],
        "template": {
         "data": {
          "bar": [
           {
            "error_x": {
             "color": "#2a3f5f"
            },
            "error_y": {
             "color": "#2a3f5f"
            },
            "marker": {
             "line": {
              "color": "#E5ECF6",
              "width": 0.5
             }
            },
            "type": "bar"
           }
          ],
          "barpolar": [
           {
            "marker": {
             "line": {
              "color": "#E5ECF6",
              "width": 0.5
             }
            },
            "type": "barpolar"
           }
          ],
          "carpet": [
           {
            "aaxis": {
             "endlinecolor": "#2a3f5f",
             "gridcolor": "white",
             "linecolor": "white",
             "minorgridcolor": "white",
             "startlinecolor": "#2a3f5f"
            },
            "baxis": {
             "endlinecolor": "#2a3f5f",
             "gridcolor": "white",
             "linecolor": "white",
             "minorgridcolor": "white",
             "startlinecolor": "#2a3f5f"
            },
            "type": "carpet"
           }
          ],
          "choropleth": [
           {
            "colorbar": {
             "outlinewidth": 0,
             "ticks": ""
            },
            "type": "choropleth"
           }
          ],
          "contour": [
           {
            "colorbar": {
             "outlinewidth": 0,
             "ticks": ""
            },
            "colorscale": [
             [
              0,
              "#0d0887"
             ],
             [
              0.1111111111111111,
              "#46039f"
             ],
             [
              0.2222222222222222,
              "#7201a8"
             ],
             [
              0.3333333333333333,
              "#9c179e"
             ],
             [
              0.4444444444444444,
              "#bd3786"
             ],
             [
              0.5555555555555556,
              "#d8576b"
             ],
             [
              0.6666666666666666,
              "#ed7953"
             ],
             [
              0.7777777777777778,
              "#fb9f3a"
             ],
             [
              0.8888888888888888,
              "#fdca26"
             ],
             [
              1,
              "#f0f921"
             ]
            ],
            "type": "contour"
           }
          ],
          "contourcarpet": [
           {
            "colorbar": {
             "outlinewidth": 0,
             "ticks": ""
            },
            "type": "contourcarpet"
           }
          ],
          "heatmap": [
           {
            "colorbar": {
             "outlinewidth": 0,
             "ticks": ""
            },
            "colorscale": [
             [
              0,
              "#0d0887"
             ],
             [
              0.1111111111111111,
              "#46039f"
             ],
             [
              0.2222222222222222,
              "#7201a8"
             ],
             [
              0.3333333333333333,
              "#9c179e"
             ],
             [
              0.4444444444444444,
              "#bd3786"
             ],
             [
              0.5555555555555556,
              "#d8576b"
             ],
             [
              0.6666666666666666,
              "#ed7953"
             ],
             [
              0.7777777777777778,
              "#fb9f3a"
             ],
             [
              0.8888888888888888,
              "#fdca26"
             ],
             [
              1,
              "#f0f921"
             ]
            ],
            "type": "heatmap"
           }
          ],
          "heatmapgl": [
           {
            "colorbar": {
             "outlinewidth": 0,
             "ticks": ""
            },
            "colorscale": [
             [
              0,
              "#0d0887"
             ],
             [
              0.1111111111111111,
              "#46039f"
             ],
             [
              0.2222222222222222,
              "#7201a8"
             ],
             [
              0.3333333333333333,
              "#9c179e"
             ],
             [
              0.4444444444444444,
              "#bd3786"
             ],
             [
              0.5555555555555556,
              "#d8576b"
             ],
             [
              0.6666666666666666,
              "#ed7953"
             ],
             [
              0.7777777777777778,
              "#fb9f3a"
             ],
             [
              0.8888888888888888,
              "#fdca26"
             ],
             [
              1,
              "#f0f921"
             ]
            ],
            "type": "heatmapgl"
           }
          ],
          "histogram": [
           {
            "marker": {
             "colorbar": {
              "outlinewidth": 0,
              "ticks": ""
             }
            },
            "type": "histogram"
           }
          ],
          "histogram2d": [
           {
            "colorbar": {
             "outlinewidth": 0,
             "ticks": ""
            },
            "colorscale": [
             [
              0,
              "#0d0887"
             ],
             [
              0.1111111111111111,
              "#46039f"
             ],
             [
              0.2222222222222222,
              "#7201a8"
             ],
             [
              0.3333333333333333,
              "#9c179e"
             ],
             [
              0.4444444444444444,
              "#bd3786"
             ],
             [
              0.5555555555555556,
              "#d8576b"
             ],
             [
              0.6666666666666666,
              "#ed7953"
             ],
             [
              0.7777777777777778,
              "#fb9f3a"
             ],
             [
              0.8888888888888888,
              "#fdca26"
             ],
             [
              1,
              "#f0f921"
             ]
            ],
            "type": "histogram2d"
           }
          ],
          "histogram2dcontour": [
           {
            "colorbar": {
             "outlinewidth": 0,
             "ticks": ""
            },
            "colorscale": [
             [
              0,
              "#0d0887"
             ],
             [
              0.1111111111111111,
              "#46039f"
             ],
             [
              0.2222222222222222,
              "#7201a8"
             ],
             [
              0.3333333333333333,
              "#9c179e"
             ],
             [
              0.4444444444444444,
              "#bd3786"
             ],
             [
              0.5555555555555556,
              "#d8576b"
             ],
             [
              0.6666666666666666,
              "#ed7953"
             ],
             [
              0.7777777777777778,
              "#fb9f3a"
             ],
             [
              0.8888888888888888,
              "#fdca26"
             ],
             [
              1,
              "#f0f921"
             ]
            ],
            "type": "histogram2dcontour"
           }
          ],
          "mesh3d": [
           {
            "colorbar": {
             "outlinewidth": 0,
             "ticks": ""
            },
            "type": "mesh3d"
           }
          ],
          "parcoords": [
           {
            "line": {
             "colorbar": {
              "outlinewidth": 0,
              "ticks": ""
             }
            },
            "type": "parcoords"
           }
          ],
          "pie": [
           {
            "automargin": true,
            "type": "pie"
           }
          ],
          "scatter": [
           {
            "marker": {
             "colorbar": {
              "outlinewidth": 0,
              "ticks": ""
             }
            },
            "type": "scatter"
           }
          ],
          "scatter3d": [
           {
            "line": {
             "colorbar": {
              "outlinewidth": 0,
              "ticks": ""
             }
            },
            "marker": {
             "colorbar": {
              "outlinewidth": 0,
              "ticks": ""
             }
            },
            "type": "scatter3d"
           }
          ],
          "scattercarpet": [
           {
            "marker": {
             "colorbar": {
              "outlinewidth": 0,
              "ticks": ""
             }
            },
            "type": "scattercarpet"
           }
          ],
          "scattergeo": [
           {
            "marker": {
             "colorbar": {
              "outlinewidth": 0,
              "ticks": ""
             }
            },
            "type": "scattergeo"
           }
          ],
          "scattergl": [
           {
            "marker": {
             "colorbar": {
              "outlinewidth": 0,
              "ticks": ""
             }
            },
            "type": "scattergl"
           }
          ],
          "scattermapbox": [
           {
            "marker": {
             "colorbar": {
              "outlinewidth": 0,
              "ticks": ""
             }
            },
            "type": "scattermapbox"
           }
          ],
          "scatterpolar": [
           {
            "marker": {
             "colorbar": {
              "outlinewidth": 0,
              "ticks": ""
             }
            },
            "type": "scatterpolar"
           }
          ],
          "scatterpolargl": [
           {
            "marker": {
             "colorbar": {
              "outlinewidth": 0,
              "ticks": ""
             }
            },
            "type": "scatterpolargl"
           }
          ],
          "scatterternary": [
           {
            "marker": {
             "colorbar": {
              "outlinewidth": 0,
              "ticks": ""
             }
            },
            "type": "scatterternary"
           }
          ],
          "surface": [
           {
            "colorbar": {
             "outlinewidth": 0,
             "ticks": ""
            },
            "colorscale": [
             [
              0,
              "#0d0887"
             ],
             [
              0.1111111111111111,
              "#46039f"
             ],
             [
              0.2222222222222222,
              "#7201a8"
             ],
             [
              0.3333333333333333,
              "#9c179e"
             ],
             [
              0.4444444444444444,
              "#bd3786"
             ],
             [
              0.5555555555555556,
              "#d8576b"
             ],
             [
              0.6666666666666666,
              "#ed7953"
             ],
             [
              0.7777777777777778,
              "#fb9f3a"
             ],
             [
              0.8888888888888888,
              "#fdca26"
             ],
             [
              1,
              "#f0f921"
             ]
            ],
            "type": "surface"
           }
          ],
          "table": [
           {
            "cells": {
             "fill": {
              "color": "#EBF0F8"
             },
             "line": {
              "color": "white"
             }
            },
            "header": {
             "fill": {
              "color": "#C8D4E3"
             },
             "line": {
              "color": "white"
             }
            },
            "type": "table"
           }
          ]
         },
         "layout": {
          "annotationdefaults": {
           "arrowcolor": "#2a3f5f",
           "arrowhead": 0,
           "arrowwidth": 1
          },
          "autotypenumbers": "strict",
          "coloraxis": {
           "colorbar": {
            "outlinewidth": 0,
            "ticks": ""
           }
          },
          "colorscale": {
           "diverging": [
            [
             0,
             "#8e0152"
            ],
            [
             0.1,
             "#c51b7d"
            ],
            [
             0.2,
             "#de77ae"
            ],
            [
             0.3,
             "#f1b6da"
            ],
            [
             0.4,
             "#fde0ef"
            ],
            [
             0.5,
             "#f7f7f7"
            ],
            [
             0.6,
             "#e6f5d0"
            ],
            [
             0.7,
             "#b8e186"
            ],
            [
             0.8,
             "#7fbc41"
            ],
            [
             0.9,
             "#4d9221"
            ],
            [
             1,
             "#276419"
            ]
           ],
           "sequential": [
            [
             0,
             "#0d0887"
            ],
            [
             0.1111111111111111,
             "#46039f"
            ],
            [
             0.2222222222222222,
             "#7201a8"
            ],
            [
             0.3333333333333333,
             "#9c179e"
            ],
            [
             0.4444444444444444,
             "#bd3786"
            ],
            [
             0.5555555555555556,
             "#d8576b"
            ],
            [
             0.6666666666666666,
             "#ed7953"
            ],
            [
             0.7777777777777778,
             "#fb9f3a"
            ],
            [
             0.8888888888888888,
             "#fdca26"
            ],
            [
             1,
             "#f0f921"
            ]
           ],
           "sequentialminus": [
            [
             0,
             "#0d0887"
            ],
            [
             0.1111111111111111,
             "#46039f"
            ],
            [
             0.2222222222222222,
             "#7201a8"
            ],
            [
             0.3333333333333333,
             "#9c179e"
            ],
            [
             0.4444444444444444,
             "#bd3786"
            ],
            [
             0.5555555555555556,
             "#d8576b"
            ],
            [
             0.6666666666666666,
             "#ed7953"
            ],
            [
             0.7777777777777778,
             "#fb9f3a"
            ],
            [
             0.8888888888888888,
             "#fdca26"
            ],
            [
             1,
             "#f0f921"
            ]
           ]
          },
          "colorway": [
           "#636efa",
           "#EF553B",
           "#00cc96",
           "#ab63fa",
           "#FFA15A",
           "#19d3f3",
           "#FF6692",
           "#B6E880",
           "#FF97FF",
           "#FECB52"
          ],
          "font": {
           "color": "#2a3f5f"
          },
          "geo": {
           "bgcolor": "white",
           "lakecolor": "white",
           "landcolor": "#E5ECF6",
           "showlakes": true,
           "showland": true,
           "subunitcolor": "white"
          },
          "hoverlabel": {
           "align": "left"
          },
          "hovermode": "closest",
          "mapbox": {
           "style": "light"
          },
          "paper_bgcolor": "white",
          "plot_bgcolor": "#E5ECF6",
          "polar": {
           "angularaxis": {
            "gridcolor": "white",
            "linecolor": "white",
            "ticks": ""
           },
           "bgcolor": "#E5ECF6",
           "radialaxis": {
            "gridcolor": "white",
            "linecolor": "white",
            "ticks": ""
           }
          },
          "scene": {
           "xaxis": {
            "backgroundcolor": "#E5ECF6",
            "gridcolor": "white",
            "gridwidth": 2,
            "linecolor": "white",
            "showbackground": true,
            "ticks": "",
            "zerolinecolor": "white"
           },
           "yaxis": {
            "backgroundcolor": "#E5ECF6",
            "gridcolor": "white",
            "gridwidth": 2,
            "linecolor": "white",
            "showbackground": true,
            "ticks": "",
            "zerolinecolor": "white"
           },
           "zaxis": {
            "backgroundcolor": "#E5ECF6",
            "gridcolor": "white",
            "gridwidth": 2,
            "linecolor": "white",
            "showbackground": true,
            "ticks": "",
            "zerolinecolor": "white"
           }
          },
          "shapedefaults": {
           "line": {
            "color": "#2a3f5f"
           }
          },
          "ternary": {
           "aaxis": {
            "gridcolor": "white",
            "linecolor": "white",
            "ticks": ""
           },
           "baxis": {
            "gridcolor": "white",
            "linecolor": "white",
            "ticks": ""
           },
           "bgcolor": "#E5ECF6",
           "caxis": {
            "gridcolor": "white",
            "linecolor": "white",
            "ticks": ""
           }
          },
          "title": {
           "x": 0.05
          },
          "xaxis": {
           "automargin": true,
           "gridcolor": "white",
           "linecolor": "white",
           "ticks": "",
           "title": {
            "standoff": 15
           },
           "zerolinecolor": "white",
           "zerolinewidth": 2
          },
          "yaxis": {
           "automargin": true,
           "gridcolor": "white",
           "linecolor": "white",
           "ticks": "",
           "title": {
            "standoff": 15
           },
           "zerolinecolor": "white",
           "zerolinewidth": 2
          }
         }
        },
        "updatemenus": [
         {
          "buttons": [
           {
            "args": [
             null,
             {
              "frame": {
               "duration": 500,
               "redraw": false
              },
              "fromcurrent": true,
              "mode": "immediate",
              "transition": {
               "duration": 500,
               "easing": "linear"
              }
             }
            ],
            "label": "&#9654;",
            "method": "animate"
           },
           {
            "args": [
             [
              null
             ],
             {
              "frame": {
               "duration": 0,
               "redraw": false
              },
              "fromcurrent": true,
              "mode": "immediate",
              "transition": {
               "duration": 0,
               "easing": "linear"
              }
             }
            ],
            "label": "&#9724;",
            "method": "animate"
           }
          ],
          "direction": "left",
          "pad": {
           "r": 10,
           "t": 70
          },
          "showactive": false,
          "type": "buttons",
          "x": 0.1,
          "xanchor": "right",
          "y": 0,
          "yanchor": "top"
         }
        ],
        "xaxis": {
         "anchor": "y",
         "domain": [
          0,
          1
         ],
         "title": {
          "text": "Ledige stillingar (prosent)"
         }
        },
        "yaxis": {
         "anchor": "x",
         "domain": [
          0,
          1
         ],
         "title": {
          "text": "Sysselsatte"
         }
        }
       }
      },
      "text/html": [
       "<div>                            <div id=\"002dbddf-3dea-42aa-a0aa-8cfdfa977aae\" class=\"plotly-graph-div\" style=\"height:525px; width:100%;\"></div>            <script type=\"text/javascript\">                require([\"plotly\"], function(Plotly) {                    window.PLOTLYENV=window.PLOTLYENV || {};                                    if (document.getElementById(\"002dbddf-3dea-42aa-a0aa-8cfdfa977aae\")) {                    Plotly.newPlot(                        \"002dbddf-3dea-42aa-a0aa-8cfdfa977aae\",                        [{\"hovertemplate\": \"<b>%{hovertext}</b><br><br>n\\u00e6ring (SN2007)=Bergverksdrift og utvinning<br>kvartal=2011K1<br>Ledige stillingar (prosent)=%{x}<br>Sysselsatte=%{y}<br>Ledige stillingar=%{marker.size}<extra></extra>\", \"hovertext\": [\"Bergverksdrift og utvinning\"], \"ids\": [\"Bergverksdrift og utvinning\"], \"legendgroup\": \"Bergverksdrift og utvinning\", \"marker\": {\"color\": \"#636efa\", \"size\": [1800.0], \"sizemode\": \"area\", \"sizeref\": 4.32, \"symbol\": \"circle\"}, \"mode\": \"markers\", \"name\": \"Bergverksdrift og utvinning\", \"orientation\": \"v\", \"showlegend\": true, \"type\": \"scatter\", \"x\": [3.3], \"xaxis\": \"x\", \"y\": [49], \"yaxis\": \"y\"}, {\"hovertemplate\": \"<b>%{hovertext}</b><br><br>n\\u00e6ring (SN2007)=Byggje- og anleggsverksemd<br>kvartal=2011K1<br>Ledige stillingar (prosent)=%{x}<br>Sysselsatte=%{y}<br>Ledige stillingar=%{marker.size}<extra></extra>\", \"hovertext\": [\"Byggje- og anleggsverksemd\"], \"ids\": [\"Byggje- og anleggsverksemd\"], \"legendgroup\": \"Byggje- og anleggsverksemd\", \"marker\": {\"color\": \"#EF553B\", \"size\": [5100.0], \"sizemode\": \"area\", \"sizeref\": 4.32, \"symbol\": \"circle\"}, \"mode\": \"markers\", \"name\": \"Byggje- og anleggsverksemd\", \"orientation\": \"v\", \"showlegend\": true, \"type\": \"scatter\", \"x\": [2.8], \"xaxis\": \"x\", \"y\": [182], \"yaxis\": \"y\"}, {\"hovertemplate\": \"<b>%{hovertext}</b><br><br>n\\u00e6ring (SN2007)=Informasjon og kommunikasjon<br>kvartal=2011K1<br>Ledige stillingar (prosent)=%{x}<br>Sysselsatte=%{y}<br>Ledige stillingar=%{marker.size}<extra></extra>\", \"hovertext\": [\"Informasjon og kommunikasjon\"], \"ids\": [\"Informasjon og kommunikasjon\"], \"legendgroup\": \"Informasjon og kommunikasjon\", \"marker\": {\"color\": \"#00cc96\", \"size\": [3500.0], \"sizemode\": \"area\", \"sizeref\": 4.32, \"symbol\": \"circle\"}, \"mode\": \"markers\", \"name\": \"Informasjon og kommunikasjon\", \"orientation\": \"v\", \"showlegend\": true, \"type\": \"scatter\", \"x\": [4.1], \"xaxis\": \"x\", \"y\": [91], \"yaxis\": \"y\"}, {\"hovertemplate\": \"<b>%{hovertext}</b><br><br>n\\u00e6ring (SN2007)=Finansierings- og forsikringsverksemd<br>kvartal=2011K1<br>Ledige stillingar (prosent)=%{x}<br>Sysselsatte=%{y}<br>Ledige stillingar=%{marker.size}<extra></extra>\", \"hovertext\": [\"Finansierings- og forsikringsverksemd\"], \"ids\": [\"Finansierings- og forsikringsverksemd\"], \"legendgroup\": \"Finansierings- og forsikringsverksemd\", \"marker\": {\"color\": \"#ab63fa\", \"size\": [1300.0], \"sizemode\": \"area\", \"sizeref\": 4.32, \"symbol\": \"circle\"}, \"mode\": \"markers\", \"name\": \"Finansierings- og forsikringsverksemd\", \"orientation\": \"v\", \"showlegend\": true, \"type\": \"scatter\", \"x\": [2.7], \"xaxis\": \"x\", \"y\": [51], \"yaxis\": \"y\"}, {\"hovertemplate\": \"<b>%{hovertext}</b><br><br>n\\u00e6ring (SN2007)=Omsetning og drift av fast eigedom<br>kvartal=2011K1<br>Ledige stillingar (prosent)=%{x}<br>Sysselsatte=%{y}<br>Ledige stillingar=%{marker.size}<extra></extra>\", \"hovertext\": [\"Omsetning og drift av fast eigedom\"], \"ids\": [\"Omsetning og drift av fast eigedom\"], \"legendgroup\": \"Omsetning og drift av fast eigedom\", \"marker\": {\"color\": \"#FFA15A\", \"size\": [700.0], \"sizemode\": \"area\", \"sizeref\": 4.32, \"symbol\": \"circle\"}, \"mode\": \"markers\", \"name\": \"Omsetning og drift av fast eigedom\", \"orientation\": \"v\", \"showlegend\": true, \"type\": \"scatter\", \"x\": [2.9], \"xaxis\": \"x\", \"y\": [21], \"yaxis\": \"y\"}, {\"hovertemplate\": \"<b>%{hovertext}</b><br><br>n\\u00e6ring (SN2007)=Fagleg, vitskapleg og teknisk tenesteyting<br>kvartal=2011K1<br>Ledige stillingar (prosent)=%{x}<br>Sysselsatte=%{y}<br>Ledige stillingar=%{marker.size}<extra></extra>\", \"hovertext\": [\"Fagleg, vitskapleg og teknisk tenesteyting\"], \"ids\": [\"Fagleg, vitskapleg og teknisk tenesteyting\"], \"legendgroup\": \"Fagleg, vitskapleg og teknisk tenesteyting\", \"marker\": {\"color\": \"#19d3f3\", \"size\": [5200.0], \"sizemode\": \"area\", \"sizeref\": 4.32, \"symbol\": \"circle\"}, \"mode\": \"markers\", \"name\": \"Fagleg, vitskapleg og teknisk tenesteyting\", \"orientation\": \"v\", \"showlegend\": true, \"type\": \"scatter\", \"x\": [4.4], \"xaxis\": \"x\", \"y\": [133], \"yaxis\": \"y\"}, {\"hovertemplate\": \"<b>%{hovertext}</b><br><br>n\\u00e6ring (SN2007)=Forretningsmessig tenesteyting<br>kvartal=2011K1<br>Ledige stillingar (prosent)=%{x}<br>Sysselsatte=%{y}<br>Ledige stillingar=%{marker.size}<extra></extra>\", \"hovertext\": [\"Forretningsmessig tenesteyting\"], \"ids\": [\"Forretningsmessig tenesteyting\"], \"legendgroup\": \"Forretningsmessig tenesteyting\", \"marker\": {\"color\": \"#FF6692\", \"size\": [9400.0], \"sizemode\": \"area\", \"sizeref\": 4.32, \"symbol\": \"circle\"}, \"mode\": \"markers\", \"name\": \"Forretningsmessig tenesteyting\", \"orientation\": \"v\", \"showlegend\": true, \"type\": \"scatter\", \"x\": [6.9], \"xaxis\": \"x\", \"y\": [103], \"yaxis\": \"y\"}, {\"hovertemplate\": \"<b>%{hovertext}</b><br><br>n\\u00e6ring (SN2007)=Offentleg administrasjon og forsvar, og trygdeordningar underordna offentleg forvalting<br>kvartal=2011K1<br>Ledige stillingar (prosent)=%{x}<br>Sysselsatte=%{y}<br>Ledige stillingar=%{marker.size}<extra></extra>\", \"hovertext\": [\"Offentleg administrasjon og forsvar, og trygdeordningar underordna offentleg forvalting\"], \"ids\": [\"Offentleg administrasjon og forsvar, og trygdeordningar underordna offentleg forvalting\"], \"legendgroup\": \"Offentleg administrasjon og forsvar, og trygdeordningar underordna offentleg forvalting\", \"marker\": {\"color\": \"#B6E880\", \"size\": [3900.0], \"sizemode\": \"area\", \"sizeref\": 4.32, \"symbol\": \"circle\"}, \"mode\": \"markers\", \"name\": \"Offentleg administrasjon og forsvar, og trygdeordningar underordna offentleg forvalting\", \"orientation\": \"v\", \"showlegend\": true, \"type\": \"scatter\", \"x\": [2.6], \"xaxis\": \"x\", \"y\": [148], \"yaxis\": \"y\"}, {\"hovertemplate\": \"<b>%{hovertext}</b><br><br>n\\u00e6ring (SN2007)=Undervisning<br>kvartal=2011K1<br>Ledige stillingar (prosent)=%{x}<br>Sysselsatte=%{y}<br>Ledige stillingar=%{marker.size}<extra></extra>\", \"hovertext\": [\"Undervisning\"], \"ids\": [\"Undervisning\"], \"legendgroup\": \"Undervisning\", \"marker\": {\"color\": \"#FF97FF\", \"size\": [2700.0], \"sizemode\": \"area\", \"sizeref\": 4.32, \"symbol\": \"circle\"}, \"mode\": \"markers\", \"name\": \"Undervisning\", \"orientation\": \"v\", \"showlegend\": true, \"type\": \"scatter\", \"x\": [1.3], \"xaxis\": \"x\", \"y\": [214], \"yaxis\": \"y\"}, {\"hovertemplate\": \"<b>%{hovertext}</b><br><br>n\\u00e6ring (SN2007)=Kulturell verksemd, underhaldning og fritidsaktivitetar<br>kvartal=2011K1<br>Ledige stillingar (prosent)=%{x}<br>Sysselsatte=%{y}<br>Ledige stillingar=%{marker.size}<extra></extra>\", \"hovertext\": [\"Kulturell verksemd, underhaldning og fritidsaktivitetar\"], \"ids\": [\"Kulturell verksemd, underhaldning og fritidsaktivitetar\"], \"legendgroup\": \"Kulturell verksemd, underhaldning og fritidsaktivitetar\", \"marker\": {\"color\": \"#FECB52\", \"size\": [500.0], \"sizemode\": \"area\", \"sizeref\": 4.32, \"symbol\": \"circle\"}, \"mode\": \"markers\", \"name\": \"Kulturell verksemd, underhaldning og fritidsaktivitetar\", \"orientation\": \"v\", \"showlegend\": true, \"type\": \"scatter\", \"x\": [1.6], \"xaxis\": \"x\", \"y\": [52], \"yaxis\": \"y\"}],                        {\"legend\": {\"itemsizing\": \"constant\", \"title\": {\"text\": \"n\\u00e6ring (SN2007)\"}, \"tracegroupgap\": 0}, \"margin\": {\"t\": 60}, \"showlegend\": false, \"sliders\": [{\"active\": 0, \"currentvalue\": {\"prefix\": \"kvartal=\"}, \"len\": 0.9, \"pad\": {\"b\": 10, \"t\": 60}, \"steps\": [{\"args\": [[\"2011K1\"], {\"frame\": {\"duration\": 0, \"redraw\": false}, \"fromcurrent\": true, \"mode\": \"immediate\", \"transition\": {\"duration\": 0, \"easing\": \"linear\"}}], \"label\": \"2011K1\", \"method\": \"animate\"}, {\"args\": [[\"2011K2\"], {\"frame\": {\"duration\": 0, \"redraw\": false}, \"fromcurrent\": true, \"mode\": \"immediate\", \"transition\": {\"duration\": 0, \"easing\": \"linear\"}}], \"label\": \"2011K2\", \"method\": \"animate\"}, {\"args\": [[\"2011K3\"], {\"frame\": {\"duration\": 0, \"redraw\": false}, \"fromcurrent\": true, \"mode\": \"immediate\", \"transition\": {\"duration\": 0, \"easing\": \"linear\"}}], \"label\": \"2011K3\", \"method\": \"animate\"}, {\"args\": [[\"2011K4\"], {\"frame\": {\"duration\": 0, \"redraw\": false}, \"fromcurrent\": true, \"mode\": \"immediate\", \"transition\": {\"duration\": 0, \"easing\": \"linear\"}}], \"label\": \"2011K4\", \"method\": \"animate\"}, {\"args\": [[\"2012K1\"], {\"frame\": {\"duration\": 0, \"redraw\": false}, \"fromcurrent\": true, \"mode\": \"immediate\", \"transition\": {\"duration\": 0, \"easing\": \"linear\"}}], \"label\": \"2012K1\", \"method\": \"animate\"}, {\"args\": [[\"2012K2\"], {\"frame\": {\"duration\": 0, \"redraw\": false}, \"fromcurrent\": true, \"mode\": \"immediate\", \"transition\": {\"duration\": 0, \"easing\": \"linear\"}}], \"label\": \"2012K2\", \"method\": \"animate\"}, {\"args\": [[\"2012K3\"], {\"frame\": {\"duration\": 0, \"redraw\": false}, \"fromcurrent\": true, \"mode\": \"immediate\", \"transition\": {\"duration\": 0, \"easing\": \"linear\"}}], \"label\": \"2012K3\", \"method\": \"animate\"}, {\"args\": [[\"2012K4\"], {\"frame\": {\"duration\": 0, \"redraw\": false}, \"fromcurrent\": true, \"mode\": \"immediate\", \"transition\": {\"duration\": 0, \"easing\": \"linear\"}}], \"label\": \"2012K4\", \"method\": \"animate\"}, {\"args\": [[\"2013K1\"], {\"frame\": {\"duration\": 0, \"redraw\": false}, \"fromcurrent\": true, \"mode\": \"immediate\", \"transition\": {\"duration\": 0, \"easing\": \"linear\"}}], \"label\": \"2013K1\", \"method\": \"animate\"}, {\"args\": [[\"2013K2\"], {\"frame\": {\"duration\": 0, \"redraw\": false}, \"fromcurrent\": true, \"mode\": \"immediate\", \"transition\": {\"duration\": 0, \"easing\": \"linear\"}}], \"label\": \"2013K2\", \"method\": \"animate\"}, {\"args\": [[\"2013K3\"], {\"frame\": {\"duration\": 0, \"redraw\": false}, \"fromcurrent\": true, \"mode\": \"immediate\", \"transition\": {\"duration\": 0, \"easing\": \"linear\"}}], \"label\": \"2013K3\", \"method\": \"animate\"}, {\"args\": [[\"2013K4\"], {\"frame\": {\"duration\": 0, \"redraw\": false}, \"fromcurrent\": true, \"mode\": \"immediate\", \"transition\": {\"duration\": 0, \"easing\": \"linear\"}}], \"label\": \"2013K4\", \"method\": \"animate\"}, {\"args\": [[\"2014K1\"], {\"frame\": {\"duration\": 0, \"redraw\": false}, \"fromcurrent\": true, \"mode\": \"immediate\", \"transition\": {\"duration\": 0, \"easing\": \"linear\"}}], \"label\": \"2014K1\", \"method\": \"animate\"}, {\"args\": [[\"2014K2\"], {\"frame\": {\"duration\": 0, \"redraw\": false}, \"fromcurrent\": true, \"mode\": \"immediate\", \"transition\": {\"duration\": 0, \"easing\": \"linear\"}}], \"label\": \"2014K2\", \"method\": \"animate\"}, {\"args\": [[\"2014K3\"], {\"frame\": {\"duration\": 0, \"redraw\": false}, \"fromcurrent\": true, \"mode\": \"immediate\", \"transition\": {\"duration\": 0, \"easing\": \"linear\"}}], \"label\": \"2014K3\", \"method\": \"animate\"}, {\"args\": [[\"2014K4\"], {\"frame\": {\"duration\": 0, \"redraw\": false}, \"fromcurrent\": true, \"mode\": \"immediate\", \"transition\": {\"duration\": 0, \"easing\": \"linear\"}}], \"label\": \"2014K4\", \"method\": \"animate\"}, {\"args\": [[\"2015K1\"], {\"frame\": {\"duration\": 0, \"redraw\": false}, \"fromcurrent\": true, \"mode\": \"immediate\", \"transition\": {\"duration\": 0, \"easing\": \"linear\"}}], \"label\": \"2015K1\", \"method\": \"animate\"}, {\"args\": [[\"2015K2\"], {\"frame\": {\"duration\": 0, \"redraw\": false}, \"fromcurrent\": true, \"mode\": \"immediate\", \"transition\": {\"duration\": 0, \"easing\": \"linear\"}}], \"label\": \"2015K2\", \"method\": \"animate\"}, {\"args\": [[\"2015K3\"], {\"frame\": {\"duration\": 0, \"redraw\": false}, \"fromcurrent\": true, \"mode\": \"immediate\", \"transition\": {\"duration\": 0, \"easing\": \"linear\"}}], \"label\": \"2015K3\", \"method\": \"animate\"}, {\"args\": [[\"2015K4\"], {\"frame\": {\"duration\": 0, \"redraw\": false}, \"fromcurrent\": true, \"mode\": \"immediate\", \"transition\": {\"duration\": 0, \"easing\": \"linear\"}}], \"label\": \"2015K4\", \"method\": \"animate\"}, {\"args\": [[\"2016K1\"], {\"frame\": {\"duration\": 0, \"redraw\": false}, \"fromcurrent\": true, \"mode\": \"immediate\", \"transition\": {\"duration\": 0, \"easing\": \"linear\"}}], \"label\": \"2016K1\", \"method\": \"animate\"}, {\"args\": [[\"2016K2\"], {\"frame\": {\"duration\": 0, \"redraw\": false}, \"fromcurrent\": true, \"mode\": \"immediate\", \"transition\": {\"duration\": 0, \"easing\": \"linear\"}}], \"label\": \"2016K2\", \"method\": \"animate\"}, {\"args\": [[\"2016K3\"], {\"frame\": {\"duration\": 0, \"redraw\": false}, \"fromcurrent\": true, \"mode\": \"immediate\", \"transition\": {\"duration\": 0, \"easing\": \"linear\"}}], \"label\": \"2016K3\", \"method\": \"animate\"}, {\"args\": [[\"2016K4\"], {\"frame\": {\"duration\": 0, \"redraw\": false}, \"fromcurrent\": true, \"mode\": \"immediate\", \"transition\": {\"duration\": 0, \"easing\": \"linear\"}}], \"label\": \"2016K4\", \"method\": \"animate\"}, {\"args\": [[\"2017K1\"], {\"frame\": {\"duration\": 0, \"redraw\": false}, \"fromcurrent\": true, \"mode\": \"immediate\", \"transition\": {\"duration\": 0, \"easing\": \"linear\"}}], \"label\": \"2017K1\", \"method\": \"animate\"}, {\"args\": [[\"2017K2\"], {\"frame\": {\"duration\": 0, \"redraw\": false}, \"fromcurrent\": true, \"mode\": \"immediate\", \"transition\": {\"duration\": 0, \"easing\": \"linear\"}}], \"label\": \"2017K2\", \"method\": \"animate\"}, {\"args\": [[\"2017K3\"], {\"frame\": {\"duration\": 0, \"redraw\": false}, \"fromcurrent\": true, \"mode\": \"immediate\", \"transition\": {\"duration\": 0, \"easing\": \"linear\"}}], \"label\": \"2017K3\", \"method\": \"animate\"}, {\"args\": [[\"2017K4\"], {\"frame\": {\"duration\": 0, \"redraw\": false}, \"fromcurrent\": true, \"mode\": \"immediate\", \"transition\": {\"duration\": 0, \"easing\": \"linear\"}}], \"label\": \"2017K4\", \"method\": \"animate\"}, {\"args\": [[\"2018K1\"], {\"frame\": {\"duration\": 0, \"redraw\": false}, \"fromcurrent\": true, \"mode\": \"immediate\", \"transition\": {\"duration\": 0, \"easing\": \"linear\"}}], \"label\": \"2018K1\", \"method\": \"animate\"}, {\"args\": [[\"2018K2\"], {\"frame\": {\"duration\": 0, \"redraw\": false}, \"fromcurrent\": true, \"mode\": \"immediate\", \"transition\": {\"duration\": 0, \"easing\": \"linear\"}}], \"label\": \"2018K2\", \"method\": \"animate\"}, {\"args\": [[\"2018K3\"], {\"frame\": {\"duration\": 0, \"redraw\": false}, \"fromcurrent\": true, \"mode\": \"immediate\", \"transition\": {\"duration\": 0, \"easing\": \"linear\"}}], \"label\": \"2018K3\", \"method\": \"animate\"}, {\"args\": [[\"2018K4\"], {\"frame\": {\"duration\": 0, \"redraw\": false}, \"fromcurrent\": true, \"mode\": \"immediate\", \"transition\": {\"duration\": 0, \"easing\": \"linear\"}}], \"label\": \"2018K4\", \"method\": \"animate\"}, {\"args\": [[\"2019K1\"], {\"frame\": {\"duration\": 0, \"redraw\": false}, \"fromcurrent\": true, \"mode\": \"immediate\", \"transition\": {\"duration\": 0, \"easing\": \"linear\"}}], \"label\": \"2019K1\", \"method\": \"animate\"}, {\"args\": [[\"2019K2\"], {\"frame\": {\"duration\": 0, \"redraw\": false}, \"fromcurrent\": true, \"mode\": \"immediate\", \"transition\": {\"duration\": 0, \"easing\": \"linear\"}}], \"label\": \"2019K2\", \"method\": \"animate\"}, {\"args\": [[\"2019K3\"], {\"frame\": {\"duration\": 0, \"redraw\": false}, \"fromcurrent\": true, \"mode\": \"immediate\", \"transition\": {\"duration\": 0, \"easing\": \"linear\"}}], \"label\": \"2019K3\", \"method\": \"animate\"}, {\"args\": [[\"2019K4\"], {\"frame\": {\"duration\": 0, \"redraw\": false}, \"fromcurrent\": true, \"mode\": \"immediate\", \"transition\": {\"duration\": 0, \"easing\": \"linear\"}}], \"label\": \"2019K4\", \"method\": \"animate\"}, {\"args\": [[\"2020K1\"], {\"frame\": {\"duration\": 0, \"redraw\": false}, \"fromcurrent\": true, \"mode\": \"immediate\", \"transition\": {\"duration\": 0, \"easing\": \"linear\"}}], \"label\": \"2020K1\", \"method\": \"animate\"}, {\"args\": [[\"2020K2\"], {\"frame\": {\"duration\": 0, \"redraw\": false}, \"fromcurrent\": true, \"mode\": \"immediate\", \"transition\": {\"duration\": 0, \"easing\": \"linear\"}}], \"label\": \"2020K2\", \"method\": \"animate\"}, {\"args\": [[\"2020K3\"], {\"frame\": {\"duration\": 0, \"redraw\": false}, \"fromcurrent\": true, \"mode\": \"immediate\", \"transition\": {\"duration\": 0, \"easing\": \"linear\"}}], \"label\": \"2020K3\", \"method\": \"animate\"}, {\"args\": [[\"2020K4\"], {\"frame\": {\"duration\": 0, \"redraw\": false}, \"fromcurrent\": true, \"mode\": \"immediate\", \"transition\": {\"duration\": 0, \"easing\": \"linear\"}}], \"label\": \"2020K4\", \"method\": \"animate\"}], \"x\": 0.1, \"xanchor\": \"left\", \"y\": 0, \"yanchor\": \"top\"}], \"template\": {\"data\": {\"bar\": [{\"error_x\": {\"color\": \"#2a3f5f\"}, \"error_y\": {\"color\": \"#2a3f5f\"}, \"marker\": {\"line\": {\"color\": \"#E5ECF6\", \"width\": 0.5}}, \"type\": \"bar\"}], \"barpolar\": [{\"marker\": {\"line\": {\"color\": \"#E5ECF6\", \"width\": 0.5}}, \"type\": \"barpolar\"}], \"carpet\": [{\"aaxis\": {\"endlinecolor\": \"#2a3f5f\", \"gridcolor\": \"white\", \"linecolor\": \"white\", \"minorgridcolor\": \"white\", \"startlinecolor\": \"#2a3f5f\"}, \"baxis\": {\"endlinecolor\": \"#2a3f5f\", \"gridcolor\": \"white\", \"linecolor\": \"white\", \"minorgridcolor\": \"white\", \"startlinecolor\": \"#2a3f5f\"}, \"type\": \"carpet\"}], \"choropleth\": [{\"colorbar\": {\"outlinewidth\": 0, \"ticks\": \"\"}, \"type\": \"choropleth\"}], \"contour\": [{\"colorbar\": {\"outlinewidth\": 0, \"ticks\": \"\"}, \"colorscale\": [[0.0, \"#0d0887\"], [0.1111111111111111, \"#46039f\"], [0.2222222222222222, \"#7201a8\"], [0.3333333333333333, \"#9c179e\"], [0.4444444444444444, \"#bd3786\"], [0.5555555555555556, \"#d8576b\"], [0.6666666666666666, \"#ed7953\"], [0.7777777777777778, \"#fb9f3a\"], [0.8888888888888888, \"#fdca26\"], [1.0, \"#f0f921\"]], \"type\": \"contour\"}], \"contourcarpet\": [{\"colorbar\": {\"outlinewidth\": 0, \"ticks\": \"\"}, \"type\": \"contourcarpet\"}], \"heatmap\": [{\"colorbar\": {\"outlinewidth\": 0, \"ticks\": \"\"}, \"colorscale\": [[0.0, \"#0d0887\"], [0.1111111111111111, \"#46039f\"], [0.2222222222222222, \"#7201a8\"], [0.3333333333333333, \"#9c179e\"], [0.4444444444444444, \"#bd3786\"], [0.5555555555555556, \"#d8576b\"], [0.6666666666666666, \"#ed7953\"], [0.7777777777777778, \"#fb9f3a\"], [0.8888888888888888, \"#fdca26\"], [1.0, \"#f0f921\"]], \"type\": \"heatmap\"}], \"heatmapgl\": [{\"colorbar\": {\"outlinewidth\": 0, \"ticks\": \"\"}, \"colorscale\": [[0.0, \"#0d0887\"], [0.1111111111111111, \"#46039f\"], [0.2222222222222222, \"#7201a8\"], [0.3333333333333333, \"#9c179e\"], [0.4444444444444444, \"#bd3786\"], [0.5555555555555556, \"#d8576b\"], [0.6666666666666666, \"#ed7953\"], [0.7777777777777778, \"#fb9f3a\"], [0.8888888888888888, \"#fdca26\"], [1.0, \"#f0f921\"]], \"type\": \"heatmapgl\"}], \"histogram\": [{\"marker\": {\"colorbar\": {\"outlinewidth\": 0, \"ticks\": \"\"}}, \"type\": \"histogram\"}], \"histogram2d\": [{\"colorbar\": {\"outlinewidth\": 0, \"ticks\": \"\"}, \"colorscale\": [[0.0, \"#0d0887\"], [0.1111111111111111, \"#46039f\"], [0.2222222222222222, \"#7201a8\"], [0.3333333333333333, \"#9c179e\"], [0.4444444444444444, \"#bd3786\"], [0.5555555555555556, \"#d8576b\"], [0.6666666666666666, \"#ed7953\"], [0.7777777777777778, \"#fb9f3a\"], [0.8888888888888888, \"#fdca26\"], [1.0, \"#f0f921\"]], \"type\": \"histogram2d\"}], \"histogram2dcontour\": [{\"colorbar\": {\"outlinewidth\": 0, \"ticks\": \"\"}, \"colorscale\": [[0.0, \"#0d0887\"], [0.1111111111111111, \"#46039f\"], [0.2222222222222222, \"#7201a8\"], [0.3333333333333333, \"#9c179e\"], [0.4444444444444444, \"#bd3786\"], [0.5555555555555556, \"#d8576b\"], [0.6666666666666666, \"#ed7953\"], [0.7777777777777778, \"#fb9f3a\"], [0.8888888888888888, \"#fdca26\"], [1.0, \"#f0f921\"]], \"type\": \"histogram2dcontour\"}], \"mesh3d\": [{\"colorbar\": {\"outlinewidth\": 0, \"ticks\": \"\"}, \"type\": \"mesh3d\"}], \"parcoords\": [{\"line\": {\"colorbar\": {\"outlinewidth\": 0, \"ticks\": \"\"}}, \"type\": \"parcoords\"}], \"pie\": [{\"automargin\": true, \"type\": \"pie\"}], \"scatter\": [{\"marker\": {\"colorbar\": {\"outlinewidth\": 0, \"ticks\": \"\"}}, \"type\": \"scatter\"}], \"scatter3d\": [{\"line\": {\"colorbar\": {\"outlinewidth\": 0, \"ticks\": \"\"}}, \"marker\": {\"colorbar\": {\"outlinewidth\": 0, \"ticks\": \"\"}}, \"type\": \"scatter3d\"}], \"scattercarpet\": [{\"marker\": {\"colorbar\": {\"outlinewidth\": 0, \"ticks\": \"\"}}, \"type\": \"scattercarpet\"}], \"scattergeo\": [{\"marker\": {\"colorbar\": {\"outlinewidth\": 0, \"ticks\": \"\"}}, \"type\": \"scattergeo\"}], \"scattergl\": [{\"marker\": {\"colorbar\": {\"outlinewidth\": 0, \"ticks\": \"\"}}, \"type\": \"scattergl\"}], \"scattermapbox\": [{\"marker\": {\"colorbar\": {\"outlinewidth\": 0, \"ticks\": \"\"}}, \"type\": \"scattermapbox\"}], \"scatterpolar\": [{\"marker\": {\"colorbar\": {\"outlinewidth\": 0, \"ticks\": \"\"}}, \"type\": \"scatterpolar\"}], \"scatterpolargl\": [{\"marker\": {\"colorbar\": {\"outlinewidth\": 0, \"ticks\": \"\"}}, \"type\": \"scatterpolargl\"}], \"scatterternary\": [{\"marker\": {\"colorbar\": {\"outlinewidth\": 0, \"ticks\": \"\"}}, \"type\": \"scatterternary\"}], \"surface\": [{\"colorbar\": {\"outlinewidth\": 0, \"ticks\": \"\"}, \"colorscale\": [[0.0, \"#0d0887\"], [0.1111111111111111, \"#46039f\"], [0.2222222222222222, \"#7201a8\"], [0.3333333333333333, \"#9c179e\"], [0.4444444444444444, \"#bd3786\"], [0.5555555555555556, \"#d8576b\"], [0.6666666666666666, \"#ed7953\"], [0.7777777777777778, \"#fb9f3a\"], [0.8888888888888888, \"#fdca26\"], [1.0, \"#f0f921\"]], \"type\": \"surface\"}], \"table\": [{\"cells\": {\"fill\": {\"color\": \"#EBF0F8\"}, \"line\": {\"color\": \"white\"}}, \"header\": {\"fill\": {\"color\": \"#C8D4E3\"}, \"line\": {\"color\": \"white\"}}, \"type\": \"table\"}]}, \"layout\": {\"annotationdefaults\": {\"arrowcolor\": \"#2a3f5f\", \"arrowhead\": 0, \"arrowwidth\": 1}, \"autotypenumbers\": \"strict\", \"coloraxis\": {\"colorbar\": {\"outlinewidth\": 0, \"ticks\": \"\"}}, \"colorscale\": {\"diverging\": [[0, \"#8e0152\"], [0.1, \"#c51b7d\"], [0.2, \"#de77ae\"], [0.3, \"#f1b6da\"], [0.4, \"#fde0ef\"], [0.5, \"#f7f7f7\"], [0.6, \"#e6f5d0\"], [0.7, \"#b8e186\"], [0.8, \"#7fbc41\"], [0.9, \"#4d9221\"], [1, \"#276419\"]], \"sequential\": [[0.0, \"#0d0887\"], [0.1111111111111111, \"#46039f\"], [0.2222222222222222, \"#7201a8\"], [0.3333333333333333, \"#9c179e\"], [0.4444444444444444, \"#bd3786\"], [0.5555555555555556, \"#d8576b\"], [0.6666666666666666, \"#ed7953\"], [0.7777777777777778, \"#fb9f3a\"], [0.8888888888888888, \"#fdca26\"], [1.0, \"#f0f921\"]], \"sequentialminus\": [[0.0, \"#0d0887\"], [0.1111111111111111, \"#46039f\"], [0.2222222222222222, \"#7201a8\"], [0.3333333333333333, \"#9c179e\"], [0.4444444444444444, \"#bd3786\"], [0.5555555555555556, \"#d8576b\"], [0.6666666666666666, \"#ed7953\"], [0.7777777777777778, \"#fb9f3a\"], [0.8888888888888888, \"#fdca26\"], [1.0, \"#f0f921\"]]}, \"colorway\": [\"#636efa\", \"#EF553B\", \"#00cc96\", \"#ab63fa\", \"#FFA15A\", \"#19d3f3\", \"#FF6692\", \"#B6E880\", \"#FF97FF\", \"#FECB52\"], \"font\": {\"color\": \"#2a3f5f\"}, \"geo\": {\"bgcolor\": \"white\", \"lakecolor\": \"white\", \"landcolor\": \"#E5ECF6\", \"showlakes\": true, \"showland\": true, \"subunitcolor\": \"white\"}, \"hoverlabel\": {\"align\": \"left\"}, \"hovermode\": \"closest\", \"mapbox\": {\"style\": \"light\"}, \"paper_bgcolor\": \"white\", \"plot_bgcolor\": \"#E5ECF6\", \"polar\": {\"angularaxis\": {\"gridcolor\": \"white\", \"linecolor\": \"white\", \"ticks\": \"\"}, \"bgcolor\": \"#E5ECF6\", \"radialaxis\": {\"gridcolor\": \"white\", \"linecolor\": \"white\", \"ticks\": \"\"}}, \"scene\": {\"xaxis\": {\"backgroundcolor\": \"#E5ECF6\", \"gridcolor\": \"white\", \"gridwidth\": 2, \"linecolor\": \"white\", \"showbackground\": true, \"ticks\": \"\", \"zerolinecolor\": \"white\"}, \"yaxis\": {\"backgroundcolor\": \"#E5ECF6\", \"gridcolor\": \"white\", \"gridwidth\": 2, \"linecolor\": \"white\", \"showbackground\": true, \"ticks\": \"\", \"zerolinecolor\": \"white\"}, \"zaxis\": {\"backgroundcolor\": \"#E5ECF6\", \"gridcolor\": \"white\", \"gridwidth\": 2, \"linecolor\": \"white\", \"showbackground\": true, \"ticks\": \"\", \"zerolinecolor\": \"white\"}}, \"shapedefaults\": {\"line\": {\"color\": \"#2a3f5f\"}}, \"ternary\": {\"aaxis\": {\"gridcolor\": \"white\", \"linecolor\": \"white\", \"ticks\": \"\"}, \"baxis\": {\"gridcolor\": \"white\", \"linecolor\": \"white\", \"ticks\": \"\"}, \"bgcolor\": \"#E5ECF6\", \"caxis\": {\"gridcolor\": \"white\", \"linecolor\": \"white\", \"ticks\": \"\"}}, \"title\": {\"x\": 0.05}, \"xaxis\": {\"automargin\": true, \"gridcolor\": \"white\", \"linecolor\": \"white\", \"ticks\": \"\", \"title\": {\"standoff\": 15}, \"zerolinecolor\": \"white\", \"zerolinewidth\": 2}, \"yaxis\": {\"automargin\": true, \"gridcolor\": \"white\", \"linecolor\": \"white\", \"ticks\": \"\", \"title\": {\"standoff\": 15}, \"zerolinecolor\": \"white\", \"zerolinewidth\": 2}}}, \"updatemenus\": [{\"buttons\": [{\"args\": [null, {\"frame\": {\"duration\": 500, \"redraw\": false}, \"fromcurrent\": true, \"mode\": \"immediate\", \"transition\": {\"duration\": 500, \"easing\": \"linear\"}}], \"label\": \"&#9654;\", \"method\": \"animate\"}, {\"args\": [[null], {\"frame\": {\"duration\": 0, \"redraw\": false}, \"fromcurrent\": true, \"mode\": \"immediate\", \"transition\": {\"duration\": 0, \"easing\": \"linear\"}}], \"label\": \"&#9724;\", \"method\": \"animate\"}], \"direction\": \"left\", \"pad\": {\"r\": 10, \"t\": 70}, \"showactive\": false, \"type\": \"buttons\", \"x\": 0.1, \"xanchor\": \"right\", \"y\": 0, \"yanchor\": \"top\"}], \"xaxis\": {\"anchor\": \"y\", \"domain\": [0.0, 1.0], \"title\": {\"text\": \"Ledige stillingar (prosent)\"}}, \"yaxis\": {\"anchor\": \"x\", \"domain\": [0.0, 1.0], \"title\": {\"text\": \"Sysselsatte\"}}},                        {\"responsive\": true}                    ).then(function(){\n",
       "                            Plotly.addFrames('002dbddf-3dea-42aa-a0aa-8cfdfa977aae', [{\"data\": [{\"hovertemplate\": \"<b>%{hovertext}</b><br><br>n\\u00e6ring (SN2007)=Bergverksdrift og utvinning<br>kvartal=2011K1<br>Ledige stillingar (prosent)=%{x}<br>Sysselsatte=%{y}<br>Ledige stillingar=%{marker.size}<extra></extra>\", \"hovertext\": [\"Bergverksdrift og utvinning\"], \"ids\": [\"Bergverksdrift og utvinning\"], \"legendgroup\": \"Bergverksdrift og utvinning\", \"marker\": {\"color\": \"#636efa\", \"size\": [1800.0], \"sizemode\": \"area\", \"sizeref\": 4.32, \"symbol\": \"circle\"}, \"mode\": \"markers\", \"name\": \"Bergverksdrift og utvinning\", \"orientation\": \"v\", \"showlegend\": true, \"x\": [3.3], \"xaxis\": \"x\", \"y\": [49], \"yaxis\": \"y\", \"type\": \"scatter\"}, {\"hovertemplate\": \"<b>%{hovertext}</b><br><br>n\\u00e6ring (SN2007)=Byggje- og anleggsverksemd<br>kvartal=2011K1<br>Ledige stillingar (prosent)=%{x}<br>Sysselsatte=%{y}<br>Ledige stillingar=%{marker.size}<extra></extra>\", \"hovertext\": [\"Byggje- og anleggsverksemd\"], \"ids\": [\"Byggje- og anleggsverksemd\"], \"legendgroup\": \"Byggje- og anleggsverksemd\", \"marker\": {\"color\": \"#EF553B\", \"size\": [5100.0], \"sizemode\": \"area\", \"sizeref\": 4.32, \"symbol\": \"circle\"}, \"mode\": \"markers\", \"name\": \"Byggje- og anleggsverksemd\", \"orientation\": \"v\", \"showlegend\": true, \"x\": [2.8], \"xaxis\": \"x\", \"y\": [182], \"yaxis\": \"y\", \"type\": \"scatter\"}, {\"hovertemplate\": \"<b>%{hovertext}</b><br><br>n\\u00e6ring (SN2007)=Informasjon og kommunikasjon<br>kvartal=2011K1<br>Ledige stillingar (prosent)=%{x}<br>Sysselsatte=%{y}<br>Ledige stillingar=%{marker.size}<extra></extra>\", \"hovertext\": [\"Informasjon og kommunikasjon\"], \"ids\": [\"Informasjon og kommunikasjon\"], \"legendgroup\": \"Informasjon og kommunikasjon\", \"marker\": {\"color\": \"#00cc96\", \"size\": [3500.0], \"sizemode\": \"area\", \"sizeref\": 4.32, \"symbol\": \"circle\"}, \"mode\": \"markers\", \"name\": \"Informasjon og kommunikasjon\", \"orientation\": \"v\", \"showlegend\": true, \"x\": [4.1], \"xaxis\": \"x\", \"y\": [91], \"yaxis\": \"y\", \"type\": \"scatter\"}, {\"hovertemplate\": \"<b>%{hovertext}</b><br><br>n\\u00e6ring (SN2007)=Finansierings- og forsikringsverksemd<br>kvartal=2011K1<br>Ledige stillingar (prosent)=%{x}<br>Sysselsatte=%{y}<br>Ledige stillingar=%{marker.size}<extra></extra>\", \"hovertext\": [\"Finansierings- og forsikringsverksemd\"], \"ids\": [\"Finansierings- og forsikringsverksemd\"], \"legendgroup\": \"Finansierings- og forsikringsverksemd\", \"marker\": {\"color\": \"#ab63fa\", \"size\": [1300.0], \"sizemode\": \"area\", \"sizeref\": 4.32, \"symbol\": \"circle\"}, \"mode\": \"markers\", \"name\": \"Finansierings- og forsikringsverksemd\", \"orientation\": \"v\", \"showlegend\": true, \"x\": [2.7], \"xaxis\": \"x\", \"y\": [51], \"yaxis\": \"y\", \"type\": \"scatter\"}, {\"hovertemplate\": \"<b>%{hovertext}</b><br><br>n\\u00e6ring (SN2007)=Omsetning og drift av fast eigedom<br>kvartal=2011K1<br>Ledige stillingar (prosent)=%{x}<br>Sysselsatte=%{y}<br>Ledige stillingar=%{marker.size}<extra></extra>\", \"hovertext\": [\"Omsetning og drift av fast eigedom\"], \"ids\": [\"Omsetning og drift av fast eigedom\"], \"legendgroup\": \"Omsetning og drift av fast eigedom\", \"marker\": {\"color\": \"#FFA15A\", \"size\": [700.0], \"sizemode\": \"area\", \"sizeref\": 4.32, \"symbol\": \"circle\"}, \"mode\": \"markers\", \"name\": \"Omsetning og drift av fast eigedom\", \"orientation\": \"v\", \"showlegend\": true, \"x\": [2.9], \"xaxis\": \"x\", \"y\": [21], \"yaxis\": \"y\", \"type\": \"scatter\"}, {\"hovertemplate\": \"<b>%{hovertext}</b><br><br>n\\u00e6ring (SN2007)=Fagleg, vitskapleg og teknisk tenesteyting<br>kvartal=2011K1<br>Ledige stillingar (prosent)=%{x}<br>Sysselsatte=%{y}<br>Ledige stillingar=%{marker.size}<extra></extra>\", \"hovertext\": [\"Fagleg, vitskapleg og teknisk tenesteyting\"], \"ids\": [\"Fagleg, vitskapleg og teknisk tenesteyting\"], \"legendgroup\": \"Fagleg, vitskapleg og teknisk tenesteyting\", \"marker\": {\"color\": \"#19d3f3\", \"size\": [5200.0], \"sizemode\": \"area\", \"sizeref\": 4.32, \"symbol\": \"circle\"}, \"mode\": \"markers\", \"name\": \"Fagleg, vitskapleg og teknisk tenesteyting\", \"orientation\": \"v\", \"showlegend\": true, \"x\": [4.4], \"xaxis\": \"x\", \"y\": [133], \"yaxis\": \"y\", \"type\": \"scatter\"}, {\"hovertemplate\": \"<b>%{hovertext}</b><br><br>n\\u00e6ring (SN2007)=Forretningsmessig tenesteyting<br>kvartal=2011K1<br>Ledige stillingar (prosent)=%{x}<br>Sysselsatte=%{y}<br>Ledige stillingar=%{marker.size}<extra></extra>\", \"hovertext\": [\"Forretningsmessig tenesteyting\"], \"ids\": [\"Forretningsmessig tenesteyting\"], \"legendgroup\": \"Forretningsmessig tenesteyting\", \"marker\": {\"color\": \"#FF6692\", \"size\": [9400.0], \"sizemode\": \"area\", \"sizeref\": 4.32, \"symbol\": \"circle\"}, \"mode\": \"markers\", \"name\": \"Forretningsmessig tenesteyting\", \"orientation\": \"v\", \"showlegend\": true, \"x\": [6.9], \"xaxis\": \"x\", \"y\": [103], \"yaxis\": \"y\", \"type\": \"scatter\"}, {\"hovertemplate\": \"<b>%{hovertext}</b><br><br>n\\u00e6ring (SN2007)=Offentleg administrasjon og forsvar, og trygdeordningar underordna offentleg forvalting<br>kvartal=2011K1<br>Ledige stillingar (prosent)=%{x}<br>Sysselsatte=%{y}<br>Ledige stillingar=%{marker.size}<extra></extra>\", \"hovertext\": [\"Offentleg administrasjon og forsvar, og trygdeordningar underordna offentleg forvalting\"], \"ids\": [\"Offentleg administrasjon og forsvar, og trygdeordningar underordna offentleg forvalting\"], \"legendgroup\": \"Offentleg administrasjon og forsvar, og trygdeordningar underordna offentleg forvalting\", \"marker\": {\"color\": \"#B6E880\", \"size\": [3900.0], \"sizemode\": \"area\", \"sizeref\": 4.32, \"symbol\": \"circle\"}, \"mode\": \"markers\", \"name\": \"Offentleg administrasjon og forsvar, og trygdeordningar underordna offentleg forvalting\", \"orientation\": \"v\", \"showlegend\": true, \"x\": [2.6], \"xaxis\": \"x\", \"y\": [148], \"yaxis\": \"y\", \"type\": \"scatter\"}, {\"hovertemplate\": \"<b>%{hovertext}</b><br><br>n\\u00e6ring (SN2007)=Undervisning<br>kvartal=2011K1<br>Ledige stillingar (prosent)=%{x}<br>Sysselsatte=%{y}<br>Ledige stillingar=%{marker.size}<extra></extra>\", \"hovertext\": [\"Undervisning\"], \"ids\": [\"Undervisning\"], \"legendgroup\": \"Undervisning\", \"marker\": {\"color\": \"#FF97FF\", \"size\": [2700.0], \"sizemode\": \"area\", \"sizeref\": 4.32, \"symbol\": \"circle\"}, \"mode\": \"markers\", \"name\": \"Undervisning\", \"orientation\": \"v\", \"showlegend\": true, \"x\": [1.3], \"xaxis\": \"x\", \"y\": [214], \"yaxis\": \"y\", \"type\": \"scatter\"}, {\"hovertemplate\": \"<b>%{hovertext}</b><br><br>n\\u00e6ring (SN2007)=Kulturell verksemd, underhaldning og fritidsaktivitetar<br>kvartal=2011K1<br>Ledige stillingar (prosent)=%{x}<br>Sysselsatte=%{y}<br>Ledige stillingar=%{marker.size}<extra></extra>\", \"hovertext\": [\"Kulturell verksemd, underhaldning og fritidsaktivitetar\"], \"ids\": [\"Kulturell verksemd, underhaldning og fritidsaktivitetar\"], \"legendgroup\": \"Kulturell verksemd, underhaldning og fritidsaktivitetar\", \"marker\": {\"color\": \"#FECB52\", \"size\": [500.0], \"sizemode\": \"area\", \"sizeref\": 4.32, \"symbol\": \"circle\"}, \"mode\": \"markers\", \"name\": \"Kulturell verksemd, underhaldning og fritidsaktivitetar\", \"orientation\": \"v\", \"showlegend\": true, \"x\": [1.6], \"xaxis\": \"x\", \"y\": [52], \"yaxis\": \"y\", \"type\": \"scatter\"}], \"name\": \"2011K1\"}, {\"data\": [{\"hovertemplate\": \"<b>%{hovertext}</b><br><br>n\\u00e6ring (SN2007)=Bergverksdrift og utvinning<br>kvartal=2011K2<br>Ledige stillingar (prosent)=%{x}<br>Sysselsatte=%{y}<br>Ledige stillingar=%{marker.size}<extra></extra>\", \"hovertext\": [\"Bergverksdrift og utvinning\"], \"ids\": [\"Bergverksdrift og utvinning\"], \"legendgroup\": \"Bergverksdrift og utvinning\", \"marker\": {\"color\": \"#636efa\", \"size\": [2000.0], \"sizemode\": \"area\", \"sizeref\": 4.32, \"symbol\": \"circle\"}, \"mode\": \"markers\", \"name\": \"Bergverksdrift og utvinning\", \"orientation\": \"v\", \"showlegend\": true, \"x\": [3.5], \"xaxis\": \"x\", \"y\": [53], \"yaxis\": \"y\", \"type\": \"scatter\"}, {\"hovertemplate\": \"<b>%{hovertext}</b><br><br>n\\u00e6ring (SN2007)=Byggje- og anleggsverksemd<br>kvartal=2011K2<br>Ledige stillingar (prosent)=%{x}<br>Sysselsatte=%{y}<br>Ledige stillingar=%{marker.size}<extra></extra>\", \"hovertext\": [\"Byggje- og anleggsverksemd\"], \"ids\": [\"Byggje- og anleggsverksemd\"], \"legendgroup\": \"Byggje- og anleggsverksemd\", \"marker\": {\"color\": \"#EF553B\", \"size\": [5300.0], \"sizemode\": \"area\", \"sizeref\": 4.32, \"symbol\": \"circle\"}, \"mode\": \"markers\", \"name\": \"Byggje- og anleggsverksemd\", \"orientation\": \"v\", \"showlegend\": true, \"x\": [2.9], \"xaxis\": \"x\", \"y\": [184], \"yaxis\": \"y\", \"type\": \"scatter\"}, {\"hovertemplate\": \"<b>%{hovertext}</b><br><br>n\\u00e6ring (SN2007)=Informasjon og kommunikasjon<br>kvartal=2011K2<br>Ledige stillingar (prosent)=%{x}<br>Sysselsatte=%{y}<br>Ledige stillingar=%{marker.size}<extra></extra>\", \"hovertext\": [\"Informasjon og kommunikasjon\"], \"ids\": [\"Informasjon og kommunikasjon\"], \"legendgroup\": \"Informasjon og kommunikasjon\", \"marker\": {\"color\": \"#00cc96\", \"size\": [3400.0], \"sizemode\": \"area\", \"sizeref\": 4.32, \"symbol\": \"circle\"}, \"mode\": \"markers\", \"name\": \"Informasjon og kommunikasjon\", \"orientation\": \"v\", \"showlegend\": true, \"x\": [4.0], \"xaxis\": \"x\", \"y\": [94], \"yaxis\": \"y\", \"type\": \"scatter\"}, {\"hovertemplate\": \"<b>%{hovertext}</b><br><br>n\\u00e6ring (SN2007)=Finansierings- og forsikringsverksemd<br>kvartal=2011K2<br>Ledige stillingar (prosent)=%{x}<br>Sysselsatte=%{y}<br>Ledige stillingar=%{marker.size}<extra></extra>\", \"hovertext\": [\"Finansierings- og forsikringsverksemd\"], \"ids\": [\"Finansierings- og forsikringsverksemd\"], \"legendgroup\": \"Finansierings- og forsikringsverksemd\", \"marker\": {\"color\": \"#ab63fa\", \"size\": [1500.0], \"sizemode\": \"area\", \"sizeref\": 4.32, \"symbol\": \"circle\"}, \"mode\": \"markers\", \"name\": \"Finansierings- og forsikringsverksemd\", \"orientation\": \"v\", \"showlegend\": true, \"x\": [2.9], \"xaxis\": \"x\", \"y\": [51], \"yaxis\": \"y\", \"type\": \"scatter\"}, {\"hovertemplate\": \"<b>%{hovertext}</b><br><br>n\\u00e6ring (SN2007)=Omsetning og drift av fast eigedom<br>kvartal=2011K2<br>Ledige stillingar (prosent)=%{x}<br>Sysselsatte=%{y}<br>Ledige stillingar=%{marker.size}<extra></extra>\", \"hovertext\": [\"Omsetning og drift av fast eigedom\"], \"ids\": [\"Omsetning og drift av fast eigedom\"], \"legendgroup\": \"Omsetning og drift av fast eigedom\", \"marker\": {\"color\": \"#FFA15A\", \"size\": [800.0], \"sizemode\": \"area\", \"sizeref\": 4.32, \"symbol\": \"circle\"}, \"mode\": \"markers\", \"name\": \"Omsetning og drift av fast eigedom\", \"orientation\": \"v\", \"showlegend\": true, \"x\": [3.5], \"xaxis\": \"x\", \"y\": [20], \"yaxis\": \"y\", \"type\": \"scatter\"}, {\"hovertemplate\": \"<b>%{hovertext}</b><br><br>n\\u00e6ring (SN2007)=Fagleg, vitskapleg og teknisk tenesteyting<br>kvartal=2011K2<br>Ledige stillingar (prosent)=%{x}<br>Sysselsatte=%{y}<br>Ledige stillingar=%{marker.size}<extra></extra>\", \"hovertext\": [\"Fagleg, vitskapleg og teknisk tenesteyting\"], \"ids\": [\"Fagleg, vitskapleg og teknisk tenesteyting\"], \"legendgroup\": \"Fagleg, vitskapleg og teknisk tenesteyting\", \"marker\": {\"color\": \"#19d3f3\", \"size\": [4600.0], \"sizemode\": \"area\", \"sizeref\": 4.32, \"symbol\": \"circle\"}, \"mode\": \"markers\", \"name\": \"Fagleg, vitskapleg og teknisk tenesteyting\", \"orientation\": \"v\", \"showlegend\": true, \"x\": [4.0], \"xaxis\": \"x\", \"y\": [128], \"yaxis\": \"y\", \"type\": \"scatter\"}, {\"hovertemplate\": \"<b>%{hovertext}</b><br><br>n\\u00e6ring (SN2007)=Forretningsmessig tenesteyting<br>kvartal=2011K2<br>Ledige stillingar (prosent)=%{x}<br>Sysselsatte=%{y}<br>Ledige stillingar=%{marker.size}<extra></extra>\", \"hovertext\": [\"Forretningsmessig tenesteyting\"], \"ids\": [\"Forretningsmessig tenesteyting\"], \"legendgroup\": \"Forretningsmessig tenesteyting\", \"marker\": {\"color\": \"#FF6692\", \"size\": [10700.0], \"sizemode\": \"area\", \"sizeref\": 4.32, \"symbol\": \"circle\"}, \"mode\": \"markers\", \"name\": \"Forretningsmessig tenesteyting\", \"orientation\": \"v\", \"showlegend\": true, \"x\": [7.8], \"xaxis\": \"x\", \"y\": [105], \"yaxis\": \"y\", \"type\": \"scatter\"}, {\"hovertemplate\": \"<b>%{hovertext}</b><br><br>n\\u00e6ring (SN2007)=Offentleg administrasjon og forsvar, og trygdeordningar underordna offentleg forvalting<br>kvartal=2011K2<br>Ledige stillingar (prosent)=%{x}<br>Sysselsatte=%{y}<br>Ledige stillingar=%{marker.size}<extra></extra>\", \"hovertext\": [\"Offentleg administrasjon og forsvar, og trygdeordningar underordna offentleg forvalting\"], \"ids\": [\"Offentleg administrasjon og forsvar, og trygdeordningar underordna offentleg forvalting\"], \"legendgroup\": \"Offentleg administrasjon og forsvar, og trygdeordningar underordna offentleg forvalting\", \"marker\": {\"color\": \"#B6E880\", \"size\": [3400.0], \"sizemode\": \"area\", \"sizeref\": 4.32, \"symbol\": \"circle\"}, \"mode\": \"markers\", \"name\": \"Offentleg administrasjon og forsvar, og trygdeordningar underordna offentleg forvalting\", \"orientation\": \"v\", \"showlegend\": true, \"x\": [2.3], \"xaxis\": \"x\", \"y\": [151], \"yaxis\": \"y\", \"type\": \"scatter\"}, {\"hovertemplate\": \"<b>%{hovertext}</b><br><br>n\\u00e6ring (SN2007)=Undervisning<br>kvartal=2011K2<br>Ledige stillingar (prosent)=%{x}<br>Sysselsatte=%{y}<br>Ledige stillingar=%{marker.size}<extra></extra>\", \"hovertext\": [\"Undervisning\"], \"ids\": [\"Undervisning\"], \"legendgroup\": \"Undervisning\", \"marker\": {\"color\": \"#FF97FF\", \"size\": [5100.0], \"sizemode\": \"area\", \"sizeref\": 4.32, \"symbol\": \"circle\"}, \"mode\": \"markers\", \"name\": \"Undervisning\", \"orientation\": \"v\", \"showlegend\": true, \"x\": [2.4], \"xaxis\": \"x\", \"y\": [212], \"yaxis\": \"y\", \"type\": \"scatter\"}, {\"hovertemplate\": \"<b>%{hovertext}</b><br><br>n\\u00e6ring (SN2007)=Kulturell verksemd, underhaldning og fritidsaktivitetar<br>kvartal=2011K2<br>Ledige stillingar (prosent)=%{x}<br>Sysselsatte=%{y}<br>Ledige stillingar=%{marker.size}<extra></extra>\", \"hovertext\": [\"Kulturell verksemd, underhaldning og fritidsaktivitetar\"], \"ids\": [\"Kulturell verksemd, underhaldning og fritidsaktivitetar\"], \"legendgroup\": \"Kulturell verksemd, underhaldning og fritidsaktivitetar\", \"marker\": {\"color\": \"#FECB52\", \"size\": [600.0], \"sizemode\": \"area\", \"sizeref\": 4.32, \"symbol\": \"circle\"}, \"mode\": \"markers\", \"name\": \"Kulturell verksemd, underhaldning og fritidsaktivitetar\", \"orientation\": \"v\", \"showlegend\": true, \"x\": [1.9], \"xaxis\": \"x\", \"y\": [51], \"yaxis\": \"y\", \"type\": \"scatter\"}], \"name\": \"2011K2\"}, {\"data\": [{\"hovertemplate\": \"<b>%{hovertext}</b><br><br>n\\u00e6ring (SN2007)=Bergverksdrift og utvinning<br>kvartal=2011K3<br>Ledige stillingar (prosent)=%{x}<br>Sysselsatte=%{y}<br>Ledige stillingar=%{marker.size}<extra></extra>\", \"hovertext\": [\"Bergverksdrift og utvinning\"], \"ids\": [\"Bergverksdrift og utvinning\"], \"legendgroup\": \"Bergverksdrift og utvinning\", \"marker\": {\"color\": \"#636efa\", \"size\": [1800.0], \"sizemode\": \"area\", \"sizeref\": 4.32, \"symbol\": \"circle\"}, \"mode\": \"markers\", \"name\": \"Bergverksdrift og utvinning\", \"orientation\": \"v\", \"showlegend\": true, \"x\": [3.2], \"xaxis\": \"x\", \"y\": [54], \"yaxis\": \"y\", \"type\": \"scatter\"}, {\"hovertemplate\": \"<b>%{hovertext}</b><br><br>n\\u00e6ring (SN2007)=Byggje- og anleggsverksemd<br>kvartal=2011K3<br>Ledige stillingar (prosent)=%{x}<br>Sysselsatte=%{y}<br>Ledige stillingar=%{marker.size}<extra></extra>\", \"hovertext\": [\"Byggje- og anleggsverksemd\"], \"ids\": [\"Byggje- og anleggsverksemd\"], \"legendgroup\": \"Byggje- og anleggsverksemd\", \"marker\": {\"color\": \"#EF553B\", \"size\": [4500.0], \"sizemode\": \"area\", \"sizeref\": 4.32, \"symbol\": \"circle\"}, \"mode\": \"markers\", \"name\": \"Byggje- og anleggsverksemd\", \"orientation\": \"v\", \"showlegend\": true, \"x\": [2.3], \"xaxis\": \"x\", \"y\": [190], \"yaxis\": \"y\", \"type\": \"scatter\"}, {\"hovertemplate\": \"<b>%{hovertext}</b><br><br>n\\u00e6ring (SN2007)=Informasjon og kommunikasjon<br>kvartal=2011K3<br>Ledige stillingar (prosent)=%{x}<br>Sysselsatte=%{y}<br>Ledige stillingar=%{marker.size}<extra></extra>\", \"hovertext\": [\"Informasjon og kommunikasjon\"], \"ids\": [\"Informasjon og kommunikasjon\"], \"legendgroup\": \"Informasjon og kommunikasjon\", \"marker\": {\"color\": \"#00cc96\", \"size\": [2800.0], \"sizemode\": \"area\", \"sizeref\": 4.32, \"symbol\": \"circle\"}, \"mode\": \"markers\", \"name\": \"Informasjon og kommunikasjon\", \"orientation\": \"v\", \"showlegend\": true, \"x\": [3.4], \"xaxis\": \"x\", \"y\": [96], \"yaxis\": \"y\", \"type\": \"scatter\"}, {\"hovertemplate\": \"<b>%{hovertext}</b><br><br>n\\u00e6ring (SN2007)=Finansierings- og forsikringsverksemd<br>kvartal=2011K3<br>Ledige stillingar (prosent)=%{x}<br>Sysselsatte=%{y}<br>Ledige stillingar=%{marker.size}<extra></extra>\", \"hovertext\": [\"Finansierings- og forsikringsverksemd\"], \"ids\": [\"Finansierings- og forsikringsverksemd\"], \"legendgroup\": \"Finansierings- og forsikringsverksemd\", \"marker\": {\"color\": \"#ab63fa\", \"size\": [900.0], \"sizemode\": \"area\", \"sizeref\": 4.32, \"symbol\": \"circle\"}, \"mode\": \"markers\", \"name\": \"Finansierings- og forsikringsverksemd\", \"orientation\": \"v\", \"showlegend\": true, \"x\": [1.8], \"xaxis\": \"x\", \"y\": [51], \"yaxis\": \"y\", \"type\": \"scatter\"}, {\"hovertemplate\": \"<b>%{hovertext}</b><br><br>n\\u00e6ring (SN2007)=Omsetning og drift av fast eigedom<br>kvartal=2011K3<br>Ledige stillingar (prosent)=%{x}<br>Sysselsatte=%{y}<br>Ledige stillingar=%{marker.size}<extra></extra>\", \"hovertext\": [\"Omsetning og drift av fast eigedom\"], \"ids\": [\"Omsetning og drift av fast eigedom\"], \"legendgroup\": \"Omsetning og drift av fast eigedom\", \"marker\": {\"color\": \"#FFA15A\", \"size\": [700.0], \"sizemode\": \"area\", \"sizeref\": 4.32, \"symbol\": \"circle\"}, \"mode\": \"markers\", \"name\": \"Omsetning og drift av fast eigedom\", \"orientation\": \"v\", \"showlegend\": true, \"x\": [2.9], \"xaxis\": \"x\", \"y\": [18], \"yaxis\": \"y\", \"type\": \"scatter\"}, {\"hovertemplate\": \"<b>%{hovertext}</b><br><br>n\\u00e6ring (SN2007)=Fagleg, vitskapleg og teknisk tenesteyting<br>kvartal=2011K3<br>Ledige stillingar (prosent)=%{x}<br>Sysselsatte=%{y}<br>Ledige stillingar=%{marker.size}<extra></extra>\", \"hovertext\": [\"Fagleg, vitskapleg og teknisk tenesteyting\"], \"ids\": [\"Fagleg, vitskapleg og teknisk tenesteyting\"], \"legendgroup\": \"Fagleg, vitskapleg og teknisk tenesteyting\", \"marker\": {\"color\": \"#19d3f3\", \"size\": [4500.0], \"sizemode\": \"area\", \"sizeref\": 4.32, \"symbol\": \"circle\"}, \"mode\": \"markers\", \"name\": \"Fagleg, vitskapleg og teknisk tenesteyting\", \"orientation\": \"v\", \"showlegend\": true, \"x\": [3.8], \"xaxis\": \"x\", \"y\": [131], \"yaxis\": \"y\", \"type\": \"scatter\"}, {\"hovertemplate\": \"<b>%{hovertext}</b><br><br>n\\u00e6ring (SN2007)=Forretningsmessig tenesteyting<br>kvartal=2011K3<br>Ledige stillingar (prosent)=%{x}<br>Sysselsatte=%{y}<br>Ledige stillingar=%{marker.size}<extra></extra>\", \"hovertext\": [\"Forretningsmessig tenesteyting\"], \"ids\": [\"Forretningsmessig tenesteyting\"], \"legendgroup\": \"Forretningsmessig tenesteyting\", \"marker\": {\"color\": \"#FF6692\", \"size\": [9300.0], \"sizemode\": \"area\", \"sizeref\": 4.32, \"symbol\": \"circle\"}, \"mode\": \"markers\", \"name\": \"Forretningsmessig tenesteyting\", \"orientation\": \"v\", \"showlegend\": true, \"x\": [6.6], \"xaxis\": \"x\", \"y\": [100], \"yaxis\": \"y\", \"type\": \"scatter\"}, {\"hovertemplate\": \"<b>%{hovertext}</b><br><br>n\\u00e6ring (SN2007)=Offentleg administrasjon og forsvar, og trygdeordningar underordna offentleg forvalting<br>kvartal=2011K3<br>Ledige stillingar (prosent)=%{x}<br>Sysselsatte=%{y}<br>Ledige stillingar=%{marker.size}<extra></extra>\", \"hovertext\": [\"Offentleg administrasjon og forsvar, og trygdeordningar underordna offentleg forvalting\"], \"ids\": [\"Offentleg administrasjon og forsvar, og trygdeordningar underordna offentleg forvalting\"], \"legendgroup\": \"Offentleg administrasjon og forsvar, og trygdeordningar underordna offentleg forvalting\", \"marker\": {\"color\": \"#B6E880\", \"size\": [3300.0], \"sizemode\": \"area\", \"sizeref\": 4.32, \"symbol\": \"circle\"}, \"mode\": \"markers\", \"name\": \"Offentleg administrasjon og forsvar, og trygdeordningar underordna offentleg forvalting\", \"orientation\": \"v\", \"showlegend\": true, \"x\": [2.2], \"xaxis\": \"x\", \"y\": [149], \"yaxis\": \"y\", \"type\": \"scatter\"}, {\"hovertemplate\": \"<b>%{hovertext}</b><br><br>n\\u00e6ring (SN2007)=Undervisning<br>kvartal=2011K3<br>Ledige stillingar (prosent)=%{x}<br>Sysselsatte=%{y}<br>Ledige stillingar=%{marker.size}<extra></extra>\", \"hovertext\": [\"Undervisning\"], \"ids\": [\"Undervisning\"], \"legendgroup\": \"Undervisning\", \"marker\": {\"color\": \"#FF97FF\", \"size\": [2600.0], \"sizemode\": \"area\", \"sizeref\": 4.32, \"symbol\": \"circle\"}, \"mode\": \"markers\", \"name\": \"Undervisning\", \"orientation\": \"v\", \"showlegend\": true, \"x\": [1.3], \"xaxis\": \"x\", \"y\": [204], \"yaxis\": \"y\", \"type\": \"scatter\"}, {\"hovertemplate\": \"<b>%{hovertext}</b><br><br>n\\u00e6ring (SN2007)=Kulturell verksemd, underhaldning og fritidsaktivitetar<br>kvartal=2011K3<br>Ledige stillingar (prosent)=%{x}<br>Sysselsatte=%{y}<br>Ledige stillingar=%{marker.size}<extra></extra>\", \"hovertext\": [\"Kulturell verksemd, underhaldning og fritidsaktivitetar\"], \"ids\": [\"Kulturell verksemd, underhaldning og fritidsaktivitetar\"], \"legendgroup\": \"Kulturell verksemd, underhaldning og fritidsaktivitetar\", \"marker\": {\"color\": \"#FECB52\", \"size\": [500.0], \"sizemode\": \"area\", \"sizeref\": 4.32, \"symbol\": \"circle\"}, \"mode\": \"markers\", \"name\": \"Kulturell verksemd, underhaldning og fritidsaktivitetar\", \"orientation\": \"v\", \"showlegend\": true, \"x\": [1.6], \"xaxis\": \"x\", \"y\": [50], \"yaxis\": \"y\", \"type\": \"scatter\"}], \"name\": \"2011K3\"}, {\"data\": [{\"hovertemplate\": \"<b>%{hovertext}</b><br><br>n\\u00e6ring (SN2007)=Bergverksdrift og utvinning<br>kvartal=2011K4<br>Ledige stillingar (prosent)=%{x}<br>Sysselsatte=%{y}<br>Ledige stillingar=%{marker.size}<extra></extra>\", \"hovertext\": [\"Bergverksdrift og utvinning\"], \"ids\": [\"Bergverksdrift og utvinning\"], \"legendgroup\": \"Bergverksdrift og utvinning\", \"marker\": {\"color\": \"#636efa\", \"size\": [2200.0], \"sizemode\": \"area\", \"sizeref\": 4.32, \"symbol\": \"circle\"}, \"mode\": \"markers\", \"name\": \"Bergverksdrift og utvinning\", \"orientation\": \"v\", \"showlegend\": true, \"x\": [3.8], \"xaxis\": \"x\", \"y\": [55], \"yaxis\": \"y\", \"type\": \"scatter\"}, {\"hovertemplate\": \"<b>%{hovertext}</b><br><br>n\\u00e6ring (SN2007)=Byggje- og anleggsverksemd<br>kvartal=2011K4<br>Ledige stillingar (prosent)=%{x}<br>Sysselsatte=%{y}<br>Ledige stillingar=%{marker.size}<extra></extra>\", \"hovertext\": [\"Byggje- og anleggsverksemd\"], \"ids\": [\"Byggje- og anleggsverksemd\"], \"legendgroup\": \"Byggje- og anleggsverksemd\", \"marker\": {\"color\": \"#EF553B\", \"size\": [4800.0], \"sizemode\": \"area\", \"sizeref\": 4.32, \"symbol\": \"circle\"}, \"mode\": \"markers\", \"name\": \"Byggje- og anleggsverksemd\", \"orientation\": \"v\", \"showlegend\": true, \"x\": [2.5], \"xaxis\": \"x\", \"y\": [188], \"yaxis\": \"y\", \"type\": \"scatter\"}, {\"hovertemplate\": \"<b>%{hovertext}</b><br><br>n\\u00e6ring (SN2007)=Informasjon og kommunikasjon<br>kvartal=2011K4<br>Ledige stillingar (prosent)=%{x}<br>Sysselsatte=%{y}<br>Ledige stillingar=%{marker.size}<extra></extra>\", \"hovertext\": [\"Informasjon og kommunikasjon\"], \"ids\": [\"Informasjon og kommunikasjon\"], \"legendgroup\": \"Informasjon og kommunikasjon\", \"marker\": {\"color\": \"#00cc96\", \"size\": [2600.0], \"sizemode\": \"area\", \"sizeref\": 4.32, \"symbol\": \"circle\"}, \"mode\": \"markers\", \"name\": \"Informasjon og kommunikasjon\", \"orientation\": \"v\", \"showlegend\": true, \"x\": [3.1], \"xaxis\": \"x\", \"y\": [95], \"yaxis\": \"y\", \"type\": \"scatter\"}, {\"hovertemplate\": \"<b>%{hovertext}</b><br><br>n\\u00e6ring (SN2007)=Finansierings- og forsikringsverksemd<br>kvartal=2011K4<br>Ledige stillingar (prosent)=%{x}<br>Sysselsatte=%{y}<br>Ledige stillingar=%{marker.size}<extra></extra>\", \"hovertext\": [\"Finansierings- og forsikringsverksemd\"], \"ids\": [\"Finansierings- og forsikringsverksemd\"], \"legendgroup\": \"Finansierings- og forsikringsverksemd\", \"marker\": {\"color\": \"#ab63fa\", \"size\": [800.0], \"sizemode\": \"area\", \"sizeref\": 4.32, \"symbol\": \"circle\"}, \"mode\": \"markers\", \"name\": \"Finansierings- og forsikringsverksemd\", \"orientation\": \"v\", \"showlegend\": true, \"x\": [1.6], \"xaxis\": \"x\", \"y\": [51], \"yaxis\": \"y\", \"type\": \"scatter\"}, {\"hovertemplate\": \"<b>%{hovertext}</b><br><br>n\\u00e6ring (SN2007)=Omsetning og drift av fast eigedom<br>kvartal=2011K4<br>Ledige stillingar (prosent)=%{x}<br>Sysselsatte=%{y}<br>Ledige stillingar=%{marker.size}<extra></extra>\", \"hovertext\": [\"Omsetning og drift av fast eigedom\"], \"ids\": [\"Omsetning og drift av fast eigedom\"], \"legendgroup\": \"Omsetning og drift av fast eigedom\", \"marker\": {\"color\": \"#FFA15A\", \"size\": [900.0], \"sizemode\": \"area\", \"sizeref\": 4.32, \"symbol\": \"circle\"}, \"mode\": \"markers\", \"name\": \"Omsetning og drift av fast eigedom\", \"orientation\": \"v\", \"showlegend\": true, \"x\": [3.6], \"xaxis\": \"x\", \"y\": [18], \"yaxis\": \"y\", \"type\": \"scatter\"}, {\"hovertemplate\": \"<b>%{hovertext}</b><br><br>n\\u00e6ring (SN2007)=Fagleg, vitskapleg og teknisk tenesteyting<br>kvartal=2011K4<br>Ledige stillingar (prosent)=%{x}<br>Sysselsatte=%{y}<br>Ledige stillingar=%{marker.size}<extra></extra>\", \"hovertext\": [\"Fagleg, vitskapleg og teknisk tenesteyting\"], \"ids\": [\"Fagleg, vitskapleg og teknisk tenesteyting\"], \"legendgroup\": \"Fagleg, vitskapleg og teknisk tenesteyting\", \"marker\": {\"color\": \"#19d3f3\", \"size\": [5500.0], \"sizemode\": \"area\", \"sizeref\": 4.32, \"symbol\": \"circle\"}, \"mode\": \"markers\", \"name\": \"Fagleg, vitskapleg og teknisk tenesteyting\", \"orientation\": \"v\", \"showlegend\": true, \"x\": [4.6], \"xaxis\": \"x\", \"y\": [138], \"yaxis\": \"y\", \"type\": \"scatter\"}, {\"hovertemplate\": \"<b>%{hovertext}</b><br><br>n\\u00e6ring (SN2007)=Forretningsmessig tenesteyting<br>kvartal=2011K4<br>Ledige stillingar (prosent)=%{x}<br>Sysselsatte=%{y}<br>Ledige stillingar=%{marker.size}<extra></extra>\", \"hovertext\": [\"Forretningsmessig tenesteyting\"], \"ids\": [\"Forretningsmessig tenesteyting\"], \"legendgroup\": \"Forretningsmessig tenesteyting\", \"marker\": {\"color\": \"#FF6692\", \"size\": [8000.0], \"sizemode\": \"area\", \"sizeref\": 4.32, \"symbol\": \"circle\"}, \"mode\": \"markers\", \"name\": \"Forretningsmessig tenesteyting\", \"orientation\": \"v\", \"showlegend\": true, \"x\": [5.7], \"xaxis\": \"x\", \"y\": [100], \"yaxis\": \"y\", \"type\": \"scatter\"}, {\"hovertemplate\": \"<b>%{hovertext}</b><br><br>n\\u00e6ring (SN2007)=Offentleg administrasjon og forsvar, og trygdeordningar underordna offentleg forvalting<br>kvartal=2011K4<br>Ledige stillingar (prosent)=%{x}<br>Sysselsatte=%{y}<br>Ledige stillingar=%{marker.size}<extra></extra>\", \"hovertext\": [\"Offentleg administrasjon og forsvar, og trygdeordningar underordna offentleg forvalting\"], \"ids\": [\"Offentleg administrasjon og forsvar, og trygdeordningar underordna offentleg forvalting\"], \"legendgroup\": \"Offentleg administrasjon og forsvar, og trygdeordningar underordna offentleg forvalting\", \"marker\": {\"color\": \"#B6E880\", \"size\": [3300.0], \"sizemode\": \"area\", \"sizeref\": 4.32, \"symbol\": \"circle\"}, \"mode\": \"markers\", \"name\": \"Offentleg administrasjon og forsvar, og trygdeordningar underordna offentleg forvalting\", \"orientation\": \"v\", \"showlegend\": true, \"x\": [2.2], \"xaxis\": \"x\", \"y\": [153], \"yaxis\": \"y\", \"type\": \"scatter\"}, {\"hovertemplate\": \"<b>%{hovertext}</b><br><br>n\\u00e6ring (SN2007)=Undervisning<br>kvartal=2011K4<br>Ledige stillingar (prosent)=%{x}<br>Sysselsatte=%{y}<br>Ledige stillingar=%{marker.size}<extra></extra>\", \"hovertext\": [\"Undervisning\"], \"ids\": [\"Undervisning\"], \"legendgroup\": \"Undervisning\", \"marker\": {\"color\": \"#FF97FF\", \"size\": [2200.0], \"sizemode\": \"area\", \"sizeref\": 4.32, \"symbol\": \"circle\"}, \"mode\": \"markers\", \"name\": \"Undervisning\", \"orientation\": \"v\", \"showlegend\": true, \"x\": [1.1], \"xaxis\": \"x\", \"y\": [213], \"yaxis\": \"y\", \"type\": \"scatter\"}, {\"hovertemplate\": \"<b>%{hovertext}</b><br><br>n\\u00e6ring (SN2007)=Kulturell verksemd, underhaldning og fritidsaktivitetar<br>kvartal=2011K4<br>Ledige stillingar (prosent)=%{x}<br>Sysselsatte=%{y}<br>Ledige stillingar=%{marker.size}<extra></extra>\", \"hovertext\": [\"Kulturell verksemd, underhaldning og fritidsaktivitetar\"], \"ids\": [\"Kulturell verksemd, underhaldning og fritidsaktivitetar\"], \"legendgroup\": \"Kulturell verksemd, underhaldning og fritidsaktivitetar\", \"marker\": {\"color\": \"#FECB52\", \"size\": [600.0], \"sizemode\": \"area\", \"sizeref\": 4.32, \"symbol\": \"circle\"}, \"mode\": \"markers\", \"name\": \"Kulturell verksemd, underhaldning og fritidsaktivitetar\", \"orientation\": \"v\", \"showlegend\": true, \"x\": [2.0], \"xaxis\": \"x\", \"y\": [49], \"yaxis\": \"y\", \"type\": \"scatter\"}], \"name\": \"2011K4\"}, {\"data\": [{\"hovertemplate\": \"<b>%{hovertext}</b><br><br>n\\u00e6ring (SN2007)=Bergverksdrift og utvinning<br>kvartal=2012K1<br>Ledige stillingar (prosent)=%{x}<br>Sysselsatte=%{y}<br>Ledige stillingar=%{marker.size}<extra></extra>\", \"hovertext\": [\"Bergverksdrift og utvinning\"], \"ids\": [\"Bergverksdrift og utvinning\"], \"legendgroup\": \"Bergverksdrift og utvinning\", \"marker\": {\"color\": \"#636efa\", \"size\": [2200.0], \"sizemode\": \"area\", \"sizeref\": 4.32, \"symbol\": \"circle\"}, \"mode\": \"markers\", \"name\": \"Bergverksdrift og utvinning\", \"orientation\": \"v\", \"showlegend\": true, \"x\": [3.8], \"xaxis\": \"x\", \"y\": [56], \"yaxis\": \"y\", \"type\": \"scatter\"}, {\"hovertemplate\": \"<b>%{hovertext}</b><br><br>n\\u00e6ring (SN2007)=Byggje- og anleggsverksemd<br>kvartal=2012K1<br>Ledige stillingar (prosent)=%{x}<br>Sysselsatte=%{y}<br>Ledige stillingar=%{marker.size}<extra></extra>\", \"hovertext\": [\"Byggje- og anleggsverksemd\"], \"ids\": [\"Byggje- og anleggsverksemd\"], \"legendgroup\": \"Byggje- og anleggsverksemd\", \"marker\": {\"color\": \"#EF553B\", \"size\": [4700.0], \"sizemode\": \"area\", \"sizeref\": 4.32, \"symbol\": \"circle\"}, \"mode\": \"markers\", \"name\": \"Byggje- og anleggsverksemd\", \"orientation\": \"v\", \"showlegend\": true, \"x\": [2.4], \"xaxis\": \"x\", \"y\": [188], \"yaxis\": \"y\", \"type\": \"scatter\"}, {\"hovertemplate\": \"<b>%{hovertext}</b><br><br>n\\u00e6ring (SN2007)=Informasjon og kommunikasjon<br>kvartal=2012K1<br>Ledige stillingar (prosent)=%{x}<br>Sysselsatte=%{y}<br>Ledige stillingar=%{marker.size}<extra></extra>\", \"hovertext\": [\"Informasjon og kommunikasjon\"], \"ids\": [\"Informasjon og kommunikasjon\"], \"legendgroup\": \"Informasjon og kommunikasjon\", \"marker\": {\"color\": \"#00cc96\", \"size\": [3600.0], \"sizemode\": \"area\", \"sizeref\": 4.32, \"symbol\": \"circle\"}, \"mode\": \"markers\", \"name\": \"Informasjon og kommunikasjon\", \"orientation\": \"v\", \"showlegend\": true, \"x\": [4.2], \"xaxis\": \"x\", \"y\": [100], \"yaxis\": \"y\", \"type\": \"scatter\"}, {\"hovertemplate\": \"<b>%{hovertext}</b><br><br>n\\u00e6ring (SN2007)=Finansierings- og forsikringsverksemd<br>kvartal=2012K1<br>Ledige stillingar (prosent)=%{x}<br>Sysselsatte=%{y}<br>Ledige stillingar=%{marker.size}<extra></extra>\", \"hovertext\": [\"Finansierings- og forsikringsverksemd\"], \"ids\": [\"Finansierings- og forsikringsverksemd\"], \"legendgroup\": \"Finansierings- og forsikringsverksemd\", \"marker\": {\"color\": \"#ab63fa\", \"size\": [800.0], \"sizemode\": \"area\", \"sizeref\": 4.32, \"symbol\": \"circle\"}, \"mode\": \"markers\", \"name\": \"Finansierings- og forsikringsverksemd\", \"orientation\": \"v\", \"showlegend\": true, \"x\": [1.7], \"xaxis\": \"x\", \"y\": [52], \"yaxis\": \"y\", \"type\": \"scatter\"}, {\"hovertemplate\": \"<b>%{hovertext}</b><br><br>n\\u00e6ring (SN2007)=Omsetning og drift av fast eigedom<br>kvartal=2012K1<br>Ledige stillingar (prosent)=%{x}<br>Sysselsatte=%{y}<br>Ledige stillingar=%{marker.size}<extra></extra>\", \"hovertext\": [\"Omsetning og drift av fast eigedom\"], \"ids\": [\"Omsetning og drift av fast eigedom\"], \"legendgroup\": \"Omsetning og drift av fast eigedom\", \"marker\": {\"color\": \"#FFA15A\", \"size\": [600.0], \"sizemode\": \"area\", \"sizeref\": 4.32, \"symbol\": \"circle\"}, \"mode\": \"markers\", \"name\": \"Omsetning og drift av fast eigedom\", \"orientation\": \"v\", \"showlegend\": true, \"x\": [2.5], \"xaxis\": \"x\", \"y\": [18], \"yaxis\": \"y\", \"type\": \"scatter\"}, {\"hovertemplate\": \"<b>%{hovertext}</b><br><br>n\\u00e6ring (SN2007)=Fagleg, vitskapleg og teknisk tenesteyting<br>kvartal=2012K1<br>Ledige stillingar (prosent)=%{x}<br>Sysselsatte=%{y}<br>Ledige stillingar=%{marker.size}<extra></extra>\", \"hovertext\": [\"Fagleg, vitskapleg og teknisk tenesteyting\"], \"ids\": [\"Fagleg, vitskapleg og teknisk tenesteyting\"], \"legendgroup\": \"Fagleg, vitskapleg og teknisk tenesteyting\", \"marker\": {\"color\": \"#19d3f3\", \"size\": [4000.0], \"sizemode\": \"area\", \"sizeref\": 4.32, \"symbol\": \"circle\"}, \"mode\": \"markers\", \"name\": \"Fagleg, vitskapleg og teknisk tenesteyting\", \"orientation\": \"v\", \"showlegend\": true, \"x\": [3.3], \"xaxis\": \"x\", \"y\": [138], \"yaxis\": \"y\", \"type\": \"scatter\"}, {\"hovertemplate\": \"<b>%{hovertext}</b><br><br>n\\u00e6ring (SN2007)=Forretningsmessig tenesteyting<br>kvartal=2012K1<br>Ledige stillingar (prosent)=%{x}<br>Sysselsatte=%{y}<br>Ledige stillingar=%{marker.size}<extra></extra>\", \"hovertext\": [\"Forretningsmessig tenesteyting\"], \"ids\": [\"Forretningsmessig tenesteyting\"], \"legendgroup\": \"Forretningsmessig tenesteyting\", \"marker\": {\"color\": \"#FF6692\", \"size\": [10800.0], \"sizemode\": \"area\", \"sizeref\": 4.32, \"symbol\": \"circle\"}, \"mode\": \"markers\", \"name\": \"Forretningsmessig tenesteyting\", \"orientation\": \"v\", \"showlegend\": true, \"x\": [7.5], \"xaxis\": \"x\", \"y\": [103], \"yaxis\": \"y\", \"type\": \"scatter\"}, {\"hovertemplate\": \"<b>%{hovertext}</b><br><br>n\\u00e6ring (SN2007)=Offentleg administrasjon og forsvar, og trygdeordningar underordna offentleg forvalting<br>kvartal=2012K1<br>Ledige stillingar (prosent)=%{x}<br>Sysselsatte=%{y}<br>Ledige stillingar=%{marker.size}<extra></extra>\", \"hovertext\": [\"Offentleg administrasjon og forsvar, og trygdeordningar underordna offentleg forvalting\"], \"ids\": [\"Offentleg administrasjon og forsvar, og trygdeordningar underordna offentleg forvalting\"], \"legendgroup\": \"Offentleg administrasjon og forsvar, og trygdeordningar underordna offentleg forvalting\", \"marker\": {\"color\": \"#B6E880\", \"size\": [4500.0], \"sizemode\": \"area\", \"sizeref\": 4.32, \"symbol\": \"circle\"}, \"mode\": \"markers\", \"name\": \"Offentleg administrasjon og forsvar, og trygdeordningar underordna offentleg forvalting\", \"orientation\": \"v\", \"showlegend\": true, \"x\": [3.0], \"xaxis\": \"x\", \"y\": [160], \"yaxis\": \"y\", \"type\": \"scatter\"}, {\"hovertemplate\": \"<b>%{hovertext}</b><br><br>n\\u00e6ring (SN2007)=Undervisning<br>kvartal=2012K1<br>Ledige stillingar (prosent)=%{x}<br>Sysselsatte=%{y}<br>Ledige stillingar=%{marker.size}<extra></extra>\", \"hovertext\": [\"Undervisning\"], \"ids\": [\"Undervisning\"], \"legendgroup\": \"Undervisning\", \"marker\": {\"color\": \"#FF97FF\", \"size\": [4100.0], \"sizemode\": \"area\", \"sizeref\": 4.32, \"symbol\": \"circle\"}, \"mode\": \"markers\", \"name\": \"Undervisning\", \"orientation\": \"v\", \"showlegend\": true, \"x\": [2.0], \"xaxis\": \"x\", \"y\": [213], \"yaxis\": \"y\", \"type\": \"scatter\"}, {\"hovertemplate\": \"<b>%{hovertext}</b><br><br>n\\u00e6ring (SN2007)=Kulturell verksemd, underhaldning og fritidsaktivitetar<br>kvartal=2012K1<br>Ledige stillingar (prosent)=%{x}<br>Sysselsatte=%{y}<br>Ledige stillingar=%{marker.size}<extra></extra>\", \"hovertext\": [\"Kulturell verksemd, underhaldning og fritidsaktivitetar\"], \"ids\": [\"Kulturell verksemd, underhaldning og fritidsaktivitetar\"], \"legendgroup\": \"Kulturell verksemd, underhaldning og fritidsaktivitetar\", \"marker\": {\"color\": \"#FECB52\", \"size\": [600.0], \"sizemode\": \"area\", \"sizeref\": 4.32, \"symbol\": \"circle\"}, \"mode\": \"markers\", \"name\": \"Kulturell verksemd, underhaldning og fritidsaktivitetar\", \"orientation\": \"v\", \"showlegend\": true, \"x\": [2.0], \"xaxis\": \"x\", \"y\": [47], \"yaxis\": \"y\", \"type\": \"scatter\"}], \"name\": \"2012K1\"}, {\"data\": [{\"hovertemplate\": \"<b>%{hovertext}</b><br><br>n\\u00e6ring (SN2007)=Bergverksdrift og utvinning<br>kvartal=2012K2<br>Ledige stillingar (prosent)=%{x}<br>Sysselsatte=%{y}<br>Ledige stillingar=%{marker.size}<extra></extra>\", \"hovertext\": [\"Bergverksdrift og utvinning\"], \"ids\": [\"Bergverksdrift og utvinning\"], \"legendgroup\": \"Bergverksdrift og utvinning\", \"marker\": {\"color\": \"#636efa\", \"size\": [2500.0], \"sizemode\": \"area\", \"sizeref\": 4.32, \"symbol\": \"circle\"}, \"mode\": \"markers\", \"name\": \"Bergverksdrift og utvinning\", \"orientation\": \"v\", \"showlegend\": true, \"x\": [4.1], \"xaxis\": \"x\", \"y\": [55], \"yaxis\": \"y\", \"type\": \"scatter\"}, {\"hovertemplate\": \"<b>%{hovertext}</b><br><br>n\\u00e6ring (SN2007)=Byggje- og anleggsverksemd<br>kvartal=2012K2<br>Ledige stillingar (prosent)=%{x}<br>Sysselsatte=%{y}<br>Ledige stillingar=%{marker.size}<extra></extra>\", \"hovertext\": [\"Byggje- og anleggsverksemd\"], \"ids\": [\"Byggje- og anleggsverksemd\"], \"legendgroup\": \"Byggje- og anleggsverksemd\", \"marker\": {\"color\": \"#EF553B\", \"size\": [4100.0], \"sizemode\": \"area\", \"sizeref\": 4.32, \"symbol\": \"circle\"}, \"mode\": \"markers\", \"name\": \"Byggje- og anleggsverksemd\", \"orientation\": \"v\", \"showlegend\": true, \"x\": [2.1], \"xaxis\": \"x\", \"y\": [193], \"yaxis\": \"y\", \"type\": \"scatter\"}, {\"hovertemplate\": \"<b>%{hovertext}</b><br><br>n\\u00e6ring (SN2007)=Informasjon og kommunikasjon<br>kvartal=2012K2<br>Ledige stillingar (prosent)=%{x}<br>Sysselsatte=%{y}<br>Ledige stillingar=%{marker.size}<extra></extra>\", \"hovertext\": [\"Informasjon og kommunikasjon\"], \"ids\": [\"Informasjon og kommunikasjon\"], \"legendgroup\": \"Informasjon og kommunikasjon\", \"marker\": {\"color\": \"#00cc96\", \"size\": [3500.0], \"sizemode\": \"area\", \"sizeref\": 4.32, \"symbol\": \"circle\"}, \"mode\": \"markers\", \"name\": \"Informasjon og kommunikasjon\", \"orientation\": \"v\", \"showlegend\": true, \"x\": [4.0], \"xaxis\": \"x\", \"y\": [102], \"yaxis\": \"y\", \"type\": \"scatter\"}, {\"hovertemplate\": \"<b>%{hovertext}</b><br><br>n\\u00e6ring (SN2007)=Finansierings- og forsikringsverksemd<br>kvartal=2012K2<br>Ledige stillingar (prosent)=%{x}<br>Sysselsatte=%{y}<br>Ledige stillingar=%{marker.size}<extra></extra>\", \"hovertext\": [\"Finansierings- og forsikringsverksemd\"], \"ids\": [\"Finansierings- og forsikringsverksemd\"], \"legendgroup\": \"Finansierings- og forsikringsverksemd\", \"marker\": {\"color\": \"#ab63fa\", \"size\": [700.0], \"sizemode\": \"area\", \"sizeref\": 4.32, \"symbol\": \"circle\"}, \"mode\": \"markers\", \"name\": \"Finansierings- og forsikringsverksemd\", \"orientation\": \"v\", \"showlegend\": true, \"x\": [1.4], \"xaxis\": \"x\", \"y\": [51], \"yaxis\": \"y\", \"type\": \"scatter\"}, {\"hovertemplate\": \"<b>%{hovertext}</b><br><br>n\\u00e6ring (SN2007)=Omsetning og drift av fast eigedom<br>kvartal=2012K2<br>Ledige stillingar (prosent)=%{x}<br>Sysselsatte=%{y}<br>Ledige stillingar=%{marker.size}<extra></extra>\", \"hovertext\": [\"Omsetning og drift av fast eigedom\"], \"ids\": [\"Omsetning og drift av fast eigedom\"], \"legendgroup\": \"Omsetning og drift av fast eigedom\", \"marker\": {\"color\": \"#FFA15A\", \"size\": [600.0], \"sizemode\": \"area\", \"sizeref\": 4.32, \"symbol\": \"circle\"}, \"mode\": \"markers\", \"name\": \"Omsetning og drift av fast eigedom\", \"orientation\": \"v\", \"showlegend\": true, \"x\": [2.4], \"xaxis\": \"x\", \"y\": [19], \"yaxis\": \"y\", \"type\": \"scatter\"}, {\"hovertemplate\": \"<b>%{hovertext}</b><br><br>n\\u00e6ring (SN2007)=Fagleg, vitskapleg og teknisk tenesteyting<br>kvartal=2012K2<br>Ledige stillingar (prosent)=%{x}<br>Sysselsatte=%{y}<br>Ledige stillingar=%{marker.size}<extra></extra>\", \"hovertext\": [\"Fagleg, vitskapleg og teknisk tenesteyting\"], \"ids\": [\"Fagleg, vitskapleg og teknisk tenesteyting\"], \"legendgroup\": \"Fagleg, vitskapleg og teknisk tenesteyting\", \"marker\": {\"color\": \"#19d3f3\", \"size\": [4800.0], \"sizemode\": \"area\", \"sizeref\": 4.32, \"symbol\": \"circle\"}, \"mode\": \"markers\", \"name\": \"Fagleg, vitskapleg og teknisk tenesteyting\", \"orientation\": \"v\", \"showlegend\": true, \"x\": [4.0], \"xaxis\": \"x\", \"y\": [139], \"yaxis\": \"y\", \"type\": \"scatter\"}, {\"hovertemplate\": \"<b>%{hovertext}</b><br><br>n\\u00e6ring (SN2007)=Forretningsmessig tenesteyting<br>kvartal=2012K2<br>Ledige stillingar (prosent)=%{x}<br>Sysselsatte=%{y}<br>Ledige stillingar=%{marker.size}<extra></extra>\", \"hovertext\": [\"Forretningsmessig tenesteyting\"], \"ids\": [\"Forretningsmessig tenesteyting\"], \"legendgroup\": \"Forretningsmessig tenesteyting\", \"marker\": {\"color\": \"#FF6692\", \"size\": [9900.0], \"sizemode\": \"area\", \"sizeref\": 4.32, \"symbol\": \"circle\"}, \"mode\": \"markers\", \"name\": \"Forretningsmessig tenesteyting\", \"orientation\": \"v\", \"showlegend\": true, \"x\": [6.9], \"xaxis\": \"x\", \"y\": [105], \"yaxis\": \"y\", \"type\": \"scatter\"}, {\"hovertemplate\": \"<b>%{hovertext}</b><br><br>n\\u00e6ring (SN2007)=Offentleg administrasjon og forsvar, og trygdeordningar underordna offentleg forvalting<br>kvartal=2012K2<br>Ledige stillingar (prosent)=%{x}<br>Sysselsatte=%{y}<br>Ledige stillingar=%{marker.size}<extra></extra>\", \"hovertext\": [\"Offentleg administrasjon og forsvar, og trygdeordningar underordna offentleg forvalting\"], \"ids\": [\"Offentleg administrasjon og forsvar, og trygdeordningar underordna offentleg forvalting\"], \"legendgroup\": \"Offentleg administrasjon og forsvar, og trygdeordningar underordna offentleg forvalting\", \"marker\": {\"color\": \"#B6E880\", \"size\": [4000.0], \"sizemode\": \"area\", \"sizeref\": 4.32, \"symbol\": \"circle\"}, \"mode\": \"markers\", \"name\": \"Offentleg administrasjon og forsvar, og trygdeordningar underordna offentleg forvalting\", \"orientation\": \"v\", \"showlegend\": true, \"x\": [2.7], \"xaxis\": \"x\", \"y\": [158], \"yaxis\": \"y\", \"type\": \"scatter\"}, {\"hovertemplate\": \"<b>%{hovertext}</b><br><br>n\\u00e6ring (SN2007)=Undervisning<br>kvartal=2012K2<br>Ledige stillingar (prosent)=%{x}<br>Sysselsatte=%{y}<br>Ledige stillingar=%{marker.size}<extra></extra>\", \"hovertext\": [\"Undervisning\"], \"ids\": [\"Undervisning\"], \"legendgroup\": \"Undervisning\", \"marker\": {\"color\": \"#FF97FF\", \"size\": [6900.0], \"sizemode\": \"area\", \"sizeref\": 4.32, \"symbol\": \"circle\"}, \"mode\": \"markers\", \"name\": \"Undervisning\", \"orientation\": \"v\", \"showlegend\": true, \"x\": [3.2], \"xaxis\": \"x\", \"y\": [212], \"yaxis\": \"y\", \"type\": \"scatter\"}, {\"hovertemplate\": \"<b>%{hovertext}</b><br><br>n\\u00e6ring (SN2007)=Kulturell verksemd, underhaldning og fritidsaktivitetar<br>kvartal=2012K2<br>Ledige stillingar (prosent)=%{x}<br>Sysselsatte=%{y}<br>Ledige stillingar=%{marker.size}<extra></extra>\", \"hovertext\": [\"Kulturell verksemd, underhaldning og fritidsaktivitetar\"], \"ids\": [\"Kulturell verksemd, underhaldning og fritidsaktivitetar\"], \"legendgroup\": \"Kulturell verksemd, underhaldning og fritidsaktivitetar\", \"marker\": {\"color\": \"#FECB52\", \"size\": [500.0], \"sizemode\": \"area\", \"sizeref\": 4.32, \"symbol\": \"circle\"}, \"mode\": \"markers\", \"name\": \"Kulturell verksemd, underhaldning og fritidsaktivitetar\", \"orientation\": \"v\", \"showlegend\": true, \"x\": [1.6], \"xaxis\": \"x\", \"y\": [50], \"yaxis\": \"y\", \"type\": \"scatter\"}], \"name\": \"2012K2\"}, {\"data\": [{\"hovertemplate\": \"<b>%{hovertext}</b><br><br>n\\u00e6ring (SN2007)=Bergverksdrift og utvinning<br>kvartal=2012K3<br>Ledige stillingar (prosent)=%{x}<br>Sysselsatte=%{y}<br>Ledige stillingar=%{marker.size}<extra></extra>\", \"hovertext\": [\"Bergverksdrift og utvinning\"], \"ids\": [\"Bergverksdrift og utvinning\"], \"legendgroup\": \"Bergverksdrift og utvinning\", \"marker\": {\"color\": \"#636efa\", \"size\": [2100.0], \"sizemode\": \"area\", \"sizeref\": 4.32, \"symbol\": \"circle\"}, \"mode\": \"markers\", \"name\": \"Bergverksdrift og utvinning\", \"orientation\": \"v\", \"showlegend\": true, \"x\": [3.5], \"xaxis\": \"x\", \"y\": [58], \"yaxis\": \"y\", \"type\": \"scatter\"}, {\"hovertemplate\": \"<b>%{hovertext}</b><br><br>n\\u00e6ring (SN2007)=Byggje- og anleggsverksemd<br>kvartal=2012K3<br>Ledige stillingar (prosent)=%{x}<br>Sysselsatte=%{y}<br>Ledige stillingar=%{marker.size}<extra></extra>\", \"hovertext\": [\"Byggje- og anleggsverksemd\"], \"ids\": [\"Byggje- og anleggsverksemd\"], \"legendgroup\": \"Byggje- og anleggsverksemd\", \"marker\": {\"color\": \"#EF553B\", \"size\": [4000.0], \"sizemode\": \"area\", \"sizeref\": 4.32, \"symbol\": \"circle\"}, \"mode\": \"markers\", \"name\": \"Byggje- og anleggsverksemd\", \"orientation\": \"v\", \"showlegend\": true, \"x\": [2.0], \"xaxis\": \"x\", \"y\": [200], \"yaxis\": \"y\", \"type\": \"scatter\"}, {\"hovertemplate\": \"<b>%{hovertext}</b><br><br>n\\u00e6ring (SN2007)=Informasjon og kommunikasjon<br>kvartal=2012K3<br>Ledige stillingar (prosent)=%{x}<br>Sysselsatte=%{y}<br>Ledige stillingar=%{marker.size}<extra></extra>\", \"hovertext\": [\"Informasjon og kommunikasjon\"], \"ids\": [\"Informasjon og kommunikasjon\"], \"legendgroup\": \"Informasjon og kommunikasjon\", \"marker\": {\"color\": \"#00cc96\", \"size\": [3100.0], \"sizemode\": \"area\", \"sizeref\": 4.32, \"symbol\": \"circle\"}, \"mode\": \"markers\", \"name\": \"Informasjon og kommunikasjon\", \"orientation\": \"v\", \"showlegend\": true, \"x\": [3.6], \"xaxis\": \"x\", \"y\": [99], \"yaxis\": \"y\", \"type\": \"scatter\"}, {\"hovertemplate\": \"<b>%{hovertext}</b><br><br>n\\u00e6ring (SN2007)=Finansierings- og forsikringsverksemd<br>kvartal=2012K3<br>Ledige stillingar (prosent)=%{x}<br>Sysselsatte=%{y}<br>Ledige stillingar=%{marker.size}<extra></extra>\", \"hovertext\": [\"Finansierings- og forsikringsverksemd\"], \"ids\": [\"Finansierings- og forsikringsverksemd\"], \"legendgroup\": \"Finansierings- og forsikringsverksemd\", \"marker\": {\"color\": \"#ab63fa\", \"size\": [600.0], \"sizemode\": \"area\", \"sizeref\": 4.32, \"symbol\": \"circle\"}, \"mode\": \"markers\", \"name\": \"Finansierings- og forsikringsverksemd\", \"orientation\": \"v\", \"showlegend\": true, \"x\": [1.3], \"xaxis\": \"x\", \"y\": [51], \"yaxis\": \"y\", \"type\": \"scatter\"}, {\"hovertemplate\": \"<b>%{hovertext}</b><br><br>n\\u00e6ring (SN2007)=Omsetning og drift av fast eigedom<br>kvartal=2012K3<br>Ledige stillingar (prosent)=%{x}<br>Sysselsatte=%{y}<br>Ledige stillingar=%{marker.size}<extra></extra>\", \"hovertext\": [\"Omsetning og drift av fast eigedom\"], \"ids\": [\"Omsetning og drift av fast eigedom\"], \"legendgroup\": \"Omsetning og drift av fast eigedom\", \"marker\": {\"color\": \"#FFA15A\", \"size\": [500.0], \"sizemode\": \"area\", \"sizeref\": 4.32, \"symbol\": \"circle\"}, \"mode\": \"markers\", \"name\": \"Omsetning og drift av fast eigedom\", \"orientation\": \"v\", \"showlegend\": true, \"x\": [2.1], \"xaxis\": \"x\", \"y\": [17], \"yaxis\": \"y\", \"type\": \"scatter\"}, {\"hovertemplate\": \"<b>%{hovertext}</b><br><br>n\\u00e6ring (SN2007)=Fagleg, vitskapleg og teknisk tenesteyting<br>kvartal=2012K3<br>Ledige stillingar (prosent)=%{x}<br>Sysselsatte=%{y}<br>Ledige stillingar=%{marker.size}<extra></extra>\", \"hovertext\": [\"Fagleg, vitskapleg og teknisk tenesteyting\"], \"ids\": [\"Fagleg, vitskapleg og teknisk tenesteyting\"], \"legendgroup\": \"Fagleg, vitskapleg og teknisk tenesteyting\", \"marker\": {\"color\": \"#19d3f3\", \"size\": [3700.0], \"sizemode\": \"area\", \"sizeref\": 4.32, \"symbol\": \"circle\"}, \"mode\": \"markers\", \"name\": \"Fagleg, vitskapleg og teknisk tenesteyting\", \"orientation\": \"v\", \"showlegend\": true, \"x\": [3.0], \"xaxis\": \"x\", \"y\": [143], \"yaxis\": \"y\", \"type\": \"scatter\"}, {\"hovertemplate\": \"<b>%{hovertext}</b><br><br>n\\u00e6ring (SN2007)=Forretningsmessig tenesteyting<br>kvartal=2012K3<br>Ledige stillingar (prosent)=%{x}<br>Sysselsatte=%{y}<br>Ledige stillingar=%{marker.size}<extra></extra>\", \"hovertext\": [\"Forretningsmessig tenesteyting\"], \"ids\": [\"Forretningsmessig tenesteyting\"], \"legendgroup\": \"Forretningsmessig tenesteyting\", \"marker\": {\"color\": \"#FF6692\", \"size\": [9200.0], \"sizemode\": \"area\", \"sizeref\": 4.32, \"symbol\": \"circle\"}, \"mode\": \"markers\", \"name\": \"Forretningsmessig tenesteyting\", \"orientation\": \"v\", \"showlegend\": true, \"x\": [6.1], \"xaxis\": \"x\", \"y\": [108], \"yaxis\": \"y\", \"type\": \"scatter\"}, {\"hovertemplate\": \"<b>%{hovertext}</b><br><br>n\\u00e6ring (SN2007)=Offentleg administrasjon og forsvar, og trygdeordningar underordna offentleg forvalting<br>kvartal=2012K3<br>Ledige stillingar (prosent)=%{x}<br>Sysselsatte=%{y}<br>Ledige stillingar=%{marker.size}<extra></extra>\", \"hovertext\": [\"Offentleg administrasjon og forsvar, og trygdeordningar underordna offentleg forvalting\"], \"ids\": [\"Offentleg administrasjon og forsvar, og trygdeordningar underordna offentleg forvalting\"], \"legendgroup\": \"Offentleg administrasjon og forsvar, og trygdeordningar underordna offentleg forvalting\", \"marker\": {\"color\": \"#B6E880\", \"size\": [3800.0], \"sizemode\": \"area\", \"sizeref\": 4.32, \"symbol\": \"circle\"}, \"mode\": \"markers\", \"name\": \"Offentleg administrasjon og forsvar, og trygdeordningar underordna offentleg forvalting\", \"orientation\": \"v\", \"showlegend\": true, \"x\": [2.5], \"xaxis\": \"x\", \"y\": [158], \"yaxis\": \"y\", \"type\": \"scatter\"}, {\"hovertemplate\": \"<b>%{hovertext}</b><br><br>n\\u00e6ring (SN2007)=Undervisning<br>kvartal=2012K3<br>Ledige stillingar (prosent)=%{x}<br>Sysselsatte=%{y}<br>Ledige stillingar=%{marker.size}<extra></extra>\", \"hovertext\": [\"Undervisning\"], \"ids\": [\"Undervisning\"], \"legendgroup\": \"Undervisning\", \"marker\": {\"color\": \"#FF97FF\", \"size\": [2500.0], \"sizemode\": \"area\", \"sizeref\": 4.32, \"symbol\": \"circle\"}, \"mode\": \"markers\", \"name\": \"Undervisning\", \"orientation\": \"v\", \"showlegend\": true, \"x\": [1.2], \"xaxis\": \"x\", \"y\": [207], \"yaxis\": \"y\", \"type\": \"scatter\"}, {\"hovertemplate\": \"<b>%{hovertext}</b><br><br>n\\u00e6ring (SN2007)=Kulturell verksemd, underhaldning og fritidsaktivitetar<br>kvartal=2012K3<br>Ledige stillingar (prosent)=%{x}<br>Sysselsatte=%{y}<br>Ledige stillingar=%{marker.size}<extra></extra>\", \"hovertext\": [\"Kulturell verksemd, underhaldning og fritidsaktivitetar\"], \"ids\": [\"Kulturell verksemd, underhaldning og fritidsaktivitetar\"], \"legendgroup\": \"Kulturell verksemd, underhaldning og fritidsaktivitetar\", \"marker\": {\"color\": \"#FECB52\", \"size\": [700.0], \"sizemode\": \"area\", \"sizeref\": 4.32, \"symbol\": \"circle\"}, \"mode\": \"markers\", \"name\": \"Kulturell verksemd, underhaldning og fritidsaktivitetar\", \"orientation\": \"v\", \"showlegend\": true, \"x\": [2.1], \"xaxis\": \"x\", \"y\": [49], \"yaxis\": \"y\", \"type\": \"scatter\"}], \"name\": \"2012K3\"}, {\"data\": [{\"hovertemplate\": \"<b>%{hovertext}</b><br><br>n\\u00e6ring (SN2007)=Bergverksdrift og utvinning<br>kvartal=2012K4<br>Ledige stillingar (prosent)=%{x}<br>Sysselsatte=%{y}<br>Ledige stillingar=%{marker.size}<extra></extra>\", \"hovertext\": [\"Bergverksdrift og utvinning\"], \"ids\": [\"Bergverksdrift og utvinning\"], \"legendgroup\": \"Bergverksdrift og utvinning\", \"marker\": {\"color\": \"#636efa\", \"size\": [2000.0], \"sizemode\": \"area\", \"sizeref\": 4.32, \"symbol\": \"circle\"}, \"mode\": \"markers\", \"name\": \"Bergverksdrift og utvinning\", \"orientation\": \"v\", \"showlegend\": true, \"x\": [3.2], \"xaxis\": \"x\", \"y\": [61], \"yaxis\": \"y\", \"type\": \"scatter\"}, {\"hovertemplate\": \"<b>%{hovertext}</b><br><br>n\\u00e6ring (SN2007)=Byggje- og anleggsverksemd<br>kvartal=2012K4<br>Ledige stillingar (prosent)=%{x}<br>Sysselsatte=%{y}<br>Ledige stillingar=%{marker.size}<extra></extra>\", \"hovertext\": [\"Byggje- og anleggsverksemd\"], \"ids\": [\"Byggje- og anleggsverksemd\"], \"legendgroup\": \"Byggje- og anleggsverksemd\", \"marker\": {\"color\": \"#EF553B\", \"size\": [3900.0], \"sizemode\": \"area\", \"sizeref\": 4.32, \"symbol\": \"circle\"}, \"mode\": \"markers\", \"name\": \"Byggje- og anleggsverksemd\", \"orientation\": \"v\", \"showlegend\": true, \"x\": [1.9], \"xaxis\": \"x\", \"y\": [200], \"yaxis\": \"y\", \"type\": \"scatter\"}, {\"hovertemplate\": \"<b>%{hovertext}</b><br><br>n\\u00e6ring (SN2007)=Informasjon og kommunikasjon<br>kvartal=2012K4<br>Ledige stillingar (prosent)=%{x}<br>Sysselsatte=%{y}<br>Ledige stillingar=%{marker.size}<extra></extra>\", \"hovertext\": [\"Informasjon og kommunikasjon\"], \"ids\": [\"Informasjon og kommunikasjon\"], \"legendgroup\": \"Informasjon og kommunikasjon\", \"marker\": {\"color\": \"#00cc96\", \"size\": [2800.0], \"sizemode\": \"area\", \"sizeref\": 4.32, \"symbol\": \"circle\"}, \"mode\": \"markers\", \"name\": \"Informasjon og kommunikasjon\", \"orientation\": \"v\", \"showlegend\": true, \"x\": [3.2], \"xaxis\": \"x\", \"y\": [102], \"yaxis\": \"y\", \"type\": \"scatter\"}, {\"hovertemplate\": \"<b>%{hovertext}</b><br><br>n\\u00e6ring (SN2007)=Finansierings- og forsikringsverksemd<br>kvartal=2012K4<br>Ledige stillingar (prosent)=%{x}<br>Sysselsatte=%{y}<br>Ledige stillingar=%{marker.size}<extra></extra>\", \"hovertext\": [\"Finansierings- og forsikringsverksemd\"], \"ids\": [\"Finansierings- og forsikringsverksemd\"], \"legendgroup\": \"Finansierings- og forsikringsverksemd\", \"marker\": {\"color\": \"#ab63fa\", \"size\": [700.0], \"sizemode\": \"area\", \"sizeref\": 4.32, \"symbol\": \"circle\"}, \"mode\": \"markers\", \"name\": \"Finansierings- og forsikringsverksemd\", \"orientation\": \"v\", \"showlegend\": true, \"x\": [1.4], \"xaxis\": \"x\", \"y\": [50], \"yaxis\": \"y\", \"type\": \"scatter\"}, {\"hovertemplate\": \"<b>%{hovertext}</b><br><br>n\\u00e6ring (SN2007)=Omsetning og drift av fast eigedom<br>kvartal=2012K4<br>Ledige stillingar (prosent)=%{x}<br>Sysselsatte=%{y}<br>Ledige stillingar=%{marker.size}<extra></extra>\", \"hovertext\": [\"Omsetning og drift av fast eigedom\"], \"ids\": [\"Omsetning og drift av fast eigedom\"], \"legendgroup\": \"Omsetning og drift av fast eigedom\", \"marker\": {\"color\": \"#FFA15A\", \"size\": [600.0], \"sizemode\": \"area\", \"sizeref\": 4.32, \"symbol\": \"circle\"}, \"mode\": \"markers\", \"name\": \"Omsetning og drift av fast eigedom\", \"orientation\": \"v\", \"showlegend\": true, \"x\": [2.6], \"xaxis\": \"x\", \"y\": [20], \"yaxis\": \"y\", \"type\": \"scatter\"}, {\"hovertemplate\": \"<b>%{hovertext}</b><br><br>n\\u00e6ring (SN2007)=Fagleg, vitskapleg og teknisk tenesteyting<br>kvartal=2012K4<br>Ledige stillingar (prosent)=%{x}<br>Sysselsatte=%{y}<br>Ledige stillingar=%{marker.size}<extra></extra>\", \"hovertext\": [\"Fagleg, vitskapleg og teknisk tenesteyting\"], \"ids\": [\"Fagleg, vitskapleg og teknisk tenesteyting\"], \"legendgroup\": \"Fagleg, vitskapleg og teknisk tenesteyting\", \"marker\": {\"color\": \"#19d3f3\", \"size\": [3700.0], \"sizemode\": \"area\", \"sizeref\": 4.32, \"symbol\": \"circle\"}, \"mode\": \"markers\", \"name\": \"Fagleg, vitskapleg og teknisk tenesteyting\", \"orientation\": \"v\", \"showlegend\": true, \"x\": [3.0], \"xaxis\": \"x\", \"y\": [147], \"yaxis\": \"y\", \"type\": \"scatter\"}, {\"hovertemplate\": \"<b>%{hovertext}</b><br><br>n\\u00e6ring (SN2007)=Forretningsmessig tenesteyting<br>kvartal=2012K4<br>Ledige stillingar (prosent)=%{x}<br>Sysselsatte=%{y}<br>Ledige stillingar=%{marker.size}<extra></extra>\", \"hovertext\": [\"Forretningsmessig tenesteyting\"], \"ids\": [\"Forretningsmessig tenesteyting\"], \"legendgroup\": \"Forretningsmessig tenesteyting\", \"marker\": {\"color\": \"#FF6692\", \"size\": [9000.0], \"sizemode\": \"area\", \"sizeref\": 4.32, \"symbol\": \"circle\"}, \"mode\": \"markers\", \"name\": \"Forretningsmessig tenesteyting\", \"orientation\": \"v\", \"showlegend\": true, \"x\": [5.9], \"xaxis\": \"x\", \"y\": [101], \"yaxis\": \"y\", \"type\": \"scatter\"}, {\"hovertemplate\": \"<b>%{hovertext}</b><br><br>n\\u00e6ring (SN2007)=Offentleg administrasjon og forsvar, og trygdeordningar underordna offentleg forvalting<br>kvartal=2012K4<br>Ledige stillingar (prosent)=%{x}<br>Sysselsatte=%{y}<br>Ledige stillingar=%{marker.size}<extra></extra>\", \"hovertext\": [\"Offentleg administrasjon og forsvar, og trygdeordningar underordna offentleg forvalting\"], \"ids\": [\"Offentleg administrasjon og forsvar, og trygdeordningar underordna offentleg forvalting\"], \"legendgroup\": \"Offentleg administrasjon og forsvar, og trygdeordningar underordna offentleg forvalting\", \"marker\": {\"color\": \"#B6E880\", \"size\": [4000.0], \"sizemode\": \"area\", \"sizeref\": 4.32, \"symbol\": \"circle\"}, \"mode\": \"markers\", \"name\": \"Offentleg administrasjon og forsvar, og trygdeordningar underordna offentleg forvalting\", \"orientation\": \"v\", \"showlegend\": true, \"x\": [2.6], \"xaxis\": \"x\", \"y\": [162], \"yaxis\": \"y\", \"type\": \"scatter\"}, {\"hovertemplate\": \"<b>%{hovertext}</b><br><br>n\\u00e6ring (SN2007)=Undervisning<br>kvartal=2012K4<br>Ledige stillingar (prosent)=%{x}<br>Sysselsatte=%{y}<br>Ledige stillingar=%{marker.size}<extra></extra>\", \"hovertext\": [\"Undervisning\"], \"ids\": [\"Undervisning\"], \"legendgroup\": \"Undervisning\", \"marker\": {\"color\": \"#FF97FF\", \"size\": [2400.0], \"sizemode\": \"area\", \"sizeref\": 4.32, \"symbol\": \"circle\"}, \"mode\": \"markers\", \"name\": \"Undervisning\", \"orientation\": \"v\", \"showlegend\": true, \"x\": [1.2], \"xaxis\": \"x\", \"y\": [214], \"yaxis\": \"y\", \"type\": \"scatter\"}, {\"hovertemplate\": \"<b>%{hovertext}</b><br><br>n\\u00e6ring (SN2007)=Kulturell verksemd, underhaldning og fritidsaktivitetar<br>kvartal=2012K4<br>Ledige stillingar (prosent)=%{x}<br>Sysselsatte=%{y}<br>Ledige stillingar=%{marker.size}<extra></extra>\", \"hovertext\": [\"Kulturell verksemd, underhaldning og fritidsaktivitetar\"], \"ids\": [\"Kulturell verksemd, underhaldning og fritidsaktivitetar\"], \"legendgroup\": \"Kulturell verksemd, underhaldning og fritidsaktivitetar\", \"marker\": {\"color\": \"#FECB52\", \"size\": [400.0], \"sizemode\": \"area\", \"sizeref\": 4.32, \"symbol\": \"circle\"}, \"mode\": \"markers\", \"name\": \"Kulturell verksemd, underhaldning og fritidsaktivitetar\", \"orientation\": \"v\", \"showlegend\": true, \"x\": [1.3], \"xaxis\": \"x\", \"y\": [50], \"yaxis\": \"y\", \"type\": \"scatter\"}], \"name\": \"2012K4\"}, {\"data\": [{\"hovertemplate\": \"<b>%{hovertext}</b><br><br>n\\u00e6ring (SN2007)=Bergverksdrift og utvinning<br>kvartal=2013K1<br>Ledige stillingar (prosent)=%{x}<br>Sysselsatte=%{y}<br>Ledige stillingar=%{marker.size}<extra></extra>\", \"hovertext\": [\"Bergverksdrift og utvinning\"], \"ids\": [\"Bergverksdrift og utvinning\"], \"legendgroup\": \"Bergverksdrift og utvinning\", \"marker\": {\"color\": \"#636efa\", \"size\": [1900.0], \"sizemode\": \"area\", \"sizeref\": 4.32, \"symbol\": \"circle\"}, \"mode\": \"markers\", \"name\": \"Bergverksdrift og utvinning\", \"orientation\": \"v\", \"showlegend\": true, \"x\": [2.9], \"xaxis\": \"x\", \"y\": [68], \"yaxis\": \"y\", \"type\": \"scatter\"}, {\"hovertemplate\": \"<b>%{hovertext}</b><br><br>n\\u00e6ring (SN2007)=Byggje- og anleggsverksemd<br>kvartal=2013K1<br>Ledige stillingar (prosent)=%{x}<br>Sysselsatte=%{y}<br>Ledige stillingar=%{marker.size}<extra></extra>\", \"hovertext\": [\"Byggje- og anleggsverksemd\"], \"ids\": [\"Byggje- og anleggsverksemd\"], \"legendgroup\": \"Byggje- og anleggsverksemd\", \"marker\": {\"color\": \"#EF553B\", \"size\": [4300.0], \"sizemode\": \"area\", \"sizeref\": 4.32, \"symbol\": \"circle\"}, \"mode\": \"markers\", \"name\": \"Byggje- og anleggsverksemd\", \"orientation\": \"v\", \"showlegend\": true, \"x\": [2.1], \"xaxis\": \"x\", \"y\": [193], \"yaxis\": \"y\", \"type\": \"scatter\"}, {\"hovertemplate\": \"<b>%{hovertext}</b><br><br>n\\u00e6ring (SN2007)=Informasjon og kommunikasjon<br>kvartal=2013K1<br>Ledige stillingar (prosent)=%{x}<br>Sysselsatte=%{y}<br>Ledige stillingar=%{marker.size}<extra></extra>\", \"hovertext\": [\"Informasjon og kommunikasjon\"], \"ids\": [\"Informasjon og kommunikasjon\"], \"legendgroup\": \"Informasjon og kommunikasjon\", \"marker\": {\"color\": \"#00cc96\", \"size\": [3200.0], \"sizemode\": \"area\", \"sizeref\": 4.32, \"symbol\": \"circle\"}, \"mode\": \"markers\", \"name\": \"Informasjon og kommunikasjon\", \"orientation\": \"v\", \"showlegend\": true, \"x\": [3.7], \"xaxis\": \"x\", \"y\": [106], \"yaxis\": \"y\", \"type\": \"scatter\"}, {\"hovertemplate\": \"<b>%{hovertext}</b><br><br>n\\u00e6ring (SN2007)=Finansierings- og forsikringsverksemd<br>kvartal=2013K1<br>Ledige stillingar (prosent)=%{x}<br>Sysselsatte=%{y}<br>Ledige stillingar=%{marker.size}<extra></extra>\", \"hovertext\": [\"Finansierings- og forsikringsverksemd\"], \"ids\": [\"Finansierings- og forsikringsverksemd\"], \"legendgroup\": \"Finansierings- og forsikringsverksemd\", \"marker\": {\"color\": \"#ab63fa\", \"size\": [600.0], \"sizemode\": \"area\", \"sizeref\": 4.32, \"symbol\": \"circle\"}, \"mode\": \"markers\", \"name\": \"Finansierings- og forsikringsverksemd\", \"orientation\": \"v\", \"showlegend\": true, \"x\": [1.3], \"xaxis\": \"x\", \"y\": [52], \"yaxis\": \"y\", \"type\": \"scatter\"}, {\"hovertemplate\": \"<b>%{hovertext}</b><br><br>n\\u00e6ring (SN2007)=Omsetning og drift av fast eigedom<br>kvartal=2013K1<br>Ledige stillingar (prosent)=%{x}<br>Sysselsatte=%{y}<br>Ledige stillingar=%{marker.size}<extra></extra>\", \"hovertext\": [\"Omsetning og drift av fast eigedom\"], \"ids\": [\"Omsetning og drift av fast eigedom\"], \"legendgroup\": \"Omsetning og drift av fast eigedom\", \"marker\": {\"color\": \"#FFA15A\", \"size\": [500.0], \"sizemode\": \"area\", \"sizeref\": 4.32, \"symbol\": \"circle\"}, \"mode\": \"markers\", \"name\": \"Omsetning og drift av fast eigedom\", \"orientation\": \"v\", \"showlegend\": true, \"x\": [2.1], \"xaxis\": \"x\", \"y\": [23], \"yaxis\": \"y\", \"type\": \"scatter\"}, {\"hovertemplate\": \"<b>%{hovertext}</b><br><br>n\\u00e6ring (SN2007)=Fagleg, vitskapleg og teknisk tenesteyting<br>kvartal=2013K1<br>Ledige stillingar (prosent)=%{x}<br>Sysselsatte=%{y}<br>Ledige stillingar=%{marker.size}<extra></extra>\", \"hovertext\": [\"Fagleg, vitskapleg og teknisk tenesteyting\"], \"ids\": [\"Fagleg, vitskapleg og teknisk tenesteyting\"], \"legendgroup\": \"Fagleg, vitskapleg og teknisk tenesteyting\", \"marker\": {\"color\": \"#19d3f3\", \"size\": [3600.0], \"sizemode\": \"area\", \"sizeref\": 4.32, \"symbol\": \"circle\"}, \"mode\": \"markers\", \"name\": \"Fagleg, vitskapleg og teknisk tenesteyting\", \"orientation\": \"v\", \"showlegend\": true, \"x\": [2.9], \"xaxis\": \"x\", \"y\": [149], \"yaxis\": \"y\", \"type\": \"scatter\"}, {\"hovertemplate\": \"<b>%{hovertext}</b><br><br>n\\u00e6ring (SN2007)=Forretningsmessig tenesteyting<br>kvartal=2013K1<br>Ledige stillingar (prosent)=%{x}<br>Sysselsatte=%{y}<br>Ledige stillingar=%{marker.size}<extra></extra>\", \"hovertext\": [\"Forretningsmessig tenesteyting\"], \"ids\": [\"Forretningsmessig tenesteyting\"], \"legendgroup\": \"Forretningsmessig tenesteyting\", \"marker\": {\"color\": \"#FF6692\", \"size\": [10200.0], \"sizemode\": \"area\", \"sizeref\": 4.32, \"symbol\": \"circle\"}, \"mode\": \"markers\", \"name\": \"Forretningsmessig tenesteyting\", \"orientation\": \"v\", \"showlegend\": true, \"x\": [6.7], \"xaxis\": \"x\", \"y\": [99], \"yaxis\": \"y\", \"type\": \"scatter\"}, {\"hovertemplate\": \"<b>%{hovertext}</b><br><br>n\\u00e6ring (SN2007)=Offentleg administrasjon og forsvar, og trygdeordningar underordna offentleg forvalting<br>kvartal=2013K1<br>Ledige stillingar (prosent)=%{x}<br>Sysselsatte=%{y}<br>Ledige stillingar=%{marker.size}<extra></extra>\", \"hovertext\": [\"Offentleg administrasjon og forsvar, og trygdeordningar underordna offentleg forvalting\"], \"ids\": [\"Offentleg administrasjon og forsvar, og trygdeordningar underordna offentleg forvalting\"], \"legendgroup\": \"Offentleg administrasjon og forsvar, og trygdeordningar underordna offentleg forvalting\", \"marker\": {\"color\": \"#B6E880\", \"size\": [3300.0], \"sizemode\": \"area\", \"sizeref\": 4.32, \"symbol\": \"circle\"}, \"mode\": \"markers\", \"name\": \"Offentleg administrasjon og forsvar, og trygdeordningar underordna offentleg forvalting\", \"orientation\": \"v\", \"showlegend\": true, \"x\": [2.2], \"xaxis\": \"x\", \"y\": [157], \"yaxis\": \"y\", \"type\": \"scatter\"}, {\"hovertemplate\": \"<b>%{hovertext}</b><br><br>n\\u00e6ring (SN2007)=Undervisning<br>kvartal=2013K1<br>Ledige stillingar (prosent)=%{x}<br>Sysselsatte=%{y}<br>Ledige stillingar=%{marker.size}<extra></extra>\", \"hovertext\": [\"Undervisning\"], \"ids\": [\"Undervisning\"], \"legendgroup\": \"Undervisning\", \"marker\": {\"color\": \"#FF97FF\", \"size\": [3800.0], \"sizemode\": \"area\", \"sizeref\": 4.32, \"symbol\": \"circle\"}, \"mode\": \"markers\", \"name\": \"Undervisning\", \"orientation\": \"v\", \"showlegend\": true, \"x\": [1.8], \"xaxis\": \"x\", \"y\": [212], \"yaxis\": \"y\", \"type\": \"scatter\"}, {\"hovertemplate\": \"<b>%{hovertext}</b><br><br>n\\u00e6ring (SN2007)=Kulturell verksemd, underhaldning og fritidsaktivitetar<br>kvartal=2013K1<br>Ledige stillingar (prosent)=%{x}<br>Sysselsatte=%{y}<br>Ledige stillingar=%{marker.size}<extra></extra>\", \"hovertext\": [\"Kulturell verksemd, underhaldning og fritidsaktivitetar\"], \"ids\": [\"Kulturell verksemd, underhaldning og fritidsaktivitetar\"], \"legendgroup\": \"Kulturell verksemd, underhaldning og fritidsaktivitetar\", \"marker\": {\"color\": \"#FECB52\", \"size\": [800.0], \"sizemode\": \"area\", \"sizeref\": 4.32, \"symbol\": \"circle\"}, \"mode\": \"markers\", \"name\": \"Kulturell verksemd, underhaldning og fritidsaktivitetar\", \"orientation\": \"v\", \"showlegend\": true, \"x\": [2.2], \"xaxis\": \"x\", \"y\": [50], \"yaxis\": \"y\", \"type\": \"scatter\"}], \"name\": \"2013K1\"}, {\"data\": [{\"hovertemplate\": \"<b>%{hovertext}</b><br><br>n\\u00e6ring (SN2007)=Bergverksdrift og utvinning<br>kvartal=2013K2<br>Ledige stillingar (prosent)=%{x}<br>Sysselsatte=%{y}<br>Ledige stillingar=%{marker.size}<extra></extra>\", \"hovertext\": [\"Bergverksdrift og utvinning\"], \"ids\": [\"Bergverksdrift og utvinning\"], \"legendgroup\": \"Bergverksdrift og utvinning\", \"marker\": {\"color\": \"#636efa\", \"size\": [2100.0], \"sizemode\": \"area\", \"sizeref\": 4.32, \"symbol\": \"circle\"}, \"mode\": \"markers\", \"name\": \"Bergverksdrift og utvinning\", \"orientation\": \"v\", \"showlegend\": true, \"x\": [3.2], \"xaxis\": \"x\", \"y\": [69], \"yaxis\": \"y\", \"type\": \"scatter\"}, {\"hovertemplate\": \"<b>%{hovertext}</b><br><br>n\\u00e6ring (SN2007)=Byggje- og anleggsverksemd<br>kvartal=2013K2<br>Ledige stillingar (prosent)=%{x}<br>Sysselsatte=%{y}<br>Ledige stillingar=%{marker.size}<extra></extra>\", \"hovertext\": [\"Byggje- og anleggsverksemd\"], \"ids\": [\"Byggje- og anleggsverksemd\"], \"legendgroup\": \"Byggje- og anleggsverksemd\", \"marker\": {\"color\": \"#EF553B\", \"size\": [5600.0], \"sizemode\": \"area\", \"sizeref\": 4.32, \"symbol\": \"circle\"}, \"mode\": \"markers\", \"name\": \"Byggje- og anleggsverksemd\", \"orientation\": \"v\", \"showlegend\": true, \"x\": [2.7], \"xaxis\": \"x\", \"y\": [197], \"yaxis\": \"y\", \"type\": \"scatter\"}, {\"hovertemplate\": \"<b>%{hovertext}</b><br><br>n\\u00e6ring (SN2007)=Informasjon og kommunikasjon<br>kvartal=2013K2<br>Ledige stillingar (prosent)=%{x}<br>Sysselsatte=%{y}<br>Ledige stillingar=%{marker.size}<extra></extra>\", \"hovertext\": [\"Informasjon og kommunikasjon\"], \"ids\": [\"Informasjon og kommunikasjon\"], \"legendgroup\": \"Informasjon og kommunikasjon\", \"marker\": {\"color\": \"#00cc96\", \"size\": [3500.0], \"sizemode\": \"area\", \"sizeref\": 4.32, \"symbol\": \"circle\"}, \"mode\": \"markers\", \"name\": \"Informasjon og kommunikasjon\", \"orientation\": \"v\", \"showlegend\": true, \"x\": [4.0], \"xaxis\": \"x\", \"y\": [106], \"yaxis\": \"y\", \"type\": \"scatter\"}, {\"hovertemplate\": \"<b>%{hovertext}</b><br><br>n\\u00e6ring (SN2007)=Finansierings- og forsikringsverksemd<br>kvartal=2013K2<br>Ledige stillingar (prosent)=%{x}<br>Sysselsatte=%{y}<br>Ledige stillingar=%{marker.size}<extra></extra>\", \"hovertext\": [\"Finansierings- og forsikringsverksemd\"], \"ids\": [\"Finansierings- og forsikringsverksemd\"], \"legendgroup\": \"Finansierings- og forsikringsverksemd\", \"marker\": {\"color\": \"#ab63fa\", \"size\": [700.0], \"sizemode\": \"area\", \"sizeref\": 4.32, \"symbol\": \"circle\"}, \"mode\": \"markers\", \"name\": \"Finansierings- og forsikringsverksemd\", \"orientation\": \"v\", \"showlegend\": true, \"x\": [1.5], \"xaxis\": \"x\", \"y\": [53], \"yaxis\": \"y\", \"type\": \"scatter\"}, {\"hovertemplate\": \"<b>%{hovertext}</b><br><br>n\\u00e6ring (SN2007)=Omsetning og drift av fast eigedom<br>kvartal=2013K2<br>Ledige stillingar (prosent)=%{x}<br>Sysselsatte=%{y}<br>Ledige stillingar=%{marker.size}<extra></extra>\", \"hovertext\": [\"Omsetning og drift av fast eigedom\"], \"ids\": [\"Omsetning og drift av fast eigedom\"], \"legendgroup\": \"Omsetning og drift av fast eigedom\", \"marker\": {\"color\": \"#FFA15A\", \"size\": [600.0], \"sizemode\": \"area\", \"sizeref\": 4.32, \"symbol\": \"circle\"}, \"mode\": \"markers\", \"name\": \"Omsetning og drift av fast eigedom\", \"orientation\": \"v\", \"showlegend\": true, \"x\": [2.3], \"xaxis\": \"x\", \"y\": [24], \"yaxis\": \"y\", \"type\": \"scatter\"}, {\"hovertemplate\": \"<b>%{hovertext}</b><br><br>n\\u00e6ring (SN2007)=Fagleg, vitskapleg og teknisk tenesteyting<br>kvartal=2013K2<br>Ledige stillingar (prosent)=%{x}<br>Sysselsatte=%{y}<br>Ledige stillingar=%{marker.size}<extra></extra>\", \"hovertext\": [\"Fagleg, vitskapleg og teknisk tenesteyting\"], \"ids\": [\"Fagleg, vitskapleg og teknisk tenesteyting\"], \"legendgroup\": \"Fagleg, vitskapleg og teknisk tenesteyting\", \"marker\": {\"color\": \"#19d3f3\", \"size\": [3600.0], \"sizemode\": \"area\", \"sizeref\": 4.32, \"symbol\": \"circle\"}, \"mode\": \"markers\", \"name\": \"Fagleg, vitskapleg og teknisk tenesteyting\", \"orientation\": \"v\", \"showlegend\": true, \"x\": [2.8], \"xaxis\": \"x\", \"y\": [149], \"yaxis\": \"y\", \"type\": \"scatter\"}, {\"hovertemplate\": \"<b>%{hovertext}</b><br><br>n\\u00e6ring (SN2007)=Forretningsmessig tenesteyting<br>kvartal=2013K2<br>Ledige stillingar (prosent)=%{x}<br>Sysselsatte=%{y}<br>Ledige stillingar=%{marker.size}<extra></extra>\", \"hovertext\": [\"Forretningsmessig tenesteyting\"], \"ids\": [\"Forretningsmessig tenesteyting\"], \"legendgroup\": \"Forretningsmessig tenesteyting\", \"marker\": {\"color\": \"#FF6692\", \"size\": [9100.0], \"sizemode\": \"area\", \"sizeref\": 4.32, \"symbol\": \"circle\"}, \"mode\": \"markers\", \"name\": \"Forretningsmessig tenesteyting\", \"orientation\": \"v\", \"showlegend\": true, \"x\": [6.0], \"xaxis\": \"x\", \"y\": [103], \"yaxis\": \"y\", \"type\": \"scatter\"}, {\"hovertemplate\": \"<b>%{hovertext}</b><br><br>n\\u00e6ring (SN2007)=Offentleg administrasjon og forsvar, og trygdeordningar underordna offentleg forvalting<br>kvartal=2013K2<br>Ledige stillingar (prosent)=%{x}<br>Sysselsatte=%{y}<br>Ledige stillingar=%{marker.size}<extra></extra>\", \"hovertext\": [\"Offentleg administrasjon og forsvar, og trygdeordningar underordna offentleg forvalting\"], \"ids\": [\"Offentleg administrasjon og forsvar, og trygdeordningar underordna offentleg forvalting\"], \"legendgroup\": \"Offentleg administrasjon og forsvar, og trygdeordningar underordna offentleg forvalting\", \"marker\": {\"color\": \"#B6E880\", \"size\": [3900.0], \"sizemode\": \"area\", \"sizeref\": 4.32, \"symbol\": \"circle\"}, \"mode\": \"markers\", \"name\": \"Offentleg administrasjon og forsvar, og trygdeordningar underordna offentleg forvalting\", \"orientation\": \"v\", \"showlegend\": true, \"x\": [2.5], \"xaxis\": \"x\", \"y\": [160], \"yaxis\": \"y\", \"type\": \"scatter\"}, {\"hovertemplate\": \"<b>%{hovertext}</b><br><br>n\\u00e6ring (SN2007)=Undervisning<br>kvartal=2013K2<br>Ledige stillingar (prosent)=%{x}<br>Sysselsatte=%{y}<br>Ledige stillingar=%{marker.size}<extra></extra>\", \"hovertext\": [\"Undervisning\"], \"ids\": [\"Undervisning\"], \"legendgroup\": \"Undervisning\", \"marker\": {\"color\": \"#FF97FF\", \"size\": [6000.0], \"sizemode\": \"area\", \"sizeref\": 4.32, \"symbol\": \"circle\"}, \"mode\": \"markers\", \"name\": \"Undervisning\", \"orientation\": \"v\", \"showlegend\": true, \"x\": [2.8], \"xaxis\": \"x\", \"y\": [221], \"yaxis\": \"y\", \"type\": \"scatter\"}, {\"hovertemplate\": \"<b>%{hovertext}</b><br><br>n\\u00e6ring (SN2007)=Kulturell verksemd, underhaldning og fritidsaktivitetar<br>kvartal=2013K2<br>Ledige stillingar (prosent)=%{x}<br>Sysselsatte=%{y}<br>Ledige stillingar=%{marker.size}<extra></extra>\", \"hovertext\": [\"Kulturell verksemd, underhaldning og fritidsaktivitetar\"], \"ids\": [\"Kulturell verksemd, underhaldning og fritidsaktivitetar\"], \"legendgroup\": \"Kulturell verksemd, underhaldning og fritidsaktivitetar\", \"marker\": {\"color\": \"#FECB52\", \"size\": [500.0], \"sizemode\": \"area\", \"sizeref\": 4.32, \"symbol\": \"circle\"}, \"mode\": \"markers\", \"name\": \"Kulturell verksemd, underhaldning og fritidsaktivitetar\", \"orientation\": \"v\", \"showlegend\": true, \"x\": [1.3], \"xaxis\": \"x\", \"y\": [54], \"yaxis\": \"y\", \"type\": \"scatter\"}], \"name\": \"2013K2\"}, {\"data\": [{\"hovertemplate\": \"<b>%{hovertext}</b><br><br>n\\u00e6ring (SN2007)=Bergverksdrift og utvinning<br>kvartal=2013K3<br>Ledige stillingar (prosent)=%{x}<br>Sysselsatte=%{y}<br>Ledige stillingar=%{marker.size}<extra></extra>\", \"hovertext\": [\"Bergverksdrift og utvinning\"], \"ids\": [\"Bergverksdrift og utvinning\"], \"legendgroup\": \"Bergverksdrift og utvinning\", \"marker\": {\"color\": \"#636efa\", \"size\": [1700.0], \"sizemode\": \"area\", \"sizeref\": 4.32, \"symbol\": \"circle\"}, \"mode\": \"markers\", \"name\": \"Bergverksdrift og utvinning\", \"orientation\": \"v\", \"showlegend\": true, \"x\": [2.6], \"xaxis\": \"x\", \"y\": [70], \"yaxis\": \"y\", \"type\": \"scatter\"}, {\"hovertemplate\": \"<b>%{hovertext}</b><br><br>n\\u00e6ring (SN2007)=Byggje- og anleggsverksemd<br>kvartal=2013K3<br>Ledige stillingar (prosent)=%{x}<br>Sysselsatte=%{y}<br>Ledige stillingar=%{marker.size}<extra></extra>\", \"hovertext\": [\"Byggje- og anleggsverksemd\"], \"ids\": [\"Byggje- og anleggsverksemd\"], \"legendgroup\": \"Byggje- og anleggsverksemd\", \"marker\": {\"color\": \"#EF553B\", \"size\": [4400.0], \"sizemode\": \"area\", \"sizeref\": 4.32, \"symbol\": \"circle\"}, \"mode\": \"markers\", \"name\": \"Byggje- og anleggsverksemd\", \"orientation\": \"v\", \"showlegend\": true, \"x\": [2.1], \"xaxis\": \"x\", \"y\": [199], \"yaxis\": \"y\", \"type\": \"scatter\"}, {\"hovertemplate\": \"<b>%{hovertext}</b><br><br>n\\u00e6ring (SN2007)=Informasjon og kommunikasjon<br>kvartal=2013K3<br>Ledige stillingar (prosent)=%{x}<br>Sysselsatte=%{y}<br>Ledige stillingar=%{marker.size}<extra></extra>\", \"hovertext\": [\"Informasjon og kommunikasjon\"], \"ids\": [\"Informasjon og kommunikasjon\"], \"legendgroup\": \"Informasjon og kommunikasjon\", \"marker\": {\"color\": \"#00cc96\", \"size\": [2900.0], \"sizemode\": \"area\", \"sizeref\": 4.32, \"symbol\": \"circle\"}, \"mode\": \"markers\", \"name\": \"Informasjon og kommunikasjon\", \"orientation\": \"v\", \"showlegend\": true, \"x\": [3.3], \"xaxis\": \"x\", \"y\": [101], \"yaxis\": \"y\", \"type\": \"scatter\"}, {\"hovertemplate\": \"<b>%{hovertext}</b><br><br>n\\u00e6ring (SN2007)=Finansierings- og forsikringsverksemd<br>kvartal=2013K3<br>Ledige stillingar (prosent)=%{x}<br>Sysselsatte=%{y}<br>Ledige stillingar=%{marker.size}<extra></extra>\", \"hovertext\": [\"Finansierings- og forsikringsverksemd\"], \"ids\": [\"Finansierings- og forsikringsverksemd\"], \"legendgroup\": \"Finansierings- og forsikringsverksemd\", \"marker\": {\"color\": \"#ab63fa\", \"size\": [700.0], \"sizemode\": \"area\", \"sizeref\": 4.32, \"symbol\": \"circle\"}, \"mode\": \"markers\", \"name\": \"Finansierings- og forsikringsverksemd\", \"orientation\": \"v\", \"showlegend\": true, \"x\": [1.5], \"xaxis\": \"x\", \"y\": [54], \"yaxis\": \"y\", \"type\": \"scatter\"}, {\"hovertemplate\": \"<b>%{hovertext}</b><br><br>n\\u00e6ring (SN2007)=Omsetning og drift av fast eigedom<br>kvartal=2013K3<br>Ledige stillingar (prosent)=%{x}<br>Sysselsatte=%{y}<br>Ledige stillingar=%{marker.size}<extra></extra>\", \"hovertext\": [\"Omsetning og drift av fast eigedom\"], \"ids\": [\"Omsetning og drift av fast eigedom\"], \"legendgroup\": \"Omsetning og drift av fast eigedom\", \"marker\": {\"color\": \"#FFA15A\", \"size\": [400.0], \"sizemode\": \"area\", \"sizeref\": 4.32, \"symbol\": \"circle\"}, \"mode\": \"markers\", \"name\": \"Omsetning og drift av fast eigedom\", \"orientation\": \"v\", \"showlegend\": true, \"x\": [1.7], \"xaxis\": \"x\", \"y\": [24], \"yaxis\": \"y\", \"type\": \"scatter\"}, {\"hovertemplate\": \"<b>%{hovertext}</b><br><br>n\\u00e6ring (SN2007)=Fagleg, vitskapleg og teknisk tenesteyting<br>kvartal=2013K3<br>Ledige stillingar (prosent)=%{x}<br>Sysselsatte=%{y}<br>Ledige stillingar=%{marker.size}<extra></extra>\", \"hovertext\": [\"Fagleg, vitskapleg og teknisk tenesteyting\"], \"ids\": [\"Fagleg, vitskapleg og teknisk tenesteyting\"], \"legendgroup\": \"Fagleg, vitskapleg og teknisk tenesteyting\", \"marker\": {\"color\": \"#19d3f3\", \"size\": [3700.0], \"sizemode\": \"area\", \"sizeref\": 4.32, \"symbol\": \"circle\"}, \"mode\": \"markers\", \"name\": \"Fagleg, vitskapleg og teknisk tenesteyting\", \"orientation\": \"v\", \"showlegend\": true, \"x\": [2.9], \"xaxis\": \"x\", \"y\": [146], \"yaxis\": \"y\", \"type\": \"scatter\"}, {\"hovertemplate\": \"<b>%{hovertext}</b><br><br>n\\u00e6ring (SN2007)=Forretningsmessig tenesteyting<br>kvartal=2013K3<br>Ledige stillingar (prosent)=%{x}<br>Sysselsatte=%{y}<br>Ledige stillingar=%{marker.size}<extra></extra>\", \"hovertext\": [\"Forretningsmessig tenesteyting\"], \"ids\": [\"Forretningsmessig tenesteyting\"], \"legendgroup\": \"Forretningsmessig tenesteyting\", \"marker\": {\"color\": \"#FF6692\", \"size\": [7800.0], \"sizemode\": \"area\", \"sizeref\": 4.32, \"symbol\": \"circle\"}, \"mode\": \"markers\", \"name\": \"Forretningsmessig tenesteyting\", \"orientation\": \"v\", \"showlegend\": true, \"x\": [4.9], \"xaxis\": \"x\", \"y\": [106], \"yaxis\": \"y\", \"type\": \"scatter\"}, {\"hovertemplate\": \"<b>%{hovertext}</b><br><br>n\\u00e6ring (SN2007)=Offentleg administrasjon og forsvar, og trygdeordningar underordna offentleg forvalting<br>kvartal=2013K3<br>Ledige stillingar (prosent)=%{x}<br>Sysselsatte=%{y}<br>Ledige stillingar=%{marker.size}<extra></extra>\", \"hovertext\": [\"Offentleg administrasjon og forsvar, og trygdeordningar underordna offentleg forvalting\"], \"ids\": [\"Offentleg administrasjon og forsvar, og trygdeordningar underordna offentleg forvalting\"], \"legendgroup\": \"Offentleg administrasjon og forsvar, og trygdeordningar underordna offentleg forvalting\", \"marker\": {\"color\": \"#B6E880\", \"size\": [2800.0], \"sizemode\": \"area\", \"sizeref\": 4.32, \"symbol\": \"circle\"}, \"mode\": \"markers\", \"name\": \"Offentleg administrasjon og forsvar, og trygdeordningar underordna offentleg forvalting\", \"orientation\": \"v\", \"showlegend\": true, \"x\": [1.8], \"xaxis\": \"x\", \"y\": [164], \"yaxis\": \"y\", \"type\": \"scatter\"}, {\"hovertemplate\": \"<b>%{hovertext}</b><br><br>n\\u00e6ring (SN2007)=Undervisning<br>kvartal=2013K3<br>Ledige stillingar (prosent)=%{x}<br>Sysselsatte=%{y}<br>Ledige stillingar=%{marker.size}<extra></extra>\", \"hovertext\": [\"Undervisning\"], \"ids\": [\"Undervisning\"], \"legendgroup\": \"Undervisning\", \"marker\": {\"color\": \"#FF97FF\", \"size\": [2200.0], \"sizemode\": \"area\", \"sizeref\": 4.32, \"symbol\": \"circle\"}, \"mode\": \"markers\", \"name\": \"Undervisning\", \"orientation\": \"v\", \"showlegend\": true, \"x\": [1.0], \"xaxis\": \"x\", \"y\": [217], \"yaxis\": \"y\", \"type\": \"scatter\"}, {\"hovertemplate\": \"<b>%{hovertext}</b><br><br>n\\u00e6ring (SN2007)=Kulturell verksemd, underhaldning og fritidsaktivitetar<br>kvartal=2013K3<br>Ledige stillingar (prosent)=%{x}<br>Sysselsatte=%{y}<br>Ledige stillingar=%{marker.size}<extra></extra>\", \"hovertext\": [\"Kulturell verksemd, underhaldning og fritidsaktivitetar\"], \"ids\": [\"Kulturell verksemd, underhaldning og fritidsaktivitetar\"], \"legendgroup\": \"Kulturell verksemd, underhaldning og fritidsaktivitetar\", \"marker\": {\"color\": \"#FECB52\", \"size\": [600.0], \"sizemode\": \"area\", \"sizeref\": 4.32, \"symbol\": \"circle\"}, \"mode\": \"markers\", \"name\": \"Kulturell verksemd, underhaldning og fritidsaktivitetar\", \"orientation\": \"v\", \"showlegend\": true, \"x\": [1.6], \"xaxis\": \"x\", \"y\": [50], \"yaxis\": \"y\", \"type\": \"scatter\"}], \"name\": \"2013K3\"}, {\"data\": [{\"hovertemplate\": \"<b>%{hovertext}</b><br><br>n\\u00e6ring (SN2007)=Bergverksdrift og utvinning<br>kvartal=2013K4<br>Ledige stillingar (prosent)=%{x}<br>Sysselsatte=%{y}<br>Ledige stillingar=%{marker.size}<extra></extra>\", \"hovertext\": [\"Bergverksdrift og utvinning\"], \"ids\": [\"Bergverksdrift og utvinning\"], \"legendgroup\": \"Bergverksdrift og utvinning\", \"marker\": {\"color\": \"#636efa\", \"size\": [1400.0], \"sizemode\": \"area\", \"sizeref\": 4.32, \"symbol\": \"circle\"}, \"mode\": \"markers\", \"name\": \"Bergverksdrift og utvinning\", \"orientation\": \"v\", \"showlegend\": true, \"x\": [2.1], \"xaxis\": \"x\", \"y\": [74], \"yaxis\": \"y\", \"type\": \"scatter\"}, {\"hovertemplate\": \"<b>%{hovertext}</b><br><br>n\\u00e6ring (SN2007)=Byggje- og anleggsverksemd<br>kvartal=2013K4<br>Ledige stillingar (prosent)=%{x}<br>Sysselsatte=%{y}<br>Ledige stillingar=%{marker.size}<extra></extra>\", \"hovertext\": [\"Byggje- og anleggsverksemd\"], \"ids\": [\"Byggje- og anleggsverksemd\"], \"legendgroup\": \"Byggje- og anleggsverksemd\", \"marker\": {\"color\": \"#EF553B\", \"size\": [3400.0], \"sizemode\": \"area\", \"sizeref\": 4.32, \"symbol\": \"circle\"}, \"mode\": \"markers\", \"name\": \"Byggje- og anleggsverksemd\", \"orientation\": \"v\", \"showlegend\": true, \"x\": [1.6], \"xaxis\": \"x\", \"y\": [206], \"yaxis\": \"y\", \"type\": \"scatter\"}, {\"hovertemplate\": \"<b>%{hovertext}</b><br><br>n\\u00e6ring (SN2007)=Informasjon og kommunikasjon<br>kvartal=2013K4<br>Ledige stillingar (prosent)=%{x}<br>Sysselsatte=%{y}<br>Ledige stillingar=%{marker.size}<extra></extra>\", \"hovertext\": [\"Informasjon og kommunikasjon\"], \"ids\": [\"Informasjon og kommunikasjon\"], \"legendgroup\": \"Informasjon og kommunikasjon\", \"marker\": {\"color\": \"#00cc96\", \"size\": [2500.0], \"sizemode\": \"area\", \"sizeref\": 4.32, \"symbol\": \"circle\"}, \"mode\": \"markers\", \"name\": \"Informasjon og kommunikasjon\", \"orientation\": \"v\", \"showlegend\": true, \"x\": [2.9], \"xaxis\": \"x\", \"y\": [100], \"yaxis\": \"y\", \"type\": \"scatter\"}, {\"hovertemplate\": \"<b>%{hovertext}</b><br><br>n\\u00e6ring (SN2007)=Finansierings- og forsikringsverksemd<br>kvartal=2013K4<br>Ledige stillingar (prosent)=%{x}<br>Sysselsatte=%{y}<br>Ledige stillingar=%{marker.size}<extra></extra>\", \"hovertext\": [\"Finansierings- og forsikringsverksemd\"], \"ids\": [\"Finansierings- og forsikringsverksemd\"], \"legendgroup\": \"Finansierings- og forsikringsverksemd\", \"marker\": {\"color\": \"#ab63fa\", \"size\": [600.0], \"sizemode\": \"area\", \"sizeref\": 4.32, \"symbol\": \"circle\"}, \"mode\": \"markers\", \"name\": \"Finansierings- og forsikringsverksemd\", \"orientation\": \"v\", \"showlegend\": true, \"x\": [1.2], \"xaxis\": \"x\", \"y\": [52], \"yaxis\": \"y\", \"type\": \"scatter\"}, {\"hovertemplate\": \"<b>%{hovertext}</b><br><br>n\\u00e6ring (SN2007)=Omsetning og drift av fast eigedom<br>kvartal=2013K4<br>Ledige stillingar (prosent)=%{x}<br>Sysselsatte=%{y}<br>Ledige stillingar=%{marker.size}<extra></extra>\", \"hovertext\": [\"Omsetning og drift av fast eigedom\"], \"ids\": [\"Omsetning og drift av fast eigedom\"], \"legendgroup\": \"Omsetning og drift av fast eigedom\", \"marker\": {\"color\": \"#FFA15A\", \"size\": [300.0], \"sizemode\": \"area\", \"sizeref\": 4.32, \"symbol\": \"circle\"}, \"mode\": \"markers\", \"name\": \"Omsetning og drift av fast eigedom\", \"orientation\": \"v\", \"showlegend\": true, \"x\": [1.1], \"xaxis\": \"x\", \"y\": [22], \"yaxis\": \"y\", \"type\": \"scatter\"}, {\"hovertemplate\": \"<b>%{hovertext}</b><br><br>n\\u00e6ring (SN2007)=Fagleg, vitskapleg og teknisk tenesteyting<br>kvartal=2013K4<br>Ledige stillingar (prosent)=%{x}<br>Sysselsatte=%{y}<br>Ledige stillingar=%{marker.size}<extra></extra>\", \"hovertext\": [\"Fagleg, vitskapleg og teknisk tenesteyting\"], \"ids\": [\"Fagleg, vitskapleg og teknisk tenesteyting\"], \"legendgroup\": \"Fagleg, vitskapleg og teknisk tenesteyting\", \"marker\": {\"color\": \"#19d3f3\", \"size\": [3600.0], \"sizemode\": \"area\", \"sizeref\": 4.32, \"symbol\": \"circle\"}, \"mode\": \"markers\", \"name\": \"Fagleg, vitskapleg og teknisk tenesteyting\", \"orientation\": \"v\", \"showlegend\": true, \"x\": [2.8], \"xaxis\": \"x\", \"y\": [152], \"yaxis\": \"y\", \"type\": \"scatter\"}, {\"hovertemplate\": \"<b>%{hovertext}</b><br><br>n\\u00e6ring (SN2007)=Forretningsmessig tenesteyting<br>kvartal=2013K4<br>Ledige stillingar (prosent)=%{x}<br>Sysselsatte=%{y}<br>Ledige stillingar=%{marker.size}<extra></extra>\", \"hovertext\": [\"Forretningsmessig tenesteyting\"], \"ids\": [\"Forretningsmessig tenesteyting\"], \"legendgroup\": \"Forretningsmessig tenesteyting\", \"marker\": {\"color\": \"#FF6692\", \"size\": [6900.0], \"sizemode\": \"area\", \"sizeref\": 4.32, \"symbol\": \"circle\"}, \"mode\": \"markers\", \"name\": \"Forretningsmessig tenesteyting\", \"orientation\": \"v\", \"showlegend\": true, \"x\": [4.4], \"xaxis\": \"x\", \"y\": [110], \"yaxis\": \"y\", \"type\": \"scatter\"}, {\"hovertemplate\": \"<b>%{hovertext}</b><br><br>n\\u00e6ring (SN2007)=Offentleg administrasjon og forsvar, og trygdeordningar underordna offentleg forvalting<br>kvartal=2013K4<br>Ledige stillingar (prosent)=%{x}<br>Sysselsatte=%{y}<br>Ledige stillingar=%{marker.size}<extra></extra>\", \"hovertext\": [\"Offentleg administrasjon og forsvar, og trygdeordningar underordna offentleg forvalting\"], \"ids\": [\"Offentleg administrasjon og forsvar, og trygdeordningar underordna offentleg forvalting\"], \"legendgroup\": \"Offentleg administrasjon og forsvar, og trygdeordningar underordna offentleg forvalting\", \"marker\": {\"color\": \"#B6E880\", \"size\": [2800.0], \"sizemode\": \"area\", \"sizeref\": 4.32, \"symbol\": \"circle\"}, \"mode\": \"markers\", \"name\": \"Offentleg administrasjon og forsvar, og trygdeordningar underordna offentleg forvalting\", \"orientation\": \"v\", \"showlegend\": true, \"x\": [1.8], \"xaxis\": \"x\", \"y\": [167], \"yaxis\": \"y\", \"type\": \"scatter\"}, {\"hovertemplate\": \"<b>%{hovertext}</b><br><br>n\\u00e6ring (SN2007)=Undervisning<br>kvartal=2013K4<br>Ledige stillingar (prosent)=%{x}<br>Sysselsatte=%{y}<br>Ledige stillingar=%{marker.size}<extra></extra>\", \"hovertext\": [\"Undervisning\"], \"ids\": [\"Undervisning\"], \"legendgroup\": \"Undervisning\", \"marker\": {\"color\": \"#FF97FF\", \"size\": [2500.0], \"sizemode\": \"area\", \"sizeref\": 4.32, \"symbol\": \"circle\"}, \"mode\": \"markers\", \"name\": \"Undervisning\", \"orientation\": \"v\", \"showlegend\": true, \"x\": [1.2], \"xaxis\": \"x\", \"y\": [226], \"yaxis\": \"y\", \"type\": \"scatter\"}, {\"hovertemplate\": \"<b>%{hovertext}</b><br><br>n\\u00e6ring (SN2007)=Kulturell verksemd, underhaldning og fritidsaktivitetar<br>kvartal=2013K4<br>Ledige stillingar (prosent)=%{x}<br>Sysselsatte=%{y}<br>Ledige stillingar=%{marker.size}<extra></extra>\", \"hovertext\": [\"Kulturell verksemd, underhaldning og fritidsaktivitetar\"], \"ids\": [\"Kulturell verksemd, underhaldning og fritidsaktivitetar\"], \"legendgroup\": \"Kulturell verksemd, underhaldning og fritidsaktivitetar\", \"marker\": {\"color\": \"#FECB52\", \"size\": [1200.0], \"sizemode\": \"area\", \"sizeref\": 4.32, \"symbol\": \"circle\"}, \"mode\": \"markers\", \"name\": \"Kulturell verksemd, underhaldning og fritidsaktivitetar\", \"orientation\": \"v\", \"showlegend\": true, \"x\": [3.3], \"xaxis\": \"x\", \"y\": [51], \"yaxis\": \"y\", \"type\": \"scatter\"}], \"name\": \"2013K4\"}, {\"data\": [{\"hovertemplate\": \"<b>%{hovertext}</b><br><br>n\\u00e6ring (SN2007)=Bergverksdrift og utvinning<br>kvartal=2014K1<br>Ledige stillingar (prosent)=%{x}<br>Sysselsatte=%{y}<br>Ledige stillingar=%{marker.size}<extra></extra>\", \"hovertext\": [\"Bergverksdrift og utvinning\"], \"ids\": [\"Bergverksdrift og utvinning\"], \"legendgroup\": \"Bergverksdrift og utvinning\", \"marker\": {\"color\": \"#636efa\", \"size\": [1700.0], \"sizemode\": \"area\", \"sizeref\": 4.32, \"symbol\": \"circle\"}, \"mode\": \"markers\", \"name\": \"Bergverksdrift og utvinning\", \"orientation\": \"v\", \"showlegend\": true, \"x\": [2.5], \"xaxis\": \"x\", \"y\": [74], \"yaxis\": \"y\", \"type\": \"scatter\"}, {\"hovertemplate\": \"<b>%{hovertext}</b><br><br>n\\u00e6ring (SN2007)=Byggje- og anleggsverksemd<br>kvartal=2014K1<br>Ledige stillingar (prosent)=%{x}<br>Sysselsatte=%{y}<br>Ledige stillingar=%{marker.size}<extra></extra>\", \"hovertext\": [\"Byggje- og anleggsverksemd\"], \"ids\": [\"Byggje- og anleggsverksemd\"], \"legendgroup\": \"Byggje- og anleggsverksemd\", \"marker\": {\"color\": \"#EF553B\", \"size\": [4500.0], \"sizemode\": \"area\", \"sizeref\": 4.32, \"symbol\": \"circle\"}, \"mode\": \"markers\", \"name\": \"Byggje- og anleggsverksemd\", \"orientation\": \"v\", \"showlegend\": true, \"x\": [2.1], \"xaxis\": \"x\", \"y\": [196], \"yaxis\": \"y\", \"type\": \"scatter\"}, {\"hovertemplate\": \"<b>%{hovertext}</b><br><br>n\\u00e6ring (SN2007)=Informasjon og kommunikasjon<br>kvartal=2014K1<br>Ledige stillingar (prosent)=%{x}<br>Sysselsatte=%{y}<br>Ledige stillingar=%{marker.size}<extra></extra>\", \"hovertext\": [\"Informasjon og kommunikasjon\"], \"ids\": [\"Informasjon og kommunikasjon\"], \"legendgroup\": \"Informasjon og kommunikasjon\", \"marker\": {\"color\": \"#00cc96\", \"size\": [3000.0], \"sizemode\": \"area\", \"sizeref\": 4.32, \"symbol\": \"circle\"}, \"mode\": \"markers\", \"name\": \"Informasjon og kommunikasjon\", \"orientation\": \"v\", \"showlegend\": true, \"x\": [3.5], \"xaxis\": \"x\", \"y\": [102], \"yaxis\": \"y\", \"type\": \"scatter\"}, {\"hovertemplate\": \"<b>%{hovertext}</b><br><br>n\\u00e6ring (SN2007)=Finansierings- og forsikringsverksemd<br>kvartal=2014K1<br>Ledige stillingar (prosent)=%{x}<br>Sysselsatte=%{y}<br>Ledige stillingar=%{marker.size}<extra></extra>\", \"hovertext\": [\"Finansierings- og forsikringsverksemd\"], \"ids\": [\"Finansierings- og forsikringsverksemd\"], \"legendgroup\": \"Finansierings- og forsikringsverksemd\", \"marker\": {\"color\": \"#ab63fa\", \"size\": [700.0], \"sizemode\": \"area\", \"sizeref\": 4.32, \"symbol\": \"circle\"}, \"mode\": \"markers\", \"name\": \"Finansierings- og forsikringsverksemd\", \"orientation\": \"v\", \"showlegend\": true, \"x\": [1.5], \"xaxis\": \"x\", \"y\": [54], \"yaxis\": \"y\", \"type\": \"scatter\"}, {\"hovertemplate\": \"<b>%{hovertext}</b><br><br>n\\u00e6ring (SN2007)=Omsetning og drift av fast eigedom<br>kvartal=2014K1<br>Ledige stillingar (prosent)=%{x}<br>Sysselsatte=%{y}<br>Ledige stillingar=%{marker.size}<extra></extra>\", \"hovertext\": [\"Omsetning og drift av fast eigedom\"], \"ids\": [\"Omsetning og drift av fast eigedom\"], \"legendgroup\": \"Omsetning og drift av fast eigedom\", \"marker\": {\"color\": \"#FFA15A\", \"size\": [400.0], \"sizemode\": \"area\", \"sizeref\": 4.32, \"symbol\": \"circle\"}, \"mode\": \"markers\", \"name\": \"Omsetning og drift av fast eigedom\", \"orientation\": \"v\", \"showlegend\": true, \"x\": [1.5], \"xaxis\": \"x\", \"y\": [23], \"yaxis\": \"y\", \"type\": \"scatter\"}, {\"hovertemplate\": \"<b>%{hovertext}</b><br><br>n\\u00e6ring (SN2007)=Fagleg, vitskapleg og teknisk tenesteyting<br>kvartal=2014K1<br>Ledige stillingar (prosent)=%{x}<br>Sysselsatte=%{y}<br>Ledige stillingar=%{marker.size}<extra></extra>\", \"hovertext\": [\"Fagleg, vitskapleg og teknisk tenesteyting\"], \"ids\": [\"Fagleg, vitskapleg og teknisk tenesteyting\"], \"legendgroup\": \"Fagleg, vitskapleg og teknisk tenesteyting\", \"marker\": {\"color\": \"#19d3f3\", \"size\": [3100.0], \"sizemode\": \"area\", \"sizeref\": 4.32, \"symbol\": \"circle\"}, \"mode\": \"markers\", \"name\": \"Fagleg, vitskapleg og teknisk tenesteyting\", \"orientation\": \"v\", \"showlegend\": true, \"x\": [2.4], \"xaxis\": \"x\", \"y\": [150], \"yaxis\": \"y\", \"type\": \"scatter\"}, {\"hovertemplate\": \"<b>%{hovertext}</b><br><br>n\\u00e6ring (SN2007)=Forretningsmessig tenesteyting<br>kvartal=2014K1<br>Ledige stillingar (prosent)=%{x}<br>Sysselsatte=%{y}<br>Ledige stillingar=%{marker.size}<extra></extra>\", \"hovertext\": [\"Forretningsmessig tenesteyting\"], \"ids\": [\"Forretningsmessig tenesteyting\"], \"legendgroup\": \"Forretningsmessig tenesteyting\", \"marker\": {\"color\": \"#FF6692\", \"size\": [8900.0], \"sizemode\": \"area\", \"sizeref\": 4.32, \"symbol\": \"circle\"}, \"mode\": \"markers\", \"name\": \"Forretningsmessig tenesteyting\", \"orientation\": \"v\", \"showlegend\": true, \"x\": [5.7], \"xaxis\": \"x\", \"y\": [110], \"yaxis\": \"y\", \"type\": \"scatter\"}, {\"hovertemplate\": \"<b>%{hovertext}</b><br><br>n\\u00e6ring (SN2007)=Offentleg administrasjon og forsvar, og trygdeordningar underordna offentleg forvalting<br>kvartal=2014K1<br>Ledige stillingar (prosent)=%{x}<br>Sysselsatte=%{y}<br>Ledige stillingar=%{marker.size}<extra></extra>\", \"hovertext\": [\"Offentleg administrasjon og forsvar, og trygdeordningar underordna offentleg forvalting\"], \"ids\": [\"Offentleg administrasjon og forsvar, og trygdeordningar underordna offentleg forvalting\"], \"legendgroup\": \"Offentleg administrasjon og forsvar, og trygdeordningar underordna offentleg forvalting\", \"marker\": {\"color\": \"#B6E880\", \"size\": [4200.0], \"sizemode\": \"area\", \"sizeref\": 4.32, \"symbol\": \"circle\"}, \"mode\": \"markers\", \"name\": \"Offentleg administrasjon og forsvar, og trygdeordningar underordna offentleg forvalting\", \"orientation\": \"v\", \"showlegend\": true, \"x\": [2.7], \"xaxis\": \"x\", \"y\": [164], \"yaxis\": \"y\", \"type\": \"scatter\"}, {\"hovertemplate\": \"<b>%{hovertext}</b><br><br>n\\u00e6ring (SN2007)=Undervisning<br>kvartal=2014K1<br>Ledige stillingar (prosent)=%{x}<br>Sysselsatte=%{y}<br>Ledige stillingar=%{marker.size}<extra></extra>\", \"hovertext\": [\"Undervisning\"], \"ids\": [\"Undervisning\"], \"legendgroup\": \"Undervisning\", \"marker\": {\"color\": \"#FF97FF\", \"size\": [2900.0], \"sizemode\": \"area\", \"sizeref\": 4.32, \"symbol\": \"circle\"}, \"mode\": \"markers\", \"name\": \"Undervisning\", \"orientation\": \"v\", \"showlegend\": true, \"x\": [1.4], \"xaxis\": \"x\", \"y\": [226], \"yaxis\": \"y\", \"type\": \"scatter\"}, {\"hovertemplate\": \"<b>%{hovertext}</b><br><br>n\\u00e6ring (SN2007)=Kulturell verksemd, underhaldning og fritidsaktivitetar<br>kvartal=2014K1<br>Ledige stillingar (prosent)=%{x}<br>Sysselsatte=%{y}<br>Ledige stillingar=%{marker.size}<extra></extra>\", \"hovertext\": [\"Kulturell verksemd, underhaldning og fritidsaktivitetar\"], \"ids\": [\"Kulturell verksemd, underhaldning og fritidsaktivitetar\"], \"legendgroup\": \"Kulturell verksemd, underhaldning og fritidsaktivitetar\", \"marker\": {\"color\": \"#FECB52\", \"size\": [600.0], \"sizemode\": \"area\", \"sizeref\": 4.32, \"symbol\": \"circle\"}, \"mode\": \"markers\", \"name\": \"Kulturell verksemd, underhaldning og fritidsaktivitetar\", \"orientation\": \"v\", \"showlegend\": true, \"x\": [1.6], \"xaxis\": \"x\", \"y\": [53], \"yaxis\": \"y\", \"type\": \"scatter\"}], \"name\": \"2014K1\"}, {\"data\": [{\"hovertemplate\": \"<b>%{hovertext}</b><br><br>n\\u00e6ring (SN2007)=Bergverksdrift og utvinning<br>kvartal=2014K2<br>Ledige stillingar (prosent)=%{x}<br>Sysselsatte=%{y}<br>Ledige stillingar=%{marker.size}<extra></extra>\", \"hovertext\": [\"Bergverksdrift og utvinning\"], \"ids\": [\"Bergverksdrift og utvinning\"], \"legendgroup\": \"Bergverksdrift og utvinning\", \"marker\": {\"color\": \"#636efa\", \"size\": [1700.0], \"sizemode\": \"area\", \"sizeref\": 4.32, \"symbol\": \"circle\"}, \"mode\": \"markers\", \"name\": \"Bergverksdrift og utvinning\", \"orientation\": \"v\", \"showlegend\": true, \"x\": [2.5], \"xaxis\": \"x\", \"y\": [76], \"yaxis\": \"y\", \"type\": \"scatter\"}, {\"hovertemplate\": \"<b>%{hovertext}</b><br><br>n\\u00e6ring (SN2007)=Byggje- og anleggsverksemd<br>kvartal=2014K2<br>Ledige stillingar (prosent)=%{x}<br>Sysselsatte=%{y}<br>Ledige stillingar=%{marker.size}<extra></extra>\", \"hovertext\": [\"Byggje- og anleggsverksemd\"], \"ids\": [\"Byggje- og anleggsverksemd\"], \"legendgroup\": \"Byggje- og anleggsverksemd\", \"marker\": {\"color\": \"#EF553B\", \"size\": [4400.0], \"sizemode\": \"area\", \"sizeref\": 4.32, \"symbol\": \"circle\"}, \"mode\": \"markers\", \"name\": \"Byggje- og anleggsverksemd\", \"orientation\": \"v\", \"showlegend\": true, \"x\": [2.1], \"xaxis\": \"x\", \"y\": [211], \"yaxis\": \"y\", \"type\": \"scatter\"}, {\"hovertemplate\": \"<b>%{hovertext}</b><br><br>n\\u00e6ring (SN2007)=Informasjon og kommunikasjon<br>kvartal=2014K2<br>Ledige stillingar (prosent)=%{x}<br>Sysselsatte=%{y}<br>Ledige stillingar=%{marker.size}<extra></extra>\", \"hovertext\": [\"Informasjon og kommunikasjon\"], \"ids\": [\"Informasjon og kommunikasjon\"], \"legendgroup\": \"Informasjon og kommunikasjon\", \"marker\": {\"color\": \"#00cc96\", \"size\": [3000.0], \"sizemode\": \"area\", \"sizeref\": 4.32, \"symbol\": \"circle\"}, \"mode\": \"markers\", \"name\": \"Informasjon og kommunikasjon\", \"orientation\": \"v\", \"showlegend\": true, \"x\": [3.4], \"xaxis\": \"x\", \"y\": [100], \"yaxis\": \"y\", \"type\": \"scatter\"}, {\"hovertemplate\": \"<b>%{hovertext}</b><br><br>n\\u00e6ring (SN2007)=Finansierings- og forsikringsverksemd<br>kvartal=2014K2<br>Ledige stillingar (prosent)=%{x}<br>Sysselsatte=%{y}<br>Ledige stillingar=%{marker.size}<extra></extra>\", \"hovertext\": [\"Finansierings- og forsikringsverksemd\"], \"ids\": [\"Finansierings- og forsikringsverksemd\"], \"legendgroup\": \"Finansierings- og forsikringsverksemd\", \"marker\": {\"color\": \"#ab63fa\", \"size\": [700.0], \"sizemode\": \"area\", \"sizeref\": 4.32, \"symbol\": \"circle\"}, \"mode\": \"markers\", \"name\": \"Finansierings- og forsikringsverksemd\", \"orientation\": \"v\", \"showlegend\": true, \"x\": [1.5], \"xaxis\": \"x\", \"y\": [56], \"yaxis\": \"y\", \"type\": \"scatter\"}, {\"hovertemplate\": \"<b>%{hovertext}</b><br><br>n\\u00e6ring (SN2007)=Omsetning og drift av fast eigedom<br>kvartal=2014K2<br>Ledige stillingar (prosent)=%{x}<br>Sysselsatte=%{y}<br>Ledige stillingar=%{marker.size}<extra></extra>\", \"hovertext\": [\"Omsetning og drift av fast eigedom\"], \"ids\": [\"Omsetning og drift av fast eigedom\"], \"legendgroup\": \"Omsetning og drift av fast eigedom\", \"marker\": {\"color\": \"#FFA15A\", \"size\": [300.0], \"sizemode\": \"area\", \"sizeref\": 4.32, \"symbol\": \"circle\"}, \"mode\": \"markers\", \"name\": \"Omsetning og drift av fast eigedom\", \"orientation\": \"v\", \"showlegend\": true, \"x\": [1.2], \"xaxis\": \"x\", \"y\": [26], \"yaxis\": \"y\", \"type\": \"scatter\"}, {\"hovertemplate\": \"<b>%{hovertext}</b><br><br>n\\u00e6ring (SN2007)=Fagleg, vitskapleg og teknisk tenesteyting<br>kvartal=2014K2<br>Ledige stillingar (prosent)=%{x}<br>Sysselsatte=%{y}<br>Ledige stillingar=%{marker.size}<extra></extra>\", \"hovertext\": [\"Fagleg, vitskapleg og teknisk tenesteyting\"], \"ids\": [\"Fagleg, vitskapleg og teknisk tenesteyting\"], \"legendgroup\": \"Fagleg, vitskapleg og teknisk tenesteyting\", \"marker\": {\"color\": \"#19d3f3\", \"size\": [3500.0], \"sizemode\": \"area\", \"sizeref\": 4.32, \"symbol\": \"circle\"}, \"mode\": \"markers\", \"name\": \"Fagleg, vitskapleg og teknisk tenesteyting\", \"orientation\": \"v\", \"showlegend\": true, \"x\": [2.6], \"xaxis\": \"x\", \"y\": [157], \"yaxis\": \"y\", \"type\": \"scatter\"}, {\"hovertemplate\": \"<b>%{hovertext}</b><br><br>n\\u00e6ring (SN2007)=Forretningsmessig tenesteyting<br>kvartal=2014K2<br>Ledige stillingar (prosent)=%{x}<br>Sysselsatte=%{y}<br>Ledige stillingar=%{marker.size}<extra></extra>\", \"hovertext\": [\"Forretningsmessig tenesteyting\"], \"ids\": [\"Forretningsmessig tenesteyting\"], \"legendgroup\": \"Forretningsmessig tenesteyting\", \"marker\": {\"color\": \"#FF6692\", \"size\": [9500.0], \"sizemode\": \"area\", \"sizeref\": 4.32, \"symbol\": \"circle\"}, \"mode\": \"markers\", \"name\": \"Forretningsmessig tenesteyting\", \"orientation\": \"v\", \"showlegend\": true, \"x\": [6.1], \"xaxis\": \"x\", \"y\": [110], \"yaxis\": \"y\", \"type\": \"scatter\"}, {\"hovertemplate\": \"<b>%{hovertext}</b><br><br>n\\u00e6ring (SN2007)=Offentleg administrasjon og forsvar, og trygdeordningar underordna offentleg forvalting<br>kvartal=2014K2<br>Ledige stillingar (prosent)=%{x}<br>Sysselsatte=%{y}<br>Ledige stillingar=%{marker.size}<extra></extra>\", \"hovertext\": [\"Offentleg administrasjon og forsvar, og trygdeordningar underordna offentleg forvalting\"], \"ids\": [\"Offentleg administrasjon og forsvar, og trygdeordningar underordna offentleg forvalting\"], \"legendgroup\": \"Offentleg administrasjon og forsvar, og trygdeordningar underordna offentleg forvalting\", \"marker\": {\"color\": \"#B6E880\", \"size\": [3600.0], \"sizemode\": \"area\", \"sizeref\": 4.32, \"symbol\": \"circle\"}, \"mode\": \"markers\", \"name\": \"Offentleg administrasjon og forsvar, og trygdeordningar underordna offentleg forvalting\", \"orientation\": \"v\", \"showlegend\": true, \"x\": [2.4], \"xaxis\": \"x\", \"y\": [168], \"yaxis\": \"y\", \"type\": \"scatter\"}, {\"hovertemplate\": \"<b>%{hovertext}</b><br><br>n\\u00e6ring (SN2007)=Undervisning<br>kvartal=2014K2<br>Ledige stillingar (prosent)=%{x}<br>Sysselsatte=%{y}<br>Ledige stillingar=%{marker.size}<extra></extra>\", \"hovertext\": [\"Undervisning\"], \"ids\": [\"Undervisning\"], \"legendgroup\": \"Undervisning\", \"marker\": {\"color\": \"#FF97FF\", \"size\": [5800.0], \"sizemode\": \"area\", \"sizeref\": 4.32, \"symbol\": \"circle\"}, \"mode\": \"markers\", \"name\": \"Undervisning\", \"orientation\": \"v\", \"showlegend\": true, \"x\": [2.7], \"xaxis\": \"x\", \"y\": [225], \"yaxis\": \"y\", \"type\": \"scatter\"}, {\"hovertemplate\": \"<b>%{hovertext}</b><br><br>n\\u00e6ring (SN2007)=Kulturell verksemd, underhaldning og fritidsaktivitetar<br>kvartal=2014K2<br>Ledige stillingar (prosent)=%{x}<br>Sysselsatte=%{y}<br>Ledige stillingar=%{marker.size}<extra></extra>\", \"hovertext\": [\"Kulturell verksemd, underhaldning og fritidsaktivitetar\"], \"ids\": [\"Kulturell verksemd, underhaldning og fritidsaktivitetar\"], \"legendgroup\": \"Kulturell verksemd, underhaldning og fritidsaktivitetar\", \"marker\": {\"color\": \"#FECB52\", \"size\": [700.0], \"sizemode\": \"area\", \"sizeref\": 4.32, \"symbol\": \"circle\"}, \"mode\": \"markers\", \"name\": \"Kulturell verksemd, underhaldning og fritidsaktivitetar\", \"orientation\": \"v\", \"showlegend\": true, \"x\": [1.8], \"xaxis\": \"x\", \"y\": [55], \"yaxis\": \"y\", \"type\": \"scatter\"}], \"name\": \"2014K2\"}, {\"data\": [{\"hovertemplate\": \"<b>%{hovertext}</b><br><br>n\\u00e6ring (SN2007)=Bergverksdrift og utvinning<br>kvartal=2014K3<br>Ledige stillingar (prosent)=%{x}<br>Sysselsatte=%{y}<br>Ledige stillingar=%{marker.size}<extra></extra>\", \"hovertext\": [\"Bergverksdrift og utvinning\"], \"ids\": [\"Bergverksdrift og utvinning\"], \"legendgroup\": \"Bergverksdrift og utvinning\", \"marker\": {\"color\": \"#636efa\", \"size\": [1200.0], \"sizemode\": \"area\", \"sizeref\": 4.32, \"symbol\": \"circle\"}, \"mode\": \"markers\", \"name\": \"Bergverksdrift og utvinning\", \"orientation\": \"v\", \"showlegend\": true, \"x\": [1.7], \"xaxis\": \"x\", \"y\": [76], \"yaxis\": \"y\", \"type\": \"scatter\"}, {\"hovertemplate\": \"<b>%{hovertext}</b><br><br>n\\u00e6ring (SN2007)=Byggje- og anleggsverksemd<br>kvartal=2014K3<br>Ledige stillingar (prosent)=%{x}<br>Sysselsatte=%{y}<br>Ledige stillingar=%{marker.size}<extra></extra>\", \"hovertext\": [\"Byggje- og anleggsverksemd\"], \"ids\": [\"Byggje- og anleggsverksemd\"], \"legendgroup\": \"Byggje- og anleggsverksemd\", \"marker\": {\"color\": \"#EF553B\", \"size\": [4000.0], \"sizemode\": \"area\", \"sizeref\": 4.32, \"symbol\": \"circle\"}, \"mode\": \"markers\", \"name\": \"Byggje- og anleggsverksemd\", \"orientation\": \"v\", \"showlegend\": true, \"x\": [1.8], \"xaxis\": \"x\", \"y\": [208], \"yaxis\": \"y\", \"type\": \"scatter\"}, {\"hovertemplate\": \"<b>%{hovertext}</b><br><br>n\\u00e6ring (SN2007)=Informasjon og kommunikasjon<br>kvartal=2014K3<br>Ledige stillingar (prosent)=%{x}<br>Sysselsatte=%{y}<br>Ledige stillingar=%{marker.size}<extra></extra>\", \"hovertext\": [\"Informasjon og kommunikasjon\"], \"ids\": [\"Informasjon og kommunikasjon\"], \"legendgroup\": \"Informasjon og kommunikasjon\", \"marker\": {\"color\": \"#00cc96\", \"size\": [2300.0], \"sizemode\": \"area\", \"sizeref\": 4.32, \"symbol\": \"circle\"}, \"mode\": \"markers\", \"name\": \"Informasjon og kommunikasjon\", \"orientation\": \"v\", \"showlegend\": true, \"x\": [2.6], \"xaxis\": \"x\", \"y\": [100], \"yaxis\": \"y\", \"type\": \"scatter\"}, {\"hovertemplate\": \"<b>%{hovertext}</b><br><br>n\\u00e6ring (SN2007)=Finansierings- og forsikringsverksemd<br>kvartal=2014K3<br>Ledige stillingar (prosent)=%{x}<br>Sysselsatte=%{y}<br>Ledige stillingar=%{marker.size}<extra></extra>\", \"hovertext\": [\"Finansierings- og forsikringsverksemd\"], \"ids\": [\"Finansierings- og forsikringsverksemd\"], \"legendgroup\": \"Finansierings- og forsikringsverksemd\", \"marker\": {\"color\": \"#ab63fa\", \"size\": [500.0], \"sizemode\": \"area\", \"sizeref\": 4.32, \"symbol\": \"circle\"}, \"mode\": \"markers\", \"name\": \"Finansierings- og forsikringsverksemd\", \"orientation\": \"v\", \"showlegend\": true, \"x\": [1.1], \"xaxis\": \"x\", \"y\": [56], \"yaxis\": \"y\", \"type\": \"scatter\"}, {\"hovertemplate\": \"<b>%{hovertext}</b><br><br>n\\u00e6ring (SN2007)=Omsetning og drift av fast eigedom<br>kvartal=2014K3<br>Ledige stillingar (prosent)=%{x}<br>Sysselsatte=%{y}<br>Ledige stillingar=%{marker.size}<extra></extra>\", \"hovertext\": [\"Omsetning og drift av fast eigedom\"], \"ids\": [\"Omsetning og drift av fast eigedom\"], \"legendgroup\": \"Omsetning og drift av fast eigedom\", \"marker\": {\"color\": \"#FFA15A\", \"size\": [200.0], \"sizemode\": \"area\", \"sizeref\": 4.32, \"symbol\": \"circle\"}, \"mode\": \"markers\", \"name\": \"Omsetning og drift av fast eigedom\", \"orientation\": \"v\", \"showlegend\": true, \"x\": [0.9], \"xaxis\": \"x\", \"y\": [25], \"yaxis\": \"y\", \"type\": \"scatter\"}, {\"hovertemplate\": \"<b>%{hovertext}</b><br><br>n\\u00e6ring (SN2007)=Fagleg, vitskapleg og teknisk tenesteyting<br>kvartal=2014K3<br>Ledige stillingar (prosent)=%{x}<br>Sysselsatte=%{y}<br>Ledige stillingar=%{marker.size}<extra></extra>\", \"hovertext\": [\"Fagleg, vitskapleg og teknisk tenesteyting\"], \"ids\": [\"Fagleg, vitskapleg og teknisk tenesteyting\"], \"legendgroup\": \"Fagleg, vitskapleg og teknisk tenesteyting\", \"marker\": {\"color\": \"#19d3f3\", \"size\": [2800.0], \"sizemode\": \"area\", \"sizeref\": 4.32, \"symbol\": \"circle\"}, \"mode\": \"markers\", \"name\": \"Fagleg, vitskapleg og teknisk tenesteyting\", \"orientation\": \"v\", \"showlegend\": true, \"x\": [2.1], \"xaxis\": \"x\", \"y\": [151], \"yaxis\": \"y\", \"type\": \"scatter\"}, {\"hovertemplate\": \"<b>%{hovertext}</b><br><br>n\\u00e6ring (SN2007)=Forretningsmessig tenesteyting<br>kvartal=2014K3<br>Ledige stillingar (prosent)=%{x}<br>Sysselsatte=%{y}<br>Ledige stillingar=%{marker.size}<extra></extra>\", \"hovertext\": [\"Forretningsmessig tenesteyting\"], \"ids\": [\"Forretningsmessig tenesteyting\"], \"legendgroup\": \"Forretningsmessig tenesteyting\", \"marker\": {\"color\": \"#FF6692\", \"size\": [7800.0], \"sizemode\": \"area\", \"sizeref\": 4.32, \"symbol\": \"circle\"}, \"mode\": \"markers\", \"name\": \"Forretningsmessig tenesteyting\", \"orientation\": \"v\", \"showlegend\": true, \"x\": [4.8], \"xaxis\": \"x\", \"y\": [113], \"yaxis\": \"y\", \"type\": \"scatter\"}, {\"hovertemplate\": \"<b>%{hovertext}</b><br><br>n\\u00e6ring (SN2007)=Offentleg administrasjon og forsvar, og trygdeordningar underordna offentleg forvalting<br>kvartal=2014K3<br>Ledige stillingar (prosent)=%{x}<br>Sysselsatte=%{y}<br>Ledige stillingar=%{marker.size}<extra></extra>\", \"hovertext\": [\"Offentleg administrasjon og forsvar, og trygdeordningar underordna offentleg forvalting\"], \"ids\": [\"Offentleg administrasjon og forsvar, og trygdeordningar underordna offentleg forvalting\"], \"legendgroup\": \"Offentleg administrasjon og forsvar, og trygdeordningar underordna offentleg forvalting\", \"marker\": {\"color\": \"#B6E880\", \"size\": [2600.0], \"sizemode\": \"area\", \"sizeref\": 4.32, \"symbol\": \"circle\"}, \"mode\": \"markers\", \"name\": \"Offentleg administrasjon og forsvar, og trygdeordningar underordna offentleg forvalting\", \"orientation\": \"v\", \"showlegend\": true, \"x\": [1.7], \"xaxis\": \"x\", \"y\": [169], \"yaxis\": \"y\", \"type\": \"scatter\"}, {\"hovertemplate\": \"<b>%{hovertext}</b><br><br>n\\u00e6ring (SN2007)=Undervisning<br>kvartal=2014K3<br>Ledige stillingar (prosent)=%{x}<br>Sysselsatte=%{y}<br>Ledige stillingar=%{marker.size}<extra></extra>\", \"hovertext\": [\"Undervisning\"], \"ids\": [\"Undervisning\"], \"legendgroup\": \"Undervisning\", \"marker\": {\"color\": \"#FF97FF\", \"size\": [2800.0], \"sizemode\": \"area\", \"sizeref\": 4.32, \"symbol\": \"circle\"}, \"mode\": \"markers\", \"name\": \"Undervisning\", \"orientation\": \"v\", \"showlegend\": true, \"x\": [1.4], \"xaxis\": \"x\", \"y\": [220], \"yaxis\": \"y\", \"type\": \"scatter\"}, {\"hovertemplate\": \"<b>%{hovertext}</b><br><br>n\\u00e6ring (SN2007)=Kulturell verksemd, underhaldning og fritidsaktivitetar<br>kvartal=2014K3<br>Ledige stillingar (prosent)=%{x}<br>Sysselsatte=%{y}<br>Ledige stillingar=%{marker.size}<extra></extra>\", \"hovertext\": [\"Kulturell verksemd, underhaldning og fritidsaktivitetar\"], \"ids\": [\"Kulturell verksemd, underhaldning og fritidsaktivitetar\"], \"legendgroup\": \"Kulturell verksemd, underhaldning og fritidsaktivitetar\", \"marker\": {\"color\": \"#FECB52\", \"size\": [900.0], \"sizemode\": \"area\", \"sizeref\": 4.32, \"symbol\": \"circle\"}, \"mode\": \"markers\", \"name\": \"Kulturell verksemd, underhaldning og fritidsaktivitetar\", \"orientation\": \"v\", \"showlegend\": true, \"x\": [2.3], \"xaxis\": \"x\", \"y\": [57], \"yaxis\": \"y\", \"type\": \"scatter\"}], \"name\": \"2014K3\"}, {\"data\": [{\"hovertemplate\": \"<b>%{hovertext}</b><br><br>n\\u00e6ring (SN2007)=Bergverksdrift og utvinning<br>kvartal=2014K4<br>Ledige stillingar (prosent)=%{x}<br>Sysselsatte=%{y}<br>Ledige stillingar=%{marker.size}<extra></extra>\", \"hovertext\": [\"Bergverksdrift og utvinning\"], \"ids\": [\"Bergverksdrift og utvinning\"], \"legendgroup\": \"Bergverksdrift og utvinning\", \"marker\": {\"color\": \"#636efa\", \"size\": [1000.0], \"sizemode\": \"area\", \"sizeref\": 4.32, \"symbol\": \"circle\"}, \"mode\": \"markers\", \"name\": \"Bergverksdrift og utvinning\", \"orientation\": \"v\", \"showlegend\": true, \"x\": [1.4], \"xaxis\": \"x\", \"y\": [73], \"yaxis\": \"y\", \"type\": \"scatter\"}, {\"hovertemplate\": \"<b>%{hovertext}</b><br><br>n\\u00e6ring (SN2007)=Byggje- og anleggsverksemd<br>kvartal=2014K4<br>Ledige stillingar (prosent)=%{x}<br>Sysselsatte=%{y}<br>Ledige stillingar=%{marker.size}<extra></extra>\", \"hovertext\": [\"Byggje- og anleggsverksemd\"], \"ids\": [\"Byggje- og anleggsverksemd\"], \"legendgroup\": \"Byggje- og anleggsverksemd\", \"marker\": {\"color\": \"#EF553B\", \"size\": [3200.0], \"sizemode\": \"area\", \"sizeref\": 4.32, \"symbol\": \"circle\"}, \"mode\": \"markers\", \"name\": \"Byggje- og anleggsverksemd\", \"orientation\": \"v\", \"showlegend\": true, \"x\": [1.4], \"xaxis\": \"x\", \"y\": [210], \"yaxis\": \"y\", \"type\": \"scatter\"}, {\"hovertemplate\": \"<b>%{hovertext}</b><br><br>n\\u00e6ring (SN2007)=Informasjon og kommunikasjon<br>kvartal=2014K4<br>Ledige stillingar (prosent)=%{x}<br>Sysselsatte=%{y}<br>Ledige stillingar=%{marker.size}<extra></extra>\", \"hovertext\": [\"Informasjon og kommunikasjon\"], \"ids\": [\"Informasjon og kommunikasjon\"], \"legendgroup\": \"Informasjon og kommunikasjon\", \"marker\": {\"color\": \"#00cc96\", \"size\": [2800.0], \"sizemode\": \"area\", \"sizeref\": 4.32, \"symbol\": \"circle\"}, \"mode\": \"markers\", \"name\": \"Informasjon og kommunikasjon\", \"orientation\": \"v\", \"showlegend\": true, \"x\": [3.2], \"xaxis\": \"x\", \"y\": [96], \"yaxis\": \"y\", \"type\": \"scatter\"}, {\"hovertemplate\": \"<b>%{hovertext}</b><br><br>n\\u00e6ring (SN2007)=Finansierings- og forsikringsverksemd<br>kvartal=2014K4<br>Ledige stillingar (prosent)=%{x}<br>Sysselsatte=%{y}<br>Ledige stillingar=%{marker.size}<extra></extra>\", \"hovertext\": [\"Finansierings- og forsikringsverksemd\"], \"ids\": [\"Finansierings- og forsikringsverksemd\"], \"legendgroup\": \"Finansierings- og forsikringsverksemd\", \"marker\": {\"color\": \"#ab63fa\", \"size\": [600.0], \"sizemode\": \"area\", \"sizeref\": 4.32, \"symbol\": \"circle\"}, \"mode\": \"markers\", \"name\": \"Finansierings- og forsikringsverksemd\", \"orientation\": \"v\", \"showlegend\": true, \"x\": [1.2], \"xaxis\": \"x\", \"y\": [54], \"yaxis\": \"y\", \"type\": \"scatter\"}, {\"hovertemplate\": \"<b>%{hovertext}</b><br><br>n\\u00e6ring (SN2007)=Omsetning og drift av fast eigedom<br>kvartal=2014K4<br>Ledige stillingar (prosent)=%{x}<br>Sysselsatte=%{y}<br>Ledige stillingar=%{marker.size}<extra></extra>\", \"hovertext\": [\"Omsetning og drift av fast eigedom\"], \"ids\": [\"Omsetning og drift av fast eigedom\"], \"legendgroup\": \"Omsetning og drift av fast eigedom\", \"marker\": {\"color\": \"#FFA15A\", \"size\": [300.0], \"sizemode\": \"area\", \"sizeref\": 4.32, \"symbol\": \"circle\"}, \"mode\": \"markers\", \"name\": \"Omsetning og drift av fast eigedom\", \"orientation\": \"v\", \"showlegend\": true, \"x\": [1.2], \"xaxis\": \"x\", \"y\": [26], \"yaxis\": \"y\", \"type\": \"scatter\"}, {\"hovertemplate\": \"<b>%{hovertext}</b><br><br>n\\u00e6ring (SN2007)=Fagleg, vitskapleg og teknisk tenesteyting<br>kvartal=2014K4<br>Ledige stillingar (prosent)=%{x}<br>Sysselsatte=%{y}<br>Ledige stillingar=%{marker.size}<extra></extra>\", \"hovertext\": [\"Fagleg, vitskapleg og teknisk tenesteyting\"], \"ids\": [\"Fagleg, vitskapleg og teknisk tenesteyting\"], \"legendgroup\": \"Fagleg, vitskapleg og teknisk tenesteyting\", \"marker\": {\"color\": \"#19d3f3\", \"size\": [2900.0], \"sizemode\": \"area\", \"sizeref\": 4.32, \"symbol\": \"circle\"}, \"mode\": \"markers\", \"name\": \"Fagleg, vitskapleg og teknisk tenesteyting\", \"orientation\": \"v\", \"showlegend\": true, \"x\": [2.2], \"xaxis\": \"x\", \"y\": [149], \"yaxis\": \"y\", \"type\": \"scatter\"}, {\"hovertemplate\": \"<b>%{hovertext}</b><br><br>n\\u00e6ring (SN2007)=Forretningsmessig tenesteyting<br>kvartal=2014K4<br>Ledige stillingar (prosent)=%{x}<br>Sysselsatte=%{y}<br>Ledige stillingar=%{marker.size}<extra></extra>\", \"hovertext\": [\"Forretningsmessig tenesteyting\"], \"ids\": [\"Forretningsmessig tenesteyting\"], \"legendgroup\": \"Forretningsmessig tenesteyting\", \"marker\": {\"color\": \"#FF6692\", \"size\": [8800.0], \"sizemode\": \"area\", \"sizeref\": 4.32, \"symbol\": \"circle\"}, \"mode\": \"markers\", \"name\": \"Forretningsmessig tenesteyting\", \"orientation\": \"v\", \"showlegend\": true, \"x\": [5.5], \"xaxis\": \"x\", \"y\": [120], \"yaxis\": \"y\", \"type\": \"scatter\"}, {\"hovertemplate\": \"<b>%{hovertext}</b><br><br>n\\u00e6ring (SN2007)=Offentleg administrasjon og forsvar, og trygdeordningar underordna offentleg forvalting<br>kvartal=2014K4<br>Ledige stillingar (prosent)=%{x}<br>Sysselsatte=%{y}<br>Ledige stillingar=%{marker.size}<extra></extra>\", \"hovertext\": [\"Offentleg administrasjon og forsvar, og trygdeordningar underordna offentleg forvalting\"], \"ids\": [\"Offentleg administrasjon og forsvar, og trygdeordningar underordna offentleg forvalting\"], \"legendgroup\": \"Offentleg administrasjon og forsvar, og trygdeordningar underordna offentleg forvalting\", \"marker\": {\"color\": \"#B6E880\", \"size\": [2700.0], \"sizemode\": \"area\", \"sizeref\": 4.32, \"symbol\": \"circle\"}, \"mode\": \"markers\", \"name\": \"Offentleg administrasjon og forsvar, og trygdeordningar underordna offentleg forvalting\", \"orientation\": \"v\", \"showlegend\": true, \"x\": [1.7], \"xaxis\": \"x\", \"y\": [168], \"yaxis\": \"y\", \"type\": \"scatter\"}, {\"hovertemplate\": \"<b>%{hovertext}</b><br><br>n\\u00e6ring (SN2007)=Undervisning<br>kvartal=2014K4<br>Ledige stillingar (prosent)=%{x}<br>Sysselsatte=%{y}<br>Ledige stillingar=%{marker.size}<extra></extra>\", \"hovertext\": [\"Undervisning\"], \"ids\": [\"Undervisning\"], \"legendgroup\": \"Undervisning\", \"marker\": {\"color\": \"#FF97FF\", \"size\": [2300.0], \"sizemode\": \"area\", \"sizeref\": 4.32, \"symbol\": \"circle\"}, \"mode\": \"markers\", \"name\": \"Undervisning\", \"orientation\": \"v\", \"showlegend\": true, \"x\": [1.1], \"xaxis\": \"x\", \"y\": [222], \"yaxis\": \"y\", \"type\": \"scatter\"}, {\"hovertemplate\": \"<b>%{hovertext}</b><br><br>n\\u00e6ring (SN2007)=Kulturell verksemd, underhaldning og fritidsaktivitetar<br>kvartal=2014K4<br>Ledige stillingar (prosent)=%{x}<br>Sysselsatte=%{y}<br>Ledige stillingar=%{marker.size}<extra></extra>\", \"hovertext\": [\"Kulturell verksemd, underhaldning og fritidsaktivitetar\"], \"ids\": [\"Kulturell verksemd, underhaldning og fritidsaktivitetar\"], \"legendgroup\": \"Kulturell verksemd, underhaldning og fritidsaktivitetar\", \"marker\": {\"color\": \"#FECB52\", \"size\": [700.0], \"sizemode\": \"area\", \"sizeref\": 4.32, \"symbol\": \"circle\"}, \"mode\": \"markers\", \"name\": \"Kulturell verksemd, underhaldning og fritidsaktivitetar\", \"orientation\": \"v\", \"showlegend\": true, \"x\": [1.9], \"xaxis\": \"x\", \"y\": [57], \"yaxis\": \"y\", \"type\": \"scatter\"}], \"name\": \"2014K4\"}, {\"data\": [{\"hovertemplate\": \"<b>%{hovertext}</b><br><br>n\\u00e6ring (SN2007)=Bergverksdrift og utvinning<br>kvartal=2015K1<br>Ledige stillingar (prosent)=%{x}<br>Sysselsatte=%{y}<br>Ledige stillingar=%{marker.size}<extra></extra>\", \"hovertext\": [\"Bergverksdrift og utvinning\"], \"ids\": [\"Bergverksdrift og utvinning\"], \"legendgroup\": \"Bergverksdrift og utvinning\", \"marker\": {\"color\": \"#636efa\", \"size\": [600.0], \"sizemode\": \"area\", \"sizeref\": 4.32, \"symbol\": \"circle\"}, \"mode\": \"markers\", \"name\": \"Bergverksdrift og utvinning\", \"orientation\": \"v\", \"showlegend\": true, \"x\": [0.8], \"xaxis\": \"x\", \"y\": [71], \"yaxis\": \"y\", \"type\": \"scatter\"}, {\"hovertemplate\": \"<b>%{hovertext}</b><br><br>n\\u00e6ring (SN2007)=Byggje- og anleggsverksemd<br>kvartal=2015K1<br>Ledige stillingar (prosent)=%{x}<br>Sysselsatte=%{y}<br>Ledige stillingar=%{marker.size}<extra></extra>\", \"hovertext\": [\"Byggje- og anleggsverksemd\"], \"ids\": [\"Byggje- og anleggsverksemd\"], \"legendgroup\": \"Byggje- og anleggsverksemd\", \"marker\": {\"color\": \"#EF553B\", \"size\": [3500.0], \"sizemode\": \"area\", \"sizeref\": 4.32, \"symbol\": \"circle\"}, \"mode\": \"markers\", \"name\": \"Byggje- og anleggsverksemd\", \"orientation\": \"v\", \"showlegend\": true, \"x\": [1.8], \"xaxis\": \"x\", \"y\": [214], \"yaxis\": \"y\", \"type\": \"scatter\"}, {\"hovertemplate\": \"<b>%{hovertext}</b><br><br>n\\u00e6ring (SN2007)=Informasjon og kommunikasjon<br>kvartal=2015K1<br>Ledige stillingar (prosent)=%{x}<br>Sysselsatte=%{y}<br>Ledige stillingar=%{marker.size}<extra></extra>\", \"hovertext\": [\"Informasjon og kommunikasjon\"], \"ids\": [\"Informasjon og kommunikasjon\"], \"legendgroup\": \"Informasjon og kommunikasjon\", \"marker\": {\"color\": \"#00cc96\", \"size\": [2400.0], \"sizemode\": \"area\", \"sizeref\": 4.32, \"symbol\": \"circle\"}, \"mode\": \"markers\", \"name\": \"Informasjon og kommunikasjon\", \"orientation\": \"v\", \"showlegend\": true, \"x\": [2.7], \"xaxis\": \"x\", \"y\": [90], \"yaxis\": \"y\", \"type\": \"scatter\"}, {\"hovertemplate\": \"<b>%{hovertext}</b><br><br>n\\u00e6ring (SN2007)=Finansierings- og forsikringsverksemd<br>kvartal=2015K1<br>Ledige stillingar (prosent)=%{x}<br>Sysselsatte=%{y}<br>Ledige stillingar=%{marker.size}<extra></extra>\", \"hovertext\": [\"Finansierings- og forsikringsverksemd\"], \"ids\": [\"Finansierings- og forsikringsverksemd\"], \"legendgroup\": \"Finansierings- og forsikringsverksemd\", \"marker\": {\"color\": \"#ab63fa\", \"size\": [800.0], \"sizemode\": \"area\", \"sizeref\": 4.32, \"symbol\": \"circle\"}, \"mode\": \"markers\", \"name\": \"Finansierings- og forsikringsverksemd\", \"orientation\": \"v\", \"showlegend\": true, \"x\": [1.7], \"xaxis\": \"x\", \"y\": [52], \"yaxis\": \"y\", \"type\": \"scatter\"}, {\"hovertemplate\": \"<b>%{hovertext}</b><br><br>n\\u00e6ring (SN2007)=Omsetning og drift av fast eigedom<br>kvartal=2015K1<br>Ledige stillingar (prosent)=%{x}<br>Sysselsatte=%{y}<br>Ledige stillingar=%{marker.size}<extra></extra>\", \"hovertext\": [\"Omsetning og drift av fast eigedom\"], \"ids\": [\"Omsetning og drift av fast eigedom\"], \"legendgroup\": \"Omsetning og drift av fast eigedom\", \"marker\": {\"color\": \"#FFA15A\", \"size\": [600.0], \"sizemode\": \"area\", \"sizeref\": 4.32, \"symbol\": \"circle\"}, \"mode\": \"markers\", \"name\": \"Omsetning og drift av fast eigedom\", \"orientation\": \"v\", \"showlegend\": true, \"x\": [2.4], \"xaxis\": \"x\", \"y\": [25], \"yaxis\": \"y\", \"type\": \"scatter\"}, {\"hovertemplate\": \"<b>%{hovertext}</b><br><br>n\\u00e6ring (SN2007)=Fagleg, vitskapleg og teknisk tenesteyting<br>kvartal=2015K1<br>Ledige stillingar (prosent)=%{x}<br>Sysselsatte=%{y}<br>Ledige stillingar=%{marker.size}<extra></extra>\", \"hovertext\": [\"Fagleg, vitskapleg og teknisk tenesteyting\"], \"ids\": [\"Fagleg, vitskapleg og teknisk tenesteyting\"], \"legendgroup\": \"Fagleg, vitskapleg og teknisk tenesteyting\", \"marker\": {\"color\": \"#19d3f3\", \"size\": [3400.0], \"sizemode\": \"area\", \"sizeref\": 4.32, \"symbol\": \"circle\"}, \"mode\": \"markers\", \"name\": \"Fagleg, vitskapleg og teknisk tenesteyting\", \"orientation\": \"v\", \"showlegend\": true, \"x\": [2.6], \"xaxis\": \"x\", \"y\": [149], \"yaxis\": \"y\", \"type\": \"scatter\"}, {\"hovertemplate\": \"<b>%{hovertext}</b><br><br>n\\u00e6ring (SN2007)=Forretningsmessig tenesteyting<br>kvartal=2015K1<br>Ledige stillingar (prosent)=%{x}<br>Sysselsatte=%{y}<br>Ledige stillingar=%{marker.size}<extra></extra>\", \"hovertext\": [\"Forretningsmessig tenesteyting\"], \"ids\": [\"Forretningsmessig tenesteyting\"], \"legendgroup\": \"Forretningsmessig tenesteyting\", \"marker\": {\"color\": \"#FF6692\", \"size\": [7300.0], \"sizemode\": \"area\", \"sizeref\": 4.32, \"symbol\": \"circle\"}, \"mode\": \"markers\", \"name\": \"Forretningsmessig tenesteyting\", \"orientation\": \"v\", \"showlegend\": true, \"x\": [5.1], \"xaxis\": \"x\", \"y\": [121], \"yaxis\": \"y\", \"type\": \"scatter\"}, {\"hovertemplate\": \"<b>%{hovertext}</b><br><br>n\\u00e6ring (SN2007)=Offentleg administrasjon og forsvar, og trygdeordningar underordna offentleg forvalting<br>kvartal=2015K1<br>Ledige stillingar (prosent)=%{x}<br>Sysselsatte=%{y}<br>Ledige stillingar=%{marker.size}<extra></extra>\", \"hovertext\": [\"Offentleg administrasjon og forsvar, og trygdeordningar underordna offentleg forvalting\"], \"ids\": [\"Offentleg administrasjon og forsvar, og trygdeordningar underordna offentleg forvalting\"], \"legendgroup\": \"Offentleg administrasjon og forsvar, og trygdeordningar underordna offentleg forvalting\", \"marker\": {\"color\": \"#B6E880\", \"size\": [3300.0], \"sizemode\": \"area\", \"sizeref\": 4.32, \"symbol\": \"circle\"}, \"mode\": \"markers\", \"name\": \"Offentleg administrasjon og forsvar, og trygdeordningar underordna offentleg forvalting\", \"orientation\": \"v\", \"showlegend\": true, \"x\": [2.0], \"xaxis\": \"x\", \"y\": [164], \"yaxis\": \"y\", \"type\": \"scatter\"}, {\"hovertemplate\": \"<b>%{hovertext}</b><br><br>n\\u00e6ring (SN2007)=Undervisning<br>kvartal=2015K1<br>Ledige stillingar (prosent)=%{x}<br>Sysselsatte=%{y}<br>Ledige stillingar=%{marker.size}<extra></extra>\", \"hovertext\": [\"Undervisning\"], \"ids\": [\"Undervisning\"], \"legendgroup\": \"Undervisning\", \"marker\": {\"color\": \"#FF97FF\", \"size\": [3700.0], \"sizemode\": \"area\", \"sizeref\": 4.32, \"symbol\": \"circle\"}, \"mode\": \"markers\", \"name\": \"Undervisning\", \"orientation\": \"v\", \"showlegend\": true, \"x\": [1.6], \"xaxis\": \"x\", \"y\": [224], \"yaxis\": \"y\", \"type\": \"scatter\"}, {\"hovertemplate\": \"<b>%{hovertext}</b><br><br>n\\u00e6ring (SN2007)=Kulturell verksemd, underhaldning og fritidsaktivitetar<br>kvartal=2015K1<br>Ledige stillingar (prosent)=%{x}<br>Sysselsatte=%{y}<br>Ledige stillingar=%{marker.size}<extra></extra>\", \"hovertext\": [\"Kulturell verksemd, underhaldning og fritidsaktivitetar\"], \"ids\": [\"Kulturell verksemd, underhaldning og fritidsaktivitetar\"], \"legendgroup\": \"Kulturell verksemd, underhaldning og fritidsaktivitetar\", \"marker\": {\"color\": \"#FECB52\", \"size\": [600.0], \"sizemode\": \"area\", \"sizeref\": 4.32, \"symbol\": \"circle\"}, \"mode\": \"markers\", \"name\": \"Kulturell verksemd, underhaldning og fritidsaktivitetar\", \"orientation\": \"v\", \"showlegend\": true, \"x\": [1.3], \"xaxis\": \"x\", \"y\": [55], \"yaxis\": \"y\", \"type\": \"scatter\"}], \"name\": \"2015K1\"}, {\"data\": [{\"hovertemplate\": \"<b>%{hovertext}</b><br><br>n\\u00e6ring (SN2007)=Bergverksdrift og utvinning<br>kvartal=2015K2<br>Ledige stillingar (prosent)=%{x}<br>Sysselsatte=%{y}<br>Ledige stillingar=%{marker.size}<extra></extra>\", \"hovertext\": [\"Bergverksdrift og utvinning\"], \"ids\": [\"Bergverksdrift og utvinning\"], \"legendgroup\": \"Bergverksdrift og utvinning\", \"marker\": {\"color\": \"#636efa\", \"size\": [600.0], \"sizemode\": \"area\", \"sizeref\": 4.32, \"symbol\": \"circle\"}, \"mode\": \"markers\", \"name\": \"Bergverksdrift og utvinning\", \"orientation\": \"v\", \"showlegend\": true, \"x\": [0.9], \"xaxis\": \"x\", \"y\": [69], \"yaxis\": \"y\", \"type\": \"scatter\"}, {\"hovertemplate\": \"<b>%{hovertext}</b><br><br>n\\u00e6ring (SN2007)=Byggje- og anleggsverksemd<br>kvartal=2015K2<br>Ledige stillingar (prosent)=%{x}<br>Sysselsatte=%{y}<br>Ledige stillingar=%{marker.size}<extra></extra>\", \"hovertext\": [\"Byggje- og anleggsverksemd\"], \"ids\": [\"Byggje- og anleggsverksemd\"], \"legendgroup\": \"Byggje- og anleggsverksemd\", \"marker\": {\"color\": \"#EF553B\", \"size\": [6800.0], \"sizemode\": \"area\", \"sizeref\": 4.32, \"symbol\": \"circle\"}, \"mode\": \"markers\", \"name\": \"Byggje- og anleggsverksemd\", \"orientation\": \"v\", \"showlegend\": true, \"x\": [3.3], \"xaxis\": \"x\", \"y\": [206], \"yaxis\": \"y\", \"type\": \"scatter\"}, {\"hovertemplate\": \"<b>%{hovertext}</b><br><br>n\\u00e6ring (SN2007)=Informasjon og kommunikasjon<br>kvartal=2015K2<br>Ledige stillingar (prosent)=%{x}<br>Sysselsatte=%{y}<br>Ledige stillingar=%{marker.size}<extra></extra>\", \"hovertext\": [\"Informasjon og kommunikasjon\"], \"ids\": [\"Informasjon og kommunikasjon\"], \"legendgroup\": \"Informasjon og kommunikasjon\", \"marker\": {\"color\": \"#00cc96\", \"size\": [2200.0], \"sizemode\": \"area\", \"sizeref\": 4.32, \"symbol\": \"circle\"}, \"mode\": \"markers\", \"name\": \"Informasjon og kommunikasjon\", \"orientation\": \"v\", \"showlegend\": true, \"x\": [2.5], \"xaxis\": \"x\", \"y\": [94], \"yaxis\": \"y\", \"type\": \"scatter\"}, {\"hovertemplate\": \"<b>%{hovertext}</b><br><br>n\\u00e6ring (SN2007)=Finansierings- og forsikringsverksemd<br>kvartal=2015K2<br>Ledige stillingar (prosent)=%{x}<br>Sysselsatte=%{y}<br>Ledige stillingar=%{marker.size}<extra></extra>\", \"hovertext\": [\"Finansierings- og forsikringsverksemd\"], \"ids\": [\"Finansierings- og forsikringsverksemd\"], \"legendgroup\": \"Finansierings- og forsikringsverksemd\", \"marker\": {\"color\": \"#ab63fa\", \"size\": [700.0], \"sizemode\": \"area\", \"sizeref\": 4.32, \"symbol\": \"circle\"}, \"mode\": \"markers\", \"name\": \"Finansierings- og forsikringsverksemd\", \"orientation\": \"v\", \"showlegend\": true, \"x\": [1.5], \"xaxis\": \"x\", \"y\": [52], \"yaxis\": \"y\", \"type\": \"scatter\"}, {\"hovertemplate\": \"<b>%{hovertext}</b><br><br>n\\u00e6ring (SN2007)=Omsetning og drift av fast eigedom<br>kvartal=2015K2<br>Ledige stillingar (prosent)=%{x}<br>Sysselsatte=%{y}<br>Ledige stillingar=%{marker.size}<extra></extra>\", \"hovertext\": [\"Omsetning og drift av fast eigedom\"], \"ids\": [\"Omsetning og drift av fast eigedom\"], \"legendgroup\": \"Omsetning og drift av fast eigedom\", \"marker\": {\"color\": \"#FFA15A\", \"size\": [600.0], \"sizemode\": \"area\", \"sizeref\": 4.32, \"symbol\": \"circle\"}, \"mode\": \"markers\", \"name\": \"Omsetning og drift av fast eigedom\", \"orientation\": \"v\", \"showlegend\": true, \"x\": [2.6], \"xaxis\": \"x\", \"y\": [26], \"yaxis\": \"y\", \"type\": \"scatter\"}, {\"hovertemplate\": \"<b>%{hovertext}</b><br><br>n\\u00e6ring (SN2007)=Fagleg, vitskapleg og teknisk tenesteyting<br>kvartal=2015K2<br>Ledige stillingar (prosent)=%{x}<br>Sysselsatte=%{y}<br>Ledige stillingar=%{marker.size}<extra></extra>\", \"hovertext\": [\"Fagleg, vitskapleg og teknisk tenesteyting\"], \"ids\": [\"Fagleg, vitskapleg og teknisk tenesteyting\"], \"legendgroup\": \"Fagleg, vitskapleg og teknisk tenesteyting\", \"marker\": {\"color\": \"#19d3f3\", \"size\": [2800.0], \"sizemode\": \"area\", \"sizeref\": 4.32, \"symbol\": \"circle\"}, \"mode\": \"markers\", \"name\": \"Fagleg, vitskapleg og teknisk tenesteyting\", \"orientation\": \"v\", \"showlegend\": true, \"x\": [2.1], \"xaxis\": \"x\", \"y\": [153], \"yaxis\": \"y\", \"type\": \"scatter\"}, {\"hovertemplate\": \"<b>%{hovertext}</b><br><br>n\\u00e6ring (SN2007)=Forretningsmessig tenesteyting<br>kvartal=2015K2<br>Ledige stillingar (prosent)=%{x}<br>Sysselsatte=%{y}<br>Ledige stillingar=%{marker.size}<extra></extra>\", \"hovertext\": [\"Forretningsmessig tenesteyting\"], \"ids\": [\"Forretningsmessig tenesteyting\"], \"legendgroup\": \"Forretningsmessig tenesteyting\", \"marker\": {\"color\": \"#FF6692\", \"size\": [6300.0], \"sizemode\": \"area\", \"sizeref\": 4.32, \"symbol\": \"circle\"}, \"mode\": \"markers\", \"name\": \"Forretningsmessig tenesteyting\", \"orientation\": \"v\", \"showlegend\": true, \"x\": [4.4], \"xaxis\": \"x\", \"y\": [129], \"yaxis\": \"y\", \"type\": \"scatter\"}, {\"hovertemplate\": \"<b>%{hovertext}</b><br><br>n\\u00e6ring (SN2007)=Offentleg administrasjon og forsvar, og trygdeordningar underordna offentleg forvalting<br>kvartal=2015K2<br>Ledige stillingar (prosent)=%{x}<br>Sysselsatte=%{y}<br>Ledige stillingar=%{marker.size}<extra></extra>\", \"hovertext\": [\"Offentleg administrasjon og forsvar, og trygdeordningar underordna offentleg forvalting\"], \"ids\": [\"Offentleg administrasjon og forsvar, og trygdeordningar underordna offentleg forvalting\"], \"legendgroup\": \"Offentleg administrasjon og forsvar, og trygdeordningar underordna offentleg forvalting\", \"marker\": {\"color\": \"#B6E880\", \"size\": [3200.0], \"sizemode\": \"area\", \"sizeref\": 4.32, \"symbol\": \"circle\"}, \"mode\": \"markers\", \"name\": \"Offentleg administrasjon og forsvar, og trygdeordningar underordna offentleg forvalting\", \"orientation\": \"v\", \"showlegend\": true, \"x\": [1.8], \"xaxis\": \"x\", \"y\": [166], \"yaxis\": \"y\", \"type\": \"scatter\"}, {\"hovertemplate\": \"<b>%{hovertext}</b><br><br>n\\u00e6ring (SN2007)=Undervisning<br>kvartal=2015K2<br>Ledige stillingar (prosent)=%{x}<br>Sysselsatte=%{y}<br>Ledige stillingar=%{marker.size}<extra></extra>\", \"hovertext\": [\"Undervisning\"], \"ids\": [\"Undervisning\"], \"legendgroup\": \"Undervisning\", \"marker\": {\"color\": \"#FF97FF\", \"size\": [7800.0], \"sizemode\": \"area\", \"sizeref\": 4.32, \"symbol\": \"circle\"}, \"mode\": \"markers\", \"name\": \"Undervisning\", \"orientation\": \"v\", \"showlegend\": true, \"x\": [3.2], \"xaxis\": \"x\", \"y\": [223], \"yaxis\": \"y\", \"type\": \"scatter\"}, {\"hovertemplate\": \"<b>%{hovertext}</b><br><br>n\\u00e6ring (SN2007)=Kulturell verksemd, underhaldning og fritidsaktivitetar<br>kvartal=2015K2<br>Ledige stillingar (prosent)=%{x}<br>Sysselsatte=%{y}<br>Ledige stillingar=%{marker.size}<extra></extra>\", \"hovertext\": [\"Kulturell verksemd, underhaldning og fritidsaktivitetar\"], \"ids\": [\"Kulturell verksemd, underhaldning og fritidsaktivitetar\"], \"legendgroup\": \"Kulturell verksemd, underhaldning og fritidsaktivitetar\", \"marker\": {\"color\": \"#FECB52\", \"size\": [500.0], \"sizemode\": \"area\", \"sizeref\": 4.32, \"symbol\": \"circle\"}, \"mode\": \"markers\", \"name\": \"Kulturell verksemd, underhaldning og fritidsaktivitetar\", \"orientation\": \"v\", \"showlegend\": true, \"x\": [1.0], \"xaxis\": \"x\", \"y\": [56], \"yaxis\": \"y\", \"type\": \"scatter\"}], \"name\": \"2015K2\"}, {\"data\": [{\"hovertemplate\": \"<b>%{hovertext}</b><br><br>n\\u00e6ring (SN2007)=Bergverksdrift og utvinning<br>kvartal=2015K3<br>Ledige stillingar (prosent)=%{x}<br>Sysselsatte=%{y}<br>Ledige stillingar=%{marker.size}<extra></extra>\", \"hovertext\": [\"Bergverksdrift og utvinning\"], \"ids\": [\"Bergverksdrift og utvinning\"], \"legendgroup\": \"Bergverksdrift og utvinning\", \"marker\": {\"color\": \"#636efa\", \"size\": [600.0], \"sizemode\": \"area\", \"sizeref\": 4.32, \"symbol\": \"circle\"}, \"mode\": \"markers\", \"name\": \"Bergverksdrift og utvinning\", \"orientation\": \"v\", \"showlegend\": true, \"x\": [0.9], \"xaxis\": \"x\", \"y\": [63], \"yaxis\": \"y\", \"type\": \"scatter\"}, {\"hovertemplate\": \"<b>%{hovertext}</b><br><br>n\\u00e6ring (SN2007)=Byggje- og anleggsverksemd<br>kvartal=2015K3<br>Ledige stillingar (prosent)=%{x}<br>Sysselsatte=%{y}<br>Ledige stillingar=%{marker.size}<extra></extra>\", \"hovertext\": [\"Byggje- og anleggsverksemd\"], \"ids\": [\"Byggje- og anleggsverksemd\"], \"legendgroup\": \"Byggje- og anleggsverksemd\", \"marker\": {\"color\": \"#EF553B\", \"size\": [3300.0], \"sizemode\": \"area\", \"sizeref\": 4.32, \"symbol\": \"circle\"}, \"mode\": \"markers\", \"name\": \"Byggje- og anleggsverksemd\", \"orientation\": \"v\", \"showlegend\": true, \"x\": [1.6], \"xaxis\": \"x\", \"y\": [209], \"yaxis\": \"y\", \"type\": \"scatter\"}, {\"hovertemplate\": \"<b>%{hovertext}</b><br><br>n\\u00e6ring (SN2007)=Informasjon og kommunikasjon<br>kvartal=2015K3<br>Ledige stillingar (prosent)=%{x}<br>Sysselsatte=%{y}<br>Ledige stillingar=%{marker.size}<extra></extra>\", \"hovertext\": [\"Informasjon og kommunikasjon\"], \"ids\": [\"Informasjon og kommunikasjon\"], \"legendgroup\": \"Informasjon og kommunikasjon\", \"marker\": {\"color\": \"#00cc96\", \"size\": [1800.0], \"sizemode\": \"area\", \"sizeref\": 4.32, \"symbol\": \"circle\"}, \"mode\": \"markers\", \"name\": \"Informasjon og kommunikasjon\", \"orientation\": \"v\", \"showlegend\": true, \"x\": [2.1], \"xaxis\": \"x\", \"y\": [96], \"yaxis\": \"y\", \"type\": \"scatter\"}, {\"hovertemplate\": \"<b>%{hovertext}</b><br><br>n\\u00e6ring (SN2007)=Finansierings- og forsikringsverksemd<br>kvartal=2015K3<br>Ledige stillingar (prosent)=%{x}<br>Sysselsatte=%{y}<br>Ledige stillingar=%{marker.size}<extra></extra>\", \"hovertext\": [\"Finansierings- og forsikringsverksemd\"], \"ids\": [\"Finansierings- og forsikringsverksemd\"], \"legendgroup\": \"Finansierings- og forsikringsverksemd\", \"marker\": {\"color\": \"#ab63fa\", \"size\": [500.0], \"sizemode\": \"area\", \"sizeref\": 4.32, \"symbol\": \"circle\"}, \"mode\": \"markers\", \"name\": \"Finansierings- og forsikringsverksemd\", \"orientation\": \"v\", \"showlegend\": true, \"x\": [1.1], \"xaxis\": \"x\", \"y\": [49], \"yaxis\": \"y\", \"type\": \"scatter\"}, {\"hovertemplate\": \"<b>%{hovertext}</b><br><br>n\\u00e6ring (SN2007)=Omsetning og drift av fast eigedom<br>kvartal=2015K3<br>Ledige stillingar (prosent)=%{x}<br>Sysselsatte=%{y}<br>Ledige stillingar=%{marker.size}<extra></extra>\", \"hovertext\": [\"Omsetning og drift av fast eigedom\"], \"ids\": [\"Omsetning og drift av fast eigedom\"], \"legendgroup\": \"Omsetning og drift av fast eigedom\", \"marker\": {\"color\": \"#FFA15A\", \"size\": [400.0], \"sizemode\": \"area\", \"sizeref\": 4.32, \"symbol\": \"circle\"}, \"mode\": \"markers\", \"name\": \"Omsetning og drift av fast eigedom\", \"orientation\": \"v\", \"showlegend\": true, \"x\": [1.6], \"xaxis\": \"x\", \"y\": [24], \"yaxis\": \"y\", \"type\": \"scatter\"}, {\"hovertemplate\": \"<b>%{hovertext}</b><br><br>n\\u00e6ring (SN2007)=Fagleg, vitskapleg og teknisk tenesteyting<br>kvartal=2015K3<br>Ledige stillingar (prosent)=%{x}<br>Sysselsatte=%{y}<br>Ledige stillingar=%{marker.size}<extra></extra>\", \"hovertext\": [\"Fagleg, vitskapleg og teknisk tenesteyting\"], \"ids\": [\"Fagleg, vitskapleg og teknisk tenesteyting\"], \"legendgroup\": \"Fagleg, vitskapleg og teknisk tenesteyting\", \"marker\": {\"color\": \"#19d3f3\", \"size\": [2000.0], \"sizemode\": \"area\", \"sizeref\": 4.32, \"symbol\": \"circle\"}, \"mode\": \"markers\", \"name\": \"Fagleg, vitskapleg og teknisk tenesteyting\", \"orientation\": \"v\", \"showlegend\": true, \"x\": [1.5], \"xaxis\": \"x\", \"y\": [154], \"yaxis\": \"y\", \"type\": \"scatter\"}, {\"hovertemplate\": \"<b>%{hovertext}</b><br><br>n\\u00e6ring (SN2007)=Forretningsmessig tenesteyting<br>kvartal=2015K3<br>Ledige stillingar (prosent)=%{x}<br>Sysselsatte=%{y}<br>Ledige stillingar=%{marker.size}<extra></extra>\", \"hovertext\": [\"Forretningsmessig tenesteyting\"], \"ids\": [\"Forretningsmessig tenesteyting\"], \"legendgroup\": \"Forretningsmessig tenesteyting\", \"marker\": {\"color\": \"#FF6692\", \"size\": [4900.0], \"sizemode\": \"area\", \"sizeref\": 4.32, \"symbol\": \"circle\"}, \"mode\": \"markers\", \"name\": \"Forretningsmessig tenesteyting\", \"orientation\": \"v\", \"showlegend\": true, \"x\": [3.3], \"xaxis\": \"x\", \"y\": [119], \"yaxis\": \"y\", \"type\": \"scatter\"}, {\"hovertemplate\": \"<b>%{hovertext}</b><br><br>n\\u00e6ring (SN2007)=Offentleg administrasjon og forsvar, og trygdeordningar underordna offentleg forvalting<br>kvartal=2015K3<br>Ledige stillingar (prosent)=%{x}<br>Sysselsatte=%{y}<br>Ledige stillingar=%{marker.size}<extra></extra>\", \"hovertext\": [\"Offentleg administrasjon og forsvar, og trygdeordningar underordna offentleg forvalting\"], \"ids\": [\"Offentleg administrasjon og forsvar, og trygdeordningar underordna offentleg forvalting\"], \"legendgroup\": \"Offentleg administrasjon og forsvar, og trygdeordningar underordna offentleg forvalting\", \"marker\": {\"color\": \"#B6E880\", \"size\": [3900.0], \"sizemode\": \"area\", \"sizeref\": 4.32, \"symbol\": \"circle\"}, \"mode\": \"markers\", \"name\": \"Offentleg administrasjon og forsvar, og trygdeordningar underordna offentleg forvalting\", \"orientation\": \"v\", \"showlegend\": true, \"x\": [2.2], \"xaxis\": \"x\", \"y\": [166], \"yaxis\": \"y\", \"type\": \"scatter\"}, {\"hovertemplate\": \"<b>%{hovertext}</b><br><br>n\\u00e6ring (SN2007)=Undervisning<br>kvartal=2015K3<br>Ledige stillingar (prosent)=%{x}<br>Sysselsatte=%{y}<br>Ledige stillingar=%{marker.size}<extra></extra>\", \"hovertext\": [\"Undervisning\"], \"ids\": [\"Undervisning\"], \"legendgroup\": \"Undervisning\", \"marker\": {\"color\": \"#FF97FF\", \"size\": [2500.0], \"sizemode\": \"area\", \"sizeref\": 4.32, \"symbol\": \"circle\"}, \"mode\": \"markers\", \"name\": \"Undervisning\", \"orientation\": \"v\", \"showlegend\": true, \"x\": [1.2], \"xaxis\": \"x\", \"y\": [221], \"yaxis\": \"y\", \"type\": \"scatter\"}, {\"hovertemplate\": \"<b>%{hovertext}</b><br><br>n\\u00e6ring (SN2007)=Kulturell verksemd, underhaldning og fritidsaktivitetar<br>kvartal=2015K3<br>Ledige stillingar (prosent)=%{x}<br>Sysselsatte=%{y}<br>Ledige stillingar=%{marker.size}<extra></extra>\", \"hovertext\": [\"Kulturell verksemd, underhaldning og fritidsaktivitetar\"], \"ids\": [\"Kulturell verksemd, underhaldning og fritidsaktivitetar\"], \"legendgroup\": \"Kulturell verksemd, underhaldning og fritidsaktivitetar\", \"marker\": {\"color\": \"#FECB52\", \"size\": [400.0], \"sizemode\": \"area\", \"sizeref\": 4.32, \"symbol\": \"circle\"}, \"mode\": \"markers\", \"name\": \"Kulturell verksemd, underhaldning og fritidsaktivitetar\", \"orientation\": \"v\", \"showlegend\": true, \"x\": [0.9], \"xaxis\": \"x\", \"y\": [58], \"yaxis\": \"y\", \"type\": \"scatter\"}], \"name\": \"2015K3\"}, {\"data\": [{\"hovertemplate\": \"<b>%{hovertext}</b><br><br>n\\u00e6ring (SN2007)=Bergverksdrift og utvinning<br>kvartal=2015K4<br>Ledige stillingar (prosent)=%{x}<br>Sysselsatte=%{y}<br>Ledige stillingar=%{marker.size}<extra></extra>\", \"hovertext\": [\"Bergverksdrift og utvinning\"], \"ids\": [\"Bergverksdrift og utvinning\"], \"legendgroup\": \"Bergverksdrift og utvinning\", \"marker\": {\"color\": \"#636efa\", \"size\": [400.0], \"sizemode\": \"area\", \"sizeref\": 4.32, \"symbol\": \"circle\"}, \"mode\": \"markers\", \"name\": \"Bergverksdrift og utvinning\", \"orientation\": \"v\", \"showlegend\": true, \"x\": [0.6], \"xaxis\": \"x\", \"y\": [61], \"yaxis\": \"y\", \"type\": \"scatter\"}, {\"hovertemplate\": \"<b>%{hovertext}</b><br><br>n\\u00e6ring (SN2007)=Byggje- og anleggsverksemd<br>kvartal=2015K4<br>Ledige stillingar (prosent)=%{x}<br>Sysselsatte=%{y}<br>Ledige stillingar=%{marker.size}<extra></extra>\", \"hovertext\": [\"Byggje- og anleggsverksemd\"], \"ids\": [\"Byggje- og anleggsverksemd\"], \"legendgroup\": \"Byggje- og anleggsverksemd\", \"marker\": {\"color\": \"#EF553B\", \"size\": [2300.0], \"sizemode\": \"area\", \"sizeref\": 4.32, \"symbol\": \"circle\"}, \"mode\": \"markers\", \"name\": \"Byggje- og anleggsverksemd\", \"orientation\": \"v\", \"showlegend\": true, \"x\": [1.1], \"xaxis\": \"x\", \"y\": [202], \"yaxis\": \"y\", \"type\": \"scatter\"}, {\"hovertemplate\": \"<b>%{hovertext}</b><br><br>n\\u00e6ring (SN2007)=Informasjon og kommunikasjon<br>kvartal=2015K4<br>Ledige stillingar (prosent)=%{x}<br>Sysselsatte=%{y}<br>Ledige stillingar=%{marker.size}<extra></extra>\", \"hovertext\": [\"Informasjon og kommunikasjon\"], \"ids\": [\"Informasjon og kommunikasjon\"], \"legendgroup\": \"Informasjon og kommunikasjon\", \"marker\": {\"color\": \"#00cc96\", \"size\": [2000.0], \"sizemode\": \"area\", \"sizeref\": 4.32, \"symbol\": \"circle\"}, \"mode\": \"markers\", \"name\": \"Informasjon og kommunikasjon\", \"orientation\": \"v\", \"showlegend\": true, \"x\": [2.2], \"xaxis\": \"x\", \"y\": [99], \"yaxis\": \"y\", \"type\": \"scatter\"}, {\"hovertemplate\": \"<b>%{hovertext}</b><br><br>n\\u00e6ring (SN2007)=Finansierings- og forsikringsverksemd<br>kvartal=2015K4<br>Ledige stillingar (prosent)=%{x}<br>Sysselsatte=%{y}<br>Ledige stillingar=%{marker.size}<extra></extra>\", \"hovertext\": [\"Finansierings- og forsikringsverksemd\"], \"ids\": [\"Finansierings- og forsikringsverksemd\"], \"legendgroup\": \"Finansierings- og forsikringsverksemd\", \"marker\": {\"color\": \"#ab63fa\", \"size\": [600.0], \"sizemode\": \"area\", \"sizeref\": 4.32, \"symbol\": \"circle\"}, \"mode\": \"markers\", \"name\": \"Finansierings- og forsikringsverksemd\", \"orientation\": \"v\", \"showlegend\": true, \"x\": [1.2], \"xaxis\": \"x\", \"y\": [50], \"yaxis\": \"y\", \"type\": \"scatter\"}, {\"hovertemplate\": \"<b>%{hovertext}</b><br><br>n\\u00e6ring (SN2007)=Omsetning og drift av fast eigedom<br>kvartal=2015K4<br>Ledige stillingar (prosent)=%{x}<br>Sysselsatte=%{y}<br>Ledige stillingar=%{marker.size}<extra></extra>\", \"hovertext\": [\"Omsetning og drift av fast eigedom\"], \"ids\": [\"Omsetning og drift av fast eigedom\"], \"legendgroup\": \"Omsetning og drift av fast eigedom\", \"marker\": {\"color\": \"#FFA15A\", \"size\": [400.0], \"sizemode\": \"area\", \"sizeref\": 4.32, \"symbol\": \"circle\"}, \"mode\": \"markers\", \"name\": \"Omsetning og drift av fast eigedom\", \"orientation\": \"v\", \"showlegend\": true, \"x\": [1.6], \"xaxis\": \"x\", \"y\": [26], \"yaxis\": \"y\", \"type\": \"scatter\"}, {\"hovertemplate\": \"<b>%{hovertext}</b><br><br>n\\u00e6ring (SN2007)=Fagleg, vitskapleg og teknisk tenesteyting<br>kvartal=2015K4<br>Ledige stillingar (prosent)=%{x}<br>Sysselsatte=%{y}<br>Ledige stillingar=%{marker.size}<extra></extra>\", \"hovertext\": [\"Fagleg, vitskapleg og teknisk tenesteyting\"], \"ids\": [\"Fagleg, vitskapleg og teknisk tenesteyting\"], \"legendgroup\": \"Fagleg, vitskapleg og teknisk tenesteyting\", \"marker\": {\"color\": \"#19d3f3\", \"size\": [2600.0], \"sizemode\": \"area\", \"sizeref\": 4.32, \"symbol\": \"circle\"}, \"mode\": \"markers\", \"name\": \"Fagleg, vitskapleg og teknisk tenesteyting\", \"orientation\": \"v\", \"showlegend\": true, \"x\": [1.9], \"xaxis\": \"x\", \"y\": [157], \"yaxis\": \"y\", \"type\": \"scatter\"}, {\"hovertemplate\": \"<b>%{hovertext}</b><br><br>n\\u00e6ring (SN2007)=Forretningsmessig tenesteyting<br>kvartal=2015K4<br>Ledige stillingar (prosent)=%{x}<br>Sysselsatte=%{y}<br>Ledige stillingar=%{marker.size}<extra></extra>\", \"hovertext\": [\"Forretningsmessig tenesteyting\"], \"ids\": [\"Forretningsmessig tenesteyting\"], \"legendgroup\": \"Forretningsmessig tenesteyting\", \"marker\": {\"color\": \"#FF6692\", \"size\": [5100.0], \"sizemode\": \"area\", \"sizeref\": 4.32, \"symbol\": \"circle\"}, \"mode\": \"markers\", \"name\": \"Forretningsmessig tenesteyting\", \"orientation\": \"v\", \"showlegend\": true, \"x\": [3.5], \"xaxis\": \"x\", \"y\": [121], \"yaxis\": \"y\", \"type\": \"scatter\"}, {\"hovertemplate\": \"<b>%{hovertext}</b><br><br>n\\u00e6ring (SN2007)=Offentleg administrasjon og forsvar, og trygdeordningar underordna offentleg forvalting<br>kvartal=2015K4<br>Ledige stillingar (prosent)=%{x}<br>Sysselsatte=%{y}<br>Ledige stillingar=%{marker.size}<extra></extra>\", \"hovertext\": [\"Offentleg administrasjon og forsvar, og trygdeordningar underordna offentleg forvalting\"], \"ids\": [\"Offentleg administrasjon og forsvar, og trygdeordningar underordna offentleg forvalting\"], \"legendgroup\": \"Offentleg administrasjon og forsvar, og trygdeordningar underordna offentleg forvalting\", \"marker\": {\"color\": \"#B6E880\", \"size\": [3600.0], \"sizemode\": \"area\", \"sizeref\": 4.32, \"symbol\": \"circle\"}, \"mode\": \"markers\", \"name\": \"Offentleg administrasjon og forsvar, og trygdeordningar underordna offentleg forvalting\", \"orientation\": \"v\", \"showlegend\": true, \"x\": [2.0], \"xaxis\": \"x\", \"y\": [167], \"yaxis\": \"y\", \"type\": \"scatter\"}, {\"hovertemplate\": \"<b>%{hovertext}</b><br><br>n\\u00e6ring (SN2007)=Undervisning<br>kvartal=2015K4<br>Ledige stillingar (prosent)=%{x}<br>Sysselsatte=%{y}<br>Ledige stillingar=%{marker.size}<extra></extra>\", \"hovertext\": [\"Undervisning\"], \"ids\": [\"Undervisning\"], \"legendgroup\": \"Undervisning\", \"marker\": {\"color\": \"#FF97FF\", \"size\": [2400.0], \"sizemode\": \"area\", \"sizeref\": 4.32, \"symbol\": \"circle\"}, \"mode\": \"markers\", \"name\": \"Undervisning\", \"orientation\": \"v\", \"showlegend\": true, \"x\": [1.0], \"xaxis\": \"x\", \"y\": [219], \"yaxis\": \"y\", \"type\": \"scatter\"}, {\"hovertemplate\": \"<b>%{hovertext}</b><br><br>n\\u00e6ring (SN2007)=Kulturell verksemd, underhaldning og fritidsaktivitetar<br>kvartal=2015K4<br>Ledige stillingar (prosent)=%{x}<br>Sysselsatte=%{y}<br>Ledige stillingar=%{marker.size}<extra></extra>\", \"hovertext\": [\"Kulturell verksemd, underhaldning og fritidsaktivitetar\"], \"ids\": [\"Kulturell verksemd, underhaldning og fritidsaktivitetar\"], \"legendgroup\": \"Kulturell verksemd, underhaldning og fritidsaktivitetar\", \"marker\": {\"color\": \"#FECB52\", \"size\": [500.0], \"sizemode\": \"area\", \"sizeref\": 4.32, \"symbol\": \"circle\"}, \"mode\": \"markers\", \"name\": \"Kulturell verksemd, underhaldning og fritidsaktivitetar\", \"orientation\": \"v\", \"showlegend\": true, \"x\": [1.2], \"xaxis\": \"x\", \"y\": [58], \"yaxis\": \"y\", \"type\": \"scatter\"}], \"name\": \"2015K4\"}, {\"data\": [{\"hovertemplate\": \"<b>%{hovertext}</b><br><br>n\\u00e6ring (SN2007)=Bergverksdrift og utvinning<br>kvartal=2016K1<br>Ledige stillingar (prosent)=%{x}<br>Sysselsatte=%{y}<br>Ledige stillingar=%{marker.size}<extra></extra>\", \"hovertext\": [\"Bergverksdrift og utvinning\"], \"ids\": [\"Bergverksdrift og utvinning\"], \"legendgroup\": \"Bergverksdrift og utvinning\", \"marker\": {\"color\": \"#636efa\", \"size\": [300.0], \"sizemode\": \"area\", \"sizeref\": 4.32, \"symbol\": \"circle\"}, \"mode\": \"markers\", \"name\": \"Bergverksdrift og utvinning\", \"orientation\": \"v\", \"showlegend\": true, \"x\": [0.5], \"xaxis\": \"x\", \"y\": [61], \"yaxis\": \"y\", \"type\": \"scatter\"}, {\"hovertemplate\": \"<b>%{hovertext}</b><br><br>n\\u00e6ring (SN2007)=Byggje- og anleggsverksemd<br>kvartal=2016K1<br>Ledige stillingar (prosent)=%{x}<br>Sysselsatte=%{y}<br>Ledige stillingar=%{marker.size}<extra></extra>\", \"hovertext\": [\"Byggje- og anleggsverksemd\"], \"ids\": [\"Byggje- og anleggsverksemd\"], \"legendgroup\": \"Byggje- og anleggsverksemd\", \"marker\": {\"color\": \"#EF553B\", \"size\": [3900.0], \"sizemode\": \"area\", \"sizeref\": 4.32, \"symbol\": \"circle\"}, \"mode\": \"markers\", \"name\": \"Byggje- og anleggsverksemd\", \"orientation\": \"v\", \"showlegend\": true, \"x\": [1.9], \"xaxis\": \"x\", \"y\": [206], \"yaxis\": \"y\", \"type\": \"scatter\"}, {\"hovertemplate\": \"<b>%{hovertext}</b><br><br>n\\u00e6ring (SN2007)=Informasjon og kommunikasjon<br>kvartal=2016K1<br>Ledige stillingar (prosent)=%{x}<br>Sysselsatte=%{y}<br>Ledige stillingar=%{marker.size}<extra></extra>\", \"hovertext\": [\"Informasjon og kommunikasjon\"], \"ids\": [\"Informasjon og kommunikasjon\"], \"legendgroup\": \"Informasjon og kommunikasjon\", \"marker\": {\"color\": \"#00cc96\", \"size\": [2500.0], \"sizemode\": \"area\", \"sizeref\": 4.32, \"symbol\": \"circle\"}, \"mode\": \"markers\", \"name\": \"Informasjon og kommunikasjon\", \"orientation\": \"v\", \"showlegend\": true, \"x\": [2.7], \"xaxis\": \"x\", \"y\": [99], \"yaxis\": \"y\", \"type\": \"scatter\"}, {\"hovertemplate\": \"<b>%{hovertext}</b><br><br>n\\u00e6ring (SN2007)=Finansierings- og forsikringsverksemd<br>kvartal=2016K1<br>Ledige stillingar (prosent)=%{x}<br>Sysselsatte=%{y}<br>Ledige stillingar=%{marker.size}<extra></extra>\", \"hovertext\": [\"Finansierings- og forsikringsverksemd\"], \"ids\": [\"Finansierings- og forsikringsverksemd\"], \"legendgroup\": \"Finansierings- og forsikringsverksemd\", \"marker\": {\"color\": \"#ab63fa\", \"size\": [800.0], \"sizemode\": \"area\", \"sizeref\": 4.32, \"symbol\": \"circle\"}, \"mode\": \"markers\", \"name\": \"Finansierings- og forsikringsverksemd\", \"orientation\": \"v\", \"showlegend\": true, \"x\": [1.7], \"xaxis\": \"x\", \"y\": [46], \"yaxis\": \"y\", \"type\": \"scatter\"}, {\"hovertemplate\": \"<b>%{hovertext}</b><br><br>n\\u00e6ring (SN2007)=Omsetning og drift av fast eigedom<br>kvartal=2016K1<br>Ledige stillingar (prosent)=%{x}<br>Sysselsatte=%{y}<br>Ledige stillingar=%{marker.size}<extra></extra>\", \"hovertext\": [\"Omsetning og drift av fast eigedom\"], \"ids\": [\"Omsetning og drift av fast eigedom\"], \"legendgroup\": \"Omsetning og drift av fast eigedom\", \"marker\": {\"color\": \"#FFA15A\", \"size\": [400.0], \"sizemode\": \"area\", \"sizeref\": 4.32, \"symbol\": \"circle\"}, \"mode\": \"markers\", \"name\": \"Omsetning og drift av fast eigedom\", \"orientation\": \"v\", \"showlegend\": true, \"x\": [1.8], \"xaxis\": \"x\", \"y\": [22], \"yaxis\": \"y\", \"type\": \"scatter\"}, {\"hovertemplate\": \"<b>%{hovertext}</b><br><br>n\\u00e6ring (SN2007)=Fagleg, vitskapleg og teknisk tenesteyting<br>kvartal=2016K1<br>Ledige stillingar (prosent)=%{x}<br>Sysselsatte=%{y}<br>Ledige stillingar=%{marker.size}<extra></extra>\", \"hovertext\": [\"Fagleg, vitskapleg og teknisk tenesteyting\"], \"ids\": [\"Fagleg, vitskapleg og teknisk tenesteyting\"], \"legendgroup\": \"Fagleg, vitskapleg og teknisk tenesteyting\", \"marker\": {\"color\": \"#19d3f3\", \"size\": [5000.0], \"sizemode\": \"area\", \"sizeref\": 4.32, \"symbol\": \"circle\"}, \"mode\": \"markers\", \"name\": \"Fagleg, vitskapleg og teknisk tenesteyting\", \"orientation\": \"v\", \"showlegend\": true, \"x\": [3.7], \"xaxis\": \"x\", \"y\": [158], \"yaxis\": \"y\", \"type\": \"scatter\"}, {\"hovertemplate\": \"<b>%{hovertext}</b><br><br>n\\u00e6ring (SN2007)=Forretningsmessig tenesteyting<br>kvartal=2016K1<br>Ledige stillingar (prosent)=%{x}<br>Sysselsatte=%{y}<br>Ledige stillingar=%{marker.size}<extra></extra>\", \"hovertext\": [\"Forretningsmessig tenesteyting\"], \"ids\": [\"Forretningsmessig tenesteyting\"], \"legendgroup\": \"Forretningsmessig tenesteyting\", \"marker\": {\"color\": \"#FF6692\", \"size\": [6200.0], \"sizemode\": \"area\", \"sizeref\": 4.32, \"symbol\": \"circle\"}, \"mode\": \"markers\", \"name\": \"Forretningsmessig tenesteyting\", \"orientation\": \"v\", \"showlegend\": true, \"x\": [4.5], \"xaxis\": \"x\", \"y\": [115], \"yaxis\": \"y\", \"type\": \"scatter\"}, {\"hovertemplate\": \"<b>%{hovertext}</b><br><br>n\\u00e6ring (SN2007)=Offentleg administrasjon og forsvar, og trygdeordningar underordna offentleg forvalting<br>kvartal=2016K1<br>Ledige stillingar (prosent)=%{x}<br>Sysselsatte=%{y}<br>Ledige stillingar=%{marker.size}<extra></extra>\", \"hovertext\": [\"Offentleg administrasjon og forsvar, og trygdeordningar underordna offentleg forvalting\"], \"ids\": [\"Offentleg administrasjon og forsvar, og trygdeordningar underordna offentleg forvalting\"], \"legendgroup\": \"Offentleg administrasjon og forsvar, og trygdeordningar underordna offentleg forvalting\", \"marker\": {\"color\": \"#B6E880\", \"size\": [3400.0], \"sizemode\": \"area\", \"sizeref\": 4.32, \"symbol\": \"circle\"}, \"mode\": \"markers\", \"name\": \"Offentleg administrasjon og forsvar, og trygdeordningar underordna offentleg forvalting\", \"orientation\": \"v\", \"showlegend\": true, \"x\": [1.9], \"xaxis\": \"x\", \"y\": [169], \"yaxis\": \"y\", \"type\": \"scatter\"}, {\"hovertemplate\": \"<b>%{hovertext}</b><br><br>n\\u00e6ring (SN2007)=Undervisning<br>kvartal=2016K1<br>Ledige stillingar (prosent)=%{x}<br>Sysselsatte=%{y}<br>Ledige stillingar=%{marker.size}<extra></extra>\", \"hovertext\": [\"Undervisning\"], \"ids\": [\"Undervisning\"], \"legendgroup\": \"Undervisning\", \"marker\": {\"color\": \"#FF97FF\", \"size\": [3500.0], \"sizemode\": \"area\", \"sizeref\": 4.32, \"symbol\": \"circle\"}, \"mode\": \"markers\", \"name\": \"Undervisning\", \"orientation\": \"v\", \"showlegend\": true, \"x\": [1.5], \"xaxis\": \"x\", \"y\": [223], \"yaxis\": \"y\", \"type\": \"scatter\"}, {\"hovertemplate\": \"<b>%{hovertext}</b><br><br>n\\u00e6ring (SN2007)=Kulturell verksemd, underhaldning og fritidsaktivitetar<br>kvartal=2016K1<br>Ledige stillingar (prosent)=%{x}<br>Sysselsatte=%{y}<br>Ledige stillingar=%{marker.size}<extra></extra>\", \"hovertext\": [\"Kulturell verksemd, underhaldning og fritidsaktivitetar\"], \"ids\": [\"Kulturell verksemd, underhaldning og fritidsaktivitetar\"], \"legendgroup\": \"Kulturell verksemd, underhaldning og fritidsaktivitetar\", \"marker\": {\"color\": \"#FECB52\", \"size\": [1100.0], \"sizemode\": \"area\", \"sizeref\": 4.32, \"symbol\": \"circle\"}, \"mode\": \"markers\", \"name\": \"Kulturell verksemd, underhaldning og fritidsaktivitetar\", \"orientation\": \"v\", \"showlegend\": true, \"x\": [2.3], \"xaxis\": \"x\", \"y\": [59], \"yaxis\": \"y\", \"type\": \"scatter\"}], \"name\": \"2016K1\"}, {\"data\": [{\"hovertemplate\": \"<b>%{hovertext}</b><br><br>n\\u00e6ring (SN2007)=Bergverksdrift og utvinning<br>kvartal=2016K2<br>Ledige stillingar (prosent)=%{x}<br>Sysselsatte=%{y}<br>Ledige stillingar=%{marker.size}<extra></extra>\", \"hovertext\": [\"Bergverksdrift og utvinning\"], \"ids\": [\"Bergverksdrift og utvinning\"], \"legendgroup\": \"Bergverksdrift og utvinning\", \"marker\": {\"color\": \"#636efa\", \"size\": [200.0], \"sizemode\": \"area\", \"sizeref\": 4.32, \"symbol\": \"circle\"}, \"mode\": \"markers\", \"name\": \"Bergverksdrift og utvinning\", \"orientation\": \"v\", \"showlegend\": true, \"x\": [0.3], \"xaxis\": \"x\", \"y\": [56], \"yaxis\": \"y\", \"type\": \"scatter\"}, {\"hovertemplate\": \"<b>%{hovertext}</b><br><br>n\\u00e6ring (SN2007)=Byggje- og anleggsverksemd<br>kvartal=2016K2<br>Ledige stillingar (prosent)=%{x}<br>Sysselsatte=%{y}<br>Ledige stillingar=%{marker.size}<extra></extra>\", \"hovertext\": [\"Byggje- og anleggsverksemd\"], \"ids\": [\"Byggje- og anleggsverksemd\"], \"legendgroup\": \"Byggje- og anleggsverksemd\", \"marker\": {\"color\": \"#EF553B\", \"size\": [3500.0], \"sizemode\": \"area\", \"sizeref\": 4.32, \"symbol\": \"circle\"}, \"mode\": \"markers\", \"name\": \"Byggje- og anleggsverksemd\", \"orientation\": \"v\", \"showlegend\": true, \"x\": [1.6], \"xaxis\": \"x\", \"y\": [201], \"yaxis\": \"y\", \"type\": \"scatter\"}, {\"hovertemplate\": \"<b>%{hovertext}</b><br><br>n\\u00e6ring (SN2007)=Informasjon og kommunikasjon<br>kvartal=2016K2<br>Ledige stillingar (prosent)=%{x}<br>Sysselsatte=%{y}<br>Ledige stillingar=%{marker.size}<extra></extra>\", \"hovertext\": [\"Informasjon og kommunikasjon\"], \"ids\": [\"Informasjon og kommunikasjon\"], \"legendgroup\": \"Informasjon og kommunikasjon\", \"marker\": {\"color\": \"#00cc96\", \"size\": [2700.0], \"sizemode\": \"area\", \"sizeref\": 4.32, \"symbol\": \"circle\"}, \"mode\": \"markers\", \"name\": \"Informasjon og kommunikasjon\", \"orientation\": \"v\", \"showlegend\": true, \"x\": [3.0], \"xaxis\": \"x\", \"y\": [95], \"yaxis\": \"y\", \"type\": \"scatter\"}, {\"hovertemplate\": \"<b>%{hovertext}</b><br><br>n\\u00e6ring (SN2007)=Finansierings- og forsikringsverksemd<br>kvartal=2016K2<br>Ledige stillingar (prosent)=%{x}<br>Sysselsatte=%{y}<br>Ledige stillingar=%{marker.size}<extra></extra>\", \"hovertext\": [\"Finansierings- og forsikringsverksemd\"], \"ids\": [\"Finansierings- og forsikringsverksemd\"], \"legendgroup\": \"Finansierings- og forsikringsverksemd\", \"marker\": {\"color\": \"#ab63fa\", \"size\": [600.0], \"sizemode\": \"area\", \"sizeref\": 4.32, \"symbol\": \"circle\"}, \"mode\": \"markers\", \"name\": \"Finansierings- og forsikringsverksemd\", \"orientation\": \"v\", \"showlegend\": true, \"x\": [1.4], \"xaxis\": \"x\", \"y\": [46], \"yaxis\": \"y\", \"type\": \"scatter\"}, {\"hovertemplate\": \"<b>%{hovertext}</b><br><br>n\\u00e6ring (SN2007)=Omsetning og drift av fast eigedom<br>kvartal=2016K2<br>Ledige stillingar (prosent)=%{x}<br>Sysselsatte=%{y}<br>Ledige stillingar=%{marker.size}<extra></extra>\", \"hovertext\": [\"Omsetning og drift av fast eigedom\"], \"ids\": [\"Omsetning og drift av fast eigedom\"], \"legendgroup\": \"Omsetning og drift av fast eigedom\", \"marker\": {\"color\": \"#FFA15A\", \"size\": [500.0], \"sizemode\": \"area\", \"sizeref\": 4.32, \"symbol\": \"circle\"}, \"mode\": \"markers\", \"name\": \"Omsetning og drift av fast eigedom\", \"orientation\": \"v\", \"showlegend\": true, \"x\": [2.1], \"xaxis\": \"x\", \"y\": [23], \"yaxis\": \"y\", \"type\": \"scatter\"}, {\"hovertemplate\": \"<b>%{hovertext}</b><br><br>n\\u00e6ring (SN2007)=Fagleg, vitskapleg og teknisk tenesteyting<br>kvartal=2016K2<br>Ledige stillingar (prosent)=%{x}<br>Sysselsatte=%{y}<br>Ledige stillingar=%{marker.size}<extra></extra>\", \"hovertext\": [\"Fagleg, vitskapleg og teknisk tenesteyting\"], \"ids\": [\"Fagleg, vitskapleg og teknisk tenesteyting\"], \"legendgroup\": \"Fagleg, vitskapleg og teknisk tenesteyting\", \"marker\": {\"color\": \"#19d3f3\", \"size\": [2900.0], \"sizemode\": \"area\", \"sizeref\": 4.32, \"symbol\": \"circle\"}, \"mode\": \"markers\", \"name\": \"Fagleg, vitskapleg og teknisk tenesteyting\", \"orientation\": \"v\", \"showlegend\": true, \"x\": [2.2], \"xaxis\": \"x\", \"y\": [158], \"yaxis\": \"y\", \"type\": \"scatter\"}, {\"hovertemplate\": \"<b>%{hovertext}</b><br><br>n\\u00e6ring (SN2007)=Forretningsmessig tenesteyting<br>kvartal=2016K2<br>Ledige stillingar (prosent)=%{x}<br>Sysselsatte=%{y}<br>Ledige stillingar=%{marker.size}<extra></extra>\", \"hovertext\": [\"Forretningsmessig tenesteyting\"], \"ids\": [\"Forretningsmessig tenesteyting\"], \"legendgroup\": \"Forretningsmessig tenesteyting\", \"marker\": {\"color\": \"#FF6692\", \"size\": [5100.0], \"sizemode\": \"area\", \"sizeref\": 4.32, \"symbol\": \"circle\"}, \"mode\": \"markers\", \"name\": \"Forretningsmessig tenesteyting\", \"orientation\": \"v\", \"showlegend\": true, \"x\": [3.5], \"xaxis\": \"x\", \"y\": [125], \"yaxis\": \"y\", \"type\": \"scatter\"}, {\"hovertemplate\": \"<b>%{hovertext}</b><br><br>n\\u00e6ring (SN2007)=Offentleg administrasjon og forsvar, og trygdeordningar underordna offentleg forvalting<br>kvartal=2016K2<br>Ledige stillingar (prosent)=%{x}<br>Sysselsatte=%{y}<br>Ledige stillingar=%{marker.size}<extra></extra>\", \"hovertext\": [\"Offentleg administrasjon og forsvar, og trygdeordningar underordna offentleg forvalting\"], \"ids\": [\"Offentleg administrasjon og forsvar, og trygdeordningar underordna offentleg forvalting\"], \"legendgroup\": \"Offentleg administrasjon og forsvar, og trygdeordningar underordna offentleg forvalting\", \"marker\": {\"color\": \"#B6E880\", \"size\": [3200.0], \"sizemode\": \"area\", \"sizeref\": 4.32, \"symbol\": \"circle\"}, \"mode\": \"markers\", \"name\": \"Offentleg administrasjon og forsvar, og trygdeordningar underordna offentleg forvalting\", \"orientation\": \"v\", \"showlegend\": true, \"x\": [1.7], \"xaxis\": \"x\", \"y\": [172], \"yaxis\": \"y\", \"type\": \"scatter\"}, {\"hovertemplate\": \"<b>%{hovertext}</b><br><br>n\\u00e6ring (SN2007)=Undervisning<br>kvartal=2016K2<br>Ledige stillingar (prosent)=%{x}<br>Sysselsatte=%{y}<br>Ledige stillingar=%{marker.size}<extra></extra>\", \"hovertext\": [\"Undervisning\"], \"ids\": [\"Undervisning\"], \"legendgroup\": \"Undervisning\", \"marker\": {\"color\": \"#FF97FF\", \"size\": [5200.0], \"sizemode\": \"area\", \"sizeref\": 4.32, \"symbol\": \"circle\"}, \"mode\": \"markers\", \"name\": \"Undervisning\", \"orientation\": \"v\", \"showlegend\": true, \"x\": [2.1], \"xaxis\": \"x\", \"y\": [228], \"yaxis\": \"y\", \"type\": \"scatter\"}, {\"hovertemplate\": \"<b>%{hovertext}</b><br><br>n\\u00e6ring (SN2007)=Kulturell verksemd, underhaldning og fritidsaktivitetar<br>kvartal=2016K2<br>Ledige stillingar (prosent)=%{x}<br>Sysselsatte=%{y}<br>Ledige stillingar=%{marker.size}<extra></extra>\", \"hovertext\": [\"Kulturell verksemd, underhaldning og fritidsaktivitetar\"], \"ids\": [\"Kulturell verksemd, underhaldning og fritidsaktivitetar\"], \"legendgroup\": \"Kulturell verksemd, underhaldning og fritidsaktivitetar\", \"marker\": {\"color\": \"#FECB52\", \"size\": [700.0], \"sizemode\": \"area\", \"sizeref\": 4.32, \"symbol\": \"circle\"}, \"mode\": \"markers\", \"name\": \"Kulturell verksemd, underhaldning og fritidsaktivitetar\", \"orientation\": \"v\", \"showlegend\": true, \"x\": [1.4], \"xaxis\": \"x\", \"y\": [62], \"yaxis\": \"y\", \"type\": \"scatter\"}], \"name\": \"2016K2\"}, {\"data\": [{\"hovertemplate\": \"<b>%{hovertext}</b><br><br>n\\u00e6ring (SN2007)=Bergverksdrift og utvinning<br>kvartal=2016K3<br>Ledige stillingar (prosent)=%{x}<br>Sysselsatte=%{y}<br>Ledige stillingar=%{marker.size}<extra></extra>\", \"hovertext\": [\"Bergverksdrift og utvinning\"], \"ids\": [\"Bergverksdrift og utvinning\"], \"legendgroup\": \"Bergverksdrift og utvinning\", \"marker\": {\"color\": \"#636efa\", \"size\": [300.0], \"sizemode\": \"area\", \"sizeref\": 4.32, \"symbol\": \"circle\"}, \"mode\": \"markers\", \"name\": \"Bergverksdrift og utvinning\", \"orientation\": \"v\", \"showlegend\": true, \"x\": [0.5], \"xaxis\": \"x\", \"y\": [50], \"yaxis\": \"y\", \"type\": \"scatter\"}, {\"hovertemplate\": \"<b>%{hovertext}</b><br><br>n\\u00e6ring (SN2007)=Byggje- og anleggsverksemd<br>kvartal=2016K3<br>Ledige stillingar (prosent)=%{x}<br>Sysselsatte=%{y}<br>Ledige stillingar=%{marker.size}<extra></extra>\", \"hovertext\": [\"Byggje- og anleggsverksemd\"], \"ids\": [\"Byggje- og anleggsverksemd\"], \"legendgroup\": \"Byggje- og anleggsverksemd\", \"marker\": {\"color\": \"#EF553B\", \"size\": [3900.0], \"sizemode\": \"area\", \"sizeref\": 4.32, \"symbol\": \"circle\"}, \"mode\": \"markers\", \"name\": \"Byggje- og anleggsverksemd\", \"orientation\": \"v\", \"showlegend\": true, \"x\": [1.8], \"xaxis\": \"x\", \"y\": [206], \"yaxis\": \"y\", \"type\": \"scatter\"}, {\"hovertemplate\": \"<b>%{hovertext}</b><br><br>n\\u00e6ring (SN2007)=Informasjon og kommunikasjon<br>kvartal=2016K3<br>Ledige stillingar (prosent)=%{x}<br>Sysselsatte=%{y}<br>Ledige stillingar=%{marker.size}<extra></extra>\", \"hovertext\": [\"Informasjon og kommunikasjon\"], \"ids\": [\"Informasjon og kommunikasjon\"], \"legendgroup\": \"Informasjon og kommunikasjon\", \"marker\": {\"color\": \"#00cc96\", \"size\": [2700.0], \"sizemode\": \"area\", \"sizeref\": 4.32, \"symbol\": \"circle\"}, \"mode\": \"markers\", \"name\": \"Informasjon og kommunikasjon\", \"orientation\": \"v\", \"showlegend\": true, \"x\": [3.0], \"xaxis\": \"x\", \"y\": [95], \"yaxis\": \"y\", \"type\": \"scatter\"}, {\"hovertemplate\": \"<b>%{hovertext}</b><br><br>n\\u00e6ring (SN2007)=Finansierings- og forsikringsverksemd<br>kvartal=2016K3<br>Ledige stillingar (prosent)=%{x}<br>Sysselsatte=%{y}<br>Ledige stillingar=%{marker.size}<extra></extra>\", \"hovertext\": [\"Finansierings- og forsikringsverksemd\"], \"ids\": [\"Finansierings- og forsikringsverksemd\"], \"legendgroup\": \"Finansierings- og forsikringsverksemd\", \"marker\": {\"color\": \"#ab63fa\", \"size\": [800.0], \"sizemode\": \"area\", \"sizeref\": 4.32, \"symbol\": \"circle\"}, \"mode\": \"markers\", \"name\": \"Finansierings- og forsikringsverksemd\", \"orientation\": \"v\", \"showlegend\": true, \"x\": [1.6], \"xaxis\": \"x\", \"y\": [46], \"yaxis\": \"y\", \"type\": \"scatter\"}, {\"hovertemplate\": \"<b>%{hovertext}</b><br><br>n\\u00e6ring (SN2007)=Omsetning og drift av fast eigedom<br>kvartal=2016K3<br>Ledige stillingar (prosent)=%{x}<br>Sysselsatte=%{y}<br>Ledige stillingar=%{marker.size}<extra></extra>\", \"hovertext\": [\"Omsetning og drift av fast eigedom\"], \"ids\": [\"Omsetning og drift av fast eigedom\"], \"legendgroup\": \"Omsetning og drift av fast eigedom\", \"marker\": {\"color\": \"#FFA15A\", \"size\": [1100.0], \"sizemode\": \"area\", \"sizeref\": 4.32, \"symbol\": \"circle\"}, \"mode\": \"markers\", \"name\": \"Omsetning og drift av fast eigedom\", \"orientation\": \"v\", \"showlegend\": true, \"x\": [4.0], \"xaxis\": \"x\", \"y\": [23], \"yaxis\": \"y\", \"type\": \"scatter\"}, {\"hovertemplate\": \"<b>%{hovertext}</b><br><br>n\\u00e6ring (SN2007)=Fagleg, vitskapleg og teknisk tenesteyting<br>kvartal=2016K3<br>Ledige stillingar (prosent)=%{x}<br>Sysselsatte=%{y}<br>Ledige stillingar=%{marker.size}<extra></extra>\", \"hovertext\": [\"Fagleg, vitskapleg og teknisk tenesteyting\"], \"ids\": [\"Fagleg, vitskapleg og teknisk tenesteyting\"], \"legendgroup\": \"Fagleg, vitskapleg og teknisk tenesteyting\", \"marker\": {\"color\": \"#19d3f3\", \"size\": [3300.0], \"sizemode\": \"area\", \"sizeref\": 4.32, \"symbol\": \"circle\"}, \"mode\": \"markers\", \"name\": \"Fagleg, vitskapleg og teknisk tenesteyting\", \"orientation\": \"v\", \"showlegend\": true, \"x\": [2.5], \"xaxis\": \"x\", \"y\": [156], \"yaxis\": \"y\", \"type\": \"scatter\"}, {\"hovertemplate\": \"<b>%{hovertext}</b><br><br>n\\u00e6ring (SN2007)=Forretningsmessig tenesteyting<br>kvartal=2016K3<br>Ledige stillingar (prosent)=%{x}<br>Sysselsatte=%{y}<br>Ledige stillingar=%{marker.size}<extra></extra>\", \"hovertext\": [\"Forretningsmessig tenesteyting\"], \"ids\": [\"Forretningsmessig tenesteyting\"], \"legendgroup\": \"Forretningsmessig tenesteyting\", \"marker\": {\"color\": \"#FF6692\", \"size\": [5000.0], \"sizemode\": \"area\", \"sizeref\": 4.32, \"symbol\": \"circle\"}, \"mode\": \"markers\", \"name\": \"Forretningsmessig tenesteyting\", \"orientation\": \"v\", \"showlegend\": true, \"x\": [3.3], \"xaxis\": \"x\", \"y\": [125], \"yaxis\": \"y\", \"type\": \"scatter\"}, {\"hovertemplate\": \"<b>%{hovertext}</b><br><br>n\\u00e6ring (SN2007)=Offentleg administrasjon og forsvar, og trygdeordningar underordna offentleg forvalting<br>kvartal=2016K3<br>Ledige stillingar (prosent)=%{x}<br>Sysselsatte=%{y}<br>Ledige stillingar=%{marker.size}<extra></extra>\", \"hovertext\": [\"Offentleg administrasjon og forsvar, og trygdeordningar underordna offentleg forvalting\"], \"ids\": [\"Offentleg administrasjon og forsvar, og trygdeordningar underordna offentleg forvalting\"], \"legendgroup\": \"Offentleg administrasjon og forsvar, og trygdeordningar underordna offentleg forvalting\", \"marker\": {\"color\": \"#B6E880\", \"size\": [2700.0], \"sizemode\": \"area\", \"sizeref\": 4.32, \"symbol\": \"circle\"}, \"mode\": \"markers\", \"name\": \"Offentleg administrasjon og forsvar, og trygdeordningar underordna offentleg forvalting\", \"orientation\": \"v\", \"showlegend\": true, \"x\": [1.5], \"xaxis\": \"x\", \"y\": [181], \"yaxis\": \"y\", \"type\": \"scatter\"}, {\"hovertemplate\": \"<b>%{hovertext}</b><br><br>n\\u00e6ring (SN2007)=Undervisning<br>kvartal=2016K3<br>Ledige stillingar (prosent)=%{x}<br>Sysselsatte=%{y}<br>Ledige stillingar=%{marker.size}<extra></extra>\", \"hovertext\": [\"Undervisning\"], \"ids\": [\"Undervisning\"], \"legendgroup\": \"Undervisning\", \"marker\": {\"color\": \"#FF97FF\", \"size\": [2000.0], \"sizemode\": \"area\", \"sizeref\": 4.32, \"symbol\": \"circle\"}, \"mode\": \"markers\", \"name\": \"Undervisning\", \"orientation\": \"v\", \"showlegend\": true, \"x\": [0.9], \"xaxis\": \"x\", \"y\": [218], \"yaxis\": \"y\", \"type\": \"scatter\"}, {\"hovertemplate\": \"<b>%{hovertext}</b><br><br>n\\u00e6ring (SN2007)=Kulturell verksemd, underhaldning og fritidsaktivitetar<br>kvartal=2016K3<br>Ledige stillingar (prosent)=%{x}<br>Sysselsatte=%{y}<br>Ledige stillingar=%{marker.size}<extra></extra>\", \"hovertext\": [\"Kulturell verksemd, underhaldning og fritidsaktivitetar\"], \"ids\": [\"Kulturell verksemd, underhaldning og fritidsaktivitetar\"], \"legendgroup\": \"Kulturell verksemd, underhaldning og fritidsaktivitetar\", \"marker\": {\"color\": \"#FECB52\", \"size\": [700.0], \"sizemode\": \"area\", \"sizeref\": 4.32, \"symbol\": \"circle\"}, \"mode\": \"markers\", \"name\": \"Kulturell verksemd, underhaldning og fritidsaktivitetar\", \"orientation\": \"v\", \"showlegend\": true, \"x\": [1.5], \"xaxis\": \"x\", \"y\": [57], \"yaxis\": \"y\", \"type\": \"scatter\"}], \"name\": \"2016K3\"}, {\"data\": [{\"hovertemplate\": \"<b>%{hovertext}</b><br><br>n\\u00e6ring (SN2007)=Bergverksdrift og utvinning<br>kvartal=2016K4<br>Ledige stillingar (prosent)=%{x}<br>Sysselsatte=%{y}<br>Ledige stillingar=%{marker.size}<extra></extra>\", \"hovertext\": [\"Bergverksdrift og utvinning\"], \"ids\": [\"Bergverksdrift og utvinning\"], \"legendgroup\": \"Bergverksdrift og utvinning\", \"marker\": {\"color\": \"#636efa\", \"size\": [500.0], \"sizemode\": \"area\", \"sizeref\": 4.32, \"symbol\": \"circle\"}, \"mode\": \"markers\", \"name\": \"Bergverksdrift og utvinning\", \"orientation\": \"v\", \"showlegend\": true, \"x\": [1.0], \"xaxis\": \"x\", \"y\": [49], \"yaxis\": \"y\", \"type\": \"scatter\"}, {\"hovertemplate\": \"<b>%{hovertext}</b><br><br>n\\u00e6ring (SN2007)=Byggje- og anleggsverksemd<br>kvartal=2016K4<br>Ledige stillingar (prosent)=%{x}<br>Sysselsatte=%{y}<br>Ledige stillingar=%{marker.size}<extra></extra>\", \"hovertext\": [\"Byggje- og anleggsverksemd\"], \"ids\": [\"Byggje- og anleggsverksemd\"], \"legendgroup\": \"Byggje- og anleggsverksemd\", \"marker\": {\"color\": \"#EF553B\", \"size\": [3800.0], \"sizemode\": \"area\", \"sizeref\": 4.32, \"symbol\": \"circle\"}, \"mode\": \"markers\", \"name\": \"Byggje- og anleggsverksemd\", \"orientation\": \"v\", \"showlegend\": true, \"x\": [1.7], \"xaxis\": \"x\", \"y\": [201], \"yaxis\": \"y\", \"type\": \"scatter\"}, {\"hovertemplate\": \"<b>%{hovertext}</b><br><br>n\\u00e6ring (SN2007)=Informasjon og kommunikasjon<br>kvartal=2016K4<br>Ledige stillingar (prosent)=%{x}<br>Sysselsatte=%{y}<br>Ledige stillingar=%{marker.size}<extra></extra>\", \"hovertext\": [\"Informasjon og kommunikasjon\"], \"ids\": [\"Informasjon og kommunikasjon\"], \"legendgroup\": \"Informasjon og kommunikasjon\", \"marker\": {\"color\": \"#00cc96\", \"size\": [3000.0], \"sizemode\": \"area\", \"sizeref\": 4.32, \"symbol\": \"circle\"}, \"mode\": \"markers\", \"name\": \"Informasjon og kommunikasjon\", \"orientation\": \"v\", \"showlegend\": true, \"x\": [3.3], \"xaxis\": \"x\", \"y\": [98], \"yaxis\": \"y\", \"type\": \"scatter\"}, {\"hovertemplate\": \"<b>%{hovertext}</b><br><br>n\\u00e6ring (SN2007)=Finansierings- og forsikringsverksemd<br>kvartal=2016K4<br>Ledige stillingar (prosent)=%{x}<br>Sysselsatte=%{y}<br>Ledige stillingar=%{marker.size}<extra></extra>\", \"hovertext\": [\"Finansierings- og forsikringsverksemd\"], \"ids\": [\"Finansierings- og forsikringsverksemd\"], \"legendgroup\": \"Finansierings- og forsikringsverksemd\", \"marker\": {\"color\": \"#ab63fa\", \"size\": [600.0], \"sizemode\": \"area\", \"sizeref\": 4.32, \"symbol\": \"circle\"}, \"mode\": \"markers\", \"name\": \"Finansierings- og forsikringsverksemd\", \"orientation\": \"v\", \"showlegend\": true, \"x\": [1.3], \"xaxis\": \"x\", \"y\": [45], \"yaxis\": \"y\", \"type\": \"scatter\"}, {\"hovertemplate\": \"<b>%{hovertext}</b><br><br>n\\u00e6ring (SN2007)=Omsetning og drift av fast eigedom<br>kvartal=2016K4<br>Ledige stillingar (prosent)=%{x}<br>Sysselsatte=%{y}<br>Ledige stillingar=%{marker.size}<extra></extra>\", \"hovertext\": [\"Omsetning og drift av fast eigedom\"], \"ids\": [\"Omsetning og drift av fast eigedom\"], \"legendgroup\": \"Omsetning og drift av fast eigedom\", \"marker\": {\"color\": \"#FFA15A\", \"size\": [500.0], \"sizemode\": \"area\", \"sizeref\": 4.32, \"symbol\": \"circle\"}, \"mode\": \"markers\", \"name\": \"Omsetning og drift av fast eigedom\", \"orientation\": \"v\", \"showlegend\": true, \"x\": [1.8], \"xaxis\": \"x\", \"y\": [20], \"yaxis\": \"y\", \"type\": \"scatter\"}, {\"hovertemplate\": \"<b>%{hovertext}</b><br><br>n\\u00e6ring (SN2007)=Fagleg, vitskapleg og teknisk tenesteyting<br>kvartal=2016K4<br>Ledige stillingar (prosent)=%{x}<br>Sysselsatte=%{y}<br>Ledige stillingar=%{marker.size}<extra></extra>\", \"hovertext\": [\"Fagleg, vitskapleg og teknisk tenesteyting\"], \"ids\": [\"Fagleg, vitskapleg og teknisk tenesteyting\"], \"legendgroup\": \"Fagleg, vitskapleg og teknisk tenesteyting\", \"marker\": {\"color\": \"#19d3f3\", \"size\": [2900.0], \"sizemode\": \"area\", \"sizeref\": 4.32, \"symbol\": \"circle\"}, \"mode\": \"markers\", \"name\": \"Fagleg, vitskapleg og teknisk tenesteyting\", \"orientation\": \"v\", \"showlegend\": true, \"x\": [2.1], \"xaxis\": \"x\", \"y\": [157], \"yaxis\": \"y\", \"type\": \"scatter\"}, {\"hovertemplate\": \"<b>%{hovertext}</b><br><br>n\\u00e6ring (SN2007)=Forretningsmessig tenesteyting<br>kvartal=2016K4<br>Ledige stillingar (prosent)=%{x}<br>Sysselsatte=%{y}<br>Ledige stillingar=%{marker.size}<extra></extra>\", \"hovertext\": [\"Forretningsmessig tenesteyting\"], \"ids\": [\"Forretningsmessig tenesteyting\"], \"legendgroup\": \"Forretningsmessig tenesteyting\", \"marker\": {\"color\": \"#FF6692\", \"size\": [5300.0], \"sizemode\": \"area\", \"sizeref\": 4.32, \"symbol\": \"circle\"}, \"mode\": \"markers\", \"name\": \"Forretningsmessig tenesteyting\", \"orientation\": \"v\", \"showlegend\": true, \"x\": [3.5], \"xaxis\": \"x\", \"y\": [118], \"yaxis\": \"y\", \"type\": \"scatter\"}, {\"hovertemplate\": \"<b>%{hovertext}</b><br><br>n\\u00e6ring (SN2007)=Offentleg administrasjon og forsvar, og trygdeordningar underordna offentleg forvalting<br>kvartal=2016K4<br>Ledige stillingar (prosent)=%{x}<br>Sysselsatte=%{y}<br>Ledige stillingar=%{marker.size}<extra></extra>\", \"hovertext\": [\"Offentleg administrasjon og forsvar, og trygdeordningar underordna offentleg forvalting\"], \"ids\": [\"Offentleg administrasjon og forsvar, og trygdeordningar underordna offentleg forvalting\"], \"legendgroup\": \"Offentleg administrasjon og forsvar, og trygdeordningar underordna offentleg forvalting\", \"marker\": {\"color\": \"#B6E880\", \"size\": [3400.0], \"sizemode\": \"area\", \"sizeref\": 4.32, \"symbol\": \"circle\"}, \"mode\": \"markers\", \"name\": \"Offentleg administrasjon og forsvar, og trygdeordningar underordna offentleg forvalting\", \"orientation\": \"v\", \"showlegend\": true, \"x\": [1.8], \"xaxis\": \"x\", \"y\": [184], \"yaxis\": \"y\", \"type\": \"scatter\"}, {\"hovertemplate\": \"<b>%{hovertext}</b><br><br>n\\u00e6ring (SN2007)=Undervisning<br>kvartal=2016K4<br>Ledige stillingar (prosent)=%{x}<br>Sysselsatte=%{y}<br>Ledige stillingar=%{marker.size}<extra></extra>\", \"hovertext\": [\"Undervisning\"], \"ids\": [\"Undervisning\"], \"legendgroup\": \"Undervisning\", \"marker\": {\"color\": \"#FF97FF\", \"size\": [2900.0], \"sizemode\": \"area\", \"sizeref\": 4.32, \"symbol\": \"circle\"}, \"mode\": \"markers\", \"name\": \"Undervisning\", \"orientation\": \"v\", \"showlegend\": true, \"x\": [1.2], \"xaxis\": \"x\", \"y\": [231], \"yaxis\": \"y\", \"type\": \"scatter\"}, {\"hovertemplate\": \"<b>%{hovertext}</b><br><br>n\\u00e6ring (SN2007)=Kulturell verksemd, underhaldning og fritidsaktivitetar<br>kvartal=2016K4<br>Ledige stillingar (prosent)=%{x}<br>Sysselsatte=%{y}<br>Ledige stillingar=%{marker.size}<extra></extra>\", \"hovertext\": [\"Kulturell verksemd, underhaldning og fritidsaktivitetar\"], \"ids\": [\"Kulturell verksemd, underhaldning og fritidsaktivitetar\"], \"legendgroup\": \"Kulturell verksemd, underhaldning og fritidsaktivitetar\", \"marker\": {\"color\": \"#FECB52\", \"size\": [900.0], \"sizemode\": \"area\", \"sizeref\": 4.32, \"symbol\": \"circle\"}, \"mode\": \"markers\", \"name\": \"Kulturell verksemd, underhaldning og fritidsaktivitetar\", \"orientation\": \"v\", \"showlegend\": true, \"x\": [1.8], \"xaxis\": \"x\", \"y\": [55], \"yaxis\": \"y\", \"type\": \"scatter\"}], \"name\": \"2016K4\"}, {\"data\": [{\"hovertemplate\": \"<b>%{hovertext}</b><br><br>n\\u00e6ring (SN2007)=Bergverksdrift og utvinning<br>kvartal=2017K1<br>Ledige stillingar (prosent)=%{x}<br>Sysselsatte=%{y}<br>Ledige stillingar=%{marker.size}<extra></extra>\", \"hovertext\": [\"Bergverksdrift og utvinning\"], \"ids\": [\"Bergverksdrift og utvinning\"], \"legendgroup\": \"Bergverksdrift og utvinning\", \"marker\": {\"color\": \"#636efa\", \"size\": [400.0], \"sizemode\": \"area\", \"sizeref\": 4.32, \"symbol\": \"circle\"}, \"mode\": \"markers\", \"name\": \"Bergverksdrift og utvinning\", \"orientation\": \"v\", \"showlegend\": true, \"x\": [0.7], \"xaxis\": \"x\", \"y\": [48], \"yaxis\": \"y\", \"type\": \"scatter\"}, {\"hovertemplate\": \"<b>%{hovertext}</b><br><br>n\\u00e6ring (SN2007)=Byggje- og anleggsverksemd<br>kvartal=2017K1<br>Ledige stillingar (prosent)=%{x}<br>Sysselsatte=%{y}<br>Ledige stillingar=%{marker.size}<extra></extra>\", \"hovertext\": [\"Byggje- og anleggsverksemd\"], \"ids\": [\"Byggje- og anleggsverksemd\"], \"legendgroup\": \"Byggje- og anleggsverksemd\", \"marker\": {\"color\": \"#EF553B\", \"size\": [3800.0], \"sizemode\": \"area\", \"sizeref\": 4.32, \"symbol\": \"circle\"}, \"mode\": \"markers\", \"name\": \"Byggje- og anleggsverksemd\", \"orientation\": \"v\", \"showlegend\": true, \"x\": [1.8], \"xaxis\": \"x\", \"y\": [206], \"yaxis\": \"y\", \"type\": \"scatter\"}, {\"hovertemplate\": \"<b>%{hovertext}</b><br><br>n\\u00e6ring (SN2007)=Informasjon og kommunikasjon<br>kvartal=2017K1<br>Ledige stillingar (prosent)=%{x}<br>Sysselsatte=%{y}<br>Ledige stillingar=%{marker.size}<extra></extra>\", \"hovertext\": [\"Informasjon og kommunikasjon\"], \"ids\": [\"Informasjon og kommunikasjon\"], \"legendgroup\": \"Informasjon og kommunikasjon\", \"marker\": {\"color\": \"#00cc96\", \"size\": [2900.0], \"sizemode\": \"area\", \"sizeref\": 4.32, \"symbol\": \"circle\"}, \"mode\": \"markers\", \"name\": \"Informasjon og kommunikasjon\", \"orientation\": \"v\", \"showlegend\": true, \"x\": [3.2], \"xaxis\": \"x\", \"y\": [100], \"yaxis\": \"y\", \"type\": \"scatter\"}, {\"hovertemplate\": \"<b>%{hovertext}</b><br><br>n\\u00e6ring (SN2007)=Finansierings- og forsikringsverksemd<br>kvartal=2017K1<br>Ledige stillingar (prosent)=%{x}<br>Sysselsatte=%{y}<br>Ledige stillingar=%{marker.size}<extra></extra>\", \"hovertext\": [\"Finansierings- og forsikringsverksemd\"], \"ids\": [\"Finansierings- og forsikringsverksemd\"], \"legendgroup\": \"Finansierings- og forsikringsverksemd\", \"marker\": {\"color\": \"#ab63fa\", \"size\": [800.0], \"sizemode\": \"area\", \"sizeref\": 4.32, \"symbol\": \"circle\"}, \"mode\": \"markers\", \"name\": \"Finansierings- og forsikringsverksemd\", \"orientation\": \"v\", \"showlegend\": true, \"x\": [1.8], \"xaxis\": \"x\", \"y\": [45], \"yaxis\": \"y\", \"type\": \"scatter\"}, {\"hovertemplate\": \"<b>%{hovertext}</b><br><br>n\\u00e6ring (SN2007)=Omsetning og drift av fast eigedom<br>kvartal=2017K1<br>Ledige stillingar (prosent)=%{x}<br>Sysselsatte=%{y}<br>Ledige stillingar=%{marker.size}<extra></extra>\", \"hovertext\": [\"Omsetning og drift av fast eigedom\"], \"ids\": [\"Omsetning og drift av fast eigedom\"], \"legendgroup\": \"Omsetning og drift av fast eigedom\", \"marker\": {\"color\": \"#FFA15A\", \"size\": [400.0], \"sizemode\": \"area\", \"sizeref\": 4.32, \"symbol\": \"circle\"}, \"mode\": \"markers\", \"name\": \"Omsetning og drift av fast eigedom\", \"orientation\": \"v\", \"showlegend\": true, \"x\": [1.6], \"xaxis\": \"x\", \"y\": [20], \"yaxis\": \"y\", \"type\": \"scatter\"}, {\"hovertemplate\": \"<b>%{hovertext}</b><br><br>n\\u00e6ring (SN2007)=Fagleg, vitskapleg og teknisk tenesteyting<br>kvartal=2017K1<br>Ledige stillingar (prosent)=%{x}<br>Sysselsatte=%{y}<br>Ledige stillingar=%{marker.size}<extra></extra>\", \"hovertext\": [\"Fagleg, vitskapleg og teknisk tenesteyting\"], \"ids\": [\"Fagleg, vitskapleg og teknisk tenesteyting\"], \"legendgroup\": \"Fagleg, vitskapleg og teknisk tenesteyting\", \"marker\": {\"color\": \"#19d3f3\", \"size\": [3300.0], \"sizemode\": \"area\", \"sizeref\": 4.32, \"symbol\": \"circle\"}, \"mode\": \"markers\", \"name\": \"Fagleg, vitskapleg og teknisk tenesteyting\", \"orientation\": \"v\", \"showlegend\": true, \"x\": [2.5], \"xaxis\": \"x\", \"y\": [157], \"yaxis\": \"y\", \"type\": \"scatter\"}, {\"hovertemplate\": \"<b>%{hovertext}</b><br><br>n\\u00e6ring (SN2007)=Forretningsmessig tenesteyting<br>kvartal=2017K1<br>Ledige stillingar (prosent)=%{x}<br>Sysselsatte=%{y}<br>Ledige stillingar=%{marker.size}<extra></extra>\", \"hovertext\": [\"Forretningsmessig tenesteyting\"], \"ids\": [\"Forretningsmessig tenesteyting\"], \"legendgroup\": \"Forretningsmessig tenesteyting\", \"marker\": {\"color\": \"#FF6692\", \"size\": [6400.0], \"sizemode\": \"area\", \"sizeref\": 4.32, \"symbol\": \"circle\"}, \"mode\": \"markers\", \"name\": \"Forretningsmessig tenesteyting\", \"orientation\": \"v\", \"showlegend\": true, \"x\": [4.4], \"xaxis\": \"x\", \"y\": [116], \"yaxis\": \"y\", \"type\": \"scatter\"}, {\"hovertemplate\": \"<b>%{hovertext}</b><br><br>n\\u00e6ring (SN2007)=Offentleg administrasjon og forsvar, og trygdeordningar underordna offentleg forvalting<br>kvartal=2017K1<br>Ledige stillingar (prosent)=%{x}<br>Sysselsatte=%{y}<br>Ledige stillingar=%{marker.size}<extra></extra>\", \"hovertext\": [\"Offentleg administrasjon og forsvar, og trygdeordningar underordna offentleg forvalting\"], \"ids\": [\"Offentleg administrasjon og forsvar, og trygdeordningar underordna offentleg forvalting\"], \"legendgroup\": \"Offentleg administrasjon og forsvar, og trygdeordningar underordna offentleg forvalting\", \"marker\": {\"color\": \"#B6E880\", \"size\": [4000.0], \"sizemode\": \"area\", \"sizeref\": 4.32, \"symbol\": \"circle\"}, \"mode\": \"markers\", \"name\": \"Offentleg administrasjon og forsvar, og trygdeordningar underordna offentleg forvalting\", \"orientation\": \"v\", \"showlegend\": true, \"x\": [2.2], \"xaxis\": \"x\", \"y\": [182], \"yaxis\": \"y\", \"type\": \"scatter\"}, {\"hovertemplate\": \"<b>%{hovertext}</b><br><br>n\\u00e6ring (SN2007)=Undervisning<br>kvartal=2017K1<br>Ledige stillingar (prosent)=%{x}<br>Sysselsatte=%{y}<br>Ledige stillingar=%{marker.size}<extra></extra>\", \"hovertext\": [\"Undervisning\"], \"ids\": [\"Undervisning\"], \"legendgroup\": \"Undervisning\", \"marker\": {\"color\": \"#FF97FF\", \"size\": [4900.0], \"sizemode\": \"area\", \"sizeref\": 4.32, \"symbol\": \"circle\"}, \"mode\": \"markers\", \"name\": \"Undervisning\", \"orientation\": \"v\", \"showlegend\": true, \"x\": [2.0], \"xaxis\": \"x\", \"y\": [223], \"yaxis\": \"y\", \"type\": \"scatter\"}, {\"hovertemplate\": \"<b>%{hovertext}</b><br><br>n\\u00e6ring (SN2007)=Kulturell verksemd, underhaldning og fritidsaktivitetar<br>kvartal=2017K1<br>Ledige stillingar (prosent)=%{x}<br>Sysselsatte=%{y}<br>Ledige stillingar=%{marker.size}<extra></extra>\", \"hovertext\": [\"Kulturell verksemd, underhaldning og fritidsaktivitetar\"], \"ids\": [\"Kulturell verksemd, underhaldning og fritidsaktivitetar\"], \"legendgroup\": \"Kulturell verksemd, underhaldning og fritidsaktivitetar\", \"marker\": {\"color\": \"#FECB52\", \"size\": [1100.0], \"sizemode\": \"area\", \"sizeref\": 4.32, \"symbol\": \"circle\"}, \"mode\": \"markers\", \"name\": \"Kulturell verksemd, underhaldning og fritidsaktivitetar\", \"orientation\": \"v\", \"showlegend\": true, \"x\": [2.2], \"xaxis\": \"x\", \"y\": [52], \"yaxis\": \"y\", \"type\": \"scatter\"}], \"name\": \"2017K1\"}, {\"data\": [{\"hovertemplate\": \"<b>%{hovertext}</b><br><br>n\\u00e6ring (SN2007)=Bergverksdrift og utvinning<br>kvartal=2017K2<br>Ledige stillingar (prosent)=%{x}<br>Sysselsatte=%{y}<br>Ledige stillingar=%{marker.size}<extra></extra>\", \"hovertext\": [\"Bergverksdrift og utvinning\"], \"ids\": [\"Bergverksdrift og utvinning\"], \"legendgroup\": \"Bergverksdrift og utvinning\", \"marker\": {\"color\": \"#636efa\", \"size\": [500.0], \"sizemode\": \"area\", \"sizeref\": 4.32, \"symbol\": \"circle\"}, \"mode\": \"markers\", \"name\": \"Bergverksdrift og utvinning\", \"orientation\": \"v\", \"showlegend\": true, \"x\": [0.9], \"xaxis\": \"x\", \"y\": [53], \"yaxis\": \"y\", \"type\": \"scatter\"}, {\"hovertemplate\": \"<b>%{hovertext}</b><br><br>n\\u00e6ring (SN2007)=Byggje- og anleggsverksemd<br>kvartal=2017K2<br>Ledige stillingar (prosent)=%{x}<br>Sysselsatte=%{y}<br>Ledige stillingar=%{marker.size}<extra></extra>\", \"hovertext\": [\"Byggje- og anleggsverksemd\"], \"ids\": [\"Byggje- og anleggsverksemd\"], \"legendgroup\": \"Byggje- og anleggsverksemd\", \"marker\": {\"color\": \"#EF553B\", \"size\": [3800.0], \"sizemode\": \"area\", \"sizeref\": 4.32, \"symbol\": \"circle\"}, \"mode\": \"markers\", \"name\": \"Byggje- og anleggsverksemd\", \"orientation\": \"v\", \"showlegend\": true, \"x\": [1.7], \"xaxis\": \"x\", \"y\": [210], \"yaxis\": \"y\", \"type\": \"scatter\"}, {\"hovertemplate\": \"<b>%{hovertext}</b><br><br>n\\u00e6ring (SN2007)=Informasjon og kommunikasjon<br>kvartal=2017K2<br>Ledige stillingar (prosent)=%{x}<br>Sysselsatte=%{y}<br>Ledige stillingar=%{marker.size}<extra></extra>\", \"hovertext\": [\"Informasjon og kommunikasjon\"], \"ids\": [\"Informasjon og kommunikasjon\"], \"legendgroup\": \"Informasjon og kommunikasjon\", \"marker\": {\"color\": \"#00cc96\", \"size\": [2700.0], \"sizemode\": \"area\", \"sizeref\": 4.32, \"symbol\": \"circle\"}, \"mode\": \"markers\", \"name\": \"Informasjon og kommunikasjon\", \"orientation\": \"v\", \"showlegend\": true, \"x\": [3.0], \"xaxis\": \"x\", \"y\": [98], \"yaxis\": \"y\", \"type\": \"scatter\"}, {\"hovertemplate\": \"<b>%{hovertext}</b><br><br>n\\u00e6ring (SN2007)=Finansierings- og forsikringsverksemd<br>kvartal=2017K2<br>Ledige stillingar (prosent)=%{x}<br>Sysselsatte=%{y}<br>Ledige stillingar=%{marker.size}<extra></extra>\", \"hovertext\": [\"Finansierings- og forsikringsverksemd\"], \"ids\": [\"Finansierings- og forsikringsverksemd\"], \"legendgroup\": \"Finansierings- og forsikringsverksemd\", \"marker\": {\"color\": \"#ab63fa\", \"size\": [900.0], \"sizemode\": \"area\", \"sizeref\": 4.32, \"symbol\": \"circle\"}, \"mode\": \"markers\", \"name\": \"Finansierings- og forsikringsverksemd\", \"orientation\": \"v\", \"showlegend\": true, \"x\": [2.0], \"xaxis\": \"x\", \"y\": [48], \"yaxis\": \"y\", \"type\": \"scatter\"}, {\"hovertemplate\": \"<b>%{hovertext}</b><br><br>n\\u00e6ring (SN2007)=Omsetning og drift av fast eigedom<br>kvartal=2017K2<br>Ledige stillingar (prosent)=%{x}<br>Sysselsatte=%{y}<br>Ledige stillingar=%{marker.size}<extra></extra>\", \"hovertext\": [\"Omsetning og drift av fast eigedom\"], \"ids\": [\"Omsetning og drift av fast eigedom\"], \"legendgroup\": \"Omsetning og drift av fast eigedom\", \"marker\": {\"color\": \"#FFA15A\", \"size\": [600.0], \"sizemode\": \"area\", \"sizeref\": 4.32, \"symbol\": \"circle\"}, \"mode\": \"markers\", \"name\": \"Omsetning og drift av fast eigedom\", \"orientation\": \"v\", \"showlegend\": true, \"x\": [2.4], \"xaxis\": \"x\", \"y\": [22], \"yaxis\": \"y\", \"type\": \"scatter\"}, {\"hovertemplate\": \"<b>%{hovertext}</b><br><br>n\\u00e6ring (SN2007)=Fagleg, vitskapleg og teknisk tenesteyting<br>kvartal=2017K2<br>Ledige stillingar (prosent)=%{x}<br>Sysselsatte=%{y}<br>Ledige stillingar=%{marker.size}<extra></extra>\", \"hovertext\": [\"Fagleg, vitskapleg og teknisk tenesteyting\"], \"ids\": [\"Fagleg, vitskapleg og teknisk tenesteyting\"], \"legendgroup\": \"Fagleg, vitskapleg og teknisk tenesteyting\", \"marker\": {\"color\": \"#19d3f3\", \"size\": [4200.0], \"sizemode\": \"area\", \"sizeref\": 4.32, \"symbol\": \"circle\"}, \"mode\": \"markers\", \"name\": \"Fagleg, vitskapleg og teknisk tenesteyting\", \"orientation\": \"v\", \"showlegend\": true, \"x\": [3.1], \"xaxis\": \"x\", \"y\": [152], \"yaxis\": \"y\", \"type\": \"scatter\"}, {\"hovertemplate\": \"<b>%{hovertext}</b><br><br>n\\u00e6ring (SN2007)=Forretningsmessig tenesteyting<br>kvartal=2017K2<br>Ledige stillingar (prosent)=%{x}<br>Sysselsatte=%{y}<br>Ledige stillingar=%{marker.size}<extra></extra>\", \"hovertext\": [\"Forretningsmessig tenesteyting\"], \"ids\": [\"Forretningsmessig tenesteyting\"], \"legendgroup\": \"Forretningsmessig tenesteyting\", \"marker\": {\"color\": \"#FF6692\", \"size\": [6300.0], \"sizemode\": \"area\", \"sizeref\": 4.32, \"symbol\": \"circle\"}, \"mode\": \"markers\", \"name\": \"Forretningsmessig tenesteyting\", \"orientation\": \"v\", \"showlegend\": true, \"x\": [4.1], \"xaxis\": \"x\", \"y\": [122], \"yaxis\": \"y\", \"type\": \"scatter\"}, {\"hovertemplate\": \"<b>%{hovertext}</b><br><br>n\\u00e6ring (SN2007)=Offentleg administrasjon og forsvar, og trygdeordningar underordna offentleg forvalting<br>kvartal=2017K2<br>Ledige stillingar (prosent)=%{x}<br>Sysselsatte=%{y}<br>Ledige stillingar=%{marker.size}<extra></extra>\", \"hovertext\": [\"Offentleg administrasjon og forsvar, og trygdeordningar underordna offentleg forvalting\"], \"ids\": [\"Offentleg administrasjon og forsvar, og trygdeordningar underordna offentleg forvalting\"], \"legendgroup\": \"Offentleg administrasjon og forsvar, og trygdeordningar underordna offentleg forvalting\", \"marker\": {\"color\": \"#B6E880\", \"size\": [3400.0], \"sizemode\": \"area\", \"sizeref\": 4.32, \"symbol\": \"circle\"}, \"mode\": \"markers\", \"name\": \"Offentleg administrasjon og forsvar, og trygdeordningar underordna offentleg forvalting\", \"orientation\": \"v\", \"showlegend\": true, \"x\": [1.8], \"xaxis\": \"x\", \"y\": [186], \"yaxis\": \"y\", \"type\": \"scatter\"}, {\"hovertemplate\": \"<b>%{hovertext}</b><br><br>n\\u00e6ring (SN2007)=Undervisning<br>kvartal=2017K2<br>Ledige stillingar (prosent)=%{x}<br>Sysselsatte=%{y}<br>Ledige stillingar=%{marker.size}<extra></extra>\", \"hovertext\": [\"Undervisning\"], \"ids\": [\"Undervisning\"], \"legendgroup\": \"Undervisning\", \"marker\": {\"color\": \"#FF97FF\", \"size\": [6700.0], \"sizemode\": \"area\", \"sizeref\": 4.32, \"symbol\": \"circle\"}, \"mode\": \"markers\", \"name\": \"Undervisning\", \"orientation\": \"v\", \"showlegend\": true, \"x\": [2.7], \"xaxis\": \"x\", \"y\": [218], \"yaxis\": \"y\", \"type\": \"scatter\"}, {\"hovertemplate\": \"<b>%{hovertext}</b><br><br>n\\u00e6ring (SN2007)=Kulturell verksemd, underhaldning og fritidsaktivitetar<br>kvartal=2017K2<br>Ledige stillingar (prosent)=%{x}<br>Sysselsatte=%{y}<br>Ledige stillingar=%{marker.size}<extra></extra>\", \"hovertext\": [\"Kulturell verksemd, underhaldning og fritidsaktivitetar\"], \"ids\": [\"Kulturell verksemd, underhaldning og fritidsaktivitetar\"], \"legendgroup\": \"Kulturell verksemd, underhaldning og fritidsaktivitetar\", \"marker\": {\"color\": \"#FECB52\", \"size\": [1100.0], \"sizemode\": \"area\", \"sizeref\": 4.32, \"symbol\": \"circle\"}, \"mode\": \"markers\", \"name\": \"Kulturell verksemd, underhaldning og fritidsaktivitetar\", \"orientation\": \"v\", \"showlegend\": true, \"x\": [2.1], \"xaxis\": \"x\", \"y\": [58], \"yaxis\": \"y\", \"type\": \"scatter\"}], \"name\": \"2017K2\"}, {\"data\": [{\"hovertemplate\": \"<b>%{hovertext}</b><br><br>n\\u00e6ring (SN2007)=Bergverksdrift og utvinning<br>kvartal=2017K3<br>Ledige stillingar (prosent)=%{x}<br>Sysselsatte=%{y}<br>Ledige stillingar=%{marker.size}<extra></extra>\", \"hovertext\": [\"Bergverksdrift og utvinning\"], \"ids\": [\"Bergverksdrift og utvinning\"], \"legendgroup\": \"Bergverksdrift og utvinning\", \"marker\": {\"color\": \"#636efa\", \"size\": [600.0], \"sizemode\": \"area\", \"sizeref\": 4.32, \"symbol\": \"circle\"}, \"mode\": \"markers\", \"name\": \"Bergverksdrift og utvinning\", \"orientation\": \"v\", \"showlegend\": true, \"x\": [1.0], \"xaxis\": \"x\", \"y\": [55], \"yaxis\": \"y\", \"type\": \"scatter\"}, {\"hovertemplate\": \"<b>%{hovertext}</b><br><br>n\\u00e6ring (SN2007)=Byggje- og anleggsverksemd<br>kvartal=2017K3<br>Ledige stillingar (prosent)=%{x}<br>Sysselsatte=%{y}<br>Ledige stillingar=%{marker.size}<extra></extra>\", \"hovertext\": [\"Byggje- og anleggsverksemd\"], \"ids\": [\"Byggje- og anleggsverksemd\"], \"legendgroup\": \"Byggje- og anleggsverksemd\", \"marker\": {\"color\": \"#EF553B\", \"size\": [4800.0], \"sizemode\": \"area\", \"sizeref\": 4.32, \"symbol\": \"circle\"}, \"mode\": \"markers\", \"name\": \"Byggje- og anleggsverksemd\", \"orientation\": \"v\", \"showlegend\": true, \"x\": [2.1], \"xaxis\": \"x\", \"y\": [212], \"yaxis\": \"y\", \"type\": \"scatter\"}, {\"hovertemplate\": \"<b>%{hovertext}</b><br><br>n\\u00e6ring (SN2007)=Informasjon og kommunikasjon<br>kvartal=2017K3<br>Ledige stillingar (prosent)=%{x}<br>Sysselsatte=%{y}<br>Ledige stillingar=%{marker.size}<extra></extra>\", \"hovertext\": [\"Informasjon og kommunikasjon\"], \"ids\": [\"Informasjon og kommunikasjon\"], \"legendgroup\": \"Informasjon og kommunikasjon\", \"marker\": {\"color\": \"#00cc96\", \"size\": [3000.0], \"sizemode\": \"area\", \"sizeref\": 4.32, \"symbol\": \"circle\"}, \"mode\": \"markers\", \"name\": \"Informasjon og kommunikasjon\", \"orientation\": \"v\", \"showlegend\": true, \"x\": [3.2], \"xaxis\": \"x\", \"y\": [102], \"yaxis\": \"y\", \"type\": \"scatter\"}, {\"hovertemplate\": \"<b>%{hovertext}</b><br><br>n\\u00e6ring (SN2007)=Finansierings- og forsikringsverksemd<br>kvartal=2017K3<br>Ledige stillingar (prosent)=%{x}<br>Sysselsatte=%{y}<br>Ledige stillingar=%{marker.size}<extra></extra>\", \"hovertext\": [\"Finansierings- og forsikringsverksemd\"], \"ids\": [\"Finansierings- og forsikringsverksemd\"], \"legendgroup\": \"Finansierings- og forsikringsverksemd\", \"marker\": {\"color\": \"#ab63fa\", \"size\": [800.0], \"sizemode\": \"area\", \"sizeref\": 4.32, \"symbol\": \"circle\"}, \"mode\": \"markers\", \"name\": \"Finansierings- og forsikringsverksemd\", \"orientation\": \"v\", \"showlegend\": true, \"x\": [1.7], \"xaxis\": \"x\", \"y\": [53], \"yaxis\": \"y\", \"type\": \"scatter\"}, {\"hovertemplate\": \"<b>%{hovertext}</b><br><br>n\\u00e6ring (SN2007)=Omsetning og drift av fast eigedom<br>kvartal=2017K3<br>Ledige stillingar (prosent)=%{x}<br>Sysselsatte=%{y}<br>Ledige stillingar=%{marker.size}<extra></extra>\", \"hovertext\": [\"Omsetning og drift av fast eigedom\"], \"ids\": [\"Omsetning og drift av fast eigedom\"], \"legendgroup\": \"Omsetning og drift av fast eigedom\", \"marker\": {\"color\": \"#FFA15A\", \"size\": [800.0], \"sizemode\": \"area\", \"sizeref\": 4.32, \"symbol\": \"circle\"}, \"mode\": \"markers\", \"name\": \"Omsetning og drift av fast eigedom\", \"orientation\": \"v\", \"showlegend\": true, \"x\": [2.8], \"xaxis\": \"x\", \"y\": [24], \"yaxis\": \"y\", \"type\": \"scatter\"}, {\"hovertemplate\": \"<b>%{hovertext}</b><br><br>n\\u00e6ring (SN2007)=Fagleg, vitskapleg og teknisk tenesteyting<br>kvartal=2017K3<br>Ledige stillingar (prosent)=%{x}<br>Sysselsatte=%{y}<br>Ledige stillingar=%{marker.size}<extra></extra>\", \"hovertext\": [\"Fagleg, vitskapleg og teknisk tenesteyting\"], \"ids\": [\"Fagleg, vitskapleg og teknisk tenesteyting\"], \"legendgroup\": \"Fagleg, vitskapleg og teknisk tenesteyting\", \"marker\": {\"color\": \"#19d3f3\", \"size\": [4500.0], \"sizemode\": \"area\", \"sizeref\": 4.32, \"symbol\": \"circle\"}, \"mode\": \"markers\", \"name\": \"Fagleg, vitskapleg og teknisk tenesteyting\", \"orientation\": \"v\", \"showlegend\": true, \"x\": [3.3], \"xaxis\": \"x\", \"y\": [156], \"yaxis\": \"y\", \"type\": \"scatter\"}, {\"hovertemplate\": \"<b>%{hovertext}</b><br><br>n\\u00e6ring (SN2007)=Forretningsmessig tenesteyting<br>kvartal=2017K3<br>Ledige stillingar (prosent)=%{x}<br>Sysselsatte=%{y}<br>Ledige stillingar=%{marker.size}<extra></extra>\", \"hovertext\": [\"Forretningsmessig tenesteyting\"], \"ids\": [\"Forretningsmessig tenesteyting\"], \"legendgroup\": \"Forretningsmessig tenesteyting\", \"marker\": {\"color\": \"#FF6692\", \"size\": [4900.0], \"sizemode\": \"area\", \"sizeref\": 4.32, \"symbol\": \"circle\"}, \"mode\": \"markers\", \"name\": \"Forretningsmessig tenesteyting\", \"orientation\": \"v\", \"showlegend\": true, \"x\": [3.0], \"xaxis\": \"x\", \"y\": [125], \"yaxis\": \"y\", \"type\": \"scatter\"}, {\"hovertemplate\": \"<b>%{hovertext}</b><br><br>n\\u00e6ring (SN2007)=Offentleg administrasjon og forsvar, og trygdeordningar underordna offentleg forvalting<br>kvartal=2017K3<br>Ledige stillingar (prosent)=%{x}<br>Sysselsatte=%{y}<br>Ledige stillingar=%{marker.size}<extra></extra>\", \"hovertext\": [\"Offentleg administrasjon og forsvar, og trygdeordningar underordna offentleg forvalting\"], \"ids\": [\"Offentleg administrasjon og forsvar, og trygdeordningar underordna offentleg forvalting\"], \"legendgroup\": \"Offentleg administrasjon og forsvar, og trygdeordningar underordna offentleg forvalting\", \"marker\": {\"color\": \"#B6E880\", \"size\": [2800.0], \"sizemode\": \"area\", \"sizeref\": 4.32, \"symbol\": \"circle\"}, \"mode\": \"markers\", \"name\": \"Offentleg administrasjon og forsvar, og trygdeordningar underordna offentleg forvalting\", \"orientation\": \"v\", \"showlegend\": true, \"x\": [1.5], \"xaxis\": \"x\", \"y\": [181], \"yaxis\": \"y\", \"type\": \"scatter\"}, {\"hovertemplate\": \"<b>%{hovertext}</b><br><br>n\\u00e6ring (SN2007)=Undervisning<br>kvartal=2017K3<br>Ledige stillingar (prosent)=%{x}<br>Sysselsatte=%{y}<br>Ledige stillingar=%{marker.size}<extra></extra>\", \"hovertext\": [\"Undervisning\"], \"ids\": [\"Undervisning\"], \"legendgroup\": \"Undervisning\", \"marker\": {\"color\": \"#FF97FF\", \"size\": [2700.0], \"sizemode\": \"area\", \"sizeref\": 4.32, \"symbol\": \"circle\"}, \"mode\": \"markers\", \"name\": \"Undervisning\", \"orientation\": \"v\", \"showlegend\": true, \"x\": [1.2], \"xaxis\": \"x\", \"y\": [215], \"yaxis\": \"y\", \"type\": \"scatter\"}, {\"hovertemplate\": \"<b>%{hovertext}</b><br><br>n\\u00e6ring (SN2007)=Kulturell verksemd, underhaldning og fritidsaktivitetar<br>kvartal=2017K3<br>Ledige stillingar (prosent)=%{x}<br>Sysselsatte=%{y}<br>Ledige stillingar=%{marker.size}<extra></extra>\", \"hovertext\": [\"Kulturell verksemd, underhaldning og fritidsaktivitetar\"], \"ids\": [\"Kulturell verksemd, underhaldning og fritidsaktivitetar\"], \"legendgroup\": \"Kulturell verksemd, underhaldning og fritidsaktivitetar\", \"marker\": {\"color\": \"#FECB52\", \"size\": [1100.0], \"sizemode\": \"area\", \"sizeref\": 4.32, \"symbol\": \"circle\"}, \"mode\": \"markers\", \"name\": \"Kulturell verksemd, underhaldning og fritidsaktivitetar\", \"orientation\": \"v\", \"showlegend\": true, \"x\": [2.2], \"xaxis\": \"x\", \"y\": [58], \"yaxis\": \"y\", \"type\": \"scatter\"}], \"name\": \"2017K3\"}, {\"data\": [{\"hovertemplate\": \"<b>%{hovertext}</b><br><br>n\\u00e6ring (SN2007)=Bergverksdrift og utvinning<br>kvartal=2017K4<br>Ledige stillingar (prosent)=%{x}<br>Sysselsatte=%{y}<br>Ledige stillingar=%{marker.size}<extra></extra>\", \"hovertext\": [\"Bergverksdrift og utvinning\"], \"ids\": [\"Bergverksdrift og utvinning\"], \"legendgroup\": \"Bergverksdrift og utvinning\", \"marker\": {\"color\": \"#636efa\", \"size\": [1000.0], \"sizemode\": \"area\", \"sizeref\": 4.32, \"symbol\": \"circle\"}, \"mode\": \"markers\", \"name\": \"Bergverksdrift og utvinning\", \"orientation\": \"v\", \"showlegend\": true, \"x\": [1.8], \"xaxis\": \"x\", \"y\": [54], \"yaxis\": \"y\", \"type\": \"scatter\"}, {\"hovertemplate\": \"<b>%{hovertext}</b><br><br>n\\u00e6ring (SN2007)=Byggje- og anleggsverksemd<br>kvartal=2017K4<br>Ledige stillingar (prosent)=%{x}<br>Sysselsatte=%{y}<br>Ledige stillingar=%{marker.size}<extra></extra>\", \"hovertext\": [\"Byggje- og anleggsverksemd\"], \"ids\": [\"Byggje- og anleggsverksemd\"], \"legendgroup\": \"Byggje- og anleggsverksemd\", \"marker\": {\"color\": \"#EF553B\", \"size\": [4400.0], \"sizemode\": \"area\", \"sizeref\": 4.32, \"symbol\": \"circle\"}, \"mode\": \"markers\", \"name\": \"Byggje- og anleggsverksemd\", \"orientation\": \"v\", \"showlegend\": true, \"x\": [1.8], \"xaxis\": \"x\", \"y\": [213], \"yaxis\": \"y\", \"type\": \"scatter\"}, {\"hovertemplate\": \"<b>%{hovertext}</b><br><br>n\\u00e6ring (SN2007)=Informasjon og kommunikasjon<br>kvartal=2017K4<br>Ledige stillingar (prosent)=%{x}<br>Sysselsatte=%{y}<br>Ledige stillingar=%{marker.size}<extra></extra>\", \"hovertext\": [\"Informasjon og kommunikasjon\"], \"ids\": [\"Informasjon og kommunikasjon\"], \"legendgroup\": \"Informasjon og kommunikasjon\", \"marker\": {\"color\": \"#00cc96\", \"size\": [3000.0], \"sizemode\": \"area\", \"sizeref\": 4.32, \"symbol\": \"circle\"}, \"mode\": \"markers\", \"name\": \"Informasjon og kommunikasjon\", \"orientation\": \"v\", \"showlegend\": true, \"x\": [3.2], \"xaxis\": \"x\", \"y\": [102], \"yaxis\": \"y\", \"type\": \"scatter\"}, {\"hovertemplate\": \"<b>%{hovertext}</b><br><br>n\\u00e6ring (SN2007)=Finansierings- og forsikringsverksemd<br>kvartal=2017K4<br>Ledige stillingar (prosent)=%{x}<br>Sysselsatte=%{y}<br>Ledige stillingar=%{marker.size}<extra></extra>\", \"hovertext\": [\"Finansierings- og forsikringsverksemd\"], \"ids\": [\"Finansierings- og forsikringsverksemd\"], \"legendgroup\": \"Finansierings- og forsikringsverksemd\", \"marker\": {\"color\": \"#ab63fa\", \"size\": [1000.0], \"sizemode\": \"area\", \"sizeref\": 4.32, \"symbol\": \"circle\"}, \"mode\": \"markers\", \"name\": \"Finansierings- og forsikringsverksemd\", \"orientation\": \"v\", \"showlegend\": true, \"x\": [2.2], \"xaxis\": \"x\", \"y\": [53], \"yaxis\": \"y\", \"type\": \"scatter\"}, {\"hovertemplate\": \"<b>%{hovertext}</b><br><br>n\\u00e6ring (SN2007)=Omsetning og drift av fast eigedom<br>kvartal=2017K4<br>Ledige stillingar (prosent)=%{x}<br>Sysselsatte=%{y}<br>Ledige stillingar=%{marker.size}<extra></extra>\", \"hovertext\": [\"Omsetning og drift av fast eigedom\"], \"ids\": [\"Omsetning og drift av fast eigedom\"], \"legendgroup\": \"Omsetning og drift av fast eigedom\", \"marker\": {\"color\": \"#FFA15A\", \"size\": [500.0], \"sizemode\": \"area\", \"sizeref\": 4.32, \"symbol\": \"circle\"}, \"mode\": \"markers\", \"name\": \"Omsetning og drift av fast eigedom\", \"orientation\": \"v\", \"showlegend\": true, \"x\": [1.9], \"xaxis\": \"x\", \"y\": [23], \"yaxis\": \"y\", \"type\": \"scatter\"}, {\"hovertemplate\": \"<b>%{hovertext}</b><br><br>n\\u00e6ring (SN2007)=Fagleg, vitskapleg og teknisk tenesteyting<br>kvartal=2017K4<br>Ledige stillingar (prosent)=%{x}<br>Sysselsatte=%{y}<br>Ledige stillingar=%{marker.size}<extra></extra>\", \"hovertext\": [\"Fagleg, vitskapleg og teknisk tenesteyting\"], \"ids\": [\"Fagleg, vitskapleg og teknisk tenesteyting\"], \"legendgroup\": \"Fagleg, vitskapleg og teknisk tenesteyting\", \"marker\": {\"color\": \"#19d3f3\", \"size\": [5300.0], \"sizemode\": \"area\", \"sizeref\": 4.32, \"symbol\": \"circle\"}, \"mode\": \"markers\", \"name\": \"Fagleg, vitskapleg og teknisk tenesteyting\", \"orientation\": \"v\", \"showlegend\": true, \"x\": [3.8], \"xaxis\": \"x\", \"y\": [156], \"yaxis\": \"y\", \"type\": \"scatter\"}, {\"hovertemplate\": \"<b>%{hovertext}</b><br><br>n\\u00e6ring (SN2007)=Forretningsmessig tenesteyting<br>kvartal=2017K4<br>Ledige stillingar (prosent)=%{x}<br>Sysselsatte=%{y}<br>Ledige stillingar=%{marker.size}<extra></extra>\", \"hovertext\": [\"Forretningsmessig tenesteyting\"], \"ids\": [\"Forretningsmessig tenesteyting\"], \"legendgroup\": \"Forretningsmessig tenesteyting\", \"marker\": {\"color\": \"#FF6692\", \"size\": [5800.0], \"sizemode\": \"area\", \"sizeref\": 4.32, \"symbol\": \"circle\"}, \"mode\": \"markers\", \"name\": \"Forretningsmessig tenesteyting\", \"orientation\": \"v\", \"showlegend\": true, \"x\": [3.6], \"xaxis\": \"x\", \"y\": [126], \"yaxis\": \"y\", \"type\": \"scatter\"}, {\"hovertemplate\": \"<b>%{hovertext}</b><br><br>n\\u00e6ring (SN2007)=Offentleg administrasjon og forsvar, og trygdeordningar underordna offentleg forvalting<br>kvartal=2017K4<br>Ledige stillingar (prosent)=%{x}<br>Sysselsatte=%{y}<br>Ledige stillingar=%{marker.size}<extra></extra>\", \"hovertext\": [\"Offentleg administrasjon og forsvar, og trygdeordningar underordna offentleg forvalting\"], \"ids\": [\"Offentleg administrasjon og forsvar, og trygdeordningar underordna offentleg forvalting\"], \"legendgroup\": \"Offentleg administrasjon og forsvar, og trygdeordningar underordna offentleg forvalting\", \"marker\": {\"color\": \"#B6E880\", \"size\": [3100.0], \"sizemode\": \"area\", \"sizeref\": 4.32, \"symbol\": \"circle\"}, \"mode\": \"markers\", \"name\": \"Offentleg administrasjon og forsvar, og trygdeordningar underordna offentleg forvalting\", \"orientation\": \"v\", \"showlegend\": true, \"x\": [1.6], \"xaxis\": \"x\", \"y\": [183], \"yaxis\": \"y\", \"type\": \"scatter\"}, {\"hovertemplate\": \"<b>%{hovertext}</b><br><br>n\\u00e6ring (SN2007)=Undervisning<br>kvartal=2017K4<br>Ledige stillingar (prosent)=%{x}<br>Sysselsatte=%{y}<br>Ledige stillingar=%{marker.size}<extra></extra>\", \"hovertext\": [\"Undervisning\"], \"ids\": [\"Undervisning\"], \"legendgroup\": \"Undervisning\", \"marker\": {\"color\": \"#FF97FF\", \"size\": [2900.0], \"sizemode\": \"area\", \"sizeref\": 4.32, \"symbol\": \"circle\"}, \"mode\": \"markers\", \"name\": \"Undervisning\", \"orientation\": \"v\", \"showlegend\": true, \"x\": [1.2], \"xaxis\": \"x\", \"y\": [219], \"yaxis\": \"y\", \"type\": \"scatter\"}, {\"hovertemplate\": \"<b>%{hovertext}</b><br><br>n\\u00e6ring (SN2007)=Kulturell verksemd, underhaldning og fritidsaktivitetar<br>kvartal=2017K4<br>Ledige stillingar (prosent)=%{x}<br>Sysselsatte=%{y}<br>Ledige stillingar=%{marker.size}<extra></extra>\", \"hovertext\": [\"Kulturell verksemd, underhaldning og fritidsaktivitetar\"], \"ids\": [\"Kulturell verksemd, underhaldning og fritidsaktivitetar\"], \"legendgroup\": \"Kulturell verksemd, underhaldning og fritidsaktivitetar\", \"marker\": {\"color\": \"#FECB52\", \"size\": [700.0], \"sizemode\": \"area\", \"sizeref\": 4.32, \"symbol\": \"circle\"}, \"mode\": \"markers\", \"name\": \"Kulturell verksemd, underhaldning og fritidsaktivitetar\", \"orientation\": \"v\", \"showlegend\": true, \"x\": [1.5], \"xaxis\": \"x\", \"y\": [57], \"yaxis\": \"y\", \"type\": \"scatter\"}], \"name\": \"2017K4\"}, {\"data\": [{\"hovertemplate\": \"<b>%{hovertext}</b><br><br>n\\u00e6ring (SN2007)=Bergverksdrift og utvinning<br>kvartal=2018K1<br>Ledige stillingar (prosent)=%{x}<br>Sysselsatte=%{y}<br>Ledige stillingar=%{marker.size}<extra></extra>\", \"hovertext\": [\"Bergverksdrift og utvinning\"], \"ids\": [\"Bergverksdrift og utvinning\"], \"legendgroup\": \"Bergverksdrift og utvinning\", \"marker\": {\"color\": \"#636efa\", \"size\": [1400.0], \"sizemode\": \"area\", \"sizeref\": 4.32, \"symbol\": \"circle\"}, \"mode\": \"markers\", \"name\": \"Bergverksdrift og utvinning\", \"orientation\": \"v\", \"showlegend\": true, \"x\": [2.6], \"xaxis\": \"x\", \"y\": [61], \"yaxis\": \"y\", \"type\": \"scatter\"}, {\"hovertemplate\": \"<b>%{hovertext}</b><br><br>n\\u00e6ring (SN2007)=Byggje- og anleggsverksemd<br>kvartal=2018K1<br>Ledige stillingar (prosent)=%{x}<br>Sysselsatte=%{y}<br>Ledige stillingar=%{marker.size}<extra></extra>\", \"hovertext\": [\"Byggje- og anleggsverksemd\"], \"ids\": [\"Byggje- og anleggsverksemd\"], \"legendgroup\": \"Byggje- og anleggsverksemd\", \"marker\": {\"color\": \"#EF553B\", \"size\": [5200.0], \"sizemode\": \"area\", \"sizeref\": 4.32, \"symbol\": \"circle\"}, \"mode\": \"markers\", \"name\": \"Byggje- og anleggsverksemd\", \"orientation\": \"v\", \"showlegend\": true, \"x\": [2.3], \"xaxis\": \"x\", \"y\": [216], \"yaxis\": \"y\", \"type\": \"scatter\"}, {\"hovertemplate\": \"<b>%{hovertext}</b><br><br>n\\u00e6ring (SN2007)=Informasjon og kommunikasjon<br>kvartal=2018K1<br>Ledige stillingar (prosent)=%{x}<br>Sysselsatte=%{y}<br>Ledige stillingar=%{marker.size}<extra></extra>\", \"hovertext\": [\"Informasjon og kommunikasjon\"], \"ids\": [\"Informasjon og kommunikasjon\"], \"legendgroup\": \"Informasjon og kommunikasjon\", \"marker\": {\"color\": \"#00cc96\", \"size\": [3500.0], \"sizemode\": \"area\", \"sizeref\": 4.32, \"symbol\": \"circle\"}, \"mode\": \"markers\", \"name\": \"Informasjon og kommunikasjon\", \"orientation\": \"v\", \"showlegend\": true, \"x\": [3.8], \"xaxis\": \"x\", \"y\": [99], \"yaxis\": \"y\", \"type\": \"scatter\"}, {\"hovertemplate\": \"<b>%{hovertext}</b><br><br>n\\u00e6ring (SN2007)=Finansierings- og forsikringsverksemd<br>kvartal=2018K1<br>Ledige stillingar (prosent)=%{x}<br>Sysselsatte=%{y}<br>Ledige stillingar=%{marker.size}<extra></extra>\", \"hovertext\": [\"Finansierings- og forsikringsverksemd\"], \"ids\": [\"Finansierings- og forsikringsverksemd\"], \"legendgroup\": \"Finansierings- og forsikringsverksemd\", \"marker\": {\"color\": \"#ab63fa\", \"size\": [900.0], \"sizemode\": \"area\", \"sizeref\": 4.32, \"symbol\": \"circle\"}, \"mode\": \"markers\", \"name\": \"Finansierings- og forsikringsverksemd\", \"orientation\": \"v\", \"showlegend\": true, \"x\": [1.9], \"xaxis\": \"x\", \"y\": [55], \"yaxis\": \"y\", \"type\": \"scatter\"}, {\"hovertemplate\": \"<b>%{hovertext}</b><br><br>n\\u00e6ring (SN2007)=Omsetning og drift av fast eigedom<br>kvartal=2018K1<br>Ledige stillingar (prosent)=%{x}<br>Sysselsatte=%{y}<br>Ledige stillingar=%{marker.size}<extra></extra>\", \"hovertext\": [\"Omsetning og drift av fast eigedom\"], \"ids\": [\"Omsetning og drift av fast eigedom\"], \"legendgroup\": \"Omsetning og drift av fast eigedom\", \"marker\": {\"color\": \"#FFA15A\", \"size\": [400.0], \"sizemode\": \"area\", \"sizeref\": 4.32, \"symbol\": \"circle\"}, \"mode\": \"markers\", \"name\": \"Omsetning og drift av fast eigedom\", \"orientation\": \"v\", \"showlegend\": true, \"x\": [1.6], \"xaxis\": \"x\", \"y\": [26], \"yaxis\": \"y\", \"type\": \"scatter\"}, {\"hovertemplate\": \"<b>%{hovertext}</b><br><br>n\\u00e6ring (SN2007)=Fagleg, vitskapleg og teknisk tenesteyting<br>kvartal=2018K1<br>Ledige stillingar (prosent)=%{x}<br>Sysselsatte=%{y}<br>Ledige stillingar=%{marker.size}<extra></extra>\", \"hovertext\": [\"Fagleg, vitskapleg og teknisk tenesteyting\"], \"ids\": [\"Fagleg, vitskapleg og teknisk tenesteyting\"], \"legendgroup\": \"Fagleg, vitskapleg og teknisk tenesteyting\", \"marker\": {\"color\": \"#19d3f3\", \"size\": [4800.0], \"sizemode\": \"area\", \"sizeref\": 4.32, \"symbol\": \"circle\"}, \"mode\": \"markers\", \"name\": \"Fagleg, vitskapleg og teknisk tenesteyting\", \"orientation\": \"v\", \"showlegend\": true, \"x\": [3.5], \"xaxis\": \"x\", \"y\": [157], \"yaxis\": \"y\", \"type\": \"scatter\"}, {\"hovertemplate\": \"<b>%{hovertext}</b><br><br>n\\u00e6ring (SN2007)=Forretningsmessig tenesteyting<br>kvartal=2018K1<br>Ledige stillingar (prosent)=%{x}<br>Sysselsatte=%{y}<br>Ledige stillingar=%{marker.size}<extra></extra>\", \"hovertext\": [\"Forretningsmessig tenesteyting\"], \"ids\": [\"Forretningsmessig tenesteyting\"], \"legendgroup\": \"Forretningsmessig tenesteyting\", \"marker\": {\"color\": \"#FF6692\", \"size\": [7200.0], \"sizemode\": \"area\", \"sizeref\": 4.32, \"symbol\": \"circle\"}, \"mode\": \"markers\", \"name\": \"Forretningsmessig tenesteyting\", \"orientation\": \"v\", \"showlegend\": true, \"x\": [4.6], \"xaxis\": \"x\", \"y\": [128], \"yaxis\": \"y\", \"type\": \"scatter\"}, {\"hovertemplate\": \"<b>%{hovertext}</b><br><br>n\\u00e6ring (SN2007)=Offentleg administrasjon og forsvar, og trygdeordningar underordna offentleg forvalting<br>kvartal=2018K1<br>Ledige stillingar (prosent)=%{x}<br>Sysselsatte=%{y}<br>Ledige stillingar=%{marker.size}<extra></extra>\", \"hovertext\": [\"Offentleg administrasjon og forsvar, og trygdeordningar underordna offentleg forvalting\"], \"ids\": [\"Offentleg administrasjon og forsvar, og trygdeordningar underordna offentleg forvalting\"], \"legendgroup\": \"Offentleg administrasjon og forsvar, og trygdeordningar underordna offentleg forvalting\", \"marker\": {\"color\": \"#B6E880\", \"size\": [4000.0], \"sizemode\": \"area\", \"sizeref\": 4.32, \"symbol\": \"circle\"}, \"mode\": \"markers\", \"name\": \"Offentleg administrasjon og forsvar, og trygdeordningar underordna offentleg forvalting\", \"orientation\": \"v\", \"showlegend\": true, \"x\": [2.2], \"xaxis\": \"x\", \"y\": [185], \"yaxis\": \"y\", \"type\": \"scatter\"}, {\"hovertemplate\": \"<b>%{hovertext}</b><br><br>n\\u00e6ring (SN2007)=Undervisning<br>kvartal=2018K1<br>Ledige stillingar (prosent)=%{x}<br>Sysselsatte=%{y}<br>Ledige stillingar=%{marker.size}<extra></extra>\", \"hovertext\": [\"Undervisning\"], \"ids\": [\"Undervisning\"], \"legendgroup\": \"Undervisning\", \"marker\": {\"color\": \"#FF97FF\", \"size\": [4200.0], \"sizemode\": \"area\", \"sizeref\": 4.32, \"symbol\": \"circle\"}, \"mode\": \"markers\", \"name\": \"Undervisning\", \"orientation\": \"v\", \"showlegend\": true, \"x\": [1.7], \"xaxis\": \"x\", \"y\": [225], \"yaxis\": \"y\", \"type\": \"scatter\"}, {\"hovertemplate\": \"<b>%{hovertext}</b><br><br>n\\u00e6ring (SN2007)=Kulturell verksemd, underhaldning og fritidsaktivitetar<br>kvartal=2018K1<br>Ledige stillingar (prosent)=%{x}<br>Sysselsatte=%{y}<br>Ledige stillingar=%{marker.size}<extra></extra>\", \"hovertext\": [\"Kulturell verksemd, underhaldning og fritidsaktivitetar\"], \"ids\": [\"Kulturell verksemd, underhaldning og fritidsaktivitetar\"], \"legendgroup\": \"Kulturell verksemd, underhaldning og fritidsaktivitetar\", \"marker\": {\"color\": \"#FECB52\", \"size\": [800.0], \"sizemode\": \"area\", \"sizeref\": 4.32, \"symbol\": \"circle\"}, \"mode\": \"markers\", \"name\": \"Kulturell verksemd, underhaldning og fritidsaktivitetar\", \"orientation\": \"v\", \"showlegend\": true, \"x\": [1.5], \"xaxis\": \"x\", \"y\": [59], \"yaxis\": \"y\", \"type\": \"scatter\"}], \"name\": \"2018K1\"}, {\"data\": [{\"hovertemplate\": \"<b>%{hovertext}</b><br><br>n\\u00e6ring (SN2007)=Bergverksdrift og utvinning<br>kvartal=2018K2<br>Ledige stillingar (prosent)=%{x}<br>Sysselsatte=%{y}<br>Ledige stillingar=%{marker.size}<extra></extra>\", \"hovertext\": [\"Bergverksdrift og utvinning\"], \"ids\": [\"Bergverksdrift og utvinning\"], \"legendgroup\": \"Bergverksdrift og utvinning\", \"marker\": {\"color\": \"#636efa\", \"size\": [1300.0], \"sizemode\": \"area\", \"sizeref\": 4.32, \"symbol\": \"circle\"}, \"mode\": \"markers\", \"name\": \"Bergverksdrift og utvinning\", \"orientation\": \"v\", \"showlegend\": true, \"x\": [2.4], \"xaxis\": \"x\", \"y\": [62], \"yaxis\": \"y\", \"type\": \"scatter\"}, {\"hovertemplate\": \"<b>%{hovertext}</b><br><br>n\\u00e6ring (SN2007)=Byggje- og anleggsverksemd<br>kvartal=2018K2<br>Ledige stillingar (prosent)=%{x}<br>Sysselsatte=%{y}<br>Ledige stillingar=%{marker.size}<extra></extra>\", \"hovertext\": [\"Byggje- og anleggsverksemd\"], \"ids\": [\"Byggje- og anleggsverksemd\"], \"legendgroup\": \"Byggje- og anleggsverksemd\", \"marker\": {\"color\": \"#EF553B\", \"size\": [5400.0], \"sizemode\": \"area\", \"sizeref\": 4.32, \"symbol\": \"circle\"}, \"mode\": \"markers\", \"name\": \"Byggje- og anleggsverksemd\", \"orientation\": \"v\", \"showlegend\": true, \"x\": [2.3], \"xaxis\": \"x\", \"y\": [220], \"yaxis\": \"y\", \"type\": \"scatter\"}, {\"hovertemplate\": \"<b>%{hovertext}</b><br><br>n\\u00e6ring (SN2007)=Informasjon og kommunikasjon<br>kvartal=2018K2<br>Ledige stillingar (prosent)=%{x}<br>Sysselsatte=%{y}<br>Ledige stillingar=%{marker.size}<extra></extra>\", \"hovertext\": [\"Informasjon og kommunikasjon\"], \"ids\": [\"Informasjon og kommunikasjon\"], \"legendgroup\": \"Informasjon og kommunikasjon\", \"marker\": {\"color\": \"#00cc96\", \"size\": [3500.0], \"sizemode\": \"area\", \"sizeref\": 4.32, \"symbol\": \"circle\"}, \"mode\": \"markers\", \"name\": \"Informasjon og kommunikasjon\", \"orientation\": \"v\", \"showlegend\": true, \"x\": [3.6], \"xaxis\": \"x\", \"y\": [105], \"yaxis\": \"y\", \"type\": \"scatter\"}, {\"hovertemplate\": \"<b>%{hovertext}</b><br><br>n\\u00e6ring (SN2007)=Finansierings- og forsikringsverksemd<br>kvartal=2018K2<br>Ledige stillingar (prosent)=%{x}<br>Sysselsatte=%{y}<br>Ledige stillingar=%{marker.size}<extra></extra>\", \"hovertext\": [\"Finansierings- og forsikringsverksemd\"], \"ids\": [\"Finansierings- og forsikringsverksemd\"], \"legendgroup\": \"Finansierings- og forsikringsverksemd\", \"marker\": {\"color\": \"#ab63fa\", \"size\": [1000.0], \"sizemode\": \"area\", \"sizeref\": 4.32, \"symbol\": \"circle\"}, \"mode\": \"markers\", \"name\": \"Finansierings- og forsikringsverksemd\", \"orientation\": \"v\", \"showlegend\": true, \"x\": [2.1], \"xaxis\": \"x\", \"y\": [54], \"yaxis\": \"y\", \"type\": \"scatter\"}, {\"hovertemplate\": \"<b>%{hovertext}</b><br><br>n\\u00e6ring (SN2007)=Omsetning og drift av fast eigedom<br>kvartal=2018K2<br>Ledige stillingar (prosent)=%{x}<br>Sysselsatte=%{y}<br>Ledige stillingar=%{marker.size}<extra></extra>\", \"hovertext\": [\"Omsetning og drift av fast eigedom\"], \"ids\": [\"Omsetning og drift av fast eigedom\"], \"legendgroup\": \"Omsetning og drift av fast eigedom\", \"marker\": {\"color\": \"#FFA15A\", \"size\": [400.0], \"sizemode\": \"area\", \"sizeref\": 4.32, \"symbol\": \"circle\"}, \"mode\": \"markers\", \"name\": \"Omsetning og drift av fast eigedom\", \"orientation\": \"v\", \"showlegend\": true, \"x\": [1.6], \"xaxis\": \"x\", \"y\": [26], \"yaxis\": \"y\", \"type\": \"scatter\"}, {\"hovertemplate\": \"<b>%{hovertext}</b><br><br>n\\u00e6ring (SN2007)=Fagleg, vitskapleg og teknisk tenesteyting<br>kvartal=2018K2<br>Ledige stillingar (prosent)=%{x}<br>Sysselsatte=%{y}<br>Ledige stillingar=%{marker.size}<extra></extra>\", \"hovertext\": [\"Fagleg, vitskapleg og teknisk tenesteyting\"], \"ids\": [\"Fagleg, vitskapleg og teknisk tenesteyting\"], \"legendgroup\": \"Fagleg, vitskapleg og teknisk tenesteyting\", \"marker\": {\"color\": \"#19d3f3\", \"size\": [4700.0], \"sizemode\": \"area\", \"sizeref\": 4.32, \"symbol\": \"circle\"}, \"mode\": \"markers\", \"name\": \"Fagleg, vitskapleg og teknisk tenesteyting\", \"orientation\": \"v\", \"showlegend\": true, \"x\": [3.3], \"xaxis\": \"x\", \"y\": [159], \"yaxis\": \"y\", \"type\": \"scatter\"}, {\"hovertemplate\": \"<b>%{hovertext}</b><br><br>n\\u00e6ring (SN2007)=Forretningsmessig tenesteyting<br>kvartal=2018K2<br>Ledige stillingar (prosent)=%{x}<br>Sysselsatte=%{y}<br>Ledige stillingar=%{marker.size}<extra></extra>\", \"hovertext\": [\"Forretningsmessig tenesteyting\"], \"ids\": [\"Forretningsmessig tenesteyting\"], \"legendgroup\": \"Forretningsmessig tenesteyting\", \"marker\": {\"color\": \"#FF6692\", \"size\": [8000.0], \"sizemode\": \"area\", \"sizeref\": 4.32, \"symbol\": \"circle\"}, \"mode\": \"markers\", \"name\": \"Forretningsmessig tenesteyting\", \"orientation\": \"v\", \"showlegend\": true, \"x\": [4.9], \"xaxis\": \"x\", \"y\": [130], \"yaxis\": \"y\", \"type\": \"scatter\"}, {\"hovertemplate\": \"<b>%{hovertext}</b><br><br>n\\u00e6ring (SN2007)=Offentleg administrasjon og forsvar, og trygdeordningar underordna offentleg forvalting<br>kvartal=2018K2<br>Ledige stillingar (prosent)=%{x}<br>Sysselsatte=%{y}<br>Ledige stillingar=%{marker.size}<extra></extra>\", \"hovertext\": [\"Offentleg administrasjon og forsvar, og trygdeordningar underordna offentleg forvalting\"], \"ids\": [\"Offentleg administrasjon og forsvar, og trygdeordningar underordna offentleg forvalting\"], \"legendgroup\": \"Offentleg administrasjon og forsvar, og trygdeordningar underordna offentleg forvalting\", \"marker\": {\"color\": \"#B6E880\", \"size\": [4100.0], \"sizemode\": \"area\", \"sizeref\": 4.32, \"symbol\": \"circle\"}, \"mode\": \"markers\", \"name\": \"Offentleg administrasjon og forsvar, og trygdeordningar underordna offentleg forvalting\", \"orientation\": \"v\", \"showlegend\": true, \"x\": [2.2], \"xaxis\": \"x\", \"y\": [186], \"yaxis\": \"y\", \"type\": \"scatter\"}, {\"hovertemplate\": \"<b>%{hovertext}</b><br><br>n\\u00e6ring (SN2007)=Undervisning<br>kvartal=2018K2<br>Ledige stillingar (prosent)=%{x}<br>Sysselsatte=%{y}<br>Ledige stillingar=%{marker.size}<extra></extra>\", \"hovertext\": [\"Undervisning\"], \"ids\": [\"Undervisning\"], \"legendgroup\": \"Undervisning\", \"marker\": {\"color\": \"#FF97FF\", \"size\": [8000.0], \"sizemode\": \"area\", \"sizeref\": 4.32, \"symbol\": \"circle\"}, \"mode\": \"markers\", \"name\": \"Undervisning\", \"orientation\": \"v\", \"showlegend\": true, \"x\": [3.1], \"xaxis\": \"x\", \"y\": [222], \"yaxis\": \"y\", \"type\": \"scatter\"}, {\"hovertemplate\": \"<b>%{hovertext}</b><br><br>n\\u00e6ring (SN2007)=Kulturell verksemd, underhaldning og fritidsaktivitetar<br>kvartal=2018K2<br>Ledige stillingar (prosent)=%{x}<br>Sysselsatte=%{y}<br>Ledige stillingar=%{marker.size}<extra></extra>\", \"hovertext\": [\"Kulturell verksemd, underhaldning og fritidsaktivitetar\"], \"ids\": [\"Kulturell verksemd, underhaldning og fritidsaktivitetar\"], \"legendgroup\": \"Kulturell verksemd, underhaldning og fritidsaktivitetar\", \"marker\": {\"color\": \"#FECB52\", \"size\": [1200.0], \"sizemode\": \"area\", \"sizeref\": 4.32, \"symbol\": \"circle\"}, \"mode\": \"markers\", \"name\": \"Kulturell verksemd, underhaldning og fritidsaktivitetar\", \"orientation\": \"v\", \"showlegend\": true, \"x\": [2.3], \"xaxis\": \"x\", \"y\": [61], \"yaxis\": \"y\", \"type\": \"scatter\"}], \"name\": \"2018K2\"}, {\"data\": [{\"hovertemplate\": \"<b>%{hovertext}</b><br><br>n\\u00e6ring (SN2007)=Bergverksdrift og utvinning<br>kvartal=2018K3<br>Ledige stillingar (prosent)=%{x}<br>Sysselsatte=%{y}<br>Ledige stillingar=%{marker.size}<extra></extra>\", \"hovertext\": [\"Bergverksdrift og utvinning\"], \"ids\": [\"Bergverksdrift og utvinning\"], \"legendgroup\": \"Bergverksdrift og utvinning\", \"marker\": {\"color\": \"#636efa\", \"size\": [1400.0], \"sizemode\": \"area\", \"sizeref\": 4.32, \"symbol\": \"circle\"}, \"mode\": \"markers\", \"name\": \"Bergverksdrift og utvinning\", \"orientation\": \"v\", \"showlegend\": true, \"x\": [2.5], \"xaxis\": \"x\", \"y\": [64], \"yaxis\": \"y\", \"type\": \"scatter\"}, {\"hovertemplate\": \"<b>%{hovertext}</b><br><br>n\\u00e6ring (SN2007)=Byggje- og anleggsverksemd<br>kvartal=2018K3<br>Ledige stillingar (prosent)=%{x}<br>Sysselsatte=%{y}<br>Ledige stillingar=%{marker.size}<extra></extra>\", \"hovertext\": [\"Byggje- og anleggsverksemd\"], \"ids\": [\"Byggje- og anleggsverksemd\"], \"legendgroup\": \"Byggje- og anleggsverksemd\", \"marker\": {\"color\": \"#EF553B\", \"size\": [5400.0], \"sizemode\": \"area\", \"sizeref\": 4.32, \"symbol\": \"circle\"}, \"mode\": \"markers\", \"name\": \"Byggje- og anleggsverksemd\", \"orientation\": \"v\", \"showlegend\": true, \"x\": [2.2], \"xaxis\": \"x\", \"y\": [224], \"yaxis\": \"y\", \"type\": \"scatter\"}, {\"hovertemplate\": \"<b>%{hovertext}</b><br><br>n\\u00e6ring (SN2007)=Informasjon og kommunikasjon<br>kvartal=2018K3<br>Ledige stillingar (prosent)=%{x}<br>Sysselsatte=%{y}<br>Ledige stillingar=%{marker.size}<extra></extra>\", \"hovertext\": [\"Informasjon og kommunikasjon\"], \"ids\": [\"Informasjon og kommunikasjon\"], \"legendgroup\": \"Informasjon og kommunikasjon\", \"marker\": {\"color\": \"#00cc96\", \"size\": [4000.0], \"sizemode\": \"area\", \"sizeref\": 4.32, \"symbol\": \"circle\"}, \"mode\": \"markers\", \"name\": \"Informasjon og kommunikasjon\", \"orientation\": \"v\", \"showlegend\": true, \"x\": [4.1], \"xaxis\": \"x\", \"y\": [105], \"yaxis\": \"y\", \"type\": \"scatter\"}, {\"hovertemplate\": \"<b>%{hovertext}</b><br><br>n\\u00e6ring (SN2007)=Finansierings- og forsikringsverksemd<br>kvartal=2018K3<br>Ledige stillingar (prosent)=%{x}<br>Sysselsatte=%{y}<br>Ledige stillingar=%{marker.size}<extra></extra>\", \"hovertext\": [\"Finansierings- og forsikringsverksemd\"], \"ids\": [\"Finansierings- og forsikringsverksemd\"], \"legendgroup\": \"Finansierings- og forsikringsverksemd\", \"marker\": {\"color\": \"#ab63fa\", \"size\": [800.0], \"sizemode\": \"area\", \"sizeref\": 4.32, \"symbol\": \"circle\"}, \"mode\": \"markers\", \"name\": \"Finansierings- og forsikringsverksemd\", \"orientation\": \"v\", \"showlegend\": true, \"x\": [1.8], \"xaxis\": \"x\", \"y\": [53], \"yaxis\": \"y\", \"type\": \"scatter\"}, {\"hovertemplate\": \"<b>%{hovertext}</b><br><br>n\\u00e6ring (SN2007)=Omsetning og drift av fast eigedom<br>kvartal=2018K3<br>Ledige stillingar (prosent)=%{x}<br>Sysselsatte=%{y}<br>Ledige stillingar=%{marker.size}<extra></extra>\", \"hovertext\": [\"Omsetning og drift av fast eigedom\"], \"ids\": [\"Omsetning og drift av fast eigedom\"], \"legendgroup\": \"Omsetning og drift av fast eigedom\", \"marker\": {\"color\": \"#FFA15A\", \"size\": [400.0], \"sizemode\": \"area\", \"sizeref\": 4.32, \"symbol\": \"circle\"}, \"mode\": \"markers\", \"name\": \"Omsetning og drift av fast eigedom\", \"orientation\": \"v\", \"showlegend\": true, \"x\": [1.4], \"xaxis\": \"x\", \"y\": [26], \"yaxis\": \"y\", \"type\": \"scatter\"}, {\"hovertemplate\": \"<b>%{hovertext}</b><br><br>n\\u00e6ring (SN2007)=Fagleg, vitskapleg og teknisk tenesteyting<br>kvartal=2018K3<br>Ledige stillingar (prosent)=%{x}<br>Sysselsatte=%{y}<br>Ledige stillingar=%{marker.size}<extra></extra>\", \"hovertext\": [\"Fagleg, vitskapleg og teknisk tenesteyting\"], \"ids\": [\"Fagleg, vitskapleg og teknisk tenesteyting\"], \"legendgroup\": \"Fagleg, vitskapleg og teknisk tenesteyting\", \"marker\": {\"color\": \"#19d3f3\", \"size\": [4200.0], \"sizemode\": \"area\", \"sizeref\": 4.32, \"symbol\": \"circle\"}, \"mode\": \"markers\", \"name\": \"Fagleg, vitskapleg og teknisk tenesteyting\", \"orientation\": \"v\", \"showlegend\": true, \"x\": [2.9], \"xaxis\": \"x\", \"y\": [160], \"yaxis\": \"y\", \"type\": \"scatter\"}, {\"hovertemplate\": \"<b>%{hovertext}</b><br><br>n\\u00e6ring (SN2007)=Forretningsmessig tenesteyting<br>kvartal=2018K3<br>Ledige stillingar (prosent)=%{x}<br>Sysselsatte=%{y}<br>Ledige stillingar=%{marker.size}<extra></extra>\", \"hovertext\": [\"Forretningsmessig tenesteyting\"], \"ids\": [\"Forretningsmessig tenesteyting\"], \"legendgroup\": \"Forretningsmessig tenesteyting\", \"marker\": {\"color\": \"#FF6692\", \"size\": [6700.0], \"sizemode\": \"area\", \"sizeref\": 4.32, \"symbol\": \"circle\"}, \"mode\": \"markers\", \"name\": \"Forretningsmessig tenesteyting\", \"orientation\": \"v\", \"showlegend\": true, \"x\": [3.9], \"xaxis\": \"x\", \"y\": [131], \"yaxis\": \"y\", \"type\": \"scatter\"}, {\"hovertemplate\": \"<b>%{hovertext}</b><br><br>n\\u00e6ring (SN2007)=Offentleg administrasjon og forsvar, og trygdeordningar underordna offentleg forvalting<br>kvartal=2018K3<br>Ledige stillingar (prosent)=%{x}<br>Sysselsatte=%{y}<br>Ledige stillingar=%{marker.size}<extra></extra>\", \"hovertext\": [\"Offentleg administrasjon og forsvar, og trygdeordningar underordna offentleg forvalting\"], \"ids\": [\"Offentleg administrasjon og forsvar, og trygdeordningar underordna offentleg forvalting\"], \"legendgroup\": \"Offentleg administrasjon og forsvar, og trygdeordningar underordna offentleg forvalting\", \"marker\": {\"color\": \"#B6E880\", \"size\": [3600.0], \"sizemode\": \"area\", \"sizeref\": 4.32, \"symbol\": \"circle\"}, \"mode\": \"markers\", \"name\": \"Offentleg administrasjon og forsvar, og trygdeordningar underordna offentleg forvalting\", \"orientation\": \"v\", \"showlegend\": true, \"x\": [1.9], \"xaxis\": \"x\", \"y\": [183], \"yaxis\": \"y\", \"type\": \"scatter\"}, {\"hovertemplate\": \"<b>%{hovertext}</b><br><br>n\\u00e6ring (SN2007)=Undervisning<br>kvartal=2018K3<br>Ledige stillingar (prosent)=%{x}<br>Sysselsatte=%{y}<br>Ledige stillingar=%{marker.size}<extra></extra>\", \"hovertext\": [\"Undervisning\"], \"ids\": [\"Undervisning\"], \"legendgroup\": \"Undervisning\", \"marker\": {\"color\": \"#FF97FF\", \"size\": [2800.0], \"sizemode\": \"area\", \"sizeref\": 4.32, \"symbol\": \"circle\"}, \"mode\": \"markers\", \"name\": \"Undervisning\", \"orientation\": \"v\", \"showlegend\": true, \"x\": [1.2], \"xaxis\": \"x\", \"y\": [218], \"yaxis\": \"y\", \"type\": \"scatter\"}, {\"hovertemplate\": \"<b>%{hovertext}</b><br><br>n\\u00e6ring (SN2007)=Kulturell verksemd, underhaldning og fritidsaktivitetar<br>kvartal=2018K3<br>Ledige stillingar (prosent)=%{x}<br>Sysselsatte=%{y}<br>Ledige stillingar=%{marker.size}<extra></extra>\", \"hovertext\": [\"Kulturell verksemd, underhaldning og fritidsaktivitetar\"], \"ids\": [\"Kulturell verksemd, underhaldning og fritidsaktivitetar\"], \"legendgroup\": \"Kulturell verksemd, underhaldning og fritidsaktivitetar\", \"marker\": {\"color\": \"#FECB52\", \"size\": [800.0], \"sizemode\": \"area\", \"sizeref\": 4.32, \"symbol\": \"circle\"}, \"mode\": \"markers\", \"name\": \"Kulturell verksemd, underhaldning og fritidsaktivitetar\", \"orientation\": \"v\", \"showlegend\": true, \"x\": [1.6], \"xaxis\": \"x\", \"y\": [61], \"yaxis\": \"y\", \"type\": \"scatter\"}], \"name\": \"2018K3\"}, {\"data\": [{\"hovertemplate\": \"<b>%{hovertext}</b><br><br>n\\u00e6ring (SN2007)=Bergverksdrift og utvinning<br>kvartal=2018K4<br>Ledige stillingar (prosent)=%{x}<br>Sysselsatte=%{y}<br>Ledige stillingar=%{marker.size}<extra></extra>\", \"hovertext\": [\"Bergverksdrift og utvinning\"], \"ids\": [\"Bergverksdrift og utvinning\"], \"legendgroup\": \"Bergverksdrift og utvinning\", \"marker\": {\"color\": \"#636efa\", \"size\": [1800.0], \"sizemode\": \"area\", \"sizeref\": 4.32, \"symbol\": \"circle\"}, \"mode\": \"markers\", \"name\": \"Bergverksdrift og utvinning\", \"orientation\": \"v\", \"showlegend\": true, \"x\": [3.0], \"xaxis\": \"x\", \"y\": [62], \"yaxis\": \"y\", \"type\": \"scatter\"}, {\"hovertemplate\": \"<b>%{hovertext}</b><br><br>n\\u00e6ring (SN2007)=Byggje- og anleggsverksemd<br>kvartal=2018K4<br>Ledige stillingar (prosent)=%{x}<br>Sysselsatte=%{y}<br>Ledige stillingar=%{marker.size}<extra></extra>\", \"hovertext\": [\"Byggje- og anleggsverksemd\"], \"ids\": [\"Byggje- og anleggsverksemd\"], \"legendgroup\": \"Byggje- og anleggsverksemd\", \"marker\": {\"color\": \"#EF553B\", \"size\": [4900.0], \"sizemode\": \"area\", \"sizeref\": 4.32, \"symbol\": \"circle\"}, \"mode\": \"markers\", \"name\": \"Byggje- og anleggsverksemd\", \"orientation\": \"v\", \"showlegend\": true, \"x\": [2.0], \"xaxis\": \"x\", \"y\": [220], \"yaxis\": \"y\", \"type\": \"scatter\"}, {\"hovertemplate\": \"<b>%{hovertext}</b><br><br>n\\u00e6ring (SN2007)=Informasjon og kommunikasjon<br>kvartal=2018K4<br>Ledige stillingar (prosent)=%{x}<br>Sysselsatte=%{y}<br>Ledige stillingar=%{marker.size}<extra></extra>\", \"hovertext\": [\"Informasjon og kommunikasjon\"], \"ids\": [\"Informasjon og kommunikasjon\"], \"legendgroup\": \"Informasjon og kommunikasjon\", \"marker\": {\"color\": \"#00cc96\", \"size\": [4000.0], \"sizemode\": \"area\", \"sizeref\": 4.32, \"symbol\": \"circle\"}, \"mode\": \"markers\", \"name\": \"Informasjon og kommunikasjon\", \"orientation\": \"v\", \"showlegend\": true, \"x\": [4.0], \"xaxis\": \"x\", \"y\": [104], \"yaxis\": \"y\", \"type\": \"scatter\"}, {\"hovertemplate\": \"<b>%{hovertext}</b><br><br>n\\u00e6ring (SN2007)=Finansierings- og forsikringsverksemd<br>kvartal=2018K4<br>Ledige stillingar (prosent)=%{x}<br>Sysselsatte=%{y}<br>Ledige stillingar=%{marker.size}<extra></extra>\", \"hovertext\": [\"Finansierings- og forsikringsverksemd\"], \"ids\": [\"Finansierings- og forsikringsverksemd\"], \"legendgroup\": \"Finansierings- og forsikringsverksemd\", \"marker\": {\"color\": \"#ab63fa\", \"size\": [1000.0], \"sizemode\": \"area\", \"sizeref\": 4.32, \"symbol\": \"circle\"}, \"mode\": \"markers\", \"name\": \"Finansierings- og forsikringsverksemd\", \"orientation\": \"v\", \"showlegend\": true, \"x\": [2.2], \"xaxis\": \"x\", \"y\": [54], \"yaxis\": \"y\", \"type\": \"scatter\"}, {\"hovertemplate\": \"<b>%{hovertext}</b><br><br>n\\u00e6ring (SN2007)=Omsetning og drift av fast eigedom<br>kvartal=2018K4<br>Ledige stillingar (prosent)=%{x}<br>Sysselsatte=%{y}<br>Ledige stillingar=%{marker.size}<extra></extra>\", \"hovertext\": [\"Omsetning og drift av fast eigedom\"], \"ids\": [\"Omsetning og drift av fast eigedom\"], \"legendgroup\": \"Omsetning og drift av fast eigedom\", \"marker\": {\"color\": \"#FFA15A\", \"size\": [500.0], \"sizemode\": \"area\", \"sizeref\": 4.32, \"symbol\": \"circle\"}, \"mode\": \"markers\", \"name\": \"Omsetning og drift av fast eigedom\", \"orientation\": \"v\", \"showlegend\": true, \"x\": [1.9], \"xaxis\": \"x\", \"y\": [27], \"yaxis\": \"y\", \"type\": \"scatter\"}, {\"hovertemplate\": \"<b>%{hovertext}</b><br><br>n\\u00e6ring (SN2007)=Fagleg, vitskapleg og teknisk tenesteyting<br>kvartal=2018K4<br>Ledige stillingar (prosent)=%{x}<br>Sysselsatte=%{y}<br>Ledige stillingar=%{marker.size}<extra></extra>\", \"hovertext\": [\"Fagleg, vitskapleg og teknisk tenesteyting\"], \"ids\": [\"Fagleg, vitskapleg og teknisk tenesteyting\"], \"legendgroup\": \"Fagleg, vitskapleg og teknisk tenesteyting\", \"marker\": {\"color\": \"#19d3f3\", \"size\": [4000.0], \"sizemode\": \"area\", \"sizeref\": 4.32, \"symbol\": \"circle\"}, \"mode\": \"markers\", \"name\": \"Fagleg, vitskapleg og teknisk tenesteyting\", \"orientation\": \"v\", \"showlegend\": true, \"x\": [2.7], \"xaxis\": \"x\", \"y\": [161], \"yaxis\": \"y\", \"type\": \"scatter\"}, {\"hovertemplate\": \"<b>%{hovertext}</b><br><br>n\\u00e6ring (SN2007)=Forretningsmessig tenesteyting<br>kvartal=2018K4<br>Ledige stillingar (prosent)=%{x}<br>Sysselsatte=%{y}<br>Ledige stillingar=%{marker.size}<extra></extra>\", \"hovertext\": [\"Forretningsmessig tenesteyting\"], \"ids\": [\"Forretningsmessig tenesteyting\"], \"legendgroup\": \"Forretningsmessig tenesteyting\", \"marker\": {\"color\": \"#FF6692\", \"size\": [5800.0], \"sizemode\": \"area\", \"sizeref\": 4.32, \"symbol\": \"circle\"}, \"mode\": \"markers\", \"name\": \"Forretningsmessig tenesteyting\", \"orientation\": \"v\", \"showlegend\": true, \"x\": [3.5], \"xaxis\": \"x\", \"y\": [138], \"yaxis\": \"y\", \"type\": \"scatter\"}, {\"hovertemplate\": \"<b>%{hovertext}</b><br><br>n\\u00e6ring (SN2007)=Offentleg administrasjon og forsvar, og trygdeordningar underordna offentleg forvalting<br>kvartal=2018K4<br>Ledige stillingar (prosent)=%{x}<br>Sysselsatte=%{y}<br>Ledige stillingar=%{marker.size}<extra></extra>\", \"hovertext\": [\"Offentleg administrasjon og forsvar, og trygdeordningar underordna offentleg forvalting\"], \"ids\": [\"Offentleg administrasjon og forsvar, og trygdeordningar underordna offentleg forvalting\"], \"legendgroup\": \"Offentleg administrasjon og forsvar, og trygdeordningar underordna offentleg forvalting\", \"marker\": {\"color\": \"#B6E880\", \"size\": [3700.0], \"sizemode\": \"area\", \"sizeref\": 4.32, \"symbol\": \"circle\"}, \"mode\": \"markers\", \"name\": \"Offentleg administrasjon og forsvar, og trygdeordningar underordna offentleg forvalting\", \"orientation\": \"v\", \"showlegend\": true, \"x\": [1.9], \"xaxis\": \"x\", \"y\": [177], \"yaxis\": \"y\", \"type\": \"scatter\"}, {\"hovertemplate\": \"<b>%{hovertext}</b><br><br>n\\u00e6ring (SN2007)=Undervisning<br>kvartal=2018K4<br>Ledige stillingar (prosent)=%{x}<br>Sysselsatte=%{y}<br>Ledige stillingar=%{marker.size}<extra></extra>\", \"hovertext\": [\"Undervisning\"], \"ids\": [\"Undervisning\"], \"legendgroup\": \"Undervisning\", \"marker\": {\"color\": \"#FF97FF\", \"size\": [3100.0], \"sizemode\": \"area\", \"sizeref\": 4.32, \"symbol\": \"circle\"}, \"mode\": \"markers\", \"name\": \"Undervisning\", \"orientation\": \"v\", \"showlegend\": true, \"x\": [1.2], \"xaxis\": \"x\", \"y\": [222], \"yaxis\": \"y\", \"type\": \"scatter\"}, {\"hovertemplate\": \"<b>%{hovertext}</b><br><br>n\\u00e6ring (SN2007)=Kulturell verksemd, underhaldning og fritidsaktivitetar<br>kvartal=2018K4<br>Ledige stillingar (prosent)=%{x}<br>Sysselsatte=%{y}<br>Ledige stillingar=%{marker.size}<extra></extra>\", \"hovertext\": [\"Kulturell verksemd, underhaldning og fritidsaktivitetar\"], \"ids\": [\"Kulturell verksemd, underhaldning og fritidsaktivitetar\"], \"legendgroup\": \"Kulturell verksemd, underhaldning og fritidsaktivitetar\", \"marker\": {\"color\": \"#FECB52\", \"size\": [600.0], \"sizemode\": \"area\", \"sizeref\": 4.32, \"symbol\": \"circle\"}, \"mode\": \"markers\", \"name\": \"Kulturell verksemd, underhaldning og fritidsaktivitetar\", \"orientation\": \"v\", \"showlegend\": true, \"x\": [1.1], \"xaxis\": \"x\", \"y\": [61], \"yaxis\": \"y\", \"type\": \"scatter\"}], \"name\": \"2018K4\"}, {\"data\": [{\"hovertemplate\": \"<b>%{hovertext}</b><br><br>n\\u00e6ring (SN2007)=Bergverksdrift og utvinning<br>kvartal=2019K1<br>Ledige stillingar (prosent)=%{x}<br>Sysselsatte=%{y}<br>Ledige stillingar=%{marker.size}<extra></extra>\", \"hovertext\": [\"Bergverksdrift og utvinning\"], \"ids\": [\"Bergverksdrift og utvinning\"], \"legendgroup\": \"Bergverksdrift og utvinning\", \"marker\": {\"color\": \"#636efa\", \"size\": [1500.0], \"sizemode\": \"area\", \"sizeref\": 4.32, \"symbol\": \"circle\"}, \"mode\": \"markers\", \"name\": \"Bergverksdrift og utvinning\", \"orientation\": \"v\", \"showlegend\": true, \"x\": [2.5], \"xaxis\": \"x\", \"y\": [61], \"yaxis\": \"y\", \"type\": \"scatter\"}, {\"hovertemplate\": \"<b>%{hovertext}</b><br><br>n\\u00e6ring (SN2007)=Byggje- og anleggsverksemd<br>kvartal=2019K1<br>Ledige stillingar (prosent)=%{x}<br>Sysselsatte=%{y}<br>Ledige stillingar=%{marker.size}<extra></extra>\", \"hovertext\": [\"Byggje- og anleggsverksemd\"], \"ids\": [\"Byggje- og anleggsverksemd\"], \"legendgroup\": \"Byggje- og anleggsverksemd\", \"marker\": {\"color\": \"#EF553B\", \"size\": [5400.0], \"sizemode\": \"area\", \"sizeref\": 4.32, \"symbol\": \"circle\"}, \"mode\": \"markers\", \"name\": \"Byggje- og anleggsverksemd\", \"orientation\": \"v\", \"showlegend\": true, \"x\": [2.3], \"xaxis\": \"x\", \"y\": [221], \"yaxis\": \"y\", \"type\": \"scatter\"}, {\"hovertemplate\": \"<b>%{hovertext}</b><br><br>n\\u00e6ring (SN2007)=Informasjon og kommunikasjon<br>kvartal=2019K1<br>Ledige stillingar (prosent)=%{x}<br>Sysselsatte=%{y}<br>Ledige stillingar=%{marker.size}<extra></extra>\", \"hovertext\": [\"Informasjon og kommunikasjon\"], \"ids\": [\"Informasjon og kommunikasjon\"], \"legendgroup\": \"Informasjon og kommunikasjon\", \"marker\": {\"color\": \"#00cc96\", \"size\": [4700.0], \"sizemode\": \"area\", \"sizeref\": 4.32, \"symbol\": \"circle\"}, \"mode\": \"markers\", \"name\": \"Informasjon og kommunikasjon\", \"orientation\": \"v\", \"showlegend\": true, \"x\": [4.8], \"xaxis\": \"x\", \"y\": [104], \"yaxis\": \"y\", \"type\": \"scatter\"}, {\"hovertemplate\": \"<b>%{hovertext}</b><br><br>n\\u00e6ring (SN2007)=Finansierings- og forsikringsverksemd<br>kvartal=2019K1<br>Ledige stillingar (prosent)=%{x}<br>Sysselsatte=%{y}<br>Ledige stillingar=%{marker.size}<extra></extra>\", \"hovertext\": [\"Finansierings- og forsikringsverksemd\"], \"ids\": [\"Finansierings- og forsikringsverksemd\"], \"legendgroup\": \"Finansierings- og forsikringsverksemd\", \"marker\": {\"color\": \"#ab63fa\", \"size\": [800.0], \"sizemode\": \"area\", \"sizeref\": 4.32, \"symbol\": \"circle\"}, \"mode\": \"markers\", \"name\": \"Finansierings- og forsikringsverksemd\", \"orientation\": \"v\", \"showlegend\": true, \"x\": [1.7], \"xaxis\": \"x\", \"y\": [53], \"yaxis\": \"y\", \"type\": \"scatter\"}, {\"hovertemplate\": \"<b>%{hovertext}</b><br><br>n\\u00e6ring (SN2007)=Omsetning og drift av fast eigedom<br>kvartal=2019K1<br>Ledige stillingar (prosent)=%{x}<br>Sysselsatte=%{y}<br>Ledige stillingar=%{marker.size}<extra></extra>\", \"hovertext\": [\"Omsetning og drift av fast eigedom\"], \"ids\": [\"Omsetning og drift av fast eigedom\"], \"legendgroup\": \"Omsetning og drift av fast eigedom\", \"marker\": {\"color\": \"#FFA15A\", \"size\": [600.0], \"sizemode\": \"area\", \"sizeref\": 4.32, \"symbol\": \"circle\"}, \"mode\": \"markers\", \"name\": \"Omsetning og drift av fast eigedom\", \"orientation\": \"v\", \"showlegend\": true, \"x\": [2.2], \"xaxis\": \"x\", \"y\": [28], \"yaxis\": \"y\", \"type\": \"scatter\"}, {\"hovertemplate\": \"<b>%{hovertext}</b><br><br>n\\u00e6ring (SN2007)=Fagleg, vitskapleg og teknisk tenesteyting<br>kvartal=2019K1<br>Ledige stillingar (prosent)=%{x}<br>Sysselsatte=%{y}<br>Ledige stillingar=%{marker.size}<extra></extra>\", \"hovertext\": [\"Fagleg, vitskapleg og teknisk tenesteyting\"], \"ids\": [\"Fagleg, vitskapleg og teknisk tenesteyting\"], \"legendgroup\": \"Fagleg, vitskapleg og teknisk tenesteyting\", \"marker\": {\"color\": \"#19d3f3\", \"size\": [4700.0], \"sizemode\": \"area\", \"sizeref\": 4.32, \"symbol\": \"circle\"}, \"mode\": \"markers\", \"name\": \"Fagleg, vitskapleg og teknisk tenesteyting\", \"orientation\": \"v\", \"showlegend\": true, \"x\": [3.2], \"xaxis\": \"x\", \"y\": [158], \"yaxis\": \"y\", \"type\": \"scatter\"}, {\"hovertemplate\": \"<b>%{hovertext}</b><br><br>n\\u00e6ring (SN2007)=Forretningsmessig tenesteyting<br>kvartal=2019K1<br>Ledige stillingar (prosent)=%{x}<br>Sysselsatte=%{y}<br>Ledige stillingar=%{marker.size}<extra></extra>\", \"hovertext\": [\"Forretningsmessig tenesteyting\"], \"ids\": [\"Forretningsmessig tenesteyting\"], \"legendgroup\": \"Forretningsmessig tenesteyting\", \"marker\": {\"color\": \"#FF6692\", \"size\": [8800.0], \"sizemode\": \"area\", \"sizeref\": 4.32, \"symbol\": \"circle\"}, \"mode\": \"markers\", \"name\": \"Forretningsmessig tenesteyting\", \"orientation\": \"v\", \"showlegend\": true, \"x\": [5.4], \"xaxis\": \"x\", \"y\": [129], \"yaxis\": \"y\", \"type\": \"scatter\"}, {\"hovertemplate\": \"<b>%{hovertext}</b><br><br>n\\u00e6ring (SN2007)=Offentleg administrasjon og forsvar, og trygdeordningar underordna offentleg forvalting<br>kvartal=2019K1<br>Ledige stillingar (prosent)=%{x}<br>Sysselsatte=%{y}<br>Ledige stillingar=%{marker.size}<extra></extra>\", \"hovertext\": [\"Offentleg administrasjon og forsvar, og trygdeordningar underordna offentleg forvalting\"], \"ids\": [\"Offentleg administrasjon og forsvar, og trygdeordningar underordna offentleg forvalting\"], \"legendgroup\": \"Offentleg administrasjon og forsvar, og trygdeordningar underordna offentleg forvalting\", \"marker\": {\"color\": \"#B6E880\", \"size\": [4100.0], \"sizemode\": \"area\", \"sizeref\": 4.32, \"symbol\": \"circle\"}, \"mode\": \"markers\", \"name\": \"Offentleg administrasjon og forsvar, og trygdeordningar underordna offentleg forvalting\", \"orientation\": \"v\", \"showlegend\": true, \"x\": [2.2], \"xaxis\": \"x\", \"y\": [177], \"yaxis\": \"y\", \"type\": \"scatter\"}, {\"hovertemplate\": \"<b>%{hovertext}</b><br><br>n\\u00e6ring (SN2007)=Undervisning<br>kvartal=2019K1<br>Ledige stillingar (prosent)=%{x}<br>Sysselsatte=%{y}<br>Ledige stillingar=%{marker.size}<extra></extra>\", \"hovertext\": [\"Undervisning\"], \"ids\": [\"Undervisning\"], \"legendgroup\": \"Undervisning\", \"marker\": {\"color\": \"#FF97FF\", \"size\": [4900.0], \"sizemode\": \"area\", \"sizeref\": 4.32, \"symbol\": \"circle\"}, \"mode\": \"markers\", \"name\": \"Undervisning\", \"orientation\": \"v\", \"showlegend\": true, \"x\": [1.9], \"xaxis\": \"x\", \"y\": [224], \"yaxis\": \"y\", \"type\": \"scatter\"}, {\"hovertemplate\": \"<b>%{hovertext}</b><br><br>n\\u00e6ring (SN2007)=Kulturell verksemd, underhaldning og fritidsaktivitetar<br>kvartal=2019K1<br>Ledige stillingar (prosent)=%{x}<br>Sysselsatte=%{y}<br>Ledige stillingar=%{marker.size}<extra></extra>\", \"hovertext\": [\"Kulturell verksemd, underhaldning og fritidsaktivitetar\"], \"ids\": [\"Kulturell verksemd, underhaldning og fritidsaktivitetar\"], \"legendgroup\": \"Kulturell verksemd, underhaldning og fritidsaktivitetar\", \"marker\": {\"color\": \"#FECB52\", \"size\": [1400.0], \"sizemode\": \"area\", \"sizeref\": 4.32, \"symbol\": \"circle\"}, \"mode\": \"markers\", \"name\": \"Kulturell verksemd, underhaldning og fritidsaktivitetar\", \"orientation\": \"v\", \"showlegend\": true, \"x\": [2.6], \"xaxis\": \"x\", \"y\": [66], \"yaxis\": \"y\", \"type\": \"scatter\"}], \"name\": \"2019K1\"}, {\"data\": [{\"hovertemplate\": \"<b>%{hovertext}</b><br><br>n\\u00e6ring (SN2007)=Bergverksdrift og utvinning<br>kvartal=2019K2<br>Ledige stillingar (prosent)=%{x}<br>Sysselsatte=%{y}<br>Ledige stillingar=%{marker.size}<extra></extra>\", \"hovertext\": [\"Bergverksdrift og utvinning\"], \"ids\": [\"Bergverksdrift og utvinning\"], \"legendgroup\": \"Bergverksdrift og utvinning\", \"marker\": {\"color\": \"#636efa\", \"size\": [1500.0], \"sizemode\": \"area\", \"sizeref\": 4.32, \"symbol\": \"circle\"}, \"mode\": \"markers\", \"name\": \"Bergverksdrift og utvinning\", \"orientation\": \"v\", \"showlegend\": true, \"x\": [2.5], \"xaxis\": \"x\", \"y\": [61], \"yaxis\": \"y\", \"type\": \"scatter\"}, {\"hovertemplate\": \"<b>%{hovertext}</b><br><br>n\\u00e6ring (SN2007)=Byggje- og anleggsverksemd<br>kvartal=2019K2<br>Ledige stillingar (prosent)=%{x}<br>Sysselsatte=%{y}<br>Ledige stillingar=%{marker.size}<extra></extra>\", \"hovertext\": [\"Byggje- og anleggsverksemd\"], \"ids\": [\"Byggje- og anleggsverksemd\"], \"legendgroup\": \"Byggje- og anleggsverksemd\", \"marker\": {\"color\": \"#EF553B\", \"size\": [6200.0], \"sizemode\": \"area\", \"sizeref\": 4.32, \"symbol\": \"circle\"}, \"mode\": \"markers\", \"name\": \"Byggje- og anleggsverksemd\", \"orientation\": \"v\", \"showlegend\": true, \"x\": [2.5], \"xaxis\": \"x\", \"y\": [222], \"yaxis\": \"y\", \"type\": \"scatter\"}, {\"hovertemplate\": \"<b>%{hovertext}</b><br><br>n\\u00e6ring (SN2007)=Informasjon og kommunikasjon<br>kvartal=2019K2<br>Ledige stillingar (prosent)=%{x}<br>Sysselsatte=%{y}<br>Ledige stillingar=%{marker.size}<extra></extra>\", \"hovertext\": [\"Informasjon og kommunikasjon\"], \"ids\": [\"Informasjon og kommunikasjon\"], \"legendgroup\": \"Informasjon og kommunikasjon\", \"marker\": {\"color\": \"#00cc96\", \"size\": [4800.0], \"sizemode\": \"area\", \"sizeref\": 4.32, \"symbol\": \"circle\"}, \"mode\": \"markers\", \"name\": \"Informasjon og kommunikasjon\", \"orientation\": \"v\", \"showlegend\": true, \"x\": [4.7], \"xaxis\": \"x\", \"y\": [105], \"yaxis\": \"y\", \"type\": \"scatter\"}, {\"hovertemplate\": \"<b>%{hovertext}</b><br><br>n\\u00e6ring (SN2007)=Finansierings- og forsikringsverksemd<br>kvartal=2019K2<br>Ledige stillingar (prosent)=%{x}<br>Sysselsatte=%{y}<br>Ledige stillingar=%{marker.size}<extra></extra>\", \"hovertext\": [\"Finansierings- og forsikringsverksemd\"], \"ids\": [\"Finansierings- og forsikringsverksemd\"], \"legendgroup\": \"Finansierings- og forsikringsverksemd\", \"marker\": {\"color\": \"#ab63fa\", \"size\": [1000.0], \"sizemode\": \"area\", \"sizeref\": 4.32, \"symbol\": \"circle\"}, \"mode\": \"markers\", \"name\": \"Finansierings- og forsikringsverksemd\", \"orientation\": \"v\", \"showlegend\": true, \"x\": [2.1], \"xaxis\": \"x\", \"y\": [50], \"yaxis\": \"y\", \"type\": \"scatter\"}, {\"hovertemplate\": \"<b>%{hovertext}</b><br><br>n\\u00e6ring (SN2007)=Omsetning og drift av fast eigedom<br>kvartal=2019K2<br>Ledige stillingar (prosent)=%{x}<br>Sysselsatte=%{y}<br>Ledige stillingar=%{marker.size}<extra></extra>\", \"hovertext\": [\"Omsetning og drift av fast eigedom\"], \"ids\": [\"Omsetning og drift av fast eigedom\"], \"legendgroup\": \"Omsetning og drift av fast eigedom\", \"marker\": {\"color\": \"#FFA15A\", \"size\": [700.0], \"sizemode\": \"area\", \"sizeref\": 4.32, \"symbol\": \"circle\"}, \"mode\": \"markers\", \"name\": \"Omsetning og drift av fast eigedom\", \"orientation\": \"v\", \"showlegend\": true, \"x\": [2.7], \"xaxis\": \"x\", \"y\": [27], \"yaxis\": \"y\", \"type\": \"scatter\"}, {\"hovertemplate\": \"<b>%{hovertext}</b><br><br>n\\u00e6ring (SN2007)=Fagleg, vitskapleg og teknisk tenesteyting<br>kvartal=2019K2<br>Ledige stillingar (prosent)=%{x}<br>Sysselsatte=%{y}<br>Ledige stillingar=%{marker.size}<extra></extra>\", \"hovertext\": [\"Fagleg, vitskapleg og teknisk tenesteyting\"], \"ids\": [\"Fagleg, vitskapleg og teknisk tenesteyting\"], \"legendgroup\": \"Fagleg, vitskapleg og teknisk tenesteyting\", \"marker\": {\"color\": \"#19d3f3\", \"size\": [5100.0], \"sizemode\": \"area\", \"sizeref\": 4.32, \"symbol\": \"circle\"}, \"mode\": \"markers\", \"name\": \"Fagleg, vitskapleg og teknisk tenesteyting\", \"orientation\": \"v\", \"showlegend\": true, \"x\": [3.4], \"xaxis\": \"x\", \"y\": [156], \"yaxis\": \"y\", \"type\": \"scatter\"}, {\"hovertemplate\": \"<b>%{hovertext}</b><br><br>n\\u00e6ring (SN2007)=Forretningsmessig tenesteyting<br>kvartal=2019K2<br>Ledige stillingar (prosent)=%{x}<br>Sysselsatte=%{y}<br>Ledige stillingar=%{marker.size}<extra></extra>\", \"hovertext\": [\"Forretningsmessig tenesteyting\"], \"ids\": [\"Forretningsmessig tenesteyting\"], \"legendgroup\": \"Forretningsmessig tenesteyting\", \"marker\": {\"color\": \"#FF6692\", \"size\": [8200.0], \"sizemode\": \"area\", \"sizeref\": 4.32, \"symbol\": \"circle\"}, \"mode\": \"markers\", \"name\": \"Forretningsmessig tenesteyting\", \"orientation\": \"v\", \"showlegend\": true, \"x\": [4.9], \"xaxis\": \"x\", \"y\": [133], \"yaxis\": \"y\", \"type\": \"scatter\"}, {\"hovertemplate\": \"<b>%{hovertext}</b><br><br>n\\u00e6ring (SN2007)=Offentleg administrasjon og forsvar, og trygdeordningar underordna offentleg forvalting<br>kvartal=2019K2<br>Ledige stillingar (prosent)=%{x}<br>Sysselsatte=%{y}<br>Ledige stillingar=%{marker.size}<extra></extra>\", \"hovertext\": [\"Offentleg administrasjon og forsvar, og trygdeordningar underordna offentleg forvalting\"], \"ids\": [\"Offentleg administrasjon og forsvar, og trygdeordningar underordna offentleg forvalting\"], \"legendgroup\": \"Offentleg administrasjon og forsvar, og trygdeordningar underordna offentleg forvalting\", \"marker\": {\"color\": \"#B6E880\", \"size\": [4000.0], \"sizemode\": \"area\", \"sizeref\": 4.32, \"symbol\": \"circle\"}, \"mode\": \"markers\", \"name\": \"Offentleg administrasjon og forsvar, og trygdeordningar underordna offentleg forvalting\", \"orientation\": \"v\", \"showlegend\": true, \"x\": [2.1], \"xaxis\": \"x\", \"y\": [175], \"yaxis\": \"y\", \"type\": \"scatter\"}, {\"hovertemplate\": \"<b>%{hovertext}</b><br><br>n\\u00e6ring (SN2007)=Undervisning<br>kvartal=2019K2<br>Ledige stillingar (prosent)=%{x}<br>Sysselsatte=%{y}<br>Ledige stillingar=%{marker.size}<extra></extra>\", \"hovertext\": [\"Undervisning\"], \"ids\": [\"Undervisning\"], \"legendgroup\": \"Undervisning\", \"marker\": {\"color\": \"#FF97FF\", \"size\": [8000.0], \"sizemode\": \"area\", \"sizeref\": 4.32, \"symbol\": \"circle\"}, \"mode\": \"markers\", \"name\": \"Undervisning\", \"orientation\": \"v\", \"showlegend\": true, \"x\": [3.1], \"xaxis\": \"x\", \"y\": [232], \"yaxis\": \"y\", \"type\": \"scatter\"}, {\"hovertemplate\": \"<b>%{hovertext}</b><br><br>n\\u00e6ring (SN2007)=Kulturell verksemd, underhaldning og fritidsaktivitetar<br>kvartal=2019K2<br>Ledige stillingar (prosent)=%{x}<br>Sysselsatte=%{y}<br>Ledige stillingar=%{marker.size}<extra></extra>\", \"hovertext\": [\"Kulturell verksemd, underhaldning og fritidsaktivitetar\"], \"ids\": [\"Kulturell verksemd, underhaldning og fritidsaktivitetar\"], \"legendgroup\": \"Kulturell verksemd, underhaldning og fritidsaktivitetar\", \"marker\": {\"color\": \"#FECB52\", \"size\": [1100.0], \"sizemode\": \"area\", \"sizeref\": 4.32, \"symbol\": \"circle\"}, \"mode\": \"markers\", \"name\": \"Kulturell verksemd, underhaldning og fritidsaktivitetar\", \"orientation\": \"v\", \"showlegend\": true, \"x\": [2.0], \"xaxis\": \"x\", \"y\": [60], \"yaxis\": \"y\", \"type\": \"scatter\"}], \"name\": \"2019K2\"}, {\"data\": [{\"hovertemplate\": \"<b>%{hovertext}</b><br><br>n\\u00e6ring (SN2007)=Bergverksdrift og utvinning<br>kvartal=2019K3<br>Ledige stillingar (prosent)=%{x}<br>Sysselsatte=%{y}<br>Ledige stillingar=%{marker.size}<extra></extra>\", \"hovertext\": [\"Bergverksdrift og utvinning\"], \"ids\": [\"Bergverksdrift og utvinning\"], \"legendgroup\": \"Bergverksdrift og utvinning\", \"marker\": {\"color\": \"#636efa\", \"size\": [1100.0], \"sizemode\": \"area\", \"sizeref\": 4.32, \"symbol\": \"circle\"}, \"mode\": \"markers\", \"name\": \"Bergverksdrift og utvinning\", \"orientation\": \"v\", \"showlegend\": true, \"x\": [1.8], \"xaxis\": \"x\", \"y\": [60], \"yaxis\": \"y\", \"type\": \"scatter\"}, {\"hovertemplate\": \"<b>%{hovertext}</b><br><br>n\\u00e6ring (SN2007)=Byggje- og anleggsverksemd<br>kvartal=2019K3<br>Ledige stillingar (prosent)=%{x}<br>Sysselsatte=%{y}<br>Ledige stillingar=%{marker.size}<extra></extra>\", \"hovertext\": [\"Byggje- og anleggsverksemd\"], \"ids\": [\"Byggje- og anleggsverksemd\"], \"legendgroup\": \"Byggje- og anleggsverksemd\", \"marker\": {\"color\": \"#EF553B\", \"size\": [5300.0], \"sizemode\": \"area\", \"sizeref\": 4.32, \"symbol\": \"circle\"}, \"mode\": \"markers\", \"name\": \"Byggje- og anleggsverksemd\", \"orientation\": \"v\", \"showlegend\": true, \"x\": [2.1], \"xaxis\": \"x\", \"y\": [232], \"yaxis\": \"y\", \"type\": \"scatter\"}, {\"hovertemplate\": \"<b>%{hovertext}</b><br><br>n\\u00e6ring (SN2007)=Informasjon og kommunikasjon<br>kvartal=2019K3<br>Ledige stillingar (prosent)=%{x}<br>Sysselsatte=%{y}<br>Ledige stillingar=%{marker.size}<extra></extra>\", \"hovertext\": [\"Informasjon og kommunikasjon\"], \"ids\": [\"Informasjon og kommunikasjon\"], \"legendgroup\": \"Informasjon og kommunikasjon\", \"marker\": {\"color\": \"#00cc96\", \"size\": [4800.0], \"sizemode\": \"area\", \"sizeref\": 4.32, \"symbol\": \"circle\"}, \"mode\": \"markers\", \"name\": \"Informasjon og kommunikasjon\", \"orientation\": \"v\", \"showlegend\": true, \"x\": [4.6], \"xaxis\": \"x\", \"y\": [110], \"yaxis\": \"y\", \"type\": \"scatter\"}, {\"hovertemplate\": \"<b>%{hovertext}</b><br><br>n\\u00e6ring (SN2007)=Finansierings- og forsikringsverksemd<br>kvartal=2019K3<br>Ledige stillingar (prosent)=%{x}<br>Sysselsatte=%{y}<br>Ledige stillingar=%{marker.size}<extra></extra>\", \"hovertext\": [\"Finansierings- og forsikringsverksemd\"], \"ids\": [\"Finansierings- og forsikringsverksemd\"], \"legendgroup\": \"Finansierings- og forsikringsverksemd\", \"marker\": {\"color\": \"#ab63fa\", \"size\": [800.0], \"sizemode\": \"area\", \"sizeref\": 4.32, \"symbol\": \"circle\"}, \"mode\": \"markers\", \"name\": \"Finansierings- og forsikringsverksemd\", \"orientation\": \"v\", \"showlegend\": true, \"x\": [1.7], \"xaxis\": \"x\", \"y\": [50], \"yaxis\": \"y\", \"type\": \"scatter\"}, {\"hovertemplate\": \"<b>%{hovertext}</b><br><br>n\\u00e6ring (SN2007)=Omsetning og drift av fast eigedom<br>kvartal=2019K3<br>Ledige stillingar (prosent)=%{x}<br>Sysselsatte=%{y}<br>Ledige stillingar=%{marker.size}<extra></extra>\", \"hovertext\": [\"Omsetning og drift av fast eigedom\"], \"ids\": [\"Omsetning og drift av fast eigedom\"], \"legendgroup\": \"Omsetning og drift av fast eigedom\", \"marker\": {\"color\": \"#FFA15A\", \"size\": [700.0], \"sizemode\": \"area\", \"sizeref\": 4.32, \"symbol\": \"circle\"}, \"mode\": \"markers\", \"name\": \"Omsetning og drift av fast eigedom\", \"orientation\": \"v\", \"showlegend\": true, \"x\": [2.3], \"xaxis\": \"x\", \"y\": [26], \"yaxis\": \"y\", \"type\": \"scatter\"}, {\"hovertemplate\": \"<b>%{hovertext}</b><br><br>n\\u00e6ring (SN2007)=Fagleg, vitskapleg og teknisk tenesteyting<br>kvartal=2019K3<br>Ledige stillingar (prosent)=%{x}<br>Sysselsatte=%{y}<br>Ledige stillingar=%{marker.size}<extra></extra>\", \"hovertext\": [\"Fagleg, vitskapleg og teknisk tenesteyting\"], \"ids\": [\"Fagleg, vitskapleg og teknisk tenesteyting\"], \"legendgroup\": \"Fagleg, vitskapleg og teknisk tenesteyting\", \"marker\": {\"color\": \"#19d3f3\", \"size\": [5300.0], \"sizemode\": \"area\", \"sizeref\": 4.32, \"symbol\": \"circle\"}, \"mode\": \"markers\", \"name\": \"Fagleg, vitskapleg og teknisk tenesteyting\", \"orientation\": \"v\", \"showlegend\": true, \"x\": [3.6], \"xaxis\": \"x\", \"y\": [159], \"yaxis\": \"y\", \"type\": \"scatter\"}, {\"hovertemplate\": \"<b>%{hovertext}</b><br><br>n\\u00e6ring (SN2007)=Forretningsmessig tenesteyting<br>kvartal=2019K3<br>Ledige stillingar (prosent)=%{x}<br>Sysselsatte=%{y}<br>Ledige stillingar=%{marker.size}<extra></extra>\", \"hovertext\": [\"Forretningsmessig tenesteyting\"], \"ids\": [\"Forretningsmessig tenesteyting\"], \"legendgroup\": \"Forretningsmessig tenesteyting\", \"marker\": {\"color\": \"#FF6692\", \"size\": [6900.0], \"sizemode\": \"area\", \"sizeref\": 4.32, \"symbol\": \"circle\"}, \"mode\": \"markers\", \"name\": \"Forretningsmessig tenesteyting\", \"orientation\": \"v\", \"showlegend\": true, \"x\": [4.0], \"xaxis\": \"x\", \"y\": [140], \"yaxis\": \"y\", \"type\": \"scatter\"}, {\"hovertemplate\": \"<b>%{hovertext}</b><br><br>n\\u00e6ring (SN2007)=Offentleg administrasjon og forsvar, og trygdeordningar underordna offentleg forvalting<br>kvartal=2019K3<br>Ledige stillingar (prosent)=%{x}<br>Sysselsatte=%{y}<br>Ledige stillingar=%{marker.size}<extra></extra>\", \"hovertext\": [\"Offentleg administrasjon og forsvar, og trygdeordningar underordna offentleg forvalting\"], \"ids\": [\"Offentleg administrasjon og forsvar, og trygdeordningar underordna offentleg forvalting\"], \"legendgroup\": \"Offentleg administrasjon og forsvar, og trygdeordningar underordna offentleg forvalting\", \"marker\": {\"color\": \"#B6E880\", \"size\": [3900.0], \"sizemode\": \"area\", \"sizeref\": 4.32, \"symbol\": \"circle\"}, \"mode\": \"markers\", \"name\": \"Offentleg administrasjon og forsvar, og trygdeordningar underordna offentleg forvalting\", \"orientation\": \"v\", \"showlegend\": true, \"x\": [2.0], \"xaxis\": \"x\", \"y\": [175], \"yaxis\": \"y\", \"type\": \"scatter\"}, {\"hovertemplate\": \"<b>%{hovertext}</b><br><br>n\\u00e6ring (SN2007)=Undervisning<br>kvartal=2019K3<br>Ledige stillingar (prosent)=%{x}<br>Sysselsatte=%{y}<br>Ledige stillingar=%{marker.size}<extra></extra>\", \"hovertext\": [\"Undervisning\"], \"ids\": [\"Undervisning\"], \"legendgroup\": \"Undervisning\", \"marker\": {\"color\": \"#FF97FF\", \"size\": [3000.0], \"sizemode\": \"area\", \"sizeref\": 4.32, \"symbol\": \"circle\"}, \"mode\": \"markers\", \"name\": \"Undervisning\", \"orientation\": \"v\", \"showlegend\": true, \"x\": [1.3], \"xaxis\": \"x\", \"y\": [228], \"yaxis\": \"y\", \"type\": \"scatter\"}, {\"hovertemplate\": \"<b>%{hovertext}</b><br><br>n\\u00e6ring (SN2007)=Kulturell verksemd, underhaldning og fritidsaktivitetar<br>kvartal=2019K3<br>Ledige stillingar (prosent)=%{x}<br>Sysselsatte=%{y}<br>Ledige stillingar=%{marker.size}<extra></extra>\", \"hovertext\": [\"Kulturell verksemd, underhaldning og fritidsaktivitetar\"], \"ids\": [\"Kulturell verksemd, underhaldning og fritidsaktivitetar\"], \"legendgroup\": \"Kulturell verksemd, underhaldning og fritidsaktivitetar\", \"marker\": {\"color\": \"#FECB52\", \"size\": [800.0], \"sizemode\": \"area\", \"sizeref\": 4.32, \"symbol\": \"circle\"}, \"mode\": \"markers\", \"name\": \"Kulturell verksemd, underhaldning og fritidsaktivitetar\", \"orientation\": \"v\", \"showlegend\": true, \"x\": [1.6], \"xaxis\": \"x\", \"y\": [63], \"yaxis\": \"y\", \"type\": \"scatter\"}], \"name\": \"2019K3\"}, {\"data\": [{\"hovertemplate\": \"<b>%{hovertext}</b><br><br>n\\u00e6ring (SN2007)=Bergverksdrift og utvinning<br>kvartal=2019K4<br>Ledige stillingar (prosent)=%{x}<br>Sysselsatte=%{y}<br>Ledige stillingar=%{marker.size}<extra></extra>\", \"hovertext\": [\"Bergverksdrift og utvinning\"], \"ids\": [\"Bergverksdrift og utvinning\"], \"legendgroup\": \"Bergverksdrift og utvinning\", \"marker\": {\"color\": \"#636efa\", \"size\": [1400.0], \"sizemode\": \"area\", \"sizeref\": 4.32, \"symbol\": \"circle\"}, \"mode\": \"markers\", \"name\": \"Bergverksdrift og utvinning\", \"orientation\": \"v\", \"showlegend\": true, \"x\": [2.2], \"xaxis\": \"x\", \"y\": [62], \"yaxis\": \"y\", \"type\": \"scatter\"}, {\"hovertemplate\": \"<b>%{hovertext}</b><br><br>n\\u00e6ring (SN2007)=Byggje- og anleggsverksemd<br>kvartal=2019K4<br>Ledige stillingar (prosent)=%{x}<br>Sysselsatte=%{y}<br>Ledige stillingar=%{marker.size}<extra></extra>\", \"hovertext\": [\"Byggje- og anleggsverksemd\"], \"ids\": [\"Byggje- og anleggsverksemd\"], \"legendgroup\": \"Byggje- og anleggsverksemd\", \"marker\": {\"color\": \"#EF553B\", \"size\": [4200.0], \"sizemode\": \"area\", \"sizeref\": 4.32, \"symbol\": \"circle\"}, \"mode\": \"markers\", \"name\": \"Byggje- og anleggsverksemd\", \"orientation\": \"v\", \"showlegend\": true, \"x\": [1.7], \"xaxis\": \"x\", \"y\": [228], \"yaxis\": \"y\", \"type\": \"scatter\"}, {\"hovertemplate\": \"<b>%{hovertext}</b><br><br>n\\u00e6ring (SN2007)=Informasjon og kommunikasjon<br>kvartal=2019K4<br>Ledige stillingar (prosent)=%{x}<br>Sysselsatte=%{y}<br>Ledige stillingar=%{marker.size}<extra></extra>\", \"hovertext\": [\"Informasjon og kommunikasjon\"], \"ids\": [\"Informasjon og kommunikasjon\"], \"legendgroup\": \"Informasjon og kommunikasjon\", \"marker\": {\"color\": \"#00cc96\", \"size\": [4500.0], \"sizemode\": \"area\", \"sizeref\": 4.32, \"symbol\": \"circle\"}, \"mode\": \"markers\", \"name\": \"Informasjon og kommunikasjon\", \"orientation\": \"v\", \"showlegend\": true, \"x\": [4.3], \"xaxis\": \"x\", \"y\": [109], \"yaxis\": \"y\", \"type\": \"scatter\"}, {\"hovertemplate\": \"<b>%{hovertext}</b><br><br>n\\u00e6ring (SN2007)=Finansierings- og forsikringsverksemd<br>kvartal=2019K4<br>Ledige stillingar (prosent)=%{x}<br>Sysselsatte=%{y}<br>Ledige stillingar=%{marker.size}<extra></extra>\", \"hovertext\": [\"Finansierings- og forsikringsverksemd\"], \"ids\": [\"Finansierings- og forsikringsverksemd\"], \"legendgroup\": \"Finansierings- og forsikringsverksemd\", \"marker\": {\"color\": \"#ab63fa\", \"size\": [800.0], \"sizemode\": \"area\", \"sizeref\": 4.32, \"symbol\": \"circle\"}, \"mode\": \"markers\", \"name\": \"Finansierings- og forsikringsverksemd\", \"orientation\": \"v\", \"showlegend\": true, \"x\": [1.6], \"xaxis\": \"x\", \"y\": [46], \"yaxis\": \"y\", \"type\": \"scatter\"}, {\"hovertemplate\": \"<b>%{hovertext}</b><br><br>n\\u00e6ring (SN2007)=Omsetning og drift av fast eigedom<br>kvartal=2019K4<br>Ledige stillingar (prosent)=%{x}<br>Sysselsatte=%{y}<br>Ledige stillingar=%{marker.size}<extra></extra>\", \"hovertext\": [\"Omsetning og drift av fast eigedom\"], \"ids\": [\"Omsetning og drift av fast eigedom\"], \"legendgroup\": \"Omsetning og drift av fast eigedom\", \"marker\": {\"color\": \"#FFA15A\", \"size\": [600.0], \"sizemode\": \"area\", \"sizeref\": 4.32, \"symbol\": \"circle\"}, \"mode\": \"markers\", \"name\": \"Omsetning og drift av fast eigedom\", \"orientation\": \"v\", \"showlegend\": true, \"x\": [2.1], \"xaxis\": \"x\", \"y\": [29], \"yaxis\": \"y\", \"type\": \"scatter\"}, {\"hovertemplate\": \"<b>%{hovertext}</b><br><br>n\\u00e6ring (SN2007)=Fagleg, vitskapleg og teknisk tenesteyting<br>kvartal=2019K4<br>Ledige stillingar (prosent)=%{x}<br>Sysselsatte=%{y}<br>Ledige stillingar=%{marker.size}<extra></extra>\", \"hovertext\": [\"Fagleg, vitskapleg og teknisk tenesteyting\"], \"ids\": [\"Fagleg, vitskapleg og teknisk tenesteyting\"], \"legendgroup\": \"Fagleg, vitskapleg og teknisk tenesteyting\", \"marker\": {\"color\": \"#19d3f3\", \"size\": [4200.0], \"sizemode\": \"area\", \"sizeref\": 4.32, \"symbol\": \"circle\"}, \"mode\": \"markers\", \"name\": \"Fagleg, vitskapleg og teknisk tenesteyting\", \"orientation\": \"v\", \"showlegend\": true, \"x\": [2.8], \"xaxis\": \"x\", \"y\": [163], \"yaxis\": \"y\", \"type\": \"scatter\"}, {\"hovertemplate\": \"<b>%{hovertext}</b><br><br>n\\u00e6ring (SN2007)=Forretningsmessig tenesteyting<br>kvartal=2019K4<br>Ledige stillingar (prosent)=%{x}<br>Sysselsatte=%{y}<br>Ledige stillingar=%{marker.size}<extra></extra>\", \"hovertext\": [\"Forretningsmessig tenesteyting\"], \"ids\": [\"Forretningsmessig tenesteyting\"], \"legendgroup\": \"Forretningsmessig tenesteyting\", \"marker\": {\"color\": \"#FF6692\", \"size\": [6300.0], \"sizemode\": \"area\", \"sizeref\": 4.32, \"symbol\": \"circle\"}, \"mode\": \"markers\", \"name\": \"Forretningsmessig tenesteyting\", \"orientation\": \"v\", \"showlegend\": true, \"x\": [3.7], \"xaxis\": \"x\", \"y\": [134], \"yaxis\": \"y\", \"type\": \"scatter\"}, {\"hovertemplate\": \"<b>%{hovertext}</b><br><br>n\\u00e6ring (SN2007)=Offentleg administrasjon og forsvar, og trygdeordningar underordna offentleg forvalting<br>kvartal=2019K4<br>Ledige stillingar (prosent)=%{x}<br>Sysselsatte=%{y}<br>Ledige stillingar=%{marker.size}<extra></extra>\", \"hovertext\": [\"Offentleg administrasjon og forsvar, og trygdeordningar underordna offentleg forvalting\"], \"ids\": [\"Offentleg administrasjon og forsvar, og trygdeordningar underordna offentleg forvalting\"], \"legendgroup\": \"Offentleg administrasjon og forsvar, og trygdeordningar underordna offentleg forvalting\", \"marker\": {\"color\": \"#B6E880\", \"size\": [4100.0], \"sizemode\": \"area\", \"sizeref\": 4.32, \"symbol\": \"circle\"}, \"mode\": \"markers\", \"name\": \"Offentleg administrasjon og forsvar, og trygdeordningar underordna offentleg forvalting\", \"orientation\": \"v\", \"showlegend\": true, \"x\": [2.2], \"xaxis\": \"x\", \"y\": [174], \"yaxis\": \"y\", \"type\": \"scatter\"}, {\"hovertemplate\": \"<b>%{hovertext}</b><br><br>n\\u00e6ring (SN2007)=Undervisning<br>kvartal=2019K4<br>Ledige stillingar (prosent)=%{x}<br>Sysselsatte=%{y}<br>Ledige stillingar=%{marker.size}<extra></extra>\", \"hovertext\": [\"Undervisning\"], \"ids\": [\"Undervisning\"], \"legendgroup\": \"Undervisning\", \"marker\": {\"color\": \"#FF97FF\", \"size\": [3400.0], \"sizemode\": \"area\", \"sizeref\": 4.32, \"symbol\": \"circle\"}, \"mode\": \"markers\", \"name\": \"Undervisning\", \"orientation\": \"v\", \"showlegend\": true, \"x\": [1.3], \"xaxis\": \"x\", \"y\": [236], \"yaxis\": \"y\", \"type\": \"scatter\"}, {\"hovertemplate\": \"<b>%{hovertext}</b><br><br>n\\u00e6ring (SN2007)=Kulturell verksemd, underhaldning og fritidsaktivitetar<br>kvartal=2019K4<br>Ledige stillingar (prosent)=%{x}<br>Sysselsatte=%{y}<br>Ledige stillingar=%{marker.size}<extra></extra>\", \"hovertext\": [\"Kulturell verksemd, underhaldning og fritidsaktivitetar\"], \"ids\": [\"Kulturell verksemd, underhaldning og fritidsaktivitetar\"], \"legendgroup\": \"Kulturell verksemd, underhaldning og fritidsaktivitetar\", \"marker\": {\"color\": \"#FECB52\", \"size\": [800.0], \"sizemode\": \"area\", \"sizeref\": 4.32, \"symbol\": \"circle\"}, \"mode\": \"markers\", \"name\": \"Kulturell verksemd, underhaldning og fritidsaktivitetar\", \"orientation\": \"v\", \"showlegend\": true, \"x\": [1.5], \"xaxis\": \"x\", \"y\": [63], \"yaxis\": \"y\", \"type\": \"scatter\"}], \"name\": \"2019K4\"}, {\"data\": [{\"hovertemplate\": \"<b>%{hovertext}</b><br><br>n\\u00e6ring (SN2007)=Bergverksdrift og utvinning<br>kvartal=2020K1<br>Ledige stillingar (prosent)=%{x}<br>Sysselsatte=%{y}<br>Ledige stillingar=%{marker.size}<extra></extra>\", \"hovertext\": [\"Bergverksdrift og utvinning\"], \"ids\": [\"Bergverksdrift og utvinning\"], \"legendgroup\": \"Bergverksdrift og utvinning\", \"marker\": {\"color\": \"#636efa\", \"size\": [900.0], \"sizemode\": \"area\", \"sizeref\": 4.32, \"symbol\": \"circle\"}, \"mode\": \"markers\", \"name\": \"Bergverksdrift og utvinning\", \"orientation\": \"v\", \"showlegend\": true, \"x\": [1.5], \"xaxis\": \"x\", \"y\": [60], \"yaxis\": \"y\", \"type\": \"scatter\"}, {\"hovertemplate\": \"<b>%{hovertext}</b><br><br>n\\u00e6ring (SN2007)=Byggje- og anleggsverksemd<br>kvartal=2020K1<br>Ledige stillingar (prosent)=%{x}<br>Sysselsatte=%{y}<br>Ledige stillingar=%{marker.size}<extra></extra>\", \"hovertext\": [\"Byggje- og anleggsverksemd\"], \"ids\": [\"Byggje- og anleggsverksemd\"], \"legendgroup\": \"Byggje- og anleggsverksemd\", \"marker\": {\"color\": \"#EF553B\", \"size\": [5700.0], \"sizemode\": \"area\", \"sizeref\": 4.32, \"symbol\": \"circle\"}, \"mode\": \"markers\", \"name\": \"Byggje- og anleggsverksemd\", \"orientation\": \"v\", \"showlegend\": true, \"x\": [2.4], \"xaxis\": \"x\", \"y\": [225], \"yaxis\": \"y\", \"type\": \"scatter\"}, {\"hovertemplate\": \"<b>%{hovertext}</b><br><br>n\\u00e6ring (SN2007)=Informasjon og kommunikasjon<br>kvartal=2020K1<br>Ledige stillingar (prosent)=%{x}<br>Sysselsatte=%{y}<br>Ledige stillingar=%{marker.size}<extra></extra>\", \"hovertext\": [\"Informasjon og kommunikasjon\"], \"ids\": [\"Informasjon og kommunikasjon\"], \"legendgroup\": \"Informasjon og kommunikasjon\", \"marker\": {\"color\": \"#00cc96\", \"size\": [5000.0], \"sizemode\": \"area\", \"sizeref\": 4.32, \"symbol\": \"circle\"}, \"mode\": \"markers\", \"name\": \"Informasjon og kommunikasjon\", \"orientation\": \"v\", \"showlegend\": true, \"x\": [4.8], \"xaxis\": \"x\", \"y\": [110], \"yaxis\": \"y\", \"type\": \"scatter\"}, {\"hovertemplate\": \"<b>%{hovertext}</b><br><br>n\\u00e6ring (SN2007)=Finansierings- og forsikringsverksemd<br>kvartal=2020K1<br>Ledige stillingar (prosent)=%{x}<br>Sysselsatte=%{y}<br>Ledige stillingar=%{marker.size}<extra></extra>\", \"hovertext\": [\"Finansierings- og forsikringsverksemd\"], \"ids\": [\"Finansierings- og forsikringsverksemd\"], \"legendgroup\": \"Finansierings- og forsikringsverksemd\", \"marker\": {\"color\": \"#ab63fa\", \"size\": [1300.0], \"sizemode\": \"area\", \"sizeref\": 4.32, \"symbol\": \"circle\"}, \"mode\": \"markers\", \"name\": \"Finansierings- og forsikringsverksemd\", \"orientation\": \"v\", \"showlegend\": true, \"x\": [2.7], \"xaxis\": \"x\", \"y\": [47], \"yaxis\": \"y\", \"type\": \"scatter\"}, {\"hovertemplate\": \"<b>%{hovertext}</b><br><br>n\\u00e6ring (SN2007)=Omsetning og drift av fast eigedom<br>kvartal=2020K1<br>Ledige stillingar (prosent)=%{x}<br>Sysselsatte=%{y}<br>Ledige stillingar=%{marker.size}<extra></extra>\", \"hovertext\": [\"Omsetning og drift av fast eigedom\"], \"ids\": [\"Omsetning og drift av fast eigedom\"], \"legendgroup\": \"Omsetning og drift av fast eigedom\", \"marker\": {\"color\": \"#FFA15A\", \"size\": [600.0], \"sizemode\": \"area\", \"sizeref\": 4.32, \"symbol\": \"circle\"}, \"mode\": \"markers\", \"name\": \"Omsetning og drift av fast eigedom\", \"orientation\": \"v\", \"showlegend\": true, \"x\": [2.0], \"xaxis\": \"x\", \"y\": [28], \"yaxis\": \"y\", \"type\": \"scatter\"}, {\"hovertemplate\": \"<b>%{hovertext}</b><br><br>n\\u00e6ring (SN2007)=Fagleg, vitskapleg og teknisk tenesteyting<br>kvartal=2020K1<br>Ledige stillingar (prosent)=%{x}<br>Sysselsatte=%{y}<br>Ledige stillingar=%{marker.size}<extra></extra>\", \"hovertext\": [\"Fagleg, vitskapleg og teknisk tenesteyting\"], \"ids\": [\"Fagleg, vitskapleg og teknisk tenesteyting\"], \"legendgroup\": \"Fagleg, vitskapleg og teknisk tenesteyting\", \"marker\": {\"color\": \"#19d3f3\", \"size\": [4300.0], \"sizemode\": \"area\", \"sizeref\": 4.32, \"symbol\": \"circle\"}, \"mode\": \"markers\", \"name\": \"Fagleg, vitskapleg og teknisk tenesteyting\", \"orientation\": \"v\", \"showlegend\": true, \"x\": [2.9], \"xaxis\": \"x\", \"y\": [161], \"yaxis\": \"y\", \"type\": \"scatter\"}, {\"hovertemplate\": \"<b>%{hovertext}</b><br><br>n\\u00e6ring (SN2007)=Forretningsmessig tenesteyting<br>kvartal=2020K1<br>Ledige stillingar (prosent)=%{x}<br>Sysselsatte=%{y}<br>Ledige stillingar=%{marker.size}<extra></extra>\", \"hovertext\": [\"Forretningsmessig tenesteyting\"], \"ids\": [\"Forretningsmessig tenesteyting\"], \"legendgroup\": \"Forretningsmessig tenesteyting\", \"marker\": {\"color\": \"#FF6692\", \"size\": [6200.0], \"sizemode\": \"area\", \"sizeref\": 4.32, \"symbol\": \"circle\"}, \"mode\": \"markers\", \"name\": \"Forretningsmessig tenesteyting\", \"orientation\": \"v\", \"showlegend\": true, \"x\": [3.9], \"xaxis\": \"x\", \"y\": [132], \"yaxis\": \"y\", \"type\": \"scatter\"}, {\"hovertemplate\": \"<b>%{hovertext}</b><br><br>n\\u00e6ring (SN2007)=Offentleg administrasjon og forsvar, og trygdeordningar underordna offentleg forvalting<br>kvartal=2020K1<br>Ledige stillingar (prosent)=%{x}<br>Sysselsatte=%{y}<br>Ledige stillingar=%{marker.size}<extra></extra>\", \"hovertext\": [\"Offentleg administrasjon og forsvar, og trygdeordningar underordna offentleg forvalting\"], \"ids\": [\"Offentleg administrasjon og forsvar, og trygdeordningar underordna offentleg forvalting\"], \"legendgroup\": \"Offentleg administrasjon og forsvar, og trygdeordningar underordna offentleg forvalting\", \"marker\": {\"color\": \"#B6E880\", \"size\": [3800.0], \"sizemode\": \"area\", \"sizeref\": 4.32, \"symbol\": \"circle\"}, \"mode\": \"markers\", \"name\": \"Offentleg administrasjon og forsvar, og trygdeordningar underordna offentleg forvalting\", \"orientation\": \"v\", \"showlegend\": true, \"x\": [2.0], \"xaxis\": \"x\", \"y\": [176], \"yaxis\": \"y\", \"type\": \"scatter\"}, {\"hovertemplate\": \"<b>%{hovertext}</b><br><br>n\\u00e6ring (SN2007)=Undervisning<br>kvartal=2020K1<br>Ledige stillingar (prosent)=%{x}<br>Sysselsatte=%{y}<br>Ledige stillingar=%{marker.size}<extra></extra>\", \"hovertext\": [\"Undervisning\"], \"ids\": [\"Undervisning\"], \"legendgroup\": \"Undervisning\", \"marker\": {\"color\": \"#FF97FF\", \"size\": [5500.0], \"sizemode\": \"area\", \"sizeref\": 4.32, \"symbol\": \"circle\"}, \"mode\": \"markers\", \"name\": \"Undervisning\", \"orientation\": \"v\", \"showlegend\": true, \"x\": [2.1], \"xaxis\": \"x\", \"y\": [235], \"yaxis\": \"y\", \"type\": \"scatter\"}, {\"hovertemplate\": \"<b>%{hovertext}</b><br><br>n\\u00e6ring (SN2007)=Kulturell verksemd, underhaldning og fritidsaktivitetar<br>kvartal=2020K1<br>Ledige stillingar (prosent)=%{x}<br>Sysselsatte=%{y}<br>Ledige stillingar=%{marker.size}<extra></extra>\", \"hovertext\": [\"Kulturell verksemd, underhaldning og fritidsaktivitetar\"], \"ids\": [\"Kulturell verksemd, underhaldning og fritidsaktivitetar\"], \"legendgroup\": \"Kulturell verksemd, underhaldning og fritidsaktivitetar\", \"marker\": {\"color\": \"#FECB52\", \"size\": [1600.0], \"sizemode\": \"area\", \"sizeref\": 4.32, \"symbol\": \"circle\"}, \"mode\": \"markers\", \"name\": \"Kulturell verksemd, underhaldning og fritidsaktivitetar\", \"orientation\": \"v\", \"showlegend\": true, \"x\": [2.9], \"xaxis\": \"x\", \"y\": [64], \"yaxis\": \"y\", \"type\": \"scatter\"}], \"name\": \"2020K1\"}, {\"data\": [{\"hovertemplate\": \"<b>%{hovertext}</b><br><br>n\\u00e6ring (SN2007)=Bergverksdrift og utvinning<br>kvartal=2020K2<br>Ledige stillingar (prosent)=%{x}<br>Sysselsatte=%{y}<br>Ledige stillingar=%{marker.size}<extra></extra>\", \"hovertext\": [\"Bergverksdrift og utvinning\"], \"ids\": [\"Bergverksdrift og utvinning\"], \"legendgroup\": \"Bergverksdrift og utvinning\", \"marker\": {\"color\": \"#636efa\", \"size\": [300.0], \"sizemode\": \"area\", \"sizeref\": 4.32, \"symbol\": \"circle\"}, \"mode\": \"markers\", \"name\": \"Bergverksdrift og utvinning\", \"orientation\": \"v\", \"showlegend\": true, \"x\": [0.5], \"xaxis\": \"x\", \"y\": [61], \"yaxis\": \"y\", \"type\": \"scatter\"}, {\"hovertemplate\": \"<b>%{hovertext}</b><br><br>n\\u00e6ring (SN2007)=Byggje- og anleggsverksemd<br>kvartal=2020K2<br>Ledige stillingar (prosent)=%{x}<br>Sysselsatte=%{y}<br>Ledige stillingar=%{marker.size}<extra></extra>\", \"hovertext\": [\"Byggje- og anleggsverksemd\"], \"ids\": [\"Byggje- og anleggsverksemd\"], \"legendgroup\": \"Byggje- og anleggsverksemd\", \"marker\": {\"color\": \"#EF553B\", \"size\": [4600.0], \"sizemode\": \"area\", \"sizeref\": 4.32, \"symbol\": \"circle\"}, \"mode\": \"markers\", \"name\": \"Byggje- og anleggsverksemd\", \"orientation\": \"v\", \"showlegend\": true, \"x\": [1.9], \"xaxis\": \"x\", \"y\": [221], \"yaxis\": \"y\", \"type\": \"scatter\"}, {\"hovertemplate\": \"<b>%{hovertext}</b><br><br>n\\u00e6ring (SN2007)=Informasjon og kommunikasjon<br>kvartal=2020K2<br>Ledige stillingar (prosent)=%{x}<br>Sysselsatte=%{y}<br>Ledige stillingar=%{marker.size}<extra></extra>\", \"hovertext\": [\"Informasjon og kommunikasjon\"], \"ids\": [\"Informasjon og kommunikasjon\"], \"legendgroup\": \"Informasjon og kommunikasjon\", \"marker\": {\"color\": \"#00cc96\", \"size\": [3200.0], \"sizemode\": \"area\", \"sizeref\": 4.32, \"symbol\": \"circle\"}, \"mode\": \"markers\", \"name\": \"Informasjon og kommunikasjon\", \"orientation\": \"v\", \"showlegend\": true, \"x\": [3.2], \"xaxis\": \"x\", \"y\": [109], \"yaxis\": \"y\", \"type\": \"scatter\"}, {\"hovertemplate\": \"<b>%{hovertext}</b><br><br>n\\u00e6ring (SN2007)=Finansierings- og forsikringsverksemd<br>kvartal=2020K2<br>Ledige stillingar (prosent)=%{x}<br>Sysselsatte=%{y}<br>Ledige stillingar=%{marker.size}<extra></extra>\", \"hovertext\": [\"Finansierings- og forsikringsverksemd\"], \"ids\": [\"Finansierings- og forsikringsverksemd\"], \"legendgroup\": \"Finansierings- og forsikringsverksemd\", \"marker\": {\"color\": \"#ab63fa\", \"size\": [800.0], \"sizemode\": \"area\", \"sizeref\": 4.32, \"symbol\": \"circle\"}, \"mode\": \"markers\", \"name\": \"Finansierings- og forsikringsverksemd\", \"orientation\": \"v\", \"showlegend\": true, \"x\": [1.6], \"xaxis\": \"x\", \"y\": [49], \"yaxis\": \"y\", \"type\": \"scatter\"}, {\"hovertemplate\": \"<b>%{hovertext}</b><br><br>n\\u00e6ring (SN2007)=Omsetning og drift av fast eigedom<br>kvartal=2020K2<br>Ledige stillingar (prosent)=%{x}<br>Sysselsatte=%{y}<br>Ledige stillingar=%{marker.size}<extra></extra>\", \"hovertext\": [\"Omsetning og drift av fast eigedom\"], \"ids\": [\"Omsetning og drift av fast eigedom\"], \"legendgroup\": \"Omsetning og drift av fast eigedom\", \"marker\": {\"color\": \"#FFA15A\", \"size\": [600.0], \"sizemode\": \"area\", \"sizeref\": 4.32, \"symbol\": \"circle\"}, \"mode\": \"markers\", \"name\": \"Omsetning og drift av fast eigedom\", \"orientation\": \"v\", \"showlegend\": true, \"x\": [2.1], \"xaxis\": \"x\", \"y\": [25], \"yaxis\": \"y\", \"type\": \"scatter\"}, {\"hovertemplate\": \"<b>%{hovertext}</b><br><br>n\\u00e6ring (SN2007)=Fagleg, vitskapleg og teknisk tenesteyting<br>kvartal=2020K2<br>Ledige stillingar (prosent)=%{x}<br>Sysselsatte=%{y}<br>Ledige stillingar=%{marker.size}<extra></extra>\", \"hovertext\": [\"Fagleg, vitskapleg og teknisk tenesteyting\"], \"ids\": [\"Fagleg, vitskapleg og teknisk tenesteyting\"], \"legendgroup\": \"Fagleg, vitskapleg og teknisk tenesteyting\", \"marker\": {\"color\": \"#19d3f3\", \"size\": [3100.0], \"sizemode\": \"area\", \"sizeref\": 4.32, \"symbol\": \"circle\"}, \"mode\": \"markers\", \"name\": \"Fagleg, vitskapleg og teknisk tenesteyting\", \"orientation\": \"v\", \"showlegend\": true, \"x\": [2.2], \"xaxis\": \"x\", \"y\": [164], \"yaxis\": \"y\", \"type\": \"scatter\"}, {\"hovertemplate\": \"<b>%{hovertext}</b><br><br>n\\u00e6ring (SN2007)=Forretningsmessig tenesteyting<br>kvartal=2020K2<br>Ledige stillingar (prosent)=%{x}<br>Sysselsatte=%{y}<br>Ledige stillingar=%{marker.size}<extra></extra>\", \"hovertext\": [\"Forretningsmessig tenesteyting\"], \"ids\": [\"Forretningsmessig tenesteyting\"], \"legendgroup\": \"Forretningsmessig tenesteyting\", \"marker\": {\"color\": \"#FF6692\", \"size\": [4000.0], \"sizemode\": \"area\", \"sizeref\": 4.32, \"symbol\": \"circle\"}, \"mode\": \"markers\", \"name\": \"Forretningsmessig tenesteyting\", \"orientation\": \"v\", \"showlegend\": true, \"x\": [2.7], \"xaxis\": \"x\", \"y\": [129], \"yaxis\": \"y\", \"type\": \"scatter\"}, {\"hovertemplate\": \"<b>%{hovertext}</b><br><br>n\\u00e6ring (SN2007)=Offentleg administrasjon og forsvar, og trygdeordningar underordna offentleg forvalting<br>kvartal=2020K2<br>Ledige stillingar (prosent)=%{x}<br>Sysselsatte=%{y}<br>Ledige stillingar=%{marker.size}<extra></extra>\", \"hovertext\": [\"Offentleg administrasjon og forsvar, og trygdeordningar underordna offentleg forvalting\"], \"ids\": [\"Offentleg administrasjon og forsvar, og trygdeordningar underordna offentleg forvalting\"], \"legendgroup\": \"Offentleg administrasjon og forsvar, og trygdeordningar underordna offentleg forvalting\", \"marker\": {\"color\": \"#B6E880\", \"size\": [3700.0], \"sizemode\": \"area\", \"sizeref\": 4.32, \"symbol\": \"circle\"}, \"mode\": \"markers\", \"name\": \"Offentleg administrasjon og forsvar, og trygdeordningar underordna offentleg forvalting\", \"orientation\": \"v\", \"showlegend\": true, \"x\": [2.0], \"xaxis\": \"x\", \"y\": [170], \"yaxis\": \"y\", \"type\": \"scatter\"}, {\"hovertemplate\": \"<b>%{hovertext}</b><br><br>n\\u00e6ring (SN2007)=Undervisning<br>kvartal=2020K2<br>Ledige stillingar (prosent)=%{x}<br>Sysselsatte=%{y}<br>Ledige stillingar=%{marker.size}<extra></extra>\", \"hovertext\": [\"Undervisning\"], \"ids\": [\"Undervisning\"], \"legendgroup\": \"Undervisning\", \"marker\": {\"color\": \"#FF97FF\", \"size\": [6600.0], \"sizemode\": \"area\", \"sizeref\": 4.32, \"symbol\": \"circle\"}, \"mode\": \"markers\", \"name\": \"Undervisning\", \"orientation\": \"v\", \"showlegend\": true, \"x\": [2.7], \"xaxis\": \"x\", \"y\": [231], \"yaxis\": \"y\", \"type\": \"scatter\"}, {\"hovertemplate\": \"<b>%{hovertext}</b><br><br>n\\u00e6ring (SN2007)=Kulturell verksemd, underhaldning og fritidsaktivitetar<br>kvartal=2020K2<br>Ledige stillingar (prosent)=%{x}<br>Sysselsatte=%{y}<br>Ledige stillingar=%{marker.size}<extra></extra>\", \"hovertext\": [\"Kulturell verksemd, underhaldning og fritidsaktivitetar\"], \"ids\": [\"Kulturell verksemd, underhaldning og fritidsaktivitetar\"], \"legendgroup\": \"Kulturell verksemd, underhaldning og fritidsaktivitetar\", \"marker\": {\"color\": \"#FECB52\", \"size\": [900.0], \"sizemode\": \"area\", \"sizeref\": 4.32, \"symbol\": \"circle\"}, \"mode\": \"markers\", \"name\": \"Kulturell verksemd, underhaldning og fritidsaktivitetar\", \"orientation\": \"v\", \"showlegend\": true, \"x\": [1.9], \"xaxis\": \"x\", \"y\": [63], \"yaxis\": \"y\", \"type\": \"scatter\"}], \"name\": \"2020K2\"}, {\"data\": [{\"hovertemplate\": \"<b>%{hovertext}</b><br><br>n\\u00e6ring (SN2007)=Bergverksdrift og utvinning<br>kvartal=2020K3<br>Ledige stillingar (prosent)=%{x}<br>Sysselsatte=%{y}<br>Ledige stillingar=%{marker.size}<extra></extra>\", \"hovertext\": [\"Bergverksdrift og utvinning\"], \"ids\": [\"Bergverksdrift og utvinning\"], \"legendgroup\": \"Bergverksdrift og utvinning\", \"marker\": {\"color\": \"#636efa\", \"size\": [600.0], \"sizemode\": \"area\", \"sizeref\": 4.32, \"symbol\": \"circle\"}, \"mode\": \"markers\", \"name\": \"Bergverksdrift og utvinning\", \"orientation\": \"v\", \"showlegend\": true, \"x\": [0.9], \"xaxis\": \"x\", \"y\": [63], \"yaxis\": \"y\", \"type\": \"scatter\"}, {\"hovertemplate\": \"<b>%{hovertext}</b><br><br>n\\u00e6ring (SN2007)=Byggje- og anleggsverksemd<br>kvartal=2020K3<br>Ledige stillingar (prosent)=%{x}<br>Sysselsatte=%{y}<br>Ledige stillingar=%{marker.size}<extra></extra>\", \"hovertext\": [\"Byggje- og anleggsverksemd\"], \"ids\": [\"Byggje- og anleggsverksemd\"], \"legendgroup\": \"Byggje- og anleggsverksemd\", \"marker\": {\"color\": \"#EF553B\", \"size\": [4300.0], \"sizemode\": \"area\", \"sizeref\": 4.32, \"symbol\": \"circle\"}, \"mode\": \"markers\", \"name\": \"Byggje- og anleggsverksemd\", \"orientation\": \"v\", \"showlegend\": true, \"x\": [1.7], \"xaxis\": \"x\", \"y\": [224], \"yaxis\": \"y\", \"type\": \"scatter\"}, {\"hovertemplate\": \"<b>%{hovertext}</b><br><br>n\\u00e6ring (SN2007)=Informasjon og kommunikasjon<br>kvartal=2020K3<br>Ledige stillingar (prosent)=%{x}<br>Sysselsatte=%{y}<br>Ledige stillingar=%{marker.size}<extra></extra>\", \"hovertext\": [\"Informasjon og kommunikasjon\"], \"ids\": [\"Informasjon og kommunikasjon\"], \"legendgroup\": \"Informasjon og kommunikasjon\", \"marker\": {\"color\": \"#00cc96\", \"size\": [3500.0], \"sizemode\": \"area\", \"sizeref\": 4.32, \"symbol\": \"circle\"}, \"mode\": \"markers\", \"name\": \"Informasjon og kommunikasjon\", \"orientation\": \"v\", \"showlegend\": true, \"x\": [3.4], \"xaxis\": \"x\", \"y\": [109], \"yaxis\": \"y\", \"type\": \"scatter\"}, {\"hovertemplate\": \"<b>%{hovertext}</b><br><br>n\\u00e6ring (SN2007)=Finansierings- og forsikringsverksemd<br>kvartal=2020K3<br>Ledige stillingar (prosent)=%{x}<br>Sysselsatte=%{y}<br>Ledige stillingar=%{marker.size}<extra></extra>\", \"hovertext\": [\"Finansierings- og forsikringsverksemd\"], \"ids\": [\"Finansierings- og forsikringsverksemd\"], \"legendgroup\": \"Finansierings- og forsikringsverksemd\", \"marker\": {\"color\": \"#ab63fa\", \"size\": [800.0], \"sizemode\": \"area\", \"sizeref\": 4.32, \"symbol\": \"circle\"}, \"mode\": \"markers\", \"name\": \"Finansierings- og forsikringsverksemd\", \"orientation\": \"v\", \"showlegend\": true, \"x\": [1.6], \"xaxis\": \"x\", \"y\": [51], \"yaxis\": \"y\", \"type\": \"scatter\"}, {\"hovertemplate\": \"<b>%{hovertext}</b><br><br>n\\u00e6ring (SN2007)=Omsetning og drift av fast eigedom<br>kvartal=2020K3<br>Ledige stillingar (prosent)=%{x}<br>Sysselsatte=%{y}<br>Ledige stillingar=%{marker.size}<extra></extra>\", \"hovertext\": [\"Omsetning og drift av fast eigedom\"], \"ids\": [\"Omsetning og drift av fast eigedom\"], \"legendgroup\": \"Omsetning og drift av fast eigedom\", \"marker\": {\"color\": \"#FFA15A\", \"size\": [600.0], \"sizemode\": \"area\", \"sizeref\": 4.32, \"symbol\": \"circle\"}, \"mode\": \"markers\", \"name\": \"Omsetning og drift av fast eigedom\", \"orientation\": \"v\", \"showlegend\": true, \"x\": [2.0], \"xaxis\": \"x\", \"y\": [27], \"yaxis\": \"y\", \"type\": \"scatter\"}, {\"hovertemplate\": \"<b>%{hovertext}</b><br><br>n\\u00e6ring (SN2007)=Fagleg, vitskapleg og teknisk tenesteyting<br>kvartal=2020K3<br>Ledige stillingar (prosent)=%{x}<br>Sysselsatte=%{y}<br>Ledige stillingar=%{marker.size}<extra></extra>\", \"hovertext\": [\"Fagleg, vitskapleg og teknisk tenesteyting\"], \"ids\": [\"Fagleg, vitskapleg og teknisk tenesteyting\"], \"legendgroup\": \"Fagleg, vitskapleg og teknisk tenesteyting\", \"marker\": {\"color\": \"#19d3f3\", \"size\": [4300.0], \"sizemode\": \"area\", \"sizeref\": 4.32, \"symbol\": \"circle\"}, \"mode\": \"markers\", \"name\": \"Fagleg, vitskapleg og teknisk tenesteyting\", \"orientation\": \"v\", \"showlegend\": true, \"x\": [3.0], \"xaxis\": \"x\", \"y\": [163], \"yaxis\": \"y\", \"type\": \"scatter\"}, {\"hovertemplate\": \"<b>%{hovertext}</b><br><br>n\\u00e6ring (SN2007)=Forretningsmessig tenesteyting<br>kvartal=2020K3<br>Ledige stillingar (prosent)=%{x}<br>Sysselsatte=%{y}<br>Ledige stillingar=%{marker.size}<extra></extra>\", \"hovertext\": [\"Forretningsmessig tenesteyting\"], \"ids\": [\"Forretningsmessig tenesteyting\"], \"legendgroup\": \"Forretningsmessig tenesteyting\", \"marker\": {\"color\": \"#FF6692\", \"size\": [5200.0], \"sizemode\": \"area\", \"sizeref\": 4.32, \"symbol\": \"circle\"}, \"mode\": \"markers\", \"name\": \"Forretningsmessig tenesteyting\", \"orientation\": \"v\", \"showlegend\": true, \"x\": [3.4], \"xaxis\": \"x\", \"y\": [122], \"yaxis\": \"y\", \"type\": \"scatter\"}, {\"hovertemplate\": \"<b>%{hovertext}</b><br><br>n\\u00e6ring (SN2007)=Offentleg administrasjon og forsvar, og trygdeordningar underordna offentleg forvalting<br>kvartal=2020K3<br>Ledige stillingar (prosent)=%{x}<br>Sysselsatte=%{y}<br>Ledige stillingar=%{marker.size}<extra></extra>\", \"hovertext\": [\"Offentleg administrasjon og forsvar, og trygdeordningar underordna offentleg forvalting\"], \"ids\": [\"Offentleg administrasjon og forsvar, og trygdeordningar underordna offentleg forvalting\"], \"legendgroup\": \"Offentleg administrasjon og forsvar, og trygdeordningar underordna offentleg forvalting\", \"marker\": {\"color\": \"#B6E880\", \"size\": [4800.0], \"sizemode\": \"area\", \"sizeref\": 4.32, \"symbol\": \"circle\"}, \"mode\": \"markers\", \"name\": \"Offentleg administrasjon og forsvar, og trygdeordningar underordna offentleg forvalting\", \"orientation\": \"v\", \"showlegend\": true, \"x\": [2.5], \"xaxis\": \"x\", \"y\": [166], \"yaxis\": \"y\", \"type\": \"scatter\"}, {\"hovertemplate\": \"<b>%{hovertext}</b><br><br>n\\u00e6ring (SN2007)=Undervisning<br>kvartal=2020K3<br>Ledige stillingar (prosent)=%{x}<br>Sysselsatte=%{y}<br>Ledige stillingar=%{marker.size}<extra></extra>\", \"hovertext\": [\"Undervisning\"], \"ids\": [\"Undervisning\"], \"legendgroup\": \"Undervisning\", \"marker\": {\"color\": \"#FF97FF\", \"size\": [3300.0], \"sizemode\": \"area\", \"sizeref\": 4.32, \"symbol\": \"circle\"}, \"mode\": \"markers\", \"name\": \"Undervisning\", \"orientation\": \"v\", \"showlegend\": true, \"x\": [1.4], \"xaxis\": \"x\", \"y\": [222], \"yaxis\": \"y\", \"type\": \"scatter\"}, {\"hovertemplate\": \"<b>%{hovertext}</b><br><br>n\\u00e6ring (SN2007)=Kulturell verksemd, underhaldning og fritidsaktivitetar<br>kvartal=2020K3<br>Ledige stillingar (prosent)=%{x}<br>Sysselsatte=%{y}<br>Ledige stillingar=%{marker.size}<extra></extra>\", \"hovertext\": [\"Kulturell verksemd, underhaldning og fritidsaktivitetar\"], \"ids\": [\"Kulturell verksemd, underhaldning og fritidsaktivitetar\"], \"legendgroup\": \"Kulturell verksemd, underhaldning og fritidsaktivitetar\", \"marker\": {\"color\": \"#FECB52\", \"size\": [600.0], \"sizemode\": \"area\", \"sizeref\": 4.32, \"symbol\": \"circle\"}, \"mode\": \"markers\", \"name\": \"Kulturell verksemd, underhaldning og fritidsaktivitetar\", \"orientation\": \"v\", \"showlegend\": true, \"x\": [1.2], \"xaxis\": \"x\", \"y\": [70], \"yaxis\": \"y\", \"type\": \"scatter\"}], \"name\": \"2020K3\"}, {\"data\": [{\"hovertemplate\": \"<b>%{hovertext}</b><br><br>n\\u00e6ring (SN2007)=Bergverksdrift og utvinning<br>kvartal=2020K4<br>Ledige stillingar (prosent)=%{x}<br>Sysselsatte=%{y}<br>Ledige stillingar=%{marker.size}<extra></extra>\", \"hovertext\": [\"Bergverksdrift og utvinning\"], \"ids\": [\"Bergverksdrift og utvinning\"], \"legendgroup\": \"Bergverksdrift og utvinning\", \"marker\": {\"color\": \"#636efa\", \"size\": [700.0], \"sizemode\": \"area\", \"sizeref\": 4.32, \"symbol\": \"circle\"}, \"mode\": \"markers\", \"name\": \"Bergverksdrift og utvinning\", \"orientation\": \"v\", \"showlegend\": true, \"x\": [1.2], \"xaxis\": \"x\", \"y\": [63], \"yaxis\": \"y\", \"type\": \"scatter\"}, {\"hovertemplate\": \"<b>%{hovertext}</b><br><br>n\\u00e6ring (SN2007)=Byggje- og anleggsverksemd<br>kvartal=2020K4<br>Ledige stillingar (prosent)=%{x}<br>Sysselsatte=%{y}<br>Ledige stillingar=%{marker.size}<extra></extra>\", \"hovertext\": [\"Byggje- og anleggsverksemd\"], \"ids\": [\"Byggje- og anleggsverksemd\"], \"legendgroup\": \"Byggje- og anleggsverksemd\", \"marker\": {\"color\": \"#EF553B\", \"size\": [4300.0], \"sizemode\": \"area\", \"sizeref\": 4.32, \"symbol\": \"circle\"}, \"mode\": \"markers\", \"name\": \"Byggje- og anleggsverksemd\", \"orientation\": \"v\", \"showlegend\": true, \"x\": [1.7], \"xaxis\": \"x\", \"y\": [230], \"yaxis\": \"y\", \"type\": \"scatter\"}, {\"hovertemplate\": \"<b>%{hovertext}</b><br><br>n\\u00e6ring (SN2007)=Informasjon og kommunikasjon<br>kvartal=2020K4<br>Ledige stillingar (prosent)=%{x}<br>Sysselsatte=%{y}<br>Ledige stillingar=%{marker.size}<extra></extra>\", \"hovertext\": [\"Informasjon og kommunikasjon\"], \"ids\": [\"Informasjon og kommunikasjon\"], \"legendgroup\": \"Informasjon og kommunikasjon\", \"marker\": {\"color\": \"#00cc96\", \"size\": [4500.0], \"sizemode\": \"area\", \"sizeref\": 4.32, \"symbol\": \"circle\"}, \"mode\": \"markers\", \"name\": \"Informasjon og kommunikasjon\", \"orientation\": \"v\", \"showlegend\": true, \"x\": [4.2], \"xaxis\": \"x\", \"y\": [110], \"yaxis\": \"y\", \"type\": \"scatter\"}, {\"hovertemplate\": \"<b>%{hovertext}</b><br><br>n\\u00e6ring (SN2007)=Finansierings- og forsikringsverksemd<br>kvartal=2020K4<br>Ledige stillingar (prosent)=%{x}<br>Sysselsatte=%{y}<br>Ledige stillingar=%{marker.size}<extra></extra>\", \"hovertext\": [\"Finansierings- og forsikringsverksemd\"], \"ids\": [\"Finansierings- og forsikringsverksemd\"], \"legendgroup\": \"Finansierings- og forsikringsverksemd\", \"marker\": {\"color\": \"#ab63fa\", \"size\": [800.0], \"sizemode\": \"area\", \"sizeref\": 4.32, \"symbol\": \"circle\"}, \"mode\": \"markers\", \"name\": \"Finansierings- og forsikringsverksemd\", \"orientation\": \"v\", \"showlegend\": true, \"x\": [1.5], \"xaxis\": \"x\", \"y\": [52], \"yaxis\": \"y\", \"type\": \"scatter\"}, {\"hovertemplate\": \"<b>%{hovertext}</b><br><br>n\\u00e6ring (SN2007)=Omsetning og drift av fast eigedom<br>kvartal=2020K4<br>Ledige stillingar (prosent)=%{x}<br>Sysselsatte=%{y}<br>Ledige stillingar=%{marker.size}<extra></extra>\", \"hovertext\": [\"Omsetning og drift av fast eigedom\"], \"ids\": [\"Omsetning og drift av fast eigedom\"], \"legendgroup\": \"Omsetning og drift av fast eigedom\", \"marker\": {\"color\": \"#FFA15A\", \"size\": [700.0], \"sizemode\": \"area\", \"sizeref\": 4.32, \"symbol\": \"circle\"}, \"mode\": \"markers\", \"name\": \"Omsetning og drift av fast eigedom\", \"orientation\": \"v\", \"showlegend\": true, \"x\": [2.5], \"xaxis\": \"x\", \"y\": [27], \"yaxis\": \"y\", \"type\": \"scatter\"}, {\"hovertemplate\": \"<b>%{hovertext}</b><br><br>n\\u00e6ring (SN2007)=Fagleg, vitskapleg og teknisk tenesteyting<br>kvartal=2020K4<br>Ledige stillingar (prosent)=%{x}<br>Sysselsatte=%{y}<br>Ledige stillingar=%{marker.size}<extra></extra>\", \"hovertext\": [\"Fagleg, vitskapleg og teknisk tenesteyting\"], \"ids\": [\"Fagleg, vitskapleg og teknisk tenesteyting\"], \"legendgroup\": \"Fagleg, vitskapleg og teknisk tenesteyting\", \"marker\": {\"color\": \"#19d3f3\", \"size\": [4500.0], \"sizemode\": \"area\", \"sizeref\": 4.32, \"symbol\": \"circle\"}, \"mode\": \"markers\", \"name\": \"Fagleg, vitskapleg og teknisk tenesteyting\", \"orientation\": \"v\", \"showlegend\": true, \"x\": [3.1], \"xaxis\": \"x\", \"y\": [161], \"yaxis\": \"y\", \"type\": \"scatter\"}, {\"hovertemplate\": \"<b>%{hovertext}</b><br><br>n\\u00e6ring (SN2007)=Forretningsmessig tenesteyting<br>kvartal=2020K4<br>Ledige stillingar (prosent)=%{x}<br>Sysselsatte=%{y}<br>Ledige stillingar=%{marker.size}<extra></extra>\", \"hovertext\": [\"Forretningsmessig tenesteyting\"], \"ids\": [\"Forretningsmessig tenesteyting\"], \"legendgroup\": \"Forretningsmessig tenesteyting\", \"marker\": {\"color\": \"#FF6692\", \"size\": [4300.0], \"sizemode\": \"area\", \"sizeref\": 4.32, \"symbol\": \"circle\"}, \"mode\": \"markers\", \"name\": \"Forretningsmessig tenesteyting\", \"orientation\": \"v\", \"showlegend\": true, \"x\": [2.8], \"xaxis\": \"x\", \"y\": [124], \"yaxis\": \"y\", \"type\": \"scatter\"}, {\"hovertemplate\": \"<b>%{hovertext}</b><br><br>n\\u00e6ring (SN2007)=Offentleg administrasjon og forsvar, og trygdeordningar underordna offentleg forvalting<br>kvartal=2020K4<br>Ledige stillingar (prosent)=%{x}<br>Sysselsatte=%{y}<br>Ledige stillingar=%{marker.size}<extra></extra>\", \"hovertext\": [\"Offentleg administrasjon og forsvar, og trygdeordningar underordna offentleg forvalting\"], \"ids\": [\"Offentleg administrasjon og forsvar, og trygdeordningar underordna offentleg forvalting\"], \"legendgroup\": \"Offentleg administrasjon og forsvar, og trygdeordningar underordna offentleg forvalting\", \"marker\": {\"color\": \"#B6E880\", \"size\": [4800.0], \"sizemode\": \"area\", \"sizeref\": 4.32, \"symbol\": \"circle\"}, \"mode\": \"markers\", \"name\": \"Offentleg administrasjon og forsvar, og trygdeordningar underordna offentleg forvalting\", \"orientation\": \"v\", \"showlegend\": true, \"x\": [2.5], \"xaxis\": \"x\", \"y\": [176], \"yaxis\": \"y\", \"type\": \"scatter\"}, {\"hovertemplate\": \"<b>%{hovertext}</b><br><br>n\\u00e6ring (SN2007)=Undervisning<br>kvartal=2020K4<br>Ledige stillingar (prosent)=%{x}<br>Sysselsatte=%{y}<br>Ledige stillingar=%{marker.size}<extra></extra>\", \"hovertext\": [\"Undervisning\"], \"ids\": [\"Undervisning\"], \"legendgroup\": \"Undervisning\", \"marker\": {\"color\": \"#FF97FF\", \"size\": [3500.0], \"sizemode\": \"area\", \"sizeref\": 4.32, \"symbol\": \"circle\"}, \"mode\": \"markers\", \"name\": \"Undervisning\", \"orientation\": \"v\", \"showlegend\": true, \"x\": [1.4], \"xaxis\": \"x\", \"y\": [230], \"yaxis\": \"y\", \"type\": \"scatter\"}, {\"hovertemplate\": \"<b>%{hovertext}</b><br><br>n\\u00e6ring (SN2007)=Kulturell verksemd, underhaldning og fritidsaktivitetar<br>kvartal=2020K4<br>Ledige stillingar (prosent)=%{x}<br>Sysselsatte=%{y}<br>Ledige stillingar=%{marker.size}<extra></extra>\", \"hovertext\": [\"Kulturell verksemd, underhaldning og fritidsaktivitetar\"], \"ids\": [\"Kulturell verksemd, underhaldning og fritidsaktivitetar\"], \"legendgroup\": \"Kulturell verksemd, underhaldning og fritidsaktivitetar\", \"marker\": {\"color\": \"#FECB52\", \"size\": [1300.0], \"sizemode\": \"area\", \"sizeref\": 4.32, \"symbol\": \"circle\"}, \"mode\": \"markers\", \"name\": \"Kulturell verksemd, underhaldning og fritidsaktivitetar\", \"orientation\": \"v\", \"showlegend\": true, \"x\": [2.6], \"xaxis\": \"x\", \"y\": [67], \"yaxis\": \"y\", \"type\": \"scatter\"}], \"name\": \"2020K4\"}]);\n",
       "                        }).then(function(){\n",
       "                            \n",
       "var gd = document.getElementById('002dbddf-3dea-42aa-a0aa-8cfdfa977aae');\n",
       "var x = new MutationObserver(function (mutations, observer) {{\n",
       "        var display = window.getComputedStyle(gd).display;\n",
       "        if (!display || display === 'none') {{\n",
       "            console.log([gd, 'removed!']);\n",
       "            Plotly.purge(gd);\n",
       "            observer.disconnect();\n",
       "        }}\n",
       "}});\n",
       "\n",
       "// Listen for the removal of the full notebook cells\n",
       "var notebookContainer = gd.closest('#notebook-container');\n",
       "if (notebookContainer) {{\n",
       "    x.observe(notebookContainer, {childList: true});\n",
       "}}\n",
       "\n",
       "// Listen for the clearing of the current output cell\n",
       "var outputEl = gd.closest('.output');\n",
       "if (outputEl) {{\n",
       "    x.observe(outputEl, {childList: true});\n",
       "}}\n",
       "\n",
       "                        })                };                });            </script>        </div>"
      ]
     },
     "metadata": {},
     "output_type": "display_data"
    }
   ],
   "source": [
    "fig = px.scatter(df, x=\"Ledige stillingar (prosent)\", y=\"Sysselsatte\", animation_frame=\"kvartal\", animation_group=\"næring (SN2007)\",\n",
    "           size=\"Ledige stillingar\", color=\"næring (SN2007)\", hover_name=\"næring (SN2007)\",\n",
    "           log_x=False, size_max=50)\n",
    "\n",
    "fig.update_layout(showlegend=False)\n",
    "fig.show()"
   ]
  },
  {
   "cell_type": "code",
   "execution_count": 33,
   "metadata": {},
   "outputs": [],
   "source": [
    "description = \"\"\"\n",
    "Ledige stillinger og sysselsetting\n",
    "\"\"\"\n",
    "\n",
    "ds.plotly(fig, \"Ledige stillinger og sysselsetting\",description)"
   ]
  },
  {
   "cell_type": "code",
   "execution_count": 34,
   "metadata": {},
   "outputs": [
    {
     "name": "stdout",
     "output_type": "stream",
     "text": [
      "Publishing story SSB Labor market example to the examples space...\n",
      "Published at: https://public.deetly.com/examples/390364409db9bb2dd8016375271ce0c8 \n",
      "\n"
     ]
    }
   ],
   "source": [
    "ds.publish()"
   ]
  }
 ],
 "metadata": {
  "kernelspec": {
   "display_name": "Python 3",
   "language": "python",
   "name": "python3"
  },
  "language_info": {
   "codemirror_mode": {
    "name": "ipython",
    "version": 3
   },
   "file_extension": ".py",
   "mimetype": "text/x-python",
   "name": "python",
   "nbconvert_exporter": "python",
   "pygments_lexer": "ipython3",
   "version": "3.9.4"
  }
 },
 "nbformat": 4,
 "nbformat_minor": 4
}
