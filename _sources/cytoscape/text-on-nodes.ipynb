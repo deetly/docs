{
 "cells": [
  {
   "cell_type": "markdown",
   "metadata": {},
   "source": [
    "# Text on nodes"
   ]
  },
  {
   "cell_type": "code",
   "execution_count": 2,
   "metadata": {},
   "outputs": [],
   "source": [
    "import deetly\n",
    "import ipycytoscape\n",
    "import json\n",
    "import pandas as pd\n",
    "import requests"
   ]
  },
  {
   "cell_type": "code",
   "execution_count": 3,
   "metadata": {},
   "outputs": [],
   "source": [
    "# Create datastory\n",
    "package = {\n",
    "    \"name\":\"Example cytoscape texts on nodes\", \n",
    "    \"keyword\": [\"example, graph, cytoscape\"]\n",
    "}\n",
    "\n",
    "ds = deetly.story(package)"
   ]
  },
  {
   "cell_type": "code",
   "execution_count": 4,
   "metadata": {},
   "outputs": [],
   "source": [
    "elements = {\n",
    "    'nodes': [\n",
    "        { 'data': { 'id': 'desktop', 'name': 'Cytoscape', 'href': 'http://cytoscape.org' } },\n",
    "        { 'data': { 'id': 'a', 'name': 'Grid', 'href': 'http://cytoscape.org' } },\n",
    "        { 'data': { 'id': 'b', 'name': 'Cola', 'href': 'http://cytoscape.org' } },\n",
    "        { 'data': { 'id': 'c', 'name': 'Popper', 'href': 'http://cytoscape.org' } },\n",
    "        { 'data': { 'id': 'js', 'name': 'Cytoscape.js', 'href': 'http://js.cytoscape.org' } }\n",
    "    ],\n",
    "    'edges': [\n",
    "        {'data': { 'source': 'desktop', 'target': 'js' }},\n",
    "        {'data': { 'source': 'a', 'target': 'b' }},\n",
    "        {'data': { 'source': 'a', 'target': 'c' }},\n",
    "        {'data': { 'source': 'b', 'target': 'c' }},\n",
    "        {'data': { 'source': 'js', 'target': 'b' }}\n",
    "    ]\n",
    "}"
   ]
  },
  {
   "cell_type": "code",
   "execution_count": 5,
   "metadata": {},
   "outputs": [],
   "source": [
    "stylesheet=[{\n",
    "    'selector': 'node',\n",
    "    'css': {\n",
    "        'content': 'data(name)',\n",
    "        'text-valign': 'center',\n",
    "        'color': 'white',\n",
    "        'text-outline-width': 2,\n",
    "        'text-outline-color': 'green',\n",
    "        'background-color': 'green'\n",
    "    }\n",
    "    },\n",
    "    {\n",
    "    'selector': ':selected',\n",
    "    'css': {\n",
    "        'background-color': 'black',\n",
    "        'line-color': 'black',\n",
    "        'target-arrow-color': 'black',\n",
    "        'source-arrow-color': 'black',\n",
    "        'text-outline-color': 'black'\n",
    "    }}\n",
    "]\n",
    "\n"
   ]
  },
  {
   "cell_type": "code",
   "execution_count": 6,
   "metadata": {},
   "outputs": [
    {
     "data": {
      "application/vnd.jupyter.widget-view+json": {
       "model_id": "b18a944d21854b4f9488c714bd356425",
       "version_major": 2,
       "version_minor": 0
      },
      "text/plain": [
       "CytoscapeWidget(cytoscape_layout={'name': 'cola'}, cytoscape_style=[{'selector': 'node', 'css': {'content': 'd…"
      ]
     },
     "metadata": {},
     "output_type": "display_data"
    }
   ],
   "source": [
    "fig = ipycytoscape.CytoscapeWidget()\n",
    "fig.graph.add_graph_from_json(elements)\n",
    "fig.set_style(stylesheet)\n",
    "fig"
   ]
  },
  {
   "cell_type": "code",
   "execution_count": 7,
   "metadata": {},
   "outputs": [],
   "source": [
    "spec = {'elements': elements, \n",
    "        'stylesheet': stylesheet,\n",
    "        'layout': {'name': 'cose'}\n",
    "}\n",
    "ds.cytoscape(spec, \"Text on nodes\")"
   ]
  },
  {
   "cell_type": "code",
   "execution_count": 8,
   "metadata": {},
   "outputs": [
    {
     "name": "stdout",
     "output_type": "stream",
     "text": [
      "Publishing story Example cytoscape texts on nodes to the examples space...\n",
      "Published at: https://public.deetly.com/examples/42a5c012a584ece19898ff3668a74c82 \n",
      "\n"
     ]
    }
   ],
   "source": [
    "ds.publish()"
   ]
  }
 ],
 "metadata": {
  "kernelspec": {
   "display_name": "Python 3",
   "language": "python",
   "name": "python3"
  },
  "language_info": {
   "codemirror_mode": {
    "name": "ipython",
    "version": 3
   },
   "file_extension": ".py",
   "mimetype": "text/x-python",
   "name": "python",
   "nbconvert_exporter": "python",
   "pygments_lexer": "ipython3",
   "version": "3.8.2"
  }
 },
 "nbformat": 4,
 "nbformat_minor": 4
}
