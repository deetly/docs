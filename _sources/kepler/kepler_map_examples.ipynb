{
 "cells": [
  {
   "cell_type": "markdown",
   "metadata": {},
   "source": [
    "# Example Norway\""
   ]
  },
  {
   "cell_type": "code",
   "execution_count": 1,
   "metadata": {},
   "outputs": [],
   "source": [
    "import dataverk as dv\n",
    "from dataverk_tools.themes import nav\n",
    "\n",
    "import pandas as pd\n",
    "import ipywidgets as widgets\n",
    "\n",
    "import json\n",
    "import plotly.graph_objs as go\n",
    "import plotly.io as plio\n",
    "import plotly_express as px\n",
    "import plotly.figure_factory as ff\n",
    "\n",
    "from datetime import datetime\n",
    "from keplergl import KeplerGl "
   ]
  },
  {
   "cell_type": "markdown",
   "metadata": {},
   "source": [
    "# ETL"
   ]
  },
  {
   "cell_type": "code",
   "execution_count": 2,
   "metadata": {},
   "outputs": [],
   "source": [
    "df = pd.read_csv('https://raw.githubusercontent.com/datasett/maps/master/norway/data/kommune_dummy_data.csv')"
   ]
  },
  {
   "cell_type": "code",
   "execution_count": 3,
   "metadata": {},
   "outputs": [
    {
     "data": {
      "text/html": [
       "<div>\n",
       "<style scoped>\n",
       "    .dataframe tbody tr th:only-of-type {\n",
       "        vertical-align: middle;\n",
       "    }\n",
       "\n",
       "    .dataframe tbody tr th {\n",
       "        vertical-align: top;\n",
       "    }\n",
       "\n",
       "    .dataframe thead th {\n",
       "        text-align: right;\n",
       "    }\n",
       "</style>\n",
       "<table border=\"1\" class=\"dataframe\">\n",
       "  <thead>\n",
       "    <tr style=\"text-align: right;\">\n",
       "      <th></th>\n",
       "      <th>kommunenummer</th>\n",
       "      <th>value</th>\n",
       "      <th>color</th>\n",
       "    </tr>\n",
       "  </thead>\n",
       "  <tbody>\n",
       "    <tr>\n",
       "      <th>0</th>\n",
       "      <td>101</td>\n",
       "      <td>40</td>\n",
       "      <td>[247, 103, 134]</td>\n",
       "    </tr>\n",
       "    <tr>\n",
       "      <th>1</th>\n",
       "      <td>104</td>\n",
       "      <td>4</td>\n",
       "      <td>[199, 18, 62]</td>\n",
       "    </tr>\n",
       "    <tr>\n",
       "      <th>2</th>\n",
       "      <td>105</td>\n",
       "      <td>89</td>\n",
       "      <td>[156, 169, 126]</td>\n",
       "    </tr>\n",
       "    <tr>\n",
       "      <th>3</th>\n",
       "      <td>106</td>\n",
       "      <td>24</td>\n",
       "      <td>[157, 157, 184]</td>\n",
       "    </tr>\n",
       "    <tr>\n",
       "      <th>4</th>\n",
       "      <td>111</td>\n",
       "      <td>5</td>\n",
       "      <td>[114, 29, 136]</td>\n",
       "    </tr>\n",
       "  </tbody>\n",
       "</table>\n",
       "</div>"
      ],
      "text/plain": [
       "   kommunenummer  value            color\n",
       "0            101     40  [247, 103, 134]\n",
       "1            104      4    [199, 18, 62]\n",
       "2            105     89  [156, 169, 126]\n",
       "3            106     24  [157, 157, 184]\n",
       "4            111      5   [114, 29, 136]"
      ]
     },
     "execution_count": 3,
     "metadata": {},
     "output_type": "execute_result"
    }
   ],
   "source": [
    "df.head()"
   ]
  },
  {
   "cell_type": "code",
   "execution_count": 4,
   "metadata": {},
   "outputs": [],
   "source": [
    "data = df.to_json(orient='records')"
   ]
  },
  {
   "cell_type": "code",
   "execution_count": 5,
   "metadata": {},
   "outputs": [],
   "source": [
    "url = 'https://raw.githubusercontent.com/datasett/maps/master/norway/data/counties_2018_s_geojson.json'\n",
    "ds = pd.read_json(url)"
   ]
  },
  {
   "cell_type": "code",
   "execution_count": 6,
   "metadata": {},
   "outputs": [],
   "source": [
    "def getData(row):\n",
    "    return row['properties']['centroid_kommune']"
   ]
  },
  {
   "cell_type": "code",
   "execution_count": 7,
   "metadata": {},
   "outputs": [],
   "source": [
    "ds['centroid_kommune'] = ds['features'].apply(getData)"
   ]
  },
  {
   "cell_type": "code",
   "execution_count": 8,
   "metadata": {},
   "outputs": [],
   "source": [
    "#ds.head(1)['features'][0]"
   ]
  },
  {
   "cell_type": "code",
   "execution_count": 9,
   "metadata": {},
   "outputs": [],
   "source": [
    "dt = ds.copy()"
   ]
  },
  {
   "cell_type": "code",
   "execution_count": 10,
   "metadata": {},
   "outputs": [],
   "source": [
    "def getId(row):\n",
    "    return row['features']['properties']['kommunenummer']\n",
    "    \n",
    "def getGeom(row):\n",
    "    return json.dumps(row['features']['geometry'])"
   ]
  },
  {
   "cell_type": "code",
   "execution_count": 11,
   "metadata": {},
   "outputs": [
    {
     "data": {
      "text/html": [
       "<div>\n",
       "<style scoped>\n",
       "    .dataframe tbody tr th:only-of-type {\n",
       "        vertical-align: middle;\n",
       "    }\n",
       "\n",
       "    .dataframe tbody tr th {\n",
       "        vertical-align: top;\n",
       "    }\n",
       "\n",
       "    .dataframe thead th {\n",
       "        text-align: right;\n",
       "    }\n",
       "</style>\n",
       "<table border=\"1\" class=\"dataframe\">\n",
       "  <thead>\n",
       "    <tr style=\"text-align: right;\">\n",
       "      <th></th>\n",
       "      <th>type</th>\n",
       "      <th>features</th>\n",
       "      <th>centroid_kommune</th>\n",
       "      <th>id</th>\n",
       "      <th>kommune</th>\n",
       "      <th>geometry_string</th>\n",
       "    </tr>\n",
       "  </thead>\n",
       "  <tbody>\n",
       "    <tr>\n",
       "      <th>0</th>\n",
       "      <td>FeatureCollection</td>\n",
       "      <td>{'type': 'Feature', 'geometry': {'type': 'Poly...</td>\n",
       "      <td>[11.498404769493327, 59.08595732263681]</td>\n",
       "      <td>0101</td>\n",
       "      <td>0101</td>\n",
       "      <td>{\"type\": \"Polygon\", \"coordinates\": [[[11.55794...</td>\n",
       "    </tr>\n",
       "  </tbody>\n",
       "</table>\n",
       "</div>"
      ],
      "text/plain": [
       "                type                                           features  \\\n",
       "0  FeatureCollection  {'type': 'Feature', 'geometry': {'type': 'Poly...   \n",
       "\n",
       "                          centroid_kommune    id kommune  \\\n",
       "0  [11.498404769493327, 59.08595732263681]  0101    0101   \n",
       "\n",
       "                                     geometry_string  \n",
       "0  {\"type\": \"Polygon\", \"coordinates\": [[[11.55794...  "
      ]
     },
     "execution_count": 11,
     "metadata": {},
     "output_type": "execute_result"
    }
   ],
   "source": [
    "dt['id'] = dt.apply(getId, axis=1)\n",
    "dt['kommune'] = dt.apply(getId, axis=1)\n",
    "dt['geometry_string'] = dt.apply(getGeom, axis=1)\n",
    "dt.head(1)"
   ]
  },
  {
   "cell_type": "code",
   "execution_count": 12,
   "metadata": {},
   "outputs": [
    {
     "name": "stdout",
     "output_type": "stream",
     "text": [
      "User Guide: https://github.com/keplergl/kepler.gl/blob/master/docs/keplergl-jupyter/user-guide.md\n"
     ]
    },
    {
     "data": {
      "application/vnd.jupyter.widget-view+json": {
       "model_id": "4b9d585d947243948ed18ac3e62e8a9e",
       "version_major": 2,
       "version_minor": 0
      },
      "text/plain": [
       "KeplerGl(data={'kommuner': {'index': [0, 1, 2, 3, 4, 5, 6, 7, 8, 9, 10, 11, 12, 13, 14, 15, 16, 17, 18, 19, 20…"
      ]
     },
     "metadata": {},
     "output_type": "display_data"
    }
   ],
   "source": [
    "df_with_geometry = dt[['id','kommune','geometry_string']]\n",
    "\n",
    "# add to map\n",
    "from keplergl import KeplerGl\n",
    "map_1 = KeplerGl()\n",
    "map_1.add_data(df_with_geometry, \"kommuner\")\n",
    "map_1"
   ]
  },
  {
   "cell_type": "markdown",
   "metadata": {},
   "source": [
    "# Create datapackage"
   ]
  },
  {
   "cell_type": "code",
   "execution_count": 28,
   "metadata": {},
   "outputs": [],
   "source": [
    "readme = \"\"\"\n",
    "# Eksempler på kartvisninger med webGL\n",
    "\"\"\"\n",
    "\n",
    "metadata = {\n",
    "'store': 'gs',\n",
    "'repo': 'https://raw.githubusercontent.com/datasett/nav-examples/master/',\n",
    "'readme': readme,\n",
    "'license':'MIT',\n",
    "'accessRights':'Open',\n",
    "'author': 'paul.bencze@nav.no',\n",
    "'title':'Eksempler på kart med webGL',\n",
    "'title':'Eksempler på kart med webGL',\n",
    "'description':'Eksempler på kartvisninger med webGL',\n",
    "'name':'Eksempler på kartvisninger',\n",
    "'source':'NAV',\n",
    "'keywords':['kart, eksempler', 'examples'],\n",
    "'provenance':'NAV',\n",
    "'publisher': 'NAV',\n",
    "'bucket': 'nav-opendata',\n",
    "}"
   ]
  },
  {
   "cell_type": "code",
   "execution_count": 29,
   "metadata": {},
   "outputs": [],
   "source": [
    "dp = dv.Datapackage(metadata)"
   ]
  },
  {
   "cell_type": "code",
   "execution_count": 30,
   "metadata": {},
   "outputs": [],
   "source": [
    "spec = {\n",
    "    \"data\": data,\n",
    "    \"map\": \"https://raw.githubusercontent.com/datasett/maps/master/norway/data/counties_2018_s_geojson.json\",\n",
    "    \"colorby\": \"kommunenummer\",\n",
    "    \"value\": 'kommunenummer',\n",
    "    \"lineColor\": [200,200,200], \n",
    "    \"initialViewState\": {\n",
    "      \"longitude\": 14,\n",
    "      \"latitude\": 65,\n",
    "      \"zoom\": 3.5,\n",
    "      \"pitch\": 0,\n",
    "      \"bearing\": 0,\n",
    "    }\n",
    "  }"
   ]
  },
  {
   "cell_type": "code",
   "execution_count": 31,
   "metadata": {},
   "outputs": [],
   "source": [
    "description = '''\n",
    "Kart beskrivelse\n",
    "'''\n",
    "\n",
    "dp.add_view(\n",
    "    spec_type='map',\n",
    "    name='Kommuner farge etter kommunenummer',\n",
    "    description = description,\n",
    "    resources=[],\n",
    "    attribution = \"Kilde: NAV.\",\n",
    "    spec=spec\n",
    ")"
   ]
  },
  {
   "cell_type": "code",
   "execution_count": 32,
   "metadata": {},
   "outputs": [],
   "source": [
    "#GOOGLE_APPLICATION_CREDENTIALS environment variable must be defined before initializing the client"
   ]
  },
  {
   "cell_type": "code",
   "execution_count": 33,
   "metadata": {},
   "outputs": [
    {
     "name": "stdout",
     "output_type": "stream",
     "text": [
      "gs\n",
      "2019-08-09T09:22:40.528415: B149899 <class 'dataverk.connectors.google_storage.GoogleStorageConnector'>: String (format: json) written to https://storage.googleapis.com/nav-opendata/26de02c184aceed17b9f968161f623b2/datapackage.json\n",
      "2019-08-09T09:22:41.463444: B149899 <class 'dataverk.connectors.elasticsearch.ElasticsearchConnector'>: Document 26de02c184aceed17b9f968161f623b2 of type odata indexed to elastic index: odata.\n"
     ]
    }
   ],
   "source": [
    "client = dv.Client()\n",
    "client.publish(dp)"
   ]
  }
 ],
 "metadata": {
  "kernelspec": {
   "display_name": "Python (dv)",
   "language": "python",
   "name": "dv"
  },
  "language_info": {
   "codemirror_mode": {
    "name": "ipython",
    "version": 3
   },
   "file_extension": ".py",
   "mimetype": "text/x-python",
   "name": "python",
   "nbconvert_exporter": "python",
   "pygments_lexer": "ipython3",
   "version": "3.7.3"
  },
  "varInspector": {
   "cols": {
    "lenName": 16,
    "lenType": 16,
    "lenVar": 40
   },
   "kernels_config": {
    "python": {
     "delete_cmd_postfix": "",
     "delete_cmd_prefix": "del ",
     "library": "var_list.py",
     "varRefreshCmd": "print(var_dic_list())"
    },
    "r": {
     "delete_cmd_postfix": ") ",
     "delete_cmd_prefix": "rm(",
     "library": "var_list.r",
     "varRefreshCmd": "cat(var_dic_list()) "
    }
   },
   "types_to_exclude": [
    "module",
    "function",
    "builtin_function_or_method",
    "instance",
    "_Feature"
   ],
   "window_display": false
  }
 },
 "nbformat": 4,
 "nbformat_minor": 2
}
