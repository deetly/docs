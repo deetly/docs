{
 "cells": [
  {
   "cell_type": "markdown",
   "metadata": {},
   "source": [
    "# Scatterplot Oslofjorden\n",
    "\n",
    ">Christiania Roklub, 2021"
   ]
  },
  {
   "cell_type": "code",
   "execution_count": 12,
   "metadata": {},
   "outputs": [],
   "source": [
    "import os\n",
    "import json\n",
    "import deetly\n",
    "import pandas as pd\n",
    "import pydeck as pdk\n",
    "import geopandas as gpd"
   ]
  },
  {
   "cell_type": "code",
   "execution_count": 2,
   "metadata": {},
   "outputs": [],
   "source": [
    "MAPBOX_TOKEN = os.environ['MAPBOX_TOKEN'] "
   ]
  },
  {
   "cell_type": "code",
   "execution_count": 3,
   "metadata": {},
   "outputs": [],
   "source": [
    "metadata = {\n",
    "    \"name\":\"Roorientering Osloforden 2021\", \n",
    "    \"keywords\": [\"examples\", \"pydeck\", \"scatterplot\", \"maps\"]\n",
    "}\n",
    "\n",
    "ds = deetly.story(metadata)"
   ]
  },
  {
   "cell_type": "code",
   "execution_count": 4,
   "metadata": {},
   "outputs": [],
   "source": [
    "URL = 'https://raw.githubusercontent.com/deetly/dataset/master/examples/roorientering2021.csv'\n",
    "df = pd.read_csv(URL)"
   ]
  },
  {
   "cell_type": "code",
   "execution_count": 5,
   "metadata": {},
   "outputs": [],
   "source": [
    "df['color'] = '[0, 146, 188, 255]'"
   ]
  },
  {
   "cell_type": "code",
   "execution_count": 6,
   "metadata": {},
   "outputs": [],
   "source": [
    "df['nummer'] = df['post'].apply(lambda x: x[0:2].strip())"
   ]
  },
  {
   "cell_type": "code",
   "execution_count": 8,
   "metadata": {},
   "outputs": [
    {
     "data": {
      "text/html": [
       "<div>\n",
       "<style scoped>\n",
       "    .dataframe tbody tr th:only-of-type {\n",
       "        vertical-align: middle;\n",
       "    }\n",
       "\n",
       "    .dataframe tbody tr th {\n",
       "        vertical-align: top;\n",
       "    }\n",
       "\n",
       "    .dataframe thead th {\n",
       "        text-align: right;\n",
       "    }\n",
       "</style>\n",
       "<table border=\"1\" class=\"dataframe\">\n",
       "  <thead>\n",
       "    <tr style=\"text-align: right;\">\n",
       "      <th></th>\n",
       "      <th>post</th>\n",
       "      <th>latitude</th>\n",
       "      <th>longitude</th>\n",
       "      <th>color</th>\n",
       "      <th>nummer</th>\n",
       "    </tr>\n",
       "  </thead>\n",
       "  <tbody>\n",
       "    <tr>\n",
       "      <th>0</th>\n",
       "      <td>1 Ingierstrand</td>\n",
       "      <td>59.818308</td>\n",
       "      <td>10.746904</td>\n",
       "      <td>[0, 146, 188, 255]</td>\n",
       "      <td>1</td>\n",
       "    </tr>\n",
       "  </tbody>\n",
       "</table>\n",
       "</div>"
      ],
      "text/plain": [
       "             post   latitude  longitude               color nummer\n",
       "0  1 Ingierstrand  59.818308  10.746904  [0, 146, 188, 255]      1"
      ]
     },
     "execution_count": 8,
     "metadata": {},
     "output_type": "execute_result"
    }
   ],
   "source": [
    "df.head(1)"
   ]
  },
  {
   "cell_type": "code",
   "execution_count": 9,
   "metadata": {},
   "outputs": [],
   "source": [
    "viewport = pdk.data_utils.compute_view(points=df[['longitude', 'latitude']], view_proportion=0.9)"
   ]
  },
  {
   "cell_type": "code",
   "execution_count": 10,
   "metadata": {},
   "outputs": [
    {
     "data": {
      "application/vnd.jupyter.widget-view+json": {
       "model_id": "6b33a635b69d46bfa09e6b0989a39932",
       "version_major": 2,
       "version_minor": 0
      },
      "text/plain": [
       "DeckGLWidget(carto_key=None, custom_libraries=[], google_maps_key=None, height=800, json_input='{\"initialViewS…"
      ]
     },
     "metadata": {},
     "output_type": "display_data"
    }
   ],
   "source": [
    "scatterplot = pdk.Layer(\n",
    "    'ScatterplotLayer',\n",
    "    df,\n",
    "    get_position=['longitude', 'latitude'],\n",
    "    get_radius=400,\n",
    "    get_fill_color=[180, 0, 200, 140],\n",
    "    pickable=True\n",
    ")\n",
    "\n",
    "text = pdk.Layer(\n",
    "    'TextLayer',\n",
    "    df,\n",
    "    pickable=True,\n",
    "    get_position=['longitude', 'latitude'],\n",
    "    get_text='nummer',\n",
    "    get_color=[0,0,0,255],\n",
    "    billboard=False,\n",
    "    get_size=16,\n",
    "    get_angle=0,\n",
    "    get_text_anchor='\"middle\"',\n",
    "    get_alignment_baseline='\"center\"'\n",
    ")\n",
    "\n",
    "tooltip={\n",
    "        'html': 'Post: {post}</br>',\n",
    "        'style': {\n",
    "            'color': 'black',\n",
    "            'backgroundColor':'#efefef',\n",
    "            'zIndex': 999\n",
    "        }\n",
    "    }\n",
    "\n",
    "\n",
    "layers = [scatterplot, text]\n",
    "\n",
    "fig = pdk.Deck(height=800,\n",
    "               layers=layers,\n",
    "               map_style=\"light_no_labels\",\n",
    "               tooltip=tooltip,\n",
    "               initial_view_state=viewport,\n",
    "               api_keys={\"mapbox\": MAPBOX_TOKEN})\n",
    "fig.show()"
   ]
  },
  {
   "cell_type": "code",
   "execution_count": 11,
   "metadata": {},
   "outputs": [
    {
     "ename": "NameError",
     "evalue": "name 'json' is not defined",
     "output_type": "error",
     "traceback": [
      "\u001b[0;31m---------------------------------------------------------------------------\u001b[0m",
      "\u001b[0;31mNameError\u001b[0m                                 Traceback (most recent call last)",
      "\u001b[0;32m<ipython-input-11-9b3f382ab3e9>\u001b[0m in \u001b[0;36m<module>\u001b[0;34m\u001b[0m\n\u001b[0;32m----> 1\u001b[0;31m \u001b[0mds\u001b[0m\u001b[0;34m.\u001b[0m\u001b[0mpydeck\u001b[0m\u001b[0;34m(\u001b[0m\u001b[0mfig\u001b[0m\u001b[0;34m,\u001b[0m \u001b[0;34m\"poster\"\u001b[0m\u001b[0;34m,\u001b[0m \u001b[0mshowMap\u001b[0m\u001b[0;34m=\u001b[0m\u001b[0;32mTrue\u001b[0m\u001b[0;34m,\u001b[0m \u001b[0mtooltip\u001b[0m\u001b[0;34m=\u001b[0m\u001b[0mjson\u001b[0m\u001b[0;34m.\u001b[0m\u001b[0mdumps\u001b[0m\u001b[0;34m(\u001b[0m\u001b[0mtooltip\u001b[0m\u001b[0;34m)\u001b[0m\u001b[0;34m)\u001b[0m\u001b[0;34m\u001b[0m\u001b[0;34m\u001b[0m\u001b[0m\n\u001b[0m",
      "\u001b[0;31mNameError\u001b[0m: name 'json' is not defined"
     ]
    }
   ],
   "source": [
    "ds.pydeck(fig, \"poster\", showMap=True, tooltip=json.dumps(tooltip))"
   ]
  },
  {
   "cell_type": "code",
   "execution_count": 29,
   "metadata": {},
   "outputs": [
    {
     "name": "stdout",
     "output_type": "stream",
     "text": [
      "Publishing story Roorientering Osloforden 2021 to the examples space...\n",
      "Published at: https://public.deetly.com/examples/ac319b749a0e17211370e518c372eb8a \n",
      "\n",
      "Metadata: https://storage.googleapis.com/deetly/examples/ac319b749a0e17211370e518c372eb8a/datapackage.json \n",
      "\n"
     ]
    }
   ],
   "source": [
    "ds.publish()"
   ]
  },
  {
   "cell_type": "code",
   "execution_count": null,
   "metadata": {},
   "outputs": [],
   "source": []
  }
 ],
 "metadata": {
  "kernelspec": {
   "display_name": "Python 3",
   "language": "python",
   "name": "python3"
  },
  "language_info": {
   "codemirror_mode": {
    "name": "ipython",
    "version": 3
   },
   "file_extension": ".py",
   "mimetype": "text/x-python",
   "name": "python",
   "nbconvert_exporter": "python",
   "pygments_lexer": "ipython3",
   "version": "3.7.9"
  }
 },
 "nbformat": 4,
 "nbformat_minor": 4
}
