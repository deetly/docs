{
 "cells": [
  {
   "cell_type": "markdown",
   "metadata": {},
   "source": [
    "# Pydeck example NAV permitteringer\n",
    "> An example of fetching data from excel and visualizing the data with pydeck."
   ]
  },
  {
   "cell_type": "code",
   "execution_count": 40,
   "metadata": {},
   "outputs": [
    {
     "output_type": "execute_result",
     "data": {
      "text/plain": "'no_NO.UTF-8'"
     },
     "metadata": {},
     "execution_count": 40
    }
   ],
   "source": [
    "import deetly\n",
    "import pandas as pd\n",
    "import geopandas as gpd\n",
    "import pydeck\n",
    "import altair as alt\n",
    "import dateutil.parser\n",
    "import requests\n",
    "import json\n",
    "import os\n",
    "from IPython.display import IFrame"
   ]
  },
  {
   "cell_type": "code",
   "execution_count": 44,
   "metadata": {},
   "outputs": [],
   "source": [
    "MAPBOX_TOKEN = os.environ['MAPBOX_TOKEN'] "
   ]
  },
  {
   "cell_type": "code",
   "execution_count": 48,
   "metadata": {},
   "outputs": [],
   "source": [
    "## workaround to show figure in jupyter-book\n",
    "def show_fig(fig, name):\n",
    "    if get_ipython().__class__.__name__ == 'ZMQInteractiveShell':\n",
    "        print('Jupyter')\n",
    "        res = fig.to_html(name)\n",
    "    else:\n",
    "        print('Not Jupyter')\n",
    "        res = fig.to_html(name, notebook_display=False)\n",
    "        IFrame(src=name, width=700, height=600) "
   ]
  },
  {
   "cell_type": "code",
   "execution_count": 52,
   "metadata": {
    "tags": []
   },
   "outputs": [
    {
     "output_type": "stream",
     "name": "stdout",
     "text": "Missing mandatory props(s): ['title']\nMissing recommended props(s): ['contactPoint', 'distribution', 'keyword', 'publisher', 'spatial', 'temporal']\nProperty not in DCAT schema: ['name', 'author', 'license', 'keywords']\nInvalid type: ['String:name', 'String:description', 'String:author', 'String or list of strings:theme', 'String:license', 'String:keywords', 'ISO date or datetime:issued', 'ISO date or datetime:modified']\n"
    }
   ],
   "source": [
    "# Create datapackage\n",
    "description = \"\"\"\n",
    "## NAV: Søknader om dagpenger\n",
    "\n",
    "Siden torsdag 12. mars, dagen mange av de mest omfattende tiltakene ble innført for å begrense smittespredningen, er det kommet inn totalt 274 200 søknader om dagpenger, hvorav 250 800 gjelder dagpenger ved permittering.\n",
    "\n",
    "Så langt i 2020 er det kommet inn totalt 313 100 søknader om dagpenger, sammenlignet med 160 500 gjennom hele 2019 og 166 600 gjennom hele 2018.\n",
    "\"\"\"\n",
    "\n",
    "package = {\n",
    "    \"name\":\"NAV: Søknader om dagpenger\", \n",
    "    \"description\":description, \n",
    "    \"author\":\"deetly\", \n",
    "    \"theme\":\"example\",\n",
    "    \"license\": \"MIT\",\n",
    "    \"keywords\": [\"example, deck.gl, pydeck, arbeid, dagpenger, permittering, permitteringer\"]\n",
    "}\n",
    "\n",
    "dp = deetly.package(package)"
   ]
  },
  {
   "cell_type": "markdown",
   "metadata": {},
   "source": [
    "# Get data from nav.no"
   ]
  },
  {
   "cell_type": "code",
   "execution_count": null,
   "metadata": {},
   "outputs": [],
   "source": [
    "EXCEL_URL_NÆRING = 'https://www.nav.no/no/nav-og-samfunn/statistikk/flere-statistikkomrader/relatert-informasjon/soknader-om-dagpenger/_/attachment/download/45180f2d-4445-4f83-834e-5d8c95d2bf90:120845241b1ca3a76ab8d6b47559f543a743e4f8/2503%20-%20S%C3%B8knader_om_dagpenger._N%C3%A6ring.xlsx'"
   ]
  },
  {
   "cell_type": "code",
   "execution_count": 59,
   "metadata": {},
   "outputs": [],
   "source": [
    "EXCEL_URL = 'https://www.nav.no/no/nav-og-samfunn/statistikk/flere-statistikkomrader/relatert-informasjon/soknader-om-dagpenger/_/attachment/download/78bbd22d-8205-4353-bfd1-dba90f8b6f99:252d4b00554bb9851e3a42e4681ccdbcfcb0fe41/2603%20-%20S%C3%B8knader_om_dagpenger.xlsx'"
   ]
  },
  {
   "cell_type": "code",
   "execution_count": null,
   "metadata": {},
   "outputs": [],
   "source": [
    "MAP_URL = 'https://raw.githubusercontent.com/datasett/maps/master/norway/data/2020/counties_2020_s_geojson.json'"
   ]
  },
  {
   "cell_type": "code",
   "execution_count": 66,
   "metadata": {},
   "outputs": [
    {
     "output_type": "execute_result",
     "data": {
      "text/plain": "['Dato',\n 'Uke',\n 'Fylke. Ordinære',\n 'Fylke. Permitterte',\n 'Kommune. Permitterte',\n 'Bydel. Permitterte',\n 'År',\n 'Om statistikken']"
     },
     "metadata": {},
     "execution_count": 66
    }
   ],
   "source": [
    "xl_permittering = pd.ExcelFile(EXCEL_URL)\n",
    "xl_permittering.sheet_names"
   ]
  },
  {
   "cell_type": "code",
   "execution_count": 70,
   "metadata": {},
   "outputs": [
    {
     "output_type": "execute_result",
     "data": {
      "text/plain": "     kommune    sum  uke11  uke12  uke13  sum_andel  uke11_andel  uke12_andel  \\\n1  0301 Oslo  40504   3976  29746   6782      10.42          1.0          7.7   \n\n   uke13_andel kommunenummer kommune_navn  \n1          1.7          0301         Oslo  ",
      "text/html": "<div>\n<style scoped>\n    .dataframe tbody tr th:only-of-type {\n        vertical-align: middle;\n    }\n\n    .dataframe tbody tr th {\n        vertical-align: top;\n    }\n\n    .dataframe thead th {\n        text-align: right;\n    }\n</style>\n<table border=\"1\" class=\"dataframe\">\n  <thead>\n    <tr style=\"text-align: right;\">\n      <th></th>\n      <th>kommune</th>\n      <th>sum</th>\n      <th>uke11</th>\n      <th>uke12</th>\n      <th>uke13</th>\n      <th>sum_andel</th>\n      <th>uke11_andel</th>\n      <th>uke12_andel</th>\n      <th>uke13_andel</th>\n      <th>kommunenummer</th>\n      <th>kommune_navn</th>\n    </tr>\n  </thead>\n  <tbody>\n    <tr>\n      <th>1</th>\n      <td>0301 Oslo</td>\n      <td>40504</td>\n      <td>3976</td>\n      <td>29746</td>\n      <td>6782</td>\n      <td>10.42</td>\n      <td>1.0</td>\n      <td>7.7</td>\n      <td>1.7</td>\n      <td>0301</td>\n      <td>Oslo</td>\n    </tr>\n  </tbody>\n</table>\n</div>"
     },
     "metadata": {},
     "execution_count": 70
    }
   ],
   "source": [
    "df_p = pd.read_excel(EXCEL_URL,sheet_name='Kommune. Permitterte', header=6)\n",
    "df_p.drop(columns=[\"Unnamed: 0\",\"Unnamed: 2\",\"Unnamed: 7\",\"Unnamed: 13\",\"Unnamed: 14\"], axis=1, inplace=True)\n",
    "df_p.rename(columns={\"Antall søknader\": \"Kommune\"}, inplace=True)\n",
    "df_p.drop([0, 0],inplace=True)\n",
    "df_p.replace({'Kommune': {'Ukjent': '9999 Ukjent'}}, inplace=True)\n",
    "df_p.replace({'*':0}, inplace=True)\n",
    "df_p[\"kommunenummer\"] = df_p[\"Kommune\"].apply(lambda x: x[0:4])\n",
    "df_p[\"kommune_navn\"] = df_p[\"Kommune\"].apply(lambda x: x[4:])\n",
    "df_p.rename(columns={\"Kommune\": \"kommune\", \"I alt\": \"sum\", 11: 'uke11', 12: 'uke12', 13:'uke13'}, inplace=True)\n",
    "df_p.rename(columns={\"I alt.1\": \"sum_andel\", '11.1': 'uke11_andel', '12.1': 'uke12_andel', '13.1':'uke13_andel'}, inplace=True)\n",
    "df_p['sum_andel'] = df_p['sum_andel'].apply(lambda x: round(x,2))\n",
    "df_p['uke11_andel'] = df_p['uke11_andel'].apply(lambda x: round(x,1)) \n",
    "df_p['uke12_andel'] = df_p['uke12_andel'].apply(lambda x: round(x,1)) \n",
    "df_p['uke13_andel'] = df_p['uke13_andel'].apply(lambda x: round(x,1)) \n",
    "df_p.drop(columns=['Andel av arbeidsstyrke'], inplace=True)\n",
    "df_p.head(1)"
   ]
  },
  {
   "cell_type": "code",
   "execution_count": 74,
   "metadata": {},
   "outputs": [
    {
     "output_type": "execute_result",
     "data": {
      "text/plain": "     kommune    sum  uke11  uke12  uke13  sum_andel  uke11_andel  uke12_andel  \\\n1  0301 Oslo  40504   3976  29746   6782      10.42          1.0          7.7   \n\n   uke13_andel kommunenummer kommune_navn  \n1          1.7          0301         Oslo  ",
      "text/html": "<div>\n<style scoped>\n    .dataframe tbody tr th:only-of-type {\n        vertical-align: middle;\n    }\n\n    .dataframe tbody tr th {\n        vertical-align: top;\n    }\n\n    .dataframe thead th {\n        text-align: right;\n    }\n</style>\n<table border=\"1\" class=\"dataframe\">\n  <thead>\n    <tr style=\"text-align: right;\">\n      <th></th>\n      <th>kommune</th>\n      <th>sum</th>\n      <th>uke11</th>\n      <th>uke12</th>\n      <th>uke13</th>\n      <th>sum_andel</th>\n      <th>uke11_andel</th>\n      <th>uke12_andel</th>\n      <th>uke13_andel</th>\n      <th>kommunenummer</th>\n      <th>kommune_navn</th>\n    </tr>\n  </thead>\n  <tbody>\n    <tr>\n      <th>1</th>\n      <td>0301 Oslo</td>\n      <td>40504</td>\n      <td>3976</td>\n      <td>29746</td>\n      <td>6782</td>\n      <td>10.42</td>\n      <td>1.0</td>\n      <td>7.7</td>\n      <td>1.7</td>\n      <td>0301</td>\n      <td>Oslo</td>\n    </tr>\n  </tbody>\n</table>\n</div>"
     },
     "metadata": {},
     "execution_count": 74
    }
   ],
   "source": [
    "df_p.sort_values('sum', ascending=False).head(1)"
   ]
  },
  {
   "cell_type": "code",
   "execution_count": 78,
   "metadata": {},
   "outputs": [],
   "source": [
    "df_map = gpd.read_file(MAP_URL)\n",
    "df_merged = pd.merge(df_map, df_p, how='left', on='kommunenummer')\n",
    "df_merged['lat'] = df_merged['geometry'].apply(lambda x : round(x.centroid.y,2))\n",
    "df_merged['lng'] = df_merged['geometry'].apply(lambda x : round(x.centroid.x,2))\n",
    "df_merged['coordinates']  = df_merged.apply(lambda row: [row['lng'], row['lat']], axis=1)"
   ]
  },
  {
   "cell_type": "code",
   "execution_count": 82,
   "metadata": {},
   "outputs": [
    {
     "output_type": "execute_result",
     "data": {
      "text/plain": "  id kommunenummer     oppdateringsdato  navn  area_kommune fylke_nummer  \\\n0  0          0301  2019-10-28T00:00:00  Oslo      0.072515           03   \n\n  fylke_navn                                           geometry    kommune  \\\n0       OSLO  POLYGON ((10.68032 60.13353, 10.74694 60.12303...  0301 Oslo   \n\n     sum  ...  uke12  uke13  sum_andel  uke11_andel  uke12_andel  uke13_andel  \\\n0  40504  ...  29746   6782      10.42          1.0          7.7          1.7   \n\n   kommune_navn    lat    lng     coordinates  \n0          Oslo  59.98  10.74  [10.74, 59.98]  \n\n[1 rows x 21 columns]",
      "text/html": "<div>\n<style scoped>\n    .dataframe tbody tr th:only-of-type {\n        vertical-align: middle;\n    }\n\n    .dataframe tbody tr th {\n        vertical-align: top;\n    }\n\n    .dataframe thead th {\n        text-align: right;\n    }\n</style>\n<table border=\"1\" class=\"dataframe\">\n  <thead>\n    <tr style=\"text-align: right;\">\n      <th></th>\n      <th>id</th>\n      <th>kommunenummer</th>\n      <th>oppdateringsdato</th>\n      <th>navn</th>\n      <th>area_kommune</th>\n      <th>fylke_nummer</th>\n      <th>fylke_navn</th>\n      <th>geometry</th>\n      <th>kommune</th>\n      <th>sum</th>\n      <th>...</th>\n      <th>uke12</th>\n      <th>uke13</th>\n      <th>sum_andel</th>\n      <th>uke11_andel</th>\n      <th>uke12_andel</th>\n      <th>uke13_andel</th>\n      <th>kommune_navn</th>\n      <th>lat</th>\n      <th>lng</th>\n      <th>coordinates</th>\n    </tr>\n  </thead>\n  <tbody>\n    <tr>\n      <th>0</th>\n      <td>0</td>\n      <td>0301</td>\n      <td>2019-10-28T00:00:00</td>\n      <td>Oslo</td>\n      <td>0.072515</td>\n      <td>03</td>\n      <td>OSLO</td>\n      <td>POLYGON ((10.68032 60.13353, 10.74694 60.12303...</td>\n      <td>0301 Oslo</td>\n      <td>40504</td>\n      <td>...</td>\n      <td>29746</td>\n      <td>6782</td>\n      <td>10.42</td>\n      <td>1.0</td>\n      <td>7.7</td>\n      <td>1.7</td>\n      <td>Oslo</td>\n      <td>59.98</td>\n      <td>10.74</td>\n      <td>[10.74, 59.98]</td>\n    </tr>\n  </tbody>\n</table>\n<p>1 rows × 21 columns</p>\n</div>"
     },
     "metadata": {},
     "execution_count": 82
    }
   ],
   "source": [
    "df_merged.head(1)"
   ]
  },
  {
   "cell_type": "code",
   "execution_count": 86,
   "metadata": {},
   "outputs": [],
   "source": [
    "view_state_norway = pydeck.ViewState(\n",
    "    longitude = 17,\n",
    "    latitude= 64,\n",
    "    zoom= 3,\n",
    "    minZoom= 3,\n",
    "    maxZoom= 12,\n",
    "    pitch= 45,\n",
    "    bearing= 0)"
   ]
  },
  {
   "cell_type": "code",
   "execution_count": 90,
   "metadata": {},
   "outputs": [],
   "source": [
    "tooltip = {\n",
    "    \"html\": \"<b>{navn}</b> {sum}\",\n",
    "    \"style\": {\n",
    "        \"backgroundColor\": \"silver\",\n",
    "        \"color\": \"black\",\n",
    "        \"zIndex\": \"10000\",\n",
    "    },\n",
    "}"
   ]
  },
  {
   "cell_type": "markdown",
   "metadata": {},
   "source": [
    "## Scatterplot"
   ]
  },
  {
   "cell_type": "code",
   "execution_count": 94,
   "metadata": {},
   "outputs": [
    {
     "output_type": "execute_result",
     "data": {
      "text/plain": "   navn fylke_navn    sum  sum_andel     coordinates    lat    lng\n0  Oslo       OSLO  40504      10.42  [10.74, 59.98]  59.98  10.74",
      "text/html": "<div>\n<style scoped>\n    .dataframe tbody tr th:only-of-type {\n        vertical-align: middle;\n    }\n\n    .dataframe tbody tr th {\n        vertical-align: top;\n    }\n\n    .dataframe thead th {\n        text-align: right;\n    }\n</style>\n<table border=\"1\" class=\"dataframe\">\n  <thead>\n    <tr style=\"text-align: right;\">\n      <th></th>\n      <th>navn</th>\n      <th>fylke_navn</th>\n      <th>sum</th>\n      <th>sum_andel</th>\n      <th>coordinates</th>\n      <th>lat</th>\n      <th>lng</th>\n    </tr>\n  </thead>\n  <tbody>\n    <tr>\n      <th>0</th>\n      <td>Oslo</td>\n      <td>OSLO</td>\n      <td>40504</td>\n      <td>10.42</td>\n      <td>[10.74, 59.98]</td>\n      <td>59.98</td>\n      <td>10.74</td>\n    </tr>\n  </tbody>\n</table>\n</div>"
     },
     "metadata": {},
     "execution_count": 94
    }
   ],
   "source": [
    "source=df_merged[['navn','fylke_navn','sum','sum_andel','coordinates','lat','lng']]\n",
    "source.head(1)"
   ]
  },
  {
   "cell_type": "code",
   "execution_count": null,
   "metadata": {
    "tags": []
   },
   "outputs": [],
   "source": [
    "view_state = pydeck.ViewState(\n",
    "    longitude = 17,\n",
    "    latitude= 64,\n",
    "    zoom= 3,\n",
    "    minZoom= 3,\n",
    "    maxZoom= 12,\n",
    "    pitch= 0,\n",
    "    bearing= 0)\n",
    "\n",
    "layer = pydeck.Layer(\n",
    "    \"ScatterplotLayer\",\n",
    "    data=source,\n",
    "    pickable=True,\n",
    "    opacity=0.8,\n",
    "    stroked=True,\n",
    "    filled=True,\n",
    "    radius_scale=2,\n",
    "    radius_min_pixels=1,\n",
    "    radius_max_pixels=200,\n",
    "    line_width_min_pixels=1,\n",
    "    get_position=[\"lng\", \"lat\"],\n",
    "    get_radius=\"sum\",\n",
    "    get_fill_color=[255, 140, 0, 200],\n",
    "    get_line_color=[0, 0, 0],\n",
    ")\n",
    "\n",
    "fig = pydeck.Deck(layers=[layer], tooltip=tooltip, initial_view_state=view_state, mapbox_key=MAPBOX_TOKEN)\n",
    "show_fig(fig, 'fig.html')"
   ]
  },
  {
   "cell_type": "code",
   "execution_count": 158,
   "metadata": {},
   "outputs": [
    {
     "output_type": "execute_result",
     "data": {
      "text/plain": "<IPython.lib.display.IFrame at 0x7fe05094d5f8>",
      "text/html": "\n        <iframe\n            width=\"700\"\n            height=\"600\"\n            src=\"test.html\"\n            frameborder=\"0\"\n            allowfullscreen\n        ></iframe>\n        "
     },
     "metadata": {},
     "execution_count": 158
    }
   ],
   "source": [
    "fig = pydeck.Deck(layers=[layer], tooltip=tooltip, initial_view_state=view_state, mapbox_key=MAPBOX_TOKEN)\n",
    "res = fig.to_html('test.html', notebook_display=False)\n",
    "IFrame(src='test.html', width=\"700\", height=\"600\") "
   ]
  },
  {
   "cell_type": "code",
   "execution_count": 108,
   "metadata": {},
   "outputs": [
    {
     "output_type": "error",
     "ename": "AttributeError",
     "evalue": "'dict' object has no attribute 'to_json'",
     "traceback": [
      "\u001b[0;31m---------------------------------------------------------------------------\u001b[0m",
      "\u001b[0;31mAttributeError\u001b[0m                            Traceback (most recent call last)",
      "\u001b[0;32m<ipython-input-108-f567eab3095a>\u001b[0m in \u001b[0;36m<module>\u001b[0;34m\u001b[0m\n\u001b[1;32m      4\u001b[0m \"\"\"\n\u001b[1;32m      5\u001b[0m \u001b[0;34m\u001b[0m\u001b[0m\n\u001b[0;32m----> 6\u001b[0;31m \u001b[0mdp\u001b[0m\u001b[0;34m.\u001b[0m\u001b[0mpydeck\u001b[0m\u001b[0;34m(\u001b[0m\u001b[0mfig\u001b[0m\u001b[0;34m,\u001b[0m \u001b[0;34m\"Sum antall\"\u001b[0m\u001b[0;34m,\u001b[0m\u001b[0mdescription\u001b[0m\u001b[0;34m,\u001b[0m \u001b[0mshowMap\u001b[0m\u001b[0;34m=\u001b[0m\u001b[0;32mTrue\u001b[0m\u001b[0;34m,\u001b[0m\u001b[0mtooltip\u001b[0m\u001b[0;34m=\u001b[0m\u001b[0mjson\u001b[0m\u001b[0;34m.\u001b[0m\u001b[0mdumps\u001b[0m\u001b[0;34m(\u001b[0m\u001b[0mtooltip\u001b[0m\u001b[0;34m)\u001b[0m\u001b[0;34m)\u001b[0m\u001b[0;34m\u001b[0m\u001b[0;34m\u001b[0m\u001b[0m\n\u001b[0m",
      "\u001b[0;32m~/anaconda3/envs/dv/lib/python3.7/site-packages/deetly/datapackage.py\u001b[0m in \u001b[0;36mpydeck\u001b[0;34m(self, fig, name, description, *args, **kwargs)\u001b[0m\n\u001b[1;32m    181\u001b[0m         \"\"\"\n\u001b[1;32m    182\u001b[0m \u001b[0;34m\u001b[0m\u001b[0m\n\u001b[0;32m--> 183\u001b[0;31m         \u001b[0mself\u001b[0m\u001b[0;34m.\u001b[0m\u001b[0mplot\u001b[0m\u001b[0;34m(\u001b[0m\u001b[0;34m\"deck\"\u001b[0m\u001b[0;34m,\u001b[0m \u001b[0mjson\u001b[0m\u001b[0;34m.\u001b[0m\u001b[0mloads\u001b[0m\u001b[0;34m(\u001b[0m\u001b[0mfig\u001b[0m\u001b[0;34m.\u001b[0m\u001b[0mto_json\u001b[0m\u001b[0;34m(\u001b[0m\u001b[0;34m)\u001b[0m\u001b[0;34m)\u001b[0m\u001b[0;34m,\u001b[0m \u001b[0mname\u001b[0m\u001b[0;34m,\u001b[0m \u001b[0mdescription\u001b[0m\u001b[0;34m,\u001b[0m \u001b[0;34m*\u001b[0m\u001b[0margs\u001b[0m\u001b[0;34m,\u001b[0m \u001b[0;34m**\u001b[0m\u001b[0mkwargs\u001b[0m\u001b[0;34m)\u001b[0m\u001b[0;34m\u001b[0m\u001b[0;34m\u001b[0m\u001b[0m\n\u001b[0m\u001b[1;32m    184\u001b[0m \u001b[0;34m\u001b[0m\u001b[0m\n\u001b[1;32m    185\u001b[0m     \u001b[0;32mdef\u001b[0m \u001b[0mbarlist\u001b[0m\u001b[0;34m(\u001b[0m\u001b[0mself\u001b[0m\u001b[0;34m,\u001b[0m \u001b[0mfig\u001b[0m\u001b[0;34m:\u001b[0m \u001b[0mAny\u001b[0m\u001b[0;34m,\u001b[0m \u001b[0mname\u001b[0m\u001b[0;34m:\u001b[0m \u001b[0mstr\u001b[0m\u001b[0;34m,\u001b[0m \u001b[0mdescription\u001b[0m\u001b[0;34m:\u001b[0m \u001b[0mstr\u001b[0m \u001b[0;34m=\u001b[0m \u001b[0;34m\"\"\u001b[0m\u001b[0;34m)\u001b[0m \u001b[0;34m->\u001b[0m \u001b[0;32mNone\u001b[0m\u001b[0;34m:\u001b[0m\u001b[0;34m\u001b[0m\u001b[0;34m\u001b[0m\u001b[0m\n",
      "\u001b[0;31mAttributeError\u001b[0m: 'dict' object has no attribute 'to_json'"
     ]
    }
   ],
   "source": [
    "# Add figure to data package\n",
    "description = \"\"\"\n",
    "## Sum antall søknader om dagpenger ved permittering.\n",
    "\"\"\"\n",
    "\n",
    "dp.pydeck(fig, \"Sum antall\",description, showMap=True,tooltip=json.dumps(tooltip))"
   ]
  },
  {
   "cell_type": "markdown",
   "metadata": {},
   "source": [
    "## Column layer"
   ]
  },
  {
   "cell_type": "code",
   "execution_count": null,
   "metadata": {
    "tags": []
   },
   "outputs": [],
   "source": [
    "layer = pydeck.Layer(\n",
    "    \"ColumnLayer\",\n",
    "    source,\n",
    "    get_position=[\"lng\", \"lat\"],\n",
    "    get_elevation=\"sum_andel\",\n",
    "    elevation_scale=10000,\n",
    "    radius=5000,\n",
    "    get_fill_color='[sum_andel*10, 140, 0, 200]',\n",
    "    pickable=True,\n",
    "    auto_highlight=True,\n",
    ")\n",
    "\n",
    "tooltip = {\n",
    "    \"html\": \"<b>{navn}</b><br/>Sum antall: {sum}</br>Andel: {sum_andel}%\",\n",
    "    \"style\": {\n",
    "        \"backgroundColor\": \"silver\",\n",
    "        \"color\": \"black\",\n",
    "        \"zIndex\": \"10000\",\n",
    "    },\n",
    "}\n",
    "\n",
    "fig = pydeck.Deck(\n",
    "    layer,\n",
    "    initial_view_state=view_state_norway,\n",
    "    tooltip=tooltip,\n",
    "    mapbox_key=MAPBOX_TOKEN\n",
    ")\n",
    "\n",
    "show_fig(fig, 'fig2.html')"
   ]
  },
  {
   "cell_type": "code",
   "execution_count": 118,
   "metadata": {},
   "outputs": [
    {
     "output_type": "error",
     "ename": "AttributeError",
     "evalue": "'dict' object has no attribute 'to_json'",
     "traceback": [
      "\u001b[0;31m---------------------------------------------------------------------------\u001b[0m",
      "\u001b[0;31mAttributeError\u001b[0m                            Traceback (most recent call last)",
      "\u001b[0;32m<ipython-input-118-2fe11f8045d3>\u001b[0m in \u001b[0;36m<module>\u001b[0;34m\u001b[0m\n\u001b[1;32m      4\u001b[0m \"\"\"\n\u001b[1;32m      5\u001b[0m \u001b[0;34m\u001b[0m\u001b[0m\n\u001b[0;32m----> 6\u001b[0;31m \u001b[0mdp\u001b[0m\u001b[0;34m.\u001b[0m\u001b[0mpydeck\u001b[0m\u001b[0;34m(\u001b[0m\u001b[0mfig\u001b[0m\u001b[0;34m,\u001b[0m \u001b[0;34m\"Andel av arbeidsstyrken\"\u001b[0m\u001b[0;34m,\u001b[0m\u001b[0mdescription\u001b[0m\u001b[0;34m,\u001b[0m \u001b[0mshowMap\u001b[0m\u001b[0;34m=\u001b[0m\u001b[0;32mTrue\u001b[0m\u001b[0;34m,\u001b[0m \u001b[0mtooltip\u001b[0m\u001b[0;34m=\u001b[0m\u001b[0mjson\u001b[0m\u001b[0;34m.\u001b[0m\u001b[0mdumps\u001b[0m\u001b[0;34m(\u001b[0m\u001b[0mtooltip\u001b[0m\u001b[0;34m)\u001b[0m\u001b[0;34m)\u001b[0m\u001b[0;34m\u001b[0m\u001b[0;34m\u001b[0m\u001b[0m\n\u001b[0m",
      "\u001b[0;32m~/anaconda3/envs/dv/lib/python3.7/site-packages/deetly/datapackage.py\u001b[0m in \u001b[0;36mpydeck\u001b[0;34m(self, fig, name, description, *args, **kwargs)\u001b[0m\n\u001b[1;32m    181\u001b[0m         \"\"\"\n\u001b[1;32m    182\u001b[0m \u001b[0;34m\u001b[0m\u001b[0m\n\u001b[0;32m--> 183\u001b[0;31m         \u001b[0mself\u001b[0m\u001b[0;34m.\u001b[0m\u001b[0mplot\u001b[0m\u001b[0;34m(\u001b[0m\u001b[0;34m\"deck\"\u001b[0m\u001b[0;34m,\u001b[0m \u001b[0mjson\u001b[0m\u001b[0;34m.\u001b[0m\u001b[0mloads\u001b[0m\u001b[0;34m(\u001b[0m\u001b[0mfig\u001b[0m\u001b[0;34m.\u001b[0m\u001b[0mto_json\u001b[0m\u001b[0;34m(\u001b[0m\u001b[0;34m)\u001b[0m\u001b[0;34m)\u001b[0m\u001b[0;34m,\u001b[0m \u001b[0mname\u001b[0m\u001b[0;34m,\u001b[0m \u001b[0mdescription\u001b[0m\u001b[0;34m,\u001b[0m \u001b[0;34m*\u001b[0m\u001b[0margs\u001b[0m\u001b[0;34m,\u001b[0m \u001b[0;34m**\u001b[0m\u001b[0mkwargs\u001b[0m\u001b[0;34m)\u001b[0m\u001b[0;34m\u001b[0m\u001b[0;34m\u001b[0m\u001b[0m\n\u001b[0m\u001b[1;32m    184\u001b[0m \u001b[0;34m\u001b[0m\u001b[0m\n\u001b[1;32m    185\u001b[0m     \u001b[0;32mdef\u001b[0m \u001b[0mbarlist\u001b[0m\u001b[0;34m(\u001b[0m\u001b[0mself\u001b[0m\u001b[0;34m,\u001b[0m \u001b[0mfig\u001b[0m\u001b[0;34m:\u001b[0m \u001b[0mAny\u001b[0m\u001b[0;34m,\u001b[0m \u001b[0mname\u001b[0m\u001b[0;34m:\u001b[0m \u001b[0mstr\u001b[0m\u001b[0;34m,\u001b[0m \u001b[0mdescription\u001b[0m\u001b[0;34m:\u001b[0m \u001b[0mstr\u001b[0m \u001b[0;34m=\u001b[0m \u001b[0;34m\"\"\u001b[0m\u001b[0;34m)\u001b[0m \u001b[0;34m->\u001b[0m \u001b[0;32mNone\u001b[0m\u001b[0;34m:\u001b[0m\u001b[0;34m\u001b[0m\u001b[0;34m\u001b[0m\u001b[0m\n",
      "\u001b[0;31mAttributeError\u001b[0m: 'dict' object has no attribute 'to_json'"
     ]
    }
   ],
   "source": [
    "# Add figure to data package\n",
    "description = \"\"\"\n",
    "## Sum antall søknader om dagpenger ved permittering som andel av arbeidsstyrken\n",
    "\"\"\"\n",
    "\n",
    "dp.pydeck(fig, \"Andel av arbeidsstyrken\",description, showMap=True, tooltip=json.dumps(tooltip))"
   ]
  },
  {
   "cell_type": "markdown",
   "metadata": {},
   "source": [
    "## Utvikling antall pr uke & kommune"
   ]
  },
  {
   "cell_type": "code",
   "execution_count": null,
   "metadata": {},
   "outputs": [],
   "source": [
    "source = df_p[['kommune', 'uke11', 'uke12', 'uke13']]\n",
    "source = source.melt(id_vars='kommune')"
   ]
  },
  {
   "cell_type": "code",
   "execution_count": 128,
   "metadata": {},
   "outputs": [
    {
     "output_type": "execute_result",
     "data": {
      "text/html": "\n<div id=\"altair-viz-0d0edd0995f248eb89634791a298129a\"></div>\n<script type=\"text/javascript\">\n  (function(spec, embedOpt){\n    const outputDiv = document.getElementById(\"altair-viz-0d0edd0995f248eb89634791a298129a\");\n    const paths = {\n      \"vega\": \"https://cdn.jsdelivr.net/npm//vega@5?noext\",\n      \"vega-lib\": \"https://cdn.jsdelivr.net/npm//vega-lib?noext\",\n      \"vega-lite\": \"https://cdn.jsdelivr.net/npm//vega-lite@4.0.2?noext\",\n      \"vega-embed\": \"https://cdn.jsdelivr.net/npm//vega-embed@6?noext\",\n    };\n\n    function loadScript(lib) {\n      return new Promise(function(resolve, reject) {\n        var s = document.createElement('script');\n        s.src = paths[lib];\n        s.async = true;\n        s.onload = () => resolve(paths[lib]);\n        s.onerror = () => reject(`Error loading script: ${paths[lib]}`);\n        document.getElementsByTagName(\"head\")[0].appendChild(s);\n      });\n    }\n\n    function showError(err) {\n      outputDiv.innerHTML = `<div class=\"error\" style=\"color:red;\">${err}</div>`;\n      throw err;\n    }\n\n    function displayChart(vegaEmbed) {\n      vegaEmbed(outputDiv, spec, embedOpt)\n        .catch(err => showError(`Javascript Error: ${err.message}<br>This usually means there's a typo in your chart specification. See the javascript console for the full traceback.`));\n    }\n\n    if(typeof define === \"function\" && define.amd) {\n      requirejs.config({paths});\n      require([\"vega-embed\"], displayChart, err => showError(`Error loading script: ${err.message}`));\n    } else if (typeof vegaEmbed === \"function\") {\n      displayChart(vegaEmbed);\n    } else {\n      loadScript(\"vega\")\n        .then(() => loadScript(\"vega-lite\"))\n        .then(() => loadScript(\"vega-embed\"))\n        .catch(showError)\n        .then(() => displayChart(vegaEmbed));\n    }\n  })({\"config\": {\"view\": {\"continuousWidth\": 400, \"continuousHeight\": 300}}, \"data\": {\"name\": \"data-d5a40fadaecf39ee5e8379e2fbbcbfd6\"}, \"mark\": \"bar\", \"encoding\": {\"color\": {\"type\": \"nominal\", \"field\": \"kommune\", \"legend\": null}, \"order\": {\"type\": \"quantitative\", \"field\": \"value\", \"sort\": \"descending\"}, \"tooltip\": [{\"type\": \"nominal\", \"field\": \"kommune\", \"title\": \"Kommune\"}, {\"type\": \"nominal\", \"field\": \"variable\", \"title\": \"Uke\"}, {\"type\": \"quantitative\", \"aggregate\": \"sum\", \"field\": \"value\", \"title\": \"Antall\"}], \"x\": {\"type\": \"quantitative\", \"aggregate\": \"sum\", \"axis\": {\"title\": \"\"}, \"field\": \"value\"}, \"y\": {\"type\": \"nominal\", \"axis\": {\"title\": \"\"}, \"field\": \"variable\"}}, \"$schema\": \"https://vega.github.io/schema/vega-lite/v4.0.2.json\", \"datasets\": {\"data-d5a40fadaecf39ee5e8379e2fbbcbfd6\": [{\"kommune\": \"0301 Oslo\", \"variable\": \"uke11\", \"value\": 3976}, {\"kommune\": \"1101 Eigersund\", \"variable\": \"uke11\", \"value\": 51}, {\"kommune\": \"1103 Stavanger\", \"variable\": \"uke11\", \"value\": 572}, {\"kommune\": \"1106 Haugesund\", \"variable\": \"uke11\", \"value\": 143}, {\"kommune\": \"1108 Sandnes\", \"variable\": \"uke11\", \"value\": 283}, {\"kommune\": \"1111 Sokndal\", \"variable\": \"uke11\", \"value\": 11}, {\"kommune\": \"1112 Lund\", \"variable\": \"uke11\", \"value\": 11}, {\"kommune\": \"1114 Bjerkreim\", \"variable\": \"uke11\", \"value\": 0}, {\"kommune\": \"1119 H\\u00e5\", \"variable\": \"uke11\", \"value\": 40}, {\"kommune\": \"1120 Klepp\", \"variable\": \"uke11\", \"value\": 62}, {\"kommune\": \"1121 Time\", \"variable\": \"uke11\", \"value\": 78}, {\"kommune\": \"1122 Gjesdal\", \"variable\": \"uke11\", \"value\": 45}, {\"kommune\": \"1124 Sola\", \"variable\": \"uke11\", \"value\": 88}, {\"kommune\": \"1127 Randaberg\", \"variable\": \"uke11\", \"value\": 32}, {\"kommune\": \"1130 Strand\", \"variable\": \"uke11\", \"value\": 31}, {\"kommune\": \"1133 Hjelmeland\", \"variable\": \"uke11\", \"value\": 8}, {\"kommune\": \"1134 Suldal\", \"variable\": \"uke11\", \"value\": 5}, {\"kommune\": \"1135 Sauda\", \"variable\": \"uke11\", \"value\": 4}, {\"kommune\": \"1144 Kvits\\u00f8y\", \"variable\": \"uke11\", \"value\": 0}, {\"kommune\": \"1145 Bokn\", \"variable\": \"uke11\", \"value\": 5}, {\"kommune\": \"1146 Tysv\\u00e6r\", \"variable\": \"uke11\", \"value\": 29}, {\"kommune\": \"1149 Karm\\u00f8y\", \"variable\": \"uke11\", \"value\": 132}, {\"kommune\": \"1151 Utsira\", \"variable\": \"uke11\", \"value\": 0}, {\"kommune\": \"1160 Vindafjord\", \"variable\": \"uke11\", \"value\": 16}, {\"kommune\": \"1505 Kristiansund\", \"variable\": \"uke11\", \"value\": 59}, {\"kommune\": \"1506 Molde\", \"variable\": \"uke11\", \"value\": 104}, {\"kommune\": \"1507 \\u00c5lesund\", \"variable\": \"uke11\", \"value\": 232}, {\"kommune\": \"1511 Vanylven\", \"variable\": \"uke11\", \"value\": 0}, {\"kommune\": \"1514 Sande\", \"variable\": \"uke11\", \"value\": 8}, {\"kommune\": \"1515 Her\\u00f8y (M\\u00f8re og Romsdal)\", \"variable\": \"uke11\", \"value\": 37}, {\"kommune\": \"1516 Ulstein\", \"variable\": \"uke11\", \"value\": 24}, {\"kommune\": \"1517 Hareid\", \"variable\": \"uke11\", \"value\": 17}, {\"kommune\": \"1520 \\u00d8rsta\", \"variable\": \"uke11\", \"value\": 32}, {\"kommune\": \"1525 Stranda\", \"variable\": \"uke11\", \"value\": 19}, {\"kommune\": \"1528 Sykkylven\", \"variable\": \"uke11\", \"value\": 12}, {\"kommune\": \"1531 Sula\", \"variable\": \"uke11\", \"value\": 31}, {\"kommune\": \"1532 Giske\", \"variable\": \"uke11\", \"value\": 33}, {\"kommune\": \"1535 Vestnes\", \"variable\": \"uke11\", \"value\": 11}, {\"kommune\": \"1539 Rauma\", \"variable\": \"uke11\", \"value\": 22}, {\"kommune\": \"1547 Aukra\", \"variable\": \"uke11\", \"value\": 10}, {\"kommune\": \"1554 Aver\\u00f8y\", \"variable\": \"uke11\", \"value\": 7}, {\"kommune\": \"1557 Gjemnes\", \"variable\": \"uke11\", \"value\": 4}, {\"kommune\": \"1560 Tingvoll\", \"variable\": \"uke11\", \"value\": 6}, {\"kommune\": \"1563 Sunndal\", \"variable\": \"uke11\", \"value\": 6}, {\"kommune\": \"1566 Surnadal\", \"variable\": \"uke11\", \"value\": 19}, {\"kommune\": \"1573 Sm\\u00f8la\", \"variable\": \"uke11\", \"value\": 0}, {\"kommune\": \"1576 Aure\", \"variable\": \"uke11\", \"value\": 0}, {\"kommune\": \"1577 Volda\", \"variable\": \"uke11\", \"value\": 24}, {\"kommune\": \"1578 Fjord\", \"variable\": \"uke11\", \"value\": 9}, {\"kommune\": \"1579 Hustadvika\", \"variable\": \"uke11\", \"value\": 39}, {\"kommune\": \"1804 Bod\\u00f8\", \"variable\": \"uke11\", \"value\": 215}, {\"kommune\": \"1806 Narvik\", \"variable\": \"uke11\", \"value\": 58}, {\"kommune\": \"1811 Bindal\", \"variable\": \"uke11\", \"value\": 0}, {\"kommune\": \"1812 S\\u00f8mna\", \"variable\": \"uke11\", \"value\": 11}, {\"kommune\": \"1813 Br\\u00f8nn\\u00f8y\", \"variable\": \"uke11\", \"value\": 9}, {\"kommune\": \"1815 Vega\", \"variable\": \"uke11\", \"value\": 0}, {\"kommune\": \"1816 Vevelstad\", \"variable\": \"uke11\", \"value\": 0}, {\"kommune\": \"1818 Her\\u00f8y (Nordland)\", \"variable\": \"uke11\", \"value\": 0}, {\"kommune\": \"1820 Alstahaug\", \"variable\": \"uke11\", \"value\": 7}, {\"kommune\": \"1822 Leirfjord\", \"variable\": \"uke11\", \"value\": 0}, {\"kommune\": \"1824 Vefsn\", \"variable\": \"uke11\", \"value\": 17}, {\"kommune\": \"1825 Grane\", \"variable\": \"uke11\", \"value\": 0}, {\"kommune\": \"1826 Aarborte - Hattfjelldal\", \"variable\": \"uke11\", \"value\": 0}, {\"kommune\": \"1827 D\\u00f8nna\", \"variable\": \"uke11\", \"value\": 0}, {\"kommune\": \"1828 Nesna\", \"variable\": \"uke11\", \"value\": 0}, {\"kommune\": \"1832 Hemnes\", \"variable\": \"uke11\", \"value\": 0}, {\"kommune\": \"1833 Rana\", \"variable\": \"uke11\", \"value\": 59}, {\"kommune\": \"1834 Lur\\u00f8y\", \"variable\": \"uke11\", \"value\": 0}, {\"kommune\": \"1835 Tr\\u00e6na\", \"variable\": \"uke11\", \"value\": 4}, {\"kommune\": \"1836 R\\u00f8d\\u00f8y\", \"variable\": \"uke11\", \"value\": 0}, {\"kommune\": \"1837 Mel\\u00f8y\", \"variable\": \"uke11\", \"value\": 4}, {\"kommune\": \"1838 Gildesk\\u00e5l\", \"variable\": \"uke11\", \"value\": 0}, {\"kommune\": \"1839 Beiarn\", \"variable\": \"uke11\", \"value\": 0}, {\"kommune\": \"1840 Saltdal\", \"variable\": \"uke11\", \"value\": 9}, {\"kommune\": \"1841 Fauske - Fuossko\", \"variable\": \"uke11\", \"value\": 21}, {\"kommune\": \"1845 S\\u00f8rfold\", \"variable\": \"uke11\", \"value\": 5}, {\"kommune\": \"1848 Steigen\", \"variable\": \"uke11\", \"value\": 0}, {\"kommune\": \"1851 L\\u00f8dingen\", \"variable\": \"uke11\", \"value\": 5}, {\"kommune\": \"1853 Evenes\", \"variable\": \"uke11\", \"value\": 0}, {\"kommune\": \"1856 R\\u00f8st\", \"variable\": \"uke11\", \"value\": 0}, {\"kommune\": \"1857 V\\u00e6r\\u00f8y\", \"variable\": \"uke11\", \"value\": 0}, {\"kommune\": \"1859 Flakstad\", \"variable\": \"uke11\", \"value\": 0}, {\"kommune\": \"1860 Vestv\\u00e5g\\u00f8y\", \"variable\": \"uke11\", \"value\": 24}, {\"kommune\": \"1865 V\\u00e5gan\", \"variable\": \"uke11\", \"value\": 51}, {\"kommune\": \"1866 Hadsel\", \"variable\": \"uke11\", \"value\": 18}, {\"kommune\": \"1867 B\\u00f8\", \"variable\": \"uke11\", \"value\": 0}, {\"kommune\": \"1868 \\u00d8ksnes\", \"variable\": \"uke11\", \"value\": 9}, {\"kommune\": \"1870 Sortland\", \"variable\": \"uke11\", \"value\": 37}, {\"kommune\": \"1871 And\\u00f8y\", \"variable\": \"uke11\", \"value\": 4}, {\"kommune\": \"1874 Moskenes\", \"variable\": \"uke11\", \"value\": 0}, {\"kommune\": \"1875 Hamar\\u00f8y\", \"variable\": \"uke11\", \"value\": 4}, {\"kommune\": \"3001 Halden\", \"variable\": \"uke11\", \"value\": 48}, {\"kommune\": \"3002 Moss\", \"variable\": \"uke11\", \"value\": 132}, {\"kommune\": \"3003 Sarpsborg\", \"variable\": \"uke11\", \"value\": 159}, {\"kommune\": \"3004 Fredrikstad\", \"variable\": \"uke11\", \"value\": 251}, {\"kommune\": \"3005 Drammen\", \"variable\": \"uke11\", \"value\": 355}, {\"kommune\": \"3006 Kongsberg\", \"variable\": \"uke11\", \"value\": 89}, {\"kommune\": \"3007 Ringerike\", \"variable\": \"uke11\", \"value\": 107}, {\"kommune\": \"3011 Hvaler\", \"variable\": \"uke11\", \"value\": 5}, {\"kommune\": \"3012 Aremark\", \"variable\": \"uke11\", \"value\": 0}, {\"kommune\": \"3013 Marker\", \"variable\": \"uke11\", \"value\": 7}, {\"kommune\": \"3014 Indre \\u00d8stfold\", \"variable\": \"uke11\", \"value\": 142}, {\"kommune\": \"3015 Skiptvet\", \"variable\": \"uke11\", \"value\": 7}, {\"kommune\": \"3016 Rakkestad\", \"variable\": \"uke11\", \"value\": 21}, {\"kommune\": \"3017 R\\u00e5de\", \"variable\": \"uke11\", \"value\": 23}, {\"kommune\": \"3018 V\\u00e5ler (Viken)\", \"variable\": \"uke11\", \"value\": 27}, {\"kommune\": \"3019 Vestby\", \"variable\": \"uke11\", \"value\": 50}, {\"kommune\": \"3020 Nordre Follo\", \"variable\": \"uke11\", \"value\": 166}, {\"kommune\": \"3021 \\u00c5s\", \"variable\": \"uke11\", \"value\": 54}, {\"kommune\": \"3022 Frogn\", \"variable\": \"uke11\", \"value\": 64}, {\"kommune\": \"3023 Nesodden\", \"variable\": \"uke11\", \"value\": 70}, {\"kommune\": \"3024 B\\u00e6rum\", \"variable\": \"uke11\", \"value\": 411}, {\"kommune\": \"3025 Asker\", \"variable\": \"uke11\", \"value\": 305}, {\"kommune\": \"3026 Aurskog-H\\u00f8land\", \"variable\": \"uke11\", \"value\": 47}, {\"kommune\": \"3027 R\\u00e6lingen\", \"variable\": \"uke11\", \"value\": 105}, {\"kommune\": \"3028 Enebakk\", \"variable\": \"uke11\", \"value\": 39}, {\"kommune\": \"3029 L\\u00f8renskog\", \"variable\": \"uke11\", \"value\": 182}, {\"kommune\": \"3030 Lillestr\\u00f8m\", \"variable\": \"uke11\", \"value\": 396}, {\"kommune\": \"3031 Nittedal\", \"variable\": \"uke11\", \"value\": 86}, {\"kommune\": \"3032 Gjerdrum\", \"variable\": \"uke11\", \"value\": 28}, {\"kommune\": \"3033 Ullensaker\", \"variable\": \"uke11\", \"value\": 246}, {\"kommune\": \"3034 Nes\", \"variable\": \"uke11\", \"value\": 70}, {\"kommune\": \"3035 Eidsvoll\", \"variable\": \"uke11\", \"value\": 119}, {\"kommune\": \"3036 Nannestad\", \"variable\": \"uke11\", \"value\": 87}, {\"kommune\": \"3037 Hurdal\", \"variable\": \"uke11\", \"value\": 10}, {\"kommune\": \"3038 Hole\", \"variable\": \"uke11\", \"value\": 24}, {\"kommune\": \"3039 Fl\\u00e5\", \"variable\": \"uke11\", \"value\": 0}, {\"kommune\": \"3040 Nesbyen\", \"variable\": \"uke11\", \"value\": 10}, {\"kommune\": \"3041 Gol\", \"variable\": \"uke11\", \"value\": 63}, {\"kommune\": \"3042 Hemsedal\", \"variable\": \"uke11\", \"value\": 35}, {\"kommune\": \"3043 \\u00c5l\", \"variable\": \"uke11\", \"value\": 19}, {\"kommune\": \"3044 Hol\", \"variable\": \"uke11\", \"value\": 99}, {\"kommune\": \"3045 Sigdal\", \"variable\": \"uke11\", \"value\": 8}, {\"kommune\": \"3046 Kr\\u00f8dsherad\", \"variable\": \"uke11\", \"value\": 14}, {\"kommune\": \"3047 Modum\", \"variable\": \"uke11\", \"value\": 46}, {\"kommune\": \"3048 \\u00d8vre Eiker\", \"variable\": \"uke11\", \"value\": 39}, {\"kommune\": \"3049 Lier\", \"variable\": \"uke11\", \"value\": 80}, {\"kommune\": \"3050 Flesberg\", \"variable\": \"uke11\", \"value\": 5}, {\"kommune\": \"3051 Rollag\", \"variable\": \"uke11\", \"value\": 9}, {\"kommune\": \"3052 Nore og Uvdal\", \"variable\": \"uke11\", \"value\": 0}, {\"kommune\": \"3053 Jevnaker\", \"variable\": \"uke11\", \"value\": 31}, {\"kommune\": \"3054 Lunner\", \"variable\": \"uke11\", \"value\": 23}, {\"kommune\": \"3401 Kongsvinger\", \"variable\": \"uke11\", \"value\": 46}, {\"kommune\": \"3403 Hamar\", \"variable\": \"uke11\", \"value\": 109}, {\"kommune\": \"3405 Lillehammer\", \"variable\": \"uke11\", \"value\": 145}, {\"kommune\": \"3407 Gj\\u00f8vik\", \"variable\": \"uke11\", \"value\": 94}, {\"kommune\": \"3411 Ringsaker\", \"variable\": \"uke11\", \"value\": 103}, {\"kommune\": \"3412 L\\u00f8ten\", \"variable\": \"uke11\", \"value\": 25}, {\"kommune\": \"3413 Stange\", \"variable\": \"uke11\", \"value\": 60}, {\"kommune\": \"3414 Nord-Odal\", \"variable\": \"uke11\", \"value\": 0}, {\"kommune\": \"3415 S\\u00f8r-Odal\", \"variable\": \"uke11\", \"value\": 25}, {\"kommune\": \"3416 Eidskog\", \"variable\": \"uke11\", \"value\": 13}, {\"kommune\": \"3417 Grue\", \"variable\": \"uke11\", \"value\": 12}, {\"kommune\": \"3418 \\u00c5snes\", \"variable\": \"uke11\", \"value\": 16}, {\"kommune\": \"3419 V\\u00e5ler (Innlandet)\", \"variable\": \"uke11\", \"value\": 5}, {\"kommune\": \"3420 Elverum\", \"variable\": \"uke11\", \"value\": 88}, {\"kommune\": \"3421 Trysil\", \"variable\": \"uke11\", \"value\": 76}, {\"kommune\": \"3422 \\u00c5mot\", \"variable\": \"uke11\", \"value\": 15}, {\"kommune\": \"3423 Stor-Elvdal\", \"variable\": \"uke11\", \"value\": 0}, {\"kommune\": \"3424 Rendalen\", \"variable\": \"uke11\", \"value\": 4}, {\"kommune\": \"3425 Engerdal\", \"variable\": \"uke11\", \"value\": 5}, {\"kommune\": \"3426 Tolga\", \"variable\": \"uke11\", \"value\": 4}, {\"kommune\": \"3427 Tynset\", \"variable\": \"uke11\", \"value\": 16}, {\"kommune\": \"3428 Alvdal\", \"variable\": \"uke11\", \"value\": 0}, {\"kommune\": \"3429 Folldal\", \"variable\": \"uke11\", \"value\": 0}, {\"kommune\": \"3430 Os\", \"variable\": \"uke11\", \"value\": 7}, {\"kommune\": \"3431 Dovre\", \"variable\": \"uke11\", \"value\": 14}, {\"kommune\": \"3432 Lesja\", \"variable\": \"uke11\", \"value\": 6}, {\"kommune\": \"3433 Skj\\u00e5k\", \"variable\": \"uke11\", \"value\": 0}, {\"kommune\": \"3434 Lom\", \"variable\": \"uke11\", \"value\": 15}, {\"kommune\": \"3435 V\\u00e5g\\u00e5\", \"variable\": \"uke11\", \"value\": 24}, {\"kommune\": \"3436 Nord-Fron\", \"variable\": \"uke11\", \"value\": 9}, {\"kommune\": \"3437 Sel\", \"variable\": \"uke11\", \"value\": 21}, {\"kommune\": \"3438 S\\u00f8r-Fron\", \"variable\": \"uke11\", \"value\": 14}, {\"kommune\": \"3439 Ringebu\", \"variable\": \"uke11\", \"value\": 46}, {\"kommune\": \"3440 \\u00d8yer\", \"variable\": \"uke11\", \"value\": 30}, {\"kommune\": \"3441 Gausdal\", \"variable\": \"uke11\", \"value\": 23}, {\"kommune\": \"3442 \\u00d8stre Toten\", \"variable\": \"uke11\", \"value\": 31}, {\"kommune\": \"3443 Vestre Toten\", \"variable\": \"uke11\", \"value\": 34}, {\"kommune\": \"3446 Gran\", \"variable\": \"uke11\", \"value\": 54}, {\"kommune\": \"3447 S\\u00f8ndre Land\", \"variable\": \"uke11\", \"value\": 0}, {\"kommune\": \"3448 Nordre Land\", \"variable\": \"uke11\", \"value\": 9}, {\"kommune\": \"3449 S\\u00f8r-Aurdal\", \"variable\": \"uke11\", \"value\": 0}, {\"kommune\": \"3450 Etnedal\", \"variable\": \"uke11\", \"value\": 0}, {\"kommune\": \"3451 Nord-Aurdal\", \"variable\": \"uke11\", \"value\": 27}, {\"kommune\": \"3452 Vestre Slidre\", \"variable\": \"uke11\", \"value\": 0}, {\"kommune\": \"3453 \\u00d8ystre Slidre\", \"variable\": \"uke11\", \"value\": 27}, {\"kommune\": \"3454 Vang\", \"variable\": \"uke11\", \"value\": 0}, {\"kommune\": \"3801 Horten\", \"variable\": \"uke11\", \"value\": 89}, {\"kommune\": \"3802 Holmestrand\", \"variable\": \"uke11\", \"value\": 62}, {\"kommune\": \"3803 T\\u00f8nsberg\", \"variable\": \"uke11\", \"value\": 166}, {\"kommune\": \"3804 Sandefjord\", \"variable\": \"uke11\", \"value\": 223}, {\"kommune\": \"3805 Larvik\", \"variable\": \"uke11\", \"value\": 124}, {\"kommune\": \"3806 Porsgrunn\", \"variable\": \"uke11\", \"value\": 114}, {\"kommune\": \"3807 Skien\", \"variable\": \"uke11\", \"value\": 165}, {\"kommune\": \"3808 Notodden\", \"variable\": \"uke11\", \"value\": 24}, {\"kommune\": \"3811 F\\u00e6rder\", \"variable\": \"uke11\", \"value\": 74}, {\"kommune\": \"3812 Siljan\", \"variable\": \"uke11\", \"value\": 0}, {\"kommune\": \"3813 Bamble\", \"variable\": \"uke11\", \"value\": 48}, {\"kommune\": \"3814 Krager\\u00f8\", \"variable\": \"uke11\", \"value\": 23}, {\"kommune\": \"3815 Drangedal\", \"variable\": \"uke11\", \"value\": 9}, {\"kommune\": \"3816 Nome\", \"variable\": \"uke11\", \"value\": 18}, {\"kommune\": \"3817 Midt-Telemark\", \"variable\": \"uke11\", \"value\": 31}, {\"kommune\": \"3818 Tinn\", \"variable\": \"uke11\", \"value\": 38}, {\"kommune\": \"3819 Hjartdal\", \"variable\": \"uke11\", \"value\": 0}, {\"kommune\": \"3820 Seljord\", \"variable\": \"uke11\", \"value\": 8}, {\"kommune\": \"3821 Kviteseid\", \"variable\": \"uke11\", \"value\": 10}, {\"kommune\": \"3822 Nissedal\", \"variable\": \"uke11\", \"value\": 0}, {\"kommune\": \"3823 Fyresdal\", \"variable\": \"uke11\", \"value\": 0}, {\"kommune\": \"3824 Tokke\", \"variable\": \"uke11\", \"value\": 0}, {\"kommune\": \"3825 Vinje\", \"variable\": \"uke11\", \"value\": 24}, {\"kommune\": \"4201 Ris\\u00f8r\", \"variable\": \"uke11\", \"value\": 11}, {\"kommune\": \"4202 Grimstad\", \"variable\": \"uke11\", \"value\": 55}, {\"kommune\": \"4203 Arendal\", \"variable\": \"uke11\", \"value\": 126}, {\"kommune\": \"4204 Kristiansand\", \"variable\": \"uke11\", \"value\": 409}, {\"kommune\": \"4205 Lindesnes\", \"variable\": \"uke11\", \"value\": 68}, {\"kommune\": \"4206 Farsund\", \"variable\": \"uke11\", \"value\": 25}, {\"kommune\": \"4207 Flekkefjord\", \"variable\": \"uke11\", \"value\": 26}, {\"kommune\": \"4211 Gjerstad\", \"variable\": \"uke11\", \"value\": 0}, {\"kommune\": \"4212 Veg\\u00e5rshei\", \"variable\": \"uke11\", \"value\": 4}, {\"kommune\": \"4213 Tvedestrand\", \"variable\": \"uke11\", \"value\": 18}, {\"kommune\": \"4214 Froland\", \"variable\": \"uke11\", \"value\": 13}, {\"kommune\": \"4215 Lillesand\", \"variable\": \"uke11\", \"value\": 35}, {\"kommune\": \"4216 Birkenes\", \"variable\": \"uke11\", \"value\": 14}, {\"kommune\": \"4217 \\u00c5mli\", \"variable\": \"uke11\", \"value\": 0}, {\"kommune\": \"4218 Iveland\", \"variable\": \"uke11\", \"value\": 0}, {\"kommune\": \"4219 Evje og Hornnes\", \"variable\": \"uke11\", \"value\": 10}, {\"kommune\": \"4220 Bygland\", \"variable\": \"uke11\", \"value\": 0}, {\"kommune\": \"4221 Valle\", \"variable\": \"uke11\", \"value\": 0}, {\"kommune\": \"4222 Bykle\", \"variable\": \"uke11\", \"value\": 10}, {\"kommune\": \"4223 Vennesla\", \"variable\": \"uke11\", \"value\": 37}, {\"kommune\": \"4224 \\u00c5seral\", \"variable\": \"uke11\", \"value\": 0}, {\"kommune\": \"4225 Lyngdal\", \"variable\": \"uke11\", \"value\": 28}, {\"kommune\": \"4226 H\\u00e6gebostad\", \"variable\": \"uke11\", \"value\": 0}, {\"kommune\": \"4227 Kvinesdal\", \"variable\": \"uke11\", \"value\": 15}, {\"kommune\": \"4228 Sirdal\", \"variable\": \"uke11\", \"value\": 0}, {\"kommune\": \"4601 Bergen\", \"variable\": \"uke11\", \"value\": 1695}, {\"kommune\": \"4602 Kinn\", \"variable\": \"uke11\", \"value\": 38}, {\"kommune\": \"4611 Etne\", \"variable\": \"uke11\", \"value\": 11}, {\"kommune\": \"4612 Sveio\", \"variable\": \"uke11\", \"value\": 12}, {\"kommune\": \"4613 B\\u00f8mlo\", \"variable\": \"uke11\", \"value\": 28}, {\"kommune\": \"4614 Stord\", \"variable\": \"uke11\", \"value\": 55}, {\"kommune\": \"4615 Fitjar\", \"variable\": \"uke11\", \"value\": 9}, {\"kommune\": \"4616 Tysnes\", \"variable\": \"uke11\", \"value\": 4}, {\"kommune\": \"4617 Kvinnherad\", \"variable\": \"uke11\", \"value\": 32}, {\"kommune\": \"4618 Ullensvang\", \"variable\": \"uke11\", \"value\": 39}, {\"kommune\": \"4619 Eidfjord\", \"variable\": \"uke11\", \"value\": 0}, {\"kommune\": \"4620 Ulvik\", \"variable\": \"uke11\", \"value\": 0}, {\"kommune\": \"4621 Voss\", \"variable\": \"uke11\", \"value\": 63}, {\"kommune\": \"4622 Kvam\", \"variable\": \"uke11\", \"value\": 27}, {\"kommune\": \"4623 Samnanger\", \"variable\": \"uke11\", \"value\": 0}, {\"kommune\": \"4624 Bj\\u00f8rnafjorden\", \"variable\": \"uke11\", \"value\": 122}, {\"kommune\": \"4625 Austevoll\", \"variable\": \"uke11\", \"value\": 26}, {\"kommune\": \"4626 \\u00d8ygarden\", \"variable\": \"uke11\", \"value\": 196}, {\"kommune\": \"4627 Ask\\u00f8y\", \"variable\": \"uke11\", \"value\": 149}, {\"kommune\": \"4628 Vaksdal\", \"variable\": \"uke11\", \"value\": 14}, {\"kommune\": \"4629 Modalen\", \"variable\": \"uke11\", \"value\": 0}, {\"kommune\": \"4630 Oster\\u00f8y\", \"variable\": \"uke11\", \"value\": 19}, {\"kommune\": \"4631 Alver\", \"variable\": \"uke11\", \"value\": 84}, {\"kommune\": \"4632 Austrheim\", \"variable\": \"uke11\", \"value\": 7}, {\"kommune\": \"4633 Fedje\", \"variable\": \"uke11\", \"value\": 0}, {\"kommune\": \"4634 Masfjorden\", \"variable\": \"uke11\", \"value\": 0}, {\"kommune\": \"4635 Gulen\", \"variable\": \"uke11\", \"value\": 0}, {\"kommune\": \"4636 Solund\", \"variable\": \"uke11\", \"value\": 0}, {\"kommune\": \"4637 Hyllestad\", \"variable\": \"uke11\", \"value\": 0}, {\"kommune\": \"4638 H\\u00f8yanger\", \"variable\": \"uke11\", \"value\": 4}, {\"kommune\": \"4639 Vik\", \"variable\": \"uke11\", \"value\": 6}, {\"kommune\": \"4640 Sogndal\", \"variable\": \"uke11\", \"value\": 38}, {\"kommune\": \"4641 Aurland\", \"variable\": \"uke11\", \"value\": 4}, {\"kommune\": \"4642 L\\u00e6rdal\", \"variable\": \"uke11\", \"value\": 5}, {\"kommune\": \"4643 \\u00c5rdal\", \"variable\": \"uke11\", \"value\": 5}, {\"kommune\": \"4644 Luster\", \"variable\": \"uke11\", \"value\": 8}, {\"kommune\": \"4645 Askvoll\", \"variable\": \"uke11\", \"value\": 0}, {\"kommune\": \"4646 Fjaler\", \"variable\": \"uke11\", \"value\": 0}, {\"kommune\": \"4647 Sunnfjord\", \"variable\": \"uke11\", \"value\": 51}, {\"kommune\": \"4648 Bremanger\", \"variable\": \"uke11\", \"value\": 4}, {\"kommune\": \"4649 Stad\", \"variable\": \"uke11\", \"value\": 19}, {\"kommune\": \"4650 Gloppen\", \"variable\": \"uke11\", \"value\": 5}, {\"kommune\": \"4651 Stryn\", \"variable\": \"uke11\", \"value\": 34}, {\"kommune\": \"5001 Trondheim\", \"variable\": \"uke11\", \"value\": 1097}, {\"kommune\": \"5006 Steinkjer\", \"variable\": \"uke11\", \"value\": 59}, {\"kommune\": \"5007 Namsos\", \"variable\": \"uke11\", \"value\": 47}, {\"kommune\": \"5014 Fr\\u00f8ya\", \"variable\": \"uke11\", \"value\": 7}, {\"kommune\": \"5020 Osen\", \"variable\": \"uke11\", \"value\": 0}, {\"kommune\": \"5021 Oppdal\", \"variable\": \"uke11\", \"value\": 44}, {\"kommune\": \"5022 Rennebu\", \"variable\": \"uke11\", \"value\": 4}, {\"kommune\": \"5025 R\\u00f8ros\", \"variable\": \"uke11\", \"value\": 46}, {\"kommune\": \"5026 Holt\\u00e5len\", \"variable\": \"uke11\", \"value\": 0}, {\"kommune\": \"5027 Midtre Gauldal\", \"variable\": \"uke11\", \"value\": 6}, {\"kommune\": \"5028 Melhus\", \"variable\": \"uke11\", \"value\": 62}, {\"kommune\": \"5029 Skaun\", \"variable\": \"uke11\", \"value\": 28}, {\"kommune\": \"5031 Malvik\", \"variable\": \"uke11\", \"value\": 50}, {\"kommune\": \"5032 Selbu\", \"variable\": \"uke11\", \"value\": 8}, {\"kommune\": \"5033 Tydal\", \"variable\": \"uke11\", \"value\": 0}, {\"kommune\": \"5034 Mer\\u00e5ker\", \"variable\": \"uke11\", \"value\": 19}, {\"kommune\": \"5035 Stj\\u00f8rdal\", \"variable\": \"uke11\", \"value\": 105}, {\"kommune\": \"5036 Frosta\", \"variable\": \"uke11\", \"value\": 11}, {\"kommune\": \"5037 Levanger\", \"variable\": \"uke11\", \"value\": 77}, {\"kommune\": \"5038 Verdal\", \"variable\": \"uke11\", \"value\": 72}, {\"kommune\": \"5041 Sn\\u00e5ase - Sn\\u00e5sa\", \"variable\": \"uke11\", \"value\": 0}, {\"kommune\": \"5042 Lierne\", \"variable\": \"uke11\", \"value\": 0}, {\"kommune\": \"5043 Raarvihke - R\\u00f8yrvik\", \"variable\": \"uke11\", \"value\": 0}, {\"kommune\": \"5044 Namsskogan\", \"variable\": \"uke11\", \"value\": 0}, {\"kommune\": \"5045 Grong\", \"variable\": \"uke11\", \"value\": 0}, {\"kommune\": \"5046 H\\u00f8ylandet\", \"variable\": \"uke11\", \"value\": 0}, {\"kommune\": \"5047 Overhalla\", \"variable\": \"uke11\", \"value\": 9}, {\"kommune\": \"5049 Flatanger\", \"variable\": \"uke11\", \"value\": 0}, {\"kommune\": \"5052 Leka\", \"variable\": \"uke11\", \"value\": 0}, {\"kommune\": \"5053 Inder\\u00f8y\", \"variable\": \"uke11\", \"value\": 28}, {\"kommune\": \"5054 Indre Fosen\", \"variable\": \"uke11\", \"value\": 26}, {\"kommune\": \"5055 Heim\", \"variable\": \"uke11\", \"value\": 12}, {\"kommune\": \"5056 Hitra\", \"variable\": \"uke11\", \"value\": 21}, {\"kommune\": \"5057 \\u00d8rland\", \"variable\": \"uke11\", \"value\": 23}, {\"kommune\": \"5058 \\u00c5fjord\", \"variable\": \"uke11\", \"value\": 9}, {\"kommune\": \"5059 Orkland\", \"variable\": \"uke11\", \"value\": 56}, {\"kommune\": \"5060 N\\u00e6r\\u00f8ysund\", \"variable\": \"uke11\", \"value\": 9}, {\"kommune\": \"5061 Rindal\", \"variable\": \"uke11\", \"value\": 11}, {\"kommune\": \"5401 Troms\\u00f8\", \"variable\": \"uke11\", \"value\": 304}, {\"kommune\": \"5402 Harstad\", \"variable\": \"uke11\", \"value\": 66}, {\"kommune\": \"5403 Alta\", \"variable\": \"uke11\", \"value\": 71}, {\"kommune\": \"5404 Vard\\u00f8\", \"variable\": \"uke11\", \"value\": 0}, {\"kommune\": \"5405 Vads\\u00f8\", \"variable\": \"uke11\", \"value\": 16}, {\"kommune\": \"5406 Hammerfest\", \"variable\": \"uke11\", \"value\": 28}, {\"kommune\": \"5411 Kv\\u00e6fjord\", \"variable\": \"uke11\", \"value\": 4}, {\"kommune\": \"5412 Tjeldsund\", \"variable\": \"uke11\", \"value\": 4}, {\"kommune\": \"5413 Ibestad\", \"variable\": \"uke11\", \"value\": 0}, {\"kommune\": \"5414 Gratangen\", \"variable\": \"uke11\", \"value\": 8}, {\"kommune\": \"5415 Loab\\u00e1k - Lavangen\", \"variable\": \"uke11\", \"value\": 0}, {\"kommune\": \"5416 Bardu\", \"variable\": \"uke11\", \"value\": 8}, {\"kommune\": \"5417 Salangen\", \"variable\": \"uke11\", \"value\": 0}, {\"kommune\": \"5418 M\\u00e5lselv\", \"variable\": \"uke11\", \"value\": 16}, {\"kommune\": \"5419 S\\u00f8rreisa\", \"variable\": \"uke11\", \"value\": 11}, {\"kommune\": \"5420 Dyr\\u00f8y\", \"variable\": \"uke11\", \"value\": 0}, {\"kommune\": \"5421 Senja\", \"variable\": \"uke11\", \"value\": 21}, {\"kommune\": \"5422 Balsfjord\", \"variable\": \"uke11\", \"value\": 12}, {\"kommune\": \"5423 Karls\\u00f8y\", \"variable\": \"uke11\", \"value\": 5}, {\"kommune\": \"5424 Lyngen\", \"variable\": \"uke11\", \"value\": 9}, {\"kommune\": \"5425 Storfjord - Omasvuotna - Omasvuono\", \"variable\": \"uke11\", \"value\": 0}, {\"kommune\": \"5426 G\\u00e1ivuotna - K\\u00e5fjord - Kaivuono\", \"variable\": \"uke11\", \"value\": 0}, {\"kommune\": \"5427 Skjerv\\u00f8y\", \"variable\": \"uke11\", \"value\": 5}, {\"kommune\": \"5428 Nordreisa\", \"variable\": \"uke11\", \"value\": 7}, {\"kommune\": \"5429 Kv\\u00e6nangen\", \"variable\": \"uke11\", \"value\": 0}, {\"kommune\": \"5430 Guovdageaidnu - Kautokeino\", \"variable\": \"uke11\", \"value\": 0}, {\"kommune\": \"5432 Loppa\", \"variable\": \"uke11\", \"value\": 0}, {\"kommune\": \"5433 Hasvik\", \"variable\": \"uke11\", \"value\": 0}, {\"kommune\": \"5434 M\\u00e5s\\u00f8y\", \"variable\": \"uke11\", \"value\": 5}, {\"kommune\": \"5435 Nordkapp\", \"variable\": \"uke11\", \"value\": 16}, {\"kommune\": \"5436 Porsanger - Pors\\u00e1ngu - Porsanki\", \"variable\": \"uke11\", \"value\": 0}, {\"kommune\": \"5437 K\\u00e1r\\u00e1\\u0161johka - Karasjok\", \"variable\": \"uke11\", \"value\": 0}, {\"kommune\": \"5438 Lebesby\", \"variable\": \"uke11\", \"value\": 0}, {\"kommune\": \"5439 Gamvik\", \"variable\": \"uke11\", \"value\": 0}, {\"kommune\": \"5440 Berlev\\u00e5g\", \"variable\": \"uke11\", \"value\": 0}, {\"kommune\": \"5441 Deatnu - Tana\", \"variable\": \"uke11\", \"value\": 4}, {\"kommune\": \"5442 Unj\\u00e1rga - Nesseby\", \"variable\": \"uke11\", \"value\": 0}, {\"kommune\": \"5443 B\\u00e5tsfjord\", \"variable\": \"uke11\", \"value\": 28}, {\"kommune\": \"5444 S\\u00f8r-Varanger\", \"variable\": \"uke11\", \"value\": 20}, {\"kommune\": \"9999 Ukjent\", \"variable\": \"uke11\", \"value\": 329}, {\"kommune\": \"0301 Oslo\", \"variable\": \"uke12\", \"value\": 29746}, {\"kommune\": \"1101 Eigersund\", \"variable\": \"uke12\", \"value\": 433}, {\"kommune\": \"1103 Stavanger\", \"variable\": \"uke12\", \"value\": 5041}, {\"kommune\": \"1106 Haugesund\", \"variable\": \"uke12\", \"value\": 1378}, {\"kommune\": \"1108 Sandnes\", \"variable\": \"uke12\", \"value\": 2906}, {\"kommune\": \"1111 Sokndal\", \"variable\": \"uke12\", \"value\": 54}, {\"kommune\": \"1112 Lund\", \"variable\": \"uke12\", \"value\": 55}, {\"kommune\": \"1114 Bjerkreim\", \"variable\": \"uke12\", \"value\": 70}, {\"kommune\": \"1119 H\\u00e5\", \"variable\": \"uke12\", \"value\": 515}, {\"kommune\": \"1120 Klepp\", \"variable\": \"uke12\", \"value\": 678}, {\"kommune\": \"1121 Time\", \"variable\": \"uke12\", \"value\": 579}, {\"kommune\": \"1122 Gjesdal\", \"variable\": \"uke12\", \"value\": 473}, {\"kommune\": \"1124 Sola\", \"variable\": \"uke12\", \"value\": 989}, {\"kommune\": \"1127 Randaberg\", \"variable\": \"uke12\", \"value\": 349}, {\"kommune\": \"1130 Strand\", \"variable\": \"uke12\", \"value\": 303}, {\"kommune\": \"1133 Hjelmeland\", \"variable\": \"uke12\", \"value\": 47}, {\"kommune\": \"1134 Suldal\", \"variable\": \"uke12\", \"value\": 89}, {\"kommune\": \"1135 Sauda\", \"variable\": \"uke12\", \"value\": 127}, {\"kommune\": \"1144 Kvits\\u00f8y\", \"variable\": \"uke12\", \"value\": 10}, {\"kommune\": \"1145 Bokn\", \"variable\": \"uke12\", \"value\": 13}, {\"kommune\": \"1146 Tysv\\u00e6r\", \"variable\": \"uke12\", \"value\": 316}, {\"kommune\": \"1149 Karm\\u00f8y\", \"variable\": \"uke12\", \"value\": 1233}, {\"kommune\": \"1151 Utsira\", \"variable\": \"uke12\", \"value\": 0}, {\"kommune\": \"1160 Vindafjord\", \"variable\": \"uke12\", \"value\": 211}, {\"kommune\": \"1505 Kristiansund\", \"variable\": \"uke12\", \"value\": 757}, {\"kommune\": \"1506 Molde\", \"variable\": \"uke12\", \"value\": 950}, {\"kommune\": \"1507 \\u00c5lesund\", \"variable\": \"uke12\", \"value\": 2428}, {\"kommune\": \"1511 Vanylven\", \"variable\": \"uke12\", \"value\": 40}, {\"kommune\": \"1514 Sande\", \"variable\": \"uke12\", \"value\": 57}, {\"kommune\": \"1515 Her\\u00f8y (M\\u00f8re og Romsdal)\", \"variable\": \"uke12\", \"value\": 277}, {\"kommune\": \"1516 Ulstein\", \"variable\": \"uke12\", \"value\": 288}, {\"kommune\": \"1517 Hareid\", \"variable\": \"uke12\", \"value\": 139}, {\"kommune\": \"1520 \\u00d8rsta\", \"variable\": \"uke12\", \"value\": 381}, {\"kommune\": \"1525 Stranda\", \"variable\": \"uke12\", \"value\": 110}, {\"kommune\": \"1528 Sykkylven\", \"variable\": \"uke12\", \"value\": 227}, {\"kommune\": \"1531 Sula\", \"variable\": \"uke12\", \"value\": 301}, {\"kommune\": \"1532 Giske\", \"variable\": \"uke12\", \"value\": 291}, {\"kommune\": \"1535 Vestnes\", \"variable\": \"uke12\", \"value\": 143}, {\"kommune\": \"1539 Rauma\", \"variable\": \"uke12\", \"value\": 311}, {\"kommune\": \"1547 Aukra\", \"variable\": \"uke12\", \"value\": 88}, {\"kommune\": \"1554 Aver\\u00f8y\", \"variable\": \"uke12\", \"value\": 97}, {\"kommune\": \"1557 Gjemnes\", \"variable\": \"uke12\", \"value\": 39}, {\"kommune\": \"1560 Tingvoll\", \"variable\": \"uke12\", \"value\": 56}, {\"kommune\": \"1563 Sunndal\", \"variable\": \"uke12\", \"value\": 169}, {\"kommune\": \"1566 Surnadal\", \"variable\": \"uke12\", \"value\": 167}, {\"kommune\": \"1573 Sm\\u00f8la\", \"variable\": \"uke12\", \"value\": 29}, {\"kommune\": \"1576 Aure\", \"variable\": \"uke12\", \"value\": 42}, {\"kommune\": \"1577 Volda\", \"variable\": \"uke12\", \"value\": 283}, {\"kommune\": \"1578 Fjord\", \"variable\": \"uke12\", \"value\": 74}, {\"kommune\": \"1579 Hustadvika\", \"variable\": \"uke12\", \"value\": 301}, {\"kommune\": \"1804 Bod\\u00f8\", \"variable\": \"uke12\", \"value\": 2145}, {\"kommune\": \"1806 Narvik\", \"variable\": \"uke12\", \"value\": 571}, {\"kommune\": \"1811 Bindal\", \"variable\": \"uke12\", \"value\": 17}, {\"kommune\": \"1812 S\\u00f8mna\", \"variable\": \"uke12\", \"value\": 35}, {\"kommune\": \"1813 Br\\u00f8nn\\u00f8y\", \"variable\": \"uke12\", \"value\": 171}, {\"kommune\": \"1815 Vega\", \"variable\": \"uke12\", \"value\": 9}, {\"kommune\": \"1816 Vevelstad\", \"variable\": \"uke12\", \"value\": 4}, {\"kommune\": \"1818 Her\\u00f8y (Nordland)\", \"variable\": \"uke12\", \"value\": 25}, {\"kommune\": \"1820 Alstahaug\", \"variable\": \"uke12\", \"value\": 245}, {\"kommune\": \"1822 Leirfjord\", \"variable\": \"uke12\", \"value\": 47}, {\"kommune\": \"1824 Vefsn\", \"variable\": \"uke12\", \"value\": 368}, {\"kommune\": \"1825 Grane\", \"variable\": \"uke12\", \"value\": 23}, {\"kommune\": \"1826 Aarborte - Hattfjelldal\", \"variable\": \"uke12\", \"value\": 6}, {\"kommune\": \"1827 D\\u00f8nna\", \"variable\": \"uke12\", \"value\": 17}, {\"kommune\": \"1828 Nesna\", \"variable\": \"uke12\", \"value\": 32}, {\"kommune\": \"1832 Hemnes\", \"variable\": \"uke12\", \"value\": 61}, {\"kommune\": \"1833 Rana\", \"variable\": \"uke12\", \"value\": 719}, {\"kommune\": \"1834 Lur\\u00f8y\", \"variable\": \"uke12\", \"value\": 31}, {\"kommune\": \"1835 Tr\\u00e6na\", \"variable\": \"uke12\", \"value\": 4}, {\"kommune\": \"1836 R\\u00f8d\\u00f8y\", \"variable\": \"uke12\", \"value\": 16}, {\"kommune\": \"1837 Mel\\u00f8y\", \"variable\": \"uke12\", \"value\": 99}, {\"kommune\": \"1838 Gildesk\\u00e5l\", \"variable\": \"uke12\", \"value\": 31}, {\"kommune\": \"1839 Beiarn\", \"variable\": \"uke12\", \"value\": 15}, {\"kommune\": \"1840 Saltdal\", \"variable\": \"uke12\", \"value\": 115}, {\"kommune\": \"1841 Fauske - Fuossko\", \"variable\": \"uke12\", \"value\": 285}, {\"kommune\": \"1845 S\\u00f8rfold\", \"variable\": \"uke12\", \"value\": 36}, {\"kommune\": \"1848 Steigen\", \"variable\": \"uke12\", \"value\": 39}, {\"kommune\": \"1851 L\\u00f8dingen\", \"variable\": \"uke12\", \"value\": 35}, {\"kommune\": \"1853 Evenes\", \"variable\": \"uke12\", \"value\": 38}, {\"kommune\": \"1856 R\\u00f8st\", \"variable\": \"uke12\", \"value\": 7}, {\"kommune\": \"1857 V\\u00e6r\\u00f8y\", \"variable\": \"uke12\", \"value\": 12}, {\"kommune\": \"1859 Flakstad\", \"variable\": \"uke12\", \"value\": 30}, {\"kommune\": \"1860 Vestv\\u00e5g\\u00f8y\", \"variable\": \"uke12\", \"value\": 251}, {\"kommune\": \"1865 V\\u00e5gan\", \"variable\": \"uke12\", \"value\": 396}, {\"kommune\": \"1866 Hadsel\", \"variable\": \"uke12\", \"value\": 166}, {\"kommune\": \"1867 B\\u00f8\", \"variable\": \"uke12\", \"value\": 34}, {\"kommune\": \"1868 \\u00d8ksnes\", \"variable\": \"uke12\", \"value\": 88}, {\"kommune\": \"1870 Sortland\", \"variable\": \"uke12\", \"value\": 391}, {\"kommune\": \"1871 And\\u00f8y\", \"variable\": \"uke12\", \"value\": 101}, {\"kommune\": \"1874 Moskenes\", \"variable\": \"uke12\", \"value\": 49}, {\"kommune\": \"1875 Hamar\\u00f8y\", \"variable\": \"uke12\", \"value\": 34}, {\"kommune\": \"3001 Halden\", \"variable\": \"uke12\", \"value\": 754}, {\"kommune\": \"3002 Moss\", \"variable\": \"uke12\", \"value\": 1657}, {\"kommune\": \"3003 Sarpsborg\", \"variable\": \"uke12\", \"value\": 1572}, {\"kommune\": \"3004 Fredrikstad\", \"variable\": \"uke12\", \"value\": 2592}, {\"kommune\": \"3005 Drammen\", \"variable\": \"uke12\", \"value\": 3747}, {\"kommune\": \"3006 Kongsberg\", \"variable\": \"uke12\", \"value\": 740}, {\"kommune\": \"3007 Ringerike\", \"variable\": \"uke12\", \"value\": 930}, {\"kommune\": \"3011 Hvaler\", \"variable\": \"uke12\", \"value\": 121}, {\"kommune\": \"3012 Aremark\", \"variable\": \"uke12\", \"value\": 16}, {\"kommune\": \"3013 Marker\", \"variable\": \"uke12\", \"value\": 67}, {\"kommune\": \"3014 Indre \\u00d8stfold\", \"variable\": \"uke12\", \"value\": 1377}, {\"kommune\": \"3015 Skiptvet\", \"variable\": \"uke12\", \"value\": 92}, {\"kommune\": \"3016 Rakkestad\", \"variable\": \"uke12\", \"value\": 221}, {\"kommune\": \"3017 R\\u00e5de\", \"variable\": \"uke12\", \"value\": 216}, {\"kommune\": \"3018 V\\u00e5ler (Viken)\", \"variable\": \"uke12\", \"value\": 195}, {\"kommune\": \"3019 Vestby\", \"variable\": \"uke12\", \"value\": 617}, {\"kommune\": \"3020 Nordre Follo\", \"variable\": \"uke12\", \"value\": 1789}, {\"kommune\": \"3021 \\u00c5s\", \"variable\": \"uke12\", \"value\": 538}, {\"kommune\": \"3022 Frogn\", \"variable\": \"uke12\", \"value\": 559}, {\"kommune\": \"3023 Nesodden\", \"variable\": \"uke12\", \"value\": 488}, {\"kommune\": \"3024 B\\u00e6rum\", \"variable\": \"uke12\", \"value\": 3908}, {\"kommune\": \"3025 Asker\", \"variable\": \"uke12\", \"value\": 3032}, {\"kommune\": \"3026 Aurskog-H\\u00f8land\", \"variable\": \"uke12\", \"value\": 489}, {\"kommune\": \"3027 R\\u00e6lingen\", \"variable\": \"uke12\", \"value\": 797}, {\"kommune\": \"3028 Enebakk\", \"variable\": \"uke12\", \"value\": 374}, {\"kommune\": \"3029 L\\u00f8renskog\", \"variable\": \"uke12\", \"value\": 1533}, {\"kommune\": \"3030 Lillestr\\u00f8m\", \"variable\": \"uke12\", \"value\": 3527}, {\"kommune\": \"3031 Nittedal\", \"variable\": \"uke12\", \"value\": 731}, {\"kommune\": \"3032 Gjerdrum\", \"variable\": \"uke12\", \"value\": 257}, {\"kommune\": \"3033 Ullensaker\", \"variable\": \"uke12\", \"value\": 2231}, {\"kommune\": \"3034 Nes\", \"variable\": \"uke12\", \"value\": 836}, {\"kommune\": \"3035 Eidsvoll\", \"variable\": \"uke12\", \"value\": 1053}, {\"kommune\": \"3036 Nannestad\", \"variable\": \"uke12\", \"value\": 754}, {\"kommune\": \"3037 Hurdal\", \"variable\": \"uke12\", \"value\": 101}, {\"kommune\": \"3038 Hole\", \"variable\": \"uke12\", \"value\": 250}, {\"kommune\": \"3039 Fl\\u00e5\", \"variable\": \"uke12\", \"value\": 43}, {\"kommune\": \"3040 Nesbyen\", \"variable\": \"uke12\", \"value\": 150}, {\"kommune\": \"3041 Gol\", \"variable\": \"uke12\", \"value\": 274}, {\"kommune\": \"3042 Hemsedal\", \"variable\": \"uke12\", \"value\": 202}, {\"kommune\": \"3043 \\u00c5l\", \"variable\": \"uke12\", \"value\": 158}, {\"kommune\": \"3044 Hol\", \"variable\": \"uke12\", \"value\": 339}, {\"kommune\": \"3045 Sigdal\", \"variable\": \"uke12\", \"value\": 95}, {\"kommune\": \"3046 Kr\\u00f8dsherad\", \"variable\": \"uke12\", \"value\": 98}, {\"kommune\": \"3047 Modum\", \"variable\": \"uke12\", \"value\": 399}, {\"kommune\": \"3048 \\u00d8vre Eiker\", \"variable\": \"uke12\", \"value\": 625}, {\"kommune\": \"3049 Lier\", \"variable\": \"uke12\", \"value\": 856}, {\"kommune\": \"3050 Flesberg\", \"variable\": \"uke12\", \"value\": 82}, {\"kommune\": \"3051 Rollag\", \"variable\": \"uke12\", \"value\": 23}, {\"kommune\": \"3052 Nore og Uvdal\", \"variable\": \"uke12\", \"value\": 63}, {\"kommune\": \"3053 Jevnaker\", \"variable\": \"uke12\", \"value\": 226}, {\"kommune\": \"3054 Lunner\", \"variable\": \"uke12\", \"value\": 277}, {\"kommune\": \"3401 Kongsvinger\", \"variable\": \"uke12\", \"value\": 405}, {\"kommune\": \"3403 Hamar\", \"variable\": \"uke12\", \"value\": 987}, {\"kommune\": \"3405 Lillehammer\", \"variable\": \"uke12\", \"value\": 1159}, {\"kommune\": \"3407 Gj\\u00f8vik\", \"variable\": \"uke12\", \"value\": 968}, {\"kommune\": \"3411 Ringsaker\", \"variable\": \"uke12\", \"value\": 1112}, {\"kommune\": \"3412 L\\u00f8ten\", \"variable\": \"uke12\", \"value\": 223}, {\"kommune\": \"3413 Stange\", \"variable\": \"uke12\", \"value\": 604}, {\"kommune\": \"3414 Nord-Odal\", \"variable\": \"uke12\", \"value\": 95}, {\"kommune\": \"3415 S\\u00f8r-Odal\", \"variable\": \"uke12\", \"value\": 233}, {\"kommune\": \"3416 Eidskog\", \"variable\": \"uke12\", \"value\": 179}, {\"kommune\": \"3417 Grue\", \"variable\": \"uke12\", \"value\": 107}, {\"kommune\": \"3418 \\u00c5snes\", \"variable\": \"uke12\", \"value\": 169}, {\"kommune\": \"3419 V\\u00e5ler (Innlandet)\", \"variable\": \"uke12\", \"value\": 90}, {\"kommune\": \"3420 Elverum\", \"variable\": \"uke12\", \"value\": 587}, {\"kommune\": \"3421 Trysil\", \"variable\": \"uke12\", \"value\": 506}, {\"kommune\": \"3422 \\u00c5mot\", \"variable\": \"uke12\", \"value\": 106}, {\"kommune\": \"3423 Stor-Elvdal\", \"variable\": \"uke12\", \"value\": 31}, {\"kommune\": \"3424 Rendalen\", \"variable\": \"uke12\", \"value\": 32}, {\"kommune\": \"3425 Engerdal\", \"variable\": \"uke12\", \"value\": 13}, {\"kommune\": \"3426 Tolga\", \"variable\": \"uke12\", \"value\": 23}, {\"kommune\": \"3427 Tynset\", \"variable\": \"uke12\", \"value\": 181}, {\"kommune\": \"3428 Alvdal\", \"variable\": \"uke12\", \"value\": 51}, {\"kommune\": \"3429 Folldal\", \"variable\": \"uke12\", \"value\": 8}, {\"kommune\": \"3430 Os\", \"variable\": \"uke12\", \"value\": 49}, {\"kommune\": \"3431 Dovre\", \"variable\": \"uke12\", \"value\": 115}, {\"kommune\": \"3432 Lesja\", \"variable\": \"uke12\", \"value\": 59}, {\"kommune\": \"3433 Skj\\u00e5k\", \"variable\": \"uke12\", \"value\": 59}, {\"kommune\": \"3434 Lom\", \"variable\": \"uke12\", \"value\": 96}, {\"kommune\": \"3435 V\\u00e5g\\u00e5\", \"variable\": \"uke12\", \"value\": 124}, {\"kommune\": \"3436 Nord-Fron\", \"variable\": \"uke12\", \"value\": 168}, {\"kommune\": \"3437 Sel\", \"variable\": \"uke12\", \"value\": 207}, {\"kommune\": \"3438 S\\u00f8r-Fron\", \"variable\": \"uke12\", \"value\": 120}, {\"kommune\": \"3439 Ringebu\", \"variable\": \"uke12\", \"value\": 168}, {\"kommune\": \"3440 \\u00d8yer\", \"variable\": \"uke12\", \"value\": 241}, {\"kommune\": \"3441 Gausdal\", \"variable\": \"uke12\", \"value\": 209}, {\"kommune\": \"3442 \\u00d8stre Toten\", \"variable\": \"uke12\", \"value\": 359}, {\"kommune\": \"3443 Vestre Toten\", \"variable\": \"uke12\", \"value\": 413}, {\"kommune\": \"3446 Gran\", \"variable\": \"uke12\", \"value\": 376}, {\"kommune\": \"3447 S\\u00f8ndre Land\", \"variable\": \"uke12\", \"value\": 131}, {\"kommune\": \"3448 Nordre Land\", \"variable\": \"uke12\", \"value\": 160}, {\"kommune\": \"3449 S\\u00f8r-Aurdal\", \"variable\": \"uke12\", \"value\": 67}, {\"kommune\": \"3450 Etnedal\", \"variable\": \"uke12\", \"value\": 29}, {\"kommune\": \"3451 Nord-Aurdal\", \"variable\": \"uke12\", \"value\": 284}, {\"kommune\": \"3452 Vestre Slidre\", \"variable\": \"uke12\", \"value\": 58}, {\"kommune\": \"3453 \\u00d8ystre Slidre\", \"variable\": \"uke12\", \"value\": 169}, {\"kommune\": \"3454 Vang\", \"variable\": \"uke12\", \"value\": 65}, {\"kommune\": \"3801 Horten\", \"variable\": \"uke12\", \"value\": 672}, {\"kommune\": \"3802 Holmestrand\", \"variable\": \"uke12\", \"value\": 689}, {\"kommune\": \"3803 T\\u00f8nsberg\", \"variable\": \"uke12\", \"value\": 1973}, {\"kommune\": \"3804 Sandefjord\", \"variable\": \"uke12\", \"value\": 2441}, {\"kommune\": \"3805 Larvik\", \"variable\": \"uke12\", \"value\": 1515}, {\"kommune\": \"3806 Porsgrunn\", \"variable\": \"uke12\", \"value\": 1022}, {\"kommune\": \"3807 Skien\", \"variable\": \"uke12\", \"value\": 1626}, {\"kommune\": \"3808 Notodden\", \"variable\": \"uke12\", \"value\": 354}, {\"kommune\": \"3811 F\\u00e6rder\", \"variable\": \"uke12\", \"value\": 854}, {\"kommune\": \"3812 Siljan\", \"variable\": \"uke12\", \"value\": 48}, {\"kommune\": \"3813 Bamble\", \"variable\": \"uke12\", \"value\": 383}, {\"kommune\": \"3814 Krager\\u00f8\", \"variable\": \"uke12\", \"value\": 289}, {\"kommune\": \"3815 Drangedal\", \"variable\": \"uke12\", \"value\": 75}, {\"kommune\": \"3816 Nome\", \"variable\": \"uke12\", \"value\": 149}, {\"kommune\": \"3817 Midt-Telemark\", \"variable\": \"uke12\", \"value\": 305}, {\"kommune\": \"3818 Tinn\", \"variable\": \"uke12\", \"value\": 167}, {\"kommune\": \"3819 Hjartdal\", \"variable\": \"uke12\", \"value\": 41}, {\"kommune\": \"3820 Seljord\", \"variable\": \"uke12\", \"value\": 103}, {\"kommune\": \"3821 Kviteseid\", \"variable\": \"uke12\", \"value\": 97}, {\"kommune\": \"3822 Nissedal\", \"variable\": \"uke12\", \"value\": 34}, {\"kommune\": \"3823 Fyresdal\", \"variable\": \"uke12\", \"value\": 29}, {\"kommune\": \"3824 Tokke\", \"variable\": \"uke12\", \"value\": 46}, {\"kommune\": \"3825 Vinje\", \"variable\": \"uke12\", \"value\": 163}, {\"kommune\": \"4201 Ris\\u00f8r\", \"variable\": \"uke12\", \"value\": 181}, {\"kommune\": \"4202 Grimstad\", \"variable\": \"uke12\", \"value\": 636}, {\"kommune\": \"4203 Arendal\", \"variable\": \"uke12\", \"value\": 1398}, {\"kommune\": \"4204 Kristiansand\", \"variable\": \"uke12\", \"value\": 3927}, {\"kommune\": \"4205 Lindesnes\", \"variable\": \"uke12\", \"value\": 611}, {\"kommune\": \"4206 Farsund\", \"variable\": \"uke12\", \"value\": 358}, {\"kommune\": \"4207 Flekkefjord\", \"variable\": \"uke12\", \"value\": 226}, {\"kommune\": \"4211 Gjerstad\", \"variable\": \"uke12\", \"value\": 59}, {\"kommune\": \"4212 Veg\\u00e5rshei\", \"variable\": \"uke12\", \"value\": 49}, {\"kommune\": \"4213 Tvedestrand\", \"variable\": \"uke12\", \"value\": 143}, {\"kommune\": \"4214 Froland\", \"variable\": \"uke12\", \"value\": 171}, {\"kommune\": \"4215 Lillesand\", \"variable\": \"uke12\", \"value\": 318}, {\"kommune\": \"4216 Birkenes\", \"variable\": \"uke12\", \"value\": 125}, {\"kommune\": \"4217 \\u00c5mli\", \"variable\": \"uke12\", \"value\": 36}, {\"kommune\": \"4218 Iveland\", \"variable\": \"uke12\", \"value\": 19}, {\"kommune\": \"4219 Evje og Hornnes\", \"variable\": \"uke12\", \"value\": 90}, {\"kommune\": \"4220 Bygland\", \"variable\": \"uke12\", \"value\": 19}, {\"kommune\": \"4221 Valle\", \"variable\": \"uke12\", \"value\": 28}, {\"kommune\": \"4222 Bykle\", \"variable\": \"uke12\", \"value\": 71}, {\"kommune\": \"4223 Vennesla\", \"variable\": \"uke12\", \"value\": 431}, {\"kommune\": \"4224 \\u00c5seral\", \"variable\": \"uke12\", \"value\": 29}, {\"kommune\": \"4225 Lyngdal\", \"variable\": \"uke12\", \"value\": 292}, {\"kommune\": \"4226 H\\u00e6gebostad\", \"variable\": \"uke12\", \"value\": 55}, {\"kommune\": \"4227 Kvinesdal\", \"variable\": \"uke12\", \"value\": 120}, {\"kommune\": \"4228 Sirdal\", \"variable\": \"uke12\", \"value\": 68}, {\"kommune\": \"4601 Bergen\", \"variable\": \"uke12\", \"value\": 11254}, {\"kommune\": \"4602 Kinn\", \"variable\": \"uke12\", \"value\": 354}, {\"kommune\": \"4611 Etne\", \"variable\": \"uke12\", \"value\": 108}, {\"kommune\": \"4612 Sveio\", \"variable\": \"uke12\", \"value\": 143}, {\"kommune\": \"4613 B\\u00f8mlo\", \"variable\": \"uke12\", \"value\": 342}, {\"kommune\": \"4614 Stord\", \"variable\": \"uke12\", \"value\": 574}, {\"kommune\": \"4615 Fitjar\", \"variable\": \"uke12\", \"value\": 73}, {\"kommune\": \"4616 Tysnes\", \"variable\": \"uke12\", \"value\": 32}, {\"kommune\": \"4617 Kvinnherad\", \"variable\": \"uke12\", \"value\": 242}, {\"kommune\": \"4618 Ullensvang\", \"variable\": \"uke12\", \"value\": 240}, {\"kommune\": \"4619 Eidfjord\", \"variable\": \"uke12\", \"value\": 24}, {\"kommune\": \"4620 Ulvik\", \"variable\": \"uke12\", \"value\": 34}, {\"kommune\": \"4621 Voss\", \"variable\": \"uke12\", \"value\": 800}, {\"kommune\": \"4622 Kvam\", \"variable\": \"uke12\", \"value\": 203}, {\"kommune\": \"4623 Samnanger\", \"variable\": \"uke12\", \"value\": 74}, {\"kommune\": \"4624 Bj\\u00f8rnafjorden\", \"variable\": \"uke12\", \"value\": 762}, {\"kommune\": \"4625 Austevoll\", \"variable\": \"uke12\", \"value\": 79}, {\"kommune\": \"4626 \\u00d8ygarden\", \"variable\": \"uke12\", \"value\": 1252}, {\"kommune\": \"4627 Ask\\u00f8y\", \"variable\": \"uke12\", \"value\": 1050}, {\"kommune\": \"4628 Vaksdal\", \"variable\": \"uke12\", \"value\": 96}, {\"kommune\": \"4629 Modalen\", \"variable\": \"uke12\", \"value\": 6}, {\"kommune\": \"4630 Oster\\u00f8y\", \"variable\": \"uke12\", \"value\": 208}, {\"kommune\": \"4631 Alver\", \"variable\": \"uke12\", \"value\": 783}, {\"kommune\": \"4632 Austrheim\", \"variable\": \"uke12\", \"value\": 69}, {\"kommune\": \"4633 Fedje\", \"variable\": \"uke12\", \"value\": 13}, {\"kommune\": \"4634 Masfjorden\", \"variable\": \"uke12\", \"value\": 34}, {\"kommune\": \"4635 Gulen\", \"variable\": \"uke12\", \"value\": 42}, {\"kommune\": \"4636 Solund\", \"variable\": \"uke12\", \"value\": 12}, {\"kommune\": \"4637 Hyllestad\", \"variable\": \"uke12\", \"value\": 29}, {\"kommune\": \"4638 H\\u00f8yanger\", \"variable\": \"uke12\", \"value\": 75}, {\"kommune\": \"4639 Vik\", \"variable\": \"uke12\", \"value\": 42}, {\"kommune\": \"4640 Sogndal\", \"variable\": \"uke12\", \"value\": 403}, {\"kommune\": \"4641 Aurland\", \"variable\": \"uke12\", \"value\": 137}, {\"kommune\": \"4642 L\\u00e6rdal\", \"variable\": \"uke12\", \"value\": 54}, {\"kommune\": \"4643 \\u00c5rdal\", \"variable\": \"uke12\", \"value\": 127}, {\"kommune\": \"4644 Luster\", \"variable\": \"uke12\", \"value\": 146}, {\"kommune\": \"4645 Askvoll\", \"variable\": \"uke12\", \"value\": 55}, {\"kommune\": \"4646 Fjaler\", \"variable\": \"uke12\", \"value\": 37}, {\"kommune\": \"4647 Sunnfjord\", \"variable\": \"uke12\", \"value\": 680}, {\"kommune\": \"4648 Bremanger\", \"variable\": \"uke12\", \"value\": 37}, {\"kommune\": \"4649 Stad\", \"variable\": \"uke12\", \"value\": 194}, {\"kommune\": \"4650 Gloppen\", \"variable\": \"uke12\", \"value\": 136}, {\"kommune\": \"4651 Stryn\", \"variable\": \"uke12\", \"value\": 366}, {\"kommune\": \"5001 Trondheim\", \"variable\": \"uke12\", \"value\": 7666}, {\"kommune\": \"5006 Steinkjer\", \"variable\": \"uke12\", \"value\": 724}, {\"kommune\": \"5007 Namsos\", \"variable\": \"uke12\", \"value\": 475}, {\"kommune\": \"5014 Fr\\u00f8ya\", \"variable\": \"uke12\", \"value\": 78}, {\"kommune\": \"5020 Osen\", \"variable\": \"uke12\", \"value\": 9}, {\"kommune\": \"5021 Oppdal\", \"variable\": \"uke12\", \"value\": 320}, {\"kommune\": \"5022 Rennebu\", \"variable\": \"uke12\", \"value\": 65}, {\"kommune\": \"5025 R\\u00f8ros\", \"variable\": \"uke12\", \"value\": 239}, {\"kommune\": \"5026 Holt\\u00e5len\", \"variable\": \"uke12\", \"value\": 48}, {\"kommune\": \"5027 Midtre Gauldal\", \"variable\": \"uke12\", \"value\": 126}, {\"kommune\": \"5028 Melhus\", \"variable\": \"uke12\", \"value\": 541}, {\"kommune\": \"5029 Skaun\", \"variable\": \"uke12\", \"value\": 240}, {\"kommune\": \"5031 Malvik\", \"variable\": \"uke12\", \"value\": 475}, {\"kommune\": \"5032 Selbu\", \"variable\": \"uke12\", \"value\": 92}, {\"kommune\": \"5033 Tydal\", \"variable\": \"uke12\", \"value\": 20}, {\"kommune\": \"5034 Mer\\u00e5ker\", \"variable\": \"uke12\", \"value\": 72}, {\"kommune\": \"5035 Stj\\u00f8rdal\", \"variable\": \"uke12\", \"value\": 1181}, {\"kommune\": \"5036 Frosta\", \"variable\": \"uke12\", \"value\": 76}, {\"kommune\": \"5037 Levanger\", \"variable\": \"uke12\", \"value\": 537}, {\"kommune\": \"5038 Verdal\", \"variable\": \"uke12\", \"value\": 467}, {\"kommune\": \"5041 Sn\\u00e5ase - Sn\\u00e5sa\", \"variable\": \"uke12\", \"value\": 41}, {\"kommune\": \"5042 Lierne\", \"variable\": \"uke12\", \"value\": 43}, {\"kommune\": \"5043 Raarvihke - R\\u00f8yrvik\", \"variable\": \"uke12\", \"value\": 9}, {\"kommune\": \"5044 Namsskogan\", \"variable\": \"uke12\", \"value\": 33}, {\"kommune\": \"5045 Grong\", \"variable\": \"uke12\", \"value\": 55}, {\"kommune\": \"5046 H\\u00f8ylandet\", \"variable\": \"uke12\", \"value\": 20}, {\"kommune\": \"5047 Overhalla\", \"variable\": \"uke12\", \"value\": 89}, {\"kommune\": \"5049 Flatanger\", \"variable\": \"uke12\", \"value\": 24}, {\"kommune\": \"5052 Leka\", \"variable\": \"uke12\", \"value\": 8}, {\"kommune\": \"5053 Inder\\u00f8y\", \"variable\": \"uke12\", \"value\": 138}, {\"kommune\": \"5054 Indre Fosen\", \"variable\": \"uke12\", \"value\": 211}, {\"kommune\": \"5055 Heim\", \"variable\": \"uke12\", \"value\": 117}, {\"kommune\": \"5056 Hitra\", \"variable\": \"uke12\", \"value\": 109}, {\"kommune\": \"5057 \\u00d8rland\", \"variable\": \"uke12\", \"value\": 234}, {\"kommune\": \"5058 \\u00c5fjord\", \"variable\": \"uke12\", \"value\": 92}, {\"kommune\": \"5059 Orkland\", \"variable\": \"uke12\", \"value\": 514}, {\"kommune\": \"5060 N\\u00e6r\\u00f8ysund\", \"variable\": \"uke12\", \"value\": 145}, {\"kommune\": \"5061 Rindal\", \"variable\": \"uke12\", \"value\": 35}, {\"kommune\": \"5401 Troms\\u00f8\", \"variable\": \"uke12\", \"value\": 2973}, {\"kommune\": \"5402 Harstad\", \"variable\": \"uke12\", \"value\": 904}, {\"kommune\": \"5403 Alta\", \"variable\": \"uke12\", \"value\": 861}, {\"kommune\": \"5404 Vard\\u00f8\", \"variable\": \"uke12\", \"value\": 47}, {\"kommune\": \"5405 Vads\\u00f8\", \"variable\": \"uke12\", \"value\": 149}, {\"kommune\": \"5406 Hammerfest\", \"variable\": \"uke12\", \"value\": 283}, {\"kommune\": \"5411 Kv\\u00e6fjord\", \"variable\": \"uke12\", \"value\": 74}, {\"kommune\": \"5412 Tjeldsund\", \"variable\": \"uke12\", \"value\": 76}, {\"kommune\": \"5413 Ibestad\", \"variable\": \"uke12\", \"value\": 19}, {\"kommune\": \"5414 Gratangen\", \"variable\": \"uke12\", \"value\": 11}, {\"kommune\": \"5415 Loab\\u00e1k - Lavangen\", \"variable\": \"uke12\", \"value\": 10}, {\"kommune\": \"5416 Bardu\", \"variable\": \"uke12\", \"value\": 61}, {\"kommune\": \"5417 Salangen\", \"variable\": \"uke12\", \"value\": 42}, {\"kommune\": \"5418 M\\u00e5lselv\", \"variable\": \"uke12\", \"value\": 129}, {\"kommune\": \"5419 S\\u00f8rreisa\", \"variable\": \"uke12\", \"value\": 73}, {\"kommune\": \"5420 Dyr\\u00f8y\", \"variable\": \"uke12\", \"value\": 27}, {\"kommune\": \"5421 Senja\", \"variable\": \"uke12\", \"value\": 358}, {\"kommune\": \"5422 Balsfjord\", \"variable\": \"uke12\", \"value\": 139}, {\"kommune\": \"5423 Karls\\u00f8y\", \"variable\": \"uke12\", \"value\": 43}, {\"kommune\": \"5424 Lyngen\", \"variable\": \"uke12\", \"value\": 58}, {\"kommune\": \"5425 Storfjord - Omasvuotna - Omasvuono\", \"variable\": \"uke12\", \"value\": 53}, {\"kommune\": \"5426 G\\u00e1ivuotna - K\\u00e5fjord - Kaivuono\", \"variable\": \"uke12\", \"value\": 36}, {\"kommune\": \"5427 Skjerv\\u00f8y\", \"variable\": \"uke12\", \"value\": 39}, {\"kommune\": \"5428 Nordreisa\", \"variable\": \"uke12\", \"value\": 100}, {\"kommune\": \"5429 Kv\\u00e6nangen\", \"variable\": \"uke12\", \"value\": 15}, {\"kommune\": \"5430 Guovdageaidnu - Kautokeino\", \"variable\": \"uke12\", \"value\": 53}, {\"kommune\": \"5432 Loppa\", \"variable\": \"uke12\", \"value\": 17}, {\"kommune\": \"5433 Hasvik\", \"variable\": \"uke12\", \"value\": 11}, {\"kommune\": \"5434 M\\u00e5s\\u00f8y\", \"variable\": \"uke12\", \"value\": 25}, {\"kommune\": \"5435 Nordkapp\", \"variable\": \"uke12\", \"value\": 132}, {\"kommune\": \"5436 Porsanger - Pors\\u00e1ngu - Porsanki\", \"variable\": \"uke12\", \"value\": 97}, {\"kommune\": \"5437 K\\u00e1r\\u00e1\\u0161johka - Karasjok\", \"variable\": \"uke12\", \"value\": 39}, {\"kommune\": \"5438 Lebesby\", \"variable\": \"uke12\", \"value\": 17}, {\"kommune\": \"5439 Gamvik\", \"variable\": \"uke12\", \"value\": 25}, {\"kommune\": \"5440 Berlev\\u00e5g\", \"variable\": \"uke12\", \"value\": 23}, {\"kommune\": \"5441 Deatnu - Tana\", \"variable\": \"uke12\", \"value\": 60}, {\"kommune\": \"5442 Unj\\u00e1rga - Nesseby\", \"variable\": \"uke12\", \"value\": 21}, {\"kommune\": \"5443 B\\u00e5tsfjord\", \"variable\": \"uke12\", \"value\": 105}, {\"kommune\": \"5444 S\\u00f8r-Varanger\", \"variable\": \"uke12\", \"value\": 359}, {\"kommune\": \"9999 Ukjent\", \"variable\": \"uke12\", \"value\": 4946}, {\"kommune\": \"0301 Oslo\", \"variable\": \"uke13\", \"value\": 6782}, {\"kommune\": \"1101 Eigersund\", \"variable\": \"uke13\", \"value\": 93}, {\"kommune\": \"1103 Stavanger\", \"variable\": \"uke13\", \"value\": 1042}, {\"kommune\": \"1106 Haugesund\", \"variable\": \"uke13\", \"value\": 303}, {\"kommune\": \"1108 Sandnes\", \"variable\": \"uke13\", \"value\": 620}, {\"kommune\": \"1111 Sokndal\", \"variable\": \"uke13\", \"value\": 14}, {\"kommune\": \"1112 Lund\", \"variable\": \"uke13\", \"value\": 9}, {\"kommune\": \"1114 Bjerkreim\", \"variable\": \"uke13\", \"value\": 14}, {\"kommune\": \"1119 H\\u00e5\", \"variable\": \"uke13\", \"value\": 94}, {\"kommune\": \"1120 Klepp\", \"variable\": \"uke13\", \"value\": 119}, {\"kommune\": \"1121 Time\", \"variable\": \"uke13\", \"value\": 152}, {\"kommune\": \"1122 Gjesdal\", \"variable\": \"uke13\", \"value\": 73}, {\"kommune\": \"1124 Sola\", \"variable\": \"uke13\", \"value\": 233}, {\"kommune\": \"1127 Randaberg\", \"variable\": \"uke13\", \"value\": 98}, {\"kommune\": \"1130 Strand\", \"variable\": \"uke13\", \"value\": 99}, {\"kommune\": \"1133 Hjelmeland\", \"variable\": \"uke13\", \"value\": 0}, {\"kommune\": \"1134 Suldal\", \"variable\": \"uke13\", \"value\": 22}, {\"kommune\": \"1135 Sauda\", \"variable\": \"uke13\", \"value\": 20}, {\"kommune\": \"1144 Kvits\\u00f8y\", \"variable\": \"uke13\", \"value\": 0}, {\"kommune\": \"1145 Bokn\", \"variable\": \"uke13\", \"value\": 4}, {\"kommune\": \"1146 Tysv\\u00e6r\", \"variable\": \"uke13\", \"value\": 69}, {\"kommune\": \"1149 Karm\\u00f8y\", \"variable\": \"uke13\", \"value\": 248}, {\"kommune\": \"1151 Utsira\", \"variable\": \"uke13\", \"value\": 0}, {\"kommune\": \"1160 Vindafjord\", \"variable\": \"uke13\", \"value\": 42}, {\"kommune\": \"1505 Kristiansund\", \"variable\": \"uke13\", \"value\": 165}, {\"kommune\": \"1506 Molde\", \"variable\": \"uke13\", \"value\": 203}, {\"kommune\": \"1507 \\u00c5lesund\", \"variable\": \"uke13\", \"value\": 632}, {\"kommune\": \"1511 Vanylven\", \"variable\": \"uke13\", \"value\": 8}, {\"kommune\": \"1514 Sande\", \"variable\": \"uke13\", \"value\": 13}, {\"kommune\": \"1515 Her\\u00f8y (M\\u00f8re og Romsdal)\", \"variable\": \"uke13\", \"value\": 67}, {\"kommune\": \"1516 Ulstein\", \"variable\": \"uke13\", \"value\": 112}, {\"kommune\": \"1517 Hareid\", \"variable\": \"uke13\", \"value\": 54}, {\"kommune\": \"1520 \\u00d8rsta\", \"variable\": \"uke13\", \"value\": 71}, {\"kommune\": \"1525 Stranda\", \"variable\": \"uke13\", \"value\": 44}, {\"kommune\": \"1528 Sykkylven\", \"variable\": \"uke13\", \"value\": 556}, {\"kommune\": \"1531 Sula\", \"variable\": \"uke13\", \"value\": 86}, {\"kommune\": \"1532 Giske\", \"variable\": \"uke13\", \"value\": 83}, {\"kommune\": \"1535 Vestnes\", \"variable\": \"uke13\", \"value\": 34}, {\"kommune\": \"1539 Rauma\", \"variable\": \"uke13\", \"value\": 70}, {\"kommune\": \"1547 Aukra\", \"variable\": \"uke13\", \"value\": 25}, {\"kommune\": \"1554 Aver\\u00f8y\", \"variable\": \"uke13\", \"value\": 33}, {\"kommune\": \"1557 Gjemnes\", \"variable\": \"uke13\", \"value\": 8}, {\"kommune\": \"1560 Tingvoll\", \"variable\": \"uke13\", \"value\": 19}, {\"kommune\": \"1563 Sunndal\", \"variable\": \"uke13\", \"value\": 41}, {\"kommune\": \"1566 Surnadal\", \"variable\": \"uke13\", \"value\": 20}, {\"kommune\": \"1573 Sm\\u00f8la\", \"variable\": \"uke13\", \"value\": 11}, {\"kommune\": \"1576 Aure\", \"variable\": \"uke13\", \"value\": 7}, {\"kommune\": \"1577 Volda\", \"variable\": \"uke13\", \"value\": 93}, {\"kommune\": \"1578 Fjord\", \"variable\": \"uke13\", \"value\": 8}, {\"kommune\": \"1579 Hustadvika\", \"variable\": \"uke13\", \"value\": 56}, {\"kommune\": \"1804 Bod\\u00f8\", \"variable\": \"uke13\", \"value\": 437}, {\"kommune\": \"1806 Narvik\", \"variable\": \"uke13\", \"value\": 129}, {\"kommune\": \"1811 Bindal\", \"variable\": \"uke13\", \"value\": 9}, {\"kommune\": \"1812 S\\u00f8mna\", \"variable\": \"uke13\", \"value\": 7}, {\"kommune\": \"1813 Br\\u00f8nn\\u00f8y\", \"variable\": \"uke13\", \"value\": 49}, {\"kommune\": \"1815 Vega\", \"variable\": \"uke13\", \"value\": 0}, {\"kommune\": \"1816 Vevelstad\", \"variable\": \"uke13\", \"value\": 0}, {\"kommune\": \"1818 Her\\u00f8y (Nordland)\", \"variable\": \"uke13\", \"value\": 8}, {\"kommune\": \"1820 Alstahaug\", \"variable\": \"uke13\", \"value\": 46}, {\"kommune\": \"1822 Leirfjord\", \"variable\": \"uke13\", \"value\": 10}, {\"kommune\": \"1824 Vefsn\", \"variable\": \"uke13\", \"value\": 88}, {\"kommune\": \"1825 Grane\", \"variable\": \"uke13\", \"value\": 4}, {\"kommune\": \"1826 Aarborte - Hattfjelldal\", \"variable\": \"uke13\", \"value\": 0}, {\"kommune\": \"1827 D\\u00f8nna\", \"variable\": \"uke13\", \"value\": 0}, {\"kommune\": \"1828 Nesna\", \"variable\": \"uke13\", \"value\": 0}, {\"kommune\": \"1832 Hemnes\", \"variable\": \"uke13\", \"value\": 26}, {\"kommune\": \"1833 Rana\", \"variable\": \"uke13\", \"value\": 193}, {\"kommune\": \"1834 Lur\\u00f8y\", \"variable\": \"uke13\", \"value\": 6}, {\"kommune\": \"1835 Tr\\u00e6na\", \"variable\": \"uke13\", \"value\": 0}, {\"kommune\": \"1836 R\\u00f8d\\u00f8y\", \"variable\": \"uke13\", \"value\": 0}, {\"kommune\": \"1837 Mel\\u00f8y\", \"variable\": \"uke13\", \"value\": 34}, {\"kommune\": \"1838 Gildesk\\u00e5l\", \"variable\": \"uke13\", \"value\": 6}, {\"kommune\": \"1839 Beiarn\", \"variable\": \"uke13\", \"value\": 6}, {\"kommune\": \"1840 Saltdal\", \"variable\": \"uke13\", \"value\": 13}, {\"kommune\": \"1841 Fauske - Fuossko\", \"variable\": \"uke13\", \"value\": 63}, {\"kommune\": \"1845 S\\u00f8rfold\", \"variable\": \"uke13\", \"value\": 9}, {\"kommune\": \"1848 Steigen\", \"variable\": \"uke13\", \"value\": 8}, {\"kommune\": \"1851 L\\u00f8dingen\", \"variable\": \"uke13\", \"value\": 7}, {\"kommune\": \"1853 Evenes\", \"variable\": \"uke13\", \"value\": 6}, {\"kommune\": \"1856 R\\u00f8st\", \"variable\": \"uke13\", \"value\": 0}, {\"kommune\": \"1857 V\\u00e6r\\u00f8y\", \"variable\": \"uke13\", \"value\": 5}, {\"kommune\": \"1859 Flakstad\", \"variable\": \"uke13\", \"value\": 15}, {\"kommune\": \"1860 Vestv\\u00e5g\\u00f8y\", \"variable\": \"uke13\", \"value\": 110}, {\"kommune\": \"1865 V\\u00e5gan\", \"variable\": \"uke13\", \"value\": 89}, {\"kommune\": \"1866 Hadsel\", \"variable\": \"uke13\", \"value\": 40}, {\"kommune\": \"1867 B\\u00f8\", \"variable\": \"uke13\", \"value\": 16}, {\"kommune\": \"1868 \\u00d8ksnes\", \"variable\": \"uke13\", \"value\": 15}, {\"kommune\": \"1870 Sortland\", \"variable\": \"uke13\", \"value\": 88}, {\"kommune\": \"1871 And\\u00f8y\", \"variable\": \"uke13\", \"value\": 21}, {\"kommune\": \"1874 Moskenes\", \"variable\": \"uke13\", \"value\": 11}, {\"kommune\": \"1875 Hamar\\u00f8y\", \"variable\": \"uke13\", \"value\": 17}, {\"kommune\": \"3001 Halden\", \"variable\": \"uke13\", \"value\": 172}, {\"kommune\": \"3002 Moss\", \"variable\": \"uke13\", \"value\": 318}, {\"kommune\": \"3003 Sarpsborg\", \"variable\": \"uke13\", \"value\": 342}, {\"kommune\": \"3004 Fredrikstad\", \"variable\": \"uke13\", \"value\": 514}, {\"kommune\": \"3005 Drammen\", \"variable\": \"uke13\", \"value\": 842}, {\"kommune\": \"3006 Kongsberg\", \"variable\": \"uke13\", \"value\": 268}, {\"kommune\": \"3007 Ringerike\", \"variable\": \"uke13\", \"value\": 203}, {\"kommune\": \"3011 Hvaler\", \"variable\": \"uke13\", \"value\": 27}, {\"kommune\": \"3012 Aremark\", \"variable\": \"uke13\", \"value\": 11}, {\"kommune\": \"3013 Marker\", \"variable\": \"uke13\", \"value\": 18}, {\"kommune\": \"3014 Indre \\u00d8stfold\", \"variable\": \"uke13\", \"value\": 275}, {\"kommune\": \"3015 Skiptvet\", \"variable\": \"uke13\", \"value\": 20}, {\"kommune\": \"3016 Rakkestad\", \"variable\": \"uke13\", \"value\": 45}, {\"kommune\": \"3017 R\\u00e5de\", \"variable\": \"uke13\", \"value\": 52}, {\"kommune\": \"3018 V\\u00e5ler (Viken)\", \"variable\": \"uke13\", \"value\": 56}, {\"kommune\": \"3019 Vestby\", \"variable\": \"uke13\", \"value\": 137}, {\"kommune\": \"3020 Nordre Follo\", \"variable\": \"uke13\", \"value\": 476}, {\"kommune\": \"3021 \\u00c5s\", \"variable\": \"uke13\", \"value\": 143}, {\"kommune\": \"3022 Frogn\", \"variable\": \"uke13\", \"value\": 143}, {\"kommune\": \"3023 Nesodden\", \"variable\": \"uke13\", \"value\": 118}, {\"kommune\": \"3024 B\\u00e6rum\", \"variable\": \"uke13\", \"value\": 1016}, {\"kommune\": \"3025 Asker\", \"variable\": \"uke13\", \"value\": 776}, {\"kommune\": \"3026 Aurskog-H\\u00f8land\", \"variable\": \"uke13\", \"value\": 116}, {\"kommune\": \"3027 R\\u00e6lingen\", \"variable\": \"uke13\", \"value\": 178}, {\"kommune\": \"3028 Enebakk\", \"variable\": \"uke13\", \"value\": 100}, {\"kommune\": \"3029 L\\u00f8renskog\", \"variable\": \"uke13\", \"value\": 374}, {\"kommune\": \"3030 Lillestr\\u00f8m\", \"variable\": \"uke13\", \"value\": 830}, {\"kommune\": \"3031 Nittedal\", \"variable\": \"uke13\", \"value\": 203}, {\"kommune\": \"3032 Gjerdrum\", \"variable\": \"uke13\", \"value\": 64}, {\"kommune\": \"3033 Ullensaker\", \"variable\": \"uke13\", \"value\": 493}, {\"kommune\": \"3034 Nes\", \"variable\": \"uke13\", \"value\": 174}, {\"kommune\": \"3035 Eidsvoll\", \"variable\": \"uke13\", \"value\": 245}, {\"kommune\": \"3036 Nannestad\", \"variable\": \"uke13\", \"value\": 174}, {\"kommune\": \"3037 Hurdal\", \"variable\": \"uke13\", \"value\": 29}, {\"kommune\": \"3038 Hole\", \"variable\": \"uke13\", \"value\": 57}, {\"kommune\": \"3039 Fl\\u00e5\", \"variable\": \"uke13\", \"value\": 10}, {\"kommune\": \"3040 Nesbyen\", \"variable\": \"uke13\", \"value\": 26}, {\"kommune\": \"3041 Gol\", \"variable\": \"uke13\", \"value\": 61}, {\"kommune\": \"3042 Hemsedal\", \"variable\": \"uke13\", \"value\": 38}, {\"kommune\": \"3043 \\u00c5l\", \"variable\": \"uke13\", \"value\": 40}, {\"kommune\": \"3044 Hol\", \"variable\": \"uke13\", \"value\": 64}, {\"kommune\": \"3045 Sigdal\", \"variable\": \"uke13\", \"value\": 12}, {\"kommune\": \"3046 Kr\\u00f8dsherad\", \"variable\": \"uke13\", \"value\": 16}, {\"kommune\": \"3047 Modum\", \"variable\": \"uke13\", \"value\": 103}, {\"kommune\": \"3048 \\u00d8vre Eiker\", \"variable\": \"uke13\", \"value\": 152}, {\"kommune\": \"3049 Lier\", \"variable\": \"uke13\", \"value\": 236}, {\"kommune\": \"3050 Flesberg\", \"variable\": \"uke13\", \"value\": 13}, {\"kommune\": \"3051 Rollag\", \"variable\": \"uke13\", \"value\": 14}, {\"kommune\": \"3052 Nore og Uvdal\", \"variable\": \"uke13\", \"value\": 8}, {\"kommune\": \"3053 Jevnaker\", \"variable\": \"uke13\", \"value\": 44}, {\"kommune\": \"3054 Lunner\", \"variable\": \"uke13\", \"value\": 58}, {\"kommune\": \"3401 Kongsvinger\", \"variable\": \"uke13\", \"value\": 135}, {\"kommune\": \"3403 Hamar\", \"variable\": \"uke13\", \"value\": 237}, {\"kommune\": \"3405 Lillehammer\", \"variable\": \"uke13\", \"value\": 259}, {\"kommune\": \"3407 Gj\\u00f8vik\", \"variable\": \"uke13\", \"value\": 265}, {\"kommune\": \"3411 Ringsaker\", \"variable\": \"uke13\", \"value\": 245}, {\"kommune\": \"3412 L\\u00f8ten\", \"variable\": \"uke13\", \"value\": 64}, {\"kommune\": \"3413 Stange\", \"variable\": \"uke13\", \"value\": 136}, {\"kommune\": \"3414 Nord-Odal\", \"variable\": \"uke13\", \"value\": 34}, {\"kommune\": \"3415 S\\u00f8r-Odal\", \"variable\": \"uke13\", \"value\": 44}, {\"kommune\": \"3416 Eidskog\", \"variable\": \"uke13\", \"value\": 42}, {\"kommune\": \"3417 Grue\", \"variable\": \"uke13\", \"value\": 26}, {\"kommune\": \"3418 \\u00c5snes\", \"variable\": \"uke13\", \"value\": 38}, {\"kommune\": \"3419 V\\u00e5ler (Innlandet)\", \"variable\": \"uke13\", \"value\": 21}, {\"kommune\": \"3420 Elverum\", \"variable\": \"uke13\", \"value\": 131}, {\"kommune\": \"3421 Trysil\", \"variable\": \"uke13\", \"value\": 66}, {\"kommune\": \"3422 \\u00c5mot\", \"variable\": \"uke13\", \"value\": 20}, {\"kommune\": \"3423 Stor-Elvdal\", \"variable\": \"uke13\", \"value\": 8}, {\"kommune\": \"3424 Rendalen\", \"variable\": \"uke13\", \"value\": 9}, {\"kommune\": \"3425 Engerdal\", \"variable\": \"uke13\", \"value\": 0}, {\"kommune\": \"3426 Tolga\", \"variable\": \"uke13\", \"value\": 5}, {\"kommune\": \"3427 Tynset\", \"variable\": \"uke13\", \"value\": 40}, {\"kommune\": \"3428 Alvdal\", \"variable\": \"uke13\", \"value\": 22}, {\"kommune\": \"3429 Folldal\", \"variable\": \"uke13\", \"value\": 0}, {\"kommune\": \"3430 Os\", \"variable\": \"uke13\", \"value\": 11}, {\"kommune\": \"3431 Dovre\", \"variable\": \"uke13\", \"value\": 20}, {\"kommune\": \"3432 Lesja\", \"variable\": \"uke13\", \"value\": 8}, {\"kommune\": \"3433 Skj\\u00e5k\", \"variable\": \"uke13\", \"value\": 6}, {\"kommune\": \"3434 Lom\", \"variable\": \"uke13\", \"value\": 17}, {\"kommune\": \"3435 V\\u00e5g\\u00e5\", \"variable\": \"uke13\", \"value\": 20}, {\"kommune\": \"3436 Nord-Fron\", \"variable\": \"uke13\", \"value\": 35}, {\"kommune\": \"3437 Sel\", \"variable\": \"uke13\", \"value\": 30}, {\"kommune\": \"3438 S\\u00f8r-Fron\", \"variable\": \"uke13\", \"value\": 14}, {\"kommune\": \"3439 Ringebu\", \"variable\": \"uke13\", \"value\": 37}, {\"kommune\": \"3440 \\u00d8yer\", \"variable\": \"uke13\", \"value\": 50}, {\"kommune\": \"3441 Gausdal\", \"variable\": \"uke13\", \"value\": 56}, {\"kommune\": \"3442 \\u00d8stre Toten\", \"variable\": \"uke13\", \"value\": 91}, {\"kommune\": \"3443 Vestre Toten\", \"variable\": \"uke13\", \"value\": 144}, {\"kommune\": \"3446 Gran\", \"variable\": \"uke13\", \"value\": 96}, {\"kommune\": \"3447 S\\u00f8ndre Land\", \"variable\": \"uke13\", \"value\": 24}, {\"kommune\": \"3448 Nordre Land\", \"variable\": \"uke13\", \"value\": 35}, {\"kommune\": \"3449 S\\u00f8r-Aurdal\", \"variable\": \"uke13\", \"value\": 18}, {\"kommune\": \"3450 Etnedal\", \"variable\": \"uke13\", \"value\": 8}, {\"kommune\": \"3451 Nord-Aurdal\", \"variable\": \"uke13\", \"value\": 71}, {\"kommune\": \"3452 Vestre Slidre\", \"variable\": \"uke13\", \"value\": 14}, {\"kommune\": \"3453 \\u00d8ystre Slidre\", \"variable\": \"uke13\", \"value\": 27}, {\"kommune\": \"3454 Vang\", \"variable\": \"uke13\", \"value\": 15}, {\"kommune\": \"3801 Horten\", \"variable\": \"uke13\", \"value\": 203}, {\"kommune\": \"3802 Holmestrand\", \"variable\": \"uke13\", \"value\": 147}, {\"kommune\": \"3803 T\\u00f8nsberg\", \"variable\": \"uke13\", \"value\": 461}, {\"kommune\": \"3804 Sandefjord\", \"variable\": \"uke13\", \"value\": 526}, {\"kommune\": \"3805 Larvik\", \"variable\": \"uke13\", \"value\": 396}, {\"kommune\": \"3806 Porsgrunn\", \"variable\": \"uke13\", \"value\": 258}, {\"kommune\": \"3807 Skien\", \"variable\": \"uke13\", \"value\": 358}, {\"kommune\": \"3808 Notodden\", \"variable\": \"uke13\", \"value\": 70}, {\"kommune\": \"3811 F\\u00e6rder\", \"variable\": \"uke13\", \"value\": 176}, {\"kommune\": \"3812 Siljan\", \"variable\": \"uke13\", \"value\": 13}, {\"kommune\": \"3813 Bamble\", \"variable\": \"uke13\", \"value\": 93}, {\"kommune\": \"3814 Krager\\u00f8\", \"variable\": \"uke13\", \"value\": 63}, {\"kommune\": \"3815 Drangedal\", \"variable\": \"uke13\", \"value\": 17}, {\"kommune\": \"3816 Nome\", \"variable\": \"uke13\", \"value\": 21}, {\"kommune\": \"3817 Midt-Telemark\", \"variable\": \"uke13\", \"value\": 47}, {\"kommune\": \"3818 Tinn\", \"variable\": \"uke13\", \"value\": 24}, {\"kommune\": \"3819 Hjartdal\", \"variable\": \"uke13\", \"value\": 5}, {\"kommune\": \"3820 Seljord\", \"variable\": \"uke13\", \"value\": 12}, {\"kommune\": \"3821 Kviteseid\", \"variable\": \"uke13\", \"value\": 27}, {\"kommune\": \"3822 Nissedal\", \"variable\": \"uke13\", \"value\": 5}, {\"kommune\": \"3823 Fyresdal\", \"variable\": \"uke13\", \"value\": 0}, {\"kommune\": \"3824 Tokke\", \"variable\": \"uke13\", \"value\": 9}, {\"kommune\": \"3825 Vinje\", \"variable\": \"uke13\", \"value\": 42}, {\"kommune\": \"4201 Ris\\u00f8r\", \"variable\": \"uke13\", \"value\": 46}, {\"kommune\": \"4202 Grimstad\", \"variable\": \"uke13\", \"value\": 152}, {\"kommune\": \"4203 Arendal\", \"variable\": \"uke13\", \"value\": 297}, {\"kommune\": \"4204 Kristiansand\", \"variable\": \"uke13\", \"value\": 787}, {\"kommune\": \"4205 Lindesnes\", \"variable\": \"uke13\", \"value\": 154}, {\"kommune\": \"4206 Farsund\", \"variable\": \"uke13\", \"value\": 106}, {\"kommune\": \"4207 Flekkefjord\", \"variable\": \"uke13\", \"value\": 64}, {\"kommune\": \"4211 Gjerstad\", \"variable\": \"uke13\", \"value\": 21}, {\"kommune\": \"4212 Veg\\u00e5rshei\", \"variable\": \"uke13\", \"value\": 19}, {\"kommune\": \"4213 Tvedestrand\", \"variable\": \"uke13\", \"value\": 30}, {\"kommune\": \"4214 Froland\", \"variable\": \"uke13\", \"value\": 34}, {\"kommune\": \"4215 Lillesand\", \"variable\": \"uke13\", \"value\": 76}, {\"kommune\": \"4216 Birkenes\", \"variable\": \"uke13\", \"value\": 34}, {\"kommune\": \"4217 \\u00c5mli\", \"variable\": \"uke13\", \"value\": 7}, {\"kommune\": \"4218 Iveland\", \"variable\": \"uke13\", \"value\": 5}, {\"kommune\": \"4219 Evje og Hornnes\", \"variable\": \"uke13\", \"value\": 29}, {\"kommune\": \"4220 Bygland\", \"variable\": \"uke13\", \"value\": 10}, {\"kommune\": \"4221 Valle\", \"variable\": \"uke13\", \"value\": 8}, {\"kommune\": \"4222 Bykle\", \"variable\": \"uke13\", \"value\": 13}, {\"kommune\": \"4223 Vennesla\", \"variable\": \"uke13\", \"value\": 104}, {\"kommune\": \"4224 \\u00c5seral\", \"variable\": \"uke13\", \"value\": 6}, {\"kommune\": \"4225 Lyngdal\", \"variable\": \"uke13\", \"value\": 107}, {\"kommune\": \"4226 H\\u00e6gebostad\", \"variable\": \"uke13\", \"value\": 19}, {\"kommune\": \"4227 Kvinesdal\", \"variable\": \"uke13\", \"value\": 40}, {\"kommune\": \"4228 Sirdal\", \"variable\": \"uke13\", \"value\": 10}, {\"kommune\": \"4601 Bergen\", \"variable\": \"uke13\", \"value\": 2210}, {\"kommune\": \"4602 Kinn\", \"variable\": \"uke13\", \"value\": 74}, {\"kommune\": \"4611 Etne\", \"variable\": \"uke13\", \"value\": 18}, {\"kommune\": \"4612 Sveio\", \"variable\": \"uke13\", \"value\": 22}, {\"kommune\": \"4613 B\\u00f8mlo\", \"variable\": \"uke13\", \"value\": 71}, {\"kommune\": \"4614 Stord\", \"variable\": \"uke13\", \"value\": 109}, {\"kommune\": \"4615 Fitjar\", \"variable\": \"uke13\", \"value\": 18}, {\"kommune\": \"4616 Tysnes\", \"variable\": \"uke13\", \"value\": 6}, {\"kommune\": \"4617 Kvinnherad\", \"variable\": \"uke13\", \"value\": 48}, {\"kommune\": \"4618 Ullensvang\", \"variable\": \"uke13\", \"value\": 42}, {\"kommune\": \"4619 Eidfjord\", \"variable\": \"uke13\", \"value\": 6}, {\"kommune\": \"4620 Ulvik\", \"variable\": \"uke13\", \"value\": 5}, {\"kommune\": \"4621 Voss\", \"variable\": \"uke13\", \"value\": 155}, {\"kommune\": \"4622 Kvam\", \"variable\": \"uke13\", \"value\": 51}, {\"kommune\": \"4623 Samnanger\", \"variable\": \"uke13\", \"value\": 9}, {\"kommune\": \"4624 Bj\\u00f8rnafjorden\", \"variable\": \"uke13\", \"value\": 163}, {\"kommune\": \"4625 Austevoll\", \"variable\": \"uke13\", \"value\": 16}, {\"kommune\": \"4626 \\u00d8ygarden\", \"variable\": \"uke13\", \"value\": 281}, {\"kommune\": \"4627 Ask\\u00f8y\", \"variable\": \"uke13\", \"value\": 174}, {\"kommune\": \"4628 Vaksdal\", \"variable\": \"uke13\", \"value\": 23}, {\"kommune\": \"4629 Modalen\", \"variable\": \"uke13\", \"value\": 0}, {\"kommune\": \"4630 Oster\\u00f8y\", \"variable\": \"uke13\", \"value\": 44}, {\"kommune\": \"4631 Alver\", \"variable\": \"uke13\", \"value\": 168}, {\"kommune\": \"4632 Austrheim\", \"variable\": \"uke13\", \"value\": 15}, {\"kommune\": \"4633 Fedje\", \"variable\": \"uke13\", \"value\": 0}, {\"kommune\": \"4634 Masfjorden\", \"variable\": \"uke13\", \"value\": 0}, {\"kommune\": \"4635 Gulen\", \"variable\": \"uke13\", \"value\": 7}, {\"kommune\": \"4636 Solund\", \"variable\": \"uke13\", \"value\": 0}, {\"kommune\": \"4637 Hyllestad\", \"variable\": \"uke13\", \"value\": 20}, {\"kommune\": \"4638 H\\u00f8yanger\", \"variable\": \"uke13\", \"value\": 12}, {\"kommune\": \"4639 Vik\", \"variable\": \"uke13\", \"value\": 20}, {\"kommune\": \"4640 Sogndal\", \"variable\": \"uke13\", \"value\": 100}, {\"kommune\": \"4641 Aurland\", \"variable\": \"uke13\", \"value\": 24}, {\"kommune\": \"4642 L\\u00e6rdal\", \"variable\": \"uke13\", \"value\": 12}, {\"kommune\": \"4643 \\u00c5rdal\", \"variable\": \"uke13\", \"value\": 42}, {\"kommune\": \"4644 Luster\", \"variable\": \"uke13\", \"value\": 44}, {\"kommune\": \"4645 Askvoll\", \"variable\": \"uke13\", \"value\": 15}, {\"kommune\": \"4646 Fjaler\", \"variable\": \"uke13\", \"value\": 9}, {\"kommune\": \"4647 Sunnfjord\", \"variable\": \"uke13\", \"value\": 139}, {\"kommune\": \"4648 Bremanger\", \"variable\": \"uke13\", \"value\": 14}, {\"kommune\": \"4649 Stad\", \"variable\": \"uke13\", \"value\": 53}, {\"kommune\": \"4650 Gloppen\", \"variable\": \"uke13\", \"value\": 35}, {\"kommune\": \"4651 Stryn\", \"variable\": \"uke13\", \"value\": 75}, {\"kommune\": \"5001 Trondheim\", \"variable\": \"uke13\", \"value\": 1525}, {\"kommune\": \"5006 Steinkjer\", \"variable\": \"uke13\", \"value\": 139}, {\"kommune\": \"5007 Namsos\", \"variable\": \"uke13\", \"value\": 87}, {\"kommune\": \"5014 Fr\\u00f8ya\", \"variable\": \"uke13\", \"value\": 16}, {\"kommune\": \"5020 Osen\", \"variable\": \"uke13\", \"value\": 0}, {\"kommune\": \"5021 Oppdal\", \"variable\": \"uke13\", \"value\": 101}, {\"kommune\": \"5022 Rennebu\", \"variable\": \"uke13\", \"value\": 17}, {\"kommune\": \"5025 R\\u00f8ros\", \"variable\": \"uke13\", \"value\": 67}, {\"kommune\": \"5026 Holt\\u00e5len\", \"variable\": \"uke13\", \"value\": 20}, {\"kommune\": \"5027 Midtre Gauldal\", \"variable\": \"uke13\", \"value\": 32}, {\"kommune\": \"5028 Melhus\", \"variable\": \"uke13\", \"value\": 116}, {\"kommune\": \"5029 Skaun\", \"variable\": \"uke13\", \"value\": 48}, {\"kommune\": \"5031 Malvik\", \"variable\": \"uke13\", \"value\": 93}, {\"kommune\": \"5032 Selbu\", \"variable\": \"uke13\", \"value\": 27}, {\"kommune\": \"5033 Tydal\", \"variable\": \"uke13\", \"value\": 4}, {\"kommune\": \"5034 Mer\\u00e5ker\", \"variable\": \"uke13\", \"value\": 14}, {\"kommune\": \"5035 Stj\\u00f8rdal\", \"variable\": \"uke13\", \"value\": 229}, {\"kommune\": \"5036 Frosta\", \"variable\": \"uke13\", \"value\": 20}, {\"kommune\": \"5037 Levanger\", \"variable\": \"uke13\", \"value\": 122}, {\"kommune\": \"5038 Verdal\", \"variable\": \"uke13\", \"value\": 76}, {\"kommune\": \"5041 Sn\\u00e5ase - Sn\\u00e5sa\", \"variable\": \"uke13\", \"value\": 16}, {\"kommune\": \"5042 Lierne\", \"variable\": \"uke13\", \"value\": 6}, {\"kommune\": \"5043 Raarvihke - R\\u00f8yrvik\", \"variable\": \"uke13\", \"value\": 0}, {\"kommune\": \"5044 Namsskogan\", \"variable\": \"uke13\", \"value\": 10}, {\"kommune\": \"5045 Grong\", \"variable\": \"uke13\", \"value\": 10}, {\"kommune\": \"5046 H\\u00f8ylandet\", \"variable\": \"uke13\", \"value\": 10}, {\"kommune\": \"5047 Overhalla\", \"variable\": \"uke13\", \"value\": 20}, {\"kommune\": \"5049 Flatanger\", \"variable\": \"uke13\", \"value\": 6}, {\"kommune\": \"5052 Leka\", \"variable\": \"uke13\", \"value\": 0}, {\"kommune\": \"5053 Inder\\u00f8y\", \"variable\": \"uke13\", \"value\": 43}, {\"kommune\": \"5054 Indre Fosen\", \"variable\": \"uke13\", \"value\": 67}, {\"kommune\": \"5055 Heim\", \"variable\": \"uke13\", \"value\": 32}, {\"kommune\": \"5056 Hitra\", \"variable\": \"uke13\", \"value\": 30}, {\"kommune\": \"5057 \\u00d8rland\", \"variable\": \"uke13\", \"value\": 50}, {\"kommune\": \"5058 \\u00c5fjord\", \"variable\": \"uke13\", \"value\": 22}, {\"kommune\": \"5059 Orkland\", \"variable\": \"uke13\", \"value\": 130}, {\"kommune\": \"5060 N\\u00e6r\\u00f8ysund\", \"variable\": \"uke13\", \"value\": 40}, {\"kommune\": \"5061 Rindal\", \"variable\": \"uke13\", \"value\": 13}, {\"kommune\": \"5401 Troms\\u00f8\", \"variable\": \"uke13\", \"value\": 694}, {\"kommune\": \"5402 Harstad\", \"variable\": \"uke13\", \"value\": 173}, {\"kommune\": \"5403 Alta\", \"variable\": \"uke13\", \"value\": 200}, {\"kommune\": \"5404 Vard\\u00f8\", \"variable\": \"uke13\", \"value\": 4}, {\"kommune\": \"5405 Vads\\u00f8\", \"variable\": \"uke13\", \"value\": 54}, {\"kommune\": \"5406 Hammerfest\", \"variable\": \"uke13\", \"value\": 75}, {\"kommune\": \"5411 Kv\\u00e6fjord\", \"variable\": \"uke13\", \"value\": 10}, {\"kommune\": \"5412 Tjeldsund\", \"variable\": \"uke13\", \"value\": 28}, {\"kommune\": \"5413 Ibestad\", \"variable\": \"uke13\", \"value\": 8}, {\"kommune\": \"5414 Gratangen\", \"variable\": \"uke13\", \"value\": 0}, {\"kommune\": \"5415 Loab\\u00e1k - Lavangen\", \"variable\": \"uke13\", \"value\": 0}, {\"kommune\": \"5416 Bardu\", \"variable\": \"uke13\", \"value\": 14}, {\"kommune\": \"5417 Salangen\", \"variable\": \"uke13\", \"value\": 11}, {\"kommune\": \"5418 M\\u00e5lselv\", \"variable\": \"uke13\", \"value\": 28}, {\"kommune\": \"5419 S\\u00f8rreisa\", \"variable\": \"uke13\", \"value\": 17}, {\"kommune\": \"5420 Dyr\\u00f8y\", \"variable\": \"uke13\", \"value\": 7}, {\"kommune\": \"5421 Senja\", \"variable\": \"uke13\", \"value\": 82}, {\"kommune\": \"5422 Balsfjord\", \"variable\": \"uke13\", \"value\": 39}, {\"kommune\": \"5423 Karls\\u00f8y\", \"variable\": \"uke13\", \"value\": 11}, {\"kommune\": \"5424 Lyngen\", \"variable\": \"uke13\", \"value\": 12}, {\"kommune\": \"5425 Storfjord - Omasvuotna - Omasvuono\", \"variable\": \"uke13\", \"value\": 14}, {\"kommune\": \"5426 G\\u00e1ivuotna - K\\u00e5fjord - Kaivuono\", \"variable\": \"uke13\", \"value\": 8}, {\"kommune\": \"5427 Skjerv\\u00f8y\", \"variable\": \"uke13\", \"value\": 8}, {\"kommune\": \"5428 Nordreisa\", \"variable\": \"uke13\", \"value\": 31}, {\"kommune\": \"5429 Kv\\u00e6nangen\", \"variable\": \"uke13\", \"value\": 5}, {\"kommune\": \"5430 Guovdageaidnu - Kautokeino\", \"variable\": \"uke13\", \"value\": 13}, {\"kommune\": \"5432 Loppa\", \"variable\": \"uke13\", \"value\": 13}, {\"kommune\": \"5433 Hasvik\", \"variable\": \"uke13\", \"value\": 0}, {\"kommune\": \"5434 M\\u00e5s\\u00f8y\", \"variable\": \"uke13\", \"value\": 4}, {\"kommune\": \"5435 Nordkapp\", \"variable\": \"uke13\", \"value\": 18}, {\"kommune\": \"5436 Porsanger - Pors\\u00e1ngu - Porsanki\", \"variable\": \"uke13\", \"value\": 22}, {\"kommune\": \"5437 K\\u00e1r\\u00e1\\u0161johka - Karasjok\", \"variable\": \"uke13\", \"value\": 20}, {\"kommune\": \"5438 Lebesby\", \"variable\": \"uke13\", \"value\": 9}, {\"kommune\": \"5439 Gamvik\", \"variable\": \"uke13\", \"value\": 19}, {\"kommune\": \"5440 Berlev\\u00e5g\", \"variable\": \"uke13\", \"value\": 4}, {\"kommune\": \"5441 Deatnu - Tana\", \"variable\": \"uke13\", \"value\": 13}, {\"kommune\": \"5442 Unj\\u00e1rga - Nesseby\", \"variable\": \"uke13\", \"value\": 0}, {\"kommune\": \"5443 B\\u00e5tsfjord\", \"variable\": \"uke13\", \"value\": 22}, {\"kommune\": \"5444 S\\u00f8r-Varanger\", \"variable\": \"uke13\", \"value\": 114}, {\"kommune\": \"9999 Ukjent\", \"variable\": \"uke13\", \"value\": 3300}]}}, {\"mode\": \"vega-lite\"});\n</script>",
      "text/plain": "alt.Chart(...)"
     },
     "metadata": {},
     "execution_count": 128
    }
   ],
   "source": [
    "fig = alt.Chart(source).mark_bar().encode(\n",
    "    x=alt.X('sum(value):Q',axis=alt.Axis(title='')),\n",
    "    y=alt.Y('variable:N',axis=alt.Axis(title='')),\n",
    "    color=alt.Color('kommune:N',legend=None),\n",
    "    order=alt.Order(\n",
    "      'value',\n",
    "      sort='descending'\n",
    "    ),\n",
    "    tooltip=[alt.Tooltip('kommune', title='Kommune'),\n",
    "             alt.Tooltip('variable', title='Uke'),\n",
    "             alt.Tooltip('sum(value)', title='Antall')]\n",
    ")\n",
    "\n",
    "fig"
   ]
  },
  {
   "cell_type": "code",
   "execution_count": 132,
   "metadata": {},
   "outputs": [],
   "source": [
    "description = \"\"\"\n",
    "## Sum antall søknader om dagpenger ved permittering\n",
    "\n",
    "\"\"\"\n",
    "\n",
    "dp.vega(fig,\"Antall pr uke og kommune\", description)"
   ]
  },
  {
   "cell_type": "markdown",
   "metadata": {},
   "source": [
    "## Utvikling andel pr uke & kommune"
   ]
  },
  {
   "cell_type": "code",
   "execution_count": 135,
   "metadata": {},
   "outputs": [],
   "source": [
    "source = df_p[['kommune', 'uke11_andel', 'uke12_andel', 'uke13_andel']]\n",
    "source = source.melt(id_vars='kommune')"
   ]
  },
  {
   "cell_type": "code",
   "execution_count": 138,
   "metadata": {},
   "outputs": [
    {
     "output_type": "error",
     "ename": "ValueError",
     "evalue": "kommune encoding field is specified without a type; the type cannot be inferred because it does not match any column in the data.",
     "traceback": [
      "\u001b[0;31m---------------------------------------------------------------------------\u001b[0m",
      "\u001b[0;31mValueError\u001b[0m                                Traceback (most recent call last)",
      "\u001b[0;32m~/anaconda3/envs/dv/lib/python3.7/site-packages/altair/vegalite/v4/api.py\u001b[0m in \u001b[0;36mto_dict\u001b[0;34m(self, *args, **kwargs)\u001b[0m\n\u001b[1;32m    363\u001b[0m \u001b[0;34m\u001b[0m\u001b[0m\n\u001b[1;32m    364\u001b[0m         \u001b[0;32mtry\u001b[0m\u001b[0;34m:\u001b[0m\u001b[0;34m\u001b[0m\u001b[0;34m\u001b[0m\u001b[0m\n\u001b[0;32m--> 365\u001b[0;31m             \u001b[0mdct\u001b[0m \u001b[0;34m=\u001b[0m \u001b[0msuper\u001b[0m\u001b[0;34m(\u001b[0m\u001b[0mTopLevelMixin\u001b[0m\u001b[0;34m,\u001b[0m \u001b[0mcopy\u001b[0m\u001b[0;34m)\u001b[0m\u001b[0;34m.\u001b[0m\u001b[0mto_dict\u001b[0m\u001b[0;34m(\u001b[0m\u001b[0;34m*\u001b[0m\u001b[0margs\u001b[0m\u001b[0;34m,\u001b[0m \u001b[0;34m**\u001b[0m\u001b[0mkwargs\u001b[0m\u001b[0;34m)\u001b[0m\u001b[0;34m\u001b[0m\u001b[0;34m\u001b[0m\u001b[0m\n\u001b[0m\u001b[1;32m    366\u001b[0m         \u001b[0;32mexcept\u001b[0m \u001b[0mjsonschema\u001b[0m\u001b[0;34m.\u001b[0m\u001b[0mValidationError\u001b[0m\u001b[0;34m:\u001b[0m\u001b[0;34m\u001b[0m\u001b[0;34m\u001b[0m\u001b[0m\n\u001b[1;32m    367\u001b[0m             \u001b[0mdct\u001b[0m \u001b[0;34m=\u001b[0m \u001b[0;32mNone\u001b[0m\u001b[0;34m\u001b[0m\u001b[0;34m\u001b[0m\u001b[0m\n",
      "\u001b[0;32m~/anaconda3/envs/dv/lib/python3.7/site-packages/altair/utils/schemapi.py\u001b[0m in \u001b[0;36mto_dict\u001b[0;34m(self, validate, ignore, context)\u001b[0m\n\u001b[1;32m    297\u001b[0m             result = _todict({k: v for k, v in self._kwds.items()\n\u001b[1;32m    298\u001b[0m                               if k not in ignore},\n\u001b[0;32m--> 299\u001b[0;31m                               validate=sub_validate, context=context)\n\u001b[0m\u001b[1;32m    300\u001b[0m         \u001b[0;32melse\u001b[0m\u001b[0;34m:\u001b[0m\u001b[0;34m\u001b[0m\u001b[0;34m\u001b[0m\u001b[0m\n\u001b[1;32m    301\u001b[0m             raise ValueError(\"{} instance has both a value and properties : \"\n",
      "\u001b[0;32m~/anaconda3/envs/dv/lib/python3.7/site-packages/altair/utils/schemapi.py\u001b[0m in \u001b[0;36m_todict\u001b[0;34m(obj, validate, context)\u001b[0m\n\u001b[1;32m     58\u001b[0m         \u001b[0;32mreturn\u001b[0m \u001b[0;34m[\u001b[0m\u001b[0m_todict\u001b[0m\u001b[0;34m(\u001b[0m\u001b[0mv\u001b[0m\u001b[0;34m,\u001b[0m \u001b[0mvalidate\u001b[0m\u001b[0;34m,\u001b[0m \u001b[0mcontext\u001b[0m\u001b[0;34m)\u001b[0m \u001b[0;32mfor\u001b[0m \u001b[0mv\u001b[0m \u001b[0;32min\u001b[0m \u001b[0mobj\u001b[0m\u001b[0;34m]\u001b[0m\u001b[0;34m\u001b[0m\u001b[0;34m\u001b[0m\u001b[0m\n\u001b[1;32m     59\u001b[0m     \u001b[0;32melif\u001b[0m \u001b[0misinstance\u001b[0m\u001b[0;34m(\u001b[0m\u001b[0mobj\u001b[0m\u001b[0;34m,\u001b[0m \u001b[0mdict\u001b[0m\u001b[0;34m)\u001b[0m\u001b[0;34m:\u001b[0m\u001b[0;34m\u001b[0m\u001b[0;34m\u001b[0m\u001b[0m\n\u001b[0;32m---> 60\u001b[0;31m         return {k: _todict(v, validate, context) for k, v in obj.items()\n\u001b[0m\u001b[1;32m     61\u001b[0m                 if v is not Undefined}\n\u001b[1;32m     62\u001b[0m     \u001b[0;32melif\u001b[0m \u001b[0mhasattr\u001b[0m\u001b[0;34m(\u001b[0m\u001b[0mobj\u001b[0m\u001b[0;34m,\u001b[0m \u001b[0;34m'to_dict'\u001b[0m\u001b[0;34m)\u001b[0m\u001b[0;34m:\u001b[0m\u001b[0;34m\u001b[0m\u001b[0;34m\u001b[0m\u001b[0m\n",
      "\u001b[0;32m~/anaconda3/envs/dv/lib/python3.7/site-packages/altair/utils/schemapi.py\u001b[0m in \u001b[0;36m<dictcomp>\u001b[0;34m(.0)\u001b[0m\n\u001b[1;32m     59\u001b[0m     \u001b[0;32melif\u001b[0m \u001b[0misinstance\u001b[0m\u001b[0;34m(\u001b[0m\u001b[0mobj\u001b[0m\u001b[0;34m,\u001b[0m \u001b[0mdict\u001b[0m\u001b[0;34m)\u001b[0m\u001b[0;34m:\u001b[0m\u001b[0;34m\u001b[0m\u001b[0;34m\u001b[0m\u001b[0m\n\u001b[1;32m     60\u001b[0m         return {k: _todict(v, validate, context) for k, v in obj.items()\n\u001b[0;32m---> 61\u001b[0;31m                 if v is not Undefined}\n\u001b[0m\u001b[1;32m     62\u001b[0m     \u001b[0;32melif\u001b[0m \u001b[0mhasattr\u001b[0m\u001b[0;34m(\u001b[0m\u001b[0mobj\u001b[0m\u001b[0;34m,\u001b[0m \u001b[0;34m'to_dict'\u001b[0m\u001b[0;34m)\u001b[0m\u001b[0;34m:\u001b[0m\u001b[0;34m\u001b[0m\u001b[0;34m\u001b[0m\u001b[0m\n\u001b[1;32m     63\u001b[0m         \u001b[0;32mreturn\u001b[0m \u001b[0mobj\u001b[0m\u001b[0;34m.\u001b[0m\u001b[0mto_dict\u001b[0m\u001b[0;34m(\u001b[0m\u001b[0;34m)\u001b[0m\u001b[0;34m\u001b[0m\u001b[0;34m\u001b[0m\u001b[0m\n",
      "\u001b[0;32m~/anaconda3/envs/dv/lib/python3.7/site-packages/altair/utils/schemapi.py\u001b[0m in \u001b[0;36m_todict\u001b[0;34m(obj, validate, context)\u001b[0m\n\u001b[1;32m     54\u001b[0m     \u001b[0;34m\"\"\"Convert an object to a dict representation.\"\"\"\u001b[0m\u001b[0;34m\u001b[0m\u001b[0;34m\u001b[0m\u001b[0m\n\u001b[1;32m     55\u001b[0m     \u001b[0;32mif\u001b[0m \u001b[0misinstance\u001b[0m\u001b[0;34m(\u001b[0m\u001b[0mobj\u001b[0m\u001b[0;34m,\u001b[0m \u001b[0mSchemaBase\u001b[0m\u001b[0;34m)\u001b[0m\u001b[0;34m:\u001b[0m\u001b[0;34m\u001b[0m\u001b[0;34m\u001b[0m\u001b[0m\n\u001b[0;32m---> 56\u001b[0;31m         \u001b[0;32mreturn\u001b[0m \u001b[0mobj\u001b[0m\u001b[0;34m.\u001b[0m\u001b[0mto_dict\u001b[0m\u001b[0;34m(\u001b[0m\u001b[0mvalidate\u001b[0m\u001b[0;34m=\u001b[0m\u001b[0mvalidate\u001b[0m\u001b[0;34m,\u001b[0m \u001b[0mcontext\u001b[0m\u001b[0;34m=\u001b[0m\u001b[0mcontext\u001b[0m\u001b[0;34m)\u001b[0m\u001b[0;34m\u001b[0m\u001b[0;34m\u001b[0m\u001b[0m\n\u001b[0m\u001b[1;32m     57\u001b[0m     \u001b[0;32melif\u001b[0m \u001b[0misinstance\u001b[0m\u001b[0;34m(\u001b[0m\u001b[0mobj\u001b[0m\u001b[0;34m,\u001b[0m \u001b[0;34m(\u001b[0m\u001b[0mlist\u001b[0m\u001b[0;34m,\u001b[0m \u001b[0mtuple\u001b[0m\u001b[0;34m)\u001b[0m\u001b[0;34m)\u001b[0m\u001b[0;34m:\u001b[0m\u001b[0;34m\u001b[0m\u001b[0;34m\u001b[0m\u001b[0m\n\u001b[1;32m     58\u001b[0m         \u001b[0;32mreturn\u001b[0m \u001b[0;34m[\u001b[0m\u001b[0m_todict\u001b[0m\u001b[0;34m(\u001b[0m\u001b[0mv\u001b[0m\u001b[0;34m,\u001b[0m \u001b[0mvalidate\u001b[0m\u001b[0;34m,\u001b[0m \u001b[0mcontext\u001b[0m\u001b[0;34m)\u001b[0m \u001b[0;32mfor\u001b[0m \u001b[0mv\u001b[0m \u001b[0;32min\u001b[0m \u001b[0mobj\u001b[0m\u001b[0;34m]\u001b[0m\u001b[0;34m\u001b[0m\u001b[0;34m\u001b[0m\u001b[0m\n",
      "\u001b[0;32m~/anaconda3/envs/dv/lib/python3.7/site-packages/altair/utils/schemapi.py\u001b[0m in \u001b[0;36mto_dict\u001b[0;34m(self, validate, ignore, context)\u001b[0m\n\u001b[1;32m    297\u001b[0m             result = _todict({k: v for k, v in self._kwds.items()\n\u001b[1;32m    298\u001b[0m                               if k not in ignore},\n\u001b[0;32m--> 299\u001b[0;31m                               validate=sub_validate, context=context)\n\u001b[0m\u001b[1;32m    300\u001b[0m         \u001b[0;32melse\u001b[0m\u001b[0;34m:\u001b[0m\u001b[0;34m\u001b[0m\u001b[0;34m\u001b[0m\u001b[0m\n\u001b[1;32m    301\u001b[0m             raise ValueError(\"{} instance has both a value and properties : \"\n",
      "\u001b[0;32m~/anaconda3/envs/dv/lib/python3.7/site-packages/altair/utils/schemapi.py\u001b[0m in \u001b[0;36m_todict\u001b[0;34m(obj, validate, context)\u001b[0m\n\u001b[1;32m     58\u001b[0m         \u001b[0;32mreturn\u001b[0m \u001b[0;34m[\u001b[0m\u001b[0m_todict\u001b[0m\u001b[0;34m(\u001b[0m\u001b[0mv\u001b[0m\u001b[0;34m,\u001b[0m \u001b[0mvalidate\u001b[0m\u001b[0;34m,\u001b[0m \u001b[0mcontext\u001b[0m\u001b[0;34m)\u001b[0m \u001b[0;32mfor\u001b[0m \u001b[0mv\u001b[0m \u001b[0;32min\u001b[0m \u001b[0mobj\u001b[0m\u001b[0;34m]\u001b[0m\u001b[0;34m\u001b[0m\u001b[0;34m\u001b[0m\u001b[0m\n\u001b[1;32m     59\u001b[0m     \u001b[0;32melif\u001b[0m \u001b[0misinstance\u001b[0m\u001b[0;34m(\u001b[0m\u001b[0mobj\u001b[0m\u001b[0;34m,\u001b[0m \u001b[0mdict\u001b[0m\u001b[0;34m)\u001b[0m\u001b[0;34m:\u001b[0m\u001b[0;34m\u001b[0m\u001b[0;34m\u001b[0m\u001b[0m\n\u001b[0;32m---> 60\u001b[0;31m         return {k: _todict(v, validate, context) for k, v in obj.items()\n\u001b[0m\u001b[1;32m     61\u001b[0m                 if v is not Undefined}\n\u001b[1;32m     62\u001b[0m     \u001b[0;32melif\u001b[0m \u001b[0mhasattr\u001b[0m\u001b[0;34m(\u001b[0m\u001b[0mobj\u001b[0m\u001b[0;34m,\u001b[0m \u001b[0;34m'to_dict'\u001b[0m\u001b[0;34m)\u001b[0m\u001b[0;34m:\u001b[0m\u001b[0;34m\u001b[0m\u001b[0;34m\u001b[0m\u001b[0m\n",
      "\u001b[0;32m~/anaconda3/envs/dv/lib/python3.7/site-packages/altair/utils/schemapi.py\u001b[0m in \u001b[0;36m<dictcomp>\u001b[0;34m(.0)\u001b[0m\n\u001b[1;32m     59\u001b[0m     \u001b[0;32melif\u001b[0m \u001b[0misinstance\u001b[0m\u001b[0;34m(\u001b[0m\u001b[0mobj\u001b[0m\u001b[0;34m,\u001b[0m \u001b[0mdict\u001b[0m\u001b[0;34m)\u001b[0m\u001b[0;34m:\u001b[0m\u001b[0;34m\u001b[0m\u001b[0;34m\u001b[0m\u001b[0m\n\u001b[1;32m     60\u001b[0m         return {k: _todict(v, validate, context) for k, v in obj.items()\n\u001b[0;32m---> 61\u001b[0;31m                 if v is not Undefined}\n\u001b[0m\u001b[1;32m     62\u001b[0m     \u001b[0;32melif\u001b[0m \u001b[0mhasattr\u001b[0m\u001b[0;34m(\u001b[0m\u001b[0mobj\u001b[0m\u001b[0;34m,\u001b[0m \u001b[0;34m'to_dict'\u001b[0m\u001b[0;34m)\u001b[0m\u001b[0;34m:\u001b[0m\u001b[0;34m\u001b[0m\u001b[0;34m\u001b[0m\u001b[0m\n\u001b[1;32m     63\u001b[0m         \u001b[0;32mreturn\u001b[0m \u001b[0mobj\u001b[0m\u001b[0;34m.\u001b[0m\u001b[0mto_dict\u001b[0m\u001b[0;34m(\u001b[0m\u001b[0;34m)\u001b[0m\u001b[0;34m\u001b[0m\u001b[0;34m\u001b[0m\u001b[0m\n",
      "\u001b[0;32m~/anaconda3/envs/dv/lib/python3.7/site-packages/altair/utils/schemapi.py\u001b[0m in \u001b[0;36m_todict\u001b[0;34m(obj, validate, context)\u001b[0m\n\u001b[1;32m     56\u001b[0m         \u001b[0;32mreturn\u001b[0m \u001b[0mobj\u001b[0m\u001b[0;34m.\u001b[0m\u001b[0mto_dict\u001b[0m\u001b[0;34m(\u001b[0m\u001b[0mvalidate\u001b[0m\u001b[0;34m=\u001b[0m\u001b[0mvalidate\u001b[0m\u001b[0;34m,\u001b[0m \u001b[0mcontext\u001b[0m\u001b[0;34m=\u001b[0m\u001b[0mcontext\u001b[0m\u001b[0;34m)\u001b[0m\u001b[0;34m\u001b[0m\u001b[0;34m\u001b[0m\u001b[0m\n\u001b[1;32m     57\u001b[0m     \u001b[0;32melif\u001b[0m \u001b[0misinstance\u001b[0m\u001b[0;34m(\u001b[0m\u001b[0mobj\u001b[0m\u001b[0;34m,\u001b[0m \u001b[0;34m(\u001b[0m\u001b[0mlist\u001b[0m\u001b[0;34m,\u001b[0m \u001b[0mtuple\u001b[0m\u001b[0;34m)\u001b[0m\u001b[0;34m)\u001b[0m\u001b[0;34m:\u001b[0m\u001b[0;34m\u001b[0m\u001b[0;34m\u001b[0m\u001b[0m\n\u001b[0;32m---> 58\u001b[0;31m         \u001b[0;32mreturn\u001b[0m \u001b[0;34m[\u001b[0m\u001b[0m_todict\u001b[0m\u001b[0;34m(\u001b[0m\u001b[0mv\u001b[0m\u001b[0;34m,\u001b[0m \u001b[0mvalidate\u001b[0m\u001b[0;34m,\u001b[0m \u001b[0mcontext\u001b[0m\u001b[0;34m)\u001b[0m \u001b[0;32mfor\u001b[0m \u001b[0mv\u001b[0m \u001b[0;32min\u001b[0m \u001b[0mobj\u001b[0m\u001b[0;34m]\u001b[0m\u001b[0;34m\u001b[0m\u001b[0;34m\u001b[0m\u001b[0m\n\u001b[0m\u001b[1;32m     59\u001b[0m     \u001b[0;32melif\u001b[0m \u001b[0misinstance\u001b[0m\u001b[0;34m(\u001b[0m\u001b[0mobj\u001b[0m\u001b[0;34m,\u001b[0m \u001b[0mdict\u001b[0m\u001b[0;34m)\u001b[0m\u001b[0;34m:\u001b[0m\u001b[0;34m\u001b[0m\u001b[0;34m\u001b[0m\u001b[0m\n\u001b[1;32m     60\u001b[0m         return {k: _todict(v, validate, context) for k, v in obj.items()\n",
      "\u001b[0;32m~/anaconda3/envs/dv/lib/python3.7/site-packages/altair/utils/schemapi.py\u001b[0m in \u001b[0;36m<listcomp>\u001b[0;34m(.0)\u001b[0m\n\u001b[1;32m     56\u001b[0m         \u001b[0;32mreturn\u001b[0m \u001b[0mobj\u001b[0m\u001b[0;34m.\u001b[0m\u001b[0mto_dict\u001b[0m\u001b[0;34m(\u001b[0m\u001b[0mvalidate\u001b[0m\u001b[0;34m=\u001b[0m\u001b[0mvalidate\u001b[0m\u001b[0;34m,\u001b[0m \u001b[0mcontext\u001b[0m\u001b[0;34m=\u001b[0m\u001b[0mcontext\u001b[0m\u001b[0;34m)\u001b[0m\u001b[0;34m\u001b[0m\u001b[0;34m\u001b[0m\u001b[0m\n\u001b[1;32m     57\u001b[0m     \u001b[0;32melif\u001b[0m \u001b[0misinstance\u001b[0m\u001b[0;34m(\u001b[0m\u001b[0mobj\u001b[0m\u001b[0;34m,\u001b[0m \u001b[0;34m(\u001b[0m\u001b[0mlist\u001b[0m\u001b[0;34m,\u001b[0m \u001b[0mtuple\u001b[0m\u001b[0;34m)\u001b[0m\u001b[0;34m)\u001b[0m\u001b[0;34m:\u001b[0m\u001b[0;34m\u001b[0m\u001b[0;34m\u001b[0m\u001b[0m\n\u001b[0;32m---> 58\u001b[0;31m         \u001b[0;32mreturn\u001b[0m \u001b[0;34m[\u001b[0m\u001b[0m_todict\u001b[0m\u001b[0;34m(\u001b[0m\u001b[0mv\u001b[0m\u001b[0;34m,\u001b[0m \u001b[0mvalidate\u001b[0m\u001b[0;34m,\u001b[0m \u001b[0mcontext\u001b[0m\u001b[0;34m)\u001b[0m \u001b[0;32mfor\u001b[0m \u001b[0mv\u001b[0m \u001b[0;32min\u001b[0m \u001b[0mobj\u001b[0m\u001b[0;34m]\u001b[0m\u001b[0;34m\u001b[0m\u001b[0;34m\u001b[0m\u001b[0m\n\u001b[0m\u001b[1;32m     59\u001b[0m     \u001b[0;32melif\u001b[0m \u001b[0misinstance\u001b[0m\u001b[0;34m(\u001b[0m\u001b[0mobj\u001b[0m\u001b[0;34m,\u001b[0m \u001b[0mdict\u001b[0m\u001b[0;34m)\u001b[0m\u001b[0;34m:\u001b[0m\u001b[0;34m\u001b[0m\u001b[0;34m\u001b[0m\u001b[0m\n\u001b[1;32m     60\u001b[0m         return {k: _todict(v, validate, context) for k, v in obj.items()\n",
      "\u001b[0;32m~/anaconda3/envs/dv/lib/python3.7/site-packages/altair/utils/schemapi.py\u001b[0m in \u001b[0;36m_todict\u001b[0;34m(obj, validate, context)\u001b[0m\n\u001b[1;32m     54\u001b[0m     \u001b[0;34m\"\"\"Convert an object to a dict representation.\"\"\"\u001b[0m\u001b[0;34m\u001b[0m\u001b[0;34m\u001b[0m\u001b[0m\n\u001b[1;32m     55\u001b[0m     \u001b[0;32mif\u001b[0m \u001b[0misinstance\u001b[0m\u001b[0;34m(\u001b[0m\u001b[0mobj\u001b[0m\u001b[0;34m,\u001b[0m \u001b[0mSchemaBase\u001b[0m\u001b[0;34m)\u001b[0m\u001b[0;34m:\u001b[0m\u001b[0;34m\u001b[0m\u001b[0;34m\u001b[0m\u001b[0m\n\u001b[0;32m---> 56\u001b[0;31m         \u001b[0;32mreturn\u001b[0m \u001b[0mobj\u001b[0m\u001b[0;34m.\u001b[0m\u001b[0mto_dict\u001b[0m\u001b[0;34m(\u001b[0m\u001b[0mvalidate\u001b[0m\u001b[0;34m=\u001b[0m\u001b[0mvalidate\u001b[0m\u001b[0;34m,\u001b[0m \u001b[0mcontext\u001b[0m\u001b[0;34m=\u001b[0m\u001b[0mcontext\u001b[0m\u001b[0;34m)\u001b[0m\u001b[0;34m\u001b[0m\u001b[0;34m\u001b[0m\u001b[0m\n\u001b[0m\u001b[1;32m     57\u001b[0m     \u001b[0;32melif\u001b[0m \u001b[0misinstance\u001b[0m\u001b[0;34m(\u001b[0m\u001b[0mobj\u001b[0m\u001b[0;34m,\u001b[0m \u001b[0;34m(\u001b[0m\u001b[0mlist\u001b[0m\u001b[0;34m,\u001b[0m \u001b[0mtuple\u001b[0m\u001b[0;34m)\u001b[0m\u001b[0;34m)\u001b[0m\u001b[0;34m:\u001b[0m\u001b[0;34m\u001b[0m\u001b[0;34m\u001b[0m\u001b[0m\n\u001b[1;32m     58\u001b[0m         \u001b[0;32mreturn\u001b[0m \u001b[0;34m[\u001b[0m\u001b[0m_todict\u001b[0m\u001b[0;34m(\u001b[0m\u001b[0mv\u001b[0m\u001b[0;34m,\u001b[0m \u001b[0mvalidate\u001b[0m\u001b[0;34m,\u001b[0m \u001b[0mcontext\u001b[0m\u001b[0;34m)\u001b[0m \u001b[0;32mfor\u001b[0m \u001b[0mv\u001b[0m \u001b[0;32min\u001b[0m \u001b[0mobj\u001b[0m\u001b[0;34m]\u001b[0m\u001b[0;34m\u001b[0m\u001b[0;34m\u001b[0m\u001b[0m\n",
      "\u001b[0;32m~/anaconda3/envs/dv/lib/python3.7/site-packages/altair/vegalite/v4/schema/channels.py\u001b[0m in \u001b[0;36mto_dict\u001b[0;34m(self, validate, ignore, context)\u001b[0m\n\u001b[1;32m     42\u001b[0m                     raise ValueError(\"{} encoding field is specified without a type; \"\n\u001b[1;32m     43\u001b[0m                                      \u001b[0;34m\"the type cannot be inferred because it does not \"\u001b[0m\u001b[0;34m\u001b[0m\u001b[0;34m\u001b[0m\u001b[0m\n\u001b[0;32m---> 44\u001b[0;31m                                      \"match any column in the data.\".format(shorthand))\n\u001b[0m\u001b[1;32m     45\u001b[0m                 \u001b[0;32melse\u001b[0m\u001b[0;34m:\u001b[0m\u001b[0;34m\u001b[0m\u001b[0;34m\u001b[0m\u001b[0m\n\u001b[1;32m     46\u001b[0m                     raise ValueError(\"{} encoding field is specified without a type; \"\n",
      "\u001b[0;31mValueError\u001b[0m: kommune encoding field is specified without a type; the type cannot be inferred because it does not match any column in the data."
     ]
    }
   ],
   "source": [
    "fig = alt.Chart(source).mark_bar().encode(\n",
    "    x=alt.X('sum(value):Q',axis=alt.Axis(title='')),\n",
    "    y=alt.Y('variable:N',axis=alt.Axis(title='')),\n",
    "    color=alt.Color('kommune:N',legend=None),\n",
    "    order=alt.Order(\n",
    "      'value',\n",
    "      sort='descending'\n",
    "    ),\n",
    "    tooltip=[alt.Tooltip('kommune', title='Kommune'),\n",
    "             alt.Tooltip('variable', title='Uke'),\n",
    "             alt.Tooltip('sum(value)', title='Antall')]\n",
    ")\n",
    "\n",
    "fig"
   ]
  },
  {
   "cell_type": "code",
   "execution_count": 142,
   "metadata": {},
   "outputs": [],
   "source": [
    "description = \"\"\"\n",
    "## Sum antall søknader om dagpenger ved permittering som andel av arbeidsstyrken\n",
    "\n",
    "\"\"\"\n",
    "\n",
    "dp.vega(fig,\"Andel pr uke og kommune\", description)"
   ]
  },
  {
   "cell_type": "markdown",
   "metadata": {},
   "source": [
    "# Næringer"
   ]
  },
  {
   "cell_type": "code",
   "execution_count": 144,
   "metadata": {},
   "outputs": [
    {
     "output_type": "execute_result",
     "data": {
      "text/plain": "['Om statistikken',\n 'Forklaring tall',\n 'Næringsgruppe. Søknad permitter',\n 'Næringsgruppe pr fylke.Søknad p',\n 'Næringsgruppe. Andel. Søknad pe',\n 'Næring. Søknad permitterte',\n 'Næringsgruppe. Søknad ordinære']"
     },
     "metadata": {},
     "execution_count": 144
    }
   ],
   "source": [
    "xl_n = pd.ExcelFile(EXCEL_URL_NÆRING)\n",
    "xl_n.sheet_names"
   ]
  },
  {
   "cell_type": "markdown",
   "metadata": {},
   "source": [
    "## Næringer liste"
   ]
  },
  {
   "cell_type": "code",
   "execution_count": 145,
   "metadata": {},
   "outputs": [],
   "source": [
    "df_n = pd.read_excel(EXCEL_URL_NÆRING,sheet_name='Næring. Søknad permitterte', header=11)\n",
    "df_n.drop(columns=[\"Unnamed: 0\",\"Unnamed: 3\",\"Unnamed: 6\",\"Unnamed: 7\",\"Unnamed: 8\"], axis=1, inplace=True)\n",
    "df_n.rename(columns={157: \"personer\", 106: \"virksomheter\", '00': \"næring_kode\",'Uoppgitt': \"næring\"}, inplace=True)\n",
    "df_n['label'] = df_n['næring']"
   ]
  },
  {
   "cell_type": "code",
   "execution_count": 146,
   "metadata": {},
   "outputs": [
    {
     "output_type": "execute_result",
     "data": {
      "text/plain": "  næring_kode                                             næring personer  \\\n0          01  Jordbruk og tjenester tilknyttet jordbruk, jak...     1203   \n\n  virksomheter                                              label  \n0          618  Jordbruk og tjenester tilknyttet jordbruk, jak...  ",
      "text/html": "<div>\n<style scoped>\n    .dataframe tbody tr th:only-of-type {\n        vertical-align: middle;\n    }\n\n    .dataframe tbody tr th {\n        vertical-align: top;\n    }\n\n    .dataframe thead th {\n        text-align: right;\n    }\n</style>\n<table border=\"1\" class=\"dataframe\">\n  <thead>\n    <tr style=\"text-align: right;\">\n      <th></th>\n      <th>næring_kode</th>\n      <th>næring</th>\n      <th>personer</th>\n      <th>virksomheter</th>\n      <th>label</th>\n    </tr>\n  </thead>\n  <tbody>\n    <tr>\n      <th>0</th>\n      <td>01</td>\n      <td>Jordbruk og tjenester tilknyttet jordbruk, jak...</td>\n      <td>1203</td>\n      <td>618</td>\n      <td>Jordbruk og tjenester tilknyttet jordbruk, jak...</td>\n    </tr>\n  </tbody>\n</table>\n</div>"
     },
     "metadata": {},
     "execution_count": 146
    }
   ],
   "source": [
    "df_n.head(1)"
   ]
  },
  {
   "cell_type": "code",
   "execution_count": 147,
   "metadata": {},
   "outputs": [
    {
     "output_type": "execute_result",
     "data": {
      "text/plain": "'Skogbruk og tjenester tilknyttet skogbruk'"
     },
     "metadata": {},
     "execution_count": 147
    }
   ],
   "source": [
    "df_n.iloc[1].label"
   ]
  },
  {
   "cell_type": "code",
   "execution_count": 148,
   "metadata": {},
   "outputs": [
    {
     "output_type": "execute_result",
     "data": {
      "text/plain": "                                                name  value\n0  Jordbruk og tjenester tilknyttet jordbruk, jak...   1203",
      "text/html": "<div>\n<style scoped>\n    .dataframe tbody tr th:only-of-type {\n        vertical-align: middle;\n    }\n\n    .dataframe tbody tr th {\n        vertical-align: top;\n    }\n\n    .dataframe thead th {\n        text-align: right;\n    }\n</style>\n<table border=\"1\" class=\"dataframe\">\n  <thead>\n    <tr style=\"text-align: right;\">\n      <th></th>\n      <th>name</th>\n      <th>value</th>\n    </tr>\n  </thead>\n  <tbody>\n    <tr>\n      <th>0</th>\n      <td>Jordbruk og tjenester tilknyttet jordbruk, jak...</td>\n      <td>1203</td>\n    </tr>\n  </tbody>\n</table>\n</div>"
     },
     "metadata": {},
     "execution_count": 148
    }
   ],
   "source": [
    "source = df_n[['label','personer']].copy()\n",
    "source.columns=['name','value']\n",
    "source['value'] = source['value'].apply(lambda x: int(str(x).replace('*','0')))\n",
    "source['name'] = source['name'] + ':' + source['value'].astype(str)\n",
    "source.head(1)"
   ]
  },
  {
   "cell_type": "code",
   "execution_count": 149,
   "metadata": {},
   "outputs": [],
   "source": [
    "data = source.to_json(orient='records')\n",
    "\n",
    "columns = [\n",
    "  {\n",
    "    \"name\": \"Næring\",\n",
    "    \"selector\": \"name\",\n",
    "    \"sortable\": True,\n",
    "  },\n",
    "  {\n",
    "    \"name\": \"Personer\",\n",
    "    \"selector\": \"value\",\n",
    "    \"sortable\": True,\n",
    "  },\n",
    "]\n",
    "\n",
    "fig = {\n",
    "  \"data\": json.loads(data),\n",
    "  \"layout\": {\n",
    "    \"title\": \"Søknad om dagpenger ved permittering. Fra uke 11\",\n",
    "    \"columns\": columns,\n",
    "    \"sortable\": True,\n",
    "  }\n",
    "}"
   ]
  },
  {
   "cell_type": "code",
   "execution_count": 150,
   "metadata": {},
   "outputs": [],
   "source": [
    "# Add barlist figure to the datapackage\n",
    "description = \"\"\"\n",
    "## Søknad om dagpenger ved permittering. Fra uke 11\n",
    "\"\"\"\n",
    "\n",
    "dp.barlist(fig,\"Søknader om dagpenger ved permittering\", description)"
   ]
  },
  {
   "cell_type": "markdown",
   "metadata": {},
   "source": [
    "## Næringsgruppe andel"
   ]
  },
  {
   "cell_type": "code",
   "execution_count": 151,
   "metadata": {},
   "outputs": [],
   "source": [
    "df_n = pd.read_excel(EXCEL_URL_NÆRING,sheet_name='Næringsgruppe. Andel. Søknad pe', header=6)\n",
    "df_n.drop(columns=[\"Unnamed: 0\",\"Unnamed: 2\",\"Unnamed: 14\"], axis=1, inplace=True)\n",
    "df_n.rename(columns={\"Unnamed: 1\": \"Næring\"}, inplace=True)"
   ]
  },
  {
   "cell_type": "code",
   "execution_count": 152,
   "metadata": {},
   "outputs": [
    {
     "output_type": "execute_result",
     "data": {
      "text/plain": "                        Næring      Oslo  Rogaland  Møre og Romsdal  Nordland  \\\n0  Jordbruk, skogbruk og fiske  0.121212    0.0558         0.036242  0.040583   \n\n      Viken  Innlandet  Vestfold og Telemark    Agder  Vestland  \\\n0  0.076695    0.07328              0.054682  0.07211  0.063291   \n\n   Trøndelag - Trööndelage  Troms og Finnmark - Romsa ja Finnmárku  \n0                 0.056325                                0.048407  ",
      "text/html": "<div>\n<style scoped>\n    .dataframe tbody tr th:only-of-type {\n        vertical-align: middle;\n    }\n\n    .dataframe tbody tr th {\n        vertical-align: top;\n    }\n\n    .dataframe thead th {\n        text-align: right;\n    }\n</style>\n<table border=\"1\" class=\"dataframe\">\n  <thead>\n    <tr style=\"text-align: right;\">\n      <th></th>\n      <th>Næring</th>\n      <th>Oslo</th>\n      <th>Rogaland</th>\n      <th>Møre og Romsdal</th>\n      <th>Nordland</th>\n      <th>Viken</th>\n      <th>Innlandet</th>\n      <th>Vestfold og Telemark</th>\n      <th>Agder</th>\n      <th>Vestland</th>\n      <th>Trøndelag - Trööndelage</th>\n      <th>Troms og Finnmark - Romsa ja Finnmárku</th>\n    </tr>\n  </thead>\n  <tbody>\n    <tr>\n      <th>0</th>\n      <td>Jordbruk, skogbruk og fiske</td>\n      <td>0.121212</td>\n      <td>0.0558</td>\n      <td>0.036242</td>\n      <td>0.040583</td>\n      <td>0.076695</td>\n      <td>0.07328</td>\n      <td>0.054682</td>\n      <td>0.07211</td>\n      <td>0.063291</td>\n      <td>0.056325</td>\n      <td>0.048407</td>\n    </tr>\n  </tbody>\n</table>\n</div>"
     },
     "metadata": {},
     "execution_count": 152
    }
   ],
   "source": [
    "df_n.head(1)"
   ]
  },
  {
   "cell_type": "code",
   "execution_count": 153,
   "metadata": {},
   "outputs": [],
   "source": [
    "source=df_n.melt(id_vars=\"Næring\")\n",
    "source['Fylke'] = source['variable'].apply(lambda x: x.split('-')[0])\n",
    "source['Prosent'] = source['value'].apply(lambda x: round(100*x,1))"
   ]
  },
  {
   "cell_type": "code",
   "execution_count": 154,
   "metadata": {},
   "outputs": [
    {
     "output_type": "execute_result",
     "data": {
      "text/html": "\n<div id=\"altair-viz-a5543d112eed4acd8bb856093726a3c7\"></div>\n<script type=\"text/javascript\">\n  (function(spec, embedOpt){\n    const outputDiv = document.getElementById(\"altair-viz-a5543d112eed4acd8bb856093726a3c7\");\n    const paths = {\n      \"vega\": \"https://cdn.jsdelivr.net/npm//vega@5?noext\",\n      \"vega-lib\": \"https://cdn.jsdelivr.net/npm//vega-lib?noext\",\n      \"vega-lite\": \"https://cdn.jsdelivr.net/npm//vega-lite@4.0.2?noext\",\n      \"vega-embed\": \"https://cdn.jsdelivr.net/npm//vega-embed@6?noext\",\n    };\n\n    function loadScript(lib) {\n      return new Promise(function(resolve, reject) {\n        var s = document.createElement('script');\n        s.src = paths[lib];\n        s.async = true;\n        s.onload = () => resolve(paths[lib]);\n        s.onerror = () => reject(`Error loading script: ${paths[lib]}`);\n        document.getElementsByTagName(\"head\")[0].appendChild(s);\n      });\n    }\n\n    function showError(err) {\n      outputDiv.innerHTML = `<div class=\"error\" style=\"color:red;\">${err}</div>`;\n      throw err;\n    }\n\n    function displayChart(vegaEmbed) {\n      vegaEmbed(outputDiv, spec, embedOpt)\n        .catch(err => showError(`Javascript Error: ${err.message}<br>This usually means there's a typo in your chart specification. See the javascript console for the full traceback.`));\n    }\n\n    if(typeof define === \"function\" && define.amd) {\n      requirejs.config({paths});\n      require([\"vega-embed\"], displayChart, err => showError(`Error loading script: ${err.message}`));\n    } else if (typeof vegaEmbed === \"function\") {\n      displayChart(vegaEmbed);\n    } else {\n      loadScript(\"vega\")\n        .then(() => loadScript(\"vega-lite\"))\n        .then(() => loadScript(\"vega-embed\"))\n        .catch(showError)\n        .then(() => displayChart(vegaEmbed));\n    }\n  })({\"config\": {\"view\": {\"continuousWidth\": 400, \"continuousHeight\": 300}}, \"data\": {\"name\": \"data-d907e90eae526260f6fe26011e72188f\"}, \"mark\": \"rect\", \"encoding\": {\"color\": {\"type\": \"quantitative\", \"field\": \"Prosent\", \"legend\": {\"orient\": \"top\"}}, \"tooltip\": [{\"type\": \"nominal\", \"field\": \"N\\u00e6ring\", \"title\": \"N\\u00e6ring\"}, {\"type\": \"nominal\", \"field\": \"Fylke\", \"title\": \"Fylke\"}, {\"type\": \"quantitative\", \"field\": \"Prosent\", \"title\": \"Prosent\"}], \"x\": {\"type\": \"ordinal\", \"axis\": {\"title\": \"\"}, \"field\": \"N\\u00e6ring\"}, \"y\": {\"type\": \"ordinal\", \"axis\": {\"title\": \"\"}, \"field\": \"Fylke\"}}, \"$schema\": \"https://vega.github.io/schema/vega-lite/v4.0.2.json\", \"datasets\": {\"data-d907e90eae526260f6fe26011e72188f\": [{\"N\\u00e6ring\": \"Jordbruk, skogbruk og fiske\", \"variable\": \"Oslo\", \"value\": 0.121212121212121, \"Fylke\": \"Oslo\", \"Prosent\": 12.1}, {\"N\\u00e6ring\": \"Bergverksdrift og utvinning\", \"variable\": \"Oslo\", \"value\": 0.0101232394366197, \"Fylke\": \"Oslo\", \"Prosent\": 1.0}, {\"N\\u00e6ring\": \"Industri\", \"variable\": \"Oslo\", \"value\": 0.104569946118539, \"Fylke\": \"Oslo\", \"Prosent\": 10.5}, {\"N\\u00e6ring\": \"Elektrisitet-, vann og renovasjon\", \"variable\": \"Oslo\", \"value\": 0.0285019117135905, \"Fylke\": \"Oslo\", \"Prosent\": 2.9}, {\"N\\u00e6ring\": \"Bygge- og anleggsvirksomhet\", \"variable\": \"Oslo\", \"value\": 0.0793920834751049, \"Fylke\": \"Oslo\", \"Prosent\": 7.9}, {\"N\\u00e6ring\": \"Varehandel, reparasjon av motorvogner\", \"variable\": \"Oslo\", \"value\": 0.182601386845976, \"Fylke\": \"Oslo\", \"Prosent\": 18.3}, {\"N\\u00e6ring\": \"Transport og lagring\", \"variable\": \"Oslo\", \"value\": 0.154261327977909, \"Fylke\": \"Oslo\", \"Prosent\": 15.4}, {\"N\\u00e6ring\": \"Overnattings- og serveringsvirksomhet\", \"variable\": \"Oslo\", \"value\": 0.542439835750299, \"Fylke\": \"Oslo\", \"Prosent\": 54.2}, {\"N\\u00e6ring\": \"Informasjon og kommunikasjon\", \"variable\": \"Oslo\", \"value\": 0.0480471360019438, \"Fylke\": \"Oslo\", \"Prosent\": 4.8}, {\"N\\u00e6ring\": \"Finansierings- og forsikringsvirksomhet\", \"variable\": \"Oslo\", \"value\": 0.0111014880718054, \"Fylke\": \"Oslo\", \"Prosent\": 1.1}, {\"N\\u00e6ring\": \"Omsetning og drift av fast eiendom\", \"variable\": \"Oslo\", \"value\": 0.203079617082437, \"Fylke\": \"Oslo\", \"Prosent\": 20.3}, {\"N\\u00e6ring\": \"Faglig, vitenskapelig og teknisk tjenesteyting\", \"variable\": \"Oslo\", \"value\": 0.0838515960589112, \"Fylke\": \"Oslo\", \"Prosent\": 8.4}, {\"N\\u00e6ring\": \"Forretningsmessig tjenesteyting\", \"variable\": \"Oslo\", \"value\": 0.176246685484561, \"Fylke\": \"Oslo\", \"Prosent\": 17.6}, {\"N\\u00e6ring\": \"Off. adm., forsvar, sosialforsikring\", \"variable\": \"Oslo\", \"value\": 0.00188948306595365, \"Fylke\": \"Oslo\", \"Prosent\": 0.2}, {\"N\\u00e6ring\": \"Undervisning\", \"variable\": \"Oslo\", \"value\": 0.023973772283314, \"Fylke\": \"Oslo\", \"Prosent\": 2.4}, {\"N\\u00e6ring\": \"Helse- og sosialtjenester\", \"variable\": \"Oslo\", \"value\": 0.0270642427421602, \"Fylke\": \"Oslo\", \"Prosent\": 2.7}, {\"N\\u00e6ring\": \"Private tjenester ellers\", \"variable\": \"Oslo\", \"value\": 0.205849976411385, \"Fylke\": \"Oslo\", \"Prosent\": 20.6}, {\"N\\u00e6ring\": \"Jordbruk, skogbruk og fiske\", \"variable\": \"Rogaland\", \"value\": 0.0557997970916469, \"Fylke\": \"Rogaland\", \"Prosent\": 5.6}, {\"N\\u00e6ring\": \"Bergverksdrift og utvinning\", \"variable\": \"Rogaland\", \"value\": 0.0188615267240283, \"Fylke\": \"Rogaland\", \"Prosent\": 1.9}, {\"N\\u00e6ring\": \"Industri\", \"variable\": \"Rogaland\", \"value\": 0.0558942656150075, \"Fylke\": \"Rogaland\", \"Prosent\": 5.6}, {\"N\\u00e6ring\": \"Elektrisitet-, vann og renovasjon\", \"variable\": \"Rogaland\", \"value\": 0.0221507681314755, \"Fylke\": \"Rogaland\", \"Prosent\": 2.2}, {\"N\\u00e6ring\": \"Bygge- og anleggsvirksomhet\", \"variable\": \"Rogaland\", \"value\": 0.0848042764073723, \"Fylke\": \"Rogaland\", \"Prosent\": 8.5}, {\"N\\u00e6ring\": \"Varehandel, reparasjon av motorvogner\", \"variable\": \"Rogaland\", \"value\": 0.174504637817158, \"Fylke\": \"Rogaland\", \"Prosent\": 17.5}, {\"N\\u00e6ring\": \"Transport og lagring\", \"variable\": \"Rogaland\", \"value\": 0.120031253052056, \"Fylke\": \"Rogaland\", \"Prosent\": 12.0}, {\"N\\u00e6ring\": \"Overnattings- og serveringsvirksomhet\", \"variable\": \"Rogaland\", \"value\": 0.407001667063587, \"Fylke\": \"Rogaland\", \"Prosent\": 40.7}, {\"N\\u00e6ring\": \"Informasjon og kommunikasjon\", \"variable\": \"Rogaland\", \"value\": 0.0524623703054216, \"Fylke\": \"Rogaland\", \"Prosent\": 5.2}, {\"N\\u00e6ring\": \"Finansierings- og forsikringsvirksomhet\", \"variable\": \"Rogaland\", \"value\": 0.0220408163265306, \"Fylke\": \"Rogaland\", \"Prosent\": 2.2}, {\"N\\u00e6ring\": \"Omsetning og drift av fast eiendom\", \"variable\": \"Rogaland\", \"value\": 0.165880963105327, \"Fylke\": \"Rogaland\", \"Prosent\": 16.6}, {\"N\\u00e6ring\": \"Faglig, vitenskapelig og teknisk tjenesteyting\", \"variable\": \"Rogaland\", \"value\": 0.0937308759840439, \"Fylke\": \"Rogaland\", \"Prosent\": 9.4}, {\"N\\u00e6ring\": \"Forretningsmessig tjenesteyting\", \"variable\": \"Rogaland\", \"value\": 0.132658143782168, \"Fylke\": \"Rogaland\", \"Prosent\": 13.3}, {\"N\\u00e6ring\": \"Off. adm., forsvar, sosialforsikring\", \"variable\": \"Rogaland\", \"value\": 0.00402144772117962, \"Fylke\": \"Rogaland\", \"Prosent\": 0.4}, {\"N\\u00e6ring\": \"Undervisning\", \"variable\": \"Rogaland\", \"value\": 0.0301983093200064, \"Fylke\": \"Rogaland\", \"Prosent\": 3.0}, {\"N\\u00e6ring\": \"Helse- og sosialtjenester\", \"variable\": \"Rogaland\", \"value\": 0.0265174096398843, \"Fylke\": \"Rogaland\", \"Prosent\": 2.7}, {\"N\\u00e6ring\": \"Private tjenester ellers\", \"variable\": \"Rogaland\", \"value\": 0.290238552234713, \"Fylke\": \"Rogaland\", \"Prosent\": 29.0}, {\"N\\u00e6ring\": \"Jordbruk, skogbruk og fiske\", \"variable\": \"M\\u00f8re og Romsdal\", \"value\": 0.0362422508345255, \"Fylke\": \"M\\u00f8re og Romsdal\", \"Prosent\": 3.6}, {\"N\\u00e6ring\": \"Bergverksdrift og utvinning\", \"variable\": \"M\\u00f8re og Romsdal\", \"value\": 0.0507824033067611, \"Fylke\": \"M\\u00f8re og Romsdal\", \"Prosent\": 5.1}, {\"N\\u00e6ring\": \"Industri\", \"variable\": \"M\\u00f8re og Romsdal\", \"value\": 0.100870108893868, \"Fylke\": \"M\\u00f8re og Romsdal\", \"Prosent\": 10.1}, {\"N\\u00e6ring\": \"Elektrisitet-, vann og renovasjon\", \"variable\": \"M\\u00f8re og Romsdal\", \"value\": 0.029086678301338, \"Fylke\": \"M\\u00f8re og Romsdal\", \"Prosent\": 2.9}, {\"N\\u00e6ring\": \"Bygge- og anleggsvirksomhet\", \"variable\": \"M\\u00f8re og Romsdal\", \"value\": 0.0746527777777778, \"Fylke\": \"M\\u00f8re og Romsdal\", \"Prosent\": 7.5}, {\"N\\u00e6ring\": \"Varehandel, reparasjon av motorvogner\", \"variable\": \"M\\u00f8re og Romsdal\", \"value\": 0.16382036685642, \"Fylke\": \"M\\u00f8re og Romsdal\", \"Prosent\": 16.4}, {\"N\\u00e6ring\": \"Transport og lagring\", \"variable\": \"M\\u00f8re og Romsdal\", \"value\": 0.0804137039431157, \"Fylke\": \"M\\u00f8re og Romsdal\", \"Prosent\": 8.0}, {\"N\\u00e6ring\": \"Overnattings- og serveringsvirksomhet\", \"variable\": \"M\\u00f8re og Romsdal\", \"value\": 0.42671009771987, \"Fylke\": \"M\\u00f8re og Romsdal\", \"Prosent\": 42.7}, {\"N\\u00e6ring\": \"Informasjon og kommunikasjon\", \"variable\": \"M\\u00f8re og Romsdal\", \"value\": 0.0990301174068402, \"Fylke\": \"M\\u00f8re og Romsdal\", \"Prosent\": 9.9}, {\"N\\u00e6ring\": \"Finansierings- og forsikringsvirksomhet\", \"variable\": \"M\\u00f8re og Romsdal\", \"value\": 0.0114478114478114, \"Fylke\": \"M\\u00f8re og Romsdal\", \"Prosent\": 1.1}, {\"N\\u00e6ring\": \"Omsetning og drift av fast eiendom\", \"variable\": \"M\\u00f8re og Romsdal\", \"value\": 0.18006382830752, \"Fylke\": \"M\\u00f8re og Romsdal\", \"Prosent\": 18.0}, {\"N\\u00e6ring\": \"Faglig, vitenskapelig og teknisk tjenesteyting\", \"variable\": \"M\\u00f8re og Romsdal\", \"value\": 0.0916728240794166, \"Fylke\": \"M\\u00f8re og Romsdal\", \"Prosent\": 9.2}, {\"N\\u00e6ring\": \"Forretningsmessig tjenesteyting\", \"variable\": \"M\\u00f8re og Romsdal\", \"value\": 0.118436873747495, \"Fylke\": \"M\\u00f8re og Romsdal\", \"Prosent\": 11.8}, {\"N\\u00e6ring\": \"Off. adm., forsvar, sosialforsikring\", \"variable\": \"M\\u00f8re og Romsdal\", \"value\": 0.00491205831088576, \"Fylke\": \"M\\u00f8re og Romsdal\", \"Prosent\": 0.5}, {\"N\\u00e6ring\": \"Undervisning\", \"variable\": \"M\\u00f8re og Romsdal\", \"value\": 0.023448670288819, \"Fylke\": \"M\\u00f8re og Romsdal\", \"Prosent\": 2.3}, {\"N\\u00e6ring\": \"Helse- og sosialtjenester\", \"variable\": \"M\\u00f8re og Romsdal\", \"value\": 0.0208033172857293, \"Fylke\": \"M\\u00f8re og Romsdal\", \"Prosent\": 2.1}, {\"N\\u00e6ring\": \"Private tjenester ellers\", \"variable\": \"M\\u00f8re og Romsdal\", \"value\": 0.304956268221574, \"Fylke\": \"M\\u00f8re og Romsdal\", \"Prosent\": 30.5}, {\"N\\u00e6ring\": \"Jordbruk, skogbruk og fiske\", \"variable\": \"Nordland\", \"value\": 0.0405831363278172, \"Fylke\": \"Nordland\", \"Prosent\": 4.1}, {\"N\\u00e6ring\": \"Bergverksdrift og utvinning\", \"variable\": \"Nordland\", \"value\": 0.0564015792442188, \"Fylke\": \"Nordland\", \"Prosent\": 5.6}, {\"N\\u00e6ring\": \"Industri\", \"variable\": \"Nordland\", \"value\": 0.0565485862853429, \"Fylke\": \"Nordland\", \"Prosent\": 5.7}, {\"N\\u00e6ring\": \"Elektrisitet-, vann og renovasjon\", \"variable\": \"Nordland\", \"value\": 0.0180090045022511, \"Fylke\": \"Nordland\", \"Prosent\": 1.8}, {\"N\\u00e6ring\": \"Bygge- og anleggsvirksomhet\", \"variable\": \"Nordland\", \"value\": 0.0818663638084422, \"Fylke\": \"Nordland\", \"Prosent\": 8.2}, {\"N\\u00e6ring\": \"Varehandel, reparasjon av motorvogner\", \"variable\": \"Nordland\", \"value\": 0.153106241411731, \"Fylke\": \"Nordland\", \"Prosent\": 15.3}, {\"N\\u00e6ring\": \"Transport og lagring\", \"variable\": \"Nordland\", \"value\": 0.121542330259849, \"Fylke\": \"Nordland\", \"Prosent\": 12.2}, {\"N\\u00e6ring\": \"Overnattings- og serveringsvirksomhet\", \"variable\": \"Nordland\", \"value\": 0.436781609195402, \"Fylke\": \"Nordland\", \"Prosent\": 43.7}, {\"N\\u00e6ring\": \"Informasjon og kommunikasjon\", \"variable\": \"Nordland\", \"value\": 0.0943517329910141, \"Fylke\": \"Nordland\", \"Prosent\": 9.4}, {\"N\\u00e6ring\": \"Finansierings- og forsikringsvirksomhet\", \"variable\": \"Nordland\", \"value\": 0.0180505415162455, \"Fylke\": \"Nordland\", \"Prosent\": 1.8}, {\"N\\u00e6ring\": \"Omsetning og drift av fast eiendom\", \"variable\": \"Nordland\", \"value\": 0.207520318233257, \"Fylke\": \"Nordland\", \"Prosent\": 20.8}, {\"N\\u00e6ring\": \"Faglig, vitenskapelig og teknisk tjenesteyting\", \"variable\": \"Nordland\", \"value\": 0.0935086686176561, \"Fylke\": \"Nordland\", \"Prosent\": 9.4}, {\"N\\u00e6ring\": \"Forretningsmessig tjenesteyting\", \"variable\": \"Nordland\", \"value\": 0.116658176260825, \"Fylke\": \"Nordland\", \"Prosent\": 11.7}, {\"N\\u00e6ring\": \"Off. adm., forsvar, sosialforsikring\", \"variable\": \"Nordland\", \"value\": 0.00633981403212173, \"Fylke\": \"Nordland\", \"Prosent\": 0.6}, {\"N\\u00e6ring\": \"Undervisning\", \"variable\": \"Nordland\", \"value\": 0.021254584783222, \"Fylke\": \"Nordland\", \"Prosent\": 2.1}, {\"N\\u00e6ring\": \"Helse- og sosialtjenester\", \"variable\": \"Nordland\", \"value\": 0.0228904528328713, \"Fylke\": \"Nordland\", \"Prosent\": 2.3}, {\"N\\u00e6ring\": \"Private tjenester ellers\", \"variable\": \"Nordland\", \"value\": 0.240696987595983, \"Fylke\": \"Nordland\", \"Prosent\": 24.1}, {\"N\\u00e6ring\": \"Jordbruk, skogbruk og fiske\", \"variable\": \"Viken\", \"value\": 0.0766950722489811, \"Fylke\": \"Viken\", \"Prosent\": 7.7}, {\"N\\u00e6ring\": \"Bergverksdrift og utvinning\", \"variable\": \"Viken\", \"value\": 0.0163432073544433, \"Fylke\": \"Viken\", \"Prosent\": 1.6}, {\"N\\u00e6ring\": \"Industri\", \"variable\": \"Viken\", \"value\": 0.0695704343652508, \"Fylke\": \"Viken\", \"Prosent\": 7.0}, {\"N\\u00e6ring\": \"Elektrisitet-, vann og renovasjon\", \"variable\": \"Viken\", \"value\": 0.0239220318960425, \"Fylke\": \"Viken\", \"Prosent\": 2.4}, {\"N\\u00e6ring\": \"Bygge- og anleggsvirksomhet\", \"variable\": \"Viken\", \"value\": 0.0745374582954201, \"Fylke\": \"Viken\", \"Prosent\": 7.5}, {\"N\\u00e6ring\": \"Varehandel, reparasjon av motorvogner\", \"variable\": \"Viken\", \"value\": 0.158078704687434, \"Fylke\": \"Viken\", \"Prosent\": 15.8}, {\"N\\u00e6ring\": \"Transport og lagring\", \"variable\": \"Viken\", \"value\": 0.118368147494361, \"Fylke\": \"Viken\", \"Prosent\": 11.8}, {\"N\\u00e6ring\": \"Overnattings- og serveringsvirksomhet\", \"variable\": \"Viken\", \"value\": 0.456516233601783, \"Fylke\": \"Viken\", \"Prosent\": 45.7}, {\"N\\u00e6ring\": \"Informasjon og kommunikasjon\", \"variable\": \"Viken\", \"value\": 0.0472092649187711, \"Fylke\": \"Viken\", \"Prosent\": 4.7}, {\"N\\u00e6ring\": \"Finansierings- og forsikringsvirksomhet\", \"variable\": \"Viken\", \"value\": 0.0125274546489872, \"Fylke\": \"Viken\", \"Prosent\": 1.3}, {\"N\\u00e6ring\": \"Omsetning og drift av fast eiendom\", \"variable\": \"Viken\", \"value\": 0.173973639633531, \"Fylke\": \"Viken\", \"Prosent\": 17.4}, {\"N\\u00e6ring\": \"Faglig, vitenskapelig og teknisk tjenesteyting\", \"variable\": \"Viken\", \"value\": 0.0788210451835037, \"Fylke\": \"Viken\", \"Prosent\": 7.9}, {\"N\\u00e6ring\": \"Forretningsmessig tjenesteyting\", \"variable\": \"Viken\", \"value\": 0.130395274875057, \"Fylke\": \"Viken\", \"Prosent\": 13.0}, {\"N\\u00e6ring\": \"Off. adm., forsvar, sosialforsikring\", \"variable\": \"Viken\", \"value\": 0.00301472768607295, \"Fylke\": \"Viken\", \"Prosent\": 0.3}, {\"N\\u00e6ring\": \"Undervisning\", \"variable\": \"Viken\", \"value\": 0.0299137456414021, \"Fylke\": \"Viken\", \"Prosent\": 3.0}, {\"N\\u00e6ring\": \"Helse- og sosialtjenester\", \"variable\": \"Viken\", \"value\": 0.0262014347792548, \"Fylke\": \"Viken\", \"Prosent\": 2.6}, {\"N\\u00e6ring\": \"Private tjenester ellers\", \"variable\": \"Viken\", \"value\": 0.253420499649778, \"Fylke\": \"Viken\", \"Prosent\": 25.3}, {\"N\\u00e6ring\": \"Jordbruk, skogbruk og fiske\", \"variable\": \"Innlandet\", \"value\": 0.07328, \"Fylke\": \"Innlandet\", \"Prosent\": 7.3}, {\"N\\u00e6ring\": \"Bergverksdrift og utvinning\", \"variable\": \"Innlandet\", \"value\": 0.0533536585365854, \"Fylke\": \"Innlandet\", \"Prosent\": 5.3}, {\"N\\u00e6ring\": \"Industri\", \"variable\": \"Innlandet\", \"value\": 0.0796170319979844, \"Fylke\": \"Innlandet\", \"Prosent\": 8.0}, {\"N\\u00e6ring\": \"Elektrisitet-, vann og renovasjon\", \"variable\": \"Innlandet\", \"value\": 0.014004542013626, \"Fylke\": \"Innlandet\", \"Prosent\": 1.4}, {\"N\\u00e6ring\": \"Bygge- og anleggsvirksomhet\", \"variable\": \"Innlandet\", \"value\": 0.0909975077502887, \"Fylke\": \"Innlandet\", \"Prosent\": 9.1}, {\"N\\u00e6ring\": \"Varehandel, reparasjon av motorvogner\", \"variable\": \"Innlandet\", \"value\": 0.174376912986445, \"Fylke\": \"Innlandet\", \"Prosent\": 17.4}, {\"N\\u00e6ring\": \"Transport og lagring\", \"variable\": \"Innlandet\", \"value\": 0.113453536754508, \"Fylke\": \"Innlandet\", \"Prosent\": 11.3}, {\"N\\u00e6ring\": \"Overnattings- og serveringsvirksomhet\", \"variable\": \"Innlandet\", \"value\": 0.481296328219273, \"Fylke\": \"Innlandet\", \"Prosent\": 48.1}, {\"N\\u00e6ring\": \"Informasjon og kommunikasjon\", \"variable\": \"Innlandet\", \"value\": 0.0495818399044205, \"Fylke\": \"Innlandet\", \"Prosent\": 5.0}, {\"N\\u00e6ring\": \"Finansierings- og forsikringsvirksomhet\", \"variable\": \"Innlandet\", \"value\": 0.0148560817084494, \"Fylke\": \"Innlandet\", \"Prosent\": 1.5}, {\"N\\u00e6ring\": \"Omsetning og drift av fast eiendom\", \"variable\": \"Innlandet\", \"value\": 0.143812053204866, \"Fylke\": \"Innlandet\", \"Prosent\": 14.4}, {\"N\\u00e6ring\": \"Faglig, vitenskapelig og teknisk tjenesteyting\", \"variable\": \"Innlandet\", \"value\": 0.087141944268212, \"Fylke\": \"Innlandet\", \"Prosent\": 8.7}, {\"N\\u00e6ring\": \"Forretningsmessig tjenesteyting\", \"variable\": \"Innlandet\", \"value\": 0.11368909512761, \"Fylke\": \"Innlandet\", \"Prosent\": 11.4}, {\"N\\u00e6ring\": \"Off. adm., forsvar, sosialforsikring\", \"variable\": \"Innlandet\", \"value\": 0.00454147079913951, \"Fylke\": \"Innlandet\", \"Prosent\": 0.5}, {\"N\\u00e6ring\": \"Undervisning\", \"variable\": \"Innlandet\", \"value\": 0.0269582559658896, \"Fylke\": \"Innlandet\", \"Prosent\": 2.7}, {\"N\\u00e6ring\": \"Helse- og sosialtjenester\", \"variable\": \"Innlandet\", \"value\": 0.0232859301182283, \"Fylke\": \"Innlandet\", \"Prosent\": 2.3}, {\"N\\u00e6ring\": \"Private tjenester ellers\", \"variable\": \"Innlandet\", \"value\": 0.302255639097744, \"Fylke\": \"Innlandet\", \"Prosent\": 30.2}, {\"N\\u00e6ring\": \"Jordbruk, skogbruk og fiske\", \"variable\": \"Vestfold og Telemark\", \"value\": 0.0546816479400749, \"Fylke\": \"Vestfold og Telemark\", \"Prosent\": 5.5}, {\"N\\u00e6ring\": \"Bergverksdrift og utvinning\", \"variable\": \"Vestfold og Telemark\", \"value\": 0.025426807119506, \"Fylke\": \"Vestfold og Telemark\", \"Prosent\": 2.5}, {\"N\\u00e6ring\": \"Industri\", \"variable\": \"Vestfold og Telemark\", \"value\": 0.0568807339449541, \"Fylke\": \"Vestfold og Telemark\", \"Prosent\": 5.7}, {\"N\\u00e6ring\": \"Elektrisitet-, vann og renovasjon\", \"variable\": \"Vestfold og Telemark\", \"value\": 0.0307923394667668, \"Fylke\": \"Vestfold og Telemark\", \"Prosent\": 3.1}, {\"N\\u00e6ring\": \"Bygge- og anleggsvirksomhet\", \"variable\": \"Vestfold og Telemark\", \"value\": 0.0665512813354922, \"Fylke\": \"Vestfold og Telemark\", \"Prosent\": 6.7}, {\"N\\u00e6ring\": \"Varehandel, reparasjon av motorvogner\", \"variable\": \"Vestfold og Telemark\", \"value\": 0.166207196749855, \"Fylke\": \"Vestfold og Telemark\", \"Prosent\": 16.6}, {\"N\\u00e6ring\": \"Transport og lagring\", \"variable\": \"Vestfold og Telemark\", \"value\": 0.158989764129951, \"Fylke\": \"Vestfold og Telemark\", \"Prosent\": 15.9}, {\"N\\u00e6ring\": \"Overnattings- og serveringsvirksomhet\", \"variable\": \"Vestfold og Telemark\", \"value\": 0.433949231566223, \"Fylke\": \"Vestfold og Telemark\", \"Prosent\": 43.4}, {\"N\\u00e6ring\": \"Informasjon og kommunikasjon\", \"variable\": \"Vestfold og Telemark\", \"value\": 0.0742936178620826, \"Fylke\": \"Vestfold og Telemark\", \"Prosent\": 7.4}, {\"N\\u00e6ring\": \"Finansierings- og forsikringsvirksomhet\", \"variable\": \"Vestfold og Telemark\", \"value\": 0.0159659393294305, \"Fylke\": \"Vestfold og Telemark\", \"Prosent\": 1.6}, {\"N\\u00e6ring\": \"Omsetning og drift av fast eiendom\", \"variable\": \"Vestfold og Telemark\", \"value\": 0.177256370797118, \"Fylke\": \"Vestfold og Telemark\", \"Prosent\": 17.7}, {\"N\\u00e6ring\": \"Faglig, vitenskapelig og teknisk tjenesteyting\", \"variable\": \"Vestfold og Telemark\", \"value\": 0.0875272210784523, \"Fylke\": \"Vestfold og Telemark\", \"Prosent\": 8.8}, {\"N\\u00e6ring\": \"Forretningsmessig tjenesteyting\", \"variable\": \"Vestfold og Telemark\", \"value\": 0.111111111111111, \"Fylke\": \"Vestfold og Telemark\", \"Prosent\": 11.1}, {\"N\\u00e6ring\": \"Off. adm., forsvar, sosialforsikring\", \"variable\": \"Vestfold og Telemark\", \"value\": 0.00337687727717053, \"Fylke\": \"Vestfold og Telemark\", \"Prosent\": 0.3}, {\"N\\u00e6ring\": \"Undervisning\", \"variable\": \"Vestfold og Telemark\", \"value\": 0.0316407730200834, \"Fylke\": \"Vestfold og Telemark\", \"Prosent\": 3.2}, {\"N\\u00e6ring\": \"Helse- og sosialtjenester\", \"variable\": \"Vestfold og Telemark\", \"value\": 0.0250952840152454, \"Fylke\": \"Vestfold og Telemark\", \"Prosent\": 2.5}, {\"N\\u00e6ring\": \"Private tjenester ellers\", \"variable\": \"Vestfold og Telemark\", \"value\": 0.276126714565643, \"Fylke\": \"Vestfold og Telemark\", \"Prosent\": 27.6}, {\"N\\u00e6ring\": \"Jordbruk, skogbruk og fiske\", \"variable\": \"Agder\", \"value\": 0.0721102863202545, \"Fylke\": \"Agder\", \"Prosent\": 7.2}, {\"N\\u00e6ring\": \"Bergverksdrift og utvinning\", \"variable\": \"Agder\", \"value\": 0.0424695241840346, \"Fylke\": \"Agder\", \"Prosent\": 4.2}, {\"N\\u00e6ring\": \"Industri\", \"variable\": \"Agder\", \"value\": 0.0696732379152039, \"Fylke\": \"Agder\", \"Prosent\": 7.0}, {\"N\\u00e6ring\": \"Elektrisitet-, vann og renovasjon\", \"variable\": \"Agder\", \"value\": 0.0199115044247788, \"Fylke\": \"Agder\", \"Prosent\": 2.0}, {\"N\\u00e6ring\": \"Bygge- og anleggsvirksomhet\", \"variable\": \"Agder\", \"value\": 0.0732907395167805, \"Fylke\": \"Agder\", \"Prosent\": 7.3}, {\"N\\u00e6ring\": \"Varehandel, reparasjon av motorvogner\", \"variable\": \"Agder\", \"value\": 0.155714958898372, \"Fylke\": \"Agder\", \"Prosent\": 15.6}, {\"N\\u00e6ring\": \"Transport og lagring\", \"variable\": \"Agder\", \"value\": 0.12697603263641, \"Fylke\": \"Agder\", \"Prosent\": 12.7}, {\"N\\u00e6ring\": \"Overnattings- og serveringsvirksomhet\", \"variable\": \"Agder\", \"value\": 0.414282815987016, \"Fylke\": \"Agder\", \"Prosent\": 41.4}, {\"N\\u00e6ring\": \"Informasjon og kommunikasjon\", \"variable\": \"Agder\", \"value\": 0.0874624624624625, \"Fylke\": \"Agder\", \"Prosent\": 8.7}, {\"N\\u00e6ring\": \"Finansierings- og forsikringsvirksomhet\", \"variable\": \"Agder\", \"value\": 0.0122018857459789, \"Fylke\": \"Agder\", \"Prosent\": 1.2}, {\"N\\u00e6ring\": \"Omsetning og drift av fast eiendom\", \"variable\": \"Agder\", \"value\": 0.195617522767235, \"Fylke\": \"Agder\", \"Prosent\": 19.6}, {\"N\\u00e6ring\": \"Faglig, vitenskapelig og teknisk tjenesteyting\", \"variable\": \"Agder\", \"value\": 0.115477805402561, \"Fylke\": \"Agder\", \"Prosent\": 11.5}, {\"N\\u00e6ring\": \"Forretningsmessig tjenesteyting\", \"variable\": \"Agder\", \"value\": 0.135582118879974, \"Fylke\": \"Agder\", \"Prosent\": 13.6}, {\"N\\u00e6ring\": \"Off. adm., forsvar, sosialforsikring\", \"variable\": \"Agder\", \"value\": 0.0062142679592344, \"Fylke\": \"Agder\", \"Prosent\": 0.6}, {\"N\\u00e6ring\": \"Undervisning\", \"variable\": \"Agder\", \"value\": 0.0271946208442286, \"Fylke\": \"Agder\", \"Prosent\": 2.7}, {\"N\\u00e6ring\": \"Helse- og sosialtjenester\", \"variable\": \"Agder\", \"value\": 0.026862645717182, \"Fylke\": \"Agder\", \"Prosent\": 2.7}, {\"N\\u00e6ring\": \"Private tjenester ellers\", \"variable\": \"Agder\", \"value\": 0.234930139720559, \"Fylke\": \"Agder\", \"Prosent\": 23.5}, {\"N\\u00e6ring\": \"Jordbruk, skogbruk og fiske\", \"variable\": \"Vestland\", \"value\": 0.0632911392405063, \"Fylke\": \"Vestland\", \"Prosent\": 6.3}, {\"N\\u00e6ring\": \"Bergverksdrift og utvinning\", \"variable\": \"Vestland\", \"value\": 0.0361645130791049, \"Fylke\": \"Vestland\", \"Prosent\": 3.6}, {\"N\\u00e6ring\": \"Industri\", \"variable\": \"Vestland\", \"value\": 0.073461307314314, \"Fylke\": \"Vestland\", \"Prosent\": 7.3}, {\"N\\u00e6ring\": \"Elektrisitet-, vann og renovasjon\", \"variable\": \"Vestland\", \"value\": 0.0179131213613972, \"Fylke\": \"Vestland\", \"Prosent\": 1.8}, {\"N\\u00e6ring\": \"Bygge- og anleggsvirksomhet\", \"variable\": \"Vestland\", \"value\": 0.0858331757140155, \"Fylke\": \"Vestland\", \"Prosent\": 8.6}, {\"N\\u00e6ring\": \"Varehandel, reparasjon av motorvogner\", \"variable\": \"Vestland\", \"value\": 0.169780553866563, \"Fylke\": \"Vestland\", \"Prosent\": 17.0}, {\"N\\u00e6ring\": \"Transport og lagring\", \"variable\": \"Vestland\", \"value\": 0.112988835336465, \"Fylke\": \"Vestland\", \"Prosent\": 11.3}, {\"N\\u00e6ring\": \"Overnattings- og serveringsvirksomhet\", \"variable\": \"Vestland\", \"value\": 0.480763856544015, \"Fylke\": \"Vestland\", \"Prosent\": 48.1}, {\"N\\u00e6ring\": \"Informasjon og kommunikasjon\", \"variable\": \"Vestland\", \"value\": 0.0604104814767007, \"Fylke\": \"Vestland\", \"Prosent\": 6.0}, {\"N\\u00e6ring\": \"Finansierings- og forsikringsvirksomhet\", \"variable\": \"Vestland\", \"value\": 0.00926232219649355, \"Fylke\": \"Vestland\", \"Prosent\": 0.9}, {\"N\\u00e6ring\": \"Omsetning og drift av fast eiendom\", \"variable\": \"Vestland\", \"value\": 0.155342513259278, \"Fylke\": \"Vestland\", \"Prosent\": 15.5}, {\"N\\u00e6ring\": \"Faglig, vitenskapelig og teknisk tjenesteyting\", \"variable\": \"Vestland\", \"value\": 0.0768079770339705, \"Fylke\": \"Vestland\", \"Prosent\": 7.7}, {\"N\\u00e6ring\": \"Forretningsmessig tjenesteyting\", \"variable\": \"Vestland\", \"value\": 0.142267473858008, \"Fylke\": \"Vestland\", \"Prosent\": 14.2}, {\"N\\u00e6ring\": \"Off. adm., forsvar, sosialforsikring\", \"variable\": \"Vestland\", \"value\": 0.00254706533776301, \"Fylke\": \"Vestland\", \"Prosent\": 0.3}, {\"N\\u00e6ring\": \"Undervisning\", \"variable\": \"Vestland\", \"value\": 0.0234043312283706, \"Fylke\": \"Vestland\", \"Prosent\": 2.3}, {\"N\\u00e6ring\": \"Helse- og sosialtjenester\", \"variable\": \"Vestland\", \"value\": 0.0210280030018983, \"Fylke\": \"Vestland\", \"Prosent\": 2.1}, {\"N\\u00e6ring\": \"Private tjenester ellers\", \"variable\": \"Vestland\", \"value\": 0.303995367689635, \"Fylke\": \"Vestland\", \"Prosent\": 30.4}, {\"N\\u00e6ring\": \"Jordbruk, skogbruk og fiske\", \"variable\": \"Tr\\u00f8ndelag - Tr\\u00f6\\u00f6ndelage\", \"value\": 0.056325232795821, \"Fylke\": \"Tr\\u00f8ndelag \", \"Prosent\": 5.6}, {\"N\\u00e6ring\": \"Bergverksdrift og utvinning\", \"variable\": \"Tr\\u00f8ndelag - Tr\\u00f6\\u00f6ndelage\", \"value\": 0.0482779827798278, \"Fylke\": \"Tr\\u00f8ndelag \", \"Prosent\": 4.8}, {\"N\\u00e6ring\": \"Industri\", \"variable\": \"Tr\\u00f8ndelag - Tr\\u00f6\\u00f6ndelage\", \"value\": 0.0648334329655997, \"Fylke\": \"Tr\\u00f8ndelag \", \"Prosent\": 6.5}, {\"N\\u00e6ring\": \"Elektrisitet-, vann og renovasjon\", \"variable\": \"Tr\\u00f8ndelag - Tr\\u00f6\\u00f6ndelage\", \"value\": 0.0216741405082212, \"Fylke\": \"Tr\\u00f8ndelag \", \"Prosent\": 2.2}, {\"N\\u00e6ring\": \"Bygge- og anleggsvirksomhet\", \"variable\": \"Tr\\u00f8ndelag - Tr\\u00f6\\u00f6ndelage\", \"value\": 0.0781021553553742, \"Fylke\": \"Tr\\u00f8ndelag \", \"Prosent\": 7.8}, {\"N\\u00e6ring\": \"Varehandel, reparasjon av motorvogner\", \"variable\": \"Tr\\u00f8ndelag - Tr\\u00f6\\u00f6ndelage\", \"value\": 0.167819004524887, \"Fylke\": \"Tr\\u00f8ndelag \", \"Prosent\": 16.8}, {\"N\\u00e6ring\": \"Transport og lagring\", \"variable\": \"Tr\\u00f8ndelag - Tr\\u00f6\\u00f6ndelage\", \"value\": 0.140123100596269, \"Fylke\": \"Tr\\u00f8ndelag \", \"Prosent\": 14.0}, {\"N\\u00e6ring\": \"Overnattings- og serveringsvirksomhet\", \"variable\": \"Tr\\u00f8ndelag - Tr\\u00f6\\u00f6ndelage\", \"value\": 0.494003087519297, \"Fylke\": \"Tr\\u00f8ndelag \", \"Prosent\": 49.4}, {\"N\\u00e6ring\": \"Informasjon og kommunikasjon\", \"variable\": \"Tr\\u00f8ndelag - Tr\\u00f6\\u00f6ndelage\", \"value\": 0.0549947265330722, \"Fylke\": \"Tr\\u00f8ndelag \", \"Prosent\": 5.5}, {\"N\\u00e6ring\": \"Finansierings- og forsikringsvirksomhet\", \"variable\": \"Tr\\u00f8ndelag - Tr\\u00f6\\u00f6ndelage\", \"value\": 0.0126017327382515, \"Fylke\": \"Tr\\u00f8ndelag \", \"Prosent\": 1.3}, {\"N\\u00e6ring\": \"Omsetning og drift av fast eiendom\", \"variable\": \"Tr\\u00f8ndelag - Tr\\u00f6\\u00f6ndelage\", \"value\": 0.159126878015449, \"Fylke\": \"Tr\\u00f8ndelag \", \"Prosent\": 15.9}, {\"N\\u00e6ring\": \"Faglig, vitenskapelig og teknisk tjenesteyting\", \"variable\": \"Tr\\u00f8ndelag - Tr\\u00f6\\u00f6ndelage\", \"value\": 0.0649765320180902, \"Fylke\": \"Tr\\u00f8ndelag \", \"Prosent\": 6.5}, {\"N\\u00e6ring\": \"Forretningsmessig tjenesteyting\", \"variable\": \"Tr\\u00f8ndelag - Tr\\u00f6\\u00f6ndelage\", \"value\": 0.119498016056104, \"Fylke\": \"Tr\\u00f8ndelag \", \"Prosent\": 11.9}, {\"N\\u00e6ring\": \"Off. adm., forsvar, sosialforsikring\", \"variable\": \"Tr\\u00f8ndelag - Tr\\u00f6\\u00f6ndelage\", \"value\": 0.00393262595533131, \"Fylke\": \"Tr\\u00f8ndelag \", \"Prosent\": 0.4}, {\"N\\u00e6ring\": \"Undervisning\", \"variable\": \"Tr\\u00f8ndelag - Tr\\u00f6\\u00f6ndelage\", \"value\": 0.0216200144416599, \"Fylke\": \"Tr\\u00f8ndelag \", \"Prosent\": 2.2}, {\"N\\u00e6ring\": \"Helse- og sosialtjenester\", \"variable\": \"Tr\\u00f8ndelag - Tr\\u00f6\\u00f6ndelage\", \"value\": 0.0244470082749841, \"Fylke\": \"Tr\\u00f8ndelag \", \"Prosent\": 2.4}, {\"N\\u00e6ring\": \"Private tjenester ellers\", \"variable\": \"Tr\\u00f8ndelag - Tr\\u00f6\\u00f6ndelage\", \"value\": 0.264773710002883, \"Fylke\": \"Tr\\u00f8ndelag \", \"Prosent\": 26.5}, {\"N\\u00e6ring\": \"Jordbruk, skogbruk og fiske\", \"variable\": \"Troms og Finnmark - Romsa ja Finnm\\u00e1rku\", \"value\": 0.0484071162598262, \"Fylke\": \"Troms og Finnmark \", \"Prosent\": 4.8}, {\"N\\u00e6ring\": \"Bergverksdrift og utvinning\", \"variable\": \"Troms og Finnmark - Romsa ja Finnm\\u00e1rku\", \"value\": 0.0295593976575572, \"Fylke\": \"Troms og Finnmark \", \"Prosent\": 3.0}, {\"N\\u00e6ring\": \"Industri\", \"variable\": \"Troms og Finnmark - Romsa ja Finnm\\u00e1rku\", \"value\": 0.113615023474178, \"Fylke\": \"Troms og Finnmark \", \"Prosent\": 11.4}, {\"N\\u00e6ring\": \"Elektrisitet-, vann og renovasjon\", \"variable\": \"Troms og Finnmark - Romsa ja Finnm\\u00e1rku\", \"value\": 0.011104617182934, \"Fylke\": \"Troms og Finnmark \", \"Prosent\": 1.1}, {\"N\\u00e6ring\": \"Bygge- og anleggsvirksomhet\", \"variable\": \"Troms og Finnmark - Romsa ja Finnm\\u00e1rku\", \"value\": 0.0938712179984484, \"Fylke\": \"Troms og Finnmark \", \"Prosent\": 9.4}, {\"N\\u00e6ring\": \"Varehandel, reparasjon av motorvogner\", \"variable\": \"Troms og Finnmark - Romsa ja Finnm\\u00e1rku\", \"value\": 0.159406791803983, \"Fylke\": \"Troms og Finnmark \", \"Prosent\": 15.9}, {\"N\\u00e6ring\": \"Transport og lagring\", \"variable\": \"Troms og Finnmark - Romsa ja Finnm\\u00e1rku\", \"value\": 0.115678484107579, \"Fylke\": \"Troms og Finnmark \", \"Prosent\": 11.6}, {\"N\\u00e6ring\": \"Overnattings- og serveringsvirksomhet\", \"variable\": \"Troms og Finnmark - Romsa ja Finnm\\u00e1rku\", \"value\": 0.452351227632127, \"Fylke\": \"Troms og Finnmark \", \"Prosent\": 45.2}, {\"N\\u00e6ring\": \"Informasjon og kommunikasjon\", \"variable\": \"Troms og Finnmark - Romsa ja Finnm\\u00e1rku\", \"value\": 0.0574092247301276, \"Fylke\": \"Troms og Finnmark \", \"Prosent\": 5.7}, {\"N\\u00e6ring\": \"Finansierings- og forsikringsvirksomhet\", \"variable\": \"Troms og Finnmark - Romsa ja Finnm\\u00e1rku\", \"value\": 0.027027027027027, \"Fylke\": \"Troms og Finnmark \", \"Prosent\": 2.7}, {\"N\\u00e6ring\": \"Omsetning og drift av fast eiendom\", \"variable\": \"Troms og Finnmark - Romsa ja Finnm\\u00e1rku\", \"value\": 0.1657995212887, \"Fylke\": \"Troms og Finnmark \", \"Prosent\": 16.6}, {\"N\\u00e6ring\": \"Faglig, vitenskapelig og teknisk tjenesteyting\", \"variable\": \"Troms og Finnmark - Romsa ja Finnm\\u00e1rku\", \"value\": 0.0667104757057072, \"Fylke\": \"Troms og Finnmark \", \"Prosent\": 6.7}, {\"N\\u00e6ring\": \"Forretningsmessig tjenesteyting\", \"variable\": \"Troms og Finnmark - Romsa ja Finnm\\u00e1rku\", \"value\": 0.149056194402256, \"Fylke\": \"Troms og Finnmark \", \"Prosent\": 14.9}, {\"N\\u00e6ring\": \"Off. adm., forsvar, sosialforsikring\", \"variable\": \"Troms og Finnmark - Romsa ja Finnm\\u00e1rku\", \"value\": 0.00292553191489362, \"Fylke\": \"Troms og Finnmark \", \"Prosent\": 0.3}, {\"N\\u00e6ring\": \"Undervisning\", \"variable\": \"Troms og Finnmark - Romsa ja Finnm\\u00e1rku\", \"value\": 0.0173112913287586, \"Fylke\": \"Troms og Finnmark \", \"Prosent\": 1.7}, {\"N\\u00e6ring\": \"Helse- og sosialtjenester\", \"variable\": \"Troms og Finnmark - Romsa ja Finnm\\u00e1rku\", \"value\": 0.020829233090599, \"Fylke\": \"Troms og Finnmark \", \"Prosent\": 2.1}, {\"N\\u00e6ring\": \"Private tjenester ellers\", \"variable\": \"Troms og Finnmark - Romsa ja Finnm\\u00e1rku\", \"value\": 0.265204907334899, \"Fylke\": \"Troms og Finnmark \", \"Prosent\": 26.5}]}}, {\"mode\": \"vega-lite\"});\n</script>",
      "text/plain": "alt.Chart(...)"
     },
     "metadata": {},
     "execution_count": 154
    }
   ],
   "source": [
    "fig = alt.Chart(source).mark_rect().encode(\n",
    "    x = alt.X('Næring:O',axis=alt.Axis(title='')),\n",
    "    y = alt.Y('Fylke:O',axis=alt.Axis(title='')),\n",
    "    color=alt.Color('Prosent:Q',legend=alt.Legend(orient=\"top\")),\n",
    "    tooltip=[alt.Tooltip('Næring', title='Næring'),\n",
    "             alt.Tooltip('Fylke', title='Fylke'),\n",
    "             alt.Tooltip('Prosent', title='Prosent')]\n",
    ")\n",
    "\n",
    "fig    "
   ]
  },
  {
   "cell_type": "code",
   "execution_count": 155,
   "metadata": {},
   "outputs": [],
   "source": [
    "description = \"\"\"\n",
    "Fra uke 11. Prosentandel av lønnstakere\n",
    "\n",
    "\"\"\"\n",
    "\n",
    "dp.vega(fig,\"Søknader om dagpenger. Andel/Næring\", description)"
   ]
  },
  {
   "cell_type": "markdown",
   "metadata": {},
   "source": [
    "## Publish"
   ]
  },
  {
   "cell_type": "code",
   "execution_count": 156,
   "metadata": {
    "tags": []
   },
   "outputs": [
    {
     "output_type": "stream",
     "name": "stdout",
     "text": "[]\nPublic datapackage: https://storage.googleapis.com/deetly/examples/15f6894f876c84cdb223ff534a6d3292/datapackage.json \n\nPublished at: https://public.deetly.com/examples/15f6894f876c84cdb223ff534a6d3292 \n\n"
    }
   ],
   "source": [
    "dp.publish()"
   ]
  }
 ],
 "metadata": {
  "file_extension": ".py",
  "kernelspec": {
   "display_name": "Python 3",
   "language": "python",
   "name": "python3"
  },
  "language_info": {
   "codemirror_mode": {
    "name": "ipython",
    "version": 3
   },
   "file_extension": ".py",
   "mimetype": "text/x-python",
   "name": "python",
   "nbconvert_exporter": "python",
   "pygments_lexer": "ipython3",
   "version": "3.7.3-final"
  },
  "mimetype": "text/x-python",
  "name": "python",
  "npconvert_exporter": "python",
  "pygments_lexer": "ipython3",
  "version": 3
 },
 "nbformat": 4,
 "nbformat_minor": 2
}