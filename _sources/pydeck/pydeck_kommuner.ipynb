{
 "cells": [
  {
   "cell_type": "markdown",
   "metadata": {
    "colab_type": "text",
    "id": "view-in-github"
   },
   "source": [
    "# Pydeck example kommuner"
   ]
  },
  {
   "cell_type": "code",
   "execution_count": 1,
   "metadata": {},
   "outputs": [
    {
     "ename": "ModuleNotFoundError",
     "evalue": "No module named 'panel'",
     "output_type": "error",
     "traceback": [
      "\u001b[0;31m---------------------------------------------------------------------------\u001b[0m",
      "\u001b[0;31mModuleNotFoundError\u001b[0m                       Traceback (most recent call last)",
      "\u001b[0;32m<ipython-input-1-a8c84f42a31f>\u001b[0m in \u001b[0;36m<module>\u001b[0;34m\u001b[0m\n\u001b[1;32m     11\u001b[0m \u001b[0;34m\u001b[0m\u001b[0m\n\u001b[1;32m     12\u001b[0m \u001b[0;34m\u001b[0m\u001b[0m\n\u001b[0;32m---> 13\u001b[0;31m \u001b[0;32mimport\u001b[0m \u001b[0mpanel\u001b[0m \u001b[0;32mas\u001b[0m \u001b[0mpn\u001b[0m\u001b[0;34m\u001b[0m\u001b[0;34m\u001b[0m\u001b[0m\n\u001b[0m\u001b[1;32m     14\u001b[0m \u001b[0mpn\u001b[0m\u001b[0;34m.\u001b[0m\u001b[0mextension\u001b[0m\u001b[0;34m(\u001b[0m\u001b[0;34m'deckgl'\u001b[0m\u001b[0;34m)\u001b[0m\u001b[0;34m\u001b[0m\u001b[0;34m\u001b[0m\u001b[0m\n",
      "\u001b[0;31mModuleNotFoundError\u001b[0m: No module named 'panel'"
     ]
    }
   ],
   "source": [
    "import json\n",
    "import os\n",
    "import requests\n",
    "\n",
    "import deetly\n",
    "import geopandas as gp\n",
    "from getpass import getpass\n",
    "import numpy as np\n",
    "import pandas as pd\n",
    "import pydeck\n",
    "\n",
    "\n",
    "import panel as pn\n",
    "pn.extension('deckgl')"
   ]
  },
  {
   "cell_type": "code",
   "execution_count": null,
   "metadata": {},
   "outputs": [],
   "source": [
    "MAPBOX_TOKEN = os.environ['MAPBOX_TOKEN'] "
   ]
  },
  {
   "cell_type": "code",
   "execution_count": null,
   "metadata": {},
   "outputs": [],
   "source": [
    "MAP_URL = 'https://raw.githubusercontent.com/datasett/maps/master/norway/data/counties_2018_s_geojson.json'"
   ]
  },
  {
   "cell_type": "code",
   "execution_count": null,
   "metadata": {},
   "outputs": [],
   "source": [
    "description = \"\"\"\n",
    "# Mapping with pydeck\n",
    "\"\"\"\n",
    "\n",
    "package = {\n",
    "    \"title\":\"Example: Norwegian Counties Area\",\n",
    "    \"name\":\"Example: Norwegian Counties Area\", \n",
    "    \"description\":description, \n",
    "    \"author\":\"deetly\", \n",
    "    \"theme\":\"examples\",\n",
    "    \"license\": \"MIT\",\n",
    "    \"keywords\": [\"examples, pydeck, counties, maps\"]\n",
    "}\n",
    "\n",
    "dp = deetly.package(package)"
   ]
  },
  {
   "cell_type": "code",
   "execution_count": null,
   "metadata": {},
   "outputs": [],
   "source": [
    "# Map centered on Trondheim, Norway\n",
    "view_state_norway = pydeck.ViewState(\n",
    "    longitude = 17,\n",
    "    latitude= 64,\n",
    "    zoom= 3,\n",
    "    minZoom= 3,\n",
    "    maxZoom= 12,\n",
    "    pitch= 45,\n",
    "    bearing= 0)"
   ]
  },
  {
   "cell_type": "code",
   "execution_count": null,
   "metadata": {},
   "outputs": [],
   "source": [
    "data_geojson = requests.get(MAP_URL).json()\n",
    "\n",
    "layer = pydeck.Layer(\n",
    "    'GeoJsonLayer',\n",
    "    data_geojson,\n",
    "    stroked = False,\n",
    "    filled = True,\n",
    "    extruded = True,\n",
    "    wireframe = True,\n",
    "    elevationScale = 250000,\n",
    "    get_elevation = 'properties.area_kommune',\n",
    "    width_min_pixels=5,\n",
    "    get_fill_color='[255, 255, 300*properties.area_kommune]',\n",
    "    getLineColor = [\n",
    "        255,\n",
    "        255,\n",
    "        255\n",
    "    ],\n",
    "    pickable=True\n",
    ")\n",
    "\n",
    "\n",
    "tooltip={\n",
    "        'html': '<b>Kommune: </b>{properties.navn}</br>\\\n",
    "                Fylke: {properties.fylke_navn_2020}</br>\\\n",
    "                Areal: {properties.area_kommune}',\n",
    "        'style': {\n",
    "            'color': 'black',\n",
    "            'backgroundColor':'#efefef',\n",
    "            'zIndex': 999\n",
    "        }\n",
    "    }\n",
    "\n",
    "# Render\n",
    "fig = pydeck.Deck(layers=[layer],\n",
    "                  initial_view_state=view_state_norway,\n",
    "                  mapbox_key=MAPBOX_TOKEN,\n",
    "                  tooltip=tooltip\n",
    ")\n",
    "\n",
    "fig.to_html('fig.html')"
   ]
  },
  {
   "cell_type": "code",
   "execution_count": null,
   "metadata": {},
   "outputs": [],
   "source": [
    "# Add figure to data package\n",
    "description = \"\"\"\n",
    "## Area of Norwegian counties without background map\n",
    "\"\"\"\n",
    "\n",
    "dp.pydeck(fig, \"Counties Area without map\",description, showMap=False, tooltip=json.dumps(tooltip))"
   ]
  },
  {
   "cell_type": "code",
   "execution_count": null,
   "metadata": {},
   "outputs": [],
   "source": [
    "# Add figure to data package\n",
    "description = \"\"\"\n",
    "## Area of Norwegian counties with background map\n",
    "\"\"\"\n",
    "\n",
    "dp.pydeck(fig, \"Counties Area with map\",description, showMap=True, tooltip=json.dumps(tooltip))"
   ]
  },
  {
   "cell_type": "markdown",
   "metadata": {},
   "source": [
    "## Publish"
   ]
  },
  {
   "cell_type": "code",
   "execution_count": null,
   "metadata": {},
   "outputs": [],
   "source": [
    "# publish datapackage\n",
    "dp.publish()"
   ]
  },
  {
   "cell_type": "code",
   "execution_count": null,
   "metadata": {},
   "outputs": [],
   "source": []
  }
 ],
 "metadata": {
  "colab": {
   "authorship_tag": "ABX9TyPS8+e7P6oStqXEaagxFBFc",
   "include_colab_link": true,
   "name": "example_pydeck_kommuner.ipynb",
   "provenance": []
  },
  "kernelspec": {
   "display_name": "Python 3",
   "language": "python",
   "name": "python3"
  },
  "language_info": {
   "codemirror_mode": {
    "name": "ipython",
    "version": 3
   },
   "file_extension": ".py",
   "mimetype": "text/x-python",
   "name": "python",
   "nbconvert_exporter": "python",
   "pygments_lexer": "ipython3",
   "version": "3.8.2"
  }
 },
 "nbformat": 4,
 "nbformat_minor": 2
}
