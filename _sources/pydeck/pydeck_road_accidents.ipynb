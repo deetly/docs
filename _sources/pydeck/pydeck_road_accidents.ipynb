{
 "cells": [
  {
   "cell_type": "markdown",
   "metadata": {},
   "source": [
    "# Pydeck example road accidents\n",
    "> \"Pydeck example road accidents\""
   ]
  },
  {
   "cell_type": "code",
   "execution_count": 1,
   "metadata": {},
   "outputs": [],
   "source": [
    "import deetly\n",
    "import os\n",
    "import pydeck\n",
    "import requests"
   ]
  },
  {
   "cell_type": "code",
   "execution_count": 2,
   "metadata": {},
   "outputs": [],
   "source": [
    "MAPBOX_TOKEN = os.environ['MAPBOX_TOKEN'] "
   ]
  },
  {
   "cell_type": "code",
   "execution_count": 3,
   "metadata": {},
   "outputs": [
    {
     "name": "stderr",
     "output_type": "stream",
     "text": [
      "/Users/B149899/.pyenv/versions/3.8.2/envs/pydeck/lib/python3.8/site-packages/pydeck/bindings/deck.py:81: UserWarning:\n",
      "\n",
      "Mapbox API key is not set. This may impact available features of pydeck.\n",
      "\n"
     ]
    },
    {
     "data": {
      "text/html": [
       "\n",
       "        <iframe\n",
       "            width=\"700\"\n",
       "            height=\"500\"\n",
       "            src=\"./fig.html\"\n",
       "            frameborder=\"0\"\n",
       "            allowfullscreen\n",
       "        ></iframe>\n",
       "        "
      ],
      "text/plain": [
       "<IPython.lib.display.IFrame at 0x113c740d0>"
      ]
     },
     "metadata": {},
     "output_type": "display_data"
    },
    {
     "data": {
      "text/plain": [
       "'/Users/B149899/Projects/deetly/docs/content/pydeck/fig.html'"
      ]
     },
     "execution_count": 3,
     "metadata": {},
     "output_type": "execute_result"
    }
   ],
   "source": [
    "DATA_URL = \"https://raw.githubusercontent.com/uber-common/deck.gl-data/master/examples/geojson/vancouver-blocks.json\"\n",
    "data_geojson = requests.get(DATA_URL).json()\n",
    "\n",
    "INITIAL_VIEW_STATE = pydeck.ViewState(\n",
    "  latitude=49.254,\n",
    "  longitude=-123.13,\n",
    "  zoom=11,\n",
    "  max_zoom=16,\n",
    ")\n",
    "\n",
    "gg = pydeck.Layer(\n",
    "    'GeoJsonLayer',\n",
    "    data_geojson,\n",
    "    stroked=False,\n",
    "    filled=True,\n",
    "    extruded=True,\n",
    "    wireframe=True,\n",
    "    pickable=True,\n",
    "    get_line_color=[255, 255, 255]\n",
    "\n",
    ")\n",
    "\n",
    "r = pydeck.Deck(\n",
    "    layers=[gg],\n",
    "    initial_view_state=INITIAL_VIEW_STATE)\n",
    "\n",
    "r.to_html(\"fig.html\")"
   ]
  },
  {
   "cell_type": "code",
   "execution_count": 4,
   "metadata": {},
   "outputs": [
    {
     "name": "stdout",
     "output_type": "stream",
     "text": [
      "Missing mandatory props(s): ['title']\n",
      "Missing recommended props(s): ['contactPoint', 'distribution', 'keyword', 'publisher', 'spatial', 'temporal']\n",
      "Property not in DCAT schema: ['name', 'author', 'license', 'keywords']\n",
      "Invalid type: ['String:name', 'String:description', 'String:author', 'String or list of strings:theme', 'String:license', 'String:keywords', 'ISO date or datetime:issued', 'ISO date or datetime:modified']\n"
     ]
    }
   ],
   "source": [
    "# Create datapackage\n",
    "description = \"\"\"\n",
    "## Example: UK Road accidents.\n",
    "\n",
    "Source: https://github.com/uber/deck.gl/tree/master/bindings/pydeck\n",
    "\"\"\"\n",
    "\n",
    "package = {\n",
    "    \"name\":\"Example: UK Road accidents\", \n",
    "    \"description\":description, \n",
    "    \"author\":\"Paul Bencze\", \n",
    "    \"theme\":\"example\",\n",
    "    \"license\": \"MIT\",\n",
    "    \"keywords\": [\"example, pydeck, deck.gl, deck\"]\n",
    "}\n",
    "\n",
    "dp = deetly.package(package)"
   ]
  },
  {
   "cell_type": "code",
   "execution_count": 5,
   "metadata": {},
   "outputs": [
    {
     "data": {
      "text/html": [
       "\n",
       "        <iframe\n",
       "            width=\"700\"\n",
       "            height=\"500\"\n",
       "            src=\"./fig.html\"\n",
       "            frameborder=\"0\"\n",
       "            allowfullscreen\n",
       "        ></iframe>\n",
       "        "
      ],
      "text/plain": [
       "<IPython.lib.display.IFrame at 0x10317e040>"
      ]
     },
     "metadata": {},
     "output_type": "display_data"
    },
    {
     "data": {
      "text/plain": [
       "'/Users/B149899/Projects/deetly/docs/content/pydeck/fig.html'"
      ]
     },
     "execution_count": 5,
     "metadata": {},
     "output_type": "execute_result"
    }
   ],
   "source": [
    "UK_ACCIDENTS_DATA = ('https://raw.githubusercontent.com/uber-common/deck.gl-data/master/examples/3d-heatmap/heatmap-data.csv')\n",
    "\n",
    "layer = pydeck.Layer(\n",
    "     'HexagonLayer',\n",
    "     UK_ACCIDENTS_DATA,\n",
    "     get_position=['lng', 'lat'],\n",
    "     auto_highlight=True,\n",
    "     elevation_scale=50,\n",
    "     pickable=True,\n",
    "     elevation_range=[0, 3000],\n",
    "     extruded=True,\n",
    "     coverage=1)\n",
    "\n",
    "# Set the viewport location\n",
    "view_state = pydeck.ViewState(\n",
    "    longitude=-1.415,\n",
    "    latitude=52.2323,\n",
    "    zoom=6,\n",
    "    min_zoom=5,\n",
    "    max_zoom=15,\n",
    "    pitch=40.5,\n",
    "    bearing=-27.36)\n",
    "\n",
    "# Render\n",
    "fig = pydeck.Deck(layers=[layer], initial_view_state=view_state, mapbox_key=MAPBOX_TOKEN)\n",
    "fig.to_html('fig.html')"
   ]
  },
  {
   "cell_type": "code",
   "execution_count": 6,
   "metadata": {},
   "outputs": [
    {
     "data": {
      "text/html": [
       "\n",
       "        <iframe\n",
       "            width=\"700\"\n",
       "            height=\"500\"\n",
       "            src=\"./fig.html\"\n",
       "            frameborder=\"0\"\n",
       "            allowfullscreen\n",
       "        ></iframe>\n",
       "        "
      ],
      "text/plain": [
       "<IPython.lib.display.IFrame at 0x113d3bfa0>"
      ]
     },
     "metadata": {},
     "output_type": "display_data"
    },
    {
     "data": {
      "text/plain": [
       "'/Users/B149899/Projects/deetly/docs/content/pydeck/fig.html'"
      ]
     },
     "execution_count": 6,
     "metadata": {},
     "output_type": "execute_result"
    }
   ],
   "source": [
    "# custom tooltip\n",
    "r = pydeck.Deck(\n",
    "    layers=[layer],\n",
    "    initial_view_state=view_state,\n",
    "    mapbox_key=MAPBOX_TOKEN,\n",
    "    tooltip={\n",
    "        'html': '<b>Count:</b> {elevationValue}',\n",
    "        'style': {\n",
    "            'color': 'white',\n",
    "            'backgroundColor':'red',\n",
    "            'zIndex': 1000\n",
    "        }\n",
    "    }\n",
    ")\n",
    "r.to_html(\"fig.html\")"
   ]
  },
  {
   "cell_type": "code",
   "execution_count": 7,
   "metadata": {},
   "outputs": [],
   "source": [
    "title = 'Road accidents'\n",
    "description = 'Sample from deck documentation'\n",
    "\n",
    "dp.pydeck(fig,title, description)"
   ]
  },
  {
   "cell_type": "code",
   "execution_count": 8,
   "metadata": {},
   "outputs": [
    {
     "name": "stdout",
     "output_type": "stream",
     "text": [
      "View: https://public.deetly.com/examples/0091ab1e877744fdec39a5e874218843 \n",
      "\n",
      "Metadata: https://storage.googleapis.com/deetly/examples/0091ab1e877744fdec39a5e874218843/datapackage.json \n",
      "\n"
     ]
    }
   ],
   "source": [
    "item = dp.publish()"
   ]
  }
 ],
 "metadata": {
  "kernelspec": {
   "display_name": "Python 3",
   "language": "python",
   "name": "python3"
  },
  "language_info": {
   "codemirror_mode": {
    "name": "ipython",
    "version": 3
   },
   "file_extension": ".py",
   "mimetype": "text/x-python",
   "name": "python",
   "nbconvert_exporter": "python",
   "pygments_lexer": "ipython3",
   "version": "3.8.2"
  }
 },
 "nbformat": 4,
 "nbformat_minor": 2
}