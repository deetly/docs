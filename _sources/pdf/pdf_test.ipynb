{
 "cells": [
  {
   "cell_type": "markdown",
   "metadata": {
    "colab_type": "text",
    "id": "view-in-github"
   },
   "source": [
    "# PDF view demo\n",
    "> \"Demo of pdf view\""
   ]
  },
  {
   "cell_type": "markdown",
   "metadata": {},
   "source": [
    "## Setup"
   ]
  },
  {
   "cell_type": "code",
   "execution_count": 1,
   "metadata": {
    "colab": {},
    "colab_type": "code",
    "id": "-tnJDSCabT4T"
   },
   "outputs": [],
   "source": [
    "import deetly"
   ]
  },
  {
   "cell_type": "markdown",
   "metadata": {},
   "source": [
    "## Create datapackage"
   ]
  },
  {
   "cell_type": "code",
   "execution_count": 2,
   "metadata": {
    "colab": {},
    "colab_type": "code",
    "id": "bWHX_wcZbrqq"
   },
   "outputs": [
    {
     "name": "stdout",
     "output_type": "stream",
     "text": [
      "Missing recommended props(s): ['contactPoint', 'distribution', 'keyword', 'publisher', 'spatial', 'temporal']\n",
      "Invalid type: ['String:title', 'String:name', 'String:description', 'String:author', 'String or list of strings:theme', 'String:license', 'String:keywords', 'ISO date or datetime:issued', 'ISO date or datetime:modified']\n",
      "Property not in DCAT schema: ['name', 'author', 'license', 'keywords']\n"
     ]
    }
   ],
   "source": [
    "# Create datapackage\n",
    "description = \"\"\"\n",
    "PDF view demo\n",
    "\"\"\"\n",
    "\n",
    "package = {\n",
    "    \"title\":\"PDF view demo\",\n",
    "    \"name\":\"PDF view demo\", \n",
    "    \"description\":description, \n",
    "    \"author\":\"deetly\", \n",
    "    \"theme\":\"examples\",\n",
    "    \"license\": \"MIT\",\n",
    "    \"keywords\": [\"pdf, example\"]\n",
    "}\n",
    "\n",
    "dp = deetly.package(package)"
   ]
  },
  {
   "cell_type": "markdown",
   "metadata": {},
   "source": [
    "## Get data & create views"
   ]
  },
  {
   "cell_type": "code",
   "execution_count": 3,
   "metadata": {},
   "outputs": [],
   "source": [
    "url = \"https://storage.googleapis.com/deetly/data/Arbeidsmarkedet%20na%CC%8A%20-%20mai%202020.pdf\"\n",
    "dp.add(\"link\", url,\"Arbeidsmarkedet nå\")\n",
    "dp.add(\"pdf\",\"Arbeidsmarkedet nå\", \"Arbeidsmarkedet nå\")"
   ]
  },
  {
   "cell_type": "code",
   "execution_count": 4,
   "metadata": {},
   "outputs": [],
   "source": [
    "url = \"https://storage.cloud.google.com/deetly/data/Hovedtall%20om%20arbeidsmarkedet.%20Mai%202020.pdf\"\n",
    "dp.add(\"link\", url, \"Hovedtall om arbeidsmarkedet mai 2020\")\n",
    "dp.add(\"pdf\",\"Hovedtall om arbeidsmarkedet mai 2020\",\"Hovedtall om arbeidsmarkedet mai 2020\")"
   ]
  },
  {
   "cell_type": "markdown",
   "metadata": {},
   "source": [
    "## Publish"
   ]
  },
  {
   "cell_type": "code",
   "execution_count": 5,
   "metadata": {
    "colab": {
     "base_uri": "https://localhost:8080/",
     "height": 85
    },
    "colab_type": "code",
    "id": "J2QxjTN7c8eL",
    "outputId": "ca4ab1b0-9d32-46be-992f-38a5cf5475cc"
   },
   "outputs": [
    {
     "name": "stdout",
     "output_type": "stream",
     "text": [
      "View: https://public.deetly.com/examples/51158a0be1201ef25555899049d4042a \n",
      "\n",
      "Metadata: https://storage.googleapis.com/deetly/examples/51158a0be1201ef25555899049d4042a/datapackage.json \n",
      "\n",
      "Resources: \n",
      "\n",
      "https://storage.googleapis.com/deetly/data/Arbeidsmarkedet%20na%CC%8A%20-%20mai%202020.pdf \n",
      "\n",
      "https://storage.cloud.google.com/deetly/data/Hovedtall%20om%20arbeidsmarkedet.%20Mai%202020.pdf \n",
      "\n"
     ]
    }
   ],
   "source": [
    "dp.publish()"
   ]
  }
 ],
 "metadata": {
  "colab": {
   "authorship_tag": "ABX9TyPrJ49vyNtwntfNHwazW3J3",
   "include_colab_link": true,
   "name": "example_basic_altair_and_plotly.ipynb",
   "provenance": []
  },
  "kernelspec": {
   "display_name": "Python 3",
   "language": "python",
   "name": "python3"
  },
  "language_info": {
   "codemirror_mode": {
    "name": "ipython",
    "version": 3
   },
   "file_extension": ".py",
   "mimetype": "text/x-python",
   "name": "python",
   "nbconvert_exporter": "python",
   "pygments_lexer": "ipython3",
   "version": "3.8.2"
  }
 },
 "nbformat": 4,
 "nbformat_minor": 1
}
