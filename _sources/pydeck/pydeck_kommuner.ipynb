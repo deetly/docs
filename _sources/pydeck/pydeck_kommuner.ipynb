{
 "cells": [
  {
   "cell_type": "markdown",
   "metadata": {
    "colab_type": "text",
    "id": "view-in-github"
   },
   "source": [
    "# Pydeck example kommuner"
   ]
  },
  {
   "cell_type": "code",
   "execution_count": 11,
   "metadata": {},
   "outputs": [],
   "source": [
    "import json\n",
    "import os\n",
    "import requests\n",
    "import deetly\n",
    "import geopandas as gp\n",
    "import numpy as np\n",
    "import pandas as pd\n",
    "import pydeck"
   ]
  },
  {
   "cell_type": "code",
   "execution_count": 12,
   "metadata": {},
   "outputs": [],
   "source": [
    "MAPBOX_TOKEN = os.environ['MAPBOX_TOKEN'] "
   ]
  },
  {
   "cell_type": "code",
   "execution_count": 13,
   "metadata": {},
   "outputs": [],
   "source": [
    "MAP_URL = 'https://raw.githubusercontent.com/datasett/maps/master/norway/data/counties_2018_s_geojson.json'"
   ]
  },
  {
   "cell_type": "code",
   "execution_count": 14,
   "metadata": {
    "tags": []
   },
   "outputs": [
    {
     "name": "stdout",
     "output_type": "stream",
     "text": [
      "Missing recommended props(s): ['contactPoint', 'distribution', 'keyword', 'publisher', 'spatial', 'temporal']\n",
      "Invalid type: ['String:title', 'String:name', 'String:description', 'String:author', 'String or list of strings:theme', 'String:license', 'String:keywords', 'ISO date or datetime:issued', 'ISO date or datetime:modified']\n",
      "Property not in DCAT schema: ['name', 'author', 'license', 'keywords']\n"
     ]
    }
   ],
   "source": [
    "description = \"\"\"\n",
    "# Mapping with pydeck\n",
    "\"\"\"\n",
    "\n",
    "package = {\n",
    "    \"title\":\"Example: Norwegian Counties Area\",\n",
    "    \"name\":\"Example: Norwegian Counties Area\", \n",
    "    \"description\":description, \n",
    "    \"author\":\"deetly\", \n",
    "    \"theme\":\"examples\",\n",
    "    \"license\": \"MIT\",\n",
    "    \"keywords\": [\"examples, pydeck, counties, maps\"]\n",
    "}\n",
    "\n",
    "dp = deetly.package(package)"
   ]
  },
  {
   "cell_type": "code",
   "execution_count": 15,
   "metadata": {},
   "outputs": [],
   "source": [
    "# Map centered on Trondheim, Norway\n",
    "view_state_norway = pydeck.ViewState(\n",
    "    longitude = 17,\n",
    "    latitude= 64,\n",
    "    zoom= 3,\n",
    "    minZoom= 3,\n",
    "    maxZoom= 12,\n",
    "    pitch= 45,\n",
    "    bearing= 0)"
   ]
  },
  {
   "cell_type": "code",
   "execution_count": 16,
   "metadata": {},
   "outputs": [
    {
     "data": {
      "text/html": [
       "\n",
       "        <iframe\n",
       "            width=\"700\"\n",
       "            height=\"500\"\n",
       "            src=\"./fig.html\"\n",
       "            frameborder=\"0\"\n",
       "            allowfullscreen\n",
       "        ></iframe>\n",
       "        "
      ],
      "text/plain": [
       "<IPython.lib.display.IFrame at 0x7ff62e4707b8>"
      ]
     },
     "metadata": {},
     "output_type": "display_data"
    }
   ],
   "source": [
    "data_geojson = requests.get(MAP_URL).json()\n",
    "\n",
    "layer = pydeck.Layer(\n",
    "    'GeoJsonLayer',\n",
    "    data_geojson,\n",
    "    stroked = False,\n",
    "    filled = True,\n",
    "    extruded = True,\n",
    "    wireframe = True,\n",
    "    elevationScale = 250000,\n",
    "    get_elevation = 'properties.area_kommune',\n",
    "    width_min_pixels=5,\n",
    "    get_fill_color='[255, 255, 300*properties.area_kommune]',\n",
    "    getLineColor = [\n",
    "        255,\n",
    "        255,\n",
    "        255\n",
    "    ],\n",
    "    pickable=True\n",
    ")\n",
    "\n",
    "\n",
    "tooltip={\n",
    "        'html': '<b>Kommune: </b>{properties.navn}</br>\\\n",
    "                Fylke: {properties.fylke_navn_2020}</br>\\\n",
    "                Areal: {properties.area_kommune}',\n",
    "        'style': {\n",
    "            'color': 'black',\n",
    "            'backgroundColor':'#efefef',\n",
    "            'zIndex': 999\n",
    "        }\n",
    "    }\n",
    "\n",
    "# Render\n",
    "fig = pydeck.Deck(layers=[layer],\n",
    "                  initial_view_state=view_state_norway,\n",
    "                  mapbox_key=MAPBOX_TOKEN,\n",
    "                  tooltip=tooltip\n",
    ")\n",
    "\n",
    "res = fig.to_html('fig.html')"
   ]
  },
  {
   "cell_type": "code",
   "execution_count": 17,
   "metadata": {},
   "outputs": [],
   "source": [
    "# Add figure to data package\n",
    "description = \"\"\"\n",
    "## Area of Norwegian counties without background map\n",
    "\"\"\"\n",
    "\n",
    "dp.pydeck(fig, \"Counties Area without map\",description, showMap=False, tooltip=json.dumps(tooltip))"
   ]
  },
  {
   "cell_type": "code",
   "execution_count": 18,
   "metadata": {},
   "outputs": [],
   "source": [
    "# Add figure to data package\n",
    "description = \"\"\"\n",
    "## Area of Norwegian counties with background map\n",
    "\"\"\"\n",
    "\n",
    "dp.pydeck(fig, \"Counties Area with map\",description, showMap=True, tooltip=json.dumps(tooltip))"
   ]
  },
  {
   "cell_type": "markdown",
   "metadata": {},
   "source": [
    "## Publish"
   ]
  },
  {
   "cell_type": "code",
   "execution_count": 19,
   "metadata": {
    "tags": []
   },
   "outputs": [
    {
     "name": "stdout",
     "output_type": "stream",
     "text": [
      "[]\n",
      "Public datapackage: https://storage.googleapis.com/deetly/examples/edd8ecf083f9f66706617c586f7639e0/datapackage.json \n",
      "\n",
      "Published at: https://public.deetly.com/examples/edd8ecf083f9f66706617c586f7639e0 \n",
      "\n"
     ]
    }
   ],
   "source": [
    "# publish datapackage\n",
    "dp.publish()"
   ]
  },
  {
   "cell_type": "code",
   "execution_count": null,
   "metadata": {},
   "outputs": [],
   "source": []
  }
 ],
 "metadata": {
  "colab": {
   "authorship_tag": "ABX9TyPS8+e7P6oStqXEaagxFBFc",
   "include_colab_link": true,
   "name": "example_pydeck_kommuner.ipynb",
   "provenance": []
  },
  "kernelspec": {
   "display_name": "Python 3",
   "language": "python",
   "name": "python3"
  },
  "language_info": {
   "codemirror_mode": {
    "name": "ipython",
    "version": 3
   },
   "file_extension": ".py",
   "mimetype": "text/x-python",
   "name": "python",
   "nbconvert_exporter": "python",
   "pygments_lexer": "ipython3",
   "version": "3.8.2"
  }
 },
 "nbformat": 4,
 "nbformat_minor": 2
}
