{
 "cells": [
  {
   "cell_type": "markdown",
   "metadata": {},
   "source": [
    "# Mattilsynet\n",
    "\n",
    "> Vannkvalitet"
   ]
  },
  {
   "cell_type": "code",
   "execution_count": 14,
   "metadata": {},
   "outputs": [],
   "source": [
    "import deetly\n",
    "import requests\n",
    "import json\n",
    "import pandas as pd\n",
    "import geopandas as gpd\n",
    "import pydeck\n",
    "import os"
   ]
  },
  {
   "cell_type": "code",
   "execution_count": 15,
   "metadata": {},
   "outputs": [],
   "source": [
    "# Create datastory\n",
    "package = {\n",
    "    \"name\": \"Mattilsynet vannforsyning\",\n",
    "    \"keywords\":[\"mattilsynet\",\"pydeck\"],\n",
    "}\n",
    "\n",
    "ds = deetly.story(package)"
   ]
  },
  {
   "cell_type": "code",
   "execution_count": 16,
   "metadata": {},
   "outputs": [
    {
     "data": {
      "text/html": [
       "<div>\n",
       "<style scoped>\n",
       "    .dataframe tbody tr th:only-of-type {\n",
       "        vertical-align: middle;\n",
       "    }\n",
       "\n",
       "    .dataframe tbody tr th {\n",
       "        vertical-align: top;\n",
       "    }\n",
       "\n",
       "    .dataframe thead th {\n",
       "        text-align: right;\n",
       "    }\n",
       "</style>\n",
       "<table border=\"1\" class=\"dataframe\">\n",
       "  <thead>\n",
       "    <tr style=\"text-align: right;\">\n",
       "      <th></th>\n",
       "      <th>aktiv</th>\n",
       "      <th>orgform</th>\n",
       "      <th>fnr</th>\n",
       "      <th>fnavn</th>\n",
       "      <th>orgnr</th>\n",
       "      <th>virksomhet</th>\n",
       "      <th>virksomhet_kommunenr</th>\n",
       "      <th>virksomhet_kommune</th>\n",
       "      <th>vannforsyningssystem</th>\n",
       "      <th>mtid_vf</th>\n",
       "      <th>...</th>\n",
       "      <th>ant_personer_max</th>\n",
       "      <th>ant_husstander</th>\n",
       "      <th>ant_hytter</th>\n",
       "      <th>forbr_fast_bosetting</th>\n",
       "      <th>forbr_fritidsboliger</th>\n",
       "      <th>forbr_industri</th>\n",
       "      <th>forbr_tjytende</th>\n",
       "      <th>forbr_primnaering</th>\n",
       "      <th>forbr_annet</th>\n",
       "      <th>forbr_lekkasje</th>\n",
       "    </tr>\n",
       "  </thead>\n",
       "  <tbody>\n",
       "    <tr>\n",
       "      <th>0</th>\n",
       "      <td>ja</td>\n",
       "      <td>KOMM</td>\n",
       "      <td>935478715.0</td>\n",
       "      <td>Bærum Kommune</td>\n",
       "      <td>974553619.0</td>\n",
       "      <td>Bærum Kommune Vann Og Avløp</td>\n",
       "      <td>3024</td>\n",
       "      <td>Bærum</td>\n",
       "      <td>Sollihøgda Vannverk Bærum Kommune Vann Og Avløp</td>\n",
       "      <td>Z0704301334220581190KVPHB</td>\n",
       "      <td>...</td>\n",
       "      <td>137.0</td>\n",
       "      <td>53.0</td>\n",
       "      <td>0.0</td>\n",
       "      <td>58.0</td>\n",
       "      <td>0.0</td>\n",
       "      <td>0.0</td>\n",
       "      <td>0.0</td>\n",
       "      <td>0.0</td>\n",
       "      <td>10.0</td>\n",
       "      <td>32.0</td>\n",
       "    </tr>\n",
       "  </tbody>\n",
       "</table>\n",
       "<p>1 rows × 45 columns</p>\n",
       "</div>"
      ],
      "text/plain": [
       "  aktiv orgform          fnr          fnavn        orgnr  \\\n",
       "0    ja    KOMM  935478715.0  Bærum Kommune  974553619.0   \n",
       "\n",
       "                    virksomhet virksomhet_kommunenr virksomhet_kommune  \\\n",
       "0  Bærum Kommune Vann Og Avløp                 3024              Bærum   \n",
       "\n",
       "                              vannforsyningssystem                    mtid_vf  \\\n",
       "0  Sollihøgda Vannverk Bærum Kommune Vann Og Avløp  Z0704301334220581190KVPHB   \n",
       "\n",
       "   ... ant_personer_max  ant_husstander  ant_hytter forbr_fast_bosetting  \\\n",
       "0  ...            137.0            53.0         0.0                 58.0   \n",
       "\n",
       "  forbr_fritidsboliger forbr_industri forbr_tjytende forbr_primnaering  \\\n",
       "0                  0.0            0.0            0.0               0.0   \n",
       "\n",
       "   forbr_annet  forbr_lekkasje  \n",
       "0         10.0            32.0  \n",
       "\n",
       "[1 rows x 45 columns]"
      ]
     },
     "execution_count": 16,
     "metadata": {},
     "output_type": "execute_result"
    }
   ],
   "source": [
    "df_system_data = pd.read_csv('https://data.mattilsynet.no/vannverk/vannforsyningssystem.csv', \n",
    "                             sep=';', \n",
    "                             converters={'virksomhet_kommunenr':str})\n",
    "df_system_data.head(1)"
   ]
  },
  {
   "cell_type": "code",
   "execution_count": 17,
   "metadata": {},
   "outputs": [
    {
     "data": {
      "text/html": [
       "<div>\n",
       "<style scoped>\n",
       "    .dataframe tbody tr th:only-of-type {\n",
       "        vertical-align: middle;\n",
       "    }\n",
       "\n",
       "    .dataframe tbody tr th {\n",
       "        vertical-align: top;\n",
       "    }\n",
       "\n",
       "    .dataframe thead th {\n",
       "        text-align: right;\n",
       "    }\n",
       "</style>\n",
       "<table border=\"1\" class=\"dataframe\">\n",
       "  <thead>\n",
       "    <tr style=\"text-align: right;\">\n",
       "      <th></th>\n",
       "      <th>mtid_vf</th>\n",
       "      <th>periode</th>\n",
       "      <th>vannprod</th>\n",
       "      <th>vannegetnett</th>\n",
       "      <th>vann_mottatt</th>\n",
       "      <th>max_vann_pers</th>\n",
       "      <th>max_vann_dogn</th>\n",
       "      <th>beredsk_oppd</th>\n",
       "      <th>beredsk_ovelse</th>\n",
       "      <th>boliger</th>\n",
       "      <th>...</th>\n",
       "      <th>forbr_industri</th>\n",
       "      <th>forbr_tjytende</th>\n",
       "      <th>forbr_primnaering</th>\n",
       "      <th>forbr_annet</th>\n",
       "      <th>forbr_lekkasje</th>\n",
       "      <th>vannuttak</th>\n",
       "      <th>noedvann_inngaar_alt_kilde</th>\n",
       "      <th>virksomhet_kommunenr</th>\n",
       "      <th>virksomhet_kommune</th>\n",
       "      <th>vannforsyningssystem</th>\n",
       "    </tr>\n",
       "  </thead>\n",
       "  <tbody>\n",
       "    <tr>\n",
       "      <th>0</th>\n",
       "      <td>Z0704301334220581190KVPHB</td>\n",
       "      <td>2009</td>\n",
       "      <td>25355.0</td>\n",
       "      <td>25355.0</td>\n",
       "      <td>0.0</td>\n",
       "      <td>NaN</td>\n",
       "      <td>NaN</td>\n",
       "      <td>ja</td>\n",
       "      <td>ja</td>\n",
       "      <td>ja</td>\n",
       "      <td>...</td>\n",
       "      <td>0.0</td>\n",
       "      <td>0.0</td>\n",
       "      <td>0.0</td>\n",
       "      <td>5.0</td>\n",
       "      <td>32.0</td>\n",
       "      <td>26235.0</td>\n",
       "      <td>NaN</td>\n",
       "      <td>3024</td>\n",
       "      <td>Bærum</td>\n",
       "      <td>Sollihøgda Vannverk Bærum Kommune Vann Og Avløp</td>\n",
       "    </tr>\n",
       "  </tbody>\n",
       "</table>\n",
       "<p>1 rows × 32 columns</p>\n",
       "</div>"
      ],
      "text/plain": [
       "                     mtid_vf  periode  vannprod  vannegetnett  vann_mottatt  \\\n",
       "0  Z0704301334220581190KVPHB     2009   25355.0       25355.0           0.0   \n",
       "\n",
       "   max_vann_pers  max_vann_dogn beredsk_oppd beredsk_ovelse boliger  ...  \\\n",
       "0            NaN            NaN           ja             ja      ja  ...   \n",
       "\n",
       "  forbr_industri forbr_tjytende forbr_primnaering forbr_annet forbr_lekkasje  \\\n",
       "0            0.0            0.0               0.0         5.0           32.0   \n",
       "\n",
       "  vannuttak  noedvann_inngaar_alt_kilde  virksomhet_kommunenr  \\\n",
       "0   26235.0                         NaN                  3024   \n",
       "\n",
       "   virksomhet_kommune                             vannforsyningssystem  \n",
       "0               Bærum  Sollihøgda Vannverk Bærum Kommune Vann Og Avløp  \n",
       "\n",
       "[1 rows x 32 columns]"
      ]
     },
     "execution_count": 17,
     "metadata": {},
     "output_type": "execute_result"
    }
   ],
   "source": [
    "df_system = pd.read_csv('https://data.mattilsynet.no/vannverk/vannforsyningssystem_innrapportering.csv', sep=';')\n",
    "df_system = pd.merge(df_system, \n",
    "                     df_system_data[['mtid_vf','virksomhet_kommunenr','virksomhet_kommune','vannforsyningssystem']], \n",
    "                     on=['mtid_vf'])\n",
    "df_system.head(1)"
   ]
  },
  {
   "cell_type": "code",
   "execution_count": 18,
   "metadata": {},
   "outputs": [
    {
     "data": {
      "text/html": [
       "<div>\n",
       "<style scoped>\n",
       "    .dataframe tbody tr th:only-of-type {\n",
       "        vertical-align: middle;\n",
       "    }\n",
       "\n",
       "    .dataframe tbody tr th {\n",
       "        vertical-align: top;\n",
       "    }\n",
       "\n",
       "    .dataframe thead th {\n",
       "        text-align: right;\n",
       "    }\n",
       "</style>\n",
       "<table border=\"1\" class=\"dataframe\">\n",
       "  <thead>\n",
       "    <tr style=\"text-align: right;\">\n",
       "      <th></th>\n",
       "      <th>kommunenummer</th>\n",
       "      <th>vannprod</th>\n",
       "    </tr>\n",
       "  </thead>\n",
       "  <tbody>\n",
       "    <tr>\n",
       "      <th>0</th>\n",
       "      <td></td>\n",
       "      <td>552869.0</td>\n",
       "    </tr>\n",
       "  </tbody>\n",
       "</table>\n",
       "</div>"
      ],
      "text/plain": [
       "  kommunenummer  vannprod\n",
       "0                552869.0"
      ]
     },
     "execution_count": 18,
     "metadata": {},
     "output_type": "execute_result"
    }
   ],
   "source": [
    "df_kommune_prod = df_system[['vannprod','virksomhet_kommunenr']].groupby('virksomhet_kommunenr').sum().reset_index()\n",
    "df_kommune_prod.columns = ['kommunenummer', 'vannprod']\n",
    "df_kommune_prod.head(1)"
   ]
  },
  {
   "cell_type": "code",
   "execution_count": 19,
   "metadata": {},
   "outputs": [],
   "source": [
    "MAP_URL = 'https://raw.githubusercontent.com/datasett/maps/master/norway/data/counties_2018_s_geojson.json'\n",
    "df_geo = gpd.read_file(MAP_URL)"
   ]
  },
  {
   "cell_type": "code",
   "execution_count": 20,
   "metadata": {},
   "outputs": [
    {
     "data": {
      "text/html": [
       "<div>\n",
       "<style scoped>\n",
       "    .dataframe tbody tr th:only-of-type {\n",
       "        vertical-align: middle;\n",
       "    }\n",
       "\n",
       "    .dataframe tbody tr th {\n",
       "        vertical-align: top;\n",
       "    }\n",
       "\n",
       "    .dataframe thead th {\n",
       "        text-align: right;\n",
       "    }\n",
       "</style>\n",
       "<table border=\"1\" class=\"dataframe\">\n",
       "  <thead>\n",
       "    <tr style=\"text-align: right;\">\n",
       "      <th></th>\n",
       "      <th>id</th>\n",
       "      <th>kommunenummer</th>\n",
       "      <th>oppdateringsdato</th>\n",
       "      <th>navn</th>\n",
       "      <th>area_kommune</th>\n",
       "      <th>fylke_nummer_2018</th>\n",
       "      <th>fylke_nummer_2019</th>\n",
       "      <th>fylke_navn_2019</th>\n",
       "      <th>fylke_nummer_2020</th>\n",
       "      <th>fylke_navn_2020</th>\n",
       "      <th>geometry</th>\n",
       "      <th>vannprod</th>\n",
       "    </tr>\n",
       "  </thead>\n",
       "  <tbody>\n",
       "    <tr>\n",
       "      <th>0</th>\n",
       "      <td>2</td>\n",
       "      <td>0105</td>\n",
       "      <td>2018-12-10T00:00:00</td>\n",
       "      <td>Sarpsborg</td>\n",
       "      <td>0.063157</td>\n",
       "      <td>01</td>\n",
       "      <td>01</td>\n",
       "      <td>ØSTFOLD</td>\n",
       "      <td>30</td>\n",
       "      <td>VIKEN</td>\n",
       "      <td>POLYGON ((11.13772 59.41486, 11.18831 59.40549...</td>\n",
       "      <td>1000.0</td>\n",
       "    </tr>\n",
       "  </tbody>\n",
       "</table>\n",
       "</div>"
      ],
      "text/plain": [
       "  id kommunenummer     oppdateringsdato       navn  area_kommune  \\\n",
       "0  2          0105  2018-12-10T00:00:00  Sarpsborg      0.063157   \n",
       "\n",
       "  fylke_nummer_2018 fylke_nummer_2019 fylke_navn_2019 fylke_nummer_2020  \\\n",
       "0                01                01         ØSTFOLD                30   \n",
       "\n",
       "  fylke_navn_2020                                           geometry  vannprod  \n",
       "0           VIKEN  POLYGON ((11.13772 59.41486, 11.18831 59.40549...    1000.0  "
      ]
     },
     "execution_count": 20,
     "metadata": {},
     "output_type": "execute_result"
    }
   ],
   "source": [
    "df_kommune_vannprod_geo = df_geo.merge(df_kommune_prod, on='kommunenummer')\n",
    "df_kommune_vannprod_geo.head(1)"
   ]
  },
  {
   "cell_type": "code",
   "execution_count": 21,
   "metadata": {},
   "outputs": [],
   "source": [
    "# Map centered on Trondheim, Norway\n",
    "view_state_norway = pydeck.ViewState(\n",
    "    longitude = 17,\n",
    "    latitude= 64,\n",
    "    zoom= 3,\n",
    "    minZoom= 3,\n",
    "    maxZoom= 12,\n",
    "    pitch= 45,\n",
    "    bearing= 0)"
   ]
  },
  {
   "cell_type": "code",
   "execution_count": 22,
   "metadata": {},
   "outputs": [
    {
     "data": {
      "application/vnd.jupyter.widget-view+json": {
       "model_id": "afd7effbc66b430e81866de4ca817404",
       "version_major": 2,
       "version_minor": 0
      },
      "text/plain": [
       "DeckGLWidget(carto_key=None, custom_libraries=[], google_maps_key=None, json_input='{\"initialViewState\": {\"bea…"
      ]
     },
     "metadata": {},
     "output_type": "display_data"
    }
   ],
   "source": [
    "layer = pydeck.Layer(\n",
    "    'GeoJsonLayer',\n",
    "    data=df_kommune_vannprod_geo,\n",
    "    stroked = False,\n",
    "    filled = True,\n",
    "    extruded = True,\n",
    "    wireframe = True,\n",
    "    elevationScale = 0.001,\n",
    "    get_elevation = 'vannprod',\n",
    "    width_min_pixels=5,\n",
    "    get_fill_color='[255, 255, 0.01*vannprod]',\n",
    "    getLineColor = [\n",
    "        255,\n",
    "        255,\n",
    "        255\n",
    "    ],\n",
    "    pickable=True,\n",
    "    coverage=1\n",
    ")\n",
    "\n",
    "\n",
    "tooltip={\n",
    "        'html':'<b>Kommune: </b>{navn}</br>\\\n",
    "                Fylke: {fylke_navn_2020}</br>\\\n",
    "                Vannproduksjon: {vannprod}',\n",
    "        'style': {\n",
    "            'color': 'black',\n",
    "            'backgroundColor':'#efefef',\n",
    "            'zIndex': 999\n",
    "        }\n",
    "    }\n",
    "\n",
    "# Render\n",
    "fig = pydeck.Deck(layers=[layer],\n",
    "                  map_style=\"light_no_labels\",\n",
    "                  initial_view_state=view_state_norway,\n",
    "                  tooltip=tooltip\n",
    ")\n",
    "\n",
    "fig.show()"
   ]
  },
  {
   "cell_type": "code",
   "execution_count": 24,
   "metadata": {},
   "outputs": [],
   "source": [
    "ds.pydeck(fig, \"vannkvalitet\", showMap=True, tooltip=json.dumps(tooltip))"
   ]
  },
  {
   "cell_type": "code",
   "execution_count": null,
   "metadata": {},
   "outputs": [],
   "source": [
    "df_inntak = pd.read_csv('https://data.mattilsynet.no/vannverk/inntakspunkt_innrapportering.csv', sep=';')\n",
    "df_inntak.head(1)"
   ]
  },
  {
   "cell_type": "code",
   "execution_count": null,
   "metadata": {},
   "outputs": [],
   "source": [
    "df_behandlingsanlegg = pd.read_csv('https://data.mattilsynet.no/vannverk/vannbehandlingsanlegg_innrapportering.csv', sep=';')\n",
    "df_behandlingsanlegg.head(1)"
   ]
  },
  {
   "cell_type": "code",
   "execution_count": null,
   "metadata": {},
   "outputs": [],
   "source": [
    "df_levert_andre = pd.read_csv('https://data.mattilsynet.no/vannverk/vann_levert.csv', sep=';')\n",
    "df_levert_andre.head(1)"
   ]
  },
  {
   "cell_type": "code",
   "execution_count": null,
   "metadata": {},
   "outputs": [],
   "source": [
    "df_distribusjon = pd.read_csv('https://data.mattilsynet.no/vannverk/vanntransportsystem_innrapportering.csv', sep=';')\n",
    "df_distribusjon.head(1)"
   ]
  },
  {
   "cell_type": "code",
   "execution_count": null,
   "metadata": {},
   "outputs": [],
   "source": [
    "df_inntak_analyse = pd.read_csv('https://data.mattilsynet.no/vannverk/inntakspunkt_analyse.csv', sep=';')\n",
    "df_inntak_analyse.head(1)"
   ]
  },
  {
   "cell_type": "code",
   "execution_count": null,
   "metadata": {},
   "outputs": [],
   "source": [
    "df_drikkevann_analyse = pd.read_csv('https://data.mattilsynet.no/vannverk/vannforsyningssystem_analyse.csv', sep=';')\n",
    "df_drikkevann_analyse.head(1)"
   ]
  },
  {
   "cell_type": "code",
   "execution_count": 25,
   "metadata": {},
   "outputs": [
    {
     "name": "stdout",
     "output_type": "stream",
     "text": [
      "Publishing story Mattilsynet vannforsyning to the examples space...\n",
      "Published at: https://public.deetly.com/examples/5a2ccd0fa0383b291d35a0750cc66b78 \n",
      "\n",
      "Metadata: https://storage.googleapis.com/deetly/examples/5a2ccd0fa0383b291d35a0750cc66b78/datapackage.json \n",
      "\n"
     ]
    }
   ],
   "source": [
    "ds.publish()"
   ]
  },
  {
   "cell_type": "code",
   "execution_count": null,
   "metadata": {},
   "outputs": [],
   "source": []
  }
 ],
 "metadata": {
  "kernelspec": {
   "display_name": "Python 3",
   "language": "python",
   "name": "python3"
  },
  "language_info": {
   "codemirror_mode": {
    "name": "ipython",
    "version": 3
   },
   "file_extension": ".py",
   "mimetype": "text/x-python",
   "name": "python",
   "nbconvert_exporter": "python",
   "pygments_lexer": "ipython3",
   "version": "3.7.9"
  }
 },
 "nbformat": 4,
 "nbformat_minor": 4
}
